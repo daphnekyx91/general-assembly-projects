{
 "cells": [
  {
   "cell_type": "markdown",
   "metadata": {},
   "source": [
    "# Part 2: Preprocessing and Modelling"
   ]
  },
  {
   "cell_type": "markdown",
   "metadata": {},
   "source": [
    "###  Contents:\n",
    "- [1. Standard Imports](#1.Standard-Imports)\n",
    "- [2. Data Import for train & test data](#2.Data-Import-for-train-&-test-data)\n",
    "\n",
    "- [3. Splitting train dataset into train & holdout sets](#3.Splitting-train-dataset-into-train-&-holdout-sets)\n",
    "- [4. Preprocessing X_train with StandardScaler & pd.get_dummies](#4.Preprocessing-X_train-with-StandardScaler-&-pd.get_dummies)\n",
    "- [5. Preprocessing X_test with StandardScaler & pd.get_dummies](#5.Preprocessing-X_test-with-StandardScaler-&-pd.get_dummies)\n",
    "- [6. Baseline Score](#6.Baseline-Score)\n",
    "\n",
    "- [7.Cross validation & Linear Regression](#7.Cross-validation-&-Linear-Regression)\n",
    "- [8.LassoCv & Lasso Regression on holdout set](#8.LassoCv-&-Lasso-Regression-on-holdout-set)\n",
    "- [9.RidgeCv & Ridge Regression on holdout set](#9.RidgeCv-&-Ridge-Regression-on-holdout-set)\n",
    "- [10.Comparing RMSE of different Regression models on holdout set](#10.Comparing-RMSE-of-different-Regression-models-on-holdout-set)\n",
    "- [11.Preprocessing on train set](#11.Preprocessing-on-train-set)\n",
    "- [12.Fit the entire Train set and predict the Test set](#Fit-the-entire-Train-set-and-predict-the-Test-set)\n",
    "- [13.Create Submission to Kaggle](#13.Create-Submission-to-Kaggle)\n",
    "- [14.Result Obtained from Kaggle Submission](#14.Result-Obtained-from-Kaggle-Submission)\n",
    "- [15.Conclusions](#15.Conclusions)\n",
    "- [16.Recommendations](#16.Recommendations)\n"
   ]
  },
  {
   "cell_type": "markdown",
   "metadata": {},
   "source": [
    "### 1.Standard Imports"
   ]
  },
  {
   "cell_type": "code",
   "execution_count": 1,
   "metadata": {},
   "outputs": [],
   "source": [
    "# imports for pandas, numpy and matplotlib\n",
    "import pandas as pd\n",
    "import numpy as np\n",
    "import matplotlib.pyplot as plt\n",
    "%matplotlib inline\n",
    "import seaborn as sns\n",
    "\n",
    "# model selection imports for train_test_split, cross_val_score\n",
    "from sklearn.model_selection import train_test_split,cross_val_score,KFold\n",
    "\n",
    "# imports for preprocessing\n",
    "from sklearn.preprocessing import StandardScaler\n",
    "\n",
    "# model selection imports for linear ML algorithm\n",
    "from sklearn.linear_model import LinearRegression\n",
    "from sklearn.linear_model import Lasso, LassoCV\n",
    "from sklearn.linear_model import Ridge, RidgeCV\n",
    "\n",
    "# imports for Regression metrics\n",
    "from sklearn.metrics import r2_score, mean_absolute_error, mean_squared_error"
   ]
  },
  {
   "cell_type": "markdown",
   "metadata": {},
   "source": [
    "### 2.Data Import for train & test data"
   ]
  },
  {
   "cell_type": "code",
   "execution_count": 2,
   "metadata": {},
   "outputs": [],
   "source": [
    "# import the previously cleaned train set\n",
    "train_cleaned = pd.read_csv('train_cleaned.csv', keep_default_na = False)"
   ]
  },
  {
   "cell_type": "code",
   "execution_count": 3,
   "metadata": {},
   "outputs": [],
   "source": [
    "# import the previously cleaned test set\n",
    "# this will be used in the final kaggle submission\n",
    "\n",
    "test_cleaned = pd.read_csv('test_cleaned.csv', keep_default_na = False)"
   ]
  },
  {
   "cell_type": "code",
   "execution_count": 4,
   "metadata": {},
   "outputs": [
    {
     "data": {
      "text/html": [
       "<div>\n",
       "<style scoped>\n",
       "    .dataframe tbody tr th:only-of-type {\n",
       "        vertical-align: middle;\n",
       "    }\n",
       "\n",
       "    .dataframe tbody tr th {\n",
       "        vertical-align: top;\n",
       "    }\n",
       "\n",
       "    .dataframe thead th {\n",
       "        text-align: right;\n",
       "    }\n",
       "</style>\n",
       "<table border=\"1\" class=\"dataframe\">\n",
       "  <thead>\n",
       "    <tr style=\"text-align: right;\">\n",
       "      <th></th>\n",
       "      <th>MS Zoning</th>\n",
       "      <th>TotRms AbvGrd</th>\n",
       "      <th>House Style</th>\n",
       "      <th>Roof Matl</th>\n",
       "      <th>Mas Vnr Type</th>\n",
       "      <th>Exter Qual</th>\n",
       "      <th>Exter Cond</th>\n",
       "      <th>Bsmt Qual</th>\n",
       "      <th>Bsmt Cond</th>\n",
       "      <th>Bsmt Exposure</th>\n",
       "      <th>...</th>\n",
       "      <th>Gr Liv Area</th>\n",
       "      <th>Total Bsmt SF</th>\n",
       "      <th>Garage Area</th>\n",
       "      <th>1st Flr SF</th>\n",
       "      <th>Year Remod/Add</th>\n",
       "      <th>Year Built</th>\n",
       "      <th>Mas Vnr Area</th>\n",
       "      <th>BsmtFin SF 1</th>\n",
       "      <th>age of house</th>\n",
       "      <th>SalePrice</th>\n",
       "    </tr>\n",
       "  </thead>\n",
       "  <tbody>\n",
       "    <tr>\n",
       "      <th>0</th>\n",
       "      <td>RL</td>\n",
       "      <td>6</td>\n",
       "      <td>2Story</td>\n",
       "      <td>CompShg</td>\n",
       "      <td>BrkFace</td>\n",
       "      <td>4</td>\n",
       "      <td>3</td>\n",
       "      <td>3</td>\n",
       "      <td>3</td>\n",
       "      <td>1</td>\n",
       "      <td>...</td>\n",
       "      <td>1479</td>\n",
       "      <td>725.0</td>\n",
       "      <td>475.0</td>\n",
       "      <td>725</td>\n",
       "      <td>2005</td>\n",
       "      <td>1976</td>\n",
       "      <td>289.0</td>\n",
       "      <td>533.0</td>\n",
       "      <td>45</td>\n",
       "      <td>130500</td>\n",
       "    </tr>\n",
       "    <tr>\n",
       "      <th>1</th>\n",
       "      <td>RL</td>\n",
       "      <td>8</td>\n",
       "      <td>2Story</td>\n",
       "      <td>CompShg</td>\n",
       "      <td>BrkFace</td>\n",
       "      <td>4</td>\n",
       "      <td>3</td>\n",
       "      <td>4</td>\n",
       "      <td>3</td>\n",
       "      <td>1</td>\n",
       "      <td>...</td>\n",
       "      <td>2122</td>\n",
       "      <td>913.0</td>\n",
       "      <td>559.0</td>\n",
       "      <td>913</td>\n",
       "      <td>1997</td>\n",
       "      <td>1996</td>\n",
       "      <td>132.0</td>\n",
       "      <td>637.0</td>\n",
       "      <td>25</td>\n",
       "      <td>220000</td>\n",
       "    </tr>\n",
       "    <tr>\n",
       "      <th>2</th>\n",
       "      <td>RL</td>\n",
       "      <td>5</td>\n",
       "      <td>1Story</td>\n",
       "      <td>CompShg</td>\n",
       "      <td>None</td>\n",
       "      <td>3</td>\n",
       "      <td>4</td>\n",
       "      <td>3</td>\n",
       "      <td>3</td>\n",
       "      <td>1</td>\n",
       "      <td>...</td>\n",
       "      <td>1057</td>\n",
       "      <td>1057.0</td>\n",
       "      <td>246.0</td>\n",
       "      <td>1057</td>\n",
       "      <td>2007</td>\n",
       "      <td>1953</td>\n",
       "      <td>0.0</td>\n",
       "      <td>731.0</td>\n",
       "      <td>68</td>\n",
       "      <td>109000</td>\n",
       "    </tr>\n",
       "    <tr>\n",
       "      <th>3</th>\n",
       "      <td>RL</td>\n",
       "      <td>7</td>\n",
       "      <td>2Story</td>\n",
       "      <td>CompShg</td>\n",
       "      <td>None</td>\n",
       "      <td>3</td>\n",
       "      <td>3</td>\n",
       "      <td>4</td>\n",
       "      <td>3</td>\n",
       "      <td>1</td>\n",
       "      <td>...</td>\n",
       "      <td>1444</td>\n",
       "      <td>384.0</td>\n",
       "      <td>400.0</td>\n",
       "      <td>744</td>\n",
       "      <td>2007</td>\n",
       "      <td>2006</td>\n",
       "      <td>0.0</td>\n",
       "      <td>0.0</td>\n",
       "      <td>15</td>\n",
       "      <td>174000</td>\n",
       "    </tr>\n",
       "    <tr>\n",
       "      <th>4</th>\n",
       "      <td>RL</td>\n",
       "      <td>6</td>\n",
       "      <td>1.5Fin</td>\n",
       "      <td>CompShg</td>\n",
       "      <td>None</td>\n",
       "      <td>3</td>\n",
       "      <td>3</td>\n",
       "      <td>2</td>\n",
       "      <td>4</td>\n",
       "      <td>1</td>\n",
       "      <td>...</td>\n",
       "      <td>1445</td>\n",
       "      <td>676.0</td>\n",
       "      <td>484.0</td>\n",
       "      <td>831</td>\n",
       "      <td>1993</td>\n",
       "      <td>1900</td>\n",
       "      <td>0.0</td>\n",
       "      <td>0.0</td>\n",
       "      <td>121</td>\n",
       "      <td>138500</td>\n",
       "    </tr>\n",
       "  </tbody>\n",
       "</table>\n",
       "<p>5 rows × 31 columns</p>\n",
       "</div>"
      ],
      "text/plain": [
       "  MS Zoning  TotRms AbvGrd House Style Roof Matl Mas Vnr Type  Exter Qual  \\\n",
       "0        RL              6      2Story   CompShg      BrkFace           4   \n",
       "1        RL              8      2Story   CompShg      BrkFace           4   \n",
       "2        RL              5      1Story   CompShg         None           3   \n",
       "3        RL              7      2Story   CompShg         None           3   \n",
       "4        RL              6      1.5Fin   CompShg         None           3   \n",
       "\n",
       "   Exter Cond  Bsmt Qual  Bsmt Cond  Bsmt Exposure  ...  Gr Liv Area  \\\n",
       "0           3          3          3              1  ...         1479   \n",
       "1           3          4          3              1  ...         2122   \n",
       "2           4          3          3              1  ...         1057   \n",
       "3           3          4          3              1  ...         1444   \n",
       "4           3          2          4              1  ...         1445   \n",
       "\n",
       "  Total Bsmt SF Garage Area  1st Flr SF  Year Remod/Add  Year Built  \\\n",
       "0         725.0       475.0         725            2005        1976   \n",
       "1         913.0       559.0         913            1997        1996   \n",
       "2        1057.0       246.0        1057            2007        1953   \n",
       "3         384.0       400.0         744            2007        2006   \n",
       "4         676.0       484.0         831            1993        1900   \n",
       "\n",
       "   Mas Vnr Area BsmtFin SF 1  age of house  SalePrice  \n",
       "0         289.0        533.0            45     130500  \n",
       "1         132.0        637.0            25     220000  \n",
       "2           0.0        731.0            68     109000  \n",
       "3           0.0          0.0            15     174000  \n",
       "4           0.0          0.0           121     138500  \n",
       "\n",
       "[5 rows x 31 columns]"
      ]
     },
     "execution_count": 4,
     "metadata": {},
     "output_type": "execute_result"
    }
   ],
   "source": [
    "# checking that data imported is correct for train_cleaned\n",
    "train_cleaned.head()"
   ]
  },
  {
   "cell_type": "code",
   "execution_count": 5,
   "metadata": {},
   "outputs": [
    {
     "data": {
      "text/html": [
       "<div>\n",
       "<style scoped>\n",
       "    .dataframe tbody tr th:only-of-type {\n",
       "        vertical-align: middle;\n",
       "    }\n",
       "\n",
       "    .dataframe tbody tr th {\n",
       "        vertical-align: top;\n",
       "    }\n",
       "\n",
       "    .dataframe thead th {\n",
       "        text-align: right;\n",
       "    }\n",
       "</style>\n",
       "<table border=\"1\" class=\"dataframe\">\n",
       "  <thead>\n",
       "    <tr style=\"text-align: right;\">\n",
       "      <th></th>\n",
       "      <th>MS Zoning</th>\n",
       "      <th>TotRms AbvGrd</th>\n",
       "      <th>House Style</th>\n",
       "      <th>Roof Matl</th>\n",
       "      <th>Mas Vnr Type</th>\n",
       "      <th>Exter Qual</th>\n",
       "      <th>Exter Cond</th>\n",
       "      <th>Bsmt Qual</th>\n",
       "      <th>Bsmt Cond</th>\n",
       "      <th>Bsmt Exposure</th>\n",
       "      <th>...</th>\n",
       "      <th>Sale Type</th>\n",
       "      <th>Gr Liv Area</th>\n",
       "      <th>Total Bsmt SF</th>\n",
       "      <th>Garage Area</th>\n",
       "      <th>1st Flr SF</th>\n",
       "      <th>Year Remod/Add</th>\n",
       "      <th>Year Built</th>\n",
       "      <th>Mas Vnr Area</th>\n",
       "      <th>BsmtFin SF 1</th>\n",
       "      <th>age of house</th>\n",
       "    </tr>\n",
       "  </thead>\n",
       "  <tbody>\n",
       "    <tr>\n",
       "      <th>0</th>\n",
       "      <td>RM</td>\n",
       "      <td>9</td>\n",
       "      <td>2Story</td>\n",
       "      <td>CompShg</td>\n",
       "      <td>None</td>\n",
       "      <td>3</td>\n",
       "      <td>2</td>\n",
       "      <td>2</td>\n",
       "      <td>3</td>\n",
       "      <td>1</td>\n",
       "      <td>...</td>\n",
       "      <td>WD</td>\n",
       "      <td>1928</td>\n",
       "      <td>1020</td>\n",
       "      <td>440</td>\n",
       "      <td>908</td>\n",
       "      <td>1950</td>\n",
       "      <td>1910</td>\n",
       "      <td>0.0</td>\n",
       "      <td>0</td>\n",
       "      <td>111</td>\n",
       "    </tr>\n",
       "    <tr>\n",
       "      <th>1</th>\n",
       "      <td>RL</td>\n",
       "      <td>10</td>\n",
       "      <td>1Story</td>\n",
       "      <td>CompShg</td>\n",
       "      <td>None</td>\n",
       "      <td>3</td>\n",
       "      <td>3</td>\n",
       "      <td>4</td>\n",
       "      <td>3</td>\n",
       "      <td>1</td>\n",
       "      <td>...</td>\n",
       "      <td>WD</td>\n",
       "      <td>1967</td>\n",
       "      <td>1967</td>\n",
       "      <td>580</td>\n",
       "      <td>1967</td>\n",
       "      <td>1977</td>\n",
       "      <td>1977</td>\n",
       "      <td>0.0</td>\n",
       "      <td>0</td>\n",
       "      <td>44</td>\n",
       "    </tr>\n",
       "    <tr>\n",
       "      <th>2</th>\n",
       "      <td>RL</td>\n",
       "      <td>7</td>\n",
       "      <td>2Story</td>\n",
       "      <td>CompShg</td>\n",
       "      <td>None</td>\n",
       "      <td>4</td>\n",
       "      <td>3</td>\n",
       "      <td>4</td>\n",
       "      <td>4</td>\n",
       "      <td>3</td>\n",
       "      <td>...</td>\n",
       "      <td>New</td>\n",
       "      <td>1496</td>\n",
       "      <td>654</td>\n",
       "      <td>426</td>\n",
       "      <td>664</td>\n",
       "      <td>2006</td>\n",
       "      <td>2006</td>\n",
       "      <td>0.0</td>\n",
       "      <td>554</td>\n",
       "      <td>15</td>\n",
       "    </tr>\n",
       "    <tr>\n",
       "      <th>3</th>\n",
       "      <td>RM</td>\n",
       "      <td>5</td>\n",
       "      <td>1Story</td>\n",
       "      <td>CompShg</td>\n",
       "      <td>None</td>\n",
       "      <td>4</td>\n",
       "      <td>3</td>\n",
       "      <td>3</td>\n",
       "      <td>3</td>\n",
       "      <td>1</td>\n",
       "      <td>...</td>\n",
       "      <td>WD</td>\n",
       "      <td>968</td>\n",
       "      <td>968</td>\n",
       "      <td>480</td>\n",
       "      <td>968</td>\n",
       "      <td>2006</td>\n",
       "      <td>1923</td>\n",
       "      <td>0.0</td>\n",
       "      <td>0</td>\n",
       "      <td>98</td>\n",
       "    </tr>\n",
       "    <tr>\n",
       "      <th>4</th>\n",
       "      <td>RL</td>\n",
       "      <td>6</td>\n",
       "      <td>1Story</td>\n",
       "      <td>CompShg</td>\n",
       "      <td>BrkFace</td>\n",
       "      <td>3</td>\n",
       "      <td>3</td>\n",
       "      <td>4</td>\n",
       "      <td>3</td>\n",
       "      <td>1</td>\n",
       "      <td>...</td>\n",
       "      <td>WD</td>\n",
       "      <td>1394</td>\n",
       "      <td>1394</td>\n",
       "      <td>514</td>\n",
       "      <td>1394</td>\n",
       "      <td>1963</td>\n",
       "      <td>1963</td>\n",
       "      <td>247.0</td>\n",
       "      <td>609</td>\n",
       "      <td>58</td>\n",
       "    </tr>\n",
       "  </tbody>\n",
       "</table>\n",
       "<p>5 rows × 30 columns</p>\n",
       "</div>"
      ],
      "text/plain": [
       "  MS Zoning  TotRms AbvGrd House Style Roof Matl Mas Vnr Type  Exter Qual  \\\n",
       "0        RM              9      2Story   CompShg         None           3   \n",
       "1        RL             10      1Story   CompShg         None           3   \n",
       "2        RL              7      2Story   CompShg         None           4   \n",
       "3        RM              5      1Story   CompShg         None           4   \n",
       "4        RL              6      1Story   CompShg      BrkFace           3   \n",
       "\n",
       "   Exter Cond  Bsmt Qual  Bsmt Cond  Bsmt Exposure  ...  Sale Type  \\\n",
       "0           2          2          3              1  ...        WD    \n",
       "1           3          4          3              1  ...        WD    \n",
       "2           3          4          4              3  ...        New   \n",
       "3           3          3          3              1  ...        WD    \n",
       "4           3          4          3              1  ...        WD    \n",
       "\n",
       "  Gr Liv Area Total Bsmt SF  Garage Area  1st Flr SF  Year Remod/Add  \\\n",
       "0        1928          1020          440         908            1950   \n",
       "1        1967          1967          580        1967            1977   \n",
       "2        1496           654          426         664            2006   \n",
       "3         968           968          480         968            2006   \n",
       "4        1394          1394          514        1394            1963   \n",
       "\n",
       "   Year Built Mas Vnr Area  BsmtFin SF 1  age of house  \n",
       "0        1910          0.0             0           111  \n",
       "1        1977          0.0             0            44  \n",
       "2        2006          0.0           554            15  \n",
       "3        1923          0.0             0            98  \n",
       "4        1963        247.0           609            58  \n",
       "\n",
       "[5 rows x 30 columns]"
      ]
     },
     "execution_count": 5,
     "metadata": {},
     "output_type": "execute_result"
    }
   ],
   "source": [
    "# checking that data imported is correct for test_cleaned\n",
    "test_cleaned.head()"
   ]
  },
  {
   "cell_type": "markdown",
   "metadata": {},
   "source": [
    "### 3.Splitting train dataset into train & holdout sets"
   ]
  },
  {
   "cell_type": "code",
   "execution_count": 7,
   "metadata": {},
   "outputs": [],
   "source": [
    "# get the target array, y for the train columns\n",
    "# y is the 'SalePrice' which is what we are predicting\n",
    "\n",
    "y_targetarray = train_cleaned['SalePrice']"
   ]
  },
  {
   "cell_type": "code",
   "execution_count": 8,
   "metadata": {},
   "outputs": [
    {
     "data": {
      "text/plain": [
       "(2044,)"
      ]
     },
     "execution_count": 8,
     "metadata": {},
     "output_type": "execute_result"
    }
   ],
   "source": [
    "#checking the shape for y\n",
    "#the number of rows in target array should match our feature matrix\n",
    "\n",
    "y_targetarray.shape"
   ]
  },
  {
   "cell_type": "code",
   "execution_count": 9,
   "metadata": {},
   "outputs": [],
   "source": [
    "# variables that are chosen for feature matrix\n",
    "\n",
    "X_chose_variables = train_cleaned[['Gr Liv Area', 'Garage Area','age of house',\n",
    "'Mas Vnr Area', 'BsmtFin SF 1', 'Total Bsmt SF','Overall Qual','Overall Cond', 'Exter Qual', 'Sale Type','TotRms AbvGrd','Roof Matl','House Style' ]]"
   ]
  },
  {
   "cell_type": "code",
   "execution_count": 10,
   "metadata": {},
   "outputs": [
    {
     "data": {
      "text/plain": [
       "(2044, 13)"
      ]
     },
     "execution_count": 10,
     "metadata": {},
     "output_type": "execute_result"
    }
   ],
   "source": [
    "# check that feature matrix rows matches the number of rows for targetarray\n",
    "\n",
    "X_chose_variables.shape"
   ]
  },
  {
   "cell_type": "code",
   "execution_count": 11,
   "metadata": {},
   "outputs": [],
   "source": [
    "# split into train and holdout set\n",
    "# so that we can test on the holdout set & compare the RMSE score of our models\n",
    "\n",
    "X_train, X_holdout, y_train, y_holdout = train_test_split(X_chose_variables, y_targetarray, random_state=42)"
   ]
  },
  {
   "cell_type": "code",
   "execution_count": 12,
   "metadata": {},
   "outputs": [
    {
     "name": "stdout",
     "output_type": "stream",
     "text": [
      "X_train.shape : (1533, 13)\n",
      "X_holdout.shape : (511, 13)\n",
      "y_train.shape : (1533,)\n",
      "y_holdout.shape : (511,)\n"
     ]
    }
   ],
   "source": [
    "# checking the \n",
    "\n",
    "print('X_train.shape :',X_train.shape)\n",
    "print('X_holdout.shape :',X_holdout.shape)\n",
    "print('y_train.shape :',y_train.shape)\n",
    "print('y_holdout.shape :',y_holdout.shape)"
   ]
  },
  {
   "cell_type": "markdown",
   "metadata": {},
   "source": [
    "### 4.Preprocessing X_train with StandardScaler & pd.get_dummies"
   ]
  },
  {
   "cell_type": "code",
   "execution_count": 13,
   "metadata": {},
   "outputs": [],
   "source": [
    "# split the interested columns into numerical_variables & categorical_variables\n",
    "# StandardScaling for numerical_variables\n",
    "# pd.get_dummies for categorical_variables\n",
    "\n",
    "numerical_variables=['Gr Liv Area', 'Garage Area','age of house','Mas Vnr Area', 'BsmtFin SF 1', 'Total Bsmt SF','Overall Qual','Overall Cond','Exter Qual', 'TotRms AbvGrd']                    \n",
    "categorical_variables=['Sale Type','House Style', 'Roof Matl']"
   ]
  },
  {
   "cell_type": "code",
   "execution_count": 14,
   "metadata": {},
   "outputs": [],
   "source": [
    "from sklearn.preprocessing import StandardScaler\n",
    "\n",
    "# instantiate StandardScaler()\n",
    "scaler = StandardScaler()\n",
    "\n",
    "#X_train_scaled = scaler.fit_transform(X_train[numerical_variables])\n",
    "\n",
    "# fit transform the train set & convert into DataFrame\n",
    "X_train_scaled = pd.DataFrame(scaler.fit_transform(X_train[numerical_variables]))"
   ]
  },
  {
   "cell_type": "code",
   "execution_count": 15,
   "metadata": {},
   "outputs": [
    {
     "data": {
      "text/plain": [
       "(1533, 10)"
      ]
     },
     "execution_count": 15,
     "metadata": {},
     "output_type": "execute_result"
    }
   ],
   "source": [
    "X_train_scaled.shape"
   ]
  },
  {
   "cell_type": "code",
   "execution_count": 16,
   "metadata": {},
   "outputs": [],
   "source": [
    "# pd.get_dummies for each column\n",
    "# drop first column for each dummy\n",
    "# drop index for this DataFrame\n",
    "\n",
    "X_train_dum =pd.get_dummies(X_train[categorical_variables], drop_first=True).reset_index(drop=True)"
   ]
  },
  {
   "cell_type": "code",
   "execution_count": 17,
   "metadata": {},
   "outputs": [
    {
     "data": {
      "text/plain": [
       "(1533, 19)"
      ]
     },
     "execution_count": 17,
     "metadata": {},
     "output_type": "execute_result"
    }
   ],
   "source": [
    "X_train_dum.shape"
   ]
  },
  {
   "cell_type": "code",
   "execution_count": 18,
   "metadata": {},
   "outputs": [],
   "source": [
    "# concatenate the scaled portion and get_dummy portion back together\n",
    "\n",
    "X_train_transformed = pd.concat([X_train_scaled ,X_train_dum], axis=1)"
   ]
  },
  {
   "cell_type": "code",
   "execution_count": 19,
   "metadata": {},
   "outputs": [],
   "source": [
    "#X_train_transformed.drop(columns='index', inplace=True)"
   ]
  },
  {
   "cell_type": "code",
   "execution_count": 20,
   "metadata": {},
   "outputs": [
    {
     "data": {
      "text/plain": [
       "(1533, 29)"
      ]
     },
     "execution_count": 20,
     "metadata": {},
     "output_type": "execute_result"
    }
   ],
   "source": [
    "X_train_transformed.shape"
   ]
  },
  {
   "cell_type": "markdown",
   "metadata": {},
   "source": [
    "### 5.Preprocessing X_holdout with StandardScaler & pd.get_dummies"
   ]
  },
  {
   "cell_type": "code",
   "execution_count": 21,
   "metadata": {},
   "outputs": [],
   "source": [
    "# transform the holdout set & convert into DataFrame\n",
    "\n",
    "X_holdout_scaled = pd.DataFrame(scaler.transform(X_holdout[numerical_variables]))"
   ]
  },
  {
   "cell_type": "code",
   "execution_count": 22,
   "metadata": {},
   "outputs": [],
   "source": [
    "X_holdout_dum =pd.get_dummies(X_holdout[categorical_variables], drop_first=True).reset_index(drop=True)"
   ]
  },
  {
   "cell_type": "code",
   "execution_count": 23,
   "metadata": {},
   "outputs": [],
   "source": [
    "X_holdout_transformed = pd.concat([X_holdout_scaled ,X_holdout_dum], axis=1)"
   ]
  },
  {
   "cell_type": "code",
   "execution_count": 24,
   "metadata": {},
   "outputs": [
    {
     "name": "stdout",
     "output_type": "stream",
     "text": [
      "X_holdout_transformed.shape : (511, 27)\n",
      "X_train_transformed.shape : (1533, 29)\n"
     ]
    }
   ],
   "source": [
    "# in this case there are different categories inside the same column\n",
    "print('X_holdout_transformed.shape :', X_holdout_transformed.shape)\n",
    "print('X_train_transformed.shape :', X_train_transformed.shape)"
   ]
  },
  {
   "cell_type": "code",
   "execution_count": 25,
   "metadata": {},
   "outputs": [
    {
     "name": "stdout",
     "output_type": "stream",
     "text": [
      "X_holdout_transformed.shape : (511, 29)\n",
      "X_train_transformed.shape : (1533, 29)\n"
     ]
    }
   ],
   "source": [
    "# adding new dummies, the holdout set shape does not match the train set\n",
    "# shapes of the X_train and X_holdout set need to match when using ML alorithms\n",
    "\n",
    "X_holdout_transformed['1st dum']=0\n",
    "X_holdout_transformed['2nd dum']=0\n",
    "\n",
    "# checink shape after adding new columns\n",
    "print('X_holdout_transformed.shape :', X_holdout_transformed.shape)\n",
    "print('X_train_transformed.shape :', X_train_transformed.shape)"
   ]
  },
  {
   "cell_type": "markdown",
   "metadata": {},
   "source": [
    "### 6.Baseline Score"
   ]
  },
  {
   "cell_type": "code",
   "execution_count": 26,
   "metadata": {},
   "outputs": [
    {
     "name": "stdout",
     "output_type": "stream",
     "text": [
      "Baseline Score: 77244.43661228866\n"
     ]
    }
   ],
   "source": [
    "# calculate the RMSE score for average y vs actual y\n",
    "\n",
    "print('Baseline Score:' , np.sqrt(((y_targetarray - y_targetarray.mean())**2).sum()/len(y_targetarray)) )"
   ]
  },
  {
   "cell_type": "markdown",
   "metadata": {},
   "source": [
    "In order for regression models to have a better performance, the RMSE score needs to be lower than the baseline score of 77244.43661228866."
   ]
  },
  {
   "cell_type": "markdown",
   "metadata": {},
   "source": [
    "### 7.Cross validation & Linear Regression"
   ]
  },
  {
   "cell_type": "code",
   "execution_count": 27,
   "metadata": {},
   "outputs": [],
   "source": [
    "# instantiate lr\n",
    "lr = LinearRegression()"
   ]
  },
  {
   "cell_type": "code",
   "execution_count": 29,
   "metadata": {},
   "outputs": [
    {
     "data": {
      "text/plain": [
       "27391.711566203234"
      ]
     },
     "execution_count": 29,
     "metadata": {},
     "output_type": "execute_result"
    }
   ],
   "source": [
    "# RMSE, Root Mean Squared Error from Cross_val_score of linear regression\n",
    "np.sqrt(abs(cross_val_score(lr, X_train_transformed, y_train, cv=50, scoring='neg_mean_squared_error').mean()))"
   ]
  },
  {
   "cell_type": "code",
   "execution_count": 30,
   "metadata": {},
   "outputs": [
    {
     "data": {
      "text/plain": [
       "LinearRegression()"
      ]
     },
     "execution_count": 30,
     "metadata": {},
     "output_type": "execute_result"
    }
   ],
   "source": [
    "# fit the train set\n",
    "lr.fit(X_train_transformed, y_train)\n",
    "\n",
    "# predict on holdoutset\n",
    "lr_pred = lr.predict(X_holdout_transformed)"
   ]
  },
  {
   "cell_type": "code",
   "execution_count": 33,
   "metadata": {},
   "outputs": [
    {
     "name": "stdout",
     "output_type": "stream",
     "text": [
      "Linear regression using optimal alpha, RMSE:  38715.07972882008\n"
     ]
    }
   ],
   "source": [
    "print('Linear regression using optimal alpha, RMSE: ', np.sqrt(mean_squared_error(y_holdout, lr_pred)) )"
   ]
  },
  {
   "cell_type": "code",
   "execution_count": 34,
   "metadata": {},
   "outputs": [],
   "source": [
    "# when Standard scaling the columns names changed\n",
    "# combining the column names together\n",
    "\n",
    "transformed_column_list = X_chose_variables.columns[:10].append(X_train_transformed.columns[10:])"
   ]
  },
  {
   "cell_type": "code",
   "execution_count": 35,
   "metadata": {},
   "outputs": [
    {
     "data": {
      "text/html": [
       "<div>\n",
       "<style scoped>\n",
       "    .dataframe tbody tr th:only-of-type {\n",
       "        vertical-align: middle;\n",
       "    }\n",
       "\n",
       "    .dataframe tbody tr th {\n",
       "        vertical-align: top;\n",
       "    }\n",
       "\n",
       "    .dataframe thead th {\n",
       "        text-align: right;\n",
       "    }\n",
       "</style>\n",
       "<table border=\"1\" class=\"dataframe\">\n",
       "  <thead>\n",
       "    <tr style=\"text-align: right;\">\n",
       "      <th></th>\n",
       "      <th>Features</th>\n",
       "      <th>Coefficient</th>\n",
       "    </tr>\n",
       "  </thead>\n",
       "  <tbody>\n",
       "    <tr>\n",
       "      <th>28</th>\n",
       "      <td>Roof Matl_WdShngl</td>\n",
       "      <td>91822.109691</td>\n",
       "    </tr>\n",
       "    <tr>\n",
       "      <th>25</th>\n",
       "      <td>Roof Matl_Membran</td>\n",
       "      <td>66336.085127</td>\n",
       "    </tr>\n",
       "    <tr>\n",
       "      <th>11</th>\n",
       "      <td>Sale Type_Con</td>\n",
       "      <td>60019.896458</td>\n",
       "    </tr>\n",
       "    <tr>\n",
       "      <th>15</th>\n",
       "      <td>Sale Type_New</td>\n",
       "      <td>40069.076502</td>\n",
       "    </tr>\n",
       "    <tr>\n",
       "      <th>16</th>\n",
       "      <td>Sale Type_Oth</td>\n",
       "      <td>32997.978318</td>\n",
       "    </tr>\n",
       "  </tbody>\n",
       "</table>\n",
       "</div>"
      ],
      "text/plain": [
       "             Features   Coefficient\n",
       "28  Roof Matl_WdShngl  91822.109691\n",
       "25  Roof Matl_Membran  66336.085127\n",
       "11      Sale Type_Con  60019.896458\n",
       "15      Sale Type_New  40069.076502\n",
       "16      Sale Type_Oth  32997.978318"
      ]
     },
     "execution_count": 35,
     "metadata": {},
     "output_type": "execute_result"
    }
   ],
   "source": [
    "pd.DataFrame({'Features':transformed_column_list, 'Coefficient':lr.coef_}).sort_values(by='Coefficient', ascending=False).head()"
   ]
  },
  {
   "cell_type": "markdown",
   "metadata": {},
   "source": [
    "- As the Roof Matl_WdShngl feature increased by one unit, then the 'SalePrice' increase by $91822.11 which is the Coefficient.\n",
    "- Above is the top 5 features with coefficient that have most postive correlation to 'SalePrice' using Linear Regression."
   ]
  },
  {
   "cell_type": "code",
   "execution_count": 36,
   "metadata": {},
   "outputs": [
    {
     "data": {
      "text/html": [
       "<div>\n",
       "<style scoped>\n",
       "    .dataframe tbody tr th:only-of-type {\n",
       "        vertical-align: middle;\n",
       "    }\n",
       "\n",
       "    .dataframe tbody tr th {\n",
       "        vertical-align: top;\n",
       "    }\n",
       "\n",
       "    .dataframe thead th {\n",
       "        text-align: right;\n",
       "    }\n",
       "</style>\n",
       "<table border=\"1\" class=\"dataframe\">\n",
       "  <thead>\n",
       "    <tr style=\"text-align: right;\">\n",
       "      <th></th>\n",
       "      <th>Features</th>\n",
       "      <th>Coefficient</th>\n",
       "    </tr>\n",
       "  </thead>\n",
       "  <tbody>\n",
       "    <tr>\n",
       "      <th>20</th>\n",
       "      <td>House Style_2.5Fin</td>\n",
       "      <td>-26104.628144</td>\n",
       "    </tr>\n",
       "    <tr>\n",
       "      <th>2</th>\n",
       "      <td>age of house</td>\n",
       "      <td>-7696.522081</td>\n",
       "    </tr>\n",
       "    <tr>\n",
       "      <th>27</th>\n",
       "      <td>Roof Matl_WdShake</td>\n",
       "      <td>-5629.941870</td>\n",
       "    </tr>\n",
       "    <tr>\n",
       "      <th>22</th>\n",
       "      <td>House Style_2Story</td>\n",
       "      <td>-1079.743285</td>\n",
       "    </tr>\n",
       "    <tr>\n",
       "      <th>9</th>\n",
       "      <td>Sale Type</td>\n",
       "      <td>-412.974825</td>\n",
       "    </tr>\n",
       "  </tbody>\n",
       "</table>\n",
       "</div>"
      ],
      "text/plain": [
       "              Features   Coefficient\n",
       "20  House Style_2.5Fin -26104.628144\n",
       "2         age of house  -7696.522081\n",
       "27   Roof Matl_WdShake  -5629.941870\n",
       "22  House Style_2Story  -1079.743285\n",
       "9            Sale Type   -412.974825"
      ]
     },
     "execution_count": 36,
     "metadata": {},
     "output_type": "execute_result"
    }
   ],
   "source": [
    "pd.DataFrame({'Features':transformed_column_list, 'Coefficient':lr.coef_}).sort_values(by='Coefficient', ascending=True).head()"
   ]
  },
  {
   "cell_type": "markdown",
   "metadata": {},
   "source": [
    "- As the House Style_2.5Fin feature increased by one unit, then the 'SalePrice' decrease by $26104.63 which is the Coefficient.\n",
    "- Above is the top 5 features with coefficient that have most negative correlation to 'SalePrice' using Linear Regression."
   ]
  },
  {
   "cell_type": "markdown",
   "metadata": {},
   "source": [
    "### 8.LassoCv & Lasso Regression on holdout set\n",
    "- use LassoCV find the optimal alpha\n",
    "- Cross_val_score on Lasso()\n",
    "- use Lasso() on holdout set"
   ]
  },
  {
   "cell_type": "code",
   "execution_count": 37,
   "metadata": {},
   "outputs": [
    {
     "data": {
      "text/plain": [
       "LassoCV(cv=5, n_alphas=500)"
      ]
     },
     "execution_count": 37,
     "metadata": {},
     "output_type": "execute_result"
    }
   ],
   "source": [
    "# try using n_alpha argument to find the optimal alpha\n",
    "\n",
    "lasso_cv = LassoCV(n_alphas=500, cv=5) #put cv =100\n",
    "lasso_cv.fit(X_train_transformed, y_train)"
   ]
  },
  {
   "cell_type": "code",
   "execution_count": 38,
   "metadata": {},
   "outputs": [
    {
     "data": {
      "text/plain": [
       "62.305822060040654"
      ]
     },
     "execution_count": 38,
     "metadata": {},
     "output_type": "execute_result"
    }
   ],
   "source": [
    "# take the best alpha from that laso regularization fit\n",
    "lasso_cv.alpha_"
   ]
  },
  {
   "cell_type": "code",
   "execution_count": 39,
   "metadata": {},
   "outputs": [
    {
     "data": {
      "text/plain": [
       "[<matplotlib.lines.Line2D at 0x18aad32a670>]"
      ]
     },
     "execution_count": 39,
     "metadata": {},
     "output_type": "execute_result"
    },
    {
     "data": {
      "image/png": "[encoded data removed]",
      "text/plain": [
       "<Figure size 432x288 with 1 Axes>"
      ]
     },
     "metadata": {
      "needs_background": "light"
     },
     "output_type": "display_data"
    }
   ],
   "source": [
    "lasso_cv_means =[np.mean(cv_alpha) for cv_alpha in lasso_cv.mse_path_]\n",
    "\n",
    "fig = plt.figure(figsize=(6,4))\n",
    "ax = plt.gca()\n",
    "\n",
    "ax.plot(lasso_cv.alphas_, list(reversed(lasso_cv_means)))"
   ]
  },
  {
   "cell_type": "code",
   "execution_count": 41,
   "metadata": {},
   "outputs": [
    {
     "data": {
      "text/plain": [
       "27380.819521607897"
      ]
     },
     "execution_count": 41,
     "metadata": {},
     "output_type": "execute_result"
    }
   ],
   "source": [
    "# calculate the RMSE of lasso through cross_val_score\n",
    "\n",
    "np.sqrt(abs(cross_val_score(Lasso(alpha=lasso_cv.alpha_), X_train_transformed, y_train, cv=50, scoring='neg_mean_squared_error').mean()))"
   ]
  },
  {
   "cell_type": "code",
   "execution_count": 42,
   "metadata": {},
   "outputs": [],
   "source": [
    "# use the optimal alpha into the actual Lasso model\n",
    "lasso = Lasso(alpha=lasso_cv.alpha_)\n",
    "\n",
    "# fit with the train set\n",
    "lasso.fit(X_train_transformed, y_train)\n",
    "\n",
    "# predictions from lasso from holdout set\n",
    "lasso_pred = lasso.predict(X_holdout_transformed)"
   ]
  },
  {
   "cell_type": "code",
   "execution_count": 48,
   "metadata": {},
   "outputs": [
    {
     "data": {
      "text/plain": [
       "175182.073615624"
      ]
     },
     "execution_count": 48,
     "metadata": {},
     "output_type": "execute_result"
    }
   ],
   "source": [
    "# intercept for lasso regression\n",
    "lasso.intercept_"
   ]
  },
  {
   "cell_type": "code",
   "execution_count": 43,
   "metadata": {},
   "outputs": [
    {
     "data": {
      "text/plain": [
       "array([31507.84247635,  6602.67696569, -7866.20776327,  5542.90783488,\n",
       "       12727.25256673,  7062.68657253, 16207.92200505,  6358.61938625,\n",
       "       11522.8902095 ,  -431.56682439,     0.        ,    82.38685545,\n",
       "        2175.92359486,     0.        ,     0.        , 27604.03797577,\n",
       "           0.        ,   939.94156775,  7904.09709353,  6736.31070008,\n",
       "          -0.        ,     0.        , -1971.95755569,     0.        ,\n",
       "        5160.58523319,     0.        ,     0.        ,    -0.        ,\n",
       "       51153.19332452])"
      ]
     },
     "execution_count": 43,
     "metadata": {},
     "output_type": "execute_result"
    }
   ],
   "source": [
    "# coefficient for lasso regression\n",
    "# coefficient for each variable in the train & holdout columns\n",
    "lasso.coef_"
   ]
  },
  {
   "cell_type": "code",
   "execution_count": 49,
   "metadata": {},
   "outputs": [
    {
     "name": "stdout",
     "output_type": "stream",
     "text": [
      "Lasso regression using optimal alpha, RMSE:  27978.661976523636\n"
     ]
    }
   ],
   "source": [
    "print('Lasso regression using optimal alpha, RMSE: ', np.sqrt(mean_squared_error(y_holdout, lasso_pred)) )"
   ]
  },
  {
   "cell_type": "code",
   "execution_count": 50,
   "metadata": {},
   "outputs": [
    {
     "data": {
      "text/html": [
       "<div>\n",
       "<style scoped>\n",
       "    .dataframe tbody tr th:only-of-type {\n",
       "        vertical-align: middle;\n",
       "    }\n",
       "\n",
       "    .dataframe tbody tr th {\n",
       "        vertical-align: top;\n",
       "    }\n",
       "\n",
       "    .dataframe thead th {\n",
       "        text-align: right;\n",
       "    }\n",
       "</style>\n",
       "<table border=\"1\" class=\"dataframe\">\n",
       "  <thead>\n",
       "    <tr style=\"text-align: right;\">\n",
       "      <th></th>\n",
       "      <th>Features</th>\n",
       "      <th>Coefficient</th>\n",
       "    </tr>\n",
       "  </thead>\n",
       "  <tbody>\n",
       "    <tr>\n",
       "      <th>28</th>\n",
       "      <td>Roof Matl_WdShngl</td>\n",
       "      <td>51153.193325</td>\n",
       "    </tr>\n",
       "    <tr>\n",
       "      <th>0</th>\n",
       "      <td>Gr Liv Area</td>\n",
       "      <td>31507.842476</td>\n",
       "    </tr>\n",
       "    <tr>\n",
       "      <th>15</th>\n",
       "      <td>Sale Type_New</td>\n",
       "      <td>27604.037976</td>\n",
       "    </tr>\n",
       "    <tr>\n",
       "      <th>6</th>\n",
       "      <td>Overall Qual</td>\n",
       "      <td>16207.922005</td>\n",
       "    </tr>\n",
       "    <tr>\n",
       "      <th>4</th>\n",
       "      <td>BsmtFin SF 1</td>\n",
       "      <td>12727.252567</td>\n",
       "    </tr>\n",
       "  </tbody>\n",
       "</table>\n",
       "</div>"
      ],
      "text/plain": [
       "             Features   Coefficient\n",
       "28  Roof Matl_WdShngl  51153.193325\n",
       "0         Gr Liv Area  31507.842476\n",
       "15      Sale Type_New  27604.037976\n",
       "6        Overall Qual  16207.922005\n",
       "4        BsmtFin SF 1  12727.252567"
      ]
     },
     "execution_count": 50,
     "metadata": {},
     "output_type": "execute_result"
    }
   ],
   "source": [
    "pd.DataFrame({'Features':transformed_column_list, 'Coefficient':lasso.coef_}).sort_values(by='Coefficient', ascending=False).head()"
   ]
  },
  {
   "cell_type": "markdown",
   "metadata": {},
   "source": [
    "- As the Roof Matl_WdShngl feature increase by one unit, then the 'SalePrice' increase by $51153.20 which is the Coefficient.\n",
    "- Above is the top 5 features with coefficient that have most postive correlation to 'SalePrice' using Lasso Regression."
   ]
  },
  {
   "cell_type": "code",
   "execution_count": 51,
   "metadata": {},
   "outputs": [
    {
     "data": {
      "text/html": [
       "<div>\n",
       "<style scoped>\n",
       "    .dataframe tbody tr th:only-of-type {\n",
       "        vertical-align: middle;\n",
       "    }\n",
       "\n",
       "    .dataframe tbody tr th {\n",
       "        vertical-align: top;\n",
       "    }\n",
       "\n",
       "    .dataframe thead th {\n",
       "        text-align: right;\n",
       "    }\n",
       "</style>\n",
       "<table border=\"1\" class=\"dataframe\">\n",
       "  <thead>\n",
       "    <tr style=\"text-align: right;\">\n",
       "      <th></th>\n",
       "      <th>Features</th>\n",
       "      <th>Coefficient</th>\n",
       "    </tr>\n",
       "  </thead>\n",
       "  <tbody>\n",
       "    <tr>\n",
       "      <th>2</th>\n",
       "      <td>age of house</td>\n",
       "      <td>-7866.207763</td>\n",
       "    </tr>\n",
       "    <tr>\n",
       "      <th>22</th>\n",
       "      <td>House Style_2Story</td>\n",
       "      <td>-1971.957556</td>\n",
       "    </tr>\n",
       "    <tr>\n",
       "      <th>9</th>\n",
       "      <td>Sale Type</td>\n",
       "      <td>-431.566824</td>\n",
       "    </tr>\n",
       "    <tr>\n",
       "      <th>14</th>\n",
       "      <td>Sale Type_ConLw</td>\n",
       "      <td>0.000000</td>\n",
       "    </tr>\n",
       "    <tr>\n",
       "      <th>23</th>\n",
       "      <td>House Style_SFoyer</td>\n",
       "      <td>0.000000</td>\n",
       "    </tr>\n",
       "  </tbody>\n",
       "</table>\n",
       "</div>"
      ],
      "text/plain": [
       "              Features  Coefficient\n",
       "2         age of house -7866.207763\n",
       "22  House Style_2Story -1971.957556\n",
       "9            Sale Type  -431.566824\n",
       "14     Sale Type_ConLw     0.000000\n",
       "23  House Style_SFoyer     0.000000"
      ]
     },
     "execution_count": 51,
     "metadata": {},
     "output_type": "execute_result"
    }
   ],
   "source": [
    "pd.DataFrame({'Features':transformed_column_list, 'Coefficient':lasso.coef_}).sort_values(by='Coefficient', ascending=True).head()"
   ]
  },
  {
   "cell_type": "markdown",
   "metadata": {},
   "source": [
    "- As the 'age of house' feature increase by one unit, then the 'SalePrice' decrease by $7866.21 which is the Coefficient.\n",
    "- the Coefficient for 'Sale Type_ConLw' is 0, because Lasso Regression will shrink the unimportant features to 0\n",
    "- Above is the top 5 features with coefficient that have most negative correlation to 'SalePrice' using Lasso Regression."
   ]
  },
  {
   "cell_type": "markdown",
   "metadata": {},
   "source": [
    "### 9.RidgeCv & Ridge Regression on holdout set\n",
    "\n",
    "- use RidgeCV find the optimal alpha\n",
    "- Cross_val_score on Ridge()\n",
    "- use Ridge() on holdout set"
   ]
  },
  {
   "cell_type": "code",
   "execution_count": 52,
   "metadata": {},
   "outputs": [
    {
     "data": {
      "text/plain": [
       "1.0"
      ]
     },
     "execution_count": 52,
     "metadata": {},
     "output_type": "execute_result"
    }
   ],
   "source": [
    "#parse a list of alphas\n",
    "# use RidgeCV to find alpha value\n",
    "\n",
    "r_alphas = np.logspace(0, 5, 200) #parse a list of alphas\n",
    "\n",
    "ridge_cv = RidgeCV(alphas=r_alphas, store_cv_values=True)\n",
    "ridge_cv.fit(X_train_transformed, y_train)\n",
    "ridge_cv.alpha_"
   ]
  },
  {
   "cell_type": "code",
   "execution_count": 54,
   "metadata": {},
   "outputs": [
    {
     "data": {
      "text/plain": [
       "[<matplotlib.lines.Line2D at 0x18aad821250>]"
      ]
     },
     "execution_count": 54,
     "metadata": {},
     "output_type": "execute_result"
    },
    {
     "data": {
      "image/png": "[encoded data removed]",
      "text/plain": [
       "<Figure size 432x288 with 1 Axes>"
      ]
     },
     "metadata": {
      "needs_background": "light"
     },
     "output_type": "display_data"
    }
   ],
   "source": [
    "ridge_cv_means = [np.mean(cv_alpha) for cv_alpha in ridge_cv.cv_values_.T]\n",
    "\n",
    "# do a semilogx\n",
    "fig = plt.figure(figsize=(6,4))\n",
    "ax = plt.gca()\n",
    "\n",
    "ax.semilogx(ridge_cv.alphas, ridge_cv_means)\n",
    "\n",
    "# x-axis is the alphas\n",
    "# so  lower the alpha will overfit\n",
    "# then higher the alpha will underfit"
   ]
  },
  {
   "cell_type": "code",
   "execution_count": 55,
   "metadata": {},
   "outputs": [
    {
     "data": {
      "text/plain": [
       "27350.77735387094"
      ]
     },
     "execution_count": 55,
     "metadata": {},
     "output_type": "execute_result"
    }
   ],
   "source": [
    "np.sqrt(abs(cross_val_score(Ridge(alpha=ridge_cv.alpha_), X_train_transformed, y_train, cv=50, scoring='neg_mean_squared_error').mean()))"
   ]
  },
  {
   "cell_type": "code",
   "execution_count": 56,
   "metadata": {},
   "outputs": [],
   "source": [
    "# use the optimal alpha into the actual Ridge model\n",
    "ridge = Ridge(alpha=ridge_cv.alpha_)\n",
    "\n",
    "# fit train set\n",
    "ridge.fit(X_train_transformed, y_train)\n",
    "\n",
    "# predict on the holdout set\n",
    "ridge_pred = ridge.predict(X_holdout_transformed)"
   ]
  },
  {
   "cell_type": "code",
   "execution_count": 57,
   "metadata": {},
   "outputs": [
    {
     "name": "stdout",
     "output_type": "stream",
     "text": [
      "Ridge regression using optimal alpha, RMSE:  33404.77010596892\n"
     ]
    }
   ],
   "source": [
    "print('Ridge regression using optimal alpha, RMSE: ', np.sqrt(mean_squared_error(y_holdout, ridge_pred)) )"
   ]
  },
  {
   "cell_type": "code",
   "execution_count": 58,
   "metadata": {},
   "outputs": [
    {
     "data": {
      "text/html": [
       "<div>\n",
       "<style scoped>\n",
       "    .dataframe tbody tr th:only-of-type {\n",
       "        vertical-align: middle;\n",
       "    }\n",
       "\n",
       "    .dataframe tbody tr th {\n",
       "        vertical-align: top;\n",
       "    }\n",
       "\n",
       "    .dataframe thead th {\n",
       "        text-align: right;\n",
       "    }\n",
       "</style>\n",
       "<table border=\"1\" class=\"dataframe\">\n",
       "  <thead>\n",
       "    <tr style=\"text-align: right;\">\n",
       "      <th></th>\n",
       "      <th>Features</th>\n",
       "      <th>Coefficient</th>\n",
       "    </tr>\n",
       "  </thead>\n",
       "  <tbody>\n",
       "    <tr>\n",
       "      <th>28</th>\n",
       "      <td>Roof Matl_WdShngl</td>\n",
       "      <td>65857.955534</td>\n",
       "    </tr>\n",
       "    <tr>\n",
       "      <th>11</th>\n",
       "      <td>Sale Type_Con</td>\n",
       "      <td>37626.953435</td>\n",
       "    </tr>\n",
       "    <tr>\n",
       "      <th>15</th>\n",
       "      <td>Sale Type_New</td>\n",
       "      <td>36313.710199</td>\n",
       "    </tr>\n",
       "    <tr>\n",
       "      <th>25</th>\n",
       "      <td>Roof Matl_Membran</td>\n",
       "      <td>32916.055747</td>\n",
       "    </tr>\n",
       "    <tr>\n",
       "      <th>0</th>\n",
       "      <td>Gr Liv Area</td>\n",
       "      <td>32163.854024</td>\n",
       "    </tr>\n",
       "  </tbody>\n",
       "</table>\n",
       "</div>"
      ],
      "text/plain": [
       "             Features   Coefficient\n",
       "28  Roof Matl_WdShngl  65857.955534\n",
       "11      Sale Type_Con  37626.953435\n",
       "15      Sale Type_New  36313.710199\n",
       "25  Roof Matl_Membran  32916.055747\n",
       "0         Gr Liv Area  32163.854024"
      ]
     },
     "execution_count": 58,
     "metadata": {},
     "output_type": "execute_result"
    }
   ],
   "source": [
    "pd.DataFrame({'Features':transformed_column_list, 'Coefficient':ridge.coef_}).sort_values(by='Coefficient', ascending=False).head()"
   ]
  },
  {
   "cell_type": "markdown",
   "metadata": {},
   "source": [
    "- As the Roof Matl_WdShngl feature increase by one unit, then the 'SalePrice' increase by $65857.96 which is the Coefficient.\n",
    "- Above is the top 5 features with coefficient that have most postive correlation to 'SalePrice' using Ridge Regression"
   ]
  },
  {
   "cell_type": "code",
   "execution_count": 59,
   "metadata": {},
   "outputs": [
    {
     "data": {
      "text/html": [
       "<div>\n",
       "<style scoped>\n",
       "    .dataframe tbody tr th:only-of-type {\n",
       "        vertical-align: middle;\n",
       "    }\n",
       "\n",
       "    .dataframe tbody tr th {\n",
       "        vertical-align: top;\n",
       "    }\n",
       "\n",
       "    .dataframe thead th {\n",
       "        text-align: right;\n",
       "    }\n",
       "</style>\n",
       "<table border=\"1\" class=\"dataframe\">\n",
       "  <thead>\n",
       "    <tr style=\"text-align: right;\">\n",
       "      <th></th>\n",
       "      <th>Features</th>\n",
       "      <th>Coefficient</th>\n",
       "    </tr>\n",
       "  </thead>\n",
       "  <tbody>\n",
       "    <tr>\n",
       "      <th>20</th>\n",
       "      <td>House Style_2.5Fin</td>\n",
       "      <td>-15642.961589</td>\n",
       "    </tr>\n",
       "    <tr>\n",
       "      <th>2</th>\n",
       "      <td>age of house</td>\n",
       "      <td>-7707.819076</td>\n",
       "    </tr>\n",
       "    <tr>\n",
       "      <th>27</th>\n",
       "      <td>Roof Matl_WdShake</td>\n",
       "      <td>-4822.949306</td>\n",
       "    </tr>\n",
       "    <tr>\n",
       "      <th>22</th>\n",
       "      <td>House Style_2Story</td>\n",
       "      <td>-1163.638697</td>\n",
       "    </tr>\n",
       "    <tr>\n",
       "      <th>9</th>\n",
       "      <td>Sale Type</td>\n",
       "      <td>-543.269102</td>\n",
       "    </tr>\n",
       "  </tbody>\n",
       "</table>\n",
       "</div>"
      ],
      "text/plain": [
       "              Features   Coefficient\n",
       "20  House Style_2.5Fin -15642.961589\n",
       "2         age of house  -7707.819076\n",
       "27   Roof Matl_WdShake  -4822.949306\n",
       "22  House Style_2Story  -1163.638697\n",
       "9            Sale Type   -543.269102"
      ]
     },
     "execution_count": 59,
     "metadata": {},
     "output_type": "execute_result"
    }
   ],
   "source": [
    "pd.DataFrame({'Features':transformed_column_list, 'Coefficient':ridge.coef_}).sort_values(by='Coefficient', ascending=True).head()"
   ]
  },
  {
   "cell_type": "markdown",
   "metadata": {},
   "source": [
    "- As the House Style_2.5Fin feature increase by one unit, then the 'SalePrice' decrease by $15642.96 which is the Coefficient.\n",
    "- Above is the top 5 features with coefficient that have most negative correlation to 'SalePrice' using Lasso Regression"
   ]
  },
  {
   "cell_type": "markdown",
   "metadata": {},
   "source": [
    "### 10.Comparing RMSE of different Regression models on holdout set"
   ]
  },
  {
   "cell_type": "markdown",
   "metadata": {},
   "source": [
    "\n",
    "\n",
    "|Regression Algoritms  | RMSE Score on holdout set  | Remarks  | \n",
    "|---|---|---|\n",
    "|Lasso Regression   | 27979  | Lowest RMSE score hence selected  | \n",
    "|Ridge Regression   | 33404  |   |   \n",
    "|Linear Regression   |38715  |   |  "
   ]
  },
  {
   "cell_type": "markdown",
   "metadata": {},
   "source": [
    "- Based on the above table, Lasso Regression produced the lowest RMSE score.\n",
    "- Hence Lasso Regression performs better on the holdout set than Ridge or Linear Regression\n",
    "- Lasso Regression with the optimal alpha will be chosen to use on the test set and Kaggle Submission"
   ]
  },
  {
   "cell_type": "markdown",
   "metadata": {},
   "source": [
    "### 11.Preprocessing on train set"
   ]
  },
  {
   "cell_type": "code",
   "execution_count": 66,
   "metadata": {},
   "outputs": [],
   "source": [
    "# same numerical and categorical variables chosen for the train set\n",
    "\n",
    "numerical_variables=['Gr Liv Area', 'Garage Area','age of house','Mas Vnr Area', 'BsmtFin SF 1', 'Total Bsmt SF','Overall Qual','Overall Cond','Exter Qual', 'TotRms AbvGrd']\n",
    "categorical_variables=['Sale Type','House Style', 'Roof Matl']"
   ]
  },
  {
   "cell_type": "code",
   "execution_count": 68,
   "metadata": {},
   "outputs": [],
   "source": [
    "# target array\n",
    "y_train = train_cleaned['SalePrice']"
   ]
  },
  {
   "cell_type": "code",
   "execution_count": 67,
   "metadata": {},
   "outputs": [],
   "source": [
    "from sklearn.preprocessing import StandardScaler\n",
    "scaler = StandardScaler()\n",
    "\n",
    "# fit_transform the entire train dataset on their numerical variables\n",
    "train_scaled = scaler.fit_transform(train_cleaned[numerical_variables])\n",
    "train_scaled = pd.DataFrame(train_scaled)\n",
    "\n",
    "# get_dummies the entire train dataset on their categorical variables\n",
    "train_dum =pd.get_dummies(train_cleaned[categorical_variables], drop_first=True).reset_index(drop=True)\n",
    "\n",
    "# concatenate back into the train set\n",
    "train_transformed = pd.concat([train_scaled ,train_dum], axis=1)"
   ]
  },
  {
   "cell_type": "code",
   "execution_count": 69,
   "metadata": {},
   "outputs": [],
   "source": [
    "# test set, so we transform only for StandardScaling\n",
    "test_scaled = scaler.transform(test_cleaned[numerical_variables])\n",
    "\n",
    "# get_dummies the entire test dataset on their categorical variables\n",
    "test_scaled = pd.DataFrame(test_scaled)\n",
    "test_dum =pd.get_dummies(test_cleaned[categorical_variables], drop_first=True).reset_index(drop=True)\n",
    "\n",
    "# concatenate back into the train set\n",
    "test_transformed = pd.concat([test_scaled ,test_dum], axis=1)"
   ]
  },
  {
   "cell_type": "code",
   "execution_count": 70,
   "metadata": {},
   "outputs": [
    {
     "name": "stdout",
     "output_type": "stream",
     "text": [
      "train_transformed.shape : (2044, 29)\n",
      "test_transformed.shape : (879, 31)\n"
     ]
    }
   ],
   "source": [
    "print('train_transformed.shape :',train_transformed.shape)\n",
    "print('test_transformed.shape :',test_transformed.shape)"
   ]
  },
  {
   "cell_type": "code",
   "execution_count": 71,
   "metadata": {},
   "outputs": [
    {
     "name": "stdout",
     "output_type": "stream",
     "text": [
      "train_transformed.shape : (2044, 31)\n",
      "test_transformed.shape : (879, 31)\n"
     ]
    }
   ],
   "source": [
    "# add columns to train set\n",
    "\n",
    "train_transformed['extra_dum']=0\n",
    "train_transformed['extra_dum 2']=0\n",
    "\n",
    "print('train_transformed.shape :',train_transformed.shape)\n",
    "print('test_transformed.shape :',test_transformed.shape)"
   ]
  },
  {
   "cell_type": "markdown",
   "metadata": {},
   "source": [
    "### 12.Fit the entire Train set and predict the Test set"
   ]
  },
  {
   "cell_type": "code",
   "execution_count": 72,
   "metadata": {},
   "outputs": [],
   "source": [
    "# instantiate the Lasso model with the optimal alpha found from lassoCV\n",
    "lasso = Lasso(alpha=lasso_cv.alpha_)\n",
    "\n",
    "# fit the entire train_transformed and y_train dataset into the lasso model\n",
    "lasso.fit(train_transformed, y_train)\n",
    "\n",
    "# predict the score based on y_test\n",
    "lasso_pred = lasso.predict(test_transformed)"
   ]
  },
  {
   "cell_type": "markdown",
   "metadata": {},
   "source": [
    "### 13.Create Submission to Kaggle"
   ]
  },
  {
   "cell_type": "code",
   "execution_count": 73,
   "metadata": {},
   "outputs": [],
   "source": [
    "test =pd.read_csv('./datasets/test.csv')"
   ]
  },
  {
   "cell_type": "code",
   "execution_count": 74,
   "metadata": {},
   "outputs": [
    {
     "data": {
      "text/html": [
       "<div>\n",
       "<style scoped>\n",
       "    .dataframe tbody tr th:only-of-type {\n",
       "        vertical-align: middle;\n",
       "    }\n",
       "\n",
       "    .dataframe tbody tr th {\n",
       "        vertical-align: top;\n",
       "    }\n",
       "\n",
       "    .dataframe thead th {\n",
       "        text-align: right;\n",
       "    }\n",
       "</style>\n",
       "<table border=\"1\" class=\"dataframe\">\n",
       "  <thead>\n",
       "    <tr style=\"text-align: right;\">\n",
       "      <th></th>\n",
       "      <th>Id</th>\n",
       "      <th>SalePrice</th>\n",
       "    </tr>\n",
       "  </thead>\n",
       "  <tbody>\n",
       "    <tr>\n",
       "      <th>0</th>\n",
       "      <td>2658</td>\n",
       "      <td>175905.080579</td>\n",
       "    </tr>\n",
       "    <tr>\n",
       "      <th>1</th>\n",
       "      <td>2718</td>\n",
       "      <td>179504.671353</td>\n",
       "    </tr>\n",
       "    <tr>\n",
       "      <th>2</th>\n",
       "      <td>2414</td>\n",
       "      <td>222017.156549</td>\n",
       "    </tr>\n",
       "    <tr>\n",
       "      <th>3</th>\n",
       "      <td>1989</td>\n",
       "      <td>116636.605911</td>\n",
       "    </tr>\n",
       "    <tr>\n",
       "      <th>4</th>\n",
       "      <td>625</td>\n",
       "      <td>173536.012252</td>\n",
       "    </tr>\n",
       "  </tbody>\n",
       "</table>\n",
       "</div>"
      ],
      "text/plain": [
       "     Id      SalePrice\n",
       "0  2658  175905.080579\n",
       "1  2718  179504.671353\n",
       "2  2414  222017.156549\n",
       "3  1989  116636.605911\n",
       "4   625  173536.012252"
      ]
     },
     "execution_count": 74,
     "metadata": {},
     "output_type": "execute_result"
    }
   ],
   "source": [
    "my_submission = pd.DataFrame({'Id':test['Id'], 'SalePrice': lasso_pred})\n",
    "\n",
    "\n",
    "my_submission.to_csv('mysubmission.csv', index=False)\n",
    "pd.read_csv(\"mysubmission.csv\").head()"
   ]
  },
  {
   "cell_type": "markdown",
   "metadata": {},
   "source": [
    "### 14.Result Obtained from Kaggle Submission\n",
    "\n",
    "- RMSE score on Kaggle is 30591 usd using Lasso Regression with optimal alpha used earlier\n",
    "- RMSE score on test dataset from Kaggle is higher than holdout set.\n",
    "- This is because test dataset is unseen data, there are many factors that my Lasso Regression perform better on the holdout set. One reason could be that the data cleaning was done before train_test_split or too many outliers were removed.\n"
   ]
  },
  {
   "cell_type": "markdown",
   "metadata": {},
   "source": [
    "### 15.Conclusions\n",
    "- the above chosen variables can estimate the prediction of 'SalePrice' with a RMSE of 30591 usd\n",
    "- Exploratory Data Analysis helps to eliminate obvious variables that do not help in predicting 'SalePrice' by visual inference\n",
    "- There is a balance between how many Outliers should be removed or stay in the dataset, they will affect prediction of 'SalePrice' and the unseen data might have outlier datapoints too.\n",
    "- Even though Ordinal columns are categorical, they can be mapped with values to show order and be used in Standard Scaling to reflect relationship to each other\n",
    "- Lasso & Ridge Regression introduce regularization and helps avoid overfitting like the Linear Regression.\n",
    "- Lasso Regression produced a better RMSE score that Ridge Regression as Lasso will shrink the unimportant features to 0, this minimises RMSE.\n",
    "- Current model may generalise to new data, this is because the first 10 times submission to Kaggle(I did not scale the categorical & numerical variables correctly) the following few submissions were based on doing the correct preprocessing."
   ]
  },
  {
   "cell_type": "markdown",
   "metadata": {},
   "source": [
    "### 16.Recommendations\n",
    "- Interested buyers may use this model to predict the estimate 'SalePrice' for houses in Ames.\n",
    "- Sellers may use this model to predict how much they can offer their houses for sale.\n",
    "- In addition, Real estate agents can estimate which features contribute to 'SalePrice' and may provide advice to to buyers/sellers why that house is priced at that estimated value.\n"
   ]
  }
 ],
 "metadata": {
  "kernelspec": {
   "display_name": "Python 3",
   "language": "python",
   "name": "python3"
  },
  "language_info": {
   "codemirror_mode": {
    "name": "ipython",
    "version": 3
   },
   "file_extension": ".py",
   "mimetype": "text/x-python",
   "name": "python",
   "nbconvert_exporter": "python",
   "pygments_lexer": "ipython3",
   "version": "3.8.5"
  }
 },
 "nbformat": 4,
 "nbformat_minor": 4
}
