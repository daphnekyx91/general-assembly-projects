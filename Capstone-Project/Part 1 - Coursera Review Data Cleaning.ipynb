{
 "cells": [
  {
   "cell_type": "markdown",
   "metadata": {},
   "source": [
    "## Problem Statement\n",
    "\n",
    "Coursera is a massive open online course (MOOC) platform that offers online courses, certifcations in collaboration with other recognised universities and business organisations. As the courses are conducted online, they are highly accessible to students around the world. \n",
    "\n",
    "There has been a surge in MOOC participation and service providers, and the MOOC industry is forecasted to reach USD 18925.18 million and 100 million learners by 2026. With the rise of the 4th Industrial revolution, more employers are upgrading their skillsets to deal with the ever-changing technological disruption in their industries. In addition, due to the unfortunate outbreak of Covid-19 in 2020, momentum towards online learning as exponentially grown as it reduces the risk associated with in-person teaching.\n",
    "\n",
    "As MOOCs are conducted remotely, feedback from the course content are in the form of `rating` and `reviews` submitted by students.\n",
    "In this project, we attempt to analyse what are the `reviews` that leads to the different `rating` *(For example, why did this reviewer rate 5(highest)) but the other reviewer rate less than 5* and find the best classification models that can classify submitted `reviews` to their corresponding `rating`.From understanding what words help to classify 5.0 rating, we can improve MOOC satisfaction.\n",
    "\n",
    "In addition, this project also attempt to generate fake positive reviews using Recurrent Neural Network.\n",
    "\n",
    "## Executive Summary\n",
    "\n",
    "In this capstone project, datasets **Coursera_courses.csv** and **Coursera_reviews.csv** are used from [Kaggle](https://www.kaggle.com/imuhammad/course-reviews-on-coursera?select=Coursera_reviews.csv). **Coursera_courses.csv** contains data like the course name and institutions while **Coursera_reviews.csv** contain reviews and rating left by each reviewer.\n",
    "Both of the datasets are merged on the 'key' column. Now the dataset is combined into 1 dataframe.\n",
    "\n",
    "There were reviews left in other languages and a combination of NLP libraries are used to translate `reviews` to english.\n",
    "**Regular Expression** is used to clean up the text. **nltk.corpus** is used to filter out the non-english `reviews`.\n",
    "**SpaCy** is used to detect the different languages. **google_trans_new** is a free python API for google translate,\n",
    "the non-english `reviews` are translated in separate batches to prevent exceeding the request limit.\n",
    "\n",
    "After the translation is complete, duplicated posts are removed and minimum 'count of words'= 5 are used. `Reviews` with `rating` 5.0 are mapped to 1 while `Reviews` with `rating`less than 5.0 are mapped to 0. The `reviews` are further preprocessed to remove digits, symbols and url links. `Reviews` with and without `rating` 5 and plotted on **WordClouds** - visual representations of words that give greater prominence to words that appear more frequently. This provides a visual signal of which words may help in classifying the 2 types of reviews. **pyLDAvis** is also used to interprete possible topics from the `reviews`.\n",
    "\n",
    "The dataframe is then split into random train and test subsets using train_test_split.The `reviews` are preprocessed further using Porter Stemmer to generate the root form of the inflected words. Countvectorizer is used to convert the text in `reviews` to numerical data before using different Classification models for binary classification.\n",
    "\n",
    "There were many Classification models used: Logistic Regression, MultinomialNB Classification, Decision Tree Classifier, Random Forest Classifier, AdaBoost Classifier, XGBoost Classifier. With high accuracy score and ability to generalise to unseen data compared to other models (the delta between train and test accuracy score) and low False Positive rate as our consideration, **Multinomial NB** showed the high accuracy in classifying the `Reviews` with `rating` 5.0 (mapped to 1) and `Reviews` with `rating`less than 5.0 (mapped to 0) and has the lowest False Positive rate.\n",
    "\n",
    "In addition to classification of  `reviews`, this Capstone project also explored Text generation using Recurrent Neural Network(RNN). With tutorials from [keras.io](https://keras.io/) and fine-tuning, the text generated were easily understood and were able to generate reviews-like text.Recurrent Neural Network with 2 LSTM layer with Dropout of 0.2 is found to have the most readable text. However, more research and fine-tuning are required to produce grammatically correct reviews."
   ]
  },
  {
   "cell_type": "markdown",
   "metadata": {},
   "source": [
    "### Content\n",
    "- [1. Standard Imports](#1.-Standard-Imports)\n",
    "- [2. Data Import for Coursera_courses.csv and Coursera_reviews.csv](#2.-Data-Import)\n",
    "- [3. Merging Datasets into 1 DataFrame](#3.-Merging-Datasets-into-1-DataFrame)\n",
    "- [4. Addressing the null values](#4.-Addressing-the-null-values)\n",
    "- [5. Understanding the Dataset](#5.-Understanding-the-Dataset)\n",
    "  - [5.1 name](#5.1-name)\n",
    "  - [5.2 institution](#5.2-institution)\n",
    "  - [5.3 course_url & course_id](#5.3-course-url-&-course-id)\n",
    "  - [5.4 reviews](#5.4-reviews)\n",
    "  - [5.5 reviewers](#5.5-reviewers)\n",
    "  - [5.6 date_reviews](#5.6-date-reviews)\n",
    "  - [5.7 rating](#5.7-rating)\n",
    "- [6. Insights from entire Dataset](#6.-Insights-from-entire-Dataset)\n",
    "- [7. Data Export to csv file](#7.-Data-Export-to-csv-file)"
   ]
  },
  {
   "cell_type": "markdown",
   "metadata": {},
   "source": [
    "### 1. Standard Imports"
   ]
  },
  {
   "cell_type": "code",
   "execution_count": 1,
   "metadata": {},
   "outputs": [],
   "source": [
    "# https://www.kaggle.com/imuhammad/course-reviews-on-coursera?select=Coursera_reviews.csv\n",
    "\n",
    "# IMPORTS\n",
    "import pandas as pd\n",
    "import numpy as np\n",
    "import matplotlib.pyplot as plt\n",
    "%matplotlib inline\n",
    "import seaborn as sns\n",
    "\n",
    "# import datetime\n",
    "from datetime import datetime"
   ]
  },
  {
   "cell_type": "markdown",
   "metadata": {},
   "source": [
    "### 2. Data Import"
   ]
  },
  {
   "cell_type": "code",
   "execution_count": 2,
   "metadata": {},
   "outputs": [
    {
     "data": {
      "text/html": [
       "<div>\n",
       "<style scoped>\n",
       "    .dataframe tbody tr th:only-of-type {\n",
       "        vertical-align: middle;\n",
       "    }\n",
       "\n",
       "    .dataframe tbody tr th {\n",
       "        vertical-align: top;\n",
       "    }\n",
       "\n",
       "    .dataframe thead th {\n",
       "        text-align: right;\n",
       "    }\n",
       "</style>\n",
       "<table border=\"1\" class=\"dataframe\">\n",
       "  <thead>\n",
       "    <tr style=\"text-align: right;\">\n",
       "      <th></th>\n",
       "      <th>name</th>\n",
       "      <th>institution</th>\n",
       "      <th>course_url</th>\n",
       "      <th>course_id</th>\n",
       "    </tr>\n",
       "  </thead>\n",
       "  <tbody>\n",
       "    <tr>\n",
       "      <th>0</th>\n",
       "      <td>Machine Learning</td>\n",
       "      <td>Stanford University</td>\n",
       "      <td>https://www.coursera.org/learn/machine-learning</td>\n",
       "      <td>machine-learning</td>\n",
       "    </tr>\n",
       "    <tr>\n",
       "      <th>1</th>\n",
       "      <td>Indigenous Canada</td>\n",
       "      <td>University of Alberta</td>\n",
       "      <td>https://www.coursera.org/learn/indigenous-canada</td>\n",
       "      <td>indigenous-canada</td>\n",
       "    </tr>\n",
       "    <tr>\n",
       "      <th>2</th>\n",
       "      <td>The Science of Well-Being</td>\n",
       "      <td>Yale University</td>\n",
       "      <td>https://www.coursera.org/learn/the-science-of-...</td>\n",
       "      <td>the-science-of-well-being</td>\n",
       "    </tr>\n",
       "    <tr>\n",
       "      <th>3</th>\n",
       "      <td>Technical Support Fundamentals</td>\n",
       "      <td>Google</td>\n",
       "      <td>https://www.coursera.org/learn/technical-suppo...</td>\n",
       "      <td>technical-support-fundamentals</td>\n",
       "    </tr>\n",
       "    <tr>\n",
       "      <th>4</th>\n",
       "      <td>Become a CBRS Certified Professional Installer...</td>\n",
       "      <td>Google - Spectrum Sharing</td>\n",
       "      <td>https://www.coursera.org/learn/google-cbrs-cpi...</td>\n",
       "      <td>google-cbrs-cpi-training</td>\n",
       "    </tr>\n",
       "  </tbody>\n",
       "</table>\n",
       "</div>"
      ],
      "text/plain": [
       "                                                name  \\\n",
       "0                                   Machine Learning   \n",
       "1                                  Indigenous Canada   \n",
       "2                          The Science of Well-Being   \n",
       "3                     Technical Support Fundamentals   \n",
       "4  Become a CBRS Certified Professional Installer...   \n",
       "\n",
       "                 institution  \\\n",
       "0        Stanford University   \n",
       "1      University of Alberta   \n",
       "2            Yale University   \n",
       "3                     Google   \n",
       "4  Google - Spectrum Sharing   \n",
       "\n",
       "                                          course_url  \\\n",
       "0    https://www.coursera.org/learn/machine-learning   \n",
       "1   https://www.coursera.org/learn/indigenous-canada   \n",
       "2  https://www.coursera.org/learn/the-science-of-...   \n",
       "3  https://www.coursera.org/learn/technical-suppo...   \n",
       "4  https://www.coursera.org/learn/google-cbrs-cpi...   \n",
       "\n",
       "                        course_id  \n",
       "0                machine-learning  \n",
       "1               indigenous-canada  \n",
       "2       the-science-of-well-being  \n",
       "3  technical-support-fundamentals  \n",
       "4        google-cbrs-cpi-training  "
      ]
     },
     "execution_count": 2,
     "metadata": {},
     "output_type": "execute_result"
    }
   ],
   "source": [
    "courses = pd.read_csv('Coursera_courses.csv')\n",
    "courses.head()"
   ]
  },
  {
   "cell_type": "code",
   "execution_count": 3,
   "metadata": {},
   "outputs": [
    {
     "data": {
      "text/html": [
       "<div>\n",
       "<style scoped>\n",
       "    .dataframe tbody tr th:only-of-type {\n",
       "        vertical-align: middle;\n",
       "    }\n",
       "\n",
       "    .dataframe tbody tr th {\n",
       "        vertical-align: top;\n",
       "    }\n",
       "\n",
       "    .dataframe thead th {\n",
       "        text-align: right;\n",
       "    }\n",
       "</style>\n",
       "<table border=\"1\" class=\"dataframe\">\n",
       "  <thead>\n",
       "    <tr style=\"text-align: right;\">\n",
       "      <th></th>\n",
       "      <th>reviews</th>\n",
       "      <th>reviewers</th>\n",
       "      <th>date_reviews</th>\n",
       "      <th>rating</th>\n",
       "      <th>course_id</th>\n",
       "    </tr>\n",
       "  </thead>\n",
       "  <tbody>\n",
       "    <tr>\n",
       "      <th>0</th>\n",
       "      <td>Pretty dry, but I was able to pass with just t...</td>\n",
       "      <td>By Robert S</td>\n",
       "      <td>Feb 12, 2020</td>\n",
       "      <td>4</td>\n",
       "      <td>google-cbrs-cpi-training</td>\n",
       "    </tr>\n",
       "    <tr>\n",
       "      <th>1</th>\n",
       "      <td>would be a better experience if the video and ...</td>\n",
       "      <td>By Gabriel E R</td>\n",
       "      <td>Sep 28, 2020</td>\n",
       "      <td>4</td>\n",
       "      <td>google-cbrs-cpi-training</td>\n",
       "    </tr>\n",
       "    <tr>\n",
       "      <th>2</th>\n",
       "      <td>Information was perfect! The program itself wa...</td>\n",
       "      <td>By Jacob D</td>\n",
       "      <td>Apr 08, 2020</td>\n",
       "      <td>4</td>\n",
       "      <td>google-cbrs-cpi-training</td>\n",
       "    </tr>\n",
       "    <tr>\n",
       "      <th>3</th>\n",
       "      <td>A few grammatical mistakes on test made me do ...</td>\n",
       "      <td>By Dale B</td>\n",
       "      <td>Feb 24, 2020</td>\n",
       "      <td>4</td>\n",
       "      <td>google-cbrs-cpi-training</td>\n",
       "    </tr>\n",
       "    <tr>\n",
       "      <th>4</th>\n",
       "      <td>Excellent course and the training provided was...</td>\n",
       "      <td>By Sean G</td>\n",
       "      <td>Jun 18, 2020</td>\n",
       "      <td>4</td>\n",
       "      <td>google-cbrs-cpi-training</td>\n",
       "    </tr>\n",
       "  </tbody>\n",
       "</table>\n",
       "</div>"
      ],
      "text/plain": [
       "                                             reviews       reviewers  \\\n",
       "0  Pretty dry, but I was able to pass with just t...     By Robert S   \n",
       "1  would be a better experience if the video and ...  By Gabriel E R   \n",
       "2  Information was perfect! The program itself wa...      By Jacob D   \n",
       "3  A few grammatical mistakes on test made me do ...       By Dale B   \n",
       "4  Excellent course and the training provided was...       By Sean G   \n",
       "\n",
       "   date_reviews  rating                 course_id  \n",
       "0  Feb 12, 2020       4  google-cbrs-cpi-training  \n",
       "1  Sep 28, 2020       4  google-cbrs-cpi-training  \n",
       "2  Apr 08, 2020       4  google-cbrs-cpi-training  \n",
       "3  Feb 24, 2020       4  google-cbrs-cpi-training  \n",
       "4  Jun 18, 2020       4  google-cbrs-cpi-training  "
      ]
     },
     "execution_count": 3,
     "metadata": {},
     "output_type": "execute_result"
    }
   ],
   "source": [
    "reviews = pd.read_csv('Coursera_reviews.csv')\n",
    "reviews.head()"
   ]
  },
  {
   "cell_type": "markdown",
   "metadata": {},
   "source": [
    "### 3. Merging Datasets into 1 DataFrame"
   ]
  },
  {
   "cell_type": "code",
   "execution_count": 11,
   "metadata": {},
   "outputs": [
    {
     "data": {
      "text/plain": [
       "(1454730, 8)"
      ]
     },
     "execution_count": 11,
     "metadata": {},
     "output_type": "execute_result"
    }
   ],
   "source": [
    "# merge both course and reviews together\n",
    "# use outer join to include null values\n",
    "df = pd.merge(courses, reviews, how='outer', left_on='course_id', right_on='course_id')\n",
    "\n",
    "# there is 1.4 million rows and 8 columns\n",
    "df.shape"
   ]
  },
  {
   "cell_type": "code",
   "execution_count": 12,
   "metadata": {},
   "outputs": [
    {
     "data": {
      "text/plain": [
       "(519966, 8)"
      ]
     },
     "execution_count": 12,
     "metadata": {},
     "output_type": "execute_result"
    }
   ],
   "source": [
    "# remove duplicate posts first\n",
    "df.drop_duplicates(inplace=True)\n",
    "\n",
    "# after dropping duplicates, there is 500K+ rows and 8 columns\n",
    "df.shape"
   ]
  },
  {
   "cell_type": "markdown",
   "metadata": {},
   "source": [
    "After merging the 2 datasets `Coursera_courses.csv` & `Coursera_reviews.csv` and removing duplicated rows:\n",
    "    The shape of dataframe is (519966, 8)"
   ]
  },
  {
   "cell_type": "code",
   "execution_count": 13,
   "metadata": {},
   "outputs": [
    {
     "name": "stdout",
     "output_type": "stream",
     "text": [
      "<class 'pandas.core.frame.DataFrame'>\n",
      "Int64Index: 519966 entries, 0 to 1454729\n",
      "Data columns (total 8 columns):\n",
      " #   Column        Non-Null Count   Dtype  \n",
      "---  ------        --------------   -----  \n",
      " 0   name          519966 non-null  object \n",
      " 1   institution   519966 non-null  object \n",
      " 2   course_url    519966 non-null  object \n",
      " 3   course_id     519966 non-null  object \n",
      " 4   reviews       519891 non-null  object \n",
      " 5   reviewers     519947 non-null  object \n",
      " 6   date_reviews  519947 non-null  object \n",
      " 7   rating        519947 non-null  float64\n",
      "dtypes: float64(1), object(7)\n",
      "memory usage: 35.7+ MB\n"
     ]
    }
   ],
   "source": [
    "# check the dtype of columns in df dataframe\n",
    "# check the presence non-null values in df, this will be addressed later\n",
    "df.info()"
   ]
  },
  {
   "cell_type": "code",
   "execution_count": 14,
   "metadata": {},
   "outputs": [
    {
     "data": {
      "text/html": [
       "<div>\n",
       "<style scoped>\n",
       "    .dataframe tbody tr th:only-of-type {\n",
       "        vertical-align: middle;\n",
       "    }\n",
       "\n",
       "    .dataframe tbody tr th {\n",
       "        vertical-align: top;\n",
       "    }\n",
       "\n",
       "    .dataframe thead th {\n",
       "        text-align: right;\n",
       "    }\n",
       "</style>\n",
       "<table border=\"1\" class=\"dataframe\">\n",
       "  <thead>\n",
       "    <tr style=\"text-align: right;\">\n",
       "      <th></th>\n",
       "      <th>columns</th>\n",
       "      <th>count of unique value</th>\n",
       "    </tr>\n",
       "  </thead>\n",
       "  <tbody>\n",
       "    <tr>\n",
       "      <th>0</th>\n",
       "      <td>name</td>\n",
       "      <td>622</td>\n",
       "    </tr>\n",
       "    <tr>\n",
       "      <th>1</th>\n",
       "      <td>institution</td>\n",
       "      <td>134</td>\n",
       "    </tr>\n",
       "    <tr>\n",
       "      <th>2</th>\n",
       "      <td>course_url</td>\n",
       "      <td>623</td>\n",
       "    </tr>\n",
       "    <tr>\n",
       "      <th>3</th>\n",
       "      <td>course_id</td>\n",
       "      <td>623</td>\n",
       "    </tr>\n",
       "    <tr>\n",
       "      <th>4</th>\n",
       "      <td>reviews</td>\n",
       "      <td>458278</td>\n",
       "    </tr>\n",
       "    <tr>\n",
       "      <th>5</th>\n",
       "      <td>reviewers</td>\n",
       "      <td>287809</td>\n",
       "    </tr>\n",
       "    <tr>\n",
       "      <th>6</th>\n",
       "      <td>date_reviews</td>\n",
       "      <td>1893</td>\n",
       "    </tr>\n",
       "    <tr>\n",
       "      <th>7</th>\n",
       "      <td>rating</td>\n",
       "      <td>6</td>\n",
       "    </tr>\n",
       "  </tbody>\n",
       "</table>\n",
       "</div>"
      ],
      "text/plain": [
       "        columns  count of unique value\n",
       "0          name                    622\n",
       "1   institution                    134\n",
       "2    course_url                    623\n",
       "3     course_id                    623\n",
       "4       reviews                 458278\n",
       "5     reviewers                 287809\n",
       "6  date_reviews                   1893\n",
       "7        rating                      6"
      ]
     },
     "execution_count": 14,
     "metadata": {},
     "output_type": "execute_result"
    }
   ],
   "source": [
    "# list of columns, df.columns\n",
    "unique_value = list()\n",
    "\n",
    "for col in df:\n",
    "    unique_value.append(len(df[col].unique()))\n",
    "\n",
    "pd.DataFrame({'columns': df.columns,\n",
    "              'count of unique value': unique_value})"
   ]
  },
  {
   "cell_type": "markdown",
   "metadata": {},
   "source": [
    " - `name`,`institution`, `course_ur`,`course_id` they refer to course data.\n",
    " - `reviews` are unique as they are different sentences\n",
    " - `rating` refers to rating 1 to 5"
   ]
  },
  {
   "cell_type": "code",
   "execution_count": 15,
   "metadata": {},
   "outputs": [
    {
     "data": {
      "text/html": [
       "<div>\n",
       "<style scoped>\n",
       "    .dataframe tbody tr th:only-of-type {\n",
       "        vertical-align: middle;\n",
       "    }\n",
       "\n",
       "    .dataframe tbody tr th {\n",
       "        vertical-align: top;\n",
       "    }\n",
       "\n",
       "    .dataframe thead th {\n",
       "        text-align: right;\n",
       "    }\n",
       "</style>\n",
       "<table border=\"1\" class=\"dataframe\">\n",
       "  <thead>\n",
       "    <tr style=\"text-align: right;\">\n",
       "      <th></th>\n",
       "      <th>rating</th>\n",
       "    </tr>\n",
       "  </thead>\n",
       "  <tbody>\n",
       "    <tr>\n",
       "      <th>count</th>\n",
       "      <td>519947.000000</td>\n",
       "    </tr>\n",
       "    <tr>\n",
       "      <th>mean</th>\n",
       "      <td>4.689243</td>\n",
       "    </tr>\n",
       "    <tr>\n",
       "      <th>std</th>\n",
       "      <td>0.710876</td>\n",
       "    </tr>\n",
       "    <tr>\n",
       "      <th>min</th>\n",
       "      <td>1.000000</td>\n",
       "    </tr>\n",
       "    <tr>\n",
       "      <th>25%</th>\n",
       "      <td>5.000000</td>\n",
       "    </tr>\n",
       "    <tr>\n",
       "      <th>50%</th>\n",
       "      <td>5.000000</td>\n",
       "    </tr>\n",
       "    <tr>\n",
       "      <th>75%</th>\n",
       "      <td>5.000000</td>\n",
       "    </tr>\n",
       "    <tr>\n",
       "      <th>max</th>\n",
       "      <td>5.000000</td>\n",
       "    </tr>\n",
       "  </tbody>\n",
       "</table>\n",
       "</div>"
      ],
      "text/plain": [
       "              rating\n",
       "count  519947.000000\n",
       "mean        4.689243\n",
       "std         0.710876\n",
       "min         1.000000\n",
       "25%         5.000000\n",
       "50%         5.000000\n",
       "75%         5.000000\n",
       "max         5.000000"
      ]
     },
     "execution_count": 15,
     "metadata": {},
     "output_type": "execute_result"
    }
   ],
   "source": [
    "# .describe() only applies to numerical columns\n",
    "df.describe()"
   ]
  },
  {
   "cell_type": "code",
   "execution_count": 16,
   "metadata": {},
   "outputs": [
    {
     "data": {
      "text/plain": [
       "name             0\n",
       "institution      0\n",
       "course_url       0\n",
       "course_id        0\n",
       "reviews         75\n",
       "reviewers       19\n",
       "date_reviews    19\n",
       "rating          19\n",
       "dtype: int64"
      ]
     },
     "execution_count": 16,
     "metadata": {},
     "output_type": "execute_result"
    }
   ],
   "source": [
    "# finding out which columns have null values and how many are null\n",
    "df.isnull().sum()"
   ]
  },
  {
   "cell_type": "markdown",
   "metadata": {},
   "source": [
    "There are null values and as they do not provide info in terms of `reviews` and `rating` they will be dropped later"
   ]
  },
  {
   "cell_type": "code",
   "execution_count": 17,
   "metadata": {},
   "outputs": [
    {
     "data": {
      "text/plain": [
       "rating\n",
       "1.0      6625\n",
       "2.0      6070\n",
       "3.0     17733\n",
       "4.0     81401\n",
       "5.0    408118\n",
       "Name: name, dtype: int64"
      ]
     },
     "execution_count": 17,
     "metadata": {},
     "output_type": "execute_result"
    }
   ],
   "source": [
    "# these are currently the value counts for different ratings \n",
    "df.groupby('rating')['name'].count()"
   ]
  },
  {
   "cell_type": "markdown",
   "metadata": {},
   "source": [
    "Observe that majority of the `rating` are **positive** with a score of **5.0**"
   ]
  },
  {
   "cell_type": "markdown",
   "metadata": {},
   "source": [
    "### 4. Addressing the null values"
   ]
  },
  {
   "cell_type": "code",
   "execution_count": 20,
   "metadata": {
    "scrolled": true
   },
   "outputs": [
    {
     "data": {
      "text/html": [
       "<div>\n",
       "<style scoped>\n",
       "    .dataframe tbody tr th:only-of-type {\n",
       "        vertical-align: middle;\n",
       "    }\n",
       "\n",
       "    .dataframe tbody tr th {\n",
       "        vertical-align: top;\n",
       "    }\n",
       "\n",
       "    .dataframe thead th {\n",
       "        text-align: right;\n",
       "    }\n",
       "</style>\n",
       "<table border=\"1\" class=\"dataframe\">\n",
       "  <thead>\n",
       "    <tr style=\"text-align: right;\">\n",
       "      <th></th>\n",
       "      <th>name</th>\n",
       "      <th>institution</th>\n",
       "      <th>course_url</th>\n",
       "      <th>course_id</th>\n",
       "      <th>reviews</th>\n",
       "      <th>reviewers</th>\n",
       "      <th>date_reviews</th>\n",
       "      <th>rating</th>\n",
       "    </tr>\n",
       "  </thead>\n",
       "  <tbody>\n",
       "    <tr>\n",
       "      <th>65678</th>\n",
       "      <td>Technical Support Fundamentals</td>\n",
       "      <td>Google</td>\n",
       "      <td>https://www.coursera.org/learn/technical-suppo...</td>\n",
       "      <td>technical-support-fundamentals</td>\n",
       "      <td>NaN</td>\n",
       "      <td>By Ritu K</td>\n",
       "      <td>Aug 04, 2020</td>\n",
       "      <td>4.0</td>\n",
       "    </tr>\n",
       "    <tr>\n",
       "      <th>171302</th>\n",
       "      <td>The Bits and Bytes of Computer Networking</td>\n",
       "      <td>Google</td>\n",
       "      <td>https://www.coursera.org/learn/computer-networ...</td>\n",
       "      <td>computer-networking</td>\n",
       "      <td>NaN</td>\n",
       "      <td>By Christopher L J</td>\n",
       "      <td>Sep 26, 2020</td>\n",
       "      <td>5.0</td>\n",
       "    </tr>\n",
       "    <tr>\n",
       "      <th>171311</th>\n",
       "      <td>The Bits and Bytes of Computer Networking</td>\n",
       "      <td>Google</td>\n",
       "      <td>https://www.coursera.org/learn/computer-networ...</td>\n",
       "      <td>computer-networking</td>\n",
       "      <td>NaN</td>\n",
       "      <td>By Jerold K G</td>\n",
       "      <td>Jun 10, 2020</td>\n",
       "      <td>5.0</td>\n",
       "    </tr>\n",
       "    <tr>\n",
       "      <th>193282</th>\n",
       "      <td>AI For Everyone</td>\n",
       "      <td>DeepLearning.AI</td>\n",
       "      <td>https://www.coursera.org/learn/ai-for-everyone</td>\n",
       "      <td>ai-for-everyone</td>\n",
       "      <td>NaN</td>\n",
       "      <td>By t. d k</td>\n",
       "      <td>Jun 27, 2020</td>\n",
       "      <td>5.0</td>\n",
       "    </tr>\n",
       "    <tr>\n",
       "      <th>193287</th>\n",
       "      <td>AI For Everyone</td>\n",
       "      <td>DeepLearning.AI</td>\n",
       "      <td>https://www.coursera.org/learn/ai-for-everyone</td>\n",
       "      <td>ai-for-everyone</td>\n",
       "      <td>NaN</td>\n",
       "      <td>By KODATHALA S V</td>\n",
       "      <td>May 29, 2020</td>\n",
       "      <td>5.0</td>\n",
       "    </tr>\n",
       "  </tbody>\n",
       "</table>\n",
       "</div>"
      ],
      "text/plain": [
       "                                             name      institution  \\\n",
       "65678              Technical Support Fundamentals           Google   \n",
       "171302  The Bits and Bytes of Computer Networking           Google   \n",
       "171311  The Bits and Bytes of Computer Networking           Google   \n",
       "193282                            AI For Everyone  DeepLearning.AI   \n",
       "193287                            AI For Everyone  DeepLearning.AI   \n",
       "\n",
       "                                               course_url  \\\n",
       "65678   https://www.coursera.org/learn/technical-suppo...   \n",
       "171302  https://www.coursera.org/learn/computer-networ...   \n",
       "171311  https://www.coursera.org/learn/computer-networ...   \n",
       "193282     https://www.coursera.org/learn/ai-for-everyone   \n",
       "193287     https://www.coursera.org/learn/ai-for-everyone   \n",
       "\n",
       "                             course_id reviews           reviewers  \\\n",
       "65678   technical-support-fundamentals     NaN           By Ritu K   \n",
       "171302             computer-networking     NaN  By Christopher L J   \n",
       "171311             computer-networking     NaN       By Jerold K G   \n",
       "193282                 ai-for-everyone     NaN           By t. d k   \n",
       "193287                 ai-for-everyone     NaN    By KODATHALA S V   \n",
       "\n",
       "        date_reviews  rating  \n",
       "65678   Aug 04, 2020     4.0  \n",
       "171302  Sep 26, 2020     5.0  \n",
       "171311  Jun 10, 2020     5.0  \n",
       "193282  Jun 27, 2020     5.0  \n",
       "193287  May 29, 2020     5.0  "
      ]
     },
     "metadata": {},
     "output_type": "display_data"
    },
    {
     "name": "stdout",
     "output_type": "stream",
     "text": [
      "0.0144 % of dataset has no reviews\n"
     ]
    }
   ],
   "source": [
    "# checking how many 'reviews' are null\n",
    "display(df[df['reviews'].isnull()].head())\n",
    "\n",
    "null_pct = round(len(df[df['reviews'].isnull()])/len(df)*100,4)\n",
    "\n",
    "print(f'{null_pct} % of dataset has no reviews')"
   ]
  },
  {
   "cell_type": "code",
   "execution_count": 24,
   "metadata": {},
   "outputs": [
    {
     "data": {
      "text/html": [
       "<div>\n",
       "<style scoped>\n",
       "    .dataframe tbody tr th:only-of-type {\n",
       "        vertical-align: middle;\n",
       "    }\n",
       "\n",
       "    .dataframe tbody tr th {\n",
       "        vertical-align: top;\n",
       "    }\n",
       "\n",
       "    .dataframe thead th {\n",
       "        text-align: right;\n",
       "    }\n",
       "</style>\n",
       "<table border=\"1\" class=\"dataframe\">\n",
       "  <thead>\n",
       "    <tr style=\"text-align: right;\">\n",
       "      <th></th>\n",
       "      <th>reviews</th>\n",
       "      <th>reviewers</th>\n",
       "      <th>date_reviews</th>\n",
       "      <th>rating</th>\n",
       "    </tr>\n",
       "  </thead>\n",
       "  <tbody>\n",
       "    <tr>\n",
       "      <th>573844</th>\n",
       "      <td>NaN</td>\n",
       "      <td>NaN</td>\n",
       "      <td>NaN</td>\n",
       "      <td>NaN</td>\n",
       "    </tr>\n",
       "    <tr>\n",
       "      <th>692164</th>\n",
       "      <td>NaN</td>\n",
       "      <td>NaN</td>\n",
       "      <td>NaN</td>\n",
       "      <td>NaN</td>\n",
       "    </tr>\n",
       "    <tr>\n",
       "      <th>759012</th>\n",
       "      <td>NaN</td>\n",
       "      <td>NaN</td>\n",
       "      <td>NaN</td>\n",
       "      <td>NaN</td>\n",
       "    </tr>\n",
       "    <tr>\n",
       "      <th>885547</th>\n",
       "      <td>NaN</td>\n",
       "      <td>NaN</td>\n",
       "      <td>NaN</td>\n",
       "      <td>NaN</td>\n",
       "    </tr>\n",
       "    <tr>\n",
       "      <th>1025930</th>\n",
       "      <td>NaN</td>\n",
       "      <td>NaN</td>\n",
       "      <td>NaN</td>\n",
       "      <td>NaN</td>\n",
       "    </tr>\n",
       "  </tbody>\n",
       "</table>\n",
       "</div>"
      ],
      "text/plain": [
       "        reviews reviewers date_reviews  rating\n",
       "573844      NaN       NaN          NaN     NaN\n",
       "692164      NaN       NaN          NaN     NaN\n",
       "759012      NaN       NaN          NaN     NaN\n",
       "885547      NaN       NaN          NaN     NaN\n",
       "1025930     NaN       NaN          NaN     NaN"
      ]
     },
     "execution_count": 24,
     "metadata": {},
     "output_type": "execute_result"
    }
   ],
   "source": [
    "# noticed that reviews with null values are also null in other columns\n",
    "df[(df['reviews'].isnull()) &  (df['date_reviews'].isnull())][['reviews', 'reviewers', 'date_reviews', 'rating']].head()"
   ]
  },
  {
   "cell_type": "code",
   "execution_count": 28,
   "metadata": {},
   "outputs": [],
   "source": [
    "# removing null 'reviews'\n",
    "df = df[df['reviews'].notnull()]"
   ]
  },
  {
   "cell_type": "markdown",
   "metadata": {},
   "source": [
    "As only 0.0144 % of dataset has no `reviews` and `rating`, these rows will be dropped from the dataframe"
   ]
  },
  {
   "cell_type": "code",
   "execution_count": 31,
   "metadata": {},
   "outputs": [
    {
     "data": {
      "text/plain": [
       "name            0\n",
       "institution     0\n",
       "course_url      0\n",
       "course_id       0\n",
       "reviews         0\n",
       "reviewers       0\n",
       "date_reviews    0\n",
       "rating          0\n",
       "dtype: int64"
      ]
     },
     "metadata": {},
     "output_type": "display_data"
    },
    {
     "name": "stdout",
     "output_type": "stream",
     "text": [
      "shape of df is (519891, 8), there are 519891 rows and 8 columns\n"
     ]
    }
   ],
   "source": [
    "# noticed that after removing 'null' reviews the other corresponding rows with null values are removed too\n",
    "display(df.isnull().sum())\n",
    "\n",
    "# this is the current shape of our df\n",
    "print (f'shape of df is {df.shape}, there are {df.shape[0]} rows and {df.shape[1]} columns')"
   ]
  },
  {
   "cell_type": "markdown",
   "metadata": {},
   "source": [
    "### 5. Understanding the Dataset"
   ]
  },
  {
   "cell_type": "code",
   "execution_count": 33,
   "metadata": {},
   "outputs": [
    {
     "data": {
      "text/plain": [
       "Index(['name', 'institution', 'course_url', 'course_id', 'reviews',\n",
       "       'reviewers', 'date_reviews', 'rating'],\n",
       "      dtype='object')"
      ]
     },
     "execution_count": 33,
     "metadata": {},
     "output_type": "execute_result"
    }
   ],
   "source": [
    "# listing the different columns in dataframe\n",
    "df.columns"
   ]
  },
  {
   "cell_type": "markdown",
   "metadata": {},
   "source": [
    "#### 5.1 name"
   ]
  },
  {
   "cell_type": "code",
   "execution_count": 32,
   "metadata": {},
   "outputs": [
    {
     "data": {
      "text/html": [
       "<div>\n",
       "<style scoped>\n",
       "    .dataframe tbody tr th:only-of-type {\n",
       "        vertical-align: middle;\n",
       "    }\n",
       "\n",
       "    .dataframe tbody tr th {\n",
       "        vertical-align: top;\n",
       "    }\n",
       "\n",
       "    .dataframe thead th {\n",
       "        text-align: right;\n",
       "    }\n",
       "</style>\n",
       "<table border=\"1\" class=\"dataframe\">\n",
       "  <thead>\n",
       "    <tr style=\"text-align: right;\">\n",
       "      <th></th>\n",
       "      <th>name</th>\n",
       "    </tr>\n",
       "  </thead>\n",
       "  <tbody>\n",
       "    <tr>\n",
       "      <th>Programming for Everybody (Getting Started with Python)</th>\n",
       "      <td>15226</td>\n",
       "    </tr>\n",
       "    <tr>\n",
       "      <th>Machine Learning</th>\n",
       "      <td>12677</td>\n",
       "    </tr>\n",
       "    <tr>\n",
       "      <th>Neural Networks and Deep Learning</th>\n",
       "      <td>12291</td>\n",
       "    </tr>\n",
       "    <tr>\n",
       "      <th>Technical Support Fundamentals</th>\n",
       "      <td>12054</td>\n",
       "    </tr>\n",
       "    <tr>\n",
       "      <th>Learning How to Learn: Powerful mental tools to help you master tough subjects</th>\n",
       "      <td>11871</td>\n",
       "    </tr>\n",
       "  </tbody>\n",
       "</table>\n",
       "</div>"
      ],
      "text/plain": [
       "                                                     name\n",
       "Programming for Everybody (Getting Started with...  15226\n",
       "Machine Learning                                    12677\n",
       "Neural Networks and Deep Learning                   12291\n",
       "Technical Support Fundamentals                      12054\n",
       "Learning How to Learn: Powerful mental tools to...  11871"
      ]
     },
     "execution_count": 32,
     "metadata": {},
     "output_type": "execute_result"
    }
   ],
   "source": [
    "# 'name' refers to course name\n",
    "# seems like the most common courses are related to Python and Machine learning!\n",
    "pd.DataFrame(df['name'].value_counts()).head(5)"
   ]
  },
  {
   "cell_type": "markdown",
   "metadata": {},
   "source": [
    "courses related to Python and Machine Learning has the most reviews!"
   ]
  },
  {
   "cell_type": "markdown",
   "metadata": {},
   "source": [
    "#### 5.2 institution"
   ]
  },
  {
   "cell_type": "code",
   "execution_count": 60,
   "metadata": {},
   "outputs": [
    {
     "data": {
      "text/html": [
       "<div>\n",
       "<style scoped>\n",
       "    .dataframe tbody tr th:only-of-type {\n",
       "        vertical-align: middle;\n",
       "    }\n",
       "\n",
       "    .dataframe tbody tr th {\n",
       "        vertical-align: top;\n",
       "    }\n",
       "\n",
       "    .dataframe thead th {\n",
       "        text-align: right;\n",
       "    }\n",
       "</style>\n",
       "<table border=\"1\" class=\"dataframe\">\n",
       "  <thead>\n",
       "    <tr style=\"text-align: right;\">\n",
       "      <th></th>\n",
       "      <th>institution</th>\n",
       "    </tr>\n",
       "  </thead>\n",
       "  <tbody>\n",
       "    <tr>\n",
       "      <th>University of Michigan</th>\n",
       "      <td>57195</td>\n",
       "    </tr>\n",
       "    <tr>\n",
       "      <th>DeepLearning.AI</th>\n",
       "      <td>40323</td>\n",
       "    </tr>\n",
       "    <tr>\n",
       "      <th>Google</th>\n",
       "      <td>26933</td>\n",
       "    </tr>\n",
       "    <tr>\n",
       "      <th>University of Pennsylvania</th>\n",
       "      <td>25759</td>\n",
       "    </tr>\n",
       "    <tr>\n",
       "      <th>IBM</th>\n",
       "      <td>24970</td>\n",
       "    </tr>\n",
       "    <tr>\n",
       "      <th>Stanford University</th>\n",
       "      <td>23232</td>\n",
       "    </tr>\n",
       "    <tr>\n",
       "      <th>University of California San Diego</th>\n",
       "      <td>21591</td>\n",
       "    </tr>\n",
       "    <tr>\n",
       "      <th>Johns Hopkins University</th>\n",
       "      <td>20010</td>\n",
       "    </tr>\n",
       "    <tr>\n",
       "      <th>Yale University</th>\n",
       "      <td>19883</td>\n",
       "    </tr>\n",
       "    <tr>\n",
       "      <th>Google Cloud</th>\n",
       "      <td>16996</td>\n",
       "    </tr>\n",
       "  </tbody>\n",
       "</table>\n",
       "</div>"
      ],
      "text/plain": [
       "                                    institution\n",
       "University of Michigan                    57195\n",
       "DeepLearning.AI                           40323\n",
       "Google                                    26933\n",
       "University of Pennsylvania                25759\n",
       "IBM                                       24970\n",
       "Stanford University                       23232\n",
       "University of California San Diego        21591\n",
       "Johns Hopkins University                  20010\n",
       "Yale University                           19883\n",
       "Google Cloud                              16996"
      ]
     },
     "execution_count": 60,
     "metadata": {},
     "output_type": "execute_result"
    }
   ],
   "source": [
    "# 'institution' refers to course name\n",
    "# University of Michigan offers the most courses on Coursera\n",
    "pd.DataFrame(df['institution'].value_counts()).head(10)"
   ]
  },
  {
   "cell_type": "code",
   "execution_count": 73,
   "metadata": {},
   "outputs": [],
   "source": [
    "df['University'] = ['University' if 'University' in i else 'Business est' for i in df['institution']]"
   ]
  },
  {
   "cell_type": "code",
   "execution_count": 74,
   "metadata": {},
   "outputs": [
    {
     "data": {
      "text/plain": [
       "University      283193\n",
       "Business est    155535\n",
       "Name: University, dtype: int64"
      ]
     },
     "execution_count": 74,
     "metadata": {},
     "output_type": "execute_result"
    }
   ],
   "source": [
    "df['University'].value_counts()"
   ]
  },
  {
   "cell_type": "markdown",
   "metadata": {},
   "source": [
    "There are more `reviews` for courses from Universities than Business establishments."
   ]
  },
  {
   "cell_type": "markdown",
   "metadata": {},
   "source": [
    "#### 5.3 course_url & course_id"
   ]
  },
  {
   "cell_type": "code",
   "execution_count": 36,
   "metadata": {},
   "outputs": [
    {
     "data": {
      "text/html": [
       "<div>\n",
       "<style scoped>\n",
       "    .dataframe tbody tr th:only-of-type {\n",
       "        vertical-align: middle;\n",
       "    }\n",
       "\n",
       "    .dataframe tbody tr th {\n",
       "        vertical-align: top;\n",
       "    }\n",
       "\n",
       "    .dataframe thead th {\n",
       "        text-align: right;\n",
       "    }\n",
       "</style>\n",
       "<table border=\"1\" class=\"dataframe\">\n",
       "  <thead>\n",
       "    <tr style=\"text-align: right;\">\n",
       "      <th></th>\n",
       "      <th>course_url</th>\n",
       "    </tr>\n",
       "  </thead>\n",
       "  <tbody>\n",
       "    <tr>\n",
       "      <th>https://www.coursera.org/learn/python</th>\n",
       "      <td>15226</td>\n",
       "    </tr>\n",
       "    <tr>\n",
       "      <th>https://www.coursera.org/learn/machine-learning</th>\n",
       "      <td>12677</td>\n",
       "    </tr>\n",
       "    <tr>\n",
       "      <th>https://www.coursera.org/learn/neural-networks-deep-learning</th>\n",
       "      <td>12291</td>\n",
       "    </tr>\n",
       "    <tr>\n",
       "      <th>https://www.coursera.org/learn/technical-support-fundamentals</th>\n",
       "      <td>12054</td>\n",
       "    </tr>\n",
       "    <tr>\n",
       "      <th>https://www.coursera.org/learn/learning-how-to-learn</th>\n",
       "      <td>11871</td>\n",
       "    </tr>\n",
       "    <tr>\n",
       "      <th>...</th>\n",
       "      <td>...</td>\n",
       "    </tr>\n",
       "    <tr>\n",
       "      <th>https://www.coursera.org/learn/social-work-practice-advocating-social-justice-and-change</th>\n",
       "      <td>5</td>\n",
       "    </tr>\n",
       "    <tr>\n",
       "      <th>https://www.coursera.org/learn/remote-team-management</th>\n",
       "      <td>5</td>\n",
       "    </tr>\n",
       "    <tr>\n",
       "      <th>https://www.coursera.org/learn/the-business-of-product-management-one</th>\n",
       "      <td>5</td>\n",
       "    </tr>\n",
       "    <tr>\n",
       "      <th>https://www.coursera.org/learn/entreprise-changement-climatique</th>\n",
       "      <td>2</td>\n",
       "    </tr>\n",
       "    <tr>\n",
       "      <th>https://www.coursera.org/learn/building-modern-python-applications-on-aws</th>\n",
       "      <td>1</td>\n",
       "    </tr>\n",
       "  </tbody>\n",
       "</table>\n",
       "<p>604 rows × 1 columns</p>\n",
       "</div>"
      ],
      "text/plain": [
       "                                                    course_url\n",
       "https://www.coursera.org/learn/python                    15226\n",
       "https://www.coursera.org/learn/machine-learning          12677\n",
       "https://www.coursera.org/learn/neural-networks-...       12291\n",
       "https://www.coursera.org/learn/technical-suppor...       12054\n",
       "https://www.coursera.org/learn/learning-how-to-...       11871\n",
       "...                                                        ...\n",
       "https://www.coursera.org/learn/social-work-prac...           5\n",
       "https://www.coursera.org/learn/remote-team-mana...           5\n",
       "https://www.coursera.org/learn/the-business-of-...           5\n",
       "https://www.coursera.org/learn/entreprise-chang...           2\n",
       "https://www.coursera.org/learn/building-modern-...           1\n",
       "\n",
       "[604 rows x 1 columns]"
      ]
     },
     "execution_count": 36,
     "metadata": {},
     "output_type": "execute_result"
    }
   ],
   "source": [
    "pd.DataFrame(df['course_url'].value_counts())"
   ]
  },
  {
   "cell_type": "code",
   "execution_count": 40,
   "metadata": {
    "scrolled": true
   },
   "outputs": [
    {
     "data": {
      "text/html": [
       "<div>\n",
       "<style scoped>\n",
       "    .dataframe tbody tr th:only-of-type {\n",
       "        vertical-align: middle;\n",
       "    }\n",
       "\n",
       "    .dataframe tbody tr th {\n",
       "        vertical-align: top;\n",
       "    }\n",
       "\n",
       "    .dataframe thead th {\n",
       "        text-align: right;\n",
       "    }\n",
       "</style>\n",
       "<table border=\"1\" class=\"dataframe\">\n",
       "  <thead>\n",
       "    <tr style=\"text-align: right;\">\n",
       "      <th></th>\n",
       "      <th></th>\n",
       "      <th></th>\n",
       "      <th>0</th>\n",
       "    </tr>\n",
       "    <tr>\n",
       "      <th>name</th>\n",
       "      <th>course_url</th>\n",
       "      <th>course_id</th>\n",
       "      <th></th>\n",
       "    </tr>\n",
       "  </thead>\n",
       "  <tbody>\n",
       "    <tr>\n",
       "      <th>Programming for Everybody (Getting Started with Python)</th>\n",
       "      <th>https://www.coursera.org/learn/python</th>\n",
       "      <th>python</th>\n",
       "      <td>15226</td>\n",
       "    </tr>\n",
       "    <tr>\n",
       "      <th>Machine Learning</th>\n",
       "      <th>https://www.coursera.org/learn/machine-learning</th>\n",
       "      <th>machine-learning</th>\n",
       "      <td>12677</td>\n",
       "    </tr>\n",
       "    <tr>\n",
       "      <th>Neural Networks and Deep Learning</th>\n",
       "      <th>https://www.coursera.org/learn/neural-networks-deep-learning</th>\n",
       "      <th>neural-networks-deep-learning</th>\n",
       "      <td>12291</td>\n",
       "    </tr>\n",
       "    <tr>\n",
       "      <th>Technical Support Fundamentals</th>\n",
       "      <th>https://www.coursera.org/learn/technical-support-fundamentals</th>\n",
       "      <th>technical-support-fundamentals</th>\n",
       "      <td>12054</td>\n",
       "    </tr>\n",
       "    <tr>\n",
       "      <th>Learning How to Learn: Powerful mental tools to help you master tough subjects</th>\n",
       "      <th>https://www.coursera.org/learn/learning-how-to-learn</th>\n",
       "      <th>learning-how-to-learn</th>\n",
       "      <td>11871</td>\n",
       "    </tr>\n",
       "  </tbody>\n",
       "</table>\n",
       "</div>"
      ],
      "text/plain": [
       "                                                                                                                                          0\n",
       "name                                               course_url                                         course_id                            \n",
       "Programming for Everybody (Getting Started with... https://www.coursera.org/learn/python              python                          15226\n",
       "Machine Learning                                   https://www.coursera.org/learn/machine-learning    machine-learning                12677\n",
       "Neural Networks and Deep Learning                  https://www.coursera.org/learn/neural-networks-... neural-networks-deep-learning   12291\n",
       "Technical Support Fundamentals                     https://www.coursera.org/learn/technical-suppor... technical-support-fundamentals  12054\n",
       "Learning How to Learn: Powerful mental tools to... https://www.coursera.org/learn/learning-how-to-... learning-how-to-learn           11871"
      ]
     },
     "execution_count": 40,
     "metadata": {},
     "output_type": "execute_result"
    }
   ],
   "source": [
    "# 'name' of the course is correlated to their specific url and course_id\n",
    "pd.DataFrame(df[['name','course_url', 'course_id']].value_counts()).head()"
   ]
  },
  {
   "cell_type": "markdown",
   "metadata": {},
   "source": [
    "#### 5.4 reviews"
   ]
  },
  {
   "cell_type": "code",
   "execution_count": 41,
   "metadata": {},
   "outputs": [
    {
     "data": {
      "text/html": [
       "<div>\n",
       "<style scoped>\n",
       "    .dataframe tbody tr th:only-of-type {\n",
       "        vertical-align: middle;\n",
       "    }\n",
       "\n",
       "    .dataframe tbody tr th {\n",
       "        vertical-align: top;\n",
       "    }\n",
       "\n",
       "    .dataframe thead th {\n",
       "        text-align: right;\n",
       "    }\n",
       "</style>\n",
       "<table border=\"1\" class=\"dataframe\">\n",
       "  <thead>\n",
       "    <tr style=\"text-align: right;\">\n",
       "      <th></th>\n",
       "      <th>reviews</th>\n",
       "    </tr>\n",
       "  </thead>\n",
       "  <tbody>\n",
       "    <tr>\n",
       "      <th>good</th>\n",
       "      <td>3244</td>\n",
       "    </tr>\n",
       "    <tr>\n",
       "      <th>Good</th>\n",
       "      <td>2010</td>\n",
       "    </tr>\n",
       "    <tr>\n",
       "      <th>Excellent</th>\n",
       "      <td>1308</td>\n",
       "    </tr>\n",
       "    <tr>\n",
       "      <th>Great course!</th>\n",
       "      <td>882</td>\n",
       "    </tr>\n",
       "    <tr>\n",
       "      <th>great</th>\n",
       "      <td>787</td>\n",
       "    </tr>\n",
       "  </tbody>\n",
       "</table>\n",
       "</div>"
      ],
      "text/plain": [
       "               reviews\n",
       "good              3244\n",
       "Good              2010\n",
       "Excellent         1308\n",
       "Great course!      882\n",
       "great              787"
      ]
     },
     "execution_count": 41,
     "metadata": {},
     "output_type": "execute_result"
    }
   ],
   "source": [
    "pd.DataFrame(df['reviews'].value_counts()).head()"
   ]
  },
  {
   "cell_type": "markdown",
   "metadata": {},
   "source": [
    "There are many repeated one-word `Reviews`"
   ]
  },
  {
   "cell_type": "code",
   "execution_count": 65,
   "metadata": {},
   "outputs": [
    {
     "data": {
      "text/html": [
       "<div>\n",
       "<style scoped>\n",
       "    .dataframe tbody tr th:only-of-type {\n",
       "        vertical-align: middle;\n",
       "    }\n",
       "\n",
       "    .dataframe tbody tr th {\n",
       "        vertical-align: top;\n",
       "    }\n",
       "\n",
       "    .dataframe thead th {\n",
       "        text-align: right;\n",
       "    }\n",
       "</style>\n",
       "<table border=\"1\" class=\"dataframe\">\n",
       "  <thead>\n",
       "    <tr style=\"text-align: right;\">\n",
       "      <th></th>\n",
       "      <th>count of words</th>\n",
       "    </tr>\n",
       "  </thead>\n",
       "  <tbody>\n",
       "    <tr>\n",
       "      <th>5</th>\n",
       "      <td>19830</td>\n",
       "    </tr>\n",
       "    <tr>\n",
       "      <th>4</th>\n",
       "      <td>19589</td>\n",
       "    </tr>\n",
       "    <tr>\n",
       "      <th>6</th>\n",
       "      <td>18304</td>\n",
       "    </tr>\n",
       "    <tr>\n",
       "      <th>7</th>\n",
       "      <td>17160</td>\n",
       "    </tr>\n",
       "    <tr>\n",
       "      <th>8</th>\n",
       "      <td>16361</td>\n",
       "    </tr>\n",
       "  </tbody>\n",
       "</table>\n",
       "</div>"
      ],
      "text/plain": [
       "   count of words\n",
       "5           19830\n",
       "4           19589\n",
       "6           18304\n",
       "7           17160\n",
       "8           16361"
      ]
     },
     "execution_count": 65,
     "metadata": {},
     "output_type": "execute_result"
    }
   ],
   "source": [
    "df['count of words'] = [len(review.split(' ')) for review in df['reviews']]\n",
    "\n",
    "pd.DataFrame(df['count of words'].value_counts()).head()\n",
    "# most of the reviews are in 5 words"
   ]
  },
  {
   "cell_type": "code",
   "execution_count": 61,
   "metadata": {},
   "outputs": [
    {
     "data": {
      "text/html": [
       "<div>\n",
       "<style scoped>\n",
       "    .dataframe tbody tr th:only-of-type {\n",
       "        vertical-align: middle;\n",
       "    }\n",
       "\n",
       "    .dataframe tbody tr th {\n",
       "        vertical-align: top;\n",
       "    }\n",
       "\n",
       "    .dataframe thead th {\n",
       "        text-align: right;\n",
       "    }\n",
       "</style>\n",
       "<table border=\"1\" class=\"dataframe\">\n",
       "  <thead>\n",
       "    <tr style=\"text-align: right;\">\n",
       "      <th></th>\n",
       "      <th>name</th>\n",
       "      <th>institution</th>\n",
       "      <th>course_url</th>\n",
       "      <th>course_id</th>\n",
       "      <th>reviews</th>\n",
       "      <th>reviewers</th>\n",
       "      <th>date_reviews</th>\n",
       "      <th>rating</th>\n",
       "      <th>count of words</th>\n",
       "    </tr>\n",
       "  </thead>\n",
       "  <tbody>\n",
       "    <tr>\n",
       "      <th>167</th>\n",
       "      <td>Machine Learning</td>\n",
       "      <td>Stanford University</td>\n",
       "      <td>https://www.coursera.org/learn/machine-learning</td>\n",
       "      <td>machine-learning</td>\n",
       "      <td>Hard and dry</td>\n",
       "      <td>By Luis A</td>\n",
       "      <td>May 03, 2016</td>\n",
       "      <td>1.0</td>\n",
       "      <td>3</td>\n",
       "    </tr>\n",
       "    <tr>\n",
       "      <th>168</th>\n",
       "      <td>Machine Learning</td>\n",
       "      <td>Stanford University</td>\n",
       "      <td>https://www.coursera.org/learn/machine-learning</td>\n",
       "      <td>machine-learning</td>\n",
       "      <td>sertificado</td>\n",
       "      <td>By antony y</td>\n",
       "      <td>May 22, 2017</td>\n",
       "      <td>1.0</td>\n",
       "      <td>1</td>\n",
       "    </tr>\n",
       "    <tr>\n",
       "      <th>214</th>\n",
       "      <td>Machine Learning</td>\n",
       "      <td>Stanford University</td>\n",
       "      <td>https://www.coursera.org/learn/machine-learning</td>\n",
       "      <td>machine-learning</td>\n",
       "      <td>Certificate is expensive!</td>\n",
       "      <td>By Ivan Č</td>\n",
       "      <td>Feb 24, 2016</td>\n",
       "      <td>2.0</td>\n",
       "      <td>3</td>\n",
       "    </tr>\n",
       "    <tr>\n",
       "      <th>317</th>\n",
       "      <td>Machine Learning</td>\n",
       "      <td>Stanford University</td>\n",
       "      <td>https://www.coursera.org/learn/machine-learning</td>\n",
       "      <td>machine-learning</td>\n",
       "      <td>good so far</td>\n",
       "      <td>By Saleh a h</td>\n",
       "      <td>Jul 14, 2017</td>\n",
       "      <td>2.0</td>\n",
       "      <td>3</td>\n",
       "    </tr>\n",
       "    <tr>\n",
       "      <th>318</th>\n",
       "      <td>Machine Learning</td>\n",
       "      <td>Stanford University</td>\n",
       "      <td>https://www.coursera.org/learn/machine-learning</td>\n",
       "      <td>machine-learning</td>\n",
       "      <td>jhkd</td>\n",
       "      <td>By Kendrashya</td>\n",
       "      <td>Sep 19, 2020</td>\n",
       "      <td>2.0</td>\n",
       "      <td>1</td>\n",
       "    </tr>\n",
       "  </tbody>\n",
       "</table>\n",
       "</div>"
      ],
      "text/plain": [
       "                 name          institution  \\\n",
       "167  Machine Learning  Stanford University   \n",
       "168  Machine Learning  Stanford University   \n",
       "214  Machine Learning  Stanford University   \n",
       "317  Machine Learning  Stanford University   \n",
       "318  Machine Learning  Stanford University   \n",
       "\n",
       "                                          course_url         course_id  \\\n",
       "167  https://www.coursera.org/learn/machine-learning  machine-learning   \n",
       "168  https://www.coursera.org/learn/machine-learning  machine-learning   \n",
       "214  https://www.coursera.org/learn/machine-learning  machine-learning   \n",
       "317  https://www.coursera.org/learn/machine-learning  machine-learning   \n",
       "318  https://www.coursera.org/learn/machine-learning  machine-learning   \n",
       "\n",
       "                       reviews      reviewers  date_reviews  rating  \\\n",
       "167               Hard and dry      By Luis A  May 03, 2016     1.0   \n",
       "168                sertificado    By antony y  May 22, 2017     1.0   \n",
       "214  Certificate is expensive!      By Ivan Č  Feb 24, 2016     2.0   \n",
       "317                good so far   By Saleh a h  Jul 14, 2017     2.0   \n",
       "318                       jhkd  By Kendrashya  Sep 19, 2020     2.0   \n",
       "\n",
       "     count of words  \n",
       "167               3  \n",
       "168               1  \n",
       "214               3  \n",
       "317               3  \n",
       "318               1  "
      ]
     },
     "execution_count": 61,
     "metadata": {},
     "output_type": "execute_result"
    }
   ],
   "source": [
    "# reviewed the type of reviews and what information could be retrieved based on 'count of words'\n",
    "# from less than or equal to 3 words onwards, the words used are not signifcant and may not correlate to their rating\n",
    "df[df['count of words']<=3].head()"
   ]
  },
  {
   "cell_type": "code",
   "execution_count": 62,
   "metadata": {
    "scrolled": true
   },
   "outputs": [
    {
     "data": {
      "text/html": [
       "<div>\n",
       "<style scoped>\n",
       "    .dataframe tbody tr th:only-of-type {\n",
       "        vertical-align: middle;\n",
       "    }\n",
       "\n",
       "    .dataframe tbody tr th {\n",
       "        vertical-align: top;\n",
       "    }\n",
       "\n",
       "    .dataframe thead th {\n",
       "        text-align: right;\n",
       "    }\n",
       "</style>\n",
       "<table border=\"1\" class=\"dataframe\">\n",
       "  <thead>\n",
       "    <tr style=\"text-align: right;\">\n",
       "      <th></th>\n",
       "      <th>name</th>\n",
       "      <th>institution</th>\n",
       "      <th>course_url</th>\n",
       "      <th>course_id</th>\n",
       "      <th>reviews</th>\n",
       "      <th>reviewers</th>\n",
       "      <th>date_reviews</th>\n",
       "      <th>rating</th>\n",
       "      <th>count of words</th>\n",
       "    </tr>\n",
       "  </thead>\n",
       "  <tbody>\n",
       "    <tr>\n",
       "      <th>165</th>\n",
       "      <td>Machine Learning</td>\n",
       "      <td>Stanford University</td>\n",
       "      <td>https://www.coursera.org/learn/machine-learning</td>\n",
       "      <td>machine-learning</td>\n",
       "      <td>error in assignment subbmisison</td>\n",
       "      <td>By Mannat p S</td>\n",
       "      <td>May 14, 2020</td>\n",
       "      <td>1.0</td>\n",
       "      <td>4</td>\n",
       "    </tr>\n",
       "    <tr>\n",
       "      <th>217</th>\n",
       "      <td>Machine Learning</td>\n",
       "      <td>Stanford University</td>\n",
       "      <td>https://www.coursera.org/learn/machine-learning</td>\n",
       "      <td>machine-learning</td>\n",
       "      <td>Assignments are very messy.</td>\n",
       "      <td>By Loftur e</td>\n",
       "      <td>Sep 17, 2018</td>\n",
       "      <td>2.0</td>\n",
       "      <td>4</td>\n",
       "    </tr>\n",
       "    <tr>\n",
       "      <th>313</th>\n",
       "      <td>Machine Learning</td>\n",
       "      <td>Stanford University</td>\n",
       "      <td>https://www.coursera.org/learn/machine-learning</td>\n",
       "      <td>machine-learning</td>\n",
       "      <td>too much impractical shenanigans</td>\n",
       "      <td>By Arnold D</td>\n",
       "      <td>Aug 04, 2020</td>\n",
       "      <td>2.0</td>\n",
       "      <td>4</td>\n",
       "    </tr>\n",
       "    <tr>\n",
       "      <th>316</th>\n",
       "      <td>Machine Learning</td>\n",
       "      <td>Stanford University</td>\n",
       "      <td>https://www.coursera.org/learn/machine-learning</td>\n",
       "      <td>machine-learning</td>\n",
       "      <td>Tough for a newbie</td>\n",
       "      <td>By Venkata P K G</td>\n",
       "      <td>Dec 13, 2017</td>\n",
       "      <td>2.0</td>\n",
       "      <td>4</td>\n",
       "    </tr>\n",
       "    <tr>\n",
       "      <th>842</th>\n",
       "      <td>Machine Learning</td>\n",
       "      <td>Stanford University</td>\n",
       "      <td>https://www.coursera.org/learn/machine-learning</td>\n",
       "      <td>machine-learning</td>\n",
       "      <td>Submission is very difficult!</td>\n",
       "      <td>By Sonali s</td>\n",
       "      <td>Oct 07, 2019</td>\n",
       "      <td>3.0</td>\n",
       "      <td>4</td>\n",
       "    </tr>\n",
       "  </tbody>\n",
       "</table>\n",
       "</div>"
      ],
      "text/plain": [
       "                 name          institution  \\\n",
       "165  Machine Learning  Stanford University   \n",
       "217  Machine Learning  Stanford University   \n",
       "313  Machine Learning  Stanford University   \n",
       "316  Machine Learning  Stanford University   \n",
       "842  Machine Learning  Stanford University   \n",
       "\n",
       "                                          course_url         course_id  \\\n",
       "165  https://www.coursera.org/learn/machine-learning  machine-learning   \n",
       "217  https://www.coursera.org/learn/machine-learning  machine-learning   \n",
       "313  https://www.coursera.org/learn/machine-learning  machine-learning   \n",
       "316  https://www.coursera.org/learn/machine-learning  machine-learning   \n",
       "842  https://www.coursera.org/learn/machine-learning  machine-learning   \n",
       "\n",
       "                              reviews         reviewers  date_reviews  rating  \\\n",
       "165   error in assignment subbmisison     By Mannat p S  May 14, 2020     1.0   \n",
       "217       Assignments are very messy.       By Loftur e  Sep 17, 2018     2.0   \n",
       "313  too much impractical shenanigans       By Arnold D  Aug 04, 2020     2.0   \n",
       "316                Tough for a newbie  By Venkata P K G  Dec 13, 2017     2.0   \n",
       "842     Submission is very difficult!       By Sonali s  Oct 07, 2019     3.0   \n",
       "\n",
       "     count of words  \n",
       "165               4  \n",
       "217               4  \n",
       "313               4  \n",
       "316               4  \n",
       "842               4  "
      ]
     },
     "execution_count": 62,
     "metadata": {},
     "output_type": "execute_result"
    }
   ],
   "source": [
    "# from 'count of words' = 4, starts to see reviews that explains their reasoning for rating\n",
    "df[df['count of words']==4]"
   ]
  },
  {
   "cell_type": "code",
   "execution_count": 64,
   "metadata": {},
   "outputs": [
    {
     "name": "stdout",
     "output_type": "stream",
     "text": [
      "shape of df is (438728, 9), there are 438728 rows and 9 columns\n"
     ]
    }
   ],
   "source": [
    "# decided to only use reviews with more than or equal to 4 words\n",
    "df = df[df['count of words']>=4]"
   ]
  },
  {
   "cell_type": "code",
   "execution_count": 110,
   "metadata": {},
   "outputs": [
    {
     "data": {
      "text/html": [
       "<div>\n",
       "<style scoped>\n",
       "    .dataframe tbody tr th:only-of-type {\n",
       "        vertical-align: middle;\n",
       "    }\n",
       "\n",
       "    .dataframe tbody tr th {\n",
       "        vertical-align: top;\n",
       "    }\n",
       "\n",
       "    .dataframe thead th {\n",
       "        text-align: right;\n",
       "    }\n",
       "</style>\n",
       "<table border=\"1\" class=\"dataframe\">\n",
       "  <thead>\n",
       "    <tr style=\"text-align: right;\">\n",
       "      <th></th>\n",
       "      <th>name</th>\n",
       "      <th>institution</th>\n",
       "      <th>course_url</th>\n",
       "      <th>course_id</th>\n",
       "      <th>reviews</th>\n",
       "      <th>reviewers</th>\n",
       "      <th>date_reviews</th>\n",
       "      <th>rating</th>\n",
       "      <th>count of words</th>\n",
       "      <th>University</th>\n",
       "    </tr>\n",
       "  </thead>\n",
       "  <tbody>\n",
       "    <tr>\n",
       "      <th>1418884</th>\n",
       "      <td>Accounting Analytics</td>\n",
       "      <td>University of Pennsylvania</td>\n",
       "      <td>https://www.coursera.org/learn/accounting-anal...</td>\n",
       "      <td>accounting-analytics</td>\n",
       "      <td>This is my feedback as a Beta-Tester for the c...</td>\n",
       "      <td>By Jan Z</td>\n",
       "      <td>Jan 05, 2016</td>\n",
       "      <td>4.0</td>\n",
       "      <td>1409</td>\n",
       "      <td>University</td>\n",
       "    </tr>\n",
       "    <tr>\n",
       "      <th>1295444</th>\n",
       "      <td>Aprendiendo a aprender: Poderosas herramientas...</td>\n",
       "      <td>University of California San Diego</td>\n",
       "      <td>https://www.coursera.org/learn/aprendiendo-a-a...</td>\n",
       "      <td>aprendiendo-a-aprender</td>\n",
       "      <td>I will try now a Summary of the whole course, ...</td>\n",
       "      <td>By Javier M</td>\n",
       "      <td>Oct 10, 2016</td>\n",
       "      <td>5.0</td>\n",
       "      <td>1279</td>\n",
       "      <td>University</td>\n",
       "    </tr>\n",
       "    <tr>\n",
       "      <th>1126417</th>\n",
       "      <td>The Arts and Science of Relationships: Underst...</td>\n",
       "      <td>University of Toronto</td>\n",
       "      <td>https://www.coursera.org/learn/human-needs</td>\n",
       "      <td>human-needs</td>\n",
       "      <td>I am a college student who took this course ma...</td>\n",
       "      <td>By Almyn C A</td>\n",
       "      <td>Aug 29, 2020</td>\n",
       "      <td>4.0</td>\n",
       "      <td>1059</td>\n",
       "      <td>University</td>\n",
       "    </tr>\n",
       "    <tr>\n",
       "      <th>104950</th>\n",
       "      <td>Introduction to Psychology</td>\n",
       "      <td>Yale University</td>\n",
       "      <td>https://www.coursera.org/learn/introduction-ps...</td>\n",
       "      <td>introduction-psychology</td>\n",
       "      <td>\\n\\nIntroduction to Psychology is a journey th...</td>\n",
       "      <td>By Dr.Mohammad K H</td>\n",
       "      <td>Sep 16, 2020</td>\n",
       "      <td>5.0</td>\n",
       "      <td>1028</td>\n",
       "      <td>University</td>\n",
       "    </tr>\n",
       "    <tr>\n",
       "      <th>960900</th>\n",
       "      <td>Fashion as Design</td>\n",
       "      <td>The Museum of Modern Art</td>\n",
       "      <td>https://www.coursera.org/learn/fashion-design</td>\n",
       "      <td>fashion-design</td>\n",
       "      <td>“A frog in a well cannot discuss the ocean, be...</td>\n",
       "      <td>By gandavarapu s</td>\n",
       "      <td>May 26, 2020</td>\n",
       "      <td>5.0</td>\n",
       "      <td>982</td>\n",
       "      <td>Business est</td>\n",
       "    </tr>\n",
       "  </tbody>\n",
       "</table>\n",
       "</div>"
      ],
      "text/plain": [
       "                                                      name  \\\n",
       "1418884                               Accounting Analytics   \n",
       "1295444  Aprendiendo a aprender: Poderosas herramientas...   \n",
       "1126417  The Arts and Science of Relationships: Underst...   \n",
       "104950                          Introduction to Psychology   \n",
       "960900                                   Fashion as Design   \n",
       "\n",
       "                                institution  \\\n",
       "1418884          University of Pennsylvania   \n",
       "1295444  University of California San Diego   \n",
       "1126417               University of Toronto   \n",
       "104950                      Yale University   \n",
       "960900             The Museum of Modern Art   \n",
       "\n",
       "                                                course_url  \\\n",
       "1418884  https://www.coursera.org/learn/accounting-anal...   \n",
       "1295444  https://www.coursera.org/learn/aprendiendo-a-a...   \n",
       "1126417         https://www.coursera.org/learn/human-needs   \n",
       "104950   https://www.coursera.org/learn/introduction-ps...   \n",
       "960900       https://www.coursera.org/learn/fashion-design   \n",
       "\n",
       "                       course_id  \\\n",
       "1418884     accounting-analytics   \n",
       "1295444   aprendiendo-a-aprender   \n",
       "1126417              human-needs   \n",
       "104950   introduction-psychology   \n",
       "960900            fashion-design   \n",
       "\n",
       "                                                   reviews  \\\n",
       "1418884  This is my feedback as a Beta-Tester for the c...   \n",
       "1295444  I will try now a Summary of the whole course, ...   \n",
       "1126417  I am a college student who took this course ma...   \n",
       "104950   \\n\\nIntroduction to Psychology is a journey th...   \n",
       "960900   “A frog in a well cannot discuss the ocean, be...   \n",
       "\n",
       "                  reviewers  date_reviews  rating  count of words  \\\n",
       "1418884            By Jan Z  Jan 05, 2016     4.0            1409   \n",
       "1295444         By Javier M  Oct 10, 2016     5.0            1279   \n",
       "1126417        By Almyn C A  Aug 29, 2020     4.0            1059   \n",
       "104950   By Dr.Mohammad K H  Sep 16, 2020     5.0            1028   \n",
       "960900     By gandavarapu s  May 26, 2020     5.0             982   \n",
       "\n",
       "           University  \n",
       "1418884    University  \n",
       "1295444    University  \n",
       "1126417    University  \n",
       "104950     University  \n",
       "960900   Business est  "
      ]
     },
     "execution_count": 110,
     "metadata": {},
     "output_type": "execute_result"
    }
   ],
   "source": [
    "df[df['count of words']>=4].sort_values(by='count of words', ascending=False).head()"
   ]
  },
  {
   "cell_type": "code",
   "execution_count": 108,
   "metadata": {
    "scrolled": false
   },
   "outputs": [
    {
     "data": {
      "text/html": [
       "<div>\n",
       "<style scoped>\n",
       "    .dataframe tbody tr th:only-of-type {\n",
       "        vertical-align: middle;\n",
       "    }\n",
       "\n",
       "    .dataframe tbody tr th {\n",
       "        vertical-align: top;\n",
       "    }\n",
       "\n",
       "    .dataframe thead th {\n",
       "        text-align: right;\n",
       "    }\n",
       "</style>\n",
       "<table border=\"1\" class=\"dataframe\">\n",
       "  <thead>\n",
       "    <tr style=\"text-align: right;\">\n",
       "      <th></th>\n",
       "      <th>name</th>\n",
       "      <th>institution</th>\n",
       "      <th>course_url</th>\n",
       "      <th>course_id</th>\n",
       "      <th>reviews</th>\n",
       "      <th>reviewers</th>\n",
       "      <th>date_reviews</th>\n",
       "      <th>rating</th>\n",
       "      <th>count of words</th>\n",
       "      <th>University</th>\n",
       "    </tr>\n",
       "  </thead>\n",
       "  <tbody>\n",
       "    <tr>\n",
       "      <th>639128</th>\n",
       "      <td>The Data Scientist’s Toolbox</td>\n",
       "      <td>Johns Hopkins University</td>\n",
       "      <td>https://www.coursera.org/learn/data-scientists...</td>\n",
       "      <td>data-scientists-tools</td>\n",
       "      <td>I'm doing this training for the second time, n...</td>\n",
       "      <td>By Enrique B</td>\n",
       "      <td>Dec 04, 2015</td>\n",
       "      <td>4.0</td>\n",
       "      <td>269</td>\n",
       "      <td>University</td>\n",
       "    </tr>\n",
       "    <tr>\n",
       "      <th>1086345</th>\n",
       "      <td>Natural Language Processing with Attention Models</td>\n",
       "      <td>DeepLearning.AI</td>\n",
       "      <td>https://www.coursera.org/learn/attention-model...</td>\n",
       "      <td>attention-models-in-nlp</td>\n",
       "      <td>I haven't had similar issues with previous cou...</td>\n",
       "      <td>By Konstantinos K</td>\n",
       "      <td>Oct 05, 2020</td>\n",
       "      <td>2.0</td>\n",
       "      <td>237</td>\n",
       "      <td>Business est</td>\n",
       "    </tr>\n",
       "    <tr>\n",
       "      <th>1418884</th>\n",
       "      <td>Accounting Analytics</td>\n",
       "      <td>University of Pennsylvania</td>\n",
       "      <td>https://www.coursera.org/learn/accounting-anal...</td>\n",
       "      <td>accounting-analytics</td>\n",
       "      <td>This is my feedback as a Beta-Tester for the c...</td>\n",
       "      <td>By Jan Z</td>\n",
       "      <td>Jan 05, 2016</td>\n",
       "      <td>4.0</td>\n",
       "      <td>1409</td>\n",
       "      <td>University</td>\n",
       "    </tr>\n",
       "  </tbody>\n",
       "</table>\n",
       "</div>"
      ],
      "text/plain": [
       "                                                      name  \\\n",
       "639128                        The Data Scientist’s Toolbox   \n",
       "1086345  Natural Language Processing with Attention Models   \n",
       "1418884                               Accounting Analytics   \n",
       "\n",
       "                        institution  \\\n",
       "639128     Johns Hopkins University   \n",
       "1086345             DeepLearning.AI   \n",
       "1418884  University of Pennsylvania   \n",
       "\n",
       "                                                course_url  \\\n",
       "639128   https://www.coursera.org/learn/data-scientists...   \n",
       "1086345  https://www.coursera.org/learn/attention-model...   \n",
       "1418884  https://www.coursera.org/learn/accounting-anal...   \n",
       "\n",
       "                       course_id  \\\n",
       "639128     data-scientists-tools   \n",
       "1086345  attention-models-in-nlp   \n",
       "1418884     accounting-analytics   \n",
       "\n",
       "                                                   reviews          reviewers  \\\n",
       "639128   I'm doing this training for the second time, n...       By Enrique B   \n",
       "1086345  I haven't had similar issues with previous cou...  By Konstantinos K   \n",
       "1418884  This is my feedback as a Beta-Tester for the c...           By Jan Z   \n",
       "\n",
       "         date_reviews  rating  count of words    University  \n",
       "639128   Dec 04, 2015     4.0             269    University  \n",
       "1086345  Oct 05, 2020     2.0             237  Business est  \n",
       "1418884  Jan 05, 2016     4.0            1409    University  "
      ]
     },
     "execution_count": 108,
     "metadata": {},
     "output_type": "execute_result"
    }
   ],
   "source": [
    "df_beta = df.loc[df['reviews'].str.contains(\"Beta-Tester\", case=False)]\n",
    "\n",
    "df_beta"
   ]
  },
  {
   "cell_type": "markdown",
   "metadata": {},
   "source": [
    "- Observed that there are reviews left by **beta-testers** for Coursera courses, on inspecting the actual text.\n",
    "- The reviews left by **beta-testers** are removed"
   ]
  },
  {
   "cell_type": "code",
   "execution_count": 112,
   "metadata": {},
   "outputs": [
    {
     "data": {
      "text/plain": [
       "'I\\'m doing this training for the second time, now as a beta-tester. Particular comments about lecture content, problems, etc. have been put in every lecture.\\nGeneral comments, in short:\\n1) Related to the new platform and UI design:\\n_ It is cleaner and simpler than the previous one. I like it, BUT...\\n_ It lacks of some useful features: saving intermediate results in quizzes before submit them; calendar; limited number of subforums.\\n_ The most relevant flaw: there are not downloadable versions of lecture slides. Unacceptable! No way to check most of the links we saw in slides (URLs not visible).\\n_ Description and steps in course project appear \"too packed\" together. I prefer the former design.\\n2) Related to content:\\n_ The course is mainly for preparing students for the rest of data science specialization program. When you said \"toolbox\" you mean the concrete toolbox you will need to do the program. Some people expect to have a general introduction to data science but that is only a half o'"
      ]
     },
     "execution_count": 112,
     "metadata": {},
     "output_type": "execute_result"
    }
   ],
   "source": [
    "# this review is done by a beta tester\n",
    "df_beta.loc[639128, 'reviews'][:1000]"
   ]
  },
  {
   "cell_type": "code",
   "execution_count": 111,
   "metadata": {},
   "outputs": [
    {
     "data": {
      "text/plain": [
       "'This is my feedback as a Beta-Tester for the course:Week 1I thought that the videos were clear, well organized and flowed well from topic to topic.  There was a clear logic as the professor developed the various ratios. What was missing for me was some in-line quizzes.  Not the “tell me what I just told you type” but rather ones that make you think.  So, for example, in the final video for Week 1, the optional video, instead of just suggesting that the students “play” with the spreadsheet, I think it would be better to give them an actual task or two… “change the assumption about X to <this value>.  What is the impact on the Y ratio?  Why?”  I liked that he showed what numbers needed to be changed to make the share valuation closer to $55.  But rather than just telling us the answer, this would be another opportunity to have the students stop the video and go try it themselves.  With a specific task, it is likely that more students will go and work with the spreadsheet.  This is where '"
      ]
     },
     "execution_count": 111,
     "metadata": {},
     "output_type": "execute_result"
    }
   ],
   "source": [
    "# this review is done by a beta tester\n",
    "df_beta.loc[1418884, 'reviews'][0:1000]"
   ]
  },
  {
   "cell_type": "code",
   "execution_count": 104,
   "metadata": {},
   "outputs": [
    {
     "data": {
      "text/plain": [
       "'I haven\\'t had similar issues with previous courses by Deeplearning.ai, but with this one I was worried I\\'m overly stupid the moment I started, because I noted I was \"missing\" a lot and was not understanding easily what\\'s going on (Note: I have all required background from the ML Course and DL Specialization). Then I saw the existing reviews and was happy to see I\\'m not alone to feel like that: - Overly superficial coverage of theory in videos; too many things not explained well (if at all).  For example: last week\\'s videos are about... 18 minutes. REALLY? I thought we were talking more complex stuff here. If one can be taught this in 18 minutes, then... oh well...- Lots of \"copy-paste  this here\" parts in assignments, too (not much thinking/effort required). - The quizzes are (as in most courses) a joke, they\\'re there just for the sake of it; I just skip them.- Looks to have been created in too much of a rush; I don\\'t know if that\\'s the case, but that\\'s the feeling I get from the content quality...Based on the success of the original Andrew Ng courses, the quality bar is high as are the expectations. I hope there is better quality control in future specializations, either in-house or by better selection of external beta-testers. I can\\'t believe several reviewers bring this up, but no one else did before the release.'"
      ]
     },
     "execution_count": 104,
     "metadata": {},
     "output_type": "execute_result"
    }
   ],
   "source": [
    "# this is a review asking for better beta testers, but not done by a beta tester\n",
    "df_beta.loc[1086345,'reviews']"
   ]
  },
  {
   "cell_type": "code",
   "execution_count": 113,
   "metadata": {},
   "outputs": [
    {
     "name": "stdout",
     "output_type": "stream",
     "text": [
      "shape of df is (438726, 10), there are 438726 rows and 10 columns\n"
     ]
    }
   ],
   "source": [
    "# dropping reviews left by beta testers\n",
    "beta_tester_index = [639128, 1418884]\n",
    "df.drop(beta_tester_index , inplace=True)\n",
    "\n",
    "# this is the current shape of our df\n",
    "print (f'shape of df is {df.shape}, there are {df.shape[0]} rows and {df.shape[1]} columns')"
   ]
  },
  {
   "cell_type": "markdown",
   "metadata": {},
   "source": [
    "#### 5.5 reviewers"
   ]
  },
  {
   "cell_type": "code",
   "execution_count": 114,
   "metadata": {},
   "outputs": [
    {
     "name": "stdout",
     "output_type": "stream",
     "text": [
      " There are 250278 unique reviewers in this dataset\n"
     ]
    },
    {
     "data": {
      "text/html": [
       "<div>\n",
       "<style scoped>\n",
       "    .dataframe tbody tr th:only-of-type {\n",
       "        vertical-align: middle;\n",
       "    }\n",
       "\n",
       "    .dataframe tbody tr th {\n",
       "        vertical-align: top;\n",
       "    }\n",
       "\n",
       "    .dataframe thead th {\n",
       "        text-align: right;\n",
       "    }\n",
       "</style>\n",
       "<table border=\"1\" class=\"dataframe\">\n",
       "  <thead>\n",
       "    <tr style=\"text-align: right;\">\n",
       "      <th></th>\n",
       "      <th>reviewers</th>\n",
       "    </tr>\n",
       "  </thead>\n",
       "  <tbody>\n",
       "    <tr>\n",
       "      <th>By Deleted A</th>\n",
       "      <td>1555</td>\n",
       "    </tr>\n",
       "    <tr>\n",
       "      <th>By Muhammad A</th>\n",
       "      <td>186</td>\n",
       "    </tr>\n",
       "    <tr>\n",
       "      <th>By Michael S</th>\n",
       "      <td>148</td>\n",
       "    </tr>\n",
       "    <tr>\n",
       "      <th>By David M</th>\n",
       "      <td>136</td>\n",
       "    </tr>\n",
       "    <tr>\n",
       "      <th>By Abhishek S</th>\n",
       "      <td>133</td>\n",
       "    </tr>\n",
       "  </tbody>\n",
       "</table>\n",
       "</div>"
      ],
      "text/plain": [
       "               reviewers\n",
       "By Deleted A        1555\n",
       "By Muhammad A        186\n",
       "By Michael S         148\n",
       "By David M           136\n",
       "By Abhishek S        133"
      ]
     },
     "metadata": {},
     "output_type": "display_data"
    }
   ],
   "source": [
    "# are there students taking multiple courses?\n",
    "print(f\" There are {df['reviewers'].nunique()} unique reviewers in this dataset\")\n",
    "\n",
    "# there seems to be some repeat reviewers\n",
    "display(pd.DataFrame(df['reviewers'].value_counts()).head())"
   ]
  },
  {
   "cell_type": "code",
   "execution_count": 115,
   "metadata": {},
   "outputs": [
    {
     "data": {
      "text/html": [
       "<div>\n",
       "<style scoped>\n",
       "    .dataframe tbody tr th:only-of-type {\n",
       "        vertical-align: middle;\n",
       "    }\n",
       "\n",
       "    .dataframe tbody tr th {\n",
       "        vertical-align: top;\n",
       "    }\n",
       "\n",
       "    .dataframe thead th {\n",
       "        text-align: right;\n",
       "    }\n",
       "</style>\n",
       "<table border=\"1\" class=\"dataframe\">\n",
       "  <thead>\n",
       "    <tr style=\"text-align: right;\">\n",
       "      <th></th>\n",
       "      <th>name</th>\n",
       "      <th>institution</th>\n",
       "      <th>course_url</th>\n",
       "      <th>course_id</th>\n",
       "      <th>reviews</th>\n",
       "      <th>reviewers</th>\n",
       "      <th>date_reviews</th>\n",
       "      <th>rating</th>\n",
       "      <th>count of words</th>\n",
       "      <th>University</th>\n",
       "    </tr>\n",
       "  </thead>\n",
       "  <tbody>\n",
       "    <tr>\n",
       "      <th>0</th>\n",
       "      <td>Machine Learning</td>\n",
       "      <td>Stanford University</td>\n",
       "      <td>https://www.coursera.org/learn/machine-learning</td>\n",
       "      <td>machine-learning</td>\n",
       "      <td>This is an extremely basic course. Machine lea...</td>\n",
       "      <td>By Deleted A</td>\n",
       "      <td>Mar 18, 2017</td>\n",
       "      <td>1.0</td>\n",
       "      <td>152</td>\n",
       "      <td>University</td>\n",
       "    </tr>\n",
       "    <tr>\n",
       "      <th>5</th>\n",
       "      <td>Machine Learning</td>\n",
       "      <td>Stanford University</td>\n",
       "      <td>https://www.coursera.org/learn/machine-learning</td>\n",
       "      <td>machine-learning</td>\n",
       "      <td>Have to give a star so I will give it one.  Ot...</td>\n",
       "      <td>By Deleted A</td>\n",
       "      <td>Apr 02, 2019</td>\n",
       "      <td>1.0</td>\n",
       "      <td>135</td>\n",
       "      <td>University</td>\n",
       "    </tr>\n",
       "    <tr>\n",
       "      <th>291</th>\n",
       "      <td>Machine Learning</td>\n",
       "      <td>Stanford University</td>\n",
       "      <td>https://www.coursera.org/learn/machine-learning</td>\n",
       "      <td>machine-learning</td>\n",
       "      <td>Sound clarity is so poor sometime the volume i...</td>\n",
       "      <td>By Deleted A</td>\n",
       "      <td>Jun 13, 2020</td>\n",
       "      <td>2.0</td>\n",
       "      <td>41</td>\n",
       "      <td>University</td>\n",
       "    </tr>\n",
       "    <tr>\n",
       "      <th>431</th>\n",
       "      <td>Machine Learning</td>\n",
       "      <td>Stanford University</td>\n",
       "      <td>https://www.coursera.org/learn/machine-learning</td>\n",
       "      <td>machine-learning</td>\n",
       "      <td>Pretty kindergarten. The drawings could have b...</td>\n",
       "      <td>By Deleted A</td>\n",
       "      <td>Jul 18, 2019</td>\n",
       "      <td>3.0</td>\n",
       "      <td>99</td>\n",
       "      <td>University</td>\n",
       "    </tr>\n",
       "    <tr>\n",
       "      <th>1679</th>\n",
       "      <td>Machine Learning</td>\n",
       "      <td>Stanford University</td>\n",
       "      <td>https://www.coursera.org/learn/machine-learning</td>\n",
       "      <td>machine-learning</td>\n",
       "      <td>Prof Andrew Ng did an extremely amazing job, h...</td>\n",
       "      <td>By Deleted A</td>\n",
       "      <td>Dec 01, 2015</td>\n",
       "      <td>4.0</td>\n",
       "      <td>72</td>\n",
       "      <td>University</td>\n",
       "    </tr>\n",
       "  </tbody>\n",
       "</table>\n",
       "</div>"
      ],
      "text/plain": [
       "                  name          institution  \\\n",
       "0     Machine Learning  Stanford University   \n",
       "5     Machine Learning  Stanford University   \n",
       "291   Machine Learning  Stanford University   \n",
       "431   Machine Learning  Stanford University   \n",
       "1679  Machine Learning  Stanford University   \n",
       "\n",
       "                                           course_url         course_id  \\\n",
       "0     https://www.coursera.org/learn/machine-learning  machine-learning   \n",
       "5     https://www.coursera.org/learn/machine-learning  machine-learning   \n",
       "291   https://www.coursera.org/learn/machine-learning  machine-learning   \n",
       "431   https://www.coursera.org/learn/machine-learning  machine-learning   \n",
       "1679  https://www.coursera.org/learn/machine-learning  machine-learning   \n",
       "\n",
       "                                                reviews     reviewers  \\\n",
       "0     This is an extremely basic course. Machine lea...  By Deleted A   \n",
       "5     Have to give a star so I will give it one.  Ot...  By Deleted A   \n",
       "291   Sound clarity is so poor sometime the volume i...  By Deleted A   \n",
       "431   Pretty kindergarten. The drawings could have b...  By Deleted A   \n",
       "1679  Prof Andrew Ng did an extremely amazing job, h...  By Deleted A   \n",
       "\n",
       "      date_reviews  rating  count of words  University  \n",
       "0     Mar 18, 2017     1.0             152  University  \n",
       "5     Apr 02, 2019     1.0             135  University  \n",
       "291   Jun 13, 2020     2.0              41  University  \n",
       "431   Jul 18, 2019     3.0              99  University  \n",
       "1679  Dec 01, 2015     4.0              72  University  "
      ]
     },
     "execution_count": 115,
     "metadata": {},
     "output_type": "execute_result"
    }
   ],
   "source": [
    "# investigating who is 'By Deleted A'\n",
    "# there are credible reviews left 'By Deleted A', seems to imply deleted Account as each review are unique\n",
    "df[df['reviewers'] == 'By Deleted A'].head()"
   ]
  },
  {
   "cell_type": "markdown",
   "metadata": {},
   "source": [
    "#### 5.6 date_reviews"
   ]
  },
  {
   "cell_type": "code",
   "execution_count": 118,
   "metadata": {},
   "outputs": [
    {
     "data": {
      "text/html": [
       "<div>\n",
       "<style scoped>\n",
       "    .dataframe tbody tr th:only-of-type {\n",
       "        vertical-align: middle;\n",
       "    }\n",
       "\n",
       "    .dataframe tbody tr th {\n",
       "        vertical-align: top;\n",
       "    }\n",
       "\n",
       "    .dataframe thead th {\n",
       "        text-align: right;\n",
       "    }\n",
       "</style>\n",
       "<table border=\"1\" class=\"dataframe\">\n",
       "  <thead>\n",
       "    <tr style=\"text-align: right;\">\n",
       "      <th></th>\n",
       "      <th>date_reviews</th>\n",
       "    </tr>\n",
       "  </thead>\n",
       "  <tbody>\n",
       "    <tr>\n",
       "      <th>May 18, 2020</th>\n",
       "      <td>1660</td>\n",
       "    </tr>\n",
       "    <tr>\n",
       "      <th>May 31, 2020</th>\n",
       "      <td>1642</td>\n",
       "    </tr>\n",
       "    <tr>\n",
       "      <th>May 04, 2020</th>\n",
       "      <td>1615</td>\n",
       "    </tr>\n",
       "    <tr>\n",
       "      <th>May 25, 2020</th>\n",
       "      <td>1614</td>\n",
       "    </tr>\n",
       "    <tr>\n",
       "      <th>May 11, 2020</th>\n",
       "      <td>1611</td>\n",
       "    </tr>\n",
       "  </tbody>\n",
       "</table>\n",
       "</div>"
      ],
      "text/plain": [
       "              date_reviews\n",
       "May 18, 2020          1660\n",
       "May 31, 2020          1642\n",
       "May 04, 2020          1615\n",
       "May 25, 2020          1614\n",
       "May 11, 2020          1611"
      ]
     },
     "execution_count": 118,
     "metadata": {},
     "output_type": "execute_result"
    }
   ],
   "source": [
    "pd.DataFrame(df['date_reviews'].value_counts()).head()"
   ]
  },
  {
   "cell_type": "code",
   "execution_count": null,
   "metadata": {},
   "outputs": [],
   "source": [
    "df['Date'] = g_df['Date'].dt.date"
   ]
  },
  {
   "cell_type": "code",
   "execution_count": 121,
   "metadata": {},
   "outputs": [],
   "source": [
    "df['date_reviews'] = [pd.to_datetime(date) for date in df['date_reviews']]"
   ]
  },
  {
   "cell_type": "code",
   "execution_count": 209,
   "metadata": {},
   "outputs": [
    {
     "data": {
      "text/plain": [
       "0           3\n",
       "1          11\n",
       "2           4\n",
       "3           9\n",
       "4          12\n",
       "           ..\n",
       "1454579     3\n",
       "1454580     1\n",
       "1454581     1\n",
       "1454584    11\n",
       "1454640     6\n",
       "Name: month, Length: 438726, dtype: int64"
      ]
     },
     "execution_count": 209,
     "metadata": {},
     "output_type": "execute_result"
    }
   ],
   "source": [
    "df['month'] = [date.month for date in df['date_reviews']]\n",
    "df['month']"
   ]
  },
  {
   "cell_type": "code",
   "execution_count": 210,
   "metadata": {},
   "outputs": [
    {
     "data": {
      "text/plain": [
       "0          2017\n",
       "1          2015\n",
       "2          2019\n",
       "3          2015\n",
       "4          2015\n",
       "           ... \n",
       "1454579    2016\n",
       "1454580    2019\n",
       "1454581    2018\n",
       "1454584    2018\n",
       "1454640    2019\n",
       "Name: year, Length: 438726, dtype: int64"
      ]
     },
     "execution_count": 210,
     "metadata": {},
     "output_type": "execute_result"
    }
   ],
   "source": [
    "df['year'] = [date.year for date in df['date_reviews']]\n",
    "df['year']"
   ]
  },
  {
   "cell_type": "code",
   "execution_count": 211,
   "metadata": {},
   "outputs": [
    {
     "data": {
      "text/plain": [
       "0          2017-03\n",
       "1          2015-11\n",
       "2          2019-04\n",
       "3          2015-09\n",
       "4          2015-12\n",
       "            ...   \n",
       "1454579    2016-03\n",
       "1454580    2019-01\n",
       "1454581    2018-01\n",
       "1454584    2018-11\n",
       "1454640    2019-06\n",
       "Name: year-month, Length: 438726, dtype: object"
      ]
     },
     "execution_count": 211,
     "metadata": {},
     "output_type": "execute_result"
    }
   ],
   "source": [
    "df['year-month'] = df['date_reviews'].apply(lambda x:'{}-{:02d}'.format(x.year, x.month))\n",
    "df['year-month']"
   ]
  },
  {
   "cell_type": "code",
   "execution_count": 130,
   "metadata": {},
   "outputs": [
    {
     "data": {
      "text/plain": [
       "2020    225771\n",
       "2019     72331\n",
       "2018     49538\n",
       "2017     48675\n",
       "2016     32409\n",
       "2015     10002\n",
       "Name: year, dtype: int64"
      ]
     },
     "execution_count": 130,
     "metadata": {},
     "output_type": "execute_result"
    }
   ],
   "source": [
    "df['year'].value_counts()"
   ]
  },
  {
   "cell_type": "code",
   "execution_count": 58,
   "metadata": {},
   "outputs": [
    {
     "data": {
      "text/plain": [
       "0         2017-03-18\n",
       "1         2015-11-09\n",
       "2         2019-04-15\n",
       "3         2015-09-25\n",
       "4         2015-12-12\n",
       "             ...    \n",
       "1454723   2017-10-11\n",
       "1454724   2019-03-10\n",
       "1454725   2018-10-13\n",
       "1454726   2016-08-11\n",
       "1454727   2016-02-21\n",
       "Name: date_reviews, Length: 1454571, dtype: datetime64[ns]"
      ]
     },
     "execution_count": 58,
     "metadata": {},
     "output_type": "execute_result"
    }
   ],
   "source": [
    "# extract year, month\n",
    "# how prevalent is are the reviews\n",
    "df['date_reviews']"
   ]
  },
  {
   "cell_type": "markdown",
   "metadata": {},
   "source": [
    "#### 5.7 rating"
   ]
  },
  {
   "cell_type": "code",
   "execution_count": 134,
   "metadata": {},
   "outputs": [
    {
     "data": {
      "text/html": [
       "<div>\n",
       "<style scoped>\n",
       "    .dataframe tbody tr th:only-of-type {\n",
       "        vertical-align: middle;\n",
       "    }\n",
       "\n",
       "    .dataframe tbody tr th {\n",
       "        vertical-align: top;\n",
       "    }\n",
       "\n",
       "    .dataframe thead th {\n",
       "        text-align: right;\n",
       "    }\n",
       "</style>\n",
       "<table border=\"1\" class=\"dataframe\">\n",
       "  <thead>\n",
       "    <tr style=\"text-align: right;\">\n",
       "      <th></th>\n",
       "      <th>rating</th>\n",
       "    </tr>\n",
       "  </thead>\n",
       "  <tbody>\n",
       "    <tr>\n",
       "      <th>5.0</th>\n",
       "      <td>339535</td>\n",
       "    </tr>\n",
       "    <tr>\n",
       "      <th>4.0</th>\n",
       "      <td>71120</td>\n",
       "    </tr>\n",
       "    <tr>\n",
       "      <th>3.0</th>\n",
       "      <td>16279</td>\n",
       "    </tr>\n",
       "    <tr>\n",
       "      <th>1.0</th>\n",
       "      <td>6041</td>\n",
       "    </tr>\n",
       "    <tr>\n",
       "      <th>2.0</th>\n",
       "      <td>5751</td>\n",
       "    </tr>\n",
       "  </tbody>\n",
       "</table>\n",
       "</div>"
      ],
      "text/plain": [
       "     rating\n",
       "5.0  339535\n",
       "4.0   71120\n",
       "3.0   16279\n",
       "1.0    6041\n",
       "2.0    5751"
      ]
     },
     "execution_count": 134,
     "metadata": {},
     "output_type": "execute_result"
    }
   ],
   "source": [
    "pd.DataFrame(df['rating'].value_counts())"
   ]
  },
  {
   "cell_type": "code",
   "execution_count": 137,
   "metadata": {},
   "outputs": [
    {
     "data": {
      "text/html": [
       "<div>\n",
       "<style scoped>\n",
       "    .dataframe tbody tr th:only-of-type {\n",
       "        vertical-align: middle;\n",
       "    }\n",
       "\n",
       "    .dataframe tbody tr th {\n",
       "        vertical-align: top;\n",
       "    }\n",
       "\n",
       "    .dataframe thead th {\n",
       "        text-align: right;\n",
       "    }\n",
       "</style>\n",
       "<table border=\"1\" class=\"dataframe\">\n",
       "  <thead>\n",
       "    <tr style=\"text-align: right;\">\n",
       "      <th></th>\n",
       "      <th>name</th>\n",
       "      <th>institution</th>\n",
       "      <th>course_url</th>\n",
       "      <th>course_id</th>\n",
       "      <th>reviews</th>\n",
       "      <th>reviewers</th>\n",
       "      <th>date_reviews</th>\n",
       "      <th>rating</th>\n",
       "      <th>count of words</th>\n",
       "      <th>University</th>\n",
       "      <th>month</th>\n",
       "      <th>year</th>\n",
       "      <th>mth-year</th>\n",
       "    </tr>\n",
       "  </thead>\n",
       "  <tbody>\n",
       "    <tr>\n",
       "      <th>0</th>\n",
       "      <td>Machine Learning</td>\n",
       "      <td>Stanford University</td>\n",
       "      <td>https://www.coursera.org/learn/machine-learning</td>\n",
       "      <td>machine-learning</td>\n",
       "      <td>This is an extremely basic course. Machine lea...</td>\n",
       "      <td>By Deleted A</td>\n",
       "      <td>2017-03-18</td>\n",
       "      <td>1.0</td>\n",
       "      <td>152</td>\n",
       "      <td>University</td>\n",
       "      <td>Mar</td>\n",
       "      <td>2017</td>\n",
       "      <td>Mar-2017</td>\n",
       "    </tr>\n",
       "    <tr>\n",
       "      <th>1</th>\n",
       "      <td>Machine Learning</td>\n",
       "      <td>Stanford University</td>\n",
       "      <td>https://www.coursera.org/learn/machine-learning</td>\n",
       "      <td>machine-learning</td>\n",
       "      <td>The course is ok but the certification procedu...</td>\n",
       "      <td>By Bruno C</td>\n",
       "      <td>2015-11-09</td>\n",
       "      <td>1.0</td>\n",
       "      <td>34</td>\n",
       "      <td>University</td>\n",
       "      <td>Nov</td>\n",
       "      <td>2015</td>\n",
       "      <td>Nov-2015</td>\n",
       "    </tr>\n",
       "    <tr>\n",
       "      <th>2</th>\n",
       "      <td>Machine Learning</td>\n",
       "      <td>Stanford University</td>\n",
       "      <td>https://www.coursera.org/learn/machine-learning</td>\n",
       "      <td>machine-learning</td>\n",
       "      <td>I just started week 3 , I have to admit that I...</td>\n",
       "      <td>By Fadi</td>\n",
       "      <td>2019-04-15</td>\n",
       "      <td>1.0</td>\n",
       "      <td>93</td>\n",
       "      <td>University</td>\n",
       "      <td>Apr</td>\n",
       "      <td>2019</td>\n",
       "      <td>Apr-2019</td>\n",
       "    </tr>\n",
       "    <tr>\n",
       "      <th>3</th>\n",
       "      <td>Machine Learning</td>\n",
       "      <td>Stanford University</td>\n",
       "      <td>https://www.coursera.org/learn/machine-learning</td>\n",
       "      <td>machine-learning</td>\n",
       "      <td>This course is absolute garbage.  You get no f...</td>\n",
       "      <td>By Mathew L</td>\n",
       "      <td>2015-09-25</td>\n",
       "      <td>1.0</td>\n",
       "      <td>108</td>\n",
       "      <td>University</td>\n",
       "      <td>Sep</td>\n",
       "      <td>2015</td>\n",
       "      <td>Sep-2015</td>\n",
       "    </tr>\n",
       "    <tr>\n",
       "      <th>4</th>\n",
       "      <td>Machine Learning</td>\n",
       "      <td>Stanford University</td>\n",
       "      <td>https://www.coursera.org/learn/machine-learning</td>\n",
       "      <td>machine-learning</td>\n",
       "      <td>However good the material and lectures may be,...</td>\n",
       "      <td>By Rui C</td>\n",
       "      <td>2015-12-12</td>\n",
       "      <td>1.0</td>\n",
       "      <td>81</td>\n",
       "      <td>University</td>\n",
       "      <td>Dec</td>\n",
       "      <td>2015</td>\n",
       "      <td>Dec-2015</td>\n",
       "    </tr>\n",
       "  </tbody>\n",
       "</table>\n",
       "</div>"
      ],
      "text/plain": [
       "               name          institution  \\\n",
       "0  Machine Learning  Stanford University   \n",
       "1  Machine Learning  Stanford University   \n",
       "2  Machine Learning  Stanford University   \n",
       "3  Machine Learning  Stanford University   \n",
       "4  Machine Learning  Stanford University   \n",
       "\n",
       "                                        course_url         course_id  \\\n",
       "0  https://www.coursera.org/learn/machine-learning  machine-learning   \n",
       "1  https://www.coursera.org/learn/machine-learning  machine-learning   \n",
       "2  https://www.coursera.org/learn/machine-learning  machine-learning   \n",
       "3  https://www.coursera.org/learn/machine-learning  machine-learning   \n",
       "4  https://www.coursera.org/learn/machine-learning  machine-learning   \n",
       "\n",
       "                                             reviews     reviewers  \\\n",
       "0  This is an extremely basic course. Machine lea...  By Deleted A   \n",
       "1  The course is ok but the certification procedu...    By Bruno C   \n",
       "2  I just started week 3 , I have to admit that I...       By Fadi   \n",
       "3  This course is absolute garbage.  You get no f...   By Mathew L   \n",
       "4  However good the material and lectures may be,...      By Rui C   \n",
       "\n",
       "  date_reviews  rating  count of words  University month  year  mth-year  \n",
       "0   2017-03-18     1.0             152  University   Mar  2017  Mar-2017  \n",
       "1   2015-11-09     1.0              34  University   Nov  2015  Nov-2015  \n",
       "2   2019-04-15     1.0              93  University   Apr  2019  Apr-2019  \n",
       "3   2015-09-25     1.0             108  University   Sep  2015  Sep-2015  \n",
       "4   2015-12-12     1.0              81  University   Dec  2015  Dec-2015  "
      ]
     },
     "execution_count": 137,
     "metadata": {},
     "output_type": "execute_result"
    }
   ],
   "source": [
    "df.head()"
   ]
  },
  {
   "cell_type": "code",
   "execution_count": 139,
   "metadata": {},
   "outputs": [
    {
     "data": {
      "text/plain": [
       "Index(['name', 'institution', 'course_url', 'course_id', 'reviews',\n",
       "       'reviewers', 'date_reviews', 'rating', 'count of words', 'University',\n",
       "       'month', 'year', 'mth-year'],\n",
       "      dtype='object')"
      ]
     },
     "execution_count": 139,
     "metadata": {},
     "output_type": "execute_result"
    }
   ],
   "source": [
    "# current columns in df\n",
    "df.columns"
   ]
  },
  {
   "cell_type": "code",
   "execution_count": 140,
   "metadata": {},
   "outputs": [
    {
     "name": "stdout",
     "output_type": "stream",
     "text": [
      "shape of df is (438726, 13), there are 438726 rows and 13 columns\n"
     ]
    }
   ],
   "source": [
    "# this is the current shape of our df\n",
    "print (f'shape of df is {df.shape}, there are {df.shape[0]} rows and {df.shape[1]} columns')"
   ]
  },
  {
   "cell_type": "code",
   "execution_count": 187,
   "metadata": {},
   "outputs": [
    {
     "name": "stdout",
     "output_type": "stream",
     "text": [
      "<class 'pandas.core.frame.DataFrame'>\n",
      "Int64Index: 438726 entries, 0 to 1454640\n",
      "Data columns (total 13 columns):\n",
      " #   Column          Non-Null Count   Dtype         \n",
      "---  ------          --------------   -----         \n",
      " 0   name            438726 non-null  object        \n",
      " 1   institution     438726 non-null  object        \n",
      " 2   course_url      438726 non-null  object        \n",
      " 3   course_id       438726 non-null  object        \n",
      " 4   reviews         438726 non-null  object        \n",
      " 5   reviewers       438726 non-null  object        \n",
      " 6   date_reviews    438726 non-null  datetime64[ns]\n",
      " 7   rating          438726 non-null  float64       \n",
      " 8   count of words  438726 non-null  int64         \n",
      " 9   University      438726 non-null  object        \n",
      " 10  month           438726 non-null  object        \n",
      " 11  year            438726 non-null  object        \n",
      " 12  mth-year        438726 non-null  object        \n",
      "dtypes: datetime64[ns](1), float64(1), int64(1), object(10)\n",
      "memory usage: 46.9+ MB\n"
     ]
    }
   ],
   "source": [
    "df.info()"
   ]
  },
  {
   "cell_type": "markdown",
   "metadata": {},
   "source": [
    "### 6. Insights from entire Dataset"
   ]
  },
  {
   "cell_type": "markdown",
   "metadata": {},
   "source": [
    "- There are interesting trends observed with number of reviews.\n",
    "- There was a huge jump in number of reviews in 2020 which might be due to global lockdown from COVID-19 and the rise of digitalization\n",
    "- Within 2020, the largest jump in number of reviews was from March 2020 which coincides with the beginning of COVID-19 lockdown"
   ]
  },
  {
   "cell_type": "code",
   "execution_count": 159,
   "metadata": {},
   "outputs": [
    {
     "data": {
      "text/html": [
       "<div>\n",
       "<style scoped>\n",
       "    .dataframe tbody tr th:only-of-type {\n",
       "        vertical-align: middle;\n",
       "    }\n",
       "\n",
       "    .dataframe tbody tr th {\n",
       "        vertical-align: top;\n",
       "    }\n",
       "\n",
       "    .dataframe thead th {\n",
       "        text-align: right;\n",
       "    }\n",
       "</style>\n",
       "<table border=\"1\" class=\"dataframe\">\n",
       "  <thead>\n",
       "    <tr style=\"text-align: right;\">\n",
       "      <th></th>\n",
       "      <th>reviews</th>\n",
       "    </tr>\n",
       "    <tr>\n",
       "      <th>year</th>\n",
       "      <th></th>\n",
       "    </tr>\n",
       "  </thead>\n",
       "  <tbody>\n",
       "    <tr>\n",
       "      <th>2015</th>\n",
       "      <td>10002</td>\n",
       "    </tr>\n",
       "    <tr>\n",
       "      <th>2016</th>\n",
       "      <td>32409</td>\n",
       "    </tr>\n",
       "    <tr>\n",
       "      <th>2017</th>\n",
       "      <td>48675</td>\n",
       "    </tr>\n",
       "    <tr>\n",
       "      <th>2018</th>\n",
       "      <td>49538</td>\n",
       "    </tr>\n",
       "    <tr>\n",
       "      <th>2019</th>\n",
       "      <td>72331</td>\n",
       "    </tr>\n",
       "    <tr>\n",
       "      <th>2020</th>\n",
       "      <td>225771</td>\n",
       "    </tr>\n",
       "  </tbody>\n",
       "</table>\n",
       "</div>"
      ],
      "text/plain": [
       "      reviews\n",
       "year         \n",
       "2015    10002\n",
       "2016    32409\n",
       "2017    48675\n",
       "2018    49538\n",
       "2019    72331\n",
       "2020   225771"
      ]
     },
     "execution_count": 159,
     "metadata": {},
     "output_type": "execute_result"
    }
   ],
   "source": [
    "yr_reviews = pd.DataFrame(df.groupby('year')['reviews'].count())\n",
    "yr_reviews"
   ]
  },
  {
   "cell_type": "code",
   "execution_count": 219,
   "metadata": {
    "scrolled": false
   },
   "outputs": [
    {
     "data": {
      "image/png": "[encoded data removed]",
      "text/plain": [
       "<Figure size 576x432 with 1 Axes>"
      ]
     },
     "metadata": {
      "needs_background": "light"
     },
     "output_type": "display_data"
    }
   ],
   "source": [
    "mpl.rcParams['font.size']= 12\n",
    "fig, ax = plt.subplots(figsize=(8, 6))\n",
    "\n",
    "sns.lineplot(x=yr_reviews.index, y = 'reviews', data = yr_reviews, marker='o',ax=ax, markersize=10, lw=2 );\n",
    "plt.title('Count of reviews from 2015 to 2020');"
   ]
  },
  {
   "cell_type": "code",
   "execution_count": 218,
   "metadata": {},
   "outputs": [
    {
     "data": {
      "image/png": "[encoded data removed]",
      "text/plain": [
       "<Figure size 576x432 with 1 Axes>"
      ]
     },
     "metadata": {
      "needs_background": "light"
     },
     "output_type": "display_data"
    }
   ],
   "source": [
    "df_2020 = df[df['year']=='2020']\n",
    "reviews_2020 = pd.DataFrame(df.groupby('month')['reviews'].count())\n",
    "reviews_2020 = reviews_2020.reset_index()\n",
    "\n",
    "fig, ax = plt.subplots(figsize=(8, 6))\n",
    "sns.lineplot(x='month', y = 'reviews', data = reviews_2020, marker='o',ax=ax, markersize=10, lw=2);\n",
    "\n",
    "plt.title('Count of reviews in 2020');"
   ]
  },
  {
   "cell_type": "markdown",
   "metadata": {},
   "source": [
    "### 7. Data Export to csv file"
   ]
  },
  {
   "cell_type": "code",
   "execution_count": 221,
   "metadata": {},
   "outputs": [],
   "source": [
    "df.to_csv('df_cleaned.csv', index=False)"
   ]
  }
 ],
 "metadata": {
  "kernelspec": {
   "display_name": "Python 3",
   "language": "python",
   "name": "python3"
  },
  "language_info": {
   "codemirror_mode": {
    "name": "ipython",
    "version": 3
   },
   "file_extension": ".py",
   "mimetype": "text/x-python",
   "name": "python",
   "nbconvert_exporter": "python",
   "pygments_lexer": "ipython3",
   "version": "3.8.5"
  }
 },
 "nbformat": 4,
 "nbformat_minor": 4
}
