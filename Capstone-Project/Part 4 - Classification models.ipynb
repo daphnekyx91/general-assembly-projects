{
 "cells": [
  {
   "cell_type": "markdown",
   "metadata": {},
   "source": [
    "## Classification modeling of rating 5.0 reviews and rating less than 5.0 reviews"
   ]
  },
  {
   "cell_type": "markdown",
   "metadata": {},
   "source": [
    "### Content"
   ]
  },
  {
   "cell_type": "markdown",
   "metadata": {},
   "source": [
    "- [1. Standard Imports](#1.-Standard-Imports)\n",
    "- [2. Import Translated data](#2.-Import-Translated-data)\n",
    "- [3. Apply PorterStemmer on reviews](#3.-Apply-PorterStemmer-on-reviews)\n",
    "- [4. Train-test-split reviews](#4.-Train-test-split-reviews)\n",
    "- [5. Preprocessing with CountVectorizer](#5.-Preprocessing-with-CountVectorizer)\n",
    "- [6. Baseline Accuracy](#6.-Baseline-Accuracy)\n",
    "- [7. Classification models](#7.-Classification-models)\n",
    " - [7.1 logistic regression](#7.1-logistic-regression)\n",
    " - [7.2 MultinomialNB Classification](#7.2-MultinomialNB-Classification)\n",
    " - [7.3 Decision Tree Classifier](#7.3-Decision-Tree-Classifier)\n",
    " - [7.4 Random Forest Classifier](#7.4-Random-Forest-Classifier)\n",
    " - [7.5 AdaBoost Classifier](#7.5-AdaBoost-Classifier)\n",
    " - [7.6 XGBoost Classifier](#7.6-XGBoost-Classifier)\n",
    "- [8. Classification model Scoreboard](#8.-Classification-model-Scoreboard)\n",
    "- [9. misclassified texts in Multinomial NB](#9.-misclassified-texts-in-Multinomial-NB)\n",
    "- [10. Conclusion](#10.-Conclusion)"
   ]
  },
  {
   "cell_type": "markdown",
   "metadata": {},
   "source": [
    "### 1. Standard Imports"
   ]
  },
  {
   "cell_type": "code",
   "execution_count": 1,
   "metadata": {},
   "outputs": [],
   "source": [
    "# standard imports\n",
    "import numpy as np\n",
    "import pandas as pd\n",
    "import matplotlib.pyplot as plt\n",
    "%matplotlib inline\n",
    "import seaborn as sns\n",
    "\n",
    "# for preprocessing reviews\n",
    "from nltk.stem import PorterStemmer\n",
    "\n",
    "# train test split, cross val score\n",
    "from sklearn.model_selection import train_test_split, cross_val_score\n",
    "\n",
    "# pipeline\n",
    "from sklearn.pipeline import Pipeline\n",
    "\n",
    "# grid search\n",
    "from sklearn.model_selection import GridSearchCV\n",
    "\n",
    "from sklearn.linear_model import LogisticRegression\n",
    "from sklearn.naive_bayes import MultinomialNB\n",
    "from sklearn.neighbors import KNeighborsClassifier\n",
    "from sklearn.tree import DecisionTreeClassifier # they split the tree based on gini purity for classification\n",
    "from sklearn.ensemble import BaggingClassifier\n",
    "#this is an meta-estimator the default is DecisionTreeClassifier\n",
    "from sklearn.ensemble import RandomForestClassifier\n",
    "from sklearn.ensemble import AdaBoostClassifier\n",
    "from sklearn.ensemble import GradientBoostingClassifier\n",
    "from sklearn.svm import SVC\n",
    "\n",
    "from sklearn.metrics import accuracy_score, f1_score, confusion_matrix\n",
    "from sklearn.metrics import roc_auc_score, confusion_matrix, plot_confusion_matrix, accuracy_score, recall_score, plot_roc_curve\n",
    "\n",
    "# Import CountVectorizer and TFIDFVectorizer from feature_extraction.text.\n",
    "from sklearn.feature_extraction.text import CountVectorizer\n",
    "\n",
    "# to save the model\n",
    "import pickle"
   ]
  },
  {
   "cell_type": "markdown",
   "metadata": {},
   "source": [
    "### 2. Import Translated data"
   ]
  },
  {
   "cell_type": "markdown",
   "metadata": {},
   "source": [
    "- `reviews` from Part 3 of the project is used"
   ]
  },
  {
   "cell_type": "code",
   "execution_count": 3,
   "metadata": {},
   "outputs": [],
   "source": [
    "# port over the EDA df, because it is already preprocessed but not yet tokenized\n",
    "df = pd.read_csv('eda_df.csv')"
   ]
  },
  {
   "cell_type": "code",
   "execution_count": 4,
   "metadata": {},
   "outputs": [
    {
     "data": {
      "text/html": [
       "<div>\n",
       "<style scoped>\n",
       "    .dataframe tbody tr th:only-of-type {\n",
       "        vertical-align: middle;\n",
       "    }\n",
       "\n",
       "    .dataframe tbody tr th {\n",
       "        vertical-align: top;\n",
       "    }\n",
       "\n",
       "    .dataframe thead th {\n",
       "        text-align: right;\n",
       "    }\n",
       "</style>\n",
       "<table border=\"1\" class=\"dataframe\">\n",
       "  <thead>\n",
       "    <tr style=\"text-align: right;\">\n",
       "      <th></th>\n",
       "      <th>name</th>\n",
       "      <th>institution</th>\n",
       "      <th>course_url</th>\n",
       "      <th>course_id</th>\n",
       "      <th>reviews</th>\n",
       "      <th>reviewers</th>\n",
       "      <th>date_reviews</th>\n",
       "      <th>rating</th>\n",
       "      <th>count of words</th>\n",
       "      <th>University</th>\n",
       "      <th>month</th>\n",
       "      <th>year</th>\n",
       "      <th>mth-year</th>\n",
       "      <th>year-month</th>\n",
       "      <th>language</th>\n",
       "      <th>target</th>\n",
       "    </tr>\n",
       "  </thead>\n",
       "  <tbody>\n",
       "    <tr>\n",
       "      <th>0</th>\n",
       "      <td>Stanford Introduction to Food and Health</td>\n",
       "      <td>Stanford University</td>\n",
       "      <td>https://www.coursera.org/learn/food-and-health</td>\n",
       "      <td>food-and-health</td>\n",
       "      <td>really way different topics explain examples f...</td>\n",
       "      <td>By Luisa F P G</td>\n",
       "      <td>2020-05-11</td>\n",
       "      <td>5.0</td>\n",
       "      <td>73</td>\n",
       "      <td>University</td>\n",
       "      <td>5</td>\n",
       "      <td>2020</td>\n",
       "      <td>May-2020</td>\n",
       "      <td>2020-05</td>\n",
       "      <td>en</td>\n",
       "      <td>1</td>\n",
       "    </tr>\n",
       "    <tr>\n",
       "      <th>1</th>\n",
       "      <td>Stanford Introduction to Food and Health</td>\n",
       "      <td>Stanford University</td>\n",
       "      <td>https://www.coursera.org/learn/food-and-health</td>\n",
       "      <td>food-and-health</td>\n",
       "      <td>happy provided broad look nutritional value de...</td>\n",
       "      <td>By Liliana B</td>\n",
       "      <td>2020-06-19</td>\n",
       "      <td>5.0</td>\n",
       "      <td>61</td>\n",
       "      <td>University</td>\n",
       "      <td>6</td>\n",
       "      <td>2020</td>\n",
       "      <td>Jun-2020</td>\n",
       "      <td>2020-06</td>\n",
       "      <td>en</td>\n",
       "      <td>1</td>\n",
       "    </tr>\n",
       "  </tbody>\n",
       "</table>\n",
       "</div>"
      ],
      "text/plain": [
       "                                       name          institution  \\\n",
       "0  Stanford Introduction to Food and Health  Stanford University   \n",
       "1  Stanford Introduction to Food and Health  Stanford University   \n",
       "\n",
       "                                       course_url        course_id  \\\n",
       "0  https://www.coursera.org/learn/food-and-health  food-and-health   \n",
       "1  https://www.coursera.org/learn/food-and-health  food-and-health   \n",
       "\n",
       "                                             reviews        reviewers  \\\n",
       "0  really way different topics explain examples f...  By Luisa F P G    \n",
       "1  happy provided broad look nutritional value de...     By Liliana B   \n",
       "\n",
       "  date_reviews  rating  count of words  University  month  year  mth-year  \\\n",
       "0   2020-05-11     5.0              73  University      5  2020  May-2020   \n",
       "1   2020-06-19     5.0              61  University      6  2020  Jun-2020   \n",
       "\n",
       "  year-month language  target  \n",
       "0    2020-05       en       1  \n",
       "1    2020-06       en       1  "
      ]
     },
     "execution_count": 4,
     "metadata": {},
     "output_type": "execute_result"
    }
   ],
   "source": [
    "df.head(2)"
   ]
  },
  {
   "cell_type": "code",
   "execution_count": 5,
   "metadata": {},
   "outputs": [
    {
     "data": {
      "text/plain": [
       "0    really way different topics explain examples f...\n",
       "1    happy provided broad look nutritional value de...\n",
       "2    although initiation interesting topics touched...\n",
       "3    interesting videos subtitled test although ser...\n",
       "4    excellent really important see introduce neces...\n",
       "Name: reviews, dtype: object"
      ]
     },
     "execution_count": 5,
     "metadata": {},
     "output_type": "execute_result"
    }
   ],
   "source": [
    "df['reviews'].head()"
   ]
  },
  {
   "cell_type": "code",
   "execution_count": 6,
   "metadata": {},
   "outputs": [
    {
     "name": "stdout",
     "output_type": "stream",
     "text": [
      "shape of df is (401785, 16), there are 401785 rows and 16 columns\n"
     ]
    }
   ],
   "source": [
    "# this is the current shape of our translated_df\n",
    "print (f'shape of df is {df.shape}, there are {df.shape[0]} rows and {df.shape[1]} columns')"
   ]
  },
  {
   "cell_type": "markdown",
   "metadata": {},
   "source": [
    "### 3. Apply PorterStemmer on reviews"
   ]
  },
  {
   "cell_type": "markdown",
   "metadata": {},
   "source": [
    "- Part 3 of the project where Exploratory Data Analysis is conducted, url links, symbols and digits are removed from `reviews`\n",
    "- text in `reviews` are stemmed, where the morphological affixes from words are removed, leaving the stemmed version\n",
    "- this help reduces the size of the Bag of Words"
   ]
  },
  {
   "cell_type": "code",
   "execution_count": 7,
   "metadata": {},
   "outputs": [],
   "source": [
    "import regex as re\n",
    "p_stemmer = PorterStemmer()\n",
    "\n",
    "def stem_words(review):\n",
    "    review_1 = re.sub(\"[^a-zA-Z]\", \" \", review).split()\n",
    "    review_2 = [p_stemmer.stem(i) for i in review_1]\n",
    "    return (\" \".join(review_2))"
   ]
  },
  {
   "cell_type": "code",
   "execution_count": 8,
   "metadata": {},
   "outputs": [],
   "source": [
    "# preprocessing the text to tokennized form\n",
    "#from nltk.stem import PorterStemmer\n",
    "\n",
    "df['reviews'] = df['reviews'].apply(stem_words)"
   ]
  },
  {
   "cell_type": "markdown",
   "metadata": {},
   "source": [
    "### 4. Train-test-split reviews"
   ]
  },
  {
   "cell_type": "markdown",
   "metadata": {},
   "source": [
    "- X is `reviews`\n",
    "- y is `target` where `target`= 1 means `rating`=5 while `target`= 0 means `rating` less than 5\n",
    "- X and y are then train_test_split into X_train, X_test, y_train, y_test"
   ]
  },
  {
   "cell_type": "code",
   "execution_count": 56,
   "metadata": {},
   "outputs": [
    {
     "data": {
      "text/html": [
       "<div>\n",
       "<style scoped>\n",
       "    .dataframe tbody tr th:only-of-type {\n",
       "        vertical-align: middle;\n",
       "    }\n",
       "\n",
       "    .dataframe tbody tr th {\n",
       "        vertical-align: top;\n",
       "    }\n",
       "\n",
       "    .dataframe thead th {\n",
       "        text-align: right;\n",
       "    }\n",
       "</style>\n",
       "<table border=\"1\" class=\"dataframe\">\n",
       "  <thead>\n",
       "    <tr style=\"text-align: right;\">\n",
       "      <th></th>\n",
       "      <th></th>\n",
       "      <th>reviews</th>\n",
       "    </tr>\n",
       "    <tr>\n",
       "      <th>target</th>\n",
       "      <th>rating</th>\n",
       "      <th></th>\n",
       "    </tr>\n",
       "  </thead>\n",
       "  <tbody>\n",
       "    <tr>\n",
       "      <th rowspan=\"4\" valign=\"top\">0</th>\n",
       "      <th>1.0</th>\n",
       "      <td>5709</td>\n",
       "    </tr>\n",
       "    <tr>\n",
       "      <th>2.0</th>\n",
       "      <td>5527</td>\n",
       "    </tr>\n",
       "    <tr>\n",
       "      <th>3.0</th>\n",
       "      <td>15430</td>\n",
       "    </tr>\n",
       "    <tr>\n",
       "      <th>4.0</th>\n",
       "      <td>65514</td>\n",
       "    </tr>\n",
       "    <tr>\n",
       "      <th>1</th>\n",
       "      <th>5.0</th>\n",
       "      <td>309605</td>\n",
       "    </tr>\n",
       "  </tbody>\n",
       "</table>\n",
       "</div>"
      ],
      "text/plain": [
       "               reviews\n",
       "target rating         \n",
       "0      1.0        5709\n",
       "       2.0        5527\n",
       "       3.0       15430\n",
       "       4.0       65514\n",
       "1      5.0      309605"
      ]
     },
     "execution_count": 56,
     "metadata": {},
     "output_type": "execute_result"
    }
   ],
   "source": [
    "df.groupby(['target','rating'])[['reviews']].count()"
   ]
  },
  {
   "cell_type": "code",
   "execution_count": 9,
   "metadata": {},
   "outputs": [
    {
     "name": "stdout",
     "output_type": "stream",
     "text": [
      "X.shape :  (401785, 1)\n",
      "y.shape  :  (401785,)\n"
     ]
    }
   ],
   "source": [
    "# Create X and y for the Classification models\n",
    "\n",
    "X = df[['reviews']]\n",
    "y = df['target']\n",
    "\n",
    "print('X.shape : ' , X.shape)\n",
    "print('y.shape  : ' , y.shape)"
   ]
  },
  {
   "cell_type": "code",
   "execution_count": 10,
   "metadata": {},
   "outputs": [
    {
     "name": "stdout",
     "output_type": "stream",
     "text": [
      "X_train.shape :  (301338, 1)\n",
      "X_test.shape  :  (100447, 1)\n",
      "y_train.shape :  (301338,)\n",
      "y_test.shape  :  (100447,)\n"
     ]
    }
   ],
   "source": [
    "# train_test_split\n",
    "X_train, X_test, y_train, y_test = train_test_split(X, y, random_state=42)\n",
    "\n",
    "# checking shape of the train and test sets\n",
    "print('X_train.shape : ' , X_train.shape)\n",
    "print('X_test.shape  : ' , X_test.shape)\n",
    "print('y_train.shape : ' , y_train.shape)\n",
    "print('y_test.shape  : ' , y_test.shape)"
   ]
  },
  {
   "cell_type": "code",
   "execution_count": 11,
   "metadata": {},
   "outputs": [],
   "source": [
    "# convert the X_train into a list\n",
    "X_train_list=list()\n",
    "\n",
    "for row in X_train['reviews']:\n",
    "    X_train_list.append(row)"
   ]
  },
  {
   "cell_type": "code",
   "execution_count": 12,
   "metadata": {},
   "outputs": [
    {
     "data": {
      "text/plain": [
       "['provid thank curat enough', 'pretti teacher amaz']"
      ]
     },
     "execution_count": 12,
     "metadata": {},
     "output_type": "execute_result"
    }
   ],
   "source": [
    "# checking\n",
    "X_train_list[0:2]"
   ]
  },
  {
   "cell_type": "code",
   "execution_count": 13,
   "metadata": {},
   "outputs": [],
   "source": [
    "# convert the X_test into a list\n",
    "X_test_list=list()\n",
    "\n",
    "for row in X_test['reviews']:\n",
    "    X_test_list.append(row)"
   ]
  },
  {
   "cell_type": "code",
   "execution_count": 14,
   "metadata": {},
   "outputs": [
    {
     "data": {
      "text/plain": [
       "['aspect back rewir challeng realli transform miss last star peer grade assign meant sometim ridicul dumb rate zero even though clearli gotten answer right take help serious want pull score other wish way screen bad',\n",
       " 'give valuabl howev assign way easi']"
      ]
     },
     "execution_count": 14,
     "metadata": {},
     "output_type": "execute_result"
    }
   ],
   "source": [
    "# checking\n",
    "X_test_list[0:2]"
   ]
  },
  {
   "cell_type": "markdown",
   "metadata": {},
   "source": [
    "### 5. Preprocessing with CountVectorizer"
   ]
  },
  {
   "cell_type": "markdown",
   "metadata": {},
   "source": [
    "- text data in `reviews` are then converted into numerical data (a matrix of token counts) using CountVectorizer\n",
    "- Machine Learning Algorithms can only use numerical data\n",
    "- **max_features = 4000** is used, means there are 4000 features\n",
    "- **ngram_range = (1, 2)** is used, evident from EDA there are unigram and bigram that seems to differentiate target 1 and target 0 `reviews`"
   ]
  },
  {
   "cell_type": "code",
   "execution_count": 15,
   "metadata": {},
   "outputs": [],
   "source": [
    "### Preprocessing with CountVectorizer\n",
    "count_vec = CountVectorizer(analyzer = \"word\",\n",
    "                             max_df= 0.9,\n",
    "                             min_df= 3,\n",
    "                             stop_words = None,\n",
    "                             max_features = 4000,\n",
    "                            ngram_range=(1, 2)\n",
    "                            ) \n",
    "\n",
    "X_train_cv = count_vec.fit_transform(X_train_list)"
   ]
  },
  {
   "cell_type": "code",
   "execution_count": 16,
   "metadata": {},
   "outputs": [],
   "source": [
    "X_test_cv = count_vec.transform(X_test_list)"
   ]
  },
  {
   "cell_type": "code",
   "execution_count": 17,
   "metadata": {},
   "outputs": [
    {
     "data": {
      "text/plain": [
       "4000"
      ]
     },
     "execution_count": 17,
     "metadata": {},
     "output_type": "execute_result"
    }
   ],
   "source": [
    "len(count_vec.get_feature_names())"
   ]
  },
  {
   "cell_type": "code",
   "execution_count": 18,
   "metadata": {},
   "outputs": [
    {
     "data": {
      "text/plain": [
       "['abil',\n",
       " 'abl',\n",
       " 'abl appli',\n",
       " 'abl complet',\n",
       " 'abl finish',\n",
       " 'abl follow',\n",
       " 'abl take',\n",
       " 'abl use',\n",
       " 'absolut',\n",
       " 'absolut amaz']"
      ]
     },
     "execution_count": 18,
     "metadata": {},
     "output_type": "execute_result"
    }
   ],
   "source": [
    "count_vec.get_feature_names()[:10]"
   ]
  },
  {
   "cell_type": "markdown",
   "metadata": {},
   "source": [
    "### 6. Baseline Accuracy"
   ]
  },
  {
   "cell_type": "markdown",
   "metadata": {},
   "source": [
    "Classification model needs to be higher than 77%(baseline accuracy)"
   ]
  },
  {
   "cell_type": "code",
   "execution_count": 19,
   "metadata": {},
   "outputs": [
    {
     "data": {
      "text/plain": [
       "1    0.770574\n",
       "0    0.229426\n",
       "Name: target, dtype: float64"
      ]
     },
     "execution_count": 19,
     "metadata": {},
     "output_type": "execute_result"
    }
   ],
   "source": [
    "### Base line Accuracy\n",
    "\n",
    "df['target'].value_counts(normalize=True)"
   ]
  },
  {
   "cell_type": "markdown",
   "metadata": {},
   "source": [
    "### 7. Classification models"
   ]
  },
  {
   "cell_type": "markdown",
   "metadata": {},
   "source": [
    "#### 7.1 logistic regression"
   ]
  },
  {
   "cell_type": "code",
   "execution_count": 22,
   "metadata": {},
   "outputs": [
    {
     "data": {
      "text/plain": [
       "{'C': 1.0,\n",
       " 'class_weight': None,\n",
       " 'dual': False,\n",
       " 'fit_intercept': True,\n",
       " 'intercept_scaling': 1,\n",
       " 'l1_ratio': None,\n",
       " 'max_iter': 10000,\n",
       " 'multi_class': 'auto',\n",
       " 'n_jobs': None,\n",
       " 'penalty': 'l2',\n",
       " 'random_state': None,\n",
       " 'solver': 'lbfgs',\n",
       " 'tol': 0.0001,\n",
       " 'verbose': 0,\n",
       " 'warm_start': False}"
      ]
     },
     "execution_count": 22,
     "metadata": {},
     "output_type": "execute_result"
    }
   ],
   "source": [
    "# instantiate Logistic Regression\n",
    "logreg = LogisticRegression( max_iter=10000)\n",
    "\n",
    "# checking what are the parameters for logreg\n",
    "logreg.get_params()"
   ]
  },
  {
   "cell_type": "code",
   "execution_count": 23,
   "metadata": {},
   "outputs": [],
   "source": [
    "# params for gridsearch\n",
    "logreg_params = {'C': [0.01, 0.1 , 1],\n",
    "                 'penalty': [ 'l2'],\n",
    "                 'solver':['sag', 'saga']}\n",
    "\n",
    "# 5 time cross-validation using the hyperparameters in the logreg_params\n",
    "logreg_CV = GridSearchCV(logreg, logreg_params, cv=5) "
   ]
  },
  {
   "cell_type": "code",
   "execution_count": 24,
   "metadata": {},
   "outputs": [
    {
     "data": {
      "text/plain": [
       "GridSearchCV(cv=5, estimator=LogisticRegression(max_iter=10000),\n",
       "             param_grid={'C': [0.01, 0.1, 1], 'penalty': ['l2'],\n",
       "                         'solver': ['sag', 'saga']})"
      ]
     },
     "execution_count": 24,
     "metadata": {},
     "output_type": "execute_result"
    }
   ],
   "source": [
    "# fit GridSearch to training data\n",
    "logreg_CV.fit(X_train_cv, y_train)"
   ]
  },
  {
   "cell_type": "code",
   "execution_count": 25,
   "metadata": {},
   "outputs": [
    {
     "data": {
      "text/plain": [
       "LogisticRegression(C=1, max_iter=10000, solver='saga')"
      ]
     },
     "execution_count": 25,
     "metadata": {},
     "output_type": "execute_result"
    }
   ],
   "source": [
    "# the best params/estimator from Grid Search\n",
    "logreg_CV.best_estimator_"
   ]
  },
  {
   "cell_type": "code",
   "execution_count": 26,
   "metadata": {},
   "outputs": [
    {
     "data": {
      "text/plain": [
       "0.8339738084772337"
      ]
     },
     "execution_count": 26,
     "metadata": {},
     "output_type": "execute_result"
    }
   ],
   "source": [
    "# GridSearch accuracy score\n",
    "logreg_CV.best_score_"
   ]
  },
  {
   "cell_type": "code",
   "execution_count": 27,
   "metadata": {},
   "outputs": [
    {
     "data": {
      "text/plain": [
       "0.839173950845894"
      ]
     },
     "execution_count": 27,
     "metadata": {},
     "output_type": "execute_result"
    }
   ],
   "source": [
    "logreg_model = logreg_CV.best_estimator_\n",
    "\n",
    "logreg_model.score(X_train_cv, y_train)"
   ]
  },
  {
   "cell_type": "code",
   "execution_count": 28,
   "metadata": {},
   "outputs": [],
   "source": [
    "def model_score(model):\n",
    "    print('Train Accuracy Score   :', model.score(X_train_cv, y_train))\n",
    "    print('Test Accuracy Score   :', model.score(X_test_cv, y_test))\n",
    "    print('Delta Between Train & Accuracy Score   :',model.score(X_train_cv, y_train) - model.score(X_test_cv, y_test) )\n",
    "    \n",
    "    print('------------------------------')\n",
    "    \n",
    "    predictions = model.predict(X_test_cv)\n",
    "    tn, fp, fn, tp = confusion_matrix(y_test, predictions).ravel()\n",
    "    print(\"True Negatives  : %s\" % tn)\n",
    "    print(\"False Positives  : %s\" % fp)\n",
    "    print(\"False Negatives  : %s\" % fn)\n",
    "    print(\"True Positives  : %s\" % tp)\n",
    "    print('------------------------------')\n",
    "    \n",
    "     # sensitivity\n",
    "    sensi = tp/(tp + fn)\n",
    "    print(f'Sensitivity / True Positive Rate  : {sensi}')\n",
    "    \n",
    "    # false_postive_rate\n",
    "    false_postive_rate = fp/(tn + fp)\n",
    "    print(f'Fall-out / False Positive Rate  : {false_postive_rate}')\n",
    "    \n",
    "    ### plot ROC curve\n",
    "    plot_roc_curve(model, X_test_cv, y_test)"
   ]
  },
  {
   "cell_type": "code",
   "execution_count": 29,
   "metadata": {},
   "outputs": [
    {
     "name": "stdout",
     "output_type": "stream",
     "text": [
      "Train Accuracy Score   : 0.839173950845894\n",
      "Test Accuracy Score   : 0.832538552669567\n",
      "Delta Between Train & Accuracy Score   : 0.006635398176326968\n",
      "------------------------------\n",
      "True Negatives  : 9161\n",
      "False Positives  : 13882\n",
      "False Negatives  : 2939\n",
      "True Positives  : 74465\n",
      "------------------------------\n",
      "Sensitivity / True Positive Rate  : 0.962030386026562\n",
      "Fall-out / False Positive Rate  : 0.6024389185435924\n"
     ]
    },
    {
     "data": {
      "image/png": "[encoded data removed]",
      "text/plain": [
       "<Figure size 432x288 with 1 Axes>"
      ]
     },
     "metadata": {
      "needs_background": "light"
     },
     "output_type": "display_data"
    }
   ],
   "source": [
    "model_score(logreg_model)"
   ]
  },
  {
   "cell_type": "code",
   "execution_count": 28,
   "metadata": {},
   "outputs": [],
   "source": [
    "filename = 'logreg_model.sav'\n",
    "pickle.dump(logreg_model, open(filename, 'wb'))"
   ]
  },
  {
   "cell_type": "code",
   "execution_count": 29,
   "metadata": {},
   "outputs": [
    {
     "data": {
      "text/plain": [
       "array([ 0.35601032,  0.25658052,  0.05690431, ..., -0.06614776,\n",
       "        0.16364035, -0.15874923])"
      ]
     },
     "execution_count": 29,
     "metadata": {},
     "output_type": "execute_result"
    }
   ],
   "source": [
    "logreg_model.coef_[0]"
   ]
  },
  {
   "cell_type": "code",
   "execution_count": 30,
   "metadata": {},
   "outputs": [
    {
     "data": {
      "text/plain": [
       "4000"
      ]
     },
     "execution_count": 30,
     "metadata": {},
     "output_type": "execute_result"
    }
   ],
   "source": [
    "len(count_vec.get_feature_names())"
   ]
  },
  {
   "cell_type": "code",
   "execution_count": 31,
   "metadata": {},
   "outputs": [
    {
     "data": {
      "text/html": [
       "<div>\n",
       "<style scoped>\n",
       "    .dataframe tbody tr th:only-of-type {\n",
       "        vertical-align: middle;\n",
       "    }\n",
       "\n",
       "    .dataframe tbody tr th {\n",
       "        vertical-align: top;\n",
       "    }\n",
       "\n",
       "    .dataframe thead th {\n",
       "        text-align: right;\n",
       "    }\n",
       "</style>\n",
       "<table border=\"1\" class=\"dataframe\">\n",
       "  <thead>\n",
       "    <tr style=\"text-align: right;\">\n",
       "      <th></th>\n",
       "      <th>unigram/bigram</th>\n",
       "      <th>logreg coef</th>\n",
       "    </tr>\n",
       "  </thead>\n",
       "  <tbody>\n",
       "    <tr>\n",
       "      <th>3014</th>\n",
       "      <td>recommend enough</td>\n",
       "      <td>2.251682</td>\n",
       "    </tr>\n",
       "    <tr>\n",
       "      <th>1236</th>\n",
       "      <td>excelent</td>\n",
       "      <td>1.670241</td>\n",
       "    </tr>\n",
       "    <tr>\n",
       "      <th>2910</th>\n",
       "      <td>quizz exercis</td>\n",
       "      <td>1.544073</td>\n",
       "    </tr>\n",
       "    <tr>\n",
       "      <th>2693</th>\n",
       "      <td>phenomen</td>\n",
       "      <td>1.479121</td>\n",
       "    </tr>\n",
       "    <tr>\n",
       "      <th>3549</th>\n",
       "      <td>thank hope</td>\n",
       "      <td>1.362697</td>\n",
       "    </tr>\n",
       "    <tr>\n",
       "      <th>2252</th>\n",
       "      <td>magnific</td>\n",
       "      <td>1.348081</td>\n",
       "    </tr>\n",
       "    <tr>\n",
       "      <th>2770</th>\n",
       "      <td>priceless</td>\n",
       "      <td>1.332247</td>\n",
       "    </tr>\n",
       "    <tr>\n",
       "      <th>2293</th>\n",
       "      <td>marvel</td>\n",
       "      <td>1.331407</td>\n",
       "    </tr>\n",
       "    <tr>\n",
       "      <th>1175</th>\n",
       "      <td>excel</td>\n",
       "      <td>1.323187</td>\n",
       "    </tr>\n",
       "    <tr>\n",
       "      <th>2488</th>\n",
       "      <td>never felt</td>\n",
       "      <td>1.313332</td>\n",
       "    </tr>\n",
       "  </tbody>\n",
       "</table>\n",
       "</div>"
      ],
      "text/plain": [
       "        unigram/bigram  logreg coef\n",
       "3014  recommend enough     2.251682\n",
       "1236          excelent     1.670241\n",
       "2910     quizz exercis     1.544073\n",
       "2693          phenomen     1.479121\n",
       "3549        thank hope     1.362697\n",
       "2252          magnific     1.348081\n",
       "2770         priceless     1.332247\n",
       "2293            marvel     1.331407\n",
       "1175             excel     1.323187\n",
       "2488        never felt     1.313332"
      ]
     },
     "execution_count": 31,
     "metadata": {},
     "output_type": "execute_result"
    }
   ],
   "source": [
    "pd.DataFrame({'unigram/bigram': count_vec.get_feature_names(),\n",
    "              'logreg coef': logreg_model.coef_[0]}).sort_values(by='logreg coef', ascending=False).head(10)"
   ]
  },
  {
   "cell_type": "markdown",
   "metadata": {},
   "source": [
    "- a one-unit presence in 'recommend enough' implies a 2.251682 unit change in the log odds of success in classifying the correct target `reviews`\n",
    "- Above are the top 10 unigram/bigram that have highest log odds of success in Logistic Regression.\n",
    "- We can observe that unigram/bigram like 'recommend enough', 'excelent' are **positive words**."
   ]
  },
  {
   "cell_type": "code",
   "execution_count": 32,
   "metadata": {},
   "outputs": [
    {
     "data": {
      "text/html": [
       "<div>\n",
       "<style scoped>\n",
       "    .dataframe tbody tr th:only-of-type {\n",
       "        vertical-align: middle;\n",
       "    }\n",
       "\n",
       "    .dataframe tbody tr th {\n",
       "        vertical-align: top;\n",
       "    }\n",
       "\n",
       "    .dataframe thead th {\n",
       "        text-align: right;\n",
       "    }\n",
       "</style>\n",
       "<table border=\"1\" class=\"dataframe\">\n",
       "  <thead>\n",
       "    <tr style=\"text-align: right;\">\n",
       "      <th></th>\n",
       "      <th>unigram/bigram</th>\n",
       "      <th>logreg coef</th>\n",
       "    </tr>\n",
       "  </thead>\n",
       "  <tbody>\n",
       "    <tr>\n",
       "      <th>3975</th>\n",
       "      <td>worst</td>\n",
       "      <td>-2.983904</td>\n",
       "    </tr>\n",
       "    <tr>\n",
       "      <th>2726</th>\n",
       "      <td>poorli</td>\n",
       "      <td>-2.615576</td>\n",
       "    </tr>\n",
       "    <tr>\n",
       "      <th>1715</th>\n",
       "      <td>horribl</td>\n",
       "      <td>-2.421261</td>\n",
       "    </tr>\n",
       "    <tr>\n",
       "      <th>2996</th>\n",
       "      <td>reason give</td>\n",
       "      <td>-2.250620</td>\n",
       "    </tr>\n",
       "    <tr>\n",
       "      <th>294</th>\n",
       "      <td>aw</td>\n",
       "      <td>-2.078720</td>\n",
       "    </tr>\n",
       "    <tr>\n",
       "      <th>2603</th>\n",
       "      <td>outdat</td>\n",
       "      <td>-1.868543</td>\n",
       "    </tr>\n",
       "    <tr>\n",
       "      <th>3769</th>\n",
       "      <td>useless</td>\n",
       "      <td>-1.852079</td>\n",
       "    </tr>\n",
       "    <tr>\n",
       "      <th>3424</th>\n",
       "      <td>superfici</td>\n",
       "      <td>-1.798839</td>\n",
       "    </tr>\n",
       "    <tr>\n",
       "      <th>2725</th>\n",
       "      <td>poor</td>\n",
       "      <td>-1.729227</td>\n",
       "    </tr>\n",
       "    <tr>\n",
       "      <th>894</th>\n",
       "      <td>disappoint</td>\n",
       "      <td>-1.620530</td>\n",
       "    </tr>\n",
       "  </tbody>\n",
       "</table>\n",
       "</div>"
      ],
      "text/plain": [
       "     unigram/bigram  logreg coef\n",
       "3975          worst    -2.983904\n",
       "2726         poorli    -2.615576\n",
       "1715        horribl    -2.421261\n",
       "2996    reason give    -2.250620\n",
       "294              aw    -2.078720\n",
       "2603         outdat    -1.868543\n",
       "3769        useless    -1.852079\n",
       "3424      superfici    -1.798839\n",
       "2725           poor    -1.729227\n",
       "894      disappoint    -1.620530"
      ]
     },
     "execution_count": 32,
     "metadata": {},
     "output_type": "execute_result"
    }
   ],
   "source": [
    "pd.DataFrame({'unigram/bigram': count_vec.get_feature_names(),\n",
    "              'logreg coef': logreg_model.coef_[0]}).sort_values(by='logreg coef', ascending=True).head(10)"
   ]
  },
  {
   "cell_type": "markdown",
   "metadata": {},
   "source": [
    "- a one-unit presence in 'worst' implies a -2.983904 unit change in the log odds of success in classifying the correct target `reviews`\n",
    "- Above are the top 10 unigram/bigram that have lowest log odds of success in Logistic Regression.\n",
    "- We can observe that unigram/bigram like 'worst', 'poorli', 'horribl' are **negative words**."
   ]
  },
  {
   "cell_type": "code",
   "execution_count": 33,
   "metadata": {},
   "outputs": [],
   "source": [
    "logreg_model = pickle.load(open('logreg_model.sav', 'rb'))"
   ]
  },
  {
   "cell_type": "markdown",
   "metadata": {},
   "source": [
    "#### 7.2 MultinomialNB Classification"
   ]
  },
  {
   "cell_type": "code",
   "execution_count": 99,
   "metadata": {},
   "outputs": [
    {
     "data": {
      "text/plain": [
       "{'alpha': 1.0, 'class_prior': None, 'fit_prior': True}"
      ]
     },
     "execution_count": 99,
     "metadata": {},
     "output_type": "execute_result"
    }
   ],
   "source": [
    "# instantiate MultinomialNB\n",
    "Multi_NB = MultinomialNB()\n",
    "\n",
    "# find what are the parameters inside\n",
    "Multi_NB.get_params()"
   ]
  },
  {
   "cell_type": "code",
   "execution_count": 100,
   "metadata": {},
   "outputs": [],
   "source": [
    "# params for gridsearch\n",
    "Multi_NB_params = {'alpha': [0.01, 0.1 , 1]}\n",
    "\n",
    "# 5 time cross-validation using the hyperparameters in the Multi_NB_params\n",
    "Multi_NB_CV = GridSearchCV(Multi_NB, Multi_NB_params, cv=5) "
   ]
  },
  {
   "cell_type": "code",
   "execution_count": 101,
   "metadata": {},
   "outputs": [
    {
     "data": {
      "text/plain": [
       "GridSearchCV(cv=5, estimator=MultinomialNB(),\n",
       "             param_grid={'alpha': [0.01, 0.1, 1]})"
      ]
     },
     "execution_count": 101,
     "metadata": {},
     "output_type": "execute_result"
    }
   ],
   "source": [
    "# fitting to train set\n",
    "Multi_NB_CV.fit(X_train_cv, y_train)"
   ]
  },
  {
   "cell_type": "code",
   "execution_count": 102,
   "metadata": {},
   "outputs": [
    {
     "data": {
      "text/plain": [
       "MultinomialNB(alpha=0.1)"
      ]
     },
     "execution_count": 102,
     "metadata": {},
     "output_type": "execute_result"
    }
   ],
   "source": [
    "# finding the best params/estimator\n",
    "Multi_NB_CV.best_estimator_"
   ]
  },
  {
   "cell_type": "code",
   "execution_count": 103,
   "metadata": {},
   "outputs": [
    {
     "data": {
      "text/plain": [
       "0.820606757430375"
      ]
     },
     "execution_count": 103,
     "metadata": {},
     "output_type": "execute_result"
    }
   ],
   "source": [
    "# best score from the gridsearch\n",
    "Multi_NB_CV.best_score_"
   ]
  },
  {
   "cell_type": "code",
   "execution_count": 104,
   "metadata": {},
   "outputs": [
    {
     "data": {
      "text/plain": [
       "0.8218545288015451"
      ]
     },
     "execution_count": 104,
     "metadata": {},
     "output_type": "execute_result"
    }
   ],
   "source": [
    "MultiNB_model = Multi_NB_CV.best_estimator_\n",
    "\n",
    "MultiNB_model.score(X_train_cv, y_train)"
   ]
  },
  {
   "cell_type": "code",
   "execution_count": 40,
   "metadata": {},
   "outputs": [
    {
     "name": "stdout",
     "output_type": "stream",
     "text": [
      "Train Accuracy Score   : 0.8218545288015451\n",
      "Test Accuracy Score   : 0.819257917110516\n",
      "Delta Between Train & Accuracy Score   : 0.0025966116910290937\n",
      "------------------------------\n",
      "True Negatives  : 12529\n",
      "False Positives  : 10514\n",
      "False Negatives  : 7641\n",
      "True Positives  : 69763\n",
      "------------------------------\n",
      "Sensitivity / True Positive Rate  : 0.9012841713606532\n",
      "Fall-out / False Positive Rate  : 0.4562773944364883\n"
     ]
    },
    {
     "data": {
      "image/png": "[encoded data removed]",
      "text/plain": [
       "<Figure size 432x288 with 1 Axes>"
      ]
     },
     "metadata": {
      "needs_background": "light"
     },
     "output_type": "display_data"
    }
   ],
   "source": [
    "model_score(MultiNB_model)"
   ]
  },
  {
   "cell_type": "code",
   "execution_count": 41,
   "metadata": {},
   "outputs": [],
   "source": [
    "#prob for positive class\n",
    "pos_class_prob_sorted = MultiNB_model.feature_log_prob_[1, :].argsort()\n",
    "\n",
    "\n",
    "#prob for negative class\n",
    "neg_class_prob_sorted = MultiNB_model.feature_log_prob_[0, :].argsort()\n"
   ]
  },
  {
   "cell_type": "code",
   "execution_count": 42,
   "metadata": {},
   "outputs": [
    {
     "data": {
      "text/html": [
       "<div>\n",
       "<style scoped>\n",
       "    .dataframe tbody tr th:only-of-type {\n",
       "        vertical-align: middle;\n",
       "    }\n",
       "\n",
       "    .dataframe tbody tr th {\n",
       "        vertical-align: top;\n",
       "    }\n",
       "\n",
       "    .dataframe thead th {\n",
       "        text-align: right;\n",
       "    }\n",
       "</style>\n",
       "<table border=\"1\" class=\"dataframe\">\n",
       "  <thead>\n",
       "    <tr style=\"text-align: right;\">\n",
       "      <th></th>\n",
       "      <th>Features</th>\n",
       "      <th>feature ranking</th>\n",
       "    </tr>\n",
       "  </thead>\n",
       "  <tbody>\n",
       "    <tr>\n",
       "      <th>3619</th>\n",
       "      <td>took</td>\n",
       "      <td>0</td>\n",
       "    </tr>\n",
       "    <tr>\n",
       "      <th>3922</th>\n",
       "      <td>whatev</td>\n",
       "      <td>1</td>\n",
       "    </tr>\n",
       "    <tr>\n",
       "      <th>2429</th>\n",
       "      <td>much hope</td>\n",
       "      <td>2</td>\n",
       "    </tr>\n",
       "    <tr>\n",
       "      <th>2315</th>\n",
       "      <td>materi present</td>\n",
       "      <td>3</td>\n",
       "    </tr>\n",
       "    <tr>\n",
       "      <th>931</th>\n",
       "      <td>dr charl</td>\n",
       "      <td>4</td>\n",
       "    </tr>\n",
       "    <tr>\n",
       "      <th>527</th>\n",
       "      <td>chunk</td>\n",
       "      <td>5</td>\n",
       "    </tr>\n",
       "    <tr>\n",
       "      <th>1816</th>\n",
       "      <td>instal</td>\n",
       "      <td>6</td>\n",
       "    </tr>\n",
       "    <tr>\n",
       "      <th>1706</th>\n",
       "      <td>hook</td>\n",
       "      <td>7</td>\n",
       "    </tr>\n",
       "    <tr>\n",
       "      <th>3858</th>\n",
       "      <td>warn</td>\n",
       "      <td>8</td>\n",
       "    </tr>\n",
       "    <tr>\n",
       "      <th>2511</th>\n",
       "      <td>ng thank</td>\n",
       "      <td>9</td>\n",
       "    </tr>\n",
       "  </tbody>\n",
       "</table>\n",
       "</div>"
      ],
      "text/plain": [
       "            Features  feature ranking\n",
       "3619            took                0\n",
       "3922          whatev                1\n",
       "2429       much hope                2\n",
       "2315  materi present                3\n",
       "931         dr charl                4\n",
       "527            chunk                5\n",
       "1816          instal                6\n",
       "1706            hook                7\n",
       "3858            warn                8\n",
       "2511        ng thank                9"
      ]
     },
     "execution_count": 42,
     "metadata": {},
     "output_type": "execute_result"
    }
   ],
   "source": [
    "pos_class_prob_sorted = MultiNB_model.feature_log_prob_[1, :].argsort()\n",
    "\n",
    "\n",
    "# obtain the words \n",
    "MultiNB_count_feature = count_vec.get_feature_names()\n",
    "\n",
    "# find top 10 words with highest coefficient with the tfidvectorizer\n",
    "pd.DataFrame({'Features':MultiNB_count_feature, \n",
    "              'feature ranking':(pos_class_prob_sorted)}).sort_values(by='feature ranking', ascending=True).head(10)"
   ]
  },
  {
   "cell_type": "markdown",
   "metadata": {},
   "source": [
    "- These are the top 10 features that help Multinomial Naive Bayes model classify target=0 reviews and target=1 reviews\n",
    "- Noticed that name of instructors were found in this top 10 list\n",
    "- 'dr charl' might be refering to Dr. Charles \"Chuck\" Russell Severance who teaches Python for Everybody on Coursera\n",
    "- 'ng thank' might be refering to Andrew Ng who teaches Machine Learning on Coursera"
   ]
  },
  {
   "cell_type": "code",
   "execution_count": 43,
   "metadata": {},
   "outputs": [
    {
     "data": {
      "text/html": [
       "<div>\n",
       "<style scoped>\n",
       "    .dataframe tbody tr th:only-of-type {\n",
       "        vertical-align: middle;\n",
       "    }\n",
       "\n",
       "    .dataframe tbody tr th {\n",
       "        vertical-align: top;\n",
       "    }\n",
       "\n",
       "    .dataframe thead th {\n",
       "        text-align: right;\n",
       "    }\n",
       "</style>\n",
       "<table border=\"1\" class=\"dataframe\">\n",
       "  <thead>\n",
       "    <tr style=\"text-align: right;\">\n",
       "      <th></th>\n",
       "      <th>Features</th>\n",
       "      <th>feature ranking</th>\n",
       "    </tr>\n",
       "  </thead>\n",
       "  <tbody>\n",
       "    <tr>\n",
       "      <th>937</th>\n",
       "      <td>dr santo</td>\n",
       "      <td>-15.898101</td>\n",
       "    </tr>\n",
       "    <tr>\n",
       "      <th>3014</th>\n",
       "      <td>recommend enough</td>\n",
       "      <td>-15.898101</td>\n",
       "    </tr>\n",
       "    <tr>\n",
       "      <th>1125</th>\n",
       "      <td>ever thank</td>\n",
       "      <td>-13.500206</td>\n",
       "    </tr>\n",
       "    <tr>\n",
       "      <th>1343</th>\n",
       "      <td>fantast thank</td>\n",
       "      <td>-13.500206</td>\n",
       "    </tr>\n",
       "    <tr>\n",
       "      <th>2807</th>\n",
       "      <td>professor plou</td>\n",
       "      <td>-13.500206</td>\n",
       "    </tr>\n",
       "    <tr>\n",
       "      <th>2809</th>\n",
       "      <td>professor santo</td>\n",
       "      <td>-13.500206</td>\n",
       "    </tr>\n",
       "    <tr>\n",
       "      <th>3486</th>\n",
       "      <td>tavassoli</td>\n",
       "      <td>-12.853578</td>\n",
       "    </tr>\n",
       "    <tr>\n",
       "      <th>2440</th>\n",
       "      <td>much prof</td>\n",
       "      <td>-12.853578</td>\n",
       "    </tr>\n",
       "    <tr>\n",
       "      <th>1227</th>\n",
       "      <td>excel teach</td>\n",
       "      <td>-12.853578</td>\n",
       "    </tr>\n",
       "    <tr>\n",
       "      <th>2450</th>\n",
       "      <td>much wonder</td>\n",
       "      <td>-12.853578</td>\n",
       "    </tr>\n",
       "  </tbody>\n",
       "</table>\n",
       "</div>"
      ],
      "text/plain": [
       "              Features  feature ranking\n",
       "937           dr santo       -15.898101\n",
       "3014  recommend enough       -15.898101\n",
       "1125        ever thank       -13.500206\n",
       "1343     fantast thank       -13.500206\n",
       "2807    professor plou       -13.500206\n",
       "2809   professor santo       -13.500206\n",
       "3486         tavassoli       -12.853578\n",
       "2440         much prof       -12.853578\n",
       "1227       excel teach       -12.853578\n",
       "2450       much wonder       -12.853578"
      ]
     },
     "execution_count": 43,
     "metadata": {},
     "output_type": "execute_result"
    }
   ],
   "source": [
    "neg_class_prob_sorted = MultiNB_model.feature_log_prob_[0, :]\n",
    "\n",
    "# obtain the words \n",
    "MultiNB_count_feature = count_vec.get_feature_names()\n",
    "\n",
    "# find top 10 words with highest coefficient with the tfidvectorizer\n",
    "pd.DataFrame({'Features':MultiNB_count_feature, \n",
    "              'feature ranking':neg_class_prob_sorted}).sort_values(by='feature ranking', ascending=True).head(10)"
   ]
  },
  {
   "cell_type": "markdown",
   "metadata": {},
   "source": [
    "- These are the lowest features that help Multinomial Naive Bayes model classify target=0 reviews and target=1 reviews\n",
    "- Also includes other instructor's name"
   ]
  },
  {
   "cell_type": "code",
   "execution_count": 44,
   "metadata": {},
   "outputs": [],
   "source": [
    "# saving the model for backup\n",
    "filename = 'MultiNB_model.sav'\n",
    "pickle.dump(MultiNB_model, open(filename, 'wb'))\n",
    "\n",
    "# MultiNB_model = pickle.load(open('MultiNB_model.sav', 'rb'))"
   ]
  },
  {
   "cell_type": "markdown",
   "metadata": {},
   "source": [
    "#### 7.3 Decision Tree Classifier"
   ]
  },
  {
   "cell_type": "code",
   "execution_count": 45,
   "metadata": {},
   "outputs": [
    {
     "data": {
      "text/plain": [
       "{'ccp_alpha': 0.0,\n",
       " 'class_weight': None,\n",
       " 'criterion': 'gini',\n",
       " 'max_depth': 2,\n",
       " 'max_features': None,\n",
       " 'max_leaf_nodes': 2,\n",
       " 'min_impurity_decrease': 0.0,\n",
       " 'min_impurity_split': None,\n",
       " 'min_samples_leaf': 1,\n",
       " 'min_samples_split': 8,\n",
       " 'min_weight_fraction_leaf': 0.0,\n",
       " 'random_state': None,\n",
       " 'splitter': 'best'}"
      ]
     },
     "execution_count": 45,
     "metadata": {},
     "output_type": "execute_result"
    }
   ],
   "source": [
    "dt = DecisionTreeClassifier(max_leaf_nodes=2, max_depth=2,min_samples_split=8)\n",
    "dt.get_params()"
   ]
  },
  {
   "cell_type": "code",
   "execution_count": 46,
   "metadata": {},
   "outputs": [],
   "source": [
    "dt_params = {'ccp_alpha': [0.01, 0.1 , 1], }\n",
    "\n",
    "dt_CV = GridSearchCV(dt, dt_params, cv=5) "
   ]
  },
  {
   "cell_type": "code",
   "execution_count": 47,
   "metadata": {},
   "outputs": [
    {
     "data": {
      "text/plain": [
       "DecisionTreeClassifier(max_depth=2, max_leaf_nodes=2, min_samples_split=8)"
      ]
     },
     "execution_count": 47,
     "metadata": {},
     "output_type": "execute_result"
    }
   ],
   "source": [
    "dt.fit(X_train_cv, y_train)"
   ]
  },
  {
   "cell_type": "code",
   "execution_count": 48,
   "metadata": {},
   "outputs": [
    {
     "name": "stdout",
     "output_type": "stream",
     "text": [
      "Train Accuracy Score   : 0.7772368569513304\n",
      "Test Accuracy Score   : 0.7770067796947644\n",
      "Delta Between Train & Accuracy Score   : 0.00023007725656598588\n",
      "------------------------------\n",
      "True Negatives  : 1296\n",
      "False Positives  : 21747\n",
      "False Negatives  : 652\n",
      "True Positives  : 76752\n",
      "------------------------------\n",
      "Sensitivity / True Positive Rate  : 0.9915766627047697\n",
      "Fall-out / False Positive Rate  : 0.9437573232651999\n"
     ]
    },
    {
     "data": {
      "image/png": "[encoded data removed]",
      "text/plain": [
       "<Figure size 432x288 with 1 Axes>"
      ]
     },
     "metadata": {
      "needs_background": "light"
     },
     "output_type": "display_data"
    }
   ],
   "source": [
    "model_score(dt)"
   ]
  },
  {
   "cell_type": "code",
   "execution_count": 49,
   "metadata": {},
   "outputs": [
    {
     "data": {
      "text/html": [
       "<div>\n",
       "<style scoped>\n",
       "    .dataframe tbody tr th:only-of-type {\n",
       "        vertical-align: middle;\n",
       "    }\n",
       "\n",
       "    .dataframe tbody tr th {\n",
       "        vertical-align: top;\n",
       "    }\n",
       "\n",
       "    .dataframe thead th {\n",
       "        text-align: right;\n",
       "    }\n",
       "</style>\n",
       "<table border=\"1\" class=\"dataframe\">\n",
       "  <thead>\n",
       "    <tr style=\"text-align: right;\">\n",
       "      <th></th>\n",
       "      <th>unigram/bigram</th>\n",
       "      <th>feature impt</th>\n",
       "    </tr>\n",
       "  </thead>\n",
       "  <tbody>\n",
       "    <tr>\n",
       "      <th>1720</th>\n",
       "      <td>howev</td>\n",
       "      <td>1.0</td>\n",
       "    </tr>\n",
       "    <tr>\n",
       "      <th>0</th>\n",
       "      <td>abil</td>\n",
       "      <td>0.0</td>\n",
       "    </tr>\n",
       "    <tr>\n",
       "      <th>2657</th>\n",
       "      <td>paul</td>\n",
       "      <td>0.0</td>\n",
       "    </tr>\n",
       "    <tr>\n",
       "      <th>2659</th>\n",
       "      <td>paus</td>\n",
       "      <td>0.0</td>\n",
       "    </tr>\n",
       "    <tr>\n",
       "      <th>2660</th>\n",
       "      <td>pay</td>\n",
       "      <td>0.0</td>\n",
       "    </tr>\n",
       "  </tbody>\n",
       "</table>\n",
       "</div>"
      ],
      "text/plain": [
       "     unigram/bigram  feature impt\n",
       "1720          howev           1.0\n",
       "0              abil           0.0\n",
       "2657           paul           0.0\n",
       "2659           paus           0.0\n",
       "2660            pay           0.0"
      ]
     },
     "execution_count": 49,
     "metadata": {},
     "output_type": "execute_result"
    }
   ],
   "source": [
    "pd.DataFrame({'unigram/bigram':count_vec.get_feature_names(), \n",
    "              'feature impt':dt.feature_importances_}).sort_values(by='feature impt', ascending=False).head(5)"
   ]
  },
  {
   "cell_type": "markdown",
   "metadata": {},
   "source": [
    "- After much fine-tuning with Decision Tree Classifer, this model was not able to accurately classify the target=0 `reviews` from the target = 1 `reviews` as compared to other models.\n",
    "- The top features ranked are not able to intuitively explain why and  false positive rate is also very high in this case."
   ]
  },
  {
   "cell_type": "code",
   "execution_count": 50,
   "metadata": {},
   "outputs": [],
   "source": [
    "# saving the model for backup\n",
    "filename = 'dt_model.sav'\n",
    "pickle.dump(dt, open(filename, 'wb'))\n",
    "\n",
    "# dt_model = pickle.load(open('dt_model.sav', 'rb'))"
   ]
  },
  {
   "cell_type": "markdown",
   "metadata": {},
   "source": [
    "#### 7.4 Random Forest Classifier"
   ]
  },
  {
   "cell_type": "code",
   "execution_count": 51,
   "metadata": {},
   "outputs": [
    {
     "data": {
      "text/plain": [
       "{'bootstrap': True,\n",
       " 'ccp_alpha': 0.0,\n",
       " 'class_weight': None,\n",
       " 'criterion': 'gini',\n",
       " 'max_depth': None,\n",
       " 'max_features': 'auto',\n",
       " 'max_leaf_nodes': None,\n",
       " 'max_samples': None,\n",
       " 'min_impurity_decrease': 0.0,\n",
       " 'min_impurity_split': None,\n",
       " 'min_samples_leaf': 1,\n",
       " 'min_samples_split': 2,\n",
       " 'min_weight_fraction_leaf': 0.0,\n",
       " 'n_estimators': 100,\n",
       " 'n_jobs': None,\n",
       " 'oob_score': False,\n",
       " 'random_state': None,\n",
       " 'verbose': 0,\n",
       " 'warm_start': False}"
      ]
     },
     "execution_count": 51,
     "metadata": {},
     "output_type": "execute_result"
    }
   ],
   "source": [
    "# Instantiate Random Forest Classifer\n",
    "rand_class = RandomForestClassifier()\n",
    "\n",
    "# find the parameters inside Random Forest Classifer\n",
    "rand_class.get_params()"
   ]
  },
  {
   "cell_type": "code",
   "execution_count": 52,
   "metadata": {},
   "outputs": [
    {
     "data": {
      "text/plain": [
       "RandomForestClassifier(max_depth=3, max_leaf_nodes=2)"
      ]
     },
     "execution_count": 52,
     "metadata": {},
     "output_type": "execute_result"
    }
   ],
   "source": [
    "rand_class = RandomForestClassifier(n_estimators=100,max_leaf_nodes=2, max_depth=3,min_samples_split=2)\n",
    "\n",
    "rand_class.fit(X_train_cv, y_train)"
   ]
  },
  {
   "cell_type": "code",
   "execution_count": 53,
   "metadata": {},
   "outputs": [
    {
     "name": "stdout",
     "output_type": "stream",
     "text": [
      "Train Accuracy Score   : 0.7705666062693719\n",
      "Test Accuracy Score   : 0.7705954383903949\n",
      "Delta Between Train & Accuracy Score   : -2.8832121023003587e-05\n",
      "------------------------------\n",
      "True Negatives  : 0\n",
      "False Positives  : 23043\n",
      "False Negatives  : 0\n",
      "True Positives  : 77404\n",
      "------------------------------\n",
      "Sensitivity / True Positive Rate  : 1.0\n",
      "Fall-out / False Positive Rate  : 1.0\n"
     ]
    },
    {
     "data": {
      "image/png": "[encoded data removed]",
      "text/plain": [
       "<Figure size 432x288 with 1 Axes>"
      ]
     },
     "metadata": {
      "needs_background": "light"
     },
     "output_type": "display_data"
    }
   ],
   "source": [
    "model_score(rand_class)"
   ]
  },
  {
   "cell_type": "code",
   "execution_count": 54,
   "metadata": {},
   "outputs": [
    {
     "data": {
      "text/plain": [
       "4000"
      ]
     },
     "execution_count": 54,
     "metadata": {},
     "output_type": "execute_result"
    }
   ],
   "source": [
    "len(rand_class.feature_importances_)"
   ]
  },
  {
   "cell_type": "code",
   "execution_count": 55,
   "metadata": {},
   "outputs": [
    {
     "data": {
      "text/html": [
       "<div>\n",
       "<style scoped>\n",
       "    .dataframe tbody tr th:only-of-type {\n",
       "        vertical-align: middle;\n",
       "    }\n",
       "\n",
       "    .dataframe tbody tr th {\n",
       "        vertical-align: top;\n",
       "    }\n",
       "\n",
       "    .dataframe thead th {\n",
       "        text-align: right;\n",
       "    }\n",
       "</style>\n",
       "<table border=\"1\" class=\"dataframe\">\n",
       "  <thead>\n",
       "    <tr style=\"text-align: right;\">\n",
       "      <th></th>\n",
       "      <th>unigram/bigram</th>\n",
       "      <th>feature impt</th>\n",
       "    </tr>\n",
       "  </thead>\n",
       "  <tbody>\n",
       "    <tr>\n",
       "      <th>396</th>\n",
       "      <td>bit</td>\n",
       "      <td>0.07</td>\n",
       "    </tr>\n",
       "    <tr>\n",
       "      <th>3181</th>\n",
       "      <td>seem</td>\n",
       "      <td>0.04</td>\n",
       "    </tr>\n",
       "    <tr>\n",
       "      <th>2601</th>\n",
       "      <td>otherwis</td>\n",
       "      <td>0.03</td>\n",
       "    </tr>\n",
       "    <tr>\n",
       "      <th>1380</th>\n",
       "      <td>figur</td>\n",
       "      <td>0.03</td>\n",
       "    </tr>\n",
       "    <tr>\n",
       "      <th>3696</th>\n",
       "      <td>unfortun</td>\n",
       "      <td>0.03</td>\n",
       "    </tr>\n",
       "    <tr>\n",
       "      <th>1818</th>\n",
       "      <td>instead</td>\n",
       "      <td>0.02</td>\n",
       "    </tr>\n",
       "    <tr>\n",
       "      <th>1978</th>\n",
       "      <td>last</td>\n",
       "      <td>0.02</td>\n",
       "    </tr>\n",
       "    <tr>\n",
       "      <th>3859</th>\n",
       "      <td>wast</td>\n",
       "      <td>0.02</td>\n",
       "    </tr>\n",
       "    <tr>\n",
       "      <th>1558</th>\n",
       "      <td>grade</td>\n",
       "      <td>0.02</td>\n",
       "    </tr>\n",
       "    <tr>\n",
       "      <th>2726</th>\n",
       "      <td>poorli</td>\n",
       "      <td>0.02</td>\n",
       "    </tr>\n",
       "  </tbody>\n",
       "</table>\n",
       "</div>"
      ],
      "text/plain": [
       "     unigram/bigram  feature impt\n",
       "396             bit          0.07\n",
       "3181           seem          0.04\n",
       "2601       otherwis          0.03\n",
       "1380          figur          0.03\n",
       "3696       unfortun          0.03\n",
       "1818        instead          0.02\n",
       "1978           last          0.02\n",
       "3859           wast          0.02\n",
       "1558          grade          0.02\n",
       "2726         poorli          0.02"
      ]
     },
     "execution_count": 55,
     "metadata": {},
     "output_type": "execute_result"
    }
   ],
   "source": [
    "pd.DataFrame({'unigram/bigram':count_vec.get_feature_names(), \n",
    "              'feature impt':rand_class.feature_importances_}).sort_values(by='feature impt', ascending=False).head(10)"
   ]
  },
  {
   "cell_type": "markdown",
   "metadata": {},
   "source": [
    "- After much fine-tuning and restricting the n_estimators and max_dept of the Random Forest Classification,this model was not able to accurately classify the target=0 `reviews` from the target = 1 `reviews` as compared to other models.\n",
    "- All reviews are classified as False positives and True positives only\n",
    "- Also the top 10 unigram/bigram in classifying the `reviews` are not as obvious as Logistic Regression and Multinomial NB models."
   ]
  },
  {
   "cell_type": "code",
   "execution_count": 56,
   "metadata": {},
   "outputs": [],
   "source": [
    "# saving the model for backup\n",
    "filename = 'rand_class.sav'\n",
    "pickle.dump(rand_class, open(filename, 'wb'))\n",
    "\n",
    "# rand_class = pickle.load(open('rand_class.sav', 'rb'))"
   ]
  },
  {
   "cell_type": "markdown",
   "metadata": {},
   "source": [
    "#### 7.5 AdaBoost Classifier"
   ]
  },
  {
   "cell_type": "code",
   "execution_count": 57,
   "metadata": {},
   "outputs": [
    {
     "data": {
      "text/plain": [
       "{'algorithm': 'SAMME.R',\n",
       " 'base_estimator': None,\n",
       " 'learning_rate': 1.0,\n",
       " 'n_estimators': 50,\n",
       " 'random_state': None}"
      ]
     },
     "execution_count": 57,
     "metadata": {},
     "output_type": "execute_result"
    }
   ],
   "source": [
    "# Instantiate the AdaBoost Classifer\n",
    "ada = AdaBoostClassifier()\n",
    "\n",
    "# find the parameters for AdaBoost Classifer\n",
    "ada.get_params()"
   ]
  },
  {
   "cell_type": "code",
   "execution_count": 58,
   "metadata": {},
   "outputs": [],
   "source": [
    "ada_params = {'learning_rate': [0.01, 0.1 , 1]}\n",
    "\n",
    "ada_CV = GridSearchCV(ada, ada_params, cv=5) "
   ]
  },
  {
   "cell_type": "code",
   "execution_count": 59,
   "metadata": {},
   "outputs": [
    {
     "data": {
      "text/plain": [
       "GridSearchCV(cv=5, estimator=AdaBoostClassifier(),\n",
       "             param_grid={'learning_rate': [0.01, 0.1, 1]})"
      ]
     },
     "execution_count": 59,
     "metadata": {},
     "output_type": "execute_result"
    }
   ],
   "source": [
    "ada_CV.fit(X_train_cv, y_train)"
   ]
  },
  {
   "cell_type": "code",
   "execution_count": 60,
   "metadata": {},
   "outputs": [
    {
     "data": {
      "text/plain": [
       "AdaBoostClassifier(learning_rate=1)"
      ]
     },
     "execution_count": 60,
     "metadata": {},
     "output_type": "execute_result"
    }
   ],
   "source": [
    "ada_CV.best_estimator_"
   ]
  },
  {
   "cell_type": "code",
   "execution_count": 61,
   "metadata": {},
   "outputs": [],
   "source": [
    "ada_model = ada_CV.best_estimator_"
   ]
  },
  {
   "cell_type": "code",
   "execution_count": 62,
   "metadata": {},
   "outputs": [
    {
     "name": "stdout",
     "output_type": "stream",
     "text": [
      "Train Accuracy Score   : 0.8068381684354445\n",
      "Test Accuracy Score   : 0.805628839089271\n",
      "Delta Between Train & Accuracy Score   : 0.001209329346173571\n",
      "------------------------------\n",
      "True Negatives  : 5808\n",
      "False Positives  : 17235\n",
      "False Negatives  : 2289\n",
      "True Positives  : 75115\n",
      "------------------------------\n",
      "Sensitivity / True Positive Rate  : 0.9704278848638314\n",
      "Fall-out / False Positive Rate  : 0.7479494857440437\n"
     ]
    },
    {
     "data": {
      "image/png": "[encoded data removed]",
      "text/plain": [
       "<Figure size 432x288 with 1 Axes>"
      ]
     },
     "metadata": {
      "needs_background": "light"
     },
     "output_type": "display_data"
    }
   ],
   "source": [
    "model_score(ada_model)"
   ]
  },
  {
   "cell_type": "code",
   "execution_count": 63,
   "metadata": {},
   "outputs": [
    {
     "data": {
      "text/html": [
       "<div>\n",
       "<style scoped>\n",
       "    .dataframe tbody tr th:only-of-type {\n",
       "        vertical-align: middle;\n",
       "    }\n",
       "\n",
       "    .dataframe tbody tr th {\n",
       "        vertical-align: top;\n",
       "    }\n",
       "\n",
       "    .dataframe thead th {\n",
       "        text-align: right;\n",
       "    }\n",
       "</style>\n",
       "<table border=\"1\" class=\"dataframe\">\n",
       "  <thead>\n",
       "    <tr style=\"text-align: right;\">\n",
       "      <th></th>\n",
       "      <th>unigram/bigram</th>\n",
       "      <th>feature impt</th>\n",
       "    </tr>\n",
       "  </thead>\n",
       "  <tbody>\n",
       "    <tr>\n",
       "      <th>1720</th>\n",
       "      <td>howev</td>\n",
       "      <td>0.04</td>\n",
       "    </tr>\n",
       "    <tr>\n",
       "      <th>3530</th>\n",
       "      <td>thank</td>\n",
       "      <td>0.04</td>\n",
       "    </tr>\n",
       "    <tr>\n",
       "      <th>1689</th>\n",
       "      <td>highli</td>\n",
       "      <td>0.02</td>\n",
       "    </tr>\n",
       "    <tr>\n",
       "      <th>1339</th>\n",
       "      <td>fantast</td>\n",
       "      <td>0.02</td>\n",
       "    </tr>\n",
       "    <tr>\n",
       "      <th>3181</th>\n",
       "      <td>seem</td>\n",
       "      <td>0.02</td>\n",
       "    </tr>\n",
       "    <tr>\n",
       "      <th>1818</th>\n",
       "      <td>instead</td>\n",
       "      <td>0.02</td>\n",
       "    </tr>\n",
       "    <tr>\n",
       "      <th>2209</th>\n",
       "      <td>love</td>\n",
       "      <td>0.02</td>\n",
       "    </tr>\n",
       "    <tr>\n",
       "      <th>1092</th>\n",
       "      <td>error</td>\n",
       "      <td>0.02</td>\n",
       "    </tr>\n",
       "    <tr>\n",
       "      <th>3796</th>\n",
       "      <td>video</td>\n",
       "      <td>0.02</td>\n",
       "    </tr>\n",
       "    <tr>\n",
       "      <th>2925</th>\n",
       "      <td>rather</td>\n",
       "      <td>0.02</td>\n",
       "    </tr>\n",
       "  </tbody>\n",
       "</table>\n",
       "</div>"
      ],
      "text/plain": [
       "     unigram/bigram  feature impt\n",
       "1720          howev          0.04\n",
       "3530          thank          0.04\n",
       "1689         highli          0.02\n",
       "1339        fantast          0.02\n",
       "3181           seem          0.02\n",
       "1818        instead          0.02\n",
       "2209           love          0.02\n",
       "1092          error          0.02\n",
       "3796          video          0.02\n",
       "2925         rather          0.02"
      ]
     },
     "execution_count": 63,
     "metadata": {},
     "output_type": "execute_result"
    }
   ],
   "source": [
    "pd.DataFrame({'unigram/bigram':count_vec.get_feature_names(), \n",
    "              'feature impt':ada_model.feature_importances_}).sort_values(by='feature impt', ascending=False).head(10)"
   ]
  },
  {
   "cell_type": "markdown",
   "metadata": {},
   "source": [
    "- AdaBoost Classifier performs much better that Descision Tree and Random Forest Classification in terms of accuracy score.\n",
    "- The top 10 features in AdaBoost Classifier consists of **postive words** : 'thank', 'love', 'fantast'"
   ]
  },
  {
   "cell_type": "code",
   "execution_count": 64,
   "metadata": {},
   "outputs": [],
   "source": [
    "# saving the model for backup\n",
    "filename = 'ada_model.sav'\n",
    "pickle.dump(ada_model, open(filename, 'wb'))\n",
    "\n",
    "# ada_model = pickle.load(open('ada_model.sav', 'rb'))"
   ]
  },
  {
   "cell_type": "markdown",
   "metadata": {},
   "source": [
    "#### 7.6 XGBoost Classifier"
   ]
  },
  {
   "cell_type": "code",
   "execution_count": 65,
   "metadata": {},
   "outputs": [],
   "source": [
    "# XGBoost Classifier\n",
    "XGBoost = GradientBoostingClassifier()"
   ]
  },
  {
   "cell_type": "code",
   "execution_count": 66,
   "metadata": {},
   "outputs": [
    {
     "data": {
      "text/plain": [
       "{'ccp_alpha': 0.0,\n",
       " 'criterion': 'friedman_mse',\n",
       " 'init': None,\n",
       " 'learning_rate': 0.1,\n",
       " 'loss': 'deviance',\n",
       " 'max_depth': 3,\n",
       " 'max_features': None,\n",
       " 'max_leaf_nodes': None,\n",
       " 'min_impurity_decrease': 0.0,\n",
       " 'min_impurity_split': None,\n",
       " 'min_samples_leaf': 1,\n",
       " 'min_samples_split': 2,\n",
       " 'min_weight_fraction_leaf': 0.0,\n",
       " 'n_estimators': 100,\n",
       " 'n_iter_no_change': None,\n",
       " 'random_state': None,\n",
       " 'subsample': 1.0,\n",
       " 'tol': 0.0001,\n",
       " 'validation_fraction': 0.1,\n",
       " 'verbose': 0,\n",
       " 'warm_start': False}"
      ]
     },
     "execution_count": 66,
     "metadata": {},
     "output_type": "execute_result"
    }
   ],
   "source": [
    "XGBoost.get_params()"
   ]
  },
  {
   "cell_type": "code",
   "execution_count": 67,
   "metadata": {},
   "outputs": [],
   "source": [
    "xg_params = {'learning_rate': [0.01, 0.1 , 1]}\n",
    "\n",
    "XGBoost_CV = GridSearchCV(XGBoost, xg_params, cv=5) "
   ]
  },
  {
   "cell_type": "code",
   "execution_count": 68,
   "metadata": {},
   "outputs": [
    {
     "data": {
      "text/plain": [
       "GridSearchCV(cv=5, estimator=GradientBoostingClassifier(),\n",
       "             param_grid={'learning_rate': [0.01, 0.1, 1]})"
      ]
     },
     "execution_count": 68,
     "metadata": {},
     "output_type": "execute_result"
    }
   ],
   "source": [
    "XGBoost_CV.fit(X_train_cv, y_train)"
   ]
  },
  {
   "cell_type": "code",
   "execution_count": 69,
   "metadata": {},
   "outputs": [
    {
     "data": {
      "text/plain": [
       "GradientBoostingClassifier(learning_rate=1)"
      ]
     },
     "execution_count": 69,
     "metadata": {},
     "output_type": "execute_result"
    }
   ],
   "source": [
    "XGBoost_CV.best_estimator_"
   ]
  },
  {
   "cell_type": "code",
   "execution_count": 70,
   "metadata": {},
   "outputs": [],
   "source": [
    "xg_model = XGBoost_CV.best_estimator_"
   ]
  },
  {
   "cell_type": "code",
   "execution_count": 71,
   "metadata": {},
   "outputs": [
    {
     "name": "stdout",
     "output_type": "stream",
     "text": [
      "Train Accuracy Score   : 0.8320490611871055\n",
      "Test Accuracy Score   : 0.8264856093263114\n",
      "Delta Between Train & Accuracy Score   : 0.0055634518607941\n",
      "------------------------------\n",
      "True Negatives  : 8870\n",
      "False Positives  : 14173\n",
      "False Negatives  : 3256\n",
      "True Positives  : 74148\n",
      "------------------------------\n",
      "Sensitivity / True Positive Rate  : 0.9579349904397706\n",
      "Fall-out / False Positive Rate  : 0.6150674825326563\n"
     ]
    },
    {
     "data": {
      "image/png": "[encoded data removed]",
      "text/plain": [
       "<Figure size 432x288 with 1 Axes>"
      ]
     },
     "metadata": {
      "needs_background": "light"
     },
     "output_type": "display_data"
    }
   ],
   "source": [
    "model_score(xg_model)"
   ]
  },
  {
   "cell_type": "code",
   "execution_count": 72,
   "metadata": {},
   "outputs": [
    {
     "data": {
      "text/html": [
       "<div>\n",
       "<style scoped>\n",
       "    .dataframe tbody tr th:only-of-type {\n",
       "        vertical-align: middle;\n",
       "    }\n",
       "\n",
       "    .dataframe tbody tr th {\n",
       "        vertical-align: top;\n",
       "    }\n",
       "\n",
       "    .dataframe thead th {\n",
       "        text-align: right;\n",
       "    }\n",
       "</style>\n",
       "<table border=\"1\" class=\"dataframe\">\n",
       "  <thead>\n",
       "    <tr style=\"text-align: right;\">\n",
       "      <th></th>\n",
       "      <th>unigram/bigram</th>\n",
       "      <th>feature impt</th>\n",
       "    </tr>\n",
       "  </thead>\n",
       "  <tbody>\n",
       "    <tr>\n",
       "      <th>1720</th>\n",
       "      <td>howev</td>\n",
       "      <td>0.105684</td>\n",
       "    </tr>\n",
       "    <tr>\n",
       "      <th>3530</th>\n",
       "      <td>thank</td>\n",
       "      <td>0.088015</td>\n",
       "    </tr>\n",
       "    <tr>\n",
       "      <th>396</th>\n",
       "      <td>bit</td>\n",
       "      <td>0.064196</td>\n",
       "    </tr>\n",
       "    <tr>\n",
       "      <th>1175</th>\n",
       "      <td>excel</td>\n",
       "      <td>0.054014</td>\n",
       "    </tr>\n",
       "    <tr>\n",
       "      <th>233</th>\n",
       "      <td>assign</td>\n",
       "      <td>0.047997</td>\n",
       "    </tr>\n",
       "    <tr>\n",
       "      <th>3796</th>\n",
       "      <td>video</td>\n",
       "      <td>0.035942</td>\n",
       "    </tr>\n",
       "    <tr>\n",
       "      <th>3008</th>\n",
       "      <td>recommend</td>\n",
       "      <td>0.023610</td>\n",
       "    </tr>\n",
       "    <tr>\n",
       "      <th>3906</th>\n",
       "      <td>week</td>\n",
       "      <td>0.022254</td>\n",
       "    </tr>\n",
       "    <tr>\n",
       "      <th>1971</th>\n",
       "      <td>lack</td>\n",
       "      <td>0.019312</td>\n",
       "    </tr>\n",
       "    <tr>\n",
       "      <th>353</th>\n",
       "      <td>best</td>\n",
       "      <td>0.018377</td>\n",
       "    </tr>\n",
       "  </tbody>\n",
       "</table>\n",
       "</div>"
      ],
      "text/plain": [
       "     unigram/bigram  feature impt\n",
       "1720          howev      0.105684\n",
       "3530          thank      0.088015\n",
       "396             bit      0.064196\n",
       "1175          excel      0.054014\n",
       "233          assign      0.047997\n",
       "3796          video      0.035942\n",
       "3008      recommend      0.023610\n",
       "3906           week      0.022254\n",
       "1971           lack      0.019312\n",
       "353            best      0.018377"
      ]
     },
     "execution_count": 72,
     "metadata": {},
     "output_type": "execute_result"
    }
   ],
   "source": [
    "pd.DataFrame({'unigram/bigram':count_vec.get_feature_names(), \n",
    "              'feature impt':xg_model.feature_importances_}).sort_values(by='feature impt', ascending=False).head(10)"
   ]
  },
  {
   "cell_type": "markdown",
   "metadata": {},
   "source": [
    "- XGBoost Classifier model also performs much better that Descision Tree and Random Forest Classification in terms of accuracy score.\n",
    "- The top 10 features in XGBoost Classifier model consists of postive words : 'thank', 'best', 'excel'"
   ]
  },
  {
   "cell_type": "code",
   "execution_count": 73,
   "metadata": {},
   "outputs": [],
   "source": [
    "# saving the model for backup\n",
    "filename = 'xg_model.sav'\n",
    "pickle.dump(xg_model, open(filename, 'wb'))\n",
    "\n",
    "# xg_model = pickle.load(open('xg_model.sav', 'rb'))"
   ]
  },
  {
   "cell_type": "markdown",
   "metadata": {},
   "source": [
    "### 8.  Classification model Scoreboard"
   ]
  },
  {
   "cell_type": "markdown",
   "metadata": {},
   "source": [
    "| Classification   model       | Train Accuracy | Test Accuracy |   Delta  | Sensitivity | Fall-out |  AUC |\n",
    "|------------------------------|:--------------:|:-------------:|:--------:|-------------|----------|:----:|\n",
    "| Logistic Regression          |     0.83917    |    0.83254    |  0.00664 |   0.96203   |  0.60244 | 0.82 |\n",
    "| Multinomial NB               |     0.82185    |    0.81926    |  0.00260 |   0.90128   |  0.45628 | 0.81 |\n",
    "| Decision Tree Classifier     |     0.77724    |    0.77701    |  0.00023 |   0.99158   |  0.94376 | 0.52 |\n",
    "| Random Forest Classifier     |     0.77057    |    0.77060    | -0.00003 |      1      |     1    | 0.73 |\n",
    "| Ada Boost Classifier         |     0.80684    |    0.80563    |  0.00121 |   0.97043   |  0.74795 | 0.77 |\n",
    "| Gradient Boosting Classifier |     0.83205    |    0.82649    |  0.00556 |   0.95793   |  0.61507 | 0.81 |"
   ]
  },
  {
   "cell_type": "markdown",
   "metadata": {},
   "source": [
    "Based on the above Classification model Scoreboard,\n",
    "\n",
    "- All of the classification models have classification score same or better than the required Baseline Accuracy of 77%\n",
    "\n",
    " - `Descision Tree Classifier` & `Random Forest Classifier` performed poorly compared to other models for this dataset,\n",
    "this is based on the accuracy scores are 77% and both models have high Fall-out rate (false positive rate) predict `reviews` to be mainly either False positive or True positive which predict to be target=1 `reviews`. target=0 `reviews` were not correctly classified as compared to other models. \n",
    " - `Ada Boost Classifier` & `Gradient Boosting Classifier` both models performed better with higher accuracy scores and but the Fall-out rate is not the lowest. \n",
    " - `Logistic Regression` & `Multinomial NB` produced high accuracy scores and ` Multinomial NB` produced the lowest Fall-out rate at 45% compared to the other models.\n",
    " \n",
    "Hence, `Multinomial NB` is chosen as the best model to classify target=1 `reviews` and target=0 `reviews` for this dataset."
   ]
  },
  {
   "cell_type": "markdown",
   "metadata": {},
   "source": [
    "### 9. misclassified texts in Multinomial NB"
   ]
  },
  {
   "cell_type": "code",
   "execution_count": 19,
   "metadata": {},
   "outputs": [],
   "source": [
    "MultiNB_model = pickle.load(open('MultiNB_model.sav', 'rb'))"
   ]
  },
  {
   "cell_type": "code",
   "execution_count": 115,
   "metadata": {},
   "outputs": [
    {
     "data": {
      "text/html": [
       "<div>\n",
       "<style scoped>\n",
       "    .dataframe tbody tr th:only-of-type {\n",
       "        vertical-align: middle;\n",
       "    }\n",
       "\n",
       "    .dataframe tbody tr th {\n",
       "        vertical-align: top;\n",
       "    }\n",
       "\n",
       "    .dataframe thead th {\n",
       "        text-align: right;\n",
       "    }\n",
       "</style>\n",
       "<table border=\"1\" class=\"dataframe\">\n",
       "  <thead>\n",
       "    <tr style=\"text-align: right;\">\n",
       "      <th></th>\n",
       "      <th>Features</th>\n",
       "      <th>feature ranking</th>\n",
       "    </tr>\n",
       "  </thead>\n",
       "  <tbody>\n",
       "    <tr>\n",
       "      <th>3619</th>\n",
       "      <td>took</td>\n",
       "      <td>0</td>\n",
       "    </tr>\n",
       "    <tr>\n",
       "      <th>3922</th>\n",
       "      <td>whatev</td>\n",
       "      <td>1</td>\n",
       "    </tr>\n",
       "    <tr>\n",
       "      <th>2429</th>\n",
       "      <td>much hope</td>\n",
       "      <td>2</td>\n",
       "    </tr>\n",
       "    <tr>\n",
       "      <th>2315</th>\n",
       "      <td>materi present</td>\n",
       "      <td>3</td>\n",
       "    </tr>\n",
       "    <tr>\n",
       "      <th>931</th>\n",
       "      <td>dr charl</td>\n",
       "      <td>4</td>\n",
       "    </tr>\n",
       "    <tr>\n",
       "      <th>527</th>\n",
       "      <td>chunk</td>\n",
       "      <td>5</td>\n",
       "    </tr>\n",
       "    <tr>\n",
       "      <th>1816</th>\n",
       "      <td>instal</td>\n",
       "      <td>6</td>\n",
       "    </tr>\n",
       "    <tr>\n",
       "      <th>1706</th>\n",
       "      <td>hook</td>\n",
       "      <td>7</td>\n",
       "    </tr>\n",
       "    <tr>\n",
       "      <th>3858</th>\n",
       "      <td>warn</td>\n",
       "      <td>8</td>\n",
       "    </tr>\n",
       "    <tr>\n",
       "      <th>2511</th>\n",
       "      <td>ng thank</td>\n",
       "      <td>9</td>\n",
       "    </tr>\n",
       "  </tbody>\n",
       "</table>\n",
       "</div>"
      ],
      "text/plain": [
       "            Features  feature ranking\n",
       "3619            took                0\n",
       "3922          whatev                1\n",
       "2429       much hope                2\n",
       "2315  materi present                3\n",
       "931         dr charl                4\n",
       "527            chunk                5\n",
       "1816          instal                6\n",
       "1706            hook                7\n",
       "3858            warn                8\n",
       "2511        ng thank                9"
      ]
     },
     "execution_count": 115,
     "metadata": {},
     "output_type": "execute_result"
    }
   ],
   "source": [
    "pos_class_prob_sorted = MultiNB_model.feature_log_prob_[1, :].argsort()\n",
    "\n",
    "# obtain the words \n",
    "MultiNB_count_feature = count_vec.get_feature_names()\n",
    "\n",
    "# find top 10 words with highest coefficient with the tfidvectorizer\n",
    "pd.DataFrame({'Features':MultiNB_count_feature, \n",
    "              'feature ranking':(pos_class_prob_sorted)}).sort_values(by='feature ranking', ascending=True).head(10)"
   ]
  },
  {
   "cell_type": "code",
   "execution_count": 105,
   "metadata": {},
   "outputs": [
    {
     "data": {
      "text/html": [
       "<div>\n",
       "<style scoped>\n",
       "    .dataframe tbody tr th:only-of-type {\n",
       "        vertical-align: middle;\n",
       "    }\n",
       "\n",
       "    .dataframe tbody tr th {\n",
       "        vertical-align: top;\n",
       "    }\n",
       "\n",
       "    .dataframe thead th {\n",
       "        text-align: right;\n",
       "    }\n",
       "</style>\n",
       "<table border=\"1\" class=\"dataframe\">\n",
       "  <thead>\n",
       "    <tr style=\"text-align: right;\">\n",
       "      <th></th>\n",
       "      <th>prediction</th>\n",
       "      <th>y_test</th>\n",
       "      <th>X_test_list</th>\n",
       "    </tr>\n",
       "  </thead>\n",
       "  <tbody>\n",
       "    <tr>\n",
       "      <th>2</th>\n",
       "      <td>1</td>\n",
       "      <td>0</td>\n",
       "      <td>import deal feel happi concept environ thank</td>\n",
       "    </tr>\n",
       "    <tr>\n",
       "      <th>3</th>\n",
       "      <td>1</td>\n",
       "      <td>0</td>\n",
       "      <td>easili understand concept thankyou provid impo...</td>\n",
       "    </tr>\n",
       "    <tr>\n",
       "      <th>4</th>\n",
       "      <td>1</td>\n",
       "      <td>0</td>\n",
       "      <td>concept complet unknown eg etc holist combin a...</td>\n",
       "    </tr>\n",
       "    <tr>\n",
       "      <th>32</th>\n",
       "      <td>0</td>\n",
       "      <td>1</td>\n",
       "      <td>opinion video also pdf realli use methank provid</td>\n",
       "    </tr>\n",
       "    <tr>\n",
       "      <th>35</th>\n",
       "      <td>1</td>\n",
       "      <td>0</td>\n",
       "      <td>thadeu patient sound rush explain complet prac...</td>\n",
       "    </tr>\n",
       "    <tr>\n",
       "      <th>...</th>\n",
       "      <td>...</td>\n",
       "      <td>...</td>\n",
       "      <td>...</td>\n",
       "    </tr>\n",
       "    <tr>\n",
       "      <th>100408</th>\n",
       "      <td>0</td>\n",
       "      <td>1</td>\n",
       "      <td>suffici overview use jupyt notebook</td>\n",
       "    </tr>\n",
       "    <tr>\n",
       "      <th>100415</th>\n",
       "      <td>1</td>\n",
       "      <td>0</td>\n",
       "      <td>realli enjoy set organ spent wish level detail...</td>\n",
       "    </tr>\n",
       "    <tr>\n",
       "      <th>100427</th>\n",
       "      <td>1</td>\n",
       "      <td>0</td>\n",
       "      <td>help done graphic gcse current level taught li...</td>\n",
       "    </tr>\n",
       "    <tr>\n",
       "      <th>100429</th>\n",
       "      <td>1</td>\n",
       "      <td>0</td>\n",
       "      <td>learn ton suggest video graphic par thank</td>\n",
       "    </tr>\n",
       "    <tr>\n",
       "      <th>100433</th>\n",
       "      <td>0</td>\n",
       "      <td>1</td>\n",
       "      <td>walk access oftentim mobil devic therefor comp...</td>\n",
       "    </tr>\n",
       "  </tbody>\n",
       "</table>\n",
       "<p>18155 rows × 3 columns</p>\n",
       "</div>"
      ],
      "text/plain": [
       "        prediction  y_test                                        X_test_list\n",
       "2                1       0       import deal feel happi concept environ thank\n",
       "3                1       0  easili understand concept thankyou provid impo...\n",
       "4                1       0  concept complet unknown eg etc holist combin a...\n",
       "32               0       1   opinion video also pdf realli use methank provid\n",
       "35               1       0  thadeu patient sound rush explain complet prac...\n",
       "...            ...     ...                                                ...\n",
       "100408           0       1                suffici overview use jupyt notebook\n",
       "100415           1       0  realli enjoy set organ spent wish level detail...\n",
       "100427           1       0  help done graphic gcse current level taught li...\n",
       "100429           1       0          learn ton suggest video graphic par thank\n",
       "100433           0       1  walk access oftentim mobil devic therefor comp...\n",
       "\n",
       "[18155 rows x 3 columns]"
      ]
     },
     "execution_count": 105,
     "metadata": {},
     "output_type": "execute_result"
    }
   ],
   "source": [
    "prediction = MultiNB_model.predict(X_test_cv)\n",
    "\n",
    "# zip the array and lists \n",
    "# compare the predictions vs y_test\n",
    "checking_prediction = pd.DataFrame(zip(prediction, y_test, X_test_list), columns=['prediction', 'y_test', 'X_test_list'])\n",
    "\n",
    "# checking wrong predictions, false positives and false negatives\n",
    "wrong_predictions = checking_prediction[checking_prediction['prediction'] != checking_prediction['y_test']]\n",
    "wrong_predictions\n",
    "# subreddit posts that are misclassified"
   ]
  },
  {
   "cell_type": "code",
   "execution_count": 106,
   "metadata": {},
   "outputs": [
    {
     "data": {
      "text/html": [
       "<div>\n",
       "<style scoped>\n",
       "    .dataframe tbody tr th:only-of-type {\n",
       "        vertical-align: middle;\n",
       "    }\n",
       "\n",
       "    .dataframe tbody tr th {\n",
       "        vertical-align: top;\n",
       "    }\n",
       "\n",
       "    .dataframe thead th {\n",
       "        text-align: right;\n",
       "    }\n",
       "</style>\n",
       "<table border=\"1\" class=\"dataframe\">\n",
       "  <thead>\n",
       "    <tr style=\"text-align: right;\">\n",
       "      <th></th>\n",
       "      <th>word in misclassified posts</th>\n",
       "      <th>count</th>\n",
       "    </tr>\n",
       "  </thead>\n",
       "  <tbody>\n",
       "    <tr>\n",
       "      <th>49</th>\n",
       "      <td>realli</td>\n",
       "      <td>2409</td>\n",
       "    </tr>\n",
       "    <tr>\n",
       "      <th>50</th>\n",
       "      <td>use</td>\n",
       "      <td>2312</td>\n",
       "    </tr>\n",
       "    <tr>\n",
       "      <th>93</th>\n",
       "      <td>like</td>\n",
       "      <td>2146</td>\n",
       "    </tr>\n",
       "    <tr>\n",
       "      <th>6</th>\n",
       "      <td>thank</td>\n",
       "      <td>1924</td>\n",
       "    </tr>\n",
       "    <tr>\n",
       "      <th>94</th>\n",
       "      <td>lot</td>\n",
       "      <td>1877</td>\n",
       "    </tr>\n",
       "    <tr>\n",
       "      <th>91</th>\n",
       "      <td>assign</td>\n",
       "      <td>1857</td>\n",
       "    </tr>\n",
       "    <tr>\n",
       "      <th>58</th>\n",
       "      <td>help</td>\n",
       "      <td>1801</td>\n",
       "    </tr>\n",
       "    <tr>\n",
       "      <th>46</th>\n",
       "      <td>video</td>\n",
       "      <td>1683</td>\n",
       "    </tr>\n",
       "    <tr>\n",
       "      <th>72</th>\n",
       "      <td>interest</td>\n",
       "      <td>1555</td>\n",
       "    </tr>\n",
       "    <tr>\n",
       "      <th>62</th>\n",
       "      <td>much</td>\n",
       "      <td>1340</td>\n",
       "    </tr>\n",
       "  </tbody>\n",
       "</table>\n",
       "</div>"
      ],
      "text/plain": [
       "   word in misclassified posts  count\n",
       "49                      realli   2409\n",
       "50                         use   2312\n",
       "93                        like   2146\n",
       "6                        thank   1924\n",
       "94                         lot   1877\n",
       "91                      assign   1857\n",
       "58                        help   1801\n",
       "46                       video   1683\n",
       "72                    interest   1555\n",
       "62                        much   1340"
      ]
     },
     "execution_count": 106,
     "metadata": {},
     "output_type": "execute_result"
    }
   ],
   "source": [
    "# find out the frequency of words like \n",
    "\n",
    "dictionary_of_words = dict()\n",
    "\n",
    "for sentence in wrong_predictions['X_test_list']:\n",
    "    for word in sentence.split():\n",
    "        if word not in dictionary_of_words:\n",
    "            dictionary_of_words[word] = 1\n",
    "        else:\n",
    "            dictionary_of_words[word] += 1\n",
    "\n",
    "pd.DataFrame(dictionary_of_words.items(), columns=['word in misclassified posts', 'count']).sort_values(by='count',ascending=False).head(10)"
   ]
  },
  {
   "cell_type": "markdown",
   "metadata": {},
   "source": [
    " - On observing the word frequency in texts that are misclassified as target=1 `reviews` where `rating` = 5.0, these high frequency words also appear in the actual target=1 `review` hence many of the classification model have a high fall-out rate, with Multinomial NB having the lowest fall-out"
   ]
  },
  {
   "cell_type": "code",
   "execution_count": 108,
   "metadata": {},
   "outputs": [
    {
     "data": {
      "text/html": [
       "<div>\n",
       "<style scoped>\n",
       "    .dataframe tbody tr th:only-of-type {\n",
       "        vertical-align: middle;\n",
       "    }\n",
       "\n",
       "    .dataframe tbody tr th {\n",
       "        vertical-align: top;\n",
       "    }\n",
       "\n",
       "    .dataframe thead th {\n",
       "        text-align: right;\n",
       "    }\n",
       "</style>\n",
       "<table border=\"1\" class=\"dataframe\">\n",
       "  <thead>\n",
       "    <tr style=\"text-align: right;\">\n",
       "      <th></th>\n",
       "      <th>prediction</th>\n",
       "      <th>y_test</th>\n",
       "      <th>X_test_list</th>\n",
       "      <th>length</th>\n",
       "    </tr>\n",
       "  </thead>\n",
       "  <tbody>\n",
       "    <tr>\n",
       "      <th>14959</th>\n",
       "      <td>0</td>\n",
       "      <td>1</td>\n",
       "      <td>journey major concept gain allow critic evalu ...</td>\n",
       "      <td>2249</td>\n",
       "    </tr>\n",
       "    <tr>\n",
       "      <th>83792</th>\n",
       "      <td>0</td>\n",
       "      <td>1</td>\n",
       "      <td>gave star match descript gener overview topic ...</td>\n",
       "      <td>1313</td>\n",
       "    </tr>\n",
       "    <tr>\n",
       "      <th>30947</th>\n",
       "      <td>0</td>\n",
       "      <td>1</td>\n",
       "      <td>amazingli help shape broad much impress inspir...</td>\n",
       "      <td>1220</td>\n",
       "    </tr>\n",
       "    <tr>\n",
       "      <th>61040</th>\n",
       "      <td>0</td>\n",
       "      <td>1</td>\n",
       "      <td>gener feedback ask patient lousi expect tri ex...</td>\n",
       "      <td>1041</td>\n",
       "    </tr>\n",
       "    <tr>\n",
       "      <th>36818</th>\n",
       "      <td>0</td>\n",
       "      <td>1</td>\n",
       "      <td>concept taught requir everi teacher kindergart...</td>\n",
       "      <td>992</td>\n",
       "    </tr>\n",
       "  </tbody>\n",
       "</table>\n",
       "</div>"
      ],
      "text/plain": [
       "       prediction  y_test                                        X_test_list  \\\n",
       "14959           0       1  journey major concept gain allow critic evalu ...   \n",
       "83792           0       1  gave star match descript gener overview topic ...   \n",
       "30947           0       1  amazingli help shape broad much impress inspir...   \n",
       "61040           0       1  gener feedback ask patient lousi expect tri ex...   \n",
       "36818           0       1  concept taught requir everi teacher kindergart...   \n",
       "\n",
       "       length  \n",
       "14959    2249  \n",
       "83792    1313  \n",
       "30947    1220  \n",
       "61040    1041  \n",
       "36818     992  "
      ]
     },
     "execution_count": 108,
     "metadata": {},
     "output_type": "execute_result"
    }
   ],
   "source": [
    "wrong_predictions['length'] = [len(text) for text in wrong_predictions['X_test_list']]\n",
    "\n",
    "# sort the reviews and try to analyse long reviews\n",
    "wrong_predictions.sort_values(by='length', ascending=False).head()"
   ]
  },
  {
   "cell_type": "code",
   "execution_count": 110,
   "metadata": {},
   "outputs": [
    {
     "data": {
      "text/plain": [
       "'amazingli help shape broad much impress inspir style whole learn astonish improv broadli let explain assign week dr deni ask writer quit thing gave opportun previou write childhood parent kingartin teacher help lot assign quit amaz miracl help revis write second week dr deni help focu critic read critic main habit requir critic select chapter coyl book amaz thing book also mani advic term may writer critic focu certain tri summar question evalu felt help lot gain skill requir writer quit thing describ pictur felt realli much excit evalu argu text techniqu requir quit expertis pictur evalu argument depict main pillar shape writer studi also necessari toward expertis done assign full realli felt experienc writer occas assign earli interest opinion editori newspap desir also abl opinion fulfil desir attain expertis got much import point visit teacher lectur opinion editori struggl best opinion editori articl assign share articl friend realli appreci assign reflect also revis train expertis gain train enough argu type piec moreov also help citat teacher help deliv main featur paragraph sentenc whole write describ everi kept anyth weather final want say thank dr deni comer struggl deliv kind expertis thank'"
      ]
     },
     "execution_count": 110,
     "metadata": {},
     "output_type": "execute_result"
    }
   ],
   "source": [
    "wrong_predictions.loc[30947, 'X_test_list']"
   ]
  },
  {
   "cell_type": "code",
   "execution_count": 112,
   "metadata": {},
   "outputs": [
    {
     "data": {
      "text/plain": [
       "'concept taught requir everi teacher kindergarten materi grasp kindergartn taught teacher manag curriculum never earli wonder succinct present key concept wish avail youth fortun professor took lectur learn retent recal saw mani concept later went found freshman commun particularli lazi effort materi thoroughli knew bad habit hinder progress semest come adopt mid term thorough confus level difficulti test consequ fail test deliv bad news also deliv path recov score provid sever hour lectur learn professor offer retest question pose differ word type multipl vs short answer vs improv score significantli pass fail distribut reflect bell curv distribut interestingli tri mid term still saw failur rate expect someth requir fail prove capit wish found better way sever lectur hour commun instruct howev prove much valuabl unexpectedli failur rate term test class respond kind lectur fail term test almost drop anoth taken class encourag stay finish came treasur compliment taught anyth want'"
      ]
     },
     "execution_count": 112,
     "metadata": {},
     "output_type": "execute_result"
    }
   ],
   "source": [
    "wrong_predictions.loc[36818, 'X_test_list']"
   ]
  },
  {
   "cell_type": "markdown",
   "metadata": {},
   "source": [
    "- In the above 2 reviews, there are many **positive words**: 'improv', 'impress', 'realli', 'encourag' even though the `rating` given by the reviewers are not 5.0.\n",
    "- Hence, many classification models classify these `reviews` as target=1 based on these words inside"
   ]
  },
  {
   "cell_type": "code",
   "execution_count": 113,
   "metadata": {},
   "outputs": [],
   "source": [
    "def bigram_trigam_count(df, color):\n",
    "    count_vec = CountVectorizer(max_features=100, ngram_range=(2,3))\n",
    "    ngrams = count_vec.fit_transform(df['X_test_list'])\n",
    "    count_values = ngrams.toarray().sum(axis=0)\n",
    "    vocab = count_vec.vocabulary_\n",
    "    df_ngram = pd.DataFrame(((k,count_values[i]) for k,i in vocab.items()),\n",
    "                        columns=['Bigram/Trigram','Frequency']).sort_values(by='Frequency', ascending=False).head(10)\n",
    "    \n",
    "    plt.figure(figsize=(18,5))\n",
    "    sns.barplot(x='Bigram/Trigram', y ='Frequency', data=df_ngram, palette = color)\n",
    "    #plt.title('Top 10 words in rating not 5', fontsize=20);"
   ]
  },
  {
   "cell_type": "code",
   "execution_count": 117,
   "metadata": {},
   "outputs": [
    {
     "data": {
      "image/png": "[encoded data removed]",
      "text/plain": [
       "<Figure size 1296x360 with 1 Axes>"
      ]
     },
     "metadata": {
      "needs_background": "light"
     },
     "output_type": "display_data"
    }
   ],
   "source": [
    "bigram_trigam_count(wrong_predictions, 'Blues_r')\n",
    "plt.title('Bigram/Trigram found in Misclassifed reviews', fontsize = 25);"
   ]
  },
  {
   "cell_type": "markdown",
   "metadata": {},
   "source": [
    "- Further analysis of the bigram/trigram of mis-classified posts, the top 10 bigram/trigram are closely similar to those of `rating`=5"
   ]
  },
  {
   "cell_type": "markdown",
   "metadata": {},
   "source": [
    "### 10. Conclusion"
   ]
  },
  {
   "cell_type": "markdown",
   "metadata": {},
   "source": [
    " - `Multinomial NB` is chosen as the best model to classify target=1 `reviews` and target=0 `reviews` for this dataset as it has the lowest fall-out rate\n",
    " - From these classification models, `reviews` can be classified into target=1 `reviews` where `rating`= 5 when **positive words**: 'thank', 'recommend', 'phenomen', 'excelent' are used vice-versa when **negative words**: 'useless', 'horribl', 'poor', 'disappoint' are used.\n",
    " - There are `reviews` with less than 5.0 `rating` but the reviewers left positive words in the `reviews`, hence classification models will misclassify the post as False positives.\n",
    " - In order to improve MOOC satisfaction and based on the group of words, courses have to be 'really recommended', 'easy', reviewers feel 'thank'ful, 'realli enjoy' the material... further analysis could be done to see whether its due to the course content, instructor or difficulty level"
   ]
  }
 ],
 "metadata": {
  "kernelspec": {
   "display_name": "Python 3",
   "language": "python",
   "name": "python3"
  },
  "language_info": {
   "codemirror_mode": {
    "name": "ipython",
    "version": 3
   },
   "file_extension": ".py",
   "mimetype": "text/x-python",
   "name": "python",
   "nbconvert_exporter": "python",
   "pygments_lexer": "ipython3",
   "version": "3.8.5"
  }
 },
 "nbformat": 4,
 "nbformat_minor": 4
}
