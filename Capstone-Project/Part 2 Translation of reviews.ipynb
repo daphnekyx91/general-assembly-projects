{
 "cells": [
  {
   "cell_type": "markdown",
   "metadata": {},
   "source": [
    "# Translation using different NLP packages"
   ]
  },
  {
   "cell_type": "markdown",
   "metadata": {},
   "source": [
    "### Content\n",
    "\n",
    "- [1. Standard Imports](#1.-Standard-Imports)\n",
    "- [2. Importing dataset](#2.-Importing-dataset)\n",
    "- [3. Processing 'reviews' column](#3.-Processing-reviews)\n",
    "- [4. nltk.corpus to check english language](#4.-nltk.corpus-to-check-english-language)\n",
    "- [5. Splitting of dataframes into english and non-english reviews](#5.-Splitting-of-dataframes-into-english-and-non-english-reviews)\n",
    "- [6. Spacy to detect different languages](#6.-Spacy-to-detect-different-languages)\n",
    "- [7. google translator package to translate reviews](#7.-google-translator-package-to-translate-reviews)\n",
    "- [8. Saving part of the translated Reviews](#8.-Saving-part-of-the-translated-Reviews)\n",
    "- [9. translating the remaining text in Russian to English](#9.-translating-the-remaining-text-in-Russian-to-English)\n",
    "- [10. Merging translated reviews into 1 DataFrame](#10.-Merging-translated-reviews-into-1-DataFrame)\n",
    "- [11. Exporting out translated dataframe](#11.-Exporting-out-translated-dataframe)\n",
    "- [12. Saving backups](#12.-Saving-backups)     \n",
    "- [13. translating the remaining text in Spanish to English](#13.-translating-the-remaining-text-in-Spanish-to-English)\n",
    "- [14. Translating in batches](#14.-Translating-in-batches)\n",
    "- [15. Exporting translated dataframe](#15.-Exporting-translated-dataframe)"
   ]
  },
  {
   "cell_type": "markdown",
   "metadata": {},
   "source": [
    "### 1. Standard Imports"
   ]
  },
  {
   "cell_type": "code",
   "execution_count": 1,
   "metadata": {},
   "outputs": [],
   "source": [
    "# imports\n",
    "import pandas as pd\n",
    "import numpy as np\n",
    "import matplotlib.pyplot as plt\n",
    "import seaborn as sns\n",
    "%matplotlib inline\n",
    "\n",
    "# imports for preprocessing text\n",
    "import regex as re\n",
    "from bs4 import BeautifulSoup   \n",
    "from nltk.corpus import stopwords\n",
    "from nltk.stem import PorterStemmer\n",
    "\n",
    "# different nlp library\n",
    "from textblob import TextBlob\n",
    "from langdetect import detect\n",
    "import spacy\n",
    "from spacy.language import Language\n",
    "from spacy_langdetect import LanguageDetector\n",
    "\n",
    "# for translation\n",
    "import google_trans_new\n",
    "from google_trans_new import google_translator"
   ]
  },
  {
   "cell_type": "markdown",
   "metadata": {},
   "source": [
    "### 2. Importing dataset"
   ]
  },
  {
   "cell_type": "code",
   "execution_count": 84,
   "metadata": {},
   "outputs": [
    {
     "data": {
      "text/html": [
       "<div>\n",
       "<style scoped>\n",
       "    .dataframe tbody tr th:only-of-type {\n",
       "        vertical-align: middle;\n",
       "    }\n",
       "\n",
       "    .dataframe tbody tr th {\n",
       "        vertical-align: top;\n",
       "    }\n",
       "\n",
       "    .dataframe thead th {\n",
       "        text-align: right;\n",
       "    }\n",
       "</style>\n",
       "<table border=\"1\" class=\"dataframe\">\n",
       "  <thead>\n",
       "    <tr style=\"text-align: right;\">\n",
       "      <th></th>\n",
       "      <th>name</th>\n",
       "      <th>institution</th>\n",
       "      <th>course_url</th>\n",
       "      <th>course_id</th>\n",
       "      <th>reviews</th>\n",
       "      <th>reviewers</th>\n",
       "      <th>date_reviews</th>\n",
       "      <th>rating</th>\n",
       "      <th>count of words</th>\n",
       "      <th>University</th>\n",
       "      <th>month</th>\n",
       "      <th>year</th>\n",
       "      <th>mth-year</th>\n",
       "      <th>year-month</th>\n",
       "    </tr>\n",
       "  </thead>\n",
       "  <tbody>\n",
       "    <tr>\n",
       "      <th>0</th>\n",
       "      <td>Machine Learning</td>\n",
       "      <td>Stanford University</td>\n",
       "      <td>https://www.coursera.org/learn/machine-learning</td>\n",
       "      <td>machine-learning</td>\n",
       "      <td>This is an extremely basic course. Machine lea...</td>\n",
       "      <td>By Deleted A</td>\n",
       "      <td>2017-03-18</td>\n",
       "      <td>1.0</td>\n",
       "      <td>152</td>\n",
       "      <td>University</td>\n",
       "      <td>3</td>\n",
       "      <td>2017</td>\n",
       "      <td>Mar-2017</td>\n",
       "      <td>2017-03</td>\n",
       "    </tr>\n",
       "    <tr>\n",
       "      <th>1</th>\n",
       "      <td>Machine Learning</td>\n",
       "      <td>Stanford University</td>\n",
       "      <td>https://www.coursera.org/learn/machine-learning</td>\n",
       "      <td>machine-learning</td>\n",
       "      <td>The course is ok but the certification procedu...</td>\n",
       "      <td>By Bruno C</td>\n",
       "      <td>2015-11-09</td>\n",
       "      <td>1.0</td>\n",
       "      <td>34</td>\n",
       "      <td>University</td>\n",
       "      <td>11</td>\n",
       "      <td>2015</td>\n",
       "      <td>Nov-2015</td>\n",
       "      <td>2015-11</td>\n",
       "    </tr>\n",
       "  </tbody>\n",
       "</table>\n",
       "</div>"
      ],
      "text/plain": [
       "               name          institution  \\\n",
       "0  Machine Learning  Stanford University   \n",
       "1  Machine Learning  Stanford University   \n",
       "\n",
       "                                        course_url         course_id  \\\n",
       "0  https://www.coursera.org/learn/machine-learning  machine-learning   \n",
       "1  https://www.coursera.org/learn/machine-learning  machine-learning   \n",
       "\n",
       "                                             reviews     reviewers  \\\n",
       "0  This is an extremely basic course. Machine lea...  By Deleted A   \n",
       "1  The course is ok but the certification procedu...    By Bruno C   \n",
       "\n",
       "  date_reviews  rating  count of words  University  month  year  mth-year  \\\n",
       "0   2017-03-18     1.0             152  University      3  2017  Mar-2017   \n",
       "1   2015-11-09     1.0              34  University     11  2015  Nov-2015   \n",
       "\n",
       "  year-month  \n",
       "0    2017-03  \n",
       "1    2015-11  "
      ]
     },
     "execution_count": 84,
     "metadata": {},
     "output_type": "execute_result"
    }
   ],
   "source": [
    "df_cleaned = courses = pd.read_csv('df_cleaned.csv')\n",
    "df_cleaned.head(2)"
   ]
  },
  {
   "cell_type": "code",
   "execution_count": 85,
   "metadata": {},
   "outputs": [
    {
     "data": {
      "text/plain": [
       "0"
      ]
     },
     "execution_count": 85,
     "metadata": {},
     "output_type": "execute_result"
    }
   ],
   "source": [
    "# checking that all reviews are present\n",
    "df_cleaned['reviews'].isnull().sum()"
   ]
  },
  {
   "cell_type": "code",
   "execution_count": 86,
   "metadata": {},
   "outputs": [
    {
     "data": {
      "text/plain": [
       "(438726, 14)"
      ]
     },
     "execution_count": 86,
     "metadata": {},
     "output_type": "execute_result"
    }
   ],
   "source": [
    "# shape of dataframe, there are 438726 rows and 14 columns\n",
    "df_cleaned.shape"
   ]
  },
  {
   "cell_type": "markdown",
   "metadata": {},
   "source": [
    "### 3. Processing reviews"
   ]
  },
  {
   "cell_type": "markdown",
   "metadata": {},
   "source": [
    "- rows in `reviews` are preprocessed and split into words so that they can be checked against the NLP libraries"
   ]
  },
  {
   "cell_type": "code",
   "execution_count": 98,
   "metadata": {},
   "outputs": [],
   "source": [
    "# removing all the digits and symbols\n",
    "# lowercase words\n",
    "# these processed text will be checked against words from nltk.corpus\n",
    "\n",
    "def review_to_splitwords(raw_review):\n",
    "    review_text = re.sub(r'\\w+:\\/{2}[\\d\\w-]+(\\.[\\d\\w-]+)*(?:(?:\\/[^\\s/]*))*', '',raw_review)\n",
    "    letters_only = re.sub(\"[^a-zA-Z]\", \" \", review_text)\n",
    "    words = letters_only.lower().split()\n",
    "    return(\" \".join(words))  "
   ]
  },
  {
   "cell_type": "code",
   "execution_count": 99,
   "metadata": {},
   "outputs": [],
   "source": [
    "# applying function to process text\n",
    "df_cleaned['reviews split'] = df_cleaned['reviews'].apply(review_to_splitwords)"
   ]
  },
  {
   "cell_type": "markdown",
   "metadata": {},
   "source": [
    "### 4. nltk.corpus to check english language"
   ]
  },
  {
   "cell_type": "markdown",
   "metadata": {},
   "source": [
    "- **nltk.corpus** is checked against the words in `reviews` to identify if they are english 'en' or not"
   ]
  },
  {
   "cell_type": "code",
   "execution_count": 100,
   "metadata": {},
   "outputs": [],
   "source": [
    "#from nltk.corpus import words\n",
    "# this will be the dictionary the reviews will check against and determine if the text is english\n",
    "nltk_list = words.words()\n",
    "\n",
    "# function to return 'en' if text is english\n",
    "def is_english(row):\n",
    "    for i in nltk_list:\n",
    "        if i in row:\n",
    "            return 'en'"
   ]
  },
  {
   "cell_type": "code",
   "execution_count": 101,
   "metadata": {},
   "outputs": [],
   "source": [
    "# applying function to reviews split and inputting 'en' in new column\n",
    "df_cleaned['language'] = df_cleaned['reviews split'].apply(is_english)"
   ]
  },
  {
   "cell_type": "markdown",
   "metadata": {},
   "source": [
    "### 5. Splitting of dataframes into english and non-english reviews"
   ]
  },
  {
   "cell_type": "markdown",
   "metadata": {},
   "source": [
    " - upon checking against the **nltk.corpus**, there are many `reviews` that are not in english\n",
    " - `reviews` not in english are separated and will be translated"
   ]
  },
  {
   "cell_type": "code",
   "execution_count": 103,
   "metadata": {},
   "outputs": [
    {
     "data": {
      "text/html": [
       "<div>\n",
       "<style scoped>\n",
       "    .dataframe tbody tr th:only-of-type {\n",
       "        vertical-align: middle;\n",
       "    }\n",
       "\n",
       "    .dataframe tbody tr th {\n",
       "        vertical-align: top;\n",
       "    }\n",
       "\n",
       "    .dataframe thead th {\n",
       "        text-align: right;\n",
       "    }\n",
       "</style>\n",
       "<table border=\"1\" class=\"dataframe\">\n",
       "  <thead>\n",
       "    <tr style=\"text-align: right;\">\n",
       "      <th></th>\n",
       "      <th>name</th>\n",
       "      <th>institution</th>\n",
       "      <th>course_url</th>\n",
       "      <th>course_id</th>\n",
       "      <th>reviews</th>\n",
       "      <th>reviewers</th>\n",
       "      <th>date_reviews</th>\n",
       "      <th>rating</th>\n",
       "      <th>count of words</th>\n",
       "      <th>University</th>\n",
       "      <th>month</th>\n",
       "      <th>year</th>\n",
       "      <th>mth-year</th>\n",
       "      <th>year-month</th>\n",
       "      <th>reviews split</th>\n",
       "      <th>language</th>\n",
       "    </tr>\n",
       "  </thead>\n",
       "  <tbody>\n",
       "    <tr>\n",
       "      <th>0</th>\n",
       "      <td>Machine Learning</td>\n",
       "      <td>Stanford University</td>\n",
       "      <td>https://www.coursera.org/learn/machine-learning</td>\n",
       "      <td>machine-learning</td>\n",
       "      <td>This is an extremely basic course. Machine lea...</td>\n",
       "      <td>By Deleted A</td>\n",
       "      <td>2017-03-18</td>\n",
       "      <td>1.0</td>\n",
       "      <td>152</td>\n",
       "      <td>University</td>\n",
       "      <td>3</td>\n",
       "      <td>2017</td>\n",
       "      <td>Mar-2017</td>\n",
       "      <td>2017-03</td>\n",
       "      <td>this is an extremely basic course machine lear...</td>\n",
       "      <td>en</td>\n",
       "    </tr>\n",
       "    <tr>\n",
       "      <th>1</th>\n",
       "      <td>Machine Learning</td>\n",
       "      <td>Stanford University</td>\n",
       "      <td>https://www.coursera.org/learn/machine-learning</td>\n",
       "      <td>machine-learning</td>\n",
       "      <td>The course is ok but the certification procedu...</td>\n",
       "      <td>By Bruno C</td>\n",
       "      <td>2015-11-09</td>\n",
       "      <td>1.0</td>\n",
       "      <td>34</td>\n",
       "      <td>University</td>\n",
       "      <td>11</td>\n",
       "      <td>2015</td>\n",
       "      <td>Nov-2015</td>\n",
       "      <td>2015-11</td>\n",
       "      <td>the course is ok but the certification procedu...</td>\n",
       "      <td>en</td>\n",
       "    </tr>\n",
       "  </tbody>\n",
       "</table>\n",
       "</div>"
      ],
      "text/plain": [
       "               name          institution  \\\n",
       "0  Machine Learning  Stanford University   \n",
       "1  Machine Learning  Stanford University   \n",
       "\n",
       "                                        course_url         course_id  \\\n",
       "0  https://www.coursera.org/learn/machine-learning  machine-learning   \n",
       "1  https://www.coursera.org/learn/machine-learning  machine-learning   \n",
       "\n",
       "                                             reviews     reviewers  \\\n",
       "0  This is an extremely basic course. Machine lea...  By Deleted A   \n",
       "1  The course is ok but the certification procedu...    By Bruno C   \n",
       "\n",
       "  date_reviews  rating  count of words  University  month  year  mth-year  \\\n",
       "0   2017-03-18     1.0             152  University      3  2017  Mar-2017   \n",
       "1   2015-11-09     1.0              34  University     11  2015  Nov-2015   \n",
       "\n",
       "  year-month                                      reviews split language  \n",
       "0    2017-03  this is an extremely basic course machine lear...       en  \n",
       "1    2015-11  the course is ok but the certification procedu...       en  "
      ]
     },
     "execution_count": 103,
     "metadata": {},
     "output_type": "execute_result"
    }
   ],
   "source": [
    "# checking reviews that are english where ['language'] == 'en'\n",
    "\n",
    "english_reviews = df_cleaned[df_cleaned['language'] == 'en']\n",
    "english_reviews.head(2)"
   ]
  },
  {
   "cell_type": "code",
   "execution_count": 104,
   "metadata": {},
   "outputs": [
    {
     "data": {
      "text/html": [
       "<div>\n",
       "<style scoped>\n",
       "    .dataframe tbody tr th:only-of-type {\n",
       "        vertical-align: middle;\n",
       "    }\n",
       "\n",
       "    .dataframe tbody tr th {\n",
       "        vertical-align: top;\n",
       "    }\n",
       "\n",
       "    .dataframe thead th {\n",
       "        text-align: right;\n",
       "    }\n",
       "</style>\n",
       "<table border=\"1\" class=\"dataframe\">\n",
       "  <thead>\n",
       "    <tr style=\"text-align: right;\">\n",
       "      <th></th>\n",
       "      <th>name</th>\n",
       "      <th>institution</th>\n",
       "      <th>course_url</th>\n",
       "      <th>course_id</th>\n",
       "      <th>reviews</th>\n",
       "      <th>reviewers</th>\n",
       "      <th>date_reviews</th>\n",
       "      <th>rating</th>\n",
       "      <th>count of words</th>\n",
       "      <th>University</th>\n",
       "      <th>month</th>\n",
       "      <th>year</th>\n",
       "      <th>mth-year</th>\n",
       "      <th>year-month</th>\n",
       "      <th>reviews split</th>\n",
       "      <th>language</th>\n",
       "    </tr>\n",
       "  </thead>\n",
       "  <tbody>\n",
       "    <tr>\n",
       "      <th>17</th>\n",
       "      <td>Machine Learning</td>\n",
       "      <td>Stanford University</td>\n",
       "      <td>https://www.coursera.org/learn/machine-learning</td>\n",
       "      <td>machine-learning</td>\n",
       "      <td>В\\n требованиях к прохождению курса необходимо...</td>\n",
       "      <td>By Ястрембский А Н</td>\n",
       "      <td>2020-10-01</td>\n",
       "      <td>1.0</td>\n",
       "      <td>72</td>\n",
       "      <td>University</td>\n",
       "      <td>10</td>\n",
       "      <td>2020</td>\n",
       "      <td>Oct-2020</td>\n",
       "      <td>2020-10</td>\n",
       "      <td></td>\n",
       "      <td>None</td>\n",
       "    </tr>\n",
       "    <tr>\n",
       "      <th>639</th>\n",
       "      <td>Machine Learning</td>\n",
       "      <td>Stanford University</td>\n",
       "      <td>https://www.coursera.org/learn/machine-learning</td>\n",
       "      <td>machine-learning</td>\n",
       "      <td>Хорошее введение в машинное обучение. В начале...</td>\n",
       "      <td>By Расов А М</td>\n",
       "      <td>2018-05-26</td>\n",
       "      <td>4.0</td>\n",
       "      <td>56</td>\n",
       "      <td>University</td>\n",
       "      <td>5</td>\n",
       "      <td>2018</td>\n",
       "      <td>May-2018</td>\n",
       "      <td>2018-05</td>\n",
       "      <td></td>\n",
       "      <td>None</td>\n",
       "    </tr>\n",
       "  </tbody>\n",
       "</table>\n",
       "</div>"
      ],
      "text/plain": [
       "                 name          institution  \\\n",
       "17   Machine Learning  Stanford University   \n",
       "639  Machine Learning  Stanford University   \n",
       "\n",
       "                                          course_url         course_id  \\\n",
       "17   https://www.coursera.org/learn/machine-learning  machine-learning   \n",
       "639  https://www.coursera.org/learn/machine-learning  machine-learning   \n",
       "\n",
       "                                               reviews           reviewers  \\\n",
       "17   В\\n требованиях к прохождению курса необходимо...  By Ястрембский А Н   \n",
       "639  Хорошее введение в машинное обучение. В начале...        By Расов А М   \n",
       "\n",
       "    date_reviews  rating  count of words  University  month  year  mth-year  \\\n",
       "17    2020-10-01     1.0              72  University     10  2020  Oct-2020   \n",
       "639   2018-05-26     4.0              56  University      5  2018  May-2018   \n",
       "\n",
       "    year-month reviews split language  \n",
       "17     2020-10                   None  \n",
       "639    2018-05                   None  "
      ]
     },
     "execution_count": 104,
     "metadata": {},
     "output_type": "execute_result"
    }
   ],
   "source": [
    "# these rows of reviews will need translation, where ['language'] != 'en'\n",
    "\n",
    "needs_translation = df_cleaned[df_cleaned['language'] != 'en']\n",
    "needs_translation.head(2)"
   ]
  },
  {
   "cell_type": "code",
   "execution_count": 105,
   "metadata": {},
   "outputs": [
    {
     "data": {
      "text/html": [
       "<div>\n",
       "<style scoped>\n",
       "    .dataframe tbody tr th:only-of-type {\n",
       "        vertical-align: middle;\n",
       "    }\n",
       "\n",
       "    .dataframe tbody tr th {\n",
       "        vertical-align: top;\n",
       "    }\n",
       "\n",
       "    .dataframe thead th {\n",
       "        text-align: right;\n",
       "    }\n",
       "</style>\n",
       "<table border=\"1\" class=\"dataframe\">\n",
       "  <thead>\n",
       "    <tr style=\"text-align: right;\">\n",
       "      <th></th>\n",
       "      <th>reviews</th>\n",
       "      <th>language</th>\n",
       "    </tr>\n",
       "  </thead>\n",
       "  <tbody>\n",
       "    <tr>\n",
       "      <th>17</th>\n",
       "      <td>В\\n требованиях к прохождению курса необходимо...</td>\n",
       "      <td>None</td>\n",
       "    </tr>\n",
       "    <tr>\n",
       "      <th>639</th>\n",
       "      <td>Хорошее введение в машинное обучение. В начале...</td>\n",
       "      <td>None</td>\n",
       "    </tr>\n",
       "    <tr>\n",
       "      <th>2494</th>\n",
       "      <td>挺好的   理论讲的很清晰 整体难度适中</td>\n",
       "      <td>None</td>\n",
       "    </tr>\n",
       "    <tr>\n",
       "      <th>8658</th>\n",
       "      <td>Очень полезный и интересный курс, особенно, ес...</td>\n",
       "      <td>None</td>\n",
       "    </tr>\n",
       "    <tr>\n",
       "      <th>10086</th>\n",
       "      <td>Очень понятный и интересный курс. Преподавател...</td>\n",
       "      <td>None</td>\n",
       "    </tr>\n",
       "    <tr>\n",
       "      <th>...</th>\n",
       "      <td>...</td>\n",
       "      <td>...</td>\n",
       "    </tr>\n",
       "    <tr>\n",
       "      <th>437561</th>\n",
       "      <td>Самое то для новичка</td>\n",
       "      <td>None</td>\n",
       "    </tr>\n",
       "    <tr>\n",
       "      <th>437562</th>\n",
       "      <td>Все было очень круто</td>\n",
       "      <td>None</td>\n",
       "    </tr>\n",
       "    <tr>\n",
       "      <th>437563</th>\n",
       "      <td>Все ясно и понятно!</td>\n",
       "      <td>None</td>\n",
       "    </tr>\n",
       "    <tr>\n",
       "      <th>437564</th>\n",
       "      <td>Все круто, значит 5</td>\n",
       "      <td>None</td>\n",
       "    </tr>\n",
       "    <tr>\n",
       "      <th>437566</th>\n",
       "      <td>$ Все хорошо $</td>\n",
       "      <td>None</td>\n",
       "    </tr>\n",
       "  </tbody>\n",
       "</table>\n",
       "<p>1823 rows × 2 columns</p>\n",
       "</div>"
      ],
      "text/plain": [
       "                                                  reviews language\n",
       "17      В\\n требованиях к прохождению курса необходимо...     None\n",
       "639     Хорошее введение в машинное обучение. В начале...     None\n",
       "2494                                挺好的   理论讲的很清晰 整体难度适中      None\n",
       "8658    Очень полезный и интересный курс, особенно, ес...     None\n",
       "10086   Очень понятный и интересный курс. Преподавател...     None\n",
       "...                                                   ...      ...\n",
       "437561                               Самое то для новичка     None\n",
       "437562                               Все было очень круто     None\n",
       "437563                                Все ясно и понятно!     None\n",
       "437564                                Все круто, значит 5     None\n",
       "437566                                     $ Все хорошо $     None\n",
       "\n",
       "[1823 rows x 2 columns]"
      ]
     },
     "execution_count": 105,
     "metadata": {},
     "output_type": "execute_result"
    }
   ],
   "source": [
    "# these rows are not english and there are a mixture of languages\n",
    "df_cleaned[df_cleaned['language'] != 'en'][['reviews', 'language']]"
   ]
  },
  {
   "cell_type": "markdown",
   "metadata": {},
   "source": [
    "### 6. Spacy to detect different languages"
   ]
  },
  {
   "cell_type": "markdown",
   "metadata": {},
   "source": [
    " - **Spacy** library was used to detect the different languages of the non-english `reviews`.\n",
    " - upon checking against **Spacy**, there are russian 'ru', arabic 'ar', korean 'ko' `reviews`... etc.\n",
    " - This aligns with how MOOC (Massive Open Online Courses) are accessible for anyone with internet connection to enroll."
   ]
  },
  {
   "cell_type": "code",
   "execution_count": 95,
   "metadata": {},
   "outputs": [
    {
     "data": {
      "text/plain": [
       "'en'"
      ]
     },
     "execution_count": 95,
     "metadata": {},
     "output_type": "execute_result"
    }
   ],
   "source": [
    "#import spacy\n",
    "#from spacy_langdetect import LanguageDetector\n",
    "nlp = spacy.load(\"en_core_web_sm\")\n",
    "\n",
    "def get_lang_detector(nlp, name):\n",
    "    return LanguageDetector()\n",
    "\n",
    "#nlp = spacy.load(\"en_core_web_sm\")\n",
    "#Language.factory(\"language_detector\", func=get_lang_detector)\n",
    "nlp.add_pipe('language_detector', last=True)\n",
    "#text = 'Check is this English?'\n",
    "#doc = nlp(text)\n",
    "#print(doc._.language)\n",
    "\n",
    "# checking usage of spacy_langdetect\n",
    "text = 'is this english'\n",
    "nlp(text)._.language['language']"
   ]
  },
  {
   "cell_type": "code",
   "execution_count": 125,
   "metadata": {},
   "outputs": [
    {
     "data": {
      "text/plain": [
       "'ru'"
      ]
     },
     "execution_count": 125,
     "metadata": {},
     "output_type": "execute_result"
    }
   ],
   "source": [
    "# took a snippet of the first non-english text for testing\n",
    "nlp('Все было очень круто')._.language['language']"
   ]
  },
  {
   "cell_type": "code",
   "execution_count": 126,
   "metadata": {},
   "outputs": [],
   "source": [
    "# creating a function to detect language through ['reviews'] columns\n",
    "def what_language(row):\n",
    "    return nlp(row)._.language['language']"
   ]
  },
  {
   "cell_type": "code",
   "execution_count": 127,
   "metadata": {},
   "outputs": [],
   "source": [
    "# detecting language \n",
    "needs_translation = needs_translation.copy()\n",
    "needs_translation['language'] = needs_translation['reviews'].apply(what_language)"
   ]
  },
  {
   "cell_type": "code",
   "execution_count": 116,
   "metadata": {},
   "outputs": [
    {
     "data": {
      "text/plain": [
       "ru         1566\n",
       "ar          108\n",
       "ko           84\n",
       "uk           19\n",
       "zh-cn        13\n",
       "th            7\n",
       "bg            7\n",
       "UNKNOWN       6\n",
       "mk            4\n",
       "he            3\n",
       "el            2\n",
       "ja            1\n",
       "hi            1\n",
       "fa            1\n",
       "ml            1\n",
       "Name: language, dtype: int64"
      ]
     },
     "execution_count": 116,
     "metadata": {},
     "output_type": "execute_result"
    }
   ],
   "source": [
    "# different languages based on Spacy_langdetect\n",
    "needs_translation['language'].value_counts()"
   ]
  },
  {
   "cell_type": "code",
   "execution_count": 132,
   "metadata": {},
   "outputs": [
    {
     "data": {
      "text/html": [
       "<div>\n",
       "<style scoped>\n",
       "    .dataframe tbody tr th:only-of-type {\n",
       "        vertical-align: middle;\n",
       "    }\n",
       "\n",
       "    .dataframe tbody tr th {\n",
       "        vertical-align: top;\n",
       "    }\n",
       "\n",
       "    .dataframe thead th {\n",
       "        text-align: right;\n",
       "    }\n",
       "</style>\n",
       "<table border=\"1\" class=\"dataframe\">\n",
       "  <thead>\n",
       "    <tr style=\"text-align: right;\">\n",
       "      <th></th>\n",
       "      <th>language</th>\n",
       "    </tr>\n",
       "  </thead>\n",
       "  <tbody>\n",
       "    <tr>\n",
       "      <th>ru</th>\n",
       "      <td>1568</td>\n",
       "    </tr>\n",
       "    <tr>\n",
       "      <th>ar</th>\n",
       "      <td>108</td>\n",
       "    </tr>\n",
       "    <tr>\n",
       "      <th>ko</th>\n",
       "      <td>83</td>\n",
       "    </tr>\n",
       "    <tr>\n",
       "      <th>uk</th>\n",
       "      <td>19</td>\n",
       "    </tr>\n",
       "    <tr>\n",
       "      <th>zh-cn</th>\n",
       "      <td>14</td>\n",
       "    </tr>\n",
       "  </tbody>\n",
       "</table>\n",
       "</div>"
      ],
      "text/plain": [
       "       language\n",
       "ru         1568\n",
       "ar          108\n",
       "ko           83\n",
       "uk           19\n",
       "zh-cn        14"
      ]
     },
     "execution_count": 132,
     "metadata": {},
     "output_type": "execute_result"
    }
   ],
   "source": [
    "pd.DataFrame(needs_translation['language'].value_counts()).head()"
   ]
  },
  {
   "cell_type": "code",
   "execution_count": 139,
   "metadata": {},
   "outputs": [
    {
     "data": {
      "image/png": "[encoded data removed]",
      "text/plain": [
       "<Figure size 576x432 with 1 Axes>"
      ]
     },
     "metadata": {
      "needs_background": "light"
     },
     "output_type": "display_data"
    }
   ],
   "source": [
    "temp_table = pd.DataFrame(needs_translation['language'].value_counts()).head()\n",
    "plt.figure(figsize=(8,6))\n",
    "sns.barplot(data=temp_table, x=temp_table.index, y='language', palette='rainbow')\n",
    "plt.ylabel('Number of Reviews')\n",
    "plt.xlabel('Languages')\n",
    "plt.title('Top 5 non-english reviews in Coursera');"
   ]
  },
  {
   "cell_type": "code",
   "execution_count": 121,
   "metadata": {
    "scrolled": false
   },
   "outputs": [],
   "source": [
    "# 'UNKNOWN' are symbols hence not detected as english or other language\n",
    "# hence these reviews are not significant\n",
    "\n",
    "needs_translation = needs_translation[needs_translation['language'] !='UNKNOWN']"
   ]
  },
  {
   "cell_type": "code",
   "execution_count": 129,
   "metadata": {},
   "outputs": [
    {
     "data": {
      "text/plain": [
       "1817"
      ]
     },
     "execution_count": 129,
     "metadata": {},
     "output_type": "execute_result"
    }
   ],
   "source": [
    "# there are a total of 1817 reviews that require translation\n",
    "len(needs_translation)"
   ]
  },
  {
   "cell_type": "markdown",
   "metadata": {},
   "source": [
    "### 7. google translator package to translate reviews"
   ]
  },
  {
   "cell_type": "markdown",
   "metadata": {},
   "source": [
    "- **google_trans_new** is a free python for google translate.\n",
    "- however, there are API limits and the `reviews` translated in batches by slicing the dataframe by 500 rows.\n",
    "- tried submitting all the non-english `reviews` in 1 time and use blocked due to 423 error.\n",
    "- in addition, the requests have to be submitted in a few minutes interval.\n",
    "- therefore, this translation using google_trans_new was done over 4 days."
   ]
  },
  {
   "cell_type": "code",
   "execution_count": 26,
   "metadata": {},
   "outputs": [],
   "source": [
    "#import google_trans_new\n",
    "#from google_trans_new import google_translator\n",
    "\n",
    "# instantiating the goole_translator function\n",
    "translator = google_translator()  \n",
    "\n",
    "# function to translate words based on goole_translator function\n",
    "def translate_word(row):\n",
    "    return translator.translate(row,lang_tgt='en') "
   ]
  },
  {
   "cell_type": "code",
   "execution_count": 62,
   "metadata": {},
   "outputs": [],
   "source": [
    "# splitting the Dataframe as google_trans_new has an API limit\n",
    "other_needs_translation = needs_translation[needs_translation['language']!='ru']\n",
    "other_needs_translation = other_needs_translation.copy()\n",
    "\n",
    "# applying the translation to other languages except for russian\n",
    "other_needs_translation['reviews'] = other_needs_translation['reviews'].apply(translate_word)"
   ]
  },
  {
   "cell_type": "code",
   "execution_count": 145,
   "metadata": {},
   "outputs": [
    {
     "data": {
      "text/html": [
       "<div>\n",
       "<style scoped>\n",
       "    .dataframe tbody tr th:only-of-type {\n",
       "        vertical-align: middle;\n",
       "    }\n",
       "\n",
       "    .dataframe tbody tr th {\n",
       "        vertical-align: top;\n",
       "    }\n",
       "\n",
       "    .dataframe thead th {\n",
       "        text-align: right;\n",
       "    }\n",
       "</style>\n",
       "<table border=\"1\" class=\"dataframe\">\n",
       "  <thead>\n",
       "    <tr style=\"text-align: right;\">\n",
       "      <th></th>\n",
       "      <th>name</th>\n",
       "      <th>institution</th>\n",
       "      <th>course_url</th>\n",
       "      <th>course_id</th>\n",
       "      <th>reviews</th>\n",
       "      <th>reviewers</th>\n",
       "      <th>date_reviews</th>\n",
       "      <th>rating</th>\n",
       "      <th>count of words</th>\n",
       "      <th>University</th>\n",
       "      <th>month</th>\n",
       "      <th>year</th>\n",
       "      <th>mth-year</th>\n",
       "      <th>year-month</th>\n",
       "      <th>reviews split</th>\n",
       "      <th>language</th>\n",
       "    </tr>\n",
       "  </thead>\n",
       "  <tbody>\n",
       "    <tr>\n",
       "      <th>2494</th>\n",
       "      <td>Machine Learning</td>\n",
       "      <td>Stanford University</td>\n",
       "      <td>https://www.coursera.org/learn/machine-learning</td>\n",
       "      <td>machine-learning</td>\n",
       "      <td>挺好的   理论讲的很清晰 整体难度适中</td>\n",
       "      <td>By zhang x</td>\n",
       "      <td>2019-02-12</td>\n",
       "      <td>4.0</td>\n",
       "      <td>6</td>\n",
       "      <td>University</td>\n",
       "      <td>2</td>\n",
       "      <td>2019</td>\n",
       "      <td>Feb-2019</td>\n",
       "      <td>2019-02</td>\n",
       "      <td></td>\n",
       "      <td>zh-cn</td>\n",
       "    </tr>\n",
       "    <tr>\n",
       "      <th>10736</th>\n",
       "      <td>Machine Learning</td>\n",
       "      <td>Stanford University</td>\n",
       "      <td>https://www.coursera.org/learn/machine-learning</td>\n",
       "      <td>machine-learning</td>\n",
       "      <td>「機械学習」とはどんなものか？内部構造やアルゴリズムの理論はどうなってるのか？という漠然とし...</td>\n",
       "      <td>By Keiichiro N</td>\n",
       "      <td>2018-09-06</td>\n",
       "      <td>5.0</td>\n",
       "      <td>5</td>\n",
       "      <td>University</td>\n",
       "      <td>9</td>\n",
       "      <td>2018</td>\n",
       "      <td>Sep-2018</td>\n",
       "      <td>2018-09</td>\n",
       "      <td></td>\n",
       "      <td>ja</td>\n",
       "    </tr>\n",
       "  </tbody>\n",
       "</table>\n",
       "</div>"
      ],
      "text/plain": [
       "                   name          institution  \\\n",
       "2494   Machine Learning  Stanford University   \n",
       "10736  Machine Learning  Stanford University   \n",
       "\n",
       "                                            course_url         course_id  \\\n",
       "2494   https://www.coursera.org/learn/machine-learning  machine-learning   \n",
       "10736  https://www.coursera.org/learn/machine-learning  machine-learning   \n",
       "\n",
       "                                                 reviews       reviewers  \\\n",
       "2494                               挺好的   理论讲的很清晰 整体难度适中       By zhang x   \n",
       "10736  「機械学習」とはどんなものか？内部構造やアルゴリズムの理論はどうなってるのか？という漠然とし...  By Keiichiro N   \n",
       "\n",
       "      date_reviews  rating  count of words  University  month  year  mth-year  \\\n",
       "2494    2019-02-12     4.0               6  University      2  2019  Feb-2019   \n",
       "10736   2018-09-06     5.0               5  University      9  2018  Sep-2018   \n",
       "\n",
       "      year-month reviews split language  \n",
       "2494     2019-02                  zh-cn  \n",
       "10736    2018-09                     ja  "
      ]
     },
     "metadata": {},
     "output_type": "display_data"
    },
    {
     "data": {
      "text/plain": [
       "2494                                 挺好的   理论讲的很清晰 整体难度适中 \n",
       "10736    「機械学習」とはどんなものか？内部構造やアルゴリズムの理論はどうなってるのか？という漠然とし...\n",
       "Name: reviews, dtype: object"
      ]
     },
     "execution_count": 145,
     "metadata": {},
     "output_type": "execute_result"
    }
   ],
   "source": [
    "# before translation\n",
    "display(needs_translation[needs_translation['language']!='ru'].head(2))\n",
    "\n",
    "# before translation review column\n",
    "needs_translation[needs_translation['language']!='ru']['reviews'].head(2)"
   ]
  },
  {
   "cell_type": "code",
   "execution_count": 146,
   "metadata": {
    "scrolled": true
   },
   "outputs": [
    {
     "data": {
      "text/html": [
       "<div>\n",
       "<style scoped>\n",
       "    .dataframe tbody tr th:only-of-type {\n",
       "        vertical-align: middle;\n",
       "    }\n",
       "\n",
       "    .dataframe tbody tr th {\n",
       "        vertical-align: top;\n",
       "    }\n",
       "\n",
       "    .dataframe thead th {\n",
       "        text-align: right;\n",
       "    }\n",
       "</style>\n",
       "<table border=\"1\" class=\"dataframe\">\n",
       "  <thead>\n",
       "    <tr style=\"text-align: right;\">\n",
       "      <th></th>\n",
       "      <th>name</th>\n",
       "      <th>institution</th>\n",
       "      <th>course_url</th>\n",
       "      <th>course_id</th>\n",
       "      <th>reviews</th>\n",
       "      <th>reviewers</th>\n",
       "      <th>date_reviews</th>\n",
       "      <th>rating</th>\n",
       "      <th>count of words</th>\n",
       "      <th>University</th>\n",
       "      <th>month</th>\n",
       "      <th>year</th>\n",
       "      <th>mth-year</th>\n",
       "      <th>year-month</th>\n",
       "      <th>reviews split</th>\n",
       "      <th>language</th>\n",
       "    </tr>\n",
       "  </thead>\n",
       "  <tbody>\n",
       "    <tr>\n",
       "      <th>2494</th>\n",
       "      <td>Machine Learning</td>\n",
       "      <td>Stanford University</td>\n",
       "      <td>https://www.coursera.org/learn/machine-learning</td>\n",
       "      <td>machine-learning</td>\n",
       "      <td>Very good theory, very clear and overall, diff...</td>\n",
       "      <td>By zhang x</td>\n",
       "      <td>2019-02-12</td>\n",
       "      <td>4.0</td>\n",
       "      <td>6</td>\n",
       "      <td>University</td>\n",
       "      <td>2</td>\n",
       "      <td>2019</td>\n",
       "      <td>Feb-2019</td>\n",
       "      <td>2019-02</td>\n",
       "      <td></td>\n",
       "      <td>zh-cn</td>\n",
       "    </tr>\n",
       "    <tr>\n",
       "      <th>10736</th>\n",
       "      <td>Machine Learning</td>\n",
       "      <td>Stanford University</td>\n",
       "      <td>https://www.coursera.org/learn/machine-learning</td>\n",
       "      <td>machine-learning</td>\n",
       "      <td>What is \"Machine Learning\"? What is the theory...</td>\n",
       "      <td>By Keiichiro N</td>\n",
       "      <td>2018-09-06</td>\n",
       "      <td>5.0</td>\n",
       "      <td>5</td>\n",
       "      <td>University</td>\n",
       "      <td>9</td>\n",
       "      <td>2018</td>\n",
       "      <td>Sep-2018</td>\n",
       "      <td>2018-09</td>\n",
       "      <td></td>\n",
       "      <td>ja</td>\n",
       "    </tr>\n",
       "  </tbody>\n",
       "</table>\n",
       "</div>"
      ],
      "text/plain": [
       "                   name          institution  \\\n",
       "2494   Machine Learning  Stanford University   \n",
       "10736  Machine Learning  Stanford University   \n",
       "\n",
       "                                            course_url         course_id  \\\n",
       "2494   https://www.coursera.org/learn/machine-learning  machine-learning   \n",
       "10736  https://www.coursera.org/learn/machine-learning  machine-learning   \n",
       "\n",
       "                                                 reviews       reviewers  \\\n",
       "2494   Very good theory, very clear and overall, diff...      By zhang x   \n",
       "10736  What is \"Machine Learning\"? What is the theory...  By Keiichiro N   \n",
       "\n",
       "      date_reviews  rating  count of words  University  month  year  mth-year  \\\n",
       "2494    2019-02-12     4.0               6  University      2  2019  Feb-2019   \n",
       "10736   2018-09-06     5.0               5  University      9  2018  Sep-2018   \n",
       "\n",
       "      year-month reviews split language  \n",
       "2494     2019-02                  zh-cn  \n",
       "10736    2018-09                     ja  "
      ]
     },
     "metadata": {},
     "output_type": "display_data"
    },
    {
     "data": {
      "text/plain": [
       "2494     Very good theory, very clear and overall, diff...\n",
       "10736    What is \"Machine Learning\"? What is the theory...\n",
       "Name: reviews, dtype: object"
      ]
     },
     "execution_count": 146,
     "metadata": {},
     "output_type": "execute_result"
    }
   ],
   "source": [
    "# after translation\n",
    "display(other_needs_translation.head(2))\n",
    "\n",
    "# after translation - review columns\n",
    "other_needs_translation['reviews'].head(2)"
   ]
  },
  {
   "cell_type": "markdown",
   "metadata": {},
   "source": [
    "### 8. Saving part of the translated Reviews"
   ]
  },
  {
   "cell_type": "code",
   "execution_count": 151,
   "metadata": {},
   "outputs": [
    {
     "data": {
      "text/html": [
       "<div>\n",
       "<style scoped>\n",
       "    .dataframe tbody tr th:only-of-type {\n",
       "        vertical-align: middle;\n",
       "    }\n",
       "\n",
       "    .dataframe tbody tr th {\n",
       "        vertical-align: top;\n",
       "    }\n",
       "\n",
       "    .dataframe thead th {\n",
       "        text-align: right;\n",
       "    }\n",
       "</style>\n",
       "<table border=\"1\" class=\"dataframe\">\n",
       "  <thead>\n",
       "    <tr style=\"text-align: right;\">\n",
       "      <th></th>\n",
       "      <th>name</th>\n",
       "      <th>institution</th>\n",
       "      <th>course_url</th>\n",
       "      <th>course_id</th>\n",
       "      <th>reviews</th>\n",
       "      <th>reviewers</th>\n",
       "      <th>date_reviews</th>\n",
       "      <th>rating</th>\n",
       "      <th>count of words</th>\n",
       "      <th>University</th>\n",
       "      <th>month</th>\n",
       "      <th>year</th>\n",
       "      <th>mth-year</th>\n",
       "      <th>year-month</th>\n",
       "      <th>reviews split</th>\n",
       "      <th>language</th>\n",
       "    </tr>\n",
       "  </thead>\n",
       "  <tbody>\n",
       "    <tr>\n",
       "      <th>0</th>\n",
       "      <td>Machine Learning</td>\n",
       "      <td>Stanford University</td>\n",
       "      <td>https://www.coursera.org/learn/machine-learning</td>\n",
       "      <td>machine-learning</td>\n",
       "      <td>This is an extremely basic course. Machine lea...</td>\n",
       "      <td>By Deleted A</td>\n",
       "      <td>2017-03-18</td>\n",
       "      <td>1.0</td>\n",
       "      <td>152</td>\n",
       "      <td>University</td>\n",
       "      <td>3</td>\n",
       "      <td>2017</td>\n",
       "      <td>Mar-2017</td>\n",
       "      <td>2017-03</td>\n",
       "      <td>this is an extremely basic course machine lear...</td>\n",
       "      <td>en</td>\n",
       "    </tr>\n",
       "  </tbody>\n",
       "</table>\n",
       "</div>"
      ],
      "text/plain": [
       "               name          institution  \\\n",
       "0  Machine Learning  Stanford University   \n",
       "\n",
       "                                        course_url         course_id  \\\n",
       "0  https://www.coursera.org/learn/machine-learning  machine-learning   \n",
       "\n",
       "                                             reviews     reviewers  \\\n",
       "0  This is an extremely basic course. Machine lea...  By Deleted A   \n",
       "\n",
       "  date_reviews  rating  count of words  University  month  year  mth-year  \\\n",
       "0   2017-03-18     1.0             152  University      3  2017  Mar-2017   \n",
       "\n",
       "  year-month                                      reviews split language  \n",
       "0    2017-03  this is an extremely basic course machine lear...       en  "
      ]
     },
     "execution_count": 151,
     "metadata": {},
     "output_type": "execute_result"
    }
   ],
   "source": [
    "english_reviews.head(1)"
   ]
  },
  {
   "cell_type": "code",
   "execution_count": 152,
   "metadata": {},
   "outputs": [
    {
     "data": {
      "text/html": [
       "<div>\n",
       "<style scoped>\n",
       "    .dataframe tbody tr th:only-of-type {\n",
       "        vertical-align: middle;\n",
       "    }\n",
       "\n",
       "    .dataframe tbody tr th {\n",
       "        vertical-align: top;\n",
       "    }\n",
       "\n",
       "    .dataframe thead th {\n",
       "        text-align: right;\n",
       "    }\n",
       "</style>\n",
       "<table border=\"1\" class=\"dataframe\">\n",
       "  <thead>\n",
       "    <tr style=\"text-align: right;\">\n",
       "      <th></th>\n",
       "      <th>name</th>\n",
       "      <th>institution</th>\n",
       "      <th>course_url</th>\n",
       "      <th>course_id</th>\n",
       "      <th>reviews</th>\n",
       "      <th>reviewers</th>\n",
       "      <th>date_reviews</th>\n",
       "      <th>rating</th>\n",
       "      <th>count of words</th>\n",
       "      <th>University</th>\n",
       "      <th>month</th>\n",
       "      <th>year</th>\n",
       "      <th>mth-year</th>\n",
       "      <th>year-month</th>\n",
       "      <th>reviews split</th>\n",
       "      <th>language</th>\n",
       "    </tr>\n",
       "  </thead>\n",
       "  <tbody>\n",
       "    <tr>\n",
       "      <th>437564</th>\n",
       "      <td>Математика и Python для анализа данных</td>\n",
       "      <td>Moscow Institute of Physics and Technology</td>\n",
       "      <td>https://www.coursera.org/learn/mathematics-and...</td>\n",
       "      <td>mathematics-and-python</td>\n",
       "      <td>Everything is cool, it means 5</td>\n",
       "      <td>By Чикин Н Д</td>\n",
       "      <td>2018-01-20</td>\n",
       "      <td>5.0</td>\n",
       "      <td>4</td>\n",
       "      <td>Business est</td>\n",
       "      <td>1</td>\n",
       "      <td>2018</td>\n",
       "      <td>Jan-2018</td>\n",
       "      <td>2018-01</td>\n",
       "      <td></td>\n",
       "      <td>mk</td>\n",
       "    </tr>\n",
       "  </tbody>\n",
       "</table>\n",
       "</div>"
      ],
      "text/plain": [
       "                                          name  \\\n",
       "437564  Математика и Python для анализа данных   \n",
       "\n",
       "                                       institution  \\\n",
       "437564  Moscow Institute of Physics and Technology   \n",
       "\n",
       "                                               course_url  \\\n",
       "437564  https://www.coursera.org/learn/mathematics-and...   \n",
       "\n",
       "                     course_id                          reviews     reviewers  \\\n",
       "437564  mathematics-and-python  Everything is cool, it means 5   By Чикин Н Д   \n",
       "\n",
       "       date_reviews  rating  count of words    University  month  year  \\\n",
       "437564   2018-01-20     5.0               4  Business est      1  2018   \n",
       "\n",
       "        mth-year year-month reviews split language  \n",
       "437564  Jan-2018    2018-01                     mk  "
      ]
     },
     "execution_count": 152,
     "metadata": {},
     "output_type": "execute_result"
    }
   ],
   "source": [
    "other_needs_translation.tail(1)"
   ]
  },
  {
   "cell_type": "code",
   "execution_count": 147,
   "metadata": {},
   "outputs": [
    {
     "data": {
      "text/html": [
       "<div>\n",
       "<style scoped>\n",
       "    .dataframe tbody tr th:only-of-type {\n",
       "        vertical-align: middle;\n",
       "    }\n",
       "\n",
       "    .dataframe tbody tr th {\n",
       "        vertical-align: top;\n",
       "    }\n",
       "\n",
       "    .dataframe thead th {\n",
       "        text-align: right;\n",
       "    }\n",
       "</style>\n",
       "<table border=\"1\" class=\"dataframe\">\n",
       "  <thead>\n",
       "    <tr style=\"text-align: right;\">\n",
       "      <th></th>\n",
       "      <th>name</th>\n",
       "      <th>institution</th>\n",
       "      <th>course_url</th>\n",
       "      <th>course_id</th>\n",
       "      <th>reviews</th>\n",
       "      <th>reviewers</th>\n",
       "      <th>date_reviews</th>\n",
       "      <th>rating</th>\n",
       "      <th>count of words</th>\n",
       "      <th>University</th>\n",
       "      <th>month</th>\n",
       "      <th>year</th>\n",
       "      <th>mth-year</th>\n",
       "      <th>year-month</th>\n",
       "      <th>reviews split</th>\n",
       "      <th>language</th>\n",
       "    </tr>\n",
       "  </thead>\n",
       "  <tbody>\n",
       "    <tr>\n",
       "      <th>0</th>\n",
       "      <td>Machine Learning</td>\n",
       "      <td>Stanford University</td>\n",
       "      <td>https://www.coursera.org/learn/machine-learning</td>\n",
       "      <td>machine-learning</td>\n",
       "      <td>This is an extremely basic course. Machine lea...</td>\n",
       "      <td>By Deleted A</td>\n",
       "      <td>2017-03-18</td>\n",
       "      <td>1.0</td>\n",
       "      <td>152</td>\n",
       "      <td>University</td>\n",
       "      <td>3</td>\n",
       "      <td>2017</td>\n",
       "      <td>Mar-2017</td>\n",
       "      <td>2017-03</td>\n",
       "      <td>this is an extremely basic course machine lear...</td>\n",
       "      <td>en</td>\n",
       "    </tr>\n",
       "  </tbody>\n",
       "</table>\n",
       "</div>"
      ],
      "text/plain": [
       "               name          institution  \\\n",
       "0  Machine Learning  Stanford University   \n",
       "\n",
       "                                        course_url         course_id  \\\n",
       "0  https://www.coursera.org/learn/machine-learning  machine-learning   \n",
       "\n",
       "                                             reviews     reviewers  \\\n",
       "0  This is an extremely basic course. Machine lea...  By Deleted A   \n",
       "\n",
       "  date_reviews  rating  count of words  University  month  year  mth-year  \\\n",
       "0   2017-03-18     1.0             152  University      3  2017  Mar-2017   \n",
       "\n",
       "  year-month                                      reviews split language  \n",
       "0    2017-03  this is an extremely basic course machine lear...       en  "
      ]
     },
     "execution_count": 147,
     "metadata": {},
     "output_type": "execute_result"
    }
   ],
   "source": [
    "translated_reviews_part1 = pd.concat([english_reviews, other_needs_translation])\n",
    "translated_reviews_part1.to_csv('translated_reviews_part1.csv', index=False)\n",
    "\n",
    "translated_reviews_part1 = pd.read_csv('translated_reviews_part1.csv')\n",
    "translated_reviews_part1.head(1)"
   ]
  },
  {
   "cell_type": "code",
   "execution_count": 148,
   "metadata": {},
   "outputs": [
    {
     "data": {
      "text/plain": [
       "(437161, 16)"
      ]
     },
     "execution_count": 148,
     "metadata": {},
     "output_type": "execute_result"
    }
   ],
   "source": [
    "translated_reviews_part1.shape"
   ]
  },
  {
   "cell_type": "markdown",
   "metadata": {},
   "source": [
    "### 9. translating the remaining text in Russian to English"
   ]
  },
  {
   "cell_type": "markdown",
   "metadata": {},
   "source": [
    "- There are many `reviews` in Russian, hence they are grouped together and sliced into 300 rows each time.\n",
    "- each slice is then translated in google_trans_new and then merged together with english `reviews`."
   ]
  },
  {
   "cell_type": "code",
   "execution_count": 149,
   "metadata": {},
   "outputs": [],
   "source": [
    "ru_needs_translation_full = needs_translation[needs_translation['language']=='ru']\n",
    "ru_needs_translation_full = ru_needs_translation_full.copy()"
   ]
  },
  {
   "cell_type": "code",
   "execution_count": 150,
   "metadata": {},
   "outputs": [
    {
     "data": {
      "text/plain": [
       "(1568, 16)"
      ]
     },
     "execution_count": 150,
     "metadata": {},
     "output_type": "execute_result"
    }
   ],
   "source": [
    "ru_needs_translation_full.shape"
   ]
  },
  {
   "cell_type": "code",
   "execution_count": 153,
   "metadata": {
    "scrolled": false
   },
   "outputs": [
    {
     "data": {
      "text/html": [
       "<div>\n",
       "<style scoped>\n",
       "    .dataframe tbody tr th:only-of-type {\n",
       "        vertical-align: middle;\n",
       "    }\n",
       "\n",
       "    .dataframe tbody tr th {\n",
       "        vertical-align: top;\n",
       "    }\n",
       "\n",
       "    .dataframe thead th {\n",
       "        text-align: right;\n",
       "    }\n",
       "</style>\n",
       "<table border=\"1\" class=\"dataframe\">\n",
       "  <thead>\n",
       "    <tr style=\"text-align: right;\">\n",
       "      <th></th>\n",
       "      <th>name</th>\n",
       "      <th>institution</th>\n",
       "      <th>course_url</th>\n",
       "      <th>course_id</th>\n",
       "      <th>reviews</th>\n",
       "      <th>reviewers</th>\n",
       "      <th>date_reviews</th>\n",
       "      <th>rating</th>\n",
       "      <th>count of words</th>\n",
       "      <th>University</th>\n",
       "      <th>month</th>\n",
       "      <th>year</th>\n",
       "      <th>mth-year</th>\n",
       "      <th>year-month</th>\n",
       "      <th>reviews split</th>\n",
       "      <th>language</th>\n",
       "    </tr>\n",
       "  </thead>\n",
       "  <tbody>\n",
       "    <tr>\n",
       "      <th>0</th>\n",
       "      <td>Machine Learning</td>\n",
       "      <td>Stanford University</td>\n",
       "      <td>https://www.coursera.org/learn/machine-learning</td>\n",
       "      <td>machine-learning</td>\n",
       "      <td>В\\n требованиях к прохождению курса необходимо...</td>\n",
       "      <td>By Ястрембский А Н</td>\n",
       "      <td>2020-10-01</td>\n",
       "      <td>1.0</td>\n",
       "      <td>72</td>\n",
       "      <td>University</td>\n",
       "      <td>10</td>\n",
       "      <td>2020</td>\n",
       "      <td>Oct-2020</td>\n",
       "      <td>2020-10</td>\n",
       "      <td>NaN</td>\n",
       "      <td>ru</td>\n",
       "    </tr>\n",
       "  </tbody>\n",
       "</table>\n",
       "</div>"
      ],
      "text/plain": [
       "               name          institution  \\\n",
       "0  Machine Learning  Stanford University   \n",
       "\n",
       "                                        course_url         course_id  \\\n",
       "0  https://www.coursera.org/learn/machine-learning  machine-learning   \n",
       "\n",
       "                                             reviews           reviewers  \\\n",
       "0  В\\n требованиях к прохождению курса необходимо...  By Ястрембский А Н   \n",
       "\n",
       "  date_reviews  rating  count of words  University  month  year  mth-year  \\\n",
       "0   2020-10-01     1.0              72  University     10  2020  Oct-2020   \n",
       "\n",
       "  year-month  reviews split language  \n",
       "0    2020-10            NaN       ru  "
      ]
     },
     "execution_count": 153,
     "metadata": {},
     "output_type": "execute_result"
    }
   ],
   "source": [
    "# saving as backup\n",
    "ru_needs_translation_full.to_csv('ru_needs_translation_full.csv', index=False)\n",
    "pd.read_csv('ru_needs_translation_full.csv').head(1)"
   ]
  },
  {
   "cell_type": "code",
   "execution_count": 1,
   "metadata": {},
   "outputs": [],
   "source": [
    "#import google_trans_new\n",
    "#from google_trans_new import google_translator\n",
    "\n",
    "# instantiating the goole_translator function\n",
    "translator = google_translator()  \n",
    "\n",
    "# function to translate words based on goole_translator function\n",
    "def translate_word(row):\n",
    "    return translator.translate(row,lang_tgt='en') "
   ]
  },
  {
   "cell_type": "code",
   "execution_count": 2,
   "metadata": {},
   "outputs": [],
   "source": [
    "import pandas as pd\n",
    "\n",
    "ru_needs_translation_full = pd.read_csv('ru_needs_translation_full.csv')"
   ]
  },
  {
   "cell_type": "code",
   "execution_count": 3,
   "metadata": {},
   "outputs": [],
   "source": [
    "ru_needs_translation_1 = ru_needs_translation_full[0:300]\n",
    "ru_needs_translation_2 = ru_needs_translation_full[300:600]\n",
    "ru_needs_translation_3 = ru_needs_translation_full[600:900]\n",
    "ru_needs_translation_4 = ru_needs_translation_full[900:1200]\n",
    "ru_needs_translation_5 = ru_needs_translation_full[1200:]"
   ]
  },
  {
   "cell_type": "code",
   "execution_count": null,
   "metadata": {},
   "outputs": [],
   "source": [
    "ru_needs_translation_1['reviews'] = ru_needs_translation_1['reviews'].apply(translate_word)"
   ]
  },
  {
   "cell_type": "code",
   "execution_count": 9,
   "metadata": {},
   "outputs": [],
   "source": [
    "ru_needs_translation_2['reviews'] = ru_needs_translation_2['reviews'].apply(translate_word)"
   ]
  },
  {
   "cell_type": "code",
   "execution_count": null,
   "metadata": {},
   "outputs": [],
   "source": [
    "ru_needs_translation_3['reviews'] = ru_needs_translation_3['reviews'].apply(translate_word)"
   ]
  },
  {
   "cell_type": "code",
   "execution_count": null,
   "metadata": {},
   "outputs": [],
   "source": [
    "ru_needs_translation_4['reviews'] = ru_needs_translation_4['reviews'].apply(translate_word)"
   ]
  },
  {
   "cell_type": "code",
   "execution_count": 19,
   "metadata": {},
   "outputs": [],
   "source": [
    "ru_needs_translation_5['reviews'] = ru_needs_translation_5['reviews'].apply(translate_word)"
   ]
  },
  {
   "cell_type": "code",
   "execution_count": 6,
   "metadata": {
    "scrolled": true
   },
   "outputs": [
    {
     "data": {
      "text/html": [
       "<div>\n",
       "<style scoped>\n",
       "    .dataframe tbody tr th:only-of-type {\n",
       "        vertical-align: middle;\n",
       "    }\n",
       "\n",
       "    .dataframe tbody tr th {\n",
       "        vertical-align: top;\n",
       "    }\n",
       "\n",
       "    .dataframe thead th {\n",
       "        text-align: right;\n",
       "    }\n",
       "</style>\n",
       "<table border=\"1\" class=\"dataframe\">\n",
       "  <thead>\n",
       "    <tr style=\"text-align: right;\">\n",
       "      <th></th>\n",
       "      <th>name</th>\n",
       "      <th>institution</th>\n",
       "      <th>course_url</th>\n",
       "      <th>course_id</th>\n",
       "      <th>reviews</th>\n",
       "      <th>reviewers</th>\n",
       "      <th>date_reviews</th>\n",
       "      <th>rating</th>\n",
       "      <th>count of words</th>\n",
       "      <th>University</th>\n",
       "      <th>month</th>\n",
       "      <th>year</th>\n",
       "      <th>mth-year</th>\n",
       "      <th>year-month</th>\n",
       "      <th>reviews split</th>\n",
       "      <th>language</th>\n",
       "    </tr>\n",
       "  </thead>\n",
       "  <tbody>\n",
       "    <tr>\n",
       "      <th>0</th>\n",
       "      <td>Machine Learning</td>\n",
       "      <td>Stanford University</td>\n",
       "      <td>https://www.coursera.org/learn/machine-learning</td>\n",
       "      <td>machine-learning</td>\n",
       "      <td>AT  Course requirements must be indicated by t...</td>\n",
       "      <td>By Ястрембский А Н</td>\n",
       "      <td>2020-10-01</td>\n",
       "      <td>1.0</td>\n",
       "      <td>72</td>\n",
       "      <td>University</td>\n",
       "      <td>10</td>\n",
       "      <td>2020</td>\n",
       "      <td>Oct-2020</td>\n",
       "      <td>2020-10</td>\n",
       "      <td>NaN</td>\n",
       "      <td>ru</td>\n",
       "    </tr>\n",
       "    <tr>\n",
       "      <th>1</th>\n",
       "      <td>Machine Learning</td>\n",
       "      <td>Stanford University</td>\n",
       "      <td>https://www.coursera.org/learn/machine-learning</td>\n",
       "      <td>machine-learning</td>\n",
       "      <td>Good introduction to machine learning. At the ...</td>\n",
       "      <td>By Расов А М</td>\n",
       "      <td>2018-05-26</td>\n",
       "      <td>4.0</td>\n",
       "      <td>56</td>\n",
       "      <td>University</td>\n",
       "      <td>5</td>\n",
       "      <td>2018</td>\n",
       "      <td>May-2018</td>\n",
       "      <td>2018-05</td>\n",
       "      <td>NaN</td>\n",
       "      <td>ru</td>\n",
       "    </tr>\n",
       "  </tbody>\n",
       "</table>\n",
       "</div>"
      ],
      "text/plain": [
       "               name          institution  \\\n",
       "0  Machine Learning  Stanford University   \n",
       "1  Machine Learning  Stanford University   \n",
       "\n",
       "                                        course_url         course_id  \\\n",
       "0  https://www.coursera.org/learn/machine-learning  machine-learning   \n",
       "1  https://www.coursera.org/learn/machine-learning  machine-learning   \n",
       "\n",
       "                                             reviews           reviewers  \\\n",
       "0  AT  Course requirements must be indicated by t...  By Ястрембский А Н   \n",
       "1  Good introduction to machine learning. At the ...        By Расов А М   \n",
       "\n",
       "  date_reviews  rating  count of words  University  month  year  mth-year  \\\n",
       "0   2020-10-01     1.0              72  University     10  2020  Oct-2020   \n",
       "1   2018-05-26     4.0              56  University      5  2018  May-2018   \n",
       "\n",
       "  year-month  reviews split language  \n",
       "0    2020-10            NaN       ru  \n",
       "1    2018-05            NaN       ru  "
      ]
     },
     "execution_count": 6,
     "metadata": {},
     "output_type": "execute_result"
    }
   ],
   "source": [
    "# checking that translation is complete\n",
    "ru_needs_translation_1.head(2)"
   ]
  },
  {
   "cell_type": "code",
   "execution_count": 12,
   "metadata": {
    "scrolled": true
   },
   "outputs": [
    {
     "data": {
      "text/html": [
       "<div>\n",
       "<style scoped>\n",
       "    .dataframe tbody tr th:only-of-type {\n",
       "        vertical-align: middle;\n",
       "    }\n",
       "\n",
       "    .dataframe tbody tr th {\n",
       "        vertical-align: top;\n",
       "    }\n",
       "\n",
       "    .dataframe thead th {\n",
       "        text-align: right;\n",
       "    }\n",
       "</style>\n",
       "<table border=\"1\" class=\"dataframe\">\n",
       "  <thead>\n",
       "    <tr style=\"text-align: right;\">\n",
       "      <th></th>\n",
       "      <th>name</th>\n",
       "      <th>institution</th>\n",
       "      <th>course_url</th>\n",
       "      <th>course_id</th>\n",
       "      <th>reviews</th>\n",
       "      <th>reviewers</th>\n",
       "      <th>date_reviews</th>\n",
       "      <th>rating</th>\n",
       "      <th>count of words</th>\n",
       "      <th>University</th>\n",
       "      <th>month</th>\n",
       "      <th>year</th>\n",
       "      <th>mth-year</th>\n",
       "      <th>year-month</th>\n",
       "      <th>reviews split</th>\n",
       "      <th>language</th>\n",
       "    </tr>\n",
       "  </thead>\n",
       "  <tbody>\n",
       "    <tr>\n",
       "      <th>300</th>\n",
       "      <td>Learn to Speak Korean 1</td>\n",
       "      <td>Yonsei University</td>\n",
       "      <td>https://www.coursera.org/learn/learn-speak-kor...</td>\n",
       "      <td>learn-speak-korean1</td>\n",
       "      <td>Thank you very much for such a stunningly simp...</td>\n",
       "      <td>By Ошорова В В</td>\n",
       "      <td>2020-05-10</td>\n",
       "      <td>5.0</td>\n",
       "      <td>12</td>\n",
       "      <td>University</td>\n",
       "      <td>5</td>\n",
       "      <td>2020</td>\n",
       "      <td>May-2020</td>\n",
       "      <td>2020-05</td>\n",
       "      <td>NaN</td>\n",
       "      <td>ru</td>\n",
       "    </tr>\n",
       "    <tr>\n",
       "      <th>301</th>\n",
       "      <td>Learn to Speak Korean 1</td>\n",
       "      <td>Yonsei University</td>\n",
       "      <td>https://www.coursera.org/learn/learn-speak-kor...</td>\n",
       "      <td>learn-speak-korean1</td>\n",
       "      <td>Very affordable explanations for foreigners. T...</td>\n",
       "      <td>By Эрмека К</td>\n",
       "      <td>2020-04-25</td>\n",
       "      <td>5.0</td>\n",
       "      <td>9</td>\n",
       "      <td>University</td>\n",
       "      <td>4</td>\n",
       "      <td>2020</td>\n",
       "      <td>Apr-2020</td>\n",
       "      <td>2020-04</td>\n",
       "      <td>NaN</td>\n",
       "      <td>ru</td>\n",
       "    </tr>\n",
       "  </tbody>\n",
       "</table>\n",
       "</div>"
      ],
      "text/plain": [
       "                        name        institution  \\\n",
       "300  Learn to Speak Korean 1  Yonsei University   \n",
       "301  Learn to Speak Korean 1  Yonsei University   \n",
       "\n",
       "                                            course_url            course_id  \\\n",
       "300  https://www.coursera.org/learn/learn-speak-kor...  learn-speak-korean1   \n",
       "301  https://www.coursera.org/learn/learn-speak-kor...  learn-speak-korean1   \n",
       "\n",
       "                                               reviews        reviewers  \\\n",
       "300  Thank you very much for such a stunningly simp...  By Ошорова В В    \n",
       "301  Very affordable explanations for foreigners. T...      By Эрмека К   \n",
       "\n",
       "    date_reviews  rating  count of words  University  month  year  mth-year  \\\n",
       "300   2020-05-10     5.0              12  University      5  2020  May-2020   \n",
       "301   2020-04-25     5.0               9  University      4  2020  Apr-2020   \n",
       "\n",
       "    year-month  reviews split language  \n",
       "300    2020-05            NaN       ru  \n",
       "301    2020-04            NaN       ru  "
      ]
     },
     "execution_count": 12,
     "metadata": {},
     "output_type": "execute_result"
    }
   ],
   "source": [
    "# checking that translation is complete\n",
    "ru_needs_translation_2.head(2)"
   ]
  },
  {
   "cell_type": "code",
   "execution_count": 16,
   "metadata": {
    "scrolled": true
   },
   "outputs": [
    {
     "data": {
      "text/html": [
       "<div>\n",
       "<style scoped>\n",
       "    .dataframe tbody tr th:only-of-type {\n",
       "        vertical-align: middle;\n",
       "    }\n",
       "\n",
       "    .dataframe tbody tr th {\n",
       "        vertical-align: top;\n",
       "    }\n",
       "\n",
       "    .dataframe thead th {\n",
       "        text-align: right;\n",
       "    }\n",
       "</style>\n",
       "<table border=\"1\" class=\"dataframe\">\n",
       "  <thead>\n",
       "    <tr style=\"text-align: right;\">\n",
       "      <th></th>\n",
       "      <th>name</th>\n",
       "      <th>institution</th>\n",
       "      <th>course_url</th>\n",
       "      <th>course_id</th>\n",
       "      <th>reviews</th>\n",
       "      <th>reviewers</th>\n",
       "      <th>date_reviews</th>\n",
       "      <th>rating</th>\n",
       "      <th>count of words</th>\n",
       "      <th>University</th>\n",
       "      <th>month</th>\n",
       "      <th>year</th>\n",
       "      <th>mth-year</th>\n",
       "      <th>year-month</th>\n",
       "      <th>reviews split</th>\n",
       "      <th>language</th>\n",
       "    </tr>\n",
       "  </thead>\n",
       "  <tbody>\n",
       "    <tr>\n",
       "      <th>600</th>\n",
       "      <td>Основы программирования на Python</td>\n",
       "      <td>National Research University Higher School of ...</td>\n",
       "      <td>https://www.coursera.org/learn/python-osnovy-p...</td>\n",
       "      <td>python-osnovy-programmirovaniya</td>\n",
       "      <td>There were really interesting tasks. And by th...</td>\n",
       "      <td>By Гуслянников С В</td>\n",
       "      <td>2020-08-15</td>\n",
       "      <td>4.0</td>\n",
       "      <td>15</td>\n",
       "      <td>University</td>\n",
       "      <td>8</td>\n",
       "      <td>2020</td>\n",
       "      <td>Aug-2020</td>\n",
       "      <td>2020-08</td>\n",
       "      <td>NaN</td>\n",
       "      <td>ru</td>\n",
       "    </tr>\n",
       "    <tr>\n",
       "      <th>601</th>\n",
       "      <td>Основы программирования на Python</td>\n",
       "      <td>National Research University Higher School of ...</td>\n",
       "      <td>https://www.coursera.org/learn/python-osnovy-p...</td>\n",
       "      <td>python-osnovy-programmirovaniya</td>\n",
       "      <td>An excellent course, only the OOP is better to...</td>\n",
       "      <td>By Никонорова Е А</td>\n",
       "      <td>2019-03-12</td>\n",
       "      <td>4.0</td>\n",
       "      <td>13</td>\n",
       "      <td>University</td>\n",
       "      <td>3</td>\n",
       "      <td>2019</td>\n",
       "      <td>Mar-2019</td>\n",
       "      <td>2019-03</td>\n",
       "      <td>NaN</td>\n",
       "      <td>ru</td>\n",
       "    </tr>\n",
       "  </tbody>\n",
       "</table>\n",
       "</div>"
      ],
      "text/plain": [
       "                                  name  \\\n",
       "600  Основы программирования на Python   \n",
       "601  Основы программирования на Python   \n",
       "\n",
       "                                           institution  \\\n",
       "600  National Research University Higher School of ...   \n",
       "601  National Research University Higher School of ...   \n",
       "\n",
       "                                            course_url  \\\n",
       "600  https://www.coursera.org/learn/python-osnovy-p...   \n",
       "601  https://www.coursera.org/learn/python-osnovy-p...   \n",
       "\n",
       "                           course_id  \\\n",
       "600  python-osnovy-programmirovaniya   \n",
       "601  python-osnovy-programmirovaniya   \n",
       "\n",
       "                                               reviews           reviewers  \\\n",
       "600  There were really interesting tasks. And by th...  By Гуслянников С В   \n",
       "601  An excellent course, only the OOP is better to...   By Никонорова Е А   \n",
       "\n",
       "    date_reviews  rating  count of words  University  month  year  mth-year  \\\n",
       "600   2020-08-15     4.0              15  University      8  2020  Aug-2020   \n",
       "601   2019-03-12     4.0              13  University      3  2019  Mar-2019   \n",
       "\n",
       "    year-month  reviews split language  \n",
       "600    2020-08            NaN       ru  \n",
       "601    2019-03            NaN       ru  "
      ]
     },
     "execution_count": 16,
     "metadata": {},
     "output_type": "execute_result"
    }
   ],
   "source": [
    "# checking that translation is complete\n",
    "ru_needs_translation_3.head(2)"
   ]
  },
  {
   "cell_type": "code",
   "execution_count": 22,
   "metadata": {},
   "outputs": [
    {
     "data": {
      "text/html": [
       "<div>\n",
       "<style scoped>\n",
       "    .dataframe tbody tr th:only-of-type {\n",
       "        vertical-align: middle;\n",
       "    }\n",
       "\n",
       "    .dataframe tbody tr th {\n",
       "        vertical-align: top;\n",
       "    }\n",
       "\n",
       "    .dataframe thead th {\n",
       "        text-align: right;\n",
       "    }\n",
       "</style>\n",
       "<table border=\"1\" class=\"dataframe\">\n",
       "  <thead>\n",
       "    <tr style=\"text-align: right;\">\n",
       "      <th></th>\n",
       "      <th>name</th>\n",
       "      <th>institution</th>\n",
       "      <th>course_url</th>\n",
       "      <th>course_id</th>\n",
       "      <th>reviews</th>\n",
       "      <th>reviewers</th>\n",
       "      <th>date_reviews</th>\n",
       "      <th>rating</th>\n",
       "      <th>count of words</th>\n",
       "      <th>University</th>\n",
       "      <th>month</th>\n",
       "      <th>year</th>\n",
       "      <th>mth-year</th>\n",
       "      <th>year-month</th>\n",
       "      <th>reviews split</th>\n",
       "      <th>language</th>\n",
       "    </tr>\n",
       "  </thead>\n",
       "  <tbody>\n",
       "    <tr>\n",
       "      <th>900</th>\n",
       "      <td>Основы разработки на C++: белый пояс</td>\n",
       "      <td>Moscow Institute of Physics and Technology</td>\n",
       "      <td>https://www.coursera.org/learn/c-plus-plus-white</td>\n",
       "      <td>c-plus-plus-white</td>\n",
       "      <td>A good course allows you to learn most of the ...</td>\n",
       "      <td>By Волков П Е</td>\n",
       "      <td>2019-10-22</td>\n",
       "      <td>5.0</td>\n",
       "      <td>38</td>\n",
       "      <td>Business est</td>\n",
       "      <td>10</td>\n",
       "      <td>2019</td>\n",
       "      <td>Oct-2019</td>\n",
       "      <td>2019-10</td>\n",
       "      <td>NaN</td>\n",
       "      <td>ru</td>\n",
       "    </tr>\n",
       "    <tr>\n",
       "      <th>901</th>\n",
       "      <td>Основы разработки на C++: белый пояс</td>\n",
       "      <td>Moscow Institute of Physics and Technology</td>\n",
       "      <td>https://www.coursera.org/learn/c-plus-plus-white</td>\n",
       "      <td>c-plus-plus-white</td>\n",
       "      <td>The course is good, helps to improve the skill...</td>\n",
       "      <td>By Хабибуллин С М</td>\n",
       "      <td>2019-07-07</td>\n",
       "      <td>5.0</td>\n",
       "      <td>22</td>\n",
       "      <td>Business est</td>\n",
       "      <td>7</td>\n",
       "      <td>2019</td>\n",
       "      <td>Jul-2019</td>\n",
       "      <td>2019-07</td>\n",
       "      <td>NaN</td>\n",
       "      <td>ru</td>\n",
       "    </tr>\n",
       "  </tbody>\n",
       "</table>\n",
       "</div>"
      ],
      "text/plain": [
       "                                     name  \\\n",
       "900  Основы разработки на C++: белый пояс   \n",
       "901  Основы разработки на C++: белый пояс   \n",
       "\n",
       "                                    institution  \\\n",
       "900  Moscow Institute of Physics and Technology   \n",
       "901  Moscow Institute of Physics and Technology   \n",
       "\n",
       "                                           course_url          course_id  \\\n",
       "900  https://www.coursera.org/learn/c-plus-plus-white  c-plus-plus-white   \n",
       "901  https://www.coursera.org/learn/c-plus-plus-white  c-plus-plus-white   \n",
       "\n",
       "                                               reviews          reviewers  \\\n",
       "900  A good course allows you to learn most of the ...     By Волков П Е    \n",
       "901  The course is good, helps to improve the skill...  By Хабибуллин С М   \n",
       "\n",
       "    date_reviews  rating  count of words    University  month  year  mth-year  \\\n",
       "900   2019-10-22     5.0              38  Business est     10  2019  Oct-2019   \n",
       "901   2019-07-07     5.0              22  Business est      7  2019  Jul-2019   \n",
       "\n",
       "    year-month  reviews split language  \n",
       "900    2019-10            NaN       ru  \n",
       "901    2019-07            NaN       ru  "
      ]
     },
     "execution_count": 22,
     "metadata": {},
     "output_type": "execute_result"
    }
   ],
   "source": [
    "# checking that translation is complete\n",
    "ru_needs_translation_4.head(2)"
   ]
  },
  {
   "cell_type": "code",
   "execution_count": 27,
   "metadata": {},
   "outputs": [
    {
     "data": {
      "text/html": [
       "<div>\n",
       "<style scoped>\n",
       "    .dataframe tbody tr th:only-of-type {\n",
       "        vertical-align: middle;\n",
       "    }\n",
       "\n",
       "    .dataframe tbody tr th {\n",
       "        vertical-align: top;\n",
       "    }\n",
       "\n",
       "    .dataframe thead th {\n",
       "        text-align: right;\n",
       "    }\n",
       "</style>\n",
       "<table border=\"1\" class=\"dataframe\">\n",
       "  <thead>\n",
       "    <tr style=\"text-align: right;\">\n",
       "      <th></th>\n",
       "      <th>name</th>\n",
       "      <th>institution</th>\n",
       "      <th>course_url</th>\n",
       "      <th>course_id</th>\n",
       "      <th>reviews</th>\n",
       "      <th>reviewers</th>\n",
       "      <th>date_reviews</th>\n",
       "      <th>rating</th>\n",
       "      <th>count of words</th>\n",
       "      <th>University</th>\n",
       "      <th>month</th>\n",
       "      <th>year</th>\n",
       "      <th>mth-year</th>\n",
       "      <th>year-month</th>\n",
       "      <th>reviews split</th>\n",
       "      <th>language</th>\n",
       "    </tr>\n",
       "  </thead>\n",
       "  <tbody>\n",
       "    <tr>\n",
       "      <th>1200</th>\n",
       "      <td>Математика и Python для анализа данных</td>\n",
       "      <td>Moscow Institute of Physics and Technology</td>\n",
       "      <td>https://www.coursera.org/learn/mathematics-and...</td>\n",
       "      <td>mathematics-and-python</td>\n",
       "      <td>Everything is very successful in this course f...</td>\n",
       "      <td>By Siarhey T</td>\n",
       "      <td>2016-03-22</td>\n",
       "      <td>5.0</td>\n",
       "      <td>30</td>\n",
       "      <td>Business est</td>\n",
       "      <td>3</td>\n",
       "      <td>2016</td>\n",
       "      <td>Mar-2016</td>\n",
       "      <td>2016-03</td>\n",
       "      <td>NaN</td>\n",
       "      <td>ru</td>\n",
       "    </tr>\n",
       "    <tr>\n",
       "      <th>1201</th>\n",
       "      <td>Математика и Python для анализа данных</td>\n",
       "      <td>Moscow Institute of Physics and Technology</td>\n",
       "      <td>https://www.coursera.org/learn/mathematics-and...</td>\n",
       "      <td>mathematics-and-python</td>\n",
       "      <td>The course is definitely good, but unfortunate...</td>\n",
       "      <td>By Anatoly C</td>\n",
       "      <td>2016-03-07</td>\n",
       "      <td>5.0</td>\n",
       "      <td>109</td>\n",
       "      <td>Business est</td>\n",
       "      <td>3</td>\n",
       "      <td>2016</td>\n",
       "      <td>Mar-2016</td>\n",
       "      <td>2016-03</td>\n",
       "      <td>NaN</td>\n",
       "      <td>ru</td>\n",
       "    </tr>\n",
       "  </tbody>\n",
       "</table>\n",
       "</div>"
      ],
      "text/plain": [
       "                                        name  \\\n",
       "1200  Математика и Python для анализа данных   \n",
       "1201  Математика и Python для анализа данных   \n",
       "\n",
       "                                     institution  \\\n",
       "1200  Moscow Institute of Physics and Technology   \n",
       "1201  Moscow Institute of Physics and Technology   \n",
       "\n",
       "                                             course_url  \\\n",
       "1200  https://www.coursera.org/learn/mathematics-and...   \n",
       "1201  https://www.coursera.org/learn/mathematics-and...   \n",
       "\n",
       "                   course_id  \\\n",
       "1200  mathematics-and-python   \n",
       "1201  mathematics-and-python   \n",
       "\n",
       "                                                reviews     reviewers  \\\n",
       "1200  Everything is very successful in this course f...  By Siarhey T   \n",
       "1201  The course is definitely good, but unfortunate...  By Anatoly C   \n",
       "\n",
       "     date_reviews  rating  count of words    University  month  year  \\\n",
       "1200   2016-03-22     5.0              30  Business est      3  2016   \n",
       "1201   2016-03-07     5.0             109  Business est      3  2016   \n",
       "\n",
       "      mth-year year-month  reviews split language  \n",
       "1200  Mar-2016    2016-03            NaN       ru  \n",
       "1201  Mar-2016    2016-03            NaN       ru  "
      ]
     },
     "execution_count": 27,
     "metadata": {},
     "output_type": "execute_result"
    }
   ],
   "source": [
    "# checking that translation is complete\n",
    "ru_needs_translation_5.head(2)"
   ]
  },
  {
   "cell_type": "code",
   "execution_count": 30,
   "metadata": {
    "scrolled": true
   },
   "outputs": [
    {
     "data": {
      "text/html": [
       "<div>\n",
       "<style scoped>\n",
       "    .dataframe tbody tr th:only-of-type {\n",
       "        vertical-align: middle;\n",
       "    }\n",
       "\n",
       "    .dataframe tbody tr th {\n",
       "        vertical-align: top;\n",
       "    }\n",
       "\n",
       "    .dataframe thead th {\n",
       "        text-align: right;\n",
       "    }\n",
       "</style>\n",
       "<table border=\"1\" class=\"dataframe\">\n",
       "  <thead>\n",
       "    <tr style=\"text-align: right;\">\n",
       "      <th></th>\n",
       "      <th>name</th>\n",
       "      <th>institution</th>\n",
       "      <th>course_url</th>\n",
       "      <th>course_id</th>\n",
       "      <th>reviews</th>\n",
       "      <th>reviewers</th>\n",
       "      <th>date_reviews</th>\n",
       "      <th>rating</th>\n",
       "      <th>count of words</th>\n",
       "      <th>University</th>\n",
       "      <th>month</th>\n",
       "      <th>year</th>\n",
       "      <th>mth-year</th>\n",
       "      <th>year-month</th>\n",
       "      <th>reviews split</th>\n",
       "      <th>language</th>\n",
       "    </tr>\n",
       "  </thead>\n",
       "  <tbody>\n",
       "    <tr>\n",
       "      <th>0</th>\n",
       "      <td>Machine Learning</td>\n",
       "      <td>Stanford University</td>\n",
       "      <td>https://www.coursera.org/learn/machine-learning</td>\n",
       "      <td>machine-learning</td>\n",
       "      <td>AT  Course requirements must be indicated by t...</td>\n",
       "      <td>By Ястрембский А Н</td>\n",
       "      <td>2020-10-01</td>\n",
       "      <td>1.0</td>\n",
       "      <td>72</td>\n",
       "      <td>University</td>\n",
       "      <td>10</td>\n",
       "      <td>2020</td>\n",
       "      <td>Oct-2020</td>\n",
       "      <td>2020-10</td>\n",
       "      <td>NaN</td>\n",
       "      <td>ru</td>\n",
       "    </tr>\n",
       "    <tr>\n",
       "      <th>1</th>\n",
       "      <td>Machine Learning</td>\n",
       "      <td>Stanford University</td>\n",
       "      <td>https://www.coursera.org/learn/machine-learning</td>\n",
       "      <td>machine-learning</td>\n",
       "      <td>Good introduction to machine learning. At the ...</td>\n",
       "      <td>By Расов А М</td>\n",
       "      <td>2018-05-26</td>\n",
       "      <td>4.0</td>\n",
       "      <td>56</td>\n",
       "      <td>University</td>\n",
       "      <td>5</td>\n",
       "      <td>2018</td>\n",
       "      <td>May-2018</td>\n",
       "      <td>2018-05</td>\n",
       "      <td>NaN</td>\n",
       "      <td>ru</td>\n",
       "    </tr>\n",
       "  </tbody>\n",
       "</table>\n",
       "</div>"
      ],
      "text/plain": [
       "               name          institution  \\\n",
       "0  Machine Learning  Stanford University   \n",
       "1  Machine Learning  Stanford University   \n",
       "\n",
       "                                        course_url         course_id  \\\n",
       "0  https://www.coursera.org/learn/machine-learning  machine-learning   \n",
       "1  https://www.coursera.org/learn/machine-learning  machine-learning   \n",
       "\n",
       "                                             reviews           reviewers  \\\n",
       "0  AT  Course requirements must be indicated by t...  By Ястрембский А Н   \n",
       "1  Good introduction to machine learning. At the ...        By Расов А М   \n",
       "\n",
       "  date_reviews  rating  count of words  University  month  year  mth-year  \\\n",
       "0   2020-10-01     1.0              72  University     10  2020  Oct-2020   \n",
       "1   2018-05-26     4.0              56  University      5  2018  May-2018   \n",
       "\n",
       "  year-month  reviews split language  \n",
       "0    2020-10            NaN       ru  \n",
       "1    2018-05            NaN       ru  "
      ]
     },
     "execution_count": 30,
     "metadata": {},
     "output_type": "execute_result"
    }
   ],
   "source": [
    "# concatenate all of the russian translation together\n",
    "translated_ru_review = pd.concat([ru_needs_translation_1, ru_needs_translation_2, ru_needs_translation_3,\n",
    "                                  ru_needs_translation_4, ru_needs_translation_5])\n",
    "\n",
    "translated_ru_review.head(2)"
   ]
  },
  {
   "cell_type": "markdown",
   "metadata": {},
   "source": [
    "### 10. Merging translated reviews into 1 DataFrame"
   ]
  },
  {
   "cell_type": "code",
   "execution_count": 31,
   "metadata": {},
   "outputs": [],
   "source": [
    "# reading in the earlier translated dataframe\n",
    "translated_reviews_part1 = pd.read_csv('translated_reviews_part1.csv')"
   ]
  },
  {
   "cell_type": "code",
   "execution_count": 34,
   "metadata": {},
   "outputs": [
    {
     "data": {
      "text/html": [
       "<div>\n",
       "<style scoped>\n",
       "    .dataframe tbody tr th:only-of-type {\n",
       "        vertical-align: middle;\n",
       "    }\n",
       "\n",
       "    .dataframe tbody tr th {\n",
       "        vertical-align: top;\n",
       "    }\n",
       "\n",
       "    .dataframe thead th {\n",
       "        text-align: right;\n",
       "    }\n",
       "</style>\n",
       "<table border=\"1\" class=\"dataframe\">\n",
       "  <thead>\n",
       "    <tr style=\"text-align: right;\">\n",
       "      <th></th>\n",
       "      <th>name</th>\n",
       "      <th>institution</th>\n",
       "      <th>course_url</th>\n",
       "      <th>course_id</th>\n",
       "      <th>reviews</th>\n",
       "      <th>reviewers</th>\n",
       "      <th>date_reviews</th>\n",
       "      <th>rating</th>\n",
       "      <th>count of words</th>\n",
       "      <th>University</th>\n",
       "      <th>month</th>\n",
       "      <th>year</th>\n",
       "      <th>mth-year</th>\n",
       "      <th>year-month</th>\n",
       "      <th>reviews split</th>\n",
       "      <th>language</th>\n",
       "    </tr>\n",
       "  </thead>\n",
       "  <tbody>\n",
       "    <tr>\n",
       "      <th>0</th>\n",
       "      <td>Machine Learning</td>\n",
       "      <td>Stanford University</td>\n",
       "      <td>https://www.coursera.org/learn/machine-learning</td>\n",
       "      <td>machine-learning</td>\n",
       "      <td>This is an extremely basic course. Machine lea...</td>\n",
       "      <td>By Deleted A</td>\n",
       "      <td>2017-03-18</td>\n",
       "      <td>1.0</td>\n",
       "      <td>152</td>\n",
       "      <td>University</td>\n",
       "      <td>3</td>\n",
       "      <td>2017</td>\n",
       "      <td>Mar-2017</td>\n",
       "      <td>2017-03</td>\n",
       "      <td>this is an extremely basic course machine lear...</td>\n",
       "      <td>en</td>\n",
       "    </tr>\n",
       "    <tr>\n",
       "      <th>1</th>\n",
       "      <td>Machine Learning</td>\n",
       "      <td>Stanford University</td>\n",
       "      <td>https://www.coursera.org/learn/machine-learning</td>\n",
       "      <td>machine-learning</td>\n",
       "      <td>The course is ok but the certification procedu...</td>\n",
       "      <td>By Bruno C</td>\n",
       "      <td>2015-11-09</td>\n",
       "      <td>1.0</td>\n",
       "      <td>34</td>\n",
       "      <td>University</td>\n",
       "      <td>11</td>\n",
       "      <td>2015</td>\n",
       "      <td>Nov-2015</td>\n",
       "      <td>2015-11</td>\n",
       "      <td>the course is ok but the certification procedu...</td>\n",
       "      <td>en</td>\n",
       "    </tr>\n",
       "  </tbody>\n",
       "</table>\n",
       "</div>"
      ],
      "text/plain": [
       "               name          institution  \\\n",
       "0  Machine Learning  Stanford University   \n",
       "1  Machine Learning  Stanford University   \n",
       "\n",
       "                                        course_url         course_id  \\\n",
       "0  https://www.coursera.org/learn/machine-learning  machine-learning   \n",
       "1  https://www.coursera.org/learn/machine-learning  machine-learning   \n",
       "\n",
       "                                             reviews     reviewers  \\\n",
       "0  This is an extremely basic course. Machine lea...  By Deleted A   \n",
       "1  The course is ok but the certification procedu...    By Bruno C   \n",
       "\n",
       "  date_reviews  rating  count of words  University  month  year  mth-year  \\\n",
       "0   2017-03-18     1.0             152  University      3  2017  Mar-2017   \n",
       "1   2015-11-09     1.0              34  University     11  2015  Nov-2015   \n",
       "\n",
       "  year-month                                      reviews split language  \n",
       "0    2017-03  this is an extremely basic course machine lear...       en  \n",
       "1    2015-11  the course is ok but the certification procedu...       en  "
      ]
     },
     "execution_count": 34,
     "metadata": {},
     "output_type": "execute_result"
    }
   ],
   "source": [
    "# concatenate the earlier translated dataframe with translated russian reviews\n",
    "translated_reviews = pd.concat([translated_reviews_part1, translated_ru_review])\n",
    "translated_reviews.head(2)"
   ]
  },
  {
   "cell_type": "code",
   "execution_count": 35,
   "metadata": {},
   "outputs": [
    {
     "data": {
      "text/plain": [
       "name                 0\n",
       "institution          0\n",
       "course_url           0\n",
       "course_id            0\n",
       "reviews              0\n",
       "reviewers            0\n",
       "date_reviews         0\n",
       "rating               0\n",
       "count of words       0\n",
       "University           0\n",
       "month                0\n",
       "year                 0\n",
       "mth-year             0\n",
       "year-month           0\n",
       "reviews split     1826\n",
       "language             0\n",
       "dtype: int64"
      ]
     },
     "execution_count": 35,
     "metadata": {},
     "output_type": "execute_result"
    }
   ],
   "source": [
    "# checking for null values in the compiled reviews\n",
    "translated_reviews.isnull().sum()"
   ]
  },
  {
   "cell_type": "code",
   "execution_count": 37,
   "metadata": {},
   "outputs": [],
   "source": [
    "# dropping the 'review split' column which is used to check whether language is english or not\n",
    "translated_df = translated_reviews.drop('reviews split', axis=1)"
   ]
  },
  {
   "cell_type": "markdown",
   "metadata": {},
   "source": [
    "### 11. Saving the partially translated dataframe"
   ]
  },
  {
   "cell_type": "code",
   "execution_count": 38,
   "metadata": {
    "scrolled": false
   },
   "outputs": [
    {
     "data": {
      "text/html": [
       "<div>\n",
       "<style scoped>\n",
       "    .dataframe tbody tr th:only-of-type {\n",
       "        vertical-align: middle;\n",
       "    }\n",
       "\n",
       "    .dataframe tbody tr th {\n",
       "        vertical-align: top;\n",
       "    }\n",
       "\n",
       "    .dataframe thead th {\n",
       "        text-align: right;\n",
       "    }\n",
       "</style>\n",
       "<table border=\"1\" class=\"dataframe\">\n",
       "  <thead>\n",
       "    <tr style=\"text-align: right;\">\n",
       "      <th></th>\n",
       "      <th>name</th>\n",
       "      <th>institution</th>\n",
       "      <th>course_url</th>\n",
       "      <th>course_id</th>\n",
       "      <th>reviews</th>\n",
       "      <th>reviewers</th>\n",
       "      <th>date_reviews</th>\n",
       "      <th>rating</th>\n",
       "      <th>count of words</th>\n",
       "      <th>University</th>\n",
       "      <th>month</th>\n",
       "      <th>year</th>\n",
       "      <th>mth-year</th>\n",
       "      <th>year-month</th>\n",
       "      <th>language</th>\n",
       "    </tr>\n",
       "  </thead>\n",
       "  <tbody>\n",
       "    <tr>\n",
       "      <th>0</th>\n",
       "      <td>Machine Learning</td>\n",
       "      <td>Stanford University</td>\n",
       "      <td>https://www.coursera.org/learn/machine-learning</td>\n",
       "      <td>machine-learning</td>\n",
       "      <td>This is an extremely basic course. Machine lea...</td>\n",
       "      <td>By Deleted A</td>\n",
       "      <td>2017-03-18</td>\n",
       "      <td>1.0</td>\n",
       "      <td>152</td>\n",
       "      <td>University</td>\n",
       "      <td>3</td>\n",
       "      <td>2017</td>\n",
       "      <td>Mar-2017</td>\n",
       "      <td>2017-03</td>\n",
       "      <td>en</td>\n",
       "    </tr>\n",
       "    <tr>\n",
       "      <th>1</th>\n",
       "      <td>Machine Learning</td>\n",
       "      <td>Stanford University</td>\n",
       "      <td>https://www.coursera.org/learn/machine-learning</td>\n",
       "      <td>machine-learning</td>\n",
       "      <td>The course is ok but the certification procedu...</td>\n",
       "      <td>By Bruno C</td>\n",
       "      <td>2015-11-09</td>\n",
       "      <td>1.0</td>\n",
       "      <td>34</td>\n",
       "      <td>University</td>\n",
       "      <td>11</td>\n",
       "      <td>2015</td>\n",
       "      <td>Nov-2015</td>\n",
       "      <td>2015-11</td>\n",
       "      <td>en</td>\n",
       "    </tr>\n",
       "    <tr>\n",
       "      <th>2</th>\n",
       "      <td>Machine Learning</td>\n",
       "      <td>Stanford University</td>\n",
       "      <td>https://www.coursera.org/learn/machine-learning</td>\n",
       "      <td>machine-learning</td>\n",
       "      <td>I just started week 3 , I have to admit that I...</td>\n",
       "      <td>By Fadi</td>\n",
       "      <td>2019-04-15</td>\n",
       "      <td>1.0</td>\n",
       "      <td>93</td>\n",
       "      <td>University</td>\n",
       "      <td>4</td>\n",
       "      <td>2019</td>\n",
       "      <td>Apr-2019</td>\n",
       "      <td>2019-04</td>\n",
       "      <td>en</td>\n",
       "    </tr>\n",
       "    <tr>\n",
       "      <th>3</th>\n",
       "      <td>Machine Learning</td>\n",
       "      <td>Stanford University</td>\n",
       "      <td>https://www.coursera.org/learn/machine-learning</td>\n",
       "      <td>machine-learning</td>\n",
       "      <td>This course is absolute garbage.  You get no f...</td>\n",
       "      <td>By Mathew L</td>\n",
       "      <td>2015-09-25</td>\n",
       "      <td>1.0</td>\n",
       "      <td>108</td>\n",
       "      <td>University</td>\n",
       "      <td>9</td>\n",
       "      <td>2015</td>\n",
       "      <td>Sep-2015</td>\n",
       "      <td>2015-09</td>\n",
       "      <td>en</td>\n",
       "    </tr>\n",
       "    <tr>\n",
       "      <th>4</th>\n",
       "      <td>Machine Learning</td>\n",
       "      <td>Stanford University</td>\n",
       "      <td>https://www.coursera.org/learn/machine-learning</td>\n",
       "      <td>machine-learning</td>\n",
       "      <td>However good the material and lectures may be,...</td>\n",
       "      <td>By Rui C</td>\n",
       "      <td>2015-12-12</td>\n",
       "      <td>1.0</td>\n",
       "      <td>81</td>\n",
       "      <td>University</td>\n",
       "      <td>12</td>\n",
       "      <td>2015</td>\n",
       "      <td>Dec-2015</td>\n",
       "      <td>2015-12</td>\n",
       "      <td>en</td>\n",
       "    </tr>\n",
       "  </tbody>\n",
       "</table>\n",
       "</div>"
      ],
      "text/plain": [
       "               name          institution  \\\n",
       "0  Machine Learning  Stanford University   \n",
       "1  Machine Learning  Stanford University   \n",
       "2  Machine Learning  Stanford University   \n",
       "3  Machine Learning  Stanford University   \n",
       "4  Machine Learning  Stanford University   \n",
       "\n",
       "                                        course_url         course_id  \\\n",
       "0  https://www.coursera.org/learn/machine-learning  machine-learning   \n",
       "1  https://www.coursera.org/learn/machine-learning  machine-learning   \n",
       "2  https://www.coursera.org/learn/machine-learning  machine-learning   \n",
       "3  https://www.coursera.org/learn/machine-learning  machine-learning   \n",
       "4  https://www.coursera.org/learn/machine-learning  machine-learning   \n",
       "\n",
       "                                             reviews     reviewers  \\\n",
       "0  This is an extremely basic course. Machine lea...  By Deleted A   \n",
       "1  The course is ok but the certification procedu...    By Bruno C   \n",
       "2  I just started week 3 , I have to admit that I...       By Fadi   \n",
       "3  This course is absolute garbage.  You get no f...   By Mathew L   \n",
       "4  However good the material and lectures may be,...      By Rui C   \n",
       "\n",
       "  date_reviews  rating  count of words  University  month  year  mth-year  \\\n",
       "0   2017-03-18     1.0             152  University      3  2017  Mar-2017   \n",
       "1   2015-11-09     1.0              34  University     11  2015  Nov-2015   \n",
       "2   2019-04-15     1.0              93  University      4  2019  Apr-2019   \n",
       "3   2015-09-25     1.0             108  University      9  2015  Sep-2015   \n",
       "4   2015-12-12     1.0              81  University     12  2015  Dec-2015   \n",
       "\n",
       "  year-month language  \n",
       "0    2017-03       en  \n",
       "1    2015-11       en  \n",
       "2    2019-04       en  \n",
       "3    2015-09       en  \n",
       "4    2015-12       en  "
      ]
     },
     "execution_count": 38,
     "metadata": {},
     "output_type": "execute_result"
    }
   ],
   "source": [
    "# saving the partially translated dataframe, as there are more translation discovered\n",
    "translated_df.to_csv('translated_df.csv', index=False)\n",
    "pd.read_csv('translated_df.csv').head()"
   ]
  },
  {
   "cell_type": "markdown",
   "metadata": {},
   "source": [
    "### 12. Saving backups"
   ]
  },
  {
   "cell_type": "code",
   "execution_count": 43,
   "metadata": {},
   "outputs": [],
   "source": [
    "# saving the previous translated text as backups\n",
    "ru_needs_translation_1.to_csv('ru_needs_translation_1.csv', index=False)\n",
    "ru_needs_translation_2.to_csv('ru_needs_translation_2.csv', index=False)\n",
    "ru_needs_translation_3.to_csv('ru_needs_translation_3.csv', index=False)\n",
    "ru_needs_translation_4.to_csv('ru_needs_translation_4.csv', index=False)\n",
    "ru_needs_translation_5.to_csv('ru_needs_translation_5.csv', index=False)\n",
    "translated_ru_review.to_csv('translated_ru_review.csv', index=False)"
   ]
  },
  {
   "cell_type": "markdown",
   "metadata": {},
   "source": [
    "### 13. translating the remaining text in Spanish to English"
   ]
  },
  {
   "cell_type": "markdown",
   "metadata": {},
   "source": [
    "- on conducting EDA, there were many `reviews` in Spanish that was not detected by **nltk.corpus**\n",
    "- this could be due to english words are similar to spanish words too\n",
    "- these `reviews` were identified and translated using **google_trans_new**\n",
    "- again these `reviews` were sliced into 500 rows at each time and submitted to **google_trans_new** API"
   ]
  },
  {
   "cell_type": "code",
   "execution_count": 46,
   "metadata": {},
   "outputs": [
    {
     "data": {
      "text/plain": [
       "24465"
      ]
     },
     "execution_count": 46,
     "metadata": {},
     "output_type": "execute_result"
    }
   ],
   "source": [
    "# spanish words were identified using 'curso' the most common spanish word found during \n",
    "count = 0\n",
    "for row in translated_df['reviews']:\n",
    "    if 'curso' in row:\n",
    "        count += 1\n",
    "\n",
    "count"
   ]
  },
  {
   "cell_type": "code",
   "execution_count": 227,
   "metadata": {},
   "outputs": [
    {
     "data": {
      "text/plain": [
       "(438729, 15)"
      ]
     },
     "execution_count": 227,
     "metadata": {},
     "output_type": "execute_result"
    }
   ],
   "source": [
    "translated_df.shape"
   ]
  },
  {
   "cell_type": "code",
   "execution_count": 228,
   "metadata": {},
   "outputs": [
    {
     "data": {
      "text/plain": [
       "(414245, 15)"
      ]
     },
     "execution_count": 228,
     "metadata": {},
     "output_type": "execute_result"
    }
   ],
   "source": [
    "without_spn_df = translated_df.drop(translated_df[translated_df['reviews'].str.contains('curso')].index, axis=0)\n",
    "without_spn_df.shape"
   ]
  },
  {
   "cell_type": "code",
   "execution_count": 52,
   "metadata": {},
   "outputs": [],
   "source": [
    "spanish_df = translated_df[translated_df['reviews'].str.contains('curso')]"
   ]
  },
  {
   "cell_type": "markdown",
   "metadata": {},
   "source": [
    "### 14. Translating in batches"
   ]
  },
  {
   "cell_type": "code",
   "execution_count": 53,
   "metadata": {},
   "outputs": [],
   "source": [
    "spanish_df_1 = spanish_df[1500:2000]"
   ]
  },
  {
   "cell_type": "code",
   "execution_count": 54,
   "metadata": {},
   "outputs": [
    {
     "name": "stderr",
     "output_type": "stream",
     "text": [
      "<ipython-input-54-0ac4d05953b4>:1: SettingWithCopyWarning: \n",
      "A value is trying to be set on a copy of a slice from a DataFrame.\n",
      "Try using .loc[row_indexer,col_indexer] = value instead\n",
      "\n",
      "See the caveats in the documentation: https://pandas.pydata.org/pandas-docs/stable/user_guide/indexing.html#returning-a-view-versus-a-copy\n",
      "  spanish_df_1['reviews'] = spanish_df_1['reviews'].apply(translate_word)\n"
     ]
    }
   ],
   "source": [
    "spanish_df_1['reviews'] = spanish_df_1['reviews'].apply(translate_word)"
   ]
  },
  {
   "cell_type": "code",
   "execution_count": 56,
   "metadata": {},
   "outputs": [
    {
     "data": {
      "text/html": [
       "<div>\n",
       "<style scoped>\n",
       "    .dataframe tbody tr th:only-of-type {\n",
       "        vertical-align: middle;\n",
       "    }\n",
       "\n",
       "    .dataframe tbody tr th {\n",
       "        vertical-align: top;\n",
       "    }\n",
       "\n",
       "    .dataframe thead th {\n",
       "        text-align: right;\n",
       "    }\n",
       "</style>\n",
       "<table border=\"1\" class=\"dataframe\">\n",
       "  <thead>\n",
       "    <tr style=\"text-align: right;\">\n",
       "      <th></th>\n",
       "      <th>name</th>\n",
       "      <th>institution</th>\n",
       "      <th>course_url</th>\n",
       "      <th>course_id</th>\n",
       "      <th>reviews</th>\n",
       "      <th>reviewers</th>\n",
       "      <th>date_reviews</th>\n",
       "      <th>rating</th>\n",
       "      <th>count of words</th>\n",
       "      <th>University</th>\n",
       "      <th>month</th>\n",
       "      <th>year</th>\n",
       "      <th>mth-year</th>\n",
       "      <th>year-month</th>\n",
       "      <th>language</th>\n",
       "    </tr>\n",
       "  </thead>\n",
       "  <tbody>\n",
       "    <tr>\n",
       "      <th>90865</th>\n",
       "      <td>Stanford Introduction to Food and Health</td>\n",
       "      <td>Stanford University</td>\n",
       "      <td>https://www.coursera.org/learn/food-and-health</td>\n",
       "      <td>food-and-health</td>\n",
       "      <td>This course is really very practical, the way ...</td>\n",
       "      <td>By Luisa F P G</td>\n",
       "      <td>2020-05-11</td>\n",
       "      <td>5.0</td>\n",
       "      <td>69</td>\n",
       "      <td>University</td>\n",
       "      <td>5</td>\n",
       "      <td>2020</td>\n",
       "      <td>May-2020</td>\n",
       "      <td>2020-05</td>\n",
       "      <td>en</td>\n",
       "    </tr>\n",
       "    <tr>\n",
       "      <th>90878</th>\n",
       "      <td>Stanford Introduction to Food and Health</td>\n",
       "      <td>Stanford University</td>\n",
       "      <td>https://www.coursera.org/learn/food-and-health</td>\n",
       "      <td>food-and-health</td>\n",
       "      <td>Very happy for the content of the course, I pr...</td>\n",
       "      <td>By Liliana B</td>\n",
       "      <td>2020-06-19</td>\n",
       "      <td>5.0</td>\n",
       "      <td>60</td>\n",
       "      <td>University</td>\n",
       "      <td>6</td>\n",
       "      <td>2020</td>\n",
       "      <td>Jun-2020</td>\n",
       "      <td>2020-06</td>\n",
       "      <td>en</td>\n",
       "    </tr>\n",
       "  </tbody>\n",
       "</table>\n",
       "</div>"
      ],
      "text/plain": [
       "                                           name          institution  \\\n",
       "90865  Stanford Introduction to Food and Health  Stanford University   \n",
       "90878  Stanford Introduction to Food and Health  Stanford University   \n",
       "\n",
       "                                           course_url        course_id  \\\n",
       "90865  https://www.coursera.org/learn/food-and-health  food-and-health   \n",
       "90878  https://www.coursera.org/learn/food-and-health  food-and-health   \n",
       "\n",
       "                                                 reviews        reviewers  \\\n",
       "90865  This course is really very practical, the way ...  By Luisa F P G    \n",
       "90878  Very happy for the content of the course, I pr...     By Liliana B   \n",
       "\n",
       "      date_reviews  rating  count of words  University  month  year  mth-year  \\\n",
       "90865   2020-05-11     5.0              69  University      5  2020  May-2020   \n",
       "90878   2020-06-19     5.0              60  University      6  2020  Jun-2020   \n",
       "\n",
       "      year-month language  \n",
       "90865    2020-05       en  \n",
       "90878    2020-06       en  "
      ]
     },
     "execution_count": 56,
     "metadata": {},
     "output_type": "execute_result"
    }
   ],
   "source": [
    "# checking\n",
    "spanish_df_1.head(2)"
   ]
  },
  {
   "cell_type": "code",
   "execution_count": 57,
   "metadata": {},
   "outputs": [],
   "source": [
    "spanish_df_2 = spanish_df[0:500]\n",
    "spanish_df_3 = spanish_df[500:1000]\n",
    "spanish_df_4 = spanish_df[1000:1500]"
   ]
  },
  {
   "cell_type": "code",
   "execution_count": 59,
   "metadata": {},
   "outputs": [],
   "source": [
    "spanish_df_2 = spanish_df_2.copy()\n",
    "spanish_df_2['reviews'] = spanish_df_2['reviews'].apply(translate_word)"
   ]
  },
  {
   "cell_type": "code",
   "execution_count": 60,
   "metadata": {},
   "outputs": [],
   "source": [
    "spanish_df_3 = spanish_df_3.copy()\n",
    "spanish_df_3['reviews'] = spanish_df_3['reviews'].apply(translate_word)"
   ]
  },
  {
   "cell_type": "code",
   "execution_count": 61,
   "metadata": {},
   "outputs": [],
   "source": [
    "spanish_df_4 = spanish_df_4.copy()\n",
    "spanish_df_4['reviews'] = spanish_df_4['reviews'].apply(translate_word)"
   ]
  },
  {
   "cell_type": "code",
   "execution_count": 62,
   "metadata": {},
   "outputs": [],
   "source": [
    "spanish_df_5 = spanish_df[2000:2500]\n",
    "spanish_df_6 = spanish_df[2500:3000]\n",
    "spanish_df_7 = spanish_df[3000:3500]"
   ]
  },
  {
   "cell_type": "code",
   "execution_count": 64,
   "metadata": {},
   "outputs": [],
   "source": [
    "spanish_df_5 = spanish_df_5.copy()\n",
    "spanish_df_5['reviews'] = spanish_df_5['reviews'].apply(translate_word)"
   ]
  },
  {
   "cell_type": "code",
   "execution_count": 66,
   "metadata": {},
   "outputs": [],
   "source": [
    "spanish_df_6 = spanish_df_6.copy()\n",
    "spanish_df_6['reviews'] = spanish_df_6['reviews'].apply(translate_word)"
   ]
  },
  {
   "cell_type": "code",
   "execution_count": 67,
   "metadata": {},
   "outputs": [],
   "source": [
    "spanish_df_7 = spanish_df_7.copy()\n",
    "spanish_df_7['reviews'] = spanish_df_7['reviews'].apply(translate_word)"
   ]
  },
  {
   "cell_type": "code",
   "execution_count": 72,
   "metadata": {},
   "outputs": [],
   "source": [
    "spanish_df_8 = spanish_df[3500:4000]\n",
    "spanish_df_9 = spanish_df[4000:4500]\n",
    "spanish_df_10 = spanish_df[4500:5000]"
   ]
  },
  {
   "cell_type": "code",
   "execution_count": 77,
   "metadata": {},
   "outputs": [],
   "source": [
    "spanish_df_8 = spanish_df_8.copy()\n",
    "spanish_df_8['reviews'] = spanish_df_8['reviews'].apply(translate_word)"
   ]
  },
  {
   "cell_type": "code",
   "execution_count": 81,
   "metadata": {},
   "outputs": [],
   "source": [
    "spanish_df_9 = spanish_df_9.copy()\n",
    "spanish_df_9['reviews'] = spanish_df_9['reviews'].apply(translate_word)"
   ]
  },
  {
   "cell_type": "code",
   "execution_count": 84,
   "metadata": {},
   "outputs": [],
   "source": [
    "spanish_df_10 = spanish_df_10.copy()\n",
    "spanish_df_10['reviews'] = spanish_df_10['reviews'].apply(translate_word)"
   ]
  },
  {
   "cell_type": "code",
   "execution_count": 90,
   "metadata": {},
   "outputs": [],
   "source": [
    "spanish_df_11 = spanish_df[5000:5500]\n",
    "spanish_df_12 = spanish_df[5500:6000]\n",
    "spanish_df_13 = spanish_df[6000:6500]"
   ]
  },
  {
   "cell_type": "code",
   "execution_count": 91,
   "metadata": {},
   "outputs": [],
   "source": [
    "spanish_df_11 = spanish_df_11.copy()\n",
    "spanish_df_11['reviews'] = spanish_df_11['reviews'].apply(translate_word)"
   ]
  },
  {
   "cell_type": "code",
   "execution_count": 94,
   "metadata": {},
   "outputs": [],
   "source": [
    "spanish_df_12 = spanish_df_12.copy()\n",
    "spanish_df_12['reviews'] = spanish_df_12['reviews'].apply(translate_word)"
   ]
  },
  {
   "cell_type": "code",
   "execution_count": 97,
   "metadata": {},
   "outputs": [],
   "source": [
    "spanish_df_13 = spanish_df_13.copy()\n",
    "spanish_df_13['reviews'] = spanish_df_13['reviews'].apply(translate_word)"
   ]
  },
  {
   "cell_type": "code",
   "execution_count": 103,
   "metadata": {},
   "outputs": [],
   "source": [
    "spanish_df_14 = spanish_df[6500:7000]\n",
    "spanish_df_15 = spanish_df[7000:7500]\n",
    "spanish_df_16 = spanish_df[7500:8000]"
   ]
  },
  {
   "cell_type": "code",
   "execution_count": 106,
   "metadata": {},
   "outputs": [],
   "source": [
    "spanish_df_14 = spanish_df_14.copy()\n",
    "spanish_df_14['reviews'] = spanish_df_14['reviews'].apply(translate_word)"
   ]
  },
  {
   "cell_type": "code",
   "execution_count": 109,
   "metadata": {},
   "outputs": [],
   "source": [
    "spanish_df_15 = spanish_df_15.copy()\n",
    "spanish_df_15['reviews'] = spanish_df_15['reviews'].apply(translate_word)"
   ]
  },
  {
   "cell_type": "code",
   "execution_count": 112,
   "metadata": {},
   "outputs": [],
   "source": [
    "spanish_df_16 = spanish_df_16.copy()\n",
    "spanish_df_16['reviews'] = spanish_df_16['reviews'].apply(translate_word)"
   ]
  },
  {
   "cell_type": "code",
   "execution_count": 115,
   "metadata": {},
   "outputs": [],
   "source": [
    "spanish_df_17 = spanish_df[8000:8500]\n",
    "spanish_df_18 = spanish_df[8500:9000]\n",
    "spanish_df_19 = spanish_df[9000:9500]"
   ]
  },
  {
   "cell_type": "code",
   "execution_count": 116,
   "metadata": {},
   "outputs": [],
   "source": [
    "spanish_df_17 = spanish_df_17.copy()\n",
    "spanish_df_17['reviews'] = spanish_df_17['reviews'].apply(translate_word)"
   ]
  },
  {
   "cell_type": "code",
   "execution_count": 119,
   "metadata": {},
   "outputs": [],
   "source": [
    "spanish_df_18 = spanish_df_18.copy()\n",
    "spanish_df_18['reviews'] = spanish_df_18['reviews'].apply(translate_word)"
   ]
  },
  {
   "cell_type": "code",
   "execution_count": 122,
   "metadata": {},
   "outputs": [],
   "source": [
    "spanish_df_19 = spanish_df_19.copy()\n",
    "spanish_df_19['reviews'] = spanish_df_19['reviews'].apply(translate_word)"
   ]
  },
  {
   "cell_type": "code",
   "execution_count": 125,
   "metadata": {},
   "outputs": [],
   "source": [
    "spanish_df_20 = spanish_df[9500:10000]\n",
    "spanish_df_20['reviews'] = spanish_df_20['reviews'].apply(translate_word)"
   ]
  },
  {
   "cell_type": "code",
   "execution_count": 128,
   "metadata": {},
   "outputs": [],
   "source": [
    "translated_spanish_part1 = pd.concat([spanish_df_1, spanish_df_2, spanish_df_3, spanish_df_4, spanish_df_5,\n",
    "                                      spanish_df_6, spanish_df_7, spanish_df_8, spanish_df_9, spanish_df_10,\n",
    "                                     spanish_df_11,spanish_df_12, spanish_df_13, spanish_df_14, spanish_df_15,\n",
    "                                     spanish_df_16, spanish_df_17, spanish_df_18, spanish_df_19, spanish_df_20])"
   ]
  },
  {
   "cell_type": "code",
   "execution_count": 130,
   "metadata": {},
   "outputs": [],
   "source": [
    "translated_spanish_part1.to_csv('translated_spanish_part1.csv', index=False)"
   ]
  },
  {
   "cell_type": "code",
   "execution_count": 131,
   "metadata": {},
   "outputs": [
    {
     "data": {
      "text/html": [
       "<div>\n",
       "<style scoped>\n",
       "    .dataframe tbody tr th:only-of-type {\n",
       "        vertical-align: middle;\n",
       "    }\n",
       "\n",
       "    .dataframe tbody tr th {\n",
       "        vertical-align: top;\n",
       "    }\n",
       "\n",
       "    .dataframe thead th {\n",
       "        text-align: right;\n",
       "    }\n",
       "</style>\n",
       "<table border=\"1\" class=\"dataframe\">\n",
       "  <thead>\n",
       "    <tr style=\"text-align: right;\">\n",
       "      <th></th>\n",
       "      <th>name</th>\n",
       "      <th>institution</th>\n",
       "      <th>course_url</th>\n",
       "      <th>course_id</th>\n",
       "      <th>reviews</th>\n",
       "      <th>reviewers</th>\n",
       "      <th>date_reviews</th>\n",
       "      <th>rating</th>\n",
       "      <th>count of words</th>\n",
       "      <th>University</th>\n",
       "      <th>month</th>\n",
       "      <th>year</th>\n",
       "      <th>mth-year</th>\n",
       "      <th>year-month</th>\n",
       "      <th>language</th>\n",
       "    </tr>\n",
       "  </thead>\n",
       "  <tbody>\n",
       "    <tr>\n",
       "      <th>90865</th>\n",
       "      <td>Stanford Introduction to Food and Health</td>\n",
       "      <td>Stanford University</td>\n",
       "      <td>https://www.coursera.org/learn/food-and-health</td>\n",
       "      <td>food-and-health</td>\n",
       "      <td>This course is really very practical, the way ...</td>\n",
       "      <td>By Luisa F P G</td>\n",
       "      <td>2020-05-11</td>\n",
       "      <td>5.0</td>\n",
       "      <td>69</td>\n",
       "      <td>University</td>\n",
       "      <td>5</td>\n",
       "      <td>2020</td>\n",
       "      <td>May-2020</td>\n",
       "      <td>2020-05</td>\n",
       "      <td>en</td>\n",
       "    </tr>\n",
       "    <tr>\n",
       "      <th>90878</th>\n",
       "      <td>Stanford Introduction to Food and Health</td>\n",
       "      <td>Stanford University</td>\n",
       "      <td>https://www.coursera.org/learn/food-and-health</td>\n",
       "      <td>food-and-health</td>\n",
       "      <td>Very happy for the content of the course, I pr...</td>\n",
       "      <td>By Liliana B</td>\n",
       "      <td>2020-06-19</td>\n",
       "      <td>5.0</td>\n",
       "      <td>60</td>\n",
       "      <td>University</td>\n",
       "      <td>6</td>\n",
       "      <td>2020</td>\n",
       "      <td>Jun-2020</td>\n",
       "      <td>2020-06</td>\n",
       "      <td>en</td>\n",
       "    </tr>\n",
       "  </tbody>\n",
       "</table>\n",
       "</div>"
      ],
      "text/plain": [
       "                                           name          institution  \\\n",
       "90865  Stanford Introduction to Food and Health  Stanford University   \n",
       "90878  Stanford Introduction to Food and Health  Stanford University   \n",
       "\n",
       "                                           course_url        course_id  \\\n",
       "90865  https://www.coursera.org/learn/food-and-health  food-and-health   \n",
       "90878  https://www.coursera.org/learn/food-and-health  food-and-health   \n",
       "\n",
       "                                                 reviews        reviewers  \\\n",
       "90865  This course is really very practical, the way ...  By Luisa F P G    \n",
       "90878  Very happy for the content of the course, I pr...     By Liliana B   \n",
       "\n",
       "      date_reviews  rating  count of words  University  month  year  mth-year  \\\n",
       "90865   2020-05-11     5.0              69  University      5  2020  May-2020   \n",
       "90878   2020-06-19     5.0              60  University      6  2020  Jun-2020   \n",
       "\n",
       "      year-month language  \n",
       "90865    2020-05       en  \n",
       "90878    2020-06       en  "
      ]
     },
     "execution_count": 131,
     "metadata": {},
     "output_type": "execute_result"
    }
   ],
   "source": [
    "translated_spanish_part1.head(2)"
   ]
  },
  {
   "cell_type": "code",
   "execution_count": 132,
   "metadata": {},
   "outputs": [
    {
     "data": {
      "text/plain": [
       "(10000, 15)"
      ]
     },
     "execution_count": 132,
     "metadata": {},
     "output_type": "execute_result"
    }
   ],
   "source": [
    "translated_spanish_part1.shape"
   ]
  },
  {
   "cell_type": "code",
   "execution_count": 133,
   "metadata": {},
   "outputs": [],
   "source": [
    "spanish_df_half = spanish_df[10000:]"
   ]
  },
  {
   "cell_type": "code",
   "execution_count": 134,
   "metadata": {},
   "outputs": [
    {
     "data": {
      "text/plain": [
       "(14465, 15)"
      ]
     },
     "execution_count": 134,
     "metadata": {},
     "output_type": "execute_result"
    }
   ],
   "source": [
    "spanish_df_half.shape"
   ]
  },
  {
   "cell_type": "code",
   "execution_count": 135,
   "metadata": {},
   "outputs": [],
   "source": [
    "spanish_df_21 = spanish_df_half[0:500]\n",
    "spanish_df_22 = spanish_df_half[500:1000]\n",
    "spanish_df_23 = spanish_df_half[1000:1500]\n",
    "spanish_df_24 = spanish_df_half[1500:2000]\n",
    "spanish_df_25 = spanish_df_half[2500:3000]"
   ]
  },
  {
   "cell_type": "code",
   "execution_count": 136,
   "metadata": {},
   "outputs": [
    {
     "data": {
      "text/html": [
       "<div>\n",
       "<style scoped>\n",
       "    .dataframe tbody tr th:only-of-type {\n",
       "        vertical-align: middle;\n",
       "    }\n",
       "\n",
       "    .dataframe tbody tr th {\n",
       "        vertical-align: top;\n",
       "    }\n",
       "\n",
       "    .dataframe thead th {\n",
       "        text-align: right;\n",
       "    }\n",
       "</style>\n",
       "<table border=\"1\" class=\"dataframe\">\n",
       "  <thead>\n",
       "    <tr style=\"text-align: right;\">\n",
       "      <th></th>\n",
       "      <th>name</th>\n",
       "      <th>institution</th>\n",
       "      <th>course_url</th>\n",
       "      <th>course_id</th>\n",
       "      <th>reviews</th>\n",
       "      <th>reviewers</th>\n",
       "      <th>date_reviews</th>\n",
       "      <th>rating</th>\n",
       "      <th>count of words</th>\n",
       "      <th>University</th>\n",
       "      <th>month</th>\n",
       "      <th>year</th>\n",
       "      <th>mth-year</th>\n",
       "      <th>year-month</th>\n",
       "      <th>language</th>\n",
       "    </tr>\n",
       "  </thead>\n",
       "  <tbody>\n",
       "    <tr>\n",
       "      <th>282471</th>\n",
       "      <td>Nutrición y obesidad: control de sobrepeso</td>\n",
       "      <td>Universidad Nacional Autónoma de México</td>\n",
       "      <td>https://www.coursera.org/learn/nutricion-obesi...</td>\n",
       "      <td>nutricion-obesidad-sobrepeso</td>\n",
       "      <td>fue fasinante el viaje por curso de nutricion ...</td>\n",
       "      <td>By CCANAHUIRE C r</td>\n",
       "      <td>2020-06-18</td>\n",
       "      <td>5.0</td>\n",
       "      <td>18</td>\n",
       "      <td>Business est</td>\n",
       "      <td>6</td>\n",
       "      <td>2020</td>\n",
       "      <td>Jun-2020</td>\n",
       "      <td>2020-06</td>\n",
       "      <td>en</td>\n",
       "    </tr>\n",
       "    <tr>\n",
       "      <th>282472</th>\n",
       "      <td>Nutrición y obesidad: control de sobrepeso</td>\n",
       "      <td>Universidad Nacional Autónoma de México</td>\n",
       "      <td>https://www.coursera.org/learn/nutricion-obesi...</td>\n",
       "      <td>nutricion-obesidad-sobrepeso</td>\n",
       "      <td>La verdad lo recomiendo, es un curso en donde ...</td>\n",
       "      <td>By María d l A S v</td>\n",
       "      <td>2020-06-18</td>\n",
       "      <td>5.0</td>\n",
       "      <td>20</td>\n",
       "      <td>Business est</td>\n",
       "      <td>6</td>\n",
       "      <td>2020</td>\n",
       "      <td>Jun-2020</td>\n",
       "      <td>2020-06</td>\n",
       "      <td>en</td>\n",
       "    </tr>\n",
       "  </tbody>\n",
       "</table>\n",
       "</div>"
      ],
      "text/plain": [
       "                                              name  \\\n",
       "282471  Nutrición y obesidad: control de sobrepeso   \n",
       "282472  Nutrición y obesidad: control de sobrepeso   \n",
       "\n",
       "                                    institution  \\\n",
       "282471  Universidad Nacional Autónoma de México   \n",
       "282472  Universidad Nacional Autónoma de México   \n",
       "\n",
       "                                               course_url  \\\n",
       "282471  https://www.coursera.org/learn/nutricion-obesi...   \n",
       "282472  https://www.coursera.org/learn/nutricion-obesi...   \n",
       "\n",
       "                           course_id  \\\n",
       "282471  nutricion-obesidad-sobrepeso   \n",
       "282472  nutricion-obesidad-sobrepeso   \n",
       "\n",
       "                                                  reviews           reviewers  \\\n",
       "282471  fue fasinante el viaje por curso de nutricion ...   By CCANAHUIRE C r   \n",
       "282472  La verdad lo recomiendo, es un curso en donde ...  By María d l A S v   \n",
       "\n",
       "       date_reviews  rating  count of words    University  month  year  \\\n",
       "282471   2020-06-18     5.0              18  Business est      6  2020   \n",
       "282472   2020-06-18     5.0              20  Business est      6  2020   \n",
       "\n",
       "        mth-year year-month language  \n",
       "282471  Jun-2020    2020-06       en  \n",
       "282472  Jun-2020    2020-06       en  "
      ]
     },
     "execution_count": 136,
     "metadata": {},
     "output_type": "execute_result"
    }
   ],
   "source": [
    "spanish_df_21.head(2)"
   ]
  },
  {
   "cell_type": "code",
   "execution_count": 137,
   "metadata": {},
   "outputs": [],
   "source": [
    "spanish_df_21 = spanish_df_21.copy()\n",
    "spanish_df_21['reviews'] = spanish_df_21['reviews'].apply(translate_word)"
   ]
  },
  {
   "cell_type": "code",
   "execution_count": 139,
   "metadata": {},
   "outputs": [],
   "source": [
    "spanish_df_22 = spanish_df_22.copy()\n",
    "spanish_df_22['reviews'] = spanish_df_22['reviews'].apply(translate_word)"
   ]
  },
  {
   "cell_type": "code",
   "execution_count": 142,
   "metadata": {},
   "outputs": [],
   "source": [
    "spanish_df_23 = spanish_df_23.copy()\n",
    "spanish_df_23['reviews'] = spanish_df_23['reviews'].apply(translate_word)"
   ]
  },
  {
   "cell_type": "code",
   "execution_count": 147,
   "metadata": {},
   "outputs": [],
   "source": [
    "spanish_df_24 = spanish_df_24.copy()\n",
    "spanish_df_24['reviews'] = spanish_df_24['reviews'].apply(translate_word)"
   ]
  },
  {
   "cell_type": "code",
   "execution_count": 152,
   "metadata": {},
   "outputs": [],
   "source": [
    "spanish_df_25 = spanish_df_25.copy()\n",
    "spanish_df_25['reviews'] = spanish_df_25['reviews'].apply(translate_word)"
   ]
  },
  {
   "cell_type": "code",
   "execution_count": 154,
   "metadata": {},
   "outputs": [],
   "source": [
    "spanish_df_30 = spanish_df_half[2000:2500]\n",
    "spanish_df_26 = spanish_df_half[3000:3500]\n",
    "spanish_df_27 = spanish_df_half[3500:4000]\n",
    "spanish_df_28 = spanish_df_half[4000:4500]\n",
    "spanish_df_29 = spanish_df_half[4500:5000]"
   ]
  },
  {
   "cell_type": "code",
   "execution_count": 155,
   "metadata": {},
   "outputs": [],
   "source": [
    "spanish_df_30 = spanish_df_30.copy()\n",
    "spanish_df_30['reviews'] = spanish_df_30['reviews'].apply(translate_word)"
   ]
  },
  {
   "cell_type": "code",
   "execution_count": 157,
   "metadata": {},
   "outputs": [],
   "source": [
    "spanish_df_26 = spanish_df_26.copy()\n",
    "spanish_df_26['reviews'] = spanish_df_26['reviews'].apply(translate_word)"
   ]
  },
  {
   "cell_type": "code",
   "execution_count": 161,
   "metadata": {},
   "outputs": [],
   "source": [
    "spanish_df_27 = spanish_df_27.copy()\n",
    "spanish_df_27['reviews'] = spanish_df_27['reviews'].apply(translate_word)"
   ]
  },
  {
   "cell_type": "code",
   "execution_count": 162,
   "metadata": {},
   "outputs": [],
   "source": [
    "spanish_df_28 = spanish_df_28.copy()\n",
    "spanish_df_28['reviews'] = spanish_df_28['reviews'].apply(translate_word)"
   ]
  },
  {
   "cell_type": "code",
   "execution_count": 165,
   "metadata": {},
   "outputs": [],
   "source": [
    "spanish_df_29 = spanish_df_29.copy()\n",
    "spanish_df_29['reviews'] = spanish_df_29['reviews'].apply(translate_word)"
   ]
  },
  {
   "cell_type": "code",
   "execution_count": 168,
   "metadata": {},
   "outputs": [],
   "source": [
    "spanish_df_31 = spanish_df_half[5000:5500]\n",
    "spanish_df_32 = spanish_df_half[5500:6000]\n",
    "spanish_df_33 = spanish_df_half[6000:6500]\n",
    "spanish_df_34 = spanish_df_half[6500:7000]\n",
    "spanish_df_35 = spanish_df_half[7000:7500]"
   ]
  },
  {
   "cell_type": "code",
   "execution_count": 169,
   "metadata": {},
   "outputs": [],
   "source": [
    "spanish_df_31 = spanish_df_31.copy()\n",
    "spanish_df_31['reviews'] = spanish_df_31['reviews'].apply(translate_word)"
   ]
  },
  {
   "cell_type": "code",
   "execution_count": 172,
   "metadata": {},
   "outputs": [],
   "source": [
    "spanish_df_32 = spanish_df_32.copy()\n",
    "spanish_df_32['reviews'] = spanish_df_32['reviews'].apply(translate_word)"
   ]
  },
  {
   "cell_type": "code",
   "execution_count": 176,
   "metadata": {},
   "outputs": [],
   "source": [
    "spanish_df_33 = spanish_df_33.copy()\n",
    "spanish_df_33['reviews'] = spanish_df_33['reviews'].apply(translate_word)"
   ]
  },
  {
   "cell_type": "code",
   "execution_count": 179,
   "metadata": {},
   "outputs": [],
   "source": [
    "spanish_df_34 = spanish_df_34.copy()\n",
    "spanish_df_34['reviews'] = spanish_df_34['reviews'].apply(translate_word)"
   ]
  },
  {
   "cell_type": "code",
   "execution_count": 182,
   "metadata": {},
   "outputs": [],
   "source": [
    "spanish_df_35 = spanish_df_35.copy()\n",
    "spanish_df_35['reviews'] = spanish_df_35['reviews'].apply(translate_word)"
   ]
  },
  {
   "cell_type": "code",
   "execution_count": 186,
   "metadata": {},
   "outputs": [],
   "source": [
    "spanish_df_36 = spanish_df_half[7500:8000]\n",
    "spanish_df_37 = spanish_df_half[8000:8500]\n",
    "spanish_df_38 = spanish_df_half[8500:9000]\n",
    "spanish_df_39 = spanish_df_half[9000:9500]\n",
    "spanish_df_40 = spanish_df_half[9500:10000]"
   ]
  },
  {
   "cell_type": "code",
   "execution_count": 187,
   "metadata": {},
   "outputs": [],
   "source": [
    "spanish_df_36 = spanish_df_36.copy()\n",
    "spanish_df_36['reviews'] = spanish_df_36['reviews'].apply(translate_word)"
   ]
  },
  {
   "cell_type": "code",
   "execution_count": 188,
   "metadata": {},
   "outputs": [],
   "source": [
    "spanish_df_37 = spanish_df_37.copy()\n",
    "spanish_df_37['reviews'] = spanish_df_37['reviews'].apply(translate_word)"
   ]
  },
  {
   "cell_type": "code",
   "execution_count": 189,
   "metadata": {},
   "outputs": [],
   "source": [
    "spanish_df_38 = spanish_df_38.copy()\n",
    "spanish_df_38['reviews'] = spanish_df_38['reviews'].apply(translate_word)"
   ]
  },
  {
   "cell_type": "code",
   "execution_count": 192,
   "metadata": {},
   "outputs": [],
   "source": [
    "spanish_df_39 = spanish_df_39.copy()\n",
    "spanish_df_39['reviews'] = spanish_df_39['reviews'].apply(translate_word)"
   ]
  },
  {
   "cell_type": "code",
   "execution_count": 193,
   "metadata": {},
   "outputs": [],
   "source": [
    "spanish_df_40 = spanish_df_40.copy()\n",
    "spanish_df_40['reviews'] = spanish_df_40['reviews'].apply(translate_word)"
   ]
  },
  {
   "cell_type": "code",
   "execution_count": 194,
   "metadata": {},
   "outputs": [],
   "source": [
    "translated_spanish_part2 = pd.concat([spanish_df_21, spanish_df_22, spanish_df_23, spanish_df_24, spanish_df_25, \n",
    "                                      spanish_df_30, spanish_df_26, spanish_df_27, spanish_df_28, spanish_df_29,\n",
    "                                     spanish_df_31, spanish_df_32, spanish_df_33, spanish_df_34, spanish_df_35,\n",
    "                                     spanish_df_36, spanish_df_37, spanish_df_38, spanish_df_39, spanish_df_40])"
   ]
  },
  {
   "cell_type": "code",
   "execution_count": 195,
   "metadata": {},
   "outputs": [
    {
     "data": {
      "text/plain": [
       "(10000, 15)"
      ]
     },
     "execution_count": 195,
     "metadata": {},
     "output_type": "execute_result"
    }
   ],
   "source": [
    "translated_spanish_part2.shape"
   ]
  },
  {
   "cell_type": "code",
   "execution_count": 196,
   "metadata": {},
   "outputs": [],
   "source": [
    "translated_spanish_part2.to_csv('translated_spanish_part2.csv', index=False)"
   ]
  },
  {
   "cell_type": "code",
   "execution_count": 197,
   "metadata": {},
   "outputs": [],
   "source": [
    "remaining_df = spanish_df[20000:]"
   ]
  },
  {
   "cell_type": "code",
   "execution_count": 198,
   "metadata": {},
   "outputs": [
    {
     "data": {
      "text/plain": [
       "(4465, 15)"
      ]
     },
     "execution_count": 198,
     "metadata": {},
     "output_type": "execute_result"
    }
   ],
   "source": [
    "remaining_df.shape"
   ]
  },
  {
   "cell_type": "code",
   "execution_count": 199,
   "metadata": {},
   "outputs": [],
   "source": [
    "spanish_df_41 = remaining_df[0:500]\n",
    "spanish_df_42 = remaining_df[500:1000]\n",
    "spanish_df_43 = remaining_df[1000:1500]\n",
    "spanish_df_44 = remaining_df[1500:2000]\n",
    "spanish_df_45 = remaining_df[2000:2500]"
   ]
  },
  {
   "cell_type": "code",
   "execution_count": 200,
   "metadata": {},
   "outputs": [],
   "source": [
    "spanish_df_41 = spanish_df_41.copy()\n",
    "spanish_df_41['reviews'] = spanish_df_41['reviews'].apply(translate_word)"
   ]
  },
  {
   "cell_type": "code",
   "execution_count": 201,
   "metadata": {},
   "outputs": [],
   "source": [
    "spanish_df_42 = spanish_df_42.copy()\n",
    "spanish_df_42['reviews'] = spanish_df_42['reviews'].apply(translate_word)"
   ]
  },
  {
   "cell_type": "code",
   "execution_count": 202,
   "metadata": {},
   "outputs": [],
   "source": [
    "spanish_df_43 = spanish_df_43.copy()\n",
    "spanish_df_43['reviews'] = spanish_df_43['reviews'].apply(translate_word)"
   ]
  },
  {
   "cell_type": "code",
   "execution_count": 203,
   "metadata": {},
   "outputs": [],
   "source": [
    "spanish_df_44 = spanish_df_44.copy()\n",
    "spanish_df_44['reviews'] = spanish_df_44['reviews'].apply(translate_word)"
   ]
  },
  {
   "cell_type": "code",
   "execution_count": 205,
   "metadata": {},
   "outputs": [],
   "source": [
    "spanish_df_45 = spanish_df_45.copy()\n",
    "spanish_df_45['reviews'] = spanish_df_45['reviews'].apply(translate_word)"
   ]
  },
  {
   "cell_type": "code",
   "execution_count": 208,
   "metadata": {},
   "outputs": [],
   "source": [
    "spanish_df_46 = remaining_df[2500:3000]\n",
    "spanish_df_47 = remaining_df[3000:3500]\n",
    "spanish_df_48 = remaining_df[3500:4000]\n",
    "spanish_df_49 = remaining_df[4000:]"
   ]
  },
  {
   "cell_type": "code",
   "execution_count": 210,
   "metadata": {},
   "outputs": [],
   "source": [
    "spanish_df_46 = spanish_df_46.copy()\n",
    "spanish_df_46['reviews'] = spanish_df_46['reviews'].apply(translate_word)"
   ]
  },
  {
   "cell_type": "code",
   "execution_count": 211,
   "metadata": {},
   "outputs": [],
   "source": [
    "spanish_df_47 = spanish_df_47.copy()\n",
    "spanish_df_47['reviews'] = spanish_df_47['reviews'].apply(translate_word)"
   ]
  },
  {
   "cell_type": "code",
   "execution_count": 218,
   "metadata": {},
   "outputs": [],
   "source": [
    "spanish_df_48 = spanish_df_48.copy()\n",
    "spanish_df_48['reviews'] = spanish_df_48['reviews'].apply(translate_word)"
   ]
  },
  {
   "cell_type": "code",
   "execution_count": 220,
   "metadata": {},
   "outputs": [],
   "source": [
    "spanish_df_49 = spanish_df_49.copy()\n",
    "spanish_df_49['reviews'] = spanish_df_49['reviews'].apply(translate_word)"
   ]
  },
  {
   "cell_type": "code",
   "execution_count": 221,
   "metadata": {},
   "outputs": [],
   "source": [
    "translated_spanish_part3 = pd.concat([spanish_df_41, spanish_df_42, spanish_df_43,spanish_df_44,spanish_df_45,\n",
    "                                     spanish_df_46, spanish_df_47, spanish_df_48, spanish_df_49])"
   ]
  },
  {
   "cell_type": "code",
   "execution_count": 223,
   "metadata": {},
   "outputs": [],
   "source": [
    "# saving as backup\n",
    "translated_spanish_part3.to_csv('translated_spanish_part3.csv', index=False)"
   ]
  },
  {
   "cell_type": "markdown",
   "metadata": {},
   "source": [
    "### 15. Exporting translated dataframe"
   ]
  },
  {
   "cell_type": "code",
   "execution_count": 225,
   "metadata": {},
   "outputs": [],
   "source": [
    "# merging all of the datasets together\n",
    "total_translate = pd.concat([translated_spanish_part1, without_spn_df,translated_spanish_part2, translated_spanish_part3])"
   ]
  },
  {
   "cell_type": "code",
   "execution_count": 231,
   "metadata": {},
   "outputs": [],
   "source": [
    "translated_df = total_translate"
   ]
  },
  {
   "cell_type": "code",
   "execution_count": 230,
   "metadata": {},
   "outputs": [],
   "source": [
    "# saving as backup\n",
    "total_translate.to_csv('total_translate.csv', index=False)\n",
    "\n",
    "# use for EDA\n",
    "translated_df.to_csv('trans_df.csv', index=False)"
   ]
  }
 ],
 "metadata": {
  "kernelspec": {
   "display_name": "Python 3",
   "language": "python",
   "name": "python3"
  },
  "language_info": {
   "codemirror_mode": {
    "name": "ipython",
    "version": 3
   },
   "file_extension": ".py",
   "mimetype": "text/x-python",
   "name": "python",
   "nbconvert_exporter": "python",
   "pygments_lexer": "ipython3",
   "version": "3.8.5"
  }
 },
 "nbformat": 4,
 "nbformat_minor": 4
}
