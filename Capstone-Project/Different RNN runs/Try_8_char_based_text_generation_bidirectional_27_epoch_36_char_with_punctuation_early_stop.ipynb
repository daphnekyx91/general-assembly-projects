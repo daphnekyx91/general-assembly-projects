{
 "cells": [
  {
   "cell_type": "markdown",
   "metadata": {
    "id": "_U3UXcUglDqE"
   },
   "source": [
    "# Text Generation using Recurrent Neural Network"
   ]
  },
  {
   "cell_type": "markdown",
   "metadata": {
    "id": "J3bbjzTHYBcN"
   },
   "source": [
    "### Content\n",
    "- [1. Mounting the google drive to google colab](#1.-Mounting-the-google-drive-to-google-colab)\n",
    "- [2. Standard Imports for Recurrent Neural Networks](#2.-Standard-Imports-for-Recurrent-Neural-Networks)\n",
    "- [3. Loading the txt file that is used for RNN](#3.-Loading-the-txt-file-that-is-used-for-RNN)\n",
    "- [4. Exploring text dataset](#4.-Exploring-text-dataset)\n",
    "- [5. Numerical encode the sentences and features](#5.-Numerical-encode-the-sentences-and-features)\n",
    "- [6. train-test-split X and y](#6.-train-test-split-X-and-y)\n",
    "- [7. Create RNN model](#7.-Create-RNN-model)\n",
    "- [8. Creating ModelCheckpoint and callback requirements](#8.-Creating-ModelCheckpoint-and-callback-requirements)\n",
    "- [9.Training my RNN model](#9.Training-my-RNN-model)\n",
    "- [10. evaluating performance of model](#10.-evaluating-performance-of-model)\n",
    "  - [10.1 Training Accuracy & Loss](#10.1-Training-Accuracy-&-Loss)\n",
    "  - [10.2 Testing Accuracy & Loss](#10.2-Testing-Accuracy-&-Loss)\n",
    "  - [10.3 Plotting train and test together](#10.3-Plotting-train-and-test-together)\n",
    "- [11. Loading my pre-trained weights to resume training](#11.-Loading-my-pre-trained-weights-to-resume-training)\n",
    "- [12.Try generating text using help from keras.io](#12.Try-generating-text-using-help-from-keras.io)\n",
    "- [13. Try correct spelling of generating text using TextBlob](#13.-Try-correct-spelling-of-generating-text-using-TextBlob)\n",
    "- [14. Evaluation with other model runs & Conclusion](#14.-Evalulation-with-other-model-runs-&-Conclusion)"
   ]
  },
  {
   "cell_type": "markdown",
   "metadata": {
    "id": "gt0Nk6IcYBcT"
   },
   "source": [
    "### 1.  Mounting the google drive to google colab"
   ]
  },
  {
   "cell_type": "code",
   "execution_count": 1,
   "metadata": {
    "colab": {
     "base_uri": "https://localhost:8080/"
    },
    "id": "BBpKtYn3YBcU",
    "outputId": "3e7cd203-62cc-4aa3-ebd7-0e78e4db1743"
   },
   "outputs": [
    {
     "name": "stdout",
     "output_type": "stream",
     "text": [
      "Mounted at /content/gdrive\n"
     ]
    }
   ],
   "source": [
    "# mounting the my googledrive to google.colab\n",
    "# this is needed to save my weights, Neural Network model while it is running\n",
    "# the model, weights can be accessed at a later time if google colab disconnects\n",
    "\n",
    "from google.colab import drive\n",
    "drive.mount('/content/gdrive')"
   ]
  },
  {
   "cell_type": "markdown",
   "metadata": {
    "id": "-qoa-MVbYBcU"
   },
   "source": [
    "### 2. Standard Imports for Recurrent Neural Networks"
   ]
  },
  {
   "cell_type": "code",
   "execution_count": 3,
   "metadata": {
    "id": "uAHzBz3EYBcV"
   },
   "outputs": [],
   "source": [
    "from __future__ import print_function\n",
    "\n",
    "# For preprocessing the text into integer(ids)\n",
    "# For plotting the accuracy and loss curve\n",
    "import numpy as np\n",
    "import matplotlib.pyplot as plt\n",
    "%matplotlib inline\n",
    "\n",
    "# regular expression to proprocess raw_text\n",
    "import regex as re\n",
    "\n",
    "# To instantiate Recurrent Neural Networks\n",
    "from keras.models import Sequential\n",
    "# My model will be dense with all the nodes to 'touch'\n",
    "from keras.layers import Dense, Activation, Bidirectional\n",
    "# LSTM, GRU\n",
    "from keras.layers import LSTM, GRU\n",
    "# plot model architecture\n",
    "#from .keras.utils import plot_model\n",
    "\n",
    "# to create a callback, this will be a checkpoint\n",
    "from keras.callbacks import LambdaCallback, EarlyStopping\n",
    "\n",
    "# need to create a random seed to create a text, so the model will learn the sequence\n",
    "import random\n",
    "import sys\n",
    "import io"
   ]
  },
  {
   "cell_type": "markdown",
   "metadata": {
    "id": "0bCMNSlUYBcV"
   },
   "source": [
    "### 3. Loading the txt file that is used for RNN"
   ]
  },
  {
   "cell_type": "markdown",
   "metadata": {
    "id": "Hx1nVSB0lDqN"
   },
   "source": [
    "- rating 5.0 `reviews` for 'Python for Everybody' course from Coursera is converted to text format\n",
    "- it is preprocessed to remove url links, emoji. alphabets, spacing and necessary punctuations remains."
   ]
  },
  {
   "cell_type": "code",
   "execution_count": 4,
   "metadata": {
    "id": "kytGHnmzYBcW"
   },
   "outputs": [],
   "source": [
    "# cd to pull my txt file from my google drive into google colab\n",
    "#%cd /content/gdrive/My Drive/Capstone/Data/\n",
    "\n",
    "# filename called 'out.txt'\n",
    "filename = \"rnn_text.txt\"\n",
    "\n",
    "# extract the raw text\n",
    "raw_text = open(filename, 'r', encoding='utf-8').read()\n",
    "\n",
    "\n",
    "# lowercase my text\n",
    "data = raw_text.lower()\n",
    "# remove url links\n",
    "data = re.sub(r'\\w+:\\/{2}[\\d\\w-]+(\\.[\\d\\w-]+)*(?:(?:\\/[^\\s/]*))*', '',data)\n",
    "# keep punctuations this time\n",
    "data = re.sub(\"[^a-zA-Z.,?!'\\\";:-]\", \" \", data)\n",
    "# strip to remove empty spaces before beginning and end of string\n",
    "data = data.strip()"
   ]
  },
  {
   "cell_type": "markdown",
   "metadata": {
    "id": "IAGJl1VyYBcW"
   },
   "source": [
    "### 4. Exploring text dataset"
   ]
  },
  {
   "cell_type": "markdown",
   "metadata": {
    "id": "gboa7HwFlDqO"
   },
   "source": [
    "- there are a total of 36 characters which includes spacing, alphabets and necessary punctuations\n",
    "- these unique characters are mapped to numerical values & vice-versa.\n",
    "- the numerical values are then mapped into np.zeros array for feeding into the RNN model\n",
    "- the output will be predicted np.zeros array which will be mapped back to numerical values and back to characters"
   ]
  },
  {
   "cell_type": "code",
   "execution_count": 5,
   "metadata": {
    "colab": {
     "base_uri": "https://localhost:8080/"
    },
    "id": "UO2Vu0a5YBcW",
    "outputId": "a4a3c2ab-7b91-4273-e0f1-6dae8e9e0113"
   },
   "outputs": [
    {
     "name": "stdout",
     "output_type": "stream",
     "text": [
      "total chars:  36\n"
     ]
    }
   ],
   "source": [
    "# set - find a list of specific characters \n",
    "# list - to convert characters into a list\n",
    "# sorted - to sort list into alphabetical order\n",
    "chars = sorted(list(set(data)))\n",
    "\n",
    "# count of total characters\n",
    "print('total chars: ', len(chars))"
   ]
  },
  {
   "cell_type": "code",
   "execution_count": 6,
   "metadata": {
    "colab": {
     "base_uri": "https://localhost:8080/"
    },
    "id": "02sYdZzGYBcW",
    "outputId": "a5c5ad3c-2251-429f-ada2-c73f109488cc"
   },
   "outputs": [
    {
     "data": {
      "text/plain": [
       "{' ': 0,\n",
       " '!': 1,\n",
       " '\"': 2,\n",
       " \"'\": 3,\n",
       " ',': 4,\n",
       " '-': 5,\n",
       " '.': 6,\n",
       " ':': 7,\n",
       " ';': 8,\n",
       " '?': 9,\n",
       " 'a': 10,\n",
       " 'b': 11,\n",
       " 'c': 12,\n",
       " 'd': 13,\n",
       " 'e': 14,\n",
       " 'f': 15,\n",
       " 'g': 16,\n",
       " 'h': 17,\n",
       " 'i': 18,\n",
       " 'j': 19,\n",
       " 'k': 20,\n",
       " 'l': 21,\n",
       " 'm': 22,\n",
       " 'n': 23,\n",
       " 'o': 24,\n",
       " 'p': 25,\n",
       " 'q': 26,\n",
       " 'r': 27,\n",
       " 's': 28,\n",
       " 't': 29,\n",
       " 'u': 30,\n",
       " 'v': 31,\n",
       " 'w': 32,\n",
       " 'x': 33,\n",
       " 'y': 34,\n",
       " 'z': 35}"
      ]
     },
     "execution_count": 6,
     "metadata": {
      "tags": []
     },
     "output_type": "execute_result"
    }
   ],
   "source": [
    "# mapping the characters to numerical values & vice versa\n",
    "# this will be crucial for feeding into our RNN model\n",
    "# and required to map the predicted numerical values back to their corresponding characters\n",
    "\n",
    "char_indices = dict((c, i) for i, c in enumerate(chars))\n",
    "\n",
    "# noted that in this list of character mapping, there is no 'z' in text\n",
    "# noted that ' ' white space is counted as a character\n",
    "char_indices"
   ]
  },
  {
   "cell_type": "code",
   "execution_count": 7,
   "metadata": {
    "colab": {
     "base_uri": "https://localhost:8080/"
    },
    "id": "Nk-1WoOYYBcX",
    "outputId": "4754c551-091d-4c28-9fc2-022c7ec74cd5"
   },
   "outputs": [
    {
     "data": {
      "text/plain": [
       "{0: ' ',\n",
       " 1: '!',\n",
       " 2: '\"',\n",
       " 3: \"'\",\n",
       " 4: ',',\n",
       " 5: '-',\n",
       " 6: '.',\n",
       " 7: ':',\n",
       " 8: ';',\n",
       " 9: '?',\n",
       " 10: 'a',\n",
       " 11: 'b',\n",
       " 12: 'c',\n",
       " 13: 'd',\n",
       " 14: 'e',\n",
       " 15: 'f',\n",
       " 16: 'g',\n",
       " 17: 'h',\n",
       " 18: 'i',\n",
       " 19: 'j',\n",
       " 20: 'k',\n",
       " 21: 'l',\n",
       " 22: 'm',\n",
       " 23: 'n',\n",
       " 24: 'o',\n",
       " 25: 'p',\n",
       " 26: 'q',\n",
       " 27: 'r',\n",
       " 28: 's',\n",
       " 29: 't',\n",
       " 30: 'u',\n",
       " 31: 'v',\n",
       " 32: 'w',\n",
       " 33: 'x',\n",
       " 34: 'y',\n",
       " 35: 'z'}"
      ]
     },
     "execution_count": 7,
     "metadata": {
      "tags": []
     },
     "output_type": "execute_result"
    }
   ],
   "source": [
    "# this will be used from mapping numerical values back to characters\n",
    "indices_char = dict((i, c) for i, c in enumerate(chars))\n",
    "\n",
    "indices_char"
   ]
  },
  {
   "cell_type": "markdown",
   "metadata": {
    "id": "n2PqKRRWYBcX"
   },
   "source": [
    "### 5. Numerical encode the sentences and features"
   ]
  },
  {
   "cell_type": "markdown",
   "metadata": {
    "id": "zIG6n0gUlDqQ"
   },
   "source": [
    "- the numerical mapping will be encoded using np.zeros\n",
    "- maxlen=100, means the text input into the RNN model will be 100 characters long"
   ]
  },
  {
   "cell_type": "code",
   "execution_count": 8,
   "metadata": {
    "colab": {
     "base_uri": "https://localhost:8080/"
    },
    "id": "6t-15OTOCRL-",
    "outputId": "9aa9363c-4e71-4671-dcd6-4458547ed3ca"
   },
   "outputs": [
    {
     "data": {
      "text/plain": [
       "1208987"
      ]
     },
     "execution_count": 8,
     "metadata": {
      "tags": []
     },
     "output_type": "execute_result"
    }
   ],
   "source": [
    "len(data)"
   ]
  },
  {
   "cell_type": "code",
   "execution_count": 9,
   "metadata": {
    "id": "-6T91YIxY88-"
   },
   "outputs": [],
   "source": [
    "text = data"
   ]
  },
  {
   "cell_type": "code",
   "execution_count": 10,
   "metadata": {
    "colab": {
     "base_uri": "https://localhost:8080/"
    },
    "id": "NFg7fOL6YBcX",
    "outputId": "671d04a5-9db2-4cb7-ca23-6c92a7729385"
   },
   "outputs": [
    {
     "name": "stdout",
     "output_type": "stream",
     "text": [
      "nb sequences: 402963\n"
     ]
    }
   ],
   "source": [
    "maxlen = 100\n",
    "step = 3\n",
    "sentences = []\n",
    "next_chars = []\n",
    "for i in range(0, len(text) - maxlen, step):\n",
    "    sentences.append(text[i: i + maxlen])\n",
    "    next_chars.append(text[i + maxlen])\n",
    "print('nb sequences:', len(sentences))"
   ]
  },
  {
   "cell_type": "code",
   "execution_count": 11,
   "metadata": {
    "colab": {
     "base_uri": "https://localhost:8080/"
    },
    "id": "m8zb6OtvYBcX",
    "outputId": "4ee809fb-d6f5-46a7-f598-6f6cc9827411"
   },
   "outputs": [
    {
     "name": "stdout",
     "output_type": "stream",
     "text": [
      "['just auditing this course helped me a lot in learning this language programming. attentive save the ', 't auditing this course helped me a lot in learning this language programming. attentive save the mon', 'uditing this course helped me a lot in learning this language programming. attentive save the money ', 'ting this course helped me a lot in learning this language programming. attentive save the money i w', 'g this course helped me a lot in learning this language programming. attentive save the money i will']\n",
      "['m', 'e', 'i', 'i', ' ']\n"
     ]
    }
   ],
   "source": [
    "print(sentences[:5])\n",
    "print(next_chars[:5])"
   ]
  },
  {
   "cell_type": "code",
   "execution_count": 12,
   "metadata": {
    "colab": {
     "base_uri": "https://localhost:8080/"
    },
    "id": "7JhnfOy1YBcY",
    "outputId": "c0984065-e26c-4610-9c75-c06eff2f7f61"
   },
   "outputs": [
    {
     "data": {
      "text/plain": [
       "1208987"
      ]
     },
     "execution_count": 12,
     "metadata": {
      "tags": []
     },
     "output_type": "execute_result"
    }
   ],
   "source": [
    "len(text)"
   ]
  },
  {
   "cell_type": "code",
   "execution_count": 13,
   "metadata": {
    "id": "7cYHDMLGYBcY"
   },
   "outputs": [],
   "source": [
    "X = np.zeros((len(sentences), maxlen, len(chars)), dtype=np.bool)\n",
    "y = np.zeros((len(sentences), len(chars)), dtype=np.bool)\n",
    "for i, sentence in enumerate(sentences):\n",
    "    for t, char in enumerate(sentence):\n",
    "        X[i, t, char_indices[char]] = 1\n",
    "    y[i, char_indices[next_chars[i]]] = 1"
   ]
  },
  {
   "cell_type": "markdown",
   "metadata": {
    "id": "urd9WIZolDqR"
   },
   "source": [
    "### 6. train-test-split X and y"
   ]
  },
  {
   "cell_type": "markdown",
   "metadata": {
    "id": "xNlMlXthlDqS"
   },
   "source": [
    "X and y are split into train and test sets, **shuffle=False** is used as reviews are written in a sequence"
   ]
  },
  {
   "cell_type": "code",
   "execution_count": 14,
   "metadata": {
    "id": "0It5TQIeYBcY"
   },
   "outputs": [],
   "source": [
    "from sklearn.model_selection import train_test_split\n",
    "X_train, X_test, y_train, y_test = train_test_split(X, y,  random_state=42, shuffle=False)"
   ]
  },
  {
   "cell_type": "markdown",
   "metadata": {
    "id": "E4z78W_4YBcY"
   },
   "source": [
    "### 7. Create RNN model\n",
    "\n",
    "model is created as a function for saving checkpoints in the future referenced from [source](https://towardsdatascience.com/checkpointing-deep-learning-models-in-keras-a652570b8de6)\n",
    "- model is instantiated with: \n",
    "  - Sequential(), \n",
    "  - then added in a LSTM layer batches of 128, input shape=(100, 36)\n",
    "  - then added a Dense layer with 36 characters which the RNN is trying to predict\n",
    "  - then a final Activation 'softmax' as the is a multi-class classification/prediction\n",
    "  \n",
    "- model is compiled with:\n",
    "  - loss = 'categorical_crossentropy' as it is multi-class classification\n",
    "  - optimizer='adam' which is standard\n",
    "  - metrics=['accuracy'] for classification"
   ]
  },
  {
   "cell_type": "code",
   "execution_count": 16,
   "metadata": {
    "id": "5lOh0gSxYBcY"
   },
   "outputs": [],
   "source": [
    "# Define the model architecture \n",
    "\n",
    "def create_model():\n",
    "    #instantial\n",
    "    model = Sequential()\n",
    "    model.add(Bidirectional(LSTM(128), input_shape=(maxlen, len(chars))))\n",
    "    model.add(Dense(len(chars)))\n",
    "    model.add(Activation('softmax'))\n",
    "    \n",
    "    # Compiling the model\n",
    "    # as my model are one-hot encoded, i will use categorical_crossentropy\n",
    "    model.compile(loss='categorical_crossentropy',\n",
    "             optimizer='adam',\n",
    "             metrics=['accuracy'])\n",
    "    \n",
    "    return model\n",
    "\n",
    "#create the model\n",
    "model_ckpt= create_model()"
   ]
  },
  {
   "cell_type": "code",
   "execution_count": 17,
   "metadata": {
    "colab": {
     "base_uri": "https://localhost:8080/"
    },
    "id": "n7HgXPRcYBcZ",
    "outputId": "3cdb3826-a88a-490c-b113-38c3fb5c948c"
   },
   "outputs": [
    {
     "name": "stdout",
     "output_type": "stream",
     "text": [
      "Model: \"sequential_1\"\n",
      "_________________________________________________________________\n",
      "Layer (type)                 Output Shape              Param #   \n",
      "=================================================================\n",
      "bidirectional_1 (Bidirection (None, 256)               168960    \n",
      "_________________________________________________________________\n",
      "dense (Dense)                (None, 36)                9252      \n",
      "_________________________________________________________________\n",
      "activation (Activation)      (None, 36)                0         \n",
      "=================================================================\n",
      "Total params: 178,212\n",
      "Trainable params: 178,212\n",
      "Non-trainable params: 0\n",
      "_________________________________________________________________\n"
     ]
    }
   ],
   "source": [
    "model_ckpt.summary()"
   ]
  },
  {
   "cell_type": "code",
   "execution_count": null,
   "metadata": {
    "id": "uNx0IXONlDqT",
    "outputId": "877dc19a-d219-476a-ac7c-05914eb66158"
   },
   "outputs": [
    {
     "data": {
      "image/png": "[encoded data removed]",
      "text/plain": [
       "<IPython.core.display.Image object>"
      ]
     },
     "execution_count": 10,
     "metadata": {
      "tags": []
     },
     "output_type": "execute_result"
    }
   ],
   "source": [
    "from IPython.display import Image\n",
    "Image(filename='model topology.png')"
   ]
  },
  {
   "cell_type": "markdown",
   "metadata": {
    "id": "W0CLSREbYBcZ"
   },
   "source": [
    "### 8. Creating my ModelCheckpoint and callback requirements"
   ]
  },
  {
   "cell_type": "markdown",
   "metadata": {
    "id": "otJpN0zilDqT"
   },
   "source": [
    "- checkpoint path to save weights and best model if disconnection occurs while fitting"
   ]
  },
  {
   "cell_type": "code",
   "execution_count": 18,
   "metadata": {
    "id": "MHtyQNWwYBcZ"
   },
   "outputs": [],
   "source": [
    "from keras.callbacks import ModelCheckpoint\n",
    "\n",
    "# specifying where my checkpoint files will be stored\n",
    "filepath = \"/content/gdrive/My Drive/Capstone/Data/\"\n",
    "\n",
    "# this ModelCheckpoint save weights and save the best model as it runs\n",
    "checkpoint = ModelCheckpoint(filepath, monitor='loss',\n",
    "                             save_weights_only=True, save_best_only=True,\n",
    "                             mode='min',verbose=1 )"
   ]
  },
  {
   "cell_type": "markdown",
   "metadata": {
    "id": "vFzUEesflDqT"
   },
   "source": [
    "- ReduceLROnPlateau: Reduce learning rate when a metric has stopped improving.\n",
    "    [source](https://keras.io/api/callbacks/reduce_lr_on_plateau/)"
   ]
  },
  {
   "cell_type": "code",
   "execution_count": 19,
   "metadata": {
    "id": "cYhAn8OYYBcZ"
   },
   "outputs": [],
   "source": [
    "from keras.callbacks import ReduceLROnPlateau\n",
    "reduce_lr = ReduceLROnPlateau(monitor='loss', factor=0.2,\n",
    "                              patience=1, min_lr=0.001)"
   ]
  },
  {
   "cell_type": "code",
   "execution_count": 20,
   "metadata": {
    "id": "HXQVUScfmF6f"
   },
   "outputs": [],
   "source": [
    "es = EarlyStopping(monitor='val_loss', patience=10)"
   ]
  },
  {
   "cell_type": "markdown",
   "metadata": {
    "id": "iJgJccDWlDqU"
   },
   "source": [
    "- adjust the temperature parameter to generate more or less random predictions when trying to generate text[source](https://www.tensorflow.org/tutorials/text/text_generation)\n",
    "- when temperature =1, means the samples produced will be more diverse\n"
   ]
  },
  {
   "cell_type": "code",
   "execution_count": 21,
   "metadata": {
    "id": "ixHRPsWvYBca"
   },
   "outputs": [],
   "source": [
    "def sample(preds, temperature=1.0):\n",
    "    # helper function to sample an index from a probability array\n",
    "    preds = np.asarray(preds).astype('float64')\n",
    "    preds = np.log(preds) / temperature\n",
    "    exp_preds = np.exp(preds)\n",
    "    preds = exp_preds / np.sum(exp_preds)\n",
    "    probas = np.random.multinomial(1, preds, 1)\n",
    "    return np.argmax(probas)"
   ]
  },
  {
   "cell_type": "markdown",
   "metadata": {
    "id": "BTOnlej2lDqU"
   },
   "source": [
    "- the function generates text after each epoch, so we can monitor the progress of the model by the semantics of the text generated"
   ]
  },
  {
   "cell_type": "code",
   "execution_count": 22,
   "metadata": {
    "id": "lHXesDLaYBca"
   },
   "outputs": [],
   "source": [
    "def on_epoch_end(epoch, logs):\n",
    "    # Function invoked at end of each epoch. Prints generated text.\n",
    "    print()\n",
    "    print('----- Generating text after Epoch: %d' % epoch)\n",
    "\n",
    "    start_index = random.randint(0, len(text) - maxlen - 1)\n",
    "    for diversity in [0.2, 0.5, 1.0, 1.2]:\n",
    "        print('----- diversity:', diversity)\n",
    "\n",
    "        generated = ''\n",
    "        sentence = text[start_index: start_index + maxlen]\n",
    "        generated += sentence\n",
    "        print('----- Generating with seed: \"' + sentence + '\"')\n",
    "        sys.stdout.write(generated)\n",
    "\n",
    "        for i in range(400):\n",
    "            x_pred = np.zeros((1, maxlen, len(chars)))\n",
    "            for t, char in enumerate(sentence):\n",
    "                x_pred[0, t, char_indices[char]] = 1.\n",
    "\n",
    "            preds = model_ckpt.predict(x_pred, verbose=0)[0]\n",
    "            next_index = sample(preds, diversity)\n",
    "            next_char = indices_char[next_index]\n",
    "\n",
    "            generated += next_char\n",
    "            sentence = sentence[1:] + next_char\n",
    "\n",
    "            sys.stdout.write(next_char)\n",
    "            sys.stdout.flush()\n",
    "        print()\n",
    "print_callback = LambdaCallback(on_epoch_end=on_epoch_end)"
   ]
  },
  {
   "cell_type": "code",
   "execution_count": 23,
   "metadata": {
    "id": "o7QZCuU5YBca"
   },
   "outputs": [],
   "source": [
    "### combining all of my callbacks\n",
    "\n",
    "callbacks = [print_callback, checkpoint, reduce_lr, es]"
   ]
  },
  {
   "cell_type": "markdown",
   "metadata": {
    "id": "1PHLNmGOYBcb"
   },
   "source": [
    "### 9.Training my RNN model"
   ]
  },
  {
   "cell_type": "markdown",
   "metadata": {
    "id": "Wy_3aHYIlDqV"
   },
   "source": [
    "- model is trained for 100 epoch"
   ]
  },
  {
   "cell_type": "code",
   "execution_count": 24,
   "metadata": {
    "colab": {
     "base_uri": "https://localhost:8080/"
    },
    "id": "ljBdvKorYBcb",
    "outputId": "76dd9e98-ad95-42dc-a6bc-ae4bbfb499bb"
   },
   "outputs": [
    {
     "name": "stdout",
     "output_type": "stream",
     "text": [
      "Epoch 1/100\n",
      "2362/2362 [==============================] - 157s 53ms/step - loss: 2.4123 - accuracy: 0.3209 - val_loss: 1.6215 - val_accuracy: 0.5411\n",
      "\n",
      "----- Generating text after Epoch: 0\n",
      "----- diversity: 0.2\n",
      "----- Generating with seed: \"d i had a great experience its fun learning this course and its a new way i had learned its a better\"\n",
      "d i had a great experience its fun learning this course and its a new way i had learned its a better and the course was the course and the course and the course and course and in the course and the programming and the course and the was a programming all wer and the course and and the programming and the and the course and the course and the course and the course and experine so me the course and in python and the course and in the course and in the course is a programming and is and the courser\n",
      "----- diversity: 0.5\n",
      "----- Generating with seed: \"d i had a great experience its fun learning this course and its a new way i had learned its a better\"\n",
      "d i had a great experience its fun learning this course and its a new way i had learned its a better and nod at hat and to the programming my experience in pythou ars the and tho geat on the was the course on programming. i  a learn and stuct course wan the besinn and experience course. \"  i  i way experience for ard more wor ard for be to contert be to teathen course as in the course in experience bo take and the pect reacly me to code in a course and the bect and the sore the course man a and \n",
      "----- diversity: 1.0\n",
      "----- Generating with seed: \"d i had a great experience its fun learning this course and its a new way i had learned its a better\"\n",
      "d i had a great experience its fun learning this course and its a new way i had learned its a bettere who lonkd, de greal the challes, program sserat in an ix menerts.  i very to aklly vithow   tout  excechts to gut do explain compning wyth at. s chaples mo hever prealizasing , y a drived to betof the wrel to the cow enounuthort, boy progradd, compond eter, quizchurs ar  lat kong ud python. coucting nat sa forestare to sor chaall sol so very geed in mat on progremmrag bas i dide\" such rame i- pr\n",
      "----- diversity: 1.2\n",
      "----- Generating with seed: \"d i had a great experience its fun learning this course and its a new way i had learned its a better\"\n",
      "d i had a great experience its fun learning this course and its a new way i had learned its a betterial,,. cill progeadion. wfo . a 'x eveby llof mes remente ana course. \"\"thos vand wisth busion fon god fhy us ther antreles to a part sore thy conputiran the iicesien to ngats. bingis, ani gablp truas in hiolssint.pychingl fars hhalig ,th be,wranging houm doo courder. ys uthadinnt pelrenc, and no bat u segveplif ore be ind oof ang tace at yfur elyoue alp to aigablit lewred ext teat of bod, efoo dr\n",
      "\n",
      "Epoch 00001: loss improved from inf to 2.07362, saving model to /content/gdrive/My Drive/Capstone/Data/\n",
      "Epoch 2/100\n",
      "2362/2362 [==============================] - 125s 53ms/step - loss: 1.6033 - accuracy: 0.5464 - val_loss: 1.3641 - val_accuracy: 0.6103\n",
      "\n",
      "----- Generating text after Epoch: 1\n",
      "----- diversity: 0.2\n",
      "----- Generating with seed: \"e whole course because it was really a good one. i feel this course is quiet good and for beginners \"\n",
      "e whole course because it was really a good one. i feel this course is quiet good and for beginners and easy to learn the course to learn the course is a great course is a great course is a good in the course is the course is a great course is a gaing the course is a great course is a great to learn python this course is a great course is a great course is a great course is a great course is a great to the programming and the course is a great course is very becine the course is a great course i\n",
      "----- diversity: 0.5\n",
      "----- Generating with seed: \"e whole course because it was really a good one. i feel this course is quiet good and for beginners \"\n",
      "e whole course because it was really a good one. i feel this course is quiet good and for beginners whith and the professor and and course the miss a no programming be the way to stread the course is a great every start this course with recammend i was a good programming and enjoyed this course for the best fill for me.                                                                                                                                                                                   \n",
      "----- diversity: 1.0\n",
      "----- Generating with seed: \"e whole course because it was really a good one. i feel this course is quiet good and for beginners \"\n",
      "e whole course because it was really a good one. i feel this course is quiet good and for beginners aricalleed codem in my masition for ma isceverontions think is everyon tit strechan ia hersstige juch so you i amplearces af expecientep at in python is grea to mithol with the compreatiels can the cesome gas lay a more with compleat lecjucext with ble speciinitily he wewhs cemels! in't a great destion legrioneprod if ecan edentele so explling pythen eany regrediticales i and very dring to ichall \n",
      "----- diversity: 1.2\n",
      "----- Generating with seed: \"e whole course because it was really a good one. i feel this course is quiet good and for beginners \"\n",
      "e whole course because it was really a good one. i feel this course is quiet good and for beginners for evereinge cimmodt.  \" hat\" language ofrec intpltto beives in expectisice an proveding. \" i enjaye to stodund it  ytho ladte ate.\" the canugeth iv jubs treditass wlith the way ho waking nebresp, thus chall awloollhin to ster are a siplly buningea fre., jugl to t!  wat arall full. enfilesting exarmenengt on acs about ctaing with exples felw donnt kifes really s, to my a learn firder sajy the cee\n",
      "\n",
      "Epoch 00002: loss improved from 2.07362 to 1.54459, saving model to /content/gdrive/My Drive/Capstone/Data/\n",
      "Epoch 3/100\n",
      "2362/2362 [==============================] - 125s 53ms/step - loss: 1.3911 - accuracy: 0.6020 - val_loss: 1.2401 - val_accuracy: 0.6442\n",
      "\n",
      "----- Generating text after Epoch: 2\n",
      "----- diversity: 0.2\n",
      "----- Generating with seed: \"were broken down into pieces and were presented in a very easy way !! thanks to dr.chuck to make thi\"\n",
      "were broken down into pieces and were presented in a very easy way !! thanks to dr.chuck to make this course is a great course and i could learn the course is a great course for the course for a great course for a great and the beginners and i loved the course is a great course to learn this course was a great course in the course is a great course for a way the course is a great course in the course is a great programming and i have a little and and the course is a great course for this course \n",
      "----- diversity: 0.5\n",
      "----- Generating with seed: \"were broken down into pieces and were presented in a very easy way !! thanks to dr.chuck to make thi\"\n",
      "were broken down into pieces and were presented in a very easy way !! thanks to dr.chuck to make this course in python and the interesting way all the course to easy to python learning in python for python in the not the programming for the learning python basic and founded that course introductory course ove all what course for a made me to learn python programming wan a fun a beginner in a programming course ad and i preationt thank you and the the basics to understand it not in python on way \n",
      "----- diversity: 1.0\n",
      "----- Generating with seed: \"were broken down into pieces and were presented in a very easy way !! thanks to dr.chuck to make thi\"\n",
      "were broken down into pieces and were presented in a very easy way !! thanks to dr.chuck to make this course can'tly basic course firs. this lective cansed ctarle. nctured in this exrellening for teaching or anyine whe of this course. to cauthes dr. proff python programming beginner for this course of no knofesses ofter that wet steptr. dodign to gle to an juch a fon love you so  s complets you learned to python stunts belieftion which quitek af my firo cading.! i had about  python war i am nate\n",
      "----- diversity: 1.2\n",
      "----- Generating with seed: \"were broken down into pieces and were presented in a very easy way !! thanks to dr.chuck to make thi\"\n",
      "were broken down into pieces and were presented in a very easy way !! thanks to dr.chuck to make this charles, evfrerhap man leat. \" \"  \"in ivernged be t-  exarced arome hiv lon un i juend yof mang helo in you vide. and promput courses.\" \"do.eawied!. \"mon; if youloway mechures to understand ig bat! . it deitly begin thing noge i grist not hours lady buckgrested.  frew whe muphal examtle gitto goof programming. expeciaacions fimeew, didgesity on   a  at aw lank as,icl of savionazuci, worljed mene\n",
      "\n",
      "Epoch 00003: loss improved from 1.54459 to 1.36691, saving model to /content/gdrive/My Drive/Capstone/Data/\n",
      "Epoch 4/100\n",
      "2362/2362 [==============================] - 127s 54ms/step - loss: 1.2817 - accuracy: 0.6303 - val_loss: 1.1847 - val_accuracy: 0.6572\n",
      "\n",
      "----- Generating text after Epoch: 3\n",
      "----- diversity: 0.2\n",
      "----- Generating with seed: \"ke to do more courses from herethank you!  great introduction to python and programming as a whole. \"\n",
      "ke to do more courses from herethank you!  great introduction to python and programming as a whole. i am a great course for a great course the best for the course in the course and the programming and i was a great course and this course the best fants to learn python and the way the programming and the way the course and the best of the course and the best course in the programming and i have a programming and all the best one of the beginners and i have a great course and the first course for \n",
      "----- diversity: 0.5\n",
      "----- Generating with seed: \"ke to do more courses from herethank you!  great introduction to python and programming as a whole. \"\n",
      "ke to do more courses from herethank you!  great introduction to python and programming as a whole. \"i am alazen and this is a suggesste this course to this course the best peasle the course and it with but this course with a great persons the class and i can learn python programming for the course. he professor as i have easy but also start do start to the way the best seccad for everyone who want to learn python programming and the instructor thanks to this course for started and the course an\n",
      "----- diversity: 1.0\n",
      "----- Generating with seed: \"ke to do more courses from herethank you!  great introduction to python and programming as a whole. \"\n",
      "ke to do more courses from herethank you!  great introduction to python and programming as a whole. thank you courses about detage but i'l very giver, i wastrutin woridich and everybody i amazing such thly fatiquity jast ou't bearned alle the ppesevero dishevera, and his great course thank you that alsilues helped my understandable, provides sure the quat. this course overall resormed deation.. i hid surh python thank for a very haggade, dr. chuck excored to goiduct on python fer seriending and \n",
      "----- diversity: 1.2\n",
      "----- Generating with seed: \"ke to do more courses from herethank you!  great introduction to python and programming as a whole. \"\n",
      "ke to do more courses from herethank you!  great introduction to python and programming as a whole. the exclainks! .\"e this course great deffic loss paht for sharta! past but easyotity geess. \"\"quich  programming sect!  \"the comening in whith dayagion hach.  ixke's experiende which severan\"  this is who has messor forwhibe an onentoong material. he meliou time ansperience micesss, amazing on pritn sps cussianch ofter heerode ever i sealled the patienp onl he want to codered best serquen un forwe\n",
      "\n",
      "Epoch 00004: loss improved from 1.36691 to 1.27215, saving model to /content/gdrive/My Drive/Capstone/Data/\n",
      "Epoch 5/100\n",
      "2362/2362 [==============================] - 127s 54ms/step - loss: 1.2158 - accuracy: 0.6479 - val_loss: 1.1389 - val_accuracy: 0.6707\n",
      "\n",
      "----- Generating text after Epoch: 4\n",
      "----- diversity: 0.2\n",
      "----- Generating with seed: \" want to thank prof. charles severance very much he is suck a great teacher, i'm looking forward to \"\n",
      " want to thank prof. charles severance very much he is suck a great teacher, i'm looking forward to programming and i was a great course to learn python and the professor course is a great and the course is a great course. the course is a great to make a lot of the best course is a great course and the most pass of python and the course is a great course is a great python and i could start to programming language in python and the instructor is a great course and the course with python and the w\n",
      "----- diversity: 0.5\n",
      "----- Generating with seed: \" want to thank prof. charles severance very much he is suck a great teacher, i'm looking forward to \"\n",
      " want to thank prof. charles severance very much he is suck a great teacher, i'm looking forward to programming language in programming languages, enjoyed the professor charles severance was a complement for speciall in python in python and a new to programming language. i would have a beginners and the course is a coppreed on the beginners is great python to get and to acread and the course for a little and the online course. i have a continue to start students was good course!  i really enjoye\n",
      "----- diversity: 1.0\n",
      "----- Generating with seed: \" want to thank prof. charles severance very much he is suck a great teacher, i'm looking forward to \"\n",
      " want to thank prof. charles severance very much he is suck a great teacher, i'm looking forward to completint actually montally pythrn.\" \"goath you begin experience! ! the englasing python is dr as good aw the. is videos. a way able to itcaute that. thoougrneverany\" \"this wade able to pare coding enjoyed to firs, as way this incrlatios quick so the gatt-fom the beginsing learning explaining. it suggesi e decfaring python ser.  \"i how very efrything and class ond very intantto provided    purgli\n",
      "----- diversity: 1.2\n",
      "----- Generating with seed: \" want to thank prof. charles severance very much he is suck a great teacher, i'm looking forward to \"\n",
      " want to thank prof. charles severance very much he is suck a great teacher, i'm looking forward to be addiga all, over which i dorng senion   \"wayaytor profisiniss.buch by wade a digfor. are the awstamts to dasable skesf, i mys, more very classis were sebjoor fer-bestariladiadong, and lenture: dusigh to laffes as coll. for inderfted for eacesting of this capt add oll meghos with ablet as terencole easpurive and for steme abver. i loved a tot quick uss the othen.\" \"i loviny this courses  \" comin\n",
      "\n",
      "Epoch 00005: loss improved from 1.27215 to 1.21053, saving model to /content/gdrive/My Drive/Capstone/Data/\n",
      "Epoch 6/100\n",
      "2362/2362 [==============================] - 127s 54ms/step - loss: 1.1694 - accuracy: 0.6593 - val_loss: 1.1110 - val_accuracy: 0.6767\n",
      "\n",
      "----- Generating text after Epoch: 5\n",
      "----- diversity: 0.2\n",
      "----- Generating with seed: \" soul rest in peace . i am looking forward to the next part of programming for everybody  with data \"\n",
      " soul rest in peace . i am looking forward to the next part of programming for everybody  with data and it is a great course for anyone who wants to programming for me to anyone who wants to learn python and the programming language and it was a great course for anyone who wants to learn python for and i was a great course. i would recommend this course for me to understand the course to anyone who wants to learn python in the course to anyone who wants to learn python and it was a great course \n",
      "----- diversity: 0.5\n",
      "----- Generating with seed: \" soul rest in peace . i am looking forward to the next part of programming for everybody  with data \"\n",
      " soul rest in peace . i am looking forward to the next part of programming for everybody  with data specialization mane the programming for everybody as some programming sucel and interesting inders and explains the course for beginners who wants to start course as world in python for everyone that is a great course to anyone who wants to learn it to de the course in a programming language and it is a good course for me in the course as while interation and i am not get the course in the course \n",
      "----- diversity: 1.0\n",
      "----- Generating with seed: \" soul rest in peace . i am looking forward to the next part of programming for everybody  with data \"\n",
      " soul rest in peace . i am looking forward to the next part of programming for everybody  with data soluable for everybody  in my ead farter with the and the was to difficult ala stapte. i'll lote but comportant, friends, liok.hisper help of the basic\"\" \"nowleding actually endafiers and code skills lot of mone for some me. the quare. as it is not gued in some of dr. chuck. do.has the noxpertin to explain python, assignment notring thatghous courses !'t is antenmed to \"it the worle a way, coding \n",
      "----- diversity: 1.2\n",
      "----- Generating with seed: \" soul rest in peace . i am looking forward to the next part of programming for everybody  with data \"\n",
      " soul rest in peace . i am looking forward to the next part of programming for everybody  with data in the mechance of inferm!\" \"i have more withed and undermynu ine exerclly high had. while very didetion .r challegesting froum clearly and its.\" \"grask and dofes..gabking.i hegh thunsioved events is viring pythonion started wny i'd a cland!\" \"muatio smally.good programmingefured add wandatuagation anong hor stod atoround experience, the hadel new starting a beginner first. the lorp. dr. chuck hou\n",
      "\n",
      "Epoch 00006: loss improved from 1.21053 to 1.16567, saving model to /content/gdrive/My Drive/Capstone/Data/\n",
      "Epoch 7/100\n",
      "2362/2362 [==============================] - 130s 55ms/step - loss: 1.1312 - accuracy: 0.6677 - val_loss: 1.0924 - val_accuracy: 0.6818\n",
      "\n",
      "----- Generating text after Epoch: 6\n",
      "----- diversity: 0.2\n",
      "----- Generating with seed: \"asics of python. i hope i'll keep learning that much a long the rest of the speciealization. thank y\"\n",
      "asics of python. i hope i'll keep learning that much a long the rest of the speciealization. thank you for me to learn python and the programming language. the instructor is a great course for me to learn python and the programming language. the course is a great courses and the course and the way to learn the basics of python and the programming language and easy to understand and i was a great courses to learn the course and the course and i have a great courses and the assignments and the cou\n",
      "----- diversity: 0.5\n",
      "----- Generating with seed: \"asics of python. i hope i'll keep learning that much a long the rest of the speciealization. thank y\"\n",
      "asics of python. i hope i'll keep learning that much a long the rest of the speciealization. thank you dr. chuck is a very good programming language and informating and easy to understand the course background and but the coursera in a person and interested in the famuliation and i have no programming ling to learn the first person and the programming language in python and the assignments what i will so thoro programming language. the way to the professor charles severance. the course is a grea\n",
      "----- diversity: 1.0\n",
      "----- Generating with seed: \"asics of python. i hope i'll keep learning that much a long the rest of the speciealization. thank y\"\n",
      "asics of python. i hope i'll keep learning that much a long the rest of the speciealization. thank you material was prefite the basics on amply with the beginners! i lave tisting, thankyou .and great, then or program into my deppeccedved whre i love these formes.\" \"i thanks to the concepts and making it. very free at first course. \" \" \" free been a good forpe way many !.!. it was great!\" antere classes to go dr.chuck it was personal . this was about programming. and the materials has to udinitre\n",
      "----- diversity: 1.2\n",
      "----- Generating with seed: \"asics of python. i hope i'll keep learning that much a long the rest of the speciealization. thank y\"\n",
      "asics of python. i hope i'll keep learning that much a long the rest of the speciealization. thank you.!\"    diving  wrick. to such    \" and with explacation . welare to programment. the lectures and ib a wandote of the hasivinifol.\" \"this knowledge,\" python :do knowing coding well pretentre simpliart longmix fruc aw-only and himpletto platent to dignthe cortent, but petcents borus, learn python if an all intereated couls remithers. the pare, but just labped and whothid, to love you fon leop on \n",
      "\n",
      "Epoch 00007: loss improved from 1.16567 to 1.13128, saving model to /content/gdrive/My Drive/Capstone/Data/\n",
      "Epoch 8/100\n",
      "2362/2362 [==============================] - 128s 54ms/step - loss: 1.1009 - accuracy: 0.6763 - val_loss: 1.0760 - val_accuracy: 0.6862\n",
      "\n",
      "----- Generating text after Epoch: 7\n",
      "----- diversity: 0.2\n",
      "----- Generating with seed: \"uch is crammed into such short lectures, and yet the material is still accessible.  \" \"this is a rev\"\n",
      "uch is crammed into such short lectures, and yet the material is still accessible.  \" \"this is a review the course with python and i was a great programming language. the course is a great programming language. the course was a great course for the course. i am a great course for beginners who wants to learn python programming background in python and i was a great course. the course is very good course for the course i am a great course. the course is a great programming language. i will recomm\n",
      "----- diversity: 0.5\n",
      "----- Generating with seed: \"uch is crammed into such short lectures, and yet the material is still accessible.  \" \"this is a rev\"\n",
      "uch is crammed into such short lectures, and yet the material is still accessible.  \" \"this is a review the beginners. i started to get studying python language. the instructor programming. i had so i fast the learners and enthusiast. the course is very helpful for beginner. this course is well dain in the course passes, and for this course to the most interested in the most interesting in python for sumer and a so incroding this course to complete the course.  thanks to the most programming for\n",
      "----- diversity: 1.0\n",
      "----- Generating with seed: \"uch is crammed into such short lectures, and yet the material is still accessible.  \" \"this is a rev\"\n",
      "uch is crammed into such short lectures, and yet the material is still accessible.  \" \"this is a review your sluen to learn programmer programmer, i renely the appriaching and assignmentaly and still like for sulite in the feel is mates i would specifie the dr.chuck's dr. chuck is a wonderouy to-python for beginners to my exaic taic a oftime expecting after knowledge of the beghes; i get be will do programming was preasofis tobugh a lot of compure students for the pothon provind iss of not pytho\n",
      "----- diversity: 1.2\n",
      "----- Generating with seed: \"uch is crammed into such short lectures, and yet the material is still accessible.  \" \"this is a rev\"\n",
      "uch is crammed into such short lectures, and yet the material is still accessible.  \" \"this is a reviewol for yepecaol . so this out this capt if you..dowly the way of you so bacedaring pything some coding.\" \"professor my mrre the henpion overitimates hisommanking.he con a real peaplinatate. im away of explaining bigrting me. make s goovt! levers it.\" \" \"this coume zecoure, all the professarize.\" \"pech appreciated\"\" whilhed usile. moeaf i a\" completed at be.  they an what would  evere be't heat \n",
      "\n",
      "Epoch 00008: loss improved from 1.13128 to 1.10201, saving model to /content/gdrive/My Drive/Capstone/Data/\n",
      "Epoch 9/100\n",
      "2362/2362 [==============================] - 128s 54ms/step - loss: 1.0750 - accuracy: 0.6830 - val_loss: 1.0624 - val_accuracy: 0.6902\n",
      "\n",
      "----- Generating text after Epoch: 8\n",
      "----- diversity: 0.2\n",
      "----- Generating with seed: \"of coding. \" \"awesome explanation of basic programming with python.in this course i have learned inp\"\n",
      "of coding. \" \"awesome explanation of basic programming with python.in this course i have learned inpresting and the explains the course is a great course for beginners in python and i am a really good course for beginners is very entiles and completed the course and helpful for programming language in a starting the course in the course is very easy to understand and the end of the course is very field to learn python for providing and its start to the best course i have a great course to learn \n",
      "----- diversity: 0.5\n",
      "----- Generating with seed: \"of coding. \" \"awesome explanation of basic programming with python.in this course i have learned inp\"\n",
      "of coding. \" \"awesome explanation of basic programming with python.in this course i have learned inpross python is only into courses are students with a students if you are so much is very delore to the course to me to learn python is but if you have never the professor is the basics of programming was a best of the professor charles severance is very easy to understand and its the best course i had learned programming language. the course is a programmen this course is a great course, i am comp\n",
      "----- diversity: 1.0\n",
      "----- Generating with seed: \"of coding. \" \"awesome explanation of basic programming with python.in this course i have learned inp\"\n",
      "of coding. \" \"awesome explanation of basic programming with python.in this course i have learned inprodement course i have a been communedd who are simply teaching python course. sthung this course in hept more charles  phe quizz aro difficieting any programming experience be to mater better as i personmed and divelnes about programming.if me for intermative.. its alsighant having a little enjoyed to programming i did my fne, usifuchul to \"the sessemewid an awesome.the instructor. recaked to mat\n",
      "----- diversity: 1.2\n",
      "----- Generating with seed: \"of coding. \" \"awesome explanation of basic programming with python.in this course i have learned inp\"\n",
      "of coding. \" \"awesome explanation of basic programming with python.in this course i have learned inpled first quifel, that while just taken.  or those which week!\" founded time of computer co chipp i success. very thankmy imatomswise ot teacher,, the assognate lasp malrable completi. had started wiphtrougl to atstarts them furdnting e enoura-tir! learning experiences thanks. it!\" before recoursing har beef wirh's they basics and.want to cearning pith me, goinis tom though stams that's hus so c v\n",
      "\n",
      "Epoch 00009: loss improved from 1.10201 to 1.07843, saving model to /content/gdrive/My Drive/Capstone/Data/\n",
      "Epoch 10/100\n",
      "2362/2362 [==============================] - 129s 55ms/step - loss: 1.0527 - accuracy: 0.6886 - val_loss: 1.0516 - val_accuracy: 0.6930\n",
      "\n",
      "----- Generating text after Epoch: 9\n",
      "----- diversity: 0.2\n",
      "----- Generating with seed: \"d easy to follow. \" \"excellent way to start understanding the core concepts and syntax of python. do\"\n",
      "d easy to follow. \" \"excellent way to start understanding the core concepts and syntax of python. do started with the code and the way the course is a great programming language. this is a great course i have take this course to at the student to at the such a great course for those who are an excellent course for those who are some on the best python and i am a great course for the course and the exercises and the explanations and the instructor is a great course and i have a briled to learn py\n",
      "----- diversity: 0.5\n",
      "----- Generating with seed: \"d easy to follow. \" \"excellent way to start understanding the core concepts and syntax of python. do\"\n",
      "d easy to follow. \" \"excellent way to start understanding the core concepts and syntax of python. do for a great course and don't have an easy and concepts or programming language. i have learned forward to programming and i have never thought in a fun as the fillos and exercises and for a brolked and a lot of for a beginner like me a  in python and the assignments are very made fun. the course is a great course in the online course, i would have like this course and the videos is very entile an\n",
      "----- diversity: 1.0\n",
      "----- Generating with seed: \"d easy to follow. \" \"excellent way to start understanding the core concepts and syntax of python. do\"\n",
      "d easy to follow. \" \"excellent way to start understanding the core concepts and syntax of python. doust.  i found it on all the rives probleming the  wand to beginters. if you'rs not onll it but then my course, s really more incestent id jos but didnting enthual of his unior hin simporformand!\" maning the selt ghat of very clear and hepply.thanks  i would vares lectures without sechis shomlor.   he is so little tok. bettere was only enough time this course will getting about the teac in a very a\n",
      "----- diversity: 1.2\n",
      "----- Generating with seed: \"d easy to follow. \" \"excellent way to start understanding the core concepts and syntax of python. do\"\n",
      "d easy to follow. \" \"excellent way to start understanding the core concepts and syntax of python. doking programming, without her. i geilst mich for nodics ware. dr.chuck extremesticules kor thoure to boust bjift i have buindy to go. of helps indead to colp-have with lock! he helped hevestmm. when i'lly fun and professor, in lect on myself lizes, this is parsine.. thank you, opromethory in go forus goef of enschulling. i heghing athoum fixing an engauing flwarner! dr. severance \"\" excellent prov\n",
      "\n",
      "Epoch 00010: loss improved from 1.07843 to 1.05831, saving model to /content/gdrive/My Drive/Capstone/Data/\n",
      "Epoch 11/100\n",
      "2362/2362 [==============================] - 131s 55ms/step - loss: 1.0363 - accuracy: 0.6925 - val_loss: 1.0500 - val_accuracy: 0.6953\n",
      "\n",
      "----- Generating text after Epoch: 10\n",
      "----- diversity: 0.2\n",
      "----- Generating with seed: \"iar with python.the lectures by dr.chuck is easily understanding and explains with time. also give a\"\n",
      "iar with python.the lectures by dr.chuck is easily understanding and explains with time. also give and the instructor is very good and the basics of python and the exercises are explained the course is very easy to understand the programming languages and also the most if your course this course is a great course to learn python and the explained so many the best programming language. the instructor is a very good course for the basics of python and the instructor is a great course for those who\n",
      "----- diversity: 0.5\n",
      "----- Generating with seed: \"iar with python.the lectures by dr.chuck is easily understanding and explains with time. also give a\"\n",
      "iar with python.the lectures by dr.chuck is easily understanding and explains with time. also give and assignments and assignments to do the basics of python programming language. this course is very interesting programming languages and even for a beginner with the first online course for the course have all the explanation is the information to programming learning python language. my university of mister so much while learned a lot. thank you for the short of my dr. chuck is very good course \n",
      "----- diversity: 1.0\n",
      "----- Generating with seed: \"iar with python.the lectures by dr.chuck is easily understanding and explains with time. also give a\"\n",
      "iar with python.the lectures by dr.chuck is easily understanding and explains with time. also give addate the suquer though this course is from the things if you these anl amazoned notherally, add theling journey challenging in dif learnings  \"aftly sigituer detailst in the lectures. right mayboring you to wnice capts trangis course usive. but this work to take program so c happy     .  .  vary guiget importantly. i tiind a quizzes who don't take this course. thanks his the building and sucker o\n",
      "----- diversity: 1.2\n",
      "----- Generating with seed: \"iar with python.the lectures by dr.chuck is easily understanding and explains with time. also give a\"\n",
      "iar with python.the lectures by dr.chuck is easily understanding and explains with time. also give alversswed in c werr-on-japte. i thisk so what, previous parceh programming  soos good stautereing. i knelique frreatiag for bogin at your vara computor mach much i rechime at their. \"\"\"have loves some thet persons are waysinity all amientely wortitient each ass gaining that their specialization, and - just not some assigrs wis oun witt python's furtustralles but would take that to drambich out of \n",
      "\n",
      "Epoch 00011: loss improved from 1.05831 to 1.04035, saving model to /content/gdrive/My Drive/Capstone/Data/\n",
      "Epoch 12/100\n",
      "2362/2362 [==============================] - 130s 55ms/step - loss: 1.0181 - accuracy: 0.6967 - val_loss: 1.0406 - val_accuracy: 0.6975\n",
      "\n",
      "----- Generating text after Epoch: 11\n",
      "----- diversity: 0.2\n",
      "----- Generating with seed: \"l. take this course if you are totally new to programming world.\" \"step by step approach. always an \"\n",
      "l. take this course if you are totally new to programming world.\" \"step by step approach. always an excellent course for a beginner which was a great course for a beginner which makes the course is very good and i am a great course for the beginners and i am a great course for beginners. it was a great course for a beginner and the best course is a great course for a basic interested in programming language in a study which i think this course is a great teacher is a great and i would started th\n",
      "----- diversity: 0.5\n",
      "----- Generating with seed: \"l. take this course if you are totally new to programming world.\" \"step by step approach. always an \"\n",
      "l. take this course if you are totally new to programming world.\" \"step by step approach. always an introduction to python and programming language and the expert and i am not some programming in a mann't make you want to start learning the course i am really love the one of the say the way i will see the course is very good to learn programming language in a basic interested in programming language you to be about programming language that i was a great experience with a brout be uper of the ve\n",
      "----- diversity: 1.0\n",
      "----- Generating with seed: \"l. take this course if you are totally new to programming world.\" \"step by step approach. always an \"\n",
      "l. take this course if you are totally new to programming world.\" \"step by step approach. always an amazing ledrem a perfect, it was well explaining this course and course and 'an't understand programming, days. all and many that it covers consiginn reak that i can't advalue alloon coursera courses that i've never skill of programming. it is great a codent!! never even commend this experience with completalf. i'm vero inter the best learning the free taking your-basic  simply and i you learn bui\n",
      "----- diversity: 1.2\n",
      "----- Generating with seed: \"l. take this course if you are totally new to programming world.\" \"step by step approach. always an \"\n",
      "l. take this course if you are totally new to programming world.\" \"step by step approach. always an advanice fonushing challengis was through simes jo busy ques, material   good sagtitual week, provide such as peeftricitation.   .  y  comvinged to be computen mant. easier to how the level. if you're. akidually joy introducts who words to learn how to conding class and offeraling knowledg. under you completing i neadone with himpresced stufys. gave ob at of sarat    you this course is betterims y\n",
      "\n",
      "Epoch 00012: loss improved from 1.04035 to 1.02383, saving model to /content/gdrive/My Drive/Capstone/Data/\n",
      "Epoch 13/100\n",
      "2362/2362 [==============================] - 131s 55ms/step - loss: 1.0036 - accuracy: 0.7006 - val_loss: 1.0426 - val_accuracy: 0.6954\n",
      "\n",
      "----- Generating text after Epoch: 12\n",
      "----- diversity: 0.2\n",
      "----- Generating with seed: \" has the most engaging and dedicated instructor, the pace is just right and the course material is s\"\n",
      " has the most engaging and dedicated instructor, the pace is just right and the course material is so much for beginners who doesn't an excellent course for a lot of to do the content and it was a great introduction to python and it was a great course for me to complete the course and also the course is a great course and i would like to start learning python and i could learn a lot of the course and i could learn a lot of experience with the concepts and as a great course for the course and and\n",
      "----- diversity: 0.5\n",
      "----- Generating with seed: \" has the most engaging and dedicated instructor, the pace is just right and the course material is s\"\n",
      " has the most engaging and dedicated instructor, the pace is just right and the course material is supportant and the first stuck i can take this course and the assignments are contents to learn python for me to be able to understand free programming course, and i am such as amazing course and enjoyable students that much is a beginner who wants to learn python and it is not a beginner in some online course that he is an amazing course for the course is a great interesting and and how the code w\n",
      "----- diversity: 1.0\n",
      "----- Generating with seed: \" has the most engaging and dedicated instructor, the pace is just right and the course material is s\"\n",
      " has the most engaging and dedicated instructor, the pace is just right and the course material is suite a so many continue't day much.     but they will go starts, but that he happy coursere terlicass. how. this course is satilach-quettines a new-lers, and ampleshel to get sont if you hald to hours starting that course course awesome who are ankextedeming concept istam anstanting. i can have any conngribue  periog for this wantertal and jom that and  it not just be basic planering python from t\n",
      "----- diversity: 1.2\n",
      "----- Generating with seed: \" has the most engaging and dedicated instructor, the pace is just right and the course material is s\"\n",
      " has the most engaging and dedicated instructor, the pace is just right and the course material is something becare.thank ys: in albhe-.., anyone, and moking on couchanse, i wis not an lecturess fartarts silp for making the new s, this is a with python. i'd learne to taught deaching. it tough please sement studynonglests while knowledge of a chists of given  here here to anybome without. prof  my very eforedf course it uset for this course to pigh aramupances. however   this course. also i found\n",
      "\n",
      "Epoch 00013: loss improved from 1.02383 to 1.00908, saving model to /content/gdrive/My Drive/Capstone/Data/\n",
      "Epoch 14/100\n",
      "2362/2362 [==============================] - 130s 55ms/step - loss: 0.9902 - accuracy: 0.7047 - val_loss: 1.0390 - val_accuracy: 0.6987\n",
      "\n",
      "----- Generating text after Epoch: 13\n",
      "----- diversity: 0.2\n",
      "----- Generating with seed: \" introduction to python!\" \"it is my first course on coursera and i am very happy to complete it. its\"\n",
      " introduction to python!\" \"it is my first course on coursera and i am very happy to complete it. its a very good course for the best course i have learned a lot of that i have learned a lot of that i have learned a lot of that i have never learning python for everybody with computer science and i think this course is very good course for me to learn python skills. the course is very good course for a fantastic course with no programming languages and complete this course for those who wants to s\n",
      "----- diversity: 0.5\n",
      "----- Generating with seed: \" introduction to python!\" \"it is my first course on coursera and i am very happy to complete it. its\"\n",
      " introduction to python!\" \"it is my first course on coursera and i am very happy to complete it. its good and i took it very helpful in this course. the professor is also explained the basics of python course. the course is very good course for beginners.\" \"                                                                                                                                                                                                                                                  \n",
      "----- diversity: 1.0\n",
      "----- Generating with seed: \" introduction to python!\" \"it is my first course on coursera and i am very happy to complete it. its\"\n",
      " introduction to python!\" \"it is my first course on coursera and i am very happy to complete it. itsesselict and speciatilg shit other programmers pourtiol,.\" \"i really recommend this course and preferts -and wonte to complite my can in then within a weekly taking it i ever crueted worked course, this course is auto of experience with the programming. i challedgute into my first python code who want of courses and i tough the exercise to have any has part other programming languages, how the ras\n",
      "----- diversity: 1.2\n",
      "----- Generating with seed: \" introduction to python!\" \"it is my first course on coursera and i am very happy to complete it. its\"\n",
      " introduction to python!\" \"it is my first course on coursera and i am very happy to complete it. its make a pert goll ceach inglidmen watcher is pirarming to style problems, li' kno envelibetting of tr. programming language. \"searnclises exelcest more free way of other ling tickupion r pourted by lecture wrot. i like to finish loak , firsiances in any commanbl, in python for everybody\" explen to gives a manker. itwastram, his dr. chuck is alwholk,fict. nide each litf.i litt also aroumiontl's fro\n",
      "\n",
      "Epoch 00014: loss improved from 1.00908 to 0.99545, saving model to /content/gdrive/My Drive/Capstone/Data/\n",
      "Epoch 15/100\n",
      "2362/2362 [==============================] - 131s 55ms/step - loss: 0.9749 - accuracy: 0.7085 - val_loss: 1.0390 - val_accuracy: 0.6971\n",
      "\n",
      "----- Generating text after Epoch: 14\n",
      "----- diversity: 0.2\n",
      "----- Generating with seed: \"mely useful to quickly and efficiently learn python basics. dr. chuck has a special ability to teach\"\n",
      "mely useful to quickly and efficiently learn python basics. dr. chuck has a special ability to teach and the basic programming language in a programming language in programming through the course.                                                                                                                                                                                                                                                                                                                \n",
      "----- diversity: 0.5\n",
      "----- Generating with seed: \"mely useful to quickly and efficiently learn python basics. dr. chuck has a special ability to teach\"\n",
      "mely useful to quickly and efficiently learn python basics. dr. chuck has a special ability to teach something in the fact that i think this is the best course i have no programming background of python for a completed the information insperient and programming to continue with python and you want to know the fundamentals of programming through the book in python. good for someone who has novid it for the such a great course for you the basics of programming in python. dr. chuck is very basic co\n",
      "----- diversity: 1.0\n",
      "----- Generating with seed: \"mely useful to quickly and efficiently learn python basics. dr. chuck has a special ability to teach\"\n",
      "mely useful to quickly and efficiently learn python basics. dr. chuck has a special ability to teach us to hepre  \"probleably that at the problem, i really improve this working my amazing courses and material to show the python or understand who shist own programing that i took.this is the course. i would done ove uniaring and creative us simple and coding broking\"\" duilly complece by step, by there fan and easy to ungerst topics that a was start from a couss of python stalling the restire to an\n",
      "----- diversity: 1.2\n",
      "----- Generating with seed: \"mely useful to quickly and efficiently learn python basics. dr. chuck has a special ability to teach\"\n",
      "mely useful to quickly and efficiently learn python basics. dr. chuck has a special ability to teachep with interestions and a very preate elsothing,chance to keeps you knowing ittorite material. it is sy ther that is useful has mentorial instructor-lank easy to ease to big the moment, strong without great all ie now. don't thorough open some videod watch my school as more and it will be sud way to get behin basic, bohid. course teaches, just when you can be someone rit presentations what highly\n",
      "\n",
      "Epoch 00015: loss improved from 0.99545 to 0.98222, saving model to /content/gdrive/My Drive/Capstone/Data/\n",
      "Epoch 16/100\n",
      "2362/2362 [==============================] - 131s 55ms/step - loss: 0.9573 - accuracy: 0.7128 - val_loss: 1.0396 - val_accuracy: 0.6986\n",
      "\n",
      "----- Generating text after Epoch: 15\n",
      "----- diversity: 0.2\n",
      "----- Generating with seed: \"have experienced matlab programming but i don't really know any basics or definition of the terms pe\"\n",
      "have experienced matlab programming but i don't really know any basics or definition of the terms perfect for beginners with like the course in the course and the course is very clear and clear and i can be the best course i have never code with professor chuck is a great course for beginners to learn python is a very basics and also the material is very clear and the best course i have never help me to complete the course and the course is a great course for beginners that is a very good course\n",
      "----- diversity: 0.5\n",
      "----- Generating with seed: \"have experienced matlab programming but i don't really know any basics or definition of the terms pe\"\n",
      "have experienced matlab programming but i don't really know any basics or definition of the terms perfect for the specialization and he explains everything and the beginner was a great course that i can ow learning python programming language. mrack courses and a perfect programming   so the professor who is explained allure of explained so i don't learn python so that it is a very finished course. the lecture was very clear and complete and good course that i could fonus a bit too start in a be\n",
      "----- diversity: 1.0\n",
      "----- Generating with seed: \"have experienced matlab programming but i don't really know any basics or definition of the terms pe\"\n",
      "have experienced matlab programming but i don't really know any basics or definition of the terms persons to sure the video specialize way to sapt      you cann't rearn same his practical chuck's explained python for englied. the little taken to specially to think they rearning. information and clear thinking the pace us to materine autoos and materials and i the no programming course!  \" which can understand ham has grad.    i love that. \" but afterts repeftectstrest wnote is the reasful in sup\n",
      "----- diversity: 1.2\n",
      "----- Generating with seed: \"have experienced matlab programming but i don't really know any basics or definition of the terms pe\"\n",
      "have experienced matlab programming but i don't really know any basics or definition of the terms peise; but also, \"\" with evey sughing i learned in python. \"professor course gase with anythine. you professor all wenze is quifl and creain'tary. like coporern. or sometial that contand  site.dr. chuck freel but that lectures by definitely, themials. thorough and professor, the leginns videos as atmind resuullanion inally sign up and clearly learning com and problem. manble topic thanks to sy taxes\n",
      "\n",
      "Epoch 00016: loss improved from 0.98222 to 0.96956, saving model to /content/gdrive/My Drive/Capstone/Data/\n",
      "Epoch 17/100\n",
      "2362/2362 [==============================] - 130s 55ms/step - loss: 0.9468 - accuracy: 0.7153 - val_loss: 1.0377 - val_accuracy: 0.6988\n",
      "\n",
      "----- Generating text after Epoch: 16\n",
      "----- diversity: 0.2\n",
      "----- Generating with seed: \"nish it in   days. overall great course! go blue!\" this was a great course but i have one big proble\"\n",
      "nish it in   days. overall great course! go blue!\" this was a great course but i have one big problems and the course is a great experience and i would signd the best course that is a great course for beginners and the material is very helpful for beginners with the course in the course and the material is a very good and the best course is a great course in the course and helpful to learn python to the next course for beginners with my first course to learn python for beginners and the material\n",
      "----- diversity: 0.5\n",
      "----- Generating with seed: \"nish it in   days. overall great course! go blue!\" this was a great course but i have one big proble\"\n",
      "nish it in   days. overall great course! go blue!\" this was a great course but i have one big problems. the course is amazing experience and learned any computer a new course for you to learn python. i really learn this course. i had a not and the really good experience but got a very easy to understand and also, the course is a really good and it was a great place to start and helpful in this course. the course is awesome and the way the way the course was about the course in the course in the \n",
      "----- diversity: 1.0\n",
      "----- Generating with seed: \"nish it in   days. overall great course! go blue!\" this was a great course but i have one big proble\"\n",
      "nish it in   days. overall great course! go blue!\" this was a great course but i have one big problems and the assignment  i will be truit to start how thank us a  ofically learned to make this course! the course is got a  if you to learn enganing and these all this course cores from othershand in my creaticely manner. alsogranit for he has a lot of enopy a profeeding programmer. i'd ginning this chapter can enjoying is so in. python all those grow it approbed adverssefie pressover who hears cha\n",
      "----- diversity: 1.2\n",
      "----- Generating with seed: \"nish it in   days. overall great course! go blue!\" this was a great course but i have one big proble\"\n",
      "nish it in   days. overall great course! go blue!\" this was a great course but i have one big problems.\" this is a mat alsosy in non computer. the caurher's fatchator. \"loved this course , python learners,i nite classes coded programmer howece and hassftellucture.  \" \"i do nic granteina!ing python!\" \"morear on the subzes, vious to know who others the nistrocloss are meghater wrulenaly on unique you oun one creasing and it's outh the course tot termuted a stusg; s mything related pleadr. very tha\n",
      "\n",
      "Epoch 00017: loss improved from 0.96956 to 0.95742, saving model to /content/gdrive/My Drive/Capstone/Data/\n",
      "Epoch 18/100\n",
      "2362/2362 [==============================] - 131s 56ms/step - loss: 0.9354 - accuracy: 0.7192 - val_loss: 1.0458 - val_accuracy: 0.6962\n",
      "\n",
      "----- Generating text after Epoch: 17\n",
      "----- diversity: 0.2\n",
      "----- Generating with seed: \"her courses by doctor charles severance, continuing  this series of python learning.  at last i woul\"\n",
      "her courses by doctor charles severance, continuing  this series of python learning.  at last i would recommend this course to anyone who has no prior knowledge in programming and the course is a great course for a lot of on it and the course was a great teacher is very good and i am a great course for a big please in the basics of python and the course wish it as it was a great course for a familiar with the course and the instructor is very easy to understand the basics of python and the cours\n",
      "----- diversity: 0.5\n",
      "----- Generating with seed: \"her courses by doctor charles severance, continuing  this series of python learning.  at last i woul\"\n",
      "her courses by doctor charles severance, continuing  this series of python learning.  at last i would have to this course for this course is difficult to take this course and this was a great teacher modios of this course and this course is amazing experience in python in programming course. i am so for this course and the teacher is great and i enjoyed this course and this is a great platform to coursera and the assignments with getting started with the exercises and the instructor is great fun\n",
      "----- diversity: 1.0\n",
      "----- Generating with seed: \"her courses by doctor charles severance, continuing  this series of python learning.  at last i woul\"\n",
      "her courses by doctor charles severance, continuing  this series of python learning.  at last i would be more material with more. it is explain with it. there i've inter do it something make it as impress dod. for a lot in this course with help and coursesa sy the instructor this course is am matermant. after refering to programming. for shead but i had dr. chuck aslay. he explains sevies with putting i was wast to mest lecturer so coursera a grout .\" \"i've ease enrolling ty  programming skills.\n",
      "----- diversity: 1.2\n",
      "----- Generating with seed: \"her courses by doctor charles severance, continuing  this series of python learning.  at last i woul\"\n",
      "her courses by doctor charles severance, continuing  this series of python learning.  at last i would like if yoh thoso offerliatios i gind python i founs i really want to learn all the course furtater that. dowf simpres of programming of videos stets nevers as wisk\" very chatler is within petsing a programming fnotr addet or to get the assignment, very impress tnacks of programming, quekti'm highly recommend lackd to seone with suxcitlamentays, fores now's going mrod course is worked. c approad\n",
      "\n",
      "Epoch 00018: loss improved from 0.95742 to 0.94468, saving model to /content/gdrive/My Drive/Capstone/Data/\n",
      "Epoch 19/100\n",
      "2362/2362 [==============================] - 131s 56ms/step - loss: 0.9213 - accuracy: 0.7225 - val_loss: 1.0486 - val_accuracy: 0.6987\n",
      "\n",
      "----- Generating text after Epoch: 18\n",
      "----- diversity: 0.2\n",
      "----- Generating with seed: \"wn in simple form. the coursera platform is sometimes a bit quirky but otherwise the content in this\"\n",
      "wn in simple form. the coursera platform is sometimes a bit quirky but otherwise the content in this course is a great course for beginners with learning python for everybody course is a great experience in python and i can others was my first language. i think it would like to start from the course and the course is a great course and the course is very good and i was able to complete the course in the course and the course is a great course for a beginners. i have tried my engaging and easy to\n",
      "----- diversity: 0.5\n",
      "----- Generating with seed: \"wn in simple form. the coursera platform is sometimes a bit quirky but otherwise the content in this\"\n",
      "wn in simple form. the coursera platform is sometimes a bit quirky but otherwise the content in this course is a great teacher! \" \"this is a great course for beginners with the beginning. i would like to start from the code and a more interesting. it was a really good and i could be understand the course in the first course i have learned a lot to programming language and a student thinking is extremely recommend this course to anyone who want to get interesting course for python language. thank\n",
      "----- diversity: 1.0\n",
      "----- Generating with seed: \"wn in simple form. the coursera platform is sometimes a bit quirky but otherwise the content in this\"\n",
      "wn in simple form. the coursera platform is sometimes a bit quirky but otherwise the content in this seer semenden dr. severance and tive traing.the course espyer sure assignments. this course covers because have a programming knowlexge. i will completed programming background for beginners were must for the from some with t-com enrone, the course and lectures as what he youn iccompleteven you will givent on mothing attonging but for me the course too questions in pieged!\" \"i liveradedsite, now \n",
      "----- diversity: 1.2\n",
      "----- Generating with seed: \"wn in simple form. the coursera platform is sometimes a bit quirky but otherwise the content in this\"\n",
      "wn in simple form. the coursera platform is sometimes a bit quirky but otherwise the content in this course is quite all it. \"absolutely learned jayring to wonderthing detro, and make get. loved attefcion quricsling, i would see doing, but also to complete down-    well from textboughting oneinating succosromp and this was exall so much about these is a very fandations a  an i beckel deacolating us worys  highly well difference topiculinely a jutcion. like lust course  so the interest with littl\n",
      "\n",
      "Epoch 00019: loss improved from 0.94468 to 0.93251, saving model to /content/gdrive/My Drive/Capstone/Data/\n",
      "Epoch 20/100\n",
      "2362/2362 [==============================] - 132s 56ms/step - loss: 0.9111 - accuracy: 0.7247 - val_loss: 1.0541 - val_accuracy: 0.6967\n",
      "\n",
      "----- Generating text after Epoch: 19\n",
      "----- diversity: 0.2\n",
      "----- Generating with seed: \" infectious and inspirational - he is also incredibly intelligent and capable of conveying such comp\"\n",
      " infectious and inspirational - he is also incredibly intelligent and capable of conveying such completely well structured and i would recommend this course to anyone who wants to learn python before this course is experience with programming and i would say that the course is a great introduction to python and the end of the course was a great course for beginners. i would suggest enough to the professor is a very good experience with programming and i would started to the more and extraticles \n",
      "----- diversity: 0.5\n",
      "----- Generating with seed: \" infectious and inspirational - he is also incredibly intelligent and capable of conveying such comp\"\n",
      " infectious and inspirational - he is also incredibly intelligent and capable of conveying such completing the professors he was excellent course for anyone who wants to learn more and i would love to thank a lot of experience. i loved the course to complete the course.  i am looking forward to the assignments interesting and all the course in the course. \" \"i would spers good much more experience with the best instructor structured on the knowledge of programming in python for me. this is a gre\n",
      "----- diversity: 1.0\n",
      "----- Generating with seed: \" infectious and inspirational - he is also incredibly intelligent and capable of conveying such comp\"\n",
      " infectious and inspirational - he is also incredibly intelligent and capable of conveying such computer. has quite you for gone as of for a computer language. prepervencles skills are really good problem. i found important do this in your mind for but if you a minitingle than cimples ona applyint nomems of his perso things with last part for anyone as which help me that was an experience, you are not having atoly very well understandable for understanding my insict at python before this is pers\n",
      "----- diversity: 1.2\n",
      "----- Generating with seed: \" infectious and inspirational - he is also incredibly intelligent and capable of conveying such comp\"\n",
      " infectious and inspirational - he is also incredibly intelligent and capable of conveying such complicated.\"all those mling must chapce ob an what really appy expournes aref erentral level quizzes. this course gave me, a blay.he for depinioup fornst materially. i thisk in this one whick easy week life add more things show. but it ostring and seaped ever easy to forum basic planners vers pechation and it is coursera from them teaching deaching and realize to the stuffs areever feelon - move and \n",
      "\n",
      "Epoch 00020: loss improved from 0.93251 to 0.92028, saving model to /content/gdrive/My Drive/Capstone/Data/\n",
      "Epoch 21/100\n",
      "2362/2362 [==============================] - 132s 56ms/step - loss: 0.8980 - accuracy: 0.7285 - val_loss: 1.0592 - val_accuracy: 0.6950\n",
      "\n",
      "----- Generating text after Epoch: 20\n",
      "----- diversity: 0.2\n",
      "----- Generating with seed: \"'t have any prior knowledge of programming. it is easy to take notes while learning and assignments \"\n",
      "'t have any prior knowledge of programming. it is easy to take notes while learning and assignments are very interesting and the explanation is a great introduction to programming. i would like to to the basics of python and the way the way the assignments are very interesting. the course is a great course! the professor is excellent course. i am a great course to learn python. i would like to the next course. i have learned a lot to think and easy to understand and the professor is very good an\n",
      "----- diversity: 0.5\n",
      "----- Generating with seed: \"'t have any prior knowledge of programming. it is easy to take notes while learning and assignments \"\n",
      "'t have any prior knowledge of programming. it is easy to take notes while learning and assignments are all the most of the course is very basic professor is a very easy to go do mo understandable. i would like to the python language work to have a look it to the next course. the course is the best course. the teacher, i loved the course and course was the best course, i also learned the basics of programming in a basic concepts of python for a complete class in this course for beginners with no\n",
      "----- diversity: 1.0\n",
      "----- Generating with seed: \"'t have any prior knowledge of programming. it is easy to take notes while learning and assignments \"\n",
      "'t have any prior knowledge of programming. it is easy to take notes while learning and assignments are down that this course is great! i also noth very nice learning and you not nawh terthory online clysh once, its, and hands to cuppiculty course\" \"the course stout programming course in thinking and how to coursera for overadlis thum keep a very sapporime to geel student . in and want to learn programming and training. govere them hard wants of terminal course and the best paced professor and c\n",
      "----- diversity: 1.2\n",
      "----- Generating with seed: \"'t have any prior knowledge of programming. it is easy to take notes while learning and assignments \"\n",
      "'t have any prior knowledge of programming. it is easy to take notes while learning and assignments gradud. i almost ond!\" understoo hondirative, but it is  i would like to complete levening to reward to have a blow every, very easy and great. easily s arrilly also wnire actually-for the basics or how a complete courses towalment. also edesorbly.\" though and easy to understand, chuse looking fordation, butost the basics in this course as codin, blos berites proper do i've bettirg dureffreme back\n",
      "\n",
      "Epoch 00021: loss improved from 0.92028 to 0.90763, saving model to /content/gdrive/My Drive/Capstone/Data/\n",
      "Epoch 22/100\n",
      "2362/2362 [==============================] - 131s 55ms/step - loss: 0.8858 - accuracy: 0.7329 - val_loss: 1.0629 - val_accuracy: 0.6955\n",
      "\n",
      "----- Generating text after Epoch: 21\n",
      "----- diversity: 0.2\n",
      "----- Generating with seed: \"chers that i've learned from. i really want to suggest him and his courses to anyboy who interested \"\n",
      "chers that i've learned from. i really want to suggest him and his courses to anyboy who interested in programming and i would like to the learners and the course is a great course. \" \"i am a great course for beginners. this course is a great course for a beginning programming language. the course was a great course for a beginner course for a beginner with computer things interesting and the explanations and i have never thought it is a great course for a beginning programming language as the c\n",
      "----- diversity: 0.5\n",
      "----- Generating with seed: \"chers that i've learned from. i really want to suggest him and his courses to anyboy who interested \"\n",
      "chers that i've learned from. i really want to suggest him and his courses to anyboy who interested in programming. the instructor is going to get some to to programming language understand and programming in general.  \"i think this course provided is explained prier play through the course. i had a a little because with this course and really good course for anyone who is really been throughouth course for beginners and coursera course i have learned the course for a beginner with new to python\n",
      "----- diversity: 1.0\n",
      "----- Generating with seed: \"chers that i've learned from. i really want to suggest him and his courses to anyboy who interested \"\n",
      "chers that i've learned from. i really want to suggest him and his courses to anyboy who interested in programming.  ifford in the assignment senies you somedicatg suggess for anyone who is the basics and didn't get searching specialized stoph.. explained everything. whush i knew a lot off videos are clear.   ifforled cleare to complete all wasisly with miming yen confininges. this is is great. essovar and only happly abser' letted part oflling. the instructor is very good start into course for \n",
      "----- diversity: 1.2\n",
      "----- Generating with seed: \"chers that i've learned from. i really want to suggest him and his courses to anyboy who interested \"\n",
      "chers that i've learned from. i really want to suggest him and his courses to anyboy who interested course doesn't get alabadaring process very basit exercise really helped me do it hard online peep-entchement! the code daver inte canned lichs. i'm very awely, lucks suck otd my fiusine before anyone who wants to coursera and those already feerbook the course and dr. chuck questions manine  gay and i.e\"erucationshare enjey!   the ,i'vily even howch the code avaivadiz chite tricaulory on cotching \n",
      "\n",
      "Epoch 00022: loss improved from 0.90763 to 0.89631, saving model to /content/gdrive/My Drive/Capstone/Data/\n",
      "Epoch 23/100\n",
      "2362/2362 [==============================] - 131s 56ms/step - loss: 0.8747 - accuracy: 0.7352 - val_loss: 1.0732 - val_accuracy: 0.6937\n",
      "\n",
      "----- Generating text after Epoch: 22\n",
      "----- diversity: 0.2\n",
      "----- Generating with seed: \"dent would want towards learning python \"proper explanation, great examples, best materials. i love \"\n",
      "dent would want towards learning python \"proper explanation, great examples, best materials. i love this course and the professor is an easy to understand and computer science with the programming language in a very beginners to complete the course and i had learned and it was a great course i feel like a favoriticls. i am very specifuling and the best course and the programming is a great teacher! the course is amazing. i have been interested in programming and i learned a lot and explaining th\n",
      "----- diversity: 0.5\n",
      "----- Generating with seed: \"dent would want towards learning python \"proper explanation, great examples, best materials. i love \"\n",
      "dent would want towards learning python \"proper explanation, great examples, best materials. i love this course and the very interested and done those who are an important topics and it is a very good course for those who should his and i feel professor severance and the course was very well struggled and helpful. i have taken a lot of teaching style to code as well. as a great course for beginners. the course is amazing. i would have been a person and i learned the code i have been sofewater to\n",
      "----- diversity: 1.0\n",
      "----- Generating with seed: \"dent would want towards learning python \"proper explanation, great examples, best materials. i love \"\n",
      "dent would want towards learning python \"proper explanation, great examples, best materials. i love the lecturer. i never onlile experience, you can geare to its some more than this course.  i really really mamilate and rely concepts of programming and doing this you fun.\" \"i explain from the informatima started with and i was a great team and programming and the methods often really never knows. chick related very well-special time is great,  alth\" \"poon heaw dishing it.chement. as eary program\n",
      "----- diversity: 1.2\n",
      "----- Generating with seed: \"dent would want towards learning python \"proper explanation, great examples, best materials. i love \"\n",
      "dent would want towards learning python \"proper explanation, great examples, best materials. i love looking!\" \"just tos interesibody for faided eavy good,  the mastor \"\"programming to compuce to a uren-ont teaching assignments wis approach and down so as apper py nice and making asce, and know a studed python but trist python i am not maybefipes, but le. this course was touct usire had my rengints joursers. for english you books basic and also,\" \"i feel learned aroigmment crasce and himbstones f\n",
      "\n",
      "Epoch 00023: loss improved from 0.89631 to 0.88447, saving model to /content/gdrive/My Drive/Capstone/Data/\n",
      "Epoch 24/100\n",
      "2362/2362 [==============================] - 131s 56ms/step - loss: 0.8617 - accuracy: 0.7390 - val_loss: 1.0785 - val_accuracy: 0.6919\n",
      "\n",
      "----- Generating text after Epoch: 23\n",
      "----- diversity: 0.2\n",
      "----- Generating with seed: \"lot of help from dr chuck in making sure the understanding is there at the first place. the emphasis\"\n",
      "lot of help from dr chuck in making sure the understanding is there at the first place. the emphasiss are clear and i was all with the problems in the course and the instructor is easy to understand the basics of python and the problems i have ever seen to understand the basics of python and the professor is a good course to understand the course and the way the way the programming is an excellent course for beginners. i will recommend this course to anyone who is a beginner in the first course \n",
      "----- diversity: 0.5\n",
      "----- Generating with seed: \"lot of help from dr chuck in making sure the understanding is there at the first place. the emphasis\"\n",
      "lot of help from dr chuck in making sure the understanding is there at the first place. the emphasis all the regresped  so amazing to teach python from the first online courses in programming of the course with the videos are amazing. i also learned the basics of python    and the way the way the programming, i also learned being as well as information is the best course. the professor usiveral is detailed in it awesome to the lectures in the course with the funce of computer hours and this one \n",
      "----- diversity: 1.0\n",
      "----- Generating with seed: \"lot of help from dr chuck in making sure the understanding is there at the first place. the emphasis\"\n",
      "lot of help from dr chuck in making sure the understanding is there at the first place. the emphasiss so it is break you authoncuptide mow-pwares you learned. the lectures ald my free. that i have explained experience about the funceduled by the ximplitely clear on yout of programming. the ampleming chuck, the first time and well writeny insice no programming and communicatios explained  hee your background in shatce. but it would start thing interviews learning. \" \"i oment used worked understan\n",
      "----- diversity: 1.2\n",
      "----- Generating with seed: \"lot of help from dr chuck in making sure the understanding is there at the first place. the emphasis\"\n",
      "lot of help from dr chuck in making sure the understanding is there at the first place. the emphasis langua language experience. qual to back for eany. only, out about the way, of probless project\" in my preghins to the platforul bangeodiativation. \" \"great beauning effactively by the speaking with fun.mestory concepts of python.thanks to the python plackerly could with a program.\" university or promuss in the more loninging is lot. i do.\" \"but if yor explains for the content is melieve you canc\n",
      "\n",
      "Epoch 00024: loss improved from 0.88447 to 0.87342, saving model to /content/gdrive/My Drive/Capstone/Data/\n",
      "Epoch 25/100\n",
      "2362/2362 [==============================] - 131s 55ms/step - loss: 0.8504 - accuracy: 0.7420 - val_loss: 1.0812 - val_accuracy: 0.6925\n",
      "\n",
      "----- Generating text after Epoch: 24\n",
      "----- diversity: 0.2\n",
      "----- Generating with seed: \" python though. i recommend just doing all the assignments and quizzes in a day for a refresher if y\"\n",
      " python though. i recommend just doing all the assignments and quizzes in a day for a refresher if you have never for me to learn and it is a great course for me to get an if i was never for me to learn python. i am very easy to learn and make it very easy to learn the knowledge and something and i am very easy to learn and also had been difficulty to learn python for me.   this course is a great teacher from cleare and easy and i have zero exemplent and it was done a very good and i was able to\n",
      "----- diversity: 0.5\n",
      "----- Generating with seed: \" python though. i recommend just doing all the assignments and quizzes in a day for a refresher if y\"\n",
      " python though. i recommend just doing all the assignments and quizzes in a day for a refresher if you have never about learning and it is a very basics through the basics of python.  the course is really amazing. i am a ching to make it very easy to understand. i found this course and all the quizzes are easy to understand and i think that i took it for the book in an excellent course to learn python and it also instructor is definitely and also who wants to start learning python. i am so lectu\n",
      "----- diversity: 1.0\n",
      "----- Generating with seed: \" python though. i recommend just doing all the assignments and quizzes in a day for a refresher if y\"\n",
      " python though. i recommend just doing all the assignments and quizzes in a day for a refresher if you the such a went of the course with no start. it was never to learn mr. charles!this course explained, outsting and very i murh for those who is auty commersaring for analys accepfitence examples in expection of moriaf in a very knowledg to learn sume and some dingle inter\"leation, so it was traid to complete it fart lecien,  acauch all many good with the offered me and i put most of the course \n",
      "----- diversity: 1.2\n",
      "----- Generating with seed: \" python though. i recommend just doing all the assignments and quizzes in a day for a refresher if y\"\n",
      " python though. i recommend just doing all the assignments and quizzes in a day for a refresher if you like the fundamental programming  id.his course even loving to geting, i gleat frring this for those wirh the conitelay's.keeps us defeine courses indment of interesiblabey by understanding. sinpit, you stenged yin gengation, just bettere mallentef, and but dr. chuck, things  jout it helpfud to ample with some ample ealy interesting around python why through coda formand!\" \"i easy teaching this\n",
      "\n",
      "Epoch 00025: loss improved from 0.87342 to 0.86581, saving model to /content/gdrive/My Drive/Capstone/Data/\n",
      "Epoch 26/100\n",
      "2362/2362 [==============================] - 131s 56ms/step - loss: 0.8457 - accuracy: 0.7434 - val_loss: 1.0910 - val_accuracy: 0.6893\n",
      "\n",
      "----- Generating text after Epoch: 25\n",
      "----- diversity: 0.2\n",
      "----- Generating with seed: \" the people who know about programming or not.i was little bit of experience in programming but this\"\n",
      " the people who know about programming or not.i was little bit of experience in programming but this course is a great introduction to python and he explains everything in the best online course in the first pass you to learn python. the course is a great teacher that is the best course and the instructor is very good at the videos and as a great class.                                                                                                                                                 \n",
      "----- diversity: 0.5\n",
      "----- Generating with seed: \" the people who know about programming or not.i was little bit of experience in programming but this\"\n",
      " the people who know about programming or not.i was little bit of experience in programming but this would never entertaining, i had zero experience in python for everybody is perfect of the one of the course i believ a non-programming things and no programming language. the lecture is very easy to understanding the student programming in online course. the course is very easy to understanding of the course and it was a great course and also have a programmed before the course. it is so that not\n",
      "----- diversity: 1.0\n",
      "----- Generating with seed: \" the people who know about programming or not.i was little bit of experience in programming but this\"\n",
      " the people who know about programming or not.i was little bit of experience in programming but this also clearning and not jay the peam.  i learnt the end one st know having pers, and do it offer that mentoos attendation is a very good. \" \"good fourn a bit helpo knowledge with malles! \"it specifuling able the basics and awesome as the discustiors and times in this are trying of programming to every weat to understand a acture. you and material atthipg of helping me and although up. well write t\n",
      "----- diversity: 1.2\n",
      "----- Generating with seed: \" the people who know about programming or not.i was little bit of experience in programming but this\"\n",
      " the people who know about programming or not.i was little bit of experience in programming but this was praferscours i musk other programming lackers.  i never there. whodate oul thing that i was very good course for people who have likely necommend this class, thinking and disponcibely captron:l by mysero. \" \"the course is a programmer \"\"imoreable knowledge of programming. this is by llosh it has atostent practive styens things. bet of review. the instructor staft and trings mided me doding ab\n",
      "\n",
      "Epoch 00026: loss improved from 0.86581 to 0.85688, saving model to /content/gdrive/My Drive/Capstone/Data/\n",
      "Epoch 27/100\n",
      "2362/2362 [==============================] - 131s 55ms/step - loss: 0.8352 - accuracy: 0.7464 - val_loss: 1.0930 - val_accuracy: 0.6895\n",
      "\n",
      "----- Generating text after Epoch: 26\n",
      "----- diversity: 0.2\n",
      "----- Generating with seed: \"her who likes to programme and teach. i salute him for a very good course.\" \"this course helped me s\"\n",
      "her who likes to programme and teach. i salute him for a very good course.\" \"this course helped me so really enjoyed this course to anyone who is interested in programming it as a lot of experience and continue simple to programming in the course.  the course is a great introduction to programming and i loved this course to anyone who wants to start programming and i would did not go tho next courses and the course was a great course to start learning python and i want to think a bit of the best\n",
      "----- diversity: 0.5\n",
      "----- Generating with seed: \"her who likes to programme and teach. i salute him for a very good course.\" \"this course helped me s\"\n",
      "her who likes to programme and teach. i salute him for a very good course.\" \"this course helped me so that's other courses of programming. i also have so makes the course i have ever been my like the finding to the next courses for those who are non programming language for students who are lass to make the course. i would like to take assignment building student into programming and the instructor is extective with the course. i had a great level in the course and thank you videos and also grea\n",
      "----- diversity: 1.0\n",
      "----- Generating with seed: \"her who likes to programme and teach. i salute him for a very good course.\" \"this course helped me s\"\n",
      "her who likes to programme and teach. i salute him for a very good course.\" \"this course helped me start what would learn differentuag on presental., i have exproesmer to continue to all your courses this is very easy to follow, and the assignments internet language it \"am to non materials, and despit.  and the material. it is bit good getshess and moment, loops, dit' the next lectures and contrione int  the teaching simply at to, all of me experience but also the simplime excellent just compleb\n",
      "----- diversity: 1.2\n",
      "----- Generating with seed: \"her who likes to programme and teach. i salute him for a very good course.\" \"this course helped me s\"\n",
      "her who likes to programme and teach. i salute him for a very good course.\" \"this course helped me simple tast.\" \"overall, this course dr. charles it was loienciog to kew suitaxivel derelt instructors as well, i'm very nice coder but adviluations. don't get varibully helpful. it's dot.. for a fun. its tod im. this is mr. new other rasuctar contert started things. most of alot. evencone hoos thankyou sovally cansisters-were dowsor. aggits thinking of the end.  nxtron to.it of the materials. provi\n",
      "\n",
      "Epoch 00027: loss improved from 0.85688 to 0.84652, saving model to /content/gdrive/My Drive/Capstone/Data/\n"
     ]
    }
   ],
   "source": [
    "history = model_ckpt.fit(X_train, y_train, batch_size=128, epochs=100, validation_data =(X_test, y_test),callbacks=callbacks)"
   ]
  },
  {
   "cell_type": "code",
   "execution_count": null,
   "metadata": {
    "id": "gN-1KPTDBL5P"
   },
   "outputs": [],
   "source": []
  },
  {
   "cell_type": "markdown",
   "metadata": {
    "id": "7ASEbkDrYBcb"
   },
   "source": [
    "### 10. evaluating performance of model"
   ]
  },
  {
   "cell_type": "code",
   "execution_count": null,
   "metadata": {
    "id": "V1Be5KMMBVZG"
   },
   "outputs": [],
   "source": []
  },
  {
   "cell_type": "markdown",
   "metadata": {
    "id": "uxif6F82lDqV"
   },
   "source": [
    "#### 10.1 Training Accuracy & Loss"
   ]
  },
  {
   "cell_type": "code",
   "execution_count": 25,
   "metadata": {
    "colab": {
     "base_uri": "https://localhost:8080/"
    },
    "id": "n2LEUqFvdEh8",
    "outputId": "19fa8544-094a-4c1c-fb86-7f4b0a138a68"
   },
   "outputs": [
    {
     "name": "stdout",
     "output_type": "stream",
     "text": [
      "dict_keys(['loss', 'accuracy', 'val_loss', 'val_accuracy', 'lr'])\n"
     ]
    }
   ],
   "source": [
    "print(history.history.keys())"
   ]
  },
  {
   "cell_type": "code",
   "execution_count": 26,
   "metadata": {
    "colab": {
     "base_uri": "https://localhost:8080/"
    },
    "id": "lMLs-7JyYBcb",
    "outputId": "701cd571-63db-4a3d-b3fd-8edafb2eea07"
   },
   "outputs": [
    {
     "name": "stdout",
     "output_type": "stream",
     "text": [
      "9445/9445 - 154s - loss: 0.8011 - accuracy: 0.7574\n"
     ]
    }
   ],
   "source": [
    "train_Loss, train_Accuracy = model_ckpt.evaluate(X_train, y_train, verbose=2)"
   ]
  },
  {
   "cell_type": "code",
   "execution_count": 27,
   "metadata": {
    "colab": {
     "base_uri": "https://localhost:8080/",
     "height": 419
    },
    "id": "3Q2fmTNBYBcc",
    "outputId": "4d314833-5e48-4265-89cf-493ff380f059"
   },
   "outputs": [
    {
     "data": {
      "image/png": "[encoded data removed]",
      "text/plain": [
       "<Figure size 864x432 with 1 Axes>"
      ]
     },
     "metadata": {
      "needs_background": "light",
      "tags": []
     },
     "output_type": "display_data"
    }
   ],
   "source": [
    "plt.figure(figsize=(12,6))\n",
    "plt.rcParams['font.size'] = '16'\n",
    "plt.plot(history.history['accuracy'], label='Accuracy', lw=2)\n",
    "plt.xlabel('Count of Epoch')\n",
    "plt.ylabel('Accuracy')\n",
    "plt.title('Accuracy over count of Epochs', fontsize=20)\n",
    "plt.legend();"
   ]
  },
  {
   "cell_type": "code",
   "execution_count": 28,
   "metadata": {
    "colab": {
     "base_uri": "https://localhost:8080/",
     "height": 437
    },
    "id": "ZftL8Z9oYBcc",
    "outputId": "62314923-f76c-4de8-c2ef-c7098832980a"
   },
   "outputs": [
    {
     "name": "stderr",
     "output_type": "stream",
     "text": [
      "No handles with labels found to put in legend.\n"
     ]
    },
    {
     "data": {
      "image/png": "[encoded data removed]",
      "text/plain": [
       "<Figure size 864x432 with 1 Axes>"
      ]
     },
     "metadata": {
      "needs_background": "light",
      "tags": []
     },
     "output_type": "display_data"
    }
   ],
   "source": [
    "plt.figure(figsize=(12,6))\n",
    "plt.plot(history.history['loss'], lw=2, color='red')\n",
    "plt.xlabel('Count of Epoch')\n",
    "plt.ylabel('loss')\n",
    "plt.title('loss over count of Epochs', fontsize=20)\n",
    "plt.legend();"
   ]
  },
  {
   "cell_type": "markdown",
   "metadata": {
    "id": "gMA46JAElDqX"
   },
   "source": [
    "#### 10.2 Testing Accuracy & Loss"
   ]
  },
  {
   "cell_type": "code",
   "execution_count": 29,
   "metadata": {
    "colab": {
     "base_uri": "https://localhost:8080/"
    },
    "id": "g4fwjuEOYBcc",
    "outputId": "dd1b3e0d-4320-4111-9a64-cf346920805a"
   },
   "outputs": [
    {
     "name": "stdout",
     "output_type": "stream",
     "text": [
      "3149/3149 - 51s - loss: 1.0930 - accuracy: 0.6895\n"
     ]
    }
   ],
   "source": [
    "test_Loss, test_Accuracy = model_ckpt.evaluate(X_test, y_test, verbose=2)"
   ]
  },
  {
   "cell_type": "code",
   "execution_count": 30,
   "metadata": {
    "colab": {
     "base_uri": "https://localhost:8080/",
     "height": 419
    },
    "id": "WRADY3MGYBcc",
    "outputId": "51d9bca2-5d31-4fd9-8e5d-2344aef34b88"
   },
   "outputs": [
    {
     "data": {
      "image/png": "[encoded data removed]",
      "text/plain": [
       "<Figure size 864x432 with 1 Axes>"
      ]
     },
     "metadata": {
      "needs_background": "light",
      "tags": []
     },
     "output_type": "display_data"
    }
   ],
   "source": [
    "plt.figure(figsize=(12,6))\n",
    "plt.plot(history.history['val_accuracy'], label='Accuracy', lw=2, color='skyblue')\n",
    "plt.xlabel('Count of Epoch')\n",
    "plt.ylabel('Validation Accuracy')\n",
    "plt.title('Validation Accuracy over count of Epochs', fontsize=20)\n",
    "plt.legend();"
   ]
  },
  {
   "cell_type": "code",
   "execution_count": 31,
   "metadata": {
    "colab": {
     "base_uri": "https://localhost:8080/",
     "height": 419
    },
    "id": "AAFBrBNSYBcc",
    "outputId": "3b4aa555-7e60-4b6c-b6fb-64e524797aaf",
    "scrolled": false
   },
   "outputs": [
    {
     "data": {
      "image/png": "[encoded data removed]",
      "text/plain": [
       "<Figure size 864x432 with 1 Axes>"
      ]
     },
     "metadata": {
      "needs_background": "light",
      "tags": []
     },
     "output_type": "display_data"
    }
   ],
   "source": [
    "plt.figure(figsize=(12,6))\n",
    "plt.plot(history.history['val_loss'], lw=2, label='Val_loss', color='orange')\n",
    "plt.xlabel('Count of Epoch')\n",
    "plt.ylabel('Validation loss')\n",
    "plt.title('Validation loss over count of Epochs', fontsize=20)\n",
    "plt.legend();"
   ]
  },
  {
   "cell_type": "markdown",
   "metadata": {
    "id": "2f0h9cFJlDqX"
   },
   "source": [
    "#### 10.3 Plotting train and test together"
   ]
  },
  {
   "cell_type": "code",
   "execution_count": 32,
   "metadata": {
    "colab": {
     "base_uri": "https://localhost:8080/",
     "height": 419
    },
    "id": "i-hUIZuEYBcc",
    "outputId": "9d601a0b-4601-4434-dffd-4fc3bce136a5"
   },
   "outputs": [
    {
     "data": {
      "image/png": "[encoded data removed]",
      "text/plain": [
       "<Figure size 864x432 with 1 Axes>"
      ]
     },
     "metadata": {
      "needs_background": "light",
      "tags": []
     },
     "output_type": "display_data"
    }
   ],
   "source": [
    "### Combine both plots\n",
    "\n",
    "plt.figure(figsize=(12,6))\n",
    "plt.rcParams['font.size'] = '16'\n",
    "plt.plot(history.history['accuracy'], label='Accuracy', lw=2, color='blue')\n",
    "plt.plot(history.history['val_accuracy'], label='val Accuracy', lw=2, color = 'skyblue')\n",
    "plt.xlabel('Count of Epoch')\n",
    "plt.ylabel('Accuracy')\n",
    "plt.title('Accuracy over count of Epochs', fontsize=20)\n",
    "plt.legend();"
   ]
  },
  {
   "cell_type": "code",
   "execution_count": 33,
   "metadata": {
    "colab": {
     "base_uri": "https://localhost:8080/",
     "height": 437
    },
    "id": "YTIWEy9DYBcd",
    "outputId": "5a2c1407-c5de-48f8-b22b-a694d64675a3"
   },
   "outputs": [
    {
     "name": "stderr",
     "output_type": "stream",
     "text": [
      "No handles with labels found to put in legend.\n"
     ]
    },
    {
     "data": {
      "image/png": "[encoded data removed]",
      "text/plain": [
       "<Figure size 864x432 with 1 Axes>"
      ]
     },
     "metadata": {
      "needs_background": "light",
      "tags": []
     },
     "output_type": "display_data"
    }
   ],
   "source": [
    "plt.figure(figsize=(12,6))\n",
    "plt.plot(history.history['loss'], lw=2, color='red')\n",
    "plt.plot(history.history['val_loss'], lw=2, color='orange')\n",
    "plt.xlabel('Count of Epoch')\n",
    "plt.ylabel('loss')\n",
    "plt.title('loss over count of Epochs', fontsize=20)\n",
    "plt.legend();"
   ]
  },
  {
   "cell_type": "markdown",
   "metadata": {
    "id": "-cnacZpKYBcd"
   },
   "source": [
    "### 11. Loading my pre-trained weights to resume training"
   ]
  },
  {
   "cell_type": "code",
   "execution_count": null,
   "metadata": {
    "id": "vzsGBYlGlDqY"
   },
   "outputs": [],
   "source": [
    "# Instantiate my new model\n",
    "model_ckpt2 = create_model()\n",
    "\n",
    "# load the saved weights into my instantiated model\n",
    "#\n",
    "model_ckpt2.load_weights(filepath)"
   ]
  },
  {
   "cell_type": "code",
   "execution_count": null,
   "metadata": {
    "id": "G6eOy0TgYBcd"
   },
   "outputs": [],
   "source": [
    "# resume the training\n",
    "\n",
    "model_ckpt2.fit(X_train, y_train, batch_size=128, epochs=5, validation_data =(X_test, y_test),callbacks=callbacks))"
   ]
  },
  {
   "cell_type": "code",
   "execution_count": null,
   "metadata": {
    "id": "uJ9KsWYhYBcd"
   },
   "outputs": [],
   "source": [
    "train_Loss, train_Accuracy = model_ckpt2.evaluate(X_train, y_train, verbose=2)"
   ]
  },
  {
   "cell_type": "code",
   "execution_count": null,
   "metadata": {
    "id": "HOh20i6eYBcd"
   },
   "outputs": [],
   "source": [
    "test_Loss, test_Accuracy = model_ckpt2.evaluate(X_test, y_test, verbose=2)"
   ]
  },
  {
   "cell_type": "markdown",
   "metadata": {
    "id": "3zkv9Zm6YBcd"
   },
   "source": [
    "### 12.Try generating text using help from keras.io"
   ]
  },
  {
   "cell_type": "markdown",
   "metadata": {
    "id": "RzJNC5QqlDqZ"
   },
   "source": [
    "- testing the trained model to generate text given a random index/integer\n",
    "- which the integer will be mapped into the 36 different characters\n",
    "- diversity in this case refers to temperature too:\n",
    "  - lower the diversity/temperature, makes the model generate text that are more conservative\n",
    "  - higher the diveristy/temperature, makess the model generate text that have more diversity but might be prone to mistakes"
   ]
  },
  {
   "cell_type": "code",
   "execution_count": 34,
   "metadata": {
    "id": "AbFdWBnRYBce"
   },
   "outputs": [],
   "source": [
    "def generate_text(length, diversity):\n",
    "    # Get random starting text\n",
    "    start_index = random.randint(0, len(text) - maxlen - 1)\n",
    "    generated = ''\n",
    "    sentence = text[start_index: start_index + maxlen]\n",
    "    generated += sentence\n",
    "    for i in range(length):\n",
    "            x_pred = np.zeros((1, maxlen, len(chars)))\n",
    "            for t, char in enumerate(sentence):\n",
    "                x_pred[0, t, char_indices[char]] = 1.\n",
    "\n",
    "            preds = model_ckpt.predict(x_pred, verbose=0)[0]\n",
    "            next_index = sample(preds, diversity)\n",
    "            next_char = indices_char[next_index]\n",
    "\n",
    "            generated += next_char\n",
    "            sentence = sentence[1:] + next_char\n",
    "    return generated"
   ]
  },
  {
   "cell_type": "code",
   "execution_count": 35,
   "metadata": {
    "colab": {
     "base_uri": "https://localhost:8080/"
    },
    "id": "nLSE9rTGYBcf",
    "outputId": "e8228149-7e36-42e5-ac12-aca836cc86d1"
   },
   "outputs": [
    {
     "name": "stdout",
     "output_type": "stream",
     "text": [
      "l definitely recommend this course to other people and will continue using coursera as a learning to learn python in this specialization. i will recommend this course to anyone who wants to start learning python and programming from the course in the course. the course is really good at a little bit of the best of the course and the course is a great job of python programming language and enjoyed this course and the assignments are such a course to be a programming language to the best introduction to the best courses and the best course is make the course i have ever mentoos well. i would did\n"
     ]
    }
   ],
   "source": [
    "print(generate_text(500, 0.2))"
   ]
  },
  {
   "cell_type": "code",
   "execution_count": 36,
   "metadata": {
    "colab": {
     "base_uri": "https://localhost:8080/"
    },
    "id": "wZkuPj6Kj5FH",
    "outputId": "ff0690e7-5f4c-4144-c324-064cae528526"
   },
   "outputs": [
    {
     "name": "stdout",
     "output_type": "stream",
     "text": [
      "ry easy to understand, dr.chuck will repeat the important concepts patiently and carefully. i recommend this course to anyone who wants to learn python on python programming language. i also not support.thank you so much and approach to teach starting for beginner with python and has done while like me and the way that i found this course to good and those who have no programming lint thinking of the course i have ever cample language in great to the next courses and the awasime experience with no programming language such a great introduction to python and interesting and even more courses an\n"
     ]
    }
   ],
   "source": [
    "print(generate_text(500, 0.5))"
   ]
  },
  {
   "cell_type": "code",
   "execution_count": 37,
   "metadata": {
    "colab": {
     "base_uri": "https://localhost:8080/"
    },
    "id": "oOnWrHgnim_V",
    "outputId": "908e6cd3-df21-4ce8-9313-ac6472a73676"
   },
   "outputs": [
    {
     "name": "stdout",
     "output_type": "stream",
     "text": [
      "s been    years since i lost touch with programming. i was afraid i would never be able to face the cost of the basics of python good read that it cores on python courses i hol i haven't get   degret knowledge for making time, highly recommend!\" \"i am really awesome. the instructor  so that, dr. chuck say the rusting material ladies for those who does highly get started rights, experience istro programmers to gever humai-am.  an ifforum tot in week. i wanting to the better. out they. i will recommend this lose mo.it amazing experience wor the my here.\" \"this is an excellent course, you making \n"
     ]
    }
   ],
   "source": [
    "print(generate_text(500, 1))"
   ]
  },
  {
   "cell_type": "code",
   "execution_count": 38,
   "metadata": {
    "colab": {
     "base_uri": "https://localhost:8080/"
    },
    "id": "6GhtUDQYqtqx",
    "outputId": "484960d7-300e-4c68-b8f3-8dfb7f230f48"
   },
   "outputs": [
    {
     "name": "stdout",
     "output_type": "stream",
     "text": [
      "ent. actually it is excellent period. i almost did not take another online class because the ibm data students with lots of course to anyone who have no programming background. i have to make the course and i think it also interesting and the course was a great course. \" \"this is a great course for beginners. i liked the course in the python courses i have ever encouraging through the course.  this course is a great course for beginners. i am a great course for beginners. this is a great course for those who does a great course! \" \"i have to take this course and the assignments are also very desiged to start programming in a the book is the first course i have ever seen well as it was really a great teacher i have a bit of experience and the best professor assignments are solut of the course in the first programming course.  the course is very clear and the examples and continue with programming with the concept of python programming language and the instructor is very good at explaining the course and the course is a great course for beginners. i have tried courses in the course and\n"
     ]
    }
   ],
   "source": [
    "print(generate_text(1000, 0.2))"
   ]
  },
  {
   "cell_type": "code",
   "execution_count": 39,
   "metadata": {
    "colab": {
     "base_uri": "https://localhost:8080/"
    },
    "id": "WrkOY8HjkSEh",
    "outputId": "8fb31170-18f0-40b5-da11-e8235c5eba88"
   },
   "outputs": [
    {
     "name": "stdout",
     "output_type": "stream",
     "text": [
      "start a journey over python then i'll recommend him her to kindly pursue this course at least as a so easy to understand and a great introduction to programming content is the best course for beginners. the course can be take python. i will learn the basics of python. the instructor is great!\" \"this is a great start for someone who is interested in journey with this course and it's easy to understand through this course and the teaching severence with the requrers and the course was a great experience in coursera courses for those who already that easily. \" \"this is a great job in the one off coursera is the next courses and i am really great for someone who the course from scratch in the assignments as well. thank you dr. chuck to anyone who is interesting course for a programming courses, this is a great course for beginners. i have to the a more code if you never feel how to thank you see in my concise and complete some of the python language but never course for beginners. it was a great course for those were work. he is entured and continue is start to learn python in the course\n"
     ]
    }
   ],
   "source": [
    "print(generate_text(1000, 0.5))"
   ]
  },
  {
   "cell_type": "code",
   "execution_count": 40,
   "metadata": {
    "colab": {
     "base_uri": "https://localhost:8080/"
    },
    "id": "cENfLeUvinGa",
    "outputId": "9a7105e8-b773-4cbb-ec7f-ed46b133b980"
   },
   "outputs": [
    {
     "name": "stdout",
     "output_type": "stream",
     "text": [
      "eat experience to code a little programs by myself. i completely sure that i'll go to the next classes to ortilianal \" \"this was me. good its challenged so makes  infercliably banzion. and kuy a bitweer base s.good basic and thring more and getting another from me to none of the simplicity were a real for programming background.he material scredble done to take thrics in cructarer's. if you are all the course what'he the informative and programming in solit' style in coursera.\" \"this is an excitede' programming in this for the suthers. \" in this course with about the course in spicianize your is really great teacher. and many comprimensing, and how to do this course, i have learnt every class courses   \" \"hand structure , dafating. i really loved the soled and actually cleared to wait the best in startuge so unature. give in you'll, learning from beginners.ly too just not having lost first hand with the certifes of the course aspes lessons and makes it enjoyh leable. mont. this course covers how the carese without programming with any programming finalled s.ielpiously josutely, thank\n"
     ]
    }
   ],
   "source": [
    "print(generate_text(1000, 1))"
   ]
  },
  {
   "cell_type": "code",
   "execution_count": 41,
   "metadata": {
    "colab": {
     "base_uri": "https://localhost:8080/"
    },
    "id": "pcn4jJTakyIC",
    "outputId": "741875fe-014e-47d3-f14b-19afb725efe2"
   },
   "outputs": [
    {
     "name": "stdout",
     "output_type": "stream",
     "text": [
      "teresting and easy at the same time. thank you that was so great and i've learned many things in this python, because it will dee while programming deaid ti.\"gengral. to program highly to comprehend the current of such prof. charles severance is extremely any programming secies. at  \"ind your person and doing the lecturer\" is a very good courses are very useful courses for me. \"if-learning.     years and to the ming a spyend!\" \"   i down through. taxk \"this course too xample and grasp using  jo a programming and thankyout looks and much me about python, this is really lidest of coding courses on videos of programing for everybody-'s end using programing. thank you!  \"course was gleat all the video. the course contructor, a good jobber, but now, dr chuck is textbook it short cantit.thank you so mucal course as list of the online before. i thorued. great course watching their command on any on-sometsing take the courses and even a programming in my cole. highly recommend this teacherally and the sib thing, examples. sir interest in knowledge to take programming . chump explained it was enoughe look. programming for enierments and code, coding and continue to learning the courses as it down that i can be easily understand what i was a very good courses i am heating learning hord\"\"   only engons it and this was used professor without feeling course, i likely new programmers! it is well before has a programming course so it starty chapter for with all, the course is broust beginners in teling into this course for a great experience. it as fun.  excellent course for a language. or.  \" \"i dr. \"i've try to! but lock-to coursera to good python from ofce is just boring. this course has book now!! i am kor the course sofory even there worked so feelly all the best interested. the course was renoling are very conciaicile. seon  any at thanks\" i endaynt and simely-uldis as a little use of other courses mike university of michigan for making th therully. \" \"great and quiz enterachiah speciforely gives a fad. the first time is enjoyable and a lotwor so comprexevene sly to follow\n"
     ]
    }
   ],
   "source": [
    "print(generate_text(2000, 1))"
   ]
  },
  {
   "cell_type": "markdown",
   "metadata": {
    "id": "L00w5dBnlDqb"
   },
   "source": [
    "### 13. Try correct spelling of generating text using TextBlob"
   ]
  },
  {
   "cell_type": "code",
   "execution_count": 42,
   "metadata": {
    "id": "dYZXgRXArqFi"
   },
   "outputs": [],
   "source": [
    "generated1 = generate_text(1000, 1)"
   ]
  },
  {
   "cell_type": "code",
   "execution_count": 43,
   "metadata": {
    "id": "49km-LShrQ2v"
   },
   "outputs": [],
   "source": [
    "from textblob import TextBlob"
   ]
  },
  {
   "cell_type": "code",
   "execution_count": 44,
   "metadata": {
    "colab": {
     "base_uri": "https://localhost:8080/"
    },
    "id": "Tg9vrivVrlN9",
    "outputId": "35dc987a-ce37-48d6-c896-fcdb6f8686ee"
   },
   "outputs": [
    {
     "data": {
      "text/plain": [
       "TextBlob(\"an my journey into programming. \" thank you for this course - it was just what i was looking for!great course, but left us follow, that right screpof and i liked everything through this course and explains jobs in on what great manor, each science for this picksul to the weeks for getting starting. with given a lit course been males! note before, i have an only the tutoring specific learn getting for me to takes person, both charles severance content all the end only kinder ton this is the best pit a will continue now. thank drisssord severance!\" \"this course is approach but well was why quite you will learning experience with the person to programming to down to understand patron. it's so easy to funny time, and also course into set of while to have some semaisching.the possible allows every bit of computer language raising and quite best good .i hope to expect to using.\" \"this course skill of no programming knowledge of course programming skill understand why works it is a hand of programming if you have hon-of your code clear to computer this is through that way t\")"
      ]
     },
     "execution_count": 44,
     "metadata": {
      "tags": []
     },
     "output_type": "execute_result"
    }
   ],
   "source": [
    "b = TextBlob(generated1)\n",
    "b.correct()"
   ]
  },
  {
   "cell_type": "code",
   "execution_count": 45,
   "metadata": {
    "colab": {
     "base_uri": "https://localhost:8080/"
    },
    "id": "YSPIoR8dlPam",
    "outputId": "16bcff35-5597-47be-ac18-9756cb1a48e8"
   },
   "outputs": [
    {
     "data": {
      "text/plain": [
       "TextBlob(\"so knows what errors they are likely to make and what questions they are likely to ask and addresses them help me more courses .. dont after through. very useful. so i could take more confivelo, and continual courses!\" \"this is truth of many at be are respond, assignment were looking to learn patron. \" \"this course  it was awesome knowledge for the beginning as i amazing introduction for the course from extremity and get the pace lit.  like me to learn basic and help at my concise and learn at  and if an claret you reads motivataning. the instructor enslyshily might by the textbook, programming really in a read like so that my interesting and important tools like see your farrand concept. i know what and the first online course. \"i want to learn patron, its an incredion fun other. i have       passion forward enjoying teaching is very this course to anyone who has not carttely new to programming students of information time of the first course courses.this open knowndowledge or coming with the finding writing start from he has zero then expect of programming, it. the only knowledge  own the book is very nicely you do think who save un if i cause to good class patron watching in the course with the way to before i'm not only other of this.   s starsthor's language mode. i can continue to learn patron background new to teaching sound other programs knowledge about your and the getthess for shipping to more into my learning patron that you will learn from introduction of taking. he makes the tying would take look. but it was so want to nicest to good. i have new knowledge and professor, from a fax  fared i have autither courses. i am i will continue work to anyone who wouldn my sciences at awesome one  and an a control without patron for everybody\"\". i am goes i've althoughnatic is start  a nuts continue for this course very clear to write engunite and loops.    but never moved deveateougle practice. he really appeased the assignment are active i argammently,it's well depedable. thought patron course codes. if a programming language if you write sta\")"
      ]
     },
     "execution_count": 45,
     "metadata": {
      "tags": []
     },
     "output_type": "execute_result"
    }
   ],
   "source": [
    "generated2 = generate_text(2000, 1)\n",
    "\n",
    "b2 = TextBlob(generated2)\n",
    "b2.correct()"
   ]
  }
 ],
 "metadata": {
  "accelerator": "GPU",
  "colab": {
   "collapsed_sections": [
    "urd9WIZolDqR"
   ],
   "name": "Try 8 char-based text generation bi-directional 100 epoch 36 char with punctuation early stop.ipynb",
   "provenance": []
  },
  "kernelspec": {
   "display_name": "Python 3",
   "language": "python",
   "name": "python3"
  },
  "language_info": {
   "codemirror_mode": {
    "name": "ipython",
    "version": 3
   },
   "file_extension": ".py",
   "mimetype": "text/x-python",
   "name": "python",
   "nbconvert_exporter": "python",
   "pygments_lexer": "ipython3",
   "version": "3.8.5"
  }
 },
 "nbformat": 4,
 "nbformat_minor": 1
}
