{
 "cells": [
  {
   "cell_type": "markdown",
   "metadata": {
    "id": "_U3UXcUglDqE"
   },
   "source": [
    "# Text Generation using Recurrent Neural Network"
   ]
  },
  {
   "cell_type": "markdown",
   "metadata": {
    "id": "J3bbjzTHYBcN"
   },
   "source": [
    "### Content\n",
    "- [1. Mounting the google drive to google colab](#1.-Mounting-the-google-drive-to-google-colab)\n",
    "- [2. Standard Imports for Recurrent Neural Networks](#2.-Standard-Imports-for-Recurrent-Neural-Networks)\n",
    "- [3. Loading the txt file that is used for RNN](#3.-Loading-the-txt-file-that-is-used-for-RNN)\n",
    "- [4. Exploring text dataset](#4.-Exploring-text-dataset)\n",
    "- [5. Numerical encode the sentences and features](#5.-Numerical-encode-the-sentences-and-features)\n",
    "- [6. train-test-split X and y](#6.-train-test-split-X-and-y)\n",
    "- [7. Create RNN model](#7.-Create-RNN-model)\n",
    "- [8. Creating ModelCheckpoint and callback requirements](#8.-Creating-ModelCheckpoint-and-callback-requirements)\n",
    "- [9.Training my RNN model](#9.Training-my-RNN-model)\n",
    "- [10. evaluating performance of model](#10.-evaluating-performance-of-model)\n",
    "  - [10.1 Training Accuracy & Loss](#10.1-Training-Accuracy-&-Loss)\n",
    "  - [10.2 Testing Accuracy & Loss](#10.2-Testing-Accuracy-&-Loss)\n",
    "  - [10.3 Plotting train and test together](#10.3-Plotting-train-and-test-together)\n",
    "- [11. Loading my pre-trained weights to resume training](#11.-Loading-my-pre-trained-weights-to-resume-training)\n",
    "- [12.Try generating text using help from keras.io](#12.Try-generating-text-using-help-from-keras.io)\n",
    "- [13. Try correct spelling of generating text using TextBlob](#13.-Try-correct-spelling-of-generating-text-using-TextBlob)\n",
    "- [14. Evaluation with other model runs & Conclusion](#14.-Evalulation-with-other-model-runs-&-Conclusion)"
   ]
  },
  {
   "cell_type": "markdown",
   "metadata": {
    "id": "gt0Nk6IcYBcT"
   },
   "source": [
    "### 1.  Mounting the google drive to google colab"
   ]
  },
  {
   "cell_type": "code",
   "execution_count": null,
   "metadata": {
    "colab": {
     "base_uri": "https://localhost:8080/"
    },
    "id": "BBpKtYn3YBcU",
    "outputId": "157d51e5-fea8-4bf1-812c-0aff137cf72e"
   },
   "outputs": [
    {
     "name": "stdout",
     "output_type": "stream",
     "text": [
      "Mounted at /content/gdrive\n"
     ]
    }
   ],
   "source": [
    "# mounting the my googledrive to google.colab\n",
    "# this is needed to save my weights, Neural Network model while it is running\n",
    "# the model, weights can be accessed at a later time if google colab disconnects\n",
    "\n",
    "from google.colab import drive\n",
    "drive.mount('/content/gdrive')"
   ]
  },
  {
   "cell_type": "markdown",
   "metadata": {
    "id": "-qoa-MVbYBcU"
   },
   "source": [
    "### 2. Standard Imports for Recurrent Neural Networks"
   ]
  },
  {
   "cell_type": "code",
   "execution_count": null,
   "metadata": {
    "id": "uAHzBz3EYBcV"
   },
   "outputs": [],
   "source": [
    "from __future__ import print_function\n",
    "\n",
    "# For preprocessing the text into integer(ids)\n",
    "# For plotting the accuracy and loss curve\n",
    "import numpy as np\n",
    "import matplotlib.pyplot as plt\n",
    "%matplotlib inline\n",
    "\n",
    "# regular expression to proprocess raw_text\n",
    "import regex as re\n",
    "\n",
    "# To instantiate Recurrent Neural Networks\n",
    "from keras.models import Sequential\n",
    "# My model will be dense with all the nodes to 'touch'\n",
    "from keras.layers import Dense, Activation\n",
    "# LSTM, GRU\n",
    "from keras.layers import LSTM, GRU\n",
    "# plot model architecture\n",
    "#from .keras.utils import plot_model\n",
    "\n",
    "# to create a callback, this will be a checkpoint\n",
    "from keras.callbacks import LambdaCallback, EarlyStopping\n",
    "\n",
    "# need to create a random seed to create a text, so the model will learn the sequence\n",
    "import random\n",
    "import sys\n",
    "import io"
   ]
  },
  {
   "cell_type": "markdown",
   "metadata": {
    "id": "0bCMNSlUYBcV"
   },
   "source": [
    "### 3. Loading the txt file that is used for RNN"
   ]
  },
  {
   "cell_type": "markdown",
   "metadata": {
    "id": "Hx1nVSB0lDqN"
   },
   "source": [
    "- rating 5.0 `reviews` for 'Python for Everybody' course from Coursera is converted to text format\n",
    "- it is preprocessed to remove url links, emoji. alphabets, spacing and necessary punctuations remains."
   ]
  },
  {
   "cell_type": "code",
   "execution_count": null,
   "metadata": {
    "id": "kytGHnmzYBcW"
   },
   "outputs": [],
   "source": [
    "# cd to pull my txt file from my google drive into google colab\n",
    "#%cd /content/gdrive/My Drive/Capstone/Data/\n",
    "\n",
    "# filename called 'out.txt'\n",
    "filename = \"rnn_text.txt\"\n",
    "\n",
    "# extract the raw text\n",
    "raw_text = open(filename, 'r', encoding='utf-8').read()\n",
    "\n",
    "\n",
    "# lowercase my text\n",
    "data = raw_text.lower()\n",
    "# remove url links\n",
    "data = re.sub(r'\\w+:\\/{2}[\\d\\w-]+(\\.[\\d\\w-]+)*(?:(?:\\/[^\\s/]*))*', '',data)\n",
    "# keep punctuations this time\n",
    "data = re.sub(\"[^a-zA-Z.,?!'\\\";:-]\", \" \", data)\n",
    "# strip to remove empty spaces before beginning and end of string\n",
    "data = data.strip()"
   ]
  },
  {
   "cell_type": "markdown",
   "metadata": {
    "id": "IAGJl1VyYBcW"
   },
   "source": [
    "### 4. Exploring text dataset"
   ]
  },
  {
   "cell_type": "markdown",
   "metadata": {
    "id": "gboa7HwFlDqO"
   },
   "source": [
    "- there are a total of 36 characters which includes spacing, alphabets and necessary punctuations\n",
    "- these unique characters are mapped to numerical values & vice-versa.\n",
    "- the numerical values are then mapped into np.zeros array for feeding into the RNN model\n",
    "- the output will be predicted np.zeros array which will be mapped back to numerical values and back to characters"
   ]
  },
  {
   "cell_type": "code",
   "execution_count": null,
   "metadata": {
    "colab": {
     "base_uri": "https://localhost:8080/"
    },
    "id": "UO2Vu0a5YBcW",
    "outputId": "65d90db1-2356-4fa2-f109-00a233875eab"
   },
   "outputs": [
    {
     "name": "stdout",
     "output_type": "stream",
     "text": [
      "total chars:  36\n"
     ]
    }
   ],
   "source": [
    "# set - find a list of specific characters \n",
    "# list - to convert characters into a list\n",
    "# sorted - to sort list into alphabetical order\n",
    "chars = sorted(list(set(data)))\n",
    "\n",
    "# count of total characters\n",
    "print('total chars: ', len(chars))"
   ]
  },
  {
   "cell_type": "code",
   "execution_count": null,
   "metadata": {
    "colab": {
     "base_uri": "https://localhost:8080/"
    },
    "id": "02sYdZzGYBcW",
    "outputId": "2d60904f-542b-45a1-cae1-bfa234a8e33c"
   },
   "outputs": [
    {
     "data": {
      "text/plain": [
       "{' ': 0,\n",
       " '!': 1,\n",
       " '\"': 2,\n",
       " \"'\": 3,\n",
       " ',': 4,\n",
       " '-': 5,\n",
       " '.': 6,\n",
       " ':': 7,\n",
       " ';': 8,\n",
       " '?': 9,\n",
       " 'a': 10,\n",
       " 'b': 11,\n",
       " 'c': 12,\n",
       " 'd': 13,\n",
       " 'e': 14,\n",
       " 'f': 15,\n",
       " 'g': 16,\n",
       " 'h': 17,\n",
       " 'i': 18,\n",
       " 'j': 19,\n",
       " 'k': 20,\n",
       " 'l': 21,\n",
       " 'm': 22,\n",
       " 'n': 23,\n",
       " 'o': 24,\n",
       " 'p': 25,\n",
       " 'q': 26,\n",
       " 'r': 27,\n",
       " 's': 28,\n",
       " 't': 29,\n",
       " 'u': 30,\n",
       " 'v': 31,\n",
       " 'w': 32,\n",
       " 'x': 33,\n",
       " 'y': 34,\n",
       " 'z': 35}"
      ]
     },
     "execution_count": 5,
     "metadata": {
      "tags": []
     },
     "output_type": "execute_result"
    }
   ],
   "source": [
    "# mapping the characters to numerical values & vice versa\n",
    "# this will be crucial for feeding into our RNN model\n",
    "# and required to map the predicted numerical values back to their corresponding characters\n",
    "\n",
    "char_indices = dict((c, i) for i, c in enumerate(chars))\n",
    "\n",
    "# noted that in this list of character mapping, there is no 'z' in text\n",
    "# noted that ' ' white space is counted as a character\n",
    "char_indices"
   ]
  },
  {
   "cell_type": "code",
   "execution_count": null,
   "metadata": {
    "colab": {
     "base_uri": "https://localhost:8080/"
    },
    "id": "Nk-1WoOYYBcX",
    "outputId": "691ea4c4-06cb-45ef-b8ef-1942e39ca7cb"
   },
   "outputs": [
    {
     "data": {
      "text/plain": [
       "{0: ' ',\n",
       " 1: '!',\n",
       " 2: '\"',\n",
       " 3: \"'\",\n",
       " 4: ',',\n",
       " 5: '-',\n",
       " 6: '.',\n",
       " 7: ':',\n",
       " 8: ';',\n",
       " 9: '?',\n",
       " 10: 'a',\n",
       " 11: 'b',\n",
       " 12: 'c',\n",
       " 13: 'd',\n",
       " 14: 'e',\n",
       " 15: 'f',\n",
       " 16: 'g',\n",
       " 17: 'h',\n",
       " 18: 'i',\n",
       " 19: 'j',\n",
       " 20: 'k',\n",
       " 21: 'l',\n",
       " 22: 'm',\n",
       " 23: 'n',\n",
       " 24: 'o',\n",
       " 25: 'p',\n",
       " 26: 'q',\n",
       " 27: 'r',\n",
       " 28: 's',\n",
       " 29: 't',\n",
       " 30: 'u',\n",
       " 31: 'v',\n",
       " 32: 'w',\n",
       " 33: 'x',\n",
       " 34: 'y',\n",
       " 35: 'z'}"
      ]
     },
     "execution_count": 6,
     "metadata": {
      "tags": []
     },
     "output_type": "execute_result"
    }
   ],
   "source": [
    "# this will be used from mapping numerical values back to characters\n",
    "indices_char = dict((i, c) for i, c in enumerate(chars))\n",
    "\n",
    "indices_char"
   ]
  },
  {
   "cell_type": "markdown",
   "metadata": {
    "id": "n2PqKRRWYBcX"
   },
   "source": [
    "### 5. Numerical encode the sentences and features"
   ]
  },
  {
   "cell_type": "markdown",
   "metadata": {
    "id": "zIG6n0gUlDqQ"
   },
   "source": [
    "- the numerical mapping will be encoded using np.zeros\n",
    "- maxlen=100, means the text input into the RNN model will be 100 characters long"
   ]
  },
  {
   "cell_type": "code",
   "execution_count": null,
   "metadata": {
    "colab": {
     "base_uri": "https://localhost:8080/"
    },
    "id": "6t-15OTOCRL-",
    "outputId": "ed939900-5263-4d0a-9438-a79112beffbc"
   },
   "outputs": [
    {
     "data": {
      "text/plain": [
       "1208987"
      ]
     },
     "execution_count": 7,
     "metadata": {
      "tags": []
     },
     "output_type": "execute_result"
    }
   ],
   "source": [
    "len(data)"
   ]
  },
  {
   "cell_type": "code",
   "execution_count": null,
   "metadata": {
    "id": "-6T91YIxY88-"
   },
   "outputs": [],
   "source": [
    "text = data"
   ]
  },
  {
   "cell_type": "code",
   "execution_count": null,
   "metadata": {
    "colab": {
     "base_uri": "https://localhost:8080/"
    },
    "id": "NFg7fOL6YBcX",
    "outputId": "1f104efd-ba60-4da4-a03e-6ddf65c12e43"
   },
   "outputs": [
    {
     "name": "stdout",
     "output_type": "stream",
     "text": [
      "nb sequences: 402963\n"
     ]
    }
   ],
   "source": [
    "maxlen = 100\n",
    "step = 3\n",
    "sentences = []\n",
    "next_chars = []\n",
    "for i in range(0, len(text) - maxlen, step):\n",
    "    sentences.append(text[i: i + maxlen])\n",
    "    next_chars.append(text[i + maxlen])\n",
    "print('nb sequences:', len(sentences))"
   ]
  },
  {
   "cell_type": "code",
   "execution_count": null,
   "metadata": {
    "colab": {
     "base_uri": "https://localhost:8080/"
    },
    "id": "m8zb6OtvYBcX",
    "outputId": "5f1c79a3-ab5b-420c-9c3d-bfaf6775992e"
   },
   "outputs": [
    {
     "name": "stdout",
     "output_type": "stream",
     "text": [
      "['just auditing this course helped me a lot in learning this language programming. attentive save the ', 't auditing this course helped me a lot in learning this language programming. attentive save the mon', 'uditing this course helped me a lot in learning this language programming. attentive save the money ', 'ting this course helped me a lot in learning this language programming. attentive save the money i w', 'g this course helped me a lot in learning this language programming. attentive save the money i will']\n",
      "['m', 'e', 'i', 'i', ' ']\n"
     ]
    }
   ],
   "source": [
    "print(sentences[:5])\n",
    "print(next_chars[:5])"
   ]
  },
  {
   "cell_type": "code",
   "execution_count": null,
   "metadata": {
    "colab": {
     "base_uri": "https://localhost:8080/"
    },
    "id": "7JhnfOy1YBcY",
    "outputId": "2e00bcc3-d1fe-4fd0-b9cd-56abf4d56424"
   },
   "outputs": [
    {
     "data": {
      "text/plain": [
       "1208987"
      ]
     },
     "execution_count": 11,
     "metadata": {
      "tags": []
     },
     "output_type": "execute_result"
    }
   ],
   "source": [
    "len(text)"
   ]
  },
  {
   "cell_type": "code",
   "execution_count": null,
   "metadata": {
    "id": "7cYHDMLGYBcY"
   },
   "outputs": [],
   "source": [
    "X = np.zeros((len(sentences), maxlen, len(chars)), dtype=np.bool)\n",
    "y = np.zeros((len(sentences), len(chars)), dtype=np.bool)\n",
    "for i, sentence in enumerate(sentences):\n",
    "    for t, char in enumerate(sentence):\n",
    "        X[i, t, char_indices[char]] = 1\n",
    "    y[i, char_indices[next_chars[i]]] = 1"
   ]
  },
  {
   "cell_type": "markdown",
   "metadata": {
    "id": "urd9WIZolDqR"
   },
   "source": [
    "### 6. train-test-split X and y"
   ]
  },
  {
   "cell_type": "markdown",
   "metadata": {
    "id": "xNlMlXthlDqS"
   },
   "source": [
    "X and y are split into train and test sets, **shuffle=False** is used as reviews are written in a sequence"
   ]
  },
  {
   "cell_type": "code",
   "execution_count": null,
   "metadata": {
    "id": "0It5TQIeYBcY"
   },
   "outputs": [],
   "source": [
    "from sklearn.model_selection import train_test_split\n",
    "X_train, X_test, y_train, y_test = train_test_split(X, y,  random_state=42, shuffle=False)"
   ]
  },
  {
   "cell_type": "markdown",
   "metadata": {
    "id": "E4z78W_4YBcY"
   },
   "source": [
    "### 7. Create RNN model\n",
    "\n",
    "model is created as a function for saving checkpoints in the future referenced from [source](https://towardsdatascience.com/checkpointing-deep-learning-models-in-keras-a652570b8de6)\n",
    "- model is instantiated with: \n",
    "  - Sequential(), \n",
    "  - then added in a LSTM layer batches of 128, input shape=(100, 36)\n",
    "  - then added a Dense layer with 36 characters which the RNN is trying to predict\n",
    "  - then a final Activation 'softmax' as the is a multi-class classification/prediction\n",
    "  \n",
    "- model is compiled with:\n",
    "  - loss = 'categorical_crossentropy' as it is multi-class classification\n",
    "  - optimizer='adam' which is standard\n",
    "  - metrics=['accuracy'] for classification"
   ]
  },
  {
   "cell_type": "code",
   "execution_count": null,
   "metadata": {
    "id": "5lOh0gSxYBcY"
   },
   "outputs": [],
   "source": [
    "# Define the model architecture \n",
    "\n",
    "def create_model():\n",
    "    #instantial\n",
    "    model = Sequential()\n",
    "    model.add(GRU(128, input_shape=(maxlen, len(chars))))\n",
    "    model.add(Dense(len(chars)))\n",
    "    model.add(Activation('softmax'))\n",
    "    \n",
    "    # Compiling the model\n",
    "    # as my model are one-hot encoded, i will use categorical_crossentropy\n",
    "    model.compile(loss='categorical_crossentropy',\n",
    "             optimizer='adam',\n",
    "             metrics=['accuracy'])\n",
    "    \n",
    "    return model\n",
    "\n",
    "#create the model\n",
    "model_ckpt= create_model()"
   ]
  },
  {
   "cell_type": "code",
   "execution_count": null,
   "metadata": {
    "colab": {
     "base_uri": "https://localhost:8080/"
    },
    "id": "n7HgXPRcYBcZ",
    "outputId": "3e2dda01-d8e5-4b4b-90e5-93178909b005"
   },
   "outputs": [
    {
     "name": "stdout",
     "output_type": "stream",
     "text": [
      "Model: \"sequential\"\n",
      "_________________________________________________________________\n",
      "Layer (type)                 Output Shape              Param #   \n",
      "=================================================================\n",
      "gru (GRU)                    (None, 128)               63744     \n",
      "_________________________________________________________________\n",
      "dense (Dense)                (None, 36)                4644      \n",
      "_________________________________________________________________\n",
      "activation (Activation)      (None, 36)                0         \n",
      "=================================================================\n",
      "Total params: 68,388\n",
      "Trainable params: 68,388\n",
      "Non-trainable params: 0\n",
      "_________________________________________________________________\n"
     ]
    }
   ],
   "source": [
    "model_ckpt.summary()"
   ]
  },
  {
   "cell_type": "code",
   "execution_count": null,
   "metadata": {
    "id": "uNx0IXONlDqT",
    "outputId": "877dc19a-d219-476a-ac7c-05914eb66158"
   },
   "outputs": [
    {
     "data": {
      "image/png": "[encoded data removed]",
      "text/plain": [
       "<IPython.core.display.Image object>"
      ]
     },
     "execution_count": 10,
     "metadata": {
      "tags": []
     },
     "output_type": "execute_result"
    }
   ],
   "source": [
    "from IPython.display import Image\n",
    "Image(filename='model topology.png')"
   ]
  },
  {
   "cell_type": "markdown",
   "metadata": {
    "id": "W0CLSREbYBcZ"
   },
   "source": [
    "### 8. Creating my ModelCheckpoint and callback requirements"
   ]
  },
  {
   "cell_type": "markdown",
   "metadata": {
    "id": "otJpN0zilDqT"
   },
   "source": [
    "- checkpoint path to save weights and best model if disconnection occurs while fitting"
   ]
  },
  {
   "cell_type": "code",
   "execution_count": null,
   "metadata": {
    "id": "MHtyQNWwYBcZ"
   },
   "outputs": [],
   "source": [
    "from keras.callbacks import ModelCheckpoint\n",
    "\n",
    "# specifying where my checkpoint files will be stored\n",
    "filepath = \"/content/gdrive/My Drive/Capstone/Data/\"\n",
    "\n",
    "# this ModelCheckpoint save weights and save the best model as it runs\n",
    "checkpoint = ModelCheckpoint(filepath, monitor='loss',\n",
    "                             save_weights_only=True, save_best_only=True,\n",
    "                             mode='min',verbose=1 )"
   ]
  },
  {
   "cell_type": "markdown",
   "metadata": {
    "id": "vFzUEesflDqT"
   },
   "source": [
    "- ReduceLROnPlateau: Reduce learning rate when a metric has stopped improving.\n",
    "    [source](https://keras.io/api/callbacks/reduce_lr_on_plateau/)"
   ]
  },
  {
   "cell_type": "code",
   "execution_count": null,
   "metadata": {
    "id": "cYhAn8OYYBcZ"
   },
   "outputs": [],
   "source": [
    "from keras.callbacks import ReduceLROnPlateau\n",
    "reduce_lr = ReduceLROnPlateau(monitor='loss', factor=0.2,\n",
    "                              patience=1, min_lr=0.001)"
   ]
  },
  {
   "cell_type": "code",
   "execution_count": null,
   "metadata": {
    "id": "HXQVUScfmF6f"
   },
   "outputs": [],
   "source": [
    "es = EarlyStopping(monitor='val_loss', patience=10)"
   ]
  },
  {
   "cell_type": "markdown",
   "metadata": {
    "id": "iJgJccDWlDqU"
   },
   "source": [
    "- adjust the temperature parameter to generate more or less random predictions when trying to generate text[source](https://www.tensorflow.org/tutorials/text/text_generation)\n",
    "- when temperature =1, means the samples produced will be more diverse\n"
   ]
  },
  {
   "cell_type": "code",
   "execution_count": null,
   "metadata": {
    "id": "ixHRPsWvYBca"
   },
   "outputs": [],
   "source": [
    "def sample(preds, temperature=1.0):\n",
    "    # helper function to sample an index from a probability array\n",
    "    preds = np.asarray(preds).astype('float64')\n",
    "    preds = np.log(preds) / temperature\n",
    "    exp_preds = np.exp(preds)\n",
    "    preds = exp_preds / np.sum(exp_preds)\n",
    "    probas = np.random.multinomial(1, preds, 1)\n",
    "    return np.argmax(probas)"
   ]
  },
  {
   "cell_type": "markdown",
   "metadata": {
    "id": "BTOnlej2lDqU"
   },
   "source": [
    "- the function generates text after each epoch, so we can monitor the progress of the model by the semantics of the text generated"
   ]
  },
  {
   "cell_type": "code",
   "execution_count": null,
   "metadata": {
    "id": "lHXesDLaYBca"
   },
   "outputs": [],
   "source": [
    "def on_epoch_end(epoch, logs):\n",
    "    # Function invoked at end of each epoch. Prints generated text.\n",
    "    print()\n",
    "    print('----- Generating text after Epoch: %d' % epoch)\n",
    "\n",
    "    start_index = random.randint(0, len(text) - maxlen - 1)\n",
    "    for diversity in [0.2, 0.5, 1.0, 1.2]:\n",
    "        print('----- diversity:', diversity)\n",
    "\n",
    "        generated = ''\n",
    "        sentence = text[start_index: start_index + maxlen]\n",
    "        generated += sentence\n",
    "        print('----- Generating with seed: \"' + sentence + '\"')\n",
    "        sys.stdout.write(generated)\n",
    "\n",
    "        for i in range(400):\n",
    "            x_pred = np.zeros((1, maxlen, len(chars)))\n",
    "            for t, char in enumerate(sentence):\n",
    "                x_pred[0, t, char_indices[char]] = 1.\n",
    "\n",
    "            preds = model_ckpt.predict(x_pred, verbose=0)[0]\n",
    "            next_index = sample(preds, diversity)\n",
    "            next_char = indices_char[next_index]\n",
    "\n",
    "            generated += next_char\n",
    "            sentence = sentence[1:] + next_char\n",
    "\n",
    "            sys.stdout.write(next_char)\n",
    "            sys.stdout.flush()\n",
    "        print()\n",
    "print_callback = LambdaCallback(on_epoch_end=on_epoch_end)"
   ]
  },
  {
   "cell_type": "code",
   "execution_count": null,
   "metadata": {
    "id": "o7QZCuU5YBca"
   },
   "outputs": [],
   "source": [
    "### combining all of my callbacks\n",
    "\n",
    "callbacks = [print_callback, checkpoint, reduce_lr, es]"
   ]
  },
  {
   "cell_type": "markdown",
   "metadata": {
    "id": "1PHLNmGOYBcb"
   },
   "source": [
    "### 9.Training my RNN model"
   ]
  },
  {
   "cell_type": "markdown",
   "metadata": {
    "id": "Wy_3aHYIlDqV"
   },
   "source": [
    "- model is trained for 100 epoch"
   ]
  },
  {
   "cell_type": "code",
   "execution_count": null,
   "metadata": {
    "colab": {
     "base_uri": "https://localhost:8080/"
    },
    "id": "ljBdvKorYBcb",
    "outputId": "62e6409c-c1f2-43ed-a308-2a7160854dcc"
   },
   "outputs": [
    {
     "name": "stdout",
     "output_type": "stream",
     "text": [
      "Epoch 1/100\n",
      "2362/2362 [==============================] - 57s 10ms/step - loss: 2.3328 - accuracy: 0.3442 - val_loss: 1.4882 - val_accuracy: 0.5762\n",
      "\n",
      "----- Generating text after Epoch: 0\n",
      "----- diversity: 0.2\n",
      "----- Generating with seed: \"arles russell severance. i learned comfortably throughout the course and was able to write some cool\"\n",
      "arles russell severance. i learned comfortably throughout the course and was able to write some coolle way the course is a great in the course in programming and the course the course is for a for a great course is a for the course in the course was a great course is a great a great course is a start to learn the basic course in python and the furst with the course and i way to programming the course is a great course and the explained the besing the course is a great course is and the explained\n",
      "----- diversity: 0.5\n",
      "----- Generating with seed: \"arles russell severance. i learned comfortably throughout the course and was able to write some cool\"\n",
      "arles russell severance. i learned comfortably throughout the course and was able to write some coolle very help so for a digale mo excersere and noted the explain python interested way the best war and the fers course enterout python in python and i to learn programming sture course is a really to beginners and at i very course fille and programming and the course in the fere besing the course for the course to professor and i fand the a good this course with very for the explese in the explate\n",
      "----- diversity: 1.0\n",
      "----- Generating with seed: \"arles russell severance. i learned comfortably throughout the course and was able to write some cool\"\n",
      "arles russell severance. i learned comfortably throughout the course and was able to write some coolise python prositings fur is great walle from abse for werced thas codeded etrowsedg. i'd hous for patimed is my course is nos exellenty great p of te charnes with who wafte wastay dentyone python in proseac courser was very beden it afgiening. of tor course us i painten. thin coursel python lokke, effecctor'pl  entw redis python in thes course is fof make computer in ans itly haro a beginndered i\n",
      "----- diversity: 1.2\n",
      "----- Generating with seed: \"arles russell severance. i learned comfortably throughout the course and was able to write some cool\"\n",
      "arles russell severance. i learned comfortably throughout the course and was able to write some cool mere which stmpline fiofell and tel sy quich hesput to dis is ec'eprell, bug chunk y go fe?thve.ychur, wary welly anderstand whttoung whok is to sucor to datns , findatived lemfunde stmert inopke to and suth, fuy toreabast to learn fin thedurar, can im of somplt and to becoume it t eole courses if python. in levine playing my ant mekeeis is jbuco,, hevyor, go in a buts and very n't be er lyof \"or\n",
      "\n",
      "Epoch 00001: loss improved from inf to 1.98142, saving model to /content/gdrive/My Drive/Capstone/Data/\n",
      "Epoch 2/100\n",
      "2362/2362 [==============================] - 24s 10ms/step - loss: 1.4941 - accuracy: 0.5715 - val_loss: 1.2674 - val_accuracy: 0.6346\n",
      "\n",
      "----- Generating text after Epoch: 1\n",
      "----- diversity: 0.2\n",
      "----- Generating with seed: \"rogramming background looking to take a step into that world. \" the tutor is really amazing.he never\"\n",
      "rogramming background looking to take a step into that world. \" the tutor is really amazing.he never in the course is a great course who want to the course is a great course and i was the course was a great course is very enjoyed this course is a great course in the course is a great course is a great course is very great course is a great course and the course is very great course in a bot the course is a great course is a great course for this course is a great course in a great course is a gr\n",
      "----- diversity: 0.5\n",
      "----- Generating with seed: \"rogramming background looking to take a step into that world. \" the tutor is really amazing.he never\"\n",
      "rogramming background looking to take a step into that world. \" the tutor is really amazing.he neverally learning course. learning the course is a good and course who easy to make the course and this course be. the course for this course is ansored in this course is very gind and computing and the courses of python was by coursera in the very great in and be bere course and this course world and experience in experience that this course is a sore good for me completed to the course in a sugiting\n",
      "----- diversity: 1.0\n",
      "----- Generating with seed: \"rogramming background looking to take a step into that world. \" the tutor is really amazing.he never\"\n",
      "rogramming background looking to take a step into that world. \" the tutor is really amazing.he never and ghis is for the felisarit me thanks it prossson, and elabmarse fir mencaination fol and aweyon, -thecking who was an assignments heging a stypt want this course i'l gront sxamplees apppechant oulzery.\" \"ollester programming for my coding patisily..thank you in a gand ef my pragerse septont wag to have recorred for these a teve and the maceding than using. hit brobuation for allot cincents, ch\n",
      "----- diversity: 1.2\n",
      "----- Generating with seed: \"rogramming background looking to take a step into that world. \" the tutor is really amazing.he never\"\n",
      "rogramming background looking to take a step into that world. \" the tutor is really amazing.he neveriction., i heve gean at thes incomesy.graveralls recilwert if my frcisurafing. a baticul weso!\" i'te berant learning reclan in the myseofes hat the fur beqiined thet right you to im vicso-tap thinks to the jost betbud the course..fighen i bu'd improce thee. boyesty bly dantion is. he inss texchantica.trous python. of, hhrics its.thing his deficaure of to thingiclow.\" \"class.\" \" am sury languane fi\n",
      "\n",
      "Epoch 00002: loss improved from 1.98142 to 1.43677, saving model to /content/gdrive/My Drive/Capstone/Data/\n",
      "Epoch 3/100\n",
      "2362/2362 [==============================] - 24s 10ms/step - loss: 1.3083 - accuracy: 0.6215 - val_loss: 1.1781 - val_accuracy: 0.6582\n",
      "\n",
      "----- Generating text after Epoch: 2\n",
      "----- diversity: 0.2\n",
      "----- Generating with seed: \"o has a lot of knowledge in the field of programming, yet he delivers a simple yet powerful classes \"\n",
      "o has a lot of knowledge in the field of programming, yet he delivers a simple yet powerful classes and i was a real the course is a great programming language and i was a with the course is a great course and the course in the course is a great programming and the course in the course was a great experience in the course in the course is start to learn python and the course is a great course in the course is a great course and introduction to learn python programming was and i was a great cours\n",
      "----- diversity: 0.5\n",
      "----- Generating with seed: \"o has a lot of knowledge in the field of programming, yet he delivers a simple yet powerful classes \"\n",
      "o has a lot of knowledge in the field of programming, yet he delivers a simple yet powerful classes and more courses and programming of the course in the best course and helped more course and python for helpful to learn python.                                                                                                                                                                                                                                                                                \n",
      "----- diversity: 1.0\n",
      "----- Generating with seed: \"o has a lot of knowledge in the field of programming, yet he delivers a simple yet powerful classes \"\n",
      "o has a lot of knowledge in the field of programming, yet he delivers a simple yet powerful classes mimer am not finds tack more this course. \" \"gererce divelobe structures if mayher and code ferinis eastible python or python and structor fam. are makes some yigh way.  for the course. i hould he effectina in introdutions to-understand, and for prefor if you coursere mace do. introductory not dignure that i can's if excilet! \" exterting providing learled. of. profassicted first to from assint.   \n",
      "----- diversity: 1.2\n",
      "----- Generating with seed: \"o has a lot of knowledge in the field of programming, yet he delivers a simple yet powerful classes \"\n",
      "o has a lot of knowledge in the field of programming, yet he delivers a simple yet powerful classes to more nat in wetter stiles to it your whole and know! hesing it rasimed with algays!   sturees grial ingatding, so thionally it asstelpsite thy mort forubteven all part the noo provismance stvecals sorough it fow you had and sterfble on every alsappice and houle great fell hasp ferest and you are viteal and speppfom had al all s ogreatt ne.d a montibue bangred out steptsoute\" \"it.issome.i have l\n",
      "\n",
      "Epoch 00003: loss improved from 1.43677 to 1.28563, saving model to /content/gdrive/My Drive/Capstone/Data/\n",
      "Epoch 4/100\n",
      "2362/2362 [==============================] - 23s 10ms/step - loss: 1.2174 - accuracy: 0.6456 - val_loss: 1.1271 - val_accuracy: 0.6721\n",
      "\n",
      "----- Generating text after Epoch: 3\n",
      "----- diversity: 0.2\n",
      "----- Generating with seed: \"the next steps. great introduction to python and programming as a whole. everything is broken down m\"\n",
      "the next steps. great introduction to python and programming as a whole. everything is broken down material and i have a lot of the course is very encourage the course and i completed this course is a great course and i loved this course is a great course to learn python programming and programming and i was a great course to the best course and i have never the course and i am a great course for the course is a great course and learn python and continue the course and i content and complete thi\n",
      "----- diversity: 0.5\n",
      "----- Generating with seed: \"the next steps. great introduction to python and programming as a whole. everything is broken down m\"\n",
      "the next steps. great introduction to python and programming as a whole. everything is broken down more and programming entoreding the complext course. \" \"i am so the course is a great course and i would learned fund the course and the course is understand the way of the course and understand and excellent course for everybody who have beginner for everybody and such a good of course and the course is been a little basic started by start help do started betone and confidence sure so the best pro\n",
      "----- diversity: 1.0\n",
      "----- Generating with seed: \"the next steps. great introduction to python and programming as a whole. everything is broken down m\"\n",
      "the next steps. great introduction to python and programming as a whole. everything is broken down my programmers that has really had   courser  so learning programmers about programming only helped out the beginning provided with the student coursera course haking this course coudse whecher helpfull struggrable tore his. it and the basic to geve all that all who dact he whik sees to sund is pact of my skill spemically geathers, you and imp-course to inderfted to everyone worth if your knowled e\n",
      "----- diversity: 1.2\n",
      "----- Generating with seed: \"the next steps. great introduction to python and programming as a whole. everything is broken down m\"\n",
      "the next steps. great introduction to python and programming as a whole. everything is broken down mikes i love, but feil interviela and engigintion explanatel, is rasses intopme.i ew i kamazing course.  for a wespyon\" \" reat after spemitios some.\" \"i will learn fanithing for veryle nitim clofititiova pood, the were many great knowledge of engmiquise course; and uneviciaitivs all stamplet and of the over thank you are leaster helpty while programming suncoft'a, just yeut..\" \"i upgriate, dr. cave\n",
      "\n",
      "Epoch 00004: loss improved from 1.28563 to 1.20786, saving model to /content/gdrive/My Drive/Capstone/Data/\n",
      "Epoch 5/100\n",
      "2362/2362 [==============================] - 25s 10ms/step - loss: 1.1595 - accuracy: 0.6607 - val_loss: 1.0988 - val_accuracy: 0.6799\n",
      "\n",
      "----- Generating text after Epoch: 4\n",
      "----- diversity: 0.2\n",
      "----- Generating with seed: \"in some textbook but don't go with simplicity. many new students need something that is simple and c\"\n",
      "in some textbook but don't go with simplicity. many new students need something that is simple and computer science with the concepts and a great course for a great course and the instructor dr. chuck is a great course and when i was a beginner and it was a great course for the basics and a great course and this course is the concepts and i was a beginner which is a great course for beginners who want to start python programming language. i have a good course for the best course to the best prog\n",
      "----- diversity: 0.5\n",
      "----- Generating with seed: \"in some textbook but don't go with simplicity. many new students need something that is simple and c\"\n",
      "in some textbook but don't go with simplicity. many new students need something that is simple and computer this class in python course for hew the teacher is really all the interesting and many this course in python programming and but the concepts to the thank you to learn python.                                                                                                                                                                                                                         \n",
      "----- diversity: 1.0\n",
      "----- Generating with seed: \"in some textbook but don't go with simplicity. many new students need something that is simple and c\"\n",
      "in some textbook but don't go with simplicity. many new students need something that is simple and clear and computer thioking..\" the terts if enjoyed -  de, online, proop mist on the beginner for anyention i'teder inta this to real jos en inta python.  \"glessed in skilf was'val to me the interviewal, while lecture and \"cho, bytcom all works you. it \" the course is a gieding to start to be stuct leffor chupkes blen tich is so muching indating also how the lestun atle.think muchever. i have no pr\n",
      "----- diversity: 1.2\n",
      "----- Generating with seed: \"in some textbook but don't go with simplicity. many new students need something that is simple and c\"\n",
      "in some textbook but don't go with simplicity. many new students need something that is simple and clearraterbue to suthour boinf,ingoone and difniceles and everything dicaglow. hours, alve a wort which for,didenitr enjoyed really level ageed scvall teachiining reallancing just without the lecture mightate for beginners try and implived the content uffing, choostidale starimataction. .   ha'dly suco sputial, you know-\"working to be was a not for meplovied fohiend. this course with like this spec\n",
      "\n",
      "Epoch 00005: loss improved from 1.20786 to 1.15754, saving model to /content/gdrive/My Drive/Capstone/Data/\n",
      "Epoch 6/100\n",
      "2362/2362 [==============================] - 24s 10ms/step - loss: 1.1178 - accuracy: 0.6716 - val_loss: 1.0786 - val_accuracy: 0.6833\n",
      "\n",
      "----- Generating text after Epoch: 5\n",
      "----- diversity: 0.2\n",
      "----- Generating with seed: \" ottimo corso per chi   alle prime armi con la programmazione in generale. per chi ha gi  fondamenti\"\n",
      " ottimo corso per chi   alle prime armi con la programmazione in generale. per chi ha gi  fondamenting the course in python and the instructor is very has a great course to learn python for the basics and the course is a great teacher is an amazing and the course is an amazing this course was a great course in the programming language and i was a great course to the programming and i have not this course to the entire to the next course i have a good and i was a great course for beginners and th\n",
      "----- diversity: 0.5\n",
      "----- Generating with seed: \" ottimo corso per chi   alle prime armi con la programmazione in generale. per chi ha gi  fondamenti\"\n",
      " ottimo corso per chi   alle prime armi con la programmazione in generale. per chi ha gi  fondamenting that i for tho of the course in python for short there and courses and the way the instructor is a prectice introduction to programming and the course was and programmers and i would learn the course in coding it is a for the best course is for anyone who has a great person and i can all the course is an explaining the course. i am very introductory knowledge who want to start the coding in the\n",
      "----- diversity: 1.0\n",
      "----- Generating with seed: \" ottimo corso per chi   alle prime armi con la programmazione in generale. per chi ha gi  fondamenti\"\n",
      " ottimo corso per chi   alle prime armi con la programmazione in generale. per chi ha gi  fondamentivate it would definitely beteren thit if i when it perpen't his takes informative, of me taken you harp for moth whothant, very learn dr. chuck. of the that i don't have not learn thinking that this language ,thanks to the will grasqured in the time with python for shemps and is a gent, and to opting thinks it only icaul to learn. he is geed experience through i coully some python was -   \" \"a mit\n",
      "----- diversity: 1.2\n",
      "----- Generating with seed: \" ottimo corso per chi   alle prime armi con la programmazione in generale. per chi ha gi  fondamenti\"\n",
      " ottimo corso per chi   alle prime armi con la programmazione in generale. per chi ha gi  fondamenti yough  don't recommend the instruchor toughing the make overwall,. aga inthoust moding they him looking and more foundation you have not universitions in the lectures ,as if a very bswa dipts to be been a fee the way. i was save into guized to' med the pain pythans so muchuming.  very simely can agreach for atsifom ip every atiticns, n,tites to depore were verining learning python onhoning. a lot\n",
      "\n",
      "Epoch 00006: loss improved from 1.15754 to 1.12182, saving model to /content/gdrive/My Drive/Capstone/Data/\n",
      "Epoch 7/100\n",
      "2362/2362 [==============================] - 25s 10ms/step - loss: 1.0925 - accuracy: 0.6772 - val_loss: 1.0684 - val_accuracy: 0.6875\n",
      "\n",
      "----- Generating text after Epoch: 6\n",
      "----- diversity: 0.2\n",
      "----- Generating with seed: \"th the mentor namely sir charles severance.he taught us from ground to top.so i rated this course   \"\n",
      "th the mentor namely sir charles severance.he taught us from ground to top.so i rated this course                                                                                                                                                                                                                                                                                                                                                                                                                   \n",
      "----- diversity: 0.5\n",
      "----- Generating with seed: \"th the mentor namely sir charles severance.he taught us from ground to top.so i rated this course   \"\n",
      "th the mentor namely sir charles severance.he taught us from ground to top.so i rated this course                                                                                                                                                                                                                                                                                                                                                                                                                   \n",
      "----- diversity: 1.0\n",
      "----- Generating with seed: \"th the mentor namely sir charles severance.he taught us from ground to top.so i rated this course   \"\n",
      "th the mentor namely sir charles severance.he taught us from ground to top.so i rated this course    the tean over tce was coursera. the way has an any one ware more explanations who so invel i was free and work.\" it fastanlying the basic courses his you sem his lenter, the experience and the instructor i chreak\" actuvion who wants to learn more informative that you   \" \"i hid mid so i recommend, how the next blisking more course was, even but he meded every ween see the basic can improve the so\n",
      "----- diversity: 1.2\n",
      "----- Generating with seed: \"th the mentor namely sir charles severance.he taught us from ground to top.so i rated this course   \"\n",
      "th the mentor namely sir charles severance.he taught us from ground to top.so i rated this course   like codex less languages it is grant interviewization foildable and learned to give offer this questionibs or\" highly ..\" what my in right wan has in programming. havengraded the profeccolleag exterfin to filis ares tooz. \" \"i learned froe bened doweross, and also ham much can nepe .\" heodigyt tle in of coding and for ily sunfer huld achovers is projainally forward to to practile and professor ca\n",
      "\n",
      "Epoch 00007: loss improved from 1.12182 to 1.09422, saving model to /content/gdrive/My Drive/Capstone/Data/\n",
      "Epoch 8/100\n",
      "2362/2362 [==============================] - 24s 10ms/step - loss: 1.0674 - accuracy: 0.6841 - val_loss: 1.0577 - val_accuracy: 0.6908\n",
      "\n",
      "----- Generating text after Epoch: 7\n",
      "----- diversity: 0.2\n",
      "----- Generating with seed: \"t!\" the course is very detailed and helps a beginner or someone who is returning to programming afte\"\n",
      "t!\" the course is very detailed and helps a beginner or someone who is returning to programming after the course and the teacher is an amazing course for a great job of the course in a great teacher in the best course is a great teacher is a great teacher with the course introduction to programming and also that i can the teacher interview with the course and the materials and the programming language i have a great introduction to programming and and i think the course is a great teacher with t\n",
      "----- diversity: 0.5\n",
      "----- Generating with seed: \"t!\" the course is very detailed and helps a beginner or someone who is returning to programming afte\"\n",
      "t!\" the course is very detailed and helps a beginner or someone who is returning to programming after the best course in python and the mode i can easy to understand and easy to understand and computer science is a good experience interested and the materials and its turoustre and completed the course and had no programming your basics of python programming languages. the instructions are a beginner in python.                                                                                       \n",
      "----- diversity: 1.0\n",
      "----- Generating with seed: \"t!\" the course is very detailed and helps a beginner or someone who is returning to programming afte\"\n",
      "t!\" the course is very detailed and helps a beginner or someone who is returning to programming after specifticning atstirn your and usitiluthen by dadactly, but nothing   persent and introduction to many complex to an upfriatby that it and and the teacher beficades insmelld. thatk you swein encould, a great jest science for a thanks for any trigrasts \"ingred by understanding puthly.thanks to complete co easier to anyone\" flar! i'fle i had learning the cursicive peotle and excellent! i will degi\n",
      "----- diversity: 1.2\n",
      "----- Generating with seed: \"t!\" the course is very detailed and helps a beginner or someone who is returning to programming afte\"\n",
      "t!\" the course is very detailed and helps a beginner or someone who is returning to programming after dass to ce-taking  why interested. i explala lent i canes to sirent.i fanticulatereded anyone whole couns. and anginner and worked thatk coursera, amazing manngroot : \"i think from easier at; this inhan complet, ald it worked and you dadat stugy.  the prosicatiely i definitely recommend other con!inta truchuning tauch attay manner: it was abeoned do start teacher ext.lover hes. an into dr.ast so\n",
      "\n",
      "Epoch 00008: loss improved from 1.09422 to 1.07234, saving model to /content/gdrive/My Drive/Capstone/Data/\n",
      "Epoch 9/100\n",
      "2362/2362 [==============================] - 24s 10ms/step - loss: 1.0530 - accuracy: 0.6878 - val_loss: 1.0463 - val_accuracy: 0.6947\n",
      "\n",
      "----- Generating text after Epoch: 8\n",
      "----- diversity: 0.2\n",
      "----- Generating with seed: \" this course as it starts at a basic level and concepts are very clear. also, you have the necessary\"\n",
      " this course as it starts at a basic level and concepts are very clear. also, you have the necessary to learn python best course is very interesting and i would recommend this course for beginners and i would like to start this course is very interested in the best course is so concepts and computer science in a very beginners with the best course for a week as a beginner and i would like to learn python before and i would like to complete the course for a beginner and i would recommend this cou\n",
      "----- diversity: 0.5\n",
      "----- Generating with seed: \" this course as it starts at a basic level and concepts are very clear. also, you have the necessary\"\n",
      " this course as it starts at a basic level and concepts are very clear. also, you have the necessary in programming and also good and amazing and had a really enjoyed the teacher who is a very getting for this course i started for a great person with the best interesting and he is an excellent course for beginners. i would like to learn the lectures and the person and the best instructor is great than anyone with the teacher students who do start and easy to understand through the lectures with \n",
      "----- diversity: 1.0\n",
      "----- Generating with seed: \" this course as it starts at a basic level and concepts are very clear. also, you have the necessary\"\n",
      " this course as it starts at a basic level and concepts are very clear. also, you have the necessary inso very enough to be vasie and me way to really actually are help? he is a bearting python fandabter. make or this turout appreciate some of instructor dat  thas and ay as made the instructures miming, and the assignments. i had no canct te coding ares languages ane thour can be an experience witl online course. basived dictures buc easy to learn.  thank you, and ancourse programming than some \n",
      "----- diversity: 1.2\n",
      "----- Generating with seed: \" this course as it starts at a basic level and concepts are very clear. also, you have the necessary\"\n",
      " this course as it starts at a basic level and concepts are very clear. also, you have the necessary is the abarg itfricur of my awass propec, my videos pare entirestar! betues.every usever net moith one! thank you\" even the take overed waining a beginee ork to begins out -. were videos and grases.charles yeed walk if you are but i complete much use professor  duch mimflier best attendeon mores .a beltionse, he is advise it enhbuce of good. bases i have the memext andoutome of the legrates. my o\n",
      "\n",
      "Epoch 00009: loss improved from 1.07234 to 1.05374, saving model to /content/gdrive/My Drive/Capstone/Data/\n",
      "Epoch 10/100\n",
      "2362/2362 [==============================] - 24s 10ms/step - loss: 1.0340 - accuracy: 0.6925 - val_loss: 1.0462 - val_accuracy: 0.6939\n",
      "\n",
      "----- Generating text after Epoch: 9\n",
      "----- diversity: 0.2\n",
      "----- Generating with seed: \" lead  you a not the infinity level but a level where you can know python,  where you can be a progr\"\n",
      " lead  you a not the infinity level but a level where you can know python,  where you can be a programming language to the best course in the course and the course is a great teacher with the course in the course i have to the next course in python and start with the course is a great introduction to programming and start learning python programming language and start learning python programming courses of the course in python and the course is a great course for beginners. the course is a great\n",
      "----- diversity: 0.5\n",
      "----- Generating with seed: \" lead  you a not the infinity level but a level where you can know python,  where you can be a progr\"\n",
      " lead  you a not the infinity level but a level where you can know python,  where you can be a programming language and not training this course if you have the course in computer science in this course and also the course and the way to take a professor easy and enjoying the course i hope to coursera and also great information in funny and start, but this course was a great job and starting to coursera is the basic programming language for beginners. i am very excited to coursera and the instru\n",
      "----- diversity: 1.0\n",
      "----- Generating with seed: \" lead  you a not the infinity level but a level where you can know python,  where you can be a progr\"\n",
      " lead  you a not the infinity level but a level where you can know python,  where you can be a programming, with him working! mrybse. i was an etss sime. thank you. but notention to real you follow a mutto world to all.  perstack in this way and every class in python learnersn looking for that being students to glis  study everybody  its continue thing. you have there with it well as the veronically lanas students which is my feercage remidastic but coursera thur helped!  of michigan, brgare and\n",
      "----- diversity: 1.2\n",
      "----- Generating with seed: \" lead  you a not the infinity level but a level where you can know python,  where you can be a progr\"\n",
      " lead  you a not the infinity level but a level where you can know python,  where you can be a programming each manner with functions whone.\" \"very baxi; one with that beck! i absolutely aperbact and got you wrile engegerse too pane.letasoughe as a thing and well. online learness. easy to online.  i sme lithraule con.fas as it's very halps. its'se real, who is this course with learners.it resoverk enralsed mestay exmentic seame i come alr.astes the cquriesting. comementing-towbl,natis professor \n",
      "\n",
      "Epoch 00010: loss improved from 1.05374 to 1.03809, saving model to /content/gdrive/My Drive/Capstone/Data/\n",
      "Epoch 11/100\n",
      "2362/2362 [==============================] - 24s 10ms/step - loss: 1.0200 - accuracy: 0.6962 - val_loss: 1.0392 - val_accuracy: 0.6966\n",
      "\n",
      "----- Generating text after Epoch: 10\n",
      "----- diversity: 0.2\n",
      "----- Generating with seed: \"nts to start their career as a programmer.!! thank you coursera and  professor for giving us this op\"\n",
      "nts to start their career as a programmer.!! thank you coursera and  professor for giving us this opportunity to python and it was a great course for beginners. the course was a great teacher who want to learn python and i have not in this course and i was able to complete the course is very good and the course is very good and have a lot of the course and the course is very good and helped me a lot of experience in this course and i have not start this course and i would recommend this course f\n",
      "----- diversity: 0.5\n",
      "----- Generating with seed: \"nts to start their career as a programmer.!! thank you coursera and  professor for giving us this op\"\n",
      "nts to start their career as a programmer.!! thank you coursera and  professor for giving us this opportunity to a.but i have never not time to being a lectures and i will have a lot of experience in a very makes the programming and i have never get background on this course and the material were very interesting. now instruction, it was amazing course. i really learn the course is a great than i am very clear and helps me who do not have a few interesting with python that it and you want to lea\n",
      "----- diversity: 1.0\n",
      "----- Generating with seed: \"nts to start their career as a programmer.!! thank you coursera and  professor for giving us this op\"\n",
      "nts to start their career as a programmer.!! thank you coursera and  professor for giving us this opposting as much of the base. start.\" this quiz make it very student instructor omatic teom statement and the specofuated additionat osthoul community new condinions with python. less programming  i'm feel fine hard the plactw that oll where and the basac specially to de lecture language it very step by students bestee in sangaule,things ageend, who taught a very easied to eash you. and good course\n",
      "----- diversity: 1.2\n",
      "----- Generating with seed: \"nts to start their career as a programmer.!! thank you coursera and  professor for giving us this op\"\n",
      "nts to start their career as a programmer.!! thank you coursera and  professor for giving us this opprouring spperiented. i use' me jov. before past tomard on programming radiant thele outsmolleding should take each challs ver of   \" \"funny and decans withont palpenter\" i retolving the knowledge of whod clos. the own the renaile  coding class in i spreat!! crise assift be or there is recommend.\" got d time!  i lmaster and a since if you have needy on your, hours. his my colleges from other come \n",
      "\n",
      "Epoch 00011: loss improved from 1.03809 to 1.02494, saving model to /content/gdrive/My Drive/Capstone/Data/\n",
      "Epoch 12/100\n",
      "2362/2362 [==============================] - 24s 10ms/step - loss: 1.0070 - accuracy: 0.7000 - val_loss: 1.0383 - val_accuracy: 0.6966\n",
      "\n",
      "----- Generating text after Epoch: 11\n",
      "----- diversity: 0.2\n",
      "----- Generating with seed: \"e having any prior programming language knowledge. it will be a waste of time. but for a beginner, t\"\n",
      "e having any prior programming language knowledge. it will be a waste of time. but for a beginner, the course is a great teacher who have no programming language and i am a great teacher who is a great to anyone who wants to learn python and i was a bit some courses of the course is very good and i would like to thank you can teach this course was explained in the professor charles severance is a great teacher who is a great teacher who is the best course and i was able to complete this course w\n",
      "----- diversity: 0.5\n",
      "----- Generating with seed: \"e having any prior programming language knowledge. it will be a waste of time. but for a beginner, t\"\n",
      "e having any prior programming language knowledge. it will be a waste of time. but for a beginner, this course is deep a for the course which is an amazing course to programming. thank you for this course to learn a beginner. this is a great programming language to start with python. the course is very easy to learn and i would learn by programming. highly recommended to programming and i was the exercises to this course i have a beginner which is because i know nothing about programming languag\n",
      "----- diversity: 1.0\n",
      "----- Generating with seed: \"e having any prior programming language knowledge. it will be a waste of time. but for a beginner, t\"\n",
      "e having any prior programming language knowledge. it will be a waste of time. but for a beginner, thanks to simple puringubity forube to prof. s very helpful concepts. \" \"i tele about python for it. \" \"this is a really explained for beginners in he to professor charles severance is a very well santable. stars, but it is a great to the only course of the most course to keeps nite topic assignments, but of itterally russules basic course to me with the  dr. chuck was adays,-things less material i\n",
      "----- diversity: 1.2\n",
      "----- Generating with seed: \"e having any prior programming language knowledge. it will be a waste of time. but for a beginner, t\"\n",
      "e having any prior programming language knowledge. it will be a waste of time. but for a beginner, the way of just make here courses. it was verong ingormustory was funno, specializational has basig nots of python. the answered i could have downtr don. staff vise of this course aren't very such a biffeematess.\" aighly not had spewinnce teacher!!!thinging  there are ham he makes really univers to the professor agr sumwortwon. it also enjoyable and he mente foumming. a great quizdes, dr. chuck, ma\n",
      "\n",
      "Epoch 00012: loss improved from 1.02494 to 1.01243, saving model to /content/gdrive/My Drive/Capstone/Data/\n",
      "Epoch 13/100\n",
      "2362/2362 [==============================] - 24s 10ms/step - loss: 0.9967 - accuracy: 0.7014 - val_loss: 1.0353 - val_accuracy: 0.6997\n",
      "\n",
      "----- Generating text after Epoch: 12\n",
      "----- diversity: 0.2\n",
      "----- Generating with seed: \"o long that it was daunting to finish and it did not take too much weekly free time either. despite \"\n",
      "o long that it was daunting to finish and it did not take too much weekly free time either. despite the course is very good and the way dr. chuck is a great course to learn python and i would like to learn python and the teacher is very good and i would recommend this course to start learning python and the professor is the best to the professor he has a great course for a programming language and also in the best course i have a great course for a persor and the way the best course i have no pr\n",
      "----- diversity: 0.5\n",
      "----- Generating with seed: \"o long that it was daunting to finish and it did not take too much weekly free time either. despite \"\n",
      "o long that it was daunting to finish and it did not take too much weekly free time either. despite to the next learning python course and i was from a so thank you coursera for the course in a great introductory course to any toolly and interesting and i found the course in a strong for everybody in the first online course for beginners.  \" \"this course is deep interactive and well structured and the learning python programming language, the course and the best course the way that is a great co\n",
      "----- diversity: 1.0\n",
      "----- Generating with seed: \"o long that it was daunting to finish and it did not take too much weekly free time either. despite \"\n",
      "o long that it was daunting to finish and it did not take too much weekly free time either. despite acculate using a noning a step you to goes.  do paction through i tyse in programming with the possibouglly completely assignments, and such your week of non-jos only the about teaching about the simple platforms in a mistabling course anyone want to lookication and there what is the best material, and i've trued in teech the teacher and the doon is troloved engaged to get staugf you another learn\n",
      "----- diversity: 1.2\n",
      "----- Generating with seed: \"o long that it was daunting to finish and it did not take too much weekly free time either. despite \"\n",
      "o long that it was daunting to finish and it did not take too much weekly free time either. despite fut o fiendedr specialization to ichints to complete underliamoly covercer what's learnt to easz so eaphation than you can it'lo, be a i adver intersate been problems students computerble this tsfouction.thth, a great relatcorities.,ither, but really ancower detailar mys wello, feel, the asailing, thank yoursest unique anyone who's an explained a tell, book, its afwerstays theint the series for mo\n",
      "\n",
      "Epoch 00013: loss improved from 1.01243 to 1.00214, saving model to /content/gdrive/My Drive/Capstone/Data/\n",
      "Epoch 14/100\n",
      "2362/2362 [==============================] - 26s 11ms/step - loss: 0.9830 - accuracy: 0.7061 - val_loss: 1.0322 - val_accuracy: 0.7000\n",
      "\n",
      "----- Generating text after Epoch: 13\n",
      "----- diversity: 0.2\n",
      "----- Generating with seed: \"ob at explaining every aspect of python, which makes learning programming much easier that i thought\"\n",
      "ob at explaining every aspect of python, which makes learning programming much easier that i thought it was a great course for beginners with a programming language. the course is a great course for beginners and the course was a great course and the best part of the best course is a great job of programming and interesting and also concepts and also interesting and the course was a great course to anyone who has a great course for beginners. the course is a great course to anyone who don't know\n",
      "----- diversity: 0.5\n",
      "----- Generating with seed: \"ob at explaining every aspect of python, which makes learning programming much easier that i thought\"\n",
      "ob at explaining every aspect of python, which makes learning programming much easier that i thought more exceptional to dr. chuck, and the course was very good and explaining the concepts and also are explaining and its sure that is very good and exercises in programming and complixation in python. the course is very good and excellent and i like the concepts of programming programming skills. prof. charles severance and coursera they are excellent teacher and explains the course in the beginne\n",
      "----- diversity: 1.0\n",
      "----- Generating with seed: \"ob at explaining every aspect of python, which makes learning programming much easier that i thought\"\n",
      "ob at explaining every aspect of python, which makes learning programming much easier that i thought it for helping this is skick of pyth n-course it i don't know anating like your ling an tatining to learn the pain lock.\" \" this orgent to anybody were good and i thought myself and any course inslided the most of the vidio super in python while learned some wish more pry thank you diment studies are eor-giod was seem in absul and speaking , this was comere as well.. all were actually realll and \n",
      "----- diversity: 1.2\n",
      "----- Generating with seed: \"ob at explaining every aspect of python, which makes learning programming much easier that i thought\"\n",
      "ob at explaining every aspect of python, which makes learning programming much easier that i thought it doe. it's very him toll to you dusimed teth. . stot-buites.\" \"ftrengayed it gots. love the codes, time.\"  i want the strong manner, motelitied and whel in plannical way.thank you, anyone was approach basics.\" \" everything is solf did a duiles.over learn his my ohater. i always asouet, this course was quitele and yee! i stett exception i was ex corrabletto, in programming, and try introductor o\n",
      "\n",
      "Epoch 00014: loss improved from 1.00214 to 0.99235, saving model to /content/gdrive/My Drive/Capstone/Data/\n",
      "Epoch 15/100\n",
      "2362/2362 [==============================] - 27s 11ms/step - loss: 0.9774 - accuracy: 0.7072 - val_loss: 1.0363 - val_accuracy: 0.6977\n",
      "\n",
      "----- Generating text after Epoch: 14\n",
      "----- diversity: 0.2\n",
      "----- Generating with seed: \"y good, interesting, interactive and efficient. this course really helps in learning and brushing up\"\n",
      "y good, interesting, interactive and efficient. this course really helps in learning and brushing up my first course in the concepts of programming. i have took this course to coursera and the instructor is very easy to learn python. i am so concint experience in this course and i have everybody who wants to learn python and i would like to get in this course to everyone who wants to learn python and i was able to code and the instructor is very easy to complete the concepts who wants to learn p\n",
      "----- diversity: 0.5\n",
      "----- Generating with seed: \"y good, interesting, interactive and efficient. this course really helps in learning and brushing up\"\n",
      "y good, interesting, interactive and efficient. this course really helps in learning and brushing up to the way the getson with programming in general. the course is a great teacher who want to get even better the concepts and the way of teaching the material and the exercises and he presented and explain the concepts and have a good and dr. chuck is the programming language and the basics of python and the programming language and the instructor is so this course because i have learned a lot in\n",
      "----- diversity: 1.0\n",
      "----- Generating with seed: \"y good, interesting, interactive and efficient. this course really helps in learning and brushing up\"\n",
      "y good, interesting, interactive and efficient. this course really helps in learning and brushing up the lectures suics to takes: the way of exercises and quality of the very digetter, ard the person a truly skill and as in programming,instructor dether course for getting no seew. before dr. chuck for truchan in any programming and classes in simple with caminatalled in duci and have nmerlew, i have lite to beceare, i am a bit of code,-this course was excitinged.  se is out only the free of teac\n",
      "----- diversity: 1.2\n",
      "----- Generating with seed: \"y good, interesting, interactive and efficient. this course really helps in learning and brushing up\"\n",
      "y good, interesting, interactive and efficient. this course really helps in learning and brushing up id at gewnand, i'd enjoyed terns if,you. i'm already fall of fepticol? of very helpful.  i love the first specializating a enjoiable and feel even funfire.\" wirl hapy basic and very beginner \" overact part da' me of a cormonated and echopriginged before who wreat more courses on inclide. xithing there i tlied a i eving rigct programming but\" \"loved dr. chaclest! a greaticiopa on  code in funny th\n",
      "\n",
      "Epoch 00015: loss improved from 0.99235 to 0.98312, saving model to /content/gdrive/My Drive/Capstone/Data/\n",
      "Epoch 16/100\n",
      "2362/2362 [==============================] - 26s 11ms/step - loss: 0.9657 - accuracy: 0.7104 - val_loss: 1.0346 - val_accuracy: 0.6995\n",
      "\n",
      "----- Generating text after Epoch: 15\n",
      "----- diversity: 0.2\n",
      "----- Generating with seed: \"puter scientists.\" \"this course is a great tool for beginners diving into the programming world. as \"\n",
      "puter scientists.\" \"this course is a great tool for beginners diving into the programming world. as a great introductory course. i have never enter instructor is very interesting and starting on the course.  \" \"i was a great course for beginners who have never enjoyable. i would recommend this course for beginners course. i have never learning python from the basics of python programming and i would recommend this course. \" \"i was a great experience because it was a great experience with python \n",
      "----- diversity: 0.5\n",
      "----- Generating with seed: \"puter scientists.\" \"this course is a great tool for beginners diving into the programming world. as \"\n",
      "puter scientists.\" \"this course is a great tool for beginners diving into the programming world. as funny in programming can follow and exercises and now a person and the instructor is very good experience in programming experience with the first online course. i have detivered the quizzes and amazing can fall in the lectures. and the instructor is great and i would recommend this course for ansore who wants to learn python. it is deen the way he to expeciaily learning many of the world. thank y\n",
      "----- diversity: 1.0\n",
      "----- Generating with seed: \"puter scientists.\" \"this course is a great tool for beginners diving into the programming world. as \"\n",
      "puter scientists.\" \"this course is a great tool for beginners diving into the programming world. as such, sirn professor.choses this if one of trying a refor i havesed never are -, the point whot most of the lectures not so: deveron \" \"i'te's much who are your experience i previon like the on your.\" \"i\" with a new code with python programmers and easy-to-understand amazing word.\" i had more topic quation.\" this course is neep! this iss the basics of python!\" \"\" \" \"i found this is a grispes in pr\n",
      "----- diversity: 1.2\n",
      "----- Generating with seed: \"puter scientists.\" \"this course is a great tool for beginners diving into the programming world. as \"\n",
      "puter scientists.\" \"this course is a great tool for beginners diving into the programming world. as never is not using python.\"i also this course in a sopuction hatch this course is iled like o ett. . filas through this taume about it quite matinf i would unding refreshed rum of other hape; this medimation for python  i gain musilf is on where seam what the ny do to want to get with all the over, this free assittant. at first bist much of course assiglably his information language,-leging and us\n",
      "\n",
      "Epoch 00016: loss improved from 0.98312 to 0.97548, saving model to /content/gdrive/My Drive/Capstone/Data/\n",
      "Epoch 17/100\n",
      "2362/2362 [==============================] - 26s 11ms/step - loss: 0.9580 - accuracy: 0.7123 - val_loss: 1.0369 - val_accuracy: 0.6980\n",
      "\n",
      "----- Generating text after Epoch: 16\n",
      "----- diversity: 0.2\n",
      "----- Generating with seed: \"o study with. i recommend to anyone who is interested to get a sense of programming to audit to this\"\n",
      "o study with. i recommend to anyone who is interested to get a sense of programming to audit to this course in a students who have never teaching the course is a great teacher who have never teaching the course is very interesting. i have ever designed and the teaching started with python and i would like to start programming and i would like to start this course to explain the course and i would like to start this course to explain the course is very easy to understand explaining the course. th\n",
      "----- diversity: 0.5\n",
      "----- Generating with seed: \"o study with. i recommend to anyone who is interested to get a sense of programming to audit to this\"\n",
      "o study with. i recommend to anyone who is interested to get a sense of programming to audit to this course in python for me to really enjoyed this course. the exercises me to understand the way he takes help for a little more at the course                                                                                                                                                                                                                                                                    \n",
      "----- diversity: 1.0\n",
      "----- Generating with seed: \"o study with. i recommend to anyone who is interested to get a sense of programming to audit to this\"\n",
      "o study with. i recommend to anyone who is interested to get a sense of programming to audit to this programming language. you wantont effort on the end of excited at programming for my felsion simple and inalitely. from u firs course it factitions, if ingrest of dr. chuck is really forward to programming videos audit english cerde anyone who dociand this and so i sign-plage to complete this course is not teacher. i think grist for all this course is a grienjow's first online codes. the course w\n",
      "----- diversity: 1.2\n",
      "----- Generating with seed: \"o study with. i recommend to anyone who is interested to get a sense of programming to audit to this\"\n",
      "o study with. i recommend to anyone who is interested to get a sense of programming to audit to this apiny, some butines, and it is po,eary learnt informative can feel very cluss fagured techniqualor off there over. there ortals   - of the poodly can follow-all, your collagat in this aspenteng, it with more own review,, this is awesome, equntronic curting through as a python course.\" \"share takes you coundgethath \"anyone  butinn is was a great top, outwith somearming partly, it wren easy in ever\n",
      "\n",
      "Epoch 00017: loss improved from 0.97548 to 0.96792, saving model to /content/gdrive/My Drive/Capstone/Data/\n",
      "Epoch 18/100\n",
      "2362/2362 [==============================] - 28s 12ms/step - loss: 0.9516 - accuracy: 0.7137 - val_loss: 1.0347 - val_accuracy: 0.6990\n",
      "\n",
      "----- Generating text after Epoch: 17\n",
      "----- diversity: 0.2\n",
      "----- Generating with seed: \" thing, this course made me realize that. thank you very much chuck sensei for great program. i like\"\n",
      " thing, this course made me realize that. thank you very much chuck sensei for great program. i like the course and the end of every and interesting and i would like to start programming and programming and make a lot of the python courses and the professor is a great course for the course. i have a great course for a beginner for the course. i had love this course to complete the course and i would recommend this course for beginners. the course is a great course for beginners to learn python p\n",
      "----- diversity: 0.5\n",
      "----- Generating with seed: \" thing, this course made me realize that. thank you very much chuck sensei for great program. i like\"\n",
      " thing, this course made me realize that. thank you very much chuck sensei for great program. i liked this course for people without engineer with python. i will have any programming language in programming with home of the first course. i am so much for this course to any long the beginners and so much for the students who wants to start the best programming for everybody  not and continue with python programming for everybody were very well structured. the teacher is great and the instructor h\n",
      "----- diversity: 1.0\n",
      "----- Generating with seed: \" thing, this course made me realize that. thank you very much chuck sensei for great program. i like\"\n",
      " thing, this course made me realize that. thank you very much chuck sensei for great program. i liked  everything with point. detigned professor, easy course.  \" \"i just gotthel to    - prob. short programming bahk's doll feccupts in the explanation. loved to programming !\" his knowledge of python for inserse mine\"\" instructor on     cadeen on experience for anybody with university of programming overear. \"prior that i'm understand mada learning \"\"personally. this was my first into this course i\n",
      "----- diversity: 1.2\n",
      "----- Generating with seed: \" thing, this course made me realize that. thank you very much chuck sensei for great program. i like\"\n",
      " thing, this course made me realize that. thank you very much chuck sensei for great program. i like this cleared professor and i love in the assignments are swelane digad this course. dr. chuck orgaining the instructor is apy and exances that a was helpful pronge becouren, it sever that you understand to the world of souch of python and thank you courses viowequmed for able. looking forward. stuff is quite teaching was the professor!.  \" every depiced that dr.chuck intryssiff, never prografor v\n",
      "\n",
      "Epoch 00018: loss improved from 0.96792 to 0.96087, saving model to /content/gdrive/My Drive/Capstone/Data/\n",
      "Epoch 19/100\n",
      "2362/2362 [==============================] - 27s 11ms/step - loss: 0.9431 - accuracy: 0.7160 - val_loss: 1.0329 - val_accuracy: 0.6988\n",
      "\n",
      "----- Generating text after Epoch: 18\n",
      "----- diversity: 0.2\n",
      "----- Generating with seed: \"s have ingrained the material covered in the lectures. \" \"this is a great intro course for programmi\"\n",
      "s have ingrained the material covered in the lectures. \" \"this is a great intro course for programming language before this course was very good for beginners. the course is a great introduction to python and i would like to start to the next courses in this course. \" \"i have to the next courses in this course and i would recommend this course to start this course.\" \"this course is a great course. the instructor is a great introduction to python and the students and the course is very interestin\n",
      "----- diversity: 0.5\n",
      "----- Generating with seed: \"s have ingrained the material covered in the lectures. \" \"this is a great intro course for programmi\"\n",
      "s have ingrained the material covered in the lectures. \" \"this is a great intro course for programming using python. i learned this course and is really a feet your presemestals of experience in this course. the specializativity well helpful can teach to know and helpful for me to the only only because of python is a great course. \" \"this course is really good experience with programmers who interested in computer science in python. great introductory class is so had such an amazing explanations\n",
      "----- diversity: 1.0\n",
      "----- Generating with seed: \"s have ingrained the material covered in the lectures. \" \"this is a great intro course for programmi\"\n",
      "s have ingrained the material covered in the lectures. \" \"this is a great intro course for programming enverom my universetions. i will a brient for everyone who is a little a beginner from the mate. i had no programmed but he teaching the python explained and already had explained it your accessill. i'll get to go terning cann the powerchow, coursera. \" excilitive and looking forward to watch the truly bising struiguse of experience.  persens are worth. in i will introduced programming at the p\n",
      "----- diversity: 1.2\n",
      "----- Generating with seed: \"s have ingrained the material covered in the lectures. \" \"this is a great intro course for programmi\"\n",
      "s have ingrained the material covered in the lectures. \" \"this is a great intro course for programming. dr. every planned courses, exciptts in yourserw, one of the quiz thing that i nied computer level persons is the sheline in leader, is to tatking fielos is to put stant.  loving. one of teaching is fatures of python and well.\"  \"think dr ssufmor as stolf, it's priond.alsornow diduly lecour python backgeon-in your knowledge. i defige to taught courses by for everyone that every one of the quizz\n",
      "\n",
      "Epoch 00019: loss improved from 0.96087 to 0.95455, saving model to /content/gdrive/My Drive/Capstone/Data/\n",
      "Epoch 20/100\n",
      "2362/2362 [==============================] - 26s 11ms/step - loss: 0.9368 - accuracy: 0.7184 - val_loss: 1.0374 - val_accuracy: 0.6989\n",
      "\n",
      "----- Generating text after Epoch: 19\n",
      "----- diversity: 0.2\n",
      "----- Generating with seed: \"till practice, and hope there will be more interactive directions  especially for assignments  some \"\n",
      "till practice, and hope there will be more interactive directions  especially for assignments  some basic programming language and also in programming and i have easy to understand. the course was very good and i would have a beginner                                                                                                                                                                                                                                                                          \n",
      "----- diversity: 0.5\n",
      "----- Generating with seed: \"till practice, and hope there will be more interactive directions  especially for assignments  some \"\n",
      "till practice, and hope there will be more interactive directions  especially for assignments  some content in the scult. and i was already totally going the best online course to entake learning python.                                                                                                                                                                                                                                                                                                         \n",
      "----- diversity: 1.0\n",
      "----- Generating with seed: \"till practice, and hope there will be more interactive directions  especially for assignments  some \"\n",
      "till practice, and hope there will be more interactive directions  especially for assignments  some like a programmer he date, planfic.\" \"dr. seves want to contises me-to learn no, the best course journgy-to-early all the. this python . looking forward to condided with python       so this is reall for beginners.  pir mest my facod als  but it is been i can used to gail my university. wish the exercises are explained everything language i have me some acedonged is you how have ever beate.  \" \"th\n",
      "----- diversity: 1.2\n",
      "----- Generating with seed: \"till practice, and hope there will be more interactive directions  especially for assignments  some \"\n",
      "till practice, and hope there will be more interactive directions  especially for assignments  some beckind python! i am just he  as nepreswand.  the whole thank you to ack you to idurifumen  and that what's try tike curhers miching knysediesing learned it mace.thank yon.-toos course out.'b's managed if i knew burl or slider throon with coding. what i skill see inficite usiverent at quizes by like flemid. now i intanted in ackicuates - . them well handle eagegual. then's all thx 'programming con\n",
      "\n",
      "Epoch 00020: loss improved from 0.95455 to 0.94878, saving model to /content/gdrive/My Drive/Capstone/Data/\n",
      "Epoch 21/100\n",
      "2362/2362 [==============================] - 26s 11ms/step - loss: 0.9401 - accuracy: 0.7167 - val_loss: 1.0369 - val_accuracy: 0.7006\n",
      "\n",
      "----- Generating text after Epoch: 20\n",
      "----- diversity: 0.2\n",
      "----- Generating with seed: \" us prepare more. and of course, a few more assignments per week would help boost our confidence, ev\"\n",
      " us prepare more. and of course, a few more assignments per week would help boost our confidence, even if you want to learn programming and the professor is the best course and helpful for me to learn python and the professor is the best only the best part of the course is very interesting and the professor is the best only the best online course thank you coursera for this course and i wanted to learn programming and i would recommend this course to anyone who wants to start this course and the\n",
      "----- diversity: 0.5\n",
      "----- Generating with seed: \" us prepare more. and of course, a few more assignments per week would help boost our confidence, ev\"\n",
      " us prepare more. and of course, a few more assignments per week would help boost our confidence, even though i have ever to understand the course in the best course to review or the students were slion and also good exercises and the students were good and start with the best course and start the course is a great havates and seem to be the concepts of dr. charles severance, but i have eareat with the rest of the first course i have been able to complete and the much professor severance is so c\n",
      "----- diversity: 1.0\n",
      "----- Generating with seed: \" us prepare more. and of course, a few more assignments per week would help boost our confidence, ev\"\n",
      " us prepare more. and of course, a few more assignments per week would help boost our confidence, even finning. for everything because as. it was really great secined. i love the course tould at any step with easily give . for the whole course and great python for thougual.\" \"this course was bechuring they help delivery apply if you are gived such the easies are very well donears and reviewn.k you the teythanksolfole, which belied gat to be ond yoursels and programming style. i recommend for lea\n",
      "----- diversity: 1.2\n",
      "----- Generating with seed: \" us prepare more. and of course, a few more assignments per week would help boost our confidence, ev\"\n",
      " us prepare more. and of course, a few more assignments per week would help boost our confidence, even filise you get a program is a performative to explare of much are very university, for everyone and i couly leade this wonderal!! \"im eack approach and per  reading acminaticulatel teach through your learned strong for the telfform this readons ogher you uistence of how crestrad.finis: each wreally. i learnt no oppieting the forume\" presentally i knew nothouing. \"stay dr chuck. on, as programmi\n",
      "\n",
      "Epoch 00021: loss improved from 0.94878 to 0.94289, saving model to /content/gdrive/My Drive/Capstone/Data/\n",
      "Epoch 22/100\n",
      "2362/2362 [==============================] - 27s 11ms/step - loss: 0.9281 - accuracy: 0.7196 - val_loss: 1.0379 - val_accuracy: 0.6999\n",
      "\n",
      "----- Generating text after Epoch: 21\n",
      "----- diversity: 0.2\n",
      "----- Generating with seed: \"d like to advise on completing the next course \"\"python: data structures\"\" as well to get acquainted\"\n",
      "d like to advise on completing the next course \"\"python: data structures\"\" as well to get acquainted with python and i have ever several resources to the next course. i would recommend this course to the next course.\" \"this course is really good and i would start the course to everyone who wants to start programming and i have ever several experience with python. the course is a great course. the course is a great course. i had no programming experience and explained and i would start the course\n",
      "----- diversity: 0.5\n",
      "----- Generating with seed: \"d like to advise on completing the next course \"\"python: data structures\"\" as well to get acquainted\"\n",
      "d like to advise on completing the next course \"\"python: data structures\"\" as well to get acquainted and explained. the instructor makes you me to understand the programming course.                                                                                                                                                                                                                                                                                                                               \n",
      "----- diversity: 1.0\n",
      "----- Generating with seed: \"d like to advise on completing the next course \"\"python: data structures\"\" as well to get acquainted\"\n",
      "d like to advise on completing the next course \"\"python: data structures\"\" as well to get acquainted videos and more.   its a beginner fren on this course. i recommend expectations in programming to start like me, loved the much for really as very well is explained professional lecture. with mis the much my freents of couct'r.  thank use very in that friendly, reself have a manner! than follad to explain the course programming severar is world spent how to provise but new to programming, and i c\n",
      "----- diversity: 1.2\n",
      "----- Generating with seed: \"d like to advise on completing the next course \"\"python: data structures\"\" as well to get acquainted\"\n",
      "d like to advise on completing the next course \"\"python: data structures\"\" as well to get acquainted in my teaching and tham miffiching thank way to anyone lears, each'r severabs r movunizu entant exiscild, corvenc was good in the currough only down on. he can make the couese that i imarive instarled course to but do not have able more helpous more advance. hours easy basic video online comman\"\". the imfonds anowesing course will feel that is inter celt, completing the code sonce to the suide a.\n",
      "\n",
      "Epoch 00022: loss improved from 0.94289 to 0.93812, saving model to /content/gdrive/My Drive/Capstone/Data/\n",
      "Epoch 23/100\n",
      "2362/2362 [==============================] - 27s 11ms/step - loss: 0.9241 - accuracy: 0.7205 - val_loss: 1.0376 - val_accuracy: 0.7004\n",
      "\n",
      "----- Generating text after Epoch: 22\n",
      "----- diversity: 0.2\n",
      "----- Generating with seed: \"xecution which was beautifully illustrated! thank you so much! \"was good, if you want to succed in a\"\n",
      "xecution which was beautifully illustrated! thank you so much! \"was good, if you want to succed in a strong for the basic concept of python programming language. the course is very good and i have no experience with the first course in a week of the beginning in the beginning in the programming language and the best course is very good and so much and the best programming languages and the assignments are very interesting and so thank you very much for the course in this course is very well as t\n",
      "----- diversity: 0.5\n",
      "----- Generating with seed: \"xecution which was beautifully illustrated! thank you so much! \"was good, if you want to succed in a\"\n",
      "xecution which was beautifully illustrated! thank you so much! \"was good, if you want to succed in a few programming language in programming. i love the first course i spent the course with the lectures and understanding the concepts in this specialization could be a more of python course and the teacher with easy to complete the first simple and the course is an amazing instructor is the best teacher who have not in computer science of programming in the fundamentals with the way the professor \n",
      "----- diversity: 1.0\n",
      "----- Generating with seed: \"xecution which was beautifully illustrated! thank you so much! \"was good, if you want to succed in a\"\n",
      "xecution which was beautifully illustrated! thank you so much! \"was good, if you want to succed in absolute foundation for beginners. giving expires inspiring are to hom through.    this course clearly using exapplem on course presented the knowledge or regonushantly in fun.i loved mo this course. somenk all what is wonderful  and easily bechure in so weeks a beginner in generaling experience. i have doing triguted at more estandiously incerare to program inspooked to develop.  learned in other \n",
      "----- diversity: 1.2\n",
      "----- Generating with seed: \"xecution which was beautifully illustrated! thank you so much! \"was good, if you want to succed in a\"\n",
      "xecution which was beautifully illustrated! thank you so much! \"was good, if you want to succed in a logication open with jobmongal sometring also ebunt of the bisies hesurat online somehnion soliting someone lige. the d!tas maveed! for this course off the word get my swroogld afuimes s:dic\"\"\" overakes not sections soone myseding online course bles by the experience so empary were virroluterbour smintangy. dr. simpletent   owesonst for beginner, for someone dar?. this course jistshe and well if \n",
      "\n",
      "Epoch 00023: loss improved from 0.93812 to 0.93327, saving model to /content/gdrive/My Drive/Capstone/Data/\n",
      "Epoch 24/100\n",
      "2362/2362 [==============================] - 27s 12ms/step - loss: 0.9209 - accuracy: 0.7221 - val_loss: 1.0429 - val_accuracy: 0.6994\n",
      "\n",
      "----- Generating text after Epoch: 23\n",
      "----- diversity: 0.2\n",
      "----- Generating with seed: \"ogic of programming can be very dense and forbidding, but through this course, you will feel like yo\"\n",
      "ogic of programming can be very dense and forbidding, but through this course, you will feel like you want to learn a lot of experience with python and also content and experienced python in a very good and i would like to learn and complete the course is very interesting and students the course is very well as python in a strong for everybody were good and i would like to learn and computer science before this course is very good and i would like to learn a lot of experience with python. i am a\n",
      "----- diversity: 0.5\n",
      "----- Generating with seed: \"ogic of programming can be very dense and forbidding, but through this course, you will feel like yo\"\n",
      "ogic of programming can be very dense and forbidding, but through this course, you will feel like you deeply recommend this course and it will recommend to start with python because i am a good course for beginners to learn! the instructor is great and really encourageful to explanations and the course is very easy for me to learn about python best course for a big course for a little bit of experiencly to be in python myself which is not see the concepts and clear and amazing expression in the \n",
      "----- diversity: 1.0\n",
      "----- Generating with seed: \"ogic of programming can be very dense and forbidding, but through this course, you will feel like yo\"\n",
      "ogic of programming can be very dense and forbidding, but through this course, you will feel like you can get seriem that he explains and computer science their you for make our practicically. it will sire betued my knywindd to easy thre.than is very nention for a bit of there are also a big prigriabory is use!  \"the exchaplestor's mast student out comfoutarising example, you littlech entauding you humorable fact time programming this course was better. just learning and start. it's best job int\n",
      "----- diversity: 1.2\n",
      "----- Generating with seed: \"ogic of programming can be very dense and forbidding, but through this course, you will feel like yo\"\n",
      "ogic of programming can be very dense and forbidding, but through this course, you will feel like you wasted boring. the whtc: my coding manner ofly to remister underitter. although conting course is really hadof, iday i lived the lecture its presenting these!try tirs. they frenor theic approaching online time. ord of that no again beginner for programming.  i am learnt coursera and  class. \"great experience enough for python who easy into a very good sciences, bit off incremonathorgun. i greak \n",
      "\n",
      "Epoch 00024: loss improved from 0.93327 to 0.92876, saving model to /content/gdrive/My Drive/Capstone/Data/\n"
     ]
    }
   ],
   "source": [
    "history = model_ckpt.fit(X_train, y_train, batch_size=128, epochs=100, validation_data =(X_test, y_test),callbacks=callbacks)"
   ]
  },
  {
   "cell_type": "code",
   "execution_count": null,
   "metadata": {
    "id": "gN-1KPTDBL5P"
   },
   "outputs": [],
   "source": []
  },
  {
   "cell_type": "markdown",
   "metadata": {
    "id": "7ASEbkDrYBcb"
   },
   "source": [
    "### 10. evaluating performance of model"
   ]
  },
  {
   "cell_type": "code",
   "execution_count": null,
   "metadata": {
    "id": "V1Be5KMMBVZG"
   },
   "outputs": [],
   "source": []
  },
  {
   "cell_type": "markdown",
   "metadata": {
    "id": "uxif6F82lDqV"
   },
   "source": [
    "#### 10.1 Training Accuracy & Loss"
   ]
  },
  {
   "cell_type": "code",
   "execution_count": null,
   "metadata": {
    "colab": {
     "base_uri": "https://localhost:8080/"
    },
    "id": "n2LEUqFvdEh8",
    "outputId": "2c0fb0b9-b911-45c2-99cc-a5daab667698"
   },
   "outputs": [
    {
     "name": "stdout",
     "output_type": "stream",
     "text": [
      "dict_keys(['loss', 'accuracy', 'val_loss', 'val_accuracy', 'lr'])\n"
     ]
    }
   ],
   "source": [
    "print(history.history.keys())"
   ]
  },
  {
   "cell_type": "code",
   "execution_count": null,
   "metadata": {
    "colab": {
     "base_uri": "https://localhost:8080/"
    },
    "id": "lMLs-7JyYBcb",
    "outputId": "9c9d076a-3991-4cc0-c4a3-2b72b3963c5b"
   },
   "outputs": [
    {
     "name": "stdout",
     "output_type": "stream",
     "text": [
      "9445/9445 - 26s - loss: 0.8994 - accuracy: 0.7283\n"
     ]
    }
   ],
   "source": [
    "train_Loss, train_Accuracy = model_ckpt.evaluate(X_train, y_train, verbose=2)"
   ]
  },
  {
   "cell_type": "code",
   "execution_count": null,
   "metadata": {
    "colab": {
     "base_uri": "https://localhost:8080/",
     "height": 419
    },
    "id": "3Q2fmTNBYBcc",
    "outputId": "a0688be5-3e24-4dd0-b86b-3719b467ad27"
   },
   "outputs": [
    {
     "data": {
      "image/png": "[encoded data removed]",
      "text/plain": [
       "<Figure size 864x432 with 1 Axes>"
      ]
     },
     "metadata": {
      "needs_background": "light",
      "tags": []
     },
     "output_type": "display_data"
    }
   ],
   "source": [
    "plt.figure(figsize=(12,6))\n",
    "plt.rcParams['font.size'] = '16'\n",
    "plt.plot(history.history['accuracy'], label='Accuracy', lw=2)\n",
    "plt.xlabel('Count of Epoch')\n",
    "plt.ylabel('Accuracy')\n",
    "plt.title('Accuracy over count of Epochs', fontsize=20)\n",
    "plt.legend();"
   ]
  },
  {
   "cell_type": "code",
   "execution_count": null,
   "metadata": {
    "colab": {
     "base_uri": "https://localhost:8080/",
     "height": 437
    },
    "id": "ZftL8Z9oYBcc",
    "outputId": "3eaf2b6f-b803-4c46-eace-25880c94d7d9"
   },
   "outputs": [
    {
     "name": "stderr",
     "output_type": "stream",
     "text": [
      "No handles with labels found to put in legend.\n"
     ]
    },
    {
     "data": {
      "image/png": "[encoded data removed]",
      "text/plain": [
       "<Figure size 864x432 with 1 Axes>"
      ]
     },
     "metadata": {
      "needs_background": "light",
      "tags": []
     },
     "output_type": "display_data"
    }
   ],
   "source": [
    "plt.figure(figsize=(12,6))\n",
    "plt.plot(history.history['loss'], lw=2, color='red')\n",
    "plt.xlabel('Count of Epoch')\n",
    "plt.ylabel('loss')\n",
    "plt.title('loss over count of Epochs', fontsize=20)\n",
    "plt.legend();"
   ]
  },
  {
   "cell_type": "markdown",
   "metadata": {
    "id": "gMA46JAElDqX"
   },
   "source": [
    "#### 10.2 Testing Accuracy & Loss"
   ]
  },
  {
   "cell_type": "code",
   "execution_count": null,
   "metadata": {
    "colab": {
     "base_uri": "https://localhost:8080/"
    },
    "id": "g4fwjuEOYBcc",
    "outputId": "42d8efcc-e5da-47f8-ed6f-0cfae83d7228"
   },
   "outputs": [
    {
     "name": "stdout",
     "output_type": "stream",
     "text": [
      "3149/3149 - 9s - loss: 1.0429 - accuracy: 0.6994\n"
     ]
    }
   ],
   "source": [
    "test_Loss, test_Accuracy = model_ckpt.evaluate(X_test, y_test, verbose=2)"
   ]
  },
  {
   "cell_type": "code",
   "execution_count": null,
   "metadata": {
    "colab": {
     "base_uri": "https://localhost:8080/",
     "height": 419
    },
    "id": "WRADY3MGYBcc",
    "outputId": "8b812369-fbfb-442c-c08a-c3ef858c9e85"
   },
   "outputs": [
    {
     "data": {
      "image/png": "[encoded data removed]",
      "text/plain": [
       "<Figure size 864x432 with 1 Axes>"
      ]
     },
     "metadata": {
      "needs_background": "light",
      "tags": []
     },
     "output_type": "display_data"
    }
   ],
   "source": [
    "plt.figure(figsize=(12,6))\n",
    "plt.plot(history.history['val_accuracy'], label='Accuracy', lw=2, color='skyblue')\n",
    "plt.xlabel('Count of Epoch')\n",
    "plt.ylabel('Validation Accuracy')\n",
    "plt.title('Validation Accuracy over count of Epochs', fontsize=20)\n",
    "plt.legend();"
   ]
  },
  {
   "cell_type": "code",
   "execution_count": null,
   "metadata": {
    "colab": {
     "base_uri": "https://localhost:8080/",
     "height": 419
    },
    "id": "AAFBrBNSYBcc",
    "outputId": "a2ab6c97-3016-4305-dcff-f387e25c6ec1",
    "scrolled": false
   },
   "outputs": [
    {
     "data": {
      "image/png": "[encoded data removed]",
      "text/plain": [
       "<Figure size 864x432 with 1 Axes>"
      ]
     },
     "metadata": {
      "needs_background": "light",
      "tags": []
     },
     "output_type": "display_data"
    }
   ],
   "source": [
    "plt.figure(figsize=(12,6))\n",
    "plt.plot(history.history['val_loss'], lw=2, label='Val_loss', color='orange')\n",
    "plt.xlabel('Count of Epoch')\n",
    "plt.ylabel('Validation loss')\n",
    "plt.title('Validation loss over count of Epochs', fontsize=20)\n",
    "plt.legend();"
   ]
  },
  {
   "cell_type": "markdown",
   "metadata": {
    "id": "2f0h9cFJlDqX"
   },
   "source": [
    "#### 10.3 Plotting train and test together"
   ]
  },
  {
   "cell_type": "code",
   "execution_count": null,
   "metadata": {
    "colab": {
     "base_uri": "https://localhost:8080/",
     "height": 419
    },
    "id": "i-hUIZuEYBcc",
    "outputId": "59d88dcb-fae2-4c1c-e27b-335b3cdfbbc8"
   },
   "outputs": [
    {
     "data": {
      "image/png": "[encoded data removed]",
      "text/plain": [
       "<Figure size 864x432 with 1 Axes>"
      ]
     },
     "metadata": {
      "needs_background": "light",
      "tags": []
     },
     "output_type": "display_data"
    }
   ],
   "source": [
    "### Combine both plots\n",
    "\n",
    "plt.figure(figsize=(12,6))\n",
    "plt.rcParams['font.size'] = '16'\n",
    "plt.plot(history.history['accuracy'], label='Accuracy', lw=2, color='blue')\n",
    "plt.plot(history.history['val_accuracy'], label='val Accuracy', lw=2, color = 'skyblue')\n",
    "plt.xlabel('Count of Epoch')\n",
    "plt.ylabel('Accuracy')\n",
    "plt.title('Accuracy over count of Epochs', fontsize=20)\n",
    "plt.legend();"
   ]
  },
  {
   "cell_type": "code",
   "execution_count": null,
   "metadata": {
    "colab": {
     "base_uri": "https://localhost:8080/",
     "height": 437
    },
    "id": "YTIWEy9DYBcd",
    "outputId": "9469d3b1-3739-4f9c-d429-49ced9a145ad"
   },
   "outputs": [
    {
     "name": "stderr",
     "output_type": "stream",
     "text": [
      "No handles with labels found to put in legend.\n"
     ]
    },
    {
     "data": {
      "image/png": "[encoded data removed]",
      "text/plain": [
       "<Figure size 864x432 with 1 Axes>"
      ]
     },
     "metadata": {
      "needs_background": "light",
      "tags": []
     },
     "output_type": "display_data"
    }
   ],
   "source": [
    "plt.figure(figsize=(12,6))\n",
    "plt.plot(history.history['loss'], lw=2, color='red')\n",
    "plt.plot(history.history['val_loss'], lw=2, color='orange')\n",
    "plt.xlabel('Count of Epoch')\n",
    "plt.ylabel('loss')\n",
    "plt.title('loss over count of Epochs', fontsize=20)\n",
    "plt.legend();"
   ]
  },
  {
   "cell_type": "markdown",
   "metadata": {
    "id": "-cnacZpKYBcd"
   },
   "source": [
    "### 11. Loading my pre-trained weights to resume training"
   ]
  },
  {
   "cell_type": "code",
   "execution_count": null,
   "metadata": {
    "id": "vzsGBYlGlDqY"
   },
   "outputs": [],
   "source": [
    "# Instantiate my new model\n",
    "model_ckpt2 = create_model()\n",
    "\n",
    "# load the saved weights into my instantiated model\n",
    "#\n",
    "model_ckpt2.load_weights(filepath)"
   ]
  },
  {
   "cell_type": "code",
   "execution_count": null,
   "metadata": {
    "id": "G6eOy0TgYBcd"
   },
   "outputs": [],
   "source": [
    "# resume the training\n",
    "\n",
    "model_ckpt2.fit(X_train, y_train, batch_size=128, epochs=5, validation_data =(X_test, y_test),callbacks=callbacks))"
   ]
  },
  {
   "cell_type": "code",
   "execution_count": null,
   "metadata": {
    "id": "uJ9KsWYhYBcd"
   },
   "outputs": [],
   "source": [
    "train_Loss, train_Accuracy = model_ckpt2.evaluate(X_train, y_train, verbose=2)"
   ]
  },
  {
   "cell_type": "code",
   "execution_count": null,
   "metadata": {
    "id": "HOh20i6eYBcd"
   },
   "outputs": [],
   "source": [
    "test_Loss, test_Accuracy = model_ckpt2.evaluate(X_test, y_test, verbose=2)"
   ]
  },
  {
   "cell_type": "markdown",
   "metadata": {
    "id": "3zkv9Zm6YBcd"
   },
   "source": [
    "### 12.Try generating text using help from keras.io"
   ]
  },
  {
   "cell_type": "markdown",
   "metadata": {
    "id": "RzJNC5QqlDqZ"
   },
   "source": [
    "- testing the trained model to generate text given a random index/integer\n",
    "- which the integer will be mapped into the 36 different characters\n",
    "- diversity in this case refers to temperature too:\n",
    "  - lower the diversity/temperature, makes the model generate text that are more conservative\n",
    "  - higher the diveristy/temperature, makess the model generate text that have more diversity but might be prone to mistakes"
   ]
  },
  {
   "cell_type": "code",
   "execution_count": null,
   "metadata": {
    "id": "AbFdWBnRYBce"
   },
   "outputs": [],
   "source": [
    "def generate_text(length, diversity):\n",
    "    # Get random starting text\n",
    "    start_index = random.randint(0, len(text) - maxlen - 1)\n",
    "    generated = ''\n",
    "    sentence = text[start_index: start_index + maxlen]\n",
    "    generated += sentence\n",
    "    for i in range(length):\n",
    "            x_pred = np.zeros((1, maxlen, len(chars)))\n",
    "            for t, char in enumerate(sentence):\n",
    "                x_pred[0, t, char_indices[char]] = 1.\n",
    "\n",
    "            preds = model_ckpt.predict(x_pred, verbose=0)[0]\n",
    "            next_index = sample(preds, diversity)\n",
    "            next_char = indices_char[next_index]\n",
    "\n",
    "            generated += next_char\n",
    "            sentence = sentence[1:] + next_char\n",
    "    return generated"
   ]
  },
  {
   "cell_type": "code",
   "execution_count": null,
   "metadata": {
    "colab": {
     "base_uri": "https://localhost:8080/"
    },
    "id": "nLSE9rTGYBcf",
    "outputId": "86987cbc-af65-49ed-e4ef-f70bfe0c15e8"
   },
   "outputs": [
    {
     "name": "stdout",
     "output_type": "stream",
     "text": [
      "nce between videos  not boring , modeling and assessments. python is introduced from concept to really enjoyed the course. i wisher learning the course is very good and i would like to learn a lot and i am a great course for a beginner who have no prior knowledge of python who want to learn more and i would like to learn the course i have never programming before this course is a great course for a beginner. i am a great course for beginners with no programming experience with python in students in a very good and i am a great course for a little bit of learning programming in the most program\n"
     ]
    }
   ],
   "source": [
    "print(generate_text(500, 0.2))"
   ]
  },
  {
   "cell_type": "code",
   "execution_count": null,
   "metadata": {
    "colab": {
     "base_uri": "https://localhost:8080/"
    },
    "id": "wZkuPj6Kj5FH",
    "outputId": "62f29ba9-413b-4444-d03e-6f4f27198551"
   },
   "outputs": [
    {
     "name": "stdout",
     "output_type": "stream",
     "text": [
      "ys been a little knowledge here and there for various languages. the problem was that after time i would like to learn. compoting this course is very well structure of my learning python                                                                                                                                                                                                                                                                                                                                                                                                                              \n"
     ]
    }
   ],
   "source": [
    "print(generate_text(500, 0.5))"
   ]
  },
  {
   "cell_type": "code",
   "execution_count": null,
   "metadata": {
    "colab": {
     "base_uri": "https://localhost:8080/"
    },
    "id": "oOnWrHgnim_V",
    "outputId": "bef55369-1d3e-4599-cd32-36eb0c4f9d4e"
   },
   "outputs": [
    {
     "name": "stdout",
     "output_type": "stream",
     "text": [
      " doc. chuck who invoke me to learn more n more day by day and make me stand from beginner to a level sube; the mestars to learn python for the basics of job interest of learning some goo. woufd, completed learning through python , o to recommend met instent out a videon, beovoned of finan in totir chaple have betand actimated. i am a so just'll to this course and funithing to see theirful in the little and prof. charles severance. sever challeng: understand easy to understand and complixative used in subsialing concepts assignments.  mis and programming. his progond courses on this course clea\n"
     ]
    }
   ],
   "source": [
    "print(generate_text(500, 1))"
   ]
  },
  {
   "cell_type": "code",
   "execution_count": null,
   "metadata": {
    "colab": {
     "base_uri": "https://localhost:8080/"
    },
    "id": "6GhtUDQYqtqx",
    "outputId": "b5a942cb-5e3a-4c9a-8fbd-a55797ffe112"
   },
   "outputs": [
    {
     "name": "stdout",
     "output_type": "stream",
     "text": [
      "r!\" \"this is a good course if you are new to python or programming in general. the explanations for the course i have never experienced and and i have never experienced and i am a great course to anyone who wants to learn more courses and all the course is very nection of the concepts and also as a beginner and i would like to learn a lot of experience with python by python and all the course in a very good and start in this course. \" \"i had no programming experience with python because i am so concint and i would like to learn a lot and i would like to learn a lot and it was really good and i would like to learn a lot of experience with python  and i will learn a lot and i would like to learn a lot of experience with python who wants to learn for everybody is very good and i would like to learn a lot to real programming language and also condent in the michuagression. i have learned a lot and i have learned for everybody who is a great course for beginners. i am a great course for beginners with python for everybody is very good and i would like to start this course and i would like\n"
     ]
    }
   ],
   "source": [
    "print(generate_text(1000, 0.2))"
   ]
  },
  {
   "cell_type": "code",
   "execution_count": null,
   "metadata": {
    "colab": {
     "base_uri": "https://localhost:8080/"
    },
    "id": "WrkOY8HjkSEh",
    "outputId": "f60c1e1a-0981-4ca6-b828-2a6d4447a9f9"
   },
   "outputs": [
    {
     "name": "stdout",
     "output_type": "stream",
     "text": [
      "this course. the teacher was very interesting and friendly. he teaches us in a friendly way,in the myself with the explanations. i felt the course is really enjoyable experience like a bit offerent experience with python to be explaining the course. i have never thone coursera and learn!\" it is a great course to anyone who wisher like myself with some time and the course is very well as to intendibly which well can seried python for me to get special and concipe myself in my first coursera. the course is my first time and the teaching method. thank you for beginners course and basic knowledge and part of the best. \"\" \" \"this course is extremely well paced, and the course is a very good course for a little could need to learn understand and students in this course. \" \"i had a beginned in this course is great and it was better.  i am really good at explaining the concept on no programming concepts in this course and the course and                                                                                                                                                              \n"
     ]
    }
   ],
   "source": [
    "print(generate_text(1000, 0.5))"
   ]
  },
  {
   "cell_type": "code",
   "execution_count": null,
   "metadata": {
    "colab": {
     "base_uri": "https://localhost:8080/"
    },
    "id": "cENfLeUvinGa",
    "outputId": "e1e9a07c-d06f-48fa-92bb-8588ba880f86"
   },
   "outputs": [
    {
     "name": "stdout",
     "output_type": "stream",
     "text": [
      "ld to me.  it is a good idea that i am lucky enough to take advantage of, thank all of you people the instructor would be very experining course to get specialization and teaching students   . students and have even super they make a days and taked the a videoh like lectures as well. i thoro gradem and its instructor who providest online course, even fields are useful for everybodyestre course through out of experience.\"  at the expcrible are enjoyed this class is rather foundational entiferant infulidating through that it just like the way i chright python sand and give' mentir and the quiz and for student best experienced python only overakes lackle. \" \"exten and of experienced and the first times start to sir    \" \"a very good course my beginititing in online class is very new. it me to getceshout programming is entertaining. lack through lists i finishing it very comfonations. the very resorve this course certificsing provide dedication were very helpful inttition, as well persence videos close to every new sanding. simple and some class i will be college in few using con!trac if\n"
     ]
    }
   ],
   "source": [
    "print(generate_text(1000, 1))"
   ]
  },
  {
   "cell_type": "code",
   "execution_count": null,
   "metadata": {
    "colab": {
     "base_uri": "https://localhost:8080/"
    },
    "id": "pcn4jJTakyIC",
    "outputId": "3d0e7bc2-9cd8-4dae-f81d-25dfe05c8e59"
   },
   "outputs": [
    {
     "name": "stdout",
     "output_type": "stream",
     "text": [
      "nto the industry for some additional knowledge great course for beginners! dr.chuck is a great teacher and seem more great years about python i could easy in studying python. it is one-confident and read this course thank you so very enjoyable assignmelty a lot to do to follemans who has givence me more cothout, my feeaces afterstanding by dr. chuck and caree. the course is bettiffically for everybody and explaining edication. the course covered is really good journey, will assevingly me the students who want to startaning who wants to learn beginning through with python, dr. chuck sarice is very....i tused moreove on there with no nours a bie, because arow. i highly recommend this course for everybody. i would a gleas tixely applimed the programming cade to other online is not prettres so beginners allowed in python, it is absolutely information some backgrounce in perfuct targion, beginner and coursera i have caked fizished in with python.\" \"extresting thankful to bark his exercigan and he is suitter. cades not if you're get the dr. chuck!\" \"i recommend this course than  \" \"it will sel mishants for everybody ,i am a now  frod but if you don't get to start how python with python structure as lectures. this course can instruction and mode i knew python. i use      \"excellent course tore clear and engoping string simple and it's will be a lot of how in the fuelo. clarre for a beginner. i had a good journey of you!\"  this is the beginner class and it's really for helpful that as well.definira lectures.i highly recommend this join him.\" \"this fasting course for beginners is an and a chosed to techrioning more great sere mitione.  this course was a great job of explanations and smence! but i also look out my belively was able to know that's piced the duily, python is no python language. excellent teacher who was non secsive close.  i am very interesting was, mitique lessons aftand at importance in this knew not-incerred of us.\" \"my coding concept courses..otuever if you learn my pace wryes the python. it is very encourageful and next courses-in python. thank you are a\n"
     ]
    }
   ],
   "source": [
    "print(generate_text(2000, 1))"
   ]
  },
  {
   "cell_type": "markdown",
   "metadata": {
    "id": "L00w5dBnlDqb"
   },
   "source": [
    "### 13. Try correct spelling of generating text using TextBlob"
   ]
  },
  {
   "cell_type": "code",
   "execution_count": null,
   "metadata": {
    "id": "dYZXgRXArqFi"
   },
   "outputs": [],
   "source": [
    "generated1 = generate_text(1000, 1)"
   ]
  },
  {
   "cell_type": "code",
   "execution_count": null,
   "metadata": {
    "id": "49km-LShrQ2v"
   },
   "outputs": [],
   "source": [
    "from textblob import TextBlob"
   ]
  },
  {
   "cell_type": "code",
   "execution_count": null,
   "metadata": {
    "colab": {
     "base_uri": "https://localhost:8080/"
    },
    "id": "Tg9vrivVrlN9",
    "outputId": "200ebbe0-2400-4897-ca8a-8c8577f66169"
   },
   "outputs": [
    {
     "data": {
      "text/plain": [
       "TextBlob(\"edge myself at learning how control flow works and have a realization of how much have i learnt through overwaster, when i am simple and his teaching in this course is the befouled in general concerns more and comfort. the course is aimed a lot and like the university of michigan as it was with digital and deeply much and i have a lot of using \"\"patron \"\"jay git i chink to patron and i narrate might for little. \" \"really impress that i was idea of successive concealing\" is the list easier.  the named every course is faith .  it is a bother, covered and literally liked for all th makes it intermediational  all  to enjoyed us, this course will be able bore ham for. i am some time to counter to completely course aid given playmate. \" \"in decapio went easier than  \" peraoci't for excellent topics our only highly at a programming language, you are a boustri-!\" \"the basis of patron and the world. easy fall, before video right. dr. chuck really help i am very clear way other subelint me il implicate. course is very just for beginners. the course instructor white this course i have\")"
      ]
     },
     "execution_count": 42,
     "metadata": {
      "tags": []
     },
     "output_type": "execute_result"
    }
   ],
   "source": [
    "b = TextBlob(generated1)\n",
    "b.correct()"
   ]
  },
  {
   "cell_type": "code",
   "execution_count": null,
   "metadata": {
    "colab": {
     "base_uri": "https://localhost:8080/"
    },
    "id": "YSPIoR8dlPam",
    "outputId": "6f940cff-e7aa-49dc-f63c-eef423542b24"
   },
   "outputs": [
    {
     "data": {
      "text/plain": [
       "TextBlob(\"accurate.  \" i have tried many online courses but always felt bored and gave up. but in this course this course can be omatimation or skill produce  the instructor makes as revieworving assistant and applectire in overall also from true:  i am making wishing in your basic for everybody  \"dutifully, because materials question students who have even been every touch video and something us to write no. and a stick this course is my first to learn. he is gives and anyone to inform. the quires which most squeeze with the way is perfect for everyone wa knouted with the accidals and yourstou going into. good courses if becoming students to deliver, i thoroughly ever been this course interesting way of experienced exact- if you get best installive with patron \" \"few i have part of the patron in patron que course ilagin and need point learning. basigrative and compares learning or underftaptr course who whether highly into much who have excited learning.  but next para full engaging with patron was fun \"\"more course.\" \"i am now learning to get methode muff explaining. on a for me without any knowledge of profiteer actually because i knew , the online courses to freer and i beliexely the patron for the patron for beginners.\" \"professor charles reach,ancestral acknowledging able video and their stricupelly. one of the patron for everybody weeks. i was helpful to reforming explanation and ed every week course course for learning eager having and helping me from one of hind at our had note add the rescultmout offered. i am a complete understanding of thing is very much!  i'd loved this is this tool for everybody most note  - duct is as i am an amazing course to your can applied : \" \"i found protection to patron  this you from undifiance is into beginners. great knowledge with the lecture is good in seem if you are new i was able enjoy .  the instructor greater!\" \"this was my first course thanks to learning was in lined examples are upper myself here.i    ! thank you, patron book. it is one of the quit and previous respersengen topic. i am glad anything a i\")"
      ]
     },
     "execution_count": 43,
     "metadata": {
      "tags": []
     },
     "output_type": "execute_result"
    }
   ],
   "source": [
    "generated2 = generate_text(2000, 1)\n",
    "\n",
    "b2 = TextBlob(generated2)\n",
    "b2.correct()"
   ]
  }
 ],
 "metadata": {
  "accelerator": "GPU",
  "colab": {
   "collapsed_sections": [
    "urd9WIZolDqR"
   ],
   "name": "Try 7 char-based text generation GRU 100 epoch 36 char with punctuation early stop.ipynb",
   "provenance": [],
   "toc_visible": true
  },
  "kernelspec": {
   "display_name": "Python 3",
   "language": "python",
   "name": "python3"
  },
  "language_info": {
   "codemirror_mode": {
    "name": "ipython",
    "version": 3
   },
   "file_extension": ".py",
   "mimetype": "text/x-python",
   "name": "python",
   "nbconvert_exporter": "python",
   "pygments_lexer": "ipython3",
   "version": "3.8.5"
  }
 },
 "nbformat": 4,
 "nbformat_minor": 1
}
