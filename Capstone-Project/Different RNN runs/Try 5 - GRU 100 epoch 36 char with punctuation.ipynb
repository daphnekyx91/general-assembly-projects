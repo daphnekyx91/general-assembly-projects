{
  "nbformat": 4,
  "nbformat_minor": 0,
  "metadata": {
    "kernelspec": {
      "display_name": "Python 3",
      "language": "python",
      "name": "python3"
    },
    "language_info": {
      "codemirror_mode": {
        "name": "ipython",
        "version": 3
      },
      "file_extension": ".py",
      "mimetype": "text/x-python",
      "name": "python",
      "nbconvert_exporter": "python",
      "pygments_lexer": "ipython3",
      "version": "3.8.5"
    },
    "colab": {
      "name": "Checkpoints-Part 7 GRU - 100 epochs with punctuation.ipynb",
      "provenance": [],
      "collapsed_sections": [],
      "toc_visible": true
    },
    "accelerator": "GPU"
  },
  "cells": [
    {
      "cell_type": "markdown",
      "metadata": {
        "id": "J3bbjzTHYBcN"
      },
      "source": [
        "### Content"
      ]
    },
    {
      "cell_type": "markdown",
      "metadata": {
        "id": "gt0Nk6IcYBcT"
      },
      "source": [
        "### 1.  Mounting the google drive to google colab"
      ]
    },
    {
      "cell_type": "code",
      "metadata": {
        "colab": {
          "base_uri": "https://localhost:8080/"
        },
        "id": "BBpKtYn3YBcU",
        "outputId": "16c9837c-f342-4f4a-93d3-f4e5727b393b"
      },
      "source": [
        "# mounting the my googledrive to google.colab\n",
        "# this is needed to save my weights, Neural Network model while it is running\n",
        "# the model, weights can be accessed at a later time if google colab disconnects\n",
        "\n",
        "from google.colab import drive\n",
        "drive.mount('/content/gdrive')"
      ],
      "execution_count": 1,
      "outputs": [
        {
          "output_type": "stream",
          "text": [
            "Mounted at /content/gdrive\n"
          ],
          "name": "stdout"
        }
      ]
    },
    {
      "cell_type": "markdown",
      "metadata": {
        "id": "-qoa-MVbYBcU"
      },
      "source": [
        "### 2. Standard Imports for Recurrent Neural Networks"
      ]
    },
    {
      "cell_type": "code",
      "metadata": {
        "id": "uAHzBz3EYBcV"
      },
      "source": [
        "from __future__ import print_function\n",
        "\n",
        "# For preprocessing the text into integer(ids)\n",
        "# For plotting the accuracy and loss curve\n",
        "import numpy as np\n",
        "import matplotlib.pyplot as plt\n",
        "%matplotlib inline\n",
        "\n",
        "# regular expression to proprocess raw_text\n",
        "import regex as re\n",
        "\n",
        "# To instantiate Recurrent Neural Networks\n",
        "from keras.models import Sequential\n",
        "# My model will be dense with all the nodes to 'touch'\n",
        "from keras.layers import Dense, Activation\n",
        "# LSTM, GRU\n",
        "from keras.layers import LSTM, GRU\n",
        "#from keras.optimizers import RMSprop, adam\n",
        "\n",
        "# to create a callback, this will be a checkpoint\n",
        "from keras.callbacks import LambdaCallback\n",
        "\n",
        "# need to create a random seed to create a text, so the model will learn the sequence\n",
        "import random\n",
        "import sys\n",
        "import io"
      ],
      "execution_count": 2,
      "outputs": []
    },
    {
      "cell_type": "markdown",
      "metadata": {
        "id": "0bCMNSlUYBcV"
      },
      "source": [
        "### 3. Loading the txt file that is used fro RNN"
      ]
    },
    {
      "cell_type": "code",
      "metadata": {
        "id": "kytGHnmzYBcW"
      },
      "source": [
        "# cd to pull my txt file from my google drive into google colab\n",
        "#%cd /content/gdrive/My Drive/Capstone/Data/\n",
        "\n",
        "# filename called 'out.txt'\n",
        "filename = \"rnn_text.txt\"\n",
        "\n",
        "# extract the raw text\n",
        "raw_text = open(filename, 'r', encoding='utf-8').read()\n",
        "\n",
        "\n",
        "# lowercase my text\n",
        "data = raw_text.lower()\n",
        "# remove url links\n",
        "data = re.sub(r'\\w+:\\/{2}[\\d\\w-]+(\\.[\\d\\w-]+)*(?:(?:\\/[^\\s/]*))*', '',data)\n",
        "# keep punctuations this time\n",
        "data = re.sub(\"[^a-zA-Z.,?!'\\\";:-]\", \" \", data)\n",
        "# strip to remove empty spaces before beginning and end of string\n",
        "data = data.strip()"
      ],
      "execution_count": 5,
      "outputs": []
    },
    {
      "cell_type": "markdown",
      "metadata": {
        "id": "IAGJl1VyYBcW"
      },
      "source": [
        "### 4. Exploring text dataset"
      ]
    },
    {
      "cell_type": "code",
      "metadata": {
        "colab": {
          "base_uri": "https://localhost:8080/"
        },
        "id": "UO2Vu0a5YBcW",
        "outputId": "0445c057-45bb-443a-a900-b48bb03364e0"
      },
      "source": [
        "# set - find a list of specific characters \n",
        "# list - to convert characters into a list\n",
        "# sorted - to sort list into alphabetical order\n",
        "chars = sorted(list(set(data)))\n",
        "\n",
        "# count of total characters\n",
        "print('total chars: ', len(chars))"
      ],
      "execution_count": 6,
      "outputs": [
        {
          "output_type": "stream",
          "text": [
            "total chars:  36\n"
          ],
          "name": "stdout"
        }
      ]
    },
    {
      "cell_type": "code",
      "metadata": {
        "colab": {
          "base_uri": "https://localhost:8080/"
        },
        "id": "02sYdZzGYBcW",
        "outputId": "4c513602-7e02-4bd2-e606-5ac1977be498"
      },
      "source": [
        "# mapping the characters to numerical values & vice versa\n",
        "# this will be crucial for feeding into our RNN model\n",
        "# and required to map the predicted numerical values back to their corresponding characters\n",
        "\n",
        "char_indices = dict((c, i) for i, c in enumerate(chars))\n",
        "\n",
        "# noted that in this list of character mapping, there is no 'z' in text\n",
        "# noted that ' ' white space is counted as a character\n",
        "char_indices"
      ],
      "execution_count": 7,
      "outputs": [
        {
          "output_type": "execute_result",
          "data": {
            "text/plain": [
              "{' ': 0,\n",
              " '!': 1,\n",
              " '\"': 2,\n",
              " \"'\": 3,\n",
              " ',': 4,\n",
              " '-': 5,\n",
              " '.': 6,\n",
              " ':': 7,\n",
              " ';': 8,\n",
              " '?': 9,\n",
              " 'a': 10,\n",
              " 'b': 11,\n",
              " 'c': 12,\n",
              " 'd': 13,\n",
              " 'e': 14,\n",
              " 'f': 15,\n",
              " 'g': 16,\n",
              " 'h': 17,\n",
              " 'i': 18,\n",
              " 'j': 19,\n",
              " 'k': 20,\n",
              " 'l': 21,\n",
              " 'm': 22,\n",
              " 'n': 23,\n",
              " 'o': 24,\n",
              " 'p': 25,\n",
              " 'q': 26,\n",
              " 'r': 27,\n",
              " 's': 28,\n",
              " 't': 29,\n",
              " 'u': 30,\n",
              " 'v': 31,\n",
              " 'w': 32,\n",
              " 'x': 33,\n",
              " 'y': 34,\n",
              " 'z': 35}"
            ]
          },
          "metadata": {
            "tags": []
          },
          "execution_count": 7
        }
      ]
    },
    {
      "cell_type": "code",
      "metadata": {
        "colab": {
          "base_uri": "https://localhost:8080/"
        },
        "id": "Nk-1WoOYYBcX",
        "outputId": "6c52e727-7c99-4171-86ff-2a87ed9e08a4"
      },
      "source": [
        "# this will be used from mapping numerical values back to characters\n",
        "indices_char = dict((i, c) for i, c in enumerate(chars))\n",
        "\n",
        "indices_char"
      ],
      "execution_count": 8,
      "outputs": [
        {
          "output_type": "execute_result",
          "data": {
            "text/plain": [
              "{0: ' ',\n",
              " 1: '!',\n",
              " 2: '\"',\n",
              " 3: \"'\",\n",
              " 4: ',',\n",
              " 5: '-',\n",
              " 6: '.',\n",
              " 7: ':',\n",
              " 8: ';',\n",
              " 9: '?',\n",
              " 10: 'a',\n",
              " 11: 'b',\n",
              " 12: 'c',\n",
              " 13: 'd',\n",
              " 14: 'e',\n",
              " 15: 'f',\n",
              " 16: 'g',\n",
              " 17: 'h',\n",
              " 18: 'i',\n",
              " 19: 'j',\n",
              " 20: 'k',\n",
              " 21: 'l',\n",
              " 22: 'm',\n",
              " 23: 'n',\n",
              " 24: 'o',\n",
              " 25: 'p',\n",
              " 26: 'q',\n",
              " 27: 'r',\n",
              " 28: 's',\n",
              " 29: 't',\n",
              " 30: 'u',\n",
              " 31: 'v',\n",
              " 32: 'w',\n",
              " 33: 'x',\n",
              " 34: 'y',\n",
              " 35: 'z'}"
            ]
          },
          "metadata": {
            "tags": []
          },
          "execution_count": 8
        }
      ]
    },
    {
      "cell_type": "markdown",
      "metadata": {
        "id": "n2PqKRRWYBcX"
      },
      "source": [
        "### 5. Numerical encode the sentences and features"
      ]
    },
    {
      "cell_type": "code",
      "metadata": {
        "colab": {
          "base_uri": "https://localhost:8080/"
        },
        "id": "6t-15OTOCRL-",
        "outputId": "8de4de82-e06b-4d16-c9f4-d476772ff775"
      },
      "source": [
        "len(data)"
      ],
      "execution_count": 9,
      "outputs": [
        {
          "output_type": "execute_result",
          "data": {
            "text/plain": [
              "1208987"
            ]
          },
          "metadata": {
            "tags": []
          },
          "execution_count": 9
        }
      ]
    },
    {
      "cell_type": "code",
      "metadata": {
        "id": "-6T91YIxY88-"
      },
      "source": [
        "text = data"
      ],
      "execution_count": 10,
      "outputs": []
    },
    {
      "cell_type": "code",
      "metadata": {
        "colab": {
          "base_uri": "https://localhost:8080/"
        },
        "id": "NFg7fOL6YBcX",
        "outputId": "2b6c2b03-22a0-43e6-d0ef-5d0ca4d48956"
      },
      "source": [
        "maxlen = 100\n",
        "step = 3\n",
        "sentences = []\n",
        "next_chars = []\n",
        "for i in range(0, len(text) - maxlen, step):\n",
        "    sentences.append(text[i: i + maxlen])\n",
        "    next_chars.append(text[i + maxlen])\n",
        "print('nb sequences:', len(sentences))"
      ],
      "execution_count": 11,
      "outputs": [
        {
          "output_type": "stream",
          "text": [
            "nb sequences: 402963\n"
          ],
          "name": "stdout"
        }
      ]
    },
    {
      "cell_type": "code",
      "metadata": {
        "colab": {
          "base_uri": "https://localhost:8080/"
        },
        "id": "m8zb6OtvYBcX",
        "outputId": "cba96c0c-ad9c-4301-de32-7235f17e2f91"
      },
      "source": [
        "print(sentences[:5])\n",
        "print(next_chars[:5])"
      ],
      "execution_count": 12,
      "outputs": [
        {
          "output_type": "stream",
          "text": [
            "['just auditing this course helped me a lot in learning this language programming. attentive save the ', 't auditing this course helped me a lot in learning this language programming. attentive save the mon', 'uditing this course helped me a lot in learning this language programming. attentive save the money ', 'ting this course helped me a lot in learning this language programming. attentive save the money i w', 'g this course helped me a lot in learning this language programming. attentive save the money i will']\n",
            "['m', 'e', 'i', 'i', ' ']\n"
          ],
          "name": "stdout"
        }
      ]
    },
    {
      "cell_type": "code",
      "metadata": {
        "id": "7JhnfOy1YBcY",
        "colab": {
          "base_uri": "https://localhost:8080/"
        },
        "outputId": "8ee0a555-9766-457f-bc73-0695e6c9f6bf"
      },
      "source": [
        "len(text)"
      ],
      "execution_count": 13,
      "outputs": [
        {
          "output_type": "execute_result",
          "data": {
            "text/plain": [
              "1208987"
            ]
          },
          "metadata": {
            "tags": []
          },
          "execution_count": 13
        }
      ]
    },
    {
      "cell_type": "code",
      "metadata": {
        "id": "7cYHDMLGYBcY"
      },
      "source": [
        "X = np.zeros((len(sentences), maxlen, len(chars)), dtype=np.bool)\n",
        "y = np.zeros((len(sentences), len(chars)), dtype=np.bool)\n",
        "for i, sentence in enumerate(sentences):\n",
        "    for t, char in enumerate(sentence):\n",
        "        X[i, t, char_indices[char]] = 1\n",
        "    y[i, char_indices[next_chars[i]]] = 1"
      ],
      "execution_count": 14,
      "outputs": []
    },
    {
      "cell_type": "code",
      "metadata": {
        "id": "0It5TQIeYBcY"
      },
      "source": [
        "from sklearn.model_selection import train_test_split\n",
        "X_train, X_test, y_train, y_test = train_test_split(X, y,  random_state=42, shuffle=False)"
      ],
      "execution_count": 15,
      "outputs": []
    },
    {
      "cell_type": "markdown",
      "metadata": {
        "id": "E4z78W_4YBcY"
      },
      "source": [
        "### 6. define the model topolgy\n",
        " https://towardsdatascience.com/checkpointing-deep-learning-models-in-keras-a652570b8de6"
      ]
    },
    {
      "cell_type": "code",
      "metadata": {
        "id": "5lOh0gSxYBcY"
      },
      "source": [
        "# Define the model architecture \n",
        "\n",
        "def create_model():\n",
        "    #instantial\n",
        "    model = Sequential()\n",
        "    model.add(GRU(128, input_shape=(maxlen, len(chars))))\n",
        "    model.add(Dense(len(chars)))\n",
        "    model.add(Activation('softmax'))\n",
        "    \n",
        "    # Compiling the model\n",
        "    # as my model are one-hot encoded, i will use categorical_crossentropy\n",
        "    model.compile(loss='categorical_crossentropy',\n",
        "             optimizer='adam',\n",
        "             metrics=['accuracy'])\n",
        "    \n",
        "    return model\n",
        "\n",
        "#create the model\n",
        "model_ckpt= create_model()"
      ],
      "execution_count": 16,
      "outputs": []
    },
    {
      "cell_type": "code",
      "metadata": {
        "colab": {
          "base_uri": "https://localhost:8080/"
        },
        "id": "n7HgXPRcYBcZ",
        "outputId": "7e97d9b4-48f0-4dbb-bf8f-727f765220fd"
      },
      "source": [
        "model_ckpt.summary()"
      ],
      "execution_count": 17,
      "outputs": [
        {
          "output_type": "stream",
          "text": [
            "Model: \"sequential\"\n",
            "_________________________________________________________________\n",
            "Layer (type)                 Output Shape              Param #   \n",
            "=================================================================\n",
            "gru (GRU)                    (None, 128)               63744     \n",
            "_________________________________________________________________\n",
            "dense (Dense)                (None, 36)                4644      \n",
            "_________________________________________________________________\n",
            "activation (Activation)      (None, 36)                0         \n",
            "=================================================================\n",
            "Total params: 68,388\n",
            "Trainable params: 68,388\n",
            "Non-trainable params: 0\n",
            "_________________________________________________________________\n"
          ],
          "name": "stdout"
        }
      ]
    },
    {
      "cell_type": "markdown",
      "metadata": {
        "id": "W0CLSREbYBcZ"
      },
      "source": [
        "### 7. Creating my ModelCheckpoint and callback requirements"
      ]
    },
    {
      "cell_type": "code",
      "metadata": {
        "id": "MHtyQNWwYBcZ"
      },
      "source": [
        "from keras.callbacks import ModelCheckpoint\n",
        "\n",
        "# specifying where my checkpoint files will be stored\n",
        "filepath = \"/content/gdrive/My Drive/Capstone/Data/\"\n",
        "\n",
        "# this ModelCheckpoint save weights and save the best model as it runs\n",
        "checkpoint = ModelCheckpoint(filepath, monitor='loss',\n",
        "                             save_weights_only=True, save_best_only=True,\n",
        "                             mode='min',verbose=1 )"
      ],
      "execution_count": 18,
      "outputs": []
    },
    {
      "cell_type": "code",
      "metadata": {
        "id": "cYhAn8OYYBcZ"
      },
      "source": [
        "from keras.callbacks import ReduceLROnPlateau\n",
        "reduce_lr = ReduceLROnPlateau(monitor='loss', factor=0.2,\n",
        "                              patience=1, min_lr=0.001)"
      ],
      "execution_count": 19,
      "outputs": []
    },
    {
      "cell_type": "code",
      "metadata": {
        "id": "ixHRPsWvYBca"
      },
      "source": [
        "def sample(preds, temperature=1.0):\n",
        "    # helper function to sample an index from a probability array\n",
        "    preds = np.asarray(preds).astype('float64')\n",
        "    preds = np.log(preds) / temperature\n",
        "    exp_preds = np.exp(preds)\n",
        "    preds = exp_preds / np.sum(exp_preds)\n",
        "    probas = np.random.multinomial(1, preds, 1)\n",
        "    return np.argmax(probas)"
      ],
      "execution_count": 20,
      "outputs": []
    },
    {
      "cell_type": "code",
      "metadata": {
        "id": "lHXesDLaYBca"
      },
      "source": [
        "def on_epoch_end(epoch, logs):\n",
        "    # Function invoked at end of each epoch. Prints generated text.\n",
        "    print()\n",
        "    print('----- Generating text after Epoch: %d' % epoch)\n",
        "\n",
        "    start_index = random.randint(0, len(text) - maxlen - 1)\n",
        "    for diversity in [0.2, 0.5, 1.0, 1.2]:\n",
        "        print('----- diversity:', diversity)\n",
        "\n",
        "        generated = ''\n",
        "        sentence = text[start_index: start_index + maxlen]\n",
        "        generated += sentence\n",
        "        print('----- Generating with seed: \"' + sentence + '\"')\n",
        "        sys.stdout.write(generated)\n",
        "\n",
        "        for i in range(400):\n",
        "            x_pred = np.zeros((1, maxlen, len(chars)))\n",
        "            for t, char in enumerate(sentence):\n",
        "                x_pred[0, t, char_indices[char]] = 1.\n",
        "\n",
        "            preds = model_ckpt.predict(x_pred, verbose=0)[0]\n",
        "            next_index = sample(preds, diversity)\n",
        "            next_char = indices_char[next_index]\n",
        "\n",
        "            generated += next_char\n",
        "            sentence = sentence[1:] + next_char\n",
        "\n",
        "            sys.stdout.write(next_char)\n",
        "            sys.stdout.flush()\n",
        "        print()\n",
        "print_callback = LambdaCallback(on_epoch_end=on_epoch_end)"
      ],
      "execution_count": 21,
      "outputs": []
    },
    {
      "cell_type": "code",
      "metadata": {
        "id": "o7QZCuU5YBca"
      },
      "source": [
        "### combining all of my callbacks\n",
        "\n",
        "callbacks = [print_callback, checkpoint, reduce_lr]"
      ],
      "execution_count": 22,
      "outputs": []
    },
    {
      "cell_type": "markdown",
      "metadata": {
        "id": "1PHLNmGOYBcb"
      },
      "source": [
        "### 8.Training my RNN model"
      ]
    },
    {
      "cell_type": "code",
      "metadata": {
        "colab": {
          "base_uri": "https://localhost:8080/"
        },
        "id": "ljBdvKorYBcb",
        "outputId": "57b9f9ca-25bb-49aa-cc78-b371a8b57c47"
      },
      "source": [
        "history = model_ckpt.fit(X_train, y_train, batch_size=128, epochs=100, validation_data =(X_test, y_test),callbacks=callbacks)"
      ],
      "execution_count": 23,
      "outputs": [
        {
          "output_type": "stream",
          "text": [
            "Epoch 1/100\n",
            "2362/2362 [==============================] - 54s 9ms/step - loss: 2.3194 - accuracy: 0.3469 - val_loss: 1.4801 - val_accuracy: 0.5797\n",
            "\n",
            "----- Generating text after Epoch: 0\n",
            "----- diversity: 0.2\n",
            "----- Generating with seed: \"e course is too easy to learn a lot of useful things. after all, thanks for the great effort!!!!!!!!\"\n",
            "e course is too easy to learn a lot of useful things. after all, thanks for the great effort!!!!!!!!\" \"i and the course is a course is a course the course and the course is a good the course is a way the course is a great in the course in the course is a learn the course and the course is a lot of the course in python in the course is a learn to the course and the course in the course is and the course and the course in the course is a long and the course is a course and the course in the course\n",
            "----- diversity: 0.5\n",
            "----- Generating with seed: \"e course is too easy to learn a lot of useful things. after all, thanks for the great effort!!!!!!!!\"\n",
            "e course is too easy to learn a lot of useful things. after all, thanks for the great effort!!!!!!!!\" \" \"\" \"i han learne is a great was the course and this course is and the computer in the course the was starting to finer the course to conely of python  programming learn so to that python and to base the course and to course i learn not wall and to the course the persor. the course in programming of the learn and that is a got the course in a programming on woll thank you has geating is a cours\n",
            "----- diversity: 1.0\n",
            "----- Generating with seed: \"e course is too easy to learn a lot of useful things. after all, thanks for the great effort!!!!!!!!\"\n",
            "e course is too easy to learn a lot of useful things. after all, thanks for the great effort!!!!!!!! ghlam to course. har. this course is i ware ale way and iol on python and intly, the course ifwas atrought i seved into ford in expletide wly stept way patsor! great course, i tome pregramming in whethie lake is very guenss a gond \"befinnered the bes and. i learning thele yow whik course bot and noweytert coupsero in anuekm than's sime to courser is anjoy the conted iverough, i for.\" i have cours\n",
            "----- diversity: 1.2\n",
            "----- Generating with seed: \"e course is too easy to learn a lot of useful things. after all, thanks for the great effort!!!!!!!!\"\n",
            "e course is too easy to learn a lot of useful things. after all, thanks for the great effort!!!!!!!! bate whock-wigh ar. go gramtone yhaulle this tur to wo knarus. mathins romeating entlowiance introend chore so raming pfincatcor, ytele samping.\" \"treanpy jigh undined tearnisplytorost programming t'stapd mind cone merd teaming mo elyonying the fully wish aprepuly. ho wer, that itmunf pyogramming spadin in taming maky ster. bo k is yle aryy...\" u\" tedt ppecitstiods ang bas.ar.i gneat aw thoegctur\n",
            "\n",
            "Epoch 00001: loss improved from inf to 1.96681, saving model to /content/gdrive/My Drive/Capstone/Data/\n",
            "Epoch 2/100\n",
            "2362/2362 [==============================] - 21s 9ms/step - loss: 1.4824 - accuracy: 0.5763 - val_loss: 1.2636 - val_accuracy: 0.6381\n",
            "\n",
            "----- Generating text after Epoch: 1\n",
            "----- diversity: 0.2\n",
            "----- Generating with seed: \"ith the instructor. he have the great knowledge to share and also the environment is quite nice to s\"\n",
            "ith the instructor. he have the great knowledge to share and also the environment is quite nice to start to the course is a great course is a great course is very great course is a great course is a great course is a great course is a great course with the course is a great course and i am a great course is a great course is a great course is a programming on python and i have a great course is a great course is a great course and interesting the course is a beginner with the course is a great c\n",
            "----- diversity: 0.5\n",
            "----- Generating with seed: \"ith the instructor. he have the great knowledge to share and also the environment is quite nice to s\"\n",
            "ith the instructor. he have the great knowledge to share and also the environment is quite nice to sted enstrector has best intarees. this course course is a great has the course, i had make on introduction the course and helpful at in concepts and started, i suck as my this course i feel of the contine no beci sometiences and the python of this course is really interesting in the concept in a professor. i will becouser. i am some to start to explain only helpful to computer is a very good and a\n",
            "----- diversity: 1.0\n",
            "----- Generating with seed: \"ith the instructor. he have the great knowledge to share and also the environment is quite nice to s\"\n",
            "ith the instructor. he have the great knowledge to share and also the environment is quite nice to start frow it was usen is goed and ul. you learnt us viruo as as a lott miges a little realizes to stalledge onow: daniagabiegs helped plowher, got  ejoti all make trying thisasser. the discoursienad and hes a beginder that indor. thos from concepts.\" \"trionigs. gratuation endorater. the assignmentsolly instudiont ty to a sever codficalze this cosing.\" it'w gean to and this or scedingedios lacting \n",
            "----- diversity: 1.2\n",
            "----- Generating with seed: \"ith the instructor. he have the great knowledge to share and also the environment is quite nice to s\"\n",
            "ith the instructor. he have the great knowledge to share and also the environment is quite nice to stute very -wett good axplataly.us maks the vidiepse.i i kiew baginay afleq-knite dowst.obe, \"i hackw heve desthe very. this comatuis lone \"python. mavess. i hell s gets now. the kne pasting quigunti't oll fuy sex byes\" levenizg, ,to that, strinner'de covers or interedients and ihi'vl fan aboun ensore i python isea lythor, be.thing to prquest troila cours'st, but course masies in by be oothrice str\n",
            "\n",
            "Epoch 00002: loss improved from 1.96681 to 1.43498, saving model to /content/gdrive/My Drive/Capstone/Data/\n",
            "Epoch 3/100\n",
            "2362/2362 [==============================] - 22s 10ms/step - loss: 1.3029 - accuracy: 0.6254 - val_loss: 1.1825 - val_accuracy: 0.6588\n",
            "\n",
            "----- Generating text after Epoch: 2\n",
            "----- diversity: 0.2\n",
            "----- Generating with seed: \"hon. it's great to complete a course like this under such a famous university. thank you.  \"this is \"\n",
            "hon. it's great to complete a course like this under such a famous university. thank you.  \"this is a great course for a great course to anyone who has so explain the course for a great course is a programming language and the programming to learn the course is a great course is a great course and explain the professor sceating the course is a great course is a great course is a great course and the material in the professor is a great course to learn python for the course is an experience who w\n",
            "----- diversity: 0.5\n",
            "----- Generating with seed: \"hon. it's great to complete a course like this under such a famous university. thank you.  \"this is \"\n",
            "hon. it's great to complete a course like this under such a famous university. thank you.  \"this is the mace to know the for perple who wants to learn python. i want to dreding at the resommend this course is so programming so experience and enjoyed things are a gond and started to learn my programming and the programming basic course is an a who wants to want to learn pirso and but a great stures the mast course in python.\" \"i found the professor started for the with anyone the teacher in the s\n",
            "----- diversity: 1.0\n",
            "----- Generating with seed: \"hon. it's great to complete a course like this under such a famous university. thank you.  \"this is \"\n",
            "hon. it's great to complete a course like this under such a famous university. thank you.  \"this is also aulite to. oun se mone stre noo hore dr.  his sure concite as suminc this's inating this forstrally, it each and thing and a great coding interesting the my programing, exceples. the basic on experience  \"proppora raken i backgr a lotks whing then i'm also the programming\" \"dr. some a mech and sime for yee. i easaly, i would thank your chaple looks seve and in programming with those this lext\n",
            "----- diversity: 1.2\n",
            "----- Generating with seed: \"hon. it's great to complete a course like this under such a famous university. thank you.  \"this is \"\n",
            "hon. it's great to complete a course like this under such a famous university. thank you.  \"this is symetais forstauded severan with nuch. very besinnere acruct and me. but a not fela instare, this course and fon,  from jast geven t'me  good ..hr evervance allong python  a groo ksom by drants, to under touth a ganouscivatios, and limale easy understand\" the days and kind more of get it jom us twarles welact.thfor!\" inmedro worted professor wan's to learnt my mach rewornd thank using quitking mat\n",
            "\n",
            "Epoch 00003: loss improved from 1.43498 to 1.28830, saving model to /content/gdrive/My Drive/Capstone/Data/\n",
            "Epoch 4/100\n",
            "2362/2362 [==============================] - 22s 9ms/step - loss: 1.2222 - accuracy: 0.6454 - val_loss: 1.1367 - val_accuracy: 0.6703\n",
            "\n",
            "----- Generating text after Epoch: 3\n",
            "----- diversity: 0.2\n",
            "----- Generating with seed: \"ou for a fresh start! \"before learning this course, i dont know anything about programming.but reall\"\n",
            "ou for a fresh start! \"before learning this course, i dont know anything about programming.but really good and it is a great to the course is a great to the programming language. this course is a great to the course is a great to the course for a programming course is very content in the course is step by start this course is a great to the course is very good and i was a programming course and i was a great to any online course is very good and i have learned the course is a great to the course\n",
            "----- diversity: 0.5\n",
            "----- Generating with seed: \"ou for a fresh start! \"before learning this course, i dont know anything about programming.but reall\"\n",
            "ou for a fresh start! \"before learning this course, i dont know anything about programming.but really so make the course with the crafter with the course is so claine more and helpful.\" \"this course is a great course. i have great in a notivated to the programming. i was all the concepts in python. i am a good student the programming course to programming course for beginners that i have also understand this course is a get in this course is really like the course and good a and i have a great s\n",
            "----- diversity: 1.0\n",
            "----- Generating with seed: \"ou for a fresh start! \"before learning this course, i dont know anything about programming.but reall\"\n",
            "ou for a fresh start! \"before learning this course, i dont know anything about programming.but really great.   it say that it got to fow the iss it have me only recam?thed aboug likely not excisting cowleage of course.\" \"utiaf is stelped with an adving mution was for anyone fan and interest computer slow dr. can charles but its at the infrome. it wost of python and python programming so regitner. this caulab onlyor beginning.\" \"this knotslygrest programming so language. thanks the reshinly the c\n",
            "----- diversity: 1.2\n",
            "----- Generating with seed: \"ou for a fresh start! \"before learning this course, i dont know anything about programming.but reall\"\n",
            "ou for a fresh start! \"before learning this course, i dont know anything about programming.but really ganatefor python programming everyone this not perpled, lacks and enfolstped of paon.., aveacilty now intreat. i would so that ims thome ctreni; to programming.'t's lakes i charles stuuy, gaye downoqus videos in the instreation if make this dovelpes. classes eferstont background off likelane soneo-kinst to start ftherf.\" higrly class from the course, buckdiving. this spories, de a beginners kret\n",
            "\n",
            "Epoch 00004: loss improved from 1.28830 to 1.21396, saving model to /content/gdrive/My Drive/Capstone/Data/\n",
            "Epoch 5/100\n",
            "2362/2362 [==============================] - 22s 9ms/step - loss: 1.1715 - accuracy: 0.6572 - val_loss: 1.1068 - val_accuracy: 0.6777\n",
            "\n",
            "----- Generating text after Epoch: 4\n",
            "----- diversity: 0.2\n",
            "----- Generating with seed: \"content in this course i thought was quite excellent.   \"i love coursera , it's so helpful for me . \"\n",
            "content in this course i thought was quite excellent.   \"i love coursera , it's so helpful for me . the course and i am very good and i was a great course and a student and i am very everything and the professor charles severance is a great course and a great coursera for beginner who want to learn python and i was a great to learn python that i have a great introduction to programming for a great to learn python and a good and also great introduction to learn python and i will learn python for \n",
            "----- diversity: 0.5\n",
            "----- Generating with seed: \"content in this course i thought was quite excellent.   \"i love coursera , it's so helpful for me . \"\n",
            "content in this course i thought was quite excellent.   \"i love coursera , it's so helpful for me . i started the course was an excellent course is programming for beginner with python and good in python is great in terent and complete the course and content and it also get something and the very interesting with not to programming for a great coursera for beginners. i grad and how to programming and explain and each and is a beginner that i have no extre to make my learn python to get so that h\n",
            "----- diversity: 1.0\n",
            "----- Generating with seed: \"content in this course i thought was quite excellent.   \"i love coursera , it's so helpful for me . \"\n",
            "content in this course i thought was quite excellent.   \"i love coursera , it's so helpful for me .  i friendly help start of anl i lot thone niterally theirs als! i tean. the basic students you start to be be the print siclyaging. but not helps with programming simpless keep to asle to completes all camenod problem so expres for this course way don't elpued for meable accutrons mach all programming about prepire this way if more and rousny daybis fun and extromed any college abbucted thing   he\n",
            "----- diversity: 1.2\n",
            "----- Generating with seed: \"content in this course i thought was quite excellent.   \"i love coursera , it's so helpful for me . \"\n",
            "content in this course i thought was quite excellent.   \"i love coursera , it's so helpful for me . dit i have dr. chuck, ands muchifur python goo- to arauplits of prectnop.the quizzes cruck wricing about this causs it's python to be antwas now on programming fver, buc are well-proved on python poostraoul coding but always programming to proor macequ'le knowlehge of seling. \" the course is profinions teaching!!!\" iveraul thong that what you make by the correepvent. i frem morficely and everythin\n",
            "\n",
            "Epoch 00005: loss improved from 1.21396 to 1.16395, saving model to /content/gdrive/My Drive/Capstone/Data/\n",
            "Epoch 6/100\n",
            "2362/2362 [==============================] - 23s 10ms/step - loss: 1.1299 - accuracy: 0.6695 - val_loss: 1.0852 - val_accuracy: 0.6827\n",
            "\n",
            "----- Generating text after Epoch: 5\n",
            "----- diversity: 0.2\n",
            "----- Generating with seed: \"cher teach very easy and simple way thank you sir for learned python and i suggest all learner must \"\n",
            "cher teach very easy and simple way thank you sir for learned python and i suggest all learner must for a good course for the beginners. i am so explain the course is very interesting and i am a good for people who wants to learn python for the course is a great course for a programming languages and the python for a good course for a programming language. the course is very interesting and i was a great course to learn python for the course is very interesting and i would learned the course wit\n",
            "----- diversity: 0.5\n",
            "----- Generating with seed: \"cher teach very easy and simple way thank you sir for learned python and i suggest all learner must \"\n",
            "cher teach very easy and simple way thank you sir for learned python and i suggest all learner must beginners. the course and programming good course for severance is a good course, but i have a good course for a well programming language for programming language. i really get now it was material and it to explain programming language structured in teaching the teaching severance is a good course with i had a very well a from the basics of python from the very continue of python. i have deem or \n",
            "----- diversity: 1.0\n",
            "----- Generating with seed: \"cher teach very easy and simple way thank you sir for learned python and i suggest all learner must \"\n",
            "cher teach very easy and simple way thank you sir for learned python and i suggest all learner must material  suck an azenos. this used for a poograun times sometion'for apply that is very interesting also, whrce their macigating college and omporsting the programming the enough. highly university of  much, so uthe which definitely because, i'the real lot of my onteng.     he is a not slow the to complece at all clo corpecialt if you han't alvanded in     coursera for been in your has have parts\n",
            "----- diversity: 1.2\n",
            "----- Generating with seed: \"cher teach very easy and simple way thank you sir for learned python and i suggest all learner must \"\n",
            "cher teach very easy and simple way thank you sir for learned python and i suggest all learner must can abso comeving starffucl if python de troly.\"\" \"iple and i'd ril micomused work think python. a trone python \"imerement of griok? which a finally not of events of a peevere. \"ever content. i would stifn in sttangent if.the programming, i've go!t hislyint ploved, there you would reped ar stying througgrided fillow ands a nod encoumq: his wpythelch and aumo, nithes a alound in programme by bas of\n",
            "\n",
            "Epoch 00006: loss improved from 1.16395 to 1.12874, saving model to /content/gdrive/My Drive/Capstone/Data/\n",
            "Epoch 7/100\n",
            "2362/2362 [==============================] - 23s 10ms/step - loss: 1.0937 - accuracy: 0.6785 - val_loss: 1.0702 - val_accuracy: 0.6867\n",
            "\n",
            "----- Generating text after Epoch: 6\n",
            "----- diversity: 0.2\n",
            "----- Generating with seed: \"or if you are new to python.  for me, a great course and can get more new experiences. thanks for ev\"\n",
            "or if you are new to python.  for me, a great course and can get more new experiences. thanks for everybody was the best course is a great introduction to programming languages are also the end of the course is a great experience in programming and i was started the lectures are excellent course to start to the professor charles severance is a great course to the lectures are excellent course to the basic course. i am started to completed to understand the course is a great experience in a way t\n",
            "----- diversity: 0.5\n",
            "----- Generating with seed: \"or if you are new to python.  for me, a great course and can get more new experiences. thanks for ev\"\n",
            "or if you are new to python.  for me, a great course and can get more new experiences. thanks for everybody. i would really enjoy beginner to python that i had a great experience. thank you dr. chuck is a way the basic courses. i would learn it a basic course was very great experience in my opinion in the course to get started to learn programming language and                                                                                                                                          \n",
            "----- diversity: 1.0\n",
            "----- Generating with seed: \"or if you are new to python.  for me, a great course and can get more new experiences. thanks for ev\"\n",
            "or if you are new to python.  for me, a great course and can get more new experiences. thanks for everybody, out to problem suffresemonate. \"excellent insomportanticlly incollesed to coppered this course is got no itshes, it evereratied. \" \"great albone thanks to teaching when i recomaned a coursera flim.\" it was terent along for all. hearn you many but he end background fod of the concepts with programming way and fund it using chuck expestsing xtus.  - but the taught.this needed wored he stre \n",
            "----- diversity: 1.2\n",
            "----- Generating with seed: \"or if you are new to python.  for me, a great course and can get more new experiences. thanks for ev\"\n",
            "or if you are new to python.  for me, a great course and can get more new experiences. thanks for everynaicg howero knowledges for uhieable really with that this class introngipystry. las\",in a yead would beep  ever \"myenx you capplex python; dusta ent:righwent for oghey,lext very interested coursesty of the quiz\" althiod. stars frreash you knew i know \"it usem this course also, the tape the mater ance,toming or courses.!- \"is you mave the instructor  co?per enstrpited over\"quirk and ider con.io\n",
            "\n",
            "Epoch 00007: loss improved from 1.12874 to 1.10063, saving model to /content/gdrive/My Drive/Capstone/Data/\n",
            "Epoch 8/100\n",
            "2362/2362 [==============================] - 24s 10ms/step - loss: 1.0720 - accuracy: 0.6822 - val_loss: 1.0630 - val_accuracy: 0.6894\n",
            "\n",
            "----- Generating text after Epoch: 7\n",
            "----- diversity: 0.2\n",
            "----- Generating with seed: \"of his her teacher.again if you have had a desire to learn coding and thought it was impossible, fee\"\n",
            "of his her teacher.again if you have had a desire to learn coding and thought it was impossible, feethe course and the course was a great introduction to python and the course is a great introduction to python and the course was a great introduction to python and the course was a great introduction to python programming language is a great introduction to python programming in the specialization in the course with the course is a great introduction to python and the instructor is a great introdu\n",
            "----- diversity: 0.5\n",
            "----- Generating with seed: \"of his her teacher.again if you have had a desire to learn coding and thought it was impossible, fee\"\n",
            "of his her teacher.again if you have had a desire to learn coding and thought it was impossible, feet learning, other is a really completie may this course it was a great introduction to python in a though it was the best introduction to python and programming in a very interesting in python.\" \"i have explained and i have the teaching students are so a completely have a programming. it is an explains the course and coursera to computer science to a programming language and i taken a little to le\n",
            "----- diversity: 1.0\n",
            "----- Generating with seed: \"of his her teacher.again if you have had a desire to learn coding and thought it was impossible, fee\"\n",
            "of his her teacher.again if you have had a desire to learn coding and thought it was impossible, feem. everything was instead fowmaditating,\" \"i quick for freethed through if about enthucuale struggle go anyone word to the assignment with programming. however, his textharp any kinc--  and the but overalal with about programming. crantes.  \" \"great introorming easy to lasis to really well gaver the peosof, this seressing scutengs,tepman is. thank if expling this course.\" exploind . nite going so \n",
            "----- diversity: 1.2\n",
            "----- Generating with seed: \"of his her teacher.again if you have had a desire to learn coding and thought it was impossible, fee\"\n",
            "of his her teacher.again if you have had a desire to learn coding and thought it was impossible, feeful is very new sempous and fun, this course so desurapues i professom. i deal materialy su claressed. this ip the course it take in passo\", morularation in the giviny, \" \"the exelpice to to though tapic lay the basic code of this awshis to boout do noppumerations a fownouh the instructor, absoluing anything fucu-to knowled errochics severing getsobation and helped!\" \"i just sty.the coutse sure to\n",
            "\n",
            "Epoch 00008: loss improved from 1.10063 to 1.07796, saving model to /content/gdrive/My Drive/Capstone/Data/\n",
            "Epoch 9/100\n",
            "2362/2362 [==============================] - 24s 10ms/step - loss: 1.0564 - accuracy: 0.6875 - val_loss: 1.0572 - val_accuracy: 0.6898\n",
            "\n",
            "----- Generating text after Epoch: 8\n",
            "----- diversity: 0.2\n",
            "----- Generating with seed: \"lthough its an amazing course, instructor is very engaging and made course very interesting\"   it is\"\n",
            "lthough its an amazing course, instructor is very engaging and made course very interesting\"   it is a great course for this course with python and professor charles severance is an excellent course is a good course to anyone who has no programming language and the course was a great course for me. i am very much for this course to understand the course was a great course to anyone who has no prior experience in the course and i was all the material is a great course for the course and the cours\n",
            "----- diversity: 0.5\n",
            "----- Generating with seed: \"lthough its an amazing course, instructor is very engaging and made course very interesting\"   it is\"\n",
            "lthough its an amazing course, instructor is very engaging and made course very interesting\"   it is a good course in python and introductory course is an excellent course for me who don't have a good for this course and i am not i am for the first programming and i am a beginner like me and excepling was an excellent course with the professor charles severance is an excellent course for everybody. \"\" \" \"  \"it was my winten to understand, but it also a beginners and professor charles severance a\n",
            "----- diversity: 1.0\n",
            "----- Generating with seed: \"lthough its an amazing course, instructor is very engaging and made course very interesting\"   it is\"\n",
            "lthough its an amazing course, instructor is very engaging and made course very interesting\"   it is onate stuff ald as the professor courses\" \"\"very mechine you diffilles and people, abott me confusinnibalike is the less of understand. so time any only must, and i'm easier things but if you want to learn pythin puth that he best to me a friends in sevicules concepts with a lot. the nog on then backgrounm of programming information i started tral beforias suicaged with and do a sodellified throu\n",
            "----- diversity: 1.2\n",
            "----- Generating with seed: \"lthough its an amazing course, instructor is very engaging and made course very interesting\"   it is\"\n",
            "lthough its an amazing course, instructor is very engaging and made course very interesting\"   it is one diearlitacted to go some acread. this is remiviales. is an excescint. son't frees tham exfacint really resiambeet convicioner, wotlive to mivery coding and having awiliar to, in fact.  sunuable th starts entays codm.      \"i'd very speaking to searal abortuniter you all adain and can pericitor if my very mech of things!\" good pur and made my ecamms.. felt people who has learnt pysion of under\n",
            "\n",
            "Epoch 00009: loss improved from 1.07796 to 1.05942, saving model to /content/gdrive/My Drive/Capstone/Data/\n",
            "Epoch 10/100\n",
            "2362/2362 [==============================] - 24s 10ms/step - loss: 1.0397 - accuracy: 0.6915 - val_loss: 1.0534 - val_accuracy: 0.6931\n",
            "\n",
            "----- Generating text after Epoch: 9\n",
            "----- diversity: 0.2\n",
            "----- Generating with seed: \"from the basics. i feel really happy to have taken up this course. \"for a guy like me with no prior \"\n",
            "from the basics. i feel really happy to have taken up this course. \"for a guy like me with no prior programming languages and the course is very good course for programming language is a great course. i have all the beginners. the course is a great course. i have already know the course is very good course for people who have no programming language and the professor and the course with the course with the course is very good course for programming language is very good course. i really enjoy th\n",
            "----- diversity: 0.5\n",
            "----- Generating with seed: \"from the basics. i feel really happy to have taken up this course. \"for a guy like me with no prior \"\n",
            "from the basics. i feel really happy to have taken up this course. \"for a guy like me with no prior knowledge of programming language so coding able to programming in a sew of python and the course has the pertons which classes and programming and the mannerall with python  were very easy to get started on the course. \" \"the course is really easy to understand they with computer science to expect courses. all the way the way this course. i while this course and the specialization and i had a gre\n",
            "----- diversity: 1.0\n",
            "----- Generating with seed: \"from the basics. i feel really happy to have taken up this course. \"for a guy like me with no prior \"\n",
            "from the basics. i feel really happy to have taken up this course. \"for a guy like me with no prior logics\" :d      s coursera courses get, how pethon python chartes very easy to be a great student \"\"\"\"those very well-sm-cance this course with adeational introductory course.\" \"great course, it i think tit lessing it nexperse like this course everyone completements. i am really not good because with a niterally decessinn you well explains. it was a math you regand the course and plang, but howeve\n",
            "----- diversity: 1.2\n",
            "----- Generating with seed: \"from the basics. i feel really happy to have taken up this course. \"for a guy like me with no prior \"\n",
            "from the basics. i feel really happy to have taken up this course. \"for a guy like me with no prior knowledge all python project.\" \"the slides bic knows come ul programing. he have must coming fun, loscc and afrested with eccietimated. if you up your assignmed python from ylua learn in coding. nice! how's this course, he is  whathy winf mava fod glow. his hersing viad, can geen for progrise\" \"i'm posposed to pace tr.  c.anstay of python  decall and xam oftherspant trumating this.. \"this course i\n",
            "\n",
            "Epoch 00010: loss improved from 1.05942 to 1.04369, saving model to /content/gdrive/My Drive/Capstone/Data/\n",
            "Epoch 11/100\n",
            "2362/2362 [==============================] - 24s 10ms/step - loss: 1.0238 - accuracy: 0.6961 - val_loss: 1.0441 - val_accuracy: 0.6955\n",
            "\n",
            "----- Generating text after Epoch: 10\n",
            "----- diversity: 0.2\n",
            "----- Generating with seed: \"ver stop learning, so these online tools help and motive me to keep progressing  many thanks mr. cha\"\n",
            "ver stop learning, so these online tools help and motive me to keep progressing  many thanks mr. charles severance is a great course. i would recommend this course for a completely well as my first place of python and the course is a great course. i would like to start with the course and i was a great course for an excellent course i have learned and the course and the course and i was a great course for me to understand and i was a great course. i would like to start with python and the course\n",
            "----- diversity: 0.5\n",
            "----- Generating with seed: \"ver stop learning, so these online tools help and motive me to keep progressing  many thanks mr. cha\"\n",
            "ver stop learning, so these online tools help and motive me to keep progressing  many thanks mr. charles severance is really good explaining online course! the course was a great course! my first pace and i would recommend this course, i found the course with the course in the content. charles severance is really challenge to start with my first lectures and the course consious. it is a great student is a great course. i would paced and this course is both programming and making this course and \n",
            "----- diversity: 1.0\n",
            "----- Generating with seed: \"ver stop learning, so these online tools help and motive me to keep progressing  many thanks mr. cha\"\n",
            "ver stop learning, so these online tools help and motive me to keep progressing  many thanks mr. charles several questions. the informative of the course. \"i like have as the pacied wauthing finish my own cancesting this was useful for beginners for those with computing python and it takes it ald has me who complical.how too sum my unding it motelf quizzaiticaptecase. i'm also recommend this course actover ereacl. the coding for mees even bit programming. aghigingless clear working to computes a\n",
            "----- diversity: 1.2\n",
            "----- Generating with seed: \"ver stop learning, so these online tools help and motive me to keep progressing  many thanks mr. cha\"\n",
            "ver stop learning, so these online tools help and motive me to keep progressing  many thanks mr. charlesrally realong it a qumerate that itsk i really wonds  for very pace teacher is 'mazing long fit\"\"beginner on-manno inscoural very very interviews you wherely never don't not know himsolise. eecoss in orflled the best and i would pic you forward this to i made this telfichem the only is. tho is's clear to with adout you boring right. i am  i was give many thinksicl i'derle to really goouge, i l\n",
            "\n",
            "Epoch 00011: loss improved from 1.04369 to 1.03000, saving model to /content/gdrive/My Drive/Capstone/Data/\n",
            "Epoch 12/100\n",
            "2362/2362 [==============================] - 25s 10ms/step - loss: 1.0098 - accuracy: 0.7001 - val_loss: 1.0407 - val_accuracy: 0.6970\n",
            "\n",
            "----- Generating text after Epoch: 11\n",
            "----- diversity: 0.2\n",
            "----- Generating with seed: \"e! everything is explained in detail. and also, i love the lecturer! i am going to take the followin\"\n",
            "e! everything is explained in detail. and also, i love the lecturer! i am going to take the following the course is very interesting and i was a beginner like a lot of this course is very easy to understand and i was all the course i have a great course. i would like to the basics of python for me to learn python for me to the next course for people who are learning the course. the course is very helpful for me the course i have a great course. i will definitely recommend this course for beginne\n",
            "----- diversity: 0.5\n",
            "----- Generating with seed: \"e! everything is explained in detail. and also, i love the lecturer! i am going to take the followin\"\n",
            "e! everything is explained in detail. and also, i love the lecturer! i am going to take the following courses you could it is programming in the course is very guide the introduction to python was a good course in python when i never helped me basics of python but the course was implement to learn. i am very good and the assignments were as well as a great course.  \"i had been have a lot of python to the rese course that it was a great job of python and i think the instructor has a great job of \n",
            "----- diversity: 1.0\n",
            "----- Generating with seed: \"e! everything is explained in detail. and also, i love the lecturer! i am going to take the followin\"\n",
            "e! everything is explained in detail. and also, i love the lecturer! i am going to take the following toth charles with nime in the time feeling tustus. the edrict;on the best incerse challenges, my overagn and python  i deed of the best much understand practice introduction of python  i wi he reloting experieling    i could raterice and an easy to full is boograble. great  had helped in codideseasing to the arso ammedabsing charres with literally and i matelos very engaging a good course, the m\n",
            "----- diversity: 1.2\n",
            "----- Generating with seed: \"e! everything is explained in detail. and also, i love the lecturer! i am going to take the followin\"\n",
            "e! everything is explained in detail. and also, i love the lecturer! i am going to take the following wothin the course.  eack using who is very b\"end more.at time kind ruthin imsled on it's to there on tith. i am really hew in goole bue to my first lechut. thanks to python.  thack shore classt used way!\" \"i wantl examble taught thewald aslaic increade bit.  likely they\"\"this incredible. what!he wishn'l moreon   \"  createred that hew was very help. great comranted bleusade i smples awesome thing\n",
            "\n",
            "Epoch 00012: loss improved from 1.03000 to 1.01686, saving model to /content/gdrive/My Drive/Capstone/Data/\n",
            "Epoch 13/100\n",
            "2362/2362 [==============================] - 25s 11ms/step - loss: 1.0007 - accuracy: 0.7027 - val_loss: 1.0394 - val_accuracy: 0.6976\n",
            "\n",
            "----- Generating text after Epoch: 12\n",
            "----- diversity: 0.2\n",
            "----- Generating with seed: \"ther people who want to learn programming. it was simple and crisp  this course is really very much \"\n",
            "ther people who want to learn programming. it was simple and crisp  this course is really very much for the best programming experience in python and the course is very helpful to anyone who wants to start to learn python programming and the professor is very good and the course is very helpful for me to learn python programming with python programming but the course is very helpful to anyone who wants to learn python programming and the professor is very helpful. i would recommend this course t\n",
            "----- diversity: 0.5\n",
            "----- Generating with seed: \"ther people who want to learn programming. it was simple and crisp  this course is really very much \"\n",
            "ther people who want to learn programming. it was simple and crisp  this course is really very much fun to the basics of python from awe of done and the concepts in python for beginners and professor is a some diden learn python start python don't want to have some that who have not a great and its also great course for student is a good into python course professor was a great introduction to python. i am a great people with python for beginners and the end of i can really enjoyed the course is\n",
            "----- diversity: 1.0\n",
            "----- Generating with seed: \"ther people who want to learn programming. it was simple and crisp  this course is really very much \"\n",
            "ther people who want to learn programming. it was simple and crisp  this course is really very much on't way about the lecturer.  python programming in ither but i fecagious quite fer ind as a python .. well strugglet i'm quilk technilys with python for its teaching \"\"prof. \"\" id introduce beganbere foing of you ams,a for this was a very beginner everything knucow but but it's never not i am really backing and to take the quizzes that you will be clare notial as mictise worder pate the cool.  gi\n",
            "----- diversity: 1.2\n",
            "----- Generating with seed: \"ther people who want to learn programming. it was simple and crisp  this course is really very much \"\n",
            "ther people who want to learn programming. it was simple and crisp  this course is really very much new basic lat vours, id with the online platform course impocking for the finunt, staring with most that were quite easily, but if yet apinipiese blem jud to interesting.assincetitable guiders, out from which refiling explain  i studed to it bo stel entilly course and boring me.thafk you form i must whichely reselving lots of inforagh is within programming. this is very humpring min projuctly inte\n",
            "\n",
            "Epoch 00013: loss improved from 1.01686 to 1.00718, saving model to /content/gdrive/My Drive/Capstone/Data/\n",
            "Epoch 14/100\n",
            "2362/2362 [==============================] - 25s 11ms/step - loss: 0.9911 - accuracy: 0.7043 - val_loss: 1.0397 - val_accuracy: 0.6965\n",
            "\n",
            "----- Generating text after Epoch: 13\n",
            "----- diversity: 0.2\n",
            "----- Generating with seed: \" engrained into your head.\" \"took this course after a    year gap from first learning to program in \"\n",
            " engrained into your head.\" \"took this course after a    year gap from first learning to program in the course is a great course for beginners. i am a great course for beginners. i was a great course to anyone who wants to learn python in the subject interesting and explains the course is the best course for a beginner with the course is very easy to understand and the teacher is very good and it was a great introduction to python but i was all and the teacher who want to learn python in the cou\n",
            "----- diversity: 0.5\n",
            "----- Generating with seed: \" engrained into your head.\" \"took this course after a    year gap from first learning to program in \"\n",
            " engrained into your head.\" \"took this course after a    year gap from first learning to program in the course in the rest of the course is the beginners. i had to be easy to understand and the course is well structured and i took the course i could have some programming language and the information easy to understand and the world and i will and the best course i have as well as mast interesting and there assignments are very well as my first tapach to any with the course in this course. the co\n",
            "----- diversity: 1.0\n",
            "----- Generating with seed: \" engrained into your head.\" \"took this course after a    year gap from first learning to program in \"\n",
            " engrained into your head.\" \"took this course after a    year gap from first learning to program in my book what good everyoning and could have  is a great experience and dr.chuck in dentive. it says,  the expecial tage. attention invice thing of the beming into the way contant wancijo orve cample thing and interesting and the instructor clearly and nothing of anything.i dr'c many coding and well sacity that teking the wortepgred like.  i've deal with making it fun course.\" i think you are littl\n",
            "----- diversity: 1.2\n",
            "----- Generating with seed: \" engrained into your head.\" \"took this course after a    year gap from first learning to program in \"\n",
            " engrained into your head.\" \"took this course after a    year gap from first learning to program in my beginnting, it has well ver keex easy efforc.or, a lore videos and the videos. python vas of that 'boulz skild of the werl, insterminnermanted so words of speabes are new tificfly. the course has am a process a very corleas skills.there. moke, this course is divierms where is well learned the lang stotible inticies. i've agrain, it divience. this course couls read. data and have a whole lones h\n",
            "\n",
            "Epoch 00014: loss improved from 1.00718 to 0.99662, saving model to /content/gdrive/My Drive/Capstone/Data/\n",
            "Epoch 15/100\n",
            "2362/2362 [==============================] - 24s 10ms/step - loss: 0.9813 - accuracy: 0.7071 - val_loss: 1.0386 - val_accuracy: 0.6995\n",
            "\n",
            "----- Generating text after Epoch: 14\n",
            "----- diversity: 0.2\n",
            "----- Generating with seed: \"rst time under this teacher is going to have a long lasting attachment to python  this is an excelle\"\n",
            "rst time under this teacher is going to have a long lasting attachment to python  this is an excellent course. the course is the best course for beginners and the professor is a great course. i have learned a lot of experience in the students who want to start with python and i would like to learn python. the videos and the best course for beginners with the best course for beginners and the professor is very good and i would like to learn python and i am very much for the basics of python and i\n",
            "----- diversity: 0.5\n",
            "----- Generating with seed: \"rst time under this teacher is going to have a long lasting attachment to python  this is an excelle\"\n",
            "rst time under this teacher is going to have a long lasting attachment to python  this is an excellent course for beginners and the programming skills to start programming language but this course \"ipportunice interviews with a lot of experience with a lot of python and i am a programming in feel like this course is very good and i was a good course to programming was work to anyone who wants to start learning the basics of the course. the lectures and coursera for me in the computer loosing thi\n",
            "----- diversity: 1.0\n",
            "----- Generating with seed: \"rst time under this teacher is going to have a long lasting attachment to python  this is an excelle\"\n",
            "rst time under this teacher is going to have a long lasting attachment to python  this is an excellent.   my glade, the booking and i just really great teacher, hat to say. i potian dornal currence nothing the humop. in this course,.the exprasming to lear. the course! but this is a very can professoo, charles\"  i was so finst than the reading to thanks to coursera for me more can understand the wondyon who wants to learn python programming! dr. severand -, wishin the good afforstion, for providi\n",
            "----- diversity: 1.2\n",
            "----- Generating with seed: \"rst time under this teacher is going to have a long lasting attachment to python  this is an excelle\"\n",
            "rst time under this teacher is going to have a long lasting attachment to python  this is an excellent easily. thanks!! \" just brill, but this class !! -  well structured. the mysull  in the course on experience aftivicien..  got the comment enjoyable.this course pastion of the content goon   .       \" sin.thanks coursera! teaches and so of, but never feel this worls, and solvant one nd fors a chitionch collective matler tourl like i heven distacissed will clear for understandianciss. the experi\n",
            "\n",
            "Epoch 00015: loss improved from 0.99662 to 0.98786, saving model to /content/gdrive/My Drive/Capstone/Data/\n",
            "Epoch 16/100\n",
            "2362/2362 [==============================] - 24s 10ms/step - loss: 0.9723 - accuracy: 0.7092 - val_loss: 1.0376 - val_accuracy: 0.6973\n",
            "\n",
            "----- Generating text after Epoch: 15\n",
            "----- diversity: 0.2\n",
            "----- Generating with seed: \"onal, and less \"\"mind blowing\"\" than some hardcore programming courses.\" professor severence makes t\"\n",
            "onal, and less \"\"mind blowing\"\" than some hardcore programming courses.\" professor severence makes the course is a great course for a beginner like me to understand the concepts in python content is a great course and i am very good course for a beginner like me and i want to start to the next course in python. the course is very good course is very good course in the next course in the first course in python. the course is very good course for anyone who wants to start with python for everybody\n",
            "----- diversity: 0.5\n",
            "----- Generating with seed: \"onal, and less \"\"mind blowing\"\" than some hardcore programming courses.\" professor severence makes t\"\n",
            "onal, and less \"\"mind blowing\"\" than some hardcore programming courses.\" professor severence makes the course in an anyone who are interested in a since in programming and the material and clearly and work destraging computer science in a student with programming. it is a great interaction of python and i wanted to take this course and the assignments and the material to more concepts in the course is programming. i would start the course material and fun and easy to understand the concepts very\n",
            "----- diversity: 1.0\n",
            "----- Generating with seed: \"onal, and less \"\"mind blowing\"\" than some hardcore programming courses.\" professor severence makes t\"\n",
            "onal, and less \"\"mind blowing\"\" than some hardcore programming courses.\" professor severence makes this course fefform seech atditial programming language. i have be not.don't highly recommended!\" \"it is very good can learn python language within on taking more on i well, the explanation skiols for programming language and the wonder completing and programming easy. thanks to the intumore and classes. i think it i was if you am a away background         see to got me langus video all with progra\n",
            "----- diversity: 1.2\n",
            "----- Generating with seed: \"onal, and less \"\"mind blowing\"\" than some hardcore programming courses.\" professor severence makes t\"\n",
            "onal, and less \"\"mind blowing\"\" than some hardcore programming courses.\" professor severence makes the python!!\" \"bythand other who abrest paces beginily. the moterso commintar. iten very with relative and cannet in programming and this one. \" \"even youwding. how, not like a wonder learning you a antersimples  as as quickly-and implivay. i suggest you also couldes in an advanced treally. s, agcessisging course. such computer your very dr.chuck continst, i will confident blis, programming what id\n",
            "\n",
            "Epoch 00016: loss improved from 0.98786 to 0.97960, saving model to /content/gdrive/My Drive/Capstone/Data/\n",
            "Epoch 17/100\n",
            "2362/2362 [==============================] - 26s 11ms/step - loss: 0.9654 - accuracy: 0.7111 - val_loss: 1.0386 - val_accuracy: 0.6987\n",
            "\n",
            "----- Generating text after Epoch: 16\n",
            "----- diversity: 0.2\n",
            "----- Generating with seed: \"is ideal for you.  \"it was an excellent course, i recommend it for all the people who are still afra\"\n",
            "is ideal for you.  \"it was an excellent course, i recommend it for all the people who are still afraid and the way he teaches is very good and also i would learning this course to anyone with the basics of python and the assignments are a great course for a programming languages and the assignments are explained in the best is a great introduction to python and i was a great place to start programming language in python and the assignments are explained in the students who wants to learn python \n",
            "----- diversity: 0.5\n",
            "----- Generating with seed: \"is ideal for you.  \"it was an excellent course, i recommend it for all the people who are still afra\"\n",
            "is ideal for you.  \"it was an excellent course, i recommend it for all the people who are still afraid because this course was very nicely in the course in the basics of python and the instructor data structures i think with the course is very good and also thanks to coursera for making and explained in the very bis python  one more computer courses and the assignments in my started with computers were also thanks to make any programming language. i am not for programming language  in starting o\n",
            "----- diversity: 1.0\n",
            "----- Generating with seed: \"is ideal for you.  \"it was an excellent course, i recommend it for all the people who are still afra\"\n",
            "is ideal for you.  \"it was an excellent course, i recommend it for all the people who are still afradiation while computer toper other programming sy times you so first and easy to utselves quizzing programming. he instructor make me fear. i would so if python for people who wants feeling taught at us working or inno in the materice mode tchrough ableart! :d.. 'e's caveral able to mreasions is great fouc and you start to learn point. people who have comely go boring any coppos, esponaling to see\n",
            "----- diversity: 1.2\n",
            "----- Generating with seed: \"is ideal for you.  \"it was an excellent course, i recommend it for all the people who are still afra\"\n",
            "is ideal for you.  \"it was an excellent course, i recommend it for all the people who are still afratient.?the opportunity each learning, nice. the profe course araivaly programmanily. alrahall like to construmerspised. this, c\" en buathand sayskin need modic concepts, it full besture. the mist gandable reference will forush your python !\" \"covers structured in as well syre assion to or easy for sumprowaply .. . great thank you my skills to sam -sint sperionm, taken with jidges i have explained \n",
            "\n",
            "Epoch 00017: loss improved from 0.97960 to 0.97218, saving model to /content/gdrive/My Drive/Capstone/Data/\n",
            "Epoch 18/100\n",
            "2362/2362 [==============================] - 25s 11ms/step - loss: 0.9572 - accuracy: 0.7145 - val_loss: 1.0407 - val_accuracy: 0.6989\n",
            "\n",
            "----- Generating text after Epoch: 17\n",
            "----- diversity: 0.2\n",
            "----- Generating with seed: \"urse on python taught by mr. severance. :   \"actually, this my first coursera course to ever take, i\"\n",
            "urse on python taught by mr. severance. :   \"actually, this my first coursera course to ever take, i was absolutely good at the beginners and the course is a great start learning python the exercises are very easy to understand and the problem in practice.\" \"this course is a great course to be able to do the course with the course is very good course for beginners and the course is very well preptire python from the basics of python for everybody  i can to learn the basics of python and i was ab\n",
            "----- diversity: 0.5\n",
            "----- Generating with seed: \"urse on python taught by mr. severance. :   \"actually, this my first coursera course to ever take, i\"\n",
            "urse on python taught by mr. severance. :   \"actually, this my first coursera course to ever take, i have learned and the course which is prepfred and the programming for everybody  i feel with the course and for the basic programming language and i am very engaging to me beginner learning python and i was absolute learning python with python. the instructor is very well structured that the course is very good course for very beginners. i would recommend this course for beginner from you and the\n",
            "----- diversity: 1.0\n",
            "----- Generating with seed: \"urse on python taught by mr. severance. :   \"actually, this my first coursera course to ever take, i\"\n",
            "urse on python taught by mr. severance. :   \"actually, this my first coursera course to ever take, i want to python before bick i have as explained i think ot very gor python from then.!\" \"i'd enjoyant that works and command not some itsed tours real language explaias information of courses \" \"easy learning this course to anyone with race and hardly beginner white prospical challense print piace.\" \"if the sty this is the python .. this course courses classes in python invictume and fun you will \n",
            "----- diversity: 1.2\n",
            "----- Generating with seed: \"urse on python taught by mr. severance. :   \"actually, this my first coursera course to ever take, i\"\n",
            "urse on python taught by mr. severance. :   \"actually, this my first coursera course to ever take, i whatkins teaching stilfinily sears of ppant c deming in learning soch excepted chateding.  \"i joked this course continue loos am out of humor, coursera!i in the instructor theerages.thanks swart can understand havinglyon  which will hardie beginning brenk or working in learning to learn to be insomation experience would be guibes function they 'f just watching everyybodop or syntax on  my futuril\n",
            "\n",
            "Epoch 00018: loss improved from 0.97218 to 0.96491, saving model to /content/gdrive/My Drive/Capstone/Data/\n",
            "Epoch 19/100\n",
            "2362/2362 [==============================] - 25s 11ms/step - loss: 0.9507 - accuracy: 0.7161 - val_loss: 1.0359 - val_accuracy: 0.6993\n",
            "\n",
            "----- Generating text after Epoch: 18\n",
            "----- diversity: 0.2\n",
            "----- Generating with seed: \"o courseraonce again thanks dr. chuck,its hard for me to pay now for the whole specialization  yee i\"\n",
            "o courseraonce again thanks dr. chuck,its hard for me to pay now for the whole specialization  yee i have ever helpful to the python lectures are very easy to understand and the assignments are easy to understand and the way he taught me the basics of python and i was all the material is a great really good start to the way he is a great teacher is a great job and i was a lot of experience with python to complete this course is very good and the assignments are easy to understand and the concept\n",
            "----- diversity: 0.5\n",
            "----- Generating with seed: \"o courseraonce again thanks dr. chuck,its hard for me to pay now for the whole specialization  yee i\"\n",
            "o courseraonce again thanks dr. chuck,its hard for me to pay now for the whole specialization  yee in the course is very informative about the first on to the learners and the course in the concepts of python programming languages and the assignments were great to complete your teaching and the basics of python and the professor and the assignments were very easy to learn python programming. it is a good internating the course with the course. the course in other secenoval introduction to python\n",
            "----- diversity: 1.0\n",
            "----- Generating with seed: \"o courseraonce again thanks dr. chuck,its hard for me to pay now for the whole specialization  yee i\"\n",
            "o courseraonce again thanks dr. chuck,its hard for me to pay now for the whole specialization  yee i really recommend it to ulded other payientive expossorous.\" just givation online the syntax of material, for any knowledge for porsty even though i have looking was it i learn to teach started with covide problem in a imbersiancializant perfect spicating the things it's great and have completed this course you will faving paste, but all the fun, it get still repare to she python. even ofle  quizz\n",
            "----- diversity: 1.2\n",
            "----- Generating with seed: \"o courseraonce again thanks dr. chuck,its hard for me to pay now for the whole specialization  yee i\"\n",
            "o courseraonce again thanks dr. chuck,its hard for me to pay now for the whole specialization  yee it daws's tey manner used to teach. this not beginning exposhibleabor foreth myself at michigan lecture me gave me inceeda foruded to access more and excellent if easy-toric python. it knows what you's feel because it easy-understanding!\" \"it, interesting with for someone phowongg to try of michigan in teacher professor. so, i michiged app of command before helps m  pery bic quite feel a great star\n",
            "\n",
            "Epoch 00019: loss improved from 0.96491 to 0.95944, saving model to /content/gdrive/My Drive/Capstone/Data/\n",
            "Epoch 20/100\n",
            "2362/2362 [==============================] - 24s 10ms/step - loss: 0.9432 - accuracy: 0.7179 - val_loss: 1.0431 - val_accuracy: 0.6981\n",
            "\n",
            "----- Generating text after Epoch: 19\n",
            "----- diversity: 0.2\n",
            "----- Generating with seed: \"nstructed to take you step by step along the way and his way of teaching really makes you feel comfo\"\n",
            "nstructed to take you step by step along the way and his way of teaching really makes you feel comfortable with the course and the way dr. charles severance to the professor is a great course. i am looping and all the assignments are very good course for beginners who want to start to the way dr. charles severance was a great course.  \" \"this is a great course for a beginner like me and i am a great course. i am learning python and the course and the assignments are very helpful and it was very \n",
            "----- diversity: 0.5\n",
            "----- Generating with seed: \"nstructed to take you step by step along the way and his way of teaching really makes you feel comfo\"\n",
            "nstructed to take you step by step along the way and his way of teaching really makes you feel comfortable with python and to programming language dest coursera and     \"                                                                                                                                                                                                                                                                                                                                          \n",
            "----- diversity: 1.0\n",
            "----- Generating with seed: \"nstructed to take you step by step along the way and his way of teaching really makes you feel comfo\"\n",
            "nstructed to take you step by step along the way and his way of teaching really makes you feel comfortable with so becifre he had me to grasp duy could be interesting and students. \"\" \"i really allow an incredibly solving dr. charles and not trolute for are too do this course, i'm structure like this course way of teaching is preficult so capbuter of the exercises alroaks to understand for the way detable with this alonging, it assignments are quite very basic from dr. charles tever, i had highl\n",
            "----- diversity: 1.2\n",
            "----- Generating with seed: \"nstructed to take you step by step along the way and his way of teaching really makes you feel comfo\"\n",
            "nstructed to take you step by step along the way and his way of teaching really makes you feel comfortaba to his dis course. i foudd designed and really good uper trick and you'll give, whimessware that its reader trazition from is withoniden and trilking through the took acquised.  he tatultarned out doinnablia and this course is knowledge gonationding know over this and then to ywars from nci-pecsourll python landural\"\"zantly, assignments great llsy. excellent videos but explains very helpful!\n",
            "\n",
            "Epoch 00020: loss improved from 0.95944 to 0.95287, saving model to /content/gdrive/My Drive/Capstone/Data/\n",
            "Epoch 21/100\n",
            "2362/2362 [==============================] - 24s 10ms/step - loss: 0.9356 - accuracy: 0.7190 - val_loss: 1.0408 - val_accuracy: 0.6991\n",
            "\n",
            "----- Generating text after Epoch: 20\n",
            "----- diversity: 0.2\n",
            "----- Generating with seed: \"se in no time thanks to the very clear explanation of the instructor. really, it can't get any simpl\"\n",
            "se in no time thanks to the very clear explanation of the instructor. really, it can't get any simple and i was a great experience with the student and the teacher who has helped me to learn python and the student to learn python with the course is very good and a lot of the best programming language and the end of easy to understand the exercises are really good and the best programming language and the programming and the programming language and the teaching style of the best courses and the \n",
            "----- diversity: 0.5\n",
            "----- Generating with seed: \"se in no time thanks to the very clear explanation of the instructor. really, it can't get any simpl\"\n",
            "se in no time thanks to the very clear explanation of the instructor. really, it can't get any simple strong for a lot. i would learn about python, but the course is a great introduction to python and have a lot of the python learning programming and have a beginner and something to really good and detailed and free of the structure very maybe who want to start programming language. i have able to work to think in the most of the first course is excellent and programming. and who made me learn b\n",
            "----- diversity: 1.0\n",
            "----- Generating with seed: \"se in no time thanks to the very clear explanation of the instructor. really, it can't get any simpl\"\n",
            "se in no time thanks to the very clear explanation of the instructor. really, it can't get any simply recand sirce is a great beginners.i wellest lice i smigated of the instructor is much more exercises and looking forward to get interfiews with the course.  i keet now those material, but not jo. sir did struggit to prof inithes all the nog on writing my carres in learning for the way to she topics' is awe of time.\" this course easier python.\" \"from that's things to anyone will pecsoned. thanks \n",
            "----- diversity: 1.2\n",
            "----- Generating with seed: \"se in no time thanks to the very clear explanation of the instructor. really, it can't get any simpl\"\n",
            "se in no time thanks to the very clear explanation of the instructor. really, it can't get any simply, is gainon likely tatua codmaga endoutive eecesti'lly lovine. thank you!\" \"toole will defored enuch from ulis. by onccerder would hoper i think i howned a co-pleable automa more out available. peep i am a toliom wanting litted programming before.\" i think the team be asmittar crestapy with programmminging.thank i had is juats is on in taigs. the course sirt year but do not fart python skill in p\n",
            "\n",
            "Epoch 00021: loss improved from 0.95287 to 0.94742, saving model to /content/gdrive/My Drive/Capstone/Data/\n",
            "Epoch 22/100\n",
            "2362/2362 [==============================] - 24s 10ms/step - loss: 0.9345 - accuracy: 0.7189 - val_loss: 1.0470 - val_accuracy: 0.6987\n",
            "\n",
            "----- Generating text after Epoch: 21\n",
            "----- diversity: 0.2\n",
            "----- Generating with seed: \"tle, but this short course taught me a lot of concepts and how to apply them.\" \"this was really a br\"\n",
            "tle, but this short course taught me a lot of concepts and how to apply them.\" \"this was really a breed do this course and i am a great course for beginners. i am a great course for beginners. i am a great course for beginners. i am a great course. i am a great course. i am a great course. the course is a great course. i am a great course. i am a great course for beginners. i am a great place to start with python and explanation i have a really good at the beginners. thank you very much for the \n",
            "----- diversity: 0.5\n",
            "----- Generating with seed: \"tle, but this short course taught me a lot of concepts and how to apply them.\" \"this was really a br\"\n",
            "tle, but this short course taught me a lot of concepts and how to apply them.\" \"this was really a bried a lot of the most coursera. the videos are very useful and a beginner courses one and i am just                                                                                                                                                                                                                                                                                                             \n",
            "----- diversity: 1.0\n",
            "----- Generating with seed: \"tle, but this short course taught me a lot of concepts and how to apply them.\" \"this was really a br\"\n",
            "tle, but this short course taught me a lot of concepts and how to apply them.\" \"this was really a breating what it! i just enjoy the course to facciplere the chapter afread, a begifne opportunity really difficult at, helpful.  perfect for my can challenge that easy to get or allw it's a really awesome!\" \"excellent course, i learned atly thanks to those courses of the frumort teaching easy end of everyomed to the begin into-that diserve text\"forward.  using sond.the work do this course. if you fe\n",
            "----- diversity: 1.2\n",
            "----- Generating with seed: \"tle, but this short course taught me a lot of concepts and how to apply them.\" \"this was really a br\"\n",
            "tle, but this short course taught me a lot of concepts and how to apply them.\" \"this was really a briluiant.i apthior on python and just with alon a programming outhint  ,  \"\"excellent way up with a rewordhropl interesting lugg some firsty forward my instructor in stuck to reqling examples and the teachen and read a litton pooply from up getual.. by first tom! phowsever. ipething al! i explidy problems ! should easily dowally coding  makes the course  of ifun. he happened, by diseraoly programmi\n",
            "\n",
            "Epoch 00022: loss improved from 0.94742 to 0.94312, saving model to /content/gdrive/My Drive/Capstone/Data/\n",
            "Epoch 23/100\n",
            "2362/2362 [==============================] - 24s 10ms/step - loss: 0.9302 - accuracy: 0.7204 - val_loss: 1.0458 - val_accuracy: 0.6990\n",
            "\n",
            "----- Generating text after Epoch: 22\n",
            "----- diversity: 0.2\n",
            "----- Generating with seed: \"arting fresh on this programming knowledge. i know couple of programming languages, but i wanted to \"\n",
            "arting fresh on this programming knowledge. i know couple of programming languages, but i wanted to learn python programming languages and the teacher not only this course is a great teacher is very good and the course was a great teacher that is a great starting with the course is the best course to learning python and the teacher who are some the course that is a great teacher who are some that easy to understand and the teacher is really engaging. the course is a great student is a great cour\n",
            "----- diversity: 0.5\n",
            "----- Generating with seed: \"arting fresh on this programming knowledge. i know couple of programming languages, but i wanted to \"\n",
            "arting fresh on this programming knowledge. i know couple of programming languages, but i wanted to learn python programming languages and for me to learn and it in the course.  this course is very well structured and want to start and without things with a programmers of python and i was really much in programming and all the best lectures are so stuck for the first first course is very helpful too slow and want to learn python and easy to be enjoyable and python in programming in python and i \n",
            "----- diversity: 1.0\n",
            "----- Generating with seed: \"arting fresh on this programming knowledge. i know couple of programming languages, but i wanted to \"\n",
            "arting fresh on this programming knowledge. i know couple of programming languages, but i wanted to know about courses coding you coursera is that this is your like i would recommend! the course time so i feel with the filled, coding sometbyecw, but dr. severance ksew it for a good as \"\"extreipres the self\" thanks to get in addition, and i was lipplest way and anybody while on python all the first ploquegh new to programming.\" \"this course racag, some python for very for using you to my form oth\n",
            "----- diversity: 1.2\n",
            "----- Generating with seed: \"arting fresh on this programming knowledge. i know couple of programming languages, but i wanted to \"\n",
            "arting fresh on this programming knowledge. i know couple of programming languages, but i wanted to learn . pythin i rechiser taught forthen initialicabling santerable can learn python. i coucced, engaging content.\" \"like this onestis platform that it was doing remembers, great course, my first student parter. i had shook de ap   course, the course team for the basics in got. me aurivienizanily knowsh a little eghannes.   professor charles, you wor have a programming about with happy that.basics\n",
            "\n",
            "Epoch 00023: loss improved from 0.94312 to 0.93833, saving model to /content/gdrive/My Drive/Capstone/Data/\n",
            "Epoch 24/100\n",
            "2362/2362 [==============================] - 24s 10ms/step - loss: 0.9298 - accuracy: 0.7204 - val_loss: 1.0462 - val_accuracy: 0.6967\n",
            "\n",
            "----- Generating text after Epoch: 23\n",
            "----- diversity: 0.2\n",
            "----- Generating with seed: \"sy to learn as the video gets parted into one by one for each functions.and side by side the assignm\"\n",
            "sy to learn as the video gets parted into one by one for each functions.and side by side the assignments and programming to start learning python and the programming experience in python. the course is very good course for anyone who wants to learn python through the course was absolutely not make the course with the course was absolutely not make the course is very interesting.  the course is very interesting and the teacher to learn python. the instructor is very easy to understand and the cou\n",
            "----- diversity: 0.5\n",
            "----- Generating with seed: \"sy to learn as the video gets parted into one by one for each functions.and side by side the assignm\"\n",
            "sy to learn as the video gets parted into one by one for each functions.and side by side the assignment and designed but the instructor is very good course with the course and had to learn things and the teaching style in the course. \" \"this is a great course from the concepts to book it was a great instructor is very instructor makes it all the basics of python from basics of python. the instructor is very fun. having the assignments are amazing and interesting and at the rest of the course and\n",
            "----- diversity: 1.0\n",
            "----- Generating with seed: \"sy to learn as the video gets parted into one by one for each functions.and side by side the assignm\"\n",
            "sy to learn as the video gets parted into one by one for each functions.and side by side the assignment scratch. the instructor proprant and me the vased. tear us in d if you have nave, not way also really his course is quite not have to have great and wanted to learn python, easy to start toough ther ofe any nawation from basic it. learning is one and understand. the last san end of such a quick thanks to prof. chuck, you can for coursera can understand the course and gave me the systems to lea\n",
            "----- diversity: 1.2\n",
            "----- Generating with seed: \"sy to learn as the video gets parted into one by one for each functions.and side by side the assignm\"\n",
            "sy to learn as the video gets parted into one by one for each functions.and side by side the assignment class\"..thank you, if i've very need worth vay of programming course is succqsions good learn end with camputer sumpled for python. and thank you sir and from danataits which it teach at taking this course!\" \"friethly understand with very speaker, masy using python it helps nons other lectures ere reorous, han how there really helping maybe it.. \" an  isso need thise it was years is wrotwor co\n",
            "\n",
            "Epoch 00024: loss improved from 0.93833 to 0.93340, saving model to /content/gdrive/My Drive/Capstone/Data/\n",
            "Epoch 25/100\n",
            "2362/2362 [==============================] - 24s 10ms/step - loss: 0.9203 - accuracy: 0.7227 - val_loss: 1.0447 - val_accuracy: 0.6989\n",
            "\n",
            "----- Generating text after Epoch: 24\n",
            "----- diversity: 0.2\n",
            "----- Generating with seed: \"ls. a great introduction for someone who knows nothing about programming - step by step   you have a\"\n",
            "ls. a great introduction for someone who knows nothing about programming - step by step   you have a but i was a great course. the course was very engaging. the course was a great introduction to python and the course was very easy to understand and the teacher is a great teacher and the teacher is a great teacher is a great introduction to python. the course was a great introductory course for beginners. the course was a great introduction to python, and the course was a great experience in the\n",
            "----- diversity: 0.5\n",
            "----- Generating with seed: \"ls. a great introduction for someone who knows nothing about programming - step by step   you have a\"\n",
            "ls. a great introduction for someone who knows nothing about programming - step by step   you have a little bit an awesome course in the students who wants to start programming in a few concepts. i loved the first programming is a sativite you can upde to computer students in the course was really enjoying the course. the teacher not only the way he teaches the students with the programming experience in person who has no brought, but i have also good and i would recommend this course to atstem \n",
            "----- diversity: 1.0\n",
            "----- Generating with seed: \"ls. a great introduction for someone who knows nothing about programming - step by step   you have a\"\n",
            "ls. a great introduction for someone who knows nothing about programming - step by step   you have a very clear and i could gavan.great course, and learn endous to the taught in tike whenever\"  my funding to really a student also, dr.chuck,you study well recelrive . you! he. in my control learning more first time attumented who wants to style to this is a beginner  the program in my can understand who even achore. thanks coursera course, i would recomend i started to fix it. a great teacher and \n",
            "----- diversity: 1.2\n",
            "----- Generating with seed: \"ls. a great introduction for someone who knows nothing about programming - step by step   you have a\"\n",
            "ls. a great introduction for someone who knows nothing about programming - step by step   you have an amazing covered thanknut learned purtonma, i'm a jayly. proplemate of, i understand need in code us, challenging. for me, if like py henter straights le quickt focudate, maks only for a beginner - .... jump\"som ther. \" \"i've actroce for affaction or just gradeating. i sen enjoy blioks, he really  aweso, there is really nerettel for beginners! flated it van as well peep through that he taught and\n",
            "\n",
            "Epoch 00025: loss improved from 0.93340 to 0.92918, saving model to /content/gdrive/My Drive/Capstone/Data/\n",
            "Epoch 26/100\n",
            "2362/2362 [==============================] - 25s 10ms/step - loss: 0.9171 - accuracy: 0.7236 - val_loss: 1.0447 - val_accuracy: 0.6987\n",
            "\n",
            "----- Generating text after Epoch: 25\n",
            "----- diversity: 0.2\n",
            "----- Generating with seed: \"or two.\" \"i enjoyed this course on \"\"coursera\"\". i strongly recommend my friends to take their onlin\"\n",
            "or two.\" \"i enjoyed this course on \"\"coursera\"\". i strongly recommend my friends to take their online course i have never like this course and the assignments and programming language and the exercises are amazing experience for this course and the way he teaches when you so fundinions and the assignments are very interesting. i am a great programming language and the instructor is a great course to beginners who wants to learn python and i was all and the course is very interesting and also int\n",
            "----- diversity: 0.5\n",
            "----- Generating with seed: \"or two.\" \"i enjoyed this course on \"\"coursera\"\". i strongly recommend my friends to take their onlin\"\n",
            "or two.\" \"i enjoyed this course on \"\"coursera\"\". i strongly recommend my friends to take their online course i found things in python, this is a great place to start with python and the course is very well-partical englience in python and there are a great course. i was all who doesn't to think programming language who recommend this course to a programming experience in programming, and i would like to thing thinking about this course is really good and also interesting and both i can all in th\n",
            "----- diversity: 1.0\n",
            "----- Generating with seed: \"or two.\" \"i enjoyed this course on \"\"coursera\"\". i strongly recommend my friends to take their onlin\"\n",
            "or two.\" \"i enjoyed this course on \"\"coursera\"\". i strongly recommend my friends to take their online course  again, they assignments, and helping\" \"this course is, dr  saymerial it is a great approach sore is my first parted!\" great introst programming also because for a lot on course in the course. it is a very good class with newbies, in programming also a nice and respect that its a good course it very well! how the mave the copporer, you highly recommend this course for everybody not fact o\n",
            "----- diversity: 1.2\n",
            "----- Generating with seed: \"or two.\" \"i enjoyed this course on \"\"coursera\"\". i strongly recommend my friends to take their onlin\"\n",
            "or two.\" \"i enjoyed this course on \"\"coursera\"\". i strongly recommend my friends to take their online and lectures studing buticate one bit of starting of the end!  you're motives there you in a faitus programbing class and also likes layier serged experience. but itsigate the course is just exprograble.ta'glils frustrations, programming. like to am look roteging communaghe python. thent that if you'z so from this related experience two anyworch who have's never fraethed ever!just \"\"\"\";-b.thon's\n",
            "\n",
            "Epoch 00026: loss improved from 0.92918 to 0.92614, saving model to /content/gdrive/My Drive/Capstone/Data/\n",
            "Epoch 27/100\n",
            "2362/2362 [==============================] - 25s 10ms/step - loss: 0.9110 - accuracy: 0.7256 - val_loss: 1.0479 - val_accuracy: 0.6991\n",
            "\n",
            "----- Generating text after Epoch: 26\n",
            "----- diversity: 0.2\n",
            "----- Generating with seed: \"dr. chuck has a special ability to teach programming to people who do not have a programming backgro\"\n",
            "dr. chuck has a special ability to teach programming to people who do not have a programming background but the course is very good course for beginners in programming. the course is very good course for beginners in programming and i was all the material is a great course for a new to programming experience in programming but the course is very good and i was all i want to start the course is very good course for beginners in programming in python. the instructor is very good course for beginne\n",
            "----- diversity: 0.5\n",
            "----- Generating with seed: \"dr. chuck has a special ability to teach programming to people who do not have a programming backgro\"\n",
            "dr. chuck has a special ability to teach programming to people who do not have a programming background programming background for the fundamentals. i would like to start with python and introduction to python before because i learned and easy to understand and the difficult to students quite and i was a lot of easy to learn python and solve the course is very helpful for me it also good and the students in a coulled in severance. \" \"it is the best secint introduction to programming in starting \n",
            "----- diversity: 1.0\n",
            "----- Generating with seed: \"dr. chuck has a special ability to teach programming to people who do not have a programming backgro\"\n",
            "dr. chuck has a special ability to teach programming to people who do not have a programming background. this is very helpful with more basic and help: us of live!\"ch in terms. it's explained blf. this course made most must thing courses tool interactive and very useful, free hardware and computer programming languages.\" \"great course! you siach for anybody  hearry recordes forder in as this course reading. it is almost guidance for ally really more everyone who would have lectured was gristal t\n",
            "----- diversity: 1.2\n",
            "----- Generating with seed: \"dr. chuck has a special ability to teach programming to people who do not have a programming backgro\"\n",
            "dr. chuck has a special ability to teach programming to people who do not have a programming background.i wonld , this class abaulity courses are near first stucess if you learn python, but increditing an online and think under.the course is really gettub-our work happer. i wanted to learn programming. ak exercises i  me p you dr. concepts, not to bus for dr. cher stof is one of much, ulter.that i fen my expic al, sure to lays the lectures for beginners after take this course a difficulary in co\n",
            "\n",
            "Epoch 00027: loss improved from 0.92614 to 0.92206, saving model to /content/gdrive/My Drive/Capstone/Data/\n",
            "Epoch 28/100\n",
            "2362/2362 [==============================] - 24s 10ms/step - loss: 0.9066 - accuracy: 0.7269 - val_loss: 1.0476 - val_accuracy: 0.6987\n",
            "\n",
            "----- Generating text after Epoch: 27\n",
            "----- diversity: 0.2\n",
            "----- Generating with seed: \"tructor. great course.\" \"great lectures, great text book.  i really liked the professor - in his vid\"\n",
            "tructor. great course.\" \"great lectures, great text book.  i really liked the professor - in his videos are very entire course. i would recommend this course to the professor and the professor is very good for me to start to the next course for beginners. i will continue to take this course to start to the next course. i am a great course for beginners course to the next course. i am so fundinions and the professor is very good at all the concepts and programming and the course was a great cours\n",
            "----- diversity: 0.5\n",
            "----- Generating with seed: \"tructor. great course.\" \"great lectures, great text book.  i really liked the professor - in his vid\"\n",
            "tructor. great course.\" \"great lectures, great text book.  i really liked the professor - in his videos are super every weeks about the most of easy to understand. i loved the course i started to learn python and the professor which was a great course for beginners with the best course. i while to move the most before i want to learn python in the sence this course to a programming course. i have easily any programming experience for a lot the course was really good and the teacher not only inte\n",
            "----- diversity: 1.0\n",
            "----- Generating with seed: \"tructor. great course.\" \"great lectures, great text book.  i really liked the professor - in his vid\"\n",
            "tructor. great course.\" \"great lectures, great text book.  i really liked the professor - in his videos,learning and camers but charles is a great introduction mot. \" great course to start   i can are just grad ntwart to the very motivate new worf. this is the bisics in i can't retaint thro is a couple codling assignments a great job are unfussimples the basics of programming. i look forward to take a start the lectures. \" \"it hanks\" where the python commansible with fam of.!\" \"i understand the \n",
            "----- diversity: 1.2\n",
            "----- Generating with seed: \"tructor. great course.\" \"great lectures, great text book.  i really liked the professor - in his vid\"\n",
            "tructor. great course.\" \"great lectures, great text book.  i really liked the professor - in his videos and marn it. i feel logram to taken on a now python programming data structures thonowbor, helped my understinical given that bornal - communalicable.--bat a lotions...   . prastr coursera; much why it in the lecturer! \" \"hele, buili?ur experience had a prof sedueable who has's just you found the knowlabate. this till like almost of the python programming. i will wantite for his far.for the fi\n",
            "\n",
            "Epoch 00028: loss improved from 0.92206 to 0.91912, saving model to /content/gdrive/My Drive/Capstone/Data/\n",
            "Epoch 29/100\n",
            "2362/2362 [==============================] - 25s 10ms/step - loss: 0.9070 - accuracy: 0.7264 - val_loss: 1.0496 - val_accuracy: 0.6986\n",
            "\n",
            "----- Generating text after Epoch: 28\n",
            "----- diversity: 0.2\n",
            "----- Generating with seed: \"syntax. most of the ideas are the same across from python and c  , so i was able to finish it in   d\"\n",
            "syntax. most of the ideas are the same across from python and c  , so i was able to finish it in   dy coursera for this course to anyone who wants to start learning python and the assignments and programming and i will continue the course and i was able to complete the course is a great course. i was a lot of the best course i have taken to start programming language and the way he explains the course and i was able to complete the course and the assignments and programming is a great course to \n",
            "----- diversity: 0.5\n",
            "----- Generating with seed: \"syntax. most of the ideas are the same across from python and c  , so i was able to finish it in   d\"\n",
            "syntax. most of the ideas are the same across from python and c  , so i was able to finish it in   do computer science is awesome with my understanding of the way thanks a lot. i would recommend this course to any one with my coding was can be a lot of the best is a great introduction to programming.. as i am so far of explaining the course involve the concents examples and found this course to start on python, i was able to all the code and the instructor is very didncanumed the course will arr\n",
            "----- diversity: 1.0\n",
            "----- Generating with seed: \"syntax. most of the ideas are the same across from python and c  , so i was able to finish it in   d\"\n",
            "syntax. most of the ideas are the same across from python and c  , so i was able to finish it in   dy my. adare onea and this course was a slow, to do ever view simple which mente and has   as course that errowably. \" \"thank you anyoniest was absoluted to chass suitable with my agreally in all the newacl so the menta slixied in lish the also condects and this instuuses is a very bisip charles product of every most impoging the \"\"liff.. professor charles support problems. i studding about program\n",
            "----- diversity: 1.2\n",
            "----- Generating with seed: \"syntax. most of the ideas are the same across from python and c  , so i was able to finish it in   d\"\n",
            "syntax. most of the ideas are the same across from python and c  , so i was able to finish it in   do charles, intuming two alworn.als that my realob asy, and material is evarifele string a full but class! the difficultate for people with an importan,love an easious - who course are you  me ! his than that this is easily cats i really ham also fundamental if you think other charles which assignments and have pretimpomstuinool 'the explanation han jove just python person as i gave jusp the..\" \"a \n",
            "\n",
            "Epoch 00029: loss improved from 0.91912 to 0.91551, saving model to /content/gdrive/My Drive/Capstone/Data/\n",
            "Epoch 30/100\n",
            "2362/2362 [==============================] - 25s 11ms/step - loss: 0.9042 - accuracy: 0.7283 - val_loss: 1.0538 - val_accuracy: 0.6990\n",
            "\n",
            "----- Generating text after Epoch: 29\n",
            "----- diversity: 0.2\n",
            "----- Generating with seed: \"t occuring word in a paragraph is still not taught even when the course is complete \"this is doable \"\n",
            "t occuring word in a paragraph is still not taught even when the course is complete \"this is doable basic about the course and i would like to start for the basics of python and the teacher not only to the professor what is a great course. i have never take this course to anyone who wants to start learning experience and the assignments are very easy to understand and the assignments are a great course. i am looking forward to learn python programming language and the teacher not only to the tea\n",
            "----- diversity: 0.5\n",
            "----- Generating with seed: \"t occuring word in a paragraph is still not taught even when the course is complete \"this is doable \"\n",
            "t occuring word in a paragraph is still not taught even when the course is complete \"this is doable that i was able to understand the course was easily thank you so much to code use engaging and with a lot. thank you so much. i was able to work of the world of programming in a bit of the subject, and the best course of programming in python from the course for beginners. it was a bit of happy to understand the tenceares or to learn more and should be eary to understand the teachers, each and eas\n",
            "----- diversity: 1.0\n",
            "----- Generating with seed: \"t occuring word in a paragraph is still not taught even when the course is complete \"this is doable \"\n",
            "t occuring word in a paragraph is still not taught even when the course is complete \"this is doable course. \" \"a very mate chances, at learners were what use in from i can't what i completed the concepts again severance, and this was. i learn a lot ut firstluitated world. thanks for the or with python, the assignments welling well blis daming and iden to the read people who teach help manded is but to anyozing and you will be better in the videos acceps i was quite an inuled to learn python.  an\n",
            "----- diversity: 1.2\n",
            "----- Generating with seed: \"t occuring word in a paragraph is still not taught even when the course is complete \"this is doable \"\n",
            "t occuring word in a paragraph is still not taught even when the course is complete \"this is doable course, encage seem. anowher off course edcapped to the rearing being taught, but it is better for samif for paized bry session tipes, whatcherailed.   \" \"the assignment was very explained in programming back started or doptive at python, break stry get to begin things to learn his naces, have some for anyone concepts wind.zeat if you don't have at only people this following booq. explains enginie\n",
            "\n",
            "Epoch 00030: loss improved from 0.91551 to 0.91306, saving model to /content/gdrive/My Drive/Capstone/Data/\n",
            "Epoch 31/100\n",
            "2362/2362 [==============================] - 25s 10ms/step - loss: 0.9001 - accuracy: 0.7284 - val_loss: 1.0528 - val_accuracy: 0.6984\n",
            "\n",
            "----- Generating text after Epoch: 30\n",
            "----- diversity: 0.2\n",
            "----- Generating with seed: \"formative introduction to python. the lectures were very clear and dr. severance has a deep understa\"\n",
            "formative introduction to python. the lectures were very clear and dr. severance has a deep understanding the students were as well as the course is very good and it was a great experience in python language. i have no experience in programming and i would like to start the python programming languages and the students in programming. it is a very good and interested in learning and easy to understand and have a beginner. i would recommend this course to anyone who wants to learn python and prog\n",
            "----- diversity: 0.5\n",
            "----- Generating with seed: \"formative introduction to python. the lectures were very clear and dr. severance has a deep understa\"\n",
            "formative introduction to python. the lectures were very clear and dr. severance has a deep understanding of the same time. i am able to the python programming language but also interested in the first starting using materials of programming in python from the basics of python and i was a great experience is explained in the time. the only now i have never very easy to understand and the assignments are so easy to understand and the subject and easy to understand. the assignments are  interestin\n",
            "----- diversity: 1.0\n",
            "----- Generating with seed: \"formative introduction to python. the lectures were very clear and dr. severance has a deep understa\"\n",
            "formative introduction to python. the lectures were very clear and dr. severance has a deep understanding to rearing studied i had make me       loves out still style. i highly recommend it to start to the textbook. but this course never not only into a python students so overcoudd experiences like me..\"  i highly recommend this course, it for beginners who basic in this teacher i had no prior from zero labst dr. chuck's love in making the course i think frungrandiagizaic oneinating for abuegal \n",
            "----- diversity: 1.2\n",
            "----- Generating with seed: \"formative introduction to python. the lectures were very clear and dr. severance has a deep understa\"\n",
            "formative introduction to python. the lectures were very clear and dr. severance has a deep understandiples or aspenke because of easier to the asavacily using the programming in by edrcalisat--serseas, pracfice was. exercises, so many basic a bighofoes . the tits but helps me a biac in they in programming  efcinational really hard fastaging and needed to learn my hop the programming yaum  programming things and this langes prof, career de.\" \"it courses to available to understand themp again for\n",
            "\n",
            "Epoch 00031: loss improved from 0.91306 to 0.91082, saving model to /content/gdrive/My Drive/Capstone/Data/\n",
            "Epoch 32/100\n",
            "2362/2362 [==============================] - 25s 10ms/step - loss: 0.8977 - accuracy: 0.7283 - val_loss: 1.0604 - val_accuracy: 0.6955\n",
            "\n",
            "----- Generating text after Epoch: 31\n",
            "----- diversity: 0.2\n",
            "----- Generating with seed: \" humor,by this course i have learned the basics of python and industrial applications.looking forwar\"\n",
            " humor,by this course i have learned the basics of python and industrial applications.looking forward to learn python before. the course is very good at all thanks to coursera and how to teach students with the student to learn python. the course was a great course. i have learned a lot from the course and i would like to learn python in programming and i was all the content is a simple and interesting and the assignments and the assignments and the assignments and explaining the concepts and pr\n",
            "----- diversity: 0.5\n",
            "----- Generating with seed: \" humor,by this course i have learned the basics of python and industrial applications.looking forwar\"\n",
            " humor,by this course i have learned the basics of python and industrial applications.looking forward to learn python. the instructor and helps, the teacher not of each start of python from the concepts very clearly and students from dr. charles really good at all that and interesting and also anyone who wants to learn python with the course. i have to reviews with a beginner and i was all the assignments were clear and excellent and accerst to experienced for beginners, i will learn more and ho\n",
            "----- diversity: 1.0\n",
            "----- Generating with seed: \" humor,by this course i have learned the basics of python and industrial applications.looking forwar\"\n",
            " humor,by this course i have learned the basics of python and industrial applications.looking forward to learn jobs.\" \"it's not python tasgitan on your begine if you have even afresh easy to do get imposs. \"very nects with exception, i'm dowed in course cappuage of all assignments. thank you.thank you create get my understand. prof severance actusses as the days. \" \"all arready to program and excellent course for simply \"\"aut's well don't start top fun connect!y dr. chuck is very helpful jos not\n",
            "----- diversity: 1.2\n",
            "----- Generating with seed: \" humor,by this course i have learned the basics of python and industrial applications.looking forwar\"\n",
            " humor,by this course i have learned the basics of python and industrial applications.looking forward to tuge even mire very well. love this course, a clear and explaining the content.i was able to awelow-me to studeme, but i really.learned that and mider atly brons, and i don't goinable, thank dr. chuck is an enjoyable and my very well-upbre righer eavien of your c.innerce to base's take linded from python. slienmed whenmias easy,to a good exercises a very beginners. we kant to learn incisor th\n",
            "\n",
            "Epoch 00032: loss improved from 0.91082 to 0.90803, saving model to /content/gdrive/My Drive/Capstone/Data/\n",
            "Epoch 33/100\n",
            "2362/2362 [==============================] - 25s 11ms/step - loss: 0.8938 - accuracy: 0.7292 - val_loss: 1.0606 - val_accuracy: 0.6973\n",
            "\n",
            "----- Generating text after Epoch: 32\n",
            "----- diversity: 0.2\n",
            "----- Generating with seed: \"it as good practices of programming . i completed this course from coursera but i will go to the sit\"\n",
            "it as good practices of programming . i completed this course from coursera but i will go to the site a lot of the course and also i would like to learn python from the course and the assignments are very easy to understand and the way he takes a beginner with the students well sure if you have a lot of the python  and the teaching style of the best course and the teacher is a great teacher, i would like to start the course and i would started with python for everybody with python in programming\n",
            "----- diversity: 0.5\n",
            "----- Generating with seed: \"it as good practices of programming . i completed this course from coursera but i will go to the sit\"\n",
            "it as good practices of programming . i completed this course from coursera but i will go to the site a lot of online course for beginners. i would so good for me a lot and the programming language and the teaching students with the students and the assignments are easy to understand and the basics of python is examples and i would started the lectures are complete about programming language , as a start problems and i have ever i wanted to learn python from a better and i have ever some key of \n",
            "----- diversity: 1.0\n",
            "----- Generating with seed: \"it as good practices of programming . i completed this course from coursera but i will go to the sit\"\n",
            "it as good practices of programming . i completed this course from coursera but i will go to the site   chuck for wore connes ago the worked on my lime me never quizzes, so cuccured no into the course and and the material i hope more assignments to the instructions , boostainon continue and the lecture i secorm to the next course i've computer language, i have a provides you to uxfough i have been in this first posc pide for online worl.whats and palsintly intendition to understand and easy--tut\n",
            "----- diversity: 1.2\n",
            "----- Generating with seed: \"it as good practices of programming . i completed this course from coursera but i will go to the sit\"\n",
            "it as good practices of programming . i completed this course from coursera but i will go to the sit of such anyway out on and yourserf on the most ape . i am a lot of one ckeately charles, this is you. i am works people. by skitats and botts in programming. bs learning python learning a lot of flod therally gets be aupy in mienstrailly anyom informadies are delpgagent. thanks your exigr and very well sign for backgrone, he have exersing your gratpon that professor charles \" \"romplo video. work \n",
            "\n",
            "Epoch 00033: loss improved from 0.90803 to 0.90522, saving model to /content/gdrive/My Drive/Capstone/Data/\n",
            "Epoch 34/100\n",
            "2362/2362 [==============================] - 25s 11ms/step - loss: 0.8921 - accuracy: 0.7302 - val_loss: 1.0588 - val_accuracy: 0.6967\n",
            "\n",
            "----- Generating text after Epoch: 33\n",
            "----- diversity: 0.2\n",
            "----- Generating with seed: \"s very good.  \" \"first of all thank you so much for improvising my knowledge to next extend. this is\"\n",
            "s very good.  \" \"first of all thank you so much for improvising my knowledge to next extend. this is a great course for python and study with python and i would recommend this course for those who are seensercan to the next courses and the concepts videos and makes the concepts with python. the course was a great experience in programming. the course is very good for beginners and the exercises were very interesting and explained in python to the next courses and the teaching staff in this cours\n",
            "----- diversity: 0.5\n",
            "----- Generating with seed: \"s very good.  \" \"first of all thank you so much for improvising my knowledge to next extend. this is\"\n",
            "s very good.  \" \"first of all thank you so much for improvising my knowledge to next extend. this is my first course was very good course for people who are skill starts like makes the concepts with the lecture was very good course for python and study with for me to learn python and the way don't wann to start literally the concepts in a who has a lot to do world of programming by doing who content concepts videos are amazing course for python. the course is very good learning python but i was \n",
            "----- diversity: 1.0\n",
            "----- Generating with seed: \"s very good.  \" \"first of all thank you so much for improvising my knowledge to next extend. this is\"\n",
            "s very good.  \" \"first of all thank you so much for improvising my knowledge to next extend. this is didbical intromuitional steps and explaince it very good programming language. this course was very empins.one just starting, dr. charles severance does an introduction to the concepts agotime some basics or spiting as a fun to exact, this.\" even where you so easy to fet to get a because the concepts very easy to only computer science.  well speck to anyone what che clears from access, the materi\n",
            "----- diversity: 1.2\n",
            "----- Generating with seed: \"s very good.  \" \"first of all thank you so much for improvising my knowledge to next extend. this is\"\n",
            "s very good.  \" \"first of all thank you so much for improvising my knowledge to next extend. this is mystramm looking examples to be arover but with my python! instrore python by every wents.  mixcall scrionmed because programs zorviserbie kequire, and has well structured .\" myself easy prof. people, very quizzes. so very knows with'l easy at   dructsimman. our learning a programming for everybody for faily,it teaches using python from much about day i want to stars from a bedicns me the hanux b\n",
            "\n",
            "Epoch 00034: loss improved from 0.90522 to 0.90411, saving model to /content/gdrive/My Drive/Capstone/Data/\n",
            "Epoch 35/100\n",
            "2362/2362 [==============================] - 25s 11ms/step - loss: 0.8924 - accuracy: 0.7295 - val_loss: 1.0593 - val_accuracy: 0.6957\n",
            "\n",
            "----- Generating text after Epoch: 34\n",
            "----- diversity: 0.2\n",
            "----- Generating with seed: \"ore him for making this intimidating course accessible and enjoyable. i also truly appreciate course\"\n",
            "ore him for making this intimidating course accessible and enjoyable. i also truly appreciate coursera for someone who has zero engage. the assignments and programming and the professor and the teaching style i was able to understand the concepts and the assignments and the assignments and programming and the teaching style explained the concepts in the course is very good and i will learn a programming language is very good at it. i am very provides a lot of experience with python programming l\n",
            "----- diversity: 0.5\n",
            "----- Generating with seed: \"ore him for making this intimidating course accessible and enjoyable. i also truly appreciate course\"\n",
            "ore him for making this intimidating course accessible and enjoyable. i also truly appreciate coursera for this course. the assignments with can understand and the teaching. \" \"i am really enjoyed this course and the way of the best course for anyone who wants to learn this is a very good and i will perfect before, the instructor  a really good way to learn for beginners. i am very nice programming languages and the professor get interesting and every concept introduction of python and the learn\n",
            "----- diversity: 1.0\n",
            "----- Generating with seed: \"ore him for making this intimidating course accessible and enjoyable. i also truly appreciate course\"\n",
            "ore him for making this intimidating course accessible and enjoyable. i also truly appreciate coursera!!\" \"though i straluthout goidate even us formarsours weeks basic, i already what course and , i can fadrons more classes.\" \"it was am of information  availation questions are very eate natume like with python \" it was beed to be learn wothint   a course one course to learn python brouch is teaching. i really appreciate this course and assignments are not telly till provided you the forme. very \n",
            "----- diversity: 1.2\n",
            "----- Generating with seed: \"ore him for making this intimidating course accessible and enjoyable. i also truly appreciate course\"\n",
            "ore him for making this intimidating course accessible and enjoyable. i also truly appreciate coursera, a tot begin about programming speer.i learnt scruction of contrat.\" \"it even though alloting your materica in the ken for seviemes riguout. \"i'm looking forward to take dr. severance,backe!!\" \"good course and acaumed parien; i'm allent this is gothelatice of wet. can own case and good never well as programming lannually repuned to  mesionals for the sameal or how more basic and othe saybie cle\n",
            "\n",
            "Epoch 00035: loss improved from 0.90411 to 0.90128, saving model to /content/gdrive/My Drive/Capstone/Data/\n",
            "Epoch 36/100\n",
            "2362/2362 [==============================] - 25s 11ms/step - loss: 0.8878 - accuracy: 0.7317 - val_loss: 1.0583 - val_accuracy: 0.6984\n",
            "\n",
            "----- Generating text after Epoch: 35\n",
            "----- diversity: 0.2\n",
            "----- Generating with seed: \"urer.\" \"great introduction to programming, or a fun review of programming topics. it is not \"\"in-dep\"\n",
            "urer.\" \"great introduction to programming, or a fun review of programming topics. it is not \"\"in-depth and the end.\" \"this course is very helpful in programming in the course. i have never enrunces the course is very helpful in programming. i am so good and i have ever taking of the concepts easy to understand. i am so thankfull this course is very funny and easy to understand the concepts in python. i am a great teacher is did should explain and the instructor is a great introduction to program\n",
            "----- diversity: 0.5\n",
            "----- Generating with seed: \"urer.\" \"great introduction to programming, or a fun review of programming topics. it is not \"\"in-dep\"\n",
            "urer.\" \"great introduction to programming, or a fun review of programming topics. it is not \"\"in-depth and the instructor is amazing. it is a great experience in programming. i enjoyed it and its really engaging, and the instructor is very helpful. i am very interesting and i will have all it is a great teacher, i would like to start for this course!   i have ever completed everything in a very beginners. i loved this course in the full of this course is simple and the way he teaches it also eng\n",
            "----- diversity: 1.0\n",
            "----- Generating with seed: \"urer.\" \"great introduction to programming, or a fun review of programming topics. it is not \"\"in-dep\"\n",
            "urer.\" \"great introduction to programming, or a fun review of programming topics. it is not \"\"in-depaning students. i works even for their whos easy to understand and working. which wanted more exercises with very likely. excellent experience of how pach with required shate chatrse.statting  we starts nice slowlector, dr. coursera for a beginning. in great tipl thes and up my knowledge in programming. and i adviley i must fant as well is a and did charles. charles! this course is interesting, al\n",
            "----- diversity: 1.2\n",
            "----- Generating with seed: \"urer.\" \"great introduction to programming, or a fun review of programming topics. it is not \"\"in-dep\"\n",
            "urer.\" \"great introduction to programming, or a fun review of programming topics. it is not \"\"in-depalld..nequmes, but of, and i trieded my challenging. thank you for whate without a backgrone, the course write in this was a great intro st python especially way, this course,  \"a geve python wis more challerge to realize it fla, i reigran   it is basic coding ahe-so know. that's teaching a little more career. thank you!hit would sfice i want to taking this course to a great htars from him notive.\n",
            "\n",
            "Epoch 00036: loss improved from 0.90128 to 0.89955, saving model to /content/gdrive/My Drive/Capstone/Data/\n",
            "Epoch 37/100\n",
            "2362/2362 [==============================] - 26s 11ms/step - loss: 0.8849 - accuracy: 0.7326 - val_loss: 1.0600 - val_accuracy: 0.6967\n",
            "\n",
            "----- Generating text after Epoch: 36\n",
            "----- diversity: 0.2\n",
            "----- Generating with seed: \"bit better.  the professor was very clear for all the topics, making python so much easier to learn \"\n",
            "bit better.  the professor was very clear for all the topics, making python so much easier to learn python and the lectures are super entertaining and complete about python.\" \"the course is very good course for beginners with the course is very good course for beginners. the course is very good course for beginners with no programming language and the language. i am a great place to start with the course with the lectures are clear english you don't have any programming language. i would recomme\n",
            "----- diversity: 0.5\n",
            "----- Generating with seed: \"bit better.  the professor was very clear for all the topics, making python so much easier to learn \"\n",
            "bit better.  the professor was very clear for all the topics, making python so much easier to learn python briluing the course and the concepts with an explaining the basics of python. the instructor is a very simple and needed to the working courses. the course was really great for useration of the course is very good course.\" \"i am so make the content of the python programming language is a bit of python and coursera to understand the concept and make you start to programming in a programme to\n",
            "----- diversity: 1.0\n",
            "----- Generating with seed: \"bit better.  the professor was very clear for all the topics, making python so much easier to learn \"\n",
            "bit better.  the professor was very clear for all the topics, making python so much easier to learn not cading the cancept. thank you solved problemsy..! i taken stufforing to blish entime of coding, he begin when task work for wriet getting free overway to find the labtl charles, i need to teach me. what is gor enolied my twhull teachers to atamping an adersaining thes. \"great course, at the only topics well done a but also good experience. very clear enall programming sesming for ustrods.\" tif\n",
            "----- diversity: 1.2\n",
            "----- Generating with seed: \"bit better.  the professor was very clear for all the topics, making python so much easier to learn \"\n",
            "bit better.  the professor was very clear for all the topics, making python so much easier to learn python. so i am roching   axazing those goind of the course. i will not contant faely!\" \"the asch astent lefson things and consinter  from coursera is it impreve forward, to other specialization.   they assignments free.i uttemed and it deepet. goublat.\" \"theriourd to start to professor severance's glad also nom this course has boring resources whatevery alto startivey code. i will packed decopmin\n",
            "\n",
            "Epoch 00037: loss improved from 0.89955 to 0.89800, saving model to /content/gdrive/My Drive/Capstone/Data/\n",
            "Epoch 38/100\n",
            "2362/2362 [==============================] - 25s 11ms/step - loss: 0.8877 - accuracy: 0.7319 - val_loss: 1.0641 - val_accuracy: 0.6961\n",
            "\n",
            "----- Generating text after Epoch: 37\n",
            "----- diversity: 0.2\n",
            "----- Generating with seed: \"ctor in this course made all the difference! i appreciated how you have to dig for the answers to th\"\n",
            "ctor in this course made all the difference! i appreciated how you have to dig for the answers to the professor charles severance is a great started with python. the assignments are easy to understand and the assignments are very well designed to the professor charles severance is very well structure and the assignments are very useful and i was able to do the lectures and the assignments are very helpful to learn the concepts and at the structure videos are very well assignments are very well s\n",
            "----- diversity: 0.5\n",
            "----- Generating with seed: \"ctor in this course made all the difference! i appreciated how you have to dig for the answers to th\"\n",
            "ctor in this course made all the difference! i appreciated how you have to dig for the answers to the first staping me to make it and the students in the most base of the programming background in programming, well and i will learn the concepts on the best professor is an amazing teacher and programming. i liked the course is explained in programming.  i would like to that the professor. the course is very bight understandable and programming. he is a great class and i was able to complete this \n",
            "----- diversity: 1.0\n",
            "----- Generating with seed: \"ctor in this course made all the difference! i appreciated how you have to dig for the answers to th\"\n",
            "ctor in this course made all the difference! i appreciated how you have to dig for the answers to the not a since that beginner. i would like to can learn broghts his explanations to do the lessons spending using students are really well. the world and don't him able to do ablenting terms of complexitications are previous kence the lastes before bit not just taken about the course wings  i think this is the persorstant. professor charles severance to rele, they write do not.\" \"dr. severance me c\n",
            "----- diversity: 1.2\n",
            "----- Generating with seed: \"ctor in this course made all the difference! i appreciated how you have to dig for the answers to th\"\n",
            "ctor in this course made all the difference! i appreciated how you have to dig for the answers to the  reperts at interest this course. i glapp to des quiz and syndaters. the materearon caught as we chap explaining much to daz still times\"\" or cod in .like all were fre had asspyon at all.thanks\" while years also  \"expracied in set meally asing there you whize much about to learners as i down way to ento asy,ay but i sees!  interviewically when very dona \" :dar key . . i have never presees are ti\n",
            "\n",
            "Epoch 00038: loss improved from 0.89800 to 0.89579, saving model to /content/gdrive/My Drive/Capstone/Data/\n",
            "Epoch 39/100\n",
            "2362/2362 [==============================] - 25s 11ms/step - loss: 0.8791 - accuracy: 0.7329 - val_loss: 1.0657 - val_accuracy: 0.6964\n",
            "\n",
            "----- Generating text after Epoch: 38\n",
            "----- diversity: 0.2\n",
            "----- Generating with seed: \"hat is programming to basic variable, condition, function and looping. this very good for starting y\"\n",
            "hat is programming to basic variable, condition, function and looping. this very good for starting you have the course and the teacher is a great introduction to python and the teacher is a great teacher and programming for everybody  python for me in python language before and the teacher is a great teacher and programming and the teacher is a great teacher and coursera for the course and the way he takes you that the course is very good course for the first online courses in the first part for\n",
            "----- diversity: 0.5\n",
            "----- Generating with seed: \"hat is programming to basic variable, condition, function and looping. this very good for starting y\"\n",
            "hat is programming to basic variable, condition, function and looping. this very good for starting you stroggl the course has to take the entire videos were amazing and also helpful. i really like this course and the language because i have taken a bit of programming in python from the very basics of python and print lessons especially interesting. i have study what i was a great course for a programmer and to complete this course is one of the best courses you can to experience to the taught fo\n",
            "----- diversity: 1.0\n",
            "----- Generating with seed: \"hat is programming to basic variable, condition, function and looping. this very good for starting y\"\n",
            "hat is programming to basic variable, condition, function and looping. this very good for starting you can be easily charles severance. from acound the courses an have already has a friends resource!!\" \"it was introduction to fallor course for python people that you agh your perse thank you. :   \" \"it was a juite all professor severance knowing a dempreskiplly elabients consid beginner.  \" \"this is a great class. the course is a really approach of command, easy to updermation and coursera for th\n",
            "----- diversity: 1.2\n",
            "----- Generating with seed: \"hat is programming to basic variable, condition, function and looping. this very good for starting y\"\n",
            "hat is programming to basic variable, condition, function and looping. this very good for starting you pack on python.  \"detuybuilued that:h, h-musk with dr.chunk adeed goos. \"the into pite did.  \" gle techniens you'll breakness, as if you!\"\" \"this course is really not so glad i lagated this course . i have breek not \"\"events.is a great introductory python fundamentals sin course better    trating foom very difficulty but coursera exercised ! \" , the laving scients jada.novermentay course that m\n",
            "\n",
            "Epoch 00039: loss improved from 0.89579 to 0.89431, saving model to /content/gdrive/My Drive/Capstone/Data/\n",
            "Epoch 40/100\n",
            "2362/2362 [==============================] - 26s 11ms/step - loss: 0.8812 - accuracy: 0.7330 - val_loss: 1.0637 - val_accuracy: 0.6977\n",
            "\n",
            "----- Generating text after Epoch: 39\n",
            "----- diversity: 0.2\n",
            "----- Generating with seed: \"  find usefulness of or practice what i have learned  to keep me moving forward with this courses. g\"\n",
            "  find usefulness of or practice what i have learned  to keep me moving forward with this courses. great course. i am a great course for beginners with a lot of expecting of the course is a great teacher. i have no previous knowledge in programming to coursera and the explanations are seemed and the teacher not only the course has a lot of experience with coursera and the course has a great teacher, the lectures are designed in this course is a great teacher, the lectures are designed in this co\n",
            "----- diversity: 0.5\n",
            "----- Generating with seed: \"  find usefulness of or practice what i have learned  to keep me moving forward with this courses. g\"\n",
            "  find usefulness of or practice what i have learned  to keep me moving forward with this courses. good regardly and i could not to coursera and is great and engaging and i think it was a great course for beginners with not to allowed is a very good.   \" \"i have no                                                                                                                                                                                                                                           \n",
            "----- diversity: 1.0\n",
            "----- Generating with seed: \"  find usefulness of or practice what i have learned  to keep me moving forward with this courses. g\"\n",
            "  find usefulness of or practice what i have learned  to keep me moving forward with this courses. great prompt. this course has behinners classes as i don't reinarte that you need to move some course  severance coversabacty learn python, it easy enjoy teshing yoursularice and useful for sevinimains  one to teach there with computer schiow and understandable.dounts.then this course was exablite of computer science problems as well a great job adaicion. there and the lecture on the course but peo\n",
            "----- diversity: 1.2\n",
            "----- Generating with seed: \"  find usefulness of or practice what i have learned  to keep me moving forward with this courses. g\"\n",
            "  find usefulness of or practice what i have learned  to keep me moving forward with this courses. golies .lovengine overing consimpleding python of systle wor dr.chuck is helping language. knowledge in just loopis course, it's well is well dowally orgageis.,: i well deccess it also confimente. so of weehn .  ,, that,'s easy' from tom for ansime and problem you get a ssylowed, a deeall in slidegance, but when i to chick amazing. this course cratimati: the other language. \"perf chad smart for fum\n",
            "\n",
            "Epoch 00040: loss improved from 0.89431 to 0.89264, saving model to /content/gdrive/My Drive/Capstone/Data/\n",
            "Epoch 41/100\n",
            "2362/2362 [==============================] - 26s 11ms/step - loss: 0.8830 - accuracy: 0.7326 - val_loss: 1.0661 - val_accuracy: 0.6958\n",
            "\n",
            "----- Generating text after Epoch: 40\n",
            "----- diversity: 0.2\n",
            "----- Generating with seed: \"ion of book for self detailed study  was just awesome stuff.really really good!!!\" \"  the course was\"\n",
            "ion of book for self detailed study  was just awesome stuff.really really good!!!\" \"  the course was a great introductory course for beginners. the teacher is a great introductory course for those who are seen interviews of the best course for beginners. i am so far the concepts are easy to follow and also the lectures are very easy to learn. the assignments are excellent teaching students to learn python from the beginners. the instructor is very good at my content. the very basics of python an\n",
            "----- diversity: 0.5\n",
            "----- Generating with seed: \"ion of book for self detailed study  was just awesome stuff.really really good!!!\" \"  the course was\"\n",
            "ion of book for self detailed study  was just awesome stuff.really really good!!!\" \"  the course was a great introduction to python. perfecter easy to follow and the best instructor is best personal of the course and all the lectures are desting the instructions from the beginners in the very beginning in the fieles of the course. i have taken other charles severance is a simple and interesting and the assignments and assignments are very well structured. i will learn and mas a well-stry noo, i \n",
            "----- diversity: 1.0\n",
            "----- Generating with seed: \"ion of book for self detailed study  was just awesome stuff.really really good!!!\" \"  the course was\"\n",
            "ion of book for self detailed study  was just awesome stuff.really really good!!!\" \"  the course was a great introducture the python python .thank you!\" being master than python.  \"a recommended for beginners. gives to continue that you want to learn programming  i camaulthe back speed formar takes you had no mather. even that if it and have to make at a background in quitier class for good and i've as a taught in the course sid and also a lot of ord the computer programming lect to all too keep\n",
            "----- diversity: 1.2\n",
            "----- Generating with seed: \"ion of book for self detailed study  was just awesome stuff.really really good!!!\" \"  the course was\"\n",
            "ion of book for self detailed study  was just awesome stuff.really really good!!!\" \"  the course was as professor loves weich a beginner i hanky programming is svertly internst things sure lines programming you are standed, but is amazing. this course contedt to complete where those asdities, trough vodiousk for sly.that neary provided approach python specialization. the start of programming pains feet with himses with. i know ow examples cuncrously no to thanks about pract courses for someore.\"\n",
            "\n",
            "Epoch 00041: loss improved from 0.89264 to 0.89168, saving model to /content/gdrive/My Drive/Capstone/Data/\n",
            "Epoch 42/100\n",
            "2362/2362 [==============================] - 26s 11ms/step - loss: 0.8801 - accuracy: 0.7330 - val_loss: 1.0654 - val_accuracy: 0.6955\n",
            "\n",
            "----- Generating text after Epoch: 41\n",
            "----- diversity: 0.2\n",
            "----- Generating with seed: \"e and wanted to touch up on it. i found myself leaning new information that i didn't know before, an\"\n",
            "e and wanted to touch up on it. i found myself leaning new information that i didn't know before, and the course is very good for me to learn the beginning from the course and i would like to start programming language and the teachers and the professor chuck student to the part of the course is very helpful for me to understand the course is very good. i am a great teacher who has no programming experience and i will sever charles severance is so good and it was a great experience in programmin\n",
            "----- diversity: 0.5\n",
            "----- Generating with seed: \"e and wanted to touch up on it. i found myself leaning new information that i didn't know before, an\"\n",
            "e and wanted to touch up on it. i found myself leaning new information that i didn't know before, and i was a boring in programming languages explained in python. thanks to python possible for me in such a week coding and funny when working of python and programming and the teachers and the professor is prevides and the course in a simple and starting examples and i am going to start with them about the course is very good at the beginning and different to understand. i found this course with a \n",
            "----- diversity: 1.0\n",
            "----- Generating with seed: \"e and wanted to touch up on it. i found myself leaning new information that i didn't know before, an\"\n",
            "e and wanted to touch up on it. i found myself leaning new information that i didn't know before, and things are good engerster and so knowledge !!! i found the for soce.dr.churk of educative.  prior sontholiage, reluted by one of do how.this lakent generally enjoyed which dr. chuck rufser learning python learners and friendly and taken he paigh more and easy to understand but enda python witlus po son to start   he makes teacher .now after starting there with the concepts invived libtle, those \n",
            "----- diversity: 1.2\n",
            "----- Generating with seed: \"e and wanted to touch up on it. i found myself leaning new information that i didn't know before, an\"\n",
            "e and wanted to touch up on it. i found myself leaning new information that i didn't know before, and of the course, very -learly my,\" \"writiging classes!!!  like the first excelse explanations. i this one like you not understont next chapter, i spic to daking  asdities for uping to vis would be to keep lusy.\" this course if otinal mistake, will program uting easy to understand. his teaching what's one. i had a lot of recommend this course for achieve course\"\" to understand and think \"bonus for \n",
            "\n",
            "Epoch 00042: loss improved from 0.89168 to 0.88949, saving model to /content/gdrive/My Drive/Capstone/Data/\n",
            "Epoch 43/100\n",
            "2362/2362 [==============================] - 26s 11ms/step - loss: 0.8789 - accuracy: 0.7330 - val_loss: 1.0664 - val_accuracy: 0.6961\n",
            "\n",
            "----- Generating text after Epoch: 42\n",
            "----- diversity: 0.2\n",
            "----- Generating with seed: \" teaching was really slow and i was able to understand the basics like never before, and this course\"\n",
            " teaching was really slow and i was able to understand the basics like never before, and this course is very good course for a beginner language is very good course. \" \"i have taken of the course is very good course for a beginner in the specialization.  the instructor is a great teaching style instructor is easy to understand and the way dr. chuck is a great course that i want to start the first course is very good course. i would like to start the way he taught is a great reading and easy to u\n",
            "----- diversity: 0.5\n",
            "----- Generating with seed: \" teaching was really slow and i was able to understand the basics like never before, and this course\"\n",
            " teaching was really slow and i was able to understand the basics like never before, and this course is a great experience is very good. \" \"i have taken out this course is an introductory.like computer science in a student to computer sciences with a bit of highly recommended.\" \"i really like this course i could zero enjoy this course is very helpful. i was able to do the starting in the way that well am sure that you want to start programming language and the way he explaining the basics of pyt\n",
            "----- diversity: 1.0\n",
            "----- Generating with seed: \" teaching was really slow and i was able to understand the basics like never before, and this course\"\n",
            " teaching was really slow and i was able to understand the basics like never before, and this course is been programmers of programming language. fant serion of syme bly!  well. to lass fear this course every\"\"lysed level to every well arranned a lot of experience in style down with the born'\" didn't just has an easy to follow which imporst coursera.\" \"i hogelicated to cam to go achoupally, will be starting about this course way through them, he is so interesting. and i will take to start the co\n",
            "----- diversity: 1.2\n",
            "----- Generating with seed: \" teaching was really slow and i was able to understand the basics like never before, and this course\"\n",
            " teaching was really slow and i was able to understand the basics like never before, and this course was a prapthing code mac,marions doubthill had nat has helpful. i an excellent was tacks about lit ulot programming onisher. a tell, thain, whad easy, professor shorter courses ole. i was gase upalle were week.  programming of my first plame abtultine!\" \"great course, forta day and wanth to know has too quection  \"great course definitions terms!  on the basics  , syntaxs the lessons grate if you \n",
            "\n",
            "Epoch 00043: loss improved from 0.88949 to 0.88749, saving model to /content/gdrive/My Drive/Capstone/Data/\n",
            "Epoch 44/100\n",
            "2362/2362 [==============================] - 26s 11ms/step - loss: 0.8736 - accuracy: 0.7353 - val_loss: 1.0681 - val_accuracy: 0.6947\n",
            "\n",
            "----- Generating text after Epoch: 43\n",
            "----- diversity: 0.2\n",
            "----- Generating with seed: \"ecommend everyone to follow severance's advise and use a text editor like atom and run your assignme\"\n",
            "ecommend everyone to follow severance's advise and use a text editor like atom and run your assignments and programming and programming and friendly and easy to understand and the teaching students with the courses on python and the programming experience in programming and programming and programming and programming and the teacher is a great experience with python and the way he taught me the programming experience to the basics of python and programming in python and also interactive and prog\n",
            "----- diversity: 0.5\n",
            "----- Generating with seed: \"ecommend everyone to follow severance's advise and use a text editor like atom and run your assignme\"\n",
            "ecommend everyone to follow severance's advise and use a text editor like atom and run your assignments without any knowledge and the student and content is a great teacher with python and programming. the instructor is a very well previous beginners could start on coursera. the course is very good really deepel easy to learn. however, the instructor is awesome and the course. the instructor is a great experience so that he programming experience with computer science to a lot of experience stud\n",
            "----- diversity: 1.0\n",
            "----- Generating with seed: \"ecommend everyone to follow severance's advise and use a text editor like atom and run your assignme\"\n",
            "ecommend everyone to follow severance's advise and use a text editor like atom and run your assignment possible. i  persons of all off when i can learn non, there is by looking forward to start the topy using.concept, easy to progresses and will be word to learn python ak esperire. \"i just inturstion to python!\" \"the course was beloriaod gave me a baded of programming within the saff course to you will not continue. the knowledge stattence secing more easy to follow to chealing you will need to \n",
            "----- diversity: 1.2\n",
            "----- Generating with seed: \"ecommend everyone to follow severance's advise and use a text editor like atom and run your assignme\"\n",
            "ecommend everyone to follow severance's advise and use a text editor like atom and run your assignments courses. it need. \"perforc-py,hor difficulty.  the student to to less become my beginions those \"this course mares us for some big personalious edrong.   hire of awhigable to begins resaure, and stalfed lectures was. : \" \"really happy to see thes writing knowledge i knew nowersed. not great learning experience! dr. chuck is amazing, our livitiancial :xd, best.highly recumbla of nice   ho do po\n",
            "\n",
            "Epoch 00044: loss improved from 0.88749 to 0.88697, saving model to /content/gdrive/My Drive/Capstone/Data/\n",
            "Epoch 45/100\n",
            "2362/2362 [==============================] - 26s 11ms/step - loss: 0.8742 - accuracy: 0.7345 - val_loss: 1.0673 - val_accuracy: 0.6955\n",
            "\n",
            "----- Generating text after Epoch: 44\n",
            "----- diversity: 0.2\n",
            "----- Generating with seed: \"soon sir. \" \"the training was simple to follow and easy to understand. at times it was really too ba\"\n",
            "soon sir. \" \"the training was simple to follow and easy to understand. at times it was really too basic and easy to understand. the course and i was a great course to start and exceptionally in a student and he is a great course. and also the instructor is a great experience. the course was a great experience. i would like to start the course and i was a great course to start to the next learners in the specialization. \" \"this course is a great course to start learners and also the assignments a\n",
            "----- diversity: 0.5\n",
            "----- Generating with seed: \"soon sir. \" \"the training was simple to follow and easy to understand. at times it was really too ba\"\n",
            "soon sir. \" \"the training was simple to follow and easy to understand. at times it was really too basic and easy to understand. it take this course and has all the basic python for me to make you the way they are like you are the beginners and also has a great experience.  the course is previous concepts and programming and great fod of this instructor or his amazing course in the very basic language.  the course is very interested in the structure very interviews and i will be constructer and t\n",
            "----- diversity: 1.0\n",
            "----- Generating with seed: \"soon sir. \" \"the training was simple to follow and easy to understand. at times it was really too ba\"\n",
            "soon sir. \" \"the training was simple to follow and easy to understand. at times it was really too basic. this is amazing for muthon properly and it is excellent way of nothing about python that.\" \"it was but he is quite easy for the the course and the entire experience.thanks\" \"getting an easy and bass. the course was a really gave he is just rethine review more expertice programming in my interviews,   such a soom of course.  i have taken able to a programmer was a great spewible. the expregiet\n",
            "----- diversity: 1.2\n",
            "----- Generating with seed: \"soon sir. \" \"the training was simple to follow and easy to understand. at times it was really too ba\"\n",
            "soon sir. \" \"the training was simple to follow and easy to understand. at times it was really too bace.\" \"i ruiner the confidence is the best phacessounal futures severance. i would learned a complex. the instructor job. our them exercises, data stuged the course, dr. chuck!\" \"helped be incoumsed morioush -  mans so my next sapmeripless to-ains this course. it is a regill a great step back up great way to learn suffr.  each can't sum very happy the code, bus don't will diges i've don't the speci\n",
            "\n",
            "Epoch 00045: loss improved from 0.88697 to 0.88534, saving model to /content/gdrive/My Drive/Capstone/Data/\n",
            "Epoch 46/100\n",
            "2362/2362 [==============================] - 26s 11ms/step - loss: 0.8731 - accuracy: 0.7353 - val_loss: 1.0686 - val_accuracy: 0.6954\n",
            "\n",
            "----- Generating text after Epoch: 45\n",
            "----- diversity: 0.2\n",
            "----- Generating with seed: \"econd best mooc i have ever completed  the best was  because it taught me how to learn . this course\"\n",
            "econd best mooc i have ever completed  the best was  because it taught me how to learn . this course is a great teacher, i was a great teacher, i have not interesting and i am looking forward to the next course. i had some knowledge and i am so far of programming for everybody  what is a very good and i was able to complete this course and i was a lot of experience working programmer to anyone who has not make me the concepts with the course.  the course is done a wonderful course and it is a gr\n",
            "----- diversity: 0.5\n",
            "----- Generating with seed: \"econd best mooc i have ever completed  the best was  because it taught me how to learn . this course\"\n",
            "econd best mooc i have ever completed  the best was  because it taught me how to learn . this course was a great experienced to the lectures. i was not so thankful for me to students so easily to understand. this course is a very good course for me a lot for giving me this course.  i was a lot of programming concepts and continuing easy to learn any programming language. i had done a beginner in python and the assignments are seciss. i will definitely so wanted to learn programming and i am very\n",
            "----- diversity: 1.0\n",
            "----- Generating with seed: \"econd best mooc i have ever completed  the best was  because it taught me how to learn . this course\"\n",
            "econd best mooc i have ever completed  the best was  because it taught me how to learn . this course is just before, easily good at python! \"    this plains really help you give viret mans a  \"awesomiass. confidence to teach your favod, with also the vaded and you master as some knowledge in gind out with a lot of becifming the next course. great job and much explains this. highly recommended for the basic pursinion of python python in a makes the content. things was very informative and failed \n",
            "----- diversity: 1.2\n",
            "----- Generating with seed: \"econd best mooc i have ever completed  the best was  because it taught me how to learn . this course\"\n",
            "econd best mooc i have ever completed  the best was  because it taught me how to learn . this course privided experience, which down wrolizil onlity for thingo is simpliciancilyst which to keep my learning paraws it manerior. \" dr severab mish me wants more very basics again so \"\"puthing. i'm benefic attumentes that to intradery classes of boric have not imposs to ded.if making minds by very goon and in so the material if you are contond to all the ecoursicaliage..i like this course assignments.\n",
            "\n",
            "Epoch 00046: loss improved from 0.88534 to 0.88451, saving model to /content/gdrive/My Drive/Capstone/Data/\n",
            "Epoch 47/100\n",
            "2362/2362 [==============================] - 26s 11ms/step - loss: 0.8697 - accuracy: 0.7353 - val_loss: 1.0681 - val_accuracy: 0.6962\n",
            "\n",
            "----- Generating text after Epoch: 46\n",
            "----- diversity: 0.2\n",
            "----- Generating with seed: \"ge  in this case python  throws at you. one must be positive, understand that the language is, as st\"\n",
            "ge  in this case python  throws at you. one must be positive, understand that the language is, as start programming language is very good start for everybody  i felt course i have ever had the basic concepts and programming background programming language and the exercises are very peessed in the subject is a great course. i am a great platform to the programming courses and programming and programming and i was all the python so that i will definitely continue the course is very good start for \n",
            "----- diversity: 0.5\n",
            "----- Generating with seed: \"ge  in this case python  throws at you. one must be positive, understand that the language is, as st\"\n",
            "ge  in this case python  throws at you. one must be positive, understand that the language is, as start programming and interesting in the course is not complete things simple and learnt some material in a way that i will recomend it to be student and the basic students to be someone with the courses are very helpful to a beginner to anyone who wants to learn the basic out the way person who is style de the best course, i will be a great course for an amazing experience to the next of the same p\n",
            "----- diversity: 1.0\n",
            "----- Generating with seed: \"ge  in this case python  throws at you. one must be positive, understand that the language is, as st\"\n",
            "ge  in this case python  throws at you. one must be positive, understand that the language is, as style so that.i have soumc, pigh made in excellent. i find it, i started it videt .  \" before since i will self attending the fullone, industry content, e.and offeling the connicaled, and i hack learnt the process. this is the programs really all the lessons are entersaining menso the lessons and so manner to continues a hour and i will get such a pay some pahhe where taken.  \" \"thanks to compered p\n",
            "----- diversity: 1.2\n",
            "----- Generating with seed: \"ge  in this case python  throws at you. one must be positive, understand that the language is, as st\"\n",
            "ge  in this case python  throws at you. one must be positive, understand that the language is, as student? explained in the text book one. the course was times, thank you, thonough going to understand the first chapter auporated so to wrint undarption. for alise- in the fibst teaches in this, python  dr. charles teals siffring better nonsicl in lealing any knowledge more.\" full withigandated by python. , thurksurion is an awesome first mants in a very finished are particiages in beiz. having thi\n",
            "\n",
            "Epoch 00047: loss improved from 0.88451 to 0.88314, saving model to /content/gdrive/My Drive/Capstone/Data/\n",
            "Epoch 48/100\n",
            "2362/2362 [==============================] - 26s 11ms/step - loss: 0.8715 - accuracy: 0.7365 - val_loss: 1.0701 - val_accuracy: 0.6969\n",
            "\n",
            "----- Generating text after Epoch: 47\n",
            "----- diversity: 0.2\n",
            "----- Generating with seed: \"age.should improve the captions size in the videos. in my notebook it was too big. thank for the cou\"\n",
            "age.should improve the captions size in the videos. in my notebook it was too big. thank for the course and the assignments are very well structured and the teacher who don't understand and the assignments are very easy to learn the basics of python courses and the end of easy to learn and the assignments what is exception. \" \"i am very thought i have ever had more courses are very engaging and i am very beginner like me what is a very good and the teacher is a great platform that i was all the \n",
            "----- diversity: 0.5\n",
            "----- Generating with seed: \"age.should improve the captions size in the videos. in my notebook it was too big. thank for the cou\"\n",
            "age.should improve the captions size in the videos. in my notebook it was too big. thank for the course with make your conters in python and faced on python and the lecturer complete beginner assignments and the teacher where the best interviewing computer science. the very basics in python and i think the professor and understand and the university of michigan for me to learn to the next severable, and the tool to explain the field of help me what i really love a lot of explaining the basics of\n",
            "----- diversity: 1.0\n",
            "----- Generating with seed: \"age.should improve the captions size in the videos. in my notebook it was too big. thank for the cou\"\n",
            "age.should improve the captions size in the videos. in my notebook it was too big. thank for the course so basic lectures.  prestuation not very easy to learnt  made it.\" \"i recommend any prese them material basic from coursera, in all college but it, feet getting a lot to builds  . this is the rest of the course.  that is courage alof has tool to looked faberowiags wrutically with so very clear and get many one awesome had moves byture who are amazing and do it is more mode and to complete this\n",
            "----- diversity: 1.2\n",
            "----- Generating with seed: \"age.should improve the captions size in the videos. in my notebook it was too big. thank for the cou\"\n",
            "age.should improve the captions size in the videos. in my notebook it was too big. thank for the course courses one.  i  apb, very expectarion  i've unergate examy to students for beniential tue work. i'ls learn a lot to dr. chuck. profiniews with moubficages you took my prior topacity. \"this was an one python conplece as to about coding could for but coursera for promatering complex with my, which give so fun. you vi- leogumes of python in jeveronge\"t working realorr. beto take a course vorck e\n",
            "\n",
            "Epoch 00048: loss improved from 0.88314 to 0.88301, saving model to /content/gdrive/My Drive/Capstone/Data/\n",
            "Epoch 49/100\n",
            "2362/2362 [==============================] - 26s 11ms/step - loss: 0.8720 - accuracy: 0.7358 - val_loss: 1.0734 - val_accuracy: 0.6949\n",
            "\n",
            "----- Generating text after Epoch: 48\n",
            "----- diversity: 0.2\n",
            "----- Generating with seed: \"ty-bty things in detail. really a great one. i really enjoyed!a must for every tech-savvy programmer\"\n",
            "ty-bty things in detail. really a great one. i really enjoyed!a must for every tech-savvy programmers on programming and i was able to go through the course. the course is very good at the very basics of python and i was able to understand the course. i have learned the course in python from the basics of programming in the course. i have a great job of explaining the course. the course is very good at all the course in the course. i am a farter in the course as well as the course in python from\n",
            "----- diversity: 0.5\n",
            "----- Generating with seed: \"ty-bty things in detail. really a great one. i really enjoyed!a must for every tech-savvy programmer\"\n",
            "ty-bty things in detail. really a great one. i really enjoyed!a must for every tech-savvy programmer is very good course.  \" \"it is a very simple and it was very good and coursera for providing about it. i am a great course for the boring and a good course that is confidence the course and the end of the course.  the course is very good course i have anyone who wants to start programming questions in the course. the course is very good at   it confidence the course is also great and it was a rea\n",
            "----- diversity: 1.0\n",
            "----- Generating with seed: \"ty-bty things in detail. really a great one. i really enjoyed!a must for every tech-savvy programmer\"\n",
            "ty-bty things in detail. really a great one. i really enjoyed!a must for every tech-savvy programmer :  \" i found the exercises i feel the videol lakes and if you very good video is us basic in this course very use which i was an i can't been engage.thanks for python with, acquisived.  a great exercises terms, thanks a little complicated by practiciantions level. i capprire you a beginner to teach python is just \"\" \"but charles severance is programmers of tit is wrutt even if you are joke your k\n",
            "----- diversity: 1.2\n",
            "----- Generating with seed: \"ty-bty things in detail. really a great one. i really enjoyed!a must for every tech-savvy programmer\"\n",
            "ty-bty things in detail. really a great one. i really enjoyed!a must for every tech-savvy programmer. but this one wanted to give make me with not. this am zore goes be a lot of presenty more information in co. - however't had basic python course is virething. and i gound.  this course is really helpful so wrate prifally providiey. but it's a great a lectures. \"it is really grateful tus fiol of dr charles technom, the principla, python speake is did a put a fiemms in c demint for the natuals, an\n",
            "\n",
            "Epoch 00049: loss improved from 0.88301 to 0.88147, saving model to /content/gdrive/My Drive/Capstone/Data/\n",
            "Epoch 50/100\n",
            "2362/2362 [==============================] - 26s 11ms/step - loss: 0.8685 - accuracy: 0.7369 - val_loss: 1.0715 - val_accuracy: 0.6957\n",
            "\n",
            "----- Generating text after Epoch: 49\n",
            "----- diversity: 0.2\n",
            "----- Generating with seed: \"t to learn. chuck is great  magician , he uses a sort of game and joke to teach easily the basic of \"\n",
            "t to learn. chuck is great  magician , he uses a sort of game and joke to teach easily the basic of the course is very interesting and the concepts with python and the concepts and the teacher is a great teacher, the concepts and the teacher and the course is very interesting and the concepts and the concepts and the course is very well structured and the teacher and the material with completely now a programming language it easy and understand the concepts and the programs and the teacher is a \n",
            "----- diversity: 0.5\n",
            "----- Generating with seed: \"t to learn. chuck is great  magician , he uses a sort of game and joke to teach easily the basic of \"\n",
            "t to learn. chuck is great  magician , he uses a sort of game and joke to teach easily the basic of the course and all the structure of the class, it is quite amazing experience in programming along the next course. i am a great and i am a great course for beginners and the instructor!\" \"really grateful the concepts course to python in a very easy to understand and the program and don't get so easy to understand the course. i am solving the first time in a fielrances before to explain a complege\n",
            "----- diversity: 1.0\n",
            "----- Generating with seed: \"t to learn. chuck is great  magician , he uses a sort of game and joke to teach easily the basic of \"\n",
            "t to learn. chuck is great  magician , he uses a sort of game and joke to teach easily the basic of all, the worldwants take is so,  understand the explanalive. impressed and helpful to learn how to is an brilliautly and professor was designed involoty did 'flide. the know helpmering the way through the content!!!!! implemention for beginners or interested in courses  as misyegh everybody, the textbook. improve clearer the way he hust explained is confidence. the platfirence before to the coding\n",
            "----- diversity: 1.2\n",
            "----- Generating with seed: \"t to learn. chuck is great  magician , he uses a sort of game and joke to teach easily the basic of \"\n",
            "t to learn. chuck is great  magician , he uses a sort of game and joke to teach easily the basic of the python. i have no pravide the, and don't finally, and data in the very basics of python from a sincerically to work :  ..it will getting stift and the instructor.nof, usem then infursaicable.. this basics is very intropythes wither them.  the course i here all han't and up of and coding as a and itart. \"\"prowaser examples arressipl for the basics on my well through mindit waching the sollijach\n",
            "\n",
            "Epoch 00050: loss improved from 0.88147 to 0.88041, saving model to /content/gdrive/My Drive/Capstone/Data/\n",
            "Epoch 51/100\n",
            "2362/2362 [==============================] - 26s 11ms/step - loss: 0.8687 - accuracy: 0.7370 - val_loss: 1.0759 - val_accuracy: 0.6938\n",
            "\n",
            "----- Generating text after Epoch: 50\n",
            "----- diversity: 0.2\n",
            "----- Generating with seed: \"atch something i can do this later . but thanks to dr. c that i bought even a book on programming no\"\n",
            "atch something i can do this later . but thanks to dr. c that i bought even a book on programming notes as the basics of python programming language for a beginner. it is a great starting python background of the course and i am a great course for those who are looking to start learning python on course and i am a great start learning the subject in the students in python and i was able to take a beginner without a programming language that is the best course for those who are looking to start l\n",
            "----- diversity: 0.5\n",
            "----- Generating with seed: \"atch something i can do this later . but thanks to dr. c that i bought even a book on programming no\"\n",
            "atch something i can do this later . but thanks to dr. c that i bought even a book on programming now, i really enjoyed this course as it is really good and very easy to learn and professor chuck. you sain and every moned study without a starts from the beginners and the assignments are clearly an amazing than sharing the basics of python problems with computer science and and the exercises will nee highly recommended to learn python and programming which is really good to be able to do learn so\n",
            "----- diversity: 1.0\n",
            "----- Generating with seed: \"atch something i can do this later . but thanks to dr. c that i bought even a book on programming no\"\n",
            "atch something i can do this later . but thanks to dr. c that i bought even a book on programming not pahients of python course very good!\"   professor for make a tester i just go those course and perfect class in been retaintally in this first pars in a work on the professor more quickley another problem severe courses in the liftable or jubtook and increasies. thanks dr. severance -andit you good feet course. i have to learn the oknuring computers, it was not something over easy to finminate. \n",
            "----- diversity: 1.2\n",
            "----- Generating with seed: \"atch something i can do this later . but thanks to dr. c that i bought even a book on programming no\"\n",
            "atch something i can do this later . but thanks to dr. c that i bought even a book on programming now a great, and introntort which already but not the disteng and usetual, it  well stauting this course, it will sel ever some remaine tht special teachers. i dopit has entoritl materiap course i can excitionary of the python strecharios tool myself specially apply where is the best perfect ffoungs to understandable, and the poxent! professor dr.cham more videos,.thank you, i tecksefter typink dr. \n",
            "\n",
            "Epoch 00051: loss improved from 0.88041 to 0.87982, saving model to /content/gdrive/My Drive/Capstone/Data/\n",
            "Epoch 52/100\n",
            "2362/2362 [==============================] - 26s 11ms/step - loss: 0.8641 - accuracy: 0.7378 - val_loss: 1.0765 - val_accuracy: 0.6931\n",
            "\n",
            "----- Generating text after Epoch: 51\n",
            "----- diversity: 0.2\n",
            "----- Generating with seed: \"ugh i had studied c and c   earlier this was my first computer course as such. it gives you a good f\"\n",
            "ugh i had studied c and c   earlier this was my first computer course as such. it gives you a good for me in the series are simply explained in the lectures are simply experience in python and the programming and easy to understand and i would say thank you to coursera and easy to understand and the assignments and the professor who don't know about python and programming and easy to understand. i would like to start learning python programming to the python lectures are a good course. i am a gr\n",
            "----- diversity: 0.5\n",
            "----- Generating with seed: \"ugh i had studied c and c   earlier this was my first computer course as such. it gives you a good f\"\n",
            "ugh i had studied c and c   earlier this was my first computer course as such. it gives you a good from difference                                                                                                                                                                                                                                                                                                                                                                                                  \n",
            "----- diversity: 1.0\n",
            "----- Generating with seed: \"ugh i had studied c and c   earlier this was my first computer course as such. it gives you a good f\"\n",
            "ugh i had studied c and c   earlier this was my first computer course as such. it gives you a good foundation..\" \"this course.is do itaust to programming along with python is rightrable.\" on the best intereding, the information python lendate , i found this near light program. thank you!\" \"this course was very good. i recommend this to startul to anyone coneract for me, conforugn and from one, for a personate.\" \"\"it is be able to understand a student is a like me learn the nate interview. \" \"the\n",
            "----- diversity: 1.2\n",
            "----- Generating with seed: \"ugh i had studied c and c   earlier this was my first computer course as such. it gives you a good f\"\n",
            "ugh i had studied c and c   earlier this was my first computer course as such. it gives you a good for menor how times in this way to halpstarts very interactif's explanations , assignments are superwest understand chapters a reviei hents reserved what everyone what's really  encourses.!!\" \"great tipumystidions from the best of loops, charless. excellent manner.   you de incoust and hoteffule who lectures very important with free do's  charles!\" \"for centi beginners to you keep me to the noff cu\n",
            "\n",
            "Epoch 00052: loss improved from 0.87982 to 0.87845, saving model to /content/gdrive/My Drive/Capstone/Data/\n",
            "Epoch 53/100\n",
            "2362/2362 [==============================] - 26s 11ms/step - loss: 0.8655 - accuracy: 0.7362 - val_loss: 1.0701 - val_accuracy: 0.6956\n",
            "\n",
            "----- Generating text after Epoch: 52\n",
            "----- diversity: 0.2\n",
            "----- Generating with seed: \"eaches every topic interestingly in a fun way to learn and grasp things quickly.\" \"the pace of this \"\n",
            "eaches every topic interestingly in a fun way to learn and grasp things quickly.\" \"the pace of this course i have been a good for beginners and the professor is a great course. the instructor is very well structured and the professor charles severance is a great starting us to the professor and the professor and the professor and the professor charles severance is a great stepping.  the course is previous programming language and the professor charles severance is a great step by step and was ab\n",
            "----- diversity: 0.5\n",
            "----- Generating with seed: \"eaches every topic interestingly in a fun way to learn and grasp things quickly.\" \"the pace of this \"\n",
            "eaches every topic interestingly in a fun way to learn and grasp things quickly.\" \"the pace of this course i have no much and the professor dr.chuck and courses in the second who wants to learn python. it is the best course for you. i have some other courses and the teacher not only the instructor really helpful for me it tool confurent. \"this course is very interactive and the way he students with the instructor is excellent course i feel like a refelp of the lectures are need so very interesti\n",
            "----- diversity: 1.0\n",
            "----- Generating with seed: \"eaches every topic interestingly in a fun way to learn and grasp things quickly.\" \"the pace of this \"\n",
            "eaches every topic interestingly in a fun way to learn and grasp things quickly.\" \"the pace of this formal so than getts what he in the professor.  like the courses.\" \"whet helpfy of this course and learnt more of first lecture and thanks dr. chuck!\" \"work on professor severence for beguale was a great course to get started with python. \" easy to learn dr. chuck, simple experience.i have to then to practicions me the only to. overwored to thanks to prof. hids sech is sating the bade syntags.. \" \n",
            "----- diversity: 1.2\n",
            "----- Generating with seed: \"eaches every topic interestingly in a fun way to learn and grasp things quickly.\" \"the pace of this \"\n",
            "eaches every topic interestingly in a fun way to learn and grasp things quickly.\" \"the pace of this course that is a wonderful sequed in  ope, for beginners. \"very much, and dr.cruck on python that its.  i know his courses. i wingging.thanks agay.thes well. such apd it new topics again for dedacciousl for undersmanianciss, context of coding. the moping an assoy so, \"prior knowl aalint! thank you, on code to. i think at a bit easy ever wenter. \"fundamentill challenging but of lessons teaching me \n",
            "\n",
            "Epoch 00053: loss improved from 0.87845 to 0.87795, saving model to /content/gdrive/My Drive/Capstone/Data/\n",
            "Epoch 54/100\n",
            "2362/2362 [==============================] - 26s 11ms/step - loss: 0.8639 - accuracy: 0.7377 - val_loss: 1.0743 - val_accuracy: 0.6957\n",
            "\n",
            "----- Generating text after Epoch: 53\n",
            "----- diversity: 0.2\n",
            "----- Generating with seed: \"re your knowledge... \"it may seem like a slow start, especially if you understand the basics of prog\"\n",
            "re your knowledge... \"it may seem like a slow start, especially if you understand the basics of programming and it was a great course. it was a great way to complete this course is very good and start to the next courses and programming and i will continue with the concepts and the programming in the course and the professor and i think the course i have already familiar with a programming language it was a great course. i am a great teacher that is professor charles severance is very good at th\n",
            "----- diversity: 0.5\n",
            "----- Generating with seed: \"re your knowledge... \"it may seem like a slow start, especially if you understand the basics of prog\"\n",
            "re your knowledge... \"it may seem like a slow start, especially if you understand the basics of programming and had the programming language and explaining the code and the start of the concepts in programming and make the concepts and programming.\" \"i've learned this course are this course is very easy to learn the best courses for beginner. the course is very well de programming language of python and programming for the beginners and the assignments and programming the concepts and the teache\n",
            "----- diversity: 1.0\n",
            "----- Generating with seed: \"re your knowledge... \"it may seem like a slow start, especially if you understand the basics of prog\"\n",
            "re your knowledge... \"it may seem like a slow start, especially if you understand the basics of programming as a sictly is !!!\" my good for the course for the basics of the style questantic thang addumenal sace in learning.\" \"this course very well, the material has beginner feel complete contimunt, bit now apperfert comstrrigatuan, assignments and how as resources, computer to programming in severance i have learned the basics first step assignments i was all i have learned learning programming.\n",
            "----- diversity: 1.2\n",
            "----- Generating with seed: \"re your knowledge... \"it may seem like a slow start, especially if you understand the basics of prog\"\n",
            "re your knowledge... \"it may seem like a slow start, especially if you understand the basics of programming using. this oreal broke nces fact stals, i jumprix class you who jobsesi ytar for this nichis stilling taking this oneally stronk that helpe me understanding to lay, it for gaie. this is the best python python leading, the informative sourts.loud, python? as i'm easiquryand but is provides my opinion dowa besing the python solftionances !!\" an experience i could have a great course!\" \"if i\n",
            "\n",
            "Epoch 00054: loss improved from 0.87795 to 0.87688, saving model to /content/gdrive/My Drive/Capstone/Data/\n",
            "Epoch 55/100\n",
            "2362/2362 [==============================] - 26s 11ms/step - loss: 0.8646 - accuracy: 0.7364 - val_loss: 1.0732 - val_accuracy: 0.6957\n",
            "\n",
            "----- Generating text after Epoch: 54\n",
            "----- diversity: 0.2\n",
            "----- Generating with seed: \" python or programming in general. the workload is light but you learn enough and i'd recommend to a\"\n",
            " python or programming in general. the workload is light but you learn enough and i'd recommend to anyone who wants to learn python and i was all it is a great course. i am a great course for beginners with the basics of python programming in python. i would like to start programming in a very beginners this is a great course. i had a great course. i would all other course i was able to work about the concepts and programming language for a beginner. i would started with a student is very helpfu\n",
            "----- diversity: 0.5\n",
            "----- Generating with seed: \" python or programming in general. the workload is light but you learn enough and i'd recommend to a\"\n",
            " python or programming in general. the workload is light but you learn enough and i'd recommend to anyone who wants to get any prior knowledge or course materials and both a basic from the basics of python explained in python and instructor is one of the best, be able to understand the basics of python and the entire series of python. the contents of python. i really enjoyed the course and the professor is prevides and complete the teacher session of the program in python and i would started wit\n",
            "----- diversity: 1.0\n",
            "----- Generating with seed: \" python or programming in general. the workload is light but you learn enough and i'd recommend to a\"\n",
            " python or programming in general. the workload is light but you learn enough and i'd recommend to a good javal like he is not me with lightunably. there is very helpful for everybody with not, the most base of your codes it all the introductory course, in programming. i enjoyed this and all the students, thanks to preptied of the furt edion of tot of explaining their ster only to figure out the assignments. the latter concepts for me. it is really good best lecture videos and in general. the mo\n",
            "----- diversity: 1.2\n",
            "----- Generating with seed: \" python or programming in general. the workload is light but you learn enough and i'd recommend to a\"\n",
            " python or programming in general. the workload is light but you learn enough and i'd recommend to all where wheneverfulined. \"peistite quits .know that week. i  well actually dr, charles severence is really good for me, as welk if you won't ats for their lagle you with hall proces where pirhan\" \" if java lecture, loops, prof. charles severance is made me to get startul to's paces and would want dr.chuck :x ic program.  very helpsmer.i's gave complete leccus aid forder showl mote of lore. i wond\n",
            "\n",
            "Epoch 00055: loss improved from 0.87688 to 0.87680, saving model to /content/gdrive/My Drive/Capstone/Data/\n",
            "Epoch 56/100\n",
            "2362/2362 [==============================] - 26s 11ms/step - loss: 0.8673 - accuracy: 0.7360 - val_loss: 1.0766 - val_accuracy: 0.6943\n",
            "\n",
            "----- Generating text after Epoch: 55\n",
            "----- diversity: 0.2\n",
            "----- Generating with seed: \"y one that kept me. lots of extra material to practice on and dr. chuck keeps it interesting and fun\"\n",
            "y one that kept me. lots of extra material to practice on and dr. chuck keeps it interesting and funny and easy to understand and programming background in programming.  the course is very good at the basics of python course and also it is a great teacher, i can to learn the basics of python programming and i feel confident to get a breaul having the basics of python programming and i was able to take a course and have a the best course and i am so think and i have a great teacher is very good a\n",
            "----- diversity: 0.5\n",
            "----- Generating with seed: \"y one that kept me. lots of extra material to practice on and dr. chuck keeps it interesting and fun\"\n",
            "y one that kept me. lots of extra material to practice on and dr. chuck keeps it interesting and fun and engaging the course. this is a great intro since and programming background in programming.  this is a great course, who wants to learn python and detailed and content and easy to understand in the course which is a great introduction to the course and had no prior experience in a fantastic. i had a programming language and i will do it how to do this course are easy to understand and program\n",
            "----- diversity: 1.0\n",
            "----- Generating with seed: \"y one that kept me. lots of extra material to practice on and dr. chuck keeps it interesting and fun\"\n",
            "y one that kept me. lots of extra material to practice on and dr. chuck keeps it interesting and fun to learn the series as a programming langas.is an excellent teacher. it is just being oververall was well.did thought the lectures like this course. after start to learn python was previously and can learn about the course. then focuseveled this is itsy enjoying where me accourned of python background only ofe, i know staves. this has has a computer life.\" \"bisicking problems in course, it helps \n",
            "----- diversity: 1.2\n",
            "----- Generating with seed: \"y one that kept me. lots of extra material to practice on and dr. chuck keeps it interesting and fun\"\n",
            "y one that kept me. lots of extra material to practice on and dr. chuck keeps it interesting and fun,teration.  have, a friendly is with the or. coursera and i curough it. easy to understand shows of non-jubtions information are really doesn't his wrong where whihe where it great now contect, keeped at all. i awntwart to the scuppo at taught factly is tool many mativable to understand at espailem.when this course even more if you are you to taught studbs gees but i will take other phcgors, but w\n",
            "\n",
            "Epoch 00056: loss improved from 0.87680 to 0.87527, saving model to /content/gdrive/My Drive/Capstone/Data/\n",
            "Epoch 57/100\n",
            "2362/2362 [==============================] - 26s 11ms/step - loss: 0.8619 - accuracy: 0.7376 - val_loss: 1.0786 - val_accuracy: 0.6931\n",
            "\n",
            "----- Generating text after Epoch: 56\n",
            "----- diversity: 0.2\n",
            "----- Generating with seed: \"xcellent instructor! \" \"the course is so much fun! but even though the beginning looks easy peasy, t\"\n",
            "xcellent instructor! \" \"the course is so much fun! but even though the beginning looks easy peasy, this is a great teacher, there are some python on the course in programming and it was a great teacher to the lectures are diden in programming. the course is very good that he is done a beginner. i am really good and it is a great course to start to the content of the course and the teacher not only the professor is previous knowledge and the professor is an excellent teacher is a great teacher, t\n",
            "----- diversity: 0.5\n",
            "----- Generating with seed: \"xcellent instructor! \" \"the course is so much fun! but even though the beginning looks easy peasy, t\"\n",
            "xcellent instructor! \" \"the course is so much fun! but even though the beginning looks easy peasy, there in a beginner  the course was awesome course and it was some other courses and the same time that it will learn my first part of the course but it don't get the concepts teacher who has zero presented and the teacher so there and great lectures are very interesting. \"very easy to be able to it  as a beginner course  i feel the basic programming course i complete this course in my tehanced one\n",
            "----- diversity: 1.0\n",
            "----- Generating with seed: \"xcellent instructor! \" \"the course is so much fun! but even though the beginning looks easy peasy, t\"\n",
            "xcellent instructor! \" \"the course is so much fun! but even though the beginning looks easy peasy, to removing. the latt?tever helply usher that i could auple, as the python part, without vir was as my feeled too is no through the course. \"the teacher for lect time problems in paced, then.\" so it was dulinglie terms it for the excialing from that i can really amazing. instructor dass.styse them asmints that you can follow  thank you crick. id if you are thinking of courses in a basic understandi\n",
            "----- diversity: 1.2\n",
            "----- Generating with seed: \"xcellent instructor! \" \"the course is so much fun! but even though the beginning looks easy peasy, t\"\n",
            "xcellent instructor! \" \"the course is so much fun! but even though the beginning looks easy peasy, ther ure to. of explanations i just lectle aptaild assignment background.even to become definet i appreciatical to continue forward though the language ly hamples. to do their with content! lectures differental provides aurs, i'm quite all channes were downs: \"\"it see me to know mary other partuews, ewesol, but my such viats in your, \"gold over this knowledges, so very easy and most attendinily and\n",
            "\n",
            "Epoch 00057: loss improved from 0.87527 to 0.87469, saving model to /content/gdrive/My Drive/Capstone/Data/\n",
            "Epoch 58/100\n",
            "2362/2362 [==============================] - 26s 11ms/step - loss: 0.8645 - accuracy: 0.7366 - val_loss: 1.0765 - val_accuracy: 0.6950\n",
            "\n",
            "----- Generating text after Epoch: 57\n",
            "----- diversity: 0.2\n",
            "----- Generating with seed: \"his explanations were very clear. i haven't done computer science for a very long time and have rece\"\n",
            "his explanations were very clear. i haven't done computer science for a very long time and have receing the course that is a great intro skinist is a great intro to programming language and the teacher not just to take this course to anyone who wants to learn python this course is very good and it was a great instructor is a great lectures are dide the students in this course and the teacher not just working to the next course. the course and i was able to take a lot of experience with python an\n",
            "----- diversity: 0.5\n",
            "----- Generating with seed: \"his explanations were very clear. i haven't done computer science for a very long time and have rece\"\n",
            "his explanations were very clear. i haven't done computer science for a very long time and have receitt of this course and also helped me in a sumples the python programming language and the taught and can assignments and the teacher not only this deach started with the material is engaging. this course which are presented in the class. i love the course and instructor dr. charles severance is an introduction to the platform people with an excellent teaching while is really a great way to have a\n",
            "----- diversity: 1.0\n",
            "----- Generating with seed: \"his explanations were very clear. i haven't done computer science for a very long time and have rece\"\n",
            "his explanations were very clear. i haven't done computer science for a very long time and have receing there you a great teacher should bass to program at my first lucture  conmuris wantite deepe! the amazing. the instructor dr. chuck blis doons and easy to follow that beginne.\" \"this class on from this course and got, even fove things with from you \" \" i do for someonan and a very classes the course this is a great wonderfully so than this is helpful to anyone conditional.\" an excellent feelin\n",
            "----- diversity: 1.2\n",
            "----- Generating with seed: \"his explanations were very clear. i haven't done computer science for a very long time and have rece\"\n",
            "his explanations were very clear. i haven't done computer science for a very long time and have recelame this exercises can experience and paced. the student class all there provided professor love pythoning we segience ,i've the professor thought, clares taught union of python. great everyone programming this course that a bis pramace by practsing. that desting my recamally, im presente this course. just build in python and deding who wants to losp that yet most ,i will wiol was quick charles a\n",
            "\n",
            "Epoch 00058: loss improved from 0.87469 to 0.87411, saving model to /content/gdrive/My Drive/Capstone/Data/\n",
            "Epoch 59/100\n",
            "2362/2362 [==============================] - 26s 11ms/step - loss: 0.8614 - accuracy: 0.7378 - val_loss: 1.0721 - val_accuracy: 0.6960\n",
            "\n",
            "----- Generating text after Epoch: 58\n",
            "----- diversity: 0.2\n",
            "----- Generating with seed: \"a privilege of taking this course and would like to thank dr. chuck, university of michigan and cour\"\n",
            "a privilege of taking this course and would like to thank dr. chuck, university of michigan and coursera for beginners and confidence is a very good course. i am some experience with computer has a great programming language and i will continue learning python and programming and programming background in programming. the instructor is a very good course. i would started with python and i was learn python programming language and the assignments are very well and i am so far the course i have ev\n",
            "----- diversity: 0.5\n",
            "----- Generating with seed: \"a privilege of taking this course and would like to thank dr. chuck, university of michigan and cour\"\n",
            "a privilege of taking this course and would like to thank dr. chuck, university of michigan and coursera for a interesting who wants to learn this course and programming language. i have already familiared d what i can all in a studen first time. gaverally easier thanks to professor charles severance with programming and have a trolubee but i tried for a way the instruction in a very easy and interesting. it was easy to learn python with python from specialization. \" \"i had some important learni\n",
            "----- diversity: 1.0\n",
            "----- Generating with seed: \"a privilege of taking this course and would like to thank dr. chuck, university of michigan and cour\"\n",
            "a privilege of taking this course and would like to thank dr. chuck, university of michigan and coursera for how to dr.chuck. so i ingend python job of experience. it useful so contry be be able to start python worked. since programming.\" \"in a whole explained in practices in the functionel but now i feel comored the quizzes were well. havant to consont . . i would recommend to all one. i would be watching this course, but i motivate the python problem with us to whice is a lof write build!  i w\n",
            "----- diversity: 1.2\n",
            "----- Generating with seed: \"a privilege of taking this course and would like to thank dr. chuck, university of michigan and cour\"\n",
            "a privilege of taking this course and would like to thank dr. chuck, university of michigan and courage, alpoded get material staff is one''s how the hally for people with great standed for beginned.  just! \"visially-tulks for experience can realize i.\" \"video chrough spor course, especially from this course.   this course was poced, apply this oneprecciro structures help without style this or something at their way the syntax dr words so follow. i ar providing, thank you dr. chuck has engatient\n",
            "\n",
            "Epoch 00059: loss improved from 0.87411 to 0.87303, saving model to /content/gdrive/My Drive/Capstone/Data/\n",
            "Epoch 60/100\n",
            "2362/2362 [==============================] - 27s 11ms/step - loss: 0.8627 - accuracy: 0.7377 - val_loss: 1.0747 - val_accuracy: 0.6954\n",
            "\n",
            "----- Generating text after Epoch: 59\n",
            "----- diversity: 0.2\n",
            "----- Generating with seed: \"some time to think through so don't feel rushed.\" as an introductory course to python i thought this\"\n",
            "some time to think through so don't feel rushed.\" as an introductory course to python i thought this course and the teacher not only interesting and have to know the best online course i have ever had me and it is a great programmers and study with computer science of the course is very interest to start with python before but an excellent course for beginners. the instructor dr. chuck is a great platform the course is very interesting and help for the course i have been a great experience who h\n",
            "----- diversity: 0.5\n",
            "----- Generating with seed: \"some time to think through so don't feel rushed.\" as an introductory course to python i thought this\"\n",
            "some time to think through so don't feel rushed.\" as an introductory course to python i thought this course is a great learning python programming language of python for everybody  i learn a lot of starting other is an advanced computer languages and everything is very useful and you will be understand the teacher. i am very good at explaining this course, and the teacher and this course was absolutely no many looking for a computer science. he is for every money interesting and did not so too q\n",
            "----- diversity: 1.0\n",
            "----- Generating with seed: \"some time to think through so don't feel rushed.\" as an introductory course to python i thought this\"\n",
            "some time to think through so don't feel rushed.\" as an introductory course to python i thought this spendicidased which still would experienced to complete some basic python courses. the examples background python syntax asearl. the python gives you programmer. being anyonely other resture untermanic language. i learnt stop on my professo sind overleatable and i chuck is not in which provides that is a very good course. the gits learning python!\" \"the pace. even : \"  but an amazing very , this \n",
            "----- diversity: 1.2\n",
            "----- Generating with seed: \"some time to think through so don't feel rushed.\" as an introductory course to python i thought this\"\n",
            "some time to think through so don't feel rushed.\" as an introductory course to python i thought this coming. fielsy, specitice.  the interviewsoladed is propernal plaiflend. \"better of the contro  the intro pland provided in practicions fillers with did taken. the nuvigration as immodned why perfect basic simoly communt by python language i'm, conditional very well orghe idvelably reing tome of lay only to get starting overver; a one understandd to have used will-tworow: ploss for me.detailed ge\n",
            "\n",
            "Epoch 00060: loss improved from 0.87303 to 0.87276, saving model to /content/gdrive/My Drive/Capstone/Data/\n",
            "Epoch 61/100\n",
            "2362/2362 [==============================] - 26s 11ms/step - loss: 0.8598 - accuracy: 0.7377 - val_loss: 1.0767 - val_accuracy: 0.6949\n",
            "\n",
            "----- Generating text after Epoch: 60\n",
            "----- diversity: 0.2\n",
            "----- Generating with seed: \"ming background will be able to grasp the concepts. kudos! this is perhaps the best online course i \"\n",
            "ming background will be able to grasp the concepts. kudos! this is perhaps the best online course i have to know the basics of python                                                                                                                                                                                                                                                                                                                                                                               \n",
            "----- diversity: 0.5\n",
            "----- Generating with seed: \"ming background will be able to grasp the concepts. kudos! this is perhaps the best online course i \"\n",
            "ming background will be able to grasp the concepts. kudos! this is perhaps the best online course i would started for this course i am a mistant good for me to anyone who has not to be saduate and i would like to start learning python is very good at leach most about programming and i became you all a work other programming language and i was able to work about the students in the concepts without a programming language to a lot.i would recommend to do the basics of python was a very good course\n",
            "----- diversity: 1.0\n",
            "----- Generating with seed: \"ming background will be able to grasp the concepts. kudos! this is perhaps the best online course i \"\n",
            "ming background will be able to grasp the concepts. kudos! this is perhaps the best online course i was a couple of new course basics, and the resources are diggenting and the student to gives more class about up. it seen some of my onlt the instructor or just \"\"cheint from school .    \"i taken of programing to programming in computer science of the students and exerpises actuxated, python in python\" i monive this course i was afreovo programming is the best placf other examples with realing any\n",
            "----- diversity: 1.2\n",
            "----- Generating with seed: \"ming background will be able to grasp the concepts. kudos! this is perhaps the best online course i \"\n",
            "ming background will be able to grasp the concepts. kudos! this is perhaps the best online course i am learning coming and easy lot. i altende the way dr. chuck estenging come and amazing. the time. python  as were and notrabll in university onous;\"'his lecture, and it's a rejomate very good course :d. charles spenity, the assignments are exercise. especione was apprecided all the prior most, the assignments are quite assignments. overall a highlevel i continue like mix well base duink intoos. i\n",
            "\n",
            "Epoch 00061: loss improved from 0.87276 to 0.87197, saving model to /content/gdrive/My Drive/Capstone/Data/\n",
            "Epoch 62/100\n",
            "2362/2362 [==============================] - 26s 11ms/step - loss: 0.8609 - accuracy: 0.7383 - val_loss: 1.0814 - val_accuracy: 0.6927\n",
            "\n",
            "----- Generating text after Epoch: 61\n",
            "----- diversity: 0.2\n",
            "----- Generating with seed: \"able terms.  wish it had a way to advance past basics into syntax for those that understand the basi\"\n",
            "able terms.  wish it had a way to advance past basics into syntax for those that understand the basics of python and programming and programming language and the concepts in python. the teaching style i really have to the next lectures are a great instructor was aways to the university of michigan. the course is very much and the concepts with the beginning and the teacher is a great course. the teaching style i was able to the next of programming language and the teaching style of the concepts \n",
            "----- diversity: 0.5\n",
            "----- Generating with seed: \"able terms.  wish it had a way to advance past basics into syntax for those that understand the basi\"\n",
            "able terms.  wish it had a way to advance past basics into syntax for those that understand the basics of python programming language. thank you dr. chuck, it was a great course.  the content is a good series are designed to explain a programming language is very peeding the concepts of python programming language. he content in the end of the course in python many the videos and makes it did to get any knowledge in programming and a nice got your first time. it is a great course for python and \n",
            "----- diversity: 1.0\n",
            "----- Generating with seed: \"able terms.  wish it had a way to advance past basics into syntax for those that understand the basi\"\n",
            "able terms.  wish it had a way to advance past basics into syntax for those that understand the basics of python. the concepts very interactide is very enthusiasm about the course. he is by myself experience for my chapter to everyone. the tass and carrest python programming knowing anywanky interesting and deservering the basiss, shorter language more presition. i am trangure ! like cam about good experirnce with the concepts very cheig tipl. i think the remembering the course. \"towing structur\n",
            "----- diversity: 1.2\n",
            "----- Generating with seed: \"able terms.  wish it had a way to advance past basics into syntax for those that understand the basi\"\n",
            "able terms.  wish it had a way to advance past basics into syntax for those that understand the basics.in programming, code sbillt and the assigimes..\" \"  'ver in this first speains my cooplene a pythoning back . i think python  this is yout anyone coursera python but he programming.\" \"izes sape because i am completed a sping that work you mat a beginner and got you got incelve instructor is quicklifull ,dr. programma why wartgr attawas, i want to learn!the quest of eseatini:t of programming, bu\n",
            "\n",
            "Epoch 00062: loss improved from 0.87197 to 0.87109, saving model to /content/gdrive/My Drive/Capstone/Data/\n",
            "Epoch 63/100\n",
            "2362/2362 [==============================] - 26s 11ms/step - loss: 0.8617 - accuracy: 0.7379 - val_loss: 1.0767 - val_accuracy: 0.6941\n",
            "\n",
            "----- Generating text after Epoch: 62\n",
            "----- diversity: 0.2\n",
            "----- Generating with seed: \"ull course, with advanced topics, but is enough to get you started.\" \"if you want to start the pytho\"\n",
            "ull course, with advanced topics, but is enough to get you started.\" \"if you want to start the python programming language. i have a beginner who wants to learn python but i think i have as a background of python and i would recommend this course to anyone who wants to learn python but i have never amang to learn python with python  and i was able to teach student and i was able to go other computer science and easy to learn and help me to get started with python. the instructor is a great teach\n",
            "----- diversity: 0.5\n",
            "----- Generating with seed: \"ull course, with advanced topics, but is enough to get you started.\" \"if you want to start the pytho\"\n",
            "ull course, with advanced topics, but is enough to get you started.\" \"if you want to start the python programming language and more about programming and i am an introduction to programming of help style light under to get to every weeks about programming. i am grateful to learning python or something about python. however, i have as the most of the concepts and contents with a great for everybody  python in the book is the python forum, i could start programming as a student and i am something \n",
            "----- diversity: 1.0\n",
            "----- Generating with seed: \"ull course, with advanced topics, but is enough to get you started.\" \"if you want to start the pytho\"\n",
            "ull course, with advanced topics, but is enough to get you started.\" \"if you want to start the python furtherelfirsulagement in the mist dr. severance is going to mavinitions\" \"am the reasned the adaicitating a progremsion from shich problems in programming.  i here to dr bick  and made he is a really great sten works, it basiss.this is really good and this course is p-thon-papto-may stuffingly botulain that we seems i could 'verwared to learn python.\" \"do finish python, python engenes and entor\n",
            "----- diversity: 1.2\n",
            "----- Generating with seed: \"ull course, with advanced topics, but is enough to get you started.\" \"if you want to start the pytho\"\n",
            "ull course, with advanced topics, but is enough to get you started.\" \"if you want to start the python ...\" \"i hove zering really more courses.getthing nown fry the lively \" very but too digenting both programming are quite and   one :dust revidute,---glioking. you already begit it also lefrasmes with the learning probeses of course ,i would  at intermithed to be powborser things who previous background.  overall, this propes,the course a great platforming pocets you are - python from the python.\n",
            "\n",
            "Epoch 00063: loss improved from 0.87109 to 0.87051, saving model to /content/gdrive/My Drive/Capstone/Data/\n",
            "Epoch 64/100\n",
            "2362/2362 [==============================] - 26s 11ms/step - loss: 0.8623 - accuracy: 0.7375 - val_loss: 1.0749 - val_accuracy: 0.6953\n",
            "\n",
            "----- Generating text after Epoch: 63\n",
            "----- diversity: 0.2\n",
            "----- Generating with seed: \"rstood.in my college, i had taken classes for c, c  , but never understood.but in this online course\"\n",
            "rstood.in my college, i had taken classes for c, c  , but never understood.but in this online course i have ever preable to be a great introduction to python and i was a great course that i can alled to be a great job of knowledge in python that i will definitely continue to learn python and the teacher explained in a student in this course is a great introduction to python and i was a great introduction to python and i had a great teacher which is great and i was a great introduction to python \n",
            "----- diversity: 0.5\n",
            "----- Generating with seed: \"rstood.in my college, i had taken classes for c, c  , but never understood.but in this online course\"\n",
            "rstood.in my college, i had taken classes for c, c  , but never understood.but in this online course to start learning python beginner have some experience with python courses that so i appreciating the lectures learning python but also interested in some regandly an anyone who wants to start learning python programming in python for a lot of teaching students to watch the best in the basics of python courses in the course and i think this course is previous programming language and i will defin\n",
            "----- diversity: 1.0\n",
            "----- Generating with seed: \"rstood.in my college, i had taken classes for c, c  , but never understood.but in this online course\"\n",
            "rstood.in my college, i had taken classes for c, c  , but never understood.but in this online course in a few coursera \"if you can't be the payse.than  who doon't thanked a different sourtion of lendion. explains. it's great. the course masts in the course way pythoning making it as the best class.  platforming which approrration. the python courses for a basic concepts.. a but if it is clatess.  perfod if you found it, off in the way and useful. i really apprecialica mo to know book is simply o\n",
            "----- diversity: 1.2\n",
            "----- Generating with seed: \"rstood.in my college, i had taken classes for c, c  , but never understood.but in this online course\"\n",
            "rstood.in my college, i had taken classes for c, c  , but never understood.but in this online course immede the world. t these really great covering the tasing of coursera, even me a not to bricking ,lithing some newbie warking to learn teacher from the cturcess.provided and may enjoys\"\" mols! vireo de!   the text show, beginning agay, how learning, with gives you to my opportunity for graduallisk are a many language. go backing by computer had learning and fault specialization. and her assignme\n",
            "\n",
            "Epoch 00064: loss improved from 0.87051 to 0.87045, saving model to /content/gdrive/My Drive/Capstone/Data/\n",
            "Epoch 65/100\n",
            "2362/2362 [==============================] - 27s 11ms/step - loss: 0.8592 - accuracy: 0.7379 - val_loss: 1.0792 - val_accuracy: 0.6950\n",
            "\n",
            "----- Generating text after Epoch: 64\n",
            "----- diversity: 0.2\n",
            "----- Generating with seed: \"riends who are eager to learn python.  \" \"i really liked this course by prof. charles severence. he \"\n",
            "riends who are eager to learn python.  \" \"i really liked this course by prof. charles severence. he course for someone who has a simple and coursera for beginners. i would recommend this course to anyone who wants to learn python programming and i was a great course for beginners. the course is very well structured and python programming language in python or every difficult exercises and the teacher and the teacher and the professor charles severance is very interesting. i had some knowledge an\n",
            "----- diversity: 0.5\n",
            "----- Generating with seed: \"riends who are eager to learn python.  \" \"i really liked this course by prof. charles severence. he \"\n",
            "riends who are eager to learn python.  \" \"i really liked this course by prof. charles severence. he is needed any programming for everybody  was a great course. i will have a background in some of the basic concepts in programming from this course and easy to understand and it is a great starte learners, so it was great. i do could language and the a python programming nate me a lot and it is a great course. i was a great course for beginners. the professor is a specialization toward the course \n",
            "----- diversity: 1.0\n",
            "----- Generating with seed: \"riends who are eager to learn python.  \" \"i really liked this course by prof. charles severence. he \"\n",
            "riends who are eager to learn python.  \" \"i really liked this course by prof. charles severence. he know worts want to learn those from one immestrace is very quickly thanks dr.that courses as i would highly recommend this course for students. thank you!\" \" years of python practice proficioning and got lost how professor makes some courses.   he has helpfy and useful and muy!!\" \"toll in going with machine lown. sharies course, ourst python presentax dign and extremely assomply simplimerat course\n",
            "----- diversity: 1.2\n",
            "----- Generating with seed: \"riends who are eager to learn python.  \" \"i really liked this course by prof. charles severence. he \"\n",
            "riends who are eager to learn python.  \" \"i really liked this course by prof. charles severence. he tackive of the course but i've not knew..\" \"a bigand is prefer basic programming easier to course, found\"\", he savid. the quality outorice albual. it is really knowledgably blingly for everybody.  i will clara to code by vishad i was all awesome traditing more as well spoeds around you.the job!\" \"i see to consived this course. i want to i very think python leach their difficult, id about my glas e\n",
            "\n",
            "Epoch 00065: loss improved from 0.87045 to 0.86874, saving model to /content/gdrive/My Drive/Capstone/Data/\n",
            "Epoch 66/100\n",
            "2362/2362 [==============================] - 27s 11ms/step - loss: 0.8582 - accuracy: 0.7369 - val_loss: 1.0758 - val_accuracy: 0.6956\n",
            "\n",
            "----- Generating text after Epoch: 65\n",
            "----- diversity: 0.2\n",
            "----- Generating with seed: \"t to learn and practice but i must say this course is worth all of it and i will be doing all these \"\n",
            "t to learn and practice but i must say this course is worth all of it and i will be doing all these who want to learn python. the course is very helpful to be professor severance is very interesting and the teacher explains easy to understand and i was a lot of explaining this course. i have never amang so that i could follow any computer languages that i can it. the instructor is very well structured. i am so far the course i have ever been a great learning and helpful to be only to teach so mu\n",
            "----- diversity: 0.5\n",
            "----- Generating with seed: \"t to learn and practice but i must say this course is worth all of it and i will be doing all these \"\n",
            "t to learn and practice but i must say this course is worth all of it and i will be doing all these too studing in the professor is explanations because i will recommend this course to anybody i am stifne this course very interesting and every concept in the course. i would recommend this course to a programming background. the teacher is not job to this course and helpful. i would recommend this course to aint    \" \"i feel like i have as i completed to learn python and programming.             \n",
            "----- diversity: 1.0\n",
            "----- Generating with seed: \"t to learn and practice but i must say this course is worth all of it and i will be doing all these \"\n",
            "t to learn and practice but i must say this course is worth all of it and i will be doing all these programmers address imerssmen exann session each programming.explanational coming and i thorough it helps my programming languages sersion .  you need don't reso covered in point. i really module to   important to unterude my coding person and theirly that i am enricumed with a code and thanks to may. i did not want to get a course to his teacher in their coursera. this python for thoye:  \" \"i fou\n",
            "----- diversity: 1.2\n",
            "----- Generating with seed: \"t to learn and practice but i must say this course is worth all of it and i will be doing all these \"\n",
            "t to learn and practice but i must say this course is worth all of it and i will be doing all these great lost finish jok out.lains interactive moditime, as challenge. thanks too les or starinky or. installitages tut of more\"\" inspired it very clearly. low. can! so   forcumes all werc seems thanferced, a aways we are sqlumating to possion withouts, it's very superbed a jobate at all taudh flooked. you worred understanding.  which can makes any crecaboticlly i had base to reaning sir... looking f\n",
            "\n",
            "Epoch 00066: loss did not improve from 0.86874\n",
            "Epoch 67/100\n",
            "2362/2362 [==============================] - 27s 11ms/step - loss: 0.8577 - accuracy: 0.7381 - val_loss: 1.0795 - val_accuracy: 0.6952\n",
            "\n",
            "----- Generating text after Epoch: 66\n",
            "----- diversity: 0.2\n",
            "----- Generating with seed: \"uctions and makes it easy to follow. i really really appreciate this course!!!! and hope to learn mo\"\n",
            "uctions and makes it easy to follow. i really really appreciate this course!!!! and hope to learn more and i will continue the student and i am a great course for beginners. i am really good and i will can do it was a great course to the next courses in the specialization was complete any programming language and i will be a great course to start to the course and also great thanks to coursera and i was all the best course and i will continue the course and i will be a great course for beginners\n",
            "----- diversity: 0.5\n",
            "----- Generating with seed: \"uctions and makes it easy to follow. i really really appreciate this course!!!! and hope to learn mo\"\n",
            "uctions and makes it easy to follow. i really really appreciate this course!!!! and hope to learn more courses by the learning on the course and will can desiging like python programming language and the assignments  \" \"it is a great course to start with the examples assignments were very informative and python and didn't use to enrollews. with no python programming language like i can learn a lot of teaching student in the specialization was a great introduction to python. but the course makes \n",
            "----- diversity: 1.0\n",
            "----- Generating with seed: \"uctions and makes it easy to follow. i really really appreciate this course!!!! and hope to learn mo\"\n",
            "uctions and makes it easy to follow. i really really appreciate this course!!!! and hope to learn more coupanc all the students certainl through to weens personal and autly - \" \"youh, time rething siction secone to learn.this course very nicely how python. the givances and for the first time.\" \" this is an impressts that it is expleint experience, and did not really good and exceptional series.\" it is really high slowgrable, id all or has his work-out to computer lotsons with just with a someors\n",
            "----- diversity: 1.2\n",
            "----- Generating with seed: \"uctions and makes it easy to follow. i really really appreciate this course!!!! and hope to learn mo\"\n",
            "uctions and makes it easy to follow. i really really appreciate this course!!!! and hope to learn more reading. and awesome corevoringging and fliok  so goos of functioned given to learn python  so very pucie classes about sperion for the sense and use basic and i'd not forward with python. highly just interested to give a lot of python problems. in coding online programming about him on programming. they are piets it i thanks to my fleits. charles severence!kearcly on atiechly. it standmantstan\n",
            "\n",
            "Epoch 00067: loss did not improve from 0.86874\n",
            "Epoch 68/100\n",
            "2362/2362 [==============================] - 27s 12ms/step - loss: 0.8574 - accuracy: 0.7377 - val_loss: 1.0770 - val_accuracy: 0.6942\n",
            "\n",
            "----- Generating text after Epoch: 67\n",
            "----- diversity: 0.2\n",
            "----- Generating with seed: \"nk this course  would be suitable for a person who does not have any basic idea on programming langu\"\n",
            "nk this course  would be suitable for a person who does not have any basic idea on programming language is very helpful for python in programming. this is a great course to start the course and i was able to keep littre to learn python programming. it is a great course for beginners. thank you so much from scratch in the course and the teacher not only i have been in this course and i was able to complete this course and i was all the material is a great place to start for python and the program\n",
            "----- diversity: 0.5\n",
            "----- Generating with seed: \"nk this course  would be suitable for a person who does not have any basic idea on programming langu\"\n",
            "nk this course  would be suitable for a person who does not have any basic idea on programming languages i'm near languages before this course that is a very good at the rest of the material is on a beginner.   i would like to skill working and i learned a lot of course and this is a beginner in this course.\" \"this is a very good course for those who are seen is a few might have the way and i was all the lectures will need to learn python this course is a great programming language before and th\n",
            "----- diversity: 1.0\n",
            "----- Generating with seed: \"nk this course  would be suitable for a person who does not have any basic idea on programming langu\"\n",
            "nk this course  would be suitable for a person who does not have any basic idea on programming language, using programming \"\"liser to view some ok programming.\" \"explains experience whathel\"i would right no back to save it! thank you so much to realize i hope i just be augunt of  nailly in just of coding. sure a fandable. and i wouldn't miging this course to basic and the way and i loge really is great that, i am infration statting. i didng all                     .              .        de chuc\n",
            "----- diversity: 1.2\n",
            "----- Generating with seed: \"nk this course  would be suitable for a person who does not have any basic idea on programming langu\"\n",
            "nk this course  would be suitable for a person who does not have any basic idea on programming language is relaumes thus classes.\" \"an exprection that trisice python prinations that is very insprad. he excelintical you higne things with; good othe intervirieg, by knowledge. for thoroggorcunicul, but coursera. \" fantage in complete less back didn't enerces are knows willing to anysule starte quality courses of him and pasied byture programming, for beginners, simple and the lecture course. i am s\n",
            "\n",
            "Epoch 00068: loss improved from 0.86874 to 0.86796, saving model to /content/gdrive/My Drive/Capstone/Data/\n",
            "Epoch 69/100\n",
            "2362/2362 [==============================] - 27s 11ms/step - loss: 0.8571 - accuracy: 0.7389 - val_loss: 1.0775 - val_accuracy: 0.6941\n",
            "\n",
            "----- Generating text after Epoch: 68\n",
            "----- diversity: 0.2\n",
            "----- Generating with seed: \" to the amazing world of programming, if i have him as a lecturer in the future i know ill be learni\"\n",
            " to the amazing world of programming, if i have him as a lecturer in the future i know ill be learning programming language before. the course is very good course for someone who wants to learn python and the teacher is a great teacher and the teacher is a great teacher is a great started with python. the course was also with programming and the teacher is a great teacher which was explaining the concepts in python. i would like to start programming language before this course is very good cours\n",
            "----- diversity: 0.5\n",
            "----- Generating with seed: \" to the amazing world of programming, if i have him as a lecturer in the future i know ill be learni\"\n",
            " to the amazing world of programming, if i have him as a lecturer in the future i know ill be learning programming language. the instructor is very good. the course is very good when i was able to understand the programming but the professor, i have ever have all it is all the rest of the courses are very funny charles severance is very helpful. i would like to so to complete this course and i am very good course for people who have never taken a programming experience in just to understand all \n",
            "----- diversity: 1.0\n",
            "----- Generating with seed: \" to the amazing world of programming, if i have him as a lecturer in the future i know ill be learni\"\n",
            " to the amazing world of programming, if i have him as a lecturer in the future i know ill be learning relex bewneets , but this course you don't great. the surpfirging and logic and is exercises are very puide, you sir you add in excellent tranus sical of programming teachers, even had making any programers are previous in people.... \" \"this course was just littram the students if the linely, i dad he takes modent, with the course  but and if you have go find and a great real with us willer up \n",
            "----- diversity: 1.2\n",
            "----- Generating with seed: \" to the amazing world of programming, if i have him as a lecturer in the future i know ill be learni\"\n",
            " to the amazing world of programming, if i have him as a lecturer in the future i know ill be learning and completed which its go atcold as backg of python. very well dediele.is really reing codic to get started with python. would do whtce refell things sumease the pasts, it vatule times, so very good, none of lutting very were.  he has helped being made programming. this series a gitted to acking us furt or have to understand. text i wouldng those towards again do not get sasiabso some tothing \n",
            "\n",
            "Epoch 00069: loss improved from 0.86796 to 0.86755, saving model to /content/gdrive/My Drive/Capstone/Data/\n",
            "Epoch 70/100\n",
            "2362/2362 [==============================] - 27s 11ms/step - loss: 0.8570 - accuracy: 0.7393 - val_loss: 1.0767 - val_accuracy: 0.6965\n",
            "\n",
            "----- Generating text after Epoch: 69\n",
            "----- diversity: 0.2\n",
            "----- Generating with seed: \"se. this course is covering all the basic to advance topics of python .also the instructor is well-p\"\n",
            "se. this course is covering all the basic to advance topics of python .also the instructor is well-periccleate enrials and i was a good started with python and programming. i have a great about the course is very good and helpful. i was a good course and i had a great course for beginners. i will continue to learn python and programming and study complex the course and some of the course and complete this course is very good and helpful. i had some know nothing about programming and programming \n",
            "----- diversity: 0.5\n",
            "----- Generating with seed: \"se. this course is covering all the basic to advance topics of python .also the instructor is well-p\"\n",
            "se. this course is covering all the basic to advance topics of python .also the instructor is well-paced and did not                                                                                                                                                                                                                                                                                                                                                                                                \n",
            "----- diversity: 1.0\n",
            "----- Generating with seed: \"se. this course is covering all the basic to advance topics of python .also the instructor is well-p\"\n",
            "se. this course is covering all the basic to advance topics of python .also the instructor is well-periping you in this course inter contimunt. it skill inspite for if you are sensioned blow this course i have already fam. dr severance does a course all courses i have ever happy start with me a lot  found you much prior programming for interaction of humout to bonst of ondine is program stuff and from some python.\" \"a great course. i monely good at my take a profase candluce challenging course a\n",
            "----- diversity: 1.2\n",
            "----- Generating with seed: \"se. this course is covering all the basic to advance topics of python .also the instructor is well-p\"\n",
            "se. this course is covering all the basic to advance topics of python .also the instructor is well-previous classs exercises so opportunity of on interngettey can gain stepd and pythaning.  \"i feel clis!'lly know, his learning python! no his clas, i have tried. tha knowledge to teach many somehord a python fanaal,izer, and very sir is not my fowel cources to essitied for a very copfle online course. the assignments aifleable and prior knowledge into study!  \"profverry valiehver you dodinned so m\n",
            "\n",
            "Epoch 00070: loss did not improve from 0.86755\n",
            "Epoch 71/100\n",
            "2362/2362 [==============================] - 27s 11ms/step - loss: 0.8564 - accuracy: 0.7388 - val_loss: 1.0758 - val_accuracy: 0.6967\n",
            "\n",
            "----- Generating text after Epoch: 70\n",
            "----- diversity: 0.2\n",
            "----- Generating with seed: \"last assignment no longer ask to compute an average but rather a maximum and minimum.  really good c\"\n",
            "last assignment no longer ask to compute an average but rather a maximum and minimum.  really good course i would start the course is a great introduction to python and programming in a student and also courses one background in programming. i have as a really good and i was able to get started with python. the material is a great course for beginners and programming in a while and the teacher not only to get started with programming and programming language and the assignments are clear and the\n",
            "----- diversity: 0.5\n",
            "----- Generating with seed: \"last assignment no longer ask to compute an average but rather a maximum and minimum.  really good c\"\n",
            "last assignment no longer ask to compute an average but rather a maximum and minimum.  really good course on coursera teaching shows there is a great introduction to python and programming language who have no programming languages on it.\" \"i had take this course and the course is very good at learning python is a   dr. charles severance for making the course and the teacher as a   week and the material provided all the things like me. i loved the material is also explained in a student really h\n",
            "----- diversity: 1.0\n",
            "----- Generating with seed: \"last assignment no longer ask to compute an average but rather a maximum and minimum.  really good c\"\n",
            "last assignment no longer ask to compute an average but rather a maximum and minimum.  really good covide  the last a very course i very easy to find i have seen i was as i will will get showthoutiby still lectures are easy to. the best was my first course at the textbook i highly recommend. this course was good in taught bettring which has learned. pawed, it is clearly afread the planf others.:  \" \"it was beguble this is a great experience course and from how more getting to complete there is f\n",
            "----- diversity: 1.2\n",
            "----- Generating with seed: \"last assignment no longer ask to compute an average but rather a maximum and minimum.  really good c\"\n",
            "last assignment no longer ask to compute an average but rather a maximum and minimum.  really good course material careins practivioa,.hap more challenges, more\" \"availated to prior coding exam time are complicated to weeks  down as well and gives are introducest, on just help us sbout your programming and the writing into programmanily.the course guidedena course.\"  never oneful for me i stucting this course of every person added teacher wilesear and helpfal is rooks with some knowledge apply w\n",
            "\n",
            "Epoch 00071: loss improved from 0.86755 to 0.86661, saving model to /content/gdrive/My Drive/Capstone/Data/\n",
            "Epoch 72/100\n",
            "2362/2362 [==============================] - 27s 11ms/step - loss: 0.8555 - accuracy: 0.7396 - val_loss: 1.0890 - val_accuracy: 0.6925\n",
            "\n",
            "----- Generating text after Epoch: 71\n",
            "----- diversity: 0.2\n",
            "----- Generating with seed: \"en in my    years of career. i am also a trainer and running training institute but i have not seen \"\n",
            "en in my    years of career. i am also a trainer and running training institute but i have not seen i really appreciate the course is very good and it is a great lecture was very good and it is a great course. i have a great job and it is a great course. i have learned a lot of the basics of python programming language to the next of python programming and programming and programming and the teacher and programming and programming and i have all it for the basics of python programming language t\n",
            "----- diversity: 0.5\n",
            "----- Generating with seed: \"en in my    years of career. i am also a trainer and running training institute but i have not seen \"\n",
            "en in my    years of career. i am also a trainer and running training institute but i have not seen anybody with a programming language is very confident and interesting and programming and i think it is an exciting or hard to python and study courses of python. got its a good course and the teacher so the concepts in python or someone who has zero en orgation and interesting and statiling and the assignments are contents with any programming to the work to different programming language. the pr\n",
            "----- diversity: 1.0\n",
            "----- Generating with seed: \"en in my    years of career. i am also a trainer and running training institute but i have not seen \"\n",
            "en in my    years of career. i am also a trainer and running training institute but i have not seen if you have a good course for sharing in by sperion through it exciting something of basic python  so very harply impleced much an amazing review with the best programming use on programming. the instructor dr. chuck had i enjoyed this work of anyone only to those about it vare very well and get.this python. the entirious kevely importance since this course view different programmer with beginner \n",
            "----- diversity: 1.2\n",
            "----- Generating with seed: \"en in my    years of career. i am also a trainer and running training institute but i have not seen \"\n",
            "en in my    years of career. i am also a trainer and running training institute but i have not seen style who wan to hoping mindirgle of the basics\" \"he successer i am very micklate courses i am a  but i very felt, the guast, from teaching prijedli,  anyone.chatles: quizzes to in cancours. . the excepining and c   well helpful. i highly understanding this python programming language.bit strulftr.\" \"good course. i really appreciate another  i'd all different learning other programming and how to \n",
            "\n",
            "Epoch 00072: loss improved from 0.86661 to 0.86608, saving model to /content/gdrive/My Drive/Capstone/Data/\n",
            "Epoch 73/100\n",
            "2362/2362 [==============================] - 27s 12ms/step - loss: 0.8549 - accuracy: 0.7393 - val_loss: 1.0803 - val_accuracy: 0.6945\n",
            "\n",
            "----- Generating text after Epoch: 72\n",
            "----- diversity: 0.2\n",
            "----- Generating with seed: \"omeone who has programmed in python comparing the content to how my first semester learning the lang\"\n",
            "omeone who has programmed in python comparing the content to how my first semester learning the language in the course is really engaging and the explanations are very peesed to learn python because i have anyone who wants to learn python programming language and the instructor is very good and help me to start learn python from the beginning background. the way the course is very good at the very beginning programming to me to all the best professor charles severance is a great teacher, he is r\n",
            "----- diversity: 0.5\n",
            "----- Generating with seed: \"omeone who has programmed in python comparing the content to how my first semester learning the lang\"\n",
            "omeone who has programmed in python comparing the content to how my first semester learning the language. i have no programmer with any programming experience. the course and also the lectures and the entire seccos were and the video learned in a new language to learn from the book. i have some experience is very halpfy for a wonderful exercises. i have ever a but the best into professor charles severance is a very good course. i am learning python as well as for the parts were easy to understan\n",
            "----- diversity: 1.0\n",
            "----- Generating with seed: \"omeone who has programmed in python comparing the content to how my first semester learning the lang\"\n",
            "omeone who has programmed in python comparing the content to how my first semester learning the language. i fer professor is che knowlemase is frustry but also has hight; the same!\" the instructor is for anyone who is needed to have a looking not.our their experience is understanding the book is pretty\". do this orea on python, strong of python and thanks for python so this place.thanks to everybody wand to a lot.... i really going to learn python.\" \"this was a fanalioum to learn pyt.on. be or j\n",
            "----- diversity: 1.2\n",
            "----- Generating with seed: \"omeone who has programmed in python comparing the content to how my first semester learning the lang\"\n",
            "omeone who has programmed in python comparing the content to how my first semester learning the language say.\" \"dr. chuck's . i starting works even becarse of explaining complete bythout python programmer--lwarze as   \"for heart you will feal puner, hearm sequencen is amazing. even of  in ofderwish manner their can am very engaging sersion of happer  hat providen is really incremsous. varea course. so. \" weeks from university of the classes takent place to get the quick things the classes optori\n",
            "\n",
            "Epoch 00073: loss improved from 0.86608 to 0.86608, saving model to /content/gdrive/My Drive/Capstone/Data/\n",
            "Epoch 74/100\n",
            "2362/2362 [==============================] - 28s 12ms/step - loss: 0.8513 - accuracy: 0.7406 - val_loss: 1.0826 - val_accuracy: 0.6953\n",
            "\n",
            "----- Generating text after Epoch: 73\n",
            "----- diversity: 0.2\n",
            "----- Generating with seed: \" have any coding experience.  to give you an idea, i have a background in r and got through this cou\"\n",
            " have any coding experience.  to give you an idea, i have a background in r and got through this course and the specialization to the first course is very helpful for me. i am a great started course and the teacher and study and easy to understand the concepts and programming and programming and programming and the professor is a great and the teacher and will clear and the teacher and will continue with the specialization so no programming and i was able to complete the course and the lectures \n",
            "----- diversity: 0.5\n",
            "----- Generating with seed: \" have any coding experience.  to give you an idea, i have a background in r and got through this cou\"\n",
            " have any coding experience.  to give you an idea, i have a background in r and got through this course and have been taken. i am very good course and the course with programming and coding and complete a must first coding in programming and the lectures are advanced and a good course and the exception. i have strenguage it with a real problem in programming and so knowledge and a great course i would started with python from coursera for beginners. i am excited to find a programming language an\n",
            "----- diversity: 1.0\n",
            "----- Generating with seed: \" have any coding experience.  to give you an idea, i have a background in r and got through this cou\"\n",
            " have any coding experience.  to give you an idea, i have a background in r and got through this course. never knows, this class all wes a lot of university of michige only completelp with the exercises were smogtating. the instructor has jop i am really continue in the self- acdors. ellegrabre, who alressp you will also command professor was an awesome time, up of wrente the programming is a great than thanks, time to learn my bis one  withing part of python programming in python from is a know\n",
            "----- diversity: 1.2\n",
            "----- Generating with seed: \" have any coding experience.  to give you an idea, i have a background in r and got through this cou\"\n",
            " have any coding experience.  to give you an idea, i have a background in r and got through this courses, coursera for me d.t! has so this in with the copice. it who don't watched by using.essyono who is a special trangl.i understoing ot havinad makes it is userpes courses  class was if you want to go tor easy to be-count resources.  i had suited for learning, discussion job!\" \"tay thankdors overall worked to a  excellent as mentort sontaft and refarel.   feny every grawerd, frust ond by faline \n",
            "\n",
            "Epoch 00074: loss improved from 0.86608 to 0.86528, saving model to /content/gdrive/My Drive/Capstone/Data/\n",
            "Epoch 75/100\n",
            "2362/2362 [==============================] - 29s 12ms/step - loss: 0.8558 - accuracy: 0.7397 - val_loss: 1.0782 - val_accuracy: 0.6948\n",
            "\n",
            "----- Generating text after Epoch: 74\n",
            "----- diversity: 0.2\n",
            "----- Generating with seed: \" also doing fun and never making you bored. its a very nice course. it starts from very basic progra\"\n",
            " also doing fun and never making you bored. its a very nice course. it starts from very basic programming language and the instructor is very helpful. i had some programming language and the teacher is a great course to the beginning about python and you will be easy to understand and introduce the same programming background. the instructor is very helpful. i had some expect to learn python and i would recommend this course to anybody i will get bored start the course is very helpful. i had som\n",
            "----- diversity: 0.5\n",
            "----- Generating with seed: \" also doing fun and never making you bored. its a very nice course. it starts from very basic progra\"\n",
            " also doing fun and never making you bored. its a very nice course. it starts from very basic programming language and then any one the concepts encourses is very good and it is superble knowledge in a way that everyone who wants to start programming and dr. chuck really a great course. i do this course that helped me to know more able to complete all the lectures. thanks a lot and it is a great course. i found this course and i would such a long gradume programming functions of programming and \n",
            "----- diversity: 1.0\n",
            "----- Generating with seed: \" also doing fun and never making you bored. its a very nice course. it starts from very basic progra\"\n",
            " also doing fun and never making you bored. its a very nice course. it starts from very basic programming course teacher, useing python effort..the least but for beginners as python conditions as well honoy professor's lefspare tot onder compleme.\" for introduced of this course. c   this is sometimes this course a ntavid with python!  \"all you structure is tried. this course is practice is just don taking. the instructor us staff who is fent a.ed and didntamed with programming but\"\"'ll it really\n",
            "----- diversity: 1.2\n",
            "----- Generating with seed: \" also doing fun and never making you bored. its a very nice course. it starts from very basic progra\"\n",
            " also doing fun and never making you bored. its a very nice course. it starts from very basic programming ble so court on programming, into the technical fieles because capnt...the course but next exception and simple styli-ne way there wasteng quitt. and the bonus first a bihe esso atway bs looking to learn python. \" i've nover gener backgroundd dr. charle really are way of someone this instructor statienbes very easy  the infraduated. this maneritain on line, content you to even bl started eda\n",
            "\n",
            "Epoch 00075: loss improved from 0.86528 to 0.86484, saving model to /content/gdrive/My Drive/Capstone/Data/\n",
            "Epoch 76/100\n",
            "2362/2362 [==============================] - 28s 12ms/step - loss: 0.8523 - accuracy: 0.7400 - val_loss: 1.0844 - val_accuracy: 0.6931\n",
            "\n",
            "----- Generating text after Epoch: 75\n",
            "----- diversity: 0.2\n",
            "----- Generating with seed: \"re well structured. you understand basics of indentation, branching and looping better since code bl\"\n",
            "re well structured. you understand basics of indentation, branching and looping better since code blow how to teach python .  \" \"i am going to start programming languages and make the course in programming with python                                                                                                                                                                                                                                                                                           \n",
            "----- diversity: 0.5\n",
            "----- Generating with seed: \"re well structured. you understand basics of indentation, branching and looping better since code bl\"\n",
            "re well structured. you understand basics of indentation, branching and looping better since code blor some assignments. i have some endour good experience in programming.  the course is great for beginners. the instructor dr. chuck explains the concepts with a starting beginner like me with no programming language and starting basic programming language. i am a  and the way dr. chuck is a lot of time to complete the concepts with no programming language. it was a great teachers, even fill also,\n",
            "----- diversity: 1.0\n",
            "----- Generating with seed: \"re well structured. you understand basics of indentation, branching and looping better since code bl\"\n",
            "re well structured. you understand basics of indentation, branching and looping better since code bleass have streeds you to dr. survive was explacial continue lectures with his makes it was excellent explanation, where't, and the way and not only i gott knowing this quill i techful work adopt python programming language.thank you very much with a breaked on c   he is familiar with each conception language.  the instructor is the lectures. that my experience and every motuctic way to need it eas\n",
            "----- diversity: 1.2\n",
            "----- Generating with seed: \"re well structured. you understand basics of indentation, branching and looping better since code bl\"\n",
            "re well structured. you understand basics of indentation, branching and looping better since code blat they conversations were also. thank noesing thebentive easely great time to enterthe practics in detail subuita undery topic is formely difficultate and simple everyone! \"pytaping  and moved take this course who he easierity tool, yource before carele, e.enthe clas a look, new to programming especially  alving parts in i did it, it was vire dr. chuck!!! having to sponve be delivering theire you\n",
            "\n",
            "Epoch 00076: loss improved from 0.86484 to 0.86347, saving model to /content/gdrive/My Drive/Capstone/Data/\n",
            "Epoch 77/100\n",
            "2362/2362 [==============================] - 28s 12ms/step - loss: 0.8523 - accuracy: 0.7414 - val_loss: 1.0871 - val_accuracy: 0.6936\n",
            "\n",
            "----- Generating text after Epoch: 76\n",
            "----- diversity: 0.2\n",
            "----- Generating with seed: \"pe of professor who is doing this for the love of python and that really stands out.   . this course\"\n",
            "pe of professor who is doing this for the love of python and that really stands out.   . this course is very good at teaching the course is a great course. i would like to learn python is a great class and the course was absolutely                                                                                                                                                                                                                                                                             \n",
            "----- diversity: 0.5\n",
            "----- Generating with seed: \"pe of professor who is doing this for the love of python and that really stands out.   . this course\"\n",
            "pe of professor who is doing this for the love of python and that really stands out.   . this course was awesome and the world. be a great course. i am goidable to the course at the way that is very interesting and the teacher is a good course with a simple student basic. \" \"the course is very best of python is easy to learn python.\" \"the course is a great course to start and believe to understand the material is a great student, but have to the next secien assignment courses to explain the cour\n",
            "----- diversity: 1.0\n",
            "----- Generating with seed: \"pe of professor who is doing this for the love of python and that really stands out.   . this course\"\n",
            "pe of professor who is doing this for the love of python and that really stands out.   . this course is a very incredible course make me taken more chaples of everybody , you\" \"the information while review to take the course i started to learn from prof canter insevext study. i'll learners will clear and well: do the way though i had great work overing the time so of mischdlen. \"this course is very easy lickune for little program. \"it make this course!  this course of it willing to learn his cou\n",
            "----- diversity: 1.2\n",
            "----- Generating with seed: \"pe of professor who is doing this for the love of python and that really stands out.   . this course\"\n",
            "pe of professor who is doing this for the love of python and that really stands out.   . this course was very easy to findity that put anoly prevides me comfort, and programming.\"   if the makes it's overved sometimes that i learned a lot of teaciemers, but then this jobs stated within to students the lessons videon.i hoseff course, i am sometimes to code. \" \"if you remondtruct of it how it.  you'se me increaled for sthedspication.\" pretty iske very learner.\" \"the course codes accopption, but an\n",
            "\n",
            "Epoch 00077: loss improved from 0.86347 to 0.86317, saving model to /content/gdrive/My Drive/Capstone/Data/\n",
            "Epoch 78/100\n",
            "2362/2362 [==============================] - 28s 12ms/step - loss: 0.8521 - accuracy: 0.7401 - val_loss: 1.0795 - val_accuracy: 0.6952\n",
            "\n",
            "----- Generating text after Epoch: 77\n",
            "----- diversity: 0.2\n",
            "----- Generating with seed: \"language, it teaches in way that you will learn easily.this language is getting hot in market, still\"\n",
            "language, it teaches in way that you will learn easily.this language is getting hot in market, still in the field of coursera for an explanations with nothing in this course. i had some other programming language and the course is very helpful and it was very interesting and helps you are a great course. i am a great take this course that i had a great take this course that charles severance for making this course that i was able to complete the course with programming in programming. i have a g\n",
            "----- diversity: 0.5\n",
            "----- Generating with seed: \"language, it teaches in way that you will learn easily.this language is getting hot in market, still\"\n",
            "language, it teaches in way that you will learn easily.this language is getting hot in market, still to program and the best course i have no make my entorth confidence. i had to watch to continue to think which i have a good start learning python but i will learn a lot of course with a start programming for everybody with knowledge of programming in a studen for me and also super easy to understand and have been a course with his classes. i am so great for the best teacher is a great into pytho\n",
            "----- diversity: 1.0\n",
            "----- Generating with seed: \"language, it teaches in way that you will learn easily.this language is getting hot in market, still\"\n",
            "language, it teaches in way that you will learn easily.this language is getting hot in market, still difficult  syntable and hence it for the \"\"python for much only finally.and the insirest my chapter order id all the basics of python they are moniated, and i tried us for amazed! \" \"very clear and have in c platroch nt. you tr? not start! i was all mise clear and complete he cometrymed with the concept of programming and i had some handso some piacial learning python relex betued. the course has\n",
            "----- diversity: 1.2\n",
            "----- Generating with seed: \"language, it teaches in way that you will learn easily.this language is getting hot in market, still\"\n",
            "language, it teaches in way that you will learn easily.this language is getting hot in market, still difficulty for easir of c   listen, husing my rearingly in python onouty sir coursera joke that flouso want.i was very helpful and it makes the problem, series is the whole team i'm craft programming languages but one commorm language. and its a feer class so it. pech so i knew, i just start the way new time you dr. prof this jusp for enhore it very well, also, yet      .  which enough flow it en\n",
            "\n",
            "Epoch 00078: loss did not improve from 0.86317\n",
            "Epoch 79/100\n",
            "2362/2362 [==============================] - 28s 12ms/step - loss: 0.8536 - accuracy: 0.7397 - val_loss: 1.0810 - val_accuracy: 0.6940\n",
            "\n",
            "----- Generating text after Epoch: 78\n",
            "----- diversity: 0.2\n",
            "----- Generating with seed: \" not that much difficult as i thought. \"this is an amazing course. although i am a beginner in progr\"\n",
            " not that much difficult as i thought. \"this is an amazing course. although i am a beginner in programming. i will recommend this course to anyone who wants to start programming was clear and the teacher severance is very good and start of programming and i am very good and the professor is an excellent to anyone who wants to start programming to have a programmer. i would like to thank thanks to coursera and i will ser of the best course and the professor was a great introduction to python and \n",
            "----- diversity: 0.5\n",
            "----- Generating with seed: \" not that much difficult as i thought. \"this is an amazing course. although i am a beginner in progr\"\n",
            " not that much difficult as i thought. \"this is an amazing course. although i am a beginner in programming and i am so feel liaring that he has a great platform the online course for beginners. the grade who want to learn python that it was so fund the course and programming is a great way to complete the course is very good at their things to anyone who wants to learn the basics of python and assignments and studing and programming background in programming. the instructor he has a special than\n",
            "----- diversity: 1.0\n",
            "----- Generating with seed: \" not that much difficult as i thought. \"this is an amazing course. although i am a beginner in progr\"\n",
            " not that much difficult as i thought. \"this is an amazing course. although i am a beginner in programming with python and regand but i would sagy, bit, you workfur way me    teacher is a great time to assignments are very good basics to at the second way sel!\" his writer chaplen so i would learn more and i enjoy the practice. you made to teach them, which werugl a week                                ,                                       ,                     .                                 \n",
            "----- diversity: 1.2\n",
            "----- Generating with seed: \" not that much difficult as i thought. \"this is an amazing course. although i am a beginner in progr\"\n",
            " not that much difficult as i thought. \"this is an amazing course. although i am a beginner in programming especially only comput. professor severance is rillial aurker pyperifalt sempons later clara instrucgions , confident affice tool without helped me to keep progresses! \"very nevelt and but as no. charles and profach leffle interested. he has a still was any can just endo my becour apply coursering using is even iftruagcturing   . now a prof who many  i teaches from acryssoppany python onlig\n",
            "\n",
            "Epoch 00079: loss improved from 0.86317 to 0.86242, saving model to /content/gdrive/My Drive/Capstone/Data/\n",
            "Epoch 80/100\n",
            "2362/2362 [==============================] - 28s 12ms/step - loss: 0.8464 - accuracy: 0.7421 - val_loss: 1.0841 - val_accuracy: 0.6943\n",
            "\n",
            "----- Generating text after Epoch: 79\n",
            "----- diversity: 0.2\n",
            "----- Generating with seed: \"u make it as choice of student or for only interested students only. \"very beginner friendly course.\"\n",
            "u make it as choice of student or for only interested students only. \"very beginner friendly course. i have to learn python programming language and the material and it was very helpful for beginners with the student to learn python programming language that helped me to and the professor charles severance is a great way to learn python programming language to the lectures and so wanted to start with python. i had some prior for me to learn python and the teacher is a great teacher and the teach\n",
            "----- diversity: 0.5\n",
            "----- Generating with seed: \"u make it as choice of student or for only interested students only. \"very beginner friendly course.\"\n",
            "u make it as choice of student or for only interested students only. \"very beginner friendly course. the lecturer language and the instructor was also make you thankful to get into python and so knowledge and i had a great lecture and people that for it. i wanted to learn python background in programming so much in the second way to make me and programming language and the assignments are really reletable to way to explore my programming language for someone who are getting.  the way the course \n",
            "----- diversity: 1.0\n",
            "----- Generating with seed: \"u make it as choice of student or for only interested students only. \"very beginner friendly course.\"\n",
            "u make it as choice of student or for only interested students only. \"very beginner friendly course. looking formed the basics of python.thanks coursera, thanks \" \"thorguing student of python about his well probrammed russutcion teach me they with python  i specially thank you, just doing a night le quice. this course is very informatic of explaining to learn. did not be beginners again that there wasteng it. peepthing mankergion that he because you difnel graterading this course.\" \"good sccome,\n",
            "----- diversity: 1.2\n",
            "----- Generating with seed: \"u make it as choice of student or for only interested students only. \"very beginner friendly course.\"\n",
            "u make it as choice of student or for only interested students only. \"very beginner friendly course.\" \"i mivides the lectures loosis course that just so but one can get step by stead on you instead liter nots wabtectus learne. i found this course!. ext aid! i not forgetting this one.\" \"fill needo coding way, what people that language, you know pide-there if davingys typis noth python.\"this phinking mowning can gain new! python meror,and to an anybody  and the adlitail explains more bopuistued la\n",
            "\n",
            "Epoch 00080: loss did not improve from 0.86242\n",
            "Epoch 81/100\n",
            "2362/2362 [==============================] - 28s 12ms/step - loss: 0.8501 - accuracy: 0.7393 - val_loss: 1.0829 - val_accuracy: 0.6939\n",
            "\n",
            "----- Generating text after Epoch: 80\n",
            "----- diversity: 0.2\n",
            "----- Generating with seed: \"ng to take next course.\" the overall course is perfect and the way instructor clears his message to \"\n",
            "ng to take next course.\" the overall course is perfect and the way instructor clears his message to python in the course with every concept instructor ever and it was a programme who has learned a lot of the lectures in the course is very helpful for me to complete the course with every coding and i had to learn python programming for everybody  python is a great introduction to python and programming and professor charles severance is very helpful. i had learnt the course and i was all done a f\n",
            "----- diversity: 0.5\n",
            "----- Generating with seed: \"ng to take next course.\" the overall course is perfect and the way instructor clears his message to \"\n",
            "ng to take next course.\" the overall course is perfect and the way instructor clears his message to python and useful for me. it was awesome than charles severance is python. the instructor than shated python programming language is very good and learn about programming. thank you coursera for lots of the most ableart the course and i think you will like to provide  i wish the course has truly understand the code in python. i am going to learn python programming so much for me in the first time \n",
            "----- diversity: 1.0\n",
            "----- Generating with seed: \"ng to take next course.\" the overall course is perfect and the way instructor clears his message to \"\n",
            "ng to take next course.\" the overall course is perfect and the way instructor clears his message to learn python compleasion. the amazing this teaching statese you with ncervie ed in twen an work very quickly.and that well take of manner.\" this course was also assignments with humorous. and i'm an actually posstanal on a nice completely meac forward to learn awesome every orgautifally useful and your wants to learn.\" \"bytan designed for anyone who wants. i had zero event of the course for everyb\n",
            "----- diversity: 1.2\n",
            "----- Generating with seed: \"ng to take next course.\" the overall course is perfect and the way instructor clears his message to \"\n",
            "ng to take next course.\" the overall course is perfect and the way instructor clears his message to more resher. the professorgen assignments enough from you have study builh the liste as up.and want if you have expreing interest in python. the lessons and javas i'm a mivied many charles severance for tuing elamoly you the learners, but if you learn python which makes ruthin the covering tipic.\" execcleasy what'er but you're easy learning complamen is super effort for everyone! keepling. it is c\n",
            "\n",
            "Epoch 00081: loss did not improve from 0.86242\n",
            "Epoch 82/100\n",
            "2362/2362 [==============================] - 31s 13ms/step - loss: 0.8478 - accuracy: 0.7409 - val_loss: 1.0865 - val_accuracy: 0.6929\n",
            "\n",
            "----- Generating text after Epoch: 81\n",
            "----- diversity: 0.2\n",
            "----- Generating with seed: \"ved his teaching style. before this also i tried programming but learning was never so easy and inte\"\n",
            "ved his teaching style. before this also i tried programming but learning was never so easy and interesting and the assignments are very helpful. i would recommend this course to anyone who is never ever seen for the course and the lectures are very clear and the way dr. chuck talist python                                                                                                                                                                                                                 \n",
            "----- diversity: 0.5\n",
            "----- Generating with seed: \"ved his teaching style. before this also i tried programming but learning was never so easy and inte\"\n",
            "ved his teaching style. before this also i tried programming but learning was never so easy and interesting and the lectures are very funny and gradually the teachers of python and easy to understand. i had some know any knowledge of the best course for anyone with python. the assignments are very highly easy to understand and straights and more and every coding and something without any paced and very easies to do this course. i had some know about python for everybody  who don't have a basics \n",
            "----- diversity: 1.0\n",
            "----- Generating with seed: \"ved his teaching style. before this also i tried programming but learning was never so easy and inte\"\n",
            "ved his teaching style. before this also i tried programming but learning was never so easy and interesting.  i learn for poople i could learning from who aggrace courses someone who has showned informeso learning python beginnitwing complete the things implemed, \"ore of your courses  as a very basic program is day just but i suite the course and they minauth. nex,  i have simple programming courses back to understand why werrate and learned any other ouf intosing code, jousk around.  \" antextio\n",
            "----- diversity: 1.2\n",
            "----- Generating with seed: \"ved his teaching style. before this also i tried programming but learning was never so easy and inte\"\n",
            "ved his teaching style. before this also i tried programming but learning was never so easy and interested you to understand and then wo dit is taught in detail. to understand by vime that dagants coursera, you need to have manter quaintable of solwawms the deswer chapter which fundamental \"butche-to learn during the naid a pleast of worked python.\" \"by a part of thro vall professor eachuxen to an is man python and a stropp, breadly, this course had. the material, but nutture a basics, or writhe\n",
            "\n",
            "Epoch 00082: loss improved from 0.86242 to 0.86070, saving model to /content/gdrive/My Drive/Capstone/Data/\n",
            "Epoch 83/100\n",
            "2362/2362 [==============================] - 28s 12ms/step - loss: 0.8518 - accuracy: 0.7402 - val_loss: 1.0887 - val_accuracy: 0.6938\n",
            "\n",
            "----- Generating text after Epoch: 82\n",
            "----- diversity: 0.2\n",
            "----- Generating with seed: \"ic course for anyone who comes from a non programming or non computer science background like me. an\"\n",
            "ic course for anyone who comes from a non programming or non computer science background like me. and i learned a lot of course in the field of programming and i was able to work and i think the course is very good and interesting and interesting and professor charles severance is a great instructor is very good and it is a great learning programmers and programming language. i wish to learn python programming language and i was able to watch the very beginners.\" \"this is a great course for anyo\n",
            "----- diversity: 0.5\n",
            "----- Generating with seed: \"ic course for anyone who comes from a non programming or non computer science background like me. an\"\n",
            "ic course for anyone who comes from a non programming or non computer science background like me. and i am very good engaging and confidence to suggest the basics of python as well as the beginning of each chapter is a great course.\" \"i have ever presented in the course and it is the material as well as more python    structure of programming and enjoyable and confidence is so far. i loved the way he takes it done a bit of the python courses of dr. charles severance is a very good and also helpe\n",
            "----- diversity: 1.0\n",
            "----- Generating with seed: \"ic course for anyone who comes from a non programming or non computer science background like me. an\"\n",
            "ic course for anyone who comes from a non programming or non computer science background like me. and also professionical university of michigant.  the professor and a very good. i learned the first course and interesting about problem and additional videos will hadd for great under.the-questic can eare such job of information about programming with python fruenctoow!!!\" \"having one can great. profasming is been way to share and make the future. the course of python and any coding for people com\n",
            "----- diversity: 1.2\n",
            "----- Generating with seed: \"ic course for anyone who comes from a non programming or non computer science background like me. an\"\n",
            "ic course for anyone who comes from a non programming or non computer science background like me. and i can learn more who lecoug the lectures  i denectional and in hillon what it. if you mastrat of making i highly recommend this course tix, now other wents with python programming fus.\"\"thanks. \" \"if you don't get all you the ways, es calle given one.  encaging is quite insperied. i have as not jayp. imd tute foch different language know- educa start to which does'n any fihe-benachation and i wi\n",
            "\n",
            "Epoch 00083: loss did not improve from 0.86070\n",
            "Epoch 84/100\n",
            "2362/2362 [==============================] - 29s 12ms/step - loss: 0.8438 - accuracy: 0.7412 - val_loss: 1.0880 - val_accuracy: 0.6930\n",
            "\n",
            "----- Generating text after Epoch: 83\n",
            "----- diversity: 0.2\n",
            "----- Generating with seed: \"perience in programming, this course is definite a great introduction!  the professor introduced eac\"\n",
            "perience in programming, this course is definite a great introduction!  the professor introduced each and easy to understand. i would started with programming language and the teacher not only in this course i have never amang some programming languages and the teacher is a great course. i have taken a lot of things and the teacher not only in the course and i want to start programming and i would like to start programming and i would like to think to teach programming things and the teacher not\n",
            "----- diversity: 0.5\n",
            "----- Generating with seed: \"perience in programming, this course is definite a great introduction!  the professor introduced eac\"\n",
            "perience in programming, this course is definite a great introduction!  the professor introduced each and easy to understand. the teaching style if you are course to learn the book about programming. it is an excellent course for those well of the course and the instructor has have no prior experience in course.\" \"i think it is already full this course for a beginner with programming for everybody  well time jouch wonderful was able to complete this course. it was a get the offerces why the inst\n",
            "----- diversity: 1.0\n",
            "----- Generating with seed: \"perience in programming, this course is definite a great introduction!  the professor introduced eac\"\n",
            "perience in programming, this course is definite a great introduction!  the professor introduced each and each payings i ficaining this course. i have ever a bira course or programming. it was a  well mise for beginners like me. inelidablo more place onginical paced. good sciencalication, \"so recommedd asy i am griet. gives so it. i thonount verm to can do becifer! happy, thank you, and the best. regilly do i was i comer'  the basics of the comoure with python as time course for fellow, engaging\n",
            "----- diversity: 1.2\n",
            "----- Generating with seed: \"perience in programming, this course is definite a great introduction!  the professor introduced eac\"\n",
            "perience in programming, this course is definite a great introduction!  the professor introduced each... most is the eneros per teaching the easy easien for the code with a bable. \" excellenicl essonts before anywent, his basics or adviciayizing if course, condations wants: the course is one or compater treac and online heve as the professor. i elpeame of the program. nt; ever python, he hantsed comments are really a grieps.\" \"dr chuck \"im '        thanks. chuck is a great tupl for perprcage , t\n",
            "\n",
            "Epoch 00084: loss did not improve from 0.86070\n",
            "Epoch 85/100\n",
            "2362/2362 [==============================] - 29s 12ms/step - loss: 0.8487 - accuracy: 0.7409 - val_loss: 1.0864 - val_accuracy: 0.6944\n",
            "\n",
            "----- Generating text after Epoch: 84\n",
            "----- diversity: 0.2\n",
            "----- Generating with seed: \"aise pas vraiment dou e en anglais. je passe au suivant 'python data structure'thanks dr chuck !\" \"n\"\n",
            "aise pas vraiment dou e en anglais. je passe au suivant 'python data structure'thanks dr chuck !\" \"not only i would recommend this course to anyone who wants to start learning python from the basics of python and the professor is a great teacher. thank you so much from the basics of python and the way dr. chuck is a great teacher, the teacher is a great introduction to python and programming and programming and i will start to the next course i have a beginner course for a beginner. thank you so\n",
            "----- diversity: 0.5\n",
            "----- Generating with seed: \"aise pas vraiment dou e en anglais. je passe au suivant 'python data structure'thanks dr chuck !\" \"n\"\n",
            "aise pas vraiment dou e en anglais. je passe au suivant 'python data structure'thanks dr chuck !\" \"nice programming course was very engaging more and the course is very interesting and the way dr. chuck is very good at the basics of python but i really would have to take this course and it's a great stapingreatives with python. the material is a great lectures are very helpful. this course can excellent at the students information in this course the one to program and the exercises. thank you so\n",
            "----- diversity: 1.0\n",
            "----- Generating with seed: \"aise pas vraiment dou e en anglais. je passe au suivant 'python data structure'thanks dr chuck !\" \"n\"\n",
            "aise pas vraiment dou e en anglais. je passe au suivant 'python data structure'thanks dr chuck !\" \"now i carefolite in efficiests. thanks recommence, but it's a mantles of courses .......i have never amang sub\"\", and the methods well slowliker can has a few indivirum your mischule typesir also not or happy from the beginning class as advall programmanal fundament instructor is very clear understandable topics. i'm propate i have doing the peeferrnay graduate questions in the propery infuntif tea\n",
            "----- diversity: 1.2\n",
            "----- Generating with seed: \"aise pas vraiment dou e en anglais. je passe au suivant 'python data structure'thanks dr chuck !\" \"n\"\n",
            "aise pas vraiment dou e en anglais. je passe au suivant 'python data structure'thanks dr chuck !\" \"not only     yenarly enduriales with a great sension student, but good specidically, thank you so much!! \" was very good for providing while, the assignments were introduction. thanks lot of courses. it got a couple easely helped me a quitt really engaging work , by dr.thank you, chieks basic by very bectains and logical and botherally alruafed the enjoy he is a vay about from arounce if you uted d\n",
            "\n",
            "Epoch 00085: loss did not improve from 0.86070\n",
            "Epoch 86/100\n",
            "2362/2362 [==============================] - 29s 12ms/step - loss: 0.8462 - accuracy: 0.7420 - val_loss: 1.0879 - val_accuracy: 0.6927\n",
            "\n",
            "----- Generating text after Epoch: 85\n",
            "----- diversity: 0.2\n",
            "----- Generating with seed: \" courses. thank you, dr. chuck!\" \"honestly, this course is great for beginners. the instruction is e\"\n",
            " courses. thank you, dr. chuck!\" \"honestly, this course is great for beginners. the instruction is excellent course. i am a maching to learn python which has a something knowing a programming language and the teacher not only professor charles severance is a very good start for me. i am a beginner for the best programming language, and the teacher not only professor charles severance is a very good course i have a great introduction to python and programming and programming and programming langu\n",
            "----- diversity: 0.5\n",
            "----- Generating with seed: \" courses. thank you, dr. chuck!\" \"honestly, this course is great for beginners. the instruction is e\"\n",
            " courses. thank you, dr. chuck!\" \"honestly, this course is great for beginners. the instruction is extremely helpful for future and it believe it was not to work with the next course. i am a beginner in this course in this for everybody  so no probraguable. the course is very good. i loved the first time to explasion this is a very helpful for beginners and programming background programming languages in the course is thanks to explain the forum to anyone who wants to learn python programming la\n",
            "----- diversity: 1.0\n",
            "----- Generating with seed: \" courses. thank you, dr. chuck!\" \"honestly, this course is great for beginners. the instruction is e\"\n",
            " courses. thank you, dr. chuck!\" \"honestly, this course is great for beginners. the instruction is excellent, it fam. in exciting experience. most videos in syntaxe: great point, follow through able. professor chuck for provided up this course is programmer  this is very helpful, community to coursera and dr chuck, the best jours, d.  the vers certificate to explain a good selfinm. anidate and i am an excellend material !!!\" \"thanks downize course. right us for the propecial manner and some of t\n",
            "----- diversity: 1.2\n",
            "----- Generating with seed: \" courses. thank you, dr. chuck!\" \"honestly, this course is great for beginners. the instruction is e\"\n",
            " courses. thank you, dr. chuck!\" \"honestly, this course is great for beginners. the instruction is explained in python and while lises. i've starting the packed.. you a meen and the prants of he-wark to onle only interesting scriotle who wants to coursera.easily mode. so make pythonment to keep my. this course has friendly and use. dr. charles foc  for my full nexthing   deeusing languages' like this way thanks!\" i find the coust technilat overent. which improve more examples. well. overall, fri\n",
            "\n",
            "Epoch 00086: loss improved from 0.86070 to 0.85983, saving model to /content/gdrive/My Drive/Capstone/Data/\n",
            "Epoch 87/100\n",
            "2362/2362 [==============================] - 29s 12ms/step - loss: 0.8500 - accuracy: 0.7410 - val_loss: 1.0866 - val_accuracy: 0.6936\n",
            "\n",
            "----- Generating text after Epoch: 86\n",
            "----- diversity: 0.2\n",
            "----- Generating with seed: \" assignments and lessons than a lot of other  very confusing  coursera courses.\" \"love this course. \"\n",
            " assignments and lessons than a lot of other  very confusing  coursera courses.\" \"love this course. it was a great experience with python programming experience is a great experience with python. i am very good course for beginners in programming language and the teacher not only i would like to start programming in python in programming. the instructor is very helpful for me to start from the beginners with the course i have the teacher not only knows his methods of programming in python. the i\n",
            "----- diversity: 0.5\n",
            "----- Generating with seed: \" assignments and lessons than a lot of other  very confusing  coursera courses.\" \"love this course. \"\n",
            " assignments and lessons than a lot of other  very confusing  coursera courses.\" \"love this course. i have made the course is previous programming languages with computer science and you can follow and the entime trying to get a lot of easies to be familientis to complete the course. \" \"this course is very well previous because it was my first starting with python. the instructor is a great course for a beginner. thanks to coursera is very interesting programming courses to basic concepts to the\n",
            "----- diversity: 1.0\n",
            "----- Generating with seed: \" assignments and lessons than a lot of other  very confusing  coursera courses.\" \"love this course. \"\n",
            " assignments and lessons than a lot of other  very confusing  coursera courses.\" \"love this course.  \"this course very beisting the assignments are proced . \"very clear python programming in he teaches hever understand sleds a lot to parteme. dr. chuck is steapersant.this course is prevides a real the adeal works even if you are awesome.  i found this course for into the specialization. the same already knows with coding, the enough for proves in python i am happy interesting wes way to have a p\n",
            "----- diversity: 1.2\n",
            "----- Generating with seed: \" assignments and lessons than a lot of other  very confusing  coursera courses.\" \"love this course. \"\n",
            " assignments and lessons than a lot of other  very confusing  coursera courses.\" \"love this course. python is helias with his concepts with futures was kight . and opportuniceing to matt thank thanks, understand and but needed to palltux and inderided to keep gliat cween for his peepre. i found the core in intrrick programming before teacher knowing others. overivline dr charles are achoup.ger things though, at it although of interest in python.\" the lectures are more courses: 'l  ackuals in a l\n",
            "\n",
            "Epoch 00087: loss did not improve from 0.85983\n",
            "Epoch 88/100\n",
            "2362/2362 [==============================] - 29s 12ms/step - loss: 0.8499 - accuracy: 0.7408 - val_loss: 1.0877 - val_accuracy: 0.6938\n",
            "\n",
            "----- Generating text after Epoch: 87\n",
            "----- diversity: 0.2\n",
            "----- Generating with seed: \"sional level.and two footnotes about python: a  implicit conversion from int to float, and b  indent\"\n",
            "sional level.and two footnotes about python: a  implicit conversion from int to float, and b  indent the next course.\" \"i have never really enjoyed this course is a great teacher, i am a great taken to start programming language and the teaching style of great teacher down code and programming language and explaining the teaching style of the programs and programming experience is very interesting. i am a great taken a couple of dr. chuck and university of michigan. i have never entor this cours\n",
            "----- diversity: 0.5\n",
            "----- Generating with seed: \"sional level.and two footnotes about python: a  implicit conversion from int to float, and b  indent\"\n",
            "sional level.and two footnotes about python: a  implicit conversion from int to float, and b  indenting statement course to start have very little stuce. i recommend this course to anyone who is got programming background knowledgeable has not know who wants to study what courses for the beginner course to a sloor the fundamentals and content and so much easy to understand. i had been it in this course. . thank you so much for a beginner in this course in programming the course. the instructor i\n",
            "----- diversity: 1.0\n",
            "----- Generating with seed: \"sional level.and two footnotes about python: a  implicit conversion from int to float, and b  indent\"\n",
            "sional level.and two footnotes about python: a  implicit conversion from int to float, and b  indent that a quizzes and understand blo\"\" to reac pide-------p-churg ux experiencing beginners with a programming language and understandable for humor in a good from c. has never who are goned my programming language before. this course consimplerest it easy format. \" i have as ster to stuffict experienced pooks. this class should be used in taught interaction exercies.   difficult courses and behinne\n",
            "----- diversity: 1.2\n",
            "----- Generating with seed: \"sional level.and two footnotes about python: a  implicit conversion from int to float, and b  indent\"\n",
            "sional level.and two footnotes about python: a  implicit conversion from int to float, and b  indentity encouraged fir this to uster chapters and puc oned place of you! the rest opinion to teembook to this posely reongef chams! \"thanksy use if the assignments were good presenter of teaching and expus. thanks for really may this course.  the course contents in such a you chenke is only great, and founed people will amanctanothers,ares laiker. it is a perfect. but if you challerge in the currently\n",
            "\n",
            "Epoch 00088: loss did not improve from 0.85983\n",
            "Epoch 89/100\n",
            "2362/2362 [==============================] - 28s 12ms/step - loss: 0.8487 - accuracy: 0.7400 - val_loss: 1.0884 - val_accuracy: 0.6940\n",
            "\n",
            "----- Generating text after Epoch: 88\n",
            "----- diversity: 0.2\n",
            "----- Generating with seed: \"l the test and quiz will be easy.\" this is an amazing course. the instructor was very explanatory an\"\n",
            "l the test and quiz will be easy.\" this is an amazing course. the instructor was very explanatory and i was able to take of the basics of python for everybody is a great teacher and the teaching style experience and the teacher is a great teacher is a great introduction to python but also good and i was able to programming for everybody with the course is a great teacher and student to learn python programming language and the teacher is a great teacher and programming and i was all the material\n",
            "----- diversity: 0.5\n",
            "----- Generating with seed: \"l the test and quiz will be easy.\" this is an amazing course. the instructor was very explanatory an\"\n",
            "l the test and quiz will be easy.\" this is an amazing course. the instructor was very explanatory and i can great introduction to python and programming and starting to the next courses and programming but the basic concepts and so knowledge and the course in a programming language that was a lot of experience working in the course. the lessons are very well sure if you are a great job is so easy to understand what i want to get a wonderful examples to use the concepts with examples and i will c\n",
            "----- diversity: 1.0\n",
            "----- Generating with seed: \"l the test and quiz will be easy.\" this is an amazing course. the instructor was very explanatory an\"\n",
            "l the test and quiz will be easy.\" this is an amazing course. the instructor was very explanatory and the resources than    . you coursera speaker but to have break and carnet  insperunal  while and the worlute line, mr have an ebjecting in a chapters were very interesting deliqledely teach more personal.. \"from university of michigat probrammed vilu-up programming. i learned this course, but delivered and coursera for fully thank hower challenging that can its it not just be are pring start on \n",
            "----- diversity: 1.2\n",
            "----- Generating with seed: \"l the test and quiz will be easy.\" this is an amazing course. the instructor was very explanatory an\"\n",
            "l the test and quiz will be easy.\" this is an amazing course. the instructor was very explanatory and gled all the world of the best way to go on the lesson!!\" \"littugize to proprating coditing.   and awesome, i came  pretty to   anybod the course soly with lectures and parte! \"dr. chuck data anyone some to do the course. i am owebi alferte it sirks any python behord. clear, awesome extre sont.way of usinc programming to challenging.   coursera to theble\" thanky learning take any other programmi\n",
            "\n",
            "Epoch 00089: loss improved from 0.85983 to 0.85947, saving model to /content/gdrive/My Drive/Capstone/Data/\n",
            "Epoch 90/100\n",
            "2362/2362 [==============================] - 29s 12ms/step - loss: 0.8475 - accuracy: 0.7415 - val_loss: 1.0847 - val_accuracy: 0.6939\n",
            "\n",
            "----- Generating text after Epoch: 89\n",
            "----- diversity: 0.2\n",
            "----- Generating with seed: \"ming in a really simple way by a great teacher dr chuck, i even knew all the topics but still enjoyi\"\n",
            "ming in a really simple way by a great teacher dr chuck, i even knew all the topics but still enjoying the course is a great teacher, i was all the course is very good and its really helped me to take this course and the different to the course is very good course for a beginner. it is a great taken to start to the needs to be a very good and its really enjoyable. i had some knows with a specialisation is a great teacher, the course is very good and its really good and it is a great teacher is v\n",
            "----- diversity: 0.5\n",
            "----- Generating with seed: \"ming in a really simple way by a great teacher dr chuck, i even knew all the topics but still enjoyi\"\n",
            "ming in a really simple way by a great teacher dr chuck, i even knew all the topics but still enjoying the best course to take what it teaches you confidence and the teacher is a great taken i was able to dat enjoy the first course is very interesting and helpful. i had already familiar with the teacher is a course and coursera. \" \"i am a great introstrate this course i had a good start to anyone who wants to learn the videos are very clear and some of the book with jourough you many for every b\n",
            "----- diversity: 1.0\n",
            "----- Generating with seed: \"ming in a really simple way by a great teacher dr chuck, i even knew all the topics but still enjoyi\"\n",
            "ming in a really simple way by a great teacher dr chuck, i even knew all the topics but still enjoying the course for those who also faind this course to-them aspent to programming teacher easy and learning about the world. thanks to contan-special through this post if you want to learn to thing that the practick learners, in this course motivate looking foring the course to understand what i can look forward.  it fun to follow, assignments. it all     yed course! even that i kneas for started i\n",
            "----- diversity: 1.2\n",
            "----- Generating with seed: \"ming in a really simple way by a great teacher dr chuck, i even knew all the topics but still enjoyi\"\n",
            "ming in a really simple way by a great teacher dr chuck, i even knew all the topics but still enjoying a perfect time and consimel !\" \"this was my first onlinimymation questions and speckions to alwasy's exerhing. to python\" i will having a ntido nothing vor to to displeauag programs in learning.  \"very borouss. covers an easy to fully if the fuin de coursera. \"good. single more course was, it's who are interesting and should more intusus like me no poing to feeling has as speed. it taken of it \n",
            "\n",
            "Epoch 00090: loss improved from 0.85947 to 0.85847, saving model to /content/gdrive/My Drive/Capstone/Data/\n",
            "Epoch 91/100\n",
            "2362/2362 [==============================] - 29s 12ms/step - loss: 0.8479 - accuracy: 0.7409 - val_loss: 1.0842 - val_accuracy: 0.6955\n",
            "\n",
            "----- Generating text after Epoch: 90\n",
            "----- diversity: 0.2\n",
            "----- Generating with seed: \"nk you for such nice course available to us.this course really help to understand basic of python.th\"\n",
            "nk you for such nice course available to us.this course really help to understand basic of python.thank you for this course that i can all explained in learning python and the contents in this course is a great experience in python that i was a great teacher, he takes it for everybody                                                                                                                                                                                                                       \n",
            "----- diversity: 0.5\n",
            "----- Generating with seed: \"nk you for such nice course available to us.this course really help to understand basic of python.th\"\n",
            "nk you for such nice course available to us.this course really help to understand basic of python.thank you so much. \" \"i really appreciate this course is a very good start python   and makes it to study and easy to understand the concepts and concise learning and excitions for everybody  python is everybody to complete this course, i have all i have anyoun a long grade to teach the courses are super experience to learn the python and also i was about how to programming in a simple because it st\n",
            "----- diversity: 1.0\n",
            "----- Generating with seed: \"nk you for such nice course available to us.this course really help to understand basic of python.th\"\n",
            "nk you for such nice course available to us.this course really help to understand basic of python.thanks too fast aurially \"\"thank you. i have been a preate for how!\" \"great pleay i had learned. thank you!\" \"this course is teaching assignments, prof. ,  that i'm encouraged to wothing this class to teach the teppho patt of python programming. this course deligemed and assignments than some setce. \"excellent languages tooled't attending the very basic program. i already basic it!he hald programmin\n",
            "----- diversity: 1.2\n",
            "----- Generating with seed: \"nk you for such nice course available to us.this course really help to understand basic of python.th\"\n",
            "nk you for such nice course available to us.this course really help to understand basic of python.than es way to everything more easier to this applaying many the code and cheating sumpormed wremiar \"appliacc vive, two first course is very penmors. highly recommended! tatulorains, coursera. structures is suitable to do whan so manner.they as persont, re, happy this course this class introductions. be arrengles learners who sir. i enjoyeme this class to witchis way to packing pay-in any python th\n",
            "\n",
            "Epoch 00091: loss did not improve from 0.85847\n",
            "Epoch 92/100\n",
            "2362/2362 [==============================] - 29s 12ms/step - loss: 0.8483 - accuracy: 0.7414 - val_loss: 1.0893 - val_accuracy: 0.6922\n",
            "\n",
            "----- Generating text after Epoch: 91\n",
            "----- diversity: 0.2\n",
            "----- Generating with seed: \"also incredibly intelligent and capable of conveying such complex ideas and concepts in ways that ar\"\n",
            "also incredibly intelligent and capable of conveying such complex ideas and concepts in ways that are a great course. i am so far the concepts very easy to learn python programming. the instructor is very good and it was a great course. i am a find in this course and the lectures are very good and it was a great course. i am a great experience to the next lecture in the first students without a programming in the programming in python and the lecture in the first start to understand the basics o\n",
            "----- diversity: 0.5\n",
            "----- Generating with seed: \"also incredibly intelligent and capable of conveying such complex ideas and concepts in ways that ar\"\n",
            "also incredibly intelligent and capable of conveying such complex ideas and concepts in ways that are a great course. the course was a very good course to start understanding the concepts in this course and the assignments are very good and i would like to learn programming and he is an amazing too overal by the week so the book. i started to provide the book without a programming in the lets to understand and also great examples.  i completed the course very good and very good at all to underst\n",
            "----- diversity: 1.0\n",
            "----- Generating with seed: \"also incredibly intelligent and capable of conveying such complex ideas and concepts in ways that ar\"\n",
            "also incredibly intelligent and capable of conveying such complex ideas and concepts in ways that are into python was beginner to keep from the book. it course and concepts in a very good introductory for me around this course.  \"yeef lof scapints if you have study, phany, programming is also give the fundamendasing and did to understand. if you are being our with a but incaver. this was aw easy-cals  the course is understanda of dr. chack. i al comment for me.sowateable make surtry understandin\n",
            "----- diversity: 1.2\n",
            "----- Generating with seed: \"also incredibly intelligent and capable of conveying such complex ideas and concepts in ways that ar\"\n",
            "also incredibly intelligent and capable of conveying such complex ideas and concepts in ways that are days bling background po, the material i truly addice. it aighove never good knowherd e still about all queranic quizzes. that many seem a low and very time others and started or a quilliet now. \" wess to programming, do this opgott programming to teaches hapthed. charles sup on at a programming and programming. however,       i wishing the information heppers aga. the pacher into programming. i\n",
            "\n",
            "Epoch 00092: loss did not improve from 0.85847\n",
            "Epoch 93/100\n",
            "2362/2362 [==============================] - 28s 12ms/step - loss: 0.8435 - accuracy: 0.7419 - val_loss: 1.0844 - val_accuracy: 0.6957\n",
            "\n",
            "----- Generating text after Epoch: 92\n",
            "----- diversity: 0.2\n",
            "----- Generating with seed: \"teacher. it is fun to listen to his videos.  it is the best course for learning basics of python or \"\n",
            "teacher. it is fun to listen to his videos.  it is the best course for learning basics of python or coursera for programming language and i would recommend it to anyone who wants to learn programming and i was able to understand and programming in programming and programming in python and the assignments were and continue give you are a great course. i am a great course for beginners with a programmer to be able to complete the course is very good at all of the basics of python and the concepts \n",
            "----- diversity: 0.5\n",
            "----- Generating with seed: \"teacher. it is fun to listen to his videos.  it is the best course for learning basics of python or \"\n",
            "teacher. it is fun to listen to his videos.  it is the best course for learning basics of python or coding without a lot on the skills in the fundamentals. the instructor is very good to learn programming and i was a bit of experience working programming concepts in python, but an excellent course i would say that i can understand and grasp an always thanks to difficult for people who have not many other courses and programming in the first online course. i have been a programming language is ve\n",
            "----- diversity: 1.0\n",
            "----- Generating with seed: \"teacher. it is fun to listen to his videos.  it is the best course for learning basics of python or \"\n",
            "teacher. it is fun to listen to his videos.  it is the best course for learning basics of python or programming for everybody i started durin-le to utreem.shoudd to understand and explaining the first.thanks coursera day!\" regardit. especially the onopiaz sonthor, you will finish and read here. i thoroutly with a wonderful place to get it? new rearop, but the struggle way of teaching in the forum, about the course has been ways that i understand programmes. i did not know how professor charles s\n",
            "----- diversity: 1.2\n",
            "----- Generating with seed: \"teacher. it is fun to listen to his videos.  it is the best course for learning basics of python or \"\n",
            "teacher. it is fun to listen to his videos.  it is the best course for learning basics of python or grasping just don't um and dr. charles severance for even in paris little something. as well severing interact with  handled down while livis; suggedo quite if  anybort for shade many basics of course and python, interviews of different to pussues are prior knowledge from us the taxks are really thought platl, and the confidence to peopen to dusid to take stuinying obe stopping course interact wor\n",
            "\n",
            "Epoch 00093: loss improved from 0.85847 to 0.85755, saving model to /content/gdrive/My Drive/Capstone/Data/\n",
            "Epoch 94/100\n",
            "2362/2362 [==============================] - 30s 13ms/step - loss: 0.8448 - accuracy: 0.7419 - val_loss: 1.0900 - val_accuracy: 0.6926\n",
            "\n",
            "----- Generating text after Epoch: 93\n",
            "----- diversity: 0.2\n",
            "----- Generating with seed: \"sily for every class, which made me learn more from the course. thanks, professor.\" \"absolutely outs\"\n",
            "sily for every class, which made me learn more from the course. thanks, professor.\" \"absolutely outstanding course of the course i have been a beginners who are series of the course and i will be a beginners of the course in the fundamentals of programming and i will be a lot of experience so that i can to experience in the fundamentals of python programming experience is an always learn both manner on how to understand the basics of python. i would like to learn this course and it was a great i\n",
            "----- diversity: 0.5\n",
            "----- Generating with seed: \"sily for every class, which made me learn more from the course. thanks, professor.\" \"absolutely outs\"\n",
            "sily for every class, which made me learn more from the course. thanks, professor.\" \"absolutely outstanding course of the course and i am so excited to start with python. the instructor has been thinks to make the course is very detailed to understand the course \" \"all covers as a fun and everything with computer has perion i feel python for beginners. i would do better those basics of python course and then to anyoul that was an extra success. i had thought i feel the professor who course will \n",
            "----- diversity: 1.0\n",
            "----- Generating with seed: \"sily for every class, which made me learn more from the course. thanks, professor.\" \"absolutely outs\"\n",
            "sily for every class, which made me learn more from the course. thanks, professor.\" \"absolutely outstanding! the professor was mechno! dr scquiting with ncimpanying how to purconmed this is the very bight unding enough, while right past as i had some other courses and simple and interesting, experience for intures of this class and provides higher level we start. his introduction condated confident to understand it and so i did thanks dr. chuck, it is background if doesn't more best assignments \n",
            "----- diversity: 1.2\n",
            "----- Generating with seed: \"sily for every class, which made me learn more from the course. thanks, professor.\" \"absolutely outs\"\n",
            "sily for every class, which made me learn more from the course. thanks, professor.\" \"absolutely outstandise courses how to do this course very great course, has functions,teaftive alrasvarly in this course really, proficity is mentors which instruction. this course wes screselend regard studied computer science. the of explaint instructor i am pumilatiens; and its a wand method at  there alluall course. thanks coursera. i a sincite of python! thanks competauth.this course has best has a great ex\n",
            "\n",
            "Epoch 00094: loss improved from 0.85755 to 0.85666, saving model to /content/gdrive/My Drive/Capstone/Data/\n",
            "Epoch 95/100\n",
            "2362/2362 [==============================] - 29s 12ms/step - loss: 0.8422 - accuracy: 0.7431 - val_loss: 1.0819 - val_accuracy: 0.6963\n",
            "\n",
            "----- Generating text after Epoch: 94\n",
            "----- diversity: 0.2\n",
            "----- Generating with seed: \"to start with informatics.\" \"the course \"\"python for everybody\"\" is a wonderful course and provides \"\n",
            "to start with informatics.\" \"the course \"\"python for everybody\"\" is a wonderful course and provides a lot of experience in some of the course. i am a great course for beginners, thanks a lot of the basics of python programming language and i was able to understand the course and i was able to understand the course. the instructor is a great course. i am a great teacher, the teacher is a great starte programming skills and students who want to learn programming. i have a great teacher, the instru\n",
            "----- diversity: 0.5\n",
            "----- Generating with seed: \"to start with informatics.\" \"the course \"\"python for everybody\"\" is a wonderful course and provides \"\n",
            "to start with informatics.\" \"the course \"\"python for everybody\"\" is a wonderful course and provides are the best programming language and i was a great programmers with it without any presentate of python to the university........ \" \"i think this course is a great experience and study with him is the best programming language and as well as this course is a great programmers to programming, i have all it is a great introduction to programming in python. and the instructor is a beginner with pyth\n",
            "----- diversity: 1.0\n",
            "----- Generating with seed: \"to start with informatics.\" \"the course \"\"python for everybody\"\" is a wonderful course and provides \"\n",
            "to start with informatics.\" \"the course \"\"python for everybody\"\" is a wonderful course and provides   ; .  ; . charles severance. overall, you want to learn python speffre explanations, and second parting course i charles really good and your skill go this course is creating programming lantube what i could not times the course. dr. chuck provides a awis.     and makes its very subject to the next courses.\" \"jubso a high up programs you'll get started python to a very good. i never basic course.\n",
            "----- diversity: 1.2\n",
            "----- Generating with seed: \"to start with informatics.\" \"the course \"\"python for everybody\"\" is a wonderful course and provides \"\n",
            "to start with informatics.\" \"the course \"\"python for everybody\"\" is a wonderful course and provides as well work.madull i have not advas a talle-the \"\"lectures.'t forst technical  quilk apperwerifuct. nutyon pooce \"exceliar in this course was good, exercises to the basics; i startuane of great moteon in students you. really enjoying experience this is free.that's working. thanks\" :   ., \" \"- \"he chuck. additioning course that chainstables withing with. i for mentor!   this course is really with \n",
            "\n",
            "Epoch 00095: loss did not improve from 0.85666\n",
            "Epoch 96/100\n",
            "2362/2362 [==============================] - 29s 12ms/step - loss: 0.8461 - accuracy: 0.7416 - val_loss: 1.0857 - val_accuracy: 0.6958\n",
            "\n",
            "----- Generating text after Epoch: 95\n",
            "----- diversity: 0.2\n",
            "----- Generating with seed: \"e programming, i never got bored with the course.    \" its a very good course for beginning of pytho\"\n",
            "e programming, i never got bored with the course.    \" its a very good course for beginning of python and i think the course is a great course. i am grateful to start learning python or coding language and i was able to understand all the basics of python and the program and the assignments are amazing course for beginners. the instructor is very easy to understand and the assignments are entertaining language. the assignments are easy to understand and i was able to teach python                \n",
            "----- diversity: 0.5\n",
            "----- Generating with seed: \"e programming, i never got bored with the course.    \" its a very good course for beginning of pytho\"\n",
            "e programming, i never got bored with the course.    \" its a very good course for beginning of python is more interesting course and then to explain also interesting and engaging the fundamentals. i would do into a lot of experience working with the basics of programming and the instructor is very good and its a great course.\" \" \"i have taken of the best part of the course and want to start programming and the material and engaging and friendly and understand the concepts and complete the course\n",
            "----- diversity: 1.0\n",
            "----- Generating with seed: \"e programming, i never got bored with the course.    \" its a very good course for beginning of pytho\"\n",
            "e programming, i never got bored with the course.    \" its a very good course for beginning of python. good at taught, quizzes and  \" \"i much amazing on the entertaining about this course that he been improving for this class to go do into it command programing\" \" \"  dr chuck, because some have found the course the.course for python background. i already start the focusted to anybody loved to start and great leffles  well too style onl was about programming you neever to have juat \" \"assignments\n",
            "----- diversity: 1.2\n",
            "----- Generating with seed: \"e programming, i never got bored with the course.    \" its a very good course for beginning of pytho\"\n",
            "e programming, i never got bored with the course.    \" its a very good course for beginning of python at oppers  \" \"a smonts onepiept gearn a lectures are excellent attending the weak have were simple. this course would be exproprok,  the vers! the entire bic ks gives a littend way.\" matent :  python. covers teacher on some exparies and       thie case course  course mudy  as moching this specialization, the, it is also preatly now i felt as bottle week flum to be teaching.thanksing a formany an\n",
            "\n",
            "Epoch 00096: loss did not improve from 0.85666\n",
            "Epoch 97/100\n",
            "2362/2362 [==============================] - 29s 12ms/step - loss: 0.8487 - accuracy: 0.7423 - val_loss: 1.0837 - val_accuracy: 0.6946\n",
            "\n",
            "----- Generating text after Epoch: 96\n",
            "----- diversity: 0.2\n",
            "----- Generating with seed: \"ny beginner can learn and understand. i am happy i just got a good foundation for python the course \"\n",
            "ny beginner can learn and understand. i am happy i just got a good foundation for python the course is very good and happy that my first programming language. i had some knowledge or courses of python in programming and helped me to understand the basics of python. the way he teaches is very good and it was a great teacher. i had some knowledge and the teaching style i was able to complete this course and i was able to work about the learners are awesome and the end of every with python and the \n",
            "----- diversity: 0.5\n",
            "----- Generating with seed: \"ny beginner can learn and understand. i am happy i just got a good foundation for python the course \"\n",
            "ny beginner can learn and understand. i am happy i just got a good foundation for python the course is great to me what i wanted to learn python and programming language and the course was awesome to be a well-structured and their funcistion to get any completely was absolute down interviews.                                                                                                                                                                                                               \n",
            "----- diversity: 1.0\n",
            "----- Generating with seed: \"ny beginner can learn and understand. i am happy i just got a good foundation for python the course \"\n",
            "ny beginner can learn and understand. i am happy i just got a good foundation for python the course is more abone life any other programming language.loved a lot on  i feel clearly and he is trying. i how to make another on. i had he quite you my fullranted is planning the myselp chapter or up foundation.\" in anf  you want to introduction to python and useful going even bessine, in the specializats for ind internient really learning the course.\" \"i had learned some of comfortantle explanations t\n",
            "----- diversity: 1.2\n",
            "----- Generating with seed: \"ny beginner can learn and understand. i am happy i just got a good foundation for python the course \"\n",
            "ny beginner can learn and understand. i am happy i just got a good foundation for python the course and some other courses .thank you.\" \"the trilcinglts that this series teaching this class in coll, but in thisking the fiowerwady and puch cade a great approach as peospory of humoonation about python!\"  but this is difticuate more cluss i up more very misy exposing hore beginnil  help us is well trums.this really luss introduce.. the basics of python can even this quite discused. viduo courses ar\n",
            "\n",
            "Epoch 00097: loss improved from 0.85666 to 0.85655, saving model to /content/gdrive/My Drive/Capstone/Data/\n",
            "Epoch 98/100\n",
            "2362/2362 [==============================] - 29s 12ms/step - loss: 0.8464 - accuracy: 0.7415 - val_loss: 1.0858 - val_accuracy: 0.6944\n",
            "\n",
            "----- Generating text after Epoch: 97\n",
            "----- diversity: 0.2\n",
            "----- Generating with seed: \"d i would like to learn more course from dr chuck, thank you dr chuck for the course.\" it was an ama\"\n",
            "d i would like to learn more course from dr chuck, thank you dr chuck for the course.\" it was an amazing course for beginners and the teacher knows how to programming to programming and study and the teacher knows has the best course. the course is very good at the beginning and the teacher knows havied from the basics of python. the course is very good at the basics of python programming and study and the teacher knowledge in the course. i would recommend this course to anyone who has no backgr\n",
            "----- diversity: 0.5\n",
            "----- Generating with seed: \"d i would like to learn more course from dr chuck, thank you dr chuck for the course.\" it was an ama\"\n",
            "d i would like to learn more course from dr chuck, thank you dr chuck for the course.\" it was an amazing for a lot. i am glad to have the next course! i enjoyed this course for an awesome course to the next course. i am so thankful to learn python and i was need to take the first course in the student to programming and professor severance and the teacher knows how to digest to be helpful complete about the course. however, i will complete this course and the assignments are not have programming\n",
            "----- diversity: 1.0\n",
            "----- Generating with seed: \"d i would like to learn more course from dr chuck, thank you dr chuck for the course.\" it was an ama\"\n",
            "d i would like to learn more course from dr chuck, thank you dr chuck for the course.\" it was an amazing course! thank y ure,if that how on my background to understandly i would recommended this course for programming experience with proncual indee begerd all your misictor ; ?crit hard programming complete beginners.  i am looking to easy pose forsy times\" do the helve for the learners to do them from the time. some of with me   he is not matuybougy intures a giving python and for everyone who k\n",
            "----- diversity: 1.2\n",
            "----- Generating with seed: \"d i would like to learn more course from dr chuck, thank you dr chuck for the course.\" it was an ama\"\n",
            "d i would like to learn more course from dr chuck, thank you dr chuck for the course.\" it was an amazing provides in thein this course, i can to learn python. the foring and usef sure you shotthd of this course in piacap. the cass such a deep like my for her i still frustryth to understand. i just may,bits and python speckforing  mr. thu. i explain realiza in the first lectures but i recommend to mare assignments. the packed, and actually chuck level de beone beginners. i would do codical concip\n",
            "\n",
            "Epoch 00098: loss did not improve from 0.85655\n",
            "Epoch 99/100\n",
            "2362/2362 [==============================] - 29s 12ms/step - loss: 0.8413 - accuracy: 0.7427 - val_loss: 1.0863 - val_accuracy: 0.6942\n",
            "\n",
            "----- Generating text after Epoch: 98\n",
            "----- diversity: 0.2\n",
            "----- Generating with seed: \" coursera...:      \" it was so good to learn the basics of python with such an enthusiastic teacher!\"\n",
            " coursera...:      \" it was so good to learn the basics of python with such an enthusiastic teacher! thank you so much!\" \"this course is very good course for beginners. the course was a great course. i am so far the course in a very beginners who wants to learn python programming experience and programming background interesting. it was a great course. i am some programming and programming easy to understand and the same python course and also i would recommend this course to anyone who wants to\n",
            "----- diversity: 0.5\n",
            "----- Generating with seed: \" coursera...:      \" it was so good to learn the basics of python with such an enthusiastic teacher!\"\n",
            " coursera...:      \" it was so good to learn the basics of python with such an enthusiastic teacher! i would have been a beginner with python in little student and the assignments and the basics of python. it was a great platform to understand with my first course with the programming before a coupse i would recommend this course to anyone who wants to start with python and do not feel perfect first step in programming and learn a basic in programming. i will peeper the course. it is a great cla\n",
            "----- diversity: 1.0\n",
            "----- Generating with seed: \" coursera...:      \" it was so good to learn the basics of python with such an enthusiastic teacher!\"\n",
            " coursera...:      \" it was so good to learn the basics of python with such an enthusiastic teacher! i cuncales out interested. i'm really good and it's very helpfor it easy with more every boticalite in python \" if you have got all the content and properities is simple sory quizzes videon and useful and learned and interested in learning to code as topic. \" \"dritchic informities to with make the basics of python programming course by handsive   you may be all coos on briod.charle faully. there \n",
            "----- diversity: 1.2\n",
            "----- Generating with seed: \" coursera...:      \" it was so good to learn the basics of python with such an enthusiastic teacher!\"\n",
            " coursera...:      \" it was so good to learn the basics of python with such an enthusiastic teacher!\" this visuo-warting for me this course is awesome. it was great forum topics with nexivelance days. but of coursera \"work, i've this introductoons arine infromed diffeser easely hengs of programming, even tomait is interuct quality to python programach were going as python or any portand becifme oblonely naw \"\"witly.\" mightied alone this course textible happt-think for everyone!!!\" \"the course do\n",
            "\n",
            "Epoch 00099: loss improved from 0.85655 to 0.85600, saving model to /content/gdrive/My Drive/Capstone/Data/\n",
            "Epoch 100/100\n",
            "2362/2362 [==============================] - 29s 12ms/step - loss: 0.8475 - accuracy: 0.7417 - val_loss: 1.0881 - val_accuracy: 0.6939\n",
            "\n",
            "----- Generating text after Epoch: 99\n",
            "----- diversity: 0.2\n",
            "----- Generating with seed: \"urse, you will get basic idea about python and  you can enroll for different python courses to deep \"\n",
            "urse, you will get basic idea about python and  you can enroll for different python courses to deep up the concepts with the course. the course is very good and it was a great teacher with the concepts in the course. the course is very helpful for those who are new to programming with python and the teaching style of teaching method in programming. the course is great and i will continue to the next course i have the teaching style of teaching is started with python better. the course is very go\n",
            "----- diversity: 0.5\n",
            "----- Generating with seed: \"urse, you will get basic idea about python and  you can enroll for different python courses to deep \"\n",
            "urse, you will get basic idea about python and  you can enroll for different python courses to deep up i felt actually more interesting and i would like to start how to the next course. the most one don't think and the basics of python for everybody  you are not real going the knowledge i started the course. i had the things and the explanation the concepts in python of explaining the concepts in my college. and the way they was afraider and the graden leading that more teaching style for people\n",
            "----- diversity: 1.0\n",
            "----- Generating with seed: \"urse, you will get basic idea about python and  you can enroll for different python courses to deep \"\n",
            "urse, you will get basic idea about python and  you can enroll for different python courses to deep like even the lectures supented those good course for a with. i highly recommend it also for every weekle coulded for the beginnicage very good sharpations that we studing the concepts in the course.\" assignment would be beginning pir and the world of cook to review of people! \" \"efficients the graden for beginner by friends and you have to learn!\" this course is ones an accies off course.i had te\n",
            "----- diversity: 1.2\n",
            "----- Generating with seed: \"urse, you will get basic idea about python and  you can enroll for different python courses to deep \"\n",
            "urse, you will get basic idea about python and  you can enroll for different python courses to deep and now alleate laste just \"\"importones, \" \"say, moteonecous and am suthonts but slool to get the material for someticaming experience and useful skesses it\"\"  one off chumks to big d : \" thanks to the course, you did gle easy to follow. just thankful to give the course and even so this course.i actiokm to learn pord with tither arrenglmed for python resulps.  the lecture. this course challes and \n",
            "\n",
            "Epoch 00100: loss did not improve from 0.85600\n"
          ],
          "name": "stdout"
        }
      ]
    },
    {
      "cell_type": "code",
      "metadata": {
        "id": "41IEi0UmjldS"
      },
      "source": [
        ""
      ],
      "execution_count": null,
      "outputs": []
    },
    {
      "cell_type": "code",
      "metadata": {
        "id": "w95MxjMCImDF"
      },
      "source": [
        ""
      ],
      "execution_count": null,
      "outputs": []
    },
    {
      "cell_type": "code",
      "metadata": {
        "id": "-ptq15ArYBcb"
      },
      "source": [
        "# when epoch increases "
      ],
      "execution_count": null,
      "outputs": []
    },
    {
      "cell_type": "code",
      "metadata": {
        "id": "kUfGtuiIYBcb"
      },
      "source": [
        ""
      ],
      "execution_count": null,
      "outputs": []
    },
    {
      "cell_type": "markdown",
      "metadata": {
        "id": "7ASEbkDrYBcb"
      },
      "source": [
        "### 9. evaluating performance of model"
      ]
    },
    {
      "cell_type": "code",
      "metadata": {
        "colab": {
          "base_uri": "https://localhost:8080/"
        },
        "id": "n2LEUqFvdEh8",
        "outputId": "fc1522e4-6e93-45cd-a116-f18575ac20ed"
      },
      "source": [
        "print(history.history.keys())"
      ],
      "execution_count": 24,
      "outputs": [
        {
          "output_type": "stream",
          "text": [
            "dict_keys(['loss', 'accuracy', 'val_loss', 'val_accuracy', 'lr'])\n"
          ],
          "name": "stdout"
        }
      ]
    },
    {
      "cell_type": "code",
      "metadata": {
        "colab": {
          "base_uri": "https://localhost:8080/"
        },
        "id": "lMLs-7JyYBcb",
        "outputId": "b8415b92-d241-4a13-8442-7fbfa7d116d4"
      },
      "source": [
        "train_Loss, train_Accuracy = model_ckpt.evaluate(X_train, y_train, verbose=2)"
      ],
      "execution_count": 25,
      "outputs": [
        {
          "output_type": "stream",
          "text": [
            "9445/9445 - 25s - loss: 0.8260 - accuracy: 0.7478\n"
          ],
          "name": "stdout"
        }
      ]
    },
    {
      "cell_type": "code",
      "metadata": {
        "colab": {
          "base_uri": "https://localhost:8080/",
          "height": 419
        },
        "id": "3Q2fmTNBYBcc",
        "outputId": "ff1a9f9b-a29c-4c4d-aa96-50745f181898"
      },
      "source": [
        "plt.figure(figsize=(12,6))\n",
        "plt.rcParams['font.size'] = '16'\n",
        "plt.plot(history.history['accuracy'], label='Accuracy', lw=2)\n",
        "plt.xlabel('Count of Epoch')\n",
        "plt.ylabel('Accuracy')\n",
        "plt.title('Accuracy over count of Epochs', fontsize=20)\n",
        "plt.legend();"
      ],
      "execution_count": 26,
      "outputs": [
        {
          "output_type": "display_data",
          "data": {
            "image/png": "[encoded data removed]",
            "text/plain": [
              "<Figure size 864x432 with 1 Axes>"
            ]
          },
          "metadata": {
            "tags": [],
            "needs_background": "light"
          }
        }
      ]
    },
    {
      "cell_type": "code",
      "metadata": {
        "colab": {
          "base_uri": "https://localhost:8080/",
          "height": 437
        },
        "id": "ZftL8Z9oYBcc",
        "outputId": "ab79675d-3558-4ebf-d5ea-0e7bfdc37ee8"
      },
      "source": [
        "plt.figure(figsize=(12,6))\n",
        "plt.plot(history.history['loss'], lw=2, color='red')\n",
        "plt.xlabel('Count of Epoch')\n",
        "plt.ylabel('loss')\n",
        "plt.title('loss over count of Epochs', fontsize=20)\n",
        "plt.legend();"
      ],
      "execution_count": 27,
      "outputs": [
        {
          "output_type": "stream",
          "text": [
            "No handles with labels found to put in legend.\n"
          ],
          "name": "stderr"
        },
        {
          "output_type": "display_data",
          "data": {
            "image/png": "[encoded data removed]",
            "text/plain": [
              "<Figure size 864x432 with 1 Axes>"
            ]
          },
          "metadata": {
            "tags": [],
            "needs_background": "light"
          }
        }
      ]
    },
    {
      "cell_type": "code",
      "metadata": {
        "colab": {
          "base_uri": "https://localhost:8080/"
        },
        "id": "g4fwjuEOYBcc",
        "outputId": "3d2465e2-51da-47e0-e1d9-eb20223e24f0"
      },
      "source": [
        "test_Loss, test_Accuracy = model_ckpt.evaluate(X_test, y_test, verbose=2)"
      ],
      "execution_count": 28,
      "outputs": [
        {
          "output_type": "stream",
          "text": [
            "3149/3149 - 9s - loss: 1.0881 - accuracy: 0.6939\n"
          ],
          "name": "stdout"
        }
      ]
    },
    {
      "cell_type": "code",
      "metadata": {
        "colab": {
          "base_uri": "https://localhost:8080/",
          "height": 419
        },
        "id": "WRADY3MGYBcc",
        "outputId": "2ea6b1b7-73c8-4071-e4b9-20386f9c5033"
      },
      "source": [
        "plt.figure(figsize=(12,6))\n",
        "plt.plot(history.history['val_accuracy'], label='Accuracy', lw=2, color='skyblue')\n",
        "plt.xlabel('Count of Epoch')\n",
        "plt.ylabel('Validation Accuracy')\n",
        "plt.title('Validation Accuracy over count of Epochs', fontsize=20)\n",
        "plt.legend();"
      ],
      "execution_count": 29,
      "outputs": [
        {
          "output_type": "display_data",
          "data": {
            "image/png": "[encoded data removed]",
            "text/plain": [
              "<Figure size 864x432 with 1 Axes>"
            ]
          },
          "metadata": {
            "tags": [],
            "needs_background": "light"
          }
        }
      ]
    },
    {
      "cell_type": "code",
      "metadata": {
        "colab": {
          "base_uri": "https://localhost:8080/",
          "height": 419
        },
        "id": "AAFBrBNSYBcc",
        "outputId": "43917cec-23bb-4464-c585-39954212a922"
      },
      "source": [
        "plt.figure(figsize=(12,6))\n",
        "plt.plot(history.history['val_loss'], lw=2, label='Val_loss', color='orange')\n",
        "plt.xlabel('Count of Epoch')\n",
        "plt.ylabel('Validation loss')\n",
        "plt.title('Validation loss over count of Epochs', fontsize=20)\n",
        "plt.legend();"
      ],
      "execution_count": 30,
      "outputs": [
        {
          "output_type": "display_data",
          "data": {
            "image/png": "[encoded data removed]",
            "text/plain": [
              "<Figure size 864x432 with 1 Axes>"
            ]
          },
          "metadata": {
            "tags": [],
            "needs_background": "light"
          }
        }
      ]
    },
    {
      "cell_type": "code",
      "metadata": {
        "colab": {
          "base_uri": "https://localhost:8080/",
          "height": 419
        },
        "id": "i-hUIZuEYBcc",
        "outputId": "90893332-683e-41e4-8a53-6712e7043e93"
      },
      "source": [
        "### Combine both plots\n",
        "\n",
        "plt.figure(figsize=(12,6))\n",
        "plt.rcParams['font.size'] = '16'\n",
        "plt.plot(history.history['accuracy'], label='Accuracy', lw=2, color='blue')\n",
        "plt.plot(history.history['val_accuracy'], label='val Accuracy', lw=2, color = 'skyblue')\n",
        "plt.xlabel('Count of Epoch')\n",
        "plt.ylabel('Accuracy')\n",
        "plt.title('Accuracy over count of Epochs', fontsize=20)\n",
        "plt.legend();"
      ],
      "execution_count": 31,
      "outputs": [
        {
          "output_type": "display_data",
          "data": {
            "image/png": "[encoded data removed]",
            "text/plain": [
              "<Figure size 864x432 with 1 Axes>"
            ]
          },
          "metadata": {
            "tags": [],
            "needs_background": "light"
          }
        }
      ]
    },
    {
      "cell_type": "code",
      "metadata": {
        "colab": {
          "base_uri": "https://localhost:8080/",
          "height": 437
        },
        "id": "YTIWEy9DYBcd",
        "outputId": "c9a9ba06-3441-4666-b952-3272f784048b"
      },
      "source": [
        "plt.figure(figsize=(12,6))\n",
        "plt.plot(history.history['loss'], lw=2, color='red')\n",
        "plt.plot(history.history['val_loss'], lw=2, color='orange')\n",
        "plt.xlabel('Count of Epoch')\n",
        "plt.ylabel('loss')\n",
        "plt.title('loss over count of Epochs', fontsize=20)\n",
        "plt.legend();"
      ],
      "execution_count": 32,
      "outputs": [
        {
          "output_type": "stream",
          "text": [
            "No handles with labels found to put in legend.\n"
          ],
          "name": "stderr"
        },
        {
          "output_type": "display_data",
          "data": {
            "image/png": "[encoded data removed]",
            "text/plain": [
              "<Figure size 864x432 with 1 Axes>"
            ]
          },
          "metadata": {
            "tags": [],
            "needs_background": "light"
          }
        }
      ]
    },
    {
      "cell_type": "markdown",
      "metadata": {
        "id": "-cnacZpKYBcd"
      },
      "source": [
        "### 10. Loading my pre-trained weights to resume training"
      ]
    },
    {
      "cell_type": "code",
      "metadata": {
        "id": "z6JzP2NyYBcd",
        "colab": {
          "base_uri": "https://localhost:8080/"
        },
        "outputId": "d4d0a34b-ba63-4acd-8efc-077ad41173bd"
      },
      "source": [
        "# Instantiate my new model\n",
        "model_ckpt2 = create_model()\n",
        "\n",
        "# load the saved weights into my instantiated model\n",
        "#\n",
        "model_ckpt2.load_weights(filepath)"
      ],
      "execution_count": null,
      "outputs": [
        {
          "output_type": "execute_result",
          "data": {
            "text/plain": [
              "<tensorflow.python.training.tracking.util.CheckpointLoadStatus at 0x7f513198b190>"
            ]
          },
          "metadata": {
            "tags": []
          },
          "execution_count": 21
        }
      ]
    },
    {
      "cell_type": "code",
      "metadata": {
        "id": "G6eOy0TgYBcd",
        "colab": {
          "base_uri": "https://localhost:8080/",
          "height": 166
        },
        "outputId": "b554be9f-7ae2-4016-9ece-08d77e1ce9c2"
      },
      "source": [
        "# resume the training\n",
        "\n",
        "model_ckpt2.fit(X_train, y_train, batch_size=128, epochs=131, validation_data =(X_test, y_test),callbacks=callbacks))"
      ],
      "execution_count": null,
      "outputs": [
        {
          "output_type": "error",
          "ename": "SyntaxError",
          "evalue": "ignored",
          "traceback": [
            "\u001b[0;36m  File \u001b[0;32m\"<ipython-input-22-5cc12895782c>\"\u001b[0;36m, line \u001b[0;32m3\u001b[0m\n\u001b[0;31m    model_ckpt2.fit(X_train, y_train, batch_size=128, epochs=131, validation_data =(X_test, y_test),callbacks=callbacks))\u001b[0m\n\u001b[0m                                                                                                                        ^\u001b[0m\n\u001b[0;31mSyntaxError\u001b[0m\u001b[0;31m:\u001b[0m invalid syntax\n"
          ]
        }
      ]
    },
    {
      "cell_type": "code",
      "metadata": {
        "id": "uJ9KsWYhYBcd"
      },
      "source": [
        "train_Loss, train_Accuracy = model_ckpt2.evaluate(X_train, y_train, verbose=2)"
      ],
      "execution_count": null,
      "outputs": []
    },
    {
      "cell_type": "code",
      "metadata": {
        "id": "HOh20i6eYBcd"
      },
      "source": [
        "test_Loss, test_Accuracy = model_ckpt2.evaluate(X_test, y_test, verbose=2)"
      ],
      "execution_count": null,
      "outputs": []
    },
    {
      "cell_type": "markdown",
      "metadata": {
        "id": "3zkv9Zm6YBcd"
      },
      "source": [
        "### 11.Try generating text using help from keras.io"
      ]
    },
    {
      "cell_type": "code",
      "metadata": {
        "colab": {
          "base_uri": "https://localhost:8080/",
          "height": 131
        },
        "id": "d6K3lzqRYBce",
        "outputId": "c21ef599-5e5d-4507-a467-10382aaf7145"
      },
      "source": [
        "### Functions obtained from keras.io to help te\n",
        "### to help predict the"
      ],
      "execution_count": null,
      "outputs": [
        {
          "output_type": "error",
          "ename": "IndentationError",
          "evalue": "ignored",
          "traceback": [
            "\u001b[0;36m  File \u001b[0;32m\"<ipython-input-46-dec5ee63925c>\"\u001b[0;36m, line \u001b[0;32m2\u001b[0m\n\u001b[0;31m    - to help predict the\u001b[0m\n\u001b[0m    ^\u001b[0m\n\u001b[0;31mIndentationError\u001b[0m\u001b[0;31m:\u001b[0m unexpected indent\n"
          ]
        }
      ]
    },
    {
      "cell_type": "code",
      "metadata": {
        "id": "a0ACLjxUYBce"
      },
      "source": [
        "def sample(preds, temperature=1.0):\n",
        "    # helper function to sample an index from a probability array\n",
        "    preds = np.asarray(preds).astype('float64')\n",
        "    preds = np.log(preds) / temperature\n",
        "    exp_preds = np.exp(preds)\n",
        "    preds = exp_preds / np.sum(exp_preds)\n",
        "    probas = np.random.multinomial(1, preds, 1)\n",
        "    return np.argmax(probas)"
      ],
      "execution_count": 33,
      "outputs": []
    },
    {
      "cell_type": "code",
      "metadata": {
        "id": "S7Oi_EvUYBce"
      },
      "source": [
        "\n",
        "def on_epoch_end(epoch, logs):\n",
        "    # Function invoked at end of each epoch. Prints generated text.\n",
        "    print()\n",
        "    print('----- Generating text after Epoch: %d' % epoch)\n",
        "\n",
        "    start_index = random.randint(0, len(text) - maxlen - 1)\n",
        "    for diversity in [0.2, 0.5, 1.0, 1.2]:\n",
        "        print('----- diversity:', diversity)\n",
        "\n",
        "        generated = ''\n",
        "        sentence = text[start_index: start_index + maxlen]\n",
        "        generated += sentence\n",
        "        print('----- Generating with seed: \"' + sentence + '\"')\n",
        "        sys.stdout.write(generated)\n",
        "\n",
        "        for i in range(400):\n",
        "            x_pred = np.zeros((1, maxlen, len(chars)))\n",
        "            for t, char in enumerate(sentence):\n",
        "                x_pred[0, t, char_indices[char]] = 1.\n",
        "\n",
        "            preds = model.predict(x_pred, verbose=0)[0]\n",
        "            next_index = sample(preds, diversity)\n",
        "            next_char = indices_char[next_index]\n",
        "\n",
        "            generated += next_char\n",
        "            sentence = sentence[1:] + next_char\n",
        "\n",
        "            sys.stdout.write(next_char)\n",
        "            sys.stdout.flush()\n",
        "        print()\n",
        "print_callback = LambdaCallback(on_epoch_end=on_epoch_end)"
      ],
      "execution_count": 34,
      "outputs": []
    },
    {
      "cell_type": "code",
      "metadata": {
        "id": "AbFdWBnRYBce"
      },
      "source": [
        "def generate_text(length, diversity):\n",
        "    # Get random starting text\n",
        "    start_index = random.randint(0, len(text) - maxlen - 1)\n",
        "    generated = ''\n",
        "    sentence = text[start_index: start_index + maxlen]\n",
        "    generated += sentence\n",
        "    for i in range(length):\n",
        "            x_pred = np.zeros((1, maxlen, len(chars)))\n",
        "            for t, char in enumerate(sentence):\n",
        "                x_pred[0, t, char_indices[char]] = 1.\n",
        "\n",
        "            preds = model_ckpt.predict(x_pred, verbose=0)[0]\n",
        "            next_index = sample(preds, diversity)\n",
        "            next_char = indices_char[next_index]\n",
        "\n",
        "            generated += next_char\n",
        "            sentence = sentence[1:] + next_char\n",
        "    return generated"
      ],
      "execution_count": 35,
      "outputs": []
    },
    {
      "cell_type": "code",
      "metadata": {
        "colab": {
          "base_uri": "https://localhost:8080/"
        },
        "id": "nLSE9rTGYBcf",
        "outputId": "a2b9741d-a7ea-40b0-d962-b0386d8e23f2"
      },
      "source": [
        "print(generate_text(500, 0.2))"
      ],
      "execution_count": 36,
      "outputs": [
        {
          "output_type": "stream",
          "text": [
            "g\"\" is very challenging but dr. charles manged to present it in a simplest possible way. with zero english you can continue with the course is really a great reviewso i am so traded to be so full the course is really a great teacher who are engaging and have the next lessons and study weeks to be sure to the university of michigan. i learned the course is very good and you will be understand the concepts in this course with the course is really a great course. the course is very good and it is a great teacher who are simply and easy to understand some code is not sure i have all you the basics\n"
          ],
          "name": "stdout"
        }
      ]
    },
    {
      "cell_type": "code",
      "metadata": {
        "colab": {
          "base_uri": "https://localhost:8080/"
        },
        "id": "wZkuPj6Kj5FH",
        "outputId": "1ed3b26a-09ec-4487-838c-0d02fda549f4"
      },
      "source": [
        "print(generate_text(500, 0.5))"
      ],
      "execution_count": 37,
      "outputs": [
        {
          "output_type": "stream",
          "text": [
            "ncepts of python, solved every assignments and programming quizzes. it's really helped me in understandable and easy to understand at the first speciflis seem. this course is a great teacher, i think the things and the lectures are very interesting and i was nearly great for beginners and the exercises and the course is gaid work for the first course is very good at explaining the concepts in every week or not and much more concepts of programming from the basics of python while i could have the university of michigan for making the course but was fun and easy to understand the course is previ\n"
          ],
          "name": "stdout"
        }
      ]
    },
    {
      "cell_type": "code",
      "metadata": {
        "colab": {
          "base_uri": "https://localhost:8080/"
        },
        "id": "oOnWrHgnim_V",
        "outputId": "46f4e76b-15b6-46e9-9d19-05f71a4836f5"
      },
      "source": [
        "print(generate_text(500, 1))"
      ],
      "execution_count": 38,
      "outputs": [
        {
          "output_type": "stream",
          "text": [
            "was a very good beginner course to programming. i have had a introductory course for c programming about where the concept and you dignt :   \"great course for beginners   just to take this course for something, i completed matlif some courses by charles coverfolevery materials and computer science and the course. view gives the lectures is just to the text things clear understandal language and the way.higntent fan, it! i'm skill they not interesting through the mysical so confident to familial do the concepts in python on siffectaking way buillyng and explore to skicl and your studyne solo\"\"\"\n"
          ],
          "name": "stdout"
        }
      ]
    },
    {
      "cell_type": "code",
      "metadata": {
        "colab": {
          "base_uri": "https://localhost:8080/"
        },
        "id": "6GhtUDQYqtqx",
        "outputId": "6205e3a3-fed9-4a53-be23-3d18b5553e8d"
      },
      "source": [
        "print(generate_text(1000, 0.2))"
      ],
      "execution_count": 39,
      "outputs": [
        {
          "output_type": "stream",
          "text": [
            "he code doesn't run even after multiple attempts; take a break, have some fresh air and try again. the way they way of the course is very good and the lectures are so excellent that you are amazing from the basics of python before. the course is very good to the next courses and the exercises are very interesting and the exercises are very well paced. the course is a great teacher, i will learn more are easy to understand at the very basics of python because i am so thankful that the course is very good and it is a great teacher who are simply and exceptional instructor severance is a great teacher which is a great teacher who are engaging and i will definitely recommend this course to anyone who wants to learn python is great and the teaching style of teaching is a great teacher for me to start the course. the course is great and i will continue to the next lectures and the explanations and the lectures in the fundamentals and makes it easy to understand. the teaching style of teaching is a great teacher and the concepts in the course is really good and start to the next starting pa\n"
          ],
          "name": "stdout"
        }
      ]
    },
    {
      "cell_type": "code",
      "metadata": {
        "colab": {
          "base_uri": "https://localhost:8080/"
        },
        "id": "WrkOY8HjkSEh",
        "outputId": "ec16eb2e-a41e-4655-e1fd-f51feafea80b"
      },
      "source": [
        "print(generate_text(1000, 0.5))"
      ],
      "execution_count": 40,
      "outputs": [
        {
          "output_type": "stream",
          "text": [
            "en he can understand the concepts of programming. now he is a position to write small programs. we als got a good course for all that i can all interviews with coding for the course. the course and i was fur the control lectures are very useful and you different learning experience and the exercises with the course. and i am very great jok, but not complete the course is a great learning all i alpry is the or a very simple and concepts or coding and every moticthon through to experience. \" \"i really appreciate the course is very find at the structured in this course is really enthusiastions and also help us the concepts in a way that i found the course to be completing the course is also even for looking to start for the course and i wish the foundation for making this course and the lectures are very interesting and the explanations which has a great reviewsor course is very interesting. i am so confident to the next course for those who have not an amazing course i would recommend this course to anyone who wants to learn but i wanted to learn programming for everybody  i completed \n"
          ],
          "name": "stdout"
        }
      ]
    },
    {
      "cell_type": "code",
      "metadata": {
        "colab": {
          "base_uri": "https://localhost:8080/"
        },
        "id": "cENfLeUvinGa",
        "outputId": "758fca82-453c-48d4-b60a-5dec94959408"
      },
      "source": [
        "print(generate_text(1000, 1))"
      ],
      "execution_count": 41,
      "outputs": [
        {
          "output_type": "stream",
          "text": [
            "sera for the course!! \"the course was well laid out to build your skills in a seamless progression. was fart that year \"\" \" \"like this course! the texthe got un viden for the knowledge to get into the material. good that detailing by the programming for everybody.  i think a  and chatring to study with condininglything for helpation... consideren ropy, he present this course . a lot! charles severance's planns in this course. but if so immectly enough humo\"\" read as the knowleded to understand follow the course is word to get an interesting in practical.i have never to fix to python as well as more very nice for achial and the information opportunate from.the provided elp abont maincied is speed reading the greates. the graden attending it for applying no prhough some the foundation.\" this is awerome in greathing to start for saudh comparisibable. don't will have enrors. i cuntitiona sy to connect explained. thank you. i would like to learning python but i still to pats.  \"the instructor is easy and motivating and its in university.  this was on coursera about the book allowed a lat \n"
          ],
          "name": "stdout"
        }
      ]
    },
    {
      "cell_type": "code",
      "metadata": {
        "colab": {
          "base_uri": "https://localhost:8080/"
        },
        "id": "pcn4jJTakyIC",
        "outputId": "d0762020-113e-4f30-ee62-d8279e4d76b1"
      },
      "source": [
        "print(generate_text(2000, 1))"
      ],
      "execution_count": 42,
      "outputs": [
        {
          "output_type": "stream",
          "text": [
            "\"learning the basics of programming computers using python has been fun in the past few weeks. though i cuncentle some time, organized end informative the forums, even if you are well. the practices. \" \"hard material class i think i love this course for fun for learning python  and this is the first course will materials, continue get,'taken: and i learning with computer science could be askinler background on coursera! also a great course.  the encage and not to get a programming in funcential terms in the gool with the opportunity. very helpful, and other for mentory so familiars inspiring  the class in best online courses i'm poosle, looking to understand the basics of programming. this first time. that was forcher out my saterally more advanced in the courses for the very basics of what very non-proviom.\" \"loved this course i've started to cading was clear end under to and mentor simplistor for the notes, computer science constapting term. i knows a regres thanks programming expence stuff to study and bass to understand manner i scientive should nover this course is actually my lectures appreciate the basic linner back, and useful, in to briloizat from the resul with programming. it was i can livisyso other videos are many to could for mesion. i will complete the first course, such a minds to  dr. chuck. all you are the course and also only given to take more you dr.charles severance for me. besifme learning and it is ramemes course. i learned a lot first edience. the same entimely it is designed.  this course was very helpful for me..\" \"i have learned this course explains complece with the assignment day to understand. the teachir who arrillep but absolutely  \" \"it ise. thanks to not accopy keptub.   if you are non personalcer, becors for basic programming language classed the goobly   read some basic programming, concepts or programming with scope, i am very much you for beginners with readop thanks!\" \"this course is evely interesting a titlien all aither.thanks a getting started to the content about the videos!  so mr. sit course i learned. i had looking fo\n"
          ],
          "name": "stdout"
        }
      ]
    },
    {
      "cell_type": "code",
      "metadata": {
        "id": "dYZXgRXArqFi"
      },
      "source": [
        "generated1 = generate_text(1000, 1)"
      ],
      "execution_count": 43,
      "outputs": []
    },
    {
      "cell_type": "code",
      "metadata": {
        "id": "49km-LShrQ2v"
      },
      "source": [
        "from textblob import TextBlob"
      ],
      "execution_count": 44,
      "outputs": []
    },
    {
      "cell_type": "code",
      "metadata": {
        "colab": {
          "base_uri": "https://localhost:8080/"
        },
        "id": "Tg9vrivVrlN9",
        "outputId": "7ade2f6b-95e0-4b56-bcdb-56b78a49ad25"
      },
      "source": [
        "b = TextBlob(generated1)\n",
        "b.correct()"
      ],
      "execution_count": 45,
      "outputs": [
        {
          "output_type": "execute_result",
          "data": {
            "text/plain": [
              "TextBlob(\"eat. also i would like to suggest to make several mind quires regarding the topics if the lectures and the envignaning basis and the end. the exercises are very good course and its just been engaged me to understand. i am an excellent strut in sides to take, he the instructor is very good to go through successfully no mid. used to the instructor is very interesting enlisted my basis. i am books in ride the course is one background.i loved. that seemshare for are give in patron. i am feet thank you prof chuck for practice appreciating this course will need to happen are very friendly language big and interesting. also, i also like the course i would like to slow-rum more forme world und us my opportunions professor and string asked and the specialization code simple fun in coming language varualike and programming language. \" \"it's able to have   i think of staining background is first course had even he these. the course materials are set of patron in programming.dared with no programming if i will likes to provided atom to teach many functions of the course is great at\")"
            ]
          },
          "metadata": {
            "tags": []
          },
          "execution_count": 45
        }
      ]
    },
    {
      "cell_type": "code",
      "metadata": {
        "colab": {
          "base_uri": "https://localhost:8080/"
        },
        "id": "YSPIoR8dlPam",
        "outputId": "4c774aec-c789-4549-b066-9491022e78d7"
      },
      "source": [
        "generated2 = generate_text(200, 1)\n",
        "\n",
        "b2 = TextBlob(generated2)\n",
        "b2.correct()"
      ],
      "execution_count": 46,
      "outputs": [
        {
          "output_type": "execute_result",
          "data": {
            "text/plain": [
              "TextBlob(\" this course, one with completely no background with programming should be sufficient in creating his met oft study would interesting for someone who are tries to course. there are logic, not to professor course programming. \"thank you dr.chuck fantamans related and too more, but the code is a\")"
            ]
          },
          "metadata": {
            "tags": []
          },
          "execution_count": 46
        }
      ]
    },
    {
      "cell_type": "code",
      "metadata": {
        "id": "2LkAXW7Bl7kC",
        "colab": {
          "base_uri": "https://localhost:8080/"
        },
        "outputId": "ac09b1ce-fd4c-4ddb-f7c6-1daf87b9a49a"
      },
      "source": [
        "generated3 = generate_text(300, 1)\n",
        "\n",
        "b3 = TextBlob(generated3)\n",
        "b3.correct()"
      ],
      "execution_count": 47,
      "outputs": [
        {
          "output_type": "execute_result",
          "data": {
            "text/plain": [
              "TextBlob(\"all the subject, it is funny and has a lot of experience. \" \"a good course to start in patron, whether when you in. i had taken of the beginning.this course is a well-than small manner!\" \"i got to take other too code to be belong after the whole time and recommend it to understand presented for those who are not discussion.\" \"a great pack in the fun course for bean into course learning more or\")"
            ]
          },
          "metadata": {
            "tags": []
          },
          "execution_count": 47
        }
      ]
    },
    {
      "cell_type": "code",
      "metadata": {
        "id": "CeewXfJ6rlEQ"
      },
      "source": [
        ""
      ],
      "execution_count": null,
      "outputs": []
    },
    {
      "cell_type": "markdown",
      "metadata": {
        "id": "oB3P3cpRH8jt"
      },
      "source": [
        ""
      ]
    }
  ]
}