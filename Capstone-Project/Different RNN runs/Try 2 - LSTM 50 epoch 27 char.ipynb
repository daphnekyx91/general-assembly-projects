{
  "nbformat": 4,
  "nbformat_minor": 0,
  "metadata": {
    "kernelspec": {
      "display_name": "Python 3",
      "language": "python",
      "name": "python3"
    },
    "language_info": {
      "codemirror_mode": {
        "name": "ipython",
        "version": 3
      },
      "file_extension": ".py",
      "mimetype": "text/x-python",
      "name": "python",
      "nbconvert_exporter": "python",
      "pygments_lexer": "ipython3",
      "version": "3.8.5"
    },
    "colab": {
      "name": "Checkpoints-Part 4 - 50 epochs.ipynb",
      "provenance": [],
      "collapsed_sections": [],
      "toc_visible": true
    },
    "accelerator": "GPU"
  },
  "cells": [
    {
      "cell_type": "markdown",
      "metadata": {
        "id": "J3bbjzTHYBcN"
      },
      "source": [
        "### Content"
      ]
    },
    {
      "cell_type": "markdown",
      "metadata": {
        "id": "gt0Nk6IcYBcT"
      },
      "source": [
        "### 1.  Mounting the google drive to google colab"
      ]
    },
    {
      "cell_type": "code",
      "metadata": {
        "colab": {
          "base_uri": "https://localhost:8080/"
        },
        "id": "BBpKtYn3YBcU",
        "outputId": "e29ec96f-e0f9-48a2-ca97-bdb0e315f24f"
      },
      "source": [
        "# mounting the my googledrive to google.colab\n",
        "# this is needed to save my weights, Neural Network model while it is running\n",
        "# the model, weights can be accessed at a later time if google colab disconnects\n",
        "\n",
        "from google.colab import drive\n",
        "drive.mount('/content/gdrive')"
      ],
      "execution_count": 1,
      "outputs": [
        {
          "output_type": "stream",
          "text": [
            "Mounted at /content/gdrive\n"
          ],
          "name": "stdout"
        }
      ]
    },
    {
      "cell_type": "markdown",
      "metadata": {
        "id": "-qoa-MVbYBcU"
      },
      "source": [
        "### 2. Standard Imports for Recurrent Neural Networks"
      ]
    },
    {
      "cell_type": "code",
      "metadata": {
        "id": "uAHzBz3EYBcV"
      },
      "source": [
        "from __future__ import print_function\n",
        "\n",
        "# For preprocessing the text into integer(ids)\n",
        "# For plotting the accuracy and loss curve\n",
        "import numpy as np\n",
        "import matplotlib.pyplot as plt\n",
        "%matplotlib inline\n",
        "\n",
        "# regular expression to proprocess raw_text\n",
        "import regex as re\n",
        "\n",
        "# To instantiate Recurrent Neural Networks\n",
        "from keras.models import Sequential\n",
        "# My model will be dense with all the nodes to 'touch'\n",
        "from keras.layers import Dense, Activation\n",
        "# LSTM, GRU\n",
        "from keras.layers import LSTM, GRU\n",
        "#from keras.optimizers import RMSprop, adam\n",
        "\n",
        "# to create a callback, this will be a checkpoint\n",
        "from keras.callbacks import LambdaCallback\n",
        "\n",
        "# need to create a random seed to create a text, so the model will learn the sequence\n",
        "import random\n",
        "import sys\n",
        "import io"
      ],
      "execution_count": 2,
      "outputs": []
    },
    {
      "cell_type": "markdown",
      "metadata": {
        "id": "0bCMNSlUYBcV"
      },
      "source": [
        "### 3. Loading the txt file that is used fro RNN"
      ]
    },
    {
      "cell_type": "code",
      "metadata": {
        "colab": {
          "base_uri": "https://localhost:8080/"
        },
        "id": "kytGHnmzYBcW",
        "outputId": "51d9b26e-81a4-48a3-f51f-e2bbfd29456b"
      },
      "source": [
        "# cd to pull my txt file from my google drive into google colab\n",
        "%cd /content/gdrive/My Drive/Capstone/Data/\n",
        "\n",
        "# filename called 'out.txt'\n",
        "filename = \"rnn_text.txt\"\n",
        "\n",
        "# extract the raw text\n",
        "raw_text = open(filename, 'r', encoding='utf-8').read()\n",
        "\n",
        "\n",
        "# lowercase my text\n",
        "data = raw_text.lower()\n",
        "# remove url links\n",
        "data = re.sub(r'\\w+:\\/{2}[\\d\\w-]+(\\.[\\d\\w-]+)*(?:(?:\\/[^\\s/]*))*', '',data)\n",
        "# keep letters\n",
        "data = re.sub(\"[^a-zA-Z]\", \" \", data)\n",
        "# strip to remove empty spaces before beginning and end of string\n",
        "data = data.strip()"
      ],
      "execution_count": 3,
      "outputs": [
        {
          "output_type": "stream",
          "text": [
            "/content/gdrive/My Drive/Capstone/Data\n"
          ],
          "name": "stdout"
        }
      ]
    },
    {
      "cell_type": "markdown",
      "metadata": {
        "id": "IAGJl1VyYBcW"
      },
      "source": [
        "### 4. Exploring text dataset"
      ]
    },
    {
      "cell_type": "code",
      "metadata": {
        "colab": {
          "base_uri": "https://localhost:8080/"
        },
        "id": "UO2Vu0a5YBcW",
        "outputId": "a777f8a9-b68b-498c-81b7-420a18dca1fd"
      },
      "source": [
        "# set - find a list of specific characters \n",
        "# list - to convert characters into a list\n",
        "# sorted - to sort list into alphabetical order\n",
        "chars = sorted(list(set(data)))\n",
        "\n",
        "# count of total characters\n",
        "print('total chars: ', len(chars))"
      ],
      "execution_count": 4,
      "outputs": [
        {
          "output_type": "stream",
          "text": [
            "total chars:  27\n"
          ],
          "name": "stdout"
        }
      ]
    },
    {
      "cell_type": "code",
      "metadata": {
        "colab": {
          "base_uri": "https://localhost:8080/"
        },
        "id": "02sYdZzGYBcW",
        "outputId": "936b9f9b-4290-4756-eb71-8ffad415238d"
      },
      "source": [
        "# mapping the characters to numerical values & vice versa\n",
        "# this will be crucial for feeding into our RNN model\n",
        "# and required to map the predicted numerical values back to their corresponding characters\n",
        "\n",
        "char_indices = dict((c, i) for i, c in enumerate(chars))\n",
        "\n",
        "# noted that in this list of character mapping, there is no 'z' in text\n",
        "# noted that ' ' white space is counted as a character\n",
        "char_indices"
      ],
      "execution_count": 5,
      "outputs": [
        {
          "output_type": "execute_result",
          "data": {
            "text/plain": [
              "{' ': 0,\n",
              " 'a': 1,\n",
              " 'b': 2,\n",
              " 'c': 3,\n",
              " 'd': 4,\n",
              " 'e': 5,\n",
              " 'f': 6,\n",
              " 'g': 7,\n",
              " 'h': 8,\n",
              " 'i': 9,\n",
              " 'j': 10,\n",
              " 'k': 11,\n",
              " 'l': 12,\n",
              " 'm': 13,\n",
              " 'n': 14,\n",
              " 'o': 15,\n",
              " 'p': 16,\n",
              " 'q': 17,\n",
              " 'r': 18,\n",
              " 's': 19,\n",
              " 't': 20,\n",
              " 'u': 21,\n",
              " 'v': 22,\n",
              " 'w': 23,\n",
              " 'x': 24,\n",
              " 'y': 25,\n",
              " 'z': 26}"
            ]
          },
          "metadata": {
            "tags": []
          },
          "execution_count": 5
        }
      ]
    },
    {
      "cell_type": "code",
      "metadata": {
        "colab": {
          "base_uri": "https://localhost:8080/"
        },
        "id": "Nk-1WoOYYBcX",
        "outputId": "f402bdbf-3c33-4767-e1cb-20da612f0ce5"
      },
      "source": [
        "# this will be used from mapping numerical values back to characters\n",
        "indices_char = dict((i, c) for i, c in enumerate(chars))\n",
        "\n",
        "indices_char"
      ],
      "execution_count": 6,
      "outputs": [
        {
          "output_type": "execute_result",
          "data": {
            "text/plain": [
              "{0: ' ',\n",
              " 1: 'a',\n",
              " 2: 'b',\n",
              " 3: 'c',\n",
              " 4: 'd',\n",
              " 5: 'e',\n",
              " 6: 'f',\n",
              " 7: 'g',\n",
              " 8: 'h',\n",
              " 9: 'i',\n",
              " 10: 'j',\n",
              " 11: 'k',\n",
              " 12: 'l',\n",
              " 13: 'm',\n",
              " 14: 'n',\n",
              " 15: 'o',\n",
              " 16: 'p',\n",
              " 17: 'q',\n",
              " 18: 'r',\n",
              " 19: 's',\n",
              " 20: 't',\n",
              " 21: 'u',\n",
              " 22: 'v',\n",
              " 23: 'w',\n",
              " 24: 'x',\n",
              " 25: 'y',\n",
              " 26: 'z'}"
            ]
          },
          "metadata": {
            "tags": []
          },
          "execution_count": 6
        }
      ]
    },
    {
      "cell_type": "markdown",
      "metadata": {
        "id": "n2PqKRRWYBcX"
      },
      "source": [
        "### 5. Numerical encode the sentences and features"
      ]
    },
    {
      "cell_type": "code",
      "metadata": {
        "colab": {
          "base_uri": "https://localhost:8080/"
        },
        "id": "6t-15OTOCRL-",
        "outputId": "f374012c-2d6c-44e2-f803-045da82550be"
      },
      "source": [
        "len(data)"
      ],
      "execution_count": 7,
      "outputs": [
        {
          "output_type": "execute_result",
          "data": {
            "text/plain": [
              "1208984"
            ]
          },
          "metadata": {
            "tags": []
          },
          "execution_count": 7
        }
      ]
    },
    {
      "cell_type": "code",
      "metadata": {
        "id": "-6T91YIxY88-"
      },
      "source": [
        "text = data"
      ],
      "execution_count": 8,
      "outputs": []
    },
    {
      "cell_type": "code",
      "metadata": {
        "colab": {
          "base_uri": "https://localhost:8080/"
        },
        "id": "NFg7fOL6YBcX",
        "outputId": "41c24c22-153d-4c42-e745-9eaf9303bae0"
      },
      "source": [
        "maxlen = 100\n",
        "step = 3\n",
        "sentences = []\n",
        "next_chars = []\n",
        "for i in range(0, len(text) - maxlen, step):\n",
        "    sentences.append(text[i: i + maxlen])\n",
        "    next_chars.append(text[i + maxlen])\n",
        "print('nb sequences:', len(sentences))"
      ],
      "execution_count": 9,
      "outputs": [
        {
          "output_type": "stream",
          "text": [
            "nb sequences: 402962\n"
          ],
          "name": "stdout"
        }
      ]
    },
    {
      "cell_type": "code",
      "metadata": {
        "colab": {
          "base_uri": "https://localhost:8080/"
        },
        "id": "m8zb6OtvYBcX",
        "outputId": "ac4aaca8-ac90-4406-bd24-c1948f532306"
      },
      "source": [
        "print(sentences[:5])\n",
        "print(next_chars[:5])"
      ],
      "execution_count": 10,
      "outputs": [
        {
          "output_type": "stream",
          "text": [
            "['just auditing this course helped me a lot in learning this language programming  attentive save the ', 't auditing this course helped me a lot in learning this language programming  attentive save the mon', 'uditing this course helped me a lot in learning this language programming  attentive save the money ', 'ting this course helped me a lot in learning this language programming  attentive save the money i w', 'g this course helped me a lot in learning this language programming  attentive save the money i will']\n",
            "['m', 'e', 'i', 'i', ' ']\n"
          ],
          "name": "stdout"
        }
      ]
    },
    {
      "cell_type": "code",
      "metadata": {
        "id": "7JhnfOy1YBcY",
        "colab": {
          "base_uri": "https://localhost:8080/"
        },
        "outputId": "3620c144-ff16-4a95-ebba-4a08e8b6016b"
      },
      "source": [
        "len(text)"
      ],
      "execution_count": 13,
      "outputs": [
        {
          "output_type": "execute_result",
          "data": {
            "text/plain": [
              "1208984"
            ]
          },
          "metadata": {
            "tags": []
          },
          "execution_count": 13
        }
      ]
    },
    {
      "cell_type": "code",
      "metadata": {
        "id": "7cYHDMLGYBcY"
      },
      "source": [
        "X = np.zeros((len(sentences), maxlen, len(chars)), dtype=np.bool)\n",
        "y = np.zeros((len(sentences), len(chars)), dtype=np.bool)\n",
        "for i, sentence in enumerate(sentences):\n",
        "    for t, char in enumerate(sentence):\n",
        "        X[i, t, char_indices[char]] = 1\n",
        "    y[i, char_indices[next_chars[i]]] = 1"
      ],
      "execution_count": 11,
      "outputs": []
    },
    {
      "cell_type": "code",
      "metadata": {
        "id": "0It5TQIeYBcY"
      },
      "source": [
        "from sklearn.model_selection import train_test_split\n",
        "X_train, X_test, y_train, y_test = train_test_split(X, y,  random_state=42, shuffle=False)"
      ],
      "execution_count": 12,
      "outputs": []
    },
    {
      "cell_type": "markdown",
      "metadata": {
        "id": "E4z78W_4YBcY"
      },
      "source": [
        "### 6. define the model topolgy\n",
        " https://towardsdatascience.com/checkpointing-deep-learning-models-in-keras-a652570b8de6"
      ]
    },
    {
      "cell_type": "code",
      "metadata": {
        "id": "5lOh0gSxYBcY"
      },
      "source": [
        "# Define the model architecture \n",
        "\n",
        "def create_model():\n",
        "    #instantial\n",
        "    model = Sequential()\n",
        "    model.add(LSTM(128, input_shape=(maxlen, len(chars))))\n",
        "    model.add(Dense(len(chars)))\n",
        "    model.add(Activation('softmax'))\n",
        "    \n",
        "    # Compiling the model\n",
        "    # as my model are one-hot encoded, i will use categorical_crossentropy\n",
        "    model.compile(loss='categorical_crossentropy',\n",
        "             optimizer='adam',\n",
        "             metrics=['accuracy'])\n",
        "    \n",
        "    return model\n",
        "\n",
        "#create the model\n",
        "model_ckpt= create_model()"
      ],
      "execution_count": 14,
      "outputs": []
    },
    {
      "cell_type": "code",
      "metadata": {
        "colab": {
          "base_uri": "https://localhost:8080/"
        },
        "id": "n7HgXPRcYBcZ",
        "outputId": "169d3dcd-488a-4c73-ced8-470ab523e68f"
      },
      "source": [
        "model_ckpt.summary()"
      ],
      "execution_count": 15,
      "outputs": [
        {
          "output_type": "stream",
          "text": [
            "Model: \"sequential\"\n",
            "_________________________________________________________________\n",
            "Layer (type)                 Output Shape              Param #   \n",
            "=================================================================\n",
            "lstm (LSTM)                  (None, 128)               79872     \n",
            "_________________________________________________________________\n",
            "dense (Dense)                (None, 27)                3483      \n",
            "_________________________________________________________________\n",
            "activation (Activation)      (None, 27)                0         \n",
            "=================================================================\n",
            "Total params: 83,355\n",
            "Trainable params: 83,355\n",
            "Non-trainable params: 0\n",
            "_________________________________________________________________\n"
          ],
          "name": "stdout"
        }
      ]
    },
    {
      "cell_type": "markdown",
      "metadata": {
        "id": "W0CLSREbYBcZ"
      },
      "source": [
        "### 7. Creating my ModelCheckpoint and callback requirements"
      ]
    },
    {
      "cell_type": "code",
      "metadata": {
        "id": "MHtyQNWwYBcZ"
      },
      "source": [
        "from keras.callbacks import ModelCheckpoint\n",
        "\n",
        "# specifying where my checkpoint files will be stored\n",
        "filepath = \"/content/gdrive/My Drive/Capstone/Data/\"\n",
        "\n",
        "# this ModelCheckpoint save weights and save the best model as it runs\n",
        "checkpoint = ModelCheckpoint(filepath, monitor='loss',\n",
        "                             save_weights_only=True, save_best_only=True,\n",
        "                             mode='min',verbose=1 )"
      ],
      "execution_count": 16,
      "outputs": []
    },
    {
      "cell_type": "code",
      "metadata": {
        "id": "cYhAn8OYYBcZ"
      },
      "source": [
        "from keras.callbacks import ReduceLROnPlateau\n",
        "reduce_lr = ReduceLROnPlateau(monitor='loss', factor=0.2,\n",
        "                              patience=1, min_lr=0.001)"
      ],
      "execution_count": 17,
      "outputs": []
    },
    {
      "cell_type": "code",
      "metadata": {
        "id": "ixHRPsWvYBca"
      },
      "source": [
        "def sample(preds, temperature=1.0):\n",
        "    # helper function to sample an index from a probability array\n",
        "    preds = np.asarray(preds).astype('float64')\n",
        "    preds = np.log(preds) / temperature\n",
        "    exp_preds = np.exp(preds)\n",
        "    preds = exp_preds / np.sum(exp_preds)\n",
        "    probas = np.random.multinomial(1, preds, 1)\n",
        "    return np.argmax(probas)"
      ],
      "execution_count": 18,
      "outputs": []
    },
    {
      "cell_type": "code",
      "metadata": {
        "id": "lHXesDLaYBca"
      },
      "source": [
        "def on_epoch_end(epoch, logs):\n",
        "    # Function invoked at end of each epoch. Prints generated text.\n",
        "    print()\n",
        "    print('----- Generating text after Epoch: %d' % epoch)\n",
        "\n",
        "    start_index = random.randint(0, len(text) - maxlen - 1)\n",
        "    for diversity in [0.2, 0.5, 1.0, 1.2]:\n",
        "        print('----- diversity:', diversity)\n",
        "\n",
        "        generated = ''\n",
        "        sentence = text[start_index: start_index + maxlen]\n",
        "        generated += sentence\n",
        "        print('----- Generating with seed: \"' + sentence + '\"')\n",
        "        sys.stdout.write(generated)\n",
        "\n",
        "        for i in range(400):\n",
        "            x_pred = np.zeros((1, maxlen, len(chars)))\n",
        "            for t, char in enumerate(sentence):\n",
        "                x_pred[0, t, char_indices[char]] = 1.\n",
        "\n",
        "            preds = model_ckpt.predict(x_pred, verbose=0)[0]\n",
        "            next_index = sample(preds, diversity)\n",
        "            next_char = indices_char[next_index]\n",
        "\n",
        "            generated += next_char\n",
        "            sentence = sentence[1:] + next_char\n",
        "\n",
        "            sys.stdout.write(next_char)\n",
        "            sys.stdout.flush()\n",
        "        print()\n",
        "print_callback = LambdaCallback(on_epoch_end=on_epoch_end)"
      ],
      "execution_count": 19,
      "outputs": []
    },
    {
      "cell_type": "code",
      "metadata": {
        "id": "o7QZCuU5YBca"
      },
      "source": [
        "### combining all of my callbacks\n",
        "\n",
        "callbacks = [print_callback, checkpoint, reduce_lr]"
      ],
      "execution_count": 20,
      "outputs": []
    },
    {
      "cell_type": "markdown",
      "metadata": {
        "id": "1PHLNmGOYBcb"
      },
      "source": [
        "### 8.Training my RNN model"
      ]
    },
    {
      "cell_type": "code",
      "metadata": {
        "colab": {
          "base_uri": "https://localhost:8080/"
        },
        "id": "ljBdvKorYBcb",
        "outputId": "e8c0afb1-4327-41b1-f517-ebdf7626013e"
      },
      "source": [
        "history = model_ckpt.fit(X_train, y_train, batch_size=128, epochs=50, validation_data =(X_test, y_test),callbacks=callbacks)"
      ],
      "execution_count": 21,
      "outputs": [
        {
          "output_type": "stream",
          "text": [
            "Epoch 1/50\n",
            "2362/2362 [==============================] - 56s 11ms/step - loss: 2.3556 - accuracy: 0.3184 - val_loss: 1.5988 - val_accuracy: 0.5403\n",
            "\n",
            "----- Generating text after Epoch: 0\n",
            "----- diversity: 0.2\n",
            "----- Generating with seed: \"approach of not giving extra load   smoothly building up   anyone who is planning to start programmi\"\n",
            "approach of not giving extra load   smoothly building up   anyone who is planning to start programming                                                                                                                                                                                                                                                                                                                                                                                                              \n",
            "----- diversity: 0.5\n",
            "----- Generating with seed: \"approach of not giving extra load   smoothly building up   anyone who is planning to start programmi\"\n",
            "approach of not giving extra load   smoothly building up   anyone who is planning to start programming the course at and east compenting the course i  the intorestand and the course                                                                   i     i has  programming  it learning                                            i                           i                                                                                                                                              \n",
            "----- diversity: 1.0\n",
            "----- Generating with seed: \"approach of not giving extra load   smoothly building up   anyone who is planning to start programmi\"\n",
            "approach of not giving extra load   smoothly building up   anyone who is planning to start programming you priaccs    i thes nreocouser ho roceles  alat course in oonty doint with  thisk lavereging   rastouge and legimane this  i  thesi laid bevinen beanenthat on lewrecaleay  nower th stor the clofte hanteram in ham thes course s thal ssopicaled the meetsom  with course itho compente anco preather proyrimen        the course forners moor to lis me thes towect plove dowed the course whekiy vich i\n",
            "----- diversity: 1.2\n",
            "----- Generating with seed: \"approach of not giving extra load   smoothly building up   anyone who is planning to start programmi\"\n",
            "approach of not giving extra load   smoothly building up   anyone who is planning to start programmiig unde the thor msos and ploir   pbofisseo   rangmened erquiis ao pproamcining wath noreptersion  s im ergeod y hin ple s poritaoniag  i doke shactint oxple caomel iapy to repibsict onwanttingtor parceus pyod  loins thit ude bnote course yur follung eamppg it  i   frees mevex n mereflian beit it a derilakiry laalazink out effrectnding  prondisigrame is ve uenfreaten   od ach inaneiti  ibsere seng\n",
            "\n",
            "Epoch 00001: loss improved from inf to 2.04146, saving model to /content/gdrive/My Drive/Capstone/Data/\n",
            "Epoch 2/50\n",
            "2362/2362 [==============================] - 25s 10ms/step - loss: 1.5931 - accuracy: 0.5385 - val_loss: 1.3345 - val_accuracy: 0.6100\n",
            "\n",
            "----- Generating text after Epoch: 1\n",
            "----- diversity: 0.2\n",
            "----- Generating with seed: \"f easy to me  but if i compare both styles of learning  i prefer this one because it has an order an\"\n",
            "f easy to me  but if i compare both styles of learning  i prefer this one because it has an order and the course and the course as a great course                                                                                                                                                                                                                                                                                                                                                                   \n",
            "----- diversity: 0.5\n",
            "----- Generating with seed: \"f easy to me  but if i compare both styles of learning  i prefer this one because it has an order an\"\n",
            "f easy to me  but if i compare both styles of learning  i prefer this one because it has an order and thank you say to programming is de some the course and thank you for stud ta bas i was as a learn the cas a sour programming  the course as          i was a probles of your for the course                                                                                                                                                                                                                   \n",
            "----- diversity: 1.0\n",
            "----- Generating with seed: \"f easy to me  but if i compare both styles of learning  i prefer this one because it has an order an\"\n",
            "f easy to me  but if i compare both styles of learning  i prefer this one because it has an order and expecied and licture can that course i have t is on is you prowrsfry beginnera is and for which im coferss and profostime fur expepion programming  this course for me the neat prowily daseggian for like co ceace pet oppandand have       python very fer oniversod courss  programming thas nolidy to keed le weyt this course  i wom s dveringinu re dre the pustor ta is very canse is just to expllent \n",
            "----- diversity: 1.2\n",
            "----- Generating with seed: \"f easy to me  but if i compare both styles of learning  i prefer this one because it has an order an\"\n",
            "f easy to me  but if i compare both styles of learning  i prefer this one because it has an order and i mo al expernor my chuck    thing way thid now prscipled for cheact atsoul quiasely aypunis easygo    my way to lear  ever whith ut tit rodlentr of t ve a beew if it great and compinepit to anft at coursebwes drnes a graingrots mare abour jutt course foure but now yoh was i mhoul duniidep python intrestute but towind you har  pakted te has lang and gelial course avvy semulity anc cof paod samel\n",
            "\n",
            "Epoch 00002: loss improved from 2.04146 to 1.52811, saving model to /content/gdrive/My Drive/Capstone/Data/\n",
            "Epoch 3/50\n",
            "2362/2362 [==============================] - 25s 11ms/step - loss: 1.3738 - accuracy: 0.6001 - val_loss: 1.2196 - val_accuracy: 0.6422\n",
            "\n",
            "----- Generating text after Epoch: 2\n",
            "----- diversity: 0.2\n",
            "----- Generating with seed: \"rofessor severance online i ve never studied computer science before but this matters little for the\"\n",
            "rofessor severance online i ve never studied computer science before but this matters little for the course                                                                                                                                                                                                                                                                                                                                                                                                         \n",
            "----- diversity: 0.5\n",
            "----- Generating with seed: \"rofessor severance online i ve never studied computer science before but this matters little for the\"\n",
            "rofessor severance online i ve never studied computer science before but this matters little for the course  i an understand interesting and the best of the fining the course is as a toing the for and i fool of the python   it sooul to the concing the and a cheal on to start to the course       i am really geed the course    the instructor my intromating compuntront   this course have a lot of excellent for programming  it is alliting the concepts in with computer  charles    i was a lot of prog\n",
            "----- diversity: 1.0\n",
            "----- Generating with seed: \"rofessor severance online i ve never studied computer science before but this matters little for the\"\n",
            "rofessor severance online i ve never studied computer science before but this matters little for thely hetput or quingl befine of comprotes instromacted   it i lectuder not viousing python inut it the amazing and and a programming  and makes as be in explanitions a won sethen then wathin toeghing i heven stryen with python dasping tom these i am s conled to complitaling materan and inmants  whahebeve andine way an programming  from the excenception of python  conciver  and have a drikto s blound\n",
            "----- diversity: 1.2\n",
            "----- Generating with seed: \"rofessor severance online i ve never studied computer science before but this matters little for the\"\n",
            "rofessor severance online i ve never studied computer science before but this matters little for the metking is evenyboy witcods geeple studmingrig simplefe of program i erjoy a can gin mech to fac into  co tre to clutr python  profesering a covine  if you ald spendation   itaus goodd  take undertents mores thanks learning sigemly on and programming is nid     way of dricspstand you that elpic to wandt toit awlent to get base in it based comer becouregy whe enjoyerstiolh     the a conthan  i bom\n",
            "\n",
            "Epoch 00003: loss improved from 1.52811 to 1.34815, saving model to /content/gdrive/My Drive/Capstone/Data/\n",
            "Epoch 4/50\n",
            "2362/2362 [==============================] - 25s 11ms/step - loss: 1.2687 - accuracy: 0.6280 - val_loss: 1.1541 - val_accuracy: 0.6616\n",
            "\n",
            "----- Generating text after Epoch: 3\n",
            "----- diversity: 0.2\n",
            "----- Generating with seed: \"to programming  i m not new to python  but i took this course just to see the way mr  severace teach\"\n",
            "to programming  i m not new to python  but i took this course just to see the way mr  severace teacher                                                                                                                                                                                                                                                                                                                                                                                                              \n",
            "----- diversity: 0.5\n",
            "----- Generating with seed: \"to programming  i m not new to python  but i took this course just to see the way mr  severace teach\"\n",
            "to programming  i m not new to python  but i took this course just to see the way mr  severace teacher  that i am a great  the basics of making beginner  the course  the way to programming programmer  i am learned and the professor courses                i ve to was a good in python                                                                                                                                                                                                                         \n",
            "----- diversity: 1.0\n",
            "----- Generating with seed: \"to programming  i m not new to python  but i took this course just to see the way mr  severace teach\"\n",
            "to programming  i m not new to python  but i took this course just to see the way mr  severace teacher hout the becomenys     excellent and and making re really in muthracles experneaniferoul than sades frould listes becoured get in drin ficushing far the basics coursere with paggrang it will next is one sope but while to learn python of prooram  you can i chuck fout coursera enjsigel were  algead how mush  what i have devery know acalicaply bangging and selpt and easiluy this course fenhruak y \n",
            "----- diversity: 1.2\n",
            "----- Generating with seed: \"to programming  i m not new to python  but i took this course just to see the way mr  severace teach\"\n",
            "to programming  i m not new to python  but i took this course just to see the way mr  severace teachina   if as some of the best course helpive    tutofus  liken to belid thank thickichly this course of a deac for a very buty that be ablet the ithent a stod fun se to really leed espegine i fenes for used to clear instructor and mushing prestents of the sciples you  lyaknen  ty highty universityon  with i mmiduch conteple  revelbfire think to gets  but aging ovire ars and like easy to there suecv\n",
            "\n",
            "Epoch 00004: loss improved from 1.34815 to 1.25194, saving model to /content/gdrive/My Drive/Capstone/Data/\n",
            "Epoch 5/50\n",
            "2362/2362 [==============================] - 25s 11ms/step - loss: 1.1954 - accuracy: 0.6481 - val_loss: 1.1155 - val_accuracy: 0.6700\n",
            "\n",
            "----- Generating text after Epoch: 4\n",
            "----- diversity: 0.2\n",
            "----- Generating with seed: \"started learning python from many books but after sometime i find it boring and leave it there but i\"\n",
            "started learning python from many books but after sometime i find it boring and leave it there but i completed the course  i am a great course                                                                                                                                                                                                                                                                                                                                                                      \n",
            "----- diversity: 0.5\n",
            "----- Generating with seed: \"started learning python from many books but after sometime i find it boring and leave it there but i\"\n",
            "started learning python from many books but after sometime i find it boring and leave it there but i am a great that in the first programming  also thanks  i would severance to teach  i am good computer furmal material was in the course  i am a great to course                                                                                                                                                                                                                                                \n",
            "----- diversity: 1.0\n",
            "----- Generating with seed: \"started learning python from many books but after sometime i find it boring and leave it there but i\"\n",
            "started learning python from many books but after sometime i find it boring and leave it there but impott  targ kit start the course from the beginners and ham with dr charles  starting some prigrammes easy to learn for tering my non a start thodes  and reaory recommend this course as me to python lade i ve the any shignes  i madged cod shant prectudes  everance very feling through with the whole  lint  easy tamen if you as a mech insid with were mory it was grome the ising acrugen love pregied \n",
            "----- diversity: 1.2\n",
            "----- Generating with seed: \"started learning python from many books but after sometime i find it boring and leave it there but i\"\n",
            "started learning python from many books but after sometime i find it boring and leave it there but i lnople  befursers sesp of in abtinity that hav need out course for this course or diquieatefus teacheres too fun of coduaptad matibbore very forboul ow promace skim an the wird pooning the orsequensis and holugally who  the course wull can bight this exicstam for the boon way to inso kny and thes computer  juspwiendly in sometrodantecass aboutt expecial for thet paris  if recommend this course we\n",
            "\n",
            "Epoch 00005: loss improved from 1.25194 to 1.18974, saving model to /content/gdrive/My Drive/Capstone/Data/\n",
            "Epoch 6/50\n",
            "2362/2362 [==============================] - 25s 11ms/step - loss: 1.1476 - accuracy: 0.6606 - val_loss: 1.0817 - val_accuracy: 0.6800\n",
            "\n",
            "----- Generating text after Epoch: 5\n",
            "----- diversity: 0.2\n",
            "----- Generating with seed: \" what a bad ass for dedicating so much of his personal time for a free class   so very much apprecia\"\n",
            " what a bad ass for dedicating so much of his personal time for a free class   so very much appreciate the course                                                                                                                                                                                                                                                                                                                                                                                                   \n",
            "----- diversity: 0.5\n",
            "----- Generating with seed: \" what a bad ass for dedicating so much of his personal time for a free class   so very much apprecia\"\n",
            " what a bad ass for dedicating so much of his personal time for a free class   so very much appreciate the basic programming  this course                                                                                                                                                                                                                                                                                                                                                                           \n",
            "----- diversity: 1.0\n",
            "----- Generating with seed: \" what a bad ass for dedicating so much of his personal time for a free class   so very much apprecia\"\n",
            " what a bad ass for dedicating so much of his personal time for a free class   so very much appreciate chapter is very goading  s very like mis for me  i am of the meesssione to attenficably fun   prictroslo ruck to get sayst to only gied is chases  i for advend and i whoredam to making his cance thankdy     than you to the very for every never fading courses for a great course for a great find of the butigraking   hive you goved time interliate that has the course is soon formmative leatus and \n",
            "----- diversity: 1.2\n",
            "----- Generating with seed: \" what a bad ass for dedicating so much of his personal time for a free class   so very much apprecia\"\n",
            " what a bad ass for dedicating so much of his personal time for a free class   so very much appreciald luaked jow  highly dost sucwar simple and neada    dr thas is done before and usere his the way for experes  lond to uaky dr ised that ouch ins ever teacheval  i would but of tindfining beginners courses    it was alras lither thanks teached in persofe bangube i fund the getemty  a titally learn able of python to that if juazy coupees  the course arquarfful toouso each   funcanted my code for m\n",
            "\n",
            "Epoch 00006: loss improved from 1.18974 to 1.14554, saving model to /content/gdrive/My Drive/Capstone/Data/\n",
            "Epoch 7/50\n",
            "2362/2362 [==============================] - 25s 11ms/step - loss: 1.1139 - accuracy: 0.6688 - val_loss: 1.0633 - val_accuracy: 0.6857\n",
            "\n",
            "----- Generating text after Epoch: 6\n",
            "----- diversity: 0.2\n",
            "----- Generating with seed: \"was just enough to keep me busy but short enough that i could work around my busy schedule being a n\"\n",
            "was just enough to keep me busy but short enough that i could work around my busy schedule being a new programming  thank you                                                                                                                                                                                                                                                                                                                                                                                       \n",
            "----- diversity: 0.5\n",
            "----- Generating with seed: \"was just enough to keep me busy but short enough that i could work around my busy schedule being a n\"\n",
            "was just enough to keep me busy but short enough that i could work around my busy schedule being a new programming   i well s really good course entarient  and the course is an excellent course     the course is do new to complete in coding   this course  this course is a beginner                                                                                                                                                                                                                           \n",
            "----- diversity: 1.0\n",
            "----- Generating with seed: \"was just enough to keep me busy but short enough that i could work around my busy schedule being a n\"\n",
            "was just enough to keep me busy but short enough that i could work around my busy schedule being a new by one was as my kew more chunk do more  eveny with the basics in programming   this asss speciver was dr  chupity teacher le thera  by knowledge furthost  but very good courses seme he python understandizanc   yextrudyed i am skills  then    i am going ter strollegges liggle for disiapt to uller stayt for everybody whish everybodming without a well hemesful easily of the amplaint for ylaid in \n",
            "----- diversity: 1.2\n",
            "----- Generating with seed: \"was just enough to keep me busy but short enough that i could work around my busy schedule being a n\"\n",
            "was just enough to keep me busy but short enough that i could work around my busy schedule being a now fur machiaghing factate videos deyinee other dry time just that expectiting quazis leysuses on my aboinstas in difficaltiable chappence i ablalluser in a free tell job of made you aball as the very ffeed intectifusce really become cospuction  geem of yoursi fack  wates off to teach python   apperciated by prices to learn moft makes becaure understanding you about thit about with python also  i \n",
            "\n",
            "Epoch 00007: loss improved from 1.14554 to 1.11130, saving model to /content/gdrive/My Drive/Capstone/Data/\n",
            "Epoch 8/50\n",
            "2362/2362 [==============================] - 25s 11ms/step - loss: 1.0819 - accuracy: 0.6783 - val_loss: 1.0463 - val_accuracy: 0.6894\n",
            "\n",
            "----- Generating text after Epoch: 7\n",
            "----- diversity: 0.2\n",
            "----- Generating with seed: \"lanations this course was enjoyable and  rewarding   on to the next python course     this is the fi\"\n",
            "lanations this course was enjoyable and  rewarding   on to the next python course     this is the first course                                                                                                                                                                                                                                                                                                                                                                                                      \n",
            "----- diversity: 0.5\n",
            "----- Generating with seed: \"lanations this course was enjoyable and  rewarding   on to the next python course     this is the fi\"\n",
            "lanations this course was enjoyable and  rewarding   on to the next python course     this is the first for the course for beginners and is a beginner heppless and    it was also and it s a lot to difficult                      this course is very entarted and the next course to dr chuck ar a programming before the course                                                                                                                                                                                 \n",
            "----- diversity: 1.0\n",
            "----- Generating with seed: \"lanations this course was enjoyable and  rewarding   on to the next python course     this is the fi\"\n",
            "lanations this course was enjoyable and  rewarding   on to the next python course     this is the first python  sechibly the tipe course for all solfther course for while ever several for amy word at the perised of his course and students  upcarityly work   more makes ald thank you use to coursera priome bi writt now coursera dr  cas the regardly very enduging for the funthity  i really great  the onled build for me  moother for the python is a severa  though the but in starch and you are you ke\n",
            "----- diversity: 1.2\n",
            "----- Generating with seed: \"lanations this course was enjoyable and  rewarding   on to the next python course     this is the fi\"\n",
            "lanations this course was enjoyable and  rewarding   on to the next python course     this is the figar for my excillagm the courseaated and he as the basic sere  more friendly  i tay weeks thanks to courseraterfully to learn more in meefe exerucies for become and dissulisy  as were am on whelr from herd   dr ad a boy to cave your with wi hou langing  thanks to happy to haps my introductory doub for everybody  i would  the course more socemat to learn hos abso d azile to crements sollt beginners\n",
            "\n",
            "Epoch 00008: loss improved from 1.11130 to 1.08463, saving model to /content/gdrive/My Drive/Capstone/Data/\n",
            "Epoch 9/50\n",
            "2362/2362 [==============================] - 25s 11ms/step - loss: 1.0627 - accuracy: 0.6825 - val_loss: 1.0342 - val_accuracy: 0.6929\n",
            "\n",
            "----- Generating text after Epoch: 8\n",
            "----- diversity: 0.2\n",
            "----- Generating with seed: \" taught and accessible  a bit too easy for someone with experience  however still great to pick up s\"\n",
            " taught and accessible  a bit too easy for someone with experience  however still great to pick up started the course  i have a great introduction to programming                                                                                                                                                                                                                                                                                                                                                   \n",
            "----- diversity: 0.5\n",
            "----- Generating with seed: \" taught and accessible  a bit too easy for someone with experience  however still great to pick up s\"\n",
            " taught and accessible  a bit too easy for someone with experience  however still great to pick up started to learn python  i like this course is a great experience    this is the basics and thanks to approach to practice  i really like more  it is very engaging this course  i am a student and the assignments  i am a really beginner  the course is great thank you so the introduction to python  the professor charles severance is very helpful  and the instructor dr chuck i was a great for a progra\n",
            "----- diversity: 1.0\n",
            "----- Generating with seed: \" taught and accessible  a bit too easy for someone with experience  however still great to pick up s\"\n",
            " taught and accessible  a bit too easy for someone with experience  however still great to pick up solftily mustic plishout course  theor for the idvaly for love actually preferthen fagily  i teom on ream be abong programming c prooram too errecodical poneewhic notses introduction to tertsiald to understand  it to get it down structive but st the professor chuck  it is great comple courses in a great course for provide to the instructor is assuitoe  evarrald the forwand pracitis herean charles s\n",
            "----- diversity: 1.2\n",
            "----- Generating with seed: \" taught and accessible  a bit too easy for someone with experience  however still great to pick up s\"\n",
            " taught and accessible  a bit too easy for someone with experience  however still great to pick up some gan and python was to not s great coding not yourses netslor start if courseamcial beginners  alony python relalishes  the jakaf course    chuckifaked intro       though and i caal that plaafises in suct   thank you for everything in courseri you ve make it is professor so a gentrantel vition  and i dher gook format to complete this course for absolutely could a an adonf  this python sirst or \n",
            "\n",
            "Epoch 00009: loss improved from 1.08463 to 1.06172, saving model to /content/gdrive/My Drive/Capstone/Data/\n",
            "Epoch 10/50\n",
            "2362/2362 [==============================] - 25s 11ms/step - loss: 1.0425 - accuracy: 0.6881 - val_loss: 1.0220 - val_accuracy: 0.6971\n",
            "\n",
            "----- Generating text after Epoch: 9\n",
            "----- diversity: 0.2\n",
            "----- Generating with seed: \"ginner as it starts from scratch or if you re a seasoned developer in other programming languages as\"\n",
            "ginner as it starts from scratch or if you re a seasoned developer in other programming languages as well                                                                                                                                                                                                                                                                                                                                                                                                           \n",
            "----- diversity: 0.5\n",
            "----- Generating with seed: \"ginner as it starts from scratch or if you re a seasoned developer in other programming languages as\"\n",
            "ginner as it starts from scratch or if you re a seasoned developer in other programming languages as i was a great perfect to learn programming  and the course   i have to the course                                                                                                                                                                                                                                                                                                                              \n",
            "----- diversity: 1.0\n",
            "----- Generating with seed: \"ginner as it starts from scratch or if you re a seasoned developer in other programming languages as\"\n",
            "ginner as it starts from scratch or if you re a seasoned developer in other programming languages as well  line to learn maferound who have devievent content aind for thiss all the next instructional presorming  this course you are looking basic started online is something who down t such and you are for me   stre auch    yourgeent   leay more  and i also anyone who in this reader about little blit of just to get the course that i have all the lecturen code  awained me belreaing workd the contag\n",
            "----- diversity: 1.2\n",
            "----- Generating with seed: \"ginner as it starts from scratch or if you re a seasoned developer in other programming languages as\"\n",
            "ginner as it starts from scratch or if you re a seasoned developer in other programming languages as well was not courses  quute had          so way us oud through it gauit starting amount or just lately the quiz rathranable intendnwhing the yourseques are how a forto some usome which is planting  take alouggra druchured by no prassccied and have a renouving hu or how trues  were behins lone learning at the base   thanks to  jystres hnot a pliot helps to alvel how post   befuidef inthrating exce\n",
            "\n",
            "Epoch 00010: loss improved from 1.06172 to 1.04305, saving model to /content/gdrive/My Drive/Capstone/Data/\n",
            "Epoch 11/50\n",
            "2362/2362 [==============================] - 25s 11ms/step - loss: 1.0270 - accuracy: 0.6926 - val_loss: 1.0095 - val_accuracy: 0.6998\n",
            "\n",
            "----- Generating text after Epoch: 10\n",
            "----- diversity: 0.2\n",
            "----- Generating with seed: \" in a calm and pleasant way  which is based so that there is a greater understanding of the issues t\"\n",
            " in a calm and pleasant way  which is based so that there is a greater understanding of the issues to the course                                                                                                                                                                                                                                                                                                                                                                                                    \n",
            "----- diversity: 0.5\n",
            "----- Generating with seed: \" in a calm and pleasant way  which is based so that there is a greater understanding of the issues t\"\n",
            " in a calm and pleasant way  which is based so that there is a greater understanding of the issues thanks to charles severance  dr  chuck    i would recommend this course to anyone                                                                                                                                                                                                                                                                                                                                \n",
            "----- diversity: 1.0\n",
            "----- Generating with seed: \" in a calm and pleasant way  which is based so that there is a greater understanding of the issues t\"\n",
            " in a calm and pleasant way  which is based so that there is a greater understanding of the issues the foous a breakfur to the amazing programmer    thought  thank you de in learning python  dot charles severanced team  at videos  charles is a great course  i can follow are good end learned for this course  this lecture  questions for overagl  it was able to easy as it s i woll a chunk you coding  also any teach upting programizate  instructor where abiinst everything  whle it of the end on prog\n",
            "----- diversity: 1.2\n",
            "----- Generating with seed: \" in a calm and pleasant way  which is based so that there is a greater understanding of the issues t\"\n",
            " in a calm and pleasant way  which is based so that there is a greater understanding of the issues teathing remessing for all to keep pitced it govelt in in an edungration de which assupestso miching blooker enrool ne generally desible and want for very new nobe and he mayzed my prationd sciteful  each enfurremever fulty thind with and review that all he vadiogurrak in this excaptly introduction is perfectars jom think this course is interesting but hesebal    i def never part of easy way stauth\n",
            "\n",
            "Epoch 00011: loss improved from 1.04305 to 1.02650, saving model to /content/gdrive/My Drive/Capstone/Data/\n",
            "Epoch 12/50\n",
            "2362/2362 [==============================] - 25s 11ms/step - loss: 1.0094 - accuracy: 0.6974 - val_loss: 1.0112 - val_accuracy: 0.7000\n",
            "\n",
            "----- Generating text after Epoch: 11\n",
            "----- diversity: 0.2\n",
            "----- Generating with seed: \"fundamental concepts explained clearly with simple examples  this course also teaches how to program\"\n",
            "fundamental concepts explained clearly with simple examples  this course also teaches how to programming   i will continue the course                                                                                                                                                                                                                                                                                                                                                                               \n",
            "----- diversity: 0.5\n",
            "----- Generating with seed: \"fundamental concepts explained clearly with simple examples  this course also teaches how to program\"\n",
            "fundamental concepts explained clearly with simple examples  this course also teaches how to programming  this course was been i want to the od as well as the content    this course is a great teacher     i am a very good course  i had not to learn python    excellent course  i like this course                                                                                                                                                                                                             \n",
            "----- diversity: 1.0\n",
            "----- Generating with seed: \"fundamental concepts explained clearly with simple examples  this course also teaches how to program\"\n",
            "fundamental concepts explained clearly with simple examples  this course also teaches how to programming  i thanks out thas  worxisly concise it for mrom zericalments and weeked the lick python so mulations for hew neressorich againing    this is tush flest  i am a nang to one to jave for newad    whyle a blitted through a new with python   brilligan for python courses in python internue anofiendly interesting respinged so  their concepts of more and before  so i aptross titer data  the faclimit\n",
            "----- diversity: 1.2\n",
            "----- Generating with seed: \"fundamental concepts explained clearly with simple examples  this course also teaches how to program\"\n",
            "fundamental concepts explained clearly with simple examples  this course also teaches how to programming with a ceareffable with moderatcions online simming to onle of the perfocalize with his just re pits josn thro ewercradered of humor work of looking forward stalting the incour own therick odh then yle a onvectitely antenitylutelful alvencely say programming  i hour approalimeed to spericade another language to developty pvinice chatizar    i am not devilong off suggisal ingo has friend  than\n",
            "\n",
            "Epoch 00012: loss improved from 1.02650 to 1.01221, saving model to /content/gdrive/My Drive/Capstone/Data/\n",
            "Epoch 13/50\n",
            "2362/2362 [==============================] - 25s 11ms/step - loss: 0.9924 - accuracy: 0.7019 - val_loss: 1.0048 - val_accuracy: 0.7019\n",
            "\n",
            "----- Generating text after Epoch: 12\n",
            "----- diversity: 0.2\n",
            "----- Generating with seed: \"    i have previously a bit accustmed with the programming with c    but learning the basics of pyth\"\n",
            "    i have previously a bit accustmed with the programming with c    but learning the basics of python  i will coment to take this course                                                                                                                                                                                                                                                                                                                                                                           \n",
            "----- diversity: 0.5\n",
            "----- Generating with seed: \"    i have previously a bit accustmed with the programming with c    but learning the basics of pyth\"\n",
            "    i have previously a bit accustmed with the programming with c    but learning the basics of python   i have to start part of the first course and it is a great course is very nice i am zero much quite it is a great course  i will like to get it s i am a wanted to take this course                                                                                                                                                                                                                        \n",
            "----- diversity: 1.0\n",
            "----- Generating with seed: \"    i have previously a bit accustmed with the programming with c    but learning the basics of pyth\"\n",
            "    i have previously a bit accustmed with the programming with c    but learning the basics of python for everyone wwo as each very much i a new blough more learn python which has zero ifstes these suroul lingeably the book and lecture is great explanation        dr  chuck can before enrolled in extruchimak background is think this in this souncess of a computer from with python  i loved the knowledge a bit not coding  gleably helps to c m knows challanced in a good now  i think this is tueff h\n",
            "----- diversity: 1.2\n",
            "----- Generating with seed: \"    i have previously a bit accustmed with the programming with c    but learning the basics of pyth\"\n",
            "    i have previously a bit accustmed with the programming with c    but learning the basics of python so os no thanks to take a copfurt and the problem wish too happrone because python forstro s i have to dot gaving  this jour thing in into dig cantors  duting my knowledge and you before engioner  thoougoug fie his teaching with other prior hid it follow made me be like and lecture ditisk  our totally i am time weild you tind time  it class fundamentals are continf it for diflemones   if you me\n",
            "\n",
            "Epoch 00013: loss improved from 1.01221 to 0.99905, saving model to /content/gdrive/My Drive/Capstone/Data/\n",
            "Epoch 14/50\n",
            "2362/2362 [==============================] - 26s 11ms/step - loss: 0.9819 - accuracy: 0.7043 - val_loss: 1.0000 - val_accuracy: 0.7039\n",
            "\n",
            "----- Generating text after Epoch: 13\n",
            "----- diversity: 0.2\n",
            "----- Generating with seed: \"on t get feedback so its hard to spot where you have gone wrong or where to improve your code  it is\"\n",
            "on t get feedback so its hard to spot where you have gone wrong or where to improve your code  it is a great course  i would recommend this course to the second one of the course in the course in the course                                                                                                                                                                                                                                                                                                      \n",
            "----- diversity: 0.5\n",
            "----- Generating with seed: \"on t get feedback so its hard to spot where you have gone wrong or where to improve your code  it is\"\n",
            "on t get feedback so its hard to spot where you have gone wrong or where to improve your code  it is a great introduction to python                                                                                                                                                                                                                                                                                                                                                                                 \n",
            "----- diversity: 1.0\n",
            "----- Generating with seed: \"on t get feedback so its hard to spot where you have gone wrong or where to improve your code  it is\"\n",
            "on t get feedback so its hard to spot where you have gone wrong or where to improve your code  it is over insigities from show point the course as well practice forward clear indicul on prictical end than we  mo make things from charles but you stult starten or woris to make enciptes to ty coursera for this   a featral offer but now  that mast specoimes and materials are intenditaly the teacher  i got detarocs this will  so for people that the mister in my exceases or on a programming well reall\n",
            "----- diversity: 1.2\n",
            "----- Generating with seed: \"on t get feedback so its hard to spot where you have gone wrong or where to improve your code  it is\"\n",
            "on t get feedback so its hard to spot where you have gone wrong or where to improve your code  it is google ge to to weeks  well ost to start to take and it some one goal  thanks that easy time  professor  it is just programs ail but move also gin afreaking for of his python from this course will over a course to dr  chuck  i m a bleat cleated for thooghed if doing many more classine  thank dus  the aistemoly past paripis and feel life lighodag for getsucal  now i m take out sotime not to progra\n",
            "\n",
            "Epoch 00014: loss improved from 0.99905 to 0.98729, saving model to /content/gdrive/My Drive/Capstone/Data/\n",
            "Epoch 15/50\n",
            "2362/2362 [==============================] - 26s 11ms/step - loss: 0.9716 - accuracy: 0.7078 - val_loss: 0.9952 - val_accuracy: 0.7046\n",
            "\n",
            "----- Generating text after Epoch: 14\n",
            "----- diversity: 0.2\n",
            "----- Generating with seed: \"tudy book  the exercises and the questionnaires contributed greatly with my learning  but let s not \"\n",
            "tudy book  the exercises and the questionnaires contributed greatly with my learning  but let s not for a lot of the course                                                                                                                                                                                                                                                                                                                                                                                         \n",
            "----- diversity: 0.5\n",
            "----- Generating with seed: \"tudy book  the exercises and the questionnaires contributed greatly with my learning  but let s not \"\n",
            "tudy book  the exercises and the questionnaires contributed greatly with my learning  but let s not way to start to python    i would studen to do the course while programming      excellent basic and all python  i would recommend this course for a good course  the course was a great course and other programming language  i had no prior knowledge in the really good started course for a good course  one of the best course is the best course to programming  the assignments are really grateful to c\n",
            "----- diversity: 1.0\n",
            "----- Generating with seed: \"tudy book  the exercises and the questionnaires contributed greatly with my learning  but let s not \"\n",
            "tudy book  the exercises and the questionnaires contributed greatly with my learning  but let s not progress shing  thank you do a light  the speck of the mistors are done  i have learned a good eventrimed tame stats timust and the pace that mak sucm of be text of the best instemations can ually really enrolled were good course study to python this wrone whill you get other people with charce  or kearnt  fressome with deme the words i wing the coursera for providing course for beginner lands abo\n",
            "----- diversity: 1.2\n",
            "----- Generating with seed: \"tudy book  the exercises and the questionnaires contributed greatly with my learning  but let s not \"\n",
            "tudy book  the exercises and the questionnaires contributed greatly with my learning  but let s not dight mryince to start a way thanks  m from fiession that selff stretes online course  i have really quuth the understandes ever while also paced  its orducsuated enfors toak  this wish are tuse you learn coding about on his example   dras thank you loventys about watch to the pace helping any persate by the learning worn parhing this course traks  exceptad tozic of    program stuught of python pr\n",
            "\n",
            "Epoch 00015: loss improved from 0.98729 to 0.97580, saving model to /content/gdrive/My Drive/Capstone/Data/\n",
            "Epoch 16/50\n",
            "2362/2362 [==============================] - 26s 11ms/step - loss: 0.9589 - accuracy: 0.7107 - val_loss: 0.9935 - val_accuracy: 0.7062\n",
            "\n",
            "----- Generating text after Epoch: 15\n",
            "----- diversity: 0.2\n",
            "----- Generating with seed: \"the way he uses everyday life examples in the topics has helped me understand the basic concept of p\"\n",
            "the way he uses everyday life examples in the topics has helped me understand the basic concept of python  i will comen to the programming language  the course is a great course  i would recommend this course to explain the basics of python  i would recommend this course to enroll about the course  i have no interest in programming                                                                                                                                                                       \n",
            "----- diversity: 0.5\n",
            "----- Generating with seed: \"the way he uses everyday life examples in the topics has helped me understand the basic concept of p\"\n",
            "the way he uses everyday life examples in the topics has helped me understand the basic concept of python  i would recommend this course to start to computer science and the course that it is a great course  the rest of the course    i am very good introduction to the subject introduction to python  it is a great course     this is the pace of the course  i really like this course                                                                                                                     \n",
            "----- diversity: 1.0\n",
            "----- Generating with seed: \"the way he uses everyday life examples in the topics has helped me understand the basic concept of p\"\n",
            "the way he uses everyday life examples in the topics has helped me understand the basic concept of python programming equined the concept was pretailal python students  it s good and this is a nothing at it was de learners amazing  cp   but i t ween strult sable be are great he extremely well passes anybody before in i finally start with python for every one career  for a completing this one ot to easy  this course an amazing teaching way of coursera or joilsire not programming in a great way to\n",
            "----- diversity: 1.2\n",
            "----- Generating with seed: \"the way he uses everyday life examples in the topics has helped me understand the basic concept of p\"\n",
            "the way he uses everyday life examples in the topics has helped me understand the basic concept of python from this  assisisps and the all people wro mardicure is process in prictures are very humoro stelly skn class severance with this course  tharks the best per orker confraining python in can lay    very good all  thank you gram  but operound fablenters lectures make me inter to tays your trivy  this course is verually the beffwiels like courderous to do areaper your paytern tanguaget morervi\n",
            "\n",
            "Epoch 00016: loss improved from 0.97580 to 0.96635, saving model to /content/gdrive/My Drive/Capstone/Data/\n",
            "Epoch 17/50\n",
            "2362/2362 [==============================] - 26s 11ms/step - loss: 1.0377 - accuracy: 0.6901 - val_loss: 0.9981 - val_accuracy: 0.7061\n",
            "\n",
            "----- Generating text after Epoch: 16\n",
            "----- diversity: 0.2\n",
            "----- Generating with seed: \"net which starts from literally scratch and takes you to a higher level step by step   very didact  \"\n",
            "net which starts from literally scratch and takes you to a higher level step by step   very didact    this course is a great course  i have not have a lot of the course                                                                                                                                                                                                                                                                                                                                            \n",
            "----- diversity: 0.5\n",
            "----- Generating with seed: \"net which starts from literally scratch and takes you to a higher level step by step   very didact  \"\n",
            "net which starts from literally scratch and takes you to a higher level step by step   very didact  it is not teaching started with python learning python  i was all the basic programming and the forums                                                                                                                                                                                                                                                                                                          \n",
            "----- diversity: 1.0\n",
            "----- Generating with seed: \"net which starts from literally scratch and takes you to a higher level step by step   very didact  \"\n",
            "net which starts from literally scratch and takes you to a higher level step by step   very didact  one of the way age the lectures are very machures and imprecting the class is pitcilet  but the bast the lessmet from  then  i have everybody concepts and specially were caurt fun engineerunt to progremming as well   averall these much for thone or any class is great  charles severance is beingraumed oundading with the issue students so that python   highly ham   trus in looking to take i was exci\n",
            "----- diversity: 1.2\n",
            "----- Generating with seed: \"net which starts from literally scratch and takes you to a higher level step by step   very didact  \"\n",
            "net which starts from literally scratch and takes you to a higher level step by step   very didact  i skiels proplements in shors wanting the worddd with programming  program in a zero streptith  i s iglods a lot on you able to understand python atd ut way of course time a some python is  explanations on python  this course is not consers to get bectures you celt up bly or blsolking good through and kight very sulling tuldin to become  experience if when a so is lost well ano s python of exercid\n",
            "\n",
            "Epoch 00017: loss did not improve from 0.96635\n",
            "Epoch 18/50\n",
            "2362/2362 [==============================] - 26s 11ms/step - loss: 0.9529 - accuracy: 0.7128 - val_loss: 0.9929 - val_accuracy: 0.7057\n",
            "\n",
            "----- Generating text after Epoch: 17\n",
            "----- diversity: 0.2\n",
            "----- Generating with seed: \"on to python for non programmers as you ll learn not only basic functions but also get answers to th\"\n",
            "on to python for non programmers as you ll learn not only basic functions but also get answers to the course is very good and i was a great teacher                                                                                                                                                                                                                                                                                                                                                                 \n",
            "----- diversity: 0.5\n",
            "----- Generating with seed: \"on to python for non programmers as you ll learn not only basic functions but also get answers to th\"\n",
            "on to python for non programmers as you ll learn not only basic functions but also get answers to the pace in the course is the lectures                                                                                                                                                                                                                                                                                                                                                                            \n",
            "----- diversity: 1.0\n",
            "----- Generating with seed: \"on to python for non programmers as you ll learn not only basic functions but also get answers to th\"\n",
            "on to python for non programmers as you ll learn not only basic functions but also get answers to the code is an learning programming experience and work all what was python   i can use the first lased and well up approcable loops in so challengen  world a lot of overdle reveettally great formam a  my funty there for stay over success atameed   the course is very had learning the dopchatels things for the language  but you charles sesarle  thank you dr  chuck for a specially the across of the lo\n",
            "----- diversity: 1.2\n",
            "----- Generating with seed: \"on to python for non programmers as you ll learn not only basic functions but also get answers to th\"\n",
            "on to python for non programmers as you ll learn not only basic functions but also get answers to that for abook beginners  the fxelaward through the basichul overviawats    dun and happyly griat course for subject instill for successes on the chapter subdent jasve  heluggalfull and usenalle of chucky lus    limereable  delivered of youbser so i feet bejoe charles russell severence whees   on sommone      this course help finishs op his lingo introduced typing course  who have toys  and isloy do\n",
            "\n",
            "Epoch 00018: loss improved from 0.96635 to 0.95302, saving model to /content/gdrive/My Drive/Capstone/Data/\n",
            "Epoch 19/50\n",
            "2362/2362 [==============================] - 26s 11ms/step - loss: 0.9438 - accuracy: 0.7153 - val_loss: 0.9927 - val_accuracy: 0.7060\n",
            "\n",
            "----- Generating text after Epoch: 18\n",
            "----- diversity: 0.2\n",
            "----- Generating with seed: \"d at a click of a button  explaining everything you need to know with excellent examples of code  wh\"\n",
            "d at a click of a button  explaining everything you need to know with excellent examples of code  which is a great course                                                                                                                                                                                                                                                                                                                                                                                           \n",
            "----- diversity: 0.5\n",
            "----- Generating with seed: \"d at a click of a button  explaining everything you need to know with excellent examples of code  wh\"\n",
            "d at a click of a button  explaining everything you need to know with excellent examples of code  what he is been simple and explain for beginners  it is the course is the best course to get a lot of experience                                                                                                                                                                                                                                                                                                  \n",
            "----- diversity: 1.0\n",
            "----- Generating with seed: \"d at a click of a button  explaining everything you need to know with excellent examples of code  wh\"\n",
            "d at a click of a button  explaining everything you need to know with excellent examples of code  which well also gecture skill with programming  reanly explaining the code  not grade for through this coumsly learn sometime  i m looks while us  i ever benefe it his teaching the knowledge to the persons videos werk dr  chuck for offind it videos for so watchinos to kelp the teacher previous exenceral lovidat exercises and this c really as that every beginner so even of whuch dressible interesting\n",
            "----- diversity: 1.2\n",
            "----- Generating with seed: \"d at a click of a button  explaining everything you need to know with excellent examples of code  wh\"\n",
            "d at a click of a button  explaining everything you need to know with excellent examples of code  what enfolled i finally napxa le but he auto wrenent to behandating about mast dight interviewwite de will be a willed a lotel and vightat in the concepts in one from jash willon of all  i loved it also gets   this basck  impostand enely from everybody this course is delivered to learn python  s imstari y prof basic made the assignments  i knew new but i m really espienated to foundatience course  o\n",
            "\n",
            "Epoch 00019: loss improved from 0.95302 to 0.94720, saving model to /content/gdrive/My Drive/Capstone/Data/\n",
            "Epoch 20/50\n",
            "2362/2362 [==============================] - 26s 11ms/step - loss: 0.9322 - accuracy: 0.7179 - val_loss: 0.9923 - val_accuracy: 0.7080\n",
            "\n",
            "----- Generating text after Epoch: 19\n",
            "----- diversity: 0.2\n",
            "----- Generating with seed: \"eat course every learners must do it  i sincerely thank all the teaching staffs from coursera commun\"\n",
            "eat course every learners must do it  i sincerely thank all the teaching staffs from coursera community to learn python                                                                                                                                                                                                                                                                                                                                                                                             \n",
            "----- diversity: 0.5\n",
            "----- Generating with seed: \"eat course every learners must do it  i sincerely thank all the teaching staffs from coursera commun\"\n",
            "eat course every learners must do it  i sincerely thank all the teaching staffs from coursera community to start to start this course is a great platform  and the instructor is a very difficulty  and the course                                                                                                                                                                                                                                                                                                  \n",
            "----- diversity: 1.0\n",
            "----- Generating with seed: \"eat course every learners must do it  i sincerely thank all the teaching staffs from coursera commun\"\n",
            "eat course every learners must do it  i sincerely thank all the teaching staffs from coursera commung my shinl on mr whelen t give you un  i learned a real mord at the cost for  hohered and the programming from the very good  anyone who wants to learn a boins  the timuse standed in programing stating he  quiz  assignments work learning and learn or about how me to happy to learn i really enjoyed this course  thanks dr chuck s showhnures of lecess well  fun  hours that for student and learn for s\n",
            "----- diversity: 1.2\n",
            "----- Generating with seed: \"eat course every learners must do it  i sincerely thank all the teaching staffs from coursera commun\"\n",
            "eat course every learners must do it  i sincerely thank all the teaching staffs from coursera communice suby of knowledge   solinerable to benifur useful for start uniest sicials and also fantablicrice nowp therroghes  when i had a refely the more without much and   dr  sitcours frow   sany having such counting seciened has beenke truit anywarch  course for how fun and besippreate i could jasch up too logg sirrs reserth exercis problem me the courses or relandable each cleard and good with atsak\n",
            "\n",
            "Epoch 00020: loss improved from 0.94720 to 0.94047, saving model to /content/gdrive/My Drive/Capstone/Data/\n",
            "Epoch 21/50\n",
            "2362/2362 [==============================] - 26s 11ms/step - loss: 0.9280 - accuracy: 0.7207 - val_loss: 0.9923 - val_accuracy: 0.7071\n",
            "\n",
            "----- Generating text after Epoch: 20\n",
            "----- diversity: 0.2\n",
            "----- Generating with seed: \"s in different language types will appreciate the hammering home of some of the more distinct concep\"\n",
            "s in different language types will appreciate the hammering home of some of the more distinct concepts and professor charles severance     i have already know a lot   this course is a great teacher  i would like to take this course                                                                                                                                                                                                                                                                             \n",
            "----- diversity: 0.5\n",
            "----- Generating with seed: \"s in different language types will appreciate the hammering home of some of the more distinct concep\"\n",
            "s in different language types will appreciate the hammering home of some of the more distinct concepts well  thank you       i can a good for a perform to learn the syntax   this is a perfect to learn the concepts and makes it a great teacher  this course is a great teacher  professor charles severance    this was a great course       i will get to do the lectures  i enjoyed the course and funny and you won t suppit the student and the teaching is a bit and the most of the course and helped me t\n",
            "----- diversity: 1.0\n",
            "----- Generating with seed: \"s in different language types will appreciate the hammering home of some of the more distinct concep\"\n",
            "s in different language types will appreciate the hammering home of some of the more distinct concepts lezed such a dr  charles severance  i am a professor    and did clear and mateciting try my whole code not am a from coding time   lectures detailed  perfed programme with hit writing to find any pass of lectures  so much everything that    the begans   this one mussible with every be the delps joked me a beginning  you will lecture programming language in other  charles resesvis teactee    the\n",
            "----- diversity: 1.2\n",
            "----- Generating with seed: \"s in different language types will appreciate the hammering home of some of the more distinct concep\"\n",
            "s in different language types will appreciate the hammering home of some of the more distinct concepts the materials i has zefore   very needed concipy to go way thanking in a very absolutely gew tecknews and people through who are gratent basic to follow uboromedistaniancult lave more awesome of  fagred ived gud ts any usine the wort to to wear bofly leve i ve very good knowledga without this only and lesson for he vay up to increared us worlda dirfffscied more concepts out teaching videos like\n",
            "\n",
            "Epoch 00021: loss improved from 0.94047 to 0.93326, saving model to /content/gdrive/My Drive/Capstone/Data/\n",
            "Epoch 22/50\n",
            "2362/2362 [==============================] - 26s 11ms/step - loss: 0.9204 - accuracy: 0.7217 - val_loss: 0.9914 - val_accuracy: 0.7090\n",
            "\n",
            "----- Generating text after Epoch: 21\n",
            "----- diversity: 0.2\n",
            "----- Generating with seed: \"its choice for rookies  its readability complements this and also it is an interpreted language  jus\"\n",
            "its choice for rookies  its readability complements this and also it is an interpreted language  just the professor charles severance                                                                                                                                                                                                                                                                                                                                                                               \n",
            "----- diversity: 0.5\n",
            "----- Generating with seed: \"its choice for rookies  its readability complements this and also it is an interpreted language  jus\"\n",
            "its choice for rookies  its readability complements this and also it is an interpreted language  just to progrems and the instructor is very good to start learn and work for me to got the teacher    this course is very well structured and easy to understand the than the language and i took the inew the first time  i would some beginners  dr  chuck has a great teacher  i still understand the things    the teacher    the instructor is a great teacher  and the first time  thank you so much for ever\n",
            "----- diversity: 1.0\n",
            "----- Generating with seed: \"its choice for rookies  its readability complements this and also it is an interpreted language  jus\"\n",
            "its choice for rookies  its readability complements this and also it is an interpreted language  just for your problem understand bysible very nicely to learn more  inly wants errogimers  this is actually readly manner learner thanks   pression to learn fold a coursera project  which i think it was passione  the bonus instructionss sich a detail wipch a lot of jum   alonep learly great  the course challenging being the instructor is my next course which make the first point for providing an inti\n",
            "----- diversity: 1.2\n",
            "----- Generating with seed: \"its choice for rookies  its readability complements this and also it is an interpreted language  jus\"\n",
            "its choice for rookies  its readability complements this and also it is an interpreted language  just learning python fersorvel teacting stop by comfortable with programming is remerd dus to learn puinevens looking  understand programming even highly recommend and next kitw if you be han  this gases    very irmessful  the lectures covered in learning university to be necessiry not is writt teached in python and they mage factating exactly prictrs univilyiniver  good for albe and came you have no\n",
            "\n",
            "Epoch 00022: loss improved from 0.93326 to 0.92604, saving model to /content/gdrive/My Drive/Capstone/Data/\n",
            "Epoch 23/50\n",
            "2362/2362 [==============================] - 26s 11ms/step - loss: 0.9088 - accuracy: 0.7250 - val_loss: 0.9912 - val_accuracy: 0.7095\n",
            "\n",
            "----- Generating text after Epoch: 22\n",
            "----- diversity: 0.2\n",
            "----- Generating with seed: \"ank you coursera   great teaching  i loved dr  severance  the material was presented in a way that w\"\n",
            "ank you coursera   great teaching  i loved dr  severance  the material was presented in a way that was a great course                                                                                                                                                                                                                                                                                                                                                                                               \n",
            "----- diversity: 0.5\n",
            "----- Generating with seed: \"ank you coursera   great teaching  i loved dr  severance  the material was presented in a way that w\"\n",
            "ank you coursera   great teaching  i loved dr  severance  the material was presented in a way that was allow possible  i was a great pase of the course                                                                                                                                                                                                                                                                                                                                                             \n",
            "----- diversity: 1.0\n",
            "----- Generating with seed: \"ank you coursera   great teaching  i loved dr  severance  the material was presented in a way that w\"\n",
            "ank you coursera   great teaching  i loved dr  severance  the material was presented in a way that worth   so i have neilide enough the most free an charles severance  on the boring was specially explacan teacher  i bilie another courses in enrolmen and this course was very individule and but long and every come manos you to necessary programming for you are wronked you acouniveesing and the slava me job offering  i would done sor any other programming stalf with chrieg if you been i python hewe\n",
            "----- diversity: 1.2\n",
            "----- Generating with seed: \"ank you coursera   great teaching  i loved dr  severance  the material was presented in a way that w\"\n",
            "ank you coursera   great teaching  i loved dr  severance  the material was presented in a way that words of teaching chapter ome each lectures are very newslifully java be alsory being anyous programming  allitalses to startaked you all really beginner them to the famimis or mwes say though sked common to the next learning  always able to uedemently need to haken in insiggine and learned  and sentx to all whate up python  as in one one before         more and thanks for puritis  altour c program\n",
            "\n",
            "Epoch 00023: loss improved from 0.92604 to 0.91938, saving model to /content/gdrive/My Drive/Capstone/Data/\n",
            "Epoch 24/50\n",
            "2362/2362 [==============================] - 27s 11ms/step - loss: 0.9071 - accuracy: 0.7245 - val_loss: 0.9948 - val_accuracy: 0.7073\n",
            "\n",
            "----- Generating text after Epoch: 23\n",
            "----- diversity: 0.2\n",
            "----- Generating with seed: \"t too slow and not too fast  which allowed me to remain   caught up   and confident throughout    th\"\n",
            "t too slow and not too fast  which allowed me to remain   caught up   and confident throughout    this is a great course for the beginner                                                                                                                                                                                                                                                                                                                                                                           \n",
            "----- diversity: 0.5\n",
            "----- Generating with seed: \"t too slow and not too fast  which allowed me to remain   caught up   and confident throughout    th\"\n",
            "t too slow and not too fast  which allowed me to remain   caught up   and confident throughout    this course is the best online course    this is a very interest in programming  the vadeor to learn coding         the instructor is very good course     this course is great for the course  i would like to take this course   the instructor is very good course for this course  matter this course  i would recommend this course to everyone takes the course  the instructor is a great olling resorethan\n",
            "----- diversity: 1.0\n",
            "----- Generating with seed: \"t too slow and not too fast  which allowed me to remain   caught up   and confident throughout    th\"\n",
            "t too slow and not too fast  which allowed me to remain   caught up   and confident throughout    thank you very much of they abllity of the short of this approach the class with exercises willing to learn pythoning they the girding a beginner that caned a lot about learning python  is a still me a stromed to studieve explain the language i wanted to learn python  thank you so much frumer tapkend many the additional appliestat   picks of teaching  no dadat    dogt very the videos as they full wi\n",
            "----- diversity: 1.2\n",
            "----- Generating with seed: \"t too slow and not too fast  which allowed me to remain   caught up   and confident throughout    th\"\n",
            "t too slow and not too fast  which allowed me to remain   caught up   and confident throughout    the way i refindervel of my cotting people with grasp what gives me to learn python bofo all i would abthough to thinking and from at for a way that are very begue data strocsery of the posting where well difficilet  exercises den t be fan  seftbons    dr  chuck is extremely amazing easy course to follow i recomend to get ablot knowledge    exacllent continue many ole dr  chuck really explained  cha\n",
            "\n",
            "Epoch 00024: loss improved from 0.91938 to 0.91273, saving model to /content/gdrive/My Drive/Capstone/Data/\n",
            "Epoch 25/50\n",
            "2362/2362 [==============================] - 27s 11ms/step - loss: 0.9024 - accuracy: 0.7260 - val_loss: 0.9974 - val_accuracy: 0.7073\n",
            "\n",
            "----- Generating text after Epoch: 24\n",
            "----- diversity: 0.2\n",
            "----- Generating with seed: \"   amazing  this was fun  i tired to learn python from some other sources as well such as youtube  u\"\n",
            "   amazing  this was fun  i tired to learn python from some other sources as well such as youtube  university of michigan  i would simply and i was an excellent course                                                                                                                                                                                                                                                                                                                                             \n",
            "----- diversity: 0.5\n",
            "----- Generating with seed: \"   amazing  this was fun  i tired to learn python from some other sources as well such as youtube  u\"\n",
            "   amazing  this was fun  i tired to learn python from some other sources as well such as youtube  university of michigan       i would recommend this course    every being the course in a very helpful  after the chapter   most of programming all the next course in python                                                                                                                                                                                                                                    \n",
            "----- diversity: 1.0\n",
            "----- Generating with seed: \"   amazing  this was fun  i tired to learn python from some other sources as well such as youtube  u\"\n",
            "   amazing  this was fun  i tired to learn python from some other sources as well such as youtube  us to daving a came to take any recorvever with an beginners teacher the ressors a bit of learning course and platform   so definied now to won t respiticy  dafition  dr chuck is amazing  he is very lectures but the lessol is seers course and forces and make it be newbsty   very interesting programmers and become    it with an the greack quasive meet from the best if you want to learn programming  \n",
            "----- diversity: 1.2\n",
            "----- Generating with seed: \"   amazing  this was fun  i tired to learn python from some other sources as well such as youtube  u\"\n",
            "   amazing  this was fun  i tired to learn python from some other sources as well such as youtube  university of michigane so that step alounglughates of explanatassials  that very  from this classes on looked  varuare thank you presion for awout pyshanceinary sabilious dowelied wretto whethorghing forward at perfoblem  all the qularly amazing refresher not only frustrem me the behelogounhyout quite great as the best passion  in the some no wrectures aresmer by lectures varially beginner questio\n",
            "\n",
            "Epoch 00025: loss improved from 0.91273 to 0.90713, saving model to /content/gdrive/My Drive/Capstone/Data/\n",
            "Epoch 26/50\n",
            "2362/2362 [==============================] - 27s 11ms/step - loss: 0.8934 - accuracy: 0.7287 - val_loss: 0.9940 - val_accuracy: 0.7093\n",
            "\n",
            "----- Generating text after Epoch: 25\n",
            "----- diversity: 0.2\n",
            "----- Generating with seed: \"d that this was made for absolute new comers  it s all understandable and works fabulous     i am gl\"\n",
            "d that this was made for absolute new comers  it s all understandable and works fabulous     i am glad to make the course                                                                                                                                                                                                                                                                                                                                                                                           \n",
            "----- diversity: 0.5\n",
            "----- Generating with seed: \"d that this was made for absolute new comers  it s all understandable and works fabulous     i am gl\"\n",
            "d that this was made for absolute new comers  it s all understandable and works fabulous     i am glad to make it so much  i really love this course    this course is more syntax litten to get started with python   i have taken and computer science                                                                                                                                                                                                                                                            \n",
            "----- diversity: 1.0\n",
            "----- Generating with seed: \"d that this was made for absolute new comers  it s all understandable and works fabulous     i am gl\"\n",
            "d that this was made for absolute new comers  it s all understandable and works fabulous     i am glad of the differens borick another like newar challenging building in my different because i am not simplinging price or blesming to builded you to       i am so fundy this questiogher start with an engaged made this course and errorlat ofsed to it   dr  chuck was awesome as it easy to understand   should be love it    great and consider  nores ir yeses in s good in python  but class variour langu\n",
            "----- diversity: 1.2\n",
            "----- Generating with seed: \"d that this was made for absolute new comers  it s all understandable and works fabulous     i am gl\"\n",
            "d that this was made for absolute new comers  it s all understandable and works fabulous     i am glad any good interesting and informative  but easieraly ease to understand teros that it too good understand  hourso priolity to learn both and i have a  but i have tried a  this course great  teaches it would be done programmer  so heverance justraications  style quizzes and   special behe part how the language   i di studed it  sisss give  than specialivatuals  most community to clakers enjoyerdu\n",
            "\n",
            "Epoch 00026: loss improved from 0.90713 to 0.90160, saving model to /content/gdrive/My Drive/Capstone/Data/\n",
            "Epoch 27/50\n",
            "2362/2362 [==============================] - 27s 11ms/step - loss: 0.8853 - accuracy: 0.7312 - val_loss: 0.9949 - val_accuracy: 0.7097\n",
            "\n",
            "----- Generating text after Epoch: 26\n",
            "----- diversity: 0.2\n",
            "----- Generating with seed: \"d add a bit more content  adding up some more concepts to the course so as to match up with the nece\"\n",
            "d add a bit more content  adding up some more concepts to the course so as to match up with the necessiry  i would like to start the course                                                                                                                                                                                                                                                                                                                                                                         \n",
            "----- diversity: 0.5\n",
            "----- Generating with seed: \"d add a bit more content  adding up some more concepts to the course so as to match up with the nece\"\n",
            "d add a bit more content  adding up some more concepts to the course so as to match up with the necessary  the instructor and i was already for you                                                                                                                                                                                                                                                                                                                                                                 \n",
            "----- diversity: 1.0\n",
            "----- Generating with seed: \"d add a bit more content  adding up some more concepts to the course so as to match up with the nece\"\n",
            "d add a bit more content  adding up some more concepts to the course so as to match up with the necessiry   the way thanks must funning you     dr  chuck skell thro provided my caper exercises and gasis to code with python  easy to follow  and dedilize of coursera well teresty my style thank you for such shing to deviews the courses that i do glad to chapker think about the material  but the instructor is bructures are interested in pass of presenting accers in a re different and the instructor \n",
            "----- diversity: 1.2\n",
            "----- Generating with seed: \"d add a bit more content  adding up some more concepts to the course so as to match up with the nece\"\n",
            "d add a bit more content  adding up some more concepts to the course so as to match up with the necessir  du abolia  down the whole information i aweso m awastel   week     i m just love friendly  background think ou sumple with assilf sicqling the course and this was very well one with nuch    so it islow corstar  respectat  all assignment c a herpine me very step by step me make this casso  i for comfortving difficult for up other your learning course to praf he mort very python  dr  chuck cou\n",
            "\n",
            "Epoch 00027: loss improved from 0.90160 to 0.89548, saving model to /content/gdrive/My Drive/Capstone/Data/\n",
            "Epoch 28/50\n",
            "2362/2362 [==============================] - 27s 11ms/step - loss: 0.8836 - accuracy: 0.7313 - val_loss: 0.9948 - val_accuracy: 0.7099\n",
            "\n",
            "----- Generating text after Epoch: 27\n",
            "----- diversity: 0.2\n",
            "----- Generating with seed: \"rse for a different language in university and i totally hated it  i thought to give it a try again \"\n",
            "rse for a different language in university and i totally hated it  i thought to give it a try again                                                                                                                                                                                                                                                                                                                                                                                                                 \n",
            "----- diversity: 0.5\n",
            "----- Generating with seed: \"rse for a different language in university and i totally hated it  i thought to give it a try again \"\n",
            "rse for a different language in university and i totally hated it  i thought to give it a try again learning more     i love the course is very good for me a lot                                                                                                                                                                                                                                                                                                                                                   \n",
            "----- diversity: 1.0\n",
            "----- Generating with seed: \"rse for a different language in university and i totally hated it  i thought to give it a try again \"\n",
            "rse for a different language in university and i totally hated it  i thought to give it a try again       i feel just time  course  had wele made learning  i knows interestent of the skill     this is a love this course  but in discourse is beginners very a hight presentation            the professor is a great job   so this course apply but i found this course but material is excerses              and  why are moct time  again to learn function ques why the     onlow programs   with the way the\n",
            "----- diversity: 1.2\n",
            "----- Generating with seed: \"rse for a different language in university and i totally hated it  i thought to give it a try again \"\n",
            "rse for a different language in university and i totally hated it  i thought to give it a try again ex mods and take aveluxerds proserble skills every llaked dole rungling to more  but i tanke thees dr  charles skatch than groatues to python easy lecture and his much on long  style  mult now completel and wase my gores and learn  overnailly  thas charles was problems  i really recommend this aperiaumer proper explained in your introduction to pwaym in siecce really enjoy   a great teachers  the \n",
            "\n",
            "Epoch 00028: loss improved from 0.89548 to 0.89135, saving model to /content/gdrive/My Drive/Capstone/Data/\n",
            "Epoch 29/50\n",
            "2362/2362 [==============================] - 27s 11ms/step - loss: 0.8810 - accuracy: 0.7325 - val_loss: 0.9985 - val_accuracy: 0.7084\n",
            "\n",
            "----- Generating text after Epoch: 28\n",
            "----- diversity: 0.2\n",
            "----- Generating with seed: \" air and try again  the feeling is amazing when you run the code perfectly    no prior experience in\"\n",
            " air and try again  the feeling is amazing when you run the code perfectly    no prior experience in the course  this is the best course                                                                                                                                                                                                                                                                                                                                                                            \n",
            "----- diversity: 0.5\n",
            "----- Generating with seed: \" air and try again  the feeling is amazing when you run the code perfectly    no prior experience in\"\n",
            " air and try again  the feeling is amazing when you run the code perfectly    no prior experience in the beginner to learn python from the teacher    this is the best course that i did and also any person with python    it is a very good course for beginners  the course     i am such a great teacher  i may this is a great teacher  i really like this course        the course is the most to provide and fun to the things thanks to dr  chuck for the one                                               \n",
            "----- diversity: 1.0\n",
            "----- Generating with seed: \" air and try again  the feeling is amazing when you run the code perfectly    no prior experience in\"\n",
            " air and try again  the feeling is amazing when you run the code perfectly    no prior experience in programming  quizzes and haln this is starts from leortorial concepts of python in taking this course  the instructor programming  dr  chuck  very entlysigned the detabable make son hos the whole topo de ent minoue can understand unformunies and i am really great from able to contine with and little to understand the way and ser   you saugerffer  you will learn more about programming things with \n",
            "----- diversity: 1.2\n",
            "----- Generating with seed: \" air and try again  the feeling is amazing when you run the code perfectly    no prior experience in\"\n",
            " air and try again  the feeling is amazing when you run the code perfectly    no prior experience in the rigem to   putses and meeber that the solving much extremely ail  i feel computer languages  but think courses to inten tne thrnughtrought who wants to start programming  this convers    naving figambed of this slowled works be chrours the it exercises  somick op reving of coursera way i this class puople to coding againg make should solld a lot of edrogratal cedextent simple  you willd movot\n",
            "\n",
            "Epoch 00029: loss improved from 0.89135 to 0.88561, saving model to /content/gdrive/My Drive/Capstone/Data/\n",
            "Epoch 30/50\n",
            "2362/2362 [==============================] - 27s 11ms/step - loss: 0.8722 - accuracy: 0.7346 - val_loss: 1.0036 - val_accuracy: 0.7061\n",
            "\n",
            "----- Generating text after Epoch: 29\n",
            "----- diversity: 0.2\n",
            "----- Generating with seed: \"up on this forum  it really helped me in getting up to speed with the basics of python  i ll continu\"\n",
            "up on this forum  it really helped me in getting up to speed with the basics of python  i ll continue to the course                                                                                                                                                                                                                                                                                                                                                                                                 \n",
            "----- diversity: 0.5\n",
            "----- Generating with seed: \"up on this forum  it really helped me in getting up to speed with the basics of python  i ll continu\"\n",
            "up on this forum  it really helped me in getting up to speed with the basics of python  i ll continue to programming and planginn to complete this course  i am so make the skills in the course  i would like to take this course        the course is a great teacher  i would like to start your first to do the video                                                                                                                                                                                           \n",
            "----- diversity: 1.0\n",
            "----- Generating with seed: \"up on this forum  it really helped me in getting up to speed with the basics of python  i ll continu\"\n",
            "up on this forum  it really helped me in getting up to speed with the basics of python  i ll continue from the vade frees manued toen to go would to the very well for it situbse me interactive and start  easy to me   verross than  years out him  interested in programming and so kidl swest for everybody  because i must very tudoul and using python on freeling into scaying to learn amazing  fundamentant way are mentor advince to write clearing courses that it the courses all the courses as the lec\n",
            "----- diversity: 1.2\n",
            "----- Generating with seed: \"up on this forum  it really helped me in getting up to speed with the basics of python  i ll continu\"\n",
            "up on this forum  it really helped me in getting up to speed with the basics of python  i ll continue to than we just simple forst thing he ams at trainflable  days introkstrated python   and a trying to the very programming like basic python and anyone canre in the platformation end to as a really glod be learnay classes usuel bitld years  and even his fantastic using  it couldntageevert and beyon  i find python and coursera anothodo examples of study prof  cerend ansoluterbogh this classi  for\n",
            "\n",
            "Epoch 00030: loss improved from 0.88561 to 0.88207, saving model to /content/gdrive/My Drive/Capstone/Data/\n",
            "Epoch 31/50\n",
            "2362/2362 [==============================] - 27s 11ms/step - loss: 0.8668 - accuracy: 0.7366 - val_loss: 1.0023 - val_accuracy: 0.7072\n",
            "\n",
            "----- Generating text after Epoch: 30\n",
            "----- diversity: 0.2\n",
            "----- Generating with seed: \" get started  also the teacher had great examples  to make his points clear and really good videos  \"\n",
            " get started  also the teacher had great examples  to make his points clear and really good videos  the course is programming  i am a beginner  the course is very good and the instructor is very good course for the beginning  i have never helpful  i had a great teacher  i had a great teacher  i have ever helped me in the first time to start the course                                                                                                                                                   \n",
            "----- diversity: 0.5\n",
            "----- Generating with seed: \" get started  also the teacher had great examples  to make his points clear and really good videos  \"\n",
            " get started  also the teacher had great examples  to make his points clear and really good videos  professor severance    the instructor is well awesome                                                                                                                                                                                                                                                                                                                                                           \n",
            "----- diversity: 1.0\n",
            "----- Generating with seed: \" get started  also the teacher had great examples  to make his points clear and really good videos  \"\n",
            " get started  also the teacher had great examples  to make his points clear and really good videos  thanks to professors s well sation to the code  but if you hardologhone of programming   so so wettrieg  you many through coursera  evengrating thinking so my basics of python in learning exciting lecture very ofating mestude and demognisial  havchiqutly  i how to have the more material it showl he start programming this course easi was a pleasant learning and feel brouggly athending programming c\n",
            "----- diversity: 1.2\n",
            "----- Generating with seed: \" get started  also the teacher had great examples  to make his points clear and really good videos  \"\n",
            " get started  also the teacher had great examples  to make his points clear and really good videos  i refert i wished my way to how dobsoluged the next claxif times seeming too screanits  asstruity engaging and easy to unly pace togethed especience with it will cert te formam too sjaing  miscablancims basics  it is the bast thank you  a wey  this course is a beginner code accernive accorning lenguses i have backed moying sooving jubteld lesss of code  for the book fanily  i smalled the world of \n",
            "\n",
            "Epoch 00031: loss improved from 0.88207 to 0.87668, saving model to /content/gdrive/My Drive/Capstone/Data/\n",
            "Epoch 32/50\n",
            "2362/2362 [==============================] - 27s 11ms/step - loss: 0.8619 - accuracy: 0.7381 - val_loss: 1.0091 - val_accuracy: 0.7060\n",
            "\n",
            "----- Generating text after Epoch: 31\n",
            "----- diversity: 0.2\n",
            "----- Generating with seed: \"he advanced courses as well thank you charles   very good course    dr  chuck   showed me the bsics \"\n",
            "he advanced courses as well thank you charles   very good course    dr  chuck   showed me the bsics of course                                                                                                                                                                                                                                                                                                                                                                                                       \n",
            "----- diversity: 0.5\n",
            "----- Generating with seed: \"he advanced courses as well thank you charles   very good course    dr  chuck   showed me the bsics \"\n",
            "he advanced courses as well thank you charles   very good course    dr  chuck   showed me the bsics of everybody        i am very excited to learn python betail students in this course i have everyone  outstanding python be a to its for beginners   i will learn programming  i have already to take the course content                                                                                                                                                                                        \n",
            "----- diversity: 1.0\n",
            "----- Generating with seed: \"he advanced courses as well thank you charles   very good course    dr  chuck   showed me the bsics \"\n",
            "he advanced courses as well thank you charles   very good course    dr  chuck   showed me the bsics of everything respects my course for beginners when or specialization  i enjoyed it going to dob get be ueder whech i felt coding about programming  regaries up moniable  all these verysed on the way that you move you like the language that rescell  keeds it to the beginners and wonderfuted with them all the end over a reach quizzes and attated my decrrous cerriocally us the programming lense  i t\n",
            "----- diversity: 1.2\n",
            "----- Generating with seed: \"he advanced courses as well thank you charles   very good course    dr  chuck   showed me the bsics \"\n",
            "he advanced courses as well thank you charles   very good course    dr  chuck   showed me the bsics of these chapterme  prisence  this course way  i m lot of it very good overele they peefed corment to be a sometity on python basic and pytronting and profess to screnting python and just  dr  seasy i feel can start   dr chuck extepfases or op a drown severance     very helpful  aids   alonitily and d ybuily scided and cap i recommended point put more even both any ponet sore backgroung university\n",
            "\n",
            "Epoch 00032: loss improved from 0.87668 to 0.87285, saving model to /content/gdrive/My Drive/Capstone/Data/\n",
            "Epoch 33/50\n",
            "2362/2362 [==============================] - 27s 12ms/step - loss: 0.8638 - accuracy: 0.7373 - val_loss: 1.0083 - val_accuracy: 0.7068\n",
            "\n",
            "----- Generating text after Epoch: 32\n",
            "----- diversity: 0.2\n",
            "----- Generating with seed: \"his is definitely a course for someone who is a total beginner to python and to coding  it was a bit\"\n",
            "his is definitely a course for someone who is a total beginner to python and to coding  it was a bit of programming                                                                                                                                                                                                                                                                                                                                                                                                 \n",
            "----- diversity: 0.5\n",
            "----- Generating with seed: \"his is definitely a course for someone who is a total beginner to python and to coding  it was a bit\"\n",
            "his is definitely a course for someone who is a total beginner to python and to coding  it was a bit of codes  me to learn programming  this course can make the lecturer things in studying to take this course   i have been it is a great teacher  and i was also not have a new learners     dr  chuck                                                                                                                                                                                                          \n",
            "----- diversity: 1.0\n",
            "----- Generating with seed: \"his is definitely a course for someone who is a total beginner to python and to coding  it was a bit\"\n",
            "his is definitely a course for someone who is a total beginner to python and to coding  it was a bit of programming  kyth or was enthusiys if you have to learn the forum   eacgly  good funnable very absolutely nice the first other teachers  genditely and also has no my also me and learner in python  respect had except in offer  i wrild python  all  for you  in an aid  credeisly playgurate  kind ot functions in teaching and he   i stee before the coursery acc provider of universite course thank y\n",
            "----- diversity: 1.2\n",
            "----- Generating with seed: \"his is definitely a course for someone who is a total beginner to python and to coding  it was a bit\"\n",
            "his is definitely a course for someone who is a total beginner to python and to coding  it was a bit programmer  but apmod that fill for helping you textran sicule dealylone caseas  alreided students  ot indo all about now also experience  most interesting and really well or becomed course beginner course for python   dr charles sis the rewormed to think basics  thanks  soutiok  and recommended to my programming way no liter to besax background of other course i havence se  really useful and pre\n",
            "\n",
            "Epoch 00033: loss improved from 0.87285 to 0.86883, saving model to /content/gdrive/My Drive/Capstone/Data/\n",
            "Epoch 34/50\n",
            "2362/2362 [==============================] - 27s 11ms/step - loss: 0.8544 - accuracy: 0.7402 - val_loss: 1.0115 - val_accuracy: 0.7061\n",
            "\n",
            "----- Generating text after Epoch: 33\n",
            "----- diversity: 0.2\n",
            "----- Generating with seed: \"eks  helped me get started with python  the instructor is good  its like your personal tutor     mor\"\n",
            "eks  helped me get started with python  the instructor is good  its like your personal tutor     more complex programmers  the instructor                                                                                                                                                                                                                                                                                                                                                                           \n",
            "----- diversity: 0.5\n",
            "----- Generating with seed: \"eks  helped me get started with python  the instructor is good  its like your personal tutor     mor\"\n",
            "eks  helped me get started with python  the instructor is good  its like your personal tutor     more class  it was my first and its we are already familiar with this course and all the instructor     i have a lot of the course and the instructor                                                                                                                                                                                                                                                              \n",
            "----- diversity: 1.0\n",
            "----- Generating with seed: \"eks  helped me get started with python  the instructor is good  its like your personal tutor     mor\"\n",
            "eks  helped me get started with python  the instructor is good  its like your personal tutor     more bille and experience it is an excellent learning providing so quatic  it would be doesn t engettaglor was mesu  but and  i really appremice provided them quiz  as fun to get more concepts   at as will helpful  highly replent the concepts covers amazing  i mopt fun us experience   severance is the following platform  the same thanks to coursera  differents that i had no teacher  the assignments  \n",
            "----- diversity: 1.2\n",
            "----- Generating with seed: \"eks  helped me get started with python  the instructor is good  its like your personal tutor     mor\"\n",
            "eks  helped me get started with python  the instructor is good  its like your personal tutor     more class if you get programs to understand for makingt instauttor   staty because it cope all the professor at membizanice a very previlation and some one on the quizzes in fromet sime  good informunialmed it if you are any d get preciscera though up the bass   in contlanuin without vers pythones annidews definitely the beginner for lears really great  foundation  i more idevelomer to see more if t\n",
            "\n",
            "Epoch 00034: loss improved from 0.86883 to 0.86443, saving model to /content/gdrive/My Drive/Capstone/Data/\n",
            "Epoch 35/50\n",
            "2362/2362 [==============================] - 27s 11ms/step - loss: 0.8550 - accuracy: 0.7395 - val_loss: 1.0082 - val_accuracy: 0.7058\n",
            "\n",
            "----- Generating text after Epoch: 34\n",
            "----- diversity: 0.2\n",
            "----- Generating with seed: \"ce on python  fantastic introductory course to programming  dr charles severance makes learning how \"\n",
            "ce on python  fantastic introductory course to programming  dr charles severance makes learning how to the course                                                                                                                                                                                                                                                                                                                                                                                                   \n",
            "----- diversity: 0.5\n",
            "----- Generating with seed: \"ce on python  fantastic introductory course to programming  dr charles severance makes learning how \"\n",
            "ce on python  fantastic introductory course to programming  dr charles severance makes learning how to code in   this course was very interesting and important and also introduction about programming      i was already know new thing about python   this is the important to be able to get the teachers thanks to coursera         i love the way he took me                                                                                                                                                  \n",
            "----- diversity: 1.0\n",
            "----- Generating with seed: \"ce on python  fantastic introductory course to programming  dr charles severance makes learning how \"\n",
            "ce on python  fantastic introductory course to programming  dr charles severance makes learning how the concepts were get coursea programmizg  charles background what is wanting so the course is just hears  from different provide loves the lectures  excellent course to do it for anyone linit to introduce with no way to begin  i liked horong this course but i can understand the way now was not any new to teach study skills from their things fundamental coust this platform languages  functions for\n",
            "----- diversity: 1.2\n",
            "----- Generating with seed: \"ce on python  fantastic introductory course to programming  dr charles severance makes learning how \"\n",
            "ce on python  fantastic introductory course to programming  dr charles severance makes learning how into courses i majod this course is shopt furtidatior from dear if i had previobally    effort breathervimul  the ressons chapter  highly recommended in highe though i found it jost which even for even student in   weills about any different friendly and eqpir one classes i it conligge his teaching us to coursera journey with the roop   bi what provided the quiz and programming for everybody  but \n",
            "\n",
            "Epoch 00035: loss improved from 0.86443 to 0.86089, saving model to /content/gdrive/My Drive/Capstone/Data/\n",
            "Epoch 36/50\n",
            "2362/2362 [==============================] - 27s 12ms/step - loss: 0.8474 - accuracy: 0.7418 - val_loss: 1.0102 - val_accuracy: 0.7058\n",
            "\n",
            "----- Generating text after Epoch: 35\n",
            "----- diversity: 0.2\n",
            "----- Generating with seed: \"ves me confidence  and more importantly  i would like to learn further  thank you dr charles  wish y\"\n",
            "ves me confidence  and more importantly  i would like to learn further  thank you dr charles  wish you can tere that the course is a great course  i have taken i am so gramed  the course is great                                                                                                                                                                                                                                                                                                                 \n",
            "----- diversity: 0.5\n",
            "----- Generating with seed: \"ves me confidence  and more importantly  i would like to learn further  thank you dr charles  wish y\"\n",
            "ves me confidence  and more importantly  i would like to learn further  thank you dr charles  wish you nice to complete the course      i like the course could readme  i structured the videos are not into this feeling interesting and easy to understand the concepts and the professor is a very good course for beginners    i think this course was many journey to learn python    i am a thought course and i was a great course  the course is very good and concise some programming before this course  \n",
            "----- diversity: 1.0\n",
            "----- Generating with seed: \"ves me confidence  and more importantly  i would like to learn further  thank you dr charles  wish y\"\n",
            "ves me confidence  and more importantly  i would like to learn further  thank you dr charles  wish you are  he is better understand and thanks to sense he couldng this course way overance and class  thank you for this and    the course is been designed use the course convering a leive in this course always one perions learned in at explaining things in i have just starting of things fur  who want to theem after i have very beginning but if you great whick this is well prof rech  he incliducely t\n",
            "----- diversity: 1.2\n",
            "----- Generating with seed: \"ves me confidence  and more importantly  i would like to learn further  thank you dr charles  wish y\"\n",
            "ves me confidence  and more importantly  i would like to learn further  thank you dr charles  wish you dr chooled everything glad was by opening to take this cluss that c am basic learning  getting stuftexithen orverwhole confident  the course i was spic such hope to still i just want to uest whore gleas  also it guided for challengiva and material in programing   programming but i found experiencity to hay through university code involvinatiss  student video it excellently with this inguluce co\n",
            "\n",
            "Epoch 00036: loss improved from 0.86089 to 0.85808, saving model to /content/gdrive/My Drive/Capstone/Data/\n",
            "Epoch 37/50\n",
            "2362/2362 [==============================] - 27s 12ms/step - loss: 0.8415 - accuracy: 0.7435 - val_loss: 1.0159 - val_accuracy: 0.7058\n",
            "\n",
            "----- Generating text after Epoch: 36\n",
            "----- diversity: 0.2\n",
            "----- Generating with seed: \"programming in easier way   a very good course for beginners who don t know from where to start lear\"\n",
            "programming in easier way   a very good course for beginners who don t know from where to start learning python                                                                                                                                                                                                                                                                                                                                                                                                     \n",
            "----- diversity: 0.5\n",
            "----- Generating with seed: \"programming in easier way   a very good course for beginners who don t know from where to start lear\"\n",
            "programming in easier way   a very good course for beginners who don t know from where to start learning python  dr  chuck is a great introduction to python        dr  chuck is a great instructions  i had a great instructor  detail in programming                                                                                                                                                                                                                                                              \n",
            "----- diversity: 1.0\n",
            "----- Generating with seed: \"programming in easier way   a very good course for beginners who don t know from where to start lear\"\n",
            "programming in easier way   a very good course for beginners who don t know from where to start learning intu to have i have learned from non  i think this course for besimes greated consiot on mossives of python   i great    thank you for python   for someone who in python the renead programming maticaling this concepts if you re like in a perfect mich great his definitely explaining hard to progress shows very encourages and quiz was mr  some background on exacting   with the specialization fr\n",
            "----- diversity: 1.2\n",
            "----- Generating with seed: \"programming in easier way   a very good course for beginners who don t know from where to start lear\"\n",
            "programming in easier way   a very good course for beginners who don t know from where to start learning python  from programming skill because goide in thinfs denaig howe you have taken coursera from supercation and i was a pla moriss a before and enjoyed you  aftios in this time at founds and finss and helpful and dr chuck  quession of the basics in programming a littod of how going for   this was mystels to encousing the dass  practical can be ability  my people the way some same courses  tha\n",
            "\n",
            "Epoch 00037: loss improved from 0.85808 to 0.85376, saving model to /content/gdrive/My Drive/Capstone/Data/\n",
            "Epoch 38/50\n",
            "2362/2362 [==============================] - 28s 12ms/step - loss: 0.8417 - accuracy: 0.7421 - val_loss: 1.0133 - val_accuracy: 0.7072\n",
            "\n",
            "----- Generating text after Epoch: 37\n",
            "----- diversity: 0.2\n",
            "----- Generating with seed: \"es for gaining more experience and skill    i m feeling blessed for taking this course  right now  i\"\n",
            "es for gaining more experience and skill    i m feeling blessed for taking this course  right now  i m a good course    this course is a very good course  i am very good for beginners  i really like the course without the beginner was a great introduction to python    this is a great introduction to python    i am very good for a month on python                                                                                                                                                         \n",
            "----- diversity: 0.5\n",
            "----- Generating with seed: \"es for gaining more experience and skill    i m feeling blessed for taking this course  right now  i\"\n",
            "es for gaining more experience and skill    i m feeling blessed for taking this course  right now  i was afrecor was very much for beginners  the course is very good and i am so excited to continue to the concepts of python                                                                                                                                                                                                                                                                                     \n",
            "----- diversity: 1.0\n",
            "----- Generating with seed: \"es for gaining more experience and skill    i m feeling blessed for taking this course  right now  i\"\n",
            "es for gaining more experience and skill    i m feeling blessed for taking this course  right now  in my assignments s fase traked easy learning for met of i feel losd i feel seme highly recommend it to the assignments  was fac and can easy  i riffentally learning for beginners  it has a thoroughe and career to the course will other orater his basif other python    this is the best way thankful for beginners easy to understand friendly need and its well structured and understandand special throu\n",
            "----- diversity: 1.2\n",
            "----- Generating with seed: \"es for gaining more experience and skill    i m feeling blessed for taking this course  right now  i\"\n",
            "es for gaining more experience and skill    i m feeling blessed for taking this course  right now  i m alreatings being taid to teaches your pronend thicks for beginner so can take those windernges  the course is maak you high that ailfores all only highly reconment companiagt with chapter   fom those why python because of highly refera knowledge learning prior to python  navr python  mode gradefol in year fun  i love just as that dowand programnisuance  i believe in curriecl is going all the ba\n",
            "\n",
            "Epoch 00038: loss improved from 0.85376 to 0.85070, saving model to /content/gdrive/My Drive/Capstone/Data/\n",
            "Epoch 39/50\n",
            "2362/2362 [==============================] - 27s 12ms/step - loss: 0.8391 - accuracy: 0.7449 - val_loss: 1.0182 - val_accuracy: 0.7045\n",
            "\n",
            "----- Generating text after Epoch: 38\n",
            "----- diversity: 0.2\n",
            "----- Generating with seed: \"than for complex ideas  when starting on a totally new way of thinking  it really helps to have  obv\"\n",
            "than for complex ideas  when starting on a totally new way of thinking  it really helps to have  obvious and the instructor is very good course                                                                                                                                                                                                                                                                                                                                                                     \n",
            "----- diversity: 0.5\n",
            "----- Generating with seed: \"than for complex ideas  when starting on a totally new way of thinking  it really helps to have  obv\"\n",
            "than for complex ideas  when starting on a totally new way of thinking  it really helps to have  obvies and special than years         the course is the best course    i have taken a learning to get other courses to be your first like the basics of python  thanks a lot                                                                                                                                                                                                                                       \n",
            "----- diversity: 1.0\n",
            "----- Generating with seed: \"than for complex ideas  when starting on a totally new way of thinking  it really helps to have  obv\"\n",
            "than for complex ideas  when starting on a totally new way of thinking  it really helps to have  obvies  dr  chuck and classes     i was abilitidy times to continue python in all by no way presently  y wrice more ifferlant such a great course  create to undirs and easy to jours  with my used the appoting jove  possibly  i wish each of along a long has loggines as a whole or what you will continue this specialization programing  is has a bit of coding course in the basis and just effort programmi\n",
            "----- diversity: 1.2\n",
            "----- Generating with seed: \"than for complex ideas  when starting on a totally new way of thinking  it really helps to have  obv\"\n",
            "than for complex ideas  when starting on a totally new way of thinking  it really helps to have  obvogor with me to achiesmed if its  well on craptivater thing in py enybaible introducery inssumionuite eare and explenn the course of python  exercises  spepd locke a complete efforts then of programming  the neverstac  that you wincents with every video from encar limble appreacces of courseraper  the material  becauss a cliss me good  and also wittoute a learning easily de liters begin knowledge \n",
            "\n",
            "Epoch 00039: loss improved from 0.85070 to 0.84735, saving model to /content/gdrive/My Drive/Capstone/Data/\n",
            "Epoch 40/50\n",
            "2362/2362 [==============================] - 27s 12ms/step - loss: 0.8373 - accuracy: 0.7438 - val_loss: 1.0199 - val_accuracy: 0.7054\n",
            "\n",
            "----- Generating text after Epoch: 39\n",
            "----- diversity: 0.2\n",
            "----- Generating with seed: \"excellent teaching along with fun at the same time the course is excellent for beginners where he st\"\n",
            "excellent teaching along with fun at the same time the course is excellent for beginners where he starts from the teaching style  i would like to start with the course                                                                                                                                                                                                                                                                                                                                             \n",
            "----- diversity: 0.5\n",
            "----- Generating with seed: \"excellent teaching along with fun at the same time the course is excellent for beginners where he st\"\n",
            "excellent teaching along with fun at the same time the course is excellent for beginners where he starts from the beginning knowledge about python and explains easy to understand  in the assignments are very too exenchory course    i am so informative and a programmer  professor charles ru for the course  i would like to thank the course  i will definitely completed this course and the next course for more for anyone as well  the teacher  i would like to take your to enroll special  charles seve\n",
            "----- diversity: 1.0\n",
            "----- Generating with seed: \"excellent teaching along with fun at the same time the course is excellent for beginners where he st\"\n",
            "excellent teaching along with fun at the same time the course is excellent for beginners where he stert and see   i d an examples very a botts  great course    but contra allow picked in mind in colieg those  very interesting querrains    it is peryent pays to communt other hour to beginners what is teaching and prior knowledge but i feel builds it s very canzer  the instructor did can tanes my knowing from  learning python and explains computer language of course provides gettranning knowledge \n",
            "----- diversity: 1.2\n",
            "----- Generating with seed: \"excellent teaching along with fun at the same time the course is excellent for beginners where he st\"\n",
            "excellent teaching along with fun at the same time the course is excellent for beginners where he statagee  this is my forum logic  many promp  programming journe which issue of python learner    this is amazing to fix    stopice to about in tx the projence   i would recols adallybuildifuse with to use entoll course in python best course  hignly sent again things in lettat for a complete  thank you so enjoying a much much appreciate the course about the course   dating aid possion with this cour\n",
            "\n",
            "Epoch 00040: loss improved from 0.84735 to 0.84447, saving model to /content/gdrive/My Drive/Capstone/Data/\n",
            "Epoch 41/50\n",
            "2362/2362 [==============================] - 28s 12ms/step - loss: 0.8349 - accuracy: 0.7456 - val_loss: 1.0221 - val_accuracy: 0.7042\n",
            "\n",
            "----- Generating text after Epoch: 40\n",
            "----- diversity: 0.2\n",
            "----- Generating with seed: \" a brilliant teacher  the additional content provided  was also of grear help  looking forward to co\"\n",
            " a brilliant teacher  the additional content provided  was also of grear help  looking forward to complete the course                                                                                                                                                                                                                                                                                                                                                                                               \n",
            "----- diversity: 0.5\n",
            "----- Generating with seed: \" a brilliant teacher  the additional content provided  was also of grear help  looking forward to co\"\n",
            " a brilliant teacher  the additional content provided  was also of grear help  looking forward to complete this course                                                                                                                                                                                                                                                                                                                                                                                              \n",
            "----- diversity: 1.0\n",
            "----- Generating with seed: \" a brilliant teacher  the additional content provided  was also of grear help  looking forward to co\"\n",
            " a brilliant teacher  the additional content provided  was also of grear help  looking forward to complete this course   i highly recommend this course to a one to are recommending this course and i had looking to take the course on my understanding  continu information  claring and awesome to practice and clearing the course challenging all   starting to code in my java teaminic  but pass the lessons to road   it is important at a the meet plat   i m able to each zero lectures  the students enj\n",
            "----- diversity: 1.2\n",
            "----- Generating with seed: \" a brilliant teacher  the additional content provided  was also of grear help  looking forward to co\"\n",
            " a brilliant teacher  the additional content provided  was also of grear help  looking forward to complete the course when through the othinus  on simple simple ruthrized this thank you    working be university omeso  motbour course     this course is very ownay to it to the professor is supprome take sengent  after understantion for python haves haves to be kide  with some certimining    i have done mistabl speaking to intr  chicing asomestan learning process  very week before two clear  python\n",
            "\n",
            "Epoch 00041: loss improved from 0.84447 to 0.84231, saving model to /content/gdrive/My Drive/Capstone/Data/\n",
            "Epoch 42/50\n",
            "2362/2362 [==============================] - 27s 12ms/step - loss: 0.8237 - accuracy: 0.7496 - val_loss: 1.0250 - val_accuracy: 0.7033\n",
            "\n",
            "----- Generating text after Epoch: 41\n",
            "----- diversity: 0.2\n",
            "----- Generating with seed: \"t know the syntax of any programming language still its not a big deal you will go on smoother in th\"\n",
            "t know the syntax of any programming language still its not a big deal you will go on smoother in this course                                                                                                                                                                                                                                                                                                                                                                                                       \n",
            "----- diversity: 0.5\n",
            "----- Generating with seed: \"t know the syntax of any programming language still its not a big deal you will go on smoother in th\"\n",
            "t know the syntax of any programming language still its not a big deal you will go on smoother in this course   i was a great course for the world of programming explanation    the course can be a better                                                                                                                                                                                                                                                                                                         \n",
            "----- diversity: 1.0\n",
            "----- Generating with seed: \"t know the syntax of any programming language still its not a big deal you will go on smoother in th\"\n",
            "t know the syntax of any programming language still its not a big deal you will go on smoother in this course  i had lotionation  as wext excilmend the first course    weeks   the course coursera  looking forward to user all internet isso scylone course and i thole introduced the view eacu exercises was he good learning experience  very glad to comeon to experience  the rest intr   i was decivion  charles        mony stast  did not  so that hesieves   that can use able to get it sortigly experie\n",
            "----- diversity: 1.2\n",
            "----- Generating with seed: \"t know the syntax of any programming language still its not a big deal you will go on smoother in th\"\n",
            "t know the syntax of any programming language still its not a big deal you will go on smoother in this level   starting and absuli and to improve i have addited greas topics while bllafs in the one tool  who want to crilk these don    i stut to recommend and onstwartel simuly easy to understand and forent and dr  chuck  python    yeals at the continus things learning python  works  challes for specialization   like helped me to know this to playing of thes and professor is so explained the nonts\n",
            "\n",
            "Epoch 00042: loss improved from 0.84231 to 0.83874, saving model to /content/gdrive/My Drive/Capstone/Data/\n",
            "Epoch 43/50\n",
            "2362/2362 [==============================] - 27s 12ms/step - loss: 0.8298 - accuracy: 0.7458 - val_loss: 1.0246 - val_accuracy: 0.7037\n",
            "\n",
            "----- Generating text after Epoch: 42\n",
            "----- diversity: 0.2\n",
            "----- Generating with seed: \"mputers in this case  ample examples to help any novice to relate and appreciate the art of programm\"\n",
            "mputers in this case  ample examples to help any novice to relate and appreciate the art of programming  it is a great experience to the best instructor                                                                                                                                                                                                                                                                                                                                                            \n",
            "----- diversity: 0.5\n",
            "----- Generating with seed: \"mputers in this case  ample examples to help any novice to relate and appreciate the art of programm\"\n",
            "mputers in this case  ample examples to help any novice to relate and appreciate the art of programming  i am really good course for those who have never do the course is ease to understand  i have some previous knowledge and they is an excellent teacher                                                                                                                                                                                                                                                      \n",
            "----- diversity: 1.0\n",
            "----- Generating with seed: \"mputers in this case  ample examples to help any novice to relate and appreciate the art of programm\"\n",
            "mputers in this case  ample examples to help any novice to relate and appreciate the art of programming it is a lot of this       overare quast i couldeming all ats  highly recommend this though it was a very good course for beginners  to really useful teaching beginner in a complete beginner  really a beginner  statere  thank you ve a fantalable enjoyable  buc of the basics   i am really great in teaching can proplem i am soo in it  and as computer sciences to understand  i like i ve learn none\n",
            "----- diversity: 1.2\n",
            "----- Generating with seed: \"mputers in this case  ample examples to help any novice to relate and appreciate the art of programm\"\n",
            "mputers in this case  ample examples to help any novice to relate and appreciate the art of programming other programming languages righly recommend other friends time programmer  agary really good whatever thus times things always great teacher  he creakt the packed the course and other programming assignments are a feeling from by lask   he maked the intule was clear  is and the appleing out ormal   he jister designing to all  downladated  you have  before prepared in so much easies those  you\n",
            "\n",
            "Epoch 00043: loss improved from 0.83874 to 0.83650, saving model to /content/gdrive/My Drive/Capstone/Data/\n",
            "Epoch 44/50\n",
            "2362/2362 [==============================] - 27s 12ms/step - loss: 0.8269 - accuracy: 0.7473 - val_loss: 1.0299 - val_accuracy: 0.7044\n",
            "\n",
            "----- Generating text after Epoch: 43\n",
            "----- diversity: 0.2\n",
            "----- Generating with seed: \"ng  even  if the programming language is python  the course gives the student the base of programmin\"\n",
            "ng  even  if the programming language is python  the course gives the student the base of programming  i am a beginner                                                                                                                                                                                                                                                                                                                                                                                              \n",
            "----- diversity: 0.5\n",
            "----- Generating with seed: \"ng  even  if the programming language is python  the course gives the student the base of programmin\"\n",
            "ng  even  if the programming language is python  the course gives the student the base of programming   the course is a great intro to programming  thank you so much  i have done me  thanks to coursera    i think this course  i am such a great intro t                                                                                                                                                                                                                                                         \n",
            "----- diversity: 1.0\n",
            "----- Generating with seed: \"ng  even  if the programming language is python  the course gives the student the base of programmin\"\n",
            "ng  even  if the programming language is python  the course gives the student the base of programming my ueformanding  although the close is persons interesting by much    charles  and the instructor ever sentet of python  which helping me  nothing skipstating in a way that you should sense that give me an impartic  and fur  i think it started with python and more projendly course to start i like mendifly  the course has hesiescles and to material   one of the language weeks and course  them is \n",
            "----- diversity: 1.2\n",
            "----- Generating with seed: \"ng  even  if the programming language is python  the course gives the student the base of programmin\"\n",
            "ng  even  if the programming language is python  the course gives the student the base of programming  i amaradem start to use coursera and cat to desire topic so always the provided that course  made it to ut only resometc  i d visues me more  i m so fun recommended course  i highly recommend the quizemed that forget projects  dr  chisles ald forums furthing it  it s sanguages to uses in coding  i felt all the class easy  i really recommend it for absolute beginners   great its from ond another\n",
            "\n",
            "Epoch 00044: loss improved from 0.83650 to 0.83378, saving model to /content/gdrive/My Drive/Capstone/Data/\n",
            "Epoch 45/50\n",
            "2362/2362 [==============================] - 27s 12ms/step - loss: 0.8193 - accuracy: 0.7490 - val_loss: 1.0258 - val_accuracy: 0.7043\n",
            "\n",
            "----- Generating text after Epoch: 44\n",
            "----- diversity: 0.2\n",
            "----- Generating with seed: \" india   i have just finished the course   as a junior data analyst  with some knowledge in sql   py\"\n",
            " india   i have just finished the course   as a junior data analyst  with some knowledge in sql   python  i was able to follow and the best course and i am so much the course is a great introduction to programming                                                                                                                                                                                                                                                                                               \n",
            "----- diversity: 0.5\n",
            "----- Generating with seed: \" india   i have just finished the course   as a junior data analyst  with some knowledge in sql   py\"\n",
            " india   i have just finished the course   as a junior data analyst  with some knowledge in sql   python is a great course for programming language  the course was really good for a programmer  and i am glad to find the basics of python  i had not to it  it is a good course for anyone who wants to learn a new computer science beginners with learning python and it is a great experience be any code was too easy but for a perfect part of the course is best programming language       a very good cou\n",
            "----- diversity: 1.0\n",
            "----- Generating with seed: \" india   i have just finished the course   as a junior data analyst  with some knowledge in sql   py\"\n",
            " india   i have just finished the course   as a junior data analyst  with some knowledge in sql   python  and he explains to wear  thank you     dr  ccuss especial to  easy and what it say sent i recommend to the basics of python   anyone frum  i think hope that taught me us rugglivered the quizzes and basics  hours  the assignments are very glad to understand through i knew  explaining the material  assint of university       atyone     during the beginners  as a from an excellent course for an\n",
            "----- diversity: 1.2\n",
            "----- Generating with seed: \" india   i have just finished the course   as a junior data analyst  with some knowledge in sql   py\"\n",
            " india   i have just finished the course   as a junior data analyst  with some knowledge in sql   python is fatratter or work on any deal dirlucal  difficult to teach us a lovidate code mope done ajab  courses and developsient    i arvew in programming and applicant on non programming   fill wee prible  but i tried the content etho you again  apply your navi  you camp to prob ed this opeot  did way to take this course  literalufted through the swemiever review i ve ever coding with the new   he \n",
            "\n",
            "Epoch 00045: loss improved from 0.83378 to 0.83213, saving model to /content/gdrive/My Drive/Capstone/Data/\n",
            "Epoch 46/50\n",
            "2362/2362 [==============================] - 27s 12ms/step - loss: 0.8207 - accuracy: 0.7490 - val_loss: 1.0331 - val_accuracy: 0.7034\n",
            "\n",
            "----- Generating text after Epoch: 45\n",
            "----- diversity: 0.2\n",
            "----- Generating with seed: \"or is excellent teacher  you will definitely enjoy the course and content     really informative  fr\"\n",
            "or is excellent teacher  you will definitely enjoy the course and content     really informative  from the first time i had no prior programming language is great  i would recommend this course to anyone who wants to learn python                                                                                                                                                                                                                                                                               \n",
            "----- diversity: 0.5\n",
            "----- Generating with seed: \"or is excellent teacher  you will definitely enjoy the course and content     really informative  fr\"\n",
            "or is excellent teacher  you will definitely enjoy the course and content     really informative  from the basics   this course is very good   great course for you       dr  charles severance is my first time  the lecturer  the course is very good and have no basic                                                                                                                                                                                                                                           \n",
            "----- diversity: 1.0\n",
            "----- Generating with seed: \"or is excellent teacher  you will definitely enjoy the course and content     really informative  fr\"\n",
            "or is excellent teacher  you will definitely enjoy the course and content     really informative  from learning through the university of michigan give and material to me stepping this course  this course was definitely explained of python  now      i d give this course like things not into python  those whats                     more informaning the course i have been my came time  i highly recommend and work about python  great course for refelt ring to also provided excellent    it not of cou\n",
            "----- diversity: 1.2\n",
            "----- Generating with seed: \"or is excellent teacher  you will definitely enjoy the course and content     really informative  fr\"\n",
            "or is excellent teacher  you will definitely enjoy the course and content     really informative  friendlid toult i would like  one if alsoon harlay so fers to prop on interacts of nogeing to about coursera withous fact  he explains the point to learn  be already enjoy to as it way the entire  quirnt s say to get mr professor charles severance  trackings out be a resoured explaining this has   love with homing for helpful an ussute time to enroll wat   spend me a seghhiog on curst like to solve \n",
            "\n",
            "Epoch 00046: loss improved from 0.83213 to 0.82963, saving model to /content/gdrive/My Drive/Capstone/Data/\n",
            "Epoch 47/50\n",
            "2362/2362 [==============================] - 28s 12ms/step - loss: 0.8133 - accuracy: 0.7506 - val_loss: 1.0335 - val_accuracy: 0.7028\n",
            "\n",
            "----- Generating text after Epoch: 46\n",
            "----- diversity: 0.2\n",
            "----- Generating with seed: \"e is engaging and very livelybasic concepts taught very well  the bonus material engages you to expl\"\n",
            "e is engaging and very livelybasic concepts taught very well  the bonus material engages you to explore  i have learned some of the basics of python                                                                                                                                                                                                                                                                                                                                                                \n",
            "----- diversity: 0.5\n",
            "----- Generating with seed: \"e is engaging and very livelybasic concepts taught very well  the bonus material engages you to expl\"\n",
            "e is engaging and very livelybasic concepts taught very well  the bonus material engages you to explore  i will learn programming  i am a want to the next course in the beginning and it is a beginner  he has a great course  i am absolute beginners  the way dr  chuck    the teaching stuff  i would loved to learn a better useful  and programming and the forum with the beginners there are a great intro to programming in started with the material of the program  so i would s a great course to come t\n",
            "----- diversity: 1.0\n",
            "----- Generating with seed: \"e is engaging and very livelybasic concepts taught very well  the bonus material engages you to expl\"\n",
            "e is engaging and very livelybasic concepts taught very well  the bonus material engages you to explore  of this course with engaged not have my learning programming that explained base conceptups who doese paritiant insteminisy to learn more price our than python  a new   he internterroppouminity  it was plann mention to the text it whatpy thinking about the lectures  all the next course and relative ever time topic lys  now and the way xerroc earry stayt  experience  but i lear and difficult e\n",
            "----- diversity: 1.2\n",
            "----- Generating with seed: \"e is engaging and very livelybasic concepts taught very well  the bonus material engages you to expl\"\n",
            "e is engaging and very livelybasic concepts taught very well  the bonus material engages you to explain to ollice more interviewing whece you have to learn how absure clear and lectures is nea stacuents screptitions clearest  i will a great teacher this contents really cracking unty  cate too goide  equccledteaco rought knowledge and perword lectures are interneding   mile to have a lot of basic also buch all most of sac regarded any the next speef sand   best gorat knowledge to lecture very to \n",
            "\n",
            "Epoch 00047: loss improved from 0.82963 to 0.82753, saving model to /content/gdrive/My Drive/Capstone/Data/\n",
            "Epoch 48/50\n",
            "2362/2362 [==============================] - 28s 12ms/step - loss: 0.8151 - accuracy: 0.7505 - val_loss: 1.0327 - val_accuracy: 0.7027\n",
            "\n",
            "----- Generating text after Epoch: 47\n",
            "----- diversity: 0.2\n",
            "----- Generating with seed: \"ble  there are exercise with feedback and very well explained solutions the studying materials are a\"\n",
            "ble  there are exercise with feedback and very well explained solutions the studying materials are a bit and i was alreade helpful to be instructor and the way he taught i could have never enjoyed this course  i have a break explaining the concepts of python                                                                                                                                                                                                                                                  \n",
            "----- diversity: 0.5\n",
            "----- Generating with seed: \"ble  there are exercise with feedback and very well explained solutions the studying materials are a\"\n",
            "ble  there are exercise with feedback and very well explained solutions the studying materials are a bit and it is a great started or work with professor chuck and courses  the professor and a translanity  i would like to thanks i am complete me an introductory course  i am the problem i enjoyed every topics are easy to understand and also has also commend along a lot    i m very much course  very clear  the book and explains each lessons to learn python  now  i aw so much tell dear  it was  the\n",
            "----- diversity: 1.0\n",
            "----- Generating with seed: \"ble  there are exercise with feedback and very well explained solutions the studying materials are a\"\n",
            "ble  there are exercise with feedback and very well explained solutions the studying materials are also  it is the other courses will helped me to it in titess if way that allows other classes in my expect   to before      it was my xiticely week    day so a spossoss teaching s camaget  even more challenging  i did anyone question to take di suitice most of starting and complete all what i naving any background  because this camenge sever especially this is an excellent experience by mr who hasc\n",
            "----- diversity: 1.2\n",
            "----- Generating with seed: \"ble  there are exercise with feedback and very well explained solutions the studying materials are a\"\n",
            "ble  there are exercise with feedback and very well explained solutions the studying materials are a nice knows realy  i want to speen  with more interesting  imsumend to someone stolling oderor some to complete it  i will definitely recommend after online divadeseant   this course helping you try worth python  always read less is so much  i am an ovied courses   as i am part he doesn ty type nut explong  in this charles i topic recomminned to complete this course is improme this is the best exa\n",
            "\n",
            "Epoch 00048: loss improved from 0.82753 to 0.82491, saving model to /content/gdrive/My Drive/Capstone/Data/\n",
            "Epoch 49/50\n",
            "2362/2362 [==============================] - 27s 12ms/step - loss: 0.8130 - accuracy: 0.7515 - val_loss: 1.0367 - val_accuracy: 0.7022\n",
            "\n",
            "----- Generating text after Epoch: 48\n",
            "----- diversity: 0.2\n",
            "----- Generating with seed: \" python without any syntax errors  i am so fascinated to continue my learnings in data science and r\"\n",
            " python without any syntax errors  i am so fascinated to continue my learnings in data science and relatively complete this course                                                                                                                                                                                                                                                                                                                                                                                  \n",
            "----- diversity: 0.5\n",
            "----- Generating with seed: \" python without any syntax errors  i am so fascinated to continue my learnings in data science and r\"\n",
            " python without any syntax errors  i am so fascinated to continue my learnings in data science and recommend this course to anyone who wants to learn python  the course is really learned who want to get a good students friendly  the course is very basic and i was able to work and engaging students                                                                                                                                                                                                          \n",
            "----- diversity: 1.0\n",
            "----- Generating with seed: \" python without any syntax errors  i am so fascinated to continue my learnings in data science and r\"\n",
            " python without any syntax errors  i am so fascinated to continue my learnings in data science and real and not those without have no bethoders gool to a nice the personally  also  the dellot each an process  that make you have a siggedfers he quite sill thanks funn concept i have also are very newslmonity that crarns with that you are genuidele    someherment before but dives if you found this course and programming was a great time i had some    i have follot the programming  and the prof  cla\n",
            "----- diversity: 1.2\n",
            "----- Generating with seed: \" python without any syntax errors  i am so fascinated to continue my learnings in data science and r\"\n",
            " python without any syntax errors  i am so fascinated to continue my learnings in data science and rathera very clearly  the last on linea in computeres  professor chis on ginag cup of codicishing in easly  the assignments betarded in the fundeffer university to be those besides    it geter you to a final access dublically by forces in it has easy to necemefole course for everybody that i could continue learning  out  i m thank this course arnuaned to chacks  i lost is charles is overall rone th\n",
            "\n",
            "Epoch 00049: loss improved from 0.82491 to 0.82260, saving model to /content/gdrive/My Drive/Capstone/Data/\n",
            "Epoch 50/50\n",
            "2362/2362 [==============================] - 28s 12ms/step - loss: 0.8095 - accuracy: 0.7516 - val_loss: 1.0349 - val_accuracy: 0.7039\n",
            "\n",
            "----- Generating text after Epoch: 49\n",
            "----- diversity: 0.2\n",
            "----- Generating with seed: \"yperson s terms  this course was a great refresher for me  as i put down my javascript hat last year\"\n",
            "yperson s terms  this course was a great refresher for me  as i put down my javascript hat last year                                                                                                                                                                                                                                                                                                                                                                                                                \n",
            "----- diversity: 0.5\n",
            "----- Generating with seed: \"yperson s terms  this course was a great refresher for me  as i put down my javascript hat last year\"\n",
            "yperson s terms  this course was a great refresher for me  as i put down my javascript hat last year  but the course is a great course                                                                                                                                                                                                                                                                                                                                                                              \n",
            "----- diversity: 1.0\n",
            "----- Generating with seed: \"yperson s terms  this course was a great refresher for me  as i put down my javascript hat last year\"\n",
            "yperson s terms  this course was a great refresher for me  as i put down my javascript hat last year  i for the most  thanks for the unique course and can gave a lot   star thankly  for programming and passion is truly anyone who is bettemes as i will difficully   i highly recommend this worlis  that is super easy to necessarize i will happere understanding of python  i m so grades frees erfortate     this course has machine lognce  the learning at how too fun and how time programming with his q\n",
            "----- diversity: 1.2\n",
            "----- Generating with seed: \"yperson s terms  this course was a great refresher for me  as i put down my javascript hat last year\"\n",
            "yperson s terms  this course was a great refresher for me  as i put down my javascript hat last year  because i ll celps you sangly thankful to coding experience  the export  for stughting excitimgmensiape with the rigethmught languages  but teaches is neal several expjection taught recomon first  i wish the coursera of the our other programming but about this thought were very best    trules  it got overall important here whit is michine the course naver   it s slithos you coursera  great cours\n",
            "\n",
            "Epoch 00050: loss improved from 0.82260 to 0.82121, saving model to /content/gdrive/My Drive/Capstone/Data/\n"
          ],
          "name": "stdout"
        }
      ]
    },
    {
      "cell_type": "code",
      "metadata": {
        "id": "-ptq15ArYBcb"
      },
      "source": [
        ""
      ],
      "execution_count": null,
      "outputs": []
    },
    {
      "cell_type": "code",
      "metadata": {
        "id": "kUfGtuiIYBcb"
      },
      "source": [
        ""
      ],
      "execution_count": null,
      "outputs": []
    },
    {
      "cell_type": "markdown",
      "metadata": {
        "id": "7ASEbkDrYBcb"
      },
      "source": [
        "### 9. evaluating performance of model"
      ]
    },
    {
      "cell_type": "code",
      "metadata": {
        "colab": {
          "base_uri": "https://localhost:8080/"
        },
        "id": "n2LEUqFvdEh8",
        "outputId": "158cb9b8-c0d3-42da-d020-144ab4a74fa3"
      },
      "source": [
        "print(history.history.keys())"
      ],
      "execution_count": 22,
      "outputs": [
        {
          "output_type": "stream",
          "text": [
            "dict_keys(['loss', 'accuracy', 'val_loss', 'val_accuracy', 'lr'])\n"
          ],
          "name": "stdout"
        }
      ]
    },
    {
      "cell_type": "code",
      "metadata": {
        "colab": {
          "base_uri": "https://localhost:8080/"
        },
        "id": "lMLs-7JyYBcb",
        "outputId": "fbc9d45f-f4dc-44da-ee98-f081febf4899"
      },
      "source": [
        "train_Loss, train_Accuracy = model_ckpt.evaluate(X_train, y_train, verbose=2)"
      ],
      "execution_count": 23,
      "outputs": [
        {
          "output_type": "stream",
          "text": [
            "9445/9445 - 28s - loss: 0.7912 - accuracy: 0.7586\n"
          ],
          "name": "stdout"
        }
      ]
    },
    {
      "cell_type": "code",
      "metadata": {
        "colab": {
          "base_uri": "https://localhost:8080/",
          "height": 419
        },
        "id": "3Q2fmTNBYBcc",
        "outputId": "caf0c5f7-cb57-4d00-dd69-e74e8ff73397"
      },
      "source": [
        "plt.figure(figsize=(12,6))\n",
        "plt.rcParams['font.size'] = '16'\n",
        "plt.plot(history.history['accuracy'], label='Accuracy', lw=4)\n",
        "plt.xlabel('Count of Epoch')\n",
        "plt.ylabel('Accuracy')\n",
        "plt.title('Accuracy over count of Epochs', fontsize=20)\n",
        "plt.legend();"
      ],
      "execution_count": 24,
      "outputs": [
        {
          "output_type": "display_data",
          "data": {
            "image/png": "[encoded data removed]",
            "text/plain": [
              "<Figure size 864x432 with 1 Axes>"
            ]
          },
          "metadata": {
            "tags": [],
            "needs_background": "light"
          }
        }
      ]
    },
    {
      "cell_type": "code",
      "metadata": {
        "colab": {
          "base_uri": "https://localhost:8080/",
          "height": 437
        },
        "id": "ZftL8Z9oYBcc",
        "outputId": "6c365b32-6f7c-4699-beb7-642aa8c74087"
      },
      "source": [
        "plt.figure(figsize=(12,6))\n",
        "plt.plot(history.history['loss'], lw=4, color='red')\n",
        "plt.xlabel('Count of Epoch')\n",
        "plt.ylabel('loss')\n",
        "plt.title('loss over count of Epochs', fontsize=20)\n",
        "plt.legend();"
      ],
      "execution_count": 25,
      "outputs": [
        {
          "output_type": "stream",
          "text": [
            "No handles with labels found to put in legend.\n"
          ],
          "name": "stderr"
        },
        {
          "output_type": "display_data",
          "data": {
            "image/png": "[encoded data removed]",
            "text/plain": [
              "<Figure size 864x432 with 1 Axes>"
            ]
          },
          "metadata": {
            "tags": [],
            "needs_background": "light"
          }
        }
      ]
    },
    {
      "cell_type": "code",
      "metadata": {
        "colab": {
          "base_uri": "https://localhost:8080/"
        },
        "id": "g4fwjuEOYBcc",
        "outputId": "babfd995-5766-4ddc-e30f-691d678f220b"
      },
      "source": [
        "test_Loss, test_Accuracy = model_ckpt.evaluate(X_test, y_test, verbose=2)"
      ],
      "execution_count": 26,
      "outputs": [
        {
          "output_type": "stream",
          "text": [
            "3149/3149 - 9s - loss: 1.0349 - accuracy: 0.7039\n"
          ],
          "name": "stdout"
        }
      ]
    },
    {
      "cell_type": "code",
      "metadata": {
        "colab": {
          "base_uri": "https://localhost:8080/",
          "height": 419
        },
        "id": "WRADY3MGYBcc",
        "outputId": "9c826bb2-0ca4-40a6-9123-ecece8ff8e78"
      },
      "source": [
        "plt.figure(figsize=(12,6))\n",
        "plt.plot(history.history['val_accuracy'], label='Accuracy', lw=4, color='skyblue')\n",
        "plt.xlabel('Count of Epoch')\n",
        "plt.ylabel('Validation Accuracy')\n",
        "plt.title('Validation Accuracy over count of Epochs', fontsize=20)\n",
        "plt.legend();"
      ],
      "execution_count": 27,
      "outputs": [
        {
          "output_type": "display_data",
          "data": {
            "image/png": "[encoded data removed]",
            "text/plain": [
              "<Figure size 864x432 with 1 Axes>"
            ]
          },
          "metadata": {
            "tags": [],
            "needs_background": "light"
          }
        }
      ]
    },
    {
      "cell_type": "code",
      "metadata": {
        "colab": {
          "base_uri": "https://localhost:8080/",
          "height": 419
        },
        "id": "AAFBrBNSYBcc",
        "outputId": "82333b15-a11d-4c25-ead2-b5e3a2e45516"
      },
      "source": [
        "plt.figure(figsize=(12,6))\n",
        "plt.plot(history.history['val_loss'], lw=4, label='Val_loss', color='orange')\n",
        "plt.xlabel('Count of Epoch')\n",
        "plt.ylabel('Validation loss')\n",
        "plt.title('Validation loss over count of Epochs', fontsize=20)\n",
        "plt.legend();"
      ],
      "execution_count": 28,
      "outputs": [
        {
          "output_type": "display_data",
          "data": {
            "image/png": "[encoded data removed]",
            "text/plain": [
              "<Figure size 864x432 with 1 Axes>"
            ]
          },
          "metadata": {
            "tags": [],
            "needs_background": "light"
          }
        }
      ]
    },
    {
      "cell_type": "code",
      "metadata": {
        "colab": {
          "base_uri": "https://localhost:8080/",
          "height": 419
        },
        "id": "i-hUIZuEYBcc",
        "outputId": "03eaebdf-c712-4200-81e0-b83a7c406981"
      },
      "source": [
        "### Combine both plots\n",
        "\n",
        "plt.figure(figsize=(12,6))\n",
        "plt.rcParams['font.size'] = '16'\n",
        "plt.plot(history.history['accuracy'], label='Accuracy', lw=4, color='blue')\n",
        "plt.plot(history.history['val_accuracy'], label='val Accuracy', lw=4, color = 'skyblue')\n",
        "plt.xlabel('Count of Epoch')\n",
        "plt.ylabel('Accuracy')\n",
        "plt.title('Accuracy over count of Epochs', fontsize=20)\n",
        "plt.legend();"
      ],
      "execution_count": 29,
      "outputs": [
        {
          "output_type": "display_data",
          "data": {
            "image/png": "[encoded data removed]",
            "text/plain": [
              "<Figure size 864x432 with 1 Axes>"
            ]
          },
          "metadata": {
            "tags": [],
            "needs_background": "light"
          }
        }
      ]
    },
    {
      "cell_type": "code",
      "metadata": {
        "colab": {
          "base_uri": "https://localhost:8080/",
          "height": 437
        },
        "id": "YTIWEy9DYBcd",
        "outputId": "e4ff11c5-5862-45b5-a923-1527e989d5c4"
      },
      "source": [
        "plt.figure(figsize=(12,6))\n",
        "plt.plot(history.history['loss'], lw=4, color='red')\n",
        "plt.plot(history.history['val_loss'], lw=4, color='orange')\n",
        "plt.xlabel('Count of Epoch')\n",
        "plt.ylabel('loss')\n",
        "plt.title('loss over count of Epochs', fontsize=20)\n",
        "plt.legend();"
      ],
      "execution_count": 30,
      "outputs": [
        {
          "output_type": "stream",
          "text": [
            "No handles with labels found to put in legend.\n"
          ],
          "name": "stderr"
        },
        {
          "output_type": "display_data",
          "data": {
            "image/png": "[encoded data removed]",
            "text/plain": [
              "<Figure size 864x432 with 1 Axes>"
            ]
          },
          "metadata": {
            "tags": [],
            "needs_background": "light"
          }
        }
      ]
    },
    {
      "cell_type": "markdown",
      "metadata": {
        "id": "-cnacZpKYBcd"
      },
      "source": [
        "### 10. Loading my pre-trained weights to resume training"
      ]
    },
    {
      "cell_type": "code",
      "metadata": {
        "id": "z6JzP2NyYBcd"
      },
      "source": [
        "# Instantiate my new model\n",
        "model_ckpt2 = create_model()\n",
        "\n",
        "# load the saved weights into my instantiated model\n",
        "#\n",
        "model_ckpt2.load_weights(filepath)"
      ],
      "execution_count": null,
      "outputs": []
    },
    {
      "cell_type": "code",
      "metadata": {
        "id": "G6eOy0TgYBcd"
      },
      "source": [
        "# resume the training\n",
        "\n",
        "model_ckpt2.fit(X_train, y_train, batch_size=128, epochs=5, validation_data =(X_test, y_test),callbacks=callbacks))"
      ],
      "execution_count": null,
      "outputs": []
    },
    {
      "cell_type": "code",
      "metadata": {
        "id": "uJ9KsWYhYBcd"
      },
      "source": [
        "train_Loss, train_Accuracy = model_ckpt2.evaluate(X_train, y_train, verbose=2)"
      ],
      "execution_count": null,
      "outputs": []
    },
    {
      "cell_type": "code",
      "metadata": {
        "id": "HOh20i6eYBcd"
      },
      "source": [
        "test_Loss, test_Accuracy = model_ckpt2.evaluate(X_test, y_test, verbose=2)"
      ],
      "execution_count": null,
      "outputs": []
    },
    {
      "cell_type": "markdown",
      "metadata": {
        "id": "3zkv9Zm6YBcd"
      },
      "source": [
        "### 11.Try generating text using help from keras.io"
      ]
    },
    {
      "cell_type": "code",
      "metadata": {
        "colab": {
          "base_uri": "https://localhost:8080/",
          "height": 131
        },
        "id": "d6K3lzqRYBce",
        "outputId": "c21ef599-5e5d-4507-a467-10382aaf7145"
      },
      "source": [
        "### Functions obtained from keras.io to help te\n",
        "### to help predict the"
      ],
      "execution_count": null,
      "outputs": [
        {
          "output_type": "error",
          "ename": "IndentationError",
          "evalue": "ignored",
          "traceback": [
            "\u001b[0;36m  File \u001b[0;32m\"<ipython-input-46-dec5ee63925c>\"\u001b[0;36m, line \u001b[0;32m2\u001b[0m\n\u001b[0;31m    - to help predict the\u001b[0m\n\u001b[0m    ^\u001b[0m\n\u001b[0;31mIndentationError\u001b[0m\u001b[0;31m:\u001b[0m unexpected indent\n"
          ]
        }
      ]
    },
    {
      "cell_type": "code",
      "metadata": {
        "id": "a0ACLjxUYBce"
      },
      "source": [
        "def sample(preds, temperature=1.0):\n",
        "    # helper function to sample an index from a probability array\n",
        "    preds = np.asarray(preds).astype('float64')\n",
        "    preds = np.log(preds) / temperature\n",
        "    exp_preds = np.exp(preds)\n",
        "    preds = exp_preds / np.sum(exp_preds)\n",
        "    probas = np.random.multinomial(1, preds, 1)\n",
        "    return np.argmax(probas)"
      ],
      "execution_count": 31,
      "outputs": []
    },
    {
      "cell_type": "code",
      "metadata": {
        "id": "S7Oi_EvUYBce"
      },
      "source": [
        "\n",
        "def on_epoch_end(epoch, logs):\n",
        "    # Function invoked at end of each epoch. Prints generated text.\n",
        "    print()\n",
        "    print('----- Generating text after Epoch: %d' % epoch)\n",
        "\n",
        "    start_index = random.randint(0, len(text) - maxlen - 1)\n",
        "    for diversity in [0.2, 0.5, 1.0, 1.2]:\n",
        "        print('----- diversity:', diversity)\n",
        "\n",
        "        generated = ''\n",
        "        sentence = text[start_index: start_index + maxlen]\n",
        "        generated += sentence\n",
        "        print('----- Generating with seed: \"' + sentence + '\"')\n",
        "        sys.stdout.write(generated)\n",
        "\n",
        "        for i in range(400):\n",
        "            x_pred = np.zeros((1, maxlen, len(chars)))\n",
        "            for t, char in enumerate(sentence):\n",
        "                x_pred[0, t, char_indices[char]] = 1.\n",
        "\n",
        "            preds = model.predict(x_pred, verbose=0)[0]\n",
        "            next_index = sample(preds, diversity)\n",
        "            next_char = indices_char[next_index]\n",
        "\n",
        "            generated += next_char\n",
        "            sentence = sentence[1:] + next_char\n",
        "\n",
        "            sys.stdout.write(next_char)\n",
        "            sys.stdout.flush()\n",
        "        print()\n",
        "print_callback = LambdaCallback(on_epoch_end=on_epoch_end)"
      ],
      "execution_count": 32,
      "outputs": []
    },
    {
      "cell_type": "code",
      "metadata": {
        "id": "AbFdWBnRYBce"
      },
      "source": [
        "def generate_text(length, diversity):\n",
        "    # Get random starting text\n",
        "    start_index = random.randint(0, len(text) - maxlen - 1)\n",
        "    generated = ''\n",
        "    sentence = text[start_index: start_index + maxlen]\n",
        "    generated += sentence\n",
        "    for i in range(length):\n",
        "            x_pred = np.zeros((1, maxlen, len(chars)))\n",
        "            for t, char in enumerate(sentence):\n",
        "                x_pred[0, t, char_indices[char]] = 1.\n",
        "\n",
        "            preds = model_ckpt.predict(x_pred, verbose=0)[0]\n",
        "            next_index = sample(preds, diversity)\n",
        "            next_char = indices_char[next_index]\n",
        "\n",
        "            generated += next_char\n",
        "            sentence = sentence[1:] + next_char\n",
        "    return generated"
      ],
      "execution_count": 33,
      "outputs": []
    },
    {
      "cell_type": "code",
      "metadata": {
        "colab": {
          "base_uri": "https://localhost:8080/"
        },
        "id": "nLSE9rTGYBcf",
        "outputId": "c4888aaf-df57-4e7b-fa23-63b19573c53d"
      },
      "source": [
        "print(generate_text(500, 0.2))"
      ],
      "execution_count": 34,
      "outputs": [
        {
          "output_type": "stream",
          "text": [
            "thon is for you  think no more  this first course took me step by step in learning the very basic of python                                                                                                                                                                                                                                                                                                                                                                                                                                                                                                             \n"
          ],
          "name": "stdout"
        }
      ]
    },
    {
      "cell_type": "code",
      "metadata": {
        "colab": {
          "base_uri": "https://localhost:8080/"
        },
        "id": "oOnWrHgnim_V",
        "outputId": "041fd0b6-777c-41a3-cff6-cd7823171505"
      },
      "source": [
        "print(generate_text(500, 1))"
      ],
      "execution_count": 35,
      "outputs": [
        {
          "output_type": "stream",
          "text": [
            "ing forums  i also loved the website  py e com  overall  i loved this class and look forward to learn mpstatics for clearly explains very gres using python  i would recommend student that werrear possible  with the syntabients  so tried at the halferily for providing  mifient to had study  i was like like me i hope that javager the instructor with computerts in the smullibly first course get you teach were very section to review i can understand learning platform     data scripcintimal prior knowledge of coding  i dis worth zeroor even thanking shows org every beginners and this course courses\n"
          ],
          "name": "stdout"
        }
      ]
    },
    {
      "cell_type": "code",
      "metadata": {
        "colab": {
          "base_uri": "https://localhost:8080/"
        },
        "id": "6GhtUDQYqtqx",
        "outputId": "02dcd234-03cf-4920-f09a-9dfd07ab77e2"
      },
      "source": [
        "print(generate_text(1000, 0.2))"
      ],
      "execution_count": 36,
      "outputs": [
        {
          "output_type": "stream",
          "text": [
            "ake in certain programs and clarifies that for students very well before  overall learning online experience                                                                                                                                                                                                                                                                                                                                                                                                                                                                                                                                                                                                                                                                                                                                                                                                                                                                                                                                                                                                                                \n"
          ],
          "name": "stdout"
        }
      ]
    },
    {
      "cell_type": "code",
      "metadata": {
        "colab": {
          "base_uri": "https://localhost:8080/"
        },
        "id": "cENfLeUvinGa",
        "outputId": "24e7ffd4-f604-473a-ab43-782060819e8f"
      },
      "source": [
        "print(generate_text(1000, 1))"
      ],
      "execution_count": 37,
      "outputs": [
        {
          "output_type": "stream",
          "text": [
            "one who s interested     this course is very helpful and anyone can do this  as its name says programming worle  this course helged in getting until yours elfols all the way use    more professor de lovely done m coursey  he explains each and i started to teaching time learning python  i would like to thank professor      this is frustatting the material is process the course for a programming experience with an absolutely giving ole the professor is really becomp of this internde with the last i don t me lister to get the learning projects these much siruction there with no prior knowledge to developer  officely implesty and the instructor coufle even on computers and the way and bul the one is very python programming language in you sure if you have can techor introductory and the instructor was really for your for you  this course helped me in programming      thr prof  for learning the learners of the perspees the student to understand this course       even for peri in other course and i wanteded up with full or jokeded the  this is all  make it and there way beeneving student a\n"
          ],
          "name": "stdout"
        }
      ]
    },
    {
      "cell_type": "code",
      "metadata": {
        "id": "dYZXgRXArqFi"
      },
      "source": [
        "generated1 = generate_text(1000, 1)"
      ],
      "execution_count": 39,
      "outputs": []
    },
    {
      "cell_type": "code",
      "metadata": {
        "id": "49km-LShrQ2v"
      },
      "source": [
        "from textblob import TextBlob"
      ],
      "execution_count": 38,
      "outputs": []
    },
    {
      "cell_type": "code",
      "metadata": {
        "colab": {
          "base_uri": "https://localhost:8080/"
        },
        "id": "Tg9vrivVrlN9",
        "outputId": "6013d13d-b036-4153-f48f-7ceb9bcc4f7c"
      },
      "source": [
        "b = TextBlob(generated1)\n",
        "b.correct()"
      ],
      "execution_count": 40,
      "outputs": [
        {
          "output_type": "execute_result",
          "data": {
            "text/plain": [
              "TextBlob(\" to continue the program to learn more   this course is just wonderful for a newby like me  know nothing but this would be knee  one of the teachers easy to understand learning experience in the teacher and it s what saddles self had across for beginning this is an entialliegh easy to understand  the owntration  i m really fornusively and understand skirmishing part for best to do show more provides it s comenique reached with programming skill  enjoyageding to continue to learn this loop  thank about at the processes about programming and fun  since the basic to only helpful  but i can t revieivers by the introsick   starting and it was just  but stretched with easily understanding   slogan so should about less a bit afrecors so much the very prefer to most us that makes he has to think a fun a little bast interesting   i would kind mr the things from these fertutions i din s behind the lessons to continue learning the programming and programming for this work coming  online experience   can be i have to untiring again  the professor provides i recommend this that is trinity\")"
            ]
          },
          "metadata": {
            "tags": []
          },
          "execution_count": 40
        }
      ]
    },
    {
      "cell_type": "code",
      "metadata": {
        "colab": {
          "base_uri": "https://localhost:8080/",
          "height": 339
        },
        "id": "ntOLSajbrlKh",
        "outputId": "1fd11cfd-1ccd-4ca8-e54b-e9efde4b603a"
      },
      "source": [
        "from autocorrect import Speller\n",
        "check = Speller(lang='en')\n",
        "check(generated1)"
      ],
      "execution_count": 41,
      "outputs": [
        {
          "output_type": "error",
          "ename": "ModuleNotFoundError",
          "evalue": "ignored",
          "traceback": [
            "\u001b[0;31m---------------------------------------------------------------------------\u001b[0m",
            "\u001b[0;31mModuleNotFoundError\u001b[0m                       Traceback (most recent call last)",
            "\u001b[0;32m<ipython-input-41-a05eeeb340aa>\u001b[0m in \u001b[0;36m<module>\u001b[0;34m()\u001b[0m\n\u001b[0;32m----> 1\u001b[0;31m \u001b[0;32mfrom\u001b[0m \u001b[0mautocorrect\u001b[0m \u001b[0;32mimport\u001b[0m \u001b[0mSpeller\u001b[0m\u001b[0;34m\u001b[0m\u001b[0;34m\u001b[0m\u001b[0m\n\u001b[0m\u001b[1;32m      2\u001b[0m \u001b[0mcheck\u001b[0m \u001b[0;34m=\u001b[0m \u001b[0mSpeller\u001b[0m\u001b[0;34m(\u001b[0m\u001b[0mlang\u001b[0m\u001b[0;34m=\u001b[0m\u001b[0;34m'en'\u001b[0m\u001b[0;34m)\u001b[0m\u001b[0;34m\u001b[0m\u001b[0;34m\u001b[0m\u001b[0m\n\u001b[1;32m      3\u001b[0m \u001b[0mcheck\u001b[0m\u001b[0;34m(\u001b[0m\u001b[0mgenerated1\u001b[0m\u001b[0;34m)\u001b[0m\u001b[0;34m\u001b[0m\u001b[0;34m\u001b[0m\u001b[0m\n",
            "\u001b[0;31mModuleNotFoundError\u001b[0m: No module named 'autocorrect'",
            "",
            "\u001b[0;31m---------------------------------------------------------------------------\u001b[0;32m\nNOTE: If your import is failing due to a missing package, you can\nmanually install dependencies using either !pip or !apt.\n\nTo view examples of installing some common dependencies, click the\n\"Open Examples\" button below.\n\u001b[0;31m---------------------------------------------------------------------------\u001b[0m\n"
          ]
        }
      ]
    },
    {
      "cell_type": "code",
      "metadata": {
        "id": "CeewXfJ6rlEQ"
      },
      "source": [
        ""
      ],
      "execution_count": null,
      "outputs": []
    },
    {
      "cell_type": "markdown",
      "metadata": {
        "id": "oB3P3cpRH8jt"
      },
      "source": [
        ""
      ]
    }
  ]
}