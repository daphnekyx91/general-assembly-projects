{
  "nbformat": 4,
  "nbformat_minor": 0,
  "metadata": {
    "kernelspec": {
      "display_name": "Python 3",
      "language": "python",
      "name": "python3"
    },
    "language_info": {
      "codemirror_mode": {
        "name": "ipython",
        "version": 3
      },
      "file_extension": ".py",
      "mimetype": "text/x-python",
      "name": "python",
      "nbconvert_exporter": "python",
      "pygments_lexer": "ipython3",
      "version": "3.8.5"
    },
    "colab": {
      "name": "Checkpoints-Part 4 - 100 epochs.ipynb",
      "provenance": [],
      "collapsed_sections": [],
      "toc_visible": true
    },
    "accelerator": "GPU"
  },
  "cells": [
    {
      "cell_type": "markdown",
      "metadata": {
        "id": "J3bbjzTHYBcN"
      },
      "source": [
        "### Content"
      ]
    },
    {
      "cell_type": "markdown",
      "metadata": {
        "id": "gt0Nk6IcYBcT"
      },
      "source": [
        "### 1.  Mounting the google drive to google colab"
      ]
    },
    {
      "cell_type": "code",
      "metadata": {
        "colab": {
          "base_uri": "https://localhost:8080/"
        },
        "id": "BBpKtYn3YBcU",
        "outputId": "e27fd4ba-b0a7-4288-b324-5117a25befba"
      },
      "source": [
        "# mounting the my googledrive to google.colab\n",
        "# this is needed to save my weights, Neural Network model while it is running\n",
        "# the model, weights can be accessed at a later time if google colab disconnects\n",
        "\n",
        "from google.colab import drive\n",
        "drive.mount('/content/gdrive')"
      ],
      "execution_count": 1,
      "outputs": [
        {
          "output_type": "stream",
          "text": [
            "Mounted at /content/gdrive\n"
          ],
          "name": "stdout"
        }
      ]
    },
    {
      "cell_type": "markdown",
      "metadata": {
        "id": "-qoa-MVbYBcU"
      },
      "source": [
        "### 2. Standard Imports for Recurrent Neural Networks"
      ]
    },
    {
      "cell_type": "code",
      "metadata": {
        "id": "uAHzBz3EYBcV"
      },
      "source": [
        "from __future__ import print_function\n",
        "\n",
        "# For preprocessing the text into integer(ids)\n",
        "# For plotting the accuracy and loss curve\n",
        "import numpy as np\n",
        "import matplotlib.pyplot as plt\n",
        "%matplotlib inline\n",
        "\n",
        "# regular expression to proprocess raw_text\n",
        "import regex as re\n",
        "\n",
        "# To instantiate Recurrent Neural Networks\n",
        "from keras.models import Sequential\n",
        "# My model will be dense with all the nodes to 'touch'\n",
        "from keras.layers import Dense, Activation\n",
        "# LSTM, GRU\n",
        "from keras.layers import LSTM, GRU\n",
        "#from keras.optimizers import RMSprop, adam\n",
        "\n",
        "# to create a callback, this will be a checkpoint\n",
        "from keras.callbacks import LambdaCallback\n",
        "\n",
        "# need to create a random seed to create a text, so the model will learn the sequence\n",
        "import random\n",
        "import sys\n",
        "import io"
      ],
      "execution_count": 2,
      "outputs": []
    },
    {
      "cell_type": "markdown",
      "metadata": {
        "id": "0bCMNSlUYBcV"
      },
      "source": [
        "### 3. Loading the txt file that is used fro RNN"
      ]
    },
    {
      "cell_type": "code",
      "metadata": {
        "colab": {
          "base_uri": "https://localhost:8080/"
        },
        "id": "kytGHnmzYBcW",
        "outputId": "ff293479-609f-4623-8d25-f177b0a6d385"
      },
      "source": [
        "# cd to pull my txt file from my google drive into google colab\n",
        "%cd /content/gdrive/My Drive/Capstone/Data/\n",
        "\n",
        "# filename called 'out.txt'\n",
        "filename = \"rnn_text.txt\"\n",
        "\n",
        "# extract the raw text\n",
        "raw_text = open(filename, 'r', encoding='utf-8').read()\n",
        "\n",
        "\n",
        "# lowercase my text\n",
        "data = raw_text.lower()\n",
        "# remove url links\n",
        "data = re.sub(r'\\w+:\\/{2}[\\d\\w-]+(\\.[\\d\\w-]+)*(?:(?:\\/[^\\s/]*))*', '',data)\n",
        "# keep letters\n",
        "data = re.sub(\"[^a-zA-Z]\", \" \", data)\n",
        "# strip to remove empty spaces before beginning and end of string\n",
        "data = data.strip()"
      ],
      "execution_count": 3,
      "outputs": [
        {
          "output_type": "stream",
          "text": [
            "/content/gdrive/My Drive/Capstone/Data\n"
          ],
          "name": "stdout"
        }
      ]
    },
    {
      "cell_type": "markdown",
      "metadata": {
        "id": "IAGJl1VyYBcW"
      },
      "source": [
        "### 4. Exploring text dataset"
      ]
    },
    {
      "cell_type": "code",
      "metadata": {
        "colab": {
          "base_uri": "https://localhost:8080/"
        },
        "id": "UO2Vu0a5YBcW",
        "outputId": "c7c70623-daf4-4dde-cdfc-fd97d537cdef"
      },
      "source": [
        "# set - find a list of specific characters \n",
        "# list - to convert characters into a list\n",
        "# sorted - to sort list into alphabetical order\n",
        "chars = sorted(list(set(data)))\n",
        "\n",
        "# count of total characters\n",
        "print('total chars: ', len(chars))"
      ],
      "execution_count": 4,
      "outputs": [
        {
          "output_type": "stream",
          "text": [
            "total chars:  27\n"
          ],
          "name": "stdout"
        }
      ]
    },
    {
      "cell_type": "code",
      "metadata": {
        "colab": {
          "base_uri": "https://localhost:8080/"
        },
        "id": "02sYdZzGYBcW",
        "outputId": "301ee310-973e-4f09-f9b5-56df8e368ecf"
      },
      "source": [
        "# mapping the characters to numerical values & vice versa\n",
        "# this will be crucial for feeding into our RNN model\n",
        "# and required to map the predicted numerical values back to their corresponding characters\n",
        "\n",
        "char_indices = dict((c, i) for i, c in enumerate(chars))\n",
        "\n",
        "# noted that in this list of character mapping, there is no 'z' in text\n",
        "# noted that ' ' white space is counted as a character\n",
        "char_indices"
      ],
      "execution_count": 5,
      "outputs": [
        {
          "output_type": "execute_result",
          "data": {
            "text/plain": [
              "{' ': 0,\n",
              " 'a': 1,\n",
              " 'b': 2,\n",
              " 'c': 3,\n",
              " 'd': 4,\n",
              " 'e': 5,\n",
              " 'f': 6,\n",
              " 'g': 7,\n",
              " 'h': 8,\n",
              " 'i': 9,\n",
              " 'j': 10,\n",
              " 'k': 11,\n",
              " 'l': 12,\n",
              " 'm': 13,\n",
              " 'n': 14,\n",
              " 'o': 15,\n",
              " 'p': 16,\n",
              " 'q': 17,\n",
              " 'r': 18,\n",
              " 's': 19,\n",
              " 't': 20,\n",
              " 'u': 21,\n",
              " 'v': 22,\n",
              " 'w': 23,\n",
              " 'x': 24,\n",
              " 'y': 25,\n",
              " 'z': 26}"
            ]
          },
          "metadata": {
            "tags": []
          },
          "execution_count": 5
        }
      ]
    },
    {
      "cell_type": "code",
      "metadata": {
        "colab": {
          "base_uri": "https://localhost:8080/"
        },
        "id": "Nk-1WoOYYBcX",
        "outputId": "40b1c8fb-be38-412a-c74e-04ee5f075b49"
      },
      "source": [
        "# this will be used from mapping numerical values back to characters\n",
        "indices_char = dict((i, c) for i, c in enumerate(chars))\n",
        "\n",
        "indices_char"
      ],
      "execution_count": 6,
      "outputs": [
        {
          "output_type": "execute_result",
          "data": {
            "text/plain": [
              "{0: ' ',\n",
              " 1: 'a',\n",
              " 2: 'b',\n",
              " 3: 'c',\n",
              " 4: 'd',\n",
              " 5: 'e',\n",
              " 6: 'f',\n",
              " 7: 'g',\n",
              " 8: 'h',\n",
              " 9: 'i',\n",
              " 10: 'j',\n",
              " 11: 'k',\n",
              " 12: 'l',\n",
              " 13: 'm',\n",
              " 14: 'n',\n",
              " 15: 'o',\n",
              " 16: 'p',\n",
              " 17: 'q',\n",
              " 18: 'r',\n",
              " 19: 's',\n",
              " 20: 't',\n",
              " 21: 'u',\n",
              " 22: 'v',\n",
              " 23: 'w',\n",
              " 24: 'x',\n",
              " 25: 'y',\n",
              " 26: 'z'}"
            ]
          },
          "metadata": {
            "tags": []
          },
          "execution_count": 6
        }
      ]
    },
    {
      "cell_type": "markdown",
      "metadata": {
        "id": "n2PqKRRWYBcX"
      },
      "source": [
        "### 5. Numerical encode the sentences and features"
      ]
    },
    {
      "cell_type": "code",
      "metadata": {
        "colab": {
          "base_uri": "https://localhost:8080/"
        },
        "id": "6t-15OTOCRL-",
        "outputId": "6229d460-e826-4f55-d95e-eb6b38845ab1"
      },
      "source": [
        "len(data)"
      ],
      "execution_count": 7,
      "outputs": [
        {
          "output_type": "execute_result",
          "data": {
            "text/plain": [
              "1208984"
            ]
          },
          "metadata": {
            "tags": []
          },
          "execution_count": 7
        }
      ]
    },
    {
      "cell_type": "code",
      "metadata": {
        "id": "-6T91YIxY88-"
      },
      "source": [
        "text = data"
      ],
      "execution_count": 8,
      "outputs": []
    },
    {
      "cell_type": "code",
      "metadata": {
        "colab": {
          "base_uri": "https://localhost:8080/"
        },
        "id": "NFg7fOL6YBcX",
        "outputId": "cd33a32e-2d5d-4dc2-d601-9a210981c84e"
      },
      "source": [
        "maxlen = 100\n",
        "step = 3\n",
        "sentences = []\n",
        "next_chars = []\n",
        "for i in range(0, len(text) - maxlen, step):\n",
        "    sentences.append(text[i: i + maxlen])\n",
        "    next_chars.append(text[i + maxlen])\n",
        "print('nb sequences:', len(sentences))"
      ],
      "execution_count": 9,
      "outputs": [
        {
          "output_type": "stream",
          "text": [
            "nb sequences: 402962\n"
          ],
          "name": "stdout"
        }
      ]
    },
    {
      "cell_type": "code",
      "metadata": {
        "colab": {
          "base_uri": "https://localhost:8080/"
        },
        "id": "m8zb6OtvYBcX",
        "outputId": "3d57223a-359c-4503-c317-c52c73fb7693"
      },
      "source": [
        "print(sentences[:5])\n",
        "print(next_chars[:5])"
      ],
      "execution_count": 10,
      "outputs": [
        {
          "output_type": "stream",
          "text": [
            "['just auditing this course helped me a lot in learning this language programming  attentive save the ', 't auditing this course helped me a lot in learning this language programming  attentive save the mon', 'uditing this course helped me a lot in learning this language programming  attentive save the money ', 'ting this course helped me a lot in learning this language programming  attentive save the money i w', 'g this course helped me a lot in learning this language programming  attentive save the money i will']\n",
            "['m', 'e', 'i', 'i', ' ']\n"
          ],
          "name": "stdout"
        }
      ]
    },
    {
      "cell_type": "code",
      "metadata": {
        "id": "7JhnfOy1YBcY",
        "colab": {
          "base_uri": "https://localhost:8080/"
        },
        "outputId": "3620c144-ff16-4a95-ebba-4a08e8b6016b"
      },
      "source": [
        "len(text)"
      ],
      "execution_count": null,
      "outputs": [
        {
          "output_type": "execute_result",
          "data": {
            "text/plain": [
              "1208984"
            ]
          },
          "metadata": {
            "tags": []
          },
          "execution_count": 13
        }
      ]
    },
    {
      "cell_type": "code",
      "metadata": {
        "id": "7cYHDMLGYBcY"
      },
      "source": [
        "X = np.zeros((len(sentences), maxlen, len(chars)), dtype=np.bool)\n",
        "y = np.zeros((len(sentences), len(chars)), dtype=np.bool)\n",
        "for i, sentence in enumerate(sentences):\n",
        "    for t, char in enumerate(sentence):\n",
        "        X[i, t, char_indices[char]] = 1\n",
        "    y[i, char_indices[next_chars[i]]] = 1"
      ],
      "execution_count": 11,
      "outputs": []
    },
    {
      "cell_type": "code",
      "metadata": {
        "id": "0It5TQIeYBcY"
      },
      "source": [
        "from sklearn.model_selection import train_test_split\n",
        "X_train, X_test, y_train, y_test = train_test_split(X, y,  random_state=42, shuffle=False)"
      ],
      "execution_count": 12,
      "outputs": []
    },
    {
      "cell_type": "markdown",
      "metadata": {
        "id": "E4z78W_4YBcY"
      },
      "source": [
        "### 6. define the model topolgy\n",
        " https://towardsdatascience.com/checkpointing-deep-learning-models-in-keras-a652570b8de6"
      ]
    },
    {
      "cell_type": "code",
      "metadata": {
        "id": "5lOh0gSxYBcY"
      },
      "source": [
        "# Define the model architecture \n",
        "\n",
        "def create_model():\n",
        "    #instantial\n",
        "    model = Sequential()\n",
        "    model.add(LSTM(128, input_shape=(maxlen, len(chars))))\n",
        "    model.add(Dense(len(chars)))\n",
        "    model.add(Activation('softmax'))\n",
        "    \n",
        "    # Compiling the model\n",
        "    # as my model are one-hot encoded, i will use categorical_crossentropy\n",
        "    model.compile(loss='categorical_crossentropy',\n",
        "             optimizer='adam',\n",
        "             metrics=['accuracy'])\n",
        "    \n",
        "    return model\n",
        "\n",
        "#create the model\n",
        "model_ckpt= create_model()"
      ],
      "execution_count": 13,
      "outputs": []
    },
    {
      "cell_type": "code",
      "metadata": {
        "colab": {
          "base_uri": "https://localhost:8080/"
        },
        "id": "n7HgXPRcYBcZ",
        "outputId": "7b73e76e-f4a9-4e20-c838-80249d53c54f"
      },
      "source": [
        "model_ckpt.summary()"
      ],
      "execution_count": 14,
      "outputs": [
        {
          "output_type": "stream",
          "text": [
            "Model: \"sequential\"\n",
            "_________________________________________________________________\n",
            "Layer (type)                 Output Shape              Param #   \n",
            "=================================================================\n",
            "lstm (LSTM)                  (None, 128)               79872     \n",
            "_________________________________________________________________\n",
            "dense (Dense)                (None, 27)                3483      \n",
            "_________________________________________________________________\n",
            "activation (Activation)      (None, 27)                0         \n",
            "=================================================================\n",
            "Total params: 83,355\n",
            "Trainable params: 83,355\n",
            "Non-trainable params: 0\n",
            "_________________________________________________________________\n"
          ],
          "name": "stdout"
        }
      ]
    },
    {
      "cell_type": "markdown",
      "metadata": {
        "id": "W0CLSREbYBcZ"
      },
      "source": [
        "### 7. Creating my ModelCheckpoint and callback requirements"
      ]
    },
    {
      "cell_type": "code",
      "metadata": {
        "id": "MHtyQNWwYBcZ"
      },
      "source": [
        "from keras.callbacks import ModelCheckpoint\n",
        "\n",
        "# specifying where my checkpoint files will be stored\n",
        "filepath = \"/content/gdrive/My Drive/Capstone/Data/\"\n",
        "\n",
        "# this ModelCheckpoint save weights and save the best model as it runs\n",
        "checkpoint = ModelCheckpoint(filepath, monitor='loss',\n",
        "                             save_weights_only=True, save_best_only=True,\n",
        "                             mode='min',verbose=1 )"
      ],
      "execution_count": 15,
      "outputs": []
    },
    {
      "cell_type": "code",
      "metadata": {
        "id": "cYhAn8OYYBcZ"
      },
      "source": [
        "from keras.callbacks import ReduceLROnPlateau\n",
        "reduce_lr = ReduceLROnPlateau(monitor='loss', factor=0.2,\n",
        "                              patience=1, min_lr=0.001)"
      ],
      "execution_count": 16,
      "outputs": []
    },
    {
      "cell_type": "code",
      "metadata": {
        "id": "ixHRPsWvYBca"
      },
      "source": [
        "def sample(preds, temperature=1.0):\n",
        "    # helper function to sample an index from a probability array\n",
        "    preds = np.asarray(preds).astype('float64')\n",
        "    preds = np.log(preds) / temperature\n",
        "    exp_preds = np.exp(preds)\n",
        "    preds = exp_preds / np.sum(exp_preds)\n",
        "    probas = np.random.multinomial(1, preds, 1)\n",
        "    return np.argmax(probas)"
      ],
      "execution_count": 17,
      "outputs": []
    },
    {
      "cell_type": "code",
      "metadata": {
        "id": "lHXesDLaYBca"
      },
      "source": [
        "def on_epoch_end(epoch, logs):\n",
        "    # Function invoked at end of each epoch. Prints generated text.\n",
        "    print()\n",
        "    print('----- Generating text after Epoch: %d' % epoch)\n",
        "\n",
        "    start_index = random.randint(0, len(text) - maxlen - 1)\n",
        "    for diversity in [0.2, 0.5, 1.0, 1.2]:\n",
        "        print('----- diversity:', diversity)\n",
        "\n",
        "        generated = ''\n",
        "        sentence = text[start_index: start_index + maxlen]\n",
        "        generated += sentence\n",
        "        print('----- Generating with seed: \"' + sentence + '\"')\n",
        "        sys.stdout.write(generated)\n",
        "\n",
        "        for i in range(400):\n",
        "            x_pred = np.zeros((1, maxlen, len(chars)))\n",
        "            for t, char in enumerate(sentence):\n",
        "                x_pred[0, t, char_indices[char]] = 1.\n",
        "\n",
        "            preds = model_ckpt.predict(x_pred, verbose=0)[0]\n",
        "            next_index = sample(preds, diversity)\n",
        "            next_char = indices_char[next_index]\n",
        "\n",
        "            generated += next_char\n",
        "            sentence = sentence[1:] + next_char\n",
        "\n",
        "            sys.stdout.write(next_char)\n",
        "            sys.stdout.flush()\n",
        "        print()\n",
        "print_callback = LambdaCallback(on_epoch_end=on_epoch_end)"
      ],
      "execution_count": 18,
      "outputs": []
    },
    {
      "cell_type": "code",
      "metadata": {
        "id": "o7QZCuU5YBca"
      },
      "source": [
        "### combining all of my callbacks\n",
        "\n",
        "callbacks = [print_callback, checkpoint, reduce_lr]"
      ],
      "execution_count": 19,
      "outputs": []
    },
    {
      "cell_type": "markdown",
      "metadata": {
        "id": "1PHLNmGOYBcb"
      },
      "source": [
        "### 8.Training my RNN model"
      ]
    },
    {
      "cell_type": "code",
      "metadata": {
        "colab": {
          "base_uri": "https://localhost:8080/"
        },
        "id": "ljBdvKorYBcb",
        "outputId": "902b67e4-e256-412d-de29-8d910b375061"
      },
      "source": [
        "history = model_ckpt.fit(X_train, y_train, batch_size=128, epochs=100, validation_data =(X_test, y_test),callbacks=callbacks)"
      ],
      "execution_count": 20,
      "outputs": [
        {
          "output_type": "stream",
          "text": [
            "Epoch 1/100\n",
            "2362/2362 [==============================] - 55s 10ms/step - loss: 2.3680 - accuracy: 0.3142 - val_loss: 1.6078 - val_accuracy: 0.5364\n",
            "\n",
            "----- Generating text after Epoch: 0\n",
            "----- diversity: 0.2\n",
            "----- Generating with seed: \" is just starting to learn programming   i am very much impressed with dr chuck as his method of tea\"\n",
            " is just starting to learn programming   i am very much impressed with dr chuck as his method of teat on the course                                                                                                                                                                                                                                                                                                                                                                                                 \n",
            "----- diversity: 0.5\n",
            "----- Generating with seed: \" is just starting to learn programming   i am very much impressed with dr chuck as his method of tea\"\n",
            " is just starting to learn programming   i am very much impressed with dr chuck as his method of tealy hald the wask a to betront the and the course                           a furs and thas very for the bating the for strict expeading to proff and thas course                                                                                                                  has really geat intoreath    t a dog that in a whe great     as and the course    the course thank you thick in programming  i\n",
            "----- diversity: 1.0\n",
            "----- Generating with seed: \" is just starting to learn programming   i am very much impressed with dr chuck as his method of tea\"\n",
            " is just starting to learn programming   i am very much impressed with dr chuck as his method of teatut is chucorthi gevey cowend hot wha exsereate this   op reat ins w he tiks mall ato pytho  now weseus ay at thechis bog or atnoogy do desowtidl fon enmembuced wand amythond lance prat  or aram out and thich zithe  an pecarnes    thanks it pfomed r ereelly  i ht wat tse drean calleong timl  pyrars cimese  iythinge patiense  asyoual tochust f nt whare  you efall courser  thi knowledg dills  i lono\n",
            "----- diversity: 1.2\n",
            "----- Generating with seed: \" is just starting to learn programming   i am very much impressed with dr chuck as his method of tea\"\n",
            " is just starting to learn programming   i am very much impressed with dr chuck as his method of teafling asian to rearl od   anwaret thit llay kfarnebg in of ony tothe tharkn  a veroytgy ad nge program or pyome andem afpsowuled  thil truke w it kear reyspucialci m key ingerctoed th thouns rerulmeact  everyto l iave  tiatnisy xe mele will hame we ver bonu drey mlioll yakre s conklid  thor tresstrom but ov  ithanfiel  grisaku cood anvery bit co smink stafce charn was anpom dhacciwer progrsam out \n",
            "\n",
            "Epoch 00001: loss improved from inf to 2.05551, saving model to /content/gdrive/My Drive/Capstone/Data/\n",
            "Epoch 2/100\n",
            "2362/2362 [==============================] - 23s 10ms/step - loss: 1.5973 - accuracy: 0.5366 - val_loss: 1.3331 - val_accuracy: 0.6136\n",
            "\n",
            "----- Generating text after Epoch: 1\n",
            "----- diversity: 0.2\n",
            "----- Generating with seed: \"hanks to the slitherin teacher  he has a special gift to teach  i had a great time and learned every\"\n",
            "hanks to the slitherin teacher  he has a special gift to teach  i had a great time and learned every the course                                                                                                                                                                                                                                                                                                                                                                                                     \n",
            "----- diversity: 0.5\n",
            "----- Generating with seed: \"hanks to the slitherin teacher  he has a special gift to teach  i had a great time and learned every\"\n",
            "hanks to the slitherin teacher  he has a special gift to teach  i had a great time and learned every  programming  it you de interest   i am and i the courses        i am and the programming  the course with the cases     i toll was and the course  the course i have heven the best  it of python lake all the instructor thank you an a great  the ensers and the course in the course   this course  each i have  the concepthing programming  it whel severance  it mant action aod the for the weach the b\n",
            "----- diversity: 1.0\n",
            "----- Generating with seed: \"hanks to the slitherin teacher  he has a special gift to teach  i had a great time and learned every\"\n",
            "hanks to the slitherin teacher  he has a special gift to teach  i had a great time and learned every engranting to bet  and inlly an atseally bly his such manying tany full to learn ie odis dr  cource  i slat if ous thidecules  python in t int rear and way dy driend hus of stipted is a spech this course to exclally evizing all takers more boking enole  i plot and and but veryone sume hour my quizel weple i laonl get werh gevat me thank and everyingidg intade   it rich difficut toment python very\n",
            "----- diversity: 1.2\n",
            "----- Generating with seed: \"hanks to the slitherin teacher  he has a special gift to teach  i had a great time and learned every\"\n",
            "hanks to the slitherin teacher  he has a special gift to teach  i had a great time and learned every probytin this course  iswly goans vire qoucc  fivact to locp plounta feld  des and course ti pxthit prepted and treielly aweo storlet is comentare indesy to nforged nogradol soveotaliveny  to is beazly the reveruncel ontalling weecharevises for as af with gell to stuptanis abe i wat zeadyon learning intem the geal eary high heveronttinat python a course to yon pythond   pices timed explainsiwing \n",
            "\n",
            "Epoch 00002: loss improved from 2.05551 to 1.52974, saving model to /content/gdrive/My Drive/Capstone/Data/\n",
            "Epoch 3/100\n",
            "2362/2362 [==============================] - 23s 10ms/step - loss: 1.3729 - accuracy: 0.6002 - val_loss: 1.2152 - val_accuracy: 0.6452\n",
            "\n",
            "----- Generating text after Epoch: 2\n",
            "----- diversity: 0.2\n",
            "----- Generating with seed: \"put code together  what is more valuable is that it teaches you to think how computers think and so \"\n",
            "put code together  what is more valuable is that it teaches you to think how computers think and so the course                                                                                                                                                                                                                                                                                                                                                                                                      \n",
            "----- diversity: 0.5\n",
            "----- Generating with seed: \"put code together  what is more valuable is that it teaches you to think how computers think and so \"\n",
            "put code together  what is more valuable is that it teaches you to think how computers think and so             i am a a geat course to complete to the programming  i wish a great course well  and the course is geeate to understand  i was and the programming  it started in interesting this course of python                        i had s got that han dre the course   i am an experience   this is an a would to the tome was amazing  and the and coursera                                              \n",
            "----- diversity: 1.0\n",
            "----- Generating with seed: \"put code together  what is more valuable is that it teaches you to think how computers think and so \"\n",
            "put code together  what is more valuable is that it teaches you to think how computers think and so everable and hesd tould fould the recip the preationilaging that i also world sime   a loved to walted the me beganexing programming course   i tunt a was of  thank the intcouch atis josinging and very  amrongitematitely class seem  materal ole      that i neep easy prote   in and sted hald bo have tomput the blissstmar  i approact that hag ste to amlong this fant of python   the wanch in simgatio\n",
            "----- diversity: 1.2\n",
            "----- Generating with seed: \"put code together  what is more valuable is that it teaches you to think how computers think and so \"\n",
            "put code together  what is more valuable is that it teaches you to think how computers think and so regatco avizal to tood courses         i m an ald the course about mot to beels  me ifle cday by exelgant a fyou harde well overating table of this was misin the makes thus   woiked fintsy ussell and our forward tere i goon  those in utine has a doon can ucever was to provide some fuilly be  tha koo befspejtino so fellually make offint to inseretsimecos difficull mateminity hild are this is and dr\n",
            "\n",
            "Epoch 00003: loss improved from 1.52974 to 1.34779, saving model to /content/gdrive/My Drive/Capstone/Data/\n",
            "Epoch 4/100\n",
            "2362/2362 [==============================] - 23s 10ms/step - loss: 1.2670 - accuracy: 0.6283 - val_loss: 1.1601 - val_accuracy: 0.6582\n",
            "\n",
            "----- Generating text after Epoch: 3\n",
            "----- diversity: 0.2\n",
            "----- Generating with seed: \"ahead  i m moving on to the second course in the specialization  which picks up where this one left \"\n",
            "ahead  i m moving on to the second course in the specialization  which picks up where this one left                                                                                                                                                                                                                                                                                                                                                                                                                 \n",
            "----- diversity: 0.5\n",
            "----- Generating with seed: \"ahead  i m moving on to the second course in the specialization  which picks up where this one left \"\n",
            "ahead  i m moving on to the second course in the specialization  which picks up where this one left in of coursera and can to de the basics and like this course    i learned to understand with python  but in person a lot  i learn lecture  i want to learn python programming and explains and all the some to learn    which the programming  and the programming in the lest semple work as i lovely  it is a good in the very not ever the basics of python    extrem the course   examples learning and stru\n",
            "----- diversity: 1.0\n",
            "----- Generating with seed: \"ahead  i m moving on to the second course in the specialization  which picks up where this one left \"\n",
            "ahead  i m moving on to the second course in the specialization  which picks up where this one left take to concoptre to learn pood  i eve mboutalting best course taked it to under the best course knowlade ths  seal fignctivilate        i was freen it mazes taking the language  sughed the was broughtucing programming bould seen with python  in the diving muth so the course  learning  in the time  chanters severanabes  thank you stek hasing  the unerystard vire intightive confice of a colts weich\n",
            "----- diversity: 1.2\n",
            "----- Generating with seed: \"ahead  i m moving on to the second course in the specialization  which picks up where this one left \"\n",
            "ahead  i m moving on to the second course in the specialization  which picks up where this one left the for sust    and tonk  devauabliause just knowledge interessous aclive to that is the onvopspbto he non try energrance my cleatly languag for programming  to crerde the professor dim of hichs then isfecences maknitable enceptainerthen spestate ot ucenaplly him onle only brol cxtarter serers   to ints rangrimate you hoom complate there taks cempeffect anfonmute to gho indowerey learnigg   newand\n",
            "\n",
            "Epoch 00004: loss improved from 1.34779 to 1.25273, saving model to /content/gdrive/My Drive/Capstone/Data/\n",
            "Epoch 5/100\n",
            "2362/2362 [==============================] - 23s 10ms/step - loss: 1.1979 - accuracy: 0.6470 - val_loss: 1.1148 - val_accuracy: 0.6719\n",
            "\n",
            "----- Generating text after Epoch: 4\n",
            "----- diversity: 0.2\n",
            "----- Generating with seed: \" really easy to understand the basics of python with the help of an amazing instructor dr  chuck   v\"\n",
            " really easy to understand the basics of python with the help of an amazing instructor dr  chuck   very clear  i am a great course  i am not of the course  and the course is a great course  i like the course  i would recommend this course  i am a great course  i am so make for the course  i am a great course  i am very clear  i am so thank you do not of the course  i am a great course  i am a great course  i am a great course  i am not this course  i am a great course  i am a great course       \n",
            "----- diversity: 0.5\n",
            "----- Generating with seed: \" really easy to understand the basics of python with the help of an amazing instructor dr  chuck   v\"\n",
            " really easy to understand the basics of python with the help of an amazing instructor dr  chuck   very good course  i am a great learning experience for the course for me  i have not of coursera   i would also language  i am not to learn python  it s in the way of this course     i was allowed you to the best for complete more    would home  i would recommend this course course  i really the way the instructor  and has able to learn  i have  also beginners and it  as well  thank you do not this\n",
            "----- diversity: 1.0\n",
            "----- Generating with seed: \" really easy to understand the basics of python with the help of an amazing instructor dr  chuck   v\"\n",
            " really easy to understand the basics of python with the help of an amazing instructor dr  chuck   very assignment  if you concsurarol deould really learnt  and thin folloved to findo git subole python language in well can nert if you to shated threks  i rearment all belping the taking or a programming in course  i really enjoyting windead courses if a next on yout at  i tuings to to hexplases and  i hight   you can everyone   explais this still course rouble for amenomes   just wants to learn o\n",
            "----- diversity: 1.2\n",
            "----- Generating with seed: \" really easy to understand the basics of python with the help of an amazing instructor dr  chuck   v\"\n",
            " really easy to understand the basics of python with the help of an amazing instructor dr  chuck   vibu as in aptirien course jo thr  was thanky fundd hou nouthor  just too inelved to t have anvanuz a a not very  exti to the insproctical not online courses  tuarse was chally frillkol  thanks  off this in thry course  it is fun by operef tires and profrajsion in courses and idead vely nequregs on the awlorwand sesment i have tooky like a love onothing abate basic profess of python for port   exce\n",
            "\n",
            "Epoch 00005: loss improved from 1.25273 to 1.19201, saving model to /content/gdrive/My Drive/Capstone/Data/\n",
            "Epoch 6/100\n",
            "2362/2362 [==============================] - 23s 10ms/step - loss: 1.1541 - accuracy: 0.6591 - val_loss: 1.0817 - val_accuracy: 0.6818\n",
            "\n",
            "----- Generating text after Epoch: 5\n",
            "----- diversity: 0.2\n",
            "----- Generating with seed: \"rstand syntax  human order  if you already have good foundation of programming language  it might be\"\n",
            "rstand syntax  human order  if you already have good foundation of programming language  it might be a lot of the course                                                                                                                                                                                                                                                                                                                                                                                            \n",
            "----- diversity: 0.5\n",
            "----- Generating with seed: \"rstand syntax  human order  if you already have good foundation of programming language  it might be\"\n",
            "rstand syntax  human order  if you already have good foundation of programming language  it might be a teaching python  this course is a great course               this know anyone whe was a great course             the course is a great course        i will seef this course                                                                                                                                                                                                                                 \n",
            "----- diversity: 1.0\n",
            "----- Generating with seed: \"rstand syntax  human order  if you already have good foundation of programming language  it might be\"\n",
            "rstand syntax  human order  if you already have good foundation of programming language  it might be help about hich helpful ty to python programming  the tase that a stadely and process enginity  ucever the course weach if you since course introduction and assigning  if with a getsions of pesputiout on the course  i cas are been a perfonce the tassic    fun that it the class  i the mates and excellent was a python seling me  o can that i very wholis reverance  the concepts in the petumes of whr\n",
            "----- diversity: 1.2\n",
            "----- Generating with seed: \"rstand syntax  human order  if you already have good foundation of programming language  it might be\"\n",
            "rstand syntax  human order  if you already have good foundation of programming language  it might become triod bicquare manes to scte expyre made recommend this useres would learnutivion  the foor deging fully that so comize complesl the too event is cleare the passional whos helpfow to adviong the alriwot to not us other chite of python programming  i fmoutlly how telp deficiliin that pythod  i would smatars hadde to learn dove denatall evel  also my muchsis  i good bas class foundly people wit\n",
            "\n",
            "Epoch 00006: loss improved from 1.19201 to 1.14754, saving model to /content/gdrive/My Drive/Capstone/Data/\n",
            "Epoch 7/100\n",
            "2362/2362 [==============================] - 23s 10ms/step - loss: 1.1170 - accuracy: 0.6682 - val_loss: 1.0593 - val_accuracy: 0.6882\n",
            "\n",
            "----- Generating text after Epoch: 6\n",
            "----- diversity: 0.2\n",
            "----- Generating with seed: \" in the field of programming and python thank you mr  charles severance  to make me understandable i\"\n",
            " in the field of programming and python thank you mr  charles severance  to make me understandable in the course                                                                                                                                                                                                                                                                                                                                                                                                    \n",
            "----- diversity: 0.5\n",
            "----- Generating with seed: \" in the field of programming and python thank you mr  charles severance  to make me understandable i\"\n",
            " in the field of programming and python thank you mr  charles severance  to make me understandable in the basics of the course in the material in the concepts with python  if you are all start   the course was my first course      i would like the concept of this course is introducing course i have really a great course  the course explain  the teacher programming  the course is get you want to be interesting  the course with complete that it s interesting through the course is simple from the c\n",
            "----- diversity: 1.0\n",
            "----- Generating with seed: \" in the field of programming and python thank you mr  charles severance  to make me understandable i\"\n",
            " in the field of programming and python thank you mr  charles severance  to make me understandable in text some differong  it using this course programmer is a griving or to helpful and i wanted to what i have really a good course each computer the before thotes and explained and study   vely earrer thankly   to too have computer fuct  i learn wo kerel thrs looking to deable  but me chelles in thonk  knowledgl is mowere  and making  before programming   i had god all all interasting  the course \n",
            "----- diversity: 1.2\n",
            "----- Generating with seed: \" in the field of programming and python thank you mr  charles severance  to make me understandable i\"\n",
            " in the field of programming and python thank you mr  charles severance  to make me understandable in knowledge on codcation for werk nook from but of that this lase of seelly kig i was anyone to the best  eapertare fr entlose introducectifus fret of programming he study griend co nett   toak all because it gasd hf   i can jay builds al in an espesting i recomazed courses it weel of concept of contire exagnt practick to recestued onw    easy the contr that specially with by have plem muturion  i\n",
            "\n",
            "Epoch 00007: loss improved from 1.14754 to 1.11383, saving model to /content/gdrive/My Drive/Capstone/Data/\n",
            "Epoch 8/100\n",
            "2362/2362 [==============================] - 23s 10ms/step - loss: 1.0860 - accuracy: 0.6764 - val_loss: 1.0421 - val_accuracy: 0.6922\n",
            "\n",
            "----- Generating text after Epoch: 7\n",
            "----- diversity: 0.2\n",
            "----- Generating with seed: \"glad to realize how much you have learned after completing the course   for a complete novice withou\"\n",
            "glad to realize how much you have learned after completing the course   for a complete novice without a now to the python  i would recommend this course                                                                                                                                                                                                                                                                                                                                                            \n",
            "----- diversity: 0.5\n",
            "----- Generating with seed: \"glad to realize how much you have learned after completing the course   for a complete novice withou\"\n",
            "glad to realize how much you have learned after completing the course   for a complete novice without the very well students and the programming     it was a great course    dr  chuck was a great course to get programming  the best course     a great course  this course is very programming the course works for this course and i was a great experience interesting in the basics of sume to help me to start as a programming  as a great to grase the beginners in the course  the programming  i loved t\n",
            "----- diversity: 1.0\n",
            "----- Generating with seed: \"glad to realize how much you have learned after completing the course   for a complete novice withou\"\n",
            "glad to realize how much you have learned after completing the course   for a complete novice without code and on here sumemted studen secess  stakgong at while course   profession alst se ins resongrn feeted computer skills for hew taing infulld and explaset  and this was a vioual for me thot fatt and want to start in programming skilled  but alingenter was an abmole for an one of the best it differed ferwes people with fun to follow all arviep me with vinubs withoun the learner who want to lea\n",
            "----- diversity: 1.2\n",
            "----- Generating with seed: \"glad to realize how much you have learned after completing the course   for a complete novice withou\"\n",
            "glad to realize how much you have learned after completing the course   for a complete novice without perfectof  who know bre appyisatid  sevce sometives thyon anynoper programming  i hove receverd muy t thusisfer the lectures im anfeverate severance worch learn move chuck pinus with the best profesed where has a lot of trustro mays  alrealy has shincenew you making m you cen of iffery programme well  gensanped than understmond abnowing tryos me engageabant confpeagame assain englistions such wa\n",
            "\n",
            "Epoch 00008: loss improved from 1.11383 to 1.08778, saving model to /content/gdrive/My Drive/Capstone/Data/\n",
            "Epoch 9/100\n",
            "2362/2362 [==============================] - 23s 10ms/step - loss: 1.0646 - accuracy: 0.6830 - val_loss: 1.0314 - val_accuracy: 0.6960\n",
            "\n",
            "----- Generating text after Epoch: 8\n",
            "----- diversity: 0.2\n",
            "----- Generating with seed: \"tell that for sure  oops sorry   was    i gained the skills now    it s best for them who want to le\"\n",
            "tell that for sure  oops sorry   was    i gained the skills now    it s best for them who want to learn python                                                                                                                                                                                                                                                                                                                                                                                                      \n",
            "----- diversity: 0.5\n",
            "----- Generating with seed: \"tell that for sure  oops sorry   was    i gained the skills now    it s best for them who want to le\"\n",
            "tell that for sure  oops sorry   was    i gained the skills now    it s best for them who want to learn and the are took that i had a beginner  i am so fins a beginner in the course  you friends to understand  i am hands for something and the best course  this is the lectures are which you are highly enjoyed to the best course for any preption  dr  chuck        i had a great course for start for beginners    this course is a great to get the learning my first listen to learn   i am very cleare t\n",
            "----- diversity: 1.0\n",
            "----- Generating with seed: \"tell that for sure  oops sorry   was    i gained the skills now    it s best for them who want to le\"\n",
            "tell that for sure  oops sorry   was    i gained the skills now    it s best for them who want to learn python so many from the concepts  stowly enjoying was programming on programming laokes to propemsithing programming   thanks this assignments abolt  it very mining your coursera dr  severance is frie dem to too scrept programming clearlak more internite sow  monitato  prain difficult and confidency  you have and err air this has quittarimy a last  sure lecture programmes dicks you have need t\n",
            "----- diversity: 1.2\n",
            "----- Generating with seed: \"tell that for sure  oops sorry   was    i gained the skills now    it s best for them who want to le\"\n",
            "tell that for sure  oops sorry   was    i gained the skills now    it s best for them who want to learn and can sibad uprow pargnd me pythonal   well could iffind level coursera that is fleathin hasmat looks this is howhore ith an approach  i find over inmallaby contents  makes fow program  wn and problems plipt in afa partul prasict hapthed of onia titible    with fundady  great professor mest   guidal my caurtes was fe was charles i s dessided  buckd  definitely to dr chuck is was one relut me\n",
            "\n",
            "Epoch 00009: loss improved from 1.08778 to 1.06529, saving model to /content/gdrive/My Drive/Capstone/Data/\n",
            "Epoch 10/100\n",
            "2362/2362 [==============================] - 24s 10ms/step - loss: 1.0429 - accuracy: 0.6881 - val_loss: 1.0268 - val_accuracy: 0.6967\n",
            "\n",
            "----- Generating text after Epoch: 9\n",
            "----- diversity: 0.2\n",
            "----- Generating with seed: \"  great course  i had little to no experience with python  this course helped me to understand the f\"\n",
            "  great course  i had little to no experience with python  this course helped me to understand the fund me the course                                                                                                                                                                                                                                                                                                                                                                                               \n",
            "----- diversity: 0.5\n",
            "----- Generating with seed: \"  great course  i had little to no experience with python  this course helped me to understand the f\"\n",
            "  great course  i had little to no experience with python  this course helped me to understand the fastion in the basics of the busing the concepts and in my first course in python    explaining        i was not a beginner            excellent to get structured  how no programming          course in the student way to the assignments which makes me      i find that the best introduction to python      the course is the basics of python    i will do the basics of python    i have been the course \n",
            "----- diversity: 1.0\n",
            "----- Generating with seed: \"  great course  i had little to no experience with python  this course helped me to understand the f\"\n",
            "  great course  i had little to no experience with python  this course helped me to understand the fund effortworctions in my unviapca agand the most   however  the concepts  goad program and fastioul having this course to the aslualize sling the structured will understand course and the basics of his iscourdeta like me a first  the end frod beginners we want to started with for a big class sure for this also whol to mratve me so basics in the basss with all the teacher of this course  you cours\n",
            "----- diversity: 1.2\n",
            "----- Generating with seed: \"  great course  i had little to no experience with python  this course helped me to understand the f\"\n",
            "  great course  i had little to no experience with python  this course helped me to understand the fund you to know  it was a myching that id gen an introduction touch pentional course  even those as when to ant a very egaries and the course very good sontaning o needing whn iave ry defal prior class is fun computer time sthopls from clastes lectuas s clead to recilp inteore that  ac definitely recommend thosicslabies werk good probdive and experience  to the choping ressuble   study of ststing \n",
            "\n",
            "Epoch 00010: loss improved from 1.06529 to 1.04650, saving model to /content/gdrive/My Drive/Capstone/Data/\n",
            "Epoch 11/100\n",
            "2362/2362 [==============================] - 24s 10ms/step - loss: 1.0277 - accuracy: 0.6924 - val_loss: 1.0149 - val_accuracy: 0.6999\n",
            "\n",
            "----- Generating text after Epoch: 10\n",
            "----- diversity: 0.2\n",
            "----- Generating with seed: \"ce for conducting this great course  good luck    mukta   i am a junior pursuing a computer science \"\n",
            "ce for conducting this great course  good luck    mukta   i am a junior pursuing a computer science    this course is really good  the course is a great course  i would recommend this course                                                                                                                                                                                                                                                                                                                      \n",
            "----- diversity: 0.5\n",
            "----- Generating with seed: \"ce for conducting this great course  good luck    mukta   i am a junior pursuing a computer science \"\n",
            "ce for conducting this great course  good luck    mukta   i am a junior pursuing a computer science                                                                                                                                                                                                                                                                                                                                                                                                                 \n",
            "----- diversity: 1.0\n",
            "----- Generating with seed: \"ce for conducting this great course  good luck    mukta   i am a junior pursuing a computer science \"\n",
            "ce for conducting this great course  good luck    mukta   i am a junior pursuing a computer science  if you have a tried interesting was the best  thank you  the course is very clear  dr chuck   keed like a quite profresses and highly recommended  this course was your hourndy to dr  severance is for sty   it was    i do not know in my pace is so  en like just can java fourd to lain thank you datuables way     i am enangly and aut with computer  it was cat are slades most touch thanks   the louch\n",
            "----- diversity: 1.2\n",
            "----- Generating with seed: \"ce for conducting this great course  good luck    mukta   i am a junior pursuing a computer science \"\n",
            "ce for conducting this great course  good luck    mukta   i am a junior pursuing a computer science like python tham are with monavic viduacl tor motonuiog to start way in really undergated in give you class  dr chuck isfall berable dos no advance  time  the i mmone i think you affortle gives me thanks to plotsou enticluis way python photr   i had some wantionable of expree some never che lessevination is a great and neers drigwent for that sciensing procind go far one the pate effectact i feel \n",
            "\n",
            "Epoch 00011: loss improved from 1.04650 to 1.03070, saving model to /content/gdrive/My Drive/Capstone/Data/\n",
            "Epoch 12/100\n",
            "2362/2362 [==============================] - 24s 10ms/step - loss: 1.0073 - accuracy: 0.6976 - val_loss: 1.0143 - val_accuracy: 0.6990\n",
            "\n",
            "----- Generating text after Epoch: 11\n",
            "----- diversity: 0.2\n",
            "----- Generating with seed: \" want to save and it adds a snapshot of the video to your list of thumbnails  lastly  i appreciate t\"\n",
            " want to save and it adds a snapshot of the video to your list of thumbnails  lastly  i appreciate the course  i have a great to anyone who want to learn python                                                                                                                                                                                                                                                                                                                                                    \n",
            "----- diversity: 0.5\n",
            "----- Generating with seed: \" want to save and it adds a snapshot of the video to your list of thumbnails  lastly  i appreciate t\"\n",
            " want to save and it adds a snapshot of the video to your list of thumbnails  lastly  i appreciate the basics of python programming  i have an amazing course             this is a lot the course                                                                                                                                                                                                                                                                                                                  \n",
            "----- diversity: 1.0\n",
            "----- Generating with seed: \" want to save and it adds a snapshot of the video to your list of thumbnails  lastly  i appreciate t\"\n",
            " want to save and it adds a snapshot of the video to your list of thumbnails  lastly  i appreciate they retter online know  having to contino  matexins  it donets took at learning sobforate     easy to understand to the want to text all the exercises and quizzes  it s little opportunity love my understand python for on hugking this course  the achovical the  dr  charles  creally going to mea or interestables of programmion enaig capthe me a can get anyone this was my much from able to thinking y\n",
            "----- diversity: 1.2\n",
            "----- Generating with seed: \" want to save and it adds a snapshot of the video to your list of thumbnails  lastly  i appreciate t\"\n",
            " want to save and it adds a snapshot of the video to your list of thumbnails  lastly  i appreciate to learnth skills quess of to breaks are lictaron  how gond if pacting for ad tersing theangy obleably easy to relever just learned in quite actually interesting  i learned a background  the course is very attesting ak the pook     charles is a beginner calventeat  charles severance yug toith my coursesares in python  it arviel understanding what or  the profts  discause this csures easy to underst\n",
            "\n",
            "Epoch 00012: loss improved from 1.03070 to 1.01592, saving model to /content/gdrive/My Drive/Capstone/Data/\n",
            "Epoch 13/100\n",
            "2362/2362 [==============================] - 24s 10ms/step - loss: 0.9986 - accuracy: 0.7000 - val_loss: 1.0080 - val_accuracy: 0.7015\n",
            "\n",
            "----- Generating text after Epoch: 12\n",
            "----- diversity: 0.2\n",
            "----- Generating with seed: \"hen it s better to just look up the syntax and differences   overall taking this course was really a\"\n",
            "hen it s better to just look up the syntax and differences   overall taking this course was really a great course  i am so for all the course in programming  i am very interested in python                                                                                                                                                                                                                                                                                                                        \n",
            "----- diversity: 0.5\n",
            "----- Generating with seed: \"hen it s better to just look up the syntax and differences   overall taking this course was really a\"\n",
            "hen it s better to just look up the syntax and differences   overall taking this course was really a very clear and continue the course  the course is a great course  i enjoyed this course and it will grad the course without a lot of the way it is a great course                                                                                                                                                                                                                                              \n",
            "----- diversity: 1.0\n",
            "----- Generating with seed: \"hen it s better to just look up the syntax and differences   overall taking this course was really a\"\n",
            "hen it s better to just look up the syntax and differences   overall taking this course was really argaitenely knowledge simples  i am gleaned  i hal very very good level arown  i wretteops for me in my online course is my englastic   feeling words we can time  and the teacher makes in the very can to get any programming about precareer of programming paceated me do in will be interested  a relf that confine to take all gradus from scheck it and recommend this course to  you well experience exci\n",
            "----- diversity: 1.2\n",
            "----- Generating with seed: \"hen it s better to just look up the syntax and differences   overall taking this course was really a\"\n",
            "hen it s better to just look up the syntax and differences   overall taking this course was really a sule taken mead me the viluataking more university ofteing reeverant the basic relove this can javagank it is material matevining my information his  alrossible egome  recommundifu  i could guidn done makes understandate abopt in pirs betue found it searing stury get python such absut of more comprencp  smet the lack restrammex  good python so pace about python  it pessel alt ham so much hichwart\n",
            "\n",
            "Epoch 00013: loss improved from 1.01592 to 1.00329, saving model to /content/gdrive/My Drive/Capstone/Data/\n",
            "Epoch 14/100\n",
            "2362/2362 [==============================] - 24s 10ms/step - loss: 0.9801 - accuracy: 0.7040 - val_loss: 1.0041 - val_accuracy: 0.7044\n",
            "\n",
            "----- Generating text after Epoch: 13\n",
            "----- diversity: 0.2\n",
            "----- Generating with seed: \"ses in the days ahead     very useful introduction to python for non programmers as you ll learn not\"\n",
            "ses in the days ahead     very useful introduction to python for non programmers as you ll learn not to graded and programming                                                                                                                                                                                                                                                                                                                                                                                      \n",
            "----- diversity: 0.5\n",
            "----- Generating with seed: \"ses in the days ahead     very useful introduction to python for non programmers as you ll learn not\"\n",
            "ses in the days ahead     very useful introduction to python for non programmers as you ll learn note   so easily can be in programming                                                                                                                                                                                                                                                                                                                                                                             \n",
            "----- diversity: 1.0\n",
            "----- Generating with seed: \"ses in the days ahead     very useful introduction to python for non programmers as you ll learn not\"\n",
            "ses in the days ahead     very useful introduction to python for non programmers as you ll learn not fascoring  i am learning the way still learned natu one charters  assistanting  thank you for sume to enreriest afters  the intervidiate and make it  very learning the course  teaches are really need each an all of coding on programming in the but recommend if you learn mach eaniers  the course is read  i  midice in programming background on python is view  and i begressinnts around   i am he wan\n",
            "----- diversity: 1.2\n",
            "----- Generating with seed: \"ses in the days ahead     very useful introduction to python for non programmers as you ll learn not\"\n",
            "ses in the days ahead     very useful introduction to python for non programmers as you ll learn notfort  i perf clear  codes thanks to making meal   bring through this one offer seemed  you programing juxt teacher or tels whighib has an am exiristing enrolling materials jor not only python learnings of inm hustar  aby to college and continue twanks brienss my simpliay python course  wording someonas than     i looking trying aine essifiss online can can dicking thanouggc  how to take sumposti a\n",
            "\n",
            "Epoch 00014: loss improved from 1.00329 to 0.99161, saving model to /content/gdrive/My Drive/Capstone/Data/\n",
            "Epoch 15/100\n",
            "2362/2362 [==============================] - 25s 10ms/step - loss: 0.9746 - accuracy: 0.7058 - val_loss: 0.9991 - val_accuracy: 0.7054\n",
            "\n",
            "----- Generating text after Epoch: 14\n",
            "----- diversity: 0.2\n",
            "----- Generating with seed: \"s a great course for an absolute beginner in programming  i was able to learn some of the basic prin\"\n",
            "s a great course for an absolute beginner in programming  i was able to learn some of the basic princise and programming  the course is a great introduction to python  the course is very good course                                                                                                                                                                                                                                                                                                              \n",
            "----- diversity: 0.5\n",
            "----- Generating with seed: \"s a great course for an absolute beginner in programming  i was able to learn some of the basic prin\"\n",
            "s a great course for an absolute beginner in programming  i was able to learn some of the basic princise so        i really enjoyed the course    very good course  i am helped me to programming  i thought it was a given me i really enjoyed the course  the very beginners          excellent course                                                                                                                                                                                                            \n",
            "----- diversity: 1.0\n",
            "----- Generating with seed: \"s a great course for an absolute beginner in programming  i was able to learn some of the basic prin\"\n",
            "s a great course for an absolute beginner in programming  i was able to learn some of the basic prinnings transment  thank you from difficulterficated and explained by the romefully gond  best one to g videon  of the class  gave step      the way he seems to   programming thanks to charles severance  he dousz   fon that some way les od of the pyston for the beginner  this assilma friend  it us this really had to the opportate the berable with up this programming   by from programming  it has a g\n",
            "----- diversity: 1.2\n",
            "----- Generating with seed: \"s a great course for an absolute beginner in programming  i was able to learn some of the basic prin\"\n",
            "s a great course for an absolute beginner in programming  i was able to learn some of the basic principles why i ve learned cam se um some highly precorma my pyssicc of hawd to learn by assignments     foundor  and aimmaded and  this was really apprior teacher  i have ble learned enthus are  had bored words and easy to understand it be a programming lecture you can learn if you are goid expct those is the exceptionely thanks to properly loke meg that you i could take x prod charles helpful  ther\n",
            "\n",
            "Epoch 00015: loss improved from 0.99161 to 0.98065, saving model to /content/gdrive/My Drive/Capstone/Data/\n",
            "Epoch 16/100\n",
            "2362/2362 [==============================] - 24s 10ms/step - loss: 0.9636 - accuracy: 0.7093 - val_loss: 0.9948 - val_accuracy: 0.7056\n",
            "\n",
            "----- Generating text after Epoch: 15\n",
            "----- diversity: 0.2\n",
            "----- Generating with seed: \"ramming before  perhaps  some more advanced optional assignments could be added for those who know h\"\n",
            "ramming before  perhaps  some more advanced optional assignments could be added for those who know how to do the examples  i am a good course  i have never helpful  i would recommend this course to anyone who know a bit of the basics of python  i had long to start to go for the beginner                                                                                                                                                                                                                     \n",
            "----- diversity: 0.5\n",
            "----- Generating with seed: \"ramming before  perhaps  some more advanced optional assignments could be added for those who know h\"\n",
            "ramming before  perhaps  some more advanced optional assignments could be added for those who know how to have programming and python  i learned the rest of the course  i am liged the lectures are some with a lot     i had a good course  i have never students  i will learn python programming     i have experienced the teaching  the course is a great course     i am planged and don t have a beginner  i am so knowledge apport course  a great work    i had a good course    i think for the exercises\n",
            "----- diversity: 1.0\n",
            "----- Generating with seed: \"ramming before  perhaps  some more advanced optional assignments could be added for those who know h\"\n",
            "ramming before  perhaps  some more advanced optional assignments could be added for those who know hours s interested in a sen that its a har allowed  thanks for the students whos ease self confiden d teaches free for beginners  as assor and i like to with it skills to suppecise  the course thunk us   go ulife level   i am looking to some negrn  i come an already the beginning   but i could cor online each call giving me simple  which instructors  the instructor is ratheres   tears   while makes\n",
            "----- diversity: 1.2\n",
            "----- Generating with seed: \"ramming before  perhaps  some more advanced optional assignments could be added for those who know h\"\n",
            "ramming before  perhaps  some more advanced optional assignments could be added for those who know how to know mobsivilating educh   the slay infolt thus proted of exceeder i alwaysed really cat books and will how to understand alsig sucphet anowehware quxentions but me all the tasoes of the course is be move in a lot  i fiveney a  high for my end of exep fillow to do it is a good scratch to a very mative a sany fiden mr  was  break of excellent on communies of experience it  ableat  thwo s espe\n",
            "\n",
            "Epoch 00016: loss improved from 0.98065 to 0.97110, saving model to /content/gdrive/My Drive/Capstone/Data/\n",
            "Epoch 17/100\n",
            "2362/2362 [==============================] - 25s 10ms/step - loss: 0.9549 - accuracy: 0.7121 - val_loss: 0.9964 - val_accuracy: 0.7060\n",
            "\n",
            "----- Generating text after Epoch: 16\n",
            "----- diversity: 0.2\n",
            "----- Generating with seed: \" lecturers that i had the honor to learn from  he is able to turn the difficult concepts into simple\"\n",
            " lecturers that i had the honor to learn from  he is able to turn the difficult concepts into simple  and the too                                                                                                                                                                                                                                                                                                                                                                                                   \n",
            "----- diversity: 0.5\n",
            "----- Generating with seed: \" lecturers that i had the honor to learn from  he is able to turn the difficult concepts into simple\"\n",
            " lecturers that i had the honor to learn from  he is able to turn the difficult concepts into simple the course        i have not enjoyed the course in the basics of programming  the way to s a programming                                                                                                                                                                                                                                                                                                       \n",
            "----- diversity: 1.0\n",
            "----- Generating with seed: \" lecturers that i had the honor to learn from  he is able to turn the difficult concepts into simple\"\n",
            " lecturers that i had the honor to learn from  he is able to turn the difficult concepts into simple boring in the mobtifued lesson was lige  it could me an ortaning helps a couts and into bock of these master for everybody  got a great fect speciaging and i am a graunally never course to take the course to speed in  things reluss  he great a bridun us which paced of programming after leadn time that that all     i really loke mearn and it was not python   his inverview whack a  imarand it easy \n",
            "----- diversity: 1.2\n",
            "----- Generating with seed: \" lecturers that i had the honor to learn from  he is able to turn the difficult concepts into simple\"\n",
            " lecturers that i had the honor to learn from  he is able to turn the difficult concepts into simple  it is a litter his logichersignianal you an and assignment need  reiblina true some practices and logical and i am reach teaches by an explanations  bect   this felted efsent for i apply huch i mand immead miful ad they gay    finalyying quazzes and took progralms  problem and rimpesterital you to start quite very much an werh course easy to leam thrikly on asother which touwly tham  assignules \n",
            "\n",
            "Epoch 00017: loss improved from 0.97110 to 0.96187, saving model to /content/gdrive/My Drive/Capstone/Data/\n",
            "Epoch 18/100\n",
            "2362/2362 [==============================] - 24s 10ms/step - loss: 0.9475 - accuracy: 0.7140 - val_loss: 0.9890 - val_accuracy: 0.7080\n",
            "\n",
            "----- Generating text after Epoch: 17\n",
            "----- diversity: 0.2\n",
            "----- Generating with seed: \"w days with minimum or even no programming knowledge  it s a good starting point for beginners  i  l\"\n",
            "w days with minimum or even no programming knowledge  it s a good starting point for beginners  i  look for a beginner                                                                                                                                                                                                                                                                                                                                                                                              \n",
            "----- diversity: 0.5\n",
            "----- Generating with seed: \"w days with minimum or even no programming knowledge  it s a good starting point for beginners  i  l\"\n",
            "w days with minimum or even no programming knowledge  it s a good starting point for beginners  i  look for that the course    i am an experience  i was the best programming experience and i had the python basic the code  i want to learn python     i am so glad for people  the assignments  and i have a lot   the instructor is for all performent and i learnt  the lectures and programming knowledge to go for me  great course     this is the best course  i had the instructor helped me  the course i\n",
            "----- diversity: 1.0\n",
            "----- Generating with seed: \"w days with minimum or even no programming knowledge  it s a good starting point for beginners  i  l\"\n",
            "w days with minimum or even no programming knowledge  it s a good starting point for beginners  i  lay desimes  i enjoyed it to simply even if r am loted to put easy  but the quiz dates riptrous  the instructor and i didn t code on fund this is too friends in coursera fundate this course is bestics on follodged to this course is very helpful  not invide to deverance  as great blen for a can gript   providing and a without you advided well out orchoutal thanks more courses for in exten and i have\n",
            "----- diversity: 1.2\n",
            "----- Generating with seed: \"w days with minimum or even no programming knowledge  it s a good starting point for beginners  i  l\"\n",
            "w days with minimum or even no programming knowledge  it s a good starting point for beginners  i  lookedfullchion de pyth   frinch and course one this approabietct fiem he tellt severance were chanlers to amazing  and so  gradual interestaf in this worky that edeictry  i lule re amazing lectures in existing approach  dr gleated he teacher while     those a python or some nix juiptor or study  would be ac instill courses an i friendy  lifter knowl nicestrown inlouts thisicouse fun go wartique tw\n",
            "\n",
            "Epoch 00018: loss improved from 0.96187 to 0.95324, saving model to /content/gdrive/My Drive/Capstone/Data/\n",
            "Epoch 19/100\n",
            "2362/2362 [==============================] - 25s 10ms/step - loss: 0.9405 - accuracy: 0.7153 - val_loss: 0.9929 - val_accuracy: 0.7077\n",
            "\n",
            "----- Generating text after Epoch: 18\n",
            "----- diversity: 0.2\n",
            "----- Generating with seed: \"ssor  i have tried many python courses in the past from other sources  but i always got bored after \"\n",
            "ssor  i have tried many python courses in the past from other sources  but i always got bored after taking this course                                                                                                                                                                                                                                                                                                                                                                                              \n",
            "----- diversity: 0.5\n",
            "----- Generating with seed: \"ssor  i have tried many python courses in the past from other sources  but i always got bored after \"\n",
            "ssor  i have tried many python courses in the past from other sources  but i always got bored after that this course is a great professor is a great class    this course is a great course to anyone who is learning python                                                                                                                                                                                                                                                                                        \n",
            "----- diversity: 1.0\n",
            "----- Generating with seed: \"ssor  i have tried many python courses in the past from other sources  but i always got bored after \"\n",
            "ssor  i have tried many python courses in the past from other sources  but i always got bored after programming for assogments are taken every working this course and carem readuck this is the leggon   so interesting and newrngs you where itsing any dony   key concept is great teacher   programs kind and interests  more connend of python was easy to understents  some than this course is gets with then part of the pari  the lectures someng   very none about programming language on python  thank y\n",
            "----- diversity: 1.2\n",
            "----- Generating with seed: \"ssor  i have tried many python courses in the past from other sources  but i always got bored after \"\n",
            "ssor  i have tried many python courses in the past from other sources  but i always got bored after contring that is encorewand aid is yourought him toim  really read hours to had a lumting anf you bur the mumens for this knowledge were wauching i figled this course ewere from autimated with this informetch   continuers easy for beginners  the pytery  goidly and they see so son loss then thefinice  althours you got all wan  he proviemmmer  yit doen to continue for my functions of year this lattr\n",
            "\n",
            "Epoch 00019: loss improved from 0.95324 to 0.94469, saving model to /content/gdrive/My Drive/Capstone/Data/\n",
            "Epoch 20/100\n",
            "2362/2362 [==============================] - 25s 11ms/step - loss: 0.9239 - accuracy: 0.7205 - val_loss: 0.9945 - val_accuracy: 0.7060\n",
            "\n",
            "----- Generating text after Epoch: 19\n",
            "----- diversity: 0.2\n",
            "----- Generating with seed: \"re your knowledge on the topic  not only are there videos you can watch and material to read  the qu\"\n",
            "re your knowledge on the topic  not only are there videos you can watch and material to read  the quiz and assignment  thank you so much for the course is a great course to start with programming  the course is a great teacher  the course is a great teacher  i would like to start the course is very helpful  i have tried the course was a great course                                                                                                                                                     \n",
            "----- diversity: 0.5\n",
            "----- Generating with seed: \"re your knowledge on the topic  not only are there videos you can watch and material to read  the qu\"\n",
            "re your knowledge on the topic  not only are there videos you can watch and material to read  the quiz and new thore severance is a great teacher  and i started to the beginners                                                                                                                                                                                                                                                                                                                                   \n",
            "----- diversity: 1.0\n",
            "----- Generating with seed: \"re your knowledge on the topic  not only are there videos you can watch and material to read  the qu\"\n",
            "re your knowledge on the topic  not only are there videos you can watch and material to read  the quiz psocuded to lavgrag me teaching sesent who want to learn phourt of python and math lettly interngistin time  thanks confuct of understand programming  learning py un programming andwage of wasced  prop elly but this course is imagimed to learn to crange english  booss to beanged  i want to coursera  excellent teac from this who are really neverther  the providing in playfull you can be a lot ch\n",
            "----- diversity: 1.2\n",
            "----- Generating with seed: \"re your knowledge on the topic  not only are there videos you can watch and material to read  the qu\"\n",
            "re your knowledge on the topic  not only are there videos you can watch and material to read  the ques conjegu in s mathame programming course it is your gives you hinn  jasus searccefs that the fassitions of examples  i have learned up soin  an allformaut throughs that the course assignment sure been so how jopten a programmat  getting background  loich  he is need corsents are easy and evary bocking programming in programming that course making scarams   i getame ortance with me  you fiels abo\n",
            "\n",
            "Epoch 00020: loss improved from 0.94469 to 0.93684, saving model to /content/gdrive/My Drive/Capstone/Data/\n",
            "Epoch 21/100\n",
            "2362/2362 [==============================] - 25s 11ms/step - loss: 0.9198 - accuracy: 0.7209 - val_loss: 0.9949 - val_accuracy: 0.7059\n",
            "\n",
            "----- Generating text after Epoch: 20\n",
            "----- diversity: 0.2\n",
            "----- Generating with seed: \" through the lessons  a great way to begin programming as a beginner    dr  chuck sir is so amazing \"\n",
            " through the lessons  a great way to begin programming as a beginner    dr  chuck sir is so amazing                                                                                                                                                                                                                                                                                                                                                                                                                 \n",
            "----- diversity: 0.5\n",
            "----- Generating with seed: \" through the lessons  a great way to begin programming as a beginner    dr  chuck sir is so amazing \"\n",
            " through the lessons  a great way to begin programming as a beginner    dr  chuck sir is so amazing course  i have ever seen and it is a very glod the kerw   the material  and way to the python programming    this course was very interesting and programming  i would like to everyone  loved the material of programming  as i was a more courses   i have tried start that it is exciting by step  i am very interesting and step by step in the course i have learn  to take the best programming  thank you\n",
            "----- diversity: 1.0\n",
            "----- Generating with seed: \" through the lessons  a great way to begin programming as a beginner    dr  chuck sir is so amazing \"\n",
            " through the lessons  a great way to begin programming as a beginner    dr  chuck sir is so amazing  if it ream litering  the now he teaching  in weeks  but this course was really ground ret important    i learnts for migh  dr  chuck it was great time python sevirations  your python with new little after c    i ever then but he is rather basic programming  course   study mays  it was very little great course    i want to learn programming  litter explanation if you re best parcinue hours of pyth\n",
            "----- diversity: 1.2\n",
            "----- Generating with seed: \" through the lessons  a great way to begin programming as a beginner    dr  chuck sir is so amazing \"\n",
            " through the lessons  a great way to begin programming as a beginner    dr  chuck sir is so amazing  enjoy thanks do this other programming   intermading who step by right he have necessary charles s wele feed from know any computer science with python programming this worky and shows han ling anytate on programming  it has nomputinks and a hat some programming thank for grather feel  i want to learn python  i just way  sontacl of python  you was very well then intradaitibal  you have to have pr\n",
            "\n",
            "Epoch 00021: loss improved from 0.93684 to 0.93000, saving model to /content/gdrive/My Drive/Capstone/Data/\n",
            "Epoch 22/100\n",
            "2362/2362 [==============================] - 25s 11ms/step - loss: 0.9152 - accuracy: 0.7219 - val_loss: 0.9947 - val_accuracy: 0.7074\n",
            "\n",
            "----- Generating text after Epoch: 21\n",
            "----- diversity: 0.2\n",
            "----- Generating with seed: \" highly recommend it for people learning from square one or just wanting add another language to the\"\n",
            " highly recommend it for people learning from square one or just wanting add another language to the programming language                                                                                                                                                                                                                                                                                                                                                                                           \n",
            "----- diversity: 0.5\n",
            "----- Generating with seed: \" highly recommend it for people learning from square one or just wanting add another language to the\"\n",
            " highly recommend it for people learning from square one or just wanting add another language to the programming in a perfect of the python programming  thank to coursera and the way of explaining the course   this course is really good and anyone who is very good and i was never from the python course for beginners  i am very good and explaining thing and also introduce to get a programming  the course is a good and designed course for beginners  i am planning to learn python  the course is als\n",
            "----- diversity: 1.0\n",
            "----- Generating with seed: \" highly recommend it for people learning from square one or just wanting add another language to the\"\n",
            " highly recommend it for people learning from square one or just wanting add another language to them everyone that allowally  they was started times  but i would recommend who review course  which seemed programming entarialialve content  thank you to have stugren explanations of the course whore sperial teaching and topics  charles russell severance is very good along whach are very intorietcl  building who how mach and basic university of any used tastener to learn their nograble far easy exa\n",
            "----- diversity: 1.2\n",
            "----- Generating with seed: \" highly recommend it for people learning from square one or just wanting add another language to the\"\n",
            " highly recommend it for people learning from square one or just wanting add another language to theiry in a weat hours to going studun   video if you like to exproumrit me to neep currently pibulm  interviewing  do examples start deend what ho amazors  which mads likely worth with get and and very learning notimes  have prancid  so it is taked manapeffors and easy to learn  he is nave and much monthol courses of python  so wentionalcinge lesron on the ribsing of letcopactros that so interesting\n",
            "\n",
            "Epoch 00022: loss improved from 0.93000 to 0.92362, saving model to /content/gdrive/My Drive/Capstone/Data/\n",
            "Epoch 23/100\n",
            "2362/2362 [==============================] - 25s 11ms/step - loss: 0.9075 - accuracy: 0.7249 - val_loss: 0.9960 - val_accuracy: 0.7078\n",
            "\n",
            "----- Generating text after Epoch: 22\n",
            "----- diversity: 0.2\n",
            "----- Generating with seed: \"eat first course to start programming for the first time or to familiarize yourself with python if y\"\n",
            "eat first course to start programming for the first time or to familiarize yourself with python if you have seem a great course                                                                                                                                                                                                                                                                                                                                                                                     \n",
            "----- diversity: 0.5\n",
            "----- Generating with seed: \"eat first course to start programming for the first time or to familiarize yourself with python if y\"\n",
            "eat first course to start programming for the first time or to familiarize yourself with python if you have sciente easily  i am had a better of the best course i was able to learn programming and this course is very interested in the python        this course is very good and i well definitely recommend this tould seem of the course with some of the program      i would recommend this course to anyone who is all the next course in a manner the basic so far      i loved      i am a much and have\n",
            "----- diversity: 1.0\n",
            "----- Generating with seed: \"eat first course to start programming for the first time or to familiarize yourself with python if y\"\n",
            "eat first course to start programming for the first time or to familiarize yourself with python if you gives coding for anyone who is interested   other properfors assignments and past with because you donts very easy  by the teacher required  a progrems from develops week from ones arong is this course for peopleg  as well  charlen frustrates  i tried  this course is an amazing knowledge of new cancestor charles severance really a great teacher is as quickly thanks coursera and get shruchly cha\n",
            "----- diversity: 1.2\n",
            "----- Generating with seed: \"eat first course to start programming for the first time or to familiarize yourself with python if y\"\n",
            "eat first course to start programming for the first time or to familiarize yourself with python if you makes chuck reseeved that has no priornonally enablery in this   goans and very is assilubing seriel and i beinized in a very griva ceraully apper usted with quite entaniano s jumps aft rig this pacsiby and menter write funned stien and ever trole robrs about python  having assome and mannter  profess  chuck fun and specialy froms really ulifeld sec infind what has uling quality coursera  you h\n",
            "\n",
            "Epoch 00023: loss improved from 0.92362 to 0.91700, saving model to /content/gdrive/My Drive/Capstone/Data/\n",
            "Epoch 24/100\n",
            "2362/2362 [==============================] - 25s 11ms/step - loss: 0.9063 - accuracy: 0.7248 - val_loss: 0.9961 - val_accuracy: 0.7085\n",
            "\n",
            "----- Generating text after Epoch: 23\n",
            "----- diversity: 0.2\n",
            "----- Generating with seed: \" it was a worthwhile course  entertaining as well  i just wish that there were more sample homework \"\n",
            " it was a worthwhile course  entertaining as well  i just wish that there were more sample homework with the basics of python  the instructor is a great teacher  i loved this course                                                                                                                                                                                                                                                                                                                               \n",
            "----- diversity: 0.5\n",
            "----- Generating with seed: \" it was a worthwhile course  entertaining as well  i just wish that there were more sample homework \"\n",
            " it was a worthwhile course  entertaining as well  i just wish that there were more sample homework will be able to complete the way he teaches that is an engaging  the way this course is designed how programming to get a beginner who has a beginner  the instructor dr  chuck is an easy to understand the basics of programming for everybody                                                                                                                                                                \n",
            "----- diversity: 1.0\n",
            "----- Generating with seed: \" it was a worthwhile course  entertaining as well  i just wish that there were more sample homework \"\n",
            " it was a worthwhile course  entertaining as well  i just wish that there were more sample homework started and there  i how the way he is your became    toward i tchings as i loved the reserrabing and well   i just want to learn this caurted gived the course and the lectures writial was my become from chap  i had no passional intucad of understanding videos of mrecually to start the perfect  dr  chuck is highly reading anl jasp given stuppuming eveny great jubs still start to propend for my car\n",
            "----- diversity: 1.2\n",
            "----- Generating with seed: \" it was a worthwhile course  entertaining as well  i just wish that there were more sample homework \"\n",
            " it was a worthwhile course  entertaining as well  i just wish that there were more sample homework  it s really helots forboustioustronce with aweseat as beginners quiz sesies are very usen takes a small videos and charles stors is just learn python for excepases also precareed breaks claks was not the very helpful  i think alwhole   i not his knowledge of gave the spazin the edacamation this one to accessible the and  it was deliver that class    charles because otherwarally everything has an \n",
            "\n",
            "Epoch 00024: loss improved from 0.91700 to 0.91157, saving model to /content/gdrive/My Drive/Capstone/Data/\n",
            "Epoch 25/100\n",
            "2362/2362 [==============================] - 25s 11ms/step - loss: 0.8975 - accuracy: 0.7263 - val_loss: 0.9983 - val_accuracy: 0.7079\n",
            "\n",
            "----- Generating text after Epoch: 24\n",
            "----- diversity: 0.2\n",
            "----- Generating with seed: \"s in this specialization  it has been refreshing to learn the basics of programming and in such an e\"\n",
            "s in this specialization  it has been refreshing to learn the basics of programming and in such an experience  the course is a great teacher  the course is a very good  thank you                                                                                                                                                                                                                                                                                                                                  \n",
            "----- diversity: 0.5\n",
            "----- Generating with seed: \"s in this specialization  it has been refreshing to learn the basics of programming and in such an e\"\n",
            "s in this specialization  it has been refreshing to learn the basics of programming and in such an explains the one of the best course for beginners  for everybody    which i can be even for someone who has using the lectures   this course is a very good student  the course was interested in the first                                                                                                                                                                                                      \n",
            "----- diversity: 1.0\n",
            "----- Generating with seed: \"s in this specialization  it has been refreshing to learn the basics of programming and in such an e\"\n",
            "s in this specialization  it has been refreshing to learn the basics of programming and in such an extremettif is the best of chuck  a word  with the funny to do this dre to firstea  don t have a lot of very clearly with not into python from to the reing the basics were very helpful courses apout to say that continue level completely data programming of course for pothed anyone with the python sequestic inverved to coding parson with i could make the course will be very engaging are encotically \n",
            "----- diversity: 1.2\n",
            "----- Generating with seed: \"s in this specialization  it has been refreshing to learn the basics of programming and in such an e\"\n",
            "s in this specialization  it has been refreshing to learn the basics of programming and in such an experience  progressic   journgatalys and very their like it introduciors   i encouraghly      a teacher will continue compubing some easily fors teen happy tech sumplement here of them he chepe  when had a an everying farration for me learners this   while if retuld each learner shourgifullfoctlinglated in juster to han unom about hom  or a great programming and the lessons are highly i crnit time\n",
            "\n",
            "Epoch 00025: loss improved from 0.91157 to 0.90568, saving model to /content/gdrive/My Drive/Capstone/Data/\n",
            "Epoch 26/100\n",
            "2362/2362 [==============================] - 25s 11ms/step - loss: 0.8913 - accuracy: 0.7295 - val_loss: 0.9965 - val_accuracy: 0.7077\n",
            "\n",
            "----- Generating text after Epoch: 25\n",
            "----- diversity: 0.2\n",
            "----- Generating with seed: \"or us to solve made me happy and attentive all the time  thank you programming for everybody for thi\"\n",
            "or us to solve made me happy and attentive all the time  thank you programming for everybody for this course  i am a really good and i was a great course                                                                                                                                                                                                                                                                                                                                                           \n",
            "----- diversity: 0.5\n",
            "----- Generating with seed: \"or us to solve made me happy and attentive all the time  thank you programming for everybody for thi\"\n",
            "or us to solve made me happy and attentive all the time  thank you programming for everybody for this course    it is good experience  thanks        i am so that i can t progress and programming                                                                                                                                                                                                                                                                                                                  \n",
            "----- diversity: 1.0\n",
            "----- Generating with seed: \"or us to solve made me happy and attentive all the time  thank you programming for everybody for thi\"\n",
            "or us to solve made me happy and attentive all the time  thank you programming for everybody for this course  if yit course in python background this opporthore course and fun and you re more importantly and when i have koon   i am  assignments are given of strowlors   professor is so amazing job prifes   toughs this course in in this course so this greak through the more material  thank you in very well video lento start que less propperariad ongent can explain confident floring python to take \n",
            "----- diversity: 1.2\n",
            "----- Generating with seed: \"or us to solve made me happy and attentive all the time  thank you programming for everybody for thi\"\n",
            "or us to solve made me happy and attentive all the time  thank you programming for everybody for this litter uctrog myself  nevorc    i become makes me really enjoyide educaton to clars and rather ttuty  it was an examples as well book  this was incredibly  one of the his course so threok people way   alremment made the knowledge  they are winder things  learn toping  professor  the perfect of python  programming the conce coplence   it what hoi broks   simple ow how to hone have anytute  i oppr\n",
            "\n",
            "Epoch 00026: loss improved from 0.90568 to 0.90012, saving model to /content/gdrive/My Drive/Capstone/Data/\n",
            "Epoch 27/100\n",
            "2362/2362 [==============================] - 25s 10ms/step - loss: 0.8887 - accuracy: 0.7297 - val_loss: 1.0039 - val_accuracy: 0.7066\n",
            "\n",
            "----- Generating text after Epoch: 26\n",
            "----- diversity: 0.2\n",
            "----- Generating with seed: \"i still found the course very useful to get a head start with python language  all credits to charle\"\n",
            "i still found the course very useful to get a head start with python language  all credits to charles severance                                                                                                                                                                                                                                                                                                                                                                                                     \n",
            "----- diversity: 0.5\n",
            "----- Generating with seed: \"i still found the course very useful to get a head start with python language  all credits to charle\"\n",
            "i still found the course very useful to get a head start with python language  all credits to charles severance  has a really good and the course is a computer programming  fun  one of the course                                                                                                                                                                                                                                                                                                                 \n",
            "----- diversity: 1.0\n",
            "----- Generating with seed: \"i still found the course very useful to get a head start with python language  all credits to charle\"\n",
            "i still found the course very useful to get a head start with python language  all credits to charles suved of cameng and python language and well pieding to ite no light is eveny happy to lostailate moter  motivated not too do there is so easy to fect alrays with i have did auted in a mind foundation  i have  he intellcfectany with python  lave making the quiz from many programming if you spent for this course on slo form then that i ve enjoy discussion for this for such out python clase is suc\n",
            "----- diversity: 1.2\n",
            "----- Generating with seed: \"i still found the course very useful to get a head start with python language  all credits to charle\"\n",
            "i still found the course very useful to get a head start with python language  all credits to charles  if and   this course gives you are tops all python into quire or now in python  highesly take the course  if you the coull feel soffolumo or useful way  boem and videos language  a very logicalars id my from the course  i enjoyed the way they helpful  when have me in python try videon  especially possible to understand outsulicames highly agghate thinking his taking  more course i a hable in st\n",
            "\n",
            "Epoch 00027: loss improved from 0.90012 to 0.89477, saving model to /content/gdrive/My Drive/Capstone/Data/\n",
            "Epoch 28/100\n",
            "2362/2362 [==============================] - 25s 11ms/step - loss: 0.8818 - accuracy: 0.7319 - val_loss: 1.0004 - val_accuracy: 0.7090\n",
            "\n",
            "----- Generating text after Epoch: 27\n",
            "----- diversity: 0.2\n",
            "----- Generating with seed: \"tured and organized the teacher is very talented  you can see he has an excellent background and at \"\n",
            "tured and organized the teacher is very talented  you can see he has an excellent background and at the basics of python                                                                                                                                                                                                                                                                                                                                                                                            \n",
            "----- diversity: 0.5\n",
            "----- Generating with seed: \"tured and organized the teacher is very talented  you can see he has an excellent background and at \"\n",
            "tured and organized the teacher is very talented  you can see he has an excellent background and at the specialization    i am really good for the course                                                                                                                                                                                                                                                                                                                                                           \n",
            "----- diversity: 1.0\n",
            "----- Generating with seed: \"tured and organized the teacher is very talented  you can see he has an excellent background and at \"\n",
            "tured and organized the teacher is very talented  you can see he has an excellent background and at the teacher chere is beginner the ore in this   a great course with just stideng of python be kew to coding  i had fun and i creing the course requires the lecturer  gud to looc deverop right  and complete courses an explaining tod consinue program  and   python  thank you coursera for borsuable and fabing me to untraction of programming for evarienslis on gles   the course     write who  and expl\n",
            "----- diversity: 1.2\n",
            "----- Generating with seed: \"tured and organized the teacher is very talented  you can see he has an excellent background and at \"\n",
            "tured and organized the teacher is very talented  you can see he has an excellent background and at the best course python  the instructor  do gething to toopen the course for someining programming is extrestifiting  it common to understand python  sanus for people very enginer you to this i complete in life he review into python that you programming jogget  really sometimes  this course who relliva motivated dorngs in like the course day whated teacher  great tangua learning about python by wit\n",
            "\n",
            "Epoch 00028: loss improved from 0.89477 to 0.88997, saving model to /content/gdrive/My Drive/Capstone/Data/\n",
            "Epoch 29/100\n",
            "2362/2362 [==============================] - 26s 11ms/step - loss: 0.8765 - accuracy: 0.7334 - val_loss: 1.0031 - val_accuracy: 0.7072\n",
            "\n",
            "----- Generating text after Epoch: 28\n",
            "----- diversity: 0.2\n",
            "----- Generating with seed: \"ing python  thank you once again   simple to understand and helps student to learn programming from \"\n",
            "ing python  thank you once again   simple to understand and helps student to learn programming from any programming language    i have a lot of things                                                                                                                                                                                                                                                                                                                                                              \n",
            "----- diversity: 0.5\n",
            "----- Generating with seed: \"ing python  thank you once again   simple to understand and helps student to learn programming from \"\n",
            "ing python  thank you once again   simple to understand and helps student to learn programming from the teacher                                                                                                                                                                                                                                                                                                                                                                                                     \n",
            "----- diversity: 1.0\n",
            "----- Generating with seed: \"ing python  thank you once again   simple to understand and helps student to learn programming from \"\n",
            "ing python  thank you once again   simple to understand and helps student to learn programming from mighing to be able to understand and there of the concepts without guide course with anmone to comprehens value times and it made me teacher though for a clear  wite now interested by the giet time engening new note acquite a great introduction to python    prior to python or had getain programming   excillingually for python next all the concepts which are start with a beginning not to do it with\n",
            "----- diversity: 1.2\n",
            "----- Generating with seed: \"ing python  thank you once again   simple to understand and helps student to learn programming from \"\n",
            "ing python  thank you once again   simple to understand and helps student to learn programming from offerer cast basic course   would feelong bit practically are donicubinke  they mysel world  well awesomex the course aid lass but useful knowledge and rexebselve how to coding offsige of memso mocking python hand down piduble fers  special of this tutor sfreed s sen starcifle peried out from  commond us feel presect way  awased and quizzes on my bay decideer course  simple by dr chuck stareming f\n",
            "\n",
            "Epoch 00029: loss improved from 0.88997 to 0.88563, saving model to /content/gdrive/My Drive/Capstone/Data/\n",
            "Epoch 30/100\n",
            "2362/2362 [==============================] - 26s 11ms/step - loss: 0.8688 - accuracy: 0.7357 - val_loss: 1.0023 - val_accuracy: 0.7081\n",
            "\n",
            "----- Generating text after Epoch: 29\n",
            "----- diversity: 0.2\n",
            "----- Generating with seed: \"n programming in another language  it should be possible to go through this course pretty quickly   \"\n",
            "n programming in another language  it should be possible to go through this course pretty quickly                                                                                                                                                                                                                                                                                                                                                                                                                   \n",
            "----- diversity: 0.5\n",
            "----- Generating with seed: \"n programming in another language  it should be possible to go through this course pretty quickly   \"\n",
            "n programming in another language  it should be possible to go through this course pretty quickly          this course is really great  it was a great course     i learn a lot of the best courses  i am some complicated and much good to complete these course                                                                                                                                                                                                                                                   \n",
            "----- diversity: 1.0\n",
            "----- Generating with seed: \"n programming in another language  it should be possible to go through this course pretty quickly   \"\n",
            "n programming in another language  it should be possible to go through this course pretty quickly   i started this course and complete people professo severance explains atterts one different can time to be easy   and quickly thats and way of the programming languages dr  chuck you are tlone the are tide    to demps abjey to anyone exception   there is opic as useful reshons in programming and assistant to anyone who want to study as the amanns on the professor or the professor is very helpful g\n",
            "----- diversity: 1.2\n",
            "----- Generating with seed: \"n programming in another language  it should be possible to go through this course pretty quickly   \"\n",
            "n programming in another language  it should be possible to go through this course pretty quickly   if you realire week is suclor  speader was arginging using evening  after seamedations and i highly recommend this learning promining experience before i figlly clear havang anlious and it really am motivatials which help my nain  the basics of michigan and now agg and ar beginners tounch  the qumic language  the material me be offer this care was excellent  it s at mystanding other courses i love\n",
            "\n",
            "Epoch 00030: loss improved from 0.88563 to 0.88094, saving model to /content/gdrive/My Drive/Capstone/Data/\n",
            "Epoch 31/100\n",
            "2362/2362 [==============================] - 26s 11ms/step - loss: 0.8696 - accuracy: 0.7354 - val_loss: 1.0063 - val_accuracy: 0.7071\n",
            "\n",
            "----- Generating text after Epoch: 30\n",
            "----- diversity: 0.2\n",
            "----- Generating with seed: \" to understand and follow  i ll continue with the specialization on my way to develop useful applica\"\n",
            " to understand and follow  i ll continue with the specialization on my way to develop useful applications    i have to basic programming for everybody    i am a good course  i have to basic i really enjoyed the course to learn python    i have learnt the course                                                                                                                                                                                                                                               \n",
            "----- diversity: 0.5\n",
            "----- Generating with seed: \" to understand and follow  i ll continue with the specialization on my way to develop useful applica\"\n",
            " to understand and follow  i ll continue with the specialization on my way to develop useful applicame and sometimes and the teacher is well as to the beginners  i would like to start to the proper for the first time and the course     this course is very interested in programming  this course is very helpful and i could felt a  down to the professor and i have a lot of python  the quizzes and sometimes and some time  i would like to teach at a good assignments    i m looking forward to the next\n",
            "----- diversity: 1.0\n",
            "----- Generating with seed: \" to understand and follow  i ll continue with the specialization on my way to develop useful applica\"\n",
            " to understand and follow  i ll continue with the specialization on my way to develop useful application in a people starictly  fourdatipest  i would never ater to complete in an beginner  and weekn to have generap for beginners and makes in devilacely  then python many to learn a bad to learnt way of teaching quizzes was excited to challenst on extends  approach by the course  i will referaching to give hesics ererest  after learning python  very industry but not someone from this course  it wa\n",
            "----- diversity: 1.2\n",
            "----- Generating with seed: \" to understand and follow  i ll continue with the specialization on my way to develop useful applica\"\n",
            " to understand and follow  i ll continue with the specialization on my way to develop useful applicate  not hoe online great      really here to have all the basics at have envoredel   alwhours rimbernaraltit examples  explahes one aptted would tood these coursera premor of the understanding teachers are greaued  friendlay zing lates  i had  this specialization  you do in such a monand what organy or from one of the course   that is fave it  altioncr   then you have the lectures  on for everybod\n",
            "\n",
            "Epoch 00031: loss improved from 0.88094 to 0.87683, saving model to /content/gdrive/My Drive/Capstone/Data/\n",
            "Epoch 32/100\n",
            "2362/2362 [==============================] - 26s 11ms/step - loss: 0.8648 - accuracy: 0.7356 - val_loss: 1.0048 - val_accuracy: 0.7073\n",
            "\n",
            "----- Generating text after Epoch: 31\n",
            "----- diversity: 0.2\n",
            "----- Generating with seed: \"s a little nervous about i wandor if i could understand what the teacher might talk about  but as i \"\n",
            "s a little nervous about i wandor if i could understand what the teacher might talk about  but as i have a beginner  i am so knowledge in the first course i was able to complete the course and i was a great teacher  i would recommend to anyone who is all  the instructor is very good and i have ever taken  the instructor is very good and i would like to thank your of the course     i was a great course for those who have never help you to the professor is excellent      the course is very interes\n",
            "----- diversity: 0.5\n",
            "----- Generating with seed: \"s a little nervous about i wandor if i could understand what the teacher might talk about  but as i \"\n",
            "s a little nervous about i wandor if i could understand what the teacher might talk about  but as i am sough for such which was explained everything so much  i have completed this course to anyone with the course   professor is also explained everything was also for you  i would sees the course was very interesting     excellent class  dr chuck is a great course    i enjoyed the first of the basic concepts in a start to python and assignments with programming  the course can move in a great teac\n",
            "----- diversity: 1.0\n",
            "----- Generating with seed: \"s a little nervous about i wandor if i could understand what the teacher might talk about  but as i \"\n",
            "s a little nervous about i wandor if i could understand what the teacher might talk about  but as i casely enjoyable the instructor is great  and python coding exporent to do maze it explains the was partional basic  and easy and those knows dows details levelfing a non toplly  constructs with python starr that i was for python and clear  neve  so weeks  quizzes and overall highly famply joubhing moning to deverance s python and exceptail subs at very guidate while recommended in python for ever\n",
            "----- diversity: 1.2\n",
            "----- Generating with seed: \"s a little nervous about i wandor if i could understand what the teacher might talk about  but as i \"\n",
            "s a little nervous about i wandor if i could understand what the teacher might talk about  but as i want to casg content too ere extrementall for troll liot  weeka class i want you dowbodengard exextisp sked instructions coding perfect advilbots he used me  in this wothoun   comes at a more examples to computer stracting more challenge that coursera clear it you presents have about to get mabotas with the uniect and really presented vilw  and also the lain never is your kindally neax programming\n",
            "\n",
            "Epoch 00032: loss improved from 0.87683 to 0.87292, saving model to /content/gdrive/My Drive/Capstone/Data/\n",
            "Epoch 33/100\n",
            "2362/2362 [==============================] - 26s 11ms/step - loss: 0.8617 - accuracy: 0.7377 - val_loss: 1.0076 - val_accuracy: 0.7070\n",
            "\n",
            "----- Generating text after Epoch: 32\n",
            "----- diversity: 0.2\n",
            "----- Generating with seed: \" from commerce background and had no idea about coding at all  but  not even a single time i felt th\"\n",
            " from commerce background and had no idea about coding at all  but  not even a single time i felt thanks to dr  chuck                                                                                                                                                                                                                                                                                                                                                                                               \n",
            "----- diversity: 0.5\n",
            "----- Generating with seed: \" from commerce background and had no idea about coding at all  but  not even a single time i felt th\"\n",
            " from commerce background and had no idea about coding at all  but  not even a single time i felt that i m fayl the basics             excellent course   it was a great teacher     this course is a great teacher  i highly recommend this course to anyone who is a great introduction to python  students it was a great course                                                                                                                                                                                 \n",
            "----- diversity: 1.0\n",
            "----- Generating with seed: \" from commerce background and had no idea about coding at all  but  not even a single time i felt th\"\n",
            " from commerce background and had no idea about coding at all  but  not even a single time i felt that days that as absolutely experienced underbleetals about programming by data  de a jos one scould speed it a stay  if you havent learn and theably programming id no not me  completelyingr  and condinuored in java and python series assignments      it is a very good is to progress is just found this course    this is a great course  coming basic programming by programming language highly recommen\n",
            "----- diversity: 1.2\n",
            "----- Generating with seed: \" from commerce background and had no idea about coding at all  but  not even a single time i felt th\"\n",
            " from commerce background and had no idea about coding at all  but  not even a single time i felt thank you coursera enlect for people weth gett learning lessons about this feal many pespects what i didn i fiet sheht as samesk  begining charles risset ove it not only auget amazing xithing his courses chantence very interested  the instruction of pycedicalt of this shorter of knowledge taking this classenming parred opoghing learning wonderful jot viteed on devil entsol i gain this course is a fi\n",
            "\n",
            "Epoch 00033: loss improved from 0.87292 to 0.86878, saving model to /content/gdrive/My Drive/Capstone/Data/\n",
            "Epoch 34/100\n",
            "2362/2362 [==============================] - 26s 11ms/step - loss: 0.8582 - accuracy: 0.7384 - val_loss: 1.0090 - val_accuracy: 0.7076\n",
            "\n",
            "----- Generating text after Epoch: 33\n",
            "----- diversity: 0.2\n",
            "----- Generating with seed: \"ogramming skills that i learned in undergrad but have rarely put to use  i needed to know very basic\"\n",
            "ogramming skills that i learned in undergrad but have rarely put to use  i needed to know very basic concept in a some basic concept and the instructor is great                                                                                                                                                                                                                                                                                                                                                    \n",
            "----- diversity: 0.5\n",
            "----- Generating with seed: \"ogramming skills that i learned in undergrad but have rarely put to use  i needed to know very basic\"\n",
            "ogramming skills that i learned in undergrad but have rarely put to use  i needed to know very basic concept and the examples             i was able to understand and i am very interesting  it was very good to get the complete python   i m not only highly recommended    the course is a great course              i am general explanation  the lectures  i had a good course for the course would be  it is a definitely even someone who wants to learn python  i ll find the way dr  chuck is an excellent\n",
            "----- diversity: 1.0\n",
            "----- Generating with seed: \"ogramming skills that i learned in undergrad but have rarely put to use  i needed to know very basic\"\n",
            "ogramming skills that i learned in undergrad but have rarely put to use  i needed to know very basics to get a friendly for me  but this formmed for someone who has no perion for tse getting an easy with piod explanation and could you to take the course  i think learning my programming in the reging interesting and i get a bible  as a good place  i am soveed this course    the course is understand  hanly hum subtses with very discasse to enrora programming course to test appost programming exper\n",
            "----- diversity: 1.2\n",
            "----- Generating with seed: \"ogramming skills that i learned in undergrad but have rarely put to use  i needed to know very basic\"\n",
            "ogramming skills that i learned in undergrad but have rarely put to use  i needed to know very basics and explained  which have python were respince it was awouttion and to inspire the topics everyone who have soeve and auter am univerations i will deminitionally next keowled to only advention if und this course in exact foost    hehws  highly recommend this traisidy of mre git suin of the teaching done our knowledge a cannes i may pograb also  chanles to level some programming educator if this \n",
            "\n",
            "Epoch 00034: loss improved from 0.86878 to 0.86547, saving model to /content/gdrive/My Drive/Capstone/Data/\n",
            "Epoch 35/100\n",
            "2362/2362 [==============================] - 26s 11ms/step - loss: 0.8539 - accuracy: 0.7398 - val_loss: 1.0118 - val_accuracy: 0.7068\n",
            "\n",
            "----- Generating text after Epoch: 34\n",
            "----- diversity: 0.2\n",
            "----- Generating with seed: \"ginners  all the examples given and the diagrammatic representations of the execution of the code ar\"\n",
            "ginners  all the examples given and the diagrammatic representations of the execution of the code are that is the best course                                                                                                                                                                                                                                                                                                                                                                                       \n",
            "----- diversity: 0.5\n",
            "----- Generating with seed: \"ginners  all the examples given and the diagrammatic representations of the execution of the code ar\"\n",
            "ginners  all the examples given and the diagrammatic representations of the execution of the code are that you want to get the course  the course charles severance  or now     this is a great course  it is a very good started to programming in programming  and the assignments  i have stude to the next course programming for everybody                                                                                                                                                                     \n",
            "----- diversity: 1.0\n",
            "----- Generating with seed: \"ginners  all the examples given and the diagrammatic representations of the execution of the code ar\"\n",
            "ginners  all the examples given and the diagrammatic representations of the execution of the code arented on the one of kilding you prop one like me to understand  recoided to such a jus the basics of python before to program  thank you so much bredily and more than syntax   the content is back   excellent course with more explanations i could not knews very clear and it material  i found future and extremely enjoyable or programming was important syptemply with the basics  in this course which \n",
            "----- diversity: 1.2\n",
            "----- Generating with seed: \"ginners  all the examples given and the diagrammatic representations of the execution of the code ar\"\n",
            "ginners  all the examples given and the diagrammatic representations of the execution of the code are that slides you kind my next codes am very  this is fun maruees to programming  dr  chuck was youn lessons baded programs sible trat enture that he is a handae and was    looking forward to reght them our enrolling accesswe learn indally back in python  but technoing python  what wele before the course  you mint to understand problem on python language beginners   egagenes for awhugifn on they s\n",
            "\n",
            "Epoch 00035: loss improved from 0.86547 to 0.86176, saving model to /content/gdrive/My Drive/Capstone/Data/\n",
            "Epoch 36/100\n",
            "2362/2362 [==============================] - 26s 11ms/step - loss: 0.8516 - accuracy: 0.7399 - val_loss: 1.0082 - val_accuracy: 0.7084\n",
            "\n",
            "----- Generating text after Epoch: 35\n",
            "----- diversity: 0.2\n",
            "----- Generating with seed: \"are of great help    excellent  although  even without having any programming experience except some\"\n",
            "are of great help    excellent  although  even without having any programming experience except someone who have no programming                                                                                                                                                                                                                                                                                                                                                                                     \n",
            "----- diversity: 0.5\n",
            "----- Generating with seed: \"are of great help    excellent  although  even without having any programming experience except some\"\n",
            "are of great help    excellent  although  even without having any programming experience except someone with a material  i would like to thank you very much  i m very beginner for a basic in the first course in the best course i can to program                                                                                                                                                                                                                                                                 \n",
            "----- diversity: 1.0\n",
            "----- Generating with seed: \"are of great help    excellent  although  even without having any programming experience except some\"\n",
            "are of great help    excellent  although  even without having any programming experience except someanier wanting this to extre to keep goad is way of teaching is are your very background  it find overwainse of practiced to do if one  the instructor made me beginners it shellen take met  some fasting that it is one  all other code concepts of programming  and it really an approach made the course and the lesson is very good for the person of programming  also went way thing taking the command on\n",
            "----- diversity: 1.2\n",
            "----- Generating with seed: \"are of great help    excellent  although  even without having any programming experience except some\"\n",
            "are of great help    excellent  although  even without having any programming experience except somet for enablicated to code made how pigrab come  really wanted to increciect problems are get that i felt already  and hecrate instructons althoq  is easy completely i will enroll every basic very clear my comfor about can see the good samslations  over they he does by inteveral thing orce python a few so other course of ntwitaing and very might student for pyments about the language  pace algort t\n",
            "\n",
            "Epoch 00036: loss improved from 0.86176 to 0.85828, saving model to /content/gdrive/My Drive/Capstone/Data/\n",
            "Epoch 37/100\n",
            "2362/2362 [==============================] - 26s 11ms/step - loss: 0.8426 - accuracy: 0.7436 - val_loss: 1.0185 - val_accuracy: 0.7050\n",
            "\n",
            "----- Generating text after Epoch: 36\n",
            "----- diversity: 0.2\n",
            "----- Generating with seed: \" you will get basic idea about python and  you can enroll for different python courses to deep dive \"\n",
            " you will get basic idea about python and  you can enroll for different python courses to deep dive me things with the course and i would like to thank you                                                                                                                                                                                                                                                                                                                                                         \n",
            "----- diversity: 0.5\n",
            "----- Generating with seed: \" you will get basic idea about python and  you can enroll for different python courses to deep dive \"\n",
            " you will get basic idea about python and  you can enroll for different python courses to deep dive of the course  this course is really good and interesting  i got a big that it was a great opportunity for the course  i would like to thank a amazing to first the content  the material is very finish the course   i would recommend this course for anyone who wants to learn more about this course and for the introduction to python  so that it was a great course to anyone who wants to start this cou\n",
            "----- diversity: 1.0\n",
            "----- Generating with seed: \" you will get basic idea about python and  you can enroll for different python courses to deep dive \"\n",
            " you will get basic idea about python and  you can enroll for different python courses to deep dive  coding  i am helpful rig successing aly to coding on your beengoy poth useful and referatively about coursera for the reidigning and the very yes   so it was easy  i didn t thin want it information  concure    i am looking forward to python  the teacher all fact time that most of the fundamental clear and structhor dada conturion a petson of smalt tsing and completely anyone want to everyone if t\n",
            "----- diversity: 1.2\n",
            "----- Generating with seed: \" you will get basic idea about python and  you can enroll for different python courses to deep dive \"\n",
            " you will get basic idea about python and  you can enroll for different python courses to deep dive  charles is educat ontr me simplificsly noth  drcchanus not python   aftll cencises  i doked this course taken just the instructor  im  this is really grates turnclaid   conhiming introductory suc different  with feeling with chathes barfors and course assignment things people in non courses broadd at the pronidedabce or javan structur  charles is an accompoftorvanment and interactive and someond \n",
            "\n",
            "Epoch 00037: loss improved from 0.85828 to 0.85460, saving model to /content/gdrive/My Drive/Capstone/Data/\n",
            "Epoch 38/100\n",
            "2362/2362 [==============================] - 26s 11ms/step - loss: 0.8405 - accuracy: 0.7426 - val_loss: 1.0175 - val_accuracy: 0.7052\n",
            "\n",
            "----- Generating text after Epoch: 37\n",
            "----- diversity: 0.2\n",
            "----- Generating with seed: \"and except statement in python with wonderful explanation and programming example this course have f\"\n",
            "and except statement in python with wonderful explanation and programming example this course have for a great course                                                                                                                                                                                                                                                                                                                                                                                               \n",
            "----- diversity: 0.5\n",
            "----- Generating with seed: \"and except statement in python with wonderful explanation and programming example this course have f\"\n",
            "and except statement in python with wonderful explanation and programming example this course have for you  i learned a lot to understand    i am going this course                                                                                                                                                                                                                                                                                                                                                 \n",
            "----- diversity: 1.0\n",
            "----- Generating with seed: \"and except statement in python with wonderful explanation and programming example this course have f\"\n",
            "and except statement in python with wonderful explanation and programming example this course have friendately made the same exercises very funny his method was a creat programm alsisation programs    prof  charles secores do in suitime a good pit on geed assess whent jound this interviewing on university  very designed  are very useful a programming  the knowledge its a great course for everyone  i think that  veryone who pace i ve ever haddy enjoyed  the videos are confused such basic and hope\n",
            "----- diversity: 1.2\n",
            "----- Generating with seed: \"and except statement in python with wonderful explanation and programming example this course have f\"\n",
            "and except statement in python with wonderful explanation and programming example this course have from learnars of computer s lot of program untures at effacing and use the basics at was quite amazing try and communt midn t real having within do accompliciting about for you to my firs     chuck great matner thanks recouddemsials of programming  great teaching realizalion    but i would cas ever help new sfroduce universize every persons problem into like it without taken such a fun and easy tha\n",
            "\n",
            "Epoch 00038: loss improved from 0.85460 to 0.85171, saving model to /content/gdrive/My Drive/Capstone/Data/\n",
            "Epoch 39/100\n",
            "2362/2362 [==============================] - 26s 11ms/step - loss: 0.8362 - accuracy: 0.7445 - val_loss: 1.0195 - val_accuracy: 0.7044\n",
            "\n",
            "----- Generating text after Epoch: 38\n",
            "----- diversity: 0.2\n",
            "----- Generating with seed: \"y learning  thank you very much for wonderful course     it s wonderful to take this course it s an \"\n",
            "y learning  thank you very much for wonderful course     it s wonderful to take this course it s an excellent course  i am very helpful  the teacher is a great course  i love the course                                                                                                                                                                                                                                                                                                                           \n",
            "----- diversity: 0.5\n",
            "----- Generating with seed: \"y learning  thank you very much for wonderful course     it s wonderful to take this course it s an \"\n",
            "y learning  thank you very much for wonderful course     it s wonderful to take this course it s an excellent teacher    i had the intorview in python  the course come and interact of me  it is a great course for beginners       i am a real beginner and had more than more advanced cor ecracise   great course  i had a good course  thanks for providing                                                                                                                                                    \n",
            "----- diversity: 1.0\n",
            "----- Generating with seed: \"y learning  thank you very much for wonderful course     it s wonderful to take this course it s an \"\n",
            "y learning  thank you very much for wonderful course     it s wonderful to take this course it s an excellent teacher   i highly recommend this courresa for the beginners the teacher is dr  chuck from hes    the onligess we have any while basic programming the teaching studies to before this course was imperect as a bit of different craving of python indif in a from life this class  the course helped of compacise in a programming language hava whice  peshing aba teacher  in this course  for lear\n",
            "----- diversity: 1.2\n",
            "----- Generating with seed: \"y learning  thank you very much for wonderful course     it s wonderful to take this course it s an \"\n",
            "y learning  thank you very much for wonderful course     it s wonderful to take this course it s an ayed  it is a neadles to coding what rave int nothto that actives long the can be of concepts  and there yourself inctake skills the university of pythun to such a avory in a very logic ererant terming nite deaming to begin life  so zero inturaiut process my now coursera to take my time by jooc ereanced  the instructor dr  chuck is very good going you so much surgeted math skills and studied stude\n",
            "\n",
            "Epoch 00039: loss improved from 0.85171 to 0.84885, saving model to /content/gdrive/My Drive/Capstone/Data/\n",
            "Epoch 40/100\n",
            "2362/2362 [==============================] - 26s 11ms/step - loss: 0.8346 - accuracy: 0.7445 - val_loss: 1.0192 - val_accuracy: 0.7055\n",
            "\n",
            "----- Generating text after Epoch: 39\n",
            "----- diversity: 0.2\n",
            "----- Generating with seed: \"pe and i am sure this would be helpful for my professional progress  i fun and interactive way of le\"\n",
            "pe and i am sure this would be helpful for my professional progress  i fun and interactive way of learning python  this is the best course                                                                                                                                                                                                                                                                                                                                                                          \n",
            "----- diversity: 0.5\n",
            "----- Generating with seed: \"pe and i am sure this would be helpful for my professional progress  i fun and interactive way of le\"\n",
            "pe and i am sure this would be helpful for my professional progress  i fun and interactive way of learning the basics of python programming  this is a very good learning videos severance                                                                                                                                                                                                                                                                                                                          \n",
            "----- diversity: 1.0\n",
            "----- Generating with seed: \"pe and i am sure this would be helpful for my professional progress  i fun and interactive way of le\"\n",
            "pe and i am sure this would be helpful for my professional progress  i fun and interactive way of learning experience and videos sessed mead  dr  chuck cantboom       scour  coursera computer online course for very easy with no becoined       before to do the days  it s touts anslats for beginners  the course was ment add enfured to understand  the explanation others  you selvent as thanks to charles severance  all  before way that is explained much quaetr stated and if theyess difficulty     sh\n",
            "----- diversity: 1.2\n",
            "----- Generating with seed: \"pe and i am sure this would be helpful for my professional progress  i fun and interactive way of le\"\n",
            "pe and i am sure this would be helpful for my professional progress  i fun and interactive way of learning class it s great course aid zero process very easy to learn and gate me should jasu keeped our cleared to up experience and usent really well fun  excellent materuate   great unter atno eclly to code watching the things arem this charnus quite is thanks to is  this was beginnen second day the exercises before and funnowing more classra entine mmentissisy great course that amazing againg  it\n",
            "\n",
            "Epoch 00040: loss improved from 0.84885 to 0.84584, saving model to /content/gdrive/My Drive/Capstone/Data/\n",
            "Epoch 41/100\n",
            "2362/2362 [==============================] - 26s 11ms/step - loss: 0.8333 - accuracy: 0.7448 - val_loss: 1.0191 - val_accuracy: 0.7050\n",
            "\n",
            "----- Generating text after Epoch: 40\n",
            "----- diversity: 0.2\n",
            "----- Generating with seed: \"derstand    so much fun to learn through this class  it can be frustrating at times  but it s super \"\n",
            "derstand    so much fun to learn through this class  it can be frustrating at times  but it s super engaging                                                                                                                                                                                                                                                                                                                                                                                                        \n",
            "----- diversity: 0.5\n",
            "----- Generating with seed: \"derstand    so much fun to learn through this class  it can be frustrating at times  but it s super \"\n",
            "derstand    so much fun to learn through this class  it can be frustrating at times  but it s super engitice  you say that i can to thanks to this course  i will remand this course                                                                                                                                                                                                                                                                                                                                \n",
            "----- diversity: 1.0\n",
            "----- Generating with seed: \"derstand    so much fun to learn through this class  it can be frustrating at times  but it s super \"\n",
            "derstand    so much fun to learn through this class  it can be frustrating at times  but it s super a journ this course  ollfow aspent   after way pinder was an excellent and this course very well  i ve earne it dr chuck is an extremely good works and porpobly  only community  who back to problems   excellent start with python  he is pronding scrother so clear  and prop one able to tallor daded attung about the entertail inforta is programming for everybody  makes im every clear and listen to ex\n",
            "----- diversity: 1.2\n",
            "----- Generating with seed: \"derstand    so much fun to learn through this class  it can be frustrating at times  but it s super \"\n",
            "derstand    so much fun to learn through this class  it can be frustrating at times  but it s super can get some nicemena in this course but the exercisesy interesting  it keep up that you want terms intro to enter ocludem of python  it was excitive and interesting who wants to start python my just made me improve eacy wyelp stull necessaring new problem for lestcessoring attactive course  it makes harn  this  have bik now this course  this is wore thow spact  problem for basic course        i m\n",
            "\n",
            "Epoch 00041: loss improved from 0.84584 to 0.84380, saving model to /content/gdrive/My Drive/Capstone/Data/\n",
            "Epoch 42/100\n",
            "2362/2362 [==============================] - 26s 11ms/step - loss: 0.8258 - accuracy: 0.7477 - val_loss: 1.0233 - val_accuracy: 0.7045\n",
            "\n",
            "----- Generating text after Epoch: 41\n",
            "----- diversity: 0.2\n",
            "----- Generating with seed: \"e explained by you and also have a lot of fun in learning python programming language this course ju\"\n",
            "e explained by you and also have a lot of fun in learning python programming language this course just studies                                                                                                                                                                                                                                                                                                                                                                                                      \n",
            "----- diversity: 0.5\n",
            "----- Generating with seed: \"e explained by you and also have a lot of fun in learning python programming language this course ju\"\n",
            "e explained by you and also have a lot of fun in learning python programming language this course just makes you think and          i had a pash of the course is from data schades to complete the course in programming  it was a very good programming concepts with python   can get started with python  and the professor severance mode of computer science    this course is excellent    i have previously instructor and i had a good course for beginners  i learned the most syntax     i have for a per\n",
            "----- diversity: 1.0\n",
            "----- Generating with seed: \"e explained by you and also have a lot of fun in learning python programming language this course ju\"\n",
            "e explained by you and also have a lot of fun in learning python programming language this course just still to this fun and full learning this course is so grateful to python learning problem it s qoith aid easy that i really taught in tutor kinds he asdigeptc learned through this course   so i can t     if you really educimed with python and very engaging a pain thoughsticks but exampzn tried  the possible  easy toxclaiss my examples or experience in my universe programming languages  without \n",
            "----- diversity: 1.2\n",
            "----- Generating with seed: \"e explained by you and also have a lot of fun in learning python programming language this course ju\"\n",
            "e explained by you and also have a lot of fun in learning python programming language this course just coffost and also chuck for noning you get even thoooing of course was pyth on my own clear way online teaching adviek   tests in a someogh from asaly thorough intoof chuck are looking your do too explain againg and friendly continux to progress though it i deendet vory undataglorn so i had that anyway so daramore  your instructor is very probided  i would slinks for beginners dicon rethed this \n",
            "\n",
            "Epoch 00042: loss improved from 0.84380 to 0.84074, saving model to /content/gdrive/My Drive/Capstone/Data/\n",
            "Epoch 43/100\n",
            "2362/2362 [==============================] - 27s 11ms/step - loss: 0.8306 - accuracy: 0.7467 - val_loss: 1.0257 - val_accuracy: 0.7055\n",
            "\n",
            "----- Generating text after Epoch: 42\n",
            "----- diversity: 0.2\n",
            "----- Generating with seed: \" in the work he does  you can easily understand his teachings  i m so excited to continue the rest o\"\n",
            " in the work he does  you can easily understand his teachings  i m so excited to continue the rest of the course  i have to the professor is a very good course for beginner to allowle more about programming                                                                                                                                                                                                                                                                                                      \n",
            "----- diversity: 0.5\n",
            "----- Generating with seed: \" in the work he does  you can easily understand his teachings  i m so excited to continue the rest o\"\n",
            " in the work he does  you can easily understand his teachings  i m so excited to continue the rest of the teaching style interested in a way that are really good  i am a student help me in the fundamental difference i can to anyone who wants to start to the course  thank you dr  chuck  the course is a great teacher  he is fell sen basics of python to de concepts in one specialization    i have a lot  i would love to that you are a great course         professor is well so in engaged  this was my\n",
            "----- diversity: 1.0\n",
            "----- Generating with seed: \" in the work he does  you can easily understand his teachings  i m so excited to continue the rest o\"\n",
            " in the work he does  you can easily understand his teachings  i m so excited to continue the rest of the most for anyone that arwent to excellent  i free  so i recommend to thank unifully the free trok for this specializations  all a course  diduster  he is felk although i would like to thand the resources to how poople  not one and we would have been ped onlinut and the sentime and show simimails of from the rearch with he has practise and easy to use in his teaching more examples explained  w\n",
            "----- diversity: 1.2\n",
            "----- Generating with seed: \" in the work he does  you can easily understand his teachings  i m so excited to continue the rest o\"\n",
            " in the work he does  you can easily understand his teachings  i m so excited to continue the rest of the pruzed lugit python they has areage to programming for inareginers and   fon stith sir   i llard to do like programming      i really enjoyed this course to informumed to do wait to be held force  professional to pack explanations about programming that chances of python  logics of building a new course simple pour assignments  if works   learned student  but charles severance however a ques\n",
            "\n",
            "Epoch 00043: loss improved from 0.84074 to 0.83762, saving model to /content/gdrive/My Drive/Capstone/Data/\n",
            "Epoch 44/100\n",
            "2362/2362 [==============================] - 27s 11ms/step - loss: 0.8256 - accuracy: 0.7465 - val_loss: 1.0289 - val_accuracy: 0.7024\n",
            "\n",
            "----- Generating text after Epoch: 43\n",
            "----- diversity: 0.2\n",
            "----- Generating with seed: \" the lessons on coursera of professor charles are really helpful  which arise my interest in python \"\n",
            " the lessons on coursera of professor charles are really helpful  which arise my interest in python  it is a great course for the course     i am so far  i am a really beginner  i was a great course to start with python    i was a great teacher                                                                                                                                                                                                                                                                \n",
            "----- diversity: 0.5\n",
            "----- Generating with seed: \" the lessons on coursera of professor charles are really helpful  which arise my interest in python \"\n",
            " the lessons on coursera of professor charles are really helpful  which arise my interest in python           i was a manner then this course  the way he material is entertaining  this course is a very good for the code    it is a very good course for the course  i would like to learn more about it  it is definitely recommend this course for beginners to the course  the instructor dr  chuck is an excellent to complete the course  i have ever meen the course    i will recommend this course to all\n",
            "----- diversity: 1.0\n",
            "----- Generating with seed: \" the lessons on coursera of professor charles are really helpful  which arise my interest in python \"\n",
            " the lessons on coursera of professor charles are really helpful  which arise my interest in python  you have a lucking    understandable manner such as the vedy  learning didecally if interactive way of teaching  the napely      great course to tell  last  made manalstyous and pyshon time  the bonus video  thank you  it s also world on programming lelbing of now teach the might help me up the syeneciesing as were benied in and helpful    prof  clear end    i it   so do coding and much attending\n",
            "----- diversity: 1.2\n",
            "----- Generating with seed: \" the lessons on coursera of professor charles are really helpful  which arise my interest in python \"\n",
            " the lessons on coursera of professor charles are really helpful  which arise my interest in python by programming itsing ans a coumscials     i m very every coder to also highly coding  instructor and  i couldn t complemention  prior fun onotial was your own  and structors  thees seart charles first the computer  thankly ts way doon tides  the instructor dr  chuck is have isfem about enrouting as pewine goes i got plar times material taught to it sover it without advanuding python courses are v\n",
            "\n",
            "Epoch 00044: loss improved from 0.83762 to 0.83610, saving model to /content/gdrive/My Drive/Capstone/Data/\n",
            "Epoch 45/100\n",
            "2362/2362 [==============================] - 27s 11ms/step - loss: 0.8202 - accuracy: 0.7482 - val_loss: 1.0307 - val_accuracy: 0.7036\n",
            "\n",
            "----- Generating text after Epoch: 44\n",
            "----- diversity: 0.2\n",
            "----- Generating with seed: \"ssion to help the learner gain a solid infrastructure for more challenging topics  dr  severance is \"\n",
            "ssion to help the learner gain a solid infrastructure for more challenging topics  dr  severance is a great course  the instructor is a great course                                                                                                                                                                                                                                                                                                                                                                \n",
            "----- diversity: 0.5\n",
            "----- Generating with seed: \"ssion to help the learner gain a solid infrastructure for more challenging topics  dr  severance is \"\n",
            "ssion to help the learner gain a solid infrastructure for more challenging topics  dr  severance is an amazing course            i have a lot of experience of programming         the end of explaining python    i have a good course for beginners  i learned coursera for providing the course  i am a beginner  i am a great course for those who are helpful  the instructor is great  thank you dr  chuck and where the course  is very friendly  and i am really great  i love this course  the professor an\n",
            "----- diversity: 1.0\n",
            "----- Generating with seed: \"ssion to help the learner gain a solid infrastructure for more challenging topics  dr  severance is \"\n",
            "ssion to help the learner gain a solid infrastructure for more challenging topics  dr  severance is very best to teach the prof  s extennes to understand  very well  if you have an i amazing professors       this course  overall i have a wonderful course  the stergse and make register explanation in my leaging this course was vir patice  i was awesome  wotle a sly realmented in doing the course are scort   because introduces of me     university of michigan  as when you are learning of lectures \n",
            "----- diversity: 1.2\n",
            "----- Generating with seed: \"ssion to help the learner gain a solid infrastructure for more challenging topics  dr  severance is \"\n",
            "ssion to help the learner gain a solid infrastructure for more challenging topics  dr  severance is extreme  the lessons are nicely the forg with  i liked these glas  i get a teacherming to learn all the amazing scroper so i daduia to example for nfowilial in to luat edate getting any other they are liken a good job   greseful and wew to the captions the  understand  made the most of the videos and x this course will staftex and i wish so important motly at this course thank you allo gay how and\n",
            "\n",
            "Epoch 00045: loss improved from 0.83610 to 0.83320, saving model to /content/gdrive/My Drive/Capstone/Data/\n",
            "Epoch 46/100\n",
            "2362/2362 [==============================] - 27s 11ms/step - loss: 0.8261 - accuracy: 0.7471 - val_loss: 1.0313 - val_accuracy: 0.7043\n",
            "\n",
            "----- Generating text after Epoch: 45\n",
            "----- diversity: 0.2\n",
            "----- Generating with seed: \"t enrolling  but dr  chuck inspired me a great deal since the beginning  and his teaching method is \"\n",
            "t enrolling  but dr  chuck inspired me a great deal since the beginning  and his teaching method is very well  the instructor is a great teacher  the instructor is excellent                                                                                                                                                                                                                                                                                                                                       \n",
            "----- diversity: 0.5\n",
            "----- Generating with seed: \"t enrolling  but dr  chuck inspired me a great deal since the beginning  and his teaching method is \"\n",
            "t enrolling  but dr  chuck inspired me a great deal since the beginning  and his teaching method is won t get me a lot to be an excellent course  the instructor is also easy to understand        i have previously recommend this learning problems about programming   thanks to coursera        i was able to understand  the way he teaches is too easy to understand  i would recommend this course for anyone that i m really all the assignment is the best course  the teacher is a perfect and i would don\n",
            "----- diversity: 1.0\n",
            "----- Generating with seed: \"t enrolling  but dr  chuck inspired me a great deal since the beginning  and his teaching method is \"\n",
            "t enrolling  but dr  chuck inspired me a great deal since the beginning  and his teaching method is the very material defination of the day us well i can plan quickly is very in python  it is you have are you louga atom about python used for learning put in a log the care for speoply course   he is easy to understand stapped the assignments is very diduges to learn ago  koow with by knows the wait to   can wott to teach into material is hughl   do this course  i will know how to do the pace  and\n",
            "----- diversity: 1.2\n",
            "----- Generating with seed: \"t enrolling  but dr  chuck inspired me a great deal since the beginning  and his teaching method is \"\n",
            "t enrolling  but dr  chuck inspired me a great deal since the beginning  and his teaching method is very easy wittout atis and detailed noted down proced thing his knowledge   after try to behnore without about programming of programming language questions been worked and i you ghe i can neep my very one  programming  like a luited field out sention jor fmee by the provires easy  this specially dr chuck s its use python  i fighting every coding the code  s conded as well as a  my acquainter  mak\n",
            "\n",
            "Epoch 00046: loss improved from 0.83320 to 0.83156, saving model to /content/gdrive/My Drive/Capstone/Data/\n",
            "Epoch 47/100\n",
            "2362/2362 [==============================] - 27s 11ms/step - loss: 0.8179 - accuracy: 0.7501 - val_loss: 1.0326 - val_accuracy: 0.7029\n",
            "\n",
            "----- Generating text after Epoch: 46\n",
            "----- diversity: 0.2\n",
            "----- Generating with seed: \"ourse and i recommend to get start with this course for everybody wanna to get basic knowledge not o\"\n",
            "ourse and i recommend to get start with this course for everybody wanna to get basic knowledge not one of the best course  the instructor is easy to understand  the course is excellent  the course is very good and interesting  i would recommend this course to enroll it to start                                                                                                                                                                                                                              \n",
            "----- diversity: 0.5\n",
            "----- Generating with seed: \"ourse and i recommend to get start with this course for everybody wanna to get basic knowledge not o\"\n",
            "ourse and i recommend to get start with this course for everybody wanna to get basic knowledge not one of the code from the subject and presentation  it is a great teacher  the course work  i would recommend this course  i have never interested in computer science  the book is a great course for beginners    how to start    this course was very sume but i would still a lot     i m and also in a start  thanks to coursera for the course with the content is well structured and the other programming\n",
            "----- diversity: 1.0\n",
            "----- Generating with seed: \"ourse and i recommend to get start with this course for everybody wanna to get basic knowledge not o\"\n",
            "ourse and i recommend to get start with this course for everybody wanna to get basic knowledge not of erer for all the cor  i have ever  med in the course i was also had the concepts  and moce i recommend two performal of the lectures quizzes and passtic  because of programming  it makes it easy and especially in python for everybody    i could having level  i was able to follow to programming language  cool in an easy to learn python i would suggest it very knows with lots of easy logicalars   \n",
            "----- diversity: 1.2\n",
            "----- Generating with seed: \"ourse and i recommend to get start with this course for everybody wanna to get basic knowledge not o\"\n",
            "ourse and i recommend to get start with this course for everybody wanna to get basic knowledge not of kinds to xecourso ans piehing those wro dy scropleavives without more desoures  will continux typing brokend fow how he was makes our learning courses  to remints interesting and knowledge for the exercises are very confodunle  the week  this course easigned to keter also as areant slad be able to learn banilede of some tole beginning how of the atmending a codes in the specialization was belien\n",
            "\n",
            "Epoch 00047: loss improved from 0.83156 to 0.82928, saving model to /content/gdrive/My Drive/Capstone/Data/\n",
            "Epoch 48/100\n",
            "2362/2362 [==============================] - 27s 11ms/step - loss: 0.8170 - accuracy: 0.7494 - val_loss: 1.0331 - val_accuracy: 0.7036\n",
            "\n",
            "----- Generating text after Epoch: 47\n",
            "----- diversity: 0.2\n",
            "----- Generating with seed: \"some  i highly recommend this course    basically i used to hate programming  because i didn t get a\"\n",
            "some  i highly recommend this course    basically i used to hate programming  because i didn t get absolute beginner    i have a lot of experience with python  this is a great course  i have a lot of experience with python  the course is a great course  i have a lot of explaining the concepts and the best course  i have ever seen and the basics of python                                                                                                                                                \n",
            "----- diversity: 0.5\n",
            "----- Generating with seed: \"some  i highly recommend this course    basically i used to hate programming  because i didn t get a\"\n",
            "some  i highly recommend this course    basically i used to hate programming  because i didn t get and i was an excellent  and i was a student in a very beginner  i have a lot and i had a great student and the best course the course is helpful and helpful for beginners  i think it explains everyboded to start with the specialization    i would aignes the best programming language  and the next course    if you are a great course  the assignments from the presentation is really non   i got most s\n",
            "----- diversity: 1.0\n",
            "----- Generating with seed: \"some  i highly recommend this course    basically i used to hate programming  because i didn t get a\"\n",
            "some  i highly recommend this course    basically i used to hate programming  because i didn t get about hours c stull knuch about python  we are learned id to an easy to surol if me which i can instided to python and  i am a brillialtant carrouble bythoo information like videos were with a try to start python  he is understand manal me user is very myself at explains really helpful for beginners from many graded ool therrously iffectaining and put thanks dr chuck for something a butter to do an\n",
            "----- diversity: 1.2\n",
            "----- Generating with seed: \"some  i highly recommend this course    basically i used to hate programming  because i didn t get a\"\n",
            "some  i highly recommend this course    basically i used to hate programming  because i didn t get and study so book through with contani assional for beginners   using it and interactive  then background feel prat showe i have learned it without any python should be uses to be goinal knowledge from online who woide would have alrearny  i liked sometimely experienced programs i learling helpful with the first lestsed of journer  but noties which and  but it is also it was the bas course is very \n",
            "\n",
            "Epoch 00048: loss improved from 0.82928 to 0.82703, saving model to /content/gdrive/My Drive/Capstone/Data/\n",
            "Epoch 49/100\n",
            "2362/2362 [==============================] - 27s 11ms/step - loss: 0.8155 - accuracy: 0.7504 - val_loss: 1.0355 - val_accuracy: 0.7038\n",
            "\n",
            "----- Generating text after Epoch: 48\n",
            "----- diversity: 0.2\n",
            "----- Generating with seed: \"i went to the forum and received prompt feedback on my efforts   again  the human support aspect of \"\n",
            "i went to the forum and received prompt feedback on my efforts   again  the human support aspect of python                                                                                                                                                                                                                                                                                                                                                                                                          \n",
            "----- diversity: 0.5\n",
            "----- Generating with seed: \"i went to the forum and received prompt feedback on my efforts   again  the human support aspect of \"\n",
            "i went to the forum and received prompt feedback on my efforts   again  the human support aspect of programming    i am general dr chuck s class                                                                                                                                                                                                                                                                                                                                                                    \n",
            "----- diversity: 1.0\n",
            "----- Generating with seed: \"i went to the forum and received prompt feedback on my efforts   again  the human support aspect of \"\n",
            "i went to the forum and received prompt feedback on my efforts   again  the human support aspect of python  sometimes with navise  so many insormation jubs learning to my   i started this amazing course thankso     every soment in python agaid  i over think student at a good and coding programmers  and aptho or understandamentation in i love this course has done even the nicely courses is tole to learn fr  making you are vers inimils material   word not packs coull be dole to to this course     \n",
            "----- diversity: 1.2\n",
            "----- Generating with seed: \"i went to the forum and received prompt feedback on my efforts   again  the human support aspect of \"\n",
            "i went to the forum and received prompt feedback on my efforts   again  the human support aspect of lecturers of videos of university out different like taking lay bistous to those who are some pricting or small staft  sinchould before this course precise and i had i sleed to give a lucking  python classes if a way that i m very mech joy to goo manants   coursera teachers so much noo made every concept bised on computers wait to complete i could take the furcher of the basics of python comes a  \n",
            "\n",
            "Epoch 00049: loss improved from 0.82703 to 0.82546, saving model to /content/gdrive/My Drive/Capstone/Data/\n",
            "Epoch 50/100\n",
            "2362/2362 [==============================] - 27s 12ms/step - loss: 0.8150 - accuracy: 0.7492 - val_loss: 1.0377 - val_accuracy: 0.7021\n",
            "\n",
            "----- Generating text after Epoch: 49\n",
            "----- diversity: 0.2\n",
            "----- Generating with seed: \"i learn so many things and thanks to the dr  chunk this is very understandable by every one without \"\n",
            "i learn so many things and thanks to the dr  chunk this is very understandable by every one without any coding  i have a lot of experience with programming  i am so far  i am going to have a bad uning to learn python                                                                                                                                                                                                                                                                                            \n",
            "----- diversity: 0.5\n",
            "----- Generating with seed: \"i learn so many things and thanks to the dr  chunk this is very understandable by every one without \"\n",
            "i learn so many things and thanks to the dr  chunk this is very understandable by every one without any different language not through this course was a very comfortable to start learning python  i d really like the course      this course is a lot of experience  the explanation in programming  i have a lot of experience surt things and i was a programming language  he is designed and i think it is a great course to start learning python  i am a student   i highly recommend this course to anyone\n",
            "----- diversity: 1.0\n",
            "----- Generating with seed: \"i learn so many things and thanks to the dr  chunk this is very understandable by every one without \"\n",
            "i learn so many things and thanks to the dr  chunk this is very understandable by every one without humor for beginning to be challedgaterutes that py explanation and command with flom to be consire entory on python   even with the a fun and wrice this made really really has looking for a non people  i love the scratch  very engaging you digest by to understand  he is jus friend by enough more as far  i have a nabts a lot of online course this perfect fadiliar stay to the beginning and will sevi\n",
            "----- diversity: 1.2\n",
            "----- Generating with seed: \"i learn so many things and thanks to the dr  chunk this is very understandable by every one without \"\n",
            "i learn so many things and thanks to the dr  chunk this is very understandable by every one without made me this course teaches notiging testional sessiol and  thank you  however  professor severance  provideds deflece inttufies with dr  chuck in vory as a familiare this course presents  yey   explaininge as wourd courses for a way that in c d wo teliny its us prior to programmer  course c mock out anawice  is going to take he make it answerse so mates succersiss of python python of programming \n",
            "\n",
            "Epoch 00050: loss improved from 0.82546 to 0.82316, saving model to /content/gdrive/My Drive/Capstone/Data/\n",
            "Epoch 51/100\n",
            "2362/2362 [==============================] - 27s 12ms/step - loss: 0.8104 - accuracy: 0.7506 - val_loss: 1.0379 - val_accuracy: 0.7025\n",
            "\n",
            "----- Generating text after Epoch: 50\n",
            "----- diversity: 0.2\n",
            "----- Generating with seed: \"his course i can say that python is way better easy than any other language      one of the best cou\"\n",
            "his course i can say that python is way better easy than any other language      one of the best course    i am a bit of programming  it is a great teacher                                                                                                                                                                                                                                                                                                                                                         \n",
            "----- diversity: 0.5\n",
            "----- Generating with seed: \"his course i can say that python is way better easy than any other language      one of the best cou\"\n",
            "his course i can say that python is way better easy than any other language      one of the best course             this is a great teacher  the instructor is a good course for those who have not have a bit of coding  i loved the programming language and the lectures are a very easy to intervesting is a good job  i am some basics  for someone who is looking for a great place to start programming     the course is a perf clean i started this course and i will learn  he is just the programming in \n",
            "----- diversity: 1.0\n",
            "----- Generating with seed: \"his course i can say that python is way better easy than any other language      one of the best cou\"\n",
            "his course i can say that python is way better easy than any other language      one of the best course for beginners   i would love to the course    i have learnat home tech    univers to excellent journey some as made  like i m enoble to study those beginners   i m so fundamentals   this course is a very good more successful  i encoll wishen of time and grint  thanks dr  chuck to if very well and any help you to fix python  i am good to me  by the instructor is great and the semmentious backgo\n",
            "----- diversity: 1.2\n",
            "----- Generating with seed: \"his course i can say that python is way better easy than any other language      one of the best cou\"\n",
            "his course i can say that python is way better easy than any other language      one of the best course recolded for s one findill in very specialting the rugh op if it  diffirint  i used to going computer information chast rather this i quizk for mentivared   in the a python is gottor tou start for something resogmening lase that boingly que parts   thinking whateverseveraing educatious smile     this is the python  the classes   go through i have just working but base out abotional examples ar\n",
            "\n",
            "Epoch 00051: loss improved from 0.82316 to 0.82149, saving model to /content/gdrive/My Drive/Capstone/Data/\n",
            "Epoch 52/100\n",
            "2362/2362 [==============================] - 27s 12ms/step - loss: 0.8113 - accuracy: 0.7509 - val_loss: 1.0380 - val_accuracy: 0.7033\n",
            "\n",
            "----- Generating text after Epoch: 51\n",
            "----- diversity: 0.2\n",
            "----- Generating with seed: \"llow  assignments are easy to understand and reflect the lessons very well    i loved this course   \"\n",
            "llow  assignments are easy to understand and reflect the lessons very well    i loved this course                                                                                                                                                                                                                                                                                                                                                                                                                   \n",
            "----- diversity: 0.5\n",
            "----- Generating with seed: \"llow  assignments are easy to understand and reflect the lessons very well    i loved this course   \"\n",
            "llow  assignments are easy to understand and reflect the lessons very well    i loved this course    excellent course and i wish the time to be everything with python in a fantastic  and also helped me to start with the basics of python    and students for the course  i have tried more   he is faster on python    i will start to succeffionso out to study  it was easy and fun and i will be implenes a lot      i have definitely can learn prof  charles severance he troput experience in programming \n",
            "----- diversity: 1.0\n",
            "----- Generating with seed: \"llow  assignments are easy to understand and reflect the lessons very well    i loved this course   \"\n",
            "llow  assignments are easy to understand and reflect the lessons very well    i loved this course    woulds to this teaching  which professor are assignments and have need about a suggestions  motivation relved browe dideciaece   year  also very good so thum are enjoyth other pourtoss problem for everybody  he is tran fill way to learn prayshinn  the material is eduration will laved the chapts informative and cases  it has a most beginners a goon for beginners are dr  chuck is absolutely first t\n",
            "----- diversity: 1.2\n",
            "----- Generating with seed: \"llow  assignments are easy to understand and reflect the lessons very well    i loved this course   \"\n",
            "llow  assignments are easy to understand and reflect the lessons very well    i loved this course   i highlyfrecatet how to what it was great feeding quitzes opeows the end of such as friendro class  it was a blinhsoste learning programming language basel recourder and basic python class  i you have are you major  other program in python  difficulty  charles ever   prior knowledge ar python nest just to get at allow  dr  luck do  thanks   i cau dok fout racticus python programming language  i bl\n",
            "\n",
            "Epoch 00052: loss improved from 0.82149 to 0.81959, saving model to /content/gdrive/My Drive/Capstone/Data/\n",
            "Epoch 53/100\n",
            "2362/2362 [==============================] - 27s 12ms/step - loss: 0.8093 - accuracy: 0.7510 - val_loss: 1.0437 - val_accuracy: 0.7005\n",
            "\n",
            "----- Generating text after Epoch: 52\n",
            "----- diversity: 0.2\n",
            "----- Generating with seed: \"d sides of this course  i highly recommend it for students who are looking for online python course \"\n",
            "d sides of this course  i highly recommend it for students who are looking for online python course for beginners  i would recommend this course to anyone who is a great course for beginners                                                                                                                                                                                                                                                                                                                      \n",
            "----- diversity: 0.5\n",
            "----- Generating with seed: \"d sides of this course  i highly recommend it for students who are looking for online python course \"\n",
            "d sides of this course  i highly recommend it for students who are looking for online python course for beginners  this course is very good and i was able to start with python    i was able to follow and well explained                                                                                                                                                                                                                                                                                          \n",
            "----- diversity: 1.0\n",
            "----- Generating with seed: \"d sides of this course  i highly recommend it for students who are looking for online python course \"\n",
            "d sides of this course  i highly recommend it for students who are looking for online python course for everybody what is the very basics python charles great on beginner when i would recommend by about great stocouts suggest you are great start from  i gues me confidence this are tempining in this course  i m and a lot of python programming   this is really feel give it  dr  chuck is great  you could have allode of difficulty for everyone  i did a giet to except sirze course for programming lan\n",
            "----- diversity: 1.2\n",
            "----- Generating with seed: \"d sides of this course  i highly recommend it for students who are looking for online python course \"\n",
            "d sides of this course  i highly recommend it for students who are looking for online python course for beginners  years  getting bothed all of the fills the great courtes in programming  he was inlivery by  this is but the instructor builds dr churts unialiding to reveees overware   very gon ruduse to python in termfus a peogeniest corecin to learn  your usen your catce i knew my base to bit not format to jourseem interviews in learnt doness i think developer up you skip text  instaughting to t\n",
            "\n",
            "Epoch 00053: loss improved from 0.81959 to 0.81838, saving model to /content/gdrive/My Drive/Capstone/Data/\n",
            "Epoch 54/100\n",
            "2362/2362 [==============================] - 27s 12ms/step - loss: 0.8078 - accuracy: 0.7518 - val_loss: 1.0404 - val_accuracy: 0.7022\n",
            "\n",
            "----- Generating text after Epoch: 53\n",
            "----- diversity: 0.2\n",
            "----- Generating with seed: \"ing and python  and it includes pretty practical skills that can be used on daily work or studying  \"\n",
            "ing and python  and it includes pretty practical skills that can be used on daily work or studying                                                                                                                                                                                                                                                                                                                                                                                                                  \n",
            "----- diversity: 0.5\n",
            "----- Generating with seed: \"ing and python  and it includes pretty practical skills that can be used on daily work or studying  \"\n",
            "ing and python  and it includes pretty practical skills that can be used on daily work or studying                                                                                                                                                                                                                                                                                                                                                                                                                  \n",
            "----- diversity: 1.0\n",
            "----- Generating with seed: \"ing and python  and it includes pretty practical skills that can be used on daily work or studying  \"\n",
            "ing and python  and it includes pretty practical skills that can be used on daily work or studying   with these time having by the begine the way of explainately offer a profored  and a mone given   for the chrenss are previous keptently with more thing     for those goon about python  dr chuck s were coded to do programming for ever tersive  them with much much anyone who have dr chuck  professor chuck   so the tool basics of programming  thank you dr  charles severance  the insibtimenty  thank\n",
            "----- diversity: 1.2\n",
            "----- Generating with seed: \"ing and python  and it includes pretty practical skills that can be used on daily work or studying  \"\n",
            "ing and python  and it includes pretty practical skills that can be used on daily work or studying  highly recamazed every content gaggrat course  very enourag voryably for me and makes in computer  and  i am formah and conditional capue from zeration perform at  awesome by uniteedinut learin and its very helpful   and the instructor   to  ott prectimming much very highly areatlem  charles strisk  and made you think that the tutcumout ato michigan to mrand course   looking forward to the getting\n",
            "\n",
            "Epoch 00054: loss improved from 0.81838 to 0.81664, saving model to /content/gdrive/My Drive/Capstone/Data/\n",
            "Epoch 55/100\n",
            "2362/2362 [==============================] - 27s 12ms/step - loss: 0.8054 - accuracy: 0.7523 - val_loss: 1.0429 - val_accuracy: 0.7010\n",
            "\n",
            "----- Generating text after Epoch: 54\n",
            "----- diversity: 0.2\n",
            "----- Generating with seed: \"for beginners like me in this particular language and it is also enjoyable  i was struggling to lear\"\n",
            "for beginners like me in this particular language and it is also enjoyable  i was struggling to learn python                                                                                                                                                                                                                                                                                                                                                                                                        \n",
            "----- diversity: 0.5\n",
            "----- Generating with seed: \"for beginners like me in this particular language and it is also enjoyable  i was struggling to lear\"\n",
            "for beginners like me in this particular language and it is also enjoyable  i was struggling to learn a lot to learn python          i am great teacher  the instructor is good  to start      i will sen that i m really appreciate the content  i have learned a perfect for student a fun to think about python      i am not new to programming  i would recommend this course to anyone who wants to learn a programming language with python    this course is going to expecially in enthucking looking forwa\n",
            "----- diversity: 1.0\n",
            "----- Generating with seed: \"for beginners like me in this particular language and it is also enjoyable  i was struggling to lear\"\n",
            "for beginners like me in this particular language and it is also enjoyable  i was struggling to learn now i have to tay finse met to start the leston to program  looking forward to anyone language  i m easily week is solve this jokell  coding pard of the course     wro gy for the sprourcishating the example on more by dr  chuck and user into my learning python   dr  chuck explains realoys programmer  the lecture to start varial lestary    the content is fairth to cevent  very every lecture way  \n",
            "----- diversity: 1.2\n",
            "----- Generating with seed: \"for beginners like me in this particular language and it is also enjoyable  i was struggling to lear\"\n",
            "for beginners like me in this particular language and it is also enjoyable  i was struggling to learn to learn python for everybody taught and forche coding python basics not i have presting my knowing that year with might weekngladed me to pporite basic leggincly   this was abour continue more thaticemitated more codes and the explanation is absolutely proppor through phin far dr  severance deelesest goatmoring great experience who wordh i prizzed   were a newbees about through uper the video  \n",
            "\n",
            "Epoch 00055: loss improved from 0.81664 to 0.81511, saving model to /content/gdrive/My Drive/Capstone/Data/\n",
            "Epoch 56/100\n",
            "2362/2362 [==============================] - 27s 12ms/step - loss: 0.8063 - accuracy: 0.7522 - val_loss: 1.0479 - val_accuracy: 0.7017\n",
            "\n",
            "----- Generating text after Epoch: 55\n",
            "----- diversity: 0.2\n",
            "----- Generating with seed: \"put lot of effort in teaching the course and also tried to make it fun  thumbs up to professor charl\"\n",
            "put lot of effort in teaching the course and also tried to make it fun  thumbs up to professor charles severance is a good course for beginners                                                                                                                                                                                                                                                                                                                                                                     \n",
            "----- diversity: 0.5\n",
            "----- Generating with seed: \"put lot of effort in teaching the course and also tried to make it fun  thumbs up to professor charl\"\n",
            "put lot of effort in teaching the course and also tried to make it fun  thumbs up to professor charles severance is great  this course is definitely to start to the course     i will so a waith things for this course  this is the video stuff programming is also a beginner  and i will could coursera        i have the way dr  chuck  it was a great experience  the lectures  i am some of the course  the instructor s really explained things  i have taken a familtation this course is very good  i woul\n",
            "----- diversity: 1.0\n",
            "----- Generating with seed: \"put lot of effort in teaching the course and also tried to make it fun  thumbs up to professor charl\"\n",
            "put lot of effort in teaching the course and also tried to make it fun  thumbs up to professor charles severance is inclide to the book is backgrounm   confident working in upiluted up the class   every coding this course realize you he main all the very never of the programming fun  the smacto more are very good stloons i loved it  this course prepades  the first ophost  you the world  week coursera thanks more to do the concepts in the expeciated on dr  chuck for those whe lively a course othe\n",
            "----- diversity: 1.2\n",
            "----- Generating with seed: \"put lot of effort in teaching the course and also tried to make it fun  thumbs up to professor charl\"\n",
            "put lot of effort in teaching the course and also tried to make it fun  thumbs up to professor charles severance teaching bocus slinks in the basic   learning types  even of when to learn it in oneing and really great lecturer  was assiong ater is tools for briok thosicks over that the python if onitial  deample the language to up fundamental chuck he lade t findly knows with   or smalle the forgally much as absoristedation alla neccettif extremely uighadivings back the way he perfect funcilitin\n",
            "\n",
            "Epoch 00056: loss improved from 0.81511 to 0.81410, saving model to /content/gdrive/My Drive/Capstone/Data/\n",
            "Epoch 57/100\n",
            "2362/2362 [==============================] - 28s 12ms/step - loss: 0.8056 - accuracy: 0.7534 - val_loss: 1.0450 - val_accuracy: 0.7011\n",
            "\n",
            "----- Generating text after Epoch: 56\n",
            "----- diversity: 0.2\n",
            "----- Generating with seed: \"ng experience before and this class made it easy and fun to get into  it s really an awesome course \"\n",
            "ng experience before and this class made it easy and fun to get into  it s really an awesome course                                                                                                                                                                                                                                                                                                                                                                                                                 \n",
            "----- diversity: 0.5\n",
            "----- Generating with seed: \"ng experience before and this class made it easy and fun to get into  it s really an awesome course \"\n",
            "ng experience before and this class made it easy and fun to get into  it s really an awesome course        i am going to start to the next course  i was able to wannen for the python programming language    i found it will have some programming skills  it is the best programming for everybody                                                                                                                                                                                                               \n",
            "----- diversity: 1.0\n",
            "----- Generating with seed: \"ng experience before and this class made it easy and fun to get into  it s really an awesome course \"\n",
            "ng experience before and this class made it easy and fun to get into  it s really an awesome course  the class for the beginners teacher motimes  really interesting      a very good computer  but a valuable scrome this course i think it enthutional and just knows kind  dr  charles is a very something university certificate  you clust not jost going time moverans exercises very well and woist coursera  explaining the concepts  it s now i highly recommended for ady infel if complex skills in progr\n",
            "----- diversity: 1.2\n",
            "----- Generating with seed: \"ng experience before and this class made it easy and fun to get into  it s really an awesome course \"\n",
            "ng experience before and this class made it easy and fun to get into  it s really an awesome course to all the best started outstarating beorghy into my next way the spanments of my first way  understand so theirs course   great introductory course  but interesting in myself such as dr chuck  charles stisk this course is helpful for me to be very if on the content   i wish the ratument in gress about the instructor prestick that you can understand this course has an amazing exprectaining class u\n",
            "\n",
            "Epoch 00057: loss improved from 0.81410 to 0.81225, saving model to /content/gdrive/My Drive/Capstone/Data/\n",
            "Epoch 58/100\n",
            "2362/2362 [==============================] - 28s 12ms/step - loss: 0.8002 - accuracy: 0.7538 - val_loss: 1.0434 - val_accuracy: 0.7027\n",
            "\n",
            "----- Generating text after Epoch: 57\n",
            "----- diversity: 0.2\n",
            "----- Generating with seed: \" chuck made me believe it is doable  don t get me wrong  programming takes a lot of work  but it is \"\n",
            " chuck made me believe it is doable  don t get me wrong  programming takes a lot of work  but it is the best course                                                                                                                                                                                                                                                                                                                                                                                                 \n",
            "----- diversity: 0.5\n",
            "----- Generating with seed: \" chuck made me believe it is doable  don t get me wrong  programming takes a lot of work  but it is \"\n",
            " chuck made me believe it is doable  don t get me wrong  programming takes a lot of work  but it is so easier for those who do not have my unourgate  thank you                 this is a great course  i am very helpful for any previous end  this course is very good  the way of teaching style  the instructor is a good course for beginners  the teacher is an amazing  the course is easy to understand what you don t have any programming experience  thank you very much                                 \n",
            "----- diversity: 1.0\n",
            "----- Generating with seed: \" chuck made me believe it is doable  don t get me wrong  programming takes a lot of work  but it is \"\n",
            " chuck made me believe it is doable  don t get me wrong  programming takes a lot of work  but it is very issien  like me think through stuffed so funny to use as a lot of code  lawy having to with my memory really definitely the instructor  he taked it  i am not engaging also  the professors to mave the experience for me to leadn    if he very good  craterire from beginning experience and part   hands for me the way of python material was helpful in coll of the basics of python programming for e\n",
            "----- diversity: 1.2\n",
            "----- Generating with seed: \" chuck made me believe it is doable  don t get me wrong  programming takes a lot of work  but it is \"\n",
            " chuck made me believe it is doable  don t get me wrong  programming takes a lot of work  but it is programming and just making the course     thanouter loop on its guidn life it sladged about things using to live intrivivid of the person and i was denit quickly in virdialment and for people will overat   days which i ve ever timentll experience of a coupurarion by usedinars from this course what have the prof  may building your time to deplitament   how very best is misher a programming languag\n",
            "\n",
            "Epoch 00058: loss improved from 0.81225 to 0.81032, saving model to /content/gdrive/My Drive/Capstone/Data/\n",
            "Epoch 59/100\n",
            "2362/2362 [==============================] - 28s 12ms/step - loss: 0.7976 - accuracy: 0.7553 - val_loss: 1.0460 - val_accuracy: 0.7010\n",
            "\n",
            "----- Generating text after Epoch: 58\n",
            "----- diversity: 0.2\n",
            "----- Generating with seed: \" for someone with no programming experience  could consider making a course specially for people who\"\n",
            " for someone with no programming experience  could consider making a course specially for people who want to learn python                                                                                                                                                                                                                                                                                                                                                                                           \n",
            "----- diversity: 0.5\n",
            "----- Generating with seed: \" for someone with no programming experience  could consider making a course specially for people who\"\n",
            " for someone with no programming experience  could consider making a course specially for people who want to an online coursera and the lectures were assignments were assignments like me  it is a very good their programming  the instructor is very good and got the concepts with python  i am also at now i think this course is wonderful in the students  i with this course  i was able to make it was a very good at the concepts   i learned to the way if you want to learn python from the concepts  th\n",
            "----- diversity: 1.0\n",
            "----- Generating with seed: \" for someone with no programming experience  could consider making a course specially for people who\"\n",
            " for someone with no programming experience  could consider making a course specially for people who is assion  the amazing his highly recommend all the languaje discrease and simple into it syen  programming     this course will later is helpful was good and instructor  dr charles we allomes the basics of the basics of python   shorling theirogs  and much were syspeceltits are all the lectures are secaricules i appreciate the shment after attent whew while the instructor chuck  the instructor d\n",
            "----- diversity: 1.2\n",
            "----- Generating with seed: \" for someone with no programming experience  could consider making a course specially for people who\"\n",
            " for someone with no programming experience  could consider making a course specially for people who is the best trying my uy that even too is programing loved python i am hagely don not find python if you have professor charles s did not have great very in challention python   but i recommend to know to start vireialming cormes nogid   you simple as a great course and professor did not get streak the first time loved programming after completing this   he provides programming skolle astaft not \n",
            "\n",
            "Epoch 00059: loss improved from 0.81032 to 0.80959, saving model to /content/gdrive/My Drive/Capstone/Data/\n",
            "Epoch 60/100\n",
            "2362/2362 [==============================] - 28s 12ms/step - loss: 0.7987 - accuracy: 0.7543 - val_loss: 1.0508 - val_accuracy: 0.6992\n",
            "\n",
            "----- Generating text after Epoch: 59\n",
            "----- diversity: 0.2\n",
            "----- Generating with seed: \"are an awesome teacher and inspiring figure     great course prof severence is an excellent instruct\"\n",
            "are an awesome teacher and inspiring figure     great course prof severence is an excellent instructor                                                                                                                                                                                                                                                                                                                                                                                                              \n",
            "----- diversity: 0.5\n",
            "----- Generating with seed: \"are an awesome teacher and inspiring figure     great course prof severence is an excellent instruct\"\n",
            "are an awesome teacher and inspiring figure     great course prof severence is an excellent instructor    a great introductory course for beginners  i would recommend this course for me  the teacher was the best course                this is a great teacher  he makes its and concepts in a couple of you re an excellent course      i am  also   the course is a great teacher  and the something this is the best course  and the teaching style to begin the programming languages  this course is a good \n",
            "----- diversity: 1.0\n",
            "----- Generating with seed: \"are an awesome teacher and inspiring figure     great course prof severence is an excellent instruct\"\n",
            "are an awesome teacher and inspiring figure     great course prof severence is an excellent instructor      this course is not besibinkful of the beginning i found the with my first programming languages  good sentral star tech  is great assignmently teacher he has want you got   hours a way this is excellent   allowed for neat i can the material material how to advance explanations  it used  thanks the unique borks cracconder used to degat the contides when i a familiar with fun looking de i go\n",
            "----- diversity: 1.2\n",
            "----- Generating with seed: \"are an awesome teacher and inspiring figure     great course prof severence is an excellent instruct\"\n",
            "are an awesome teacher and inspiring figure     great course prof severence is an excellent instructor  which was beginning borruss keeped infortately helping you so charler cure time    awall amazing videos hesing  be although i took enter the lectures are very brougl javged learning myself will be easy and be more first tim one of those again if you world as a programing even book  who lever  he makes he cominetillant at lecturer all the exception      just steaded earred to learn py edus for \n",
            "\n",
            "Epoch 00060: loss improved from 0.80959 to 0.80783, saving model to /content/gdrive/My Drive/Capstone/Data/\n",
            "Epoch 61/100\n",
            "2362/2362 [==============================] - 28s 12ms/step - loss: 0.7958 - accuracy: 0.7547 - val_loss: 1.0498 - val_accuracy: 0.7021\n",
            "\n",
            "----- Generating text after Epoch: 60\n",
            "----- diversity: 0.2\n",
            "----- Generating with seed: \"opportunity for everyone to spend some time with this course  as you can learn the basics about pyth\"\n",
            "opportunity for everyone to spend some time with this course  as you can learn the basics about python                                                                                                                                                                                                                                                                                                                                                                                                              \n",
            "----- diversity: 0.5\n",
            "----- Generating with seed: \"opportunity for everyone to spend some time with this course  as you can learn the basics about pyth\"\n",
            "opportunity for everyone to spend some time with this course  as you can learn the basics about python is absolutely good  this course was clear to learn python                                                                                                                                                                                                                                                                                                                                                    \n",
            "----- diversity: 1.0\n",
            "----- Generating with seed: \"opportunity for everyone to spend some time with this course  as you can learn the basics about pyth\"\n",
            "opportunity for everyone to spend some time with this course  as you can learn the basics about python and explainited for this to also autable    programming to understand  didust of programming and usien i already then that informative  one applied to provide is profession especiatice to learn more and easy with with me a knew but the lecture view of experience with this course      i am very interesting     but near courses  i recommend it was extremely   i would like to do it  this is very h\n",
            "----- diversity: 1.2\n",
            "----- Generating with seed: \"opportunity for everyone to spend some time with this course  as you can learn the basics about pyth\"\n",
            "opportunity for everyone to spend some time with this course  as you can learn the basics about python  course  courses  he is very explained anyone is python for alyon for ererciaie i will underate to concepta exceptional course tutors   i also liked the way he introduces who would allard people who know obort  with some practite or completely feeling and for me to learn humor coding   he uide it is much minily our overall  i think stunkfud to its      roudn loves a little also good or follow w\n",
            "\n",
            "Epoch 00061: loss improved from 0.80783 to 0.80636, saving model to /content/gdrive/My Drive/Capstone/Data/\n",
            "Epoch 62/100\n",
            "2362/2362 [==============================] - 28s 12ms/step - loss: 0.7914 - accuracy: 0.7555 - val_loss: 1.0539 - val_accuracy: 0.7007\n",
            "\n",
            "----- Generating text after Epoch: 61\n",
            "----- diversity: 0.2\n",
            "----- Generating with seed: \"he other courses match the carefully aligned content of this course which gets the job done without \"\n",
            "he other courses match the carefully aligned content of this course which gets the job done without some basic stuffs and also programmer  i have a lot of experience with python  he is a good course  i have ever learned a lot of experience with python                                                                                                                                                                                                                                                         \n",
            "----- diversity: 0.5\n",
            "----- Generating with seed: \"he other courses match the carefully aligned content of this course which gets the job done without \"\n",
            "he other courses match the carefully aligned content of this course which gets the job done without any knowledge in programming  i loved the way he teaches and the course is a very good course for beginners to the course  i think the day to first and i have so importantly in a spenifuty  this course is a very clear and are to be able to code    the course is a very good course for beginners  the teacher is a really good  because it was a thanks for the classre offered the real werk for every go\n",
            "----- diversity: 1.0\n",
            "----- Generating with seed: \"he other courses match the carefully aligned content of this course which gets the job done without \"\n",
            "he other courses match the carefully aligned content of this course which gets the job done without the real seastrows many topis most helped me awesome of person with python as fact   this course is just start more easier to learn python   the     just learn more about pythen and getting started after students and you don t felt being interesting with leatces of your first very from the sofeware has no experience examples not have a bit a    thank you   i recommended to anyone who is strong for\n",
            "----- diversity: 1.2\n",
            "----- Generating with seed: \"he other courses match the carefully aligned content of this course which gets the job done without \"\n",
            "he other courses match the carefully aligned content of this course which gets the job done without any hourndy and toputies  because peosly explainze the instructor you cannot beended nuterers  tows alabasissically background on desige in a sith breakes apply the course    friendly to ave it has a recoided for beginners  it also behind the course incredible in   pythonity  now i amazing knowledge working  and try to learn  quick in understand where to instatet sy taste in   i had everreate who \n",
            "\n",
            "Epoch 00062: loss improved from 0.80636 to 0.80560, saving model to /content/gdrive/My Drive/Capstone/Data/\n",
            "Epoch 63/100\n",
            "2362/2362 [==============================] - 28s 12ms/step - loss: 0.7972 - accuracy: 0.7535 - val_loss: 1.0518 - val_accuracy: 0.7004\n",
            "\n",
            "----- Generating text after Epoch: 62\n",
            "----- diversity: 0.2\n",
            "----- Generating with seed: \"it can help us understand how to right a good code rest everything is just great   this is the best \"\n",
            "it can help us understand how to right a good code rest everything is just great   this is the best is a great job of the programming language  i have ever same time and i would recommend this course to anyone who is that i find at the concepts  and i would don t have a little concepts and the course is very good  i would recommend this course to anyone who is try and i have the materials  i would recommend this course to anyone who is teaching instructive course                                 \n",
            "----- diversity: 0.5\n",
            "----- Generating with seed: \"it can help us understand how to right a good code rest everything is just great   this is the best \"\n",
            "it can help us understand how to right a good code rest everything is just great   this is the best language  i was able to follow  i was able to learn and i would don t have any have a rethul in the field    this course is a great course  the assignments are already know anything about python  it is a great course for beginners  i would recommend it to get starting about python and programming    i am not someone to really great to get into python  the professor is a very good course    i was a\n",
            "----- diversity: 1.0\n",
            "----- Generating with seed: \"it can help us understand how to right a good code rest everything is just great   this is the best \"\n",
            "it can help us understand how to right a good code rest everything is just great   this is the best if you re for beginners and this was yout programming experience briel dog how steed through the onets virial and funny for learning programming  but not  i did this method to practica  i wried to take this course  the instructor hus very high  thank you all anyway  friendly  very very welct  while again and empost of programming was an easy to computer progremse      i would recommend this course\n",
            "----- diversity: 1.2\n",
            "----- Generating with seed: \"it can help us understand how to right a good code rest everything is just great   this is the best \"\n",
            "it can help us understand how to right a good code rest everything is just great   this is the best pood even in weeks and much at not coursera as for behng not introduously of the bonux muchse wanred and the coding and i have to which and but in care craing tool severance my newtronars  you chunk data sure that it was a minim  data and accersents tool for textioning especially useful perfond fom a from   for the playbox  the information wishis for iweviving this course and fauring where though \n",
            "\n",
            "Epoch 00063: loss improved from 0.80560 to 0.80472, saving model to /content/gdrive/My Drive/Capstone/Data/\n",
            "Epoch 64/100\n",
            "2362/2362 [==============================] - 28s 12ms/step - loss: 0.7889 - accuracy: 0.7573 - val_loss: 1.0592 - val_accuracy: 0.6997\n",
            "\n",
            "----- Generating text after Epoch: 63\n",
            "----- diversity: 0.2\n",
            "----- Generating with seed: \" think sir charles is best in doing that and hes my favourite lecturer now  if the courses are this \"\n",
            " think sir charles is best in doing that and hes my favourite lecturer now  if the courses are this course is very good  i will learn the basics of python                                                                                                                                                                                                                                                                                                                                                          \n",
            "----- diversity: 0.5\n",
            "----- Generating with seed: \" think sir charles is best in doing that and hes my favourite lecturer now  if the courses are this \"\n",
            " think sir charles is best in doing that and hes my favourite lecturer now  if the courses are this    i had a basic who want to start to programming in general  the way he teaches is great for someone who has not things organized engaging who wants to start out of the best introduction to python                     i m not solve  i always too easy to understand  i will recolleging and the assignments are topil start to the point and for someone who has not to get into python                i m \n",
            "----- diversity: 1.0\n",
            "----- Generating with seed: \" think sir charles is best in doing that and hes my favourite lecturer now  if the courses are this \"\n",
            " think sir charles is best in doing that and hes my favourite lecturer now  if the courses are this course is an all  more about the best part of the python was tutor flun into potter from zeinly good  to tope if you love the enstouttion   one neaca videos i was dole to the course  that its reading the lecture such task to having the auttractional just learn it  you could i ve taking the professor  but it was a minutes to special thanks to coursera  this is the course but and simple  this is def\n",
            "----- diversity: 1.2\n",
            "----- Generating with seed: \" think sir charles is best in doing that and hes my favourite lecturer now  if the courses are this \"\n",
            " think sir charles is best in doing that and hes my favourite lecturer now  if the courses are this   i mint  moreovery  learned the matberal content  this is a great instruction  days which are ininlewart s indifical descraded way to know him ereroncing in whice the knowledgamez  thanks a lot i expect journgey i have already have by necossice with python   gives every highpy for learn how to be time with coding and enjoyable and learning timethine teaches most werk are well  and write proggraci\n",
            "\n",
            "Epoch 00064: loss improved from 0.80472 to 0.80316, saving model to /content/gdrive/My Drive/Capstone/Data/\n",
            "Epoch 65/100\n",
            "2362/2362 [==============================] - 28s 12ms/step - loss: 0.7907 - accuracy: 0.7573 - val_loss: 1.0595 - val_accuracy: 0.6991\n",
            "\n",
            "----- Generating text after Epoch: 64\n",
            "----- diversity: 0.2\n",
            "----- Generating with seed: \"e  but i was surprised how smoothly i am able to understand the concepts taught by him  i refer to t\"\n",
            "e  but i was surprised how smoothly i am able to understand the concepts taught by him  i refer to take studying                                                                                                                                                                                                                                                                                                                                                                                                    \n",
            "----- diversity: 0.5\n",
            "----- Generating with seed: \"e  but i was surprised how smoothly i am able to understand the concepts taught by him  i refer to t\"\n",
            "e  but i was surprised how smoothly i am able to understand the concepts taught by him  i refer to take studying from the pack  even though this course is very good  the course is a great course to learn python        i am so that i could finish this course   this course is very engaging  it has been i will love to suggester int loging and interesting  it is a very programming language  this course is a great course  the instructor is a very good to go through the course and the experience i had\n",
            "----- diversity: 1.0\n",
            "----- Generating with seed: \"e  but i was surprised how smoothly i am able to understand the concepts taught by him  i refer to t\"\n",
            "e  but i was surprised how smoothly i am able to understand the concepts taught by him  i refer to the agon taking the learning and also used in computer science becomes very clean very up lectures are mistace outproan it also on python instructors application is very assignments i just be help my fancible enjoyable  easy to follow  how work  the course in genitill very disup my one am ans quaring  orce put up for the give rognuter in python designing to really back for telt and part of the way \n",
            "----- diversity: 1.2\n",
            "----- Generating with seed: \"e  but i was surprised how smoothly i am able to understand the concepts taught by him  i refer to t\"\n",
            "e  but i was surprised how smoothly i am able to understand the concepts taught by him  i refer to take it the experience with new lectr  though the course with this online course i started to get at all for any professor  this coorscssir see exceptiol simplation of me to know the view of you agogit very clear  they begin i gets gead take courses absolutely preakedtal choose jow  but and make it  midified expost with python language     thanks about duict and gived it has some accosk  i en the v\n",
            "\n",
            "Epoch 00065: loss improved from 0.80316 to 0.80213, saving model to /content/gdrive/My Drive/Capstone/Data/\n",
            "Epoch 66/100\n",
            "2362/2362 [==============================] - 28s 12ms/step - loss: 0.7883 - accuracy: 0.7586 - val_loss: 1.0552 - val_accuracy: 0.6997\n",
            "\n",
            "----- Generating text after Epoch: 65\n",
            "----- diversity: 0.2\n",
            "----- Generating with seed: \"tro to python  most labs are short length coding assignments        lines max   the basics are cover\"\n",
            "tro to python  most labs are short length coding assignments        lines max   the basics are covers the course                                                                                                                                                                                                                                                                                                                                                                                                    \n",
            "----- diversity: 0.5\n",
            "----- Generating with seed: \"tro to python  most labs are short length coding assignments        lines max   the basics are cover\"\n",
            "tro to python  most labs are short length coding assignments        lines max   the basics are covers it   i would also like to thanks to this course      this is one of us with a great programmed but he explains there is professional and i was able to week    i would don t think about the first online course for beginners                                                                                                                                                                                \n",
            "----- diversity: 1.0\n",
            "----- Generating with seed: \"tro to python  most labs are short length coding assignments        lines max   the basics are cover\"\n",
            "tro to python  most labs are short length coding assignments        lines max   the basics are covered  the material was smopting my first course if it is such amazing   dr  chuck is help you to me    i believe his was great way all muming to learn more interested in programming and interabting for python big desa out or comfor a program so that we know his pleabee for everybody was  my twanfs to learn a suggestand in my reflouse me  problems   highly recommendation course and fun to carren the \n",
            "----- diversity: 1.2\n",
            "----- Generating with seed: \"tro to python  most labs are short length coding assignments        lines max   the basics are cover\"\n",
            "tro to python  most labs are short length coding assignments        lines max   the basics are cover in the enpo pard of muchigaterful  thanks to charles  requires video  and i was benod the series  ins entortar fayl python programming and concisent previous knowledge inviss of programming language courses    i m antioured enroll to got a pleased jound  learning now i sincesigned  it was dr  chuck has a prananuely amounderess of tothisal from thrips sirpsial and help to need good  if you wann t \n",
            "\n",
            "Epoch 00066: loss improved from 0.80213 to 0.80083, saving model to /content/gdrive/My Drive/Capstone/Data/\n",
            "Epoch 67/100\n",
            "2362/2362 [==============================] - 28s 12ms/step - loss: 0.7892 - accuracy: 0.7578 - val_loss: 1.0586 - val_accuracy: 0.6998\n",
            "\n",
            "----- Generating text after Epoch: 66\n",
            "----- diversity: 0.2\n",
            "----- Generating with seed: \"y first time on python and i was scared to not be able to understand how a programming language work\"\n",
            "y first time on python and i was scared to not be able to understand how a programming language works  the course is a good for the course                                                                                                                                                                                                                                                                                                                                                                          \n",
            "----- diversity: 0.5\n",
            "----- Generating with seed: \"y first time on python and i was scared to not be able to understand how a programming language work\"\n",
            "y first time on python and i was scared to not be able to understand how a programming language works  he is need to python  thanks to coursera for providing the course interesting   thank you           i love the course  thank you for giving me this course was really absolutely never some of the concepts and also provide it easy and gradent lecturming related to the course interested in learning python  the end of each students  it is a good professor  i am also able to the next course i was ab\n",
            "----- diversity: 1.0\n",
            "----- Generating with seed: \"y first time on python and i was scared to not be able to understand how a programming language work\"\n",
            "y first time on python and i was scared to not be able to understand how a programming language work  fatilications the textind much easier thoutaris  of this course was very helpful  is really  with by taking and understand at the end and i can apant wait to parnice and visia onling methom  i can to be after about programming and think yut   the course isserinted in my ofind he cover this teaching assipe for you and you will make it  dr  charles weet to solve it not to rithing  accented working\n",
            "----- diversity: 1.2\n",
            "----- Generating with seed: \"y first time on python and i was scared to not be able to understand how a programming language work\"\n",
            "y first time on python and i was scared to not be able to understand how a programming language working on a platfike  every coding experience with python if you showende torues and the instructor prreseate greament some mooking forward thanks coursera for begu  othero class  thanks for lets changfu is vers  chuck is one using python  i didn t rememmer python  this course is really helps your besine you to know work  just a preverted  i cannjobout a interevinational setiric programmers approent \n",
            "\n",
            "Epoch 00067: loss improved from 0.80083 to 0.80041, saving model to /content/gdrive/My Drive/Capstone/Data/\n",
            "Epoch 68/100\n",
            "2362/2362 [==============================] - 28s 12ms/step - loss: 0.7877 - accuracy: 0.7565 - val_loss: 1.0613 - val_accuracy: 0.6997\n",
            "\n",
            "----- Generating text after Epoch: 67\n",
            "----- diversity: 0.2\n",
            "----- Generating with seed: \" is great for beginners in python as well as programming  both  if you do quiz and assignment  by yo\"\n",
            " is great for beginners in python as well as programming  both  if you do quiz and assignment  by your program and the videos seemed to learn python                                                                                                                                                                                                                                                                                                                                                                \n",
            "----- diversity: 0.5\n",
            "----- Generating with seed: \" is great for beginners in python as well as programming  both  if you do quiz and assignment  by yo\"\n",
            " is great for beginners in python as well as programming  both  if you do quiz and assignment  by your perfect class                                                                                                                                                                                                                                                                                                                                                                                                \n",
            "----- diversity: 1.0\n",
            "----- Generating with seed: \" is great for beginners in python as well as programming  both  if you do quiz and assignment  by yo\"\n",
            " is great for beginners in python as well as programming  both  if you do quiz and assignment  by your parsisual the forum vir is a amucring this course learn those who do not hard in whatious and fantastic course for learning python from  it as sure than yet   great introduction to python  i completed this course are graded and move one from a very explained like beginners with facilithes framithming in this course  the goole  he passional particua lige of teaching  ansight course and learn abo\n",
            "----- diversity: 1.2\n",
            "----- Generating with seed: \" is great for beginners in python as well as programming  both  if you do quiz and assignment  by yo\"\n",
            " is great for beginners in python as well as programming  both  if you do quiz and assignment  by your knowing it so that quizzes he is date on longed to yog    for incredible  the instructions good  defin to dataging and prompenmed and fun  coursera introduce theid or code  invertive some ctrerig a chools around thas specialisate to do to this wantetyting  i didn t to evely who want to start foundity   without programming it  the class you brenk for an itsipidant    but desciem  genely contunue\n",
            "\n",
            "Epoch 00068: loss improved from 0.80041 to 0.79847, saving model to /content/gdrive/My Drive/Capstone/Data/\n",
            "Epoch 69/100\n",
            "2362/2362 [==============================] - 28s 12ms/step - loss: 0.7872 - accuracy: 0.7585 - val_loss: 1.0574 - val_accuracy: 0.7015\n",
            "\n",
            "----- Generating text after Epoch: 68\n",
            "----- diversity: 0.2\n",
            "----- Generating with seed: \" python language  seems simple enough for students that have never programmed or scripted before  ve\"\n",
            " python language  seems simple enough for students that have never programmed or scripted before  very easy to understand  the teaching  i am great assignments    this course is very good  this course is great  the course is very good  thank you for this course                                                                                                                                                                                                                                               \n",
            "----- diversity: 0.5\n",
            "----- Generating with seed: \" python language  seems simple enough for students that have never programmed or scripted before  ve\"\n",
            " python language  seems simple enough for students that have never programmed or scripted before  very well explained  but not to good      excellent course  the the best tutorials and with and it was a great experience  the first course                                                                                                                                                                                                                                                                       \n",
            "----- diversity: 1.0\n",
            "----- Generating with seed: \" python language  seems simple enough for students that have never programmed or scripted before  ve\"\n",
            " python language  seems simple enough for students that have never programmed or scripted before  very well  thank you videos  charles is a cr stursutes and complicated take id errouted course   the getting started with the more course in such a from for everybody  but it dides in   i just like to can understand coole it stupy  of this course in one on the   can t dides you to pace  programming segin experience  i still keep us to this course jokelf priaro great paignd it by dutame and how their\n",
            "----- diversity: 1.2\n",
            "----- Generating with seed: \" python language  seems simple enough for students that have never programmed or scripted before  ve\"\n",
            " python language  seems simple enough for students that have never programmed or scripted before  very beginners  not thinking addthong and coursera for providess opportunity  useful and even book for had  from python from this questions appsianted intaluablical resurr programming informuction grated in the first coursesh lours re teaching resources with the very basic out many part problem further  journg a good starter were not fun and a great teacher experience  this  lucking language   so i \n",
            "\n",
            "Epoch 00069: loss improved from 0.79847 to 0.79841, saving model to /content/gdrive/My Drive/Capstone/Data/\n",
            "Epoch 70/100\n",
            "2362/2362 [==============================] - 28s 12ms/step - loss: 0.7843 - accuracy: 0.7589 - val_loss: 1.0596 - val_accuracy: 0.6996\n",
            "\n",
            "----- Generating text after Epoch: 69\n",
            "----- diversity: 0.2\n",
            "----- Generating with seed: \"n   the coursera   bcoz i am learning concepts here     the course is fantastic for anyone who wants\"\n",
            "n   the coursera   bcoz i am learning concepts here     the course is fantastic for anyone who wants to start the course                                                                                                                                                                                                                                                                                                                                                                                            \n",
            "----- diversity: 0.5\n",
            "----- Generating with seed: \"n   the coursera   bcoz i am learning concepts here     the course is fantastic for anyone who wants\"\n",
            "n   the coursera   bcoz i am learning concepts here     the course is fantastic for anyone who wants to start the course  i think it s a great opportunity    i really appreciate the sly          i had a just starting                                                                                                                                                                                                                                                                                            \n",
            "----- diversity: 1.0\n",
            "----- Generating with seed: \"n   the coursera   bcoz i am learning concepts here     the course is fantastic for anyone who wants\"\n",
            "n   the coursera   bcoz i am learning concepts here     the course is fantastic for anyone who wants to learn now background in a mant re vers it which has using base of a buichefls like dr  chuck has being a course step back   he is teaching in the fundamentals  this is a very interesting  it was diving by mr  we can to learn  h what you don t students dr  chuck has a read wesked to start the coding and no progremm sevirated before better to sear doubt  insirien  the professor hes creative to k\n",
            "----- diversity: 1.2\n",
            "----- Generating with seed: \"n   the coursera   bcoz i am learning concepts here     the course is fantastic for anyone who wants\"\n",
            "n   the coursera   bcoz i am learning concepts here     the course is fantastic for anyone who wants to start with programing  easy to know people with programming is excellent way to bried more created to follow first lectures  agon how basing my teaching sted it material i remadn et my offastion of programming concepts is equarial this  i won explanatitn i studied such timet works might i m loop covered  a week us worres  you get anount from any precise a suitable made the materials on ally kn\n",
            "\n",
            "Epoch 00070: loss improved from 0.79841 to 0.79671, saving model to /content/gdrive/My Drive/Capstone/Data/\n",
            "Epoch 71/100\n",
            "2362/2362 [==============================] - 28s 12ms/step - loss: 0.7889 - accuracy: 0.7567 - val_loss: 1.0616 - val_accuracy: 0.7002\n",
            "\n",
            "----- Generating text after Epoch: 70\n",
            "----- diversity: 0.2\n",
            "----- Generating with seed: \"rses and failed to continue every one of them   this course completely changed my direction and now \"\n",
            "rses and failed to continue every one of them   this course completely changed my direction and now i have the instructor                                                                                                                                                                                                                                                                                                                                                                                           \n",
            "----- diversity: 0.5\n",
            "----- Generating with seed: \"rses and failed to continue every one of them   this course completely changed my direction and now \"\n",
            "rses and failed to continue every one of them   this course completely changed my direction and now i have learned with coursera     i can a vers code with the python courses to learn python  he has well structured or frese to solve into the very basics  explanation to python  it s a great teacher who want to test and i found the basics of python  this is my felt of programming  i am a beginner    i like it  i would like to to the course and the exercises are a great course  i learned a lot  how\n",
            "----- diversity: 1.0\n",
            "----- Generating with seed: \"rses and failed to continue every one of them   this course completely changed my direction and now \"\n",
            "rses and failed to continue every one of them   this course completely changed my direction and now i could learn for the course  they where at all  bursing all of found that you want to participate of just ve so material of has heave the whole course and such an easy for me  go filloble  i worth python  i can witt give overall can been infinitethal takes for successful the code  pecfect course    you have ever read definitely relieted      i was my perably to complete the quiz schopure  the way\n",
            "----- diversity: 1.2\n",
            "----- Generating with seed: \"rses and failed to continue every one of them   this course completely changed my direction and now \"\n",
            "rses and failed to continue every one of them   this course completely changed my direction and now lecturer  it would before level with  i fmee whine learning python basic python  kind  easy to understand has comeine in pleasancial online coursera courses also  that be c enjoyed it gets coul becialed it the yourssif course  he possul their liggling of programmiog language  i really enjoyed the class   everything in python  base i spidn up python background but also it s lot  this course was ver\n",
            "\n",
            "Epoch 00071: loss improved from 0.79671 to 0.79631, saving model to /content/gdrive/My Drive/Capstone/Data/\n",
            "Epoch 72/100\n",
            "2362/2362 [==============================] - 28s 12ms/step - loss: 0.7838 - accuracy: 0.7589 - val_loss: 1.0619 - val_accuracy: 0.6999\n",
            "\n",
            "----- Generating text after Epoch: 71\n",
            "----- diversity: 0.2\n",
            "----- Generating with seed: \" a motivation to complete this course   this course is very use full for people that doesn t have pr\"\n",
            " a motivation to complete this course   this course is very use full for people that doesn t have programming language  i would stipen for the course and complete this course                                                                                                                                                                                                                                                                                                                                      \n",
            "----- diversity: 0.5\n",
            "----- Generating with seed: \" a motivation to complete this course   this course is very use full for people that doesn t have pr\"\n",
            " a motivation to complete this course   this course is very use full for people that doesn t have programming language    i will learn for a big text fiendrable and complete coursera coursera and then introduce the course is a great course for beginners  the way this course has been detailed and i am very thankful to coursera for providing the code was very good and have a long time  i have a non                                                                                                     \n",
            "----- diversity: 1.0\n",
            "----- Generating with seed: \" a motivation to complete this course   this course is very use full for people that doesn t have pr\"\n",
            " a motivation to complete this course   this course is very use full for people that doesn t have programmer doen in the basics of python to complete the lecture making it a sigh soon    crraicl requirese working out them  i ve taking this course  at a little list be chanlsabonat very much  i foilld a lecture learning new things stipting pace and providing and recommend to anyone who wants to learn python programs in programming and i like the next courses and explaining topics  but having leare\n",
            "----- diversity: 1.2\n",
            "----- Generating with seed: \" a motivation to complete this course   this course is very use full for people that doesn t have pr\"\n",
            " a motivation to complete this course   this course is very use full for people that doesn t have programming works with put aclasics  i really liked just staried fentasues it clearly the instructor stated of taking this course for recommendation reading the python programing language and get to learn mare   a grathers handy using my optilation can be availbad each  it to future this course the keware fun  i ll key fore whatevercises of though inforth to mri too skill if you want to defact this \n",
            "\n",
            "Epoch 00072: loss improved from 0.79631 to 0.79528, saving model to /content/gdrive/My Drive/Capstone/Data/\n",
            "Epoch 73/100\n",
            "2362/2362 [==============================] - 29s 12ms/step - loss: 0.7835 - accuracy: 0.7585 - val_loss: 1.0635 - val_accuracy: 0.6994\n",
            "\n",
            "----- Generating text after Epoch: 72\n",
            "----- diversity: 0.2\n",
            "----- Generating with seed: \"whereby it s easy to understand and digest  assessment given were relevant to what was taught for ea\"\n",
            "whereby it s easy to understand and digest  assessment given were relevant to what was taught for each python programming                                                                                                                                                                                                                                                                                                                                                                                           \n",
            "----- diversity: 0.5\n",
            "----- Generating with seed: \"whereby it s easy to understand and digest  assessment given were relevant to what was taught for ea\"\n",
            "whereby it s easy to understand and digest  assessment given were relevant to what was taught for each programming   the course is a very good level  the teacher explains elferit and it is an amazing course       i like it for some programmer introduction to python     i didn t hoe on python  in now    this is a great course for beginners and participating secieding and i believe        stars to the next one sample   i did the basic one of the best explanations  i m looking forward to take this \n",
            "----- diversity: 1.0\n",
            "----- Generating with seed: \"whereby it s easy to understand and digest  assessment given were relevant to what was taught for ea\"\n",
            "whereby it s easy to understand and digest  assessment given were relevant to what was taught for each code way  thanks for providing caree its a very awesome concepts very complete beginner course   this is a fantastic devion passent concepts python  this fuin  i feel the first ttuck difficulty broguge a fancem  instructor you want to start most of him and it feel awe you should is not all  to be important rath students materials and the text not exasple and put and helpful i had a beginner to \n",
            "----- diversity: 1.2\n",
            "----- Generating with seed: \"whereby it s easy to understand and digest  assessment given were relevant to what was taught for ea\"\n",
            "whereby it s easy to understand and digest  assessment given were relevant to what was taught for each programming and lings and fun to learn best course of python programming  my understand seem very code smelt feel you want to learn python discussion  were not lecturer   beythefoptions  co verying you and has has   fle is thanks to coursera engall for educet  clear very free anr provid  the concepts and easy to learn by sayishated bock  make it a nabt texts of exponentation  very is one with a\n",
            "\n",
            "Epoch 00073: loss improved from 0.79528 to 0.79364, saving model to /content/gdrive/My Drive/Capstone/Data/\n",
            "Epoch 74/100\n",
            "2362/2362 [==============================] - 29s 12ms/step - loss: 0.7871 - accuracy: 0.7576 - val_loss: 1.0612 - val_accuracy: 0.7012\n",
            "\n",
            "----- Generating text after Epoch: 73\n",
            "----- diversity: 0.2\n",
            "----- Generating with seed: \"on from a knowledgeable instructor who moves through the material at the right pace to maintain ones\"\n",
            "on from a knowledgeable instructor who moves through the material at the right pace to maintain ones                                                                                                                                                                                                                                                                                                                                                                                                                \n",
            "----- diversity: 0.5\n",
            "----- Generating with seed: \"on from a knowledgeable instructor who moves through the material at the right pace to maintain ones\"\n",
            "on from a knowledgeable instructor who moves through the material at the right pace to maintain ones                                                                                                                                                                                                                                                                                                                                                                                                                \n",
            "----- diversity: 1.0\n",
            "----- Generating with seed: \"on from a knowledgeable instructor who moves through the material at the right pace to maintain ones\"\n",
            "on from a knowledgeable instructor who moves through the material at the right pace to maintain onestate  anybody   for as who want to start mentor conditional courses awesome course   the only proppeon resompring into code to anyone who is sentin in my ownified easy loop of curare  other youtaultit to me another sciently easy to facu to take more and as an introduction to code jas personaly   i am going to learn python through the entirn of ritter  wonderful for  encourages  complete who wants \n",
            "----- diversity: 1.2\n",
            "----- Generating with seed: \"on from a knowledgeable instructor who moves through the material at the right pace to maintain ones\"\n",
            "on from a knowledgeable instructor who moves through the material at the right pace to maintain onesolute with python or explaining this course to understand and carmes to xit python     it iscourse have come back    mro self fir the begingnts  the professor wishen to chapter laved muting perform the vidua experience beginners   chack selp and new hapve experience of programming which case abanity learning became cr scar educed to impress bit neek before to watred frap order  as the exercifies  \n",
            "\n",
            "Epoch 00074: loss improved from 0.79364 to 0.79362, saving model to /content/gdrive/My Drive/Capstone/Data/\n",
            "Epoch 75/100\n",
            "2362/2362 [==============================] - 30s 13ms/step - loss: 0.7807 - accuracy: 0.7593 - val_loss: 1.0668 - val_accuracy: 0.6993\n",
            "\n",
            "----- Generating text after Epoch: 74\n",
            "----- diversity: 0.2\n",
            "----- Generating with seed: \"d then i recommend reading the chapter and following all of the exercises for the beginners  in my o\"\n",
            "d then i recommend reading the chapter and following all of the exercises for the beginners  in my own  professor charles severance    i have never help you to the problems i have completed the course      i am a beginner  i have never friendly    i would like to take the course  i have never code in a week  i have never help you to the problems  it was a great teacher                                                                                                                                 \n",
            "----- diversity: 0.5\n",
            "----- Generating with seed: \"d then i recommend reading the chapter and following all of the exercises for the beginners  in my o\"\n",
            "d then i recommend reading the chapter and following all of the exercises for the beginners  in my own  python   i highly recommend this this course and material  i am solve courses and easy for the beginners  the end of every piefer the way orce   i will definitely took the same teaching style  it was great  thank you coursera for some of the most starting on mistage on programming  it s a great course   i am grateful to programmers   i am a begin in programming                                 \n",
            "----- diversity: 1.0\n",
            "----- Generating with seed: \"d then i recommend reading the chapter and following all of the exercises for the beginners  in my o\"\n",
            "d then i recommend reading the chapter and following all of the exercises for the beginners  in my own grouble leckund i want to study graded or write boring at becomes effective  i am hours aboun  this plannues made the instructor charles severance enrorsira interactiveely enthusiasmated things matarinal  assignments are what primes approarch  he do and attending the myselful experience and really feel that most opportunity to code    the bonus info every prior knowledge and after at the same f\n",
            "----- diversity: 1.2\n",
            "----- Generating with seed: \"d then i recommend reading the chapter and following all of the exercises for the beginners  in my o\"\n",
            "d then i recommend reading the chapter and following all of the exercises for the beginners  in my own everything in python and greatecies like c    first wot knue cousts  spruntaker to accobs aceing the specialization part of the key of programsious python and move oper  like reference feetly will otth wouldnever not knowes their online course by moment in the teacher bray to jush to use him one     related to complete the way python learning thanks to coursera and have excellent to beginners t\n",
            "\n",
            "Epoch 00075: loss improved from 0.79362 to 0.79301, saving model to /content/gdrive/My Drive/Capstone/Data/\n",
            "Epoch 76/100\n",
            "2362/2362 [==============================] - 30s 13ms/step - loss: 0.7806 - accuracy: 0.7587 - val_loss: 1.0667 - val_accuracy: 0.6991\n",
            "\n",
            "----- Generating text after Epoch: 75\n",
            "----- diversity: 0.2\n",
            "----- Generating with seed: \"and gives a great foundation to anyone who doesn t have previous coding experience    very interesti\"\n",
            "and gives a great foundation to anyone who doesn t have previous coding experience    very interesting                                                                                                                                                                                                                                                                                                                                                                                                              \n",
            "----- diversity: 0.5\n",
            "----- Generating with seed: \"and gives a great foundation to anyone who doesn t have previous coding experience    very interesti\"\n",
            "and gives a great foundation to anyone who doesn t have previous coding experience    very interesting       i will continue with python  i would have ever had  not to other courses    i would like to like this course  i had no programming experience  i would like to thank it to everyone who had a new course for the beginners with no programming which was a beginner    i had a great course  i had a great teacher  thanks to the course     i am a course it makes you are a beginner                 \n",
            "----- diversity: 1.0\n",
            "----- Generating with seed: \"and gives a great foundation to anyone who doesn t have previous coding experience    very interesti\"\n",
            "and gives a great foundation to anyone who doesn t have previous coding experience    very interesting   expose   great startant and good  i liked the way to the videos on and which respons other though the over beauming every ove in a sequence and continue for suggest and was excellent  good course very like the skills by dr  charles russell seserss to do why installing made foundation in general  this course was in the video quizzes ate clear  i m ais easy and looking for a challenging is a ve\n",
            "----- diversity: 1.2\n",
            "----- Generating with seed: \"and gives a great foundation to anyone who doesn t have previous coding experience    very interesti\"\n",
            "and gives a great foundation to anyone who doesn t have previous coding experience    very interesting  i munzer still got the most taking his way videos online course and funny by dr  chuck from reviewingn bearced unimy amounted python poop of thenialoog  for each python charles is the people successis material before he hess  dadig success inspired the pack to you mintored dr chuck and it  i have think in the solf in my knowledge fer education to learn by the way the instructor is fain with th\n",
            "\n",
            "Epoch 00076: loss improved from 0.79301 to 0.79252, saving model to /content/gdrive/My Drive/Capstone/Data/\n",
            "Epoch 77/100\n",
            "2362/2362 [==============================] - 30s 13ms/step - loss: 0.7765 - accuracy: 0.7612 - val_loss: 1.0690 - val_accuracy: 0.6976\n",
            "\n",
            "----- Generating text after Epoch: 76\n",
            "----- diversity: 0.2\n",
            "----- Generating with seed: \"s to all that have been and are now involved with overseeing the success of this wonderful achieveme\"\n",
            "s to all that have been and are now involved with overseeing the success of this wonderful achievement in this course  i have a non programming in a well structured and the assignments are grateful to get the best course    i have learned a lot of experience in computer science        i have learned a lot of experience with python for everybody                                                                                                                                                          \n",
            "----- diversity: 0.5\n",
            "----- Generating with seed: \"s to all that have been and are now involved with overseeing the success of this wonderful achieveme\"\n",
            "s to all that have been and are now involved with overseeing the success of this wonderful achievement in a struggling and this is the best course for beginners  the instructor is awesome  i had a lot of online course    i had a bad and sometimes was very interesting and i am going thanky course for beginners  well sure and it is that this course was a great course  you can do not understanding of learning to the course  i have done but also it in one of the lectures are easy to understand and c\n",
            "----- diversity: 1.0\n",
            "----- Generating with seed: \"s to all that have been and are now involved with overseeing the success of this wonderful achieveme\"\n",
            "s to all that have been and are now involved with overseeing the success of this wonderful achievement ateratity but at beaics but not handly organised to amur fir no prior knowledge  i think it requires a bit lessons and i think this class   i am going this course   easy to fun  at the canctions are knowledge beiinally because if you understand the teaching tsow aling many comming me this course is deserving also i had a grea other language  and i am although this course and teacher was very go\n",
            "----- diversity: 1.2\n",
            "----- Generating with seed: \"s to all that have been and are now involved with overseeing the success of this wonderful achieveme\"\n",
            "s to all that have been and are now involved with overseeing the success of this wonderful achievement things swourd for anyone who doesn    although it will have doning  this is by this course   well forme to learning very easy to learn about now it is great foundation emanding were adviselyshice  s got a prondes with humar fact like by university offection to have betaried to do the slown  one that who can t because agae tenchonr for sometimes you movery charles severance  it s fun in having  \n",
            "\n",
            "Epoch 00077: loss improved from 0.79252 to 0.79083, saving model to /content/gdrive/My Drive/Capstone/Data/\n",
            "Epoch 78/100\n",
            "2362/2362 [==============================] - 30s 13ms/step - loss: 0.7820 - accuracy: 0.7587 - val_loss: 1.0668 - val_accuracy: 0.7002\n",
            "\n",
            "----- Generating text after Epoch: 77\n",
            "----- diversity: 0.2\n",
            "----- Generating with seed: \" fundamental concept in python  charles severance was really good at explaining the fundamental conc\"\n",
            " fundamental concept in python  charles severance was really good at explaining the fundamental concepts  i am so for all                                                                                                                                                                                                                                                                                                                                                                                           \n",
            "----- diversity: 0.5\n",
            "----- Generating with seed: \" fundamental concept in python  charles severance was really good at explaining the fundamental conc\"\n",
            " fundamental concept in python  charles severance was really good at explaining the fundamental concepts                    i am had fact this course  the instructor dr  chuck is a very basic course                                                                                                                                                                                                                                                                                                              \n",
            "----- diversity: 1.0\n",
            "----- Generating with seed: \" fundamental concept in python  charles severance was really good at explaining the fundamental conc\"\n",
            " fundamental concept in python  charles severance was really good at explaining the fundamental concepts period of a programming balable  since that online forum in the basics of the bonus experience   charles severance for providess and learn dy seeery   dr chuck teach  excellent teacher when it in   s  thanks a pretty given assignment tutarly    the because an a very well axpecurace intlodger years  i am able to complete the out make it very interyser who wonks and the lectures  the explanatio\n",
            "----- diversity: 1.2\n",
            "----- Generating with seed: \" fundamental concept in python  charles severance was really good at explaining the fundamental conc\"\n",
            " fundamental concept in python  charles severance was really good at explaining the fundamental concepts will defined knowledge and days to start foy points in a very itself learn theas  i loved even a beginner  i have liken studyted willove other scriply to anyone active time starting les gets  edand other starting to learn more  i also learn makes you think funtanited to this level overally faurids the lessons exercises problem fool our firas cloos  i feel the learning teaching been inctufy  i\n",
            "\n",
            "Epoch 00078: loss did not improve from 0.79083\n",
            "Epoch 79/100\n",
            "2362/2362 [==============================] - 30s 13ms/step - loss: 0.7817 - accuracy: 0.7589 - val_loss: 1.0719 - val_accuracy: 0.6992\n",
            "\n",
            "----- Generating text after Epoch: 78\n",
            "----- diversity: 0.2\n",
            "----- Generating with seed: \"highly recommend prof severance and would also buy the book on amazon for      i originally printed \"\n",
            "highly recommend prof severance and would also buy the book on amazon for      i originally printed of the course                                                                                                                                                                                                                                                                                                                                                                                                   \n",
            "----- diversity: 0.5\n",
            "----- Generating with seed: \"highly recommend prof severance and would also buy the book on amazon for      i originally printed \"\n",
            "highly recommend prof severance and would also buy the book on amazon for      i originally printed inder atthes  inspirent in the formah  the opportunity   i would love to complete this course  this course is great  the professor severance is really a programmer   this is a great course  i have never provided me to get a programmer who have never programmed background  behind the coding about the lecturer  and the course is a good course and i completed this course  i could folure to continue t\n",
            "----- diversity: 1.0\n",
            "----- Generating with seed: \"highly recommend prof severance and would also buy the book on amazon for      i originally printed \"\n",
            "highly recommend prof severance and would also buy the book on amazon for      i originally printed  he explains like a programming language  the way though i have never learning python  co wasn t buil students like charles can thank dur not interest in programming step but definitely managed and jought in an easy to start that works are also brobsed the code is you dif introppailition programming language for programming inspirt in and next course of experience to a freaz using the concepts and\n",
            "----- diversity: 1.2\n",
            "----- Generating with seed: \"highly recommend prof severance and would also buy the book on amazon for      i originally printed \"\n",
            "highly recommend prof severance and would also buy the book on amazon for      i originally printed a easy engitienly  this wries nothine who had joke furster for fatiare start to triok you takes fun worre sear concepts hor how thries  formal task out need   toow me fauttills  but is not some material  the classift good sobterve supporis about python  it s even bools if you have no use certificate in resoumdos  this knows to python greatey additional designed    recommendation worked they ares s\n",
            "\n",
            "Epoch 00079: loss improved from 0.79083 to 0.79035, saving model to /content/gdrive/My Drive/Capstone/Data/\n",
            "Epoch 80/100\n",
            "2362/2362 [==============================] - 30s 13ms/step - loss: 0.7783 - accuracy: 0.7603 - val_loss: 1.0696 - val_accuracy: 0.6985\n",
            "\n",
            "----- Generating text after Epoch: 79\n",
            "----- diversity: 0.2\n",
            "----- Generating with seed: \"e riding the   python bike    i fell  yes  but knew what to do to do better next try  thanks a lot t\"\n",
            "e riding the   python bike    i fell  yes  but knew what to do to do better next try  thanks a lot to my project of the python language  i liked the course                                                                                                                                                                                                                                                                                                                                                         \n",
            "----- diversity: 0.5\n",
            "----- Generating with seed: \"e riding the   python bike    i fell  yes  but knew what to do to do better next try  thanks a lot t\"\n",
            "e riding the   python bike    i fell  yes  but knew what to do to do better next try  thanks a lot to learn a lot of infrither this was my first course i structurd and this class is a great course for beginners  the teaching style      very good course  the instructor you want to learn python     this class is a great teacher  thanks to charles severance       extremely for more about heris as an interesting  the teacher made the rather to learn programming the basics of python                  \n",
            "----- diversity: 1.0\n",
            "----- Generating with seed: \"e riding the   python bike    i fell  yes  but knew what to do to do better next try  thanks a lot t\"\n",
            "e riding the   python bike    i fell  yes  but knew what to do to do better next try  thanks a lot to provided for minis forward to teach     and in this skills you well recommend this training in without great course for shone who do ond course  i cas enjoyed trying to learn the best of the first start bray deying and of the material to learn  i alis fraile to gooden       the again   very somethot programming with python i have definitely clear  you sulut access to follow the clear and trying \n",
            "----- diversity: 1.2\n",
            "----- Generating with seed: \"e riding the   python bike    i fell  yes  but knew what to do to do better next try  thanks a lot t\"\n",
            "e riding the   python bike    i fell  yes  but knew what to do to do better next try  thanks a lot to start to the methodotion    i m having for this course is brearing to recoided in payt new reasoing anything helps yol white perfection teaching in actuallian leling about like i wrime applieted this class    new to teactiod knowse where that many mefthon por  quit  when u stud able to understanding using you got a gives you no worde  vad oving the code you are very good curroutly bribaility of \n",
            "\n",
            "Epoch 00080: loss improved from 0.79035 to 0.78977, saving model to /content/gdrive/My Drive/Capstone/Data/\n",
            "Epoch 81/100\n",
            "2362/2362 [==============================] - 30s 13ms/step - loss: 0.7763 - accuracy: 0.7617 - val_loss: 1.0683 - val_accuracy: 0.6991\n",
            "\n",
            "----- Generating text after Epoch: 80\n",
            "----- diversity: 0.2\n",
            "----- Generating with seed: \"teresting course and the instructor made the course very easy and fruitful for all the learner  anyo\"\n",
            "teresting course and the instructor made the course very easy and fruitful for all the learner  anyone to start programming  it is a great course for beginners  i would still a lot of experience with python  i would still a lot                                                                                                                                                                                                                                                                                 \n",
            "----- diversity: 0.5\n",
            "----- Generating with seed: \"teresting course and the instructor made the course very easy and fruitful for all the learner  anyo\"\n",
            "teresting course and the instructor made the course very easy and fruitful for all the learner  anyone to know the very insereatiol course and i have done it        this course is really helpful  and the course is very good course for a programmer  i have easy to got a beginner in programming    this is my first course  i have never provide real language  i have some programming  this is the best course  the instructor dr chuck is a great course        i have never help you think understand the \n",
            "----- diversity: 1.0\n",
            "----- Generating with seed: \"teresting course and the instructor made the course very easy and fruitful for all the learner  anyo\"\n",
            "teresting course and the instructor made the course very easy and fruitful for all the learner  anyone excellent teacher and corward and sooned coding just course encourages that was a blestyey much as a programming kew so i believe  but fauttilable and prior course that i feel everybody is not only really much a lot of exciencting the course within the assignment  simelats of one in home soith to me   excellent programmer is data stend go throuch of python with my video  really having taking th\n",
            "----- diversity: 1.2\n",
            "----- Generating with seed: \"teresting course and the instructor made the course very easy and fruitful for all the learner  anyo\"\n",
            "teresting course and the instructor made the course very easy and fruitful for all the learner  anyop of knowledge to sucpful that you presente wishing to lectinnery  i am some repormer attanling us  it is tomet some courses or joke topice and materials was extenserful so good explaen i got asmed confiring much abuated and really helved for anyone who has been everything id it very engaging  the videos    he ditcuns in probners  absul most riou difed notch  easy to professor   assitestly better \n",
            "\n",
            "Epoch 00081: loss improved from 0.78977 to 0.78855, saving model to /content/gdrive/My Drive/Capstone/Data/\n",
            "Epoch 82/100\n",
            "2362/2362 [==============================] - 30s 13ms/step - loss: 0.7747 - accuracy: 0.7620 - val_loss: 1.0728 - val_accuracy: 0.7000\n",
            "\n",
            "----- Generating text after Epoch: 81\n",
            "----- diversity: 0.2\n",
            "----- Generating with seed: \"tage  i m taking the second part of the specialization now     it s a great non intimidating introdu\"\n",
            "tage  i m taking the second part of the specialization now     it s a great non intimidating introduction to programming  i had a basic in the subject exploinnd in a student                                                                                                                                                                                                                                                                                                                                       \n",
            "----- diversity: 0.5\n",
            "----- Generating with seed: \"tage  i m taking the second part of the specialization now     it s a great non intimidating introdu\"\n",
            "tage  i m taking the second part of the specialization now     it s a great non intimidating introduction to program       i m you want to start to do i have a lot about the instructor  i like a but not think about the specialization                            this is teaching instructor is easy to understand  the course was very approach which and the lecture was very helpful                                                                                                                         \n",
            "----- diversity: 1.0\n",
            "----- Generating with seed: \"tage  i m taking the second part of the specialization now     it s a great non intimidating introdu\"\n",
            "tage  i m taking the second part of the specialization now     it s a great non intimidating introducations  i used to start dr chuck is an excellent course     i who wants to deghe that explains appreciate the course in want to savo  no wrate some knowledge videos on brilited better with the concept of chuck helps me basic concepts  the forums of dr  chuck     excellent course basics  i don t whek in an easy with no programming back to got beginner programming for every team for everyone who wa\n",
            "----- diversity: 1.2\n",
            "----- Generating with seed: \"tage  i m taking the second part of the specialization now     it s a great non intimidating introdu\"\n",
            "tage  i m taking the second part of the specialization now     it s a great non intimidating introduction  in a student a way that you can own examples for its basics of python quiriengearing gap to python and quizzes to little of it  that itsing python  read hands of python  i hove theing to take my entire course i m enrollefors or modern programming but not with thoudbots stiring and also do not done but this onstruction  dr  chartenin and enroued but all  follow this way to learn ble student \n",
            "\n",
            "Epoch 00082: loss improved from 0.78855 to 0.78775, saving model to /content/gdrive/My Drive/Capstone/Data/\n",
            "Epoch 83/100\n",
            "2362/2362 [==============================] - 30s 13ms/step - loss: 0.7736 - accuracy: 0.7625 - val_loss: 1.0714 - val_accuracy: 0.6989\n",
            "\n",
            "----- Generating text after Epoch: 82\n",
            "----- diversity: 0.2\n",
            "----- Generating with seed: \"nation video and compare my codes in my assignment  while there are some codes i don t understand ve\"\n",
            "nation video and compare my codes in my assignment  while there are some codes i don t understand very enthusiasmation of python    i loved the course                                                                                                                                                                                                                                                                                                                                                              \n",
            "----- diversity: 0.5\n",
            "----- Generating with seed: \"nation video and compare my codes in my assignment  while there are some codes i don t understand ve\"\n",
            "nation video and compare my codes in my assignment  while there are some codes i don t understand very enthusiasmation of programming  this course course explained  you can to the beginners     this course is great     i am very easy to complete the course           thanks for the course         and       i love this course  the instructor is so coolls that is a great experience  i did not a programming language and the assignments are well  it looks it was a very good course for learning python\n",
            "----- diversity: 1.0\n",
            "----- Generating with seed: \"nation video and compare my codes in my assignment  while there are some codes i don t understand ve\"\n",
            "nation video and compare my codes in my assignment  while there are some codes i don t understand very clear and happy made thanks to coursera for programming expline the scentir  pion of learning us professor  a nice of just start      charles am so that most dight that making it just beauto all the code which i feel goad and the instructor able to take the wheneving on topics minally struchu great flow giving a good explanations were and this is an introduction to be explain searth doft am a c\n",
            "----- diversity: 1.2\n",
            "----- Generating with seed: \"nation video and compare my codes in my assignment  while there are some codes i don t understand ve\"\n",
            "nation video and compare my codes in my assignment  while there are some codes i don t understand very leadn teaching yourself  and fow hat  teaches you know more all ressenting course i d enthusiasking  an easy to understand what you augris way  like learning maybotan of converying  fansionalsingly for successful  i m enragicmiquals  videos of your basics on collerg   professor charles naves  our such   but in ungay but and shows underetting and easy to understand without really know a long  i \n",
            "\n",
            "Epoch 00083: loss improved from 0.78775 to 0.78666, saving model to /content/gdrive/My Drive/Capstone/Data/\n",
            "Epoch 84/100\n",
            "2362/2362 [==============================] - 30s 13ms/step - loss: 0.7756 - accuracy: 0.7605 - val_loss: 1.0720 - val_accuracy: 0.6998\n",
            "\n",
            "----- Generating text after Epoch: 83\n",
            "----- diversity: 0.2\n",
            "----- Generating with seed: \"nk i have found the new interest in python  he just did not teach python but he also taught how in g\"\n",
            "nk i have found the new interest in python  he just did not teach python but he also taught how in general  the instructor is except should finished the way dr chuck has an excellent course for beginners  the instructor is very good at explained and the instructor is a very good course for you                                                                                                                                                                                                              \n",
            "----- diversity: 0.5\n",
            "----- Generating with seed: \"nk i have found the new interest in python  he just did not teach python but he also taught how in g\"\n",
            "nk i have found the new interest in python  he just did not teach python but he also taught how in generating course      this course is very good  the way it was a great class but i have ever learned with no prior coding experience in computer science    this course is very interested in learning to learn   the course contents are very interesting and fun and wonter course thanks to coursera for providing the course is very easy to learn any programming background  i think making it            \n",
            "----- diversity: 1.0\n",
            "----- Generating with seed: \"nk i have found the new interest in python  he just did not teach python but he also taught how in g\"\n",
            "nk i have found the new interest in python  he just did not teach python but he also taught how in grasedy he has by perazing easy to open even wished to learn many can follow and improving it  i need to understand how the programming about python programming  then i happen t learned  its a very nice muchig for boring and they give advise practica series  the way many prigramming languages  this is bythar is good resogres  i am no wrang orcapp with classome programming in python    excellent des\n",
            "----- diversity: 1.2\n",
            "----- Generating with seed: \"nk i have found the new interest in python  he just did not teach python but he also taught how in g\"\n",
            "nk i have found the new interest in python  he just did not teach python but he also taught how in gevirate    with abstlicted     idefficient are intied learning imme formuld and student a bild penes did not thinking scotichly preing more awesome  professor s udid anoul to  and your fins programming for the faunaics also i finished any python especially to spating to python    actually taught basics for it  encill  i am sure is just enjoyed mugit you dole intille class   the way teacher  he und\n",
            "\n",
            "Epoch 00084: loss improved from 0.78666 to 0.78665, saving model to /content/gdrive/My Drive/Capstone/Data/\n",
            "Epoch 85/100\n",
            "2362/2362 [==============================] - 30s 13ms/step - loss: 0.7742 - accuracy: 0.7606 - val_loss: 1.0736 - val_accuracy: 0.6999\n",
            "\n",
            "----- Generating text after Epoch: 84\n",
            "----- diversity: 0.2\n",
            "----- Generating with seed: \"  but as for the important files i had backup on floppies  i was lucky  my sister in law came within\"\n",
            "  but as for the important files i had backup on floppies  i was lucky  my sister in law came within                                                                                                                                                                                                                                                                                                                                                                                                                \n",
            "----- diversity: 0.5\n",
            "----- Generating with seed: \"  but as for the important files i had backup on floppies  i was lucky  my sister in law came within\"\n",
            "  but as for the important files i had backup on floppies  i was lucky  my sister in law came within    it is a great class     this is the best of the course  i m no edrcalfus and excellent add and coursera       i have to still a lot to do it was a great experienced  i had a lot of experience with python                                                                                                                                                                                                 \n",
            "----- diversity: 1.0\n",
            "----- Generating with seed: \"  but as for the important files i had backup on floppies  i was lucky  my sister in law came within\"\n",
            "  but as for the important files i had backup on floppies  i was lucky  my sister in law came withining of trying python code  ritter than i can t a little coded if you program   i feltable to programming  or from having this course and it easily understandable  and dr  chuck within plasfust under that day   the amazing    stars so that you can twantful ty start want that i could common intwbeding this course   dr  chuck is an excellent  and it paced anyone catcup of coursera humorigges   if i l\n",
            "----- diversity: 1.2\n",
            "----- Generating with seed: \"  but as for the important files i had backup on floppies  i was lucky  my sister in law came within\"\n",
            "  but as for the important files i had backup on floppies  i was lucky  my sister in law came within a revies as a ment my movic for much comfortabo prograrmies   his lectures are onling ago for teaching shrairically the caree it s lectures  again  programming about this  especially banzed for free one  the data structure difficulties  to simple what could people  butties  i want to sive it all the python chapters  this course is very friendly  i have never coded make the first videos were diffi\n",
            "\n",
            "Epoch 00085: loss improved from 0.78665 to 0.78556, saving model to /content/gdrive/My Drive/Capstone/Data/\n",
            "Epoch 86/100\n",
            "2362/2362 [==============================] - 30s 13ms/step - loss: 0.7735 - accuracy: 0.7620 - val_loss: 1.0733 - val_accuracy: 0.6986\n",
            "\n",
            "----- Generating text after Epoch: 85\n",
            "----- diversity: 0.2\n",
            "----- Generating with seed: \"cience backgrounded people can learn python effectively and easily  the instructor was good enough t\"\n",
            "cience backgrounded people can learn python effectively and easily  the instructor was good enough times  i would like to start to take a sometimes to start the course     i am going the class  it was a great experience                                                                                                                                                                                                                                                                                         \n",
            "----- diversity: 0.5\n",
            "----- Generating with seed: \"cience backgrounded people can learn python effectively and easily  the instructor was good enough t\"\n",
            "cience backgrounded people can learn python effectively and easily  the instructor was good enough times  he is really explannty and i could this   course and the course is really good and i would student really good and i had a lot of experience in programming  so i did not know where the basics of python and it will be fur to dis to the course     i am have a bit understand     i am a great professor  i did not us the best course i wish to understand the programming languages  i have at nice p\n",
            "----- diversity: 1.0\n",
            "----- Generating with seed: \"cience backgrounded people can learn python effectively and easily  the instructor was good enough t\"\n",
            "cience backgrounded people can learn python effectively and easily  the instructor was good enough to difficulty  thank you dr  chuck buthing the chapters  inthouta shorter witt wo book froind this is need python is so for me courses for your just before before and internet  i already helps sprnaing videos and basics into python which successup yut worter wratever is very clear  i will keep read  i am not absolute beginner has     having the offerinct in your find in python in after dr chuck    \n",
            "----- diversity: 1.2\n",
            "----- Generating with seed: \"cience backgrounded people can learn python effectively and easily  the instructor was good enough t\"\n",
            "cience backgrounded people can learn python effectively and easily  the instructor was good enough to mear through given  co dedies in decipent plactianleda sandsation and don t rematime  that i also like this course thank you are in learning for future codedias   i aggables whe lever you are enchentions  confidenclahing its if and much community with break durant this instructor discresse and you dipp basics    prof  chure incruse mestlons  i structlek deselt care to have the concepts perfectly\n",
            "\n",
            "Epoch 00086: loss improved from 0.78556 to 0.78526, saving model to /content/gdrive/My Drive/Capstone/Data/\n",
            "Epoch 87/100\n",
            "2362/2362 [==============================] - 31s 13ms/step - loss: 0.7777 - accuracy: 0.7600 - val_loss: 1.0752 - val_accuracy: 0.6988\n",
            "\n",
            "----- Generating text after Epoch: 86\n",
            "----- diversity: 0.2\n",
            "----- Generating with seed: \"uck  severance for making it interesting   as it was my first time getting introduced to programming\"\n",
            "uck  severance for making it interesting   as it was my first time getting introduced to programming  i am a great course  i think it is a very good course for beginners  the instructor is exceptional can easily charles russell severance is a great teacher                                                                                                                                                                                                                                                    \n",
            "----- diversity: 0.5\n",
            "----- Generating with seed: \"uck  severance for making it interesting   as it was my first time getting introduced to programming\"\n",
            "uck  severance for making it interesting   as it was my first time getting introduced to programming  i can stull he starts are well definitely weeres to get beginner    the course was a great experience  the course was very explained every different course aid   i think that taught   highly recommended  i am a more course  i ll like to learn python    i would recommend this course to anyone who is the first of the python language  i completed this course                 i am great introduction \n",
            "----- diversity: 1.0\n",
            "----- Generating with seed: \"uck  severance for making it interesting   as it was my first time getting introduced to programming\"\n",
            "uck  severance for making it interesting   as it was my first time getting introduced to programming severance i m friendly course and coding programming  especiall  too elust end all the words  i completed this course all the fundamentals of python the course  the resoo ses couress and sough and encouraging and it find into all thosedsule and explains to be all wes to be prefise code as a  to assagyib expicined in such a much to understand because dr  chuck doesn t python level he has a few lea\n",
            "----- diversity: 1.2\n",
            "----- Generating with seed: \"uck  severance for making it interesting   as it was my first time getting introduced to programming\"\n",
            "uck  severance for making it interesting   as it was my first time getting introduced to programming and there fres are exeracilical teacher as uline to easy regarded course and teacher and part in noced about pine socu  comming python for everybody but learning great cutro autely   in this is one can easily dr  chuck    easily using at the material was tried learning to learn this course ductor is friendly  tewart  but manageder whell  this coole c    extreme programming onlidement  good effort\n",
            "\n",
            "Epoch 00087: loss improved from 0.78526 to 0.78485, saving model to /content/gdrive/My Drive/Capstone/Data/\n",
            "Epoch 88/100\n",
            "2362/2362 [==============================] - 31s 13ms/step - loss: 0.7725 - accuracy: 0.7615 - val_loss: 1.0756 - val_accuracy: 0.6991\n",
            "\n",
            "----- Generating text after Epoch: 87\n",
            "----- diversity: 0.2\n",
            "----- Generating with seed: \" for someone who is a beginner   i understood the logic and  made it simple to remember how to progr\"\n",
            " for someone who is a beginner   i understood the logic and  made it simple to remember how to program                                                                                                                                                                                                                                                                                                                                                                                                              \n",
            "----- diversity: 0.5\n",
            "----- Generating with seed: \" for someone who is a beginner   i understood the logic and  made it simple to remember how to progr\"\n",
            " for someone who is a beginner   i understood the logic and  made it simple to remember how to program     i have for a little very easy to follow  i loved it  i was a great course for beginners  the instructor is excellent  thank you    this course is a great course for the beginners    this course is a great teacher  i would like to start        i am so for me  i am very my fairong programming language i have never help you learn to   the course is a good course and to the programming course  \n",
            "----- diversity: 1.0\n",
            "----- Generating with seed: \" for someone who is a beginner   i understood the logic and  made it simple to remember how to progr\"\n",
            " for someone who is a beginner   i understood the logic and  made it simple to remember how to program  computer  it a book with real remeod the desics were even if you have no professor s gleshot the   leted and if it student if you also  chored i wante to it  forme other purso work watcive  of the joute  some of the instructor ever charles is beginning worked in this seems in with i recommend this course for begineral provess in the most building me to the videos or world and also for student \n",
            "----- diversity: 1.2\n",
            "----- Generating with seed: \" for someone who is a beginner   i understood the logic and  made it simple to remember how to progr\"\n",
            " for someone who is a beginner   i understood the logic and  made it simple to remember how to program  this was motivation vor so inclase    an excellent start for awesome for you to chament computing it skally changes for ve concepts like a book from knows this knowledge in a waich and werestse other lune the teaching python dr  charles severance    will give descripents teach   but a dated and people  after each deenered college and lart time in my awin tents lotes  i take read  hech arourk  \n",
            "\n",
            "Epoch 00088: loss improved from 0.78485 to 0.78382, saving model to /content/gdrive/My Drive/Capstone/Data/\n",
            "Epoch 89/100\n",
            "2362/2362 [==============================] - 31s 13ms/step - loss: 0.7705 - accuracy: 0.7625 - val_loss: 1.0785 - val_accuracy: 0.6981\n",
            "\n",
            "----- Generating text after Epoch: 88\n",
            "----- diversity: 0.2\n",
            "----- Generating with seed: \"  we would be glad and you would be glad to see our country  also please please if you visit banglad\"\n",
            "  we would be glad and you would be glad to see our country  also please please if you visit banglade the course in programming  it was a great teacher                                                                                                                                                                                                                                                                                                                                                             \n",
            "----- diversity: 0.5\n",
            "----- Generating with seed: \"  we would be glad and you would be glad to see our country  also please please if you visit banglad\"\n",
            "  we would be glad and you would be glad to see our country  also please please if you visit banglade this course and the concepts with the basics of python    i learnt how the concept  the instructor is also helpful to understand  the course and the instructor       i learned prof  charles s very clear and i was always demore complete this course                i had a great teacher    i am a beginner  i love this course  i had a great teacher  and a great teacher  the instructor is very good c\n",
            "----- diversity: 1.0\n",
            "----- Generating with seed: \"  we would be glad and you would be glad to see our country  also please please if you visit banglad\"\n",
            "  we would be glad and you would be glad to see our country  also please please if you visit banglad  and gets you of everything with python samily  love the course i have comelate quite easy to sectants in the forume to continue well subere mare to upderofjes experience  the instructor is awesomucallable for although it fow basic pot of the course    a great introduction lovic concepts  and at easy to fudul to start tows each desseme the explacates you know what allowged  did not having this cl\n",
            "----- diversity: 1.2\n",
            "----- Generating with seed: \"  we would be glad and you would be glad to see our country  also please please if you visit banglad\"\n",
            "  we would be glad and you would be glad to see our country  also please please if you visit banglade  whatever is a very helps beginners were anformatic leckand and if you have used python easier for further coding  i am no prior baying you study throughwat fields for every different little with ttatery giods in one that dueing through newbah me behind as learners the diduster   the university of matice whily get bored whated part to i d ever basic convices you to be and still course and the te\n",
            "\n",
            "Epoch 00089: loss did not improve from 0.78382\n",
            "Epoch 90/100\n",
            "2362/2362 [==============================] - 31s 13ms/step - loss: 0.7720 - accuracy: 0.7625 - val_loss: 1.0737 - val_accuracy: 0.6994\n",
            "\n",
            "----- Generating text after Epoch: 89\n",
            "----- diversity: 0.2\n",
            "----- Generating with seed: \"  in my language and in a comprehensible language  please carry on and high five to you    alhumduli\"\n",
            "  in my language and in a comprehensible language  please carry on and high five to you    alhumduliar  i have previously enough to complete the course and the instructor is a very comfortable with programming language  i have never help you to the python programming  this is a very good course for beginners  i am so excited to complete this course                                                                                                                                                      \n",
            "----- diversity: 0.5\n",
            "----- Generating with seed: \"  in my language and in a comprehensible language  please carry on and high five to you    alhumduli\"\n",
            "  in my language and in a comprehensible language  please carry on and high five to you    alhumduliar        i had this course     it is a very good course for anyone who is impreve  i am glad the best course for beginners  the professor is a very for many perfect  thanks                                                                                                                                                                                                                                   \n",
            "----- diversity: 1.0\n",
            "----- Generating with seed: \"  in my language and in a comprehensible language  please carry on and high five to you    alhumduli\"\n",
            "  in my language and in a comprehensible language  please carry on and high five to you    alhumduliar  dr chuck   step from seciental python for learning us sigh person and   i plas python    one little and coding  i can to week in terming to wate avely challes made it easy and interesting and test had the students there orghel learning python programming things gives a fee bone to my bring and so much more partuciables of python with mention     this course really absolutely nectrade of styit \n",
            "----- diversity: 1.2\n",
            "----- Generating with seed: \"  in my language and in a comprehensible language  please carry on and high five to you    alhumduli\"\n",
            "  in my language and in a comprehensible language  please carry on and high five to you    alhumduliogaterishing methoo commend and used even more addme who mack some knowledge and professor disit like home of him you he does  thought  i love  it was awesome charles russed use twat into to think over gain you oper  sume  afturing you on slipe would be cover it very highly opportunity to learn  great experience enreging unformaids for the way he make it explained programming in accompcaines and h\n",
            "\n",
            "Epoch 00090: loss improved from 0.78382 to 0.78312, saving model to /content/gdrive/My Drive/Capstone/Data/\n",
            "Epoch 91/100\n",
            "2362/2362 [==============================] - 31s 13ms/step - loss: 0.7680 - accuracy: 0.7625 - val_loss: 1.0779 - val_accuracy: 0.6982\n",
            "\n",
            "----- Generating text after Epoch: 90\n",
            "----- diversity: 0.2\n",
            "----- Generating with seed: \" to review the material in snippets in my day and then review it again and again so that i could com\"\n",
            " to review the material in snippets in my day and then review it again and again so that i could completing the course                                                                                                                                                                                                                                                                                                                                                                                              \n",
            "----- diversity: 0.5\n",
            "----- Generating with seed: \" to review the material in snippets in my day and then review it again and again so that i could com\"\n",
            " to review the material in snippets in my day and then review it again and again so that i could completing the material was an introduction to programming  it     this course is a very good for a lot  off which requires and i was able to follow through the course  the lectures are very clear  i m looking forward to continue to take the course  the course was very helpful for beginners  i was already familiar with all the video  i have ever remating in programming  the way they can start program\n",
            "----- diversity: 1.0\n",
            "----- Generating with seed: \" to review the material in snippets in my day and then review it again and again so that i could com\"\n",
            " to review the material in snippets in my day and then review it again and again so that i could completed my graded and this course for everyond as sole tharking you to understand the course and basic   i enjoyed for the firms style and i have non   every contents in   so so cof examples to get started from his way to take a lot  it is an awesome to take the videos in basics and part teaching  the teachings where you do not about some basic dr  severance is explains throughon aciner  on this co\n",
            "----- diversity: 1.2\n",
            "----- Generating with seed: \" to review the material in snippets in my day and then review it again and again so that i could com\"\n",
            " to review the material in snippets in my day and then review it again and again so that i could comengaget before learned in the thise who is enthusiastic concepts  easy to understand  make your data from you  for every part   textboons werres to understand thry curs for xecourse structure were girsero want to attentirate me what imionged this course  useful and easy vien   very gon and constragem  dr  chuck fell priblers  breked quezs really argunter things interesting even this werking explai\n",
            "\n",
            "Epoch 00091: loss improved from 0.78312 to 0.78239, saving model to /content/gdrive/My Drive/Capstone/Data/\n",
            "Epoch 92/100\n",
            "2362/2362 [==============================] - 32s 13ms/step - loss: 0.7702 - accuracy: 0.7621 - val_loss: 1.0803 - val_accuracy: 0.6986\n",
            "\n",
            "----- Generating text after Epoch: 91\n",
            "----- diversity: 0.2\n",
            "----- Generating with seed: \"structor in this course made all the difference  i appreciated how you have to dig for the answers t\"\n",
            "structor in this course made all the difference  i appreciated how you have to dig for the answers to be a little course                                                                                                                                                                                                                                                                                                                                                                                            \n",
            "----- diversity: 0.5\n",
            "----- Generating with seed: \"structor in this course made all the difference  i appreciated how you have to dig for the answers t\"\n",
            "structor in this course made all the difference  i appreciated how you have to dig for the answers to be able to finish the course     i am a very good class  it was a really good course  the instructor severance is the best programming in programming  it was really great  the instructor is very good  thank you coursera for this course  i am very excited to complete the amazing teaching style i have trinting the videos are very engaging with coursera     it is an excellent course  this course is\n",
            "----- diversity: 1.0\n",
            "----- Generating with seed: \"structor in this course made all the difference  i appreciated how you have to dig for the answers t\"\n",
            "structor in this course made all the difference  i appreciated how you have to dig for the answers to foundational canguaed   weeks for beginners  the quality  designed understandable   dr chunk all  thorougus dr  he easy code use of stuffs approcication made them  very interesting and graded and any   i am very good   good examples  one not having this course    i m now an intro do    iteringing that wruch this course is very sment it too stuck  what is realing the retrour of matic and really n\n",
            "----- diversity: 1.2\n",
            "----- Generating with seed: \"structor in this course made all the difference  i appreciated how you have to dig for the answers t\"\n",
            "structor in this course made all the difference  i appreciated how you have to dig for the answers to unp of the lessons from manies or which languages and easy to do student the one now if you know a onle with me to learn python   my invidentlose   i computer write code down knowledge in c didux python but and those and logically  it was lookingfuaga   it kearn bustent works   it is so glad resemthing the alowon   i am engresh to learn coding     stars no mook gray the course is onty clear and \n",
            "\n",
            "Epoch 00092: loss improved from 0.78239 to 0.78183, saving model to /content/gdrive/My Drive/Capstone/Data/\n",
            "Epoch 93/100\n",
            "2362/2362 [==============================] - 31s 13ms/step - loss: 0.7712 - accuracy: 0.7617 - val_loss: 1.0777 - val_accuracy: 0.6970\n",
            "\n",
            "----- Generating text after Epoch: 92\n",
            "----- diversity: 0.2\n",
            "----- Generating with seed: \"rogramming language and i am a complete neophyte  i really appreciated this course and look forward \"\n",
            "rogramming language and i am a complete neophyte  i really appreciated this course and look forward to go for makes you the course is very good course  i am so excited to learn python                                                                                                                                                                                                                                                                                                                             \n",
            "----- diversity: 0.5\n",
            "----- Generating with seed: \"rogramming language and i am a complete neophyte  i really appreciated this course and look forward \"\n",
            "rogramming language and i am a complete neophyte  i really appreciated this course and look forward to learn        i liked the course is fairly for everybody      i would highly recommend it to everyone  i am excited to communicate levelting as the instructor is very fiel student all the student at i am much coding first time course for me starting this course  the instructor is exceptional part      i will have to understand the course  i am sole to be sore interesting and get in programming l\n",
            "----- diversity: 1.0\n",
            "----- Generating with seed: \"rogramming language and i am a complete neophyte  i really appreciated this course and look forward \"\n",
            "rogramming language and i am a complete neophyte  i really appreciated this course and look forward to curseral    this just thinks to interabting  and classes  to the coopsien in the concepts  an excellent job in learning in a very well    i would like to suck and i had no idea out enroce  charles to genery building at experience i understand   i decidile to useful way   i will also the material is very well  it not wand the course and i look forward to comprre thing it increases times you have\n",
            "----- diversity: 1.2\n",
            "----- Generating with seed: \"rogramming language and i am a complete neophyte  i really appreciated this course and look forward \"\n",
            "rogramming language and i am a complete neophyte  i really appreciated this course and look forward   this is very am so fombtroun   hella morr  i found with the desiross very useful without becafe to a member i sew chings and i want to say he teach you understand this course sava figh to the next concepts on one on challenga part i needems by let is an inver hands great hears and down from an infurting acipic prifoing assignments but was well thon i llow why is the learning experience wishan yo\n",
            "\n",
            "Epoch 00093: loss improved from 0.78183 to 0.78175, saving model to /content/gdrive/My Drive/Capstone/Data/\n",
            "Epoch 94/100\n",
            "2362/2362 [==============================] - 31s 13ms/step - loss: 0.7709 - accuracy: 0.7618 - val_loss: 1.0823 - val_accuracy: 0.6986\n",
            "\n",
            "----- Generating text after Epoch: 93\n",
            "----- diversity: 0.2\n",
            "----- Generating with seed: \"for beginners  thanking professor charles russell severance for coordinating this course  i really l\"\n",
            "for beginners  thanking professor charles russell severance for coordinating this course  i really like the python programming language  i have to use i was a programming language  i am a bit of programming  i am a good introductory course  the instructor is exceptional way that i can think through the course was very helpful  i would recommend this course to anyone who is a great stepping how to a computer course  the instructor is a very free    i am a good introductory course     i am a great\n",
            "----- diversity: 0.5\n",
            "----- Generating with seed: \"for beginners  thanking professor charles russell severance for coordinating this course  i really l\"\n",
            "for beginners  thanking professor charles russell severance for coordinating this course  i really like the course    i really like the course        i am a beginner  i would like to start your of this course is a good for people who have no provid  the materials are my first programming course that instaught course    but in a week to provid  he is as a beginner in general    i started this course     i have had some text  did start and the exercises and i m about the course and the teacher is \n",
            "----- diversity: 1.0\n",
            "----- Generating with seed: \"for beginners  thanking professor charles russell severance for coordinating this course  i really l\"\n",
            "for beginners  thanking professor charles russell severance for coordinating this course  i really liked this course pratund programming and i don t have previous courses and intr diffanksely of expert  with rematsible videos and so furwart way to understand how the basics are in python  the material is manner  one taken python and also helps you to that  he had everybody beginner for charles is the resome provided apation  theo evon thanks scratch explains clearly thank you coursera thank you f\n",
            "----- diversity: 1.2\n",
            "----- Generating with seed: \"for beginners  thanking professor charles russell severance for coordinating this course  i really l\"\n",
            "for beginners  thanking professor charles russell severance for coordinating this course  i really like the way he implenatilating for skilles     courses for want to all through with the great seemed basece or python from famient of making at and instalt programming the pogrer  whute worre starmes my course on only thatkser choken easily  and i think you have not exposed without an are is the lecturer who knowleve you re full get rememso implostant in presented for beginners  and other skills  \n",
            "\n",
            "Epoch 00094: loss improved from 0.78175 to 0.78135, saving model to /content/gdrive/My Drive/Capstone/Data/\n",
            "Epoch 95/100\n",
            "2362/2362 [==============================] - 31s 13ms/step - loss: 0.7687 - accuracy: 0.7616 - val_loss: 1.0838 - val_accuracy: 0.6979\n",
            "\n",
            "----- Generating text after Epoch: 94\n",
            "----- diversity: 0.2\n",
            "----- Generating with seed: \"f to charles  one of the best course instructors who made it all simple and fun to learn  recommend \"\n",
            "f to charles  one of the best course instructors who made it all simple and fun to learn  recommend to easy to understand what the teachers are enrougine  the textbook is very enjoyable and get to know any programming language  the professor is a great tool for people who have no programmer was a great experience with programming                                                                                                                                                                         \n",
            "----- diversity: 0.5\n",
            "----- Generating with seed: \"f to charles  one of the best course instructors who made it all simple and fun to learn  recommend \"\n",
            "f to charles  one of the best course instructors who made it all simple and fun to learn  recommend this course  i will recommend this course to anyone who wants to learn python  the instructor is very good course i was able to go any amazing  it was a great teacher  the instructor is great assignments  i am so grateful to the project see to know good experience in python   i liked the course and explaining thing too  the material is explained to be understanding of the basics of programming  i \n",
            "----- diversity: 1.0\n",
            "----- Generating with seed: \"f to charles  one of the best course instructors who made it all simple and fun to learn  recommend \"\n",
            "f to charles  one of the best course instructors who made it all simple and fun to learn  recommend this course in extrally skills and particilacs    the course has been guidt to so achorment to a very bightant of a bit very before the python is basic programming language in also important  this is a great experience working  basics of programming is pretty graspics  i don t have any knowledge easher that makes the assignments are fact time the vedy  it was now preimithed speed bey pace  good co\n",
            "----- diversity: 1.2\n",
            "----- Generating with seed: \"f to charles  one of the best course instructors who made it all simple and fun to learn  recommend \"\n",
            "f to charles  one of the best course instructors who made it all simple and fun to learn  recommend to everyone to learn basics of python beold ble understand short  this was an easy grasus of broken unevining from many it feel a good scrarte techssove his teaching is so full details looking to like how with approach to teachifus seemingly scoulded weart introduction to python  well  he for those he makes programming foculow who have being as would be more shoringet and understand  i feel like i\n",
            "\n",
            "Epoch 00095: loss did not improve from 0.78135\n",
            "Epoch 96/100\n",
            "2362/2362 [==============================] - 31s 13ms/step - loss: 0.7719 - accuracy: 0.7617 - val_loss: 1.0797 - val_accuracy: 0.6979\n",
            "\n",
            "----- Generating text after Epoch: 95\n",
            "----- diversity: 0.2\n",
            "----- Generating with seed: \"ises because it takes some time getting used to the idea of writing your first bit of code  nonethel\"\n",
            "ises because it takes some time getting used to the idea of writing your first bit of code  nonethelful to get started with python  the instructor is exceptional teachers are very enthusiastic and all the course      i am a bit of coding and the instructor is exceptional teachers are very enthusiastic and the videos are assignments were great course  i am a bit of coding  i am a manner the lectures                                                                                                   \n",
            "----- diversity: 0.5\n",
            "----- Generating with seed: \"ises because it takes some time getting used to the idea of writing your first bit of code  nonethel\"\n",
            "ises because it takes some time getting used to the idea of writing your first bit of code  nonethelful to anybody is a great introduction to python  i would like to start this course  i am a beginner in the solo explained the course of python  i do not have any programming   i would recommend this course to anyone who wants to learn python         i am helpit my university and i can t programming  i m and internet   i enjoyed the course  i have a relative a great teacher   i am a bit of the pyt\n",
            "----- diversity: 1.0\n",
            "----- Generating with seed: \"ises because it takes some time getting used to the idea of writing your first bit of code  nonethel\"\n",
            "ises because it takes some time getting used to the idea of writing your first bit of code  nonethelen the expect the controngs  it is a lot of good specialization thunky orour and get in person   the subject is helpful   i really enjoyed even for suchands the drecourers are we can envorth me the pacelate through with learning to i want to comprehend  i had need it s great jouro exactly except with not just making the instructor where his a great job and sloging about platforms while fact to luc\n",
            "----- diversity: 1.2\n",
            "----- Generating with seed: \"ises because it takes some time getting used to the idea of writing your first bit of code  nonethel\"\n",
            "ises because it takes some time getting used to the idea of writing your first bit of code  nonethelfication  just learn ith integending howlegring and resources in the basics  excellent course and had deliefout as a lots to build and full to xecame jokanuaside for awed in so my doablecturein in  a different  thank you for the gettond  for command of to s al was a great course and programming  this was my first sinds the knowledge about them  i landu awazable and got any part work  it is smack  \n",
            "\n",
            "Epoch 00096: loss improved from 0.78135 to 0.77987, saving model to /content/gdrive/My Drive/Capstone/Data/\n",
            "Epoch 97/100\n",
            "2362/2362 [==============================] - 31s 13ms/step - loss: 0.7737 - accuracy: 0.7617 - val_loss: 1.0782 - val_accuracy: 0.6992\n",
            "\n",
            "----- Generating text after Epoch: 96\n",
            "----- diversity: 0.2\n",
            "----- Generating with seed: \"  tnx   i have been self teaching myself programming for many years  but i have never really special\"\n",
            "  tnx   i have been self teaching myself programming for many years  but i have never really specially i have never help you to programming  i am so full to learn python                                                                                                                                                                                                                                                                                                                                           \n",
            "----- diversity: 0.5\n",
            "----- Generating with seed: \"  tnx   i have been self teaching myself programming for many years  but i have never really special\"\n",
            "  tnx   i have been self teaching myself programming for many years  but i have never really specially was able to complete this course  i loved the course    i loved the course     this is the best online course and last i was an all      this course is really a great tool for a beginner with the concepts provided course would have always teance with the world of programming   i have previous programming courses i have never friendly  i love the course  the instructor is super engaging         \n",
            "----- diversity: 1.0\n",
            "----- Generating with seed: \"  tnx   i have been self teaching myself programming for many years  but i have never really special\"\n",
            "  tnx   i have been self teaching myself programming for many years  but i have never really specials impottinly anawries  i highly like t have a luctuting for what i feal misss yee fortall to anyone work my knows higher such as i and is engage to trsis on coding interested  you want to learn python  but you have been one of the quaster in general and makes you are to  you and sontalls through programming background priot shell  this course is basic and  i structlek demencide  one of the program\n",
            "----- diversity: 1.2\n",
            "----- Generating with seed: \"  tnx   i have been self teaching myself programming for many years  but i have never really special\"\n",
            "  tnx   i have been self teaching myself programming for many years  but i have never really specially by faniart for me  butyone of the basics of the code of easy to understand this course engineer  my mayter with programming anyone who weell  where to be very useful to me university of break i m fflueding that an interesting  assignments teaching procided    his classes back  clar im an on the greates to brief and though an easy to understanding ney   i work python  but all repormence so i am \n",
            "\n",
            "Epoch 00097: loss improved from 0.77987 to 0.77897, saving model to /content/gdrive/My Drive/Capstone/Data/\n",
            "Epoch 98/100\n",
            "2362/2362 [==============================] - 31s 13ms/step - loss: 0.7657 - accuracy: 0.7635 - val_loss: 1.0787 - val_accuracy: 0.6981\n",
            "\n",
            "----- Generating text after Epoch: 97\n",
            "----- diversity: 0.2\n",
            "----- Generating with seed: \"l as informative   i would recommend this to someone who has no coding experience i have some progra\"\n",
            "l as informative   i would recommend this to someone who has no coding experience i have some programming                                                                                                                                                                                                                                                                                                                                                                                                           \n",
            "----- diversity: 0.5\n",
            "----- Generating with seed: \"l as informative   i would recommend this to someone who has no coding experience i have some progra\"\n",
            "l as informative   i would recommend this to someone who has no coding experience i have some programming experience  this course is prefise modes so i did not frien someone who has no formuting this course  the course was a great student it was a great course  i found this course  i have a lot of experience  the course is very good  i will definitely coursera     the professor explains all my first course and the experience        i learn a lot        this course is really great course for ever\n",
            "----- diversity: 1.0\n",
            "----- Generating with seed: \"l as informative   i would recommend this to someone who has no coding experience i have some progra\"\n",
            "l as informative   i would recommend this to someone who has no coding experience i have some programming   it was drinct environment but i learned the course  the book programming  over the precise and i never to help the lagges and accompliced process the same class at python  but if you worts it and how i think   with and like a lot of experience problems thouch more of   which basic programming  he doesn t was enjoying the specialization    thanks upart        hours  or into it as supen  he \n",
            "----- diversity: 1.2\n",
            "----- Generating with seed: \"l as informative   i would recommend this to someone who has no coding experience i have some progra\"\n",
            "l as informative   i would recommend this to someone who has no coding experience i have some programming was absolutely easy to learn  chuck very interviews   he passionally the chaing ever help to help me bock drownong to recommend this course for you  a nice   professor course  it was an excellent biok to clase fact with can use a builating to use this course i am so from lectart  i m abuely tolle t fell know  who don t fielsx my felt part class but for you unifiewalots to enterysten course o\n",
            "\n",
            "Epoch 00098: loss did not improve from 0.77897\n",
            "Epoch 99/100\n",
            "2362/2362 [==============================] - 31s 13ms/step - loss: 0.7673 - accuracy: 0.7631 - val_loss: 1.0829 - val_accuracy: 0.6993\n",
            "\n",
            "----- Generating text after Epoch: 98\n",
            "----- diversity: 0.2\n",
            "----- Generating with seed: \"e    excellent teaching by professor so easy to understand and implement in problem solving very kin\"\n",
            "e    excellent teaching by professor so easy to understand and implement in problem solving very kind of programming                                                                                                                                                                                                                                                                                                                                                                                                \n",
            "----- diversity: 0.5\n",
            "----- Generating with seed: \"e    excellent teaching by professor so easy to understand and implement in problem solving very kin\"\n",
            "e    excellent teaching by professor so easy to understand and implement in problem solving very kind of programming  the teacher  i had teacher  and i am so much for learning python   i did not great the lectures  the assignments are very clear  the teaching style    i would recommend everyone who want to get started with python    excellent course  i look forward to other courses  i was a boring senmed as a while       this is a great teacher  i am suitable pigham i deal wanks to follow and no\n",
            "----- diversity: 1.0\n",
            "----- Generating with seed: \"e    excellent teaching by professor so easy to understand and implement in problem solving very kin\"\n",
            "e    excellent teaching by professor so easy to understand and implement in problem solving very kinch to take for bleor professor charles severance    you many this past of the course are very clear instaugite   the basess where will eagly to learn python     i also like how to mook and notes is studiest with my a few carrer the need the lectures with rualms  very daded to know charles severance  if you have like even though i was able to complete the teaching method where that its really helpf\n",
            "----- diversity: 1.2\n",
            "----- Generating with seed: \"e    excellent teaching by professor so easy to understand and implement in problem solving very kin\"\n",
            "e    excellent teaching by professor so easy to understand and implement in problem solving very kinds for me one sory  great classes in programming and they many of   thank you coursera  the apposting me  it from an assignments  you will jount a let so rundirg  ligily charles russells mr serielf was  because othersighed focumaled to learn python  as i basic words while examples and learning experience   the way of dr  seenem not the python programming language not gets by learn orce to understa\n",
            "\n",
            "Epoch 00099: loss improved from 0.77897 to 0.77840, saving model to /content/gdrive/My Drive/Capstone/Data/\n",
            "Epoch 100/100\n",
            "2362/2362 [==============================] - 31s 13ms/step - loss: 0.7697 - accuracy: 0.7635 - val_loss: 1.0838 - val_accuracy: 0.6976\n",
            "\n",
            "----- Generating text after Epoch: 99\n",
            "----- diversity: 0.2\n",
            "----- Generating with seed: \"mic and industry leaders  because i could learn what is the process to create something new and some\"\n",
            "mic and industry leaders  because i could learn what is the process to create something new and some programming for everybody                                                                                                                                                                                                                                                                                                                                                                                      \n",
            "----- diversity: 0.5\n",
            "----- Generating with seed: \"mic and industry leaders  because i could learn what is the process to create something new and some\"\n",
            "mic and industry leaders  because i could learn what is the process to create something new and some time or someone things are so i have never programmed and the instructor mine computer  the lecturer has tod mr  charles russell severance is the first course thanks to professor charles severance is gless programming in a simple course for you  i feel like i have never use the concepts are very interested in programming  learning problem for a professional but also a great course for beginners  \n",
            "----- diversity: 1.0\n",
            "----- Generating with seed: \"mic and industry leaders  because i could learn what is the process to create something new and some\"\n",
            "mic and industry leaders  because i could learn what is the process to create something new and someone who it relemtis nice and complete for this course is a great course   python is demon the lecturer  very usefure and completely teacher has been a course in a familiar with your first to really taught terms course hecr almestants   thanks for charles made it and educated with the teaching me contents really interested in such as the material imposn than py presented the basics of python and hu\n",
            "----- diversity: 1.2\n",
            "----- Generating with seed: \"mic and industry leaders  because i could learn what is the process to create something new and some\"\n",
            "mic and industry leaders  because i could learn what is the process to create something new and sometimes by dus for everybody  it is informate  make me beginners what i willselt about chuck sisvents well  hally done this cuntingua madera my wonderful stuffsian i the way he samel  allong learnt fuinh to impasishing python is very navagtencien is extremely well    i ve tried to  but shows which do glod  thanks for time and helpful  and helped me approach programming when you they so complicate du\n",
            "\n",
            "Epoch 00100: loss did not improve from 0.77840\n"
          ],
          "name": "stdout"
        }
      ]
    },
    {
      "cell_type": "code",
      "metadata": {
        "id": "-ptq15ArYBcb"
      },
      "source": [
        "# when epoch increases "
      ],
      "execution_count": null,
      "outputs": []
    },
    {
      "cell_type": "code",
      "metadata": {
        "id": "kUfGtuiIYBcb"
      },
      "source": [
        ""
      ],
      "execution_count": null,
      "outputs": []
    },
    {
      "cell_type": "markdown",
      "metadata": {
        "id": "7ASEbkDrYBcb"
      },
      "source": [
        "### 9. evaluating performance of model"
      ]
    },
    {
      "cell_type": "code",
      "metadata": {
        "colab": {
          "base_uri": "https://localhost:8080/"
        },
        "id": "n2LEUqFvdEh8",
        "outputId": "dfdd12e7-bf22-4266-9369-5a6966dab653"
      },
      "source": [
        "print(history.history.keys())"
      ],
      "execution_count": 21,
      "outputs": [
        {
          "output_type": "stream",
          "text": [
            "dict_keys(['loss', 'accuracy', 'val_loss', 'val_accuracy', 'lr'])\n"
          ],
          "name": "stdout"
        }
      ]
    },
    {
      "cell_type": "code",
      "metadata": {
        "colab": {
          "base_uri": "https://localhost:8080/"
        },
        "id": "lMLs-7JyYBcb",
        "outputId": "7d19e732-c688-418a-e6c7-b2c3d06c7cf8"
      },
      "source": [
        "train_Loss, train_Accuracy = model_ckpt.evaluate(X_train, y_train, verbose=2)"
      ],
      "execution_count": 22,
      "outputs": [
        {
          "output_type": "stream",
          "text": [
            "9445/9445 - 31s - loss: 0.7540 - accuracy: 0.7676\n"
          ],
          "name": "stdout"
        }
      ]
    },
    {
      "cell_type": "code",
      "metadata": {
        "colab": {
          "base_uri": "https://localhost:8080/",
          "height": 419
        },
        "id": "3Q2fmTNBYBcc",
        "outputId": "430e1303-c5aa-4dbb-a5f3-8aa4a1d736c9"
      },
      "source": [
        "plt.figure(figsize=(12,6))\n",
        "plt.rcParams['font.size'] = '16'\n",
        "plt.plot(history.history['accuracy'], label='Accuracy', lw=2)\n",
        "plt.xlabel('Count of Epoch')\n",
        "plt.ylabel('Accuracy')\n",
        "plt.title('Accuracy over count of Epochs', fontsize=20)\n",
        "plt.legend();"
      ],
      "execution_count": 35,
      "outputs": [
        {
          "output_type": "display_data",
          "data": {
            "image/png": "[encoded data removed]",
            "text/plain": [
              "<Figure size 864x432 with 1 Axes>"
            ]
          },
          "metadata": {
            "tags": [],
            "needs_background": "light"
          }
        }
      ]
    },
    {
      "cell_type": "code",
      "metadata": {
        "colab": {
          "base_uri": "https://localhost:8080/",
          "height": 437
        },
        "id": "ZftL8Z9oYBcc",
        "outputId": "9124bab7-883c-412f-fcaa-1a23692af7e6"
      },
      "source": [
        "plt.figure(figsize=(12,6))\n",
        "plt.plot(history.history['loss'], lw=2, color='red')\n",
        "plt.xlabel('Count of Epoch')\n",
        "plt.ylabel('loss')\n",
        "plt.title('loss over count of Epochs', fontsize=20)\n",
        "plt.legend();"
      ],
      "execution_count": 34,
      "outputs": [
        {
          "output_type": "stream",
          "text": [
            "No handles with labels found to put in legend.\n"
          ],
          "name": "stderr"
        },
        {
          "output_type": "display_data",
          "data": {
            "image/png": "[encoded data removed]",
            "text/plain": [
              "<Figure size 864x432 with 1 Axes>"
            ]
          },
          "metadata": {
            "tags": [],
            "needs_background": "light"
          }
        }
      ]
    },
    {
      "cell_type": "code",
      "metadata": {
        "colab": {
          "base_uri": "https://localhost:8080/"
        },
        "id": "g4fwjuEOYBcc",
        "outputId": "c9049848-3ae3-4e8c-d6c6-c5359643f43b"
      },
      "source": [
        "test_Loss, test_Accuracy = model_ckpt.evaluate(X_test, y_test, verbose=2)"
      ],
      "execution_count": 25,
      "outputs": [
        {
          "output_type": "stream",
          "text": [
            "3149/3149 - 11s - loss: 1.0838 - accuracy: 0.6976\n"
          ],
          "name": "stdout"
        }
      ]
    },
    {
      "cell_type": "code",
      "metadata": {
        "colab": {
          "base_uri": "https://localhost:8080/",
          "height": 419
        },
        "id": "WRADY3MGYBcc",
        "outputId": "fbff9a94-9559-44d7-92b4-4bb1464d6015"
      },
      "source": [
        "plt.figure(figsize=(12,6))\n",
        "plt.plot(history.history['val_accuracy'], label='Accuracy', lw=2, color='skyblue')\n",
        "plt.xlabel('Count of Epoch')\n",
        "plt.ylabel('Validation Accuracy')\n",
        "plt.title('Validation Accuracy over count of Epochs', fontsize=20)\n",
        "plt.legend();"
      ],
      "execution_count": 33,
      "outputs": [
        {
          "output_type": "display_data",
          "data": {
            "image/png": "[encoded data removed]",
            "text/plain": [
              "<Figure size 864x432 with 1 Axes>"
            ]
          },
          "metadata": {
            "tags": [],
            "needs_background": "light"
          }
        }
      ]
    },
    {
      "cell_type": "code",
      "metadata": {
        "colab": {
          "base_uri": "https://localhost:8080/",
          "height": 419
        },
        "id": "AAFBrBNSYBcc",
        "outputId": "fb1124a6-da97-4909-ab3a-68ada1f35a3c"
      },
      "source": [
        "plt.figure(figsize=(12,6))\n",
        "plt.plot(history.history['val_loss'], lw=2, label='Val_loss', color='orange')\n",
        "plt.xlabel('Count of Epoch')\n",
        "plt.ylabel('Validation loss')\n",
        "plt.title('Validation loss over count of Epochs', fontsize=20)\n",
        "plt.legend();"
      ],
      "execution_count": 32,
      "outputs": [
        {
          "output_type": "display_data",
          "data": {
            "image/png": "[encoded data removed]",
            "text/plain": [
              "<Figure size 864x432 with 1 Axes>"
            ]
          },
          "metadata": {
            "tags": [],
            "needs_background": "light"
          }
        }
      ]
    },
    {
      "cell_type": "code",
      "metadata": {
        "colab": {
          "base_uri": "https://localhost:8080/",
          "height": 419
        },
        "id": "i-hUIZuEYBcc",
        "outputId": "203b7edc-125f-4a7d-ea3e-8b5502891594"
      },
      "source": [
        "### Combine both plots\n",
        "\n",
        "plt.figure(figsize=(12,6))\n",
        "plt.rcParams['font.size'] = '16'\n",
        "plt.plot(history.history['accuracy'], label='Accuracy', lw=2, color='blue')\n",
        "plt.plot(history.history['val_accuracy'], label='val Accuracy', lw=2, color = 'skyblue')\n",
        "plt.xlabel('Count of Epoch')\n",
        "plt.ylabel('Accuracy')\n",
        "plt.title('Accuracy over count of Epochs', fontsize=20)\n",
        "plt.legend();"
      ],
      "execution_count": 31,
      "outputs": [
        {
          "output_type": "display_data",
          "data": {
            "image/png": "[encoded data removed]",
            "text/plain": [
              "<Figure size 864x432 with 1 Axes>"
            ]
          },
          "metadata": {
            "tags": [],
            "needs_background": "light"
          }
        }
      ]
    },
    {
      "cell_type": "code",
      "metadata": {
        "colab": {
          "base_uri": "https://localhost:8080/",
          "height": 437
        },
        "id": "YTIWEy9DYBcd",
        "outputId": "6a47e88c-aa8b-4e92-8338-b83b3bfd4cad"
      },
      "source": [
        "plt.figure(figsize=(12,6))\n",
        "plt.plot(history.history['loss'], lw=2, color='red')\n",
        "plt.plot(history.history['val_loss'], lw=2, color='orange')\n",
        "plt.xlabel('Count of Epoch')\n",
        "plt.ylabel('loss')\n",
        "plt.title('loss over count of Epochs', fontsize=20)\n",
        "plt.legend();"
      ],
      "execution_count": 30,
      "outputs": [
        {
          "output_type": "stream",
          "text": [
            "No handles with labels found to put in legend.\n"
          ],
          "name": "stderr"
        },
        {
          "output_type": "display_data",
          "data": {
            "image/png": "[encoded data removed]",
            "text/plain": [
              "<Figure size 864x432 with 1 Axes>"
            ]
          },
          "metadata": {
            "tags": [],
            "needs_background": "light"
          }
        }
      ]
    },
    {
      "cell_type": "markdown",
      "metadata": {
        "id": "-cnacZpKYBcd"
      },
      "source": [
        "### 10. Loading my pre-trained weights to resume training"
      ]
    },
    {
      "cell_type": "code",
      "metadata": {
        "id": "z6JzP2NyYBcd"
      },
      "source": [
        "# Instantiate my new model\n",
        "model_ckpt2 = create_model()\n",
        "\n",
        "# load the saved weights into my instantiated model\n",
        "#\n",
        "model_ckpt2.load_weights(filepath)"
      ],
      "execution_count": null,
      "outputs": []
    },
    {
      "cell_type": "code",
      "metadata": {
        "id": "G6eOy0TgYBcd"
      },
      "source": [
        "# resume the training\n",
        "\n",
        "model_ckpt2.fit(X_train, y_train, batch_size=128, epochs=5, validation_data =(X_test, y_test),callbacks=callbacks))"
      ],
      "execution_count": null,
      "outputs": []
    },
    {
      "cell_type": "code",
      "metadata": {
        "id": "uJ9KsWYhYBcd"
      },
      "source": [
        "train_Loss, train_Accuracy = model_ckpt2.evaluate(X_train, y_train, verbose=2)"
      ],
      "execution_count": null,
      "outputs": []
    },
    {
      "cell_type": "code",
      "metadata": {
        "id": "HOh20i6eYBcd"
      },
      "source": [
        "test_Loss, test_Accuracy = model_ckpt2.evaluate(X_test, y_test, verbose=2)"
      ],
      "execution_count": null,
      "outputs": []
    },
    {
      "cell_type": "markdown",
      "metadata": {
        "id": "3zkv9Zm6YBcd"
      },
      "source": [
        "### 11.Try generating text using help from keras.io"
      ]
    },
    {
      "cell_type": "code",
      "metadata": {
        "colab": {
          "base_uri": "https://localhost:8080/",
          "height": 131
        },
        "id": "d6K3lzqRYBce",
        "outputId": "c21ef599-5e5d-4507-a467-10382aaf7145"
      },
      "source": [
        "### Functions obtained from keras.io to help te\n",
        "### to help predict the"
      ],
      "execution_count": null,
      "outputs": [
        {
          "output_type": "error",
          "ename": "IndentationError",
          "evalue": "ignored",
          "traceback": [
            "\u001b[0;36m  File \u001b[0;32m\"<ipython-input-46-dec5ee63925c>\"\u001b[0;36m, line \u001b[0;32m2\u001b[0m\n\u001b[0;31m    - to help predict the\u001b[0m\n\u001b[0m    ^\u001b[0m\n\u001b[0;31mIndentationError\u001b[0m\u001b[0;31m:\u001b[0m unexpected indent\n"
          ]
        }
      ]
    },
    {
      "cell_type": "code",
      "metadata": {
        "id": "a0ACLjxUYBce"
      },
      "source": [
        "def sample(preds, temperature=1.0):\n",
        "    # helper function to sample an index from a probability array\n",
        "    preds = np.asarray(preds).astype('float64')\n",
        "    preds = np.log(preds) / temperature\n",
        "    exp_preds = np.exp(preds)\n",
        "    preds = exp_preds / np.sum(exp_preds)\n",
        "    probas = np.random.multinomial(1, preds, 1)\n",
        "    return np.argmax(probas)"
      ],
      "execution_count": null,
      "outputs": []
    },
    {
      "cell_type": "code",
      "metadata": {
        "id": "S7Oi_EvUYBce"
      },
      "source": [
        "\n",
        "def on_epoch_end(epoch, logs):\n",
        "    # Function invoked at end of each epoch. Prints generated text.\n",
        "    print()\n",
        "    print('----- Generating text after Epoch: %d' % epoch)\n",
        "\n",
        "    start_index = random.randint(0, len(text) - maxlen - 1)\n",
        "    for diversity in [0.2, 0.5, 1.0, 1.2]:\n",
        "        print('----- diversity:', diversity)\n",
        "\n",
        "        generated = ''\n",
        "        sentence = text[start_index: start_index + maxlen]\n",
        "        generated += sentence\n",
        "        print('----- Generating with seed: \"' + sentence + '\"')\n",
        "        sys.stdout.write(generated)\n",
        "\n",
        "        for i in range(400):\n",
        "            x_pred = np.zeros((1, maxlen, len(chars)))\n",
        "            for t, char in enumerate(sentence):\n",
        "                x_pred[0, t, char_indices[char]] = 1.\n",
        "\n",
        "            preds = model.predict(x_pred, verbose=0)[0]\n",
        "            next_index = sample(preds, diversity)\n",
        "            next_char = indices_char[next_index]\n",
        "\n",
        "            generated += next_char\n",
        "            sentence = sentence[1:] + next_char\n",
        "\n",
        "            sys.stdout.write(next_char)\n",
        "            sys.stdout.flush()\n",
        "        print()\n",
        "print_callback = LambdaCallback(on_epoch_end=on_epoch_end)"
      ],
      "execution_count": null,
      "outputs": []
    },
    {
      "cell_type": "code",
      "metadata": {
        "id": "AbFdWBnRYBce"
      },
      "source": [
        "def generate_text(length, diversity):\n",
        "    # Get random starting text\n",
        "    start_index = random.randint(0, len(text) - maxlen - 1)\n",
        "    generated = ''\n",
        "    sentence = text[start_index: start_index + maxlen]\n",
        "    generated += sentence\n",
        "    for i in range(length):\n",
        "            x_pred = np.zeros((1, maxlen, len(chars)))\n",
        "            for t, char in enumerate(sentence):\n",
        "                x_pred[0, t, char_indices[char]] = 1.\n",
        "\n",
        "            preds = model_ckpt.predict(x_pred, verbose=0)[0]\n",
        "            next_index = sample(preds, diversity)\n",
        "            next_char = indices_char[next_index]\n",
        "\n",
        "            generated += next_char\n",
        "            sentence = sentence[1:] + next_char\n",
        "    return generated"
      ],
      "execution_count": 36,
      "outputs": []
    },
    {
      "cell_type": "code",
      "metadata": {
        "colab": {
          "base_uri": "https://localhost:8080/"
        },
        "id": "nLSE9rTGYBcf",
        "outputId": "96984c5b-1e25-4463-829a-369963e00996"
      },
      "source": [
        "print(generate_text(500, 0.2))"
      ],
      "execution_count": 37,
      "outputs": [
        {
          "output_type": "stream",
          "text": [
            "enough that this was a very high quality and well designed course  the online lectures are very good  i was able to complete the course is very good are a beginner  i was able to complete the course is very good and i was already absolutely nothing about the course is very easy to learn about python  i am so for all                                                                                                                                                                                                                                                                                           \n"
          ],
          "name": "stdout"
        }
      ]
    },
    {
      "cell_type": "code",
      "metadata": {
        "colab": {
          "base_uri": "https://localhost:8080/"
        },
        "id": "wZkuPj6Kj5FH",
        "outputId": "ee1e8b3c-fad9-4994-8369-6aef527ee4ea"
      },
      "source": [
        "print(generate_text(500, 0.5))"
      ],
      "execution_count": 38,
      "outputs": [
        {
          "output_type": "stream",
          "text": [
            "es a flavor of all the important topics required to start python   the bonus videos were also interesting  it is very easy to complete the course and i liked the nowe different sense  i didn t have any experience working of teaching and it s also interesting  dr  charles severance                                                                                                                                                                                                                                                                                                                               \n"
          ],
          "name": "stdout"
        }
      ]
    },
    {
      "cell_type": "code",
      "metadata": {
        "colab": {
          "base_uri": "https://localhost:8080/"
        },
        "id": "oOnWrHgnim_V",
        "outputId": "ebccfe5b-79ae-4d4e-e1c7-821647a970a4"
      },
      "source": [
        "print(generate_text(500, 1))"
      ],
      "execution_count": 39,
      "outputs": [
        {
          "output_type": "stream",
          "text": [
            "ing intro to programming and python   dr  chuck does a good job of not overwhelming in the first course  i completed the way topis is the bounduse continue comparisd  the videos are gle to the course i will taught it explains the assignment but i will make you are much me the video time i didn t too lecturer charles syseres crasses if you want to start class back  but it along a kind and help to dr charles severance pased and fun to follow the basic modute can clearly underbstand of topic and clear  i was all thank you   to the university of matice and exceptional topiching  i wanted now i wan\n"
          ],
          "name": "stdout"
        }
      ]
    },
    {
      "cell_type": "code",
      "metadata": {
        "colab": {
          "base_uri": "https://localhost:8080/"
        },
        "id": "6GhtUDQYqtqx",
        "outputId": "943b97b6-1d92-4199-b719-a8352adb4c21"
      },
      "source": [
        "print(generate_text(1000, 0.2))"
      ],
      "execution_count": 40,
      "outputs": [
        {
          "output_type": "stream",
          "text": [
            "  it is a good start   el instructor es muy claro y hace las clases amenas  las explicaciones son explanation i have never help you the best course                                                                                                                                                                                                                                                                                                                                                                                                                                                                                                                                                                                                                                                                                                                                                                                                                                                                                                                                                                                         \n"
          ],
          "name": "stdout"
        }
      ]
    },
    {
      "cell_type": "code",
      "metadata": {
        "colab": {
          "base_uri": "https://localhost:8080/"
        },
        "id": "WrkOY8HjkSEh",
        "outputId": "69a44a97-ba3f-4c97-dc0a-3d4df4266cb8"
      },
      "source": [
        "print(generate_text(1000, 0.5))"
      ],
      "execution_count": 41,
      "outputs": [
        {
          "output_type": "stream",
          "text": [
            "elpful  i am planning to finish everything in this   course specialization  and this first course designed experience  i follow the course                                                                                                                                                                                                                                                                                                                                                                                                                                                                                                                                                                                                                                                                                                                                                                                                                                                                                                                                                                                                  \n"
          ],
          "name": "stdout"
        }
      ]
    },
    {
      "cell_type": "code",
      "metadata": {
        "colab": {
          "base_uri": "https://localhost:8080/"
        },
        "id": "cENfLeUvinGa",
        "outputId": "6fc2a572-8da1-4416-df4b-071bb3a2531f"
      },
      "source": [
        "print(generate_text(1000, 1))"
      ],
      "execution_count": 42,
      "outputs": [
        {
          "output_type": "stream",
          "text": [
            "i was brand new to python  the prof did a nice job breaking the material down enough that i could follow thries  i think it s plannte with new precisions  i used pace  but tiok minds on python difficult book who have not interested to learn python and they case remenct to fear in how he can  excellent course for thre work  it is a great clars are lackus to startnd with many sure that you get it easy to fixisher very didection   i am able to know this specialization   i am some like the teacher is the best caree    it is the best perfections of the lagges with a try about programming      also seriller them well as frustle teaches in extrome  might be a specialization and platforms like at fover  i love the profreming fundamental tops are starting abottinlic gained in more confulter learned i fanting to topal be helpful to be dingo foundation or suggestex in an easy to understand  the way then took  this course is didect from the referente lechur i have especial time alreared fun like coursera and the berinne programming for everyone  but this course very happyt  i have commund along \n"
          ],
          "name": "stdout"
        }
      ]
    },
    {
      "cell_type": "code",
      "metadata": {
        "colab": {
          "base_uri": "https://localhost:8080/"
        },
        "id": "pcn4jJTakyIC",
        "outputId": "d433c636-d5e9-4d5b-b428-c4b676186d15"
      },
      "source": [
        "print(generate_text(2000, 1))"
      ],
      "execution_count": 43,
      "outputs": [
        {
          "output_type": "stream",
          "text": [
            "ow nothing about programming this is a nice course to start with  very nice for beginners and dr  chuck was a great course and it isselt with moter amazing with plamerating the way he has been doing the bangago in the classres way if technoled i wit this class  it days  the course was a very spearer  thanks for the prefection of python with python   the course is great for this of programming as a to briloing developing  i also like this course   this opportunity  thank you charles  this course syntax  the lecturer  white lectures in the most important  thank you very much  useful way to be very dayed concepts was nece programming with excellencises on some clarical ant and coursera    excellent course uses uight  which was must books free  he start to c e just python  little classes   great introductory seems like and otherwise per us  many some user took the course important first times like an able to follow that i have done m accurate the teachers part of the introduction und impressed virdwsoring  you want to learn python programming is really somethly knows by myself are already familiar with how the student and content   dr chuck does appece  he can get backgrnung us python data an abattenen for iffincer callere  available then this is the first time thanks to coursera   this is glestor stuffs and instructor  loved the course also introduce special was a programming language  very good course for beginner that i found this course  the lecturer doesn t this blewtony charles severance  is the world   the end this course as a prefech paced overall professor charles  easy  like understanding  i had zerible the course begrance is usefully day    i like it topissoghed course of this course   i learnt fle troll like a try for providing thries were guided for the conversarions opportunity for me  the augrade before the assignments are althyse of what  i like this course  with but programming concepts had it  but if you have never kelengatice or great opportunity to learn about concempl areses in learning python   i m very goidally and like a clear and thanks to cha\n"
          ],
          "name": "stdout"
        }
      ]
    },
    {
      "cell_type": "code",
      "metadata": {
        "id": "dYZXgRXArqFi"
      },
      "source": [
        "generated1 = generate_text(1000, 1)"
      ],
      "execution_count": 44,
      "outputs": []
    },
    {
      "cell_type": "code",
      "metadata": {
        "id": "49km-LShrQ2v"
      },
      "source": [
        "from textblob import TextBlob"
      ],
      "execution_count": 45,
      "outputs": []
    },
    {
      "cell_type": "code",
      "metadata": {
        "colab": {
          "base_uri": "https://localhost:8080/"
        },
        "id": "Tg9vrivVrlN9",
        "outputId": "7764e806-01b6-4caf-8559-90bb43d3e7bb"
      },
      "source": [
        "b = TextBlob(generated1)\n",
        "b.correct()"
      ],
      "execution_count": 46,
      "outputs": [
        {
          "output_type": "execute_result",
          "data": {
            "text/plain": [
              "TextBlob(\"ly  the way professor chuck delivered the concept of patron from scratch helped me to do coming and high becoming specialist professor  this course passion canst spacefullicate video are so   i recommend it to programming with patron  learning studying to the end  giving a smile or truly  this was an awesome  if you re completely was a very table  the basic stall start  i may tone concise     it s a very good study  the course charles is easy to take other plastic in any  i would recommend it to access this introductory course   and also a man and get break for begranees without a material in this    and at all  beside the teachers are such a allowneve begun you sayntand especial this course amazing only courses i am convertible  i will series of labor  not through the specifically the video  it has reaches and this is right  and i was already learned high  it was a please knowledjems to enrollitanes that complete course tools with learning of patron  learned prince  so face to continue with them    pus decareeditemp well and also good  i feel read course learning and full\")"
            ]
          },
          "metadata": {
            "tags": []
          },
          "execution_count": 46
        }
      ]
    },
    {
      "cell_type": "code",
      "metadata": {
        "colab": {
          "base_uri": "https://localhost:8080/"
        },
        "id": "YSPIoR8dlPam",
        "outputId": "46799937-e746-437a-bd50-3df4ca96a611"
      },
      "source": [
        "generated2 = generate_text(2000, 1)\n",
        "\n",
        "b2 = TextBlob(generated2)\n",
        "b2.correct()"
      ],
      "execution_count": 47,
      "outputs": [
        {
          "output_type": "execute_result",
          "data": {
            "text/plain": [
              "TextBlob(\"his course so much am willing to take all the course taught by dr chuck    so far i ve enjoyed it   the video sections material is example    love you all a bully about the many former like the treatment the video conversical from to program and understanding their gives definition of patron   loved classever s become by dr charles severance  i have previously easy to understand   i also like s interitime and is this structures that was a background to this  best teaching to get into patron with patron  the related to the text part     this cutting no faced for me  as personally to teach meaning of programming course i m very clear  mr chuck i well reactive able to follow the course which made it encouragement you don t give sure to only truly from the were  i was animation environmental  that s great class sincefilicily  for help so you can learn from background in as easy  so even for a beginner language also at all your begin made me beginners with it will step to patron and professor really master  by to the very basis first basic concepts of my first time or from our prior gaining start to my way of experience self  but you seeing to some more id the course  thanks to mr  reverence knows along in the field fundamentals  the assignment are precise and professor chuck is passion   makes this course  dr  chuck instructor is my first course is wonderful course to patron  the professor is byntalfon in the lecturer    at lecturer  i learn  course easier and much easier  but new this day    i learn impriare  concepts are did not his might  the opportunity  i always enjoyed every platform  i river those relevant course i was already part and clearly  the pronack of online no coming as and scroploisy  useful and well explained the practice job opproare i didn t move   exceptional needing for successful to start to start the pace  and well structures and problem starts i recommend it to fee beginners with programming   team from the instructor    very good checking the course computer science for years very undergational recourse a little  this was\")"
            ]
          },
          "metadata": {
            "tags": []
          },
          "execution_count": 47
        }
      ]
    },
    {
      "cell_type": "code",
      "metadata": {
        "id": "2LkAXW7Bl7kC"
      },
      "source": [
        ""
      ],
      "execution_count": null,
      "outputs": []
    },
    {
      "cell_type": "code",
      "metadata": {
        "colab": {
          "base_uri": "https://localhost:8080/",
          "height": 339
        },
        "id": "ntOLSajbrlKh",
        "outputId": "1fd11cfd-1ccd-4ca8-e54b-e9efde4b603a"
      },
      "source": [
        "from autocorrect import Speller\n",
        "check = Speller(lang='en')\n",
        "check(generated1)"
      ],
      "execution_count": null,
      "outputs": [
        {
          "output_type": "error",
          "ename": "ModuleNotFoundError",
          "evalue": "ignored",
          "traceback": [
            "\u001b[0;31m---------------------------------------------------------------------------\u001b[0m",
            "\u001b[0;31mModuleNotFoundError\u001b[0m                       Traceback (most recent call last)",
            "\u001b[0;32m<ipython-input-41-a05eeeb340aa>\u001b[0m in \u001b[0;36m<module>\u001b[0;34m()\u001b[0m\n\u001b[0;32m----> 1\u001b[0;31m \u001b[0;32mfrom\u001b[0m \u001b[0mautocorrect\u001b[0m \u001b[0;32mimport\u001b[0m \u001b[0mSpeller\u001b[0m\u001b[0;34m\u001b[0m\u001b[0;34m\u001b[0m\u001b[0m\n\u001b[0m\u001b[1;32m      2\u001b[0m \u001b[0mcheck\u001b[0m \u001b[0;34m=\u001b[0m \u001b[0mSpeller\u001b[0m\u001b[0;34m(\u001b[0m\u001b[0mlang\u001b[0m\u001b[0;34m=\u001b[0m\u001b[0;34m'en'\u001b[0m\u001b[0;34m)\u001b[0m\u001b[0;34m\u001b[0m\u001b[0;34m\u001b[0m\u001b[0m\n\u001b[1;32m      3\u001b[0m \u001b[0mcheck\u001b[0m\u001b[0;34m(\u001b[0m\u001b[0mgenerated1\u001b[0m\u001b[0;34m)\u001b[0m\u001b[0;34m\u001b[0m\u001b[0;34m\u001b[0m\u001b[0m\n",
            "\u001b[0;31mModuleNotFoundError\u001b[0m: No module named 'autocorrect'",
            "",
            "\u001b[0;31m---------------------------------------------------------------------------\u001b[0;32m\nNOTE: If your import is failing due to a missing package, you can\nmanually install dependencies using either !pip or !apt.\n\nTo view examples of installing some common dependencies, click the\n\"Open Examples\" button below.\n\u001b[0;31m---------------------------------------------------------------------------\u001b[0m\n"
          ]
        }
      ]
    },
    {
      "cell_type": "code",
      "metadata": {
        "id": "CeewXfJ6rlEQ"
      },
      "source": [
        ""
      ],
      "execution_count": null,
      "outputs": []
    },
    {
      "cell_type": "markdown",
      "metadata": {
        "id": "oB3P3cpRH8jt"
      },
      "source": [
        ""
      ]
    }
  ]
}