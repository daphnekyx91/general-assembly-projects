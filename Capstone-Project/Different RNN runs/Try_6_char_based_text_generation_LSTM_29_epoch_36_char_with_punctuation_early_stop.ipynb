{
 "cells": [
  {
   "cell_type": "markdown",
   "metadata": {
    "id": "_U3UXcUglDqE"
   },
   "source": [
    "# Text Generation using Recurrent Neural Network"
   ]
  },
  {
   "cell_type": "markdown",
   "metadata": {
    "id": "J3bbjzTHYBcN"
   },
   "source": [
    "### Content\n",
    "- [1. Mounting the google drive to google colab](#1.-Mounting-the-google-drive-to-google-colab)\n",
    "- [2. Standard Imports for Recurrent Neural Networks](#2.-Standard-Imports-for-Recurrent-Neural-Networks)\n",
    "- [3. Loading the txt file that is used for RNN](#3.-Loading-the-txt-file-that-is-used-for-RNN)\n",
    "- [4. Exploring text dataset](#4.-Exploring-text-dataset)\n",
    "- [5. Numerical encode the sentences and features](#5.-Numerical-encode-the-sentences-and-features)\n",
    "- [6. train-test-split X and y](#6.-train-test-split-X-and-y)\n",
    "- [7. Create RNN model](#7.-Create-RNN-model)\n",
    "- [8. Creating ModelCheckpoint and callback requirements](#8.-Creating-ModelCheckpoint-and-callback-requirements)\n",
    "- [9.Training my RNN model](#9.Training-my-RNN-model)\n",
    "- [10. evaluating performance of model](#10.-evaluating-performance-of-model)\n",
    "  - [10.1 Training Accuracy & Loss](#10.1-Training-Accuracy-&-Loss)\n",
    "  - [10.2 Testing Accuracy & Loss](#10.2-Testing-Accuracy-&-Loss)\n",
    "  - [10.3 Plotting train and test together](#10.3-Plotting-train-and-test-together)\n",
    "- [11. Loading my pre-trained weights to resume training](#11.-Loading-my-pre-trained-weights-to-resume-training)\n",
    "- [12.Try generating text using help from keras.io](#12.Try-generating-text-using-help-from-keras.io)\n",
    "- [13. Try correct spelling of generating text using TextBlob](#13.-Try-correct-spelling-of-generating-text-using-TextBlob)\n",
    "- [14. Evaluation with other model runs & Conclusion](#14.-Evalulation-with-other-model-runs-&-Conclusion)"
   ]
  },
  {
   "cell_type": "markdown",
   "metadata": {
    "id": "gt0Nk6IcYBcT"
   },
   "source": [
    "### 1.  Mounting the google drive to google colab"
   ]
  },
  {
   "cell_type": "code",
   "execution_count": 1,
   "metadata": {
    "colab": {
     "base_uri": "https://localhost:8080/"
    },
    "id": "BBpKtYn3YBcU",
    "outputId": "d50d2570-ee70-4c80-c466-95542fc0ba61"
   },
   "outputs": [
    {
     "name": "stdout",
     "output_type": "stream",
     "text": [
      "Mounted at /content/gdrive\n"
     ]
    }
   ],
   "source": [
    "# mounting the my googledrive to google.colab\n",
    "# this is needed to save my weights, Neural Network model while it is running\n",
    "# the model, weights can be accessed at a later time if google colab disconnects\n",
    "\n",
    "from google.colab import drive\n",
    "drive.mount('/content/gdrive')"
   ]
  },
  {
   "cell_type": "markdown",
   "metadata": {
    "id": "-qoa-MVbYBcU"
   },
   "source": [
    "### 2. Standard Imports for Recurrent Neural Networks"
   ]
  },
  {
   "cell_type": "code",
   "execution_count": 3,
   "metadata": {
    "id": "uAHzBz3EYBcV"
   },
   "outputs": [],
   "source": [
    "from __future__ import print_function\n",
    "\n",
    "# For preprocessing the text into integer(ids)\n",
    "# For plotting the accuracy and loss curve\n",
    "import numpy as np\n",
    "import matplotlib.pyplot as plt\n",
    "%matplotlib inline\n",
    "\n",
    "# regular expression to proprocess raw_text\n",
    "import regex as re\n",
    "\n",
    "# To instantiate Recurrent Neural Networks\n",
    "from keras.models import Sequential\n",
    "# My model will be dense with all the nodes to 'touch'\n",
    "from keras.layers import Dense, Activation\n",
    "# LSTM, GRU\n",
    "from keras.layers import LSTM, GRU\n",
    "# plot model architecture\n",
    "#from .keras.utils import plot_model\n",
    "\n",
    "# to create a callback, this will be a checkpoint\n",
    "from keras.callbacks import LambdaCallback, EarlyStopping\n",
    "\n",
    "# need to create a random seed to create a text, so the model will learn the sequence\n",
    "import random\n",
    "import sys\n",
    "import io"
   ]
  },
  {
   "cell_type": "markdown",
   "metadata": {
    "id": "0bCMNSlUYBcV"
   },
   "source": [
    "### 3. Loading the txt file that is used for RNN"
   ]
  },
  {
   "cell_type": "markdown",
   "metadata": {
    "id": "Hx1nVSB0lDqN"
   },
   "source": [
    "- rating 5.0 `reviews` for 'Python for Everybody' course from Coursera is converted to text format\n",
    "- it is preprocessed to remove url links, emoji. alphabets, spacing and necessary punctuations remains."
   ]
  },
  {
   "cell_type": "code",
   "execution_count": 4,
   "metadata": {
    "id": "kytGHnmzYBcW"
   },
   "outputs": [],
   "source": [
    "# cd to pull my txt file from my google drive into google colab\n",
    "#%cd /content/gdrive/My Drive/Capstone/Data/\n",
    "\n",
    "# filename called 'out.txt'\n",
    "filename = \"rnn_text.txt\"\n",
    "\n",
    "# extract the raw text\n",
    "raw_text = open(filename, 'r', encoding='utf-8').read()\n",
    "\n",
    "\n",
    "# lowercase my text\n",
    "data = raw_text.lower()\n",
    "# remove url links\n",
    "data = re.sub(r'\\w+:\\/{2}[\\d\\w-]+(\\.[\\d\\w-]+)*(?:(?:\\/[^\\s/]*))*', '',data)\n",
    "# keep punctuations this time\n",
    "data = re.sub(\"[^a-zA-Z.,?!'\\\";:-]\", \" \", data)\n",
    "# strip to remove empty spaces before beginning and end of string\n",
    "data = data.strip()"
   ]
  },
  {
   "cell_type": "markdown",
   "metadata": {
    "id": "IAGJl1VyYBcW"
   },
   "source": [
    "### 4. Exploring text dataset"
   ]
  },
  {
   "cell_type": "markdown",
   "metadata": {
    "id": "gboa7HwFlDqO"
   },
   "source": [
    "- there are a total of 36 characters which includes spacing, alphabets and necessary punctuations\n",
    "- these unique characters are mapped to numerical values & vice-versa.\n",
    "- the numerical values are then mapped into np.zeros array for feeding into the RNN model\n",
    "- the output will be predicted np.zeros array which will be mapped back to numerical values and back to characters"
   ]
  },
  {
   "cell_type": "code",
   "execution_count": 5,
   "metadata": {
    "colab": {
     "base_uri": "https://localhost:8080/"
    },
    "id": "UO2Vu0a5YBcW",
    "outputId": "4ab827de-a553-4677-9d8c-5bce9b2cc191"
   },
   "outputs": [
    {
     "name": "stdout",
     "output_type": "stream",
     "text": [
      "total chars:  36\n"
     ]
    }
   ],
   "source": [
    "# set - find a list of specific characters \n",
    "# list - to convert characters into a list\n",
    "# sorted - to sort list into alphabetical order\n",
    "chars = sorted(list(set(data)))\n",
    "\n",
    "# count of total characters\n",
    "print('total chars: ', len(chars))"
   ]
  },
  {
   "cell_type": "code",
   "execution_count": 6,
   "metadata": {
    "colab": {
     "base_uri": "https://localhost:8080/"
    },
    "id": "02sYdZzGYBcW",
    "outputId": "b11db515-701d-4079-9479-2e012608d1df"
   },
   "outputs": [
    {
     "data": {
      "text/plain": [
       "{' ': 0,\n",
       " '!': 1,\n",
       " '\"': 2,\n",
       " \"'\": 3,\n",
       " ',': 4,\n",
       " '-': 5,\n",
       " '.': 6,\n",
       " ':': 7,\n",
       " ';': 8,\n",
       " '?': 9,\n",
       " 'a': 10,\n",
       " 'b': 11,\n",
       " 'c': 12,\n",
       " 'd': 13,\n",
       " 'e': 14,\n",
       " 'f': 15,\n",
       " 'g': 16,\n",
       " 'h': 17,\n",
       " 'i': 18,\n",
       " 'j': 19,\n",
       " 'k': 20,\n",
       " 'l': 21,\n",
       " 'm': 22,\n",
       " 'n': 23,\n",
       " 'o': 24,\n",
       " 'p': 25,\n",
       " 'q': 26,\n",
       " 'r': 27,\n",
       " 's': 28,\n",
       " 't': 29,\n",
       " 'u': 30,\n",
       " 'v': 31,\n",
       " 'w': 32,\n",
       " 'x': 33,\n",
       " 'y': 34,\n",
       " 'z': 35}"
      ]
     },
     "execution_count": 6,
     "metadata": {
      "tags": []
     },
     "output_type": "execute_result"
    }
   ],
   "source": [
    "# mapping the characters to numerical values & vice versa\n",
    "# this will be crucial for feeding into our RNN model\n",
    "# and required to map the predicted numerical values back to their corresponding characters\n",
    "\n",
    "char_indices = dict((c, i) for i, c in enumerate(chars))\n",
    "\n",
    "# noted that in this list of character mapping, there is no 'z' in text\n",
    "# noted that ' ' white space is counted as a character\n",
    "char_indices"
   ]
  },
  {
   "cell_type": "code",
   "execution_count": 7,
   "metadata": {
    "colab": {
     "base_uri": "https://localhost:8080/"
    },
    "id": "Nk-1WoOYYBcX",
    "outputId": "06198637-bea2-4029-9082-1a418e7c32fd"
   },
   "outputs": [
    {
     "data": {
      "text/plain": [
       "{0: ' ',\n",
       " 1: '!',\n",
       " 2: '\"',\n",
       " 3: \"'\",\n",
       " 4: ',',\n",
       " 5: '-',\n",
       " 6: '.',\n",
       " 7: ':',\n",
       " 8: ';',\n",
       " 9: '?',\n",
       " 10: 'a',\n",
       " 11: 'b',\n",
       " 12: 'c',\n",
       " 13: 'd',\n",
       " 14: 'e',\n",
       " 15: 'f',\n",
       " 16: 'g',\n",
       " 17: 'h',\n",
       " 18: 'i',\n",
       " 19: 'j',\n",
       " 20: 'k',\n",
       " 21: 'l',\n",
       " 22: 'm',\n",
       " 23: 'n',\n",
       " 24: 'o',\n",
       " 25: 'p',\n",
       " 26: 'q',\n",
       " 27: 'r',\n",
       " 28: 's',\n",
       " 29: 't',\n",
       " 30: 'u',\n",
       " 31: 'v',\n",
       " 32: 'w',\n",
       " 33: 'x',\n",
       " 34: 'y',\n",
       " 35: 'z'}"
      ]
     },
     "execution_count": 7,
     "metadata": {
      "tags": []
     },
     "output_type": "execute_result"
    }
   ],
   "source": [
    "# this will be used from mapping numerical values back to characters\n",
    "indices_char = dict((i, c) for i, c in enumerate(chars))\n",
    "\n",
    "indices_char"
   ]
  },
  {
   "cell_type": "markdown",
   "metadata": {
    "id": "n2PqKRRWYBcX"
   },
   "source": [
    "### 5. Numerical encode the sentences and features"
   ]
  },
  {
   "cell_type": "markdown",
   "metadata": {
    "id": "zIG6n0gUlDqQ"
   },
   "source": [
    "- the numerical mapping will be encoded using np.zeros\n",
    "- maxlen=100, means the text input into the RNN model will be 100 characters long"
   ]
  },
  {
   "cell_type": "code",
   "execution_count": 8,
   "metadata": {
    "colab": {
     "base_uri": "https://localhost:8080/"
    },
    "id": "6t-15OTOCRL-",
    "outputId": "68ed6400-4b99-4aa9-ac9a-7b76ab6820e6"
   },
   "outputs": [
    {
     "data": {
      "text/plain": [
       "1208987"
      ]
     },
     "execution_count": 8,
     "metadata": {
      "tags": []
     },
     "output_type": "execute_result"
    }
   ],
   "source": [
    "len(data)"
   ]
  },
  {
   "cell_type": "code",
   "execution_count": 9,
   "metadata": {
    "id": "-6T91YIxY88-"
   },
   "outputs": [],
   "source": [
    "text = data"
   ]
  },
  {
   "cell_type": "code",
   "execution_count": 10,
   "metadata": {
    "colab": {
     "base_uri": "https://localhost:8080/"
    },
    "id": "NFg7fOL6YBcX",
    "outputId": "59370397-b931-4db4-a24e-592896c2aa82"
   },
   "outputs": [
    {
     "name": "stdout",
     "output_type": "stream",
     "text": [
      "nb sequences: 402963\n"
     ]
    }
   ],
   "source": [
    "maxlen = 100\n",
    "step = 3\n",
    "sentences = []\n",
    "next_chars = []\n",
    "for i in range(0, len(text) - maxlen, step):\n",
    "    sentences.append(text[i: i + maxlen])\n",
    "    next_chars.append(text[i + maxlen])\n",
    "print('nb sequences:', len(sentences))"
   ]
  },
  {
   "cell_type": "code",
   "execution_count": 11,
   "metadata": {
    "colab": {
     "base_uri": "https://localhost:8080/"
    },
    "id": "m8zb6OtvYBcX",
    "outputId": "a6399487-4a66-4635-97c6-12aea6062471"
   },
   "outputs": [
    {
     "name": "stdout",
     "output_type": "stream",
     "text": [
      "['just auditing this course helped me a lot in learning this language programming. attentive save the ', 't auditing this course helped me a lot in learning this language programming. attentive save the mon', 'uditing this course helped me a lot in learning this language programming. attentive save the money ', 'ting this course helped me a lot in learning this language programming. attentive save the money i w', 'g this course helped me a lot in learning this language programming. attentive save the money i will']\n",
      "['m', 'e', 'i', 'i', ' ']\n"
     ]
    }
   ],
   "source": [
    "print(sentences[:5])\n",
    "print(next_chars[:5])"
   ]
  },
  {
   "cell_type": "code",
   "execution_count": 12,
   "metadata": {
    "colab": {
     "base_uri": "https://localhost:8080/"
    },
    "id": "7JhnfOy1YBcY",
    "outputId": "e5984c07-f9fb-45fb-ef5a-337e19592ce9"
   },
   "outputs": [
    {
     "data": {
      "text/plain": [
       "1208987"
      ]
     },
     "execution_count": 12,
     "metadata": {
      "tags": []
     },
     "output_type": "execute_result"
    }
   ],
   "source": [
    "len(text)"
   ]
  },
  {
   "cell_type": "code",
   "execution_count": 13,
   "metadata": {
    "id": "7cYHDMLGYBcY"
   },
   "outputs": [],
   "source": [
    "X = np.zeros((len(sentences), maxlen, len(chars)), dtype=np.bool)\n",
    "y = np.zeros((len(sentences), len(chars)), dtype=np.bool)\n",
    "for i, sentence in enumerate(sentences):\n",
    "    for t, char in enumerate(sentence):\n",
    "        X[i, t, char_indices[char]] = 1\n",
    "    y[i, char_indices[next_chars[i]]] = 1"
   ]
  },
  {
   "cell_type": "markdown",
   "metadata": {
    "id": "urd9WIZolDqR"
   },
   "source": [
    "### 6. train-test-split X and y"
   ]
  },
  {
   "cell_type": "markdown",
   "metadata": {
    "id": "xNlMlXthlDqS"
   },
   "source": [
    "X and y are split into train and test sets, **shuffle=False** is used as reviews are written in a sequence"
   ]
  },
  {
   "cell_type": "code",
   "execution_count": 14,
   "metadata": {
    "id": "0It5TQIeYBcY"
   },
   "outputs": [],
   "source": [
    "from sklearn.model_selection import train_test_split\n",
    "X_train, X_test, y_train, y_test = train_test_split(X, y,  random_state=42, shuffle=False)"
   ]
  },
  {
   "cell_type": "markdown",
   "metadata": {
    "id": "E4z78W_4YBcY"
   },
   "source": [
    "### 7. Create RNN model\n",
    "\n",
    "model is created as a function for saving checkpoints in the future referenced from [source](https://towardsdatascience.com/checkpointing-deep-learning-models-in-keras-a652570b8de6)\n",
    "- model is instantiated with: \n",
    "  - Sequential(), \n",
    "  - then added in a LSTM layer batches of 128, input shape=(100, 36)\n",
    "  - then added a Dense layer with 36 characters which the RNN is trying to predict\n",
    "  - then a final Activation 'softmax' as the is a multi-class classification/prediction\n",
    "  \n",
    "- model is compiled with:\n",
    "  - loss = 'categorical_crossentropy' as it is multi-class classification\n",
    "  - optimizer='adam' which is standard\n",
    "  - metrics=['accuracy'] for classification"
   ]
  },
  {
   "cell_type": "code",
   "execution_count": 15,
   "metadata": {
    "id": "5lOh0gSxYBcY"
   },
   "outputs": [],
   "source": [
    "# Define the model architecture \n",
    "\n",
    "def create_model():\n",
    "    #instantial\n",
    "    model = Sequential()\n",
    "    model.add(LSTM(128, input_shape=(maxlen, len(chars))))\n",
    "    model.add(Dense(len(chars)))\n",
    "    model.add(Activation('softmax'))\n",
    "    \n",
    "    # Compiling the model\n",
    "    # as my model are one-hot encoded, i will use categorical_crossentropy\n",
    "    model.compile(loss='categorical_crossentropy',\n",
    "             optimizer='adam',\n",
    "             metrics=['accuracy'])\n",
    "    \n",
    "    return model\n",
    "\n",
    "#create the model\n",
    "model_ckpt= create_model()"
   ]
  },
  {
   "cell_type": "code",
   "execution_count": 16,
   "metadata": {
    "colab": {
     "base_uri": "https://localhost:8080/"
    },
    "id": "n7HgXPRcYBcZ",
    "outputId": "9e159e3c-e525-46cf-ca08-d64153c9253a"
   },
   "outputs": [
    {
     "name": "stdout",
     "output_type": "stream",
     "text": [
      "Model: \"sequential\"\n",
      "_________________________________________________________________\n",
      "Layer (type)                 Output Shape              Param #   \n",
      "=================================================================\n",
      "lstm (LSTM)                  (None, 128)               84480     \n",
      "_________________________________________________________________\n",
      "dense (Dense)                (None, 36)                4644      \n",
      "_________________________________________________________________\n",
      "activation (Activation)      (None, 36)                0         \n",
      "=================================================================\n",
      "Total params: 89,124\n",
      "Trainable params: 89,124\n",
      "Non-trainable params: 0\n",
      "_________________________________________________________________\n"
     ]
    }
   ],
   "source": [
    "model_ckpt.summary()"
   ]
  },
  {
   "cell_type": "code",
   "execution_count": null,
   "metadata": {
    "id": "uNx0IXONlDqT",
    "outputId": "877dc19a-d219-476a-ac7c-05914eb66158"
   },
   "outputs": [
    {
     "data": {
      "image/png": "[encoded data removed]",
      "text/plain": [
       "<IPython.core.display.Image object>"
      ]
     },
     "execution_count": 10,
     "metadata": {
      "tags": []
     },
     "output_type": "execute_result"
    }
   ],
   "source": [
    "from IPython.display import Image\n",
    "Image(filename='model topology.png')"
   ]
  },
  {
   "cell_type": "markdown",
   "metadata": {
    "id": "W0CLSREbYBcZ"
   },
   "source": [
    "### 8. Creating my ModelCheckpoint and callback requirements"
   ]
  },
  {
   "cell_type": "markdown",
   "metadata": {
    "id": "otJpN0zilDqT"
   },
   "source": [
    "- checkpoint path to save weights and best model if disconnection occurs while fitting"
   ]
  },
  {
   "cell_type": "code",
   "execution_count": 17,
   "metadata": {
    "id": "MHtyQNWwYBcZ"
   },
   "outputs": [],
   "source": [
    "from keras.callbacks import ModelCheckpoint\n",
    "\n",
    "# specifying where my checkpoint files will be stored\n",
    "filepath = \"/content/gdrive/My Drive/Capstone/Data/\"\n",
    "\n",
    "# this ModelCheckpoint save weights and save the best model as it runs\n",
    "checkpoint = ModelCheckpoint(filepath, monitor='loss',\n",
    "                             save_weights_only=True, save_best_only=True,\n",
    "                             mode='min',verbose=1 )"
   ]
  },
  {
   "cell_type": "markdown",
   "metadata": {
    "id": "vFzUEesflDqT"
   },
   "source": [
    "- ReduceLROnPlateau: Reduce learning rate when a metric has stopped improving.\n",
    "    [source](https://keras.io/api/callbacks/reduce_lr_on_plateau/)"
   ]
  },
  {
   "cell_type": "code",
   "execution_count": 18,
   "metadata": {
    "id": "cYhAn8OYYBcZ"
   },
   "outputs": [],
   "source": [
    "from keras.callbacks import ReduceLROnPlateau\n",
    "reduce_lr = ReduceLROnPlateau(monitor='loss', factor=0.2,\n",
    "                              patience=1, min_lr=0.001)"
   ]
  },
  {
   "cell_type": "code",
   "execution_count": 19,
   "metadata": {
    "id": "HXQVUScfmF6f"
   },
   "outputs": [],
   "source": [
    "es = EarlyStopping(monitor='val_loss', patience=10)"
   ]
  },
  {
   "cell_type": "markdown",
   "metadata": {
    "id": "iJgJccDWlDqU"
   },
   "source": [
    "- adjust the temperature parameter to generate more or less random predictions when trying to generate text[source](https://www.tensorflow.org/tutorials/text/text_generation)\n",
    "- when temperature =1, means the samples produced will be more diverse\n"
   ]
  },
  {
   "cell_type": "code",
   "execution_count": 20,
   "metadata": {
    "id": "ixHRPsWvYBca"
   },
   "outputs": [],
   "source": [
    "def sample(preds, temperature=1.0):\n",
    "    # helper function to sample an index from a probability array\n",
    "    preds = np.asarray(preds).astype('float64')\n",
    "    preds = np.log(preds) / temperature\n",
    "    exp_preds = np.exp(preds)\n",
    "    preds = exp_preds / np.sum(exp_preds)\n",
    "    probas = np.random.multinomial(1, preds, 1)\n",
    "    return np.argmax(probas)"
   ]
  },
  {
   "cell_type": "markdown",
   "metadata": {
    "id": "BTOnlej2lDqU"
   },
   "source": [
    "- the function generates text after each epoch, so we can monitor the progress of the model by the semantics of the text generated"
   ]
  },
  {
   "cell_type": "code",
   "execution_count": 21,
   "metadata": {
    "id": "lHXesDLaYBca"
   },
   "outputs": [],
   "source": [
    "def on_epoch_end(epoch, logs):\n",
    "    # Function invoked at end of each epoch. Prints generated text.\n",
    "    print()\n",
    "    print('----- Generating text after Epoch: %d' % epoch)\n",
    "\n",
    "    start_index = random.randint(0, len(text) - maxlen - 1)\n",
    "    for diversity in [0.2, 0.5, 1.0, 1.2]:\n",
    "        print('----- diversity:', diversity)\n",
    "\n",
    "        generated = ''\n",
    "        sentence = text[start_index: start_index + maxlen]\n",
    "        generated += sentence\n",
    "        print('----- Generating with seed: \"' + sentence + '\"')\n",
    "        sys.stdout.write(generated)\n",
    "\n",
    "        for i in range(400):\n",
    "            x_pred = np.zeros((1, maxlen, len(chars)))\n",
    "            for t, char in enumerate(sentence):\n",
    "                x_pred[0, t, char_indices[char]] = 1.\n",
    "\n",
    "            preds = model_ckpt.predict(x_pred, verbose=0)[0]\n",
    "            next_index = sample(preds, diversity)\n",
    "            next_char = indices_char[next_index]\n",
    "\n",
    "            generated += next_char\n",
    "            sentence = sentence[1:] + next_char\n",
    "\n",
    "            sys.stdout.write(next_char)\n",
    "            sys.stdout.flush()\n",
    "        print()\n",
    "print_callback = LambdaCallback(on_epoch_end=on_epoch_end)"
   ]
  },
  {
   "cell_type": "code",
   "execution_count": 22,
   "metadata": {
    "id": "o7QZCuU5YBca"
   },
   "outputs": [],
   "source": [
    "### combining all of my callbacks\n",
    "\n",
    "callbacks = [print_callback, checkpoint, reduce_lr, es]"
   ]
  },
  {
   "cell_type": "markdown",
   "metadata": {
    "id": "1PHLNmGOYBcb"
   },
   "source": [
    "### 9.Training my RNN model"
   ]
  },
  {
   "cell_type": "markdown",
   "metadata": {
    "id": "Wy_3aHYIlDqV"
   },
   "source": [
    "- model is trained for 100 epoch"
   ]
  },
  {
   "cell_type": "code",
   "execution_count": 23,
   "metadata": {
    "colab": {
     "base_uri": "https://localhost:8080/"
    },
    "id": "ljBdvKorYBcb",
    "outputId": "a812ca2a-ff4d-4bb3-c34d-1ad78c8cbc54"
   },
   "outputs": [
    {
     "name": "stdout",
     "output_type": "stream",
     "text": [
      "Epoch 1/100\n",
      "2362/2362 [==============================] - 56s 10ms/step - loss: 2.4602 - accuracy: 0.3069 - val_loss: 1.6753 - val_accuracy: 0.5219\n",
      "\n",
      "----- Generating text after Epoch: 0\n",
      "----- diversity: 0.2\n",
      "----- Generating with seed: \" i'm done writing this review, i'm going to sign up for the whole coursera python for everybody spec\"\n",
      " i'm done writing this review, i'm going to sign up for the whole coursera python for everybody specion the course and is and the course and experinence the in the course wis and a do the course and the course and and the course and i was and the course and a learn the course is and and i was in the course and the course and explaine in the course is and the course and a loor and the course and i some the course and and the course and and the course and and the course and and the course and the \n",
      "----- diversity: 0.5\n",
      "----- Generating with seed: \" i'm done writing this review, i'm going to sign up for the whole coursera python for everybody spec\"\n",
      " i'm done writing this review, i'm going to sign up for the whole coursera python for everybody speciming this sourse an was ho ment this course and is a vich this is ser and has mate in to gho learn be in i wand a course the the course and a loor tho grom and this course for me and and but a deand the courses i wan python tho sise the course and this course in whe pregramming the course and explaines course and goon in the course i bes this is me course of really gead in the for chat in the cou\n",
      "----- diversity: 1.0\n",
      "----- Generating with seed: \" i'm done writing this review, i'm going to sign up for the whole coursera python for everybody spec\"\n",
      " i'm done writing this review, i'm going to sign up for the whole coursera python for everybody specicnceki bs iz dy inly more, condenge ana wasty starm for for exmacennt ine, youd gom tod thas. boued sow widh hagidncing progrmem ic greasid. win im me tocber it pnouth wrigllisg of pood hamlealy going lint oy hive forse is explocain . hit qe, learnly adndo and on tondigatis courses lefulding revi eathroust with very greal . makngry and tiez ayoul  thes course a, erearled\" ive furimiens yth rouks \n",
      "----- diversity: 1.2\n",
      "----- Generating with seed: \" i'm done writing this review, i'm going to sign up for the whole coursera python for everybody spec\"\n",
      " i'm done writing this review, i'm going to sign up for the whole coursera python for everybody spece forsse s rpytlamred whankst, coursce prodobricnd. \"unhand the whow s. toy.nid . e pyabled the niom  to and lagrowity overe, im this ictulp soploghabkzokg  nherungea verfesisial loptes poon, mi'c to to perooutstaldlt the easpy gunted m orse nes.s erevry course ssenthond,s it qowesagrod er isttuatht coursei\" grogimnzed le.prec, whe a wam aawsomy\"le me\"'thing. y io woas at bucewall ool  he i le yse\n",
      "\n",
      "Epoch 00001: loss improved from inf to 2.13144, saving model to /content/gdrive/My Drive/Capstone/Data/\n",
      "Epoch 2/100\n",
      "2362/2362 [==============================] - 24s 10ms/step - loss: 1.6673 - accuracy: 0.5292 - val_loss: 1.3979 - val_accuracy: 0.6039\n",
      "\n",
      "----- Generating text after Epoch: 1\n",
      "----- diversity: 0.2\n",
      "----- Generating with seed: \"aby born for the programming, dr. chuck is the best instructor for you. just grab this opportunity a\"\n",
      "aby born for the programming, dr. chuck is the best instructor for you. just grab this opportunity and the programming and the course is a lot of the course is a lit to programming and the course is a so programming and the course is a some the course is a some a lit the was a learn programming and the programming in the course is a some and the programming and the course is a some the course and the programming and the course is a learn the programming and the course is a great the course is a \n",
      "----- diversity: 0.5\n",
      "----- Generating with seed: \"aby born for the programming, dr. chuck is the best instructor for you. just grab this opportunity a\"\n",
      "aby born for the programming, dr. chuck is the best instructor for you. just grab this opportunity and the course and learn the course in wast the course is i the programming want the programming programming of programming. it courser than course is a programming studening experience in a some a lit the programming this course is to concepts in about the programming explain instructor severance is a litt in the the professor whis course is course as the courses in explaine course is coursera the\n",
      "----- diversity: 1.0\n",
      "----- Generating with seed: \"aby born for the programming, dr. chuck is the best instructor for you. just grab this opportunity a\"\n",
      "aby born for the programming, dr. chuck is the best instructor for you. just grab this opportunity and gaspis and chanpes, ofle seling thanking. i touth like underits thes specely to prostare apeciates ard.    i very steawly andverow course lo gas the complex thes course to the fhet inomment classers teathing progromting you good geof, dris asleds pythong as beginn.i gat compout that sudelal ussend aboo the move speexcevedimals of it knowlidg lecouns.,a's learned ho west heve py have you grease \n",
      "----- diversity: 1.2\n",
      "----- Generating with seed: \"aby born for the programming, dr. chuck is the best instructor for you. just grab this opportunity a\"\n",
      "aby born for the programming, dr. chuck is the best instructor for you. just grab this opportunity abo to groutd\" thankze it itking to expleacm for io tane i progranmerd youlvering on this casted an jus providers indaul heagrs aco. i finmertabica.\" \"i iigr my thaymyou. de hpeckis sbectly wor! it reenceds with i hiverd mf the copfes pratlabnion, my ;any harge,  it intermely, able to logl. of o\" ariall and oppreiall! coor thin course. \"fal explniece. priectiug wot co preais had a wellt tipes proff\n",
      "\n",
      "Epoch 00002: loss improved from 2.13144 to 1.59696, saving model to /content/gdrive/My Drive/Capstone/Data/\n",
      "Epoch 3/100\n",
      "2362/2362 [==============================] - 25s 10ms/step - loss: 1.4369 - accuracy: 0.5897 - val_loss: 1.2786 - val_accuracy: 0.6351\n",
      "\n",
      "----- Generating text after Epoch: 2\n",
      "----- diversity: 0.2\n",
      "----- Generating with seed: \"ffered here.  thank you so much for creating such a great computer based course.\" \"this is my first \"\n",
      "ffered here.  thank you so much for creating such a great computer based course.\" \"this is my first to the basics of the course is a some the course is a great to the course is very great to the basics of the course is and introduction to the basics of programming and students and programming and the course is a some the course is very in the course is a some the course is very had the way the course is and the course and the course is a great course and i was a some to the basics of python in t\n",
      "----- diversity: 0.5\n",
      "----- Generating with seed: \"ffered here.  thank you so much for creating such a great computer based course.\" \"this is my first \"\n",
      "ffered here.  thank you so much for creating such a great computer based course.\" \"this is my first pate so in to learn python. it it so material and the time and experience and explaining the had a great on the bet hore and the wanted this course is a start course . i has a dr. chuck and programming for python and you dr. chuck, in the python and in a programming for a bot of programming for python and experienced the course in the instruction and the for all i am a some of the resime of the co\n",
      "----- diversity: 1.0\n",
      "----- Generating with seed: \"ffered here.  thank you so much for creating such a great computer based course.\" \"this is my first \"\n",
      "ffered here.  thank you so much for creating such a great computer based course.\" \"this is my first aiby the spevionled for experience, ans i wolld this course. \" :t i knewreded sume who mat everyhed,  very whlled essore chapces and new with dr. chuck and at i fant- instructio from a learning way at furse. hi hod enery muthry nayee'd in program in all you cod of python.. i had dasily sou geaing of surply the car in coursera experiance explanied offorthre on jos to python. ho fel programming for \n",
      "----- diversity: 1.2\n",
      "----- Generating with seed: \"ffered here.  thank you so much for creating such a great computer based course.\" \"this is my first \"\n",
      "ffered here.  thank you so much for creating such a great computer based course.\" \"this is my first recovare aboutit; hios are nepple the  uthul youe eljod to be to learning, the tode. courshrules lectures.evey the wladp toon. yof atar and ghouges licchwill. it staud of exercise can in any pragibucals latfuniel you clused to real of cill, but of obest une cre,e!  dr. levired class difarava rals.paally doflytiog sa came pyon starled explitbiogs codid, you blot likinatsoud. it innerverfor thas. yo\n",
      "\n",
      "Epoch 00003: loss improved from 1.59696 to 1.40877, saving model to /content/gdrive/My Drive/Capstone/Data/\n",
      "Epoch 4/100\n",
      "2362/2362 [==============================] - 24s 10ms/step - loss: 1.3280 - accuracy: 0.6168 - val_loss: 1.2044 - val_accuracy: 0.6537\n",
      "\n",
      "----- Generating text after Epoch: 3\n",
      "----- diversity: 0.2\n",
      "----- Generating with seed: \"to the dr. chunk this is very understandable by every one without prior knowledge. i will be continu\"\n",
      "to the dr. chunk this is very understandable by every one without prior knowledge. i will be continue the course and i had start the course is a great to the way the mane the course is a great to the course is a great course and i have learned to the best one one of the course is a great to the best one had the for the best course is a great to the best course is a great to the course is a great to the course is a great course and i have a great to the beginners and i have a great to the best on\n",
      "----- diversity: 0.5\n",
      "----- Generating with seed: \"to the dr. chunk this is very understandable by every one without prior knowledge. i will be continu\"\n",
      "to the dr. chunk this is very understandable by every one without prior knowledge. i will be continue the course is the course and every code course and also programming, but i have and i help the programming with the programming and i would really was need it was a goes as it to make the best learning the course this course was are a beginner you the best course which the courses and i had a don the forward this course for the beso so easy to learn python and well started the course with the re\n",
      "----- diversity: 1.0\n",
      "----- Generating with seed: \"to the dr. chunk this is very understandable by every one without prior knowledge. i will be continu\"\n",
      "to the dr. chunk this is very understandable by every one without prior knowledge. i will be continue think a the recommend to undershin and seppect and has were and i think course hole very well of are really all\" dr chuck heperity or beginner wring python  exchalles of excertiouclal as yle professor is op course and chepctibsions and char experience k me a being muth byso uper within tomen! \" the course had s an ulfor mat!\" \"this is a specome coursera byighly recoptent the me in, the ene backg\n",
      "----- diversity: 1.2\n",
      "----- Generating with seed: \"to the dr. chunk this is very understandable by every one without prior knowledge. i will be continu\"\n",
      "to the dr. chunk this is very understandable by every one without prior knowledge. i will be continuation. .usty tabuyc and easy torounk. thus course for beli, pythos freees basic forwabde. very it is worl'tyredy, you've learnes efrested throughor verw andsiempiby from denizant. with a'ved to have easyed you the bestuharts dr. ske on anyto you fhel knywoll, dudve but have spe im the course you dr. cre, ore. -very canter i. this welling betoure and have leasred dr.chuck's to now now the besopsoud\n",
      "\n",
      "Epoch 00004: loss improved from 1.40877 to 1.30670, saving model to /content/gdrive/My Drive/Capstone/Data/\n",
      "Epoch 5/100\n",
      "2362/2362 [==============================] - 24s 10ms/step - loss: 1.2548 - accuracy: 0.6372 - val_loss: 1.1622 - val_accuracy: 0.6644\n",
      "\n",
      "----- Generating text after Epoch: 4\n",
      "----- diversity: 0.2\n",
      "----- Generating with seed: \"urse read the book written by the professor, it really helps a lot, only watch the video is not enou\"\n",
      "urse read the book written by the professor, it really helps a lot, only watch the video is not enough the course is a great to learn python and programming language in python and the teacher is a great course is a great course is a great course to learn python and the course is a great teacher is the manyer the course is a great introduction to learn the material and all the material in the course is a great course is a great course is a great course is a great to learn python and all the teach\n",
      "----- diversity: 0.5\n",
      "----- Generating with seed: \"urse read the book written by the professor, it really helps a lot, only watch the video is not enou\"\n",
      "urse read the book written by the professor, it really helps a lot, only watch the video is not enough to learn python. the specially that i have learned to learn a way of programming and i good programming language.     to learn python course, the course and i continter to the learning the course and this course is a good course and all the course is one overall a programming. and the material worked the course is a great takes in the way helped the programming and material in the mane the basi\n",
      "----- diversity: 1.0\n",
      "----- Generating with seed: \"urse read the book written by the professor, it really helps a lot, only watch the video is not enou\"\n",
      "urse read the book written by the professor, it really helps a lot, only watch the video is not enough my to beghond and you dr.chick. severance is a programming but i whilred it. this course as more like i fiture. the structional knows hipres, it to that were on my fliew. the do the basics of nowhor begond. thinkinf baugrasible. i am work. this course and i anso wreling you your his not will aitact. this fasiaging intep star mond and his the get i are and approacubys  and explaining the but use\n",
      "----- diversity: 1.2\n",
      "----- Generating with seed: \"urse read the book written by the professor, it really helps a lot, only watch the video is not enou\"\n",
      "urse read the book written by the professor, it really helps a lot, only watch the video is not enough the leached without the quiz, be confodting read.inged withor usly simply little and evrorieps welking. the try to'p.\" , . this churles so a bepual code nowtrube! if your fod w\" thenser. from didfiting. i likented computely ontedibaming beginnerss af so toxmendiale language. the poontifnlade requandided teaching mong spovide. the restores and its, imprord course was enouged mabarisy at un-ullet\n",
      "\n",
      "Epoch 00005: loss improved from 1.30670 to 1.24210, saving model to /content/gdrive/My Drive/Capstone/Data/\n",
      "Epoch 6/100\n",
      "2362/2362 [==============================] - 23s 10ms/step - loss: 1.1980 - accuracy: 0.6516 - val_loss: 1.1290 - val_accuracy: 0.6733\n",
      "\n",
      "----- Generating text after Epoch: 5\n",
      "----- diversity: 0.2\n",
      "----- Generating with seed: \" furthermore, dr. chuck is a significant teacher and his lectures are  able to inspire almost anybod\"\n",
      " furthermore, dr. chuck is a significant teacher and his lectures are  able to inspire almost anybody the course is a great course is a great course is a great course is a beginner and explaining the course is a great course is a great course for everybody in the course for a beginner in the course for this course is a great course is a great course is a great course is a great course is a great course is a great course is a great course is a beginner of the course is a great course is a beginne\n",
      "----- diversity: 0.5\n",
      "----- Generating with seed: \" furthermore, dr. chuck is a significant teacher and his lectures are  able to inspire almost anybod\"\n",
      " furthermore, dr. chuck is a significant teacher and his lectures are  able to inspire almost anybody in the course which is a great course is a great course for me the course to every wantrial course for some the course is a manner this course is a merener course. i loved of the first course and explained programming language. i had a good enjoyed a deling introduction to learn i have a great fulle, the course is a student and this course and engaging you are a brout the student of the course i\n",
      "----- diversity: 1.0\n",
      "----- Generating with seed: \" furthermore, dr. chuck is a significant teacher and his lectures are  able to inspire almost anybod\"\n",
      " furthermore, dr. chuck is a significant teacher and his lectures are  able to inspire almost anybodiase that how yom have naterni blat forhank you so also praccagign of python..i. so \"i just a good experience , my fart and has python and self, pruat will how the nexthes what i cave merramuch as the instructor ghat this for severances as weal so mink of class, other dails toking. self to mont to learn a brgatively sell like so will comprecame hape wert the basics which and hammy ars clearly dr. \n",
      "----- diversity: 1.2\n",
      "----- Generating with seed: \" furthermore, dr. chuck is a significant teacher and his lectures are  able to inspire almost anybod\"\n",
      " furthermore, dr. chuck is a significant teacher and his lectures are  able to inspire almost anyboding!, the list this course moild say that every those do stry explained. is pare exprairs very busk it timeligg thit course in preginncing, but other worl od using non cances  lecikedigit, you very has python inith lecturawisy backgroundis.\" this istread off,ching..        -  \" dr. squch is of michigal lede but struchured python....those alportandable and engoue lecrasss foun to the best friex. \"i\n",
      "\n",
      "Epoch 00006: loss improved from 1.24210 to 1.19558, saving model to /content/gdrive/My Drive/Capstone/Data/\n",
      "Epoch 7/100\n",
      "2362/2362 [==============================] - 24s 10ms/step - loss: 1.1651 - accuracy: 0.6598 - val_loss: 1.1089 - val_accuracy: 0.6802\n",
      "\n",
      "----- Generating text after Epoch: 6\n",
      "----- diversity: 0.2\n",
      "----- Generating with seed: \" their personality   sarcasm made it fun to learn python this is a great course for beginners. i was\"\n",
      " their personality   sarcasm made it fun to learn python this is a great course for beginners. i was a great course for the concepts and programming language is a great course for a beginner of python and the interesting to the course is a great course is a great course is a great course is a great course in python for the best online course is a great course in python for the beginners of python the course is very good course is a great course is a great course is a great course is a great cour\n",
      "----- diversity: 0.5\n",
      "----- Generating with seed: \" their personality   sarcasm made it fun to learn python this is a great course for beginners. i was\"\n",
      " their personality   sarcasm made it fun to learn python this is a great course for beginners. i was a great for the basics of python and explained and have sime the for at interested to learn python and help really encourseop the codes of the best of the course in a went of had to the courses to learn python for the beginning to this course i don't fantise this course for me it wonderful course and the course and i had learned how to thing this course is an excellent course. the teacher is a ve\n",
      "----- diversity: 1.0\n",
      "----- Generating with seed: \" their personality   sarcasm made it fun to learn python this is a great course for beginners. i was\"\n",
      " their personality   sarcasm made it fun to learn python this is a great course for beginners. i was, with also a little exeerinies.  thank you do for baso. the inverstanding acdusioning im.\" \"i am not has of funnirous. is chatces is realinged that of with entite concepts baizly engagiany courses. the exercises learning for, more allone thit, hole of explanaiced thut sry. it was really things the concess, you couldes. i have friend to real oftht for me to have eveeree eace toking intervitior. \" \n",
      "----- diversity: 1.2\n",
      "----- Generating with seed: \" their personality   sarcasm made it fun to learn python this is a great course for beginners. i was\"\n",
      " their personality   sarcasm made it fun to learn python this is a great course for beginners. i was been suck the. dr. chuck furmant are dr.charles severance who have some of engert..thatemy, abteffres on the some can it ven iffo assigimen agazing. it gots for my attinatitic latatic crugrdow. by this case a good ty. i didn.   \"deeferer taken birners.\" \"thise, dr. chacksto\" in pacing ir quied to chatages is jubre- other severance! the wortand. itowose i can importingserefficiented python for all\n",
      "\n",
      "Epoch 00007: loss improved from 1.19558 to 1.15864, saving model to /content/gdrive/My Drive/Capstone/Data/\n",
      "Epoch 8/100\n",
      "2362/2362 [==============================] - 24s 10ms/step - loss: 1.1291 - accuracy: 0.6698 - val_loss: 1.0891 - val_accuracy: 0.6827\n",
      "\n",
      "----- Generating text after Epoch: 7\n",
      "----- diversity: 0.2\n",
      "----- Generating with seed: \"i got stuck on one exercise. sure, my friend pasted my code and successfully run it without making a\"\n",
      "i got stuck on one exercise. sure, my friend pasted my code and successfully run it without making and every friend the course is a great course is a great course is a great course is the course is very good course is a great course in python and the course is a great course is a great course is a great course is the programming language is so easy to understand and the course is a great course in the course is a great course is the course is a great course in python. i will learned the course i\n",
      "----- diversity: 0.5\n",
      "----- Generating with seed: \"i got stuck on one exercise. sure, my friend pasted my code and successfully run it without making a\"\n",
      "i got stuck on one exercise. sure, my friend pasted my code and successfully run it without making and programming language before this course is the course has for you to the programming learning and it would have more very helpful for a way taking started in programming languages to start how the course is very good course for a begingers and well structures with the best pace if you want to learn python  as a programming learning python. it is very easy to understand   so that well as well pr\n",
      "----- diversity: 1.0\n",
      "----- Generating with seed: \"i got stuck on one exercise. sure, my friend pasted my code and successfully run it without making a\"\n",
      "i got stuck on one exercise. sure, my friend pasted my code and successfully run it without making also how to teach make startills time at this just python course to could computerwst like so easy to undverstand chullzeses on with abue tureffrial knowledge this course and this soot out foundation. the is nome gaying learning programming experience that where the bigioun plackigg and much lectures but explains vid the impothon in video lectsons it so easy to userally the way i'l help and i am so\n",
      "----- diversity: 1.2\n",
      "----- Generating with seed: \"i got stuck on one exercise. sure, my friend pasted my code and successfully run it without making a\"\n",
      "i got stuck on one exercise. sure, my friend pasted my code and successfully run it without making anyone with stmedgly recommended! andilick if try python course conditipring faapbra\" as no programm , this course really wancemente.  'very know rathing or python. backirlior, arehed teaching, all peroc'm learn pythons,.at readed sumple if you\" yeve   insherd the stuming of praidy of him workdo. i as me  python and do base-\"but the trom worloving engrwat enporitueneca. encourage!the courses frum t\n",
      "\n",
      "Epoch 00008: loss improved from 1.15864 to 1.12999, saving model to /content/gdrive/My Drive/Capstone/Data/\n",
      "Epoch 9/100\n",
      "2362/2362 [==============================] - 24s 10ms/step - loss: 1.1061 - accuracy: 0.6763 - val_loss: 1.0778 - val_accuracy: 0.6855\n",
      "\n",
      "----- Generating text after Epoch: 8\n",
      "----- diversity: 0.2\n",
      "----- Generating with seed: \"also thoroughly enjoying the course. looking forward to signing up for the next one!\" \"difficult for\"\n",
      "also thoroughly enjoying the course. looking forward to signing up for the next one!\" \"difficult for the course is a great course to learn a lot of programming languages and i was a lot of programming languages and it was a great course and it was a lot of programming languages and it was a lot of programming languages and coursera for the course is an excellent course for the best course and i have to every concepts and programming language is a very good course for the best course and the cour\n",
      "----- diversity: 0.5\n",
      "----- Generating with seed: \"also thoroughly enjoying the course. looking forward to signing up for the next one!\" \"difficult for\"\n",
      "also thoroughly enjoying the course. looking forward to signing up for the next one!\" \"difficult for the course and it was a lot and python  and coding and the course. i had a great course to start with the best what is a little different so explained to real my interested with my first to learn assit and the course and the specialization and the course which so author coding and do it was a little to teach is so conting more one the basics of the way do into videos are very knowledge in python \n",
      "----- diversity: 1.0\n",
      "----- Generating with seed: \"also thoroughly enjoying the course. looking forward to signing up for the next one!\" \"difficult for\"\n",
      "also thoroughly enjoying the course. looking forward to signing up for the next one!\" \"difficult for people who do problem in chaples and all to class exporient, and in fun are really the  \"xertealy coursera in the bost, onep.in esercliated the and conceation on chaples ,  \" great course on me., learn's not good for and different everyone.  i am so in experience.\" \"i love there about course, it sewention to python.. it than schilly of difficelt. i loved it tay hes teaching and onl be a chilly to\n",
      "----- diversity: 1.2\n",
      "----- Generating with seed: \"also thoroughly enjoying the course. looking forward to signing up for the next one!\" \"difficult for\"\n",
      "also thoroughly enjoying the course. looking forward to signing up for the next one!\" \"difficult for texce selp stid ingoinuily for beginner, othing it view the student mysang tackgroald awteter are hava beed sugeding jub ; am capsre.thout,, awe of mich! op for the convessional with the lent and pyin to of litely styly and haves rith. .one binded with very becturs aster'm fir..  pythou to culleng university that seitilat learning, easy to ntiry gots, it. it assignments  i want to gever. i fmed .\n",
      "\n",
      "Epoch 00009: loss improved from 1.12999 to 1.10564, saving model to /content/gdrive/My Drive/Capstone/Data/\n",
      "Epoch 10/100\n",
      "2362/2362 [==============================] - 24s 10ms/step - loss: 1.0795 - accuracy: 0.6821 - val_loss: 1.0709 - val_accuracy: 0.6892\n",
      "\n",
      "----- Generating text after Epoch: 9\n",
      "----- diversity: 0.2\n",
      "----- Generating with seed: \"finally get my python feet wet so to speak. thank you. it was a worthwhile course. entertaining as w\"\n",
      "finally get my python feet wet so to speak. thank you. it was a worthwhile course. entertaining as well as my first time to start programming languages and i wanted the best programming languages and i wanted the course and the instructor is very good course to complete the course is a very good course to start programming and i wanted the course is a very good course to start which was a great course to start learning python and the programming languages and i wanted to the course was very well\n",
      "----- diversity: 0.5\n",
      "----- Generating with seed: \"finally get my python feet wet so to speak. thank you. it was a worthwhile course. entertaining as w\"\n",
      "finally get my python feet wet so to speak. thank you. it was a worthwhile course. entertaining as well as well as well as the course was excellent course is advanced the course is a very good course teaches well as a very good for this for the course and the way the best only interested of the best programming language to understand! he is very well structured is an excellent course for the assignments and the way the text in the programming languages and python. i am a programming experience w\n",
      "----- diversity: 1.0\n",
      "----- Generating with seed: \"finally get my python feet wet so to speak. thank you. it was a worthwhile course. entertaining as w\"\n",
      "finally get my python feet wet so to speak. thank you. it was a worthwhile course. entertaining as well. well sharled for me. this as a which highly book. \"\"weshendrately learnus. \"horight a course fac. everytsing contents ageasing the teachers best learning peofed to suce-teaching stoded made be reelf a few python. the teacher. thank you this was some simply to learn.thank you! i level to study you provided in toild tate the ennioumen.\" \"the profess, and to have make hours a python. thank you d\n",
      "----- diversity: 1.2\n",
      "----- Generating with seed: \"finally get my python feet wet so to speak. thank you. it was a worthwhile course. entertaining as w\"\n",
      "finally get my python feet wet so to speak. thank you. it was a worthwhile course. entertaining as well stude is dr.arcossessess michine waid lead   yeach python. attugit way. i learnt the hay this ingressing gont was helpey this course even it and a pythong-never.thishes made to reve. he is,  \"pruraid and wel satled it arewn well to be ampuakes too a coivern which! than is top beginner if of coding and helpful :  \"i ad very drinkings.  i also, this has not mogly too  and the funlly with a way..\n",
      "\n",
      "Epoch 00010: loss improved from 1.10564 to 1.08499, saving model to /content/gdrive/My Drive/Capstone/Data/\n",
      "Epoch 11/100\n",
      "2362/2362 [==============================] - 24s 10ms/step - loss: 1.0666 - accuracy: 0.6845 - val_loss: 1.0595 - val_accuracy: 0.6936\n",
      "\n",
      "----- Generating text after Epoch: 10\n",
      "----- diversity: 0.2\n",
      "----- Generating with seed: \"thon. this course gave me an opportunity to learn this language in an easy and efficient way. it was\"\n",
      "thon. this course gave me an opportunity to learn this language in an easy and efficient way. it was a great course for beginners and i would like to complete the course and i was a great course to complete the course is a great course is a great course to learn python programming language in the course is a great introduction to python programming language in the course is a great course for beginners in a lot of experience in python to learn python is a great introduction to python programming\n",
      "----- diversity: 0.5\n",
      "----- Generating with seed: \"thon. this course gave me an opportunity to learn this language in an easy and efficient way. it was\"\n",
      "thon. this course gave me an opportunity to learn this language in an easy and efficient way. it was a great journe of the basics of python with python for me the instructor is a great course to learn more and i will have a lot of python programming for everybody is a great course is a great course for beginners in my programming language and professor course is a great course to learn to programming course to assignments as is coursera can understandable for this course is really great explanat\n",
      "----- diversity: 1.0\n",
      "----- Generating with seed: \"thon. this course gave me an opportunity to learn this language in an easy and efficient way. it was\"\n",
      "thon. this course gave me an opportunity to learn this language in an easy and efficient way. it was some pittional frems way with success. explanation or unders watchin ingract.\" he is amazing course toustrefiming enrollen as i have arroughe language programming tank befors. both learning mythoud it agees enrolled.\" thank you!\" \"grates is great and variable way well still by university of with juit stre oreme to python.\" \"  and is very has teres of not on my understanding on the fithrever time \n",
      "----- diversity: 1.2\n",
      "----- Generating with seed: \"thon. this course gave me an opportunity to learn this language in an easy and efficient way. it was\"\n",
      "thon. this course gave me an opportunity to learn this language in an easy and efficient way. it was appreciate chapliog all on my formmowive every son importantic lecalops all the te.course for the write. , timesn my.\" \"very stamen without coding amatiened. i would like this great kerd.\" mode! professor as i'm no great class auto-lively teather of. !one as nigen  dogristrols.\" ligh they ard sol.\" \"this course has suefkyin s.mevely applaining. itloversied wisher, professor, anvoll gives this cou\n",
      "\n",
      "Epoch 00011: loss improved from 1.08499 to 1.06710, saving model to /content/gdrive/My Drive/Capstone/Data/\n",
      "Epoch 12/100\n",
      "2362/2362 [==============================] - 24s 10ms/step - loss: 1.0483 - accuracy: 0.6900 - val_loss: 1.0486 - val_accuracy: 0.6943\n",
      "\n",
      "----- Generating text after Epoch: 11\n",
      "----- diversity: 0.2\n",
      "----- Generating with seed: \"erms in a fashion that's understandable to someone who had absolutely   programming skills prior  me\"\n",
      "erms in a fashion that's understandable to someone who had absolutely   programming skills prior  me interesting and i can delickle for the course in the course in the course was a great course that i can learn python and i will learn the course and i will learned to the course in this course to the course i am so interesting and i will learn the course and i will learned to learn python programming language and i will learn a lot of experience in the course in the course and i was a great cours\n",
      "----- diversity: 0.5\n",
      "----- Generating with seed: \"erms in a fashion that's understandable to someone who had absolutely   programming skills prior  me\"\n",
      "erms in a fashion that's understandable to someone who had absolutely   programming skills prior  me to learn a really too have got the first course of the course as a such a good experience in programming in the course.        \" \" \" \" \"great introduction to python before where the big the code course i am easy to understand what i have learned more course for the beginners or python in the course in the first course for any fee of the past course and the lectures was very useful to program and \n",
      "----- diversity: 1.0\n",
      "----- Generating with seed: \"erms in a fashion that's understandable to someone who had absolutely   programming skills prior  me\"\n",
      "erms in a fashion that's understandable to someone who had absolutely   programming skills prior  mes mett-out programming or most are surget that i very mindos pructurence sure a lot thy is explained through in coursera.\" \"i'm looking forward to all tould it in general to dey sincion grading everyond or underwithon. i  make ne this course it so very helpful furst. there is understand after eay, instructor  grating them and practicis, are to encoures, it is think are worked everything.     i don\n",
      "----- diversity: 1.2\n",
      "----- Generating with seed: \"erms in a fashion that's understandable to someone who had absolutely   programming skills prior  me\"\n",
      "erms in a fashion that's understandable to someone who had absolutely   programming skills prior  me an't liked. ..well starting awaysherte to program. i had heed  yes, everythen cruck dails ne  covervor python from usid joy ay explained me. :  ,.as intrially happer it onled thio! this course careery to clas bested it the class was python aw cantem berieve this course sirt, clan for a big making thw course. huphus aut attinite course covers my fue this first course. i way sool matseried zande. t\n",
      "\n",
      "Epoch 00012: loss improved from 1.06710 to 1.05161, saving model to /content/gdrive/My Drive/Capstone/Data/\n",
      "Epoch 13/100\n",
      "2362/2362 [==============================] - 25s 10ms/step - loss: 1.0321 - accuracy: 0.6939 - val_loss: 1.0473 - val_accuracy: 0.6942\n",
      "\n",
      "----- Generating text after Epoch: 12\n",
      "----- diversity: 0.2\n",
      "----- Generating with seed: \"ides give every key information about what is being taught so you can capture screenshots and make n\"\n",
      "ides give every key information about what is being taught so you can capture screenshots and make no programming and i am so i have to learn python programming and i would recommend this course to learn python and the course is a great course. the course is a beginner in the course and i would like to the professor and i have a great course to learn python in programming and the lectures are very good and i am very good and i am very good course for the beginners with the best course and the co\n",
      "----- diversity: 0.5\n",
      "----- Generating with seed: \"ides give every key information about what is being taught so you can capture screenshots and make n\"\n",
      "ides give every key information about what is being taught so you can capture screenshots and make no many more and also have a botto beginners and really enjoyed this course and i have ever had not an had to the best course to learn python for the first course and the material and the professor was a great course for searance with functions. the course is a great class in the professor easy to understand all the course is the best course and i have been such a place it some of the basics work l\n",
      "----- diversity: 1.0\n",
      "----- Generating with seed: \"ides give every key information about what is being taught so you can capture screenshots and make n\"\n",
      "ides give every key information about what is being taught so you can capture screenshots and make nontigun to thinks and easy enforment instructor dr stup whiles i have to poredem   musiantand! \"lomed flas, suchnolly, and assignted.. this course really wants to learn my me!\"  this inclused but completely enjoyen to programming while studging to learn.this course. prof severance not!! the pasience and excellent are very helpful logh more programming language. i have 'tressed also, you down whise\n",
      "----- diversity: 1.2\n",
      "----- Generating with seed: \"ides give every key information about what is being taught so you can capture screenshots and make n\"\n",
      "ides give every key information about what is being taught so you can capture screenshots and make no programming it hat usre taught or an interdcally and has gleat scmepts too first ext taking suggrater language. klike i cuast programmers's insstance. i really enjoyed it easy to come.\"desver.he gavis aut the vale them are not's python for unserf amanming havings to knurs your as getting material in generh!\" \"i liked topics coulls full.  the very class everything with programs wonts in the assig\n",
      "\n",
      "Epoch 00013: loss improved from 1.05161 to 1.03809, saving model to /content/gdrive/My Drive/Capstone/Data/\n",
      "Epoch 14/100\n",
      "2362/2362 [==============================] - 25s 11ms/step - loss: 1.0212 - accuracy: 0.6969 - val_loss: 1.0450 - val_accuracy: 0.6971\n",
      "\n",
      "----- Generating text after Epoch: 13\n",
      "----- diversity: 0.2\n",
      "----- Generating with seed: \"e very helpful. i look forward to starting the next course and getting better. \" \"very good course f\"\n",
      "e very helpful. i look forward to starting the next course and getting better. \" \"very good course for beginners in the programming language and i would like to start learning python and also i do not have a beginner and easy to understand and i have a programming language and i would like to the course in the best programming language. the course is very good course for beginners in a few learning python and the course is very good course for the beginners and explained the course to be a progr\n",
      "----- diversity: 0.5\n",
      "----- Generating with seed: \"e very helpful. i look forward to starting the next course and getting better. \" \"very good course f\"\n",
      "e very helpful. i look forward to starting the next course and getting better. \" \"very good course for the beginners and makes i have to programming languages, but i was really an also and the professor and i would have a programming language. i did not successfully great with python for beginners and with the bonus very beginner course in the beginner for providing such a beginner, but i started this course. \" \"this scripted to programming language and i would like to instructor and different p\n",
      "----- diversity: 1.0\n",
      "----- Generating with seed: \"e very helpful. i look forward to starting the next course and getting better. \" \"very good course f\"\n",
      "e very helpful. i look forward to starting the next course and getting better. \" \"very good course from that is because the very fen in, your fass,, i highly recommend if does fun, howed the advinies about programming. it easy by seem i have toove python  mr. chuck itsead. thesh were of your engaging and likely i will like to understand at the way to this course meares all do'm help you to everyone within real easy teacher. i've learned for my kind of undiattis cutching teacher, do for though wi\n",
      "----- diversity: 1.2\n",
      "----- Generating with seed: \"e very helpful. i look forward to starting the next course and getting better. \" \"very good course f\"\n",
      "e very helpful. i look forward to starting the next course and getting better. \" \"very good course for.\" i very blink i likes!the ficky.  xispstsom it is move proplebules more dre all do evear alporate eacy and unsefuming and aivay. it's really ectake lectures to stury all prombese who have professor.: i us muins of provrom weched to devalubly down this course. \"dr chuck and what i smmety pass, i would hass  dr. chuck, sumeone assignments as if yturic undoly add up learnicg time. i key to unders\n",
      "\n",
      "Epoch 00014: loss improved from 1.03809 to 1.02488, saving model to /content/gdrive/My Drive/Capstone/Data/\n",
      "Epoch 15/100\n",
      "2362/2362 [==============================] - 25s 11ms/step - loss: 1.0101 - accuracy: 0.7008 - val_loss: 1.0445 - val_accuracy: 0.6956\n",
      "\n",
      "----- Generating text after Epoch: 14\n",
      "----- diversity: 0.2\n",
      "----- Generating with seed: \"rse. but he is really good at explaining things and giving examples. will take the other courses in \"\n",
      "rse. but he is really good at explaining things and giving examples. will take the other courses in a wend of the best online course to start with python to program with the course and i am a very much the course was very helpful to understand and the course is a good course for such a good course to start this course is a good students with the best professor is a great teacher chuck is a great teacher is a great teacher is a great teacher is a great teacher is a great teacher is a great teache\n",
      "----- diversity: 0.5\n",
      "----- Generating with seed: \"rse. but he is really good at explaining things and giving examples. will take the other courses in \"\n",
      "rse. but he is really good at explaining things and giving examples. will take the other courses in this course without the course in the course in this course what is so grasp on this course is a great course is a great started and the lecturer charles severance is a good course that is really great teacher. i would recommend this course for people who wants to get into particular that everyone that is a great examples and helped to the lecturer who is the code on your with the bonus as a nown \n",
      "----- diversity: 1.0\n",
      "----- Generating with seed: \"rse. but he is really good at explaining things and giving examples. will take the other courses in \"\n",
      "rse. but he is really good at explaining things and giving examples. will take the other courses in no edralc are very good course! what coursera!!he is but the tegling statebor. 'pervioul to anyone then it ood funing then each scructing from the temminato! i have greser program withou to think about programming. an especialling twical that job, before those will befienthive seft feel side course touk for everyone who i've digne this has some offiremen at a suncestic incredible because of times \n",
      "----- diversity: 1.2\n",
      "----- Generating with seed: \"rse. but he is really good at explaining things and giving examples. will take the other courses in \"\n",
      "rse. but he is really good at explaining things and giving examples. will take the other courses in my owrming ophing but , i would love insootident tutails were extanique a long tyoughti! where it abgainyre.  wolld, for extirtede, prom keeps on the best professor car be to recombend this course as off mething, hoce still challes! astoon are very unle as eformalizes.  \"good best offer language. the muctiching tatuchungl sore bliz at making i sure, a class it weeldy of chuple ease to ne\" how to p\n",
      "\n",
      "Epoch 00015: loss improved from 1.02488 to 1.01343, saving model to /content/gdrive/My Drive/Capstone/Data/\n",
      "Epoch 16/100\n",
      "2362/2362 [==============================] - 25s 11ms/step - loss: 0.9967 - accuracy: 0.7041 - val_loss: 1.0370 - val_accuracy: 0.6979\n",
      "\n",
      "----- Generating text after Epoch: 15\n",
      "----- diversity: 0.2\n",
      "----- Generating with seed: \"ng language, anybody can learn this. and coursera course on this topic is perfect for good start. i \"\n",
      "ng language, anybody can learn this. and coursera course on this topic is perfect for good start. i would like to anyone who wants to learn python and the bonus videos and the book is a great course for beginners with the book is a great course for the beginners. the course is a great course for beginners and the book is a great course for beginners. i would like to learn python in a wend to learn python and the way the course is a great course to learn python and the assignments and the way the\n",
      "----- diversity: 0.5\n",
      "----- Generating with seed: \"ng language, anybody can learn this. and coursera course on this topic is perfect for good start. i \"\n",
      "ng language, anybody can learn this. and coursera course on this topic is perfect for good start. i would say this course is excellent teacher which is a great course and the first course. thanks to know any programming language. i would recommend this course for beginners and it's a programmer language and the way the course is a great introduction to programming it and i got all the basics intronding through this course and the way is and the best course is and the instructor is excellent cour\n",
      "----- diversity: 1.0\n",
      "----- Generating with seed: \"ng language, anybody can learn this. and coursera course on this topic is perfect for good start. i \"\n",
      "ng language, anybody can learn this. and coursera course on this topic is perfect for good start. i think that macks. up to pourtoly fun, i whar experience in informed would mith in a manner of dr. charles severance experienced will start now but using slow because did course the concept and the beginners that is an amazing.  with like applicy. do collrateresed thinking. \" wells it was been not like such a way teaching every, it is so i thought i've engared to programming and extremely fand of t\n",
      "----- diversity: 1.2\n",
      "----- Generating with seed: \"ng language, anybody can learn this. and coursera course on this topic is perfect for good start. i \"\n",
      "ng language, anybody can learn this. and coursera course on this topic is perfect for good start. i work all this course felt. \"\" dr. chuck is brills though to every truint for  graded through field like that would learn! this oppocter ghouth is awesome!\"heat i given more knowledge to build end way. more addentibes. pyonum!! can it coursera and fun, but soot think and those pairuherd of course for abtead. i took this course will are professor ahew littles nonstrools job starking to poshing much \n",
      "\n",
      "Epoch 00016: loss improved from 1.01343 to 1.00338, saving model to /content/gdrive/My Drive/Capstone/Data/\n",
      "Epoch 17/100\n",
      "2362/2362 [==============================] - 25s 11ms/step - loss: 0.9860 - accuracy: 0.7059 - val_loss: 1.0372 - val_accuracy: 0.6980\n",
      "\n",
      "----- Generating text after Epoch: 16\n",
      "----- diversity: 0.2\n",
      "----- Generating with seed: \"ncepts very quickly.experts help alot as they share their experience.thank you for such incredible l\"\n",
      "ncepts very quickly.experts help alot as they share their experience.thank you for such incredible learning experience in the course is a great course. i am a beginner and i would like to start this course. i have to get a good for the best programming in python from a great course in the course and the instructor is a great course for beginners with the course is great for me to get the formal simple and the most of the course. i am good and i am a programmer who is a great course to start with\n",
      "----- diversity: 0.5\n",
      "----- Generating with seed: \"ncepts very quickly.experts help alot as they share their experience.thank you for such incredible l\"\n",
      "ncepts very quickly.experts help alot as they share their experience.thank you for such incredible learning in the and programming and i would several people definitely helped me to take this course. the textbook is easy and explained the best professor is explained this course. i am a start of the courses with a complete the course is helpful for beginners will professor charles russell severance is an excellent course in python. the instructor is an interesting and i am sure a good and i am ve\n",
      "----- diversity: 1.0\n",
      "----- Generating with seed: \"ncepts very quickly.experts help alot as they share their experience.thank you for such incredible l\"\n",
      "ncepts very quickly.experts help alot as they share their experience.thank you for such incredible lad teaching matee a step, so is repline.\" \"thy very enjoysing this course and cample imperiasced course.i am s\"met their thingl sbagn is helps anyinized specialization ,. planding. thanky!als, as writinared vers, professor have an endigual theore broken is truinly are classerally wes truly  gove on crading in a sussion and the materais. now uncerstcule make anyone a frees is the quizzes and learnt\n",
      "----- diversity: 1.2\n",
      "----- Generating with seed: \"ncepts very quickly.experts help alot as they share their experience.thank you for such incredible l\"\n",
      "ncepts very quickly.experts help alot as they share their experience.thank you for such incredible language. if you ar ay blig fos a lot tare but interestend without internation of python \"i really effectic like programming lassoos  but you strong coursera, anshide for bhinking me learned the first frundem is enffusion, anyone that easy inte class on pythor, will intervedt with chaplention from. everything mame more confidence.\"definisl, it videos in mellos this course ter. he part of also fulti\n",
      "\n",
      "Epoch 00017: loss improved from 1.00338 to 0.99308, saving model to /content/gdrive/My Drive/Capstone/Data/\n",
      "Epoch 18/100\n",
      "2362/2362 [==============================] - 25s 11ms/step - loss: 0.9762 - accuracy: 0.7089 - val_loss: 1.0371 - val_accuracy: 0.6991\n",
      "\n",
      "----- Generating text after Epoch: 17\n",
      "----- diversity: 0.2\n",
      "----- Generating with seed: \" actually had previous python knowledge, and i have working on other programming languages for the p\"\n",
      " actually had previous python knowledge, and i have working on other programming languages for the professor is a great course for me. i was a great course to anyone who wants to learn python and also it was a great course to learn python from scratch and the way the teacher and the course is very good and easy to understand and help you a great course to start learn python and the assignments are easy to understand and the examples and programming language and it was a great course to learn pyt\n",
      "----- diversity: 0.5\n",
      "----- Generating with seed: \" actually had previous python knowledge, and i have working on other programming languages for the p\"\n",
      " actually had previous python knowledge, and i have working on other programming languages for the python and engaging and the assignments are many things was very interesting and helpful teacher explains the next course as i really like the book is complete the course. it is a good course for someone who wants to learn python in a well programming language and i would recommend it so easy to learn that in the course made the teacher concepts and finally really enjoyed this course.  \" \"this cour\n",
      "----- diversity: 1.0\n",
      "----- Generating with seed: \" actually had previous python knowledge, and i have working on other programming languages for the p\"\n",
      " actually had previous python knowledge, and i have working on other programming languages for the python and depiniting to beginning to up anvaibestial are fuel my hampy me so welt to reer wheresnerively are traters, this was the lectures.thank you hew bournfiniative patht as a great intronuctory of discresssers lectures well a such an easy for solid course is goinal samestare or enery times and really insire in taking this course spend of tyle as a simple.enderts abablemee try in programming. \n",
      "----- diversity: 1.2\n",
      "----- Generating with seed: \" actually had previous python knowledge, and i have working on other programming languages for the p\"\n",
      " actually had previous python knowledge, and i have working on other programming languages for the prior things, this course sefblels interesting! these are the mode so that!i learn a improve.this course was letsing easy and knowledge people fun of the bonus fun a student sly was.  soove this courserially, i'm anso excellent, i was oug!\" \"enformate you kind pits there programming in myse it. \"the course is just in thit, new to learn my enterief....the relative in thy very clear course in some un\n",
      "\n",
      "Epoch 00018: loss improved from 0.99308 to 0.98348, saving model to /content/gdrive/My Drive/Capstone/Data/\n",
      "Epoch 19/100\n",
      "2362/2362 [==============================] - 26s 11ms/step - loss: 0.9697 - accuracy: 0.7106 - val_loss: 1.0335 - val_accuracy: 0.7008\n",
      "\n",
      "----- Generating text after Epoch: 18\n",
      "----- diversity: 0.2\n",
      "----- Generating with seed: \"gramming language which is step by step and forces you to brain storm yourself to work on problems a\"\n",
      "gramming language which is step by step and forces you to brain storm yourself to work on problems as well as a lot of programming in a so in the course and the best python course and i will be a lot of experience in python and also thanks to the course is a great course for anyone who is not have a lot of experience in python before but not some of the beginners and i am a beginner things and the course is a great course for anyone who is not have a lot of experience with python from the beginn\n",
      "----- diversity: 0.5\n",
      "----- Generating with seed: \"gramming language which is step by step and forces you to brain storm yourself to work on problems a\"\n",
      "gramming language which is step by step and forces you to brain storm yourself to work on problems and have no programming language, but not some of the course. i am very good for everybody \"  i am so funner on the way he is a lot of the pace i have ever had a beginner one of python better things and the teaching several was a very good course for beginners and interested in perfucting is easy and also well and i was a lot for a lot of explaining the course.  i had learned some field on the cour\n",
      "----- diversity: 1.0\n",
      "----- Generating with seed: \"gramming language which is step by step and forces you to brain storm yourself to work on problems a\"\n",
      "gramming language which is step by step and forces you to brain storm yourself to work on problems aryway weiht contents through without been me to soove knowing the way.professir  with him subjack of univarsion and uses into information learning. i will a for the course with act on hore is feen excellent! he has makes a smep by step in the forum, but it is now forther course at teaching.\" i besed the whecher he has always thanks for beginners. i'm always friendly, all you the material and hegai\n",
      "----- diversity: 1.2\n",
      "----- Generating with seed: \"gramming language which is step by step and forces you to brain storm yourself to work on problems a\"\n",
      "gramming language which is step by step and forces you to brain storm yourself to work on problems about possible or my continue .  for people awougo\" cencessprog'm, from this course. dr. chuck! by seechs as, that. gives a luttol to diffiting c reals takes i'h getning looking the next best such seop guquinus are very ideal for anyowe to enjoyed is for the way,and i wann when's learn. but i have been othuriver, and i will were python, python no quick classeral.\" \"i had a weok and usefg. is eevine\n",
      "\n",
      "Epoch 00019: loss improved from 0.98348 to 0.97583, saving model to /content/gdrive/My Drive/Capstone/Data/\n",
      "Epoch 20/100\n",
      "2362/2362 [==============================] - 26s 11ms/step - loss: 0.9607 - accuracy: 0.7128 - val_loss: 1.0385 - val_accuracy: 0.6998\n",
      "\n",
      "----- Generating text after Epoch: 19\n",
      "----- diversity: 0.2\n",
      "----- Generating with seed: \"fortable for beginners. everyone should try this course who wants to learn python. \"it was a very he\"\n",
      "fortable for beginners. everyone should try this course who wants to learn python. \"it was a very helpful for beginners who want to start this course and i was a great introduction to programming and the examples and the teacher and the course is a great course for beginners with not the best course and the teaching style and the teaching style and the teacher and the teaching style and the teacher and the way the teaching is a great course for a student that the course and the course is a great\n",
      "----- diversity: 0.5\n",
      "----- Generating with seed: \"fortable for beginners. everyone should try this course who wants to learn python. \"it was a very he\"\n",
      "fortable for beginners. everyone should try this course who wants to learn python. \"it was a very helpful and the way the most start with the basics of python programming and assignments are already be the basics of programming experience and how when i was a lot of experience and it's a great teacher is very instructor is a great course. the teacher and thank you for providing such a great teacher is a great course that when i found the teaching severance for this course. i am grasp is simple a\n",
      "----- diversity: 1.0\n",
      "----- Generating with seed: \"fortable for beginners. everyone should try this course who wants to learn python. \"it was a very he\"\n",
      "fortable for beginners. everyone should try this course who wants to learn python. \"it was a very helpfun, this course cle ing this isstes them to understand the way better special. this is wess it.  i prepared many python. i deprovided  inftranding at the greaters blie.arerally enjoyed at the whentrates.lefus. the telchings of the course and manner and i was an experienced ! very simple and enjoyed.  thanks to vishos are clearly any will compretent are learned som for in feeling have a beginnin\n",
      "----- diversity: 1.2\n",
      "----- Generating with seed: \"fortable for beginners. everyone should try this course who wants to learn python. \"it was a very he\"\n",
      "fortable for beginners. everyone should try this course who wants to learn python. \"it was a very helpful forward low zerfire to do. roush, you may be abley weekn, excrucied like i having dr. chuck, to still beginner! i understand what you doing sustiquity and musider anyone who is pauts weeks tutive is when i feel the mativiosion intercessserverse, this class and sted it ham no easy for become mosiden thriesp. this was an easy to bein a review when i woukgd then the course a lot of all: it bash\n",
      "\n",
      "Epoch 00020: loss improved from 0.97583 to 0.96753, saving model to /content/gdrive/My Drive/Capstone/Data/\n",
      "Epoch 21/100\n",
      "2362/2362 [==============================] - 25s 11ms/step - loss: 0.9555 - accuracy: 0.7144 - val_loss: 1.0394 - val_accuracy: 0.6986\n",
      "\n",
      "----- Generating text after Epoch: 20\n",
      "----- diversity: 0.2\n",
      "----- Generating with seed: \"content, material and support was superb and amazing. thank you very much.\" i would highly recommend\"\n",
      "content, material and support was superb and amazing. thank you very much.\" i would highly recommend this course for beginners to the course is very good and i would sigle to the working to learn python and it was a great course for beginners. the instructor is a great teacher is a great course for beginners with the next course to program with the start with python for me to get a lot of the content and explained and i would still any programming language and it was a great course for beginners\n",
      "----- diversity: 0.5\n",
      "----- Generating with seed: \"content, material and support was superb and amazing. thank you very much.\" i would highly recommend\"\n",
      "content, material and support was superb and amazing. thank you very much.\" i would highly recommend this course for several want to learn python for this course. this is a beginner feel content for me it was a great lecturer charles severance that i had a wonderful experience that everyone who is an excellent course for beginners  this course is a great course to explore and that i did not only think that you contone this course and i would highly recommend this course to anyone who wants to ta\n",
      "----- diversity: 1.0\n",
      "----- Generating with seed: \"content, material and support was superb and amazing. thank you very much.\" i would highly recommend\"\n",
      "content, material and support was superb and amazing. thank you very much.\" i would highly recommend this course! i camtem.thankyou forward to stry with python but thank you, dr. severance. whopal videos from zero professional and .its an excepting they definitely new to ass solf-learner. \"this course is keeps through the way.zert, dr. chuck help me how wast that beentinuse. lots with programming. this course toobsilagam from are wontryly explained all the professor interesting for this worde ha\n",
      "----- diversity: 1.2\n",
      "----- Generating with seed: \"content, material and support was superb and amazing. thank you very much.\" i would highly recommend\"\n",
      "content, material and support was superb and amazing. thank you very much.\" i would highly recommend dignerte. i was very superos for.\" \"great course lectures with functions. not only tembick to dr. severanc -friever! timed to learn python, engaging efficues again word in the python for beginner i have very undertowart a tybip. the .ittrigat , beginner becade. the troinitows, but becapole ideagly, but other languages hownelfully is your something suse. tool code before; yout guide student thank \n",
      "\n",
      "Epoch 00021: loss improved from 0.96753 to 0.95969, saving model to /content/gdrive/My Drive/Capstone/Data/\n",
      "Epoch 22/100\n",
      "2362/2362 [==============================] - 26s 11ms/step - loss: 0.9489 - accuracy: 0.7162 - val_loss: 1.0389 - val_accuracy: 0.6998\n",
      "\n",
      "----- Generating text after Epoch: 21\n",
      "----- diversity: 0.2\n",
      "----- Generating with seed: \" zero programming experience before and this class made it easy and fun to get into.helpful? it was \"\n",
      " zero programming experience before and this class made it easy and fun to get into.helpful? it was beginners in the course. i have tried this course to understand the material is very interesting and the best course i have tried to learn python that even i was a great course to start this course is very interesting. the course is very interesting and the best course i have ever taken i have tried to learn python.  \" \"i will definitely recommend this course to start learning python and the expla\n",
      "----- diversity: 0.5\n",
      "----- Generating with seed: \" zero programming experience before and this class made it easy and fun to get into.helpful? it was \"\n",
      " zero programming experience before and this class made it easy and fun to get into.helpful? it was really good and also gratue reference so halpfut python class, the course is very good and also also like the course is very well programmers were are a beginner is programming language to start the course is very good students and definitely had to watch the best interesting classes i having the learning python in learning python  and i would recommend this course to complete the course and i wil\n",
      "----- diversity: 1.0\n",
      "----- Generating with seed: \" zero programming experience before and this class made it easy and fun to get into.helpful? it was \"\n",
      " zero programming experience before and this class made it easy and fun to get into.helpful? it was helped me to full without any programming\" \"pleforous he extremely hables me effoctands easily more covers level programming level.  \" busies to make programming makes everyone i will lectures   quizze to every welle with python  studiog then the nicter, you think the material to programs easy make in the field online course for beginners, but not never tiblling lectares ones with jumpins of somet\n",
      "----- diversity: 1.2\n",
      "----- Generating with seed: \" zero programming experience before and this class made it easy and fun to get into.helpful? it was \"\n",
      " zero programming experience before and this class made it easy and fun to get into.helpful? it was python programming enhach. you want starting atheally helps or sode loss, and i just i'm very imprace more apor background. i highly recommend the a smally    as a very class gu fivers for everybody-foldable inccuding that you helf disule a stiper oniditiinal last of my teaching is extentous course. idles the way of a lot to be the moded, learing, i started michigan fow much first basics truly eas\n",
      "\n",
      "Epoch 00022: loss improved from 0.95969 to 0.95320, saving model to /content/gdrive/My Drive/Capstone/Data/\n",
      "Epoch 23/100\n",
      "2362/2362 [==============================] - 26s 11ms/step - loss: 0.9373 - accuracy: 0.7189 - val_loss: 1.0409 - val_accuracy: 0.6986\n",
      "\n",
      "----- Generating text after Epoch: 22\n",
      "----- diversity: 0.2\n",
      "----- Generating with seed: \"l, i could tell that he has been teaching for a long time and it just comes naturally. the videos ma\"\n",
      "l, i could tell that he has been teaching for a long time and it just comes naturally. the videos material and the way the course is very good course for a beginner language and the assignments and assignments and even though the course with the best course i have a bit of experience with the best course in a structure and explained and i am a beginner and also well structured and the way the assignments and even though the course was a great introduction to python and the assignments and even t\n",
      "----- diversity: 0.5\n",
      "----- Generating with seed: \"l, i could tell that he has been teaching for a long time and it just comes naturally. the videos ma\"\n",
      "l, i could tell that he has been teaching for a long time and it just comes naturally. the videos made me to the way the assignments to continue to the programming language.  \"the assignments and structure as the professor is very easy to understand and assignments and explained the students and programming for everybody was a beginner language i have a never understood and the assignments and everything and the way that i can take bether all who would highly recommend this to the way the assign\n",
      "----- diversity: 1.0\n",
      "----- Generating with seed: \"l, i could tell that he has been teaching for a long time and it just comes naturally. the videos ma\"\n",
      "l, i could tell that he has been teaching for a long time and it just comes naturally. the videos made this course to teres of this .\" \"i'm very brip forme. thank you for someone who wants to learn python.  \" the course has the really. i am haven to learn stoor with the crucking the lecture. i've learned happy person who has helpable in this and   coursera for me , musy thanks to think it been i can only interved to try after a great teacher! the instructor is awesome. it was unter way the optoo\n",
      "----- diversity: 1.2\n",
      "----- Generating with seed: \"l, i could tell that he has been teaching for a long time and it just comes naturally. the videos ma\"\n",
      "l, i could tell that he has been teaching for a long time and it just comes naturally. the videos mastatevel. \"its insperiducly speed of dr.chack usht interactivizament, de insprechtion could be,viousa on to python aw youreation.this course and contrates and ithrias one!\" have been . maybe. gre the forum of also definitely leken this world, i will.   s- excellemt and horeigly. idesile, and very learning formipizatic.\" breans for this course.\" \"i with. makes fundamental boter.  every ponce in the\n",
      "\n",
      "Epoch 00023: loss improved from 0.95320 to 0.94549, saving model to /content/gdrive/My Drive/Capstone/Data/\n",
      "Epoch 24/100\n",
      "2362/2362 [==============================] - 26s 11ms/step - loss: 0.9337 - accuracy: 0.7203 - val_loss: 1.0367 - val_accuracy: 0.7005\n",
      "\n",
      "----- Generating text after Epoch: 23\n",
      "----- diversity: 0.2\n",
      "----- Generating with seed: \"\" \"for users who don't really know what programming is. it's like taking the first baby steps toward\"\n",
      "\" \"for users who don't really know what programming is. it's like taking the first baby steps towards the course and the material is very good and i would have a great teacher is very good and the professor charles severance is a great course! i love the course and the material was a great course for beginners with programming and i would like to start students and programming languages. i would like to the professor and the material is feel like sever to learn about programming and i would like\n",
      "----- diversity: 0.5\n",
      "----- Generating with seed: \"\" \"for users who don't really know what programming is. it's like taking the first baby steps toward\"\n",
      "\" \"for users who don't really know what programming is. it's like taking the first baby steps towards it was a great course for beginners with the course is and the material in python from learning for the course in a were to the trught top for the professor and how to progress introduce. \" \"i had some pailed and then this course was a great job course content was a suiter that i learned a lot a non programming languages without real to be the course made it it was been i do not have and i have \n",
      "----- diversity: 1.0\n",
      "----- Generating with seed: \"\" \"for users who don't really know what programming is. it's like taking the first baby steps toward\"\n",
      "\" \"for users who don't really know what programming is. it's like taking the first baby steps towards are truck in of the formext course to heve chan't understand every concession to start and understanding the excitatically right instructor was very useful and the assignments.  i loved this worde not at programming for everybody\"\" the instructor explains easy to communicatiog  heme keels a pleasand things several story atets and python, it was very eash regiek are syntics concepts and agains th\n",
      "----- diversity: 1.2\n",
      "----- Generating with seed: \"\" \"for users who don't really know what programming is. it's like taking the first baby steps toward\"\n",
      "\" \"for users who don't really know what programming is. it's like taking the first baby steps towards. the pewt teacher is awesome, i was ableyon ethan issled me that but you start. it the world it using platform learning experience with your than tothrop i praidying with. like the python programming. and studib some do not ove trum is very usef program introduction is challenging and python fbuikner who went teaches mest..outding actinating. i, i have: full that i have prion lost!\":-firt   . dr\n",
      "\n",
      "Epoch 00024: loss improved from 0.94549 to 0.94027, saving model to /content/gdrive/My Drive/Capstone/Data/\n",
      "Epoch 25/100\n",
      "2362/2362 [==============================] - 26s 11ms/step - loss: 0.9249 - accuracy: 0.7230 - val_loss: 1.0429 - val_accuracy: 0.6986\n",
      "\n",
      "----- Generating text after Epoch: 24\n",
      "----- diversity: 0.2\n",
      "----- Generating with seed: \"rity of explanation i faced no difficulty. \"the professor is excellent and those bonus are interesti\"\n",
      "rity of explanation i faced no difficulty. \"the professor is excellent and those bonus are interesting and the course was very helpful for me to want to learn python for me to teach more courses on python and the assignments are very helpful for me. i wish to learn more courses to beginners to programming in a fellow and the course was very helpful for me. i am a beginner and the assignments are very helpful for beginners with not only passed for me. i had zero programming for everybody was a gr\n",
      "----- diversity: 0.5\n",
      "----- Generating with seed: \"rity of explanation i faced no difficulty. \"the professor is excellent and those bonus are interesti\"\n",
      "rity of explanation i faced no difficulty. \"the professor is excellent and those bonus are interesting to the first course in this course and it was video learning python.                                                                                                                                                                                                                                                                                                                                         \n",
      "----- diversity: 1.0\n",
      "----- Generating with seed: \"rity of explanation i faced no difficulty. \"the professor is excellent and those bonus are interesti\"\n",
      "rity of explanation i faced no difficulty. \"the professor is excellent and those bonus are interesting. dr.chucks explains work otheription to mr.id please perhorm inslefuned, you are particular while lectures and truly enroll of programming background. the instructor dr charles! thanks \" dr. chuck easye to teach dr. charles dralledent gives you woncomentable, functions. i'm he trugils to continue how to understand the code.\" kingly. it is muchan to programming!\" \"it is adventabliating efforts a\n",
      "----- diversity: 1.2\n",
      "----- Generating with seed: \"rity of explanation i faced no difficulty. \"the professor is excellent and those bonus are interesti\"\n",
      "rity of explanation i faced no difficulty. \"the professor is excellent and those bonus are interesting basics.  great.iss effommer proirs lets lears furure! one additiomar .i deall the teaching and take on in the videos but of ithinging true introduction dr severan enally dr. chuck is very good as lectures like that i am one material you need python. with now. heared more.  really great of subcit and i recommend every broorse of any pevidates bit this your how not       weecr agaving in a sub an\n",
      "\n",
      "Epoch 00025: loss improved from 0.94027 to 0.93386, saving model to /content/gdrive/My Drive/Capstone/Data/\n",
      "Epoch 26/100\n",
      "2362/2362 [==============================] - 26s 11ms/step - loss: 0.9166 - accuracy: 0.7247 - val_loss: 1.0425 - val_accuracy: 0.6991\n",
      "\n",
      "----- Generating text after Epoch: 25\n",
      "----- diversity: 0.2\n",
      "----- Generating with seed: \"line courses.  the automated graded system is accurate but brutally exact, so be careful when submit\"\n",
      "line courses.  the automated graded system is accurate but brutally exact, so be careful when submit atteaching and the assignments and also the course is very good and i am going to learn python and it was a great teacher. i would style to anyone who wants to learn python and also that i can learn a lot of experience with the course and i am a programmer and i have tried to learn python and the assignments and also the course is very good and i found this course for this course and i would styl\n",
      "----- diversity: 0.5\n",
      "----- Generating with seed: \"line courses.  the automated graded system is accurate but brutally exact, so be careful when submit\"\n",
      "line courses.  the automated graded system is accurate but brutally exact, so be careful when submit. i am good at all the language and start in this programming experience and i really learn python in the way the lecture where you any the course and course for python to programming in a few language in python programming course for a monione first time programming language.  \" \"i've tried to learn python and coding language in python.  contents and example in the subject. i must with the course\n",
      "----- diversity: 1.0\n",
      "----- Generating with seed: \"line courses.  the automated graded system is accurate but brutally exact, so be careful when submit\"\n",
      "line courses.  the automated graded system is accurate but brutally exact, so be careful when submit. i feel with edicimated understanding liter material who say point and explaining fun. i its inco sure, it joke a lot. for mehing that kunof-liney that i didncadt more course for mestory learning picing to give a lot. very useful with my first course. how my learning making it also a things well as well. which would like the ploble, under of in the course.i have covered and i had mean turounde th\n",
      "----- diversity: 1.2\n",
      "----- Generating with seed: \"line courses.  the automated graded system is accurate but brutally exact, so be careful when submit\"\n",
      "line courses.  the automated graded system is accurate but brutally exact, so be careful when submit, i was helped me helped in contant that passable courses.great crased for these who are laserial is agreat for everybody extre. herminilized vire!  charles severance convey. it as a very clear manner. iss funcam with this has times, buic of learned, i, very using metisers bit oppon to .\" \"it's beginnons and that's to watchent expluant. i couldher shelt resient and programming because it will crea\n",
      "\n",
      "Epoch 00026: loss improved from 0.93386 to 0.92714, saving model to /content/gdrive/My Drive/Capstone/Data/\n",
      "Epoch 27/100\n",
      "2362/2362 [==============================] - 26s 11ms/step - loss: 0.9122 - accuracy: 0.7254 - val_loss: 1.0474 - val_accuracy: 0.6989\n",
      "\n",
      "----- Generating text after Epoch: 26\n",
      "----- diversity: 0.2\n",
      "----- Generating with seed: \". i can follow the steps and make sense to me who have no programming background at all. highly reco\"\n",
      ". i can follow the steps and make sense to me who have no programming background at all. highly recommended!\" \"a great course for beginner language  it is a great course for beginner like me the basics of python and also it was very helpful to understand and help for the end of explaining the course. i also like the course is a great course for beginners who want to learn python before but not learn a lot. i am a beginner lectures assignments are very helpful to learn about programming and start\n",
      "----- diversity: 0.5\n",
      "----- Generating with seed: \". i can follow the steps and make sense to me who have no programming background at all. highly reco\"\n",
      ". i can follow the steps and make sense to me who have no programming background at all. highly recommended for me to learn python before but i have learned a lot that i would still explanations and don't get a completely new the basics of computer science in python. \"i am a programmed learning and i am completely new the video learning for the attraction of your first course i will for everyone is so had some of the best course all the video less than the course is very easy to learn to the pro\n",
      "----- diversity: 1.0\n",
      "----- Generating with seed: \". i can follow the steps and make sense to me who have no programming background at all. highly reco\"\n",
      ". i can follow the steps and make sense to me who have no programming background at all. highly recommended. and etcan assignments\"  i sir thank you coursera, the valueb and how very well can do start with the course..\" \"i really readons. \"as someone who known'the wants to souch charles severance for the best lectures are a basics with a stragges for possess in the fundamentals were really well explanations are very i'm ulfwlors to fight help dementer completed my backg on more courses chapter s\n",
      "----- diversity: 1.2\n",
      "----- Generating with seed: \". i can follow the steps and make sense to me who have no programming background at all. highly reco\"\n",
      ". i can follow the steps and make sense to me who have no programming background at all. highly recommedd this course to must learn abrouscemely and the challs   soffode way to dvied ffee all theile i non motivating and have each in griate learning in programming \" \"each quifter of kwow the textand presciling ale weeky. \" \"great introed with note must level verword which really a good, me as it does nen nothwowdesion is teached wonders goda wothas a a good material, i thought to ampastand video.\n",
      "\n",
      "Epoch 00027: loss improved from 0.92714 to 0.92218, saving model to /content/gdrive/My Drive/Capstone/Data/\n",
      "Epoch 28/100\n",
      "2362/2362 [==============================] - 26s 11ms/step - loss: 0.9076 - accuracy: 0.7272 - val_loss: 1.0446 - val_accuracy: 0.6990\n",
      "\n",
      "----- Generating text after Epoch: 27\n",
      "----- diversity: 0.2\n",
      "----- Generating with seed: \"ippets in my day and then review it again and again so that i could comprehend the nuances of the le\"\n",
      "ippets in my day and then review it again and again so that i could comprehend the nuances of the lessons are like a bit of the course in the specialization. i had a great teacher. i am a great introduction to python and start for beginners and start for beginners. the instructor is very helpful for me in the course is very helpful for me to get the course and the course is very useful and i have never used the course is very interesting and the course is very useful and the lectures are very us\n",
      "----- diversity: 0.5\n",
      "----- Generating with seed: \"ippets in my day and then review it again and again so that i could comprehend the nuances of the le\"\n",
      "ippets in my day and then review it again and again so that i could comprehend the nuances of the learners in the course and it was really good and helped me to all the book is a good interest on mone and the learners through the course is very good course for everybody is very fun and easy to complete and i am not so much foundation to programming. this course helped me to got and the assignments and a great teacher. he is a great introduction to python and be able to comprehents that make thro\n",
      "----- diversity: 1.0\n",
      "----- Generating with seed: \"ippets in my day and then review it again and again so that i could comprehend the nuances of the le\"\n",
      "ippets in my day and then review it again and again so that i could comprehend the nuances of the lessons. i recommend the concepts were courseriand and joken! the suren't a goor first to get at their took learning even if teachen in one after the formew. concept style that was so nice. you no every will lefres you thing dr charles severance and the following you to while may be able to do now the course difficult developed more and some many look us quality through offite specialization, and ap\n",
      "----- diversity: 1.2\n",
      "----- Generating with seed: \"ippets in my day and then review it again and again so that i could comprehend the nuances of the le\"\n",
      "ippets in my day and then review it again and again so that i could comprehend the nuances of the lesso, challenging for anyone. it is very hloped whick  i will gained a basic programming for beginners. the only     none the programming language thank you,\" learn a awerate found itsine dusives in sure of designed c dealling user will tapker.   \"i ven thing not.  . quise,thanks full was. professor chuck and to the next courses and manderned.  although enronices. if you are fiel my basic language.\n",
      "\n",
      "Epoch 00028: loss improved from 0.92218 to 0.91677, saving model to /content/gdrive/My Drive/Capstone/Data/\n",
      "Epoch 29/100\n",
      "2362/2362 [==============================] - 26s 11ms/step - loss: 0.9000 - accuracy: 0.7288 - val_loss: 1.0490 - val_accuracy: 0.6981\n",
      "\n",
      "----- Generating text after Epoch: 28\n",
      "----- diversity: 0.2\n",
      "----- Generating with seed: \" assistant staff is so helpful; the quick response was so helped. i would like to take other python \"\n",
      " assistant staff is so helpful; the quick response was so helped. i would like to take other python programming language. i will recommend this course for beginners without fact that i could now the course and the first course in the students and assignments are super even for the beginners and the students and also thank you for the beginners with the basics of python and all the course is a very good course for beginners without for the best course i have ever seen to learn and start in the sp\n",
      "----- diversity: 0.5\n",
      "----- Generating with seed: \" assistant staff is so helpful; the quick response was so helped. i would like to take other python \"\n",
      " assistant staff is so helpful; the quick response was so helped. i would like to take other python programming language and coding background in a bitcessive enough to have a great clasion as well as to study the subject, and i have new to python from the basic coding and the structure. i have a great teacher is complete the basics of python more programming in python, it was a great course in computer science before the course as the course is a very good course for the beginners with coursera\n",
      "----- diversity: 1.0\n",
      "----- Generating with seed: \" assistant staff is so helpful; the quick response was so helped. i would like to take other python \"\n",
      " assistant staff is so helpful; the quick response was so helped. i would like to take other python python.  i highly recommend efforey and the teacher as my carretiving and this loved  from yourstake bechallenguilful you good content easily. i ap not had englisiol jossubly want to learn python, the way the content, by that could we want the programming logically and though.  although i have recommend this course to a great wort :.  this course iss time quet teaching exercises are well, i help f\n",
      "----- diversity: 1.2\n",
      "----- Generating with seed: \" assistant staff is so helpful; the quick response was so helped. i would like to take other python \"\n",
      " assistant staff is so helpful; the quick response was so helped. i would like to take other python was.\" \"this is the video. makes ahout python, by was beginner into part of informpangiss to know come. i am just, coursera.\" \"not put attect if university, were be able to make be when rected it and it will discuss them wonderfllonal. good for those whu had by you sunce fore that the course was extremely gobable and understand, th! is of we haven denolize course, teaches have some so that he to i \n",
      "\n",
      "Epoch 00029: loss improved from 0.91677 to 0.91171, saving model to /content/gdrive/My Drive/Capstone/Data/\n"
     ]
    }
   ],
   "source": [
    "history = model_ckpt.fit(X_train, y_train, batch_size=128, epochs=100, validation_data =(X_test, y_test),callbacks=callbacks)"
   ]
  },
  {
   "cell_type": "markdown",
   "metadata": {
    "id": "7ASEbkDrYBcb"
   },
   "source": [
    "### 10. evaluating performance of model"
   ]
  },
  {
   "cell_type": "markdown",
   "metadata": {
    "id": "uxif6F82lDqV"
   },
   "source": [
    "#### 10.1 Training Accuracy & Loss"
   ]
  },
  {
   "cell_type": "code",
   "execution_count": 24,
   "metadata": {
    "colab": {
     "base_uri": "https://localhost:8080/"
    },
    "id": "n2LEUqFvdEh8",
    "outputId": "ff188b61-93dc-4063-9524-a4bbb3eba529"
   },
   "outputs": [
    {
     "name": "stdout",
     "output_type": "stream",
     "text": [
      "dict_keys(['loss', 'accuracy', 'val_loss', 'val_accuracy', 'lr'])\n"
     ]
    }
   ],
   "source": [
    "print(history.history.keys())"
   ]
  },
  {
   "cell_type": "code",
   "execution_count": 25,
   "metadata": {
    "colab": {
     "base_uri": "https://localhost:8080/"
    },
    "id": "lMLs-7JyYBcb",
    "outputId": "71531fd7-92c8-46d8-fa01-46ac9592cdac"
   },
   "outputs": [
    {
     "name": "stdout",
     "output_type": "stream",
     "text": [
      "9445/9445 - 30s - loss: 0.8817 - accuracy: 0.7353\n"
     ]
    }
   ],
   "source": [
    "train_Loss, train_Accuracy = model_ckpt.evaluate(X_train, y_train, verbose=2)"
   ]
  },
  {
   "cell_type": "code",
   "execution_count": 26,
   "metadata": {
    "colab": {
     "base_uri": "https://localhost:8080/",
     "height": 419
    },
    "id": "3Q2fmTNBYBcc",
    "outputId": "fc8f8f0c-d5a8-4423-c150-8c9d957aa5e2"
   },
   "outputs": [
    {
     "data": {
      "image/png": "[encoded data removed]",
      "text/plain": [
       "<Figure size 864x432 with 1 Axes>"
      ]
     },
     "metadata": {
      "needs_background": "light",
      "tags": []
     },
     "output_type": "display_data"
    }
   ],
   "source": [
    "plt.figure(figsize=(12,6))\n",
    "plt.rcParams['font.size'] = '16'\n",
    "plt.plot(history.history['accuracy'], label='Accuracy', lw=2)\n",
    "plt.xlabel('Count of Epoch')\n",
    "plt.ylabel('Accuracy')\n",
    "plt.title('Accuracy over count of Epochs', fontsize=20)\n",
    "plt.legend();"
   ]
  },
  {
   "cell_type": "code",
   "execution_count": 27,
   "metadata": {
    "colab": {
     "base_uri": "https://localhost:8080/",
     "height": 437
    },
    "id": "ZftL8Z9oYBcc",
    "outputId": "98a78ec0-0a0f-4c3f-c00f-0a09216be9d4"
   },
   "outputs": [
    {
     "name": "stderr",
     "output_type": "stream",
     "text": [
      "No handles with labels found to put in legend.\n"
     ]
    },
    {
     "data": {
      "image/png": "[encoded data removed]",
      "text/plain": [
       "<Figure size 864x432 with 1 Axes>"
      ]
     },
     "metadata": {
      "needs_background": "light",
      "tags": []
     },
     "output_type": "display_data"
    }
   ],
   "source": [
    "plt.figure(figsize=(12,6))\n",
    "plt.plot(history.history['loss'], lw=2, color='red')\n",
    "plt.xlabel('Count of Epoch')\n",
    "plt.ylabel('loss')\n",
    "plt.title('loss over count of Epochs', fontsize=20)\n",
    "plt.legend();"
   ]
  },
  {
   "cell_type": "markdown",
   "metadata": {
    "id": "gMA46JAElDqX"
   },
   "source": [
    "#### 10.2 Testing Accuracy & Loss"
   ]
  },
  {
   "cell_type": "code",
   "execution_count": 28,
   "metadata": {
    "colab": {
     "base_uri": "https://localhost:8080/"
    },
    "id": "g4fwjuEOYBcc",
    "outputId": "52cf1a88-67aa-4d1c-b7b9-9a2ba8fd2672"
   },
   "outputs": [
    {
     "name": "stdout",
     "output_type": "stream",
     "text": [
      "3149/3149 - 10s - loss: 1.0490 - accuracy: 0.6981\n"
     ]
    }
   ],
   "source": [
    "test_Loss, test_Accuracy = model_ckpt.evaluate(X_test, y_test, verbose=2)"
   ]
  },
  {
   "cell_type": "code",
   "execution_count": 29,
   "metadata": {
    "colab": {
     "base_uri": "https://localhost:8080/",
     "height": 419
    },
    "id": "WRADY3MGYBcc",
    "outputId": "70cd42ed-98b9-41b5-ae67-321458b0cfdb"
   },
   "outputs": [
    {
     "data": {
      "image/png": "[encoded data removed]",
      "text/plain": [
       "<Figure size 864x432 with 1 Axes>"
      ]
     },
     "metadata": {
      "needs_background": "light",
      "tags": []
     },
     "output_type": "display_data"
    }
   ],
   "source": [
    "plt.figure(figsize=(12,6))\n",
    "plt.plot(history.history['val_accuracy'], label='Accuracy', lw=2, color='skyblue')\n",
    "plt.xlabel('Count of Epoch')\n",
    "plt.ylabel('Validation Accuracy')\n",
    "plt.title('Validation Accuracy over count of Epochs', fontsize=20)\n",
    "plt.legend();"
   ]
  },
  {
   "cell_type": "code",
   "execution_count": 30,
   "metadata": {
    "colab": {
     "base_uri": "https://localhost:8080/",
     "height": 419
    },
    "id": "AAFBrBNSYBcc",
    "outputId": "91626dbb-66ed-43ac-be5d-f000a6fe4125",
    "scrolled": false
   },
   "outputs": [
    {
     "data": {
      "image/png": "[encoded data removed]",
      "text/plain": [
       "<Figure size 864x432 with 1 Axes>"
      ]
     },
     "metadata": {
      "needs_background": "light",
      "tags": []
     },
     "output_type": "display_data"
    }
   ],
   "source": [
    "plt.figure(figsize=(12,6))\n",
    "plt.plot(history.history['val_loss'], lw=2, label='Val_loss', color='orange')\n",
    "plt.xlabel('Count of Epoch')\n",
    "plt.ylabel('Validation loss')\n",
    "plt.title('Validation loss over count of Epochs', fontsize=20)\n",
    "plt.legend();"
   ]
  },
  {
   "cell_type": "markdown",
   "metadata": {
    "id": "2f0h9cFJlDqX"
   },
   "source": [
    "#### 10.3 Plotting train and test together"
   ]
  },
  {
   "cell_type": "code",
   "execution_count": 31,
   "metadata": {
    "colab": {
     "base_uri": "https://localhost:8080/",
     "height": 419
    },
    "id": "i-hUIZuEYBcc",
    "outputId": "51f985c1-e5c7-45f3-ba8c-f4f66604acdd"
   },
   "outputs": [
    {
     "data": {
      "image/png": "[encoded data removed]",
      "text/plain": [
       "<Figure size 864x432 with 1 Axes>"
      ]
     },
     "metadata": {
      "needs_background": "light",
      "tags": []
     },
     "output_type": "display_data"
    }
   ],
   "source": [
    "### Combine both plots\n",
    "\n",
    "plt.figure(figsize=(12,6))\n",
    "plt.rcParams['font.size'] = '16'\n",
    "plt.plot(history.history['accuracy'], label='Accuracy', lw=2, color='blue')\n",
    "plt.plot(history.history['val_accuracy'], label='val Accuracy', lw=2, color = 'skyblue')\n",
    "plt.xlabel('Count of Epoch')\n",
    "plt.ylabel('Accuracy')\n",
    "plt.title('Accuracy over count of Epochs', fontsize=20)\n",
    "plt.legend();"
   ]
  },
  {
   "cell_type": "code",
   "execution_count": 32,
   "metadata": {
    "colab": {
     "base_uri": "https://localhost:8080/",
     "height": 437
    },
    "id": "YTIWEy9DYBcd",
    "outputId": "396270fa-ac1c-4545-f69c-871c153d5f16"
   },
   "outputs": [
    {
     "name": "stderr",
     "output_type": "stream",
     "text": [
      "No handles with labels found to put in legend.\n"
     ]
    },
    {
     "data": {
      "image/png": "[encoded data removed]",
      "text/plain": [
       "<Figure size 864x432 with 1 Axes>"
      ]
     },
     "metadata": {
      "needs_background": "light",
      "tags": []
     },
     "output_type": "display_data"
    }
   ],
   "source": [
    "plt.figure(figsize=(12,6))\n",
    "plt.plot(history.history['loss'], lw=2, color='red')\n",
    "plt.plot(history.history['val_loss'], lw=2, color='orange')\n",
    "plt.xlabel('Count of Epoch')\n",
    "plt.ylabel('loss')\n",
    "plt.title('loss over count of Epochs', fontsize=20)\n",
    "plt.legend();"
   ]
  },
  {
   "cell_type": "markdown",
   "metadata": {
    "id": "-cnacZpKYBcd"
   },
   "source": [
    "### 11. Loading my pre-trained weights to resume training"
   ]
  },
  {
   "cell_type": "code",
   "execution_count": null,
   "metadata": {
    "id": "vzsGBYlGlDqY"
   },
   "outputs": [],
   "source": [
    "# Instantiate my new model\n",
    "model_ckpt2 = create_model()\n",
    "\n",
    "# load the saved weights into my instantiated model\n",
    "#\n",
    "model_ckpt2.load_weights(filepath)"
   ]
  },
  {
   "cell_type": "code",
   "execution_count": null,
   "metadata": {
    "id": "G6eOy0TgYBcd"
   },
   "outputs": [],
   "source": [
    "# resume the training\n",
    "\n",
    "model_ckpt2.fit(X_train, y_train, batch_size=128, epochs=5, validation_data =(X_test, y_test),callbacks=callbacks))"
   ]
  },
  {
   "cell_type": "code",
   "execution_count": null,
   "metadata": {
    "id": "uJ9KsWYhYBcd"
   },
   "outputs": [],
   "source": [
    "train_Loss, train_Accuracy = model_ckpt2.evaluate(X_train, y_train, verbose=2)"
   ]
  },
  {
   "cell_type": "code",
   "execution_count": null,
   "metadata": {
    "id": "HOh20i6eYBcd"
   },
   "outputs": [],
   "source": [
    "test_Loss, test_Accuracy = model_ckpt2.evaluate(X_test, y_test, verbose=2)"
   ]
  },
  {
   "cell_type": "markdown",
   "metadata": {
    "id": "3zkv9Zm6YBcd"
   },
   "source": [
    "### 12.Try generating text using help from keras.io"
   ]
  },
  {
   "cell_type": "markdown",
   "metadata": {
    "id": "RzJNC5QqlDqZ"
   },
   "source": [
    "- testing the trained model to generate text given a random index/integer\n",
    "- which the integer will be mapped into the 36 different characters\n",
    "- diversity in this case refers to temperature too:\n",
    "  - lower the diversity/temperature, makes the model generate text that are more conservative\n",
    "  - higher the diveristy/temperature, makess the model generate text that have more diversity but might be prone to mistakes"
   ]
  },
  {
   "cell_type": "code",
   "execution_count": 33,
   "metadata": {
    "id": "AbFdWBnRYBce"
   },
   "outputs": [],
   "source": [
    "def generate_text(length, diversity):\n",
    "    # Get random starting text\n",
    "    start_index = random.randint(0, len(text) - maxlen - 1)\n",
    "    generated = ''\n",
    "    sentence = text[start_index: start_index + maxlen]\n",
    "    generated += sentence\n",
    "    for i in range(length):\n",
    "            x_pred = np.zeros((1, maxlen, len(chars)))\n",
    "            for t, char in enumerate(sentence):\n",
    "                x_pred[0, t, char_indices[char]] = 1.\n",
    "\n",
    "            preds = model_ckpt.predict(x_pred, verbose=0)[0]\n",
    "            next_index = sample(preds, diversity)\n",
    "            next_char = indices_char[next_index]\n",
    "\n",
    "            generated += next_char\n",
    "            sentence = sentence[1:] + next_char\n",
    "    return generated"
   ]
  },
  {
   "cell_type": "code",
   "execution_count": 34,
   "metadata": {
    "colab": {
     "base_uri": "https://localhost:8080/"
    },
    "id": "nLSE9rTGYBcf",
    "outputId": "78c1400e-a22a-433b-aa2c-1c26654ec8f4"
   },
   "outputs": [
    {
     "name": "stdout",
     "output_type": "stream",
     "text": [
      "only truly challenged on the last section of the course where the homework took me more than  -   might seem that i was able to get started with the course.  the instructor is a very good course for beginners without fact that i can follow and have a nice the course is an excellent course for beginners with the course is a very good course for beginners without familiar with the basics of python and the course is very good and i am going to programming language and i would like to start this course and i would like to start this course and i would like to start this course and the course is a \n"
     ]
    }
   ],
   "source": [
    "print(generate_text(500, 0.2))"
   ]
  },
  {
   "cell_type": "code",
   "execution_count": 35,
   "metadata": {
    "colab": {
     "base_uri": "https://localhost:8080/"
    },
    "id": "wZkuPj6Kj5FH",
    "outputId": "e9d329dc-2fa4-4960-fef0-d9da2aedf1d2"
   },
   "outputs": [
    {
     "name": "stdout",
     "output_type": "stream",
     "text": [
      "etty friendly and suitable to a novice like me. the professor is very humorous and his lecture is clearly and solve of the course is really good and i would like to go a structures with the basics of python but has a wonderful experience. the learning of the course that i could not start courses on that i can take the start in a week computer programming language, but i like the basic programming language. i would like to go a step by step in the basics of python and found this course.  i am a beginner of the course and with the specialization to my friends for the skills and start if you all \n"
     ]
    }
   ],
   "source": [
    "print(generate_text(500, 0.5))"
   ]
  },
  {
   "cell_type": "code",
   "execution_count": 36,
   "metadata": {
    "colab": {
     "base_uri": "https://localhost:8080/"
    },
    "id": "oOnWrHgnim_V",
    "outputId": "9b478f2c-4667-4d0c-99e1-87d59ed1effd"
   },
   "outputs": [
    {
     "name": "stdout",
     "output_type": "stream",
     "text": [
      " out. his teaching speed is very concise, comfortable, and not too fast. he didn't mention all the taking this course! this is my first easy with my competional and get my giod to learn. thank you. and apares for the basics of python. it guing teacher. you want to the way time to code.... so highly extremely wos.  i very need to all was defbines for the userapt full as well structured if atmaterscerseor and prop.. you have this easily at the version with python, the instructor was examples ard intlive people fun. i would enjoyed this course and funny as stand at him with better.it. in the very\n"
     ]
    }
   ],
   "source": [
    "print(generate_text(500, 1))"
   ]
  },
  {
   "cell_type": "code",
   "execution_count": 37,
   "metadata": {
    "colab": {
     "base_uri": "https://localhost:8080/"
    },
    "id": "6GhtUDQYqtqx",
    "outputId": "e8e3d31b-8310-4591-c354-5e112e858495"
   },
   "outputs": [
    {
     "name": "stdout",
     "output_type": "stream",
     "text": [
      "urses at the same time. during this time i was also working night shifts. i had to quit all courses in the student the course is a very good course for beginners without factart it and i am going to everyone who want to start want to learn python from the beginners with the best course i am so fert that i could now the course and the way the course is very good and i am going to assignments are a great course in the structures with the basics of python and the course and the advined the course is very good and i am got and work and fun to learn python but i was able to all the course is very good and i am going to anyone who wants to learn python from the basics of python and the assignments are very easy to understand and the assignments are easy to understand and complete the course.  \" \"i am going to be able to complete the course and the way the course is a very good course for beginners without for the next course is a great course for beginners without fact that i was able to get the basics of python and the course is a very good course for beginners in python and the course an\n"
     ]
    }
   ],
   "source": [
    "print(generate_text(1000, 0.2))"
   ]
  },
  {
   "cell_type": "code",
   "execution_count": 38,
   "metadata": {
    "colab": {
     "base_uri": "https://localhost:8080/"
    },
    "id": "WrkOY8HjkSEh",
    "outputId": "252a0627-27a4-4dd4-aa12-8f8ececaecec"
   },
   "outputs": [
    {
     "name": "stdout",
     "output_type": "stream",
     "text": [
      "hough i was not completely one. the teacher is funny and knows how to explain the concepts in a clear and i would sever than a great course to start learning python and a way that i can also have any pofelemer of students and assignments, it is a very good course i have ever having for students and so gives you the lectures are interesting with coding and i would like to start in the specialization. however, much course is an excellent entworouse and for the beginners in the strusting. dr. chuck was a great classes in the student seven to understand all the programming language in the start with the course. thank you so much design is a such a real professor chuck and the course was very much for the course and start in coding assignments would be about the course and it was internet to the course and every made an endioue into the lectures and paced for the beginners without familiar with the students are very interesting. it is awesome enthusiasmis at a great teacher. thank you dr chuck, it was a great introduction to python as a much many the way the course is very good at english\n"
     ]
    }
   ],
   "source": [
    "print(generate_text(1000, 0.5))"
   ]
  },
  {
   "cell_type": "code",
   "execution_count": 39,
   "metadata": {
    "colab": {
     "base_uri": "https://localhost:8080/"
    },
    "id": "cENfLeUvinGa",
    "outputId": "1169637e-f6c7-426f-92dc-e35c61db764f"
   },
   "outputs": [
    {
     "name": "stdout",
     "output_type": "stream",
     "text": [
      "helpful for whom need computation works, like numerical calculations, but don't know anything about the way as the ailly highly learned.the way the professor donging the basics of python and make us the way structured, to the next teacher and an online editional to follow anyone who made the course and prof. severance before started where the course with scholly quizzes too very good thing background. the instructor freserad.\" \"an easy, without computer science of dr. charles one gives to co to full to learn this carefriale they impothed on your owndolopsy., so good introduction slides that makes this classes. thank you so my fgrame. be under too and more coof in the course.\" \"great course! pechally the before, and a greaturefuctive and inder python with. \"personalively hishingring about python. this is a elso if you are for up way defecentissing tham from the basic programming, to you become days. this is the best of courses for the best picul.this capt introduction mr. seybuch especially, such beginners in aghent to the teaching several course for possts and using python programmin\n"
     ]
    }
   ],
   "source": [
    "print(generate_text(1000, 1))"
   ]
  },
  {
   "cell_type": "code",
   "execution_count": 40,
   "metadata": {
    "colab": {
     "base_uri": "https://localhost:8080/"
    },
    "id": "pcn4jJTakyIC",
    "outputId": "1aa3240f-8ebc-4346-912e-730615c67ccf"
   },
   "outputs": [
    {
     "name": "stdout",
     "output_type": "stream",
     "text": [
      "d dr. chuck keeps it interesting and fun, without being over-the-top. i am definitely giving a shot are truey and.twask you more clear in python   week of the lectures's looking fores, confidence in do not highly that frame before the subject, as to seming fierds.  the assignments are usef lown are really good understand, the learner, you want to learn pythoning in the tepone would find other introduction sometime loved it by overwhow with a realn get with the relienal enrior  the professor develle for the course by the professor.  i gots a friend application adoug to clesees can follow anyone without any prior knowledge. for someone would new intoroctional expects, as proper donginger courses i liked this course that you day of the eadiess, of simple material. andwerse who want to learn him at also like lot. i had to every one frome very intiminitiation.  i would recommend this course for a mento more edechiog on python.\" \"good course in a computer langer it definively if you all complete byst-of material, things weoning to-bost apporining the stusent mataging this course a little moded which was dr. severance is enderstand the best commint. it not wat very enjoytentic suppix,in the conceping a his expects all where the assignment. i think to programming is easy to learn about pythone. second his teacher camplemwercientes in the course being the way it a lot of to code python. i like his lectures are samily understand and suggestatlence of taugh the way he able this course with suggestord quick, it well should really interview with with computer programming language. but in the best way to start language you code. or., solided it for me it will aroun python programming before, in the course, its textsteve course before this course, set which didnge and it. now mownroving gain sure if you give i helpful that it was been fundratd in sylut, dowbrates int.  dr. chuck is a great teaching, beginning. i found this course for the basics. \" you have made me when you got enronleded course and one to teach me way was a-geinner. thank you coursera for programmels and they ga\n"
     ]
    }
   ],
   "source": [
    "print(generate_text(2000, 1))"
   ]
  },
  {
   "cell_type": "markdown",
   "metadata": {
    "id": "L00w5dBnlDqb"
   },
   "source": [
    "### 13. Try correct spelling of generating text using TextBlob"
   ]
  },
  {
   "cell_type": "code",
   "execution_count": 41,
   "metadata": {
    "id": "dYZXgRXArqFi"
   },
   "outputs": [],
   "source": [
    "generated1 = generate_text(1000, 1)"
   ]
  },
  {
   "cell_type": "code",
   "execution_count": 42,
   "metadata": {
    "id": "49km-LShrQ2v"
   },
   "outputs": [],
   "source": [
    "from textblob import TextBlob"
   ]
  },
  {
   "cell_type": "code",
   "execution_count": 43,
   "metadata": {
    "colab": {
     "base_uri": "https://localhost:8080/"
    },
    "id": "Tg9vrivVrlN9",
    "outputId": "3683634f-bf72-4d70-a826-6b661f7687d1"
   },
   "outputs": [
    {
     "data": {
      "text/plain": [
       "TextBlob(\"i started to love patron for the programming. thanks chuck and the teaching staff of patron for everyone who george about patron  i am happy it in a couple and the unoustonceusi. i would don't understand and really in course explanation.  if you want to learn patron firing in him.\" wild as well as would recommend to programming.\" \"it more an engineer this so much. \" \"excellent course is will. every times in this course. at that my aridity was did student to nothing times sefurant increasing university of michigan for patron but drink.thank you course teacher class that all, dated exercises. this is a great course. i thing it is great.i and coming for second gain work on friends into patron, he topic should like to study the language. i recommend this course for you are much totally will decline. i this learn bay because date for everyone eaginnents.and from do anything, but is quite guided to understand due to want to stuck week nothing coughed to programming with information in a furry fess.\" \"it's a very useful, without basis\"\" \"always, the lectures continue weeks in any\")"
      ]
     },
     "execution_count": 43,
     "metadata": {
      "tags": []
     },
     "output_type": "execute_result"
    }
   ],
   "source": [
    "b = TextBlob(generated1)\n",
    "b.correct()"
   ]
  },
  {
   "cell_type": "code",
   "execution_count": 44,
   "metadata": {
    "colab": {
     "base_uri": "https://localhost:8080/"
    },
    "id": "YSPIoR8dlPam",
    "outputId": "21b74c1d-4988-4b1d-b48e-7117e28705d1"
   },
   "outputs": [
    {
     "data": {
      "text/plain": [
       "TextBlob(\"e lecture was easy to follow, and all the materials including quit and assignment were extremely helpful to do it that you can also complete all the course are good function as the died syllabus. it is enallyning the first going and well fruendious the best programming course learning this course and i for simple person who doing no basic ancient enough earners programming. the letsaners and assignment even that his course of the some made and very best way, and it was areasingement states, but    i feel command patron from en! that you classes well. well. the learning of challenging functional the needles. thank you course and the explanation knowing of by how patron is supprocep-in engaged in class made be as the concepts. this for the funny or novice is ophonere, i us now bore to practice. professor severance explaining so so much watch i learn materials were already by felt make you really enjoyed it even for you will diluted all the clare video of the students at listements, retain, i would be to but that professor chuck i'll examine senate, rete if. which follow very interesting. the matareraid effective date to understand the.  anywriteed this class, i will get students a programming like me with  you are drmcodes and the assignment a fun am c while knowledge of patron in learning it so much for a loving very well structure. this course helpsute should learned helpful few basic video  shining studenced and   you can be wo completed my cooking the up or creating to students grasp. then well that is apart to his and interested and data the video set me to class further things teaching bend this ease-iss is to take not only way aftantan and mane of supplies; definitely complete by the list of the quires as evenabion! out this course, the subjects. 'a defiling material. the way dr. chuck date is the basis of the basis of stuff condition to skill through.  of recevelar and enjoyed lecture. as a few learning is understand other courses that has just cordial basis of patron to start with other life. thank you. and being and loss with the book in \")"
      ]
     },
     "execution_count": 44,
     "metadata": {
      "tags": []
     },
     "output_type": "execute_result"
    }
   ],
   "source": [
    "generated2 = generate_text(2000, 1)\n",
    "\n",
    "b2 = TextBlob(generated2)\n",
    "b2.correct()"
   ]
  }
 ],
 "metadata": {
  "accelerator": "GPU",
  "colab": {
   "collapsed_sections": [],
   "name": "Try 6 char-based text generation LSTM 100 epoch 36 char with punctuation early stop.ipynb",
   "provenance": []
  },
  "kernelspec": {
   "display_name": "Python 3",
   "language": "python",
   "name": "python3"
  },
  "language_info": {
   "codemirror_mode": {
    "name": "ipython",
    "version": 3
   },
   "file_extension": ".py",
   "mimetype": "text/x-python",
   "name": "python",
   "nbconvert_exporter": "python",
   "pygments_lexer": "ipython3",
   "version": "3.8.5"
  }
 },
 "nbformat": 4,
 "nbformat_minor": 1
}
