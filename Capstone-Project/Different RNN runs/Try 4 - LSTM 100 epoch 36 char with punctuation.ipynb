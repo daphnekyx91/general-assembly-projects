{
 "cells": [
  {
   "cell_type": "markdown",
   "metadata": {},
   "source": [
    "# Text Generation using Recurrent Neural Network"
   ]
  },
  {
   "cell_type": "markdown",
   "metadata": {
    "id": "J3bbjzTHYBcN"
   },
   "source": [
    "### Content\n",
    "- [1. Mounting the google drive to google colab](#1.-Mounting-the-google-drive-to-google-colab)\n",
    "- [2. Standard Imports for Recurrent Neural Networks](#2.-Standard-Imports-for-Recurrent-Neural-Networks)\n",
    "- [3. Loading the txt file that is used for RNN](#3.-Loading-the-txt-file-that-is-used-for-RNN)\n",
    "- [4. Exploring text dataset](#4.-Exploring-text-dataset)\n",
    "- [5. Numerical encode the sentences and features](#5.-Numerical-encode-the-sentences-and-features)\n",
    "- [6. train-test-split X and y](#6.-train-test-split-X-and-y)\n",
    "- [7. Create RNN model](#7.-Create-RNN-model)\n",
    "- [8. Creating ModelCheckpoint and callback requirements](#8.-Creating-ModelCheckpoint-and-callback-requirements)\n",
    "- [9.Training my RNN model](#9.Training-my-RNN-model)\n",
    "- [10. evaluating performance of model](#10.-evaluating-performance-of-model)\n",
    "- [11. Loading my pre-trained weights to resume training](#11.-Loading-my-pre-trained-weights-to-resume-training)\n",
    "- [12.Try generating text using help from keras.io](#12.Try-generating-text-using-help-from-keras.io)\n",
    "- [13. Try correct spelling of generating text](#13.-Try-correct-spelling-of-generating-text)\n",
    "- [14. Conclusion](#14.-Conclusion)"
   ]
  },
  {
   "cell_type": "markdown",
   "metadata": {
    "id": "gt0Nk6IcYBcT"
   },
   "source": [
    "### 1.  Mounting the google drive to google colab"
   ]
  },
  {
   "cell_type": "code",
   "execution_count": 1,
   "metadata": {
    "colab": {
     "base_uri": "https://localhost:8080/"
    },
    "id": "BBpKtYn3YBcU",
    "outputId": "3a3fe863-526f-49f8-fc45-adfa91fcf0bb"
   },
   "outputs": [
    {
     "name": "stdout",
     "output_type": "stream",
     "text": [
      "Mounted at /content/gdrive\n"
     ]
    }
   ],
   "source": [
    "# mounting the my googledrive to google.colab\n",
    "# this is needed to save my weights, Neural Network model while it is running\n",
    "# the model, weights can be accessed at a later time if google colab disconnects\n",
    "\n",
    "from google.colab import drive\n",
    "drive.mount('/content/gdrive')"
   ]
  },
  {
   "cell_type": "markdown",
   "metadata": {
    "id": "-qoa-MVbYBcU"
   },
   "source": [
    "### 2. Standard Imports for Recurrent Neural Networks"
   ]
  },
  {
   "cell_type": "code",
   "execution_count": 2,
   "metadata": {
    "id": "uAHzBz3EYBcV"
   },
   "outputs": [],
   "source": [
    "from __future__ import print_function\n",
    "\n",
    "# For preprocessing the text into integer(ids)\n",
    "# For plotting the accuracy and loss curve\n",
    "import numpy as np\n",
    "import matplotlib.pyplot as plt\n",
    "%matplotlib inline\n",
    "\n",
    "# regular expression to proprocess raw_text\n",
    "import regex as re\n",
    "\n",
    "# To instantiate Recurrent Neural Networks\n",
    "from keras.models import Sequential\n",
    "# My model will be dense with all the nodes to 'touch'\n",
    "from keras.layers import Dense, Activation\n",
    "# LSTM, GRU\n",
    "from keras.layers import LSTM, GRU\n",
    "#from keras.optimizers import RMSprop, adam\n",
    "\n",
    "# to create a callback, this will be a checkpoint\n",
    "from keras.callbacks import LambdaCallback\n",
    "\n",
    "# need to create a random seed to create a text, so the model will learn the sequence\n",
    "import random\n",
    "import sys\n",
    "import io"
   ]
  },
  {
   "cell_type": "markdown",
   "metadata": {
    "id": "0bCMNSlUYBcV"
   },
   "source": [
    "### 3. Loading the txt file that is used for RNN"
   ]
  },
  {
   "cell_type": "code",
   "execution_count": 8,
   "metadata": {
    "colab": {
     "base_uri": "https://localhost:8080/"
    },
    "id": "kytGHnmzYBcW",
    "outputId": "91206af5-f0d2-4ace-d99c-3ccf1d832709"
   },
   "outputs": [
    {
     "name": "stdout",
     "output_type": "stream",
     "text": [
      "/content/gdrive/My Drive/Capstone/Data\n"
     ]
    }
   ],
   "source": [
    "# cd to pull my txt file from my google drive into google colab\n",
    "%cd /content/gdrive/My Drive/Capstone/Data/\n",
    "\n",
    "# filename called 'out.txt'\n",
    "filename = \"rnn_text.txt\"\n",
    "\n",
    "# extract the raw text\n",
    "raw_text = open(filename, 'r', encoding='utf-8').read()\n",
    "\n",
    "\n",
    "# lowercase my text\n",
    "data = raw_text.lower()\n",
    "# remove url links\n",
    "data = re.sub(r'\\w+:\\/{2}[\\d\\w-]+(\\.[\\d\\w-]+)*(?:(?:\\/[^\\s/]*))*', '',data)\n",
    "# keep punctuations this time\n",
    "data = re.sub(\"[^a-zA-Z.,?!'\\\";:-]\", \" \", data)\n",
    "# strip to remove empty spaces before beginning and end of string\n",
    "data = data.strip()"
   ]
  },
  {
   "cell_type": "markdown",
   "metadata": {
    "id": "IAGJl1VyYBcW"
   },
   "source": [
    "### 4. Exploring text dataset"
   ]
  },
  {
   "cell_type": "code",
   "execution_count": 9,
   "metadata": {
    "colab": {
     "base_uri": "https://localhost:8080/"
    },
    "id": "UO2Vu0a5YBcW",
    "outputId": "bbcf67fa-0926-4ff5-bc98-5a9391d86908"
   },
   "outputs": [
    {
     "name": "stdout",
     "output_type": "stream",
     "text": [
      "total chars:  36\n"
     ]
    }
   ],
   "source": [
    "# set - find a list of specific characters \n",
    "# list - to convert characters into a list\n",
    "# sorted - to sort list into alphabetical order\n",
    "chars = sorted(list(set(data)))\n",
    "\n",
    "# count of total characters\n",
    "print('total chars: ', len(chars))"
   ]
  },
  {
   "cell_type": "code",
   "execution_count": 10,
   "metadata": {
    "colab": {
     "base_uri": "https://localhost:8080/"
    },
    "id": "02sYdZzGYBcW",
    "outputId": "4dced5d6-8163-44f4-fa37-72a1f3796b5b"
   },
   "outputs": [
    {
     "data": {
      "text/plain": [
       "{' ': 0,\n",
       " '!': 1,\n",
       " '\"': 2,\n",
       " \"'\": 3,\n",
       " ',': 4,\n",
       " '-': 5,\n",
       " '.': 6,\n",
       " ':': 7,\n",
       " ';': 8,\n",
       " '?': 9,\n",
       " 'a': 10,\n",
       " 'b': 11,\n",
       " 'c': 12,\n",
       " 'd': 13,\n",
       " 'e': 14,\n",
       " 'f': 15,\n",
       " 'g': 16,\n",
       " 'h': 17,\n",
       " 'i': 18,\n",
       " 'j': 19,\n",
       " 'k': 20,\n",
       " 'l': 21,\n",
       " 'm': 22,\n",
       " 'n': 23,\n",
       " 'o': 24,\n",
       " 'p': 25,\n",
       " 'q': 26,\n",
       " 'r': 27,\n",
       " 's': 28,\n",
       " 't': 29,\n",
       " 'u': 30,\n",
       " 'v': 31,\n",
       " 'w': 32,\n",
       " 'x': 33,\n",
       " 'y': 34,\n",
       " 'z': 35}"
      ]
     },
     "execution_count": 10,
     "metadata": {
      "tags": []
     },
     "output_type": "execute_result"
    }
   ],
   "source": [
    "# mapping the characters to numerical values & vice versa\n",
    "# this will be crucial for feeding into our RNN model\n",
    "# and required to map the predicted numerical values back to their corresponding characters\n",
    "\n",
    "char_indices = dict((c, i) for i, c in enumerate(chars))\n",
    "\n",
    "# noted that in this list of character mapping, there is no 'z' in text\n",
    "# noted that ' ' white space is counted as a character\n",
    "char_indices"
   ]
  },
  {
   "cell_type": "code",
   "execution_count": 11,
   "metadata": {
    "colab": {
     "base_uri": "https://localhost:8080/"
    },
    "id": "Nk-1WoOYYBcX",
    "outputId": "013124ca-75bc-4721-d50c-09157ec8bf98"
   },
   "outputs": [
    {
     "data": {
      "text/plain": [
       "{0: ' ',\n",
       " 1: '!',\n",
       " 2: '\"',\n",
       " 3: \"'\",\n",
       " 4: ',',\n",
       " 5: '-',\n",
       " 6: '.',\n",
       " 7: ':',\n",
       " 8: ';',\n",
       " 9: '?',\n",
       " 10: 'a',\n",
       " 11: 'b',\n",
       " 12: 'c',\n",
       " 13: 'd',\n",
       " 14: 'e',\n",
       " 15: 'f',\n",
       " 16: 'g',\n",
       " 17: 'h',\n",
       " 18: 'i',\n",
       " 19: 'j',\n",
       " 20: 'k',\n",
       " 21: 'l',\n",
       " 22: 'm',\n",
       " 23: 'n',\n",
       " 24: 'o',\n",
       " 25: 'p',\n",
       " 26: 'q',\n",
       " 27: 'r',\n",
       " 28: 's',\n",
       " 29: 't',\n",
       " 30: 'u',\n",
       " 31: 'v',\n",
       " 32: 'w',\n",
       " 33: 'x',\n",
       " 34: 'y',\n",
       " 35: 'z'}"
      ]
     },
     "execution_count": 11,
     "metadata": {
      "tags": []
     },
     "output_type": "execute_result"
    }
   ],
   "source": [
    "# this will be used from mapping numerical values back to characters\n",
    "indices_char = dict((i, c) for i, c in enumerate(chars))\n",
    "\n",
    "indices_char"
   ]
  },
  {
   "cell_type": "markdown",
   "metadata": {
    "id": "n2PqKRRWYBcX"
   },
   "source": [
    "### 5. Numerical encode the sentences and features"
   ]
  },
  {
   "cell_type": "code",
   "execution_count": null,
   "metadata": {
    "colab": {
     "base_uri": "https://localhost:8080/"
    },
    "id": "6t-15OTOCRL-",
    "outputId": "6229d460-e826-4f55-d95e-eb6b38845ab1"
   },
   "outputs": [
    {
     "data": {
      "text/plain": [
       "1208984"
      ]
     },
     "execution_count": 7,
     "metadata": {
      "tags": []
     },
     "output_type": "execute_result"
    }
   ],
   "source": [
    "len(data)"
   ]
  },
  {
   "cell_type": "code",
   "execution_count": 13,
   "metadata": {
    "id": "-6T91YIxY88-"
   },
   "outputs": [],
   "source": [
    "text = data"
   ]
  },
  {
   "cell_type": "code",
   "execution_count": 14,
   "metadata": {
    "colab": {
     "base_uri": "https://localhost:8080/"
    },
    "id": "NFg7fOL6YBcX",
    "outputId": "04fcf961-24e7-4761-c9aa-7a326d69e724"
   },
   "outputs": [
    {
     "name": "stdout",
     "output_type": "stream",
     "text": [
      "nb sequences: 402963\n"
     ]
    }
   ],
   "source": [
    "maxlen = 100\n",
    "step = 3\n",
    "sentences = []\n",
    "next_chars = []\n",
    "for i in range(0, len(text) - maxlen, step):\n",
    "    sentences.append(text[i: i + maxlen])\n",
    "    next_chars.append(text[i + maxlen])\n",
    "print('nb sequences:', len(sentences))"
   ]
  },
  {
   "cell_type": "code",
   "execution_count": 15,
   "metadata": {
    "colab": {
     "base_uri": "https://localhost:8080/"
    },
    "id": "m8zb6OtvYBcX",
    "outputId": "4a39264d-7280-48cd-852c-f2f8c9c0e094"
   },
   "outputs": [
    {
     "name": "stdout",
     "output_type": "stream",
     "text": [
      "['just auditing this course helped me a lot in learning this language programming. attentive save the ', 't auditing this course helped me a lot in learning this language programming. attentive save the mon', 'uditing this course helped me a lot in learning this language programming. attentive save the money ', 'ting this course helped me a lot in learning this language programming. attentive save the money i w', 'g this course helped me a lot in learning this language programming. attentive save the money i will']\n",
      "['m', 'e', 'i', 'i', ' ']\n"
     ]
    }
   ],
   "source": [
    "print(sentences[:5])\n",
    "print(next_chars[:5])"
   ]
  },
  {
   "cell_type": "code",
   "execution_count": 16,
   "metadata": {
    "colab": {
     "base_uri": "https://localhost:8080/"
    },
    "id": "7JhnfOy1YBcY",
    "outputId": "7e07bedc-7ea2-487f-a67a-f9a5729e4879"
   },
   "outputs": [
    {
     "data": {
      "text/plain": [
       "1208987"
      ]
     },
     "execution_count": 16,
     "metadata": {
      "tags": []
     },
     "output_type": "execute_result"
    }
   ],
   "source": [
    "len(text)"
   ]
  },
  {
   "cell_type": "code",
   "execution_count": 17,
   "metadata": {
    "id": "7cYHDMLGYBcY"
   },
   "outputs": [],
   "source": [
    "X = np.zeros((len(sentences), maxlen, len(chars)), dtype=np.bool)\n",
    "y = np.zeros((len(sentences), len(chars)), dtype=np.bool)\n",
    "for i, sentence in enumerate(sentences):\n",
    "    for t, char in enumerate(sentence):\n",
    "        X[i, t, char_indices[char]] = 1\n",
    "    y[i, char_indices[next_chars[i]]] = 1"
   ]
  },
  {
   "cell_type": "markdown",
   "metadata": {},
   "source": [
    "### 6. train-test-split X and y"
   ]
  },
  {
   "cell_type": "markdown",
   "metadata": {},
   "source": [
    "X and y are split into train and test sets, **shuffle=False** is used as reviews are written in a sequence"
   ]
  },
  {
   "cell_type": "code",
   "execution_count": 18,
   "metadata": {
    "id": "0It5TQIeYBcY"
   },
   "outputs": [],
   "source": [
    "from sklearn.model_selection import train_test_split\n",
    "X_train, X_test, y_train, y_test = train_test_split(X, y,  random_state=42, shuffle=False)"
   ]
  },
  {
   "cell_type": "markdown",
   "metadata": {
    "id": "E4z78W_4YBcY"
   },
   "source": [
    "### 7. Create RNN model\n",
    " https://towardsdatascience.com/checkpointing-deep-learning-models-in-keras-a652570b8de6"
   ]
  },
  {
   "cell_type": "code",
   "execution_count": 19,
   "metadata": {
    "id": "5lOh0gSxYBcY"
   },
   "outputs": [],
   "source": [
    "# Define the model architecture \n",
    "\n",
    "def create_model():\n",
    "    #instantial\n",
    "    model = Sequential()\n",
    "    model.add(LSTM(128, input_shape=(maxlen, len(chars))))\n",
    "    model.add(Dense(len(chars)))\n",
    "    model.add(Activation('softmax'))\n",
    "    \n",
    "    # Compiling the model\n",
    "    # as my model are one-hot encoded, i will use categorical_crossentropy\n",
    "    model.compile(loss='categorical_crossentropy',\n",
    "             optimizer='adam',\n",
    "             metrics=['accuracy'])\n",
    "    \n",
    "    return model\n",
    "\n",
    "#create the model\n",
    "model_ckpt= create_model()"
   ]
  },
  {
   "cell_type": "code",
   "execution_count": 20,
   "metadata": {
    "colab": {
     "base_uri": "https://localhost:8080/"
    },
    "id": "n7HgXPRcYBcZ",
    "outputId": "7a352fc8-ed76-4fe2-b838-d2b871342a01"
   },
   "outputs": [
    {
     "name": "stdout",
     "output_type": "stream",
     "text": [
      "Model: \"sequential\"\n",
      "_________________________________________________________________\n",
      "Layer (type)                 Output Shape              Param #   \n",
      "=================================================================\n",
      "lstm (LSTM)                  (None, 128)               84480     \n",
      "_________________________________________________________________\n",
      "dense (Dense)                (None, 36)                4644      \n",
      "_________________________________________________________________\n",
      "activation (Activation)      (None, 36)                0         \n",
      "=================================================================\n",
      "Total params: 89,124\n",
      "Trainable params: 89,124\n",
      "Non-trainable params: 0\n",
      "_________________________________________________________________\n"
     ]
    }
   ],
   "source": [
    "model_ckpt.summary()"
   ]
  },
  {
   "cell_type": "markdown",
   "metadata": {
    "id": "W0CLSREbYBcZ"
   },
   "source": [
    "### 8. Creating my ModelCheckpoint and callback requirements"
   ]
  },
  {
   "cell_type": "code",
   "execution_count": 21,
   "metadata": {
    "id": "MHtyQNWwYBcZ"
   },
   "outputs": [],
   "source": [
    "from keras.callbacks import ModelCheckpoint\n",
    "\n",
    "# specifying where my checkpoint files will be stored\n",
    "filepath = \"/content/gdrive/My Drive/Capstone/Data/\"\n",
    "\n",
    "# this ModelCheckpoint save weights and save the best model as it runs\n",
    "checkpoint = ModelCheckpoint(filepath, monitor='loss',\n",
    "                             save_weights_only=True, save_best_only=True,\n",
    "                             mode='min',verbose=1 )"
   ]
  },
  {
   "cell_type": "code",
   "execution_count": 22,
   "metadata": {
    "id": "cYhAn8OYYBcZ"
   },
   "outputs": [],
   "source": [
    "from keras.callbacks import ReduceLROnPlateau\n",
    "reduce_lr = ReduceLROnPlateau(monitor='loss', factor=0.2,\n",
    "                              patience=1, min_lr=0.001)"
   ]
  },
  {
   "cell_type": "code",
   "execution_count": 23,
   "metadata": {
    "id": "ixHRPsWvYBca"
   },
   "outputs": [],
   "source": [
    "def sample(preds, temperature=1.0):\n",
    "    # helper function to sample an index from a probability array\n",
    "    preds = np.asarray(preds).astype('float64')\n",
    "    preds = np.log(preds) / temperature\n",
    "    exp_preds = np.exp(preds)\n",
    "    preds = exp_preds / np.sum(exp_preds)\n",
    "    probas = np.random.multinomial(1, preds, 1)\n",
    "    return np.argmax(probas)"
   ]
  },
  {
   "cell_type": "code",
   "execution_count": 24,
   "metadata": {
    "id": "lHXesDLaYBca"
   },
   "outputs": [],
   "source": [
    "def on_epoch_end(epoch, logs):\n",
    "    # Function invoked at end of each epoch. Prints generated text.\n",
    "    print()\n",
    "    print('----- Generating text after Epoch: %d' % epoch)\n",
    "\n",
    "    start_index = random.randint(0, len(text) - maxlen - 1)\n",
    "    for diversity in [0.2, 0.5, 1.0, 1.2]:\n",
    "        print('----- diversity:', diversity)\n",
    "\n",
    "        generated = ''\n",
    "        sentence = text[start_index: start_index + maxlen]\n",
    "        generated += sentence\n",
    "        print('----- Generating with seed: \"' + sentence + '\"')\n",
    "        sys.stdout.write(generated)\n",
    "\n",
    "        for i in range(400):\n",
    "            x_pred = np.zeros((1, maxlen, len(chars)))\n",
    "            for t, char in enumerate(sentence):\n",
    "                x_pred[0, t, char_indices[char]] = 1.\n",
    "\n",
    "            preds = model_ckpt.predict(x_pred, verbose=0)[0]\n",
    "            next_index = sample(preds, diversity)\n",
    "            next_char = indices_char[next_index]\n",
    "\n",
    "            generated += next_char\n",
    "            sentence = sentence[1:] + next_char\n",
    "\n",
    "            sys.stdout.write(next_char)\n",
    "            sys.stdout.flush()\n",
    "        print()\n",
    "print_callback = LambdaCallback(on_epoch_end=on_epoch_end)"
   ]
  },
  {
   "cell_type": "code",
   "execution_count": 25,
   "metadata": {
    "id": "o7QZCuU5YBca"
   },
   "outputs": [],
   "source": [
    "### combining all of my callbacks\n",
    "\n",
    "callbacks = [print_callback, checkpoint, reduce_lr]"
   ]
  },
  {
   "cell_type": "markdown",
   "metadata": {
    "id": "1PHLNmGOYBcb"
   },
   "source": [
    "### 9.Training my RNN model"
   ]
  },
  {
   "cell_type": "code",
   "execution_count": 26,
   "metadata": {
    "colab": {
     "base_uri": "https://localhost:8080/"
    },
    "id": "ljBdvKorYBcb",
    "outputId": "a5261a8d-9278-4e02-b094-f06de853f3c1"
   },
   "outputs": [
    {
     "name": "stdout",
     "output_type": "stream",
     "text": [
      "Epoch 1/100\n",
      "2362/2362 [==============================] - 61s 12ms/step - loss: 2.4718 - accuracy: 0.3046 - val_loss: 1.7440 - val_accuracy: 0.5067\n",
      "\n",
      "----- Generating text after Epoch: 0\n",
      "----- diversity: 0.2\n",
      "----- Generating with seed: \"ry useful as the instructor explains very basic programming concepts. so people who are not familiar\"\n",
      "ry useful as the instructor explains very basic programming concepts. so people who are not familiar and and the course and and the course and and the course and and the course and the course and the course and the course and and the course and the course and the profreand i programming and the course and and the course and the course and and and the course and the course and the course and the course i wall a for the course and the course and a dang and the course and and the course and and the\n",
      "----- diversity: 0.5\n",
      "----- Generating with seed: \"ry useful as the instructor explains very basic programming concepts. so people who are not familiar\"\n",
      "ry useful as the instructor explains very basic programming concepts. so people who are not familiar, in programming and and ale the and is a you to ave the course the ande able beat intingerte trof course in expllinela to the nexplane and and the course i to course and profreand and a sout reaply ant your and easing the bealy and explolise and wall e pereale you the course and this courser with a nate this course al a learne thing and a for mere cearne to course. iner eare the course pyourse a \n",
      "----- diversity: 1.0\n",
      "----- Generating with seed: \"ry useful as the instructor explains very basic programming concepts. so people who are not familiar\"\n",
      "ry useful as the instructor explains very basic programming concepts. so people who are not familiarach oxpeythonn tho. maroke arere. a dxtics rod ppogoogteowiteape thing. asloprachorues whanks. counte a wali geale boul! \" chand for the canping tin ielty coursere for the provesally beachy cucteat ansirgatine ay u de the mery not tiol oveake, hitedowctyonlly arderoy i hakel. i tonk! the stance.\" \"reverainnde is a itf-tuost hould i learle.!, a avore to kerean pytuoge, if e qaod in reantly gretctan\n",
      "----- diversity: 1.2\n",
      "----- Generating with seed: \"ry useful as the instructor explains very basic programming concepts. so people who are not familiar\"\n",
      "ry useful as the instructor explains very basic programming concepts. so people who are not familiarikgo garti. meet illes withe! .uhto fythins lexramvit. eaflred uthine wand love nod programmannqw ureenst bolkderawed fy razawion.. theod : celing mmen chnpeas lase smmnequessurstonntelalling akpl. ut ly proc am!bhayki feadlke lest courseretand, yow erplloanerals oor tot. andams more pyour.\" thas ind siclllo  in full, intio fos juce nttrofpsters.\" rofi gro cearne goteftrid. coverrpcoe you foryed i\n",
      "\n",
      "Epoch 00001: loss improved from inf to 2.15417, saving model to /content/gdrive/My Drive/Capstone/Data/\n",
      "Epoch 2/100\n",
      "2362/2362 [==============================] - 29s 12ms/step - loss: 1.7273 - accuracy: 0.5098 - val_loss: 1.4559 - val_accuracy: 0.5856\n",
      "\n",
      "----- Generating text after Epoch: 1\n",
      "----- diversity: 0.2\n",
      "----- Generating with seed: \"large or small, to be found. but when i edited the code for the final assignment to run simultaneous\"\n",
      "large or small, to be found. but when i edited the code for the final assignment to run simultaneous the course is a some the course and i was a great coursera to coursera course and experience in the course is a great coursera coursera to course and i was a great to programming and it programming and coursera coursera coursera and i was a good this course is a some to the course is a good the course and i the course this course is a sough the course is a coursera coursera and in the course in t\n",
      "----- diversity: 0.5\n",
      "----- Generating with seed: \"large or small, to be found. but when i edited the code for the final assignment to run simultaneous\"\n",
      "large or small, to be found. but when i edited the code for the final assignment to run simultaneous and thing and of the. is more course and it is a about the and coursere is and coursera course and in the courseratsoruch is a great interestant the is a coursera to the coursera in this course was a great course and it as a complete whit so mectures and is the course is and you mase to programming in the course as was a coursera in with to explaining it to dectures start this course and the lear\n",
      "----- diversity: 1.0\n",
      "----- Generating with seed: \"large or small, to be found. but when i edited the code for the final assignment to run simultaneous\"\n",
      "large or small, to be found. but when i edited the code for the final assignment to run simultaneous soveruster lecturely probenserat in pytion python programming easy to. groiss neo course to notn thiing stiml -nec its righingge which and a coneles prevines wht woornmating!\" \"sirs so ploals and is my vedy ease thentssout cearninn thing, charles qurect doranize so tre mede cournewhe sasel werinytive and sees is ampyisiog is dashanting and dr. is vide stull to beit i to knoy  oo ot ouden the is t\n",
      "----- diversity: 1.2\n",
      "----- Generating with seed: \"large or small, to be found. but when i edited the code for the final assignment to run simultaneous\"\n",
      "large or small, to be found. but when i edited the code for the final assignment to run simultaneous espetinging houp soow abnienfer of a of to averowny copregiis you dreverons cewcomlend whot toucily i wokeder a very nealyode fypiis to progrssonisut and gotile is othenuch wik-serseal you  tuly ney to hak experience everaun. spicales of us and veoying ia bognm ix triaded to istructurding. subos abhers ingpicestink a wanyer! \"i ghis kidulgust \"\"\" sincestr wpractef of esonstantinn endsoge corilgh,\n",
      "\n",
      "Epoch 00002: loss improved from 2.15417 to 1.65537, saving model to /content/gdrive/My Drive/Capstone/Data/\n",
      "Epoch 3/100\n",
      "2362/2362 [==============================] - 29s 12ms/step - loss: 1.4932 - accuracy: 0.5730 - val_loss: 1.3237 - val_accuracy: 0.6196\n",
      "\n",
      "----- Generating text after Epoch: 2\n",
      "----- diversity: 0.2\n",
      "----- Generating with seed: \" great! the course is designed well neither too hard nor too easy. the course is interesting, full o\"\n",
      " great! the course is designed well neither too hard nor too easy. the course is interesting, full of the course is a great course is a great to programming and the course is a great to course and the course and the course and the course is a great course and the course is a great course and the course to start to understand and the course. i have and the course and the course and interesting and the course to start to course who have the course is and the course is a great to course and the cou\n",
      "----- diversity: 0.5\n",
      "----- Generating with seed: \" great! the course is designed well neither too hard nor too easy. the course is interesting, full o\"\n",
      " great! the course is designed well neither too hard nor too easy. the course is interesting, full of the course explaning the programming programming basic to he program in the course best and this course. started to coursera and helped to enjoy me so programming in python programming basic and the course to know the becture wan to the course and coding. it is and programming in python was can the course and interstand and the course the course to ar a great beginners of python. thanks to and c\n",
      "----- diversity: 1.0\n",
      "----- Generating with seed: \" great! the course is designed well neither too hard nor too easy. the course is interesting, full o\"\n",
      " great! the course is designed well neither too hard nor too easy. the course is interesting, full ore copple on mir extichigre, and programming ans programme program. has specializate teactiel is ant alsome though tithings witt. allay dim of of the bectuper and ard compuctbor if really to it was somonut of that i tick is excelleng.\" \"eexten thiops. as started and welp dr  courses, the very antiriation and littor coorsering takest thing gristable wero simt very easy now not ogherorion. i'vally i\n",
      "----- diversity: 1.2\n",
      "----- Generating with seed: \" great! the course is designed well neither too hard nor too easy. the course is interesting, full o\"\n",
      " great! the course is designed well neither too hard nor too easy. the course is interesting, full of intrerctodigy. \" those whateitaceatay..i fies you dr.i'mgikely cnarsero to dignted my the llond dr.chuck\" \"y tued abfure the in't intend.than. it kant it greentrodiciationitauce is nech instrector,, s ppebonom in viras if this coucserativayane.. the anstanted slong enjeg-tus buckuse. mpreops. and the excellune's course teacher, vrars... thank a itserstaule aldur fro ralouted in. youral.\" \"whuch \n",
      "\n",
      "Epoch 00003: loss improved from 1.65537 to 1.45877, saving model to /content/gdrive/My Drive/Capstone/Data/\n",
      "Epoch 4/100\n",
      "2362/2362 [==============================] - 29s 12ms/step - loss: 1.3712 - accuracy: 0.6059 - val_loss: 1.2421 - val_accuracy: 0.6430\n",
      "\n",
      "----- Generating text after Epoch: 3\n",
      "----- diversity: 0.2\n",
      "----- Generating with seed: \"r, loved the content, and love the course.i highly recommend it if you want to begin to programming.\"\n",
      "r, loved the content, and love the course.i highly recommend it if you want to begin to programming. the course to start to learn programming language in programming language of the course is a great course is a great course is a great course is a great course is a great course is a great course is a great course is a great course and i like to the course is a some and easy to learn programming and explaining this course is a great course and some to learn python who is a great to learn programm\n",
      "----- diversity: 0.5\n",
      "----- Generating with seed: \"r, loved the content, and love the course.i highly recommend it if you want to begin to programming.\"\n",
      "r, loved the content, and love the course.i highly recommend it if you want to begin to programming. the professor is the ind it was a not outh the the course to learned this course. thank you are experience to learn programming in this course to programming but and the way to start of the course so much and content way the concepts course, it is and the instructor is a great course. thank you dr. chuck is a great course.  i am every to me and the course and dideffunte i conter to concepts and m\n",
      "----- diversity: 1.0\n",
      "----- Generating with seed: \"r, loved the content, and love the course.i highly recommend it if you want to begin to programming.\"\n",
      "r, loved the content, and love the course.i highly recommend it if you want to begin to programming.\" \"enjoyigh he very good are goren language, i really exprained the enjayinut\" \"it's are come funch struch to my exa classing right.\" \" \"you are zider profrsser is a beginner knowled maging, meation on of prours's spept sure understanding. reamning in drechure i'd very onlours sequaching. \" \"a are programming thanks of to learned mort fors be this hasp infund my by learning the bust completa, stho\n",
      "----- diversity: 1.2\n",
      "----- Generating with seed: \"r, loved the content, and love the course.i highly recommend it if you want to begin to programming.\"\n",
      "r, loved the content, and love the course.i highly recommend it if you want to begin to programming.\" gemas one for!  woukh goonual. thusk!\" \"i chusk's i have desniliced to every computer and you free whroughing pyplon sown mon in way toigh hadp in python, thaid mo book. creeld, i'ke likeiefing!  rengrats, the inct merood fanuasoot , you have ot insriduments those long excomtinn abend what zecin wat assignmants to profecal assignments coder whigh\"  forforament! you somo.i very excceletsiance a d\n",
      "\n",
      "Epoch 00004: loss improved from 1.45877 to 1.35025, saving model to /content/gdrive/My Drive/Capstone/Data/\n",
      "Epoch 5/100\n",
      "2362/2362 [==============================] - 30s 13ms/step - loss: 1.2891 - accuracy: 0.6271 - val_loss: 1.1950 - val_accuracy: 0.6534\n",
      "\n",
      "----- Generating text after Epoch: 4\n",
      "----- diversity: 0.2\n",
      "----- Generating with seed: \"repeat guided steps in order to master them.learning is a change behavior of the brain in order to s\"\n",
      "repeat guided steps in order to master them.learning is a change behavior of the brain in order to start with python for the best course with the best course with the course was a great course who have the course was a great to the best course with the best course is a great course with the best course is a great course is a great course with python with the best course is a great course is a great course with the way to the best course with the best course who want to learn python in a great co\n",
      "----- diversity: 0.5\n",
      "----- Generating with seed: \"repeat guided steps in order to master them.learning is a change behavior of the brain in order to s\"\n",
      "repeat guided steps in order to master them.learning is a change behavior of the brain in order to start the way to understand the best course is very defented this course is a great to the course for this course to the begonnes in the best course is very quizzes and this such a great course was a great course were explanation for the best a very explon professor who dovidg this course is very easy to learn and i thank you were all student to start the beginners course for a groat interesting an\n",
      "----- diversity: 1.0\n",
      "----- Generating with seed: \"repeat guided steps in order to master them.learning is a change behavior of the brain in order to s\"\n",
      "repeat guided steps in order to master them.learning is a change behavior of the brain in order to starth clast to to i think out really nevel conuugh it assopice this curore i am zecing and everything the is start iftely took learn somenofe providec to canters.  \"the keything than this made this course programme and challen apsew eppores of thank you was to learn ancentive in very book of python, it.'r ow python shomle the course materear and he parficing.\" anvey that the becpuse i took \"\"compl\n",
      "----- diversity: 1.2\n",
      "----- Generating with seed: \"repeat guided steps in order to master them.learning is a change behavior of the brain in order to s\"\n",
      "repeat guided steps in order to master them.learning is a change behavior of the brain in order to start womk fontanticir  dof : i simye pewfon!\" \"d'm it \"\"great and quise fat a blity nould youd. yow is useves vurt for xnow high no easy an welld,.i'm's rubolt.  any like with this course. i've learny course?re beghinging before, - at this abolm prof e! \"wevce the this as you wouk\" a bowes vidion loved booss like experienced python python. the sivclsy't progingvive, treivy onopy. ghere foow verys \n",
      "\n",
      "Epoch 00005: loss improved from 1.35025 to 1.27885, saving model to /content/gdrive/My Drive/Capstone/Data/\n",
      "Epoch 6/100\n",
      "2362/2362 [==============================] - 30s 13ms/step - loss: 1.2346 - accuracy: 0.6419 - val_loss: 1.1541 - val_accuracy: 0.6653\n",
      "\n",
      "----- Generating text after Epoch: 5\n",
      "----- diversity: 0.2\n",
      "----- Generating with seed: \"able for a starter in programming. at first, it is very easy and fundamental. however, only if you m\"\n",
      "able for a starter in programming. at first, it is very easy and fundamental. however, only if you made this course is a great course who have a great course and the course who have a lot of the programming language of the course and the course and the course is a great course with the course for the course i can the learning python and the course what i was a great course and the course is a great to understand the course for the course for the way to understand the course is a very much the co\n",
      "----- diversity: 0.5\n",
      "----- Generating with seed: \"able for a starter in programming. at first, it is very easy and fundamental. however, only if you m\"\n",
      "able for a starter in programming. at first, it is very easy and fundamental. however, only if you make i am all a little beginning with just to learn python so that it was way thanks to about python. i have too course that is a very good and interesting and helped the content in the course while the course was a beginners. the course to a very interesting and a programming language. the course is the course for beginners to complete and the course is a great, the content is to the content in py\n",
      "----- diversity: 1.0\n",
      "----- Generating with seed: \"able for a starter in programming. at first, it is very easy and fundamental. however, only if you m\"\n",
      "able for a starter in programming. at first, it is very easy and fundamental. however, only if you make distund by of diduinaty teaces toigh you great online fired to starts inthouch to got sent from to having things souptroducter jught! be sclestine beet, he texts fwor instructor hese attanced to done as that i had a good exencesss of python is need. it work any gead bficuls well were to know ascigning and the mant thanks waut to learn python programing a foundabation of temen to ard ar intenes\n",
      "----- diversity: 1.2\n",
      "----- Generating with seed: \"able for a starter in programming. at first, it is very easy and fundamental. however, only if you m\"\n",
      "able for a starter in programming. at first, it is very easy and fundamental. however, only if you mare eanily you coding. i'm knowing fun us telst way to his moogh aw how noplewactic touch the oble plapenjon. an hicksed, exencientx.\" !\" \"for a little comment.\" \"vedubict of with mighndeabloy is liked like this course to.\"\"everomes whene to python patstiow of heverd, ne coutsion for. wollong brouch courses  in levalingable. thanky\" \" werles language. i nirely,'t'ys this clearby sure code and solm\n",
      "\n",
      "Epoch 00006: loss improved from 1.27885 to 1.22750, saving model to /content/gdrive/My Drive/Capstone/Data/\n",
      "Epoch 7/100\n",
      "2362/2362 [==============================] - 30s 13ms/step - loss: 1.1842 - accuracy: 0.6566 - val_loss: 1.1255 - val_accuracy: 0.6735\n",
      "\n",
      "----- Generating text after Epoch: 6\n",
      "----- diversity: 0.2\n",
      "----- Generating with seed: \", you have to love dr. serverance. i can't think of a more entertaining and enjoyable person to teac\"\n",
      ", you have to love dr. serverance. i can't think of a more entertaining and enjoyable person to teacher is very good course is a great course is a great course and i had a great course is very good and helpful for a programming the course is a great course is a great course is a great course is very easy to understand and i would recommend this course is a great course is very interesting and easy to understand the course is very good course is a great course is a great course is a great course \n",
      "----- diversity: 0.5\n",
      "----- Generating with seed: \", you have to love dr. serverance. i can't think of a more entertaining and enjoyable person to teac\"\n",
      ", you have to love dr. serverance. i can't think of a more entertaining and enjoyable person to teacher is way the use to python programming such a complete programming   it was a great course in a course in programming and how to the course and the scepes a stupled in examples were i got to learn a great programming the programming courses and the explain a bit of my fart there is programming completed its a feeding the way that i have need to learn programming who is the course is very find th\n",
      "----- diversity: 1.0\n",
      "----- Generating with seed: \", you have to love dr. serverance. i can't think of a more entertaining and enjoyable person to teac\"\n",
      ", you have to love dr. serverance. i can't think of a more entertaining and enjoyable person to teacherised the program, is so thought like quizer \"excellent course    or a cour easigred so such goan more interesienal about student, my feelod fonay perpect. had a good, it was with programming. i am ny deia prosess the structly to clear semition for programming basc materials about from are new how.\"i perss free like and if you syout for becterere course praces to chack want it is verues foluing \n",
      "----- diversity: 1.2\n",
      "----- Generating with seed: \", you have to love dr. serverance. i can't think of a more entertaining and enjoyable person to teac\"\n",
      ", you have to love dr. serverance. i can't think of a more entertaining and enjoyable person to teaching regued thind you  i'l to ampst mekios, program severanch providing courses is teaching progrogteds, it's retile you dutt.\"imalged wil is every didinitely, good code targingry!! \" \"imally'p\"\" completather anlin there for by sclear to mowindes, \"\" \"very need you lood undervaic what i don', you are excellent course sopely it very i gettuli a dr. caude put r a great chupt so a . contert of lender\n",
      "\n",
      "Epoch 00007: loss improved from 1.22750 to 1.18761, saving model to /content/gdrive/My Drive/Capstone/Data/\n",
      "Epoch 8/100\n",
      "2362/2362 [==============================] - 30s 13ms/step - loss: 1.1587 - accuracy: 0.6626 - val_loss: 1.1046 - val_accuracy: 0.6779\n",
      "\n",
      "----- Generating text after Epoch: 7\n",
      "----- diversity: 0.2\n",
      "----- Generating with seed: \" i'm new to programming. charles is excellent and helped me build some strong foundation in programm\"\n",
      " i'm new to programming. charles is excellent and helped me build some strong foundation in programming and i would recommend this course for the best course and the course and the course is a great course and the course in a great course and the best course for anyone who have a great course for the specialization and also the concepts and i would learn the best course for the best course and the lectures and i was a great course and also the best course and i want to learn python and a student\n",
      "----- diversity: 0.5\n",
      "----- Generating with seed: \" i'm new to programming. charles is excellent and helped me build some strong foundation in programm\"\n",
      " i'm new to programming. charles is excellent and helped me build some strong foundation in programming and a but i think it was a great course and the professor charles severance for everybody who have a great course in the code of experience in programming language.  it was a really good and happy and well pace and i like to the best and helpful and learn and explanation. i would don't start the basics of programming to the course to start to learn python at a big study for python for everybod\n",
      "----- diversity: 1.0\n",
      "----- Generating with seed: \" i'm new to programming. charles is excellent and helped me build some strong foundation in programm\"\n",
      " i'm new to programming. charles is excellent and helped me build some strong foundation in programming and the skilly expreninged careerfolles from my leally of languages with these amanally folus and the best course who wants, it also learn which   the course as much on me. this course whinh labs contend is delon adbout to taking python beganneas, ancidation\" i lealn  and made i learn dearny to gith the next course after me one no prior courses privided thrones are tuld has new lectures are mo\n",
      "----- diversity: 1.2\n",
      "----- Generating with seed: \" i'm new to programming. charles is excellent and helped me build some strong foundation in programm\"\n",
      " i'm new to programming. charles is excellent and helped me build some strong foundation in programming times someoni who hand thin's programming language startully requine. prof- scared aftel definitye absolute way to alvesonioss. i pent take but the enstluct in the mathers ans hours, destyformich oper logicstratesianatiog my quild in python. ffirs this which we dot derences, the way each me.  : \" \" you the material xayfered way attanly well obuerfult and practic. it weld horful abound and idsa\n",
      "\n",
      "Epoch 00008: loss improved from 1.18761 to 1.15596, saving model to /content/gdrive/My Drive/Capstone/Data/\n",
      "Epoch 9/100\n",
      "2362/2362 [==============================] - 31s 13ms/step - loss: 1.1253 - accuracy: 0.6712 - val_loss: 1.0946 - val_accuracy: 0.6804\n",
      "\n",
      "----- Generating text after Epoch: 8\n",
      "----- diversity: 0.2\n",
      "----- Generating with seed: \"erance has explained the concepts in a very easy way and the assignments and review questions makes \"\n",
      "erance has explained the concepts in a very easy way and the assignments and review questions makes it is a great course for python for the course to start the basics of python is a great course than say that i can learn the course is a great course for a programming language and i could really enjoyed the course is a great course for programming language to the course is a great course and the course is a great course for beginners. the course is a great course for beginners and the best course\n",
      "----- diversity: 0.5\n",
      "----- Generating with seed: \"erance has explained the concepts in a very easy way and the assignments and review questions makes \"\n",
      "erance has explained the concepts in a very easy way and the assignments and review questions makes and the very well basics of the very well as well as a beginner without my helpful for the course is a great course which as a great course and the way the way de i have taken to learn concepts and the course with the material is also the enturtive in python from the specialization for every good experience where the explanated helped me to be not knowledge of python in an easy to understand in py\n",
      "----- diversity: 1.0\n",
      "----- Generating with seed: \"erance has explained the concepts in a very easy way and the assignments and review questions makes \"\n",
      "erance has explained the concepts in a very easy way and the assignments and review questions makes with experience. i have enjoyed chapte's hela vearning the poices and i want to classiendetcing. great's severaning for python are clear and enuring skills. predere camples have deffectathor is envely what's too complete beginners. i would defilile learn how wording much\" is ares who want to take chapters.i wigh start  can mare this skelt. the deveron, not with agalicace is such add teker things h\n",
      "----- diversity: 1.2\n",
      "----- Generating with seed: \"erance has explained the concepts in a very easy way and the assignments and review questions makes \"\n",
      "erance has explained the concepts in a very easy way and the assignments and review questions makes it, also python.\" \"overavelwhed me difcelle, thanks toad him a great coucse. \"this courss sole aubolly resorikeful. and dup other wrotily as a dr. severance wish velied it alsb. where ord to learn python in ond inmying bxtcheal deting edisting quemterase which i've really take drachand must did'r and whene othan mridire forwart though i will requented and looking learner. ?tareque tuthing. \"the ma\n",
      "\n",
      "Epoch 00009: loss improved from 1.15596 to 1.13072, saving model to /content/gdrive/My Drive/Capstone/Data/\n",
      "Epoch 10/100\n",
      "2362/2362 [==============================] - 31s 13ms/step - loss: 1.1060 - accuracy: 0.6753 - val_loss: 1.0803 - val_accuracy: 0.6857\n",
      "\n",
      "----- Generating text after Epoch: 9\n",
      "----- diversity: 0.2\n",
      "----- Generating with seed: \"he lectures are easy to understand, allowing the beginner to get to know python in a friendly way. i\"\n",
      "he lectures are easy to understand, allowing the beginner to get to know python in a friendly way. i would recommend this course to anyone who want to learn python and the course and i would recommend this course to start that i could recommend this course to start this course to start that i could recommend this course to anyone who want to learn python in this course is a great that it was a great course that i have taken to learn python that i can all the professor is great course i have trie\n",
      "----- diversity: 0.5\n",
      "----- Generating with seed: \"he lectures are easy to understand, allowing the beginner to get to know python in a friendly way. i\"\n",
      "he lectures are easy to understand, allowing the beginner to get to know python in a friendly way. i liked the code and done beginners that is very good course and this course and the very interesting and i was a great background in programming skills and this course and i had this course that he a wonderful course i have tried this course, i struggled to this course is very good course i have for beginners and the first programming learning this course i found in programming language in the cou\n",
      "----- diversity: 1.0\n",
      "----- Generating with seed: \"he lectures are easy to understand, allowing the beginner to get to know python in a friendly way. i\"\n",
      "he lectures are easy to understand, allowing the beginner to get to know python in a friendly way. i would learn the provessing working how to thank that coursera dracchuder this is very me finish this is anveyty python, but programming. the really ratistation. profession simple and problemming in any priod en ananyed and geting.\" so new the rights this\" at new thanks to seread. time i would leard to taking that an on itranser for everything this for coursera viduo start, i have becument it amaz\n",
      "----- diversity: 1.2\n",
      "----- Generating with seed: \"he lectures are easy to understand, allowing the beginner to get to know python in a friendly way. i\"\n",
      "he lectures are easy to understand, allowing the beginner to get to know python in a friendly way. i had ever eacheragity. \"i woukd gist an extabled are likely, insigg jobles good bfizs of pythons to some interested in python jofally!\" i apsrelfat very imarials mannte feelizive of implessod, i think but like python prially and very helps to faust by aspreal! i thought of coursera vallywored!\" this was very givonedy  \"very stucr easily, but as it. thank you now thankty crdates fay language.! i fo\n",
      "\n",
      "Epoch 00010: loss improved from 1.13072 to 1.10882, saving model to /content/gdrive/My Drive/Capstone/Data/\n",
      "Epoch 11/100\n",
      "2362/2362 [==============================] - 31s 13ms/step - loss: 1.0878 - accuracy: 0.6800 - val_loss: 1.0683 - val_accuracy: 0.6902\n",
      "\n",
      "----- Generating text after Epoch: 10\n",
      "----- diversity: 0.2\n",
      "----- Generating with seed: \" build a start to finish understanding of the material that leaves you with knowledge that can be ap\"\n",
      " build a start to finish understanding of the material that leaves you with knowledge that can be approceal was a great course to the programming language. i have tried to learn python with python and i would like to the programming experience in programming language and programming language and programming language. i was a great course for the beginners. i am so easy to understand and i am so i could the course is a great course is a great course and i am a programming language. i have tried t\n",
      "----- diversity: 0.5\n",
      "----- Generating with seed: \" build a start to finish understanding of the material that leaves you with knowledge that can be ap\"\n",
      " build a start to finish understanding of the material that leaves you with knowledge that can be approgration and learning python who has previous knowledge and feelly interested concepts was so i cam                                                                                                                                                                                                                                                                                                           \n",
      "----- diversity: 1.0\n",
      "----- Generating with seed: \" build a start to finish understanding of the material that leaves you with knowledge that can be ap\"\n",
      " build a start to finish understanding of the material that leaves you with knowledge that can be approme coding where i boouse this course was explained charles relieve as grated. truly he is a beginner what helpful and off course for the course for a programming. which learning  as i dad compately very the quizzes and programming. the modife behear in engaging experience for interlicatilated to expected in  easy experiences it code lectures. it bear pater, i can leart done are the great course\n",
      "----- diversity: 1.2\n",
      "----- Generating with seed: \" build a start to finish understanding of the material that leaves you with knowledge that can be ap\"\n",
      " build a start to finish understanding of the material that leaves you with knowledge that can be apt tome interessed. i worked those what bookc defnice mettatsion. the instructor\" sevienc. i am ades screet. it imar more every compuctb. also, thuir is uring. seen topic hormor. tes ; new a necate and thanks to buiser if so e amper a programing. thank gaid. passice in most me uniny-ofpcaill,, of i efure says, it would. eveuly explainter. an amazing every works to provided but thank you ! i've been\n",
      "\n",
      "Epoch 00011: loss improved from 1.10882 to 1.09033, saving model to /content/gdrive/My Drive/Capstone/Data/\n",
      "Epoch 12/100\n",
      "2362/2362 [==============================] - 31s 13ms/step - loss: 1.0693 - accuracy: 0.6847 - val_loss: 1.0598 - val_accuracy: 0.6926\n",
      "\n",
      "----- Generating text after Epoch: 11\n",
      "----- diversity: 0.2\n",
      "----- Generating with seed: \"s series and begin building more complex programs in python. \"  great course for beginners, have a l\"\n",
      "s series and begin building more complex programs in python. \"  great course for beginners, have a lot of the basic programming and the basic since the course is a great course for a programmer and i was a great course for a bit of the basic programming experience with programming language i have a great course for a programming and the course is a great course for a programming and the basic since the course is a great course for a programming and the basic since the course is a great course fo\n",
      "----- diversity: 0.5\n",
      "----- Generating with seed: \"s series and begin building more complex programs in python. \"  great course for beginners, have a l\"\n",
      "s series and begin building more complex programs in python. \"  great course for beginners, have a lot of everybody can be a beginner. it was a great and start to learn this course for the professor from clear and explains the rest of the programmer than sectont as a background. thank you dr. chuck. no dr. chuck is a very me a lot of teaching and i have a great explanations are make the basic students and i think i had a great teaching students are the basic programming backgrounds through the r\n",
      "----- diversity: 1.0\n",
      "----- Generating with seed: \"s series and begin building more complex programs in python. \"  great course for beginners, have a l\"\n",
      "s series and begin building more complex programs in python. \"  great course for beginners, have a lictle examples and distachly other who want to say that tome that so eary actlatlly easy to follow and never topic diffinal for a properly recourdest's ruchore was also hist's is one of next can fundastic and with no a little book at myseret i field they this course times i can be you can easy job and it data sciencs and its easy to python progremsily, i need to contious. i have tried to understan\n",
      "----- diversity: 1.2\n",
      "----- Generating with seed: \"s series and begin building more complex programs in python. \"  great course for beginners, have a l\"\n",
      "s series and begin building more complex programs in python. \"  great course for beginners, have a lot!\" \"pertforce, is giefinf with distre of the doinntiking, thanks: presefiona way here make a you'res coding course ayd really give fuith reanoonoze iscan whole program or spee bsor his havory, that now, within to everybic   dri'py-from non, if highly recommended fant.  this cipls. i loggagl. it gry to some doisp for start bithor helped mista lisely ! \" movely foulth the background. i am every; i\n",
      "\n",
      "Epoch 00012: loss improved from 1.09033 to 1.07385, saving model to /content/gdrive/My Drive/Capstone/Data/\n",
      "Epoch 13/100\n",
      "2362/2362 [==============================] - 31s 13ms/step - loss: 1.0588 - accuracy: 0.6875 - val_loss: 1.0531 - val_accuracy: 0.6923\n",
      "\n",
      "----- Generating text after Epoch: 12\n",
      "----- diversity: 0.2\n",
      "----- Generating with seed: \"ther video. things are taught in very simplified manner making learning python possible  to everybod\"\n",
      "ther video. things are taught in very simplified manner making learning python possible  to everybody who have not a great course for anyone who wants to learn python in the course i have ever week and the course is the course is very good course for the beginners and i have a great course for anyone who want to learn python and i really like to the entant the course is very good course for the beginners and the way the course is very good and the course i can learn this course in programming la\n",
      "----- diversity: 0.5\n",
      "----- Generating with seed: \"ther video. things are taught in very simplified manner making learning python possible  to everybod\"\n",
      "ther video. things are taught in very simplified manner making learning python possible  to everybody who wants to learn to be able to do it will be already assignments be a programming experience which i would highly recommend this course for the lectures are very good course for anyone who wants to learn the course is designed to learn programming for anyone who want to start to get start. i think the course has a great teacher is the seems and his mo know programming experience in this course\n",
      "----- diversity: 1.0\n",
      "----- Generating with seed: \"ther video. things are taught in very simplified manner making learning python possible  to everybod\"\n",
      "ther video. things are taught in very simplified manner making learning python possible  to everybode it easy to learn python for, and while theles are computer experience its much kirely to design with ay take courses of programming language.  wores bat this is friendly and made dr. severance in get nifessor severen reselvinut, easy for me programming  is expesience of learning to videos with pait basic for the lectures you quizzes in liste in the slechanivates were experience ovethin course.th\n",
      "----- diversity: 1.2\n",
      "----- Generating with seed: \"ther video. things are taught in very simplified manner making learning python possible  to everybod\"\n",
      "ther video. things are taught in very simplified manner making learning python possible  to everybody zed it is a really really a tsigules computer in scanof..courres have  a bpot for those with new taveoror thanks supy to student, i have exerciened! the amazing man python part interesting overesed but in which dateri'm to filld it really a to some; i wants to bay the basces, and show to.eaves no whow becaule helpfied.\" \"it here writh and it's not jutter the programming.   effecially using stude\n",
      "\n",
      "Epoch 00013: loss improved from 1.07385 to 1.05905, saving model to /content/gdrive/My Drive/Capstone/Data/\n",
      "Epoch 14/100\n",
      "2362/2362 [==============================] - 31s 13ms/step - loss: 1.0399 - accuracy: 0.6927 - val_loss: 1.0513 - val_accuracy: 0.6939\n",
      "\n",
      "----- Generating text after Epoch: 13\n",
      "----- diversity: 0.2\n",
      "----- Generating with seed: \"ortunity to use our newly acquired knowledge. \"the way the lectures were mixed with entertaining and\"\n",
      "ortunity to use our newly acquired knowledge. \"the way the lectures were mixed with entertaining and assignments are a great course for those who have a lot of the course and the course is a great course and i had a great course for those who have a lot of experienced the course and the course is very clear and i was a great teaching stuff and i had a great course to the best course for those who have a lot of experienced by the professor charles severance is a great course for those who have a \n",
      "----- diversity: 0.5\n",
      "----- Generating with seed: \"ortunity to use our newly acquired knowledge. \"the way the lectures were mixed with entertaining and\"\n",
      "ortunity to use our newly acquired knowledge. \"the way the lectures were mixed with entertaining and something way to the programming was a lot of his your for you. i have counde it was a great to the professor simple and i did not know nother programming language. \" \"the course is very interesting and i could don't starting to loop of python  and i am a programming and i learned this course was a great course of programming and i fault to attend of the such a wonderful course and and complete t\n",
      "----- diversity: 1.0\n",
      "----- Generating with seed: \"ortunity to use our newly acquired knowledge. \"the way the lectures were mixed with entertaining and\"\n",
      "ortunity to use our newly acquired knowledge. \"the way the lectures were mixed with entertaining and approach, as don't anywer a additional and well appreciated  the new tack hours to python. digitalling , is ont the video also just first clars againt of lint it assignments. i took a speredible any finassitionsere of develop experibnely someone funny for beginners. no- botsly as how easy cleard of programming. one additing a bit but the course of programming. the course hours - was by strised to\n",
      "----- diversity: 1.2\n",
      "----- Generating with seed: \"ortunity to use our newly acquired knowledge. \"the way the lectures were mixed with entertaining and\"\n",
      "ortunity to use our newly acquired knowledge. \"the way the lectures were mixed with entertaining and at madiaralpy, off id simple and thtepll, helm hampjod to continue to learn python, as mecternoged achollemert into part who doest!\" ansy diffi't before underphanch it easy learner allately. \" this is basic of python.\" \"professor chuck valurials were datately, roopprs.the course to get too usyout is hawnyine wi hole exttrent from engaging. aut they exfecming a very knows  staps\"\" i enjoy? thisk. \n",
      "\n",
      "Epoch 00014: loss improved from 1.05905 to 1.04559, saving model to /content/gdrive/My Drive/Capstone/Data/\n",
      "Epoch 15/100\n",
      "2362/2362 [==============================] - 32s 14ms/step - loss: 1.0248 - accuracy: 0.6970 - val_loss: 1.0470 - val_accuracy: 0.6941\n",
      "\n",
      "----- Generating text after Epoch: 14\n",
      "----- diversity: 0.2\n",
      "----- Generating with seed: \"ully completed on coursera. i had a vague background in programming from my undergraduate studies in\"\n",
      "ully completed on coursera. i had a vague background in programming from my undergraduate studies in this course and i am looking to learn python for me to the best the subject and i would recommend this course to the course and i am so i could really like the course and the course materials and programming language and i would like to this course the course and i had learned the course and i was able to do the best programming language in the course and i have a great course for anyone who want\n",
      "----- diversity: 0.5\n",
      "----- Generating with seed: \"ully completed on coursera. i had a vague background in programming from my undergraduate studies in\"\n",
      "ully completed on coursera. i had a vague background in programming from my undergraduate studies in the basics of python. i found i have a great and faster the student and also and gives the programming language and the course complete the part instructor in the course and i will did not and this course and the basic    i was able to have a mone additional can understand the fun to the beginners and the basic language to all the programming course is the basics of programming language. i have e\n",
      "----- diversity: 1.0\n",
      "----- Generating with seed: \"ully completed on coursera. i had a vague background in programming from my undergraduate studies in\"\n",
      "ully completed on coursera. i had a vague background in programming from my undergraduate studies in a fact programming referent languagi, enrouren! those yla ersiouse whon's things i could understand my govated many necess of lickuely somethings in general .a great teyte, it was a great happue in mi are endainer in compute, beginner in someone in the courses or any know more way.thankyou very knowledge to what most eading. makes this sectionive.\" \"this course is a buck ore very gitture in the l\n",
      "----- diversity: 1.2\n",
      "----- Generating with seed: \"ully completed on coursera. i had a vague background in programming from my undergraduate studies in\"\n",
      "ully completed on coursera. i had a vague background in programming from my undergraduate studies in a great wooken. this course guity unicliniage of easy to then stay  programming .! my profersinntelus't joffub courseveabte which was as not for these clastrangage or programming , average within the assignment is not wated you matereat withdlwhiting ent hinging him into m studing is light! lots helme has hadful comenthel. i'd you with untortant the first course and i woult colleng this course to\n",
      "\n",
      "Epoch 00015: loss improved from 1.04559 to 1.03278, saving model to /content/gdrive/My Drive/Capstone/Data/\n",
      "Epoch 16/100\n",
      "2362/2362 [==============================] - 32s 14ms/step - loss: 1.0191 - accuracy: 0.6992 - val_loss: 1.0444 - val_accuracy: 0.6955\n",
      "\n",
      "----- Generating text after Epoch: 15\n",
      "----- diversity: 0.2\n",
      "----- Generating with seed: \"or a beginner who has zero knowledge in programming; the professor and the tutors online is amazing.\"\n",
      "or a beginner who has zero knowledge in programming; the professor and the tutors online is amazing. thank you dr. chuck, this course is a great course for a programming language is a great course for programming and the course is a great course for beginners and the video and the videos are very good course for beginners. i have never taken to learn python and i felt the best course i have never exercise that is a great course for a programming language and concepts and the video lectures and t\n",
      "----- diversity: 0.5\n",
      "----- Generating with seed: \"or a beginner who has zero knowledge in programming; the professor and the tutors online is amazing.\"\n",
      "or a beginner who has zero knowledge in programming; the professor and the tutors online is amazing. thanks to this course for the learning programming and the code who have never had to learn the lectures well baser manner to learn the best online course is very clear and i fell explained in this opportunity to learn python about programming background in a course in a student in the course and interesting and solve the course and condicating that i can take     i want to learn python          \n",
      "----- diversity: 1.0\n",
      "----- Generating with seed: \"or a beginner who has zero knowledge in programming; the professor and the tutors online is amazing.\"\n",
      "or a beginner who has zero knowledge in programming; the professor and the tutors online is amazing. he have ever can learn sute, and i starts there for with furtherong so they bay for a big di for how to learn that you have done my firisted programming skill before, \" i very uninumen for a simple to kind content along writhed of completing this of awesome is also providat funny a maze the can't : weshing python learning  this special knocuse. i had wonctive courder brest oft. i had baal. it hel\n",
      "----- diversity: 1.2\n",
      "----- Generating with seed: \"or a beginner who has zero knowledge in programming; the professor and the tutors online is amazing.\"\n",
      "or a beginner who has zero knowledge in programming; the professor and the tutors online is amazing.  the learning the rutony infervert abon up with these tilt you are prefer, i am a reading tho, alm it ily sugging and in online how open. a waiting explains topy 't ample nner als -mad alloops gets has friends .it hoppormfur how y,  \"weeks to hap not to do a complements the can won the nexfursks.  the way pas arputal the instructiof biskry pragned of programming. charles severance enstrace of his\n",
      "\n",
      "Epoch 00016: loss improved from 1.03278 to 1.02235, saving model to /content/gdrive/My Drive/Capstone/Data/\n",
      "Epoch 17/100\n",
      "2362/2362 [==============================] - 32s 14ms/step - loss: 1.0022 - accuracy: 0.7022 - val_loss: 1.0413 - val_accuracy: 0.6974\n",
      "\n",
      "----- Generating text after Epoch: 16\n",
      "----- diversity: 0.2\n",
      "----- Generating with seed: \"he key concepts  and as dr. chuck said , this is only half of the entire big picture and i'm taking \"\n",
      "he key concepts  and as dr. chuck said , this is only half of the entire big picture and i'm taking this course is a great course for those who does enjoyable and the course will be a complete the course in the best courses to learn python for a programming language. i will definitely recommend this course to anyone who wants to learn python. i would like to take this course to start learning python. the course clear and i am a great course for beginners. i will definitely recommend it to anyone\n",
      "----- diversity: 0.5\n",
      "----- Generating with seed: \"he key concepts  and as dr. chuck said , this is only half of the entire big picture and i'm taking \"\n",
      "he key concepts  and as dr. chuck said , this is only half of the entire big picture and i'm taking this class in a start the course and i want to learn python.\" \"the course is a great course for activical content and makes it and i was a great teacher. so                                                                                                                                                                                                                                                    \n",
      "----- diversity: 1.0\n",
      "----- Generating with seed: \"he key concepts  and as dr. chuck said , this is only half of the entire big picture and i'm taking \"\n",
      "he key concepts  and as dr. chuck said , this is only half of the entire big picture and i'm taking the complete with python!!! programming learning which makes highly enguged   agabiz firs   way that werencer or solking and undwaids to get inst for the keeps and desire..very excited,\" howeveres, was worl took chance triss. the course provide to stadd with a programming learning.  \" \"a now base thing.  excellent courses just unines.plon to this it too withtull \"i don't really provides the course\n",
      "----- diversity: 1.2\n",
      "----- Generating with seed: \"he key concepts  and as dr. chuck said , this is only half of the entire big picture and i'm taking \"\n",
      "he key concepts  and as dr. chuck said , this is only half of the entire big picture and i'm taking the class, more. spenialsis!\" \"avisal coverrent computer compside. .i was awe lones.dr. cudest all. c manit kim for. charles! much i loke you to like anyonis! highly recommendinu!this course.:    who want to do assignments, which desents to want to continue whyre cammanied of here and thinks matered.  quitely and i came like programmers. i 'venking twooked\"\" most plicall many opportunity. gives af\n",
      "\n",
      "Epoch 00017: loss improved from 1.02235 to 1.01174, saving model to /content/gdrive/My Drive/Capstone/Data/\n",
      "Epoch 18/100\n",
      "2362/2362 [==============================] - 32s 13ms/step - loss: 0.9976 - accuracy: 0.7030 - val_loss: 1.0378 - val_accuracy: 0.6991\n",
      "\n",
      "----- Generating text after Epoch: 17\n",
      "----- diversity: 0.2\n",
      "----- Generating with seed: \"the last few minutes of  the bonus videos in week   interview wirh massimo banzi: the arduino and we\"\n",
      "the last few minutes of  the bonus videos in week   interview wirh massimo banzi: the arduino and well and the way the teaching students and the way he teaches who does the programming language to the programming language and the lectures are a great course for the beginners with python from the beginners and the videos and the way the instructor is a great course for anyone who have a lot of the subject to the best course for beginners and i have a beginner in programming. this course is very g\n",
      "----- diversity: 0.5\n",
      "----- Generating with seed: \"the last few minutes of  the bonus videos in week   interview wirh massimo banzi: the arduino and we\"\n",
      "the last few minutes of  the bonus videos in week   interview wirh massimo banzi: the arduino and well structured and easy to understand and the professor is explained and the professor charles severance help manner to continue with programming.\" \"i would have lough this course is very helpful for beginners. i have ever want to get a simple and the more start. i highly recommend this course to anyone who have even though i was a lot of programming for beginners and i feel like more in the course\n",
      "----- diversity: 1.0\n",
      "----- Generating with seed: \"the last few minutes of  the bonus videos in week   interview wirh massimo banzi: the arduino and we\"\n",
      "the last few minutes of  the bonus videos in week   interview wirh massimo banzi: the arduino and we don't deal from actualions before betting python for everybody\"\" instructor groduch on hemight to my for people susigeming you wonder', an introduction to python and something procramming language. the waym he is easy and i will be next of theards in computer study for to this course. i think gett! weeks on i was not to peecess you can work which material\" every perfectie us for the videos for my\n",
      "----- diversity: 1.2\n",
      "----- Generating with seed: \"the last few minutes of  the bonus videos in week   interview wirh massimo banzi: the arduino and we\"\n",
      "the last few minutes of  the bonus videos in week   interview wirh massimo banzi: the arduino and well subject. hrang the studest that i've used to us, offulin' begiced it knowl. i lead to mate the to the test quizing way!  thanks any, now more me. i an'thunking it might \" \"is just. zear in complete that designite  ovelating in tesmstional beginney unizer doops, if you lif thought buch!ru however manters, for programming. totuls.  finaghicghoum this sequence but alstanguate.i made this famizing \n",
      "\n",
      "Epoch 00018: loss improved from 1.01174 to 1.00284, saving model to /content/gdrive/My Drive/Capstone/Data/\n",
      "Epoch 19/100\n",
      "2362/2362 [==============================] - 32s 14ms/step - loss: 0.9922 - accuracy: 0.7057 - val_loss: 1.0386 - val_accuracy: 0.6986\n",
      "\n",
      "----- Generating text after Epoch: 18\n",
      "----- diversity: 0.2\n",
      "----- Generating with seed: \"mative and interesting course and will definitely teach you enough to carry forward the knowledge to\"\n",
      "mative and interesting course and will definitely teach you enough to carry forward the knowledge to start learning python and i was able to work and i can learn python and interesting and i have taken and i can learn programming language. the course is a great course for beginners and the lectures are all the course is a great teacher who have no programming language and the course is a great teacher who have not a lot of the course is very helpful and the course was a great course for the begi\n",
      "----- diversity: 0.5\n",
      "----- Generating with seed: \"mative and interesting course and will definitely teach you enough to carry forward the knowledge to\"\n",
      "mative and interesting course and will definitely teach you enough to carry forward the knowledge to complete the course is very helpful and well the videos are very good course for beginners and experience who is so eared this course in the first courses in programming and the course without anyone the best and help you are are a beginner course! the course is excellent course which as the course is a great teacher who have not the course that i have teach a lot of the course is really gat that\n",
      "----- diversity: 1.0\n",
      "----- Generating with seed: \"mative and interesting course and will definitely teach you enough to carry forward the knowledge to\"\n",
      "mative and interesting course and will definitely teach you enough to carry forward the knowledge to program and coursera and his teaching made thanks, actually for much. i whine y artage of python friendly all this course, i can understand prodver like he was \"interested even modeon with programing expery toward python  in the scated. i had a lot of enralinge of coding learning python  as for programming language in this video programming exercise. but helpful anyone was chelled me as feel. by \n",
      "----- diversity: 1.2\n",
      "----- Generating with seed: \"mative and interesting course and will definitely teach you enough to carry forward the knowledge to\"\n",
      "mative and interesting course and will definitely teach you enough to carry forward the knowledge to know esome.   elghtan: class of programmingl  this course. dr. chuck is simplaction and advanted  i didnculling the ixter by viewor schook. which it cass's knowledge abouth inmained coding: thanks a little to teachit. about this course is everything wbich and gat faurit coursera like a good course back to i can learn very noc or achigal there class expertly assignment with coding and is   very im\n",
      "\n",
      "Epoch 00019: loss improved from 1.00284 to 0.99372, saving model to /content/gdrive/My Drive/Capstone/Data/\n",
      "Epoch 20/100\n",
      "2362/2362 [==============================] - 32s 13ms/step - loss: 0.9778 - accuracy: 0.7088 - val_loss: 1.0429 - val_accuracy: 0.6974\n",
      "\n",
      "----- Generating text after Epoch: 19\n",
      "----- diversity: 0.2\n",
      "----- Generating with seed: \"y to teach programming to people who do not have a programming background. this course is a very gre\"\n",
      "y to teach programming to people who do not have a programming background. this course is a very great introduction to programming language. i was able to work and interesting and i would like to take this course to anyone who is a great teacher is a great teacher is a great teacher is an excellent course and i was able to do it and interested in the course is very interesting and i was able to work and explain when you the best course i have ever taken a course with completely course in the cou\n",
      "----- diversity: 0.5\n",
      "----- Generating with seed: \"y to teach programming to people who do not have a programming background. this course is a very gre\"\n",
      "y to teach programming to people who do not have a programming background. this course is a very great and it is very interesting and it so easy to understand and i want to start and programming language. i really like the course is the best have look forward to the course in the best course i think i was absolute other programming language. the course is a great teacher who have interested in my college how thing to the book world. i have been the examples and the forta start with the course is\n",
      "----- diversity: 1.0\n",
      "----- Generating with seed: \"y to teach programming to people who do not have a programming background. this course is a very gre\"\n",
      "y to teach programming to people who do not have a programming background. this course is a very great reasor explainable. thank you so much.\" \"explained explained the most a lot of care. this course is an interostent, i fiest teke for new to prife.ere. slosect in op. this is real introduction  learning....and a precoing comes your for everyone who diving inso the decin pase so easy to dr chock is as this is the amazing so easy to follow and years as it is encauing, and basic and exercises. add \n",
      "----- diversity: 1.2\n",
      "----- Generating with seed: \"y to teach programming to people who do not have a programming background. this course is a very gre\"\n",
      "y to teach programming to people who do not have a programming background. this course is a very great class!and.i stringited coursead us a few interlick luar in hesm sincels learned to achilivaly welt helpy instatic-.if you humm- love to peaden are very spetting confidenc.  clear and can wanny to start from .. me done sit,!!. the videos that explain platfor introduction to sonved uting in evely what course.. this course is build up for the best time in learning trickly has absolutelp the quiz a\n",
      "\n",
      "Epoch 00020: loss improved from 0.99372 to 0.98541, saving model to /content/gdrive/My Drive/Capstone/Data/\n",
      "Epoch 21/100\n",
      "2362/2362 [==============================] - 32s 13ms/step - loss: 0.9693 - accuracy: 0.7107 - val_loss: 1.0394 - val_accuracy: 0.6978\n",
      "\n",
      "----- Generating text after Epoch: 20\n",
      "----- diversity: 0.2\n",
      "----- Generating with seed: \"hon. \"this is a very simple yet interesting course introducing someone who has no experience in prog\"\n",
      "hon. \"this is a very simple yet interesting course introducing someone who has no experience in programming. the course is a great course for anyone who want to start the course. the teachers and i had a great course for anyone who wants to start with the course and the basics of python and i learned the course for beginners and the course content is very interesting and the course is a great teacher is programming language. i had to go broungs from a great course for beginners and the instructo\n",
      "----- diversity: 0.5\n",
      "----- Generating with seed: \"hon. \"this is a very simple yet interesting course introducing someone who has no experience in prog\"\n",
      "hon. \"this is a very simple yet interesting course introducing someone who has no experience in programming. the basics of programming. this is a bit of programming language that is a great course and i would have to teach in the beginners and encouragem the presented and computer science before for the basics of python courses of the course. this course is great in programming. this course was quite this course is very helpful and i want to start learning programming. it was a great course. tha\n",
      "----- diversity: 1.0\n",
      "----- Generating with seed: \"hon. \"this is a very simple yet interesting course introducing someone who has no experience in prog\"\n",
      "hon. \"this is a very simple yet interesting course introducing someone who has no experience in programming students. i would drechat here experience with many thank you so much and this formet as well using. what i learned the mest coursera helped me han special thanky c dang using poshinal in python is that that code in programming. i have lated to the code of programming for exprainidely well desiguate. the course was need course teaches the way to recone specialization. just had no prior cod\n",
      "----- diversity: 1.2\n",
      "----- Generating with seed: \"hon. \"this is a very simple yet interesting course introducing someone who has no experience in prog\"\n",
      "hon. \"this is a very simple yet interesting course introducing someone who has no experience in programations, being pegreeting himits implesione .\" i got and dr. chunk. thank you, dr charles \" cheor. if you wrich possible. thank you. \"hoved work wooring basics, programming, by amazing tho is a great class- \" being python speed plac about prroressione. i would structure ot consise to it it !! say now, there is partucipe. gola. i all the basic concepts too seven shogherf endered didirs every dide\n",
      "\n",
      "Epoch 00021: loss improved from 0.98541 to 0.97731, saving model to /content/gdrive/My Drive/Capstone/Data/\n",
      "Epoch 22/100\n",
      "2362/2362 [==============================] - 31s 13ms/step - loss: 0.9658 - accuracy: 0.7118 - val_loss: 1.0346 - val_accuracy: 0.6997\n",
      "\n",
      "----- Generating text after Epoch: 21\n",
      "----- diversity: 0.2\n",
      "----- Generating with seed: \"o code a fun packed activity. a big thanks!\" \"it's a good course for everybody who have interest in \"\n",
      "o code a fun packed activity. a big thanks!\" \"it's a good course for everybody who have interest in python and i would start the course is very good course for a programming language and the instructor is very good and the way the course is a great course for beginners with the professor severance is a great course for people with no programming language and start with the course is a great teacher is an excellent course for beginners and the content is a good and the first course who wants to l\n",
      "----- diversity: 0.5\n",
      "----- Generating with seed: \"o code a fun packed activity. a big thanks!\" \"it's a good course for everybody who have interest in \"\n",
      "o code a fun packed activity. a big thanks!\" \"it's a good course for everybody who have interest in programming language easy to learn python and start with the way how to programming language and fun and the learning python and i am a programming language is the best coursera course i have been a professor and the way the lectures are prof. charles severance is a great course thanks for the best course. i will definitely recommend it to the course i will continue with minical statement in the b\n",
      "----- diversity: 1.0\n",
      "----- Generating with seed: \"o code a fun packed activity. a big thanks!\" \"it's a good course for everybody who have interest in \"\n",
      "o code a fun packed activity. a big thanks!\" \"it's a good course for everybody who have interest in python with programmer through a complement and lectures are mare programming experience and assignment in a completely,dat programming for instam through better: he geld platform from up for something and it is programming short br. chaples he grat and vasist    in thest i'ves detailed course ever thought quit chapter with no friend is coding. the learning for beginners with the specializanion. m\n",
      "----- diversity: 1.2\n",
      "----- Generating with seed: \"o code a fun packed activity. a big thanks!\" \"it's a good course for everybody who have interest in \"\n",
      "o code a fun packed activity. a big thanks!\" \"it's a good course for everybody who have interest in python the first coursera course rething classe.! somith auteartime capron   python! \" the'l lw-tors to ruining speciss little the beginning this cubsely. to form made.thanky to see prociesivaly. i would like time wheneven the teachers terms of highly requires chacle.\" professor chusk in the class technolosy are well.\" \"it is the , the fluste the secining daterion, at really slise and also, assign\n",
      "\n",
      "Epoch 00022: loss improved from 0.97731 to 0.97071, saving model to /content/gdrive/My Drive/Capstone/Data/\n",
      "Epoch 23/100\n",
      "2362/2362 [==============================] - 30s 13ms/step - loss: 0.9543 - accuracy: 0.7143 - val_loss: 1.0381 - val_accuracy: 0.6989\n",
      "\n",
      "----- Generating text after Epoch: 22\n",
      "----- diversity: 0.2\n",
      "----- Generating with seed: \"ing. his lecture makes every lesson so easy to me. \"i liked so much. even though i have already know\"\n",
      "ing. his lecture makes every lesson so easy to me. \"i liked so much. even though i have already know that i can to think about the course. the student and i was able to do it was a great introduction to programming in python. the instructor is very good and explains the concepts was a great experience in python                                                                                                                                                                                            \n",
      "----- diversity: 0.5\n",
      "----- Generating with seed: \"ing. his lecture makes every lesson so easy to me. \"i liked so much. even though i have already know\"\n",
      "ing. his lecture makes every lesson so easy to me. \"i liked so much. even though i have already know the basics of python. he was a great course for beginners. the course is a great introduction to programming and i am a bit of programming background in programming. the material is very well as freeting the some of the secinal entured experience in python  the subject way a great some time and i struggled and i completed the way he teaches and have a bit of programming language and it is a great\n",
      "----- diversity: 1.0\n",
      "----- Generating with seed: \"ing. his lecture makes every lesson so easy to me. \"i liked so much. even though i have already know\"\n",
      "ing. his lecture makes every lesson so easy to me. \"i liked so much. even though i have already knowed any background his more for helpful teacher questions of learning, but i comen and with all the interest in my continuer i will mey programs dagecturents. just to quit for your with reging alo, and so good interatures speek of prabfisally content many tipd i started from a gives and everybody \"\" well slill-fack you will have into thanks to strarses for a where there is an amazing with programme\n",
      "----- diversity: 1.2\n",
      "----- Generating with seed: \"ing. his lecture makes every lesson so easy to me. \"i liked so much. even though i have already know\"\n",
      "ing. his lecture makes every lesson so easy to me. \"i liked so much. even though i have already knowledge! thanks so who resealinf .and so suaccels and help for all take you canful at me thoughts it  \"i am not a great clarse and mays and i spejied  us tutin. blessing. i'm able to brighit communica. plessor. good ottanally taking this course somethes at thinging etsoigcl and i really learn those who want to constrait dows passic!\"itas it does not -lssemme peopor , fugthting.a programming knowledg\n",
      "\n",
      "Epoch 00023: loss improved from 0.97071 to 0.96328, saving model to /content/gdrive/My Drive/Capstone/Data/\n",
      "Epoch 24/100\n",
      "2362/2362 [==============================] - 31s 13ms/step - loss: 0.9466 - accuracy: 0.7164 - val_loss: 1.0397 - val_accuracy: 0.6986\n",
      "\n",
      "----- Generating text after Epoch: 23\n",
      "----- diversity: 0.2\n",
      "----- Generating with seed: \"er the instructor makes the course beginning very enjoyable to watch. thank you!\" i have been trying\"\n",
      "er the instructor makes the course beginning very enjoyable to watch. thank you!\" i have been trying to learn python and i complete the course is a great teacher is and highly recommend this course to anyone who want to learn python and i think that i am a great teacher is and the way the course is a great teacher and i complete the course is a great teacher is makes it easy to understand and easy to understand and i was a great teacher is and excellent course for the basics of python and i was \n",
      "----- diversity: 0.5\n",
      "----- Generating with seed: \"er the instructor makes the course beginning very enjoyable to watch. thank you!\" i have been trying\"\n",
      "er the instructor makes the course beginning very enjoyable to watch. thank you!\" i have been trying to take highly reforch to learn python and i would say the way of teaches and the instructor is excellent course is a great course to learn python.  i am a great professor that is a great teacher is programming is well as the best course for the basics sime, offer to teach i would recommend this course for a lone courses so i would did and want to learn python from the course has many retomy codi\n",
      "----- diversity: 1.0\n",
      "----- Generating with seed: \"er the instructor makes the course beginning very enjoyable to watch. thank you!\" i have been trying\"\n",
      "er the instructor makes the course beginning very enjoyable to watch. thank you!\" i have been trying that coups; i highly recommend to the teacher some teacher and helt in ord.    thank yaur. \"entboed in the basics. \"this course too endaghing expectence. he is engaging ssilled for anyous,  from won't did and with then is extremely every doing notes grase but i found things. it turtion if well gry some exercises, actived in  in that this course. because i'm leow xamentalmed. speaked also profised\n",
      "----- diversity: 1.2\n",
      "----- Generating with seed: \"er the instructor makes the course beginning very enjoyable to watch. thank you!\" i have been trying\"\n",
      "er the instructor makes the course beginning very enjoyable to watch. thank you!\" i have been trying to know programming if twise this is just data stilged makes you abaut, lassiog now-pif to code knowledge and met. not!!  the instructor gives a great course thanks for this course with great with the render which helpme   i ha'll seeving things ever basic is sometheque. mizer   thank you. my cone offing!\" then days how of. yet nume : veraly amazing catss, is did not start sonverout. it simmer al\n",
      "\n",
      "Epoch 00024: loss improved from 0.96328 to 0.95699, saving model to /content/gdrive/My Drive/Capstone/Data/\n",
      "Epoch 25/100\n",
      "2362/2362 [==============================] - 31s 13ms/step - loss: 0.9448 - accuracy: 0.7166 - val_loss: 1.0393 - val_accuracy: 0.6981\n",
      "\n",
      "----- Generating text after Epoch: 24\n",
      "----- diversity: 0.2\n",
      "----- Generating with seed: \" in-detailed, if you're a beginner to python or did you know java or c   already. this course is for\"\n",
      " in-detailed, if you're a beginner to python or did you know java or c   already. this course is for a beginner the way they who wants to start learning python and computer science and i was able to complete the lectures are very well as well as well as well as well as well as programming languages and the lectures are very well as well as well as a student the specialization. i have learned a lot of experience in programming. it is a great teacher is very well as well as much for a programming \n",
      "----- diversity: 0.5\n",
      "----- Generating with seed: \" in-detailed, if you're a beginner to python or did you know java or c   already. this course is for\"\n",
      " in-detailed, if you're a beginner to python or did you know java or c   already. this course is for a python   stammeres the material to the lectures are are well and the way that i can to goo sure that all the language and the lectures are life that i didn't new to python is a very good course. the is the course i have all the lectures are of programming before this course. the way this course is so excellent course the lectures are easy to learn python programming. the instructor is programmi\n",
      "----- diversity: 1.0\n",
      "----- Generating with seed: \" in-detailed, if you're a beginner to python or did you know java or c   already. this course is for\"\n",
      " in-detailed, if you're a beginner to python or did you know java or c   already. this course is for syntax lonengrssovicg feelha'l understoodable stepb.loved,on't reen coding experience are while looking forward to start so fundamental problems, gits for my serious first experience was. thanks a lot for this course  with pery of even if you and his more of the next course is but it's language. this is a luck able to lears an about my explaining how oning a with and challenging but it's so choms\n",
      "----- diversity: 1.2\n",
      "----- Generating with seed: \" in-detailed, if you're a beginner to python or did you know java or c   already. this course is for\"\n",
      " in-detailed, if you're a beginner to python or did you know java or c   already. this course is for anypything throwlobw as aligrable.the learning frach the listle essentes cauqhe difficulty quizzes..\" althos that rackberaits kooce start did really an aforogal experience of his teaching.\" \"the knows vasint blow..ands antway week on-using to take the sutessead in my with it.: m. sknocest is indvervigges c   overall, i logre coressite them.i like the autoos then wax bear for learners it really me\n",
      "\n",
      "Epoch 00025: loss improved from 0.95699 to 0.95079, saving model to /content/gdrive/My Drive/Capstone/Data/\n",
      "Epoch 26/100\n",
      "2362/2362 [==============================] - 31s 13ms/step - loss: 0.9391 - accuracy: 0.7188 - val_loss: 1.0413 - val_accuracy: 0.6997\n",
      "\n",
      "----- Generating text after Epoch: 25\n",
      "----- diversity: 0.2\n",
      "----- Generating with seed: \"on is. if you feel this is not something that can not aide you in your current studies or career i w\"\n",
      "on is. if you feel this is not something that can not aide you in your current studies or career i would like to thank to continue the course is a great teacher is a great teacher is a great teacher is many that i can start learning python and the subject is very good course for the beginners and the course is a great teacher is better different concepts in programming in a well and the course is a great teacher is great for me to teach it and helpful and the course is a great teacher and all th\n",
      "----- diversity: 0.5\n",
      "----- Generating with seed: \"on is. if you feel this is not something that can not aide you in your current studies or career i w\"\n",
      "on is. if you feel this is not something that can not aide you in your current studies or career i would recommend ditall the course. i am good and that i am absolutely new to programming in a well and with the programming used to and programming in programming in your first to the next course in this course and the explanation interesting. i am so interesting this course teacher with programming for me to start learning python is despite to do the basics of python and the concepts are very inte\n",
      "----- diversity: 1.0\n",
      "----- Generating with seed: \"on is. if you feel this is not something that can not aide you in your current studies or career i w\"\n",
      "on is. if you feel this is not something that can not aide you in your current studies or career i was been univelinional  one way. noved learning this course dest wanting baizabse. it is the video \"i'll you a. i nead in in, major at back to take sears started us great. i am an absolute can easy to understand.  hearly the book i had the teacher has helped me    programming language programming of problem you good and interesting into programming to learning you to start. thank you. charles :r. s\n",
      "----- diversity: 1.2\n",
      "----- Generating with seed: \"on is. if you feel this is not something that can not aide you in your current studies or career i w\"\n",
      "on is. if you feel this is not something that can not aide you in your current studies or career i would definitely give the  weeks beed and lost to erficuate this, is very issue no knowledge. graden and platiction of the mesper speoply and seems in my concents! one vur. shough too how the test delaited.  the video about python \"if wourd recommend you any gondane  \"\"welcas areangevel to specone of loved in a big  brainwere can learn betable for you learn with much pathess in mysion, thank you co\n",
      "\n",
      "Epoch 00026: loss improved from 0.95079 to 0.94476, saving model to /content/gdrive/My Drive/Capstone/Data/\n",
      "Epoch 27/100\n",
      "2362/2362 [==============================] - 31s 13ms/step - loss: 0.9293 - accuracy: 0.7228 - val_loss: 1.0442 - val_accuracy: 0.6979\n",
      "\n",
      "----- Generating text after Epoch: 26\n",
      "----- diversity: 0.2\n",
      "----- Generating with seed: \"rom scratch, some courses start from reserved keywords and all those boring things directly but this\"\n",
      "rom scratch, some courses start from reserved keywords and all those boring things directly but this course is a great teacher is an experienced to learn python with the beginners and i was able to learn python and it was a great course for beginners in python.  \" \"i have tried to learn python and i found this course i have ever taken of the course i have ever seen for a programming language and i am really good and the instructor is very good course for beginners in python. the instructor is ve\n",
      "----- diversity: 0.5\n",
      "----- Generating with seed: \"rom scratch, some courses start from reserved keywords and all those boring things directly but this\"\n",
      "rom scratch, some courses start from reserved keywords and all those boring things directly but this course is very good course to learn this course that i can start coursera. i am so many start to be good basic programming content and the way he till take be a course for all the instructor, he has a strong fun to many code and learn a beginner life the basics of python structure. i have a great teaching method is the best introduction to python, the of the instructor is excellent course for beg\n",
      "----- diversity: 1.0\n",
      "----- Generating with seed: \"rom scratch, some courses start from reserved keywords and all those boring things directly but this\"\n",
      "rom scratch, some courses start from reserved keywords and all those boring things directly but this! .    hours oo progremsion in a great lectures.  profiss who has new languadial. this is turring the quick language.  this ones who want to start this course and then much was out! i am learning python and the present\" this course from all the detailed and now you follow and techniced,inely and how it's able to kindsents you and start in by how concepts.you many thuy this is the online in the fac\n",
      "----- diversity: 1.2\n",
      "----- Generating with seed: \"rom scratch, some courses start from reserved keywords and all those boring things directly but this\"\n",
      "rom scratch, some courses start from reserved keywords and all those boring things directly but this course matwa assignments.\" \"very find of deminitres. thanks\"\" i've noving to learn any waid the very most of the best lecture as my bonuc. it le't pajoraged you about to the nentr.\" \"this is a really greth, it is also progrmmot. heres, comment?thanks precauply so much for makial in. great teachers is specialiars were - and his materievee, and i think coursera i alses taking it specifat to make du\n",
      "\n",
      "Epoch 00027: loss improved from 0.94476 to 0.93920, saving model to /content/gdrive/My Drive/Capstone/Data/\n",
      "Epoch 28/100\n",
      "2362/2362 [==============================] - 31s 13ms/step - loss: 0.9267 - accuracy: 0.7224 - val_loss: 1.0455 - val_accuracy: 0.6978\n",
      "\n",
      "----- Generating text after Epoch: 27\n",
      "----- diversity: 0.2\n",
      "----- Generating with seed: \"ats off to prof charles. thank you for simplifying the course to such a level. this was an amazing c\"\n",
      "ats off to prof charles. thank you for simplifying the course to such a level. this was an amazing course for beginners in this course. i am a great course for beginners in programming in a simple and explained in the first course i have a great course for beginners in this course. the instructor is excellent teacher is a great course for beginners and explained in the specialization, and the lectures are a great course for beginners and explained in a course i have a great course for anyone who\n",
      "----- diversity: 0.5\n",
      "----- Generating with seed: \"ats off to prof charles. thank you for simplifying the course to such a level. this was an amazing c\"\n",
      "ats off to prof charles. thank you for simplifying the course to such a level. this was an amazing course.  the course is a wonderful course and i feel like i am looking forward to learn and didn't be a beginner. the most it is a great teacher is an excellent teacher who have a lot of explaining the student and have a lot of this course is an interesting to what is a great course! i am jove me to have any programming language before this course well as a well and programming language and the lec\n",
      "----- diversity: 1.0\n",
      "----- Generating with seed: \"ats off to prof charles. thank you for simplifying the course to such a level. this was an amazing c\"\n",
      "ats off to prof charles. thank you for simplifying the course to such a level. this was an amazing courses traneful, especially understanding materials and itreman to python or up in a dechaniza be for for beginneres. the teaching mettor: i am very that covered something was everything in machime. you wants through a lige, it would at feel manages and the professory explained eqperame of programming. i am   tipe a lot of minicas to programming. i understouded in this is to the reand stea sobuthi\n",
      "----- diversity: 1.2\n",
      "----- Generating with seed: \"ats off to prof charles. thank you for simplifying the course to such a level. this was an amazing c\"\n",
      "ats off to prof charles. thank you for simplifying the course to such a level. this was an amazing course, sencis of highly are me this selfes dopest.arealms.a mringlling the logid of coursera, and for sureque  \"got and helpff maker ho'me    triet for everygep. there is really wort!  i also enjoyed it, prot. thank you for those very peestive and has interesting and explains lecion students in if you can allow sted senorses, all, a great course for those whe his luckthulat movic, at try topich te\n",
      "\n",
      "Epoch 00028: loss improved from 0.93920 to 0.93353, saving model to /content/gdrive/My Drive/Capstone/Data/\n",
      "Epoch 29/100\n",
      "2362/2362 [==============================] - 31s 13ms/step - loss: 0.9178 - accuracy: 0.7245 - val_loss: 1.0421 - val_accuracy: 0.6995\n",
      "\n",
      "----- Generating text after Epoch: 28\n",
      "----- diversity: 0.2\n",
      "----- Generating with seed: \"nce. he made the course fun and easy to digest. i love the fact that i can learn with my own pace. i\"\n",
      "nce. he made the course fun and easy to digest. i love the fact that i can learn with my own pace. i will definitely recommend this course to anyone who wants to learn python and programming experience in the course for anyone who wants to learn python before the course and the way dr. chuck is a great course for beginners in python and i feel like the course is a great teacher is a great teacher is a great teacher is an excellent course for beginners. i am a great teacher is a great teacher is \n",
      "----- diversity: 0.5\n",
      "----- Generating with seed: \"nce. he made the course fun and easy to digest. i love the fact that i can learn with my own pace. i\"\n",
      "nce. he made the course fun and easy to digest. i love the fact that i can learn with my own pace. i have already know nothing a lot. i have been to start the lectures and i think it's amazing experience in a well for beginners. i am really for a beginner to the most to take this course. i am a mone of the course really speed to any priper beginners who wants to learn python before but the course is very find this course! i'm a few thanks a lot. i am good interesting and explained. it was a grea\n",
      "----- diversity: 1.0\n",
      "----- Generating with seed: \"nce. he made the course fun and easy to digest. i love the fact that i can learn with my own pace. i\"\n",
      "nce. he made the course fun and easy to digest. i love the fact that i can learn with my own pace. i also have stel are rectione divession this allowing in starting but a beginner to tytes roverwile basic   there bess, is it useful backgrounds. the instructor is i could want to be all stuply, coursera and python things learn to engagh en define with fall op my funnabie. additional in learners accourles. \" \"the course!\" i love the course    de provides mode is just beginner. learning for beginner\n",
      "----- diversity: 1.2\n",
      "----- Generating with seed: \"nce. he made the course fun and easy to digest. i love the fact that i can learn with my own pace. i\"\n",
      "nce. he made the course fun and easy to digest. i love the fact that i can learn with my own pace. i study this course.\" \"i avaruceles for the communery which give that i can'tt eeprsicie, because gitt.\" \"loved the levier knows.\" your informative side:s then ure interaction madway\" i'm collemment that have one :lod sygultable. if icule ressoding and just  very useful, language, this is the best requates in enious basing a apper the subject, and best course to compligatly provides and dris my kno\n",
      "\n",
      "Epoch 00029: loss improved from 0.93353 to 0.92893, saving model to /content/gdrive/My Drive/Capstone/Data/\n",
      "Epoch 30/100\n",
      "2362/2362 [==============================] - 31s 13ms/step - loss: 0.9146 - accuracy: 0.7250 - val_loss: 1.0452 - val_accuracy: 0.6983\n",
      "\n",
      "----- Generating text after Epoch: 29\n",
      "----- diversity: 0.2\n",
      "----- Generating with seed: \" this is the most valuable part of the lectures. the students get to understand from the very beginn\"\n",
      " this is the most valuable part of the lectures. the students get to understand from the very beginner from the basics of python and i would like to thank to students are amazing to the next course i have ever manner to learn python and interesting and the way the course is very interesting and explains the course in the course i have ever seen and the course in a some coding with python in programming who is enterting the course i have ever manner to get it is not only that i could get to get s\n",
      "----- diversity: 0.5\n",
      "----- Generating with seed: \" this is the most valuable part of the lectures. the students get to understand from the very beginn\"\n",
      " this is the most valuable part of the lectures. the students get to understand from the very beginner programmers like me to code at the best course to learn about python. the course is an excellent course and the instructor is programming in python programming course for beginners, incredible experience in the course to start part of the course i have ever taken the python for started with python is an amazing course on python. the professor is really so much thank you dr. chuck, mr. chuck for\n",
      "----- diversity: 1.0\n",
      "----- Generating with seed: \" this is the most valuable part of the lectures. the students get to understand from the very beginn\"\n",
      " this is the most valuable part of the lectures. the students get to understand from the very beginner, this course is university oproitals. the format for someone will difficulty think this course. i'm better have basic python stuff inam, education, because course more challenging will now must to get my sequailes you me't learn what in learning compaider learning level.  \"it was really my interesting that quite examplise . i'm not intage at every more. masted with prior in back look and you st\n",
      "----- diversity: 1.2\n",
      "----- Generating with seed: \" this is the most valuable part of the lectures. the students get to understand from the very beginn\"\n",
      " this is the most valuable part of the lectures. the students get to understand from the very beginney but \" courses on the first what i are looking forward and it's none sound to gech python by the proun way. i am trying the codingal python  was simple had best online studying the basic i won've. for probuce i'm to real provided and an easyly lateming litele of the python so ... chuck so eweramented makes in this you zero code that i thoroughly ending returs resourse progrems. this course.! loo\n",
      "\n",
      "Epoch 00030: loss improved from 0.92893 to 0.92315, saving model to /content/gdrive/My Drive/Capstone/Data/\n",
      "Epoch 31/100\n",
      "2362/2362 [==============================] - 31s 13ms/step - loss: 0.9059 - accuracy: 0.7286 - val_loss: 1.0498 - val_accuracy: 0.6964\n",
      "\n",
      "----- Generating text after Epoch: 30\n",
      "----- diversity: 0.2\n",
      "----- Generating with seed: \"elivering the lecture is so simple yet so deep that even a person without any cs background could ge\"\n",
      "elivering the lecture is so simple yet so deep that even a person without any cs background could get a bit of programming in python and interesting and assignments were completed it was a great course for a programming language and i would recommend this course to anyone who wants to learn python in a some time i have a bit of the concepts in programming in a very good course for beginners with python is very interested in programming in python is very interested in programming in python in a w\n",
      "----- diversity: 0.5\n",
      "----- Generating with seed: \"elivering the lecture is so simple yet so deep that even a person without any cs background could ge\"\n",
      "elivering the lecture is so simple yet so deep that even a person without any cs background could get my first programming language and i found this course. the course is really very like he taught in programming. thanks for someone who have a lot of experience with the python course i have ever manthes and interesting. the videos is very essemes of his teaching style of the coding in programming to a lotten and impline and easy to understand the code and i found this course and i am a great cou\n",
      "----- diversity: 1.0\n",
      "----- Generating with seed: \"elivering the lecture is so simple yet so deep that even a person without any cs background could ge\"\n",
      "elivering the lecture is so simple yet so deep that even a person without any cs background could get and blowing awoso to learn and how a really good for you. i've as no prior covers that dustrucial  programming for everybodying. this is a great textboolding mithing,  this is an oftser but i was well designed course, and knowledge of the python language. \" \"the pace is indeed teaching friendlytief is and fan ow skills to be. tometime in onlent lines dempect.i students i am really happy thanks m\n",
      "----- diversity: 1.2\n",
      "----- Generating with seed: \"elivering the lecture is so simple yet so deep that even a person without any cs background could ge\"\n",
      "elivering the lecture is so simple yet so deep that even a person without any cs background could get the do it's a good class. .. an excellent course for everyone.thank you: the quizzed with lost .us topivey clear and best course.  i buce my knowledge is very helpful. really stull dr semaging and easmes are other just soll at fastered, want to start this specially for beginners!\" i am experienced introduction to goinal us grake.\" \" \"one   litton and not a couple,'s really wants to learn python.\n",
      "\n",
      "Epoch 00031: loss improved from 0.92315 to 0.91878, saving model to /content/gdrive/My Drive/Capstone/Data/\n",
      "Epoch 32/100\n",
      "2362/2362 [==============================] - 32s 14ms/step - loss: 0.9069 - accuracy: 0.7274 - val_loss: 1.0519 - val_accuracy: 0.6969\n",
      "\n",
      "----- Generating text after Epoch: 31\n",
      "----- diversity: 0.2\n",
      "----- Generating with seed: \"ct.  however i had to rewrite my code several times to fit the hidden requirements of the tool.  tha\"\n",
      "ct.  however i had to rewrite my code several times to fit the hidden requirements of the tool.  thanks to coursera and the course for someone who has a great teacher is a great course for beginners in programming. i am going to learn python in a week to learn python and interesting and i was able to complete the course in the course and i am very good and i could have no prior knowledge of python and interesting and i would like to start learning python and interesting and explained in the cour\n",
      "----- diversity: 0.5\n",
      "----- Generating with seed: \"ct.  however i had to rewrite my code several times to fit the hidden requirements of the tool.  tha\"\n",
      "ct.  however i had to rewrite my code several times to fit the hidden requirements of the tool.  thanks to charles severance for help from the next courses and programming language menter one of the best teacher who want to learn python is not only to know great hands to learn python is very good course for a programming language and the rest courses and with a strong whaterectieres in the programming language. the course is a great teacher is so far the best course has a beginner. although i am\n",
      "----- diversity: 1.0\n",
      "----- Generating with seed: \"ct.  however i had to rewrite my code several times to fit the hidden requirements of the tool.  tha\"\n",
      "ct.  however i had to rewrite my code several times to fit the hidden requirements of the tool.  thanks coursera and my university. ifest code, the quiz who preciadion find of extromely students, he is brock and a simple followite eass-telps me to clariful apperatifical s.and learning for where  always seemented any programming way. at an introductory course. if you are anable on the pact and also team gives make subt that you does not have about   as previously easy to fully recommend fotumatio\n",
      "----- diversity: 1.2\n",
      "----- Generating with seed: \"ct.  however i had to rewrite my code several times to fit the hidden requirements of the tool.  tha\"\n",
      "ct.  however i had to rewrite my code several times to fit the hidden requirements of the tool.  thank you so much to they this course doct in gentrate. than naved to comfortable language easy to funtiat onrimatives.  it's easy quizzes are not his nut courses i few overall, this is awesle   my coding in python, but stuty structures.to python bullard with provid scless not further!\" \". in the beginner's would do absomplifre up.not really scared of the world-on python.\" \"excellent excoulegh course\n",
      "\n",
      "Epoch 00032: loss improved from 0.91878 to 0.91430, saving model to /content/gdrive/My Drive/Capstone/Data/\n",
      "Epoch 33/100\n",
      "2362/2362 [==============================] - 33s 14ms/step - loss: 0.8971 - accuracy: 0.7305 - val_loss: 1.0573 - val_accuracy: 0.6953\n",
      "\n",
      "----- Generating text after Epoch: 32\n",
      "----- diversity: 0.2\n",
      "----- Generating with seed: \" it's very great to read a book with the help of mr. charles. i really love this course highly recom\"\n",
      " it's very great to read a book with the help of mr. charles. i really love this course highly recommended for everybody is well. the course is a great teacher is very interesting and i was able to complete the course is very interesting and i can absolutely the course is very interesting and start in programming. the course is a great teacher is very interesting and i was able to complete the course i have taken for a programming language with prof. charles severance is a great teacher is very \n",
      "----- diversity: 0.5\n",
      "----- Generating with seed: \" it's very great to read a book with the help of mr. charles. i really love this course highly recom\"\n",
      " it's very great to read a book with the help of mr. charles. i really love this course highly recommended to think about python and it is presentation and the rest of the styed of programming. i have learned a lot of explanations and detailed in students are very interesting. i am very explanations for someone friendly and have a lot of the student and the assignment in easy to continue with programming with programming because the course is excellent course for beginners. i liked this is a goo\n",
      "----- diversity: 1.0\n",
      "----- Generating with seed: \" it's very great to read a book with the help of mr. charles. i really love this course highly recom\"\n",
      " it's very great to read a book with the help of mr. charles. i really love this course highly recommended timend noes other, is really short and kit welchuy python for everybody too some programming corrach studing styful of learning of this styf it hard-bleared me indlusers persone the say things from us from highlly, to start your codes very style and easy to gut . i highly recommend this to applies\" dr. chuck ed\"\"\"fundamental very comment in your enduge up on this concepts on other courses!!\n",
      "----- diversity: 1.2\n",
      "----- Generating with seed: \" it's very great to read a book with the help of mr. charles. i really love this course highly recom\"\n",
      " it's very great to read a book with the help of mr. charles. i really love this course highly recommendet'r programming by assignments per wanted use it a big subreduming..excellent course edatter, i will a to the loosing that likes friendly, about this was fanciints. th's is hel to do it and thats off to chupt students, provides teacher, \"\" you did not gees and commen the luck relables for sleap rugowentalsly.  a student a bit passionary language. i am glady their. it is slowalamation from the\n",
      "\n",
      "Epoch 00033: loss improved from 0.91430 to 0.91022, saving model to /content/gdrive/My Drive/Capstone/Data/\n",
      "Epoch 34/100\n",
      "2362/2362 [==============================] - 34s 14ms/step - loss: 0.8953 - accuracy: 0.7300 - val_loss: 1.0554 - val_accuracy: 0.6971\n",
      "\n",
      "----- Generating text after Epoch: 33\n",
      "----- diversity: 0.2\n",
      "----- Generating with seed: \"ourage me to keep learning and improving my programing skills in python \" \"the best thing about this\"\n",
      "ourage me to keep learning and improving my programing skills in python \" \"the best thing about this course is a great teacher is a great teacher is very beginner for everybody. i would recommend this course to anyone who wants to learn python for the beginners with python is a great teacher is an excellent course for the beginners with the professor is an excellent course for anyone who wants to learn python programming language and i was able to work and interest introduction to python for eve\n",
      "----- diversity: 0.5\n",
      "----- Generating with seed: \"ourage me to keep learning and improving my programing skills in python \" \"the best thing about this\"\n",
      "ourage me to keep learning and improving my programing skills in python \" \"the best thing about this course is an excellent and way that make a more of the bonus videos are the problems and the class in the assignments in a which is an explaining the courses on python in a few professor chuck is an excellent and i really appreciate the course is very simple quaming and the concepts and the teaching from the course in the course is so far python and programming language that i can do this course \n",
      "----- diversity: 1.0\n",
      "----- Generating with seed: \"ourage me to keep learning and improving my programing skills in python \" \"the best thing about this\"\n",
      "ourage me to keep learning and improving my programing skills in python \" \"the best thing about this is the blesse, i was programmer with the python language, absolutely looking forward to take this course to helped me to be , i have nated a lot of experience. logs frwect. \"excellent course and just the concept and all the quite realy is expilinitely make it all!  \"worked. highly recommend.\" the course materials are very useful and i am wesh encourage to eaps no writial last undergation of pytho\n",
      "----- diversity: 1.2\n",
      "----- Generating with seed: \"ourage me to keep learning and improving my programing skills in python \" \"the best thing about this\"\n",
      "ourage me to keep learning and improving my programing skills in python \" \"the best thing about this  i give usen with and wa to fill optalions and logics of languagess so succefience. this course is used up companget: anyway through\"\"fandained interrectory language, but i was like more own the python course. the assiggan   have break students from very knowel. i have lictlementon day of the basic computats is teaching is each at some bit in   thon taking more confudiaiming to understand the vad\n",
      "\n",
      "Epoch 00034: loss improved from 0.91022 to 0.90563, saving model to /content/gdrive/My Drive/Capstone/Data/\n",
      "Epoch 35/100\n",
      "2362/2362 [==============================] - 34s 15ms/step - loss: 0.8913 - accuracy: 0.7329 - val_loss: 1.0547 - val_accuracy: 0.6992\n",
      "\n",
      "----- Generating text after Epoch: 34\n",
      "----- diversity: 0.2\n",
      "----- Generating with seed: \"at, it was fun learning from such a great professional teacher. all difficult   hard topics were tau\"\n",
      "at, it was fun learning from such a great professional teacher. all difficult   hard topics were taught in the course is a great course i have learned a lot that i can to goo so fanters to start in the course i have ever completed the course is a great teacher is very clear and the assignments are very interesting and programming language and i was able to complete the course and i was able to complete the next course which was a great course for beginners. the instructor did and i was able to c\n",
      "----- diversity: 0.5\n",
      "----- Generating with seed: \"at, it was fun learning from such a great professional teacher. all difficult   hard topics were tau\"\n",
      "at, it was fun learning from such a great professional teacher. all difficult   hard topics were taught and i am glad to teach mind structures. this course as a special tasis to start hand the course is a great course i have taight be a computer languages but i didn't know more about programming and confused the content is extremely as great the language with a student in the course in c  lot to do it to pubshitar course. \"this course is a really good start for beginners. the course is a great p\n",
      "----- diversity: 1.0\n",
      "----- Generating with seed: \"at, it was fun learning from such a great professional teacher. all difficult   hard topics were tau\"\n",
      "at, it was fun learning from such a great professional teacher. all difficult   hard topics were tauch conter week, dimprieding as a beginner crecies of python to the fumm that i does think it eaches with comporiano skills python to python and it well paced, and help skit on jafnial is programming using programming for me no prior have mone. the part what i've been difficulty to be amazing.form intorate python 'peone and learn programming or a highlose to make it going in coursera non't forivica\n",
      "----- diversity: 1.2\n",
      "----- Generating with seed: \"at, it was fun learning from such a great professional teacher. all difficult   hard topics were tau\"\n",
      "at, it was fun learning from such a great professional teacher. all difficult   hard topics were taught. this course was not made it so finduen to a stxer you are find in the easily me of much.thank c crasl relffetty taughts.'   sua.mon't because.  \" the ligh: you have been withing your udain with the one. niced, i am very learn some continue that even pidinut knowledge and dr.chuck you each adeing skills this and writ gremen and imal smallon-mip sure taking thts this , and all ot, mori in pytho\n",
      "\n",
      "Epoch 00035: loss improved from 0.90563 to 0.90118, saving model to /content/gdrive/My Drive/Capstone/Data/\n",
      "Epoch 36/100\n",
      "2362/2362 [==============================] - 35s 15ms/step - loss: 0.8880 - accuracy: 0.7322 - val_loss: 1.0626 - val_accuracy: 0.6955\n",
      "\n",
      "----- Generating text after Epoch: 35\n",
      "----- diversity: 0.2\n",
      "----- Generating with seed: \"n your computer  with windows, mac, and linux instructions , even a complete beginner would be able \"\n",
      "n your computer  with windows, mac, and linux instructions , even a complete beginner would be able to continue to the next courses that i can thank you so much for the course and i am a mandare such a complete programming language and i have taken to learn python and i found this course with the course is very interesting and the assignments are a great course for those who have no programming experience and the assignments are a great course for beginners in this course. i would like to start \n",
      "----- diversity: 0.5\n",
      "----- Generating with seed: \"n your computer  with windows, mac, and linux instructions , even a complete beginner would be able \"\n",
      "n your computer  with windows, mac, and linux instructions , even a complete beginner would be able to complete the course with prof. severance is a very finished. it was feel bigges to programming what he started it of the course for anyone who wants to learn python and that i can definitely the material in python from the quizzes. i would like to thank thank you and the course that i am a man and everything i would recommend this course to anyone who want to start really informative and develo\n",
      "----- diversity: 1.0\n",
      "----- Generating with seed: \"n your computer  with windows, mac, and linux instructions , even a complete beginner would be able \"\n",
      "n your computer  with windows, mac, and linux instructions , even a complete beginner would be able to appreciad in my with aspogianonials were.\" \"it was a great course.  i am people this class bethen a lot of code are as a world on cuperful. -  for did to trilizic is sliguse ed to the lusefulatec. i do for beginners with by it asevaly over the course. \"  the test was the basic courses thanks a lot or a namentalizad studing myshig, dr. chuck is great. i learn if feelbouct. i have struggled and p\n",
      "----- diversity: 1.2\n",
      "----- Generating with seed: \"n your computer  with windows, mac, and linux instructions , even a complete beginner would be able \"\n",
      "n your computer  with windows, mac, and linux instructions , even a complete beginner would be able to feel him you wight. \"his impretsed learning the tryised for meciino in no prior knowledge to python make the book   quite givenminable. professor conveint of homeon, confisance to have no prior programming assignments. like prof smamentally tylow us whathtraterach python relatang this in-thing and highly raccis   houks backgroundy, thank you, charles severance for really trrauldifulitianally, e\n",
      "\n",
      "Epoch 00036: loss improved from 0.90118 to 0.89711, saving model to /content/gdrive/My Drive/Capstone/Data/\n",
      "Epoch 37/100\n",
      "2362/2362 [==============================] - 35s 15ms/step - loss: 0.8828 - accuracy: 0.7348 - val_loss: 1.0610 - val_accuracy: 0.6957\n",
      "\n",
      "----- Generating text after Epoch: 36\n",
      "----- diversity: 0.2\n",
      "----- Generating with seed: \"s intimidating. he's funny and occasionally goofy and i think technical subjects need that kind of a\"\n",
      "s intimidating. he's funny and occasionally goofy and i think technical subjects need that kind of a few professor chuck students who wants to learn python from the lectures are very interesting and the assignments are very interesting and start with the specialization. i had some of the course is a great teacher and the way he teaches is very good course for beginners. i was able to write any programming language is better using python is the best professor is very detailed and i was able to co\n",
      "----- diversity: 0.5\n",
      "----- Generating with seed: \"s intimidating. he's funny and occasionally goofy and i think technical subjects need that kind of a\"\n",
      "s intimidating. he's funny and occasionally goofy and i think technical subjects need that kind of a python programming for into python in a little computer science for me to learn python is so in enory courses that you want to learn python from the lectures in the students in the senore course in this course who wants to learn python. the lecture that find out the real fundamental concepts and the instructor was very study good course. i have taken a very science for everybody what is the best \n",
      "----- diversity: 1.0\n",
      "----- Generating with seed: \"s intimidating. he's funny and occasionally goofy and i think technical subjects need that kind of a\"\n",
      "s intimidating. he's funny and occasionally goofy and i think technical subjects need that kind of assignment he really have a durning the concepts that is explained that you understand the basics of professor helpy definers is deepet. this is the conmenting and i smang deformed in a python programming learnes in the . charles tomate this course.  the second by charles severance  for information alogial.\" \"a very well spexiell -  any coming background ox python and pythen was so for beginner, i \n",
      "----- diversity: 1.2\n",
      "----- Generating with seed: \"s intimidating. he's funny and occasionally goofy and i think technical subjects need that kind of a\"\n",
      "s intimidating. he's funny and occasionally goofy and i think technical subjects need that kind of a\" even should, doend, it anyone personaling with the ynum  more usmined that leklable of hear why python. thers are perfect for structures are brehes leveloume.thank you for rearonally strenged and duys.eadit of dest of python  this canstery levied at feeable logiced in python. which aptional small confident to neyed easystable.. is jokes that programming lagge basics of python. those who expleres\n",
      "\n",
      "Epoch 00037: loss improved from 0.89711 to 0.89329, saving model to /content/gdrive/My Drive/Capstone/Data/\n",
      "Epoch 38/100\n",
      "2362/2362 [==============================] - 35s 15ms/step - loss: 0.8822 - accuracy: 0.7344 - val_loss: 1.0641 - val_accuracy: 0.6959\n",
      "\n",
      "----- Generating text after Epoch: 37\n",
      "----- diversity: 0.2\n",
      "----- Generating with seed: \"s great, keeps u motivated. so, in the last i say have fun guys u will enjoy it absolutely no doubt \"\n",
      "s great, keeps u motivated. so, in the last i say have fun guys u will enjoy it absolutely no doubt it and the way he explained everything in a way that course and i am a great knowing to understanding that i can also highly recommended for anyone who is the programming language and python in a very good course for beginners while like i was a bit of python course i have ever learning python and programming language and any programming language is programming language and programming language is\n",
      "----- diversity: 0.5\n",
      "----- Generating with seed: \"s great, keeps u motivated. so, in the last i say have fun guys u will enjoy it absolutely no doubt \"\n",
      "s great, keeps u motivated. so, in the last i say have fun guys u will enjoy it absolutely no doubt it so sure that for someone who has zeroud to start part of the content and have been in a week and he doing this course and the teacher is presented in programming and start for the course and i was able to do it all the videos are as a great level only and the instructor makes from the course and highly recommended for anyone who wants to get a programming in python and the start the subject. i \n",
      "----- diversity: 1.0\n",
      "----- Generating with seed: \"s great, keeps u motivated. so, in the last i say have fun guys u will enjoy it absolutely no doubt \"\n",
      "s great, keeps u motivated. so, in the last i say have fun guys u will enjoy it absolutely no doubt using python. a charted is getsing for studer. charles is a graite examples. the verevel. i colleng never people who are understand. it was mastevises in give  om too ever confisirns of short provides and programming. if you aully recommend it courses you not elreary courses is programming easy, behind platforms..and loved that has zero mana. this course has taught by the fillicating course readin\n",
      "----- diversity: 1.2\n",
      "----- Generating with seed: \"s great, keeps u motivated. so, in the last i say have fun guys u will enjoy it absolutely no doubt \"\n",
      "s great, keeps u motivated. so, in the last i say have fun guys u will enjoy it absolutely no doubt futs but problems in out lomeor increles throughthing decourse backgucnood over computer schose my frand of programming of python \" \"excelint times to begin is task but it wis out.ahravere structured in coursera course you can not feel-were very chapters we treded. it makes looking for an inworlis. overare the backguptobs for demorts! the book. than this just guiderimy backgrounds. ourprovide.  ho\n",
      "\n",
      "Epoch 00038: loss improved from 0.89329 to 0.89010, saving model to /content/gdrive/My Drive/Capstone/Data/\n",
      "Epoch 39/100\n",
      "2362/2362 [==============================] - 34s 15ms/step - loss: 0.8798 - accuracy: 0.7348 - val_loss: 1.0663 - val_accuracy: 0.6952\n",
      "\n",
      "----- Generating text after Epoch: 38\n",
      "----- diversity: 0.2\n",
      "----- Generating with seed: \"rward for next series course i.e python data structure.thank you so much.\" coursera is a great platf\"\n",
      "rward for next series course i.e python data structure.thank you so much.\" coursera is a great platform that is a good explained me to students. thank you for this course!!! and the course in the programming language and the assignments are a good explained many courses. thank you so much for the best professor and the course is very interesting and explains the course in this course. i would like to start learning python and the programming language. i would have learned the basics of python in\n",
      "----- diversity: 0.5\n",
      "----- Generating with seed: \"rward for next series course i.e python data structure.thank you so much.\" coursera is a great platf\"\n",
      "rward for next series course i.e python data structure.thank you so much.\" coursera is a great platform who wants to learn python but also in the python language and new to programming. i will definitely give the basic and the assignments were good and it works like the programming language. i had no prior knowledge of programming. if you are been a lot of explaining the concepts and it was a wonderful experience with python. as a very good course for beginners. i am so material of programming i\n",
      "----- diversity: 1.0\n",
      "----- Generating with seed: \"rward for next series course i.e python data structure.thank you so much.\" coursera is a great platf\"\n",
      "rward for next series course i.e python data structure.thank you so much.\" coursera is a great platforms-hangually concextus. did works this tow of interficted course, in persume vion - is that to take shise and great lecturer now she course is very user to learn computer comsunderstanding that clear and ,cretury and well definitall then this is too good experience at after itself basic course and quizzes and easy. in a way to started assignments. mr. charles is a breard solute allayt python fro\n",
      "----- diversity: 1.2\n",
      "----- Generating with seed: \"rward for next series course i.e python data structure.thank you so much.\" coursera is a great platf\"\n",
      "rward for next series course i.e python data structure.thank you so much.\" coursera is a great platform in fade on instating with no prior experione! thank you so much for python ..:d.    of the first. it are very enromed a program grasps. by heads pro:rhand but as mangurd inforiti endage;\" this course, any everthing my finding language. it is the courses or ho bocsor val and perfor and it's really easy go work a amative expecuss all, i have  one when up made peryob, charles severence, really ha\n",
      "\n",
      "Epoch 00039: loss improved from 0.89010 to 0.88619, saving model to /content/gdrive/My Drive/Capstone/Data/\n",
      "Epoch 40/100\n",
      "2362/2362 [==============================] - 34s 15ms/step - loss: 0.8726 - accuracy: 0.7367 - val_loss: 1.0677 - val_accuracy: 0.6950\n",
      "\n",
      "----- Generating text after Epoch: 39\n",
      "----- diversity: 0.2\n",
      "----- Generating with seed: \"reative way to explain, it makes you feel more confident even if you fail at first\" \"professors are \"\n",
      "reative way to explain, it makes you feel more confident even if you fail at first\" \"professors are very interesting and easy to understand and the assignments are also a beginner in programming and the assignments are also confidence to awnole and interesting and explained and i would recommend this course to anyone who wants to learn python and interesting and easy to understand and the instructor is very good course for beginners and the instructor is very interesting and i was able to comple\n",
      "----- diversity: 0.5\n",
      "----- Generating with seed: \"reative way to explain, it makes you feel more confident even if you fail at first\" \"professors are \"\n",
      "reative way to explain, it makes you feel more confident even if you fail at first\" \"professors are also english to get a professor for beginners with the subject and some of the basics of python programming and wanted to learn by the lessons are well only foundation to learn the first course.  i would recommend this course to anyone who has love the course and python programming languages, the concepts in a simple and interesting., and i found this course materials are a great taught this cours\n",
      "----- diversity: 1.0\n",
      "----- Generating with seed: \"reative way to explain, it makes you feel more confident even if you fail at first\" \"professors are \"\n",
      "reative way to explain, it makes you feel more confident even if you fail at first\" \"professors are didn't really really giet jo a few yingly last some-to other courses.   i think it will continue to do some basic python.  i have tried done interverts in online lif to this want helps this course is very good so assigmments could very step. the time. other , greaty though. also i bough regrested to dr.chuck is introductory didn't understand the contrioutal language and teach up with proper on thi\n",
      "----- diversity: 1.2\n",
      "----- Generating with seed: \"reative way to explain, it makes you feel more confident even if you fail at first\" \"professors are \"\n",
      "reative way to explain, it makes you feel more confident even if you fail at first\" \"professors are highly recommended world, somaing to the leasned rualmentr'! i am looking forward to the comment with clars. i think it faster. this was helpbe to srets continuer in did clears slishs whralfully entelthing journey with so i funny online pythons like but easy to amazing.\" great instructor. as prof, will course to understand and yeand then ubsalming for my with that damixibs, i had more availimenspr\n",
      "\n",
      "Epoch 00040: loss improved from 0.88619 to 0.88291, saving model to /content/gdrive/My Drive/Capstone/Data/\n",
      "Epoch 41/100\n",
      "2362/2362 [==============================] - 34s 15ms/step - loss: 0.8669 - accuracy: 0.7373 - val_loss: 1.0716 - val_accuracy: 0.6944\n",
      "\n",
      "----- Generating text after Epoch: 40\n",
      "----- diversity: 0.2\n",
      "----- Generating with seed: \" before but i had never actually studied it or worked with it . it took me   weeks to complete and a\"\n",
      " before but i had never actually studied it or worked with it . it took me   weeks to complete and any programming courses. the way the course is very interesting and explains the course is a great course for beginners. the instructor is very interesting and interesting and i have already know that i can of learn and well satiter knowledge in programming and the assignments are very well as a way that he is really good and working through this course and the videos are very interesting and inter\n",
      "----- diversity: 0.5\n",
      "----- Generating with seed: \" before but i had never actually studied it or worked with it . it took me   weeks to complete and a\"\n",
      " before but i had never actually studied it or worked with it . it took me   weeks to complete and assignments are very interesting and fun and attendant in engaging, but i really like the channced is very instructor that i found this classes in the professor is very interesting and interesting. i would like to learn and engaging and simplicate of the python lint reming things with computer programming background, it already this course is a some the instructor, the way he explains stcllf opport\n",
      "----- diversity: 1.0\n",
      "----- Generating with seed: \" before but i had never actually studied it or worked with it . it took me   weeks to complete and a\"\n",
      " before but i had never actually studied it or worked with it . it took me   weeks to complete and assignments are very will actually though is trying to refercisental.  excitents  i got to things to give it..however, thering the course has a part of coursera provided it's rooking to the lement through coding.  charles russell severance for beginners clessor user! thanks coursera and me a r a perfecial caugle; it  \"\" \"the professor in easy-to-this programming  in very programmer interesting and \n",
      "----- diversity: 1.2\n",
      "----- Generating with seed: \" before but i had never actually studied it or worked with it . it took me   weeks to complete and a\"\n",
      " before but i had never actually studied it or worked with it . it took me   weeks to complete and attendation covers but even short. soop lated to couts rast of sly.  and the way that still refersits. if you all \"\"anybody willly forward that he hasimazized ond.als,oup the maste out. i will one, in genees, he a.s felt mather.\" excellent! lware who if you nundame is suhorati way, i found also pasting, now posiented python onouca about this course!\" \" \" .i am looked to py awands before, experience\n",
      "\n",
      "Epoch 00041: loss improved from 0.88291 to 0.87963, saving model to /content/gdrive/My Drive/Capstone/Data/\n",
      "Epoch 42/100\n",
      "2362/2362 [==============================] - 34s 14ms/step - loss: 0.8676 - accuracy: 0.7381 - val_loss: 1.0733 - val_accuracy: 0.6943\n",
      "\n",
      "----- Generating text after Epoch: 41\n",
      "----- diversity: 0.2\n",
      "----- Generating with seed: \"k, the instructor, explains in the simplest way possible and provides multiple examples for each cha\"\n",
      "k, the instructor, explains in the simplest way possible and provides multiple examples for each chapter that is a great course that i have ever mangual class of the course i have ever manner to learn python and i found it easy and the way he teaches i have ever making it easy to understand and i have ever made it was a bit of programming with python  the professor is a great teacher is very interesting and the way the course is a great study what i can start any programming language and it was \n",
      "----- diversity: 0.5\n",
      "----- Generating with seed: \"k, the instructor, explains in the simplest way possible and provides multiple examples for each cha\"\n",
      "k, the instructor, explains in the simplest way possible and provides multiple examples for each chapter that i have comely enjoying the course teaches and easy to understand and the course can to know that this course is great for the design is the best instruction of the programming. i have no idea of python to the best course and the course is very good and enjoyable and easy to understand. the instructor is a week so that you will definitely recommend it to anyone who wants to learn python a\n",
      "----- diversity: 1.0\n",
      "----- Generating with seed: \"k, the instructor, explains in the simplest way possible and provides multiple examples for each cha\"\n",
      "k, the instructor, explains in the simplest way possible and provides multiple examples for each chapter because still get and basic \" winting it only knowledgeand refresher to study and i'm very much python to know all python friendos.when what he taune i would like to say that be a cods professor and i recommend to student on dolive and goad team, future course to python and excellent to for beginners off of the next coor   teat.   \"i alveres that that pot of the way that the course computer c\n",
      "----- diversity: 1.2\n",
      "----- Generating with seed: \"k, the instructor, explains in the simplest way possible and provides multiple examples for each cha\"\n",
      "k, the instructor, explains in the simplest way possible and provides multiple examples for each challenning and highly restliew lesson i full dr. severance is by fer topic terms more study computer way towards by foundation in build, but there is rease and before.the course is aifabco accusse lock no practice starting help, you capt from. who will cond mistay.\" charles mi havg discusso this slisp fixed but it is really knowledges in exaprying prollemmurs really surprect assiz for most ammont pr\n",
      "\n",
      "Epoch 00042: loss improved from 0.87963 to 0.87678, saving model to /content/gdrive/My Drive/Capstone/Data/\n",
      "Epoch 43/100\n",
      "2362/2362 [==============================] - 34s 14ms/step - loss: 0.8611 - accuracy: 0.7406 - val_loss: 1.0745 - val_accuracy: 0.6938\n",
      "\n",
      "----- Generating text after Epoch: 42\n",
      "----- diversity: 0.2\n",
      "----- Generating with seed: \"start  this course even though you don't require any kinda knowledge in terms  of this sector. you c\"\n",
      "start  this course even though you don't require any kinda knowledge in terms  of this sector. you can do it was a great course for the beginners.  i would recommend this course to anyone who wants to learn python and interesting and explains everything in a fun to understand the programming in python and it is a great teacher is very interesting. i would recommend it to anyone who wants to learn python and interesting and explains everything in a well and explains everything in this course i ha\n",
      "----- diversity: 0.5\n",
      "----- Generating with seed: \"start  this course even though you don't require any kinda knowledge in terms  of this sector. you c\"\n",
      "start  this course even though you don't require any kinda knowledge in terms  of this sector. you can start herect it the basics of python with the python programming language and the assignments are very helpful. i have a performes with python for everybody\"\" i have a great job of explaining the concept and this course is and assignments was well for a pace of system the introduced to comprehen in de to get into examples to keep you this course are online and i was able to complete the course \n",
      "----- diversity: 1.0\n",
      "----- Generating with seed: \"start  this course even though you don't require any kinda knowledge in terms  of this sector. you c\"\n",
      "start  this course even though you don't require any kinda knowledge in terms  of this sector. you can work have the shows material and it finish it's orgaid of this class is extremely good especially it rackd material  python is entertuining to coursera university of michigan. i am very charles severance becourees. \" \"very introduced the basics of python and not other course in the programming way with unavining, it's someone jubs that he takes a lot of course do. sie and hard to know more and \n",
      "----- diversity: 1.2\n",
      "----- Generating with seed: \"start  this course even though you don't require any kinda knowledge in terms  of this sector. you c\"\n",
      "start  this course even though you don't require any kinda knowledge in terms  of this sector. you chanllong exverctition and to clear enterthing aft me to use ligge if he exapprese. you swimlly so awesome! ghis in this course. it will signif to rexablie to anyone programming and python well-great. interned thus, toake it that which still speed such an was dr. challeo get internitees, it was a buling some timiof skills erjoce my really sriztiquing to all. like pronaged to mand is functiona anyon\n",
      "\n",
      "Epoch 00043: loss improved from 0.87678 to 0.87397, saving model to /content/gdrive/My Drive/Capstone/Data/\n",
      "Epoch 44/100\n",
      "2362/2362 [==============================] - 33s 14ms/step - loss: 0.8583 - accuracy: 0.7398 - val_loss: 1.0751 - val_accuracy: 0.6947\n",
      "\n",
      "----- Generating text after Epoch: 43\n",
      "----- diversity: 0.2\n",
      "----- Generating with seed: \" them. i would like to learn more about python. thank you for giving me the opportunity to learn pyt\"\n",
      " them. i would like to learn more about python. thank you for giving me the opportunity to learn python and interesting and i was able to complete the course is very clear and the course is a great course for beginners and the course is a great course for beginners and i was able to complete the course is a great course for beginners who want to learn python and the course is a great course for the beginners. the course is very clear and make all the codes are are very interesting and i could no\n",
      "----- diversity: 0.5\n",
      "----- Generating with seed: \" them. i would like to learn more about python. thank you for giving me the opportunity to learn pyt\"\n",
      " them. i would like to learn more about python. thank you for giving me the opportunity to learn python programming language is well designed and i found this course to know the video like the lectures. the instructor dr. chuck is a great professor in a way to learn python. thanks to coursera and help from very too easy to learn python background in programming. i also enjoyed the course with a fun and has been explains everything in a very good explaining the concepts are very well. thank you v\n",
      "----- diversity: 1.0\n",
      "----- Generating with seed: \" them. i would like to learn more about python. thank you for giving me the opportunity to learn pyt\"\n",
      " them. i would like to learn more about python. thank you for giving me the opportunity to learn python. thanks to charles. \" \"this is a great instamengh of howed for python love . charles severance this course vider you won't get the python cladities if you know about programming trial about this course was a great. as a course so most of important allowesents, definitely could course co tereply but brshammers as a mestillespace with experience i was one courses.\" \"charles severance is a great \n",
      "----- diversity: 1.2\n",
      "----- Generating with seed: \" them. i would like to learn more about python. thank you for giving me the opportunity to learn pyt\"\n",
      " them. i would like to learn more about python. thank you for giving me the opportunity to learn python. thank you.....\", songonje who hanking explusing mell handed, that besignings, the videos, th's better! i had no previous offices for the next one ..lute, humoy, everybody\"\" bucld-oll to get coding and application. very good good. ait career work might\" \"this is how to add experience in starting and motaveromes is challenge of all beginners even moreor basir, that's the samentare course wauch \n",
      "\n",
      "Epoch 00044: loss improved from 0.87397 to 0.87027, saving model to /content/gdrive/My Drive/Capstone/Data/\n",
      "Epoch 45/100\n",
      "2362/2362 [==============================] - 32s 14ms/step - loss: 0.8563 - accuracy: 0.7413 - val_loss: 1.0832 - val_accuracy: 0.6929\n",
      "\n",
      "----- Generating text after Epoch: 44\n",
      "----- diversity: 0.2\n",
      "----- Generating with seed: \"regardsdr. lahiri kanth nanduri\" \"y e is a great introductory level course and you will learn python\"\n",
      "regardsdr. lahiri kanth nanduri\" \"y e is a great introductory level course and you will learn python and explains everything in the course is a great introduction to python is very easy to understand and the assignments are acroolly engaged to learn python and interesting and explains every week on the programming background is engaging teacher is a great teacher and easy to understand and the assignments are arealization, i am very explained and i would don't want to start learning python and t\n",
      "----- diversity: 0.5\n",
      "----- Generating with seed: \"regardsdr. lahiri kanth nanduri\" \"y e is a great introductory level course and you will learn python\"\n",
      "regardsdr. lahiri kanth nanduri\" \"y e is a great introductory level course and you will learn python!\" \"i loved this course was too easy and interesting and excellent lecturer was programming concepts in python. \" i like the bonus videos are last because interested in python in the same and well pass then this course is a great course as well taunh. dr. chuck is engaging step by step of programming instaution course and interesting and i found this course to provide the book who have non to have\n",
      "----- diversity: 1.0\n",
      "----- Generating with seed: \"regardsdr. lahiri kanth nanduri\" \"y e is a great introductory level course and you will learn python\"\n",
      "regardsdr. lahiri kanth nanduri\" \"y e is a great introductory level course and you will learn python sequence grase very-elf high becoured in the same matter loopsory  was helpful taught mistered of teaching. i have never trange provided to the programming and  were very helpful and so enroures you be to expects for men. \"i've give these course. \" it was not nemble extremely now language, and explained  this course attendage of the course is too class.i have a create to programmer.\" then't inter\n",
      "----- diversity: 1.2\n",
      "----- Generating with seed: \"regardsdr. lahiri kanth nanduri\" \"y e is a great introductory level course and you will learn python\"\n",
      "regardsdr. lahiri kanth nanduri\" \"y e is a great introductory level course and you will learn python for buissos, and the connerse fantamulisal unvelabingle vory talds experience if you have put! lose about other- as easy underthanes speciorive with interested and the learning python enganed and writual can happyt by dr. severance best and confident evenymnoces. look fortans to focared. i learned syntetion enthen. ifle, to know houred to do not startite every mect, and keep no brapl with no more\n",
      "\n",
      "Epoch 00045: loss improved from 0.87027 to 0.86821, saving model to /content/gdrive/My Drive/Capstone/Data/\n",
      "Epoch 46/100\n",
      "2362/2362 [==============================] - 32s 14ms/step - loss: 0.8550 - accuracy: 0.7411 - val_loss: 1.0795 - val_accuracy: 0.6932\n",
      "\n",
      "----- Generating text after Epoch: 45\n",
      "----- diversity: 0.2\n",
      "----- Generating with seed: \"python . to my delight, the videos are engaging and make you want to progress further into the mater\"\n",
      "python . to my delight, the videos are engaging and make you want to progress further into the material is very interesting and exciting and also i was able to complete the course and i was able to complete the next course in programming this course is an excellent course to start in python. the instructor is a great course.  i would like to learn a lot to do the next course in python and i was able to complete the last thanks to coursera for providing this course i have ever every setest to tea\n",
      "----- diversity: 0.5\n",
      "----- Generating with seed: \"python . to my delight, the videos are engaging and make you want to progress further into the mater\"\n",
      "python . to my delight, the videos are engaging and make you want to progress further into the material before yourself and makes it easy to coding and things from achings in a stay my first courses online courses i was stulling to presentation of the whole started in programming.  \" \"i was anyther instructor is very good explanations. the way anyone with all the concepts a specialization. \" \"i was able to comprehen in the course. the teacher is awesome in the courses of programming with a lot o\n",
      "----- diversity: 1.0\n",
      "----- Generating with seed: \"python . to my delight, the videos are engaging and make you want to progress further into the mater\"\n",
      "python . to my delight, the videos are engaging and make you want to progress further into the material was an elaint.i am also worth you peidenters.  i had lottly very good course. great course ahat just a programming languages. \" \"this is so a very calfols in course. thank you, prof sines or from much.. i will take the good scriptial and screst even that this's to those who have no practical . from university of much, ., the materials. these also great fun. is requires coming the material is r\n",
      "----- diversity: 1.2\n",
      "----- Generating with seed: \"python . to my delight, the videos are engaging and make you want to progress further into the mater\"\n",
      "python . to my delight, the videos are engaging and make you want to progress further into the material which can halp. he my ent\" \"for with be. yett. just speciably to brain be a new language. this was enrolling ney introductory courses background. this was an excellent teaghe.  wish main then i am actually gigid to mand is perf crat course and an in my awd letis.\" \"writing and i may wes planing to complete who lact the course. the rasimpring of my wanture on dow .\" it is so good didestite- non\n",
      "\n",
      "Epoch 00046: loss improved from 0.86821 to 0.86521, saving model to /content/gdrive/My Drive/Capstone/Data/\n",
      "Epoch 47/100\n",
      "2362/2362 [==============================] - 32s 13ms/step - loss: 0.8549 - accuracy: 0.7416 - val_loss: 1.0827 - val_accuracy: 0.6944\n",
      "\n",
      "----- Generating text after Epoch: 46\n",
      "----- diversity: 0.2\n",
      "----- Generating with seed: \"nd of course and mentor too. such an amazing course. i learned a lot from this course. i'll recommen\"\n",
      "nd of course and mentor too. such an amazing course. i learned a lot from this course. i'll recommend this course to anyone who wants to learn python and interesting and explains everything in the course is a beginner from scratch. it is a good starting and explanations are are thought it is a bit of time to start learn python to the student to the best course to learn python and interesting and i would recommend this course to anyone who wants to learn python and with the students and start wit\n",
      "----- diversity: 0.5\n",
      "----- Generating with seed: \"nd of course and mentor too. such an amazing course. i learned a lot from this course. i'll recommen\"\n",
      "nd of course and mentor too. such an amazing course. i learned a lot from this course. i'll recommend this course to anyone who wants to learn programming. i am a mand this course is amazing course. i will continue to take more programming language. the instructor had pervest to the students and the way the exercises are great as it and for a bit of programming with the course i have going to the reading the course and dr. chuck's way to the next of the very basics of python and it more detailed\n",
      "----- diversity: 1.0\n",
      "----- Generating with seed: \"nd of course and mentor too. such an amazing course. i learned a lot from this course. i'll recommen\"\n",
      "nd of course and mentor too. such an amazing course. i learned a lot from this course. i'll recommend this course on programming from dowsrounnery mott. i have bectunt that whyme ease now, at examples of the course as too introduce on can be other courses to learn programming.\" \"really liked  like promple course. the videos materials, and i never forming thes neers!  i would recommend this course to anyone were course exerciser with the langlabbe code simple into learning programing and pythonin\n",
      "----- diversity: 1.2\n",
      "----- Generating with seed: \"nd of course and mentor too. such an amazing course. i learned a lot from this course. i'll recommen\"\n",
      "nd of course and mentor too. such an amazing course. i learned a lot from this course. i'll recommend my sker if you knowad a givally toot vasulisy with this course was a breakes to next lever, the professionage ensirn for infoll! \"look. i'mpul boing is great!erstunced and programming. this is findert witm an one!. dr. chuck has the ker assignments lent thing as a course hit introduces to actilide which my really implems or could ease reall learding on monitymentous programming, understancty exp\n",
      "\n",
      "Epoch 00047: loss improved from 0.86521 to 0.86244, saving model to /content/gdrive/My Drive/Capstone/Data/\n",
      "Epoch 48/100\n",
      "2362/2362 [==============================] - 35s 15ms/step - loss: 0.8529 - accuracy: 0.7426 - val_loss: 1.0839 - val_accuracy: 0.6925\n",
      "\n",
      "----- Generating text after Epoch: 47\n",
      "----- diversity: 0.2\n",
      "----- Generating with seed: \"sample homework before the exercises so students could see how the lessons are applied to actual pro\"\n",
      "sample homework before the exercises so students could see how the lessons are applied to actual programming languages which i started are very helpful for a beginner. it is a great course for beginners. the instructor is a great course for beginners. the way he teaches are also i was able to complete the course is a very good and easy to understand. i would like to start programming. i am so interesting and so appreciate the course is a great course for beginners and the assignments are very he\n",
      "----- diversity: 0.5\n",
      "----- Generating with seed: \"sample homework before the exercises so students could see how the lessons are applied to actual pro\"\n",
      "sample homework before the exercises so students could see how the lessons are applied to actual programming for everybody is absolutely good and easy to understand. great course and the assignments are already lesson and the most of the course is a great course and i would suggest everything is a beginner's courses, i have never examples and its a well done and explains and easy to understand. i am learning python in the first course is an examples and it is too serier.\" \"i'm a lot of experienc\n",
      "----- diversity: 1.0\n",
      "----- Generating with seed: \"sample homework before the exercises so students could see how the lessons are applied to actual pro\"\n",
      "sample homework before the exercises so students could see how the lessons are applied to actual programming with nothing new to python or twowed, if i'm looking forward to learn, fone  new programs and the how un ending about python. my respent programming, but it was really a programming. sict an about this course is proform aich course to. i will nee\"\" python's all de idverstan then it is based instilled your classtoning assignments, the additical funniers on in videos and learn by learned so\n",
      "----- diversity: 1.2\n",
      "----- Generating with seed: \"sample homework before the exercises so students could see how the lessons are applied to actual pro\"\n",
      "sample homework before the exercises so students could see how the lessons are applied to actual programming for fuct and gives and also the spees. the course was my easil programming but if you tade you in proce in ver, ho ind it's a mf concept is a great efforts lectures were not all. the professor that is never sequence fundamentals are straizide is very helpful for a her that it's so introduction for python byth quig somathimal applificg on this one. datassmatesion of heh opt tariemorits.  i\n",
      "\n",
      "Epoch 00048: loss improved from 0.86244 to 0.85965, saving model to /content/gdrive/My Drive/Capstone/Data/\n",
      "Epoch 49/100\n",
      "2362/2362 [==============================] - 36s 15ms/step - loss: 0.8500 - accuracy: 0.7425 - val_loss: 1.0870 - val_accuracy: 0.6938\n",
      "\n",
      "----- Generating text after Epoch: 48\n",
      "----- diversity: 0.2\n",
      "----- Generating with seed: \"n.don't worry if you are beginner, it's right course for you as name of course says\" \"being from civ\"\n",
      "n.don't worry if you are beginner, it's right course for you as name of course says\" \"being from civel to teach python programming language and i was able to complete the course in the course is a great teacher is very clear and developsed me such an easy to learn python before this course is a great teacher. i learned a lot of explaining the course is very clear and the professor and the way he teaches is very good course for all thought to start with python  the best course i have ever complet\n",
      "----- diversity: 0.5\n",
      "----- Generating with seed: \"n.don't worry if you are beginner, it's right course for you as name of course says\" \"being from civ\"\n",
      "n.don't worry if you are beginner, it's right course for you as name of course says\" \"being from civel to get stuck. i have learned whole i am very thook  this course is a great course for those who are looking to learn programming. even though i had zero be confidence to proved the course in the professor dounting this course and i would have some to get some basic programming language and it was an excellent experience i have ever completing to course for the beginner who wants to learn python\n",
      "----- diversity: 1.0\n",
      "----- Generating with seed: \"n.don't worry if you are beginner, it's right course for you as name of course says\" \"being from civ\"\n",
      "n.don't worry if you are beginner, it's right course for you as name of course says\" \"being from civer programmed and i can spee and handsitingly, but it is virious programming. for those who have zero programming as a some of the python material, and difficulty in meth incousieg. \"  you do acriall bay this vilily in some to trive interested in   of the explanation soo highly secentrodically, but an excellent teacher. do it akes more.course classed very beginner to learn python programming , he \n",
      "----- diversity: 1.2\n",
      "----- Generating with seed: \"n.don't worry if you are beginner, it's right course for you as name of course says\" \"being from civ\"\n",
      "n.don't worry if you are beginner, it's right course for you as name of course says\" \"being from civelowe the techninues!  charles , litten teacher this course is definitely python lecturer. dr. charles   we clearress betimes, opporing this course! \"  \"this is a good job of courses. the course questions dees informtion,in a low you helped computer docooval ofcemy opcrion computer pace programming challenge mese, that is also felt everything poofforital languables. thanks to drachuck. unstrranced\n",
      "\n",
      "Epoch 00049: loss improved from 0.85965 to 0.85795, saving model to /content/gdrive/My Drive/Capstone/Data/\n",
      "Epoch 50/100\n",
      "2362/2362 [==============================] - 37s 15ms/step - loss: 0.8450 - accuracy: 0.7443 - val_loss: 1.0864 - val_accuracy: 0.6928\n",
      "\n",
      "----- Generating text after Epoch: 49\n",
      "----- diversity: 0.2\n",
      "----- Generating with seed: \" this is a course you should take before any introductory course in programming, as the professor gu\"\n",
      " this is a course you should take before any introductory course in programming, as the professor guides that i can learn a lot of teaching style of python programming language and the subject in python for everybody who wants to learn python and the assignments are also thank you dr. chuck for python programming language and the way and it was not giving in programming and i would like to thank to start for the beginners and the way he teaches and the way he teaches i would recommend this cours\n",
      "----- diversity: 0.5\n",
      "----- Generating with seed: \" this is a course you should take before any introductory course in programming, as the professor gu\"\n",
      " this is a course you should take before any introductory course in programming, as the professor guys and the assignments are are very easy to understand endage of this not only and the world of programming but i design in python. i am so training and enjoyed this course and the way and is an excellent addivers and me and the assignments are very interesting.  the course was very entertaining. i would have now a beginner to learn more can learn this course without actually do it have taken the \n",
      "----- diversity: 1.0\n",
      "----- Generating with seed: \" this is a course you should take before any introductory course in programming, as the professor gu\"\n",
      " this is a course you should take before any introductory course in programming, as the professor guidance and the course specifal the follow. love to teach read to me a beginners about python. a den pationally. and  \"everything to progress, and difficulty to code lookingly recommend this absolute beginner. is quite and to take this course for beginners in assignments. i am a gata from all beginners.\" \"i recommend this too explaining variou because of me i wanted to bata and research person    d\n",
      "----- diversity: 1.2\n",
      "----- Generating with seed: \" this is a course you should take before any introductory course in programming, as the professor gu\"\n",
      " this is a course you should take before any introductory course in programming, as the professor guater why python concepts effectivation in this course, python not as namer.\"aid programmed to think ot, with much kelaiere.the follubing of python.i'm adaricalbe without your lifeshanble waities whet understand the basic is great at i commenterly. i kle very cunme-to get and two simely, in sworthy gon's language, the way, howevere cources to explain to brilliated to the nuant. undough content sent\n",
      "\n",
      "Epoch 00050: loss improved from 0.85795 to 0.85562, saving model to /content/gdrive/My Drive/Capstone/Data/\n",
      "Epoch 51/100\n",
      "2362/2362 [==============================] - 37s 16ms/step - loss: 0.8427 - accuracy: 0.7445 - val_loss: 1.0884 - val_accuracy: 0.6929\n",
      "\n",
      "----- Generating text after Epoch: 50\n",
      "----- diversity: 0.2\n",
      "----- Generating with seed: \"took this course. \" \"great professor and i really enjoyed the basic building block approach. it allo\"\n",
      "took this course. \" \"great professor and i really enjoyed the basic building block approach. it allow you to take this course and the instructor is a great teacher is one of the best course and the instructor is a great teacher is a great teacher is a great teacher is a great teacher is one of the best course with all the course is a great course for beginners in python.  \" \"i have taken a lot of experience with python                                                                              \n",
      "----- diversity: 0.5\n",
      "----- Generating with seed: \"took this course. \" \"great professor and i really enjoyed the basic building block approach. it allo\"\n",
      "took this course. \" \"great professor and i really enjoyed the basic building block approach. it allowed to learn python, i appreciate the student that is also that i have all the basics of python and any programming languages. the professor is very easy to understand and the assignments were good at all the course in python is a great job of has more experienced the next course in python, professor charles severance is a great course. the teacher though i was a lot of experience with and it was \n",
      "----- diversity: 1.0\n",
      "----- Generating with seed: \"took this course. \" \"great professor and i really enjoyed the basic building block approach. it allo\"\n",
      "took this course. \" \"great professor and i really enjoyed the basic building block approach. it allowed. i am so exomeliewe for everybody which bette their fundaming and assignments, and i have '  codetives, assignment to start python and his out effectives is very clear and the appreciate they skills and taught applicked.just and it most specially in this course.\" i have foundate diving it.\" \"if you have completely a great a full friendly pletbon in programming. i am suich y whole courses is a \n",
      "----- diversity: 1.2\n",
      "----- Generating with seed: \"took this course. \" \"great professor and i really enjoyed the basic building block approach. it allo\"\n",
      "took this course. \" \"great professor and i really enjoyed the basic building block approach. it allowed mode\" \"python. for those but of to seach a quick us insthinc you have been in awesome ald of the video changs in a few computer science without all pricallly no i dis chapter boch was begwaring interviews \"\"good is the selpobous and simplicring in a lotton good in theor have zanong classely some.\" the profes or mixorrinflifies i have a bot s impliced sir's aspeciate to pace-trickly nytromp on \n",
      "\n",
      "Epoch 00051: loss improved from 0.85562 to 0.85366, saving model to /content/gdrive/My Drive/Capstone/Data/\n",
      "Epoch 52/100\n",
      "2362/2362 [==============================] - 37s 16ms/step - loss: 0.8373 - accuracy: 0.7467 - val_loss: 1.0883 - val_accuracy: 0.6933\n",
      "\n",
      "----- Generating text after Epoch: 51\n",
      "----- diversity: 0.2\n",
      "----- Generating with seed: \"hose who want to start learning programming. this course will help you get a basic idea of how to st\"\n",
      "hose who want to start learning programming. this course will help you get a basic idea of how to start learning python and python programming language. i have ever completed this course and i am a great teacher is very interesting and explains everything to the course in python so much in this course and the course is very interesting and i have ever every served all the course. i am sure thank you so much for the course in this course i have ever had studying the course and the course is a gre\n",
      "----- diversity: 0.5\n",
      "----- Generating with seed: \"hose who want to start learning programming. this course will help you get a basic idea of how to st\"\n",
      "hose who want to start learning programming. this course will help you get a basic idea of how to start learning python my classes in this course i have ever highly recommended for anyone who are great intholmation  this course gives an awesome to learn programming and i have even though i can be a great teacher is explained in partical knowledge on the course. i wish me and started a programming language. i will be able to complete the course for everybody which is also liken many other program\n",
      "----- diversity: 1.0\n",
      "----- Generating with seed: \"hose who want to start learning programming. this course will help you get a basic idea of how to st\"\n",
      "hose who want to start learning programming. this course will help you get a basic idea of how to start programming was class quite easy to of the course, i u give it and decher. days it is not keep this course that is friende! to got i have students who at take  thus i have even for trid appliof computer by ese.  charles mays and helped me to starting python programming background who want to learn the boind, and starts from one and that he explains druchond. it was more chapter and loogh yours\n",
      "----- diversity: 1.2\n",
      "----- Generating with seed: \"hose who want to start learning programming. this course will help you get a basic idea of how to st\"\n",
      "hose who want to start learning programming. this course will help you get a basic idea of how to start with and love stuck. \"it's pittonts each lentre how and clear and it's a great stapties.i improuting shollow. video. still givings. havizad that is the best.predeaced me. different me cod espeted this course found at all the basic this course is a good small completing the teptinting moon from helped me. i have. i am glad to expraces time very easy to learn pithon. assignments online you code.\n",
      "\n",
      "Epoch 00052: loss improved from 0.85366 to 0.85107, saving model to /content/gdrive/My Drive/Capstone/Data/\n",
      "Epoch 53/100\n",
      "2362/2362 [==============================] - 37s 16ms/step - loss: 0.8345 - accuracy: 0.7476 - val_loss: 1.0977 - val_accuracy: 0.6903\n",
      "\n",
      "----- Generating text after Epoch: 52\n",
      "----- diversity: 0.2\n",
      "----- Generating with seed: \"s course will help you get a basic idea of how to start your career with simple programs.  i recomme\"\n",
      "s course will help you get a basic idea of how to start your career with simple programs.  i recommend this course to anyone who wants to learn python to the course is very helpful for anyone who wants to learn python to the course i have ever ded complete the course is very helpful for a beginner to learn python and interesting and the course is very interesting and programming language and the course is very interesting and programming languages because it all the basics of python for everybod\n",
      "----- diversity: 0.5\n",
      "----- Generating with seed: \"s course will help you get a basic idea of how to start your career with simple programs.  i recomme\"\n",
      "s course will help you get a basic idea of how to start your career with simple programs.  i recommend this course to every complexity of stuff is that this course is very interesting and interesting. i am a bit of has been interesting to programming. the course comparisy is starting python. i would like to thank sus forive you michighes the instructor is very this course and dusin the course and i started this course to start having any knowledge and what be for the best of the course i had to \n",
      "----- diversity: 1.0\n",
      "----- Generating with seed: \"s course will help you get a basic idea of how to start your career with simple programs.  i recomme\"\n",
      "s course will help you get a basic idea of how to start your career with simple programs.  i recommend it  dr. chuck hows manyerned computer course. i will definitely recommend it for newiles quite and instructor.\" very the instructor. love the fundamental , its helped me like  you  must satisfach fasul. \" \"it is so ferlowery concepts programming into thing it was really easy to batwhy whough the content. specially those fraind virual introductory course and much confidence its and each right sl\n",
      "----- diversity: 1.2\n",
      "----- Generating with seed: \"s course will help you get a basic idea of how to start your career with simple programs.  i recomme\"\n",
      "s course will help you get a basic idea of how to start your career with simple programs.  i recommend fulth online, highly recoolings. as a can it.over youcd this course to recommend it for beginners!! who keed a refuras course tathing quite again and you will gat the other programming from zerie buh reviews good accomple and sectested the videos, and having a book understanding to the swart of python course. \" \"quizzed, for, is funny. it is very code.\" it gies of programming linguage, must goi\n",
      "\n",
      "Epoch 00053: loss improved from 0.85107 to 0.84920, saving model to /content/gdrive/My Drive/Capstone/Data/\n",
      "Epoch 54/100\n",
      "2362/2362 [==============================] - 37s 16ms/step - loss: 0.8359 - accuracy: 0.7463 - val_loss: 1.0942 - val_accuracy: 0.6927\n",
      "\n",
      "----- Generating text after Epoch: 53\n",
      "----- diversity: 0.2\n",
      "----- Generating with seed: \"uctor teaches very well and explains the whole programming process with the patient and thoroughness\"\n",
      "uctor teaches very well and explains the whole programming process with the patient and thoroughness and the course is a great teacher in a well as programmer who doesn't to good course for the beginners. i am so interesting and i was able to complete the course is a great course for beginners in python and the course is very interesting and the course is a great teacher in the course in a week in python in a very helpful course for beginners in python and the course is a great teacher in the co\n",
      "----- diversity: 0.5\n",
      "----- Generating with seed: \"uctor teaches very well and explains the whole programming process with the patient and thoroughness\"\n",
      "uctor teaches very well and explains the whole programming process with the patient and thoroughness and full like a good in a very helpful for a programming step by step and the introduction to python as well as my faster funnaisials time. i with my consices of the way they are all the programming language. i will recommend this to anyone who want to start learning python and write a beginner. and the forum materials are not only the very basics of python language and it was a great teacher, th\n",
      "----- diversity: 1.0\n",
      "----- Generating with seed: \"uctor teaches very well and explains the whole programming process with the patient and thoroughness\"\n",
      "uctor teaches very well and explains the whole programming process with the patient and thoroughness. this was my for the information compuct . the internet way the programs are excellent positions   in this course, i'm very changes.\" the ent! who have strongly to grasp programmer. i could understhe background - weeks and the are a good \"\"python is discussforive and usnff.is and with code.bother languages makes it very recommendation course. 've tramith you the instructor is grase who charles is\n",
      "----- diversity: 1.2\n",
      "----- Generating with seed: \"uctor teaches very well and explains the whole programming process with the patient and thoroughness\"\n",
      "uctor teaches very well and explains the whole programming process with the patient and thoroughness and will presentels with grade, is say their idsate. it is mall de examslicares, he has failily make man'p.thas pamilication that at moreodagles of experience. as an amazol, he pretending it specilys fros refri  clarasions chuck would you them your happe and start. it is manigents about python at the nexpuch skills.. i enjoye up the syefue, but charles,  tustw lable to do not'rate shortarly kee o\n",
      "\n",
      "Epoch 00054: loss improved from 0.84920 to 0.84608, saving model to /content/gdrive/My Drive/Capstone/Data/\n",
      "Epoch 55/100\n",
      "2362/2362 [==============================] - 37s 16ms/step - loss: 0.8328 - accuracy: 0.7479 - val_loss: 1.0980 - val_accuracy: 0.6902\n",
      "\n",
      "----- Generating text after Epoch: 54\n",
      "----- diversity: 0.2\n",
      "----- Generating with seed: \"an't understand. it's pretty easy and interesting. professor charles is very nice and teaches in det\"\n",
      "an't understand. it's pretty easy and interesting. professor charles is very nice and teaches in detail course i have ever mading my skills the course is very engaging and i was able to complete the course in the course in the course in the course in the course in the course in the course in a very helpful for anyone who wants to learn python and not some of the course. the teacher is a great teacher is very interesting who are start to programming language and the way he explains everything to \n",
      "----- diversity: 0.5\n",
      "----- Generating with seed: \"an't understand. it's pretty easy and interesting. professor charles is very nice and teaches in det\"\n",
      "an't understand. it's pretty easy and interesting. professor charles is very nice and teaches in detail and it makes it easy to understand and the assignments are very interesting and entouring is very interesting and interesting where a dr. charles severance is a great course. i will definitely recommend this course to anyone who wants to learn python in a complete background of programming the course is great! i am adamy concept and the programs reshecing and the course has been explained in t\n",
      "----- diversity: 1.0\n",
      "----- Generating with seed: \"an't understand. it's pretty easy and interesting. professor charles is very nice and teaches in det\"\n",
      "an't understand. it's pretty easy and interesting. professor charles is very nice and teaches in detait students.   however, i will sugged to learn python and me mond on explaining the can gave me the more programming courses, you are the best everyone who wants to learn where of making it still fun! i had set i would have loved to get it dr. chuck really imprene and its way i've learned a  makes learning python of those because where i have awesome course i had skillful and there is details of \n",
      "----- diversity: 1.2\n",
      "----- Generating with seed: \"an't understand. it's pretty easy and interesting. professor charles is very nice and teaches in det\"\n",
      "an't understand. it's pretty easy and interesting. professor charles is very nice and teaches in detail. charles's started c-enspert like promimen, infervortation , skipdon't connicauloriss. dr severance, i think charles reseeves-quire highly as ideas team and delad at amazing job organigned to basic pythor course i will prollimatly tranyful for this as dr. chuck proon indo the from much,,. charle ressencitional can for also learn for extra prospention only different same my orgination on founda\n",
      "\n",
      "Epoch 00055: loss improved from 0.84608 to 0.84527, saving model to /content/gdrive/My Drive/Capstone/Data/\n",
      "Epoch 56/100\n",
      "2362/2362 [==============================] - 37s 16ms/step - loss: 0.8332 - accuracy: 0.7469 - val_loss: 1.1003 - val_accuracy: 0.6909\n",
      "\n",
      "----- Generating text after Epoch: 55\n",
      "----- diversity: 0.2\n",
      "----- Generating with seed: \"oduction to the world of programming, for anybody--as long as you have the interest, this is the pla\"\n",
      "oduction to the world of programming, for anybody--as long as you have the interest, this is the platform that is a great course for beginners and the professor and i would simply to program and the lectures are engaging. thank you for providing students to learn python.  \" \"  this is a great course for beginners. i am a great teacher is very good and easy to learn and i learned a lot of the basics of python or no experience and also thank you for resources to explain to learn python.  \" \"i was \n",
      "----- diversity: 0.5\n",
      "----- Generating with seed: \"oduction to the world of programming, for anybody--as long as you have the interest, this is the pla\"\n",
      "oduction to the world of programming, for anybody--as long as you have the interest, this is the platform to finish an amazing teacher and the material is very interesting and application that great sciences without and start to learn any prior knowledge of python and start to the course as well. thanks   \" \"the course is very good start which i learned a lot of the course and it is great and i will seem to understand and apply i want to learn before, this course is the best teacher. i think abo\n",
      "----- diversity: 1.0\n",
      "----- Generating with seed: \"oduction to the world of programming, for anybody--as long as you have the interest, this is the pla\"\n",
      "oduction to the world of programming, for anybody--as long as you have the interest, this is the planning a lot, through lectures it. i'd do the course sie teacher and this is the classrosive,s very untertaining and takes a most few work.\" getting it in the next class is gonting my can understand by learning python and and where when i was only rell are does s my feloges . chailsy easy and excitions without to take this course   teacher is great course. fown had worth your steps, skills and exce\n",
      "----- diversity: 1.2\n",
      "----- Generating with seed: \"oduction to the world of programming, for anybody--as long as you have the interest, this is the pla\"\n",
      "oduction to the world of programming, for anybody--as long as you have the interest, this is the place. loved fuan this classes while jotbly know now.  \" the instructor, nothing interaction\"\", \" contruceid duthody lectures. the videos are quite is rith background! the course explains it. fromming to well taking that useful. in your basic. \" \"good the languages basog or python introduction course. i had did learning python which concond, \" i am short technique that even first .i recommend this to\n",
      "\n",
      "Epoch 00056: loss improved from 0.84527 to 0.84309, saving model to /content/gdrive/My Drive/Capstone/Data/\n",
      "Epoch 57/100\n",
      "2362/2362 [==============================] - 37s 16ms/step - loss: 0.8299 - accuracy: 0.7480 - val_loss: 1.0999 - val_accuracy: 0.6907\n",
      "\n",
      "----- Generating text after Epoch: 56\n",
      "----- diversity: 0.2\n",
      "----- Generating with seed: \"i will definitely follow with the next modules. very good course with very good content it helped me\"\n",
      "i will definitely follow with the next modules. very good course with very good content it helped me to learn python and interesting and programming skill is creater so easy to understand and the assignments are very helpful for me to start learning python. this course is a great course. i would like to thank dr. chuck for this course. i would start learning programming language and the instructor is very helpful for me to learn python programming language and the assignments were and the assign\n",
      "----- diversity: 0.5\n",
      "----- Generating with seed: \"i will definitely follow with the next modules. very good course with very good content it helped me\"\n",
      "i will definitely follow with the next modules. very good course with very good content it helped me other onoloy and the professor have learned to the next courses on python. i think it is excellent course for beginners in programming and i was able to do the best of the concepts in programming.\" \"it's a great experience. the course is a great course and the course is a programming and programming skill in programming. i am absolutely nother to explain the concepts in a specialization and profe\n",
      "----- diversity: 1.0\n",
      "----- Generating with seed: \"i will definitely follow with the next modules. very good course with very good content it helped me\"\n",
      "i will definitely follow with the next modules. very good course with very good content it helped me loops languages but also day specializant. i have aded difficult. me to learn who is new thanks a lot er the clase bonu to complete being a beginner.  i can look uthor this is a great place to start with his interviews devination, the course\" \"atterding for beginners course to did understeed programming. i also licklieve\"\" parinitilisala le-stould being.\" this course is done students expericely i\n",
      "----- diversity: 1.2\n",
      "----- Generating with seed: \"i will definitely follow with the next modules. very good course with very good content it helped me\"\n",
      "i will definitely follow with the next modules. very good course with very good content it helped me to love my engurable complexit larguage \"\"well so whates in dr.chuck new profuctidion \"exametill.  wis king - would mindatt this opporearial  so, way is on examplamen.  a way this course, really sechides learning a bit coursely and has quickly will his enterything about. just highly have supplaty!\" i would be like it's completing in-poop out!in this is taught by dr. spacks is vis of own limpored \n",
      "\n",
      "Epoch 00057: loss improved from 0.84309 to 0.84185, saving model to /content/gdrive/My Drive/Capstone/Data/\n",
      "Epoch 58/100\n",
      "2362/2362 [==============================] - 38s 16ms/step - loss: 0.8328 - accuracy: 0.7476 - val_loss: 1.1030 - val_accuracy: 0.6912\n",
      "\n",
      "----- Generating text after Epoch: 57\n",
      "----- diversity: 0.2\n",
      "----- Generating with seed: \"d in.  i will probably try to find separate sources for getting the additional practice i need to ac\"\n",
      "d in.  i will probably try to find separate sources for getting the additional practice i need to active learning python programming language and the course is a great course for beginners and the assignments are also class for the course in the course is a great course for those who have no programming language and the instructor is very confidence in python.  \" \"i was able to complete the course in the course is very good and i was able to complete the course in python from the course in pytho\n",
      "----- diversity: 0.5\n",
      "----- Generating with seed: \"d in.  i will probably try to find separate sources for getting the additional practice i need to ac\"\n",
      "d in.  i will probably try to find separate sources for getting the additional practice i need to acquare  \"\"this course is a great course for those who have no programming experience in general material in python programming and the place to start with python. i will learn himple for the course are lot of the course in python  although i have been programming experience who has zero completing the course. i was able to learn python programming knowledge on the basic concepts of python programmi\n",
      "----- diversity: 1.0\n",
      "----- Generating with seed: \"d in.  i will probably try to find separate sources for getting the additional practice i need to ac\"\n",
      "d in.  i will probably try to find separate sources for getting the additional practice i need to acquile it for his micial insolution of programming. thank you dr. chuck,, \"  so very helpful, experience    i comely encinning ularing. i love his expreaser hotes experience  \" \"i an definitely much keep really do. fun! is python  so i thought to get stacking to learn this was my farth me a programming eapy to go hig i done learning my interesting was instructor in a othersequineve and informative.\n",
      "----- diversity: 1.2\n",
      "----- Generating with seed: \"d in.  i will probably try to find separate sources for getting the additional practice i need to ac\"\n",
      "d in.  i will probably try to find separate sources for getting the additional practice i need to actilizes!\" reseqrept hor course well sirfing why dakers.an \"well say a some python toul and relearnts--langureage is explained. i'm just to excick on python, into style to learn thy, of problems! ?lowed with financien!\" \"your to the contintion chepred and regucticesp on the dedic your getting it. i have trifn the course. i thinking. greatever to get than python thusk. dr. chuck was busin is a stron\n",
      "\n",
      "Epoch 00058: loss improved from 0.84185 to 0.83920, saving model to /content/gdrive/My Drive/Capstone/Data/\n",
      "Epoch 59/100\n",
      "2362/2362 [==============================] - 38s 16ms/step - loss: 0.8267 - accuracy: 0.7492 - val_loss: 1.1063 - val_accuracy: 0.6904\n",
      "\n",
      "----- Generating text after Epoch: 58\n",
      "----- diversity: 0.2\n",
      "----- Generating with seed: \"hs ago and i can surely say the course has provided a very good foundation. professor charles is a g\"\n",
      "hs ago and i can surely say the course has provided a very good foundation. professor charles is a great start for the beginners. i was a lot of experience with an absolute because it was a great course. i am a great teacher is very good course. i have never learned a lot or non course and i was able to complete the next courses that i can take this course to start learn about python and interesting with python programming and the way the content is a bit of the course is a great course. the tea\n",
      "----- diversity: 0.5\n",
      "----- Generating with seed: \"hs ago and i can surely say the course has provided a very good foundation. professor charles is a g\"\n",
      "hs ago and i can surely say the course has provided a very good foundation. professor charles is a great intro to python and gradion but it is easy to understand and i loved the course is amazing and it is a very good course for beginners and the way he teaches of programming and easy to understand and the point of interesting programming course for beginners in python.  the instructor is a very good course for beginners like me to explain the programming further the lectures, i really like the \n",
      "----- diversity: 1.0\n",
      "----- Generating with seed: \"hs ago and i can surely say the course has provided a very good foundation. professor charles is a g\"\n",
      "hs ago and i can surely say the course has provided a very good foundation. professor charles is a great scrittes different from basic and before i had a train maningentic you structure coursemations of understand his grades were very basic things part of the way duren sceptior basic siot. professor chuck explains even they a lot. \"there are easily advanced programming language like me be confidence.   great familiar with any basic. \"a strong and i am exceted of my kifw master day skired this co\n",
      "----- diversity: 1.2\n",
      "----- Generating with seed: \"hs ago and i can surely say the course has provided a very good foundation. professor charles is a g\"\n",
      "hs ago and i can surely say the course has provided a very good foundation. professor charles is a great topics especially thanks t.! stumy nothing to get so tworouthoy cknleme withig mate if defonedy, understanding oboro, anders, lone starting modect. \"fast to dr.chuck acprod way of dr. chuck has eady each to no happy to get betten.the way that you are beginner. the logicully structuted teach.\" \" \"i give this course try fur watchinial jalvat  or this python course  who wa kinde, the vadioo to t\n",
      "\n",
      "Epoch 00059: loss improved from 0.83920 to 0.83884, saving model to /content/gdrive/My Drive/Capstone/Data/\n",
      "Epoch 60/100\n",
      "2362/2362 [==============================] - 38s 16ms/step - loss: 0.8272 - accuracy: 0.7486 - val_loss: 1.1029 - val_accuracy: 0.6910\n",
      "\n",
      "----- Generating text after Epoch: 59\n",
      "----- diversity: 0.2\n",
      "----- Generating with seed: \"es.it was a fun and interactive way learning python with him.it actually felt like he is into gettin\"\n",
      "es.it was a fun and interactive way learning python with him.it actually felt like he is into getting starting of python and interesting and i would started to learn python and interesting and also i have taken a lot of python in a well and it was a great course for anyone who wants to learn python and not a beginner    it was a great course for beginners in python. the course is a great course for beginners and the way the course is a very good course for beginners. i am very good and interesti\n",
      "----- diversity: 0.5\n",
      "----- Generating with seed: \"es.it was a fun and interactive way learning python with him.it actually felt like he is into gettin\"\n",
      "es.it was a fun and interactive way learning python with him.it actually felt like he is into getting start to the programming language because it also enjoyed the course is a great course for beginners in python. \" \"it was a great course i have some programming for everybody\"\" i would recommend it to anyone who wants to enroll in the basic courses on python and interesting personal course. i was able to complete the next courses i was a really good course for beginners. i am sure how the teache\n",
      "----- diversity: 1.0\n",
      "----- Generating with seed: \"es.it was a fun and interactive way learning python with him.it actually felt like he is into gettin\"\n",
      "es.it was a fun and interactive way learning python with him.it actually felt like he is into getting startand and copprehent to the next course and courses i have been de. course all interviewfilidres. i have in roon my famp in programming parts. inded the course for python and noths what i filt bevidat, it very buistrong is us foriding quizzes, which swemps about sequing and thank you chancis prauser that his builors to experienced with python. this is great introductory course for beginners c\n",
      "----- diversity: 1.2\n",
      "----- Generating with seed: \"es.it was a fun and interactive way learning python with him.it actually felt like he is into gettin\"\n",
      "es.it was a fun and interactive way learning python with him.it actually felt like he is into getting statation on uniniar.this course confident and more everybody  my knowledge about python.\" write experienced of coursera. \"statems. go the good course! the lesson bight must' python from anyone, and works, withing, with prof. severance course was field, so agaid alo. u!sip you an excelone tamen for system of the reotir towards chack. they course but ruch feeling specidal him free and easily know\n",
      "\n",
      "Epoch 00060: loss improved from 0.83884 to 0.83688, saving model to /content/gdrive/My Drive/Capstone/Data/\n",
      "Epoch 61/100\n",
      "2362/2362 [==============================] - 38s 16ms/step - loss: 0.8245 - accuracy: 0.7488 - val_loss: 1.1016 - val_accuracy: 0.6914\n",
      "\n",
      "----- Generating text after Epoch: 60\n",
      "----- diversity: 0.2\n",
      "----- Generating with seed: \"ython but also numerous other things while you do this class, like regular expressions, databases an\"\n",
      "ython but also numerous other things while you do this class, like regular expressions, databases and i was able to wrenned the course and i was able to complete the course and the way he teaches are good and i was able to complete the course and the way he teaches are good and i was able to complete the course and i was able to complete the course and the instructor is very good and programming experience in this course. i would recommend this course to anyone who wants to learn python to the c\n",
      "----- diversity: 0.5\n",
      "----- Generating with seed: \"ython but also numerous other things while you do this class, like regular expressions, databases an\"\n",
      "ython but also numerous other things while you do this class, like regular expressions, databases and the way it was an introduction to programming language. the material was easy to understand. he elad for the course with python with python , this course is very easy to understand and all the course his there is also feel beginner'se and i was able to complete the course and also thank you dr. chuck, my first starting with python  in a lot of experience with programming. i will learn through th\n",
      "----- diversity: 1.0\n",
      "----- Generating with seed: \"ython but also numerous other things while you do this class, like regular expressions, databases an\"\n",
      "ython but also numerous other things while you do this class, like regular expressions, databases and his maybst everything bass must of the most important cancelt taught in time. while learning things with prof. charles. so feeling basics. will  essirling as highly maching applogic of python, this is abul. \" i really enjiculty good in your knowledge learner hed, understandable works to study challenging new pace.i had to begin le with the data lessmation with zero platform looking to learn prio\n",
      "----- diversity: 1.2\n",
      "----- Generating with seed: \"ython but also numerous other things while you do this class, like regular expressions, databases an\"\n",
      "ython but also numerous other things while you do this class, like regular expressions, databases and allowerling endire without presented simple only but used fur.  this is rell.the are informative transcouad, course really helped me a.thank you fral yours.\" e-rected on gainhts i do stack  success  first onliny buillls yourse to programming language and his teaching senfection of programming. now!\" \"so the concint about programming.  theirevine and additical course i found i can assinity the wa\n",
      "\n",
      "Epoch 00061: loss improved from 0.83688 to 0.83554, saving model to /content/gdrive/My Drive/Capstone/Data/\n",
      "Epoch 62/100\n",
      "2362/2362 [==============================] - 38s 16ms/step - loss: 0.8215 - accuracy: 0.7517 - val_loss: 1.1028 - val_accuracy: 0.6914\n",
      "\n",
      "----- Generating text after Epoch: 61\n",
      "----- diversity: 0.2\n",
      "----- Generating with seed: \"tor who has tried to teach all concepts very simply. thanks charles for explaining the concepts is s\"\n",
      "tor who has tried to teach all concepts very simply. thanks charles for explaining the concepts is suitable for beginners. the instructor is very good and interesting and programming experience in this course. i will recommend this course to anyone who wants to learn python and python and programming and the assignments are very interesting and interesting and the way the course is a very good course for beginners in python and i was able to learn any prior knowledge of python and programming la\n",
      "----- diversity: 0.5\n",
      "----- Generating with seed: \"tor who has tried to teach all concepts very simply. thanks charles for explaining the concepts is s\"\n",
      "tor who has tried to teach all concepts very simply. thanks charles for explaining the concepts is such a good course for the beginners who wants to learn python and the most to complete the way the rush fun. i loved this course and also i was able to learn more advanced by the python programming leanners who saight to the rest of the subject. this course is very fun and provides work and learned some of the professor severance is a very statement in other programming language and the works frie\n",
      "----- diversity: 1.0\n",
      "----- Generating with seed: \"tor who has tried to teach all concepts very simply. thanks charles for explaining the concepts is s\"\n",
      "tor who has tried to teach all concepts very simply. thanks charles for explaining the concepts is suspever trying about the code while all i want complete and look forward for me importantly first instausticulally and everything who are taking this course.  the knowledge of python aspice course i would have someone that quizzes were, but new to plajed. but well, not online course i've discussoful.  i would start course ahat, and get in a very good course, but the video lesson made me next to th\n",
      "----- diversity: 1.2\n",
      "----- Generating with seed: \"tor who has tried to teach all concepts very simply. thanks charles for explaining the concepts is s\"\n",
      "tor who has tried to teach all concepts very simply. thanks charles for explaining the concepts is start-up professionall. \"  for the end of explanations are   way of understanding for a new created i can get before. i am able to understand this course, with a spice hand moound to understand with python skills and excited.\" \"soured. sthents it. definitely is necessate afthaticias stare to this reall, and the quize i am an explained and learned py ant-course is great, asjays.material being to kno\n",
      "\n",
      "Epoch 00062: loss improved from 0.83554 to 0.83382, saving model to /content/gdrive/My Drive/Capstone/Data/\n",
      "Epoch 63/100\n",
      "2362/2362 [==============================] - 38s 16ms/step - loss: 0.8177 - accuracy: 0.7516 - val_loss: 1.1106 - val_accuracy: 0.6899\n",
      "\n",
      "----- Generating text after Epoch: 62\n",
      "----- diversity: 0.2\n",
      "----- Generating with seed: \"n of the course.\" charles severence by far is the best faculty i've had so far. his way of teaching \"\n",
      "n of the course.\" charles severence by far is the best faculty i've had so far. his way of teaching is too start programming and i would like to thanks to provided and programming for everybody what is a great teacher is very interesting and programming and the way he has a lot of the course is very helpful for me to understand and interesting and explains the concepts in a start with a great teacher is a great to make it a very good and interesting and i would like to take this course to start \n",
      "----- diversity: 0.5\n",
      "----- Generating with seed: \"n of the course.\" charles severence by far is the best faculty i've had so far. his way of teaching \"\n",
      "n of the course.\" charles severence by far is the best faculty i've had so far. his way of teaching is too surpated in this course and the course is so easy to follow. i am so making this course i have ever had studying the course is such a    very easy and programming and make the lectures are really a great course for beginners. i am part of the course and i am first lectures are a way to the best online courses and the final computer science and i am very happy to get it all the courses and i\n",
      "----- diversity: 1.0\n",
      "----- Generating with seed: \"n of the course.\" charles severence by far is the best faculty i've had so far. his way of teaching \"\n",
      "n of the course.\" charles severence by far is the best faculty i've had so far. his way of teaching re mush knowledge before the facuse i believe how to hand on one, so i have such a good course. even the fundamental of hatab online course for beginner experience with python, this course is detailes to senethen't suitond. i his that way fiess.it understand python language and help and not only the regarding cooss. everything that this class by as afross i desend to get started of teaching sechen\n",
      "----- diversity: 1.2\n",
      "----- Generating with seed: \"n of the course.\" charles severence by far is the best faculty i've had so far. his way of teaching \"\n",
      "n of the course.\" charles severence by far is the best faculty i've had so far. his way of teaching slides. a good such bechanling tryst from other programming but not, the other programmer, the way unitering you more having to sensting whele and basic light.\" highly recommendward, awe only much want to start captom. charles and allowerles it will fell-gre interving another thanks reasonal exercises was trat easier withous:  your haven anreacsed my prof. dr.charles werailly sesstaned with comput\n",
      "\n",
      "Epoch 00063: loss improved from 0.83382 to 0.83230, saving model to /content/gdrive/My Drive/Capstone/Data/\n",
      "Epoch 64/100\n",
      "2362/2362 [==============================] - 36s 15ms/step - loss: 0.8201 - accuracy: 0.7519 - val_loss: 1.1077 - val_accuracy: 0.6905\n",
      "\n",
      "----- Generating text after Epoch: 63\n",
      "----- diversity: 0.2\n",
      "----- Generating with seed: \"conceptual clarity and reinforced understanding. course content, in general and teaching instruction\"\n",
      "conceptual clarity and reinforced understanding. course content, in general and teaching instructions of the course in python in the same time to complete the course and the assignments and the course is very good and help you teaches and highly recommend!\" \"i loved the course in the python programming language. i have learned a lot of teaching is to be a student in the course and the way the course is a very good and programming and assignments are very good and easy to understand and the assig\n",
      "----- diversity: 0.5\n",
      "----- Generating with seed: \"conceptual clarity and reinforced understanding. course content, in general and teaching instruction\"\n",
      "conceptual clarity and reinforced understanding. course content, in general and teaching instructions of the course. \" \"i liked the course is a special tath. it is used on the course is very clear and difficulty to do the programming language and start to the python programming language in the course and his provides and course highly recommend!\" \"it is a great teacher assignments and the concepts and programming in python and programming this course is very fun and easy to understand and also t\n",
      "----- diversity: 1.0\n",
      "----- Generating with seed: \"conceptual clarity and reinforced understanding. course content, in general and teaching instruction\"\n",
      "conceptual clarity and reinforced understanding. course content, in general and teaching instruction is we anrones if the channers were an introduely and planning a good start to becim. i think there beginners.and assignment and progression was an'ther viow, i feel losing python from.. and the videos and because the basics of programming assing . i have not to foll why wishe which i can remeet a.branning to learn, well internation ergatical python will definitely recommend to attending this\", i \n",
      "----- diversity: 1.2\n",
      "----- Generating with seed: \"conceptual clarity and reinforced understanding. course content, in general and teaching instruction\"\n",
      "conceptual clarity and reinforced understanding. course content, in general and teaching instruction is towards this course who are understand them. all course as doing those sething the pocal and enrolled for about general courses for beginners. would.. .,, whoudl. but never each and manle study with all i can thored at tert. \" you sively thinking of data scits you because out the future in other psacts. dr. sevesences thinkit i was  inveed shelps, now that also place to our codion has boring a\n",
      "\n",
      "Epoch 00064: loss improved from 0.83230 to 0.83086, saving model to /content/gdrive/My Drive/Capstone/Data/\n",
      "Epoch 65/100\n",
      "2362/2362 [==============================] - 36s 15ms/step - loss: 0.8195 - accuracy: 0.7509 - val_loss: 1.1143 - val_accuracy: 0.6897\n",
      "\n",
      "----- Generating text after Epoch: 64\n",
      "----- diversity: 0.2\n",
      "----- Generating with seed: \"nswered.this course answered them all.  i.e. what is the difference between \"\" \"\" and \"\"  \"\", and wh\"\n",
      "nswered.this course answered them all.  i.e. what is the difference between \"\" \"\" and \"\"  \"\", and which is a great teacher and i have a programming experience and i would suggest to course so who course in the course in the course is really great introduction to python and programming in python and the course is a very good course for beginners in python and the way he teaches and explains everything in the course in the course i have a tries a lot to start in the course. the instructor is very \n",
      "----- diversity: 0.5\n",
      "----- Generating with seed: \"nswered.this course answered them all.  i.e. what is the difference between \"\" \"\" and \"\"  \"\", and wh\"\n",
      "nswered.this course answered them all.  i.e. what is the difference between \"\" \"\" and \"\"  \"\", and who is a great teacher assignments and platform ond is a bit of programming with python through the course. \" \"this is the best instructions were is easy to understand and the way his instructor is very clear which were moop the course.  i found this course was a books of programming. thanks to the coursera and charles severance so much for the python language. i have learned and professor charles s\n",
      "----- diversity: 1.0\n",
      "----- Generating with seed: \"nswered.this course answered them all.  i.e. what is the difference between \"\" \"\" and \"\"  \"\", and wh\"\n",
      "nswered.this course answered them all.  i.e. what is the difference between \"\" \"\" and \"\"  \"\", and which tak ulmer way who doesn the way things in a very well alwaded with no prioricidatory in python i had rotelt like me. python  along without friendy.this is a very interesting working. seen knows who continuerne funtter is still thoughts prof. charles is a great introduction.thank you coursera!\" \"drys know what wondered a computer science programming and can't will never ure programming.\" \"i rea\n",
      "----- diversity: 1.2\n",
      "----- Generating with seed: \"nswered.this course answered them all.  i.e. what is the difference between \"\" \"\" and \"\"  \"\", and wh\"\n",
      "nswered.this course answered them all.  i.e. what is the difference between \"\" \"\" and \"\"  \"\", and what imatilidalizes, thank you an examples as hours. finally i did not interest? need to tre bad programming. \" \"  very suttat-laid s much ame plebond who it really reimorles and crarus enter and learning python. very helpd a good new to be besence of the its in de ifformates thank you'.dr stumor. que folier and knowledge and dr. severance is the a programming languages. dr chuck's mysend to be to u\n",
      "\n",
      "Epoch 00065: loss improved from 0.83086 to 0.82967, saving model to /content/gdrive/My Drive/Capstone/Data/\n",
      "Epoch 66/100\n",
      "2362/2362 [==============================] - 36s 15ms/step - loss: 0.8178 - accuracy: 0.7517 - val_loss: 1.1174 - val_accuracy: 0.6892\n",
      "\n",
      "----- Generating text after Epoch: 65\n",
      "----- diversity: 0.2\n",
      "----- Generating with seed: \"e for beginner. strongly recommended for person who wants to learn programming language but thinks i\"\n",
      "e for beginner. strongly recommended for person who wants to learn programming language but thinks in programming in python as a course in the second of the course and it was a great course for beginners and the way he teaches and also i was able to complete the course and the teacher has a great course for beginners in python. the instructor is very good at its interesting this course. i will definitely recommend this course to anyone who wants to learn python and python programming and the ass\n",
      "----- diversity: 0.5\n",
      "----- Generating with seed: \"e for beginner. strongly recommended for person who wants to learn programming language but thinks i\"\n",
      "e for beginner. strongly recommended for person who wants to learn programming language but thinks i will recommend this course to thought it and so easy to learn python programming and i had this course with python  on to the next course is very well spent of dr. charles severance is a great course for those who have never understand how to continue to teach it easy to understand and the subject is pretty good and new to programming this course  conchupt in a few professors and the exercises ar\n",
      "----- diversity: 1.0\n",
      "----- Generating with seed: \"e for beginner. strongly recommended for person who wants to learn programming language but thinks i\"\n",
      "e for beginner. strongly recommended for person who wants to learn programming language but thinks is much to charles ruchoowed about python. as a funny time. i'm quite viesed to batiliarly.thank you for every-dercinal toudare suggest and there is a good a practing at the taking this classes. some funds very insa fabstic knowledge of python.thank you coursera for providing for those opportunity\" i recommend foch   in simpye to get started with faviluated. so the course doesn't have aind every. t\n",
      "----- diversity: 1.2\n",
      "----- Generating with seed: \"e for beginner. strongly recommended for person who wants to learn programming language but thinks i\"\n",
      "e for beginner. strongly recommended for person who wants to learn programming language but thinks i'll - thoy scapper clivied intworting and you want to get it envourer. there are willing to learn.  did not belone to me i had now a grasp it will help yot've tackn'ter. over out concepts to the presentepr availlabmen their mires helped us acaling for the next coovely nowitiay of what python actually make further with with material englagice.       :    . i am a python cap conserat. didc pack proj\n",
      "\n",
      "Epoch 00066: loss improved from 0.82967 to 0.82785, saving model to /content/gdrive/My Drive/Capstone/Data/\n",
      "Epoch 67/100\n",
      "2362/2362 [==============================] - 37s 15ms/step - loss: 0.8186 - accuracy: 0.7518 - val_loss: 1.1133 - val_accuracy: 0.6905\n",
      "\n",
      "----- Generating text after Epoch: 66\n",
      "----- diversity: 0.2\n",
      "----- Generating with seed: \"was a fantastic introduction to python and to programming in general.  this was my first step into m\"\n",
      "was a fantastic introduction to python and to programming in general.  this was my first step into my code or not coding in programming and the assignments are very good and interesting and programming experience in programming. i am so graded and the assignments and assignments are very interesting and interesting and interesting and explains and it will get into programming and i would like to thank dr. chuck for teaching and great introduction to programming and this course is a great course \n",
      "----- diversity: 0.5\n",
      "----- Generating with seed: \"was a fantastic introduction to python and to programming in general.  this was my first step into m\"\n",
      "was a fantastic introduction to python and to programming in general.  this was my first step into my code or not mins of teaching and it's a great job and it's a programming language is clearly and interesting and explains the course in the field of programming and i was very gietly to recommend this course to anyone whould recommend this course to anyone whould interested in the lectures are entertaining and will help to learn programming and his class, it was a great course for those with no \n",
      "----- diversity: 1.0\n",
      "----- Generating with seed: \"was a fantastic introduction to python and to programming in general.  this was my first step into m\"\n",
      "was a fantastic introduction to python and to programming in general.  this was my first step into more after the problem this was so iste. stugying through and professor, you can dr chopph it with no programming knowledge in on-time and his teaching and it easy to ushit any long serious git programming knowledge. prof speeper this assignment ouching introduction for clear programmed or and class good beginner to lectures vid one of the basic class. i want to styl\" it is abual from to learn.\" ex\n",
      "----- diversity: 1.2\n",
      "----- Generating with seed: \"was a fantastic introduction to python and to programming in general.  this was my first step into m\"\n",
      "was a fantastic introduction to python and to programming in general.  this was my first step into my courses autop with un experience of python that's classes  for a beginner, some engaging method it easy and not gram too, activide can learn this regred and this just many great of duids but am nice this course is reaply really gives where read the basing python jof you could triem continue lecturer. charles severance has just diniximy more    like how to proun oniin functions on prefering for p\n",
      "\n",
      "Epoch 00067: loss improved from 0.82785 to 0.82734, saving model to /content/gdrive/My Drive/Capstone/Data/\n",
      "Epoch 68/100\n",
      "2362/2362 [==============================] - 36s 15ms/step - loss: 0.8158 - accuracy: 0.7519 - val_loss: 1.1094 - val_accuracy: 0.6897\n",
      "\n",
      "----- Generating text after Epoch: 67\n",
      "----- diversity: 0.2\n",
      "----- Generating with seed: \" that gives people time to digest what they have learned. i am now looking forward to taking part in\"\n",
      " that gives people time to digest what they have learned. i am now looking forward to taking part in end of the course in the course is very easy to follow and i have tried so far. charles severance is an excellent course for beginners in python. the course is a great course for those who have no programming background in programming. the instructor is very good at the stepping in the programs in this course and i am a mate the course and concepts are graded and programming in a student in the c\n",
      "----- diversity: 0.5\n",
      "----- Generating with seed: \" that gives people time to digest what they have learned. i am now looking forward to taking part in\"\n",
      " that gives people time to digest what they have learned. i am now looking forward to taking part in errogo to complete the course and his much first course i have bectever learned this course. i am a great teacher which series through course with some experience in the course and it was a great teacher. highly recommended! thank you for sompinge to programming skills and dr. chuck did shead it also helped me to learn and will get be hor the beginning. i will recommend this course to anyone who \n",
      "----- diversity: 1.0\n",
      "----- Generating with seed: \" that gives people time to digest what they have learned. i am now looking forward to taking part in\"\n",
      " that gives people time to digest what they have learned. i am now looking forward to taking part in coursera, the best its go assimp-but that i can feel bacchthis a different states, i have starts at new code on this course was very introduction of python!\" \"the instructor respemiend. it is no programming experience in codver with python for everybodyys the code is much and the review about this course was very good attenced in a complete classed to programming with python   success, your finan\n",
      "----- diversity: 1.2\n",
      "----- Generating with seed: \" that gives people time to digest what they have learned. i am now looking forward to taking part in\"\n",
      " that gives people time to digest what they have learned. i am now looking forward to taking part in the lectures are aremud using python  week  over engegaing things dounds but it will get the basis si is and coding, i beine you vide. it's a sir learnted an introductory course!!!\".\"professor's explains, the examples. \"appyhaml for   python can learn. except; except. the teacher knew init teres out online. look forungal people who know, answer'le and blession is should. the videos are great at p\n",
      "\n",
      "Epoch 00068: loss improved from 0.82734 to 0.82563, saving model to /content/gdrive/My Drive/Capstone/Data/\n",
      "Epoch 69/100\n",
      "2362/2362 [==============================] - 36s 15ms/step - loss: 0.8422 - accuracy: 0.7429 - val_loss: 1.1100 - val_accuracy: 0.6914\n",
      "\n",
      "----- Generating text after Epoch: 68\n",
      "----- diversity: 0.2\n",
      "----- Generating with seed: \"ourse to you. thanks to coursera. i love this course for python programming thanks coursera and univ\"\n",
      "ourse to you. thanks to coursera. i love this course for python programming thanks coursera and university of michigan for the beginners who wants to learn python programming this course i have tried me the beginners. the course is a very good course for beginners in python. i am so graded and i could take this course to everyone who wants to learn python and in python in the course is very interesting and i have a great teacher and i have a great course for those who are start to the programmin\n",
      "----- diversity: 0.5\n",
      "----- Generating with seed: \"ourse to you. thanks to coursera. i love this course for python programming thanks coursera and univ\"\n",
      "ourse to you. thanks to coursera. i love this course for python programming thanks coursera and university of michigan and also in the students life, and interesting than the course is gond in coursera course and i strugglided this course to be skills and makes it easy to understand and helpful experience in programming and this course has a beginner in the assignments were a good course for someone who wants to start the course is very engaging and i would recommend you comparting the course is\n",
      "----- diversity: 1.0\n",
      "----- Generating with seed: \"ourse to you. thanks to coursera. i love this course for python programming thanks coursera and univ\"\n",
      "ourse to you. thanks to coursera. i love this course for python programming thanks coursera and university of michiga. you in learn for even noods, the explanation and gets his class even who kind of the best time it eastes to follow data reasiggant and explained in the course i am abrele into build    overall: i need in the course is very useful and maybef\" learning this course, and reserview thank you so much for succeltte in who come avaipam coding at read a programmer a being    the instruct\n",
      "----- diversity: 1.2\n",
      "----- Generating with seed: \"ourse to you. thanks to coursera. i love this course for python programming thanks coursera and univ\"\n",
      "ourse to you. thanks to coursera. i love this course for python programming thanks coursera and university of michigawhoy about python. mo pot was dr. severance is very lintor'sk -wen incughing intulling for python    hourse. be't prefores oplis c me understortate who is easy to fiebly litele coding basic. some grrat teacher. it would recommendsedvel if you got, cannot hand him out of class in foluation of information.  challeng that feeling explace to sksolisp of python or catentows with this n\n",
      "\n",
      "Epoch 00069: loss did not improve from 0.82563\n",
      "Epoch 70/100\n",
      "2362/2362 [==============================] - 36s 15ms/step - loss: 0.8080 - accuracy: 0.7545 - val_loss: 1.1179 - val_accuracy: 0.6877\n",
      "\n",
      "----- Generating text after Epoch: 69\n",
      "----- diversity: 0.2\n",
      "----- Generating with seed: \" i learn programming, but i also learned how computer works when it comes to programming. the lectur\"\n",
      " i learn programming, but i also learned how computer works when it comes to programming. the lectures are also complete the course and the instructor is very good and help you to understand the course is very helpful for me to start learning python that is the best course for anyone who wants to learn python that it was a great course for the beginners with no prior coding experience and explains the course in the students in the course and the assignments are also class for the course with the\n",
      "----- diversity: 0.5\n",
      "----- Generating with seed: \" i learn programming, but i also learned how computer works when it comes to programming. the lectur\"\n",
      " i learn programming, but i also learned how computer works when it comes to programming. the lectures are more and entager the course in my first course before, i have lateliers this course was very well for beginners learned. the course is a great teacher and start for the beginners while takes and issue to them as well as general  mudable study was a some start. it will like to learn python programming and the video also introduced the course and he take me those who wants to learn programmin\n",
      "----- diversity: 1.0\n",
      "----- Generating with seed: \" i learn programming, but i also learned how computer works when it comes to programming. the lectur\"\n",
      " i learn programming, but i also learned how computer works when it comes to programming. the lectures are professor charles'se sin explains be a lot so highly a great teacher and highly recommended for anyone who want to take it to sucel were vis us to det. it is difficutted to live under things if you're anywhere curilles recoursestit gearning key not overall started progress. is manython of programming.the is the format for everybody  the course makes it! \" \"python as he make my concept and h\n",
      "----- diversity: 1.2\n",
      "----- Generating with seed: \" i learn programming, but i also learned how computer works when it comes to programming. the lectur\"\n",
      " i learn programming, but i also learned how computer works when it comes to programming. the lectures and write.\" \"a majate neers that he expjoces staff is just to go first time, but charles, really briet explanat jought with programing language.\" frief,,ands so many choicl test. his teachers.thanking! \" \"great introductioy to debind it make me nicely and appreacall atupic. i sigring useful course herizad. highly recommend this course chuck shown'pely explained it understanding my recommended p\n",
      "\n",
      "Epoch 00070: loss improved from 0.82563 to 0.81552, saving model to /content/gdrive/My Drive/Capstone/Data/\n",
      "Epoch 71/100\n",
      "2362/2362 [==============================] - 36s 15ms/step - loss: 0.8071 - accuracy: 0.7543 - val_loss: 1.1168 - val_accuracy: 0.6899\n",
      "\n",
      "----- Generating text after Epoch: 70\n",
      "----- diversity: 0.2\n",
      "----- Generating with seed: \"sic because i never used python. simple direct and concise what i was looking for.\" \"for anyone with\"\n",
      "sic because i never used python. simple direct and concise what i was looking for.\" \"for anyone with no prior knowledge in this course i have taken a lot of course i have been the best course and the course is a great course for beginners.  the course is a great course for the first course i have tried to understand and highly recommended for anyone who wants to learn python and in the course is very engaging and great programming language and the way he teaches and i have taken a lot of the cou\n",
      "----- diversity: 0.5\n",
      "----- Generating with seed: \"sic because i never used python. simple direct and concise what i was looking for.\" \"for anyone with\"\n",
      "sic because i never used python. simple direct and concise what i was looking for.\" \"for anyone with an excellent job of have this course and the videos are detailes chapter and the first courses and it's a great course! the programming instementer programming language to recome understand and very mest and the first online course i have ever made because me   the course is very clear what quizzes and continue that is where the course is a good course for the beginners. i would recommend this co\n",
      "----- diversity: 1.0\n",
      "----- Generating with seed: \"sic because i never used python. simple direct and concise what i was looking for.\" \"for anyone with\"\n",
      "sic because i never used python. simple direct and concise what i was looking for.\" \"for anyone with a great and how to advent to learn into the course and sure these course! charles ruchoupt solvine and simple practice journey using the languages which were the passion and how how the write to be firding to understand is that you really really enjoyed me python internation of courses. so that in python is definitely the best course to know more for a mr. charles teached his fun-to programming, \n",
      "----- diversity: 1.2\n",
      "----- Generating with seed: \"sic because i never used python. simple direct and concise what i was looking for.\" \"for anyone with\"\n",
      "sic because i never used python. simple direct and concise what i was looking for.\" \"for anyone without in   over thanks my myself, used you have to take how course for the key for help it was clovive\"\" goo, i really enjoyed. i taked out the course and i had  it was guises very being a coupled in the lecturavion. some way fundacts.tall preporeme. however in incells. for printr's fun, after the courses thank you, his really helped my programming for into list to fruet.thanks coursera to good\"\" pr\n",
      "\n",
      "Epoch 00071: loss did not improve from 0.81552\n",
      "Epoch 72/100\n",
      "2362/2362 [==============================] - 36s 15ms/step - loss: 0.8086 - accuracy: 0.7528 - val_loss: 1.1181 - val_accuracy: 0.6893\n",
      "\n",
      "----- Generating text after Epoch: 71\n",
      "----- diversity: 0.2\n",
      "----- Generating with seed: \"e all the courses for python specialization. this course is very helpful for the people who want to \"\n",
      "e all the courses for python specialization. this course is very helpful for the people who want to start learning programming. i am sure that you want to learn python and not a student in the course is an excellent experience in the course is a great course for those who have no prior knowledge in a week with python language. i will definitely thank the course and the course is a great teacher is a great course for beginners. the instructor is a great teacher is on to the next courses to the co\n",
      "----- diversity: 0.5\n",
      "----- Generating with seed: \"e all the courses for python specialization. this course is very helpful for the people who want to \"\n",
      "e all the courses for python specialization. this course is very helpful for the people who want to start learning python but insights language. the course explains the course with itself part series and the videos are very useful and an introduction of the python language. personally, i buznguadors, and i was start to the next course and there is a basic and i have great introductory course for beginners who wants to learn python and motivation. dr. chuck is a very good course for beginners. th\n",
      "----- diversity: 1.0\n",
      "----- Generating with seed: \"e all the courses for python specialization. this course is very helpful for the people who want to \"\n",
      "e all the courses for python specialization. this course is very helpful for the people who want to clear your hanguadianted but python jade. ho house one thoughtite and explained as a challenge would recommend. \"butster that the teaches as well, it is too hard of buily, about python as build  parture the idea to start so gurt to know me life and you will help they are not feeling even-thos in this course before , special thank you. very experienged to learn my can mand theirs are accourses. als\n",
      "----- diversity: 1.2\n",
      "----- Generating with seed: \"e all the courses for python specialization. this course is very helpful for the people who want to \"\n",
      "e all the courses for python specialization. this course is very helpful for the people who want to learn python , its a good. \" this  would nice professor parth courses by  \"anglide inte favel. thank you coursera and coursera teacher. i wouk that you starting rut. looks for programming. \"this was my bithing introductory course in the skills is joy an way, to get all with\" - well, ho is also helpful assignments, quicks which move python programming.the instructor made part that waul gradits and \n",
      "\n",
      "Epoch 00072: loss did not improve from 0.81552\n",
      "Epoch 73/100\n",
      "2362/2362 [==============================] - 36s 15ms/step - loss: 0.8100 - accuracy: 0.7549 - val_loss: 1.1183 - val_accuracy: 0.6896\n",
      "\n",
      "----- Generating text after Epoch: 72\n",
      "----- diversity: 0.2\n",
      "----- Generating with seed: \"code late in life but this course has made it possible.  thank you coursera \" great teaching. i love\"\n",
      "code late in life but this course has made it possible.  thank you coursera \" great teaching. i loved the course in the course in the course is a bit of programming experience in a little basic programming language and the assignments are very interesting and programming for everybody  this course is a great course for the beginners who wants to learn python that is a great course for the beginners who doesn't have a programming languages better the course and the way he explains the way the cou\n",
      "----- diversity: 0.5\n",
      "----- Generating with seed: \"code late in life but this course has made it possible.  thank you coursera \" great teaching. i love\"\n",
      "code late in life but this course has made it possible.  thank you coursera \" great teaching. i loved the next course that i could feel liteded and graduate simple and the way he tutor is very good course for those who are start to the next lectures are very interviews over comfortable where techim all the lessons are everyone who are say the rest of the lectures are easy to fice to the course i have a great course for all the makes it easy to ficest courses that have not the level of understand\n",
      "----- diversity: 1.0\n",
      "----- Generating with seed: \"code late in life but this course has made it possible.  thank you coursera \" great teaching. i love\"\n",
      "code late in life but this course has made it possible.  thank you coursera \" great teaching. i loved more course a persented manageable! all atteaching way ofre course. he is really easy to understand programming.\" tries at the form the course.\" \"it's a great blew-learning python world this is the program and his stelpbing more refreshinge formal educator . this course challengen on this.\" \"great course for anyone who is a great interactive enelly me us for beginner but also i would sig skills.\n",
      "----- diversity: 1.2\n",
      "----- Generating with seed: \"code late in life but this course has made it possible.  thank you coursera \" great teaching. i love\"\n",
      "code late in life but this course has made it possible.  thank you coursera \" great teaching. i loved learning sitten moking me solve backing about  they we following about, non-programming. the nasimation to rend as lecturer, learnnguabor manner happe and professor severance's part of a lot of kind of things materialm who wish topic nick-language that in the first course!\" \"i like aboun it very easy.attearnty i covere is excealed!\" also i also windo learn computer quite examples language. i fou\n",
      "\n",
      "Epoch 00073: loss did not improve from 0.81552\n",
      "Epoch 74/100\n",
      "2362/2362 [==============================] - 34s 14ms/step - loss: 0.8101 - accuracy: 0.7534 - val_loss: 1.1232 - val_accuracy: 0.6875\n",
      "\n",
      "----- Generating text after Epoch: 73\n",
      "----- diversity: 0.2\n",
      "----- Generating with seed: \" the layman.\" \"have a good experience .long time i didn't work with any programming language ,so i d\"\n",
      " the layman.\" \"have a good experience .long time i didn't work with any programming language ,so i do not and complete the course and it was a great course for those who are something that was a great course for the beginners that i have ever had started to learn python for me to learn python and interesting and i was able to complete the course and i found this course to learn python and interesting and explains everything surprasming and the programming in a well and it was a bit of programmin\n",
      "----- diversity: 0.5\n",
      "----- Generating with seed: \" the layman.\" \"have a good experience .long time i didn't work with any programming language ,so i d\"\n",
      " the layman.\" \"have a good experience .long time i didn't work with any programming language ,so i decided to do be hor the beginning. the instructor is clearly and so easy to learn interved of programming. it is great as professor is very facultimation of the course and i have never experience the concepts of python before concepts at the recours tearning. the material is very helpful for me to start programming language and beginner in the course.  i would recommend this course to anyone who w\n",
      "----- diversity: 1.0\n",
      "----- Generating with seed: \" the layman.\" \"have a good experience .long time i didn't work with any programming language ,so i d\"\n",
      " the layman.\" \"have a good experience .long time i didn't work with any programming language ,so i didnten to be surefy wantfuled. it is a really study and it is exciting  \" and it persnitess taught and place courses.\" \"very has to work of on many ot only teachers these can be easiec booky for thes get started with betning treally good classes, it is presentations were. the knows great course. i would have to start the beginning.\" \"this is fridining us for, python provide : thank to progxam to p\n",
      "----- diversity: 1.2\n",
      "----- Generating with seed: \" the layman.\" \"have a good experience .long time i didn't work with any programming language ,so i d\"\n",
      " the layman.\" \"have a good experience .long time i didn't work with any programming language ,so i did a give by the review of people who had for abag you, it's confuses it i valiar the course after ades got indeesting. \"amazing. charles, now but partoops. to have looking forward to back to thanknguat.\" and thank you for this courseat learnon, , appreciated more platfor is information : ..ant. its you me will adde birfs the several realog quickel, very slifilaces acd, how a few very much that if\n",
      "\n",
      "Epoch 00074: loss did not improve from 0.81552\n",
      "Epoch 75/100\n",
      "2362/2362 [==============================] - 35s 15ms/step - loss: 0.8103 - accuracy: 0.7529 - val_loss: 1.1210 - val_accuracy: 0.6888\n",
      "\n",
      "----- Generating text after Epoch: 74\n",
      "----- diversity: 0.2\n",
      "----- Generating with seed: \"n high school but i think this is really good and relax for a programming review and start to learn \"\n",
      "n high school but i think this is really good and relax for a programming review and start to learn python. i would recommend this course to anyone who wants to learn python from scratch. i have never easy to learn python and interesting and the enthusiasm to my understanding. i had think of python                                                                                                                                                                                                         \n",
      "----- diversity: 0.5\n",
      "----- Generating with seed: \"n high school but i think this is really good and relax for a programming review and start to learn \"\n",
      "n high school but i think this is really good and relax for a programming review and start to learn in the details and the assignments are very interesting and interesting. i had zero experience with programming. the teacher is very good. i would recommend it to anyone who wants to learn python programming language. thanks to this course and also more in this course.                                                                                                                                   \n",
      "----- diversity: 1.0\n",
      "----- Generating with seed: \"n high school but i think this is really good and relax for a programming review and start to learn \"\n",
      "n high school but i think this is really good and relax for a programming review and start to learn found system of this my fade of python while lecture and his me. i will recommend this course for anyone part of my friends.the commen were the finest assignments were very essent. what is the worked lovid and introducely and is effectively didntoutly using a nothan way of his that they makes learning python. dr. severance a profesion topic like some of the first proor programming before and the l\n",
      "----- diversity: 1.2\n",
      "----- Generating with seed: \"n high school but i think this is really good and relax for a programming review and start to learn \"\n",
      "n high school but i think this is really good and relax for a programming review and start to learn a lot to make it out incided of python. it's bores will read at job to more. for me to courses  you nothe staris doint--firs over utiver choss educational way ofwers.\" \"you. this course will peind on incredible was. \"in also we'lly like to take problew to understand. professor and makes the lecturespact. i feel looking to use onring experience my were explanation, has not worked\" who is not ngaune\n",
      "\n",
      "Epoch 00075: loss did not improve from 0.81552\n",
      "Epoch 76/100\n",
      "2362/2362 [==============================] - 36s 15ms/step - loss: 0.8085 - accuracy: 0.7532 - val_loss: 1.1280 - val_accuracy: 0.6867\n",
      "\n",
      "----- Generating text after Epoch: 75\n",
      "----- diversity: 0.2\n",
      "----- Generating with seed: \"the down-to-earth style that dr. chuck has when teaching a concept in the course. i believe that he \"\n",
      "the down-to-earth style that dr. chuck has when teaching a concept in the course. i believe that he has a great course to start learning python. this course was a great course. i am sure that this course is very interesting and explained make several students to learn python and explaining the material is very interesting and interesting where you will learn more about python with no programming language and the assignments are very interesting and explained in the first time to understand all t\n",
      "----- diversity: 0.5\n",
      "----- Generating with seed: \"the down-to-earth style that dr. chuck has when teaching a concept in the course. i believe that he \"\n",
      "the down-to-earth style that dr. chuck has when teaching a concept in the course. i believe that he is helpful to do this approach topics, but the video lessons are easy to learn python and this course is very each and excited to learn python and gives you the best programming language. the proor and helped me to learn so that completed, it was also thoroughly never thank you very much for the subject is very easy to follow and done step -lots. if you really enjoyed this course. i was a lot of e\n",
      "----- diversity: 1.0\n",
      "----- Generating with seed: \"the down-to-earth style that dr. chuck has when teaching a concept in the course. i believe that he \"\n",
      "the down-to-earth style that dr. chuck has when teaching a concept in the course. i believe that he have alterale user compute chapters, but this course is so that you to handsural to learn programming as i loved the way all, this is every mucis teacher. offerspanting with the python.  \"everything in an our java and he is to study hanvond poople for learning.  i was actually taking to good set. \" \"i'm easy to learn coursera to learn   it   of python learning anything you achoss to done study for\n",
      "----- diversity: 1.2\n",
      "----- Generating with seed: \"the down-to-earth style that dr. chuck has when teaching a concept in the course. i believe that he \"\n",
      "the down-to-earth style that dr. chuck has when teaching a concept in the course. i believe that he case. i am, lovely exomeled! \" \"brief reviews! thanks for great jo taught offe. challeng make say the practices, concin\", mays\"\"tack thank sir. that to a part of this questeo. charles sourted the syit and follow, you deaghat book. as a  it present to me and just str're dire boont to do if you already ades the python internition in the appreacato. this. i'm underfully  do this spine use work only t\n",
      "\n",
      "Epoch 00076: loss did not improve from 0.81552\n",
      "Epoch 77/100\n",
      "2362/2362 [==============================] - 37s 16ms/step - loss: 0.8059 - accuracy: 0.7548 - val_loss: 1.1282 - val_accuracy: 0.6879\n",
      "\n",
      "----- Generating text after Epoch: 76\n",
      "----- diversity: 0.2\n",
      "----- Generating with seed: \"roject. and lots of thanks.   \"a great foundation course to get your started on python.  for me, it \"\n",
      "roject. and lots of thanks.   \"a great foundation course to get your started on python.  for me, it was a great teacher is very interesting and presented and i was able to complete the course and i would recommend this course to anyone who wants to learn python to understand and the way the course is a great teacher who have no prior knowledge of python and the professor is very well as the best course and i was able to wrenne the best course for beginner language. the course has been dear  the \n",
      "----- diversity: 0.5\n",
      "----- Generating with seed: \"roject. and lots of thanks.   \"a great foundation course to get your started on python.  for me, it \"\n",
      "roject. and lots of thanks.   \"a great foundation course to get your started on python.  for me, it make the professor is very easy to understand and the assignments are concepts in a well-desigge the course that a professor save a to the explanations are very interesting and enthusiastic and well and the videos and coursera course at a programming leanding and easy to understand and the worth it with experience with python, the course is so interesting and explained and think the course very mu\n",
      "----- diversity: 1.0\n",
      "----- Generating with seed: \"roject. and lots of thanks.   \"a great foundation course to get your started on python.  for me, it \"\n",
      "roject. and lots of thanks.   \"a great foundation course to get your started on python.  for me, it it need i found a recommend this course to sbunk procely for beginners but if high sensor is great, i plan to learn to work. the course was vissoss which whan me a lot the extremely geneot, course where the way the explanation that online course i understand the basics of wholeasmer unique cearse examples to enroll his were definitely took \" \"any studying of python and very little course, humoroul\n",
      "----- diversity: 1.2\n",
      "----- Generating with seed: \"roject. and lots of thanks.   \"a great foundation course to get your started on python.  for me, it \"\n",
      "roject. and lots of thanks.   \"a great foundation course to get your started on python.  for me, it was the basics by the examples, studed are spending professor jectore.are comfortable for beginnerfly. whendered all.  \"the professor takes looks have each lecture: from very fast, but useful course  galgable, easy to level to start. you of writt coowse things giving sheppinges this cuarrrers.i really have been python, dr. charles severance could expeniint language my teach usiver comprehen. i lik\n",
      "\n",
      "Epoch 00077: loss did not improve from 0.81552\n",
      "Epoch 78/100\n",
      "2362/2362 [==============================] - 37s 16ms/step - loss: 0.8054 - accuracy: 0.7545 - val_loss: 1.1236 - val_accuracy: 0.6876\n",
      "\n",
      "----- Generating text after Epoch: 77\n",
      "----- diversity: 0.2\n",
      "----- Generating with seed: \"ow. helps the people with no programming background get into the field of programming. its interacti\"\n",
      "ow. helps the people with no programming background get into the field of programming. its interacting and it is a good started for beginners. the instructor is very good start to programming languages been professor chuck is a great course for anyone who wants to learn python and interactive and fun and the best thing is sometimes of programming and this course is a great course. i am looking forward to learn python and it is a great course for anyone who wants to learn python and interesting a\n",
      "----- diversity: 0.5\n",
      "----- Generating with seed: \"ow. helps the people with no programming background get into the field of programming. its interacti\"\n",
      "ow. helps the people with no programming background get into the field of programming. its interactive and easily use to really good and possible for beginners and the way the textbiok, for assignments and the videos are very confident to learn more about the lectures which starts are also provided before i was able to complete this course that is a good started with python or any other programming language in python. the professor is a very good course with programming. i also learnt how to do \n",
      "----- diversity: 1.0\n",
      "----- Generating with seed: \"ow. helps the people with no programming background get into the field of programming. its interacti\"\n",
      "ow. helps the people with no programming background get into the field of programming. its interactive with the working of python for me acpoon for your findoution is of coursera consist\"\"of i have a recommen who doesn't think on o fell-beginners programming language, one of thore who learn no experience in the code makes you tyre going to me other pause with the lessons. the course two me it easy, dr. chuck has must awast interesting and softor and want to learn python to programming in general\n",
      "----- diversity: 1.2\n",
      "----- Generating with seed: \"ow. helps the people with no programming background get into the field of programming. its interacti\"\n",
      "ow. helps the people with no programming background get into the field of programming. its interactive ,i course only hadive and just somearic course, by untereduier for students.this is soom. but the assift on a mucining my finds. i had more comment profcession that it takes you in alonnable. there are ofts other learning my first teaching. very welc, if you need it necessary i havinged through suctiefly best successfully. to each challenxis makes. the way it is better for someone who are somet\n",
      "\n",
      "Epoch 00078: loss did not improve from 0.81552\n",
      "Epoch 79/100\n",
      "2362/2362 [==============================] - 38s 16ms/step - loss: 0.8059 - accuracy: 0.7556 - val_loss: 1.1252 - val_accuracy: 0.6879\n",
      "\n",
      "----- Generating text after Epoch: 78\n",
      "----- diversity: 0.2\n",
      "----- Generating with seed: \"te it in  -  weeks. \" \"very good introduction to python. dr chuck is a very friendly, affable teache\"\n",
      "te it in  -  weeks. \" \"very good introduction to python. dr chuck is a very friendly, affable teacher. i recommend this course to anyone who wants to start learning python and interesting to learn python. i am so ference of programming and the assignments are very helpful for a beginner  this course is very helpful. and i had a great teacher is a great course for those who are new to programming. thanks to the instructor is very helpful for me to learn python. \" \"i have not gives you to know any\n",
      "----- diversity: 0.5\n",
      "----- Generating with seed: \"te it in  -  weeks. \" \"very good introduction to python. dr chuck is a very friendly, affable teache\"\n",
      "te it in  -  weeks. \" \"very good introduction to python. dr chuck is a very friendly, affable teacher. i really like the course for anyone who wants to start learning process. this course can be also helpful advantabyent study with an and you will never so many courses on coursera course to begin language   in this course and the way he explains the way the course is very helpful. but the way he explainning quizzes, thank you more for providing me this one of the such and how way that coursera i\n",
      "----- diversity: 1.0\n",
      "----- Generating with seed: \"te it in  -  weeks. \" \"very good introduction to python. dr chuck is a very friendly, affable teache\"\n",
      "te it in  -  weeks. \" \"very good introduction to python. dr chuck is a very friendly, affable teacher. if you know with python for those who able to wruch do\" for you miguln happe. looking forward to make this course on their to learn python is one of the basics of python programming..as the course for beginners to people who wort and the overus easially, the wanderefbetelfe and the lessons are would look youts espectine. for me. you starts if you take my just  my first time other courses as the\n",
      "----- diversity: 1.2\n",
      "----- Generating with seed: \"te it in  -  weeks. \" \"very good introduction to python. dr chuck is a very friendly, affable teache\"\n",
      "te it in  -  weeks. \" \"very good introduction to python. dr chuck is a very friendly, affable teacher, this course makest very helpful!!\" \"very difficuly,d. we knows, to recommend you grasp bookners. so much through,target browd.  this course is point , thank you so much wollow certifrical, i stry this was a progressity in the next given me so next, but attemprsions. so more that i day writement in the fuatlie, a jata through., showpobuce before even if learning more very completely dinished the\n",
      "\n",
      "Epoch 00079: loss improved from 0.81552 to 0.81531, saving model to /content/gdrive/My Drive/Capstone/Data/\n",
      "Epoch 80/100\n",
      "2362/2362 [==============================] - 38s 16ms/step - loss: 0.8064 - accuracy: 0.7549 - val_loss: 1.1301 - val_accuracy: 0.6870\n",
      "\n",
      "----- Generating text after Epoch: 79\n",
      "----- diversity: 0.2\n",
      "----- Generating with seed: \" variables and values as they change. and i believe this would make it much more clear to new softwa\"\n",
      " variables and values as they change. and i believe this would make it much more clear to new software this course and i am very easy to learn any looking to learn python and interesting and i have been it easy to understand with any programming language and the assignments are also a great course for the beginners who wants to learn python and interesting and i was able to complete the course and i was able to complete the course and i have been interested to learn python. the course is a great\n",
      "----- diversity: 0.5\n",
      "----- Generating with seed: \" variables and values as they change. and i believe this would make it much more clear to new softwa\"\n",
      " variables and values as they change. and i believe this would make it much more clear to new software the concepts with no programming language and the instructor is a great experience in python their in other languages without any programming language and the way python.  \" \"course what is awesome, i am really good also i coment the funder, i highly recommend this course to anyone who wants to learn python. the concepts of python and i was able to complete the course is a good explaining the w\n",
      "----- diversity: 1.0\n",
      "----- Generating with seed: \" variables and values as they change. and i believe this would make it much more clear to new softwa\"\n",
      " variables and values as they change. and i believe this would make it much more clear to new software to think amanedy.  the bore is instilling to understand the course on python. great overctual, materials, may? his absolute abletift examples and the assignment, jon inviluarly speakful. it is an amather. i learnt. \"it was really gives the fines to fundamion to exack of time.  \"reelly grateful to successfrisiceming!' \" \"it is by but all the work  i am every engles language, brhede this course c\n",
      "----- diversity: 1.2\n",
      "----- Generating with seed: \" variables and values as they change. and i believe this would make it much more clear to new softwa\"\n",
      " variables and values as they change. and i believe this would make it much more clear to new softwares me want to learn programming.\" \"im just to pregarly really getton : which not late many at slyinan mostomany course i've lookes down then the course wish comes says of a programs  i am a big happy this fort moving and yests ato phital vear programming for makinitial  of has sate the instructor, hr constpich sees if you have you those who have no beggest to program us domatic course. dr. charle\n",
      "\n",
      "Epoch 00080: loss improved from 0.81531 to 0.81501, saving model to /content/gdrive/My Drive/Capstone/Data/\n",
      "Epoch 81/100\n",
      "2362/2362 [==============================] - 38s 16ms/step - loss: 0.8039 - accuracy: 0.7549 - val_loss: 1.1273 - val_accuracy: 0.6891\n",
      "\n",
      "----- Generating text after Epoch: 80\n",
      "----- diversity: 0.2\n",
      "----- Generating with seed: \"one of the great course i've ever had dr chuck's methodlogy is one of the amazing i've encountred in\"\n",
      "one of the great course i've ever had dr chuck's methodlogy is one of the amazing i've encountred interally and programming language and it was a great course. i had no programming background is and detailed and i found it and interesting and programming experience in python. the course is a great course for beginners and the way they who do it wonderful course for those who are so continue to the course in programming language and programming language in the course is a great course for beginne\n",
      "----- diversity: 0.5\n",
      "----- Generating with seed: \"one of the great course i've ever had dr chuck's methodlogy is one of the amazing i've encountred in\"\n",
      "one of the great course i've ever had dr chuck's methodlogy is one of the amazing i've encountred into the python programming language, and the assignments are also confidence and i think its a beginner who doking the course. i had the best programming course for beginners is so far.  the course is a great course for beginners. i am so interesting was a great start for beginners which makes it easy to understand python for those who are loop who he's a great start for those who do it allow you w\n",
      "----- diversity: 1.0\n",
      "----- Generating with seed: \"one of the great course i've ever had dr chuck's methodlogy is one of the amazing i've encountred in\"\n",
      "one of the great course i've ever had dr chuck's methodlogy is one of the amazing i've encountred interesting and especially in a coupse my incredible for me i book  by understandable dumor.\" thank you for guider the classes everything is absolutely learned about charles noghap to be experience.  the best started course with put somethe in sif you who is completely programming. he clearly a lot of explaining the choose. instructor reshemmed anyone is the mataring , weeks. the instructor is a cou\n",
      "----- diversity: 1.2\n",
      "----- Generating with seed: \"one of the great course i've ever had dr chuck's methodlogy is one of the amazing i've encountred in\"\n",
      "one of the great course i've ever had dr chuck's methodlogy is one of the amazing i've encountred interviewats incouding to anyone who can get for beginner programmers, exercisess are tech.i revie's so much as well.  i every ailly i efthing to swart start suige how the are write python now,  this was mymely to fat oble included this firsttione too,  ando sewwo sponu clasf vicing , data scieqce for minaged. complemele do i hight entaghiting.the ways to enjoy! highly great!\" dr. severance to worrr\n",
      "\n",
      "Epoch 00081: loss improved from 0.81501 to 0.81393, saving model to /content/gdrive/My Drive/Capstone/Data/\n",
      "Epoch 82/100\n",
      "2362/2362 [==============================] - 38s 16ms/step - loss: 0.7992 - accuracy: 0.7560 - val_loss: 1.1280 - val_accuracy: 0.6881\n",
      "\n",
      "----- Generating text after Epoch: 81\n",
      "----- diversity: 0.2\n",
      "----- Generating with seed: \"e i give to thanks to mr charles russell severance who give me a lot of knowledge about the python. \"\n",
      "e i give to thanks to mr charles russell severance who give me a lot of knowledge about the python. i would recommend this course to anyone who wants to learn python programming language and the assignments are very useful and solving and concepts for the course and i think it was a great teacher is very good at the steppbet and the assignments are very interesting and i would like to start learning python by the instructor was a great course for beginners and so assignments are very interesting\n",
      "----- diversity: 0.5\n",
      "----- Generating with seed: \"e i give to thanks to mr charles russell severance who give me a lot of knowledge about the python. \"\n",
      "e i give to thanks to mr charles russell severance who give me a lot of knowledge about the python. i have been i feel like for the next course by the instructor is really good and i think it was a good for beginners with python programming language. the lectures are excellent lent and get in a                                                                                                                                                                                                             \n",
      "----- diversity: 1.0\n",
      "----- Generating with seed: \"e i give to thanks to mr charles russell severance who give me a lot of knowledge about the python. \"\n",
      "e i give to thanks to mr charles russell severance who give me a lot of knowledge about the python. simp-topic has yourst other studies! i recommended this course and best! i am very screence all my, which can bese it guiding the course is a great topically everything very walk a flieally in gaightim course now, for me handifgem to extcoon has well conficuse that dre courle has need to understand that i am an excellent course to start level.  i love that dr. chuck!\" it's great intro very good an\n",
      "----- diversity: 1.2\n",
      "----- Generating with seed: \"e i give to thanks to mr charles russell severance who give me a lot of knowledge about the python. \"\n",
      "e i give to thanks to mr charles russell severance who give me a lot of knowledge about the python. givipations were now for this course.\" \"figld course is discussfore everyt learding. i likely known of the busidforically to use vin on to trie from p ystacl and other course i salts a programmed in amazy, like lice and have problem and how courses! charles :or  \" an want to date surci compintors is took \" \"has been stirld. it's really helpfu! on was good espective, lots accood class.and this one \n",
      "\n",
      "Epoch 00082: loss improved from 0.81393 to 0.81376, saving model to /content/gdrive/My Drive/Capstone/Data/\n",
      "Epoch 83/100\n",
      "2362/2362 [==============================] - 39s 16ms/step - loss: 0.8055 - accuracy: 0.7540 - val_loss: 1.1281 - val_accuracy: 0.6877\n",
      "\n",
      "----- Generating text after Epoch: 82\n",
      "----- diversity: 0.2\n",
      "----- Generating with seed: \" more ways than one.\" \"this course is pretty friendly and suitable to a novice like me. the professo\"\n",
      " more ways than one.\" \"this course is pretty friendly and suitable to a novice like me. the professor is very good and easy to understand and i have a great teacher and also it is a great course for those who have no programming background is very clear and i was able to complete the next coursera course and the course without any programming language is continuic. it was very good and provided and programming language in a very helpful for a programming language and i would like to thank dr. ch\n",
      "----- diversity: 0.5\n",
      "----- Generating with seed: \" more ways than one.\" \"this course is pretty friendly and suitable to a novice like me. the professo\"\n",
      " more ways than one.\" \"this course is pretty friendly and suitable to a novice like me. the professor i learned the concepts with the end of everything some material is one of the best course and the teacher is very clear with python is really a programming language for study from beginner from a new to programming to complete it so those chapter course on python in the students were, i was able to complete this course and would like to thank the instructor has been done the basic of python and \n",
      "----- diversity: 1.0\n",
      "----- Generating with seed: \" more ways than one.\" \"this course is pretty friendly and suitable to a novice like me. the professo\"\n",
      " more ways than one.\" \"this course is pretty friendly and suitable to a novice like me. the professor is very nice specially.  \" it was a part. dr charles's you good and i did not start  \" \"everything ob the course is very invoof where i really learn any himplesses will just start the professor is simple and proper and want to take : \" \"best course and the  this is the mat of definition about by as if you are like to just severance of opt of duy so many ctuight it really helpful knows a non inst\n",
      "----- diversity: 1.2\n",
      "----- Generating with seed: \" more ways than one.\" \"this course is pretty friendly and suitable to a novice like me. the professo\"\n",
      " more ways than one.\" \"this course is pretty friendly and suitable to a novice like me. the professor is just take this course wank questoonars ic nice,   study of lutily bore to.the lecturer's really confused in didn any lookon to-not sometimes\"\"\"my certof dable, in partics very questormselp to make the can tide of programming. who hanking eaver learning python. i started the course befis difficulty orgever full life programmer no organity congrise and you just written mide this is tworoughoutd\n",
      "\n",
      "Epoch 00083: loss improved from 0.81376 to 0.81224, saving model to /content/gdrive/My Drive/Capstone/Data/\n",
      "Epoch 84/100\n",
      "2362/2362 [==============================] - 38s 16ms/step - loss: 0.8002 - accuracy: 0.7554 - val_loss: 1.1272 - val_accuracy: 0.6880\n",
      "\n",
      "----- Generating text after Epoch: 83\n",
      "----- diversity: 0.2\n",
      "----- Generating with seed: \"is an amazing teacher.he explains the concepts with a bit of wit and humor,by this course i have lea\"\n",
      "is an amazing teacher.he explains the concepts with a bit of wit and humor,by this course i have learned the programming in a weeks and computer science and the assignments are very interesting course i have ever had for programming background is an excellent teacher. i am so interesting to learn python by the instructor is a great teacher is one of the best course with python. the instructor is a great introduction to python and the course is a great teacher is one of the best course i have eve\n",
      "----- diversity: 0.5\n",
      "----- Generating with seed: \"is an amazing teacher.he explains the concepts with a bit of wit and humor,by this course i have lea\"\n",
      "is an amazing teacher.he explains the concepts with a bit of wit and humor,by this course i have learnt a lot  \"\"great course for beginners.  the teacher is excellent and its completed a lot of experience to learn where the course is a both mentors are also the assignments and the way my understanding of the python language and i am a student in just to teach it makes it easy and confident to learn python that it was a great course for beginners. the instructor is excellent and interesting way t\n",
      "----- diversity: 1.0\n",
      "----- Generating with seed: \"is an amazing teacher.he explains the concepts with a bit of wit and humor,by this course i have lea\"\n",
      "is an amazing teacher.he explains the concepts with a bit of wit and humor,by this course i have learned the class to my futune the \"\"programming for samiliare to the courses and complete it was a beginner videos specifustry teacher! i'm to makes the only naich to course resugned and computer science. the basics of python, the tuinem allowing mentious like me, at all programming for everybody \"awesome i am excelted struggle. i recommend it to idever efficed to know i've thought you are learned a\n",
      "----- diversity: 1.2\n",
      "----- Generating with seed: \"is an amazing teacher.he explains the concepts with a bit of wit and humor,by this course i have lea\"\n",
      "is an amazing teacher.he explains the concepts with a bit of wit and humor,by this course i have learned whromak me fild it is findine your basics in bidising who can understond in a lighter. this course from same iflying and the tutoripura thanked,.the profe. it will hald really really greate miching last coursera! i also lote with nothen so avaiteld, it helps\" \"something from execctspather, i will fiz do it with python - xtwancs, prace cousse, i cannot and your finun time of code before. i do \n",
      "\n",
      "Epoch 00084: loss improved from 0.81224 to 0.81110, saving model to /content/gdrive/My Drive/Capstone/Data/\n",
      "Epoch 85/100\n",
      "2362/2362 [==============================] - 38s 16ms/step - loss: 0.8009 - accuracy: 0.7564 - val_loss: 1.1358 - val_accuracy: 0.6863\n",
      "\n",
      "----- Generating text after Epoch: 84\n",
      "----- diversity: 0.2\n",
      "----- Generating with seed: \"rnt a lot. i feel a lot more confident to take the next python course now. this is the best beginner\"\n",
      "rnt a lot. i feel a lot more confident to take the next python course now. this is the best beginners. the course is a great and i would dificiality of programming and the assignments are also very good course for those who are so continue to start learning python and interviews with no prior programming and the assignments are also confident to program and this course is a great course is a great teacher. highly recommend this course to start learning python and python and programming in genera\n",
      "----- diversity: 0.5\n",
      "----- Generating with seed: \"rnt a lot. i feel a lot more confident to take the next python course now. this is the best beginner\"\n",
      "rnt a lot. i feel a lot more confident to take the next python course now. this is the best beginners. this course helped me and so easy to learn and it's a great for those who have never for a little programming background is explained that is a way that continue lectures and the course was very clear whateront instilming and i would like to give it and instracks. i am really gitty the teacher however, the teaching materials are at teaching is a great teacher, and the teacher knowledge of pytho\n",
      "----- diversity: 1.0\n",
      "----- Generating with seed: \"rnt a lot. i feel a lot more confident to take the next python course now. this is the best beginner\"\n",
      "rnt a lot. i feel a lot more confident to take the next python course now. this is the best beginners. to recommend this to anyone wisher had anything what is a course with all ow learning programming and all with a litten the basics of python now, i'm a beginner who want to learn how too appluite my. \" \"a real there servesing demin programming and online and this one can explain fun! i can through of coding and explains everytodual. go. .week pacentrachings.when has heart before, movicalfe show\n",
      "----- diversity: 1.2\n",
      "----- Generating with seed: \"rnt a lot. i feel a lot more confident to take the next python course now. this is the best beginner\"\n",
      "rnt a lot. i feel a lot more confident to take the next python course now. this is the best beginners. the introd contents severaded entlytwnit\"\" great course. overall, timently fun course was very helpful. it was buy the founcting programming meants. difficuled.theilly recommend!though of jums-op pointfully learn able to do! \"\"was seeve mall.mone with from a little both mistered but provided about python\" well, or  as the assignments are discussion, i can course follow, and gain me do bons of p\n",
      "\n",
      "Epoch 00085: loss improved from 0.81110 to 0.81080, saving model to /content/gdrive/My Drive/Capstone/Data/\n",
      "Epoch 86/100\n",
      "2362/2362 [==============================] - 37s 16ms/step - loss: 0.8026 - accuracy: 0.7539 - val_loss: 1.1381 - val_accuracy: 0.6875\n",
      "\n",
      "----- Generating text after Epoch: 85\n",
      "----- diversity: 0.2\n",
      "----- Generating with seed: \" assignments without too much trouble. i am really so proud to be one of those who had finished this\"\n",
      " assignments without too much trouble. i am really so proud to be one of those who had finished this course i have ever had for beginners and the assignments are also a great teacher is very interesting and explained and i would recommend this course to anyone who wants to learn python and interesting and explains everything is a programming language. the course is a beginner to learn python and interesting and excellent and decinnic course. i had the way the course also helped me to understand \n",
      "----- diversity: 0.5\n",
      "----- Generating with seed: \" assignments without too much trouble. i am really so proud to be one of those who had finished this\"\n",
      " assignments without too much trouble. i am really so proud to be one of those who had finished this course well as a solid or overwaid learners but i started to start learning python by the instructors i have to be be coding experience in the course and very easy to understand and i do understand what i loved the course i have a great teacher, so we connempice course i enjoyed the material and assignments are area coursera and i would hele to learn all the specialization, and the explanation of\n",
      "----- diversity: 1.0\n",
      "----- Generating with seed: \" assignments without too much trouble. i am really so proud to be one of those who had finished this\"\n",
      " assignments without too much trouble. i am really so proud to be one of those who had finished this course was a great course \" \"incelsser is to have justredive, i am a mate.thank you very und, i mangure before. i think this course is very each c hate's, but i cau discare to a new programming leande.\" provide   of the specialization all inget at out jove it to fille to know more about the language specially they are an intenly good spacess.and the instructor just many for up the best now.i am i\n",
      "----- diversity: 1.2\n",
      "----- Generating with seed: \" assignments without too much trouble. i am really so proud to be one of those who had finished this\"\n",
      " assignments without too much trouble. i am really so proud to be one of those who had finished this fitlwor right..this is a great slow you had read more studying  a you get in the first course by aspect so feet a made me compineering programming exercisera programming to the python learning course. charles dractuclass mainsteven in this secous,i spent to learn python backs. or if you don't get be a felibed  days find it of doesern't rewiteful to inco python for the over classs for pithing pyth\n",
      "\n",
      "Epoch 00086: loss improved from 0.81080 to 0.81073, saving model to /content/gdrive/My Drive/Capstone/Data/\n",
      "Epoch 87/100\n",
      "2362/2362 [==============================] - 38s 16ms/step - loss: 0.7965 - accuracy: 0.7573 - val_loss: 1.1342 - val_accuracy: 0.6868\n",
      "\n",
      "----- Generating text after Epoch: 86\n",
      "----- diversity: 0.2\n",
      "----- Generating with seed: \"me book .tip : write down in your text editor all the codes and try to run-test every example to fas\"\n",
      "me book .tip : write down in your text editor all the codes and try to run-test every example to fast the python course i have ever had for beginners and the explanation is the best course i have ever had for beginners and the way they wantered, to start learning python and i will get be confidence in the course is a great course. the teacher is a great to understand the concepts in a well as the best course in the course. i am very good and engaged the concepts in a well as the best course and \n",
      "----- diversity: 0.5\n",
      "----- Generating with seed: \"me book .tip : write down in your text editor all the codes and try to run-test every example to fas\"\n",
      "me book .tip : write down in your text editor all the codes and try to run-test every example to fast of the course. \" \"it is a great teacher and i am a mate in coursera course and the explanation material is enthusiast in geneing starting this course and the course is workeral to make it suitable to this wonderful course to experience professor charles severance is an amazing time to learn more and explains everything in coursera course i have ever had for programming background is and that i d\n",
      "----- diversity: 1.0\n",
      "----- Generating with seed: \"me book .tip : write down in your text editor all the codes and try to run-test every example to fas\"\n",
      "me book .tip : write down in your text editor all the codes and try to run-test every example to fast the python studying python teaches behind the boouc lay that to each me to program. i think the addition, easy to teld on ofe as much in intence and like the exercises of programming effects . sensoos, to solve to dr. chuck. i am so e school, what he has a great teaches a fee beciame all entire course was a week on the recourd for a beginner. python and highly rechore is quite is does a course. \n",
      "----- diversity: 1.2\n",
      "----- Generating with seed: \"me book .tip : write down in your text editor all the codes and try to run-test every example to fas\"\n",
      "me book .tip : write down in your text editor all the codes and try to run-test every example to fast and on in very wondere you'll to wrige\"\" \"lasb, a great stuff, refor's help set a thought outsialiot that arread.\" charles te. seems that course.\" have simpre ara fur goos allow gate in a python language at all, forive us how \"\"ynu\" a fanion which attentios and keeps you have fun chastem to deay theoret a computer science courses i found alogh to teach python from the python from what it was not\n",
      "\n",
      "Epoch 00087: loss improved from 0.81073 to 0.80807, saving model to /content/gdrive/My Drive/Capstone/Data/\n",
      "Epoch 88/100\n",
      "2362/2362 [==============================] - 38s 16ms/step - loss: 0.8034 - accuracy: 0.7557 - val_loss: 1.1406 - val_accuracy: 0.6846\n",
      "\n",
      "----- Generating text after Epoch: 87\n",
      "----- diversity: 0.2\n",
      "----- Generating with seed: \" \" \"although it was an online class , but the way it was presented made it interactive and interesti\"\n",
      " \" \"although it was an online class , but the way it was presented made it interactive and interesting and the basic introduction to python and this course is a really good and the assignments are also very good at a programming language and the assignments are very interesting and i have a great teacher who hes in ending if you already ades the concepts and start for those who wants to learn python and interesting and the way he teaches and the assignments are very interesting and interesting a\n",
      "----- diversity: 0.5\n",
      "----- Generating with seed: \" \" \"although it was an online class , but the way it was presented made it interactive and interesti\"\n",
      " \" \"although it was an online class , but the way it was presented made it interactive and interesting and it discussion for beginners. the instructor is a very good course for beginners. i also love this course and the course is also very good for beginners in coursera in this course. i am a mate that i could toll starting this course so much thank you for the best online coursera for the best course in the course is still specially to understand what immorif things through the code in python a\n",
      "----- diversity: 1.0\n",
      "----- Generating with seed: \" \" \"although it was an online class , but the way it was presented made it interactive and interesti\"\n",
      " \" \"although it was an online class , but the way it was presented made it interactive and interesting and related the course.....this is really in ending to learn to have a per didn't he has love in one confinu one worth it..highly recommended were coon and textbook style python that is gondation or can pass aid by command python python; dr. charles. it may do new. \"if you are very well salting to some what cempach and easy to enroll, he does your for a necosm but this course professor. dr. chu\n",
      "----- diversity: 1.2\n",
      "----- Generating with seed: \" \" \"although it was an online class , but the way it was presented made it interactive and interesti\"\n",
      " \" \"although it was an online class , but the way it was presented made it interactive and interesting endageros!\"  gleaks -pariered and if you have zar-learning. prof severance. he team knowledge in jay i've done the information to runkic is shollowe, the contentrod gerdine\" proorlable for dererd in programming from programming skills and starting that that mentors,are variew into these course. i would like to structure is hava veco prior spotes maybs lot simequably for temm; but   frwhikel. th\n",
      "\n",
      "Epoch 00088: loss did not improve from 0.80807\n",
      "Epoch 89/100\n",
      "2362/2362 [==============================] - 36s 15ms/step - loss: 0.8020 - accuracy: 0.7558 - val_loss: 1.1351 - val_accuracy: 0.6864\n",
      "\n",
      "----- Generating text after Epoch: 88\n",
      "----- diversity: 0.2\n",
      "----- Generating with seed: \" lot out of this course.\" the contents of this course is quite detailed. very suitable for beginners\"\n",
      " lot out of this course.\" the contents of this course is quite detailed. very suitable for beginners. the instructor is very helpful for me to start learning python and this course is a great course. thanks coursera and the course and coursera and dr. chuck for this course. i am very extrooly never in a way that is a bit of start in python and interesting and explained in general programming language and the assignments are also very good and easy to understand and the professor is very easy to \n",
      "----- diversity: 0.5\n",
      "----- Generating with seed: \" lot out of this course.\" the contents of this course is quite detailed. very suitable for beginners\"\n",
      " lot out of this course.\" the contents of this course is quite detailed. very suitable for beginners.  \"  this course is great for me in the specialization can also taken suited to be curven this course to learn python that is an excellent course for and assignments are presentable. \" \"it is a great placentor to explains this course is gont and python level on great. when you got a non programming and the teacher is a really good introduction to python and with python programming language and th\n",
      "----- diversity: 1.0\n",
      "----- Generating with seed: \" lot out of this course.\" the contents of this course is quite detailed. very suitable for beginners\"\n",
      " lot out of this course.\" the contents of this course is quite detailed. very suitable for beginners. as reference the place to explain versual class of comment with prof. \" this is a great does not mate through at anyone there learning python to enroll is really really write but tome by the course, i would high loking more experience      also, and was excited to smuch other codes of communiated.\" \"it is very   course i also lived a naxe edrable series to enur course for online. \" \"a greak but \n",
      "----- diversity: 1.2\n",
      "----- Generating with seed: \" lot out of this course.\" the contents of this course is quite detailed. very suitable for beginners\"\n",
      " lot out of this course.\" the contents of this course is quite detailed. very suitable for beginners accessible..thank you shorts y clarial python, dr. charles made manner thin this is trying to be a he is suitable professor severance easy more as sime. the onto give me.. i would doe read every enribicated  thtss of but and it work students. laint forum is completely learn the best.. no only highly and material  frwesor will supe if chanked him this specifins,  i do this course of python, it's s\n",
      "\n",
      "Epoch 00089: loss improved from 0.80807 to 0.80779, saving model to /content/gdrive/My Drive/Capstone/Data/\n",
      "Epoch 90/100\n",
      "2362/2362 [==============================] - 36s 15ms/step - loss: 0.7951 - accuracy: 0.7567 - val_loss: 1.1320 - val_accuracy: 0.6882\n",
      "\n",
      "----- Generating text after Epoch: 89\n",
      "----- diversity: 0.2\n",
      "----- Generating with seed: \"rience its fun learning this course and its a new way i had learned its a better way to learn anythi\"\n",
      "rience its fun learning this course and its a new way i had learned its a better way to learn anything about python and i also like the concepts with python for everybody is a good and interesting and i have taken and complete the concepts in a student in a compater some concepts in python for me. i also like a lot of experience with python for everybody is the best to help you that many your time and i am a great teacher is very interesting and i was able to complete this course i am a student \n",
      "----- diversity: 0.5\n",
      "----- Generating with seed: \"rience its fun learning this course and its a new way i had learned its a better way to learn anythi\"\n",
      "rience its fun learning this course and its a new way i had learned its a better way to learn anything about the program. \" \"i have a lott of the lectures help and any programming for everybody. it is very interesting that even in this course who has no programming background who got the course. i also love the next one can be to know the videos and its lovel course of programming. i have never one count many anoger to programming for everybody is the best programming course for beginners. the c\n",
      "----- diversity: 1.0\n",
      "----- Generating with seed: \"rience its fun learning this course and its a new way i had learned its a better way to learn anythi\"\n",
      "rience its fun learning this course and its a new way i had learned its a better way to learn anything about a language that was a very besth tethes concepts information and also the basics of journey confident that charles is very extremely difficulted get by selfor style very clear to contunk mestignments and the inturiciance but have done it   lot, prof. charles severance's stepp next of the only can't wile something was excited to when the though he has great the own neptrisy overall for sta\n",
      "----- diversity: 1.2\n",
      "----- Generating with seed: \"rience its fun learning this course and its a new way i had learned its a better way to learn anythi\"\n",
      "rience its fun learning this course and its a new way i had learned its a better way to learn anything teagh. the instructor has all appriaual tought for goiguage that anybody syotle skills through. this course is helpful if this course didn of the universityes aigled. hope, you are python programming python industance and when i pass showpage speciles do hope\" \"this is buy why abso-then i usefun't doct-of the instructor taught many suawe    d  mr. charles everyt. i thought wryntully loved to ta\n",
      "\n",
      "Epoch 00090: loss did not improve from 0.80779\n",
      "Epoch 91/100\n",
      "2362/2362 [==============================] - 36s 15ms/step - loss: 0.8037 - accuracy: 0.7551 - val_loss: 1.1343 - val_accuracy: 0.6866\n",
      "\n",
      "----- Generating text after Epoch: 90\n",
      "----- diversity: 0.2\n",
      "----- Generating with seed: \" believe.besides, thank you, dr. charles!!!  \" \"i found the course very useful, but faced problem wi\"\n",
      " believe.besides, thank you, dr. charles!!!  \" \"i found the course very useful, but faced problem with python. the instructor is a great teacher is a great teacher. i had some of the teacher is very interesting and the supportation and the way he teaches and the way he teaches and the assignments are very interesting and programming in python and the professor is very helpful for me to start learning python and this course is really engaging and the instructor is very helpful and i am very thank\n",
      "----- diversity: 0.5\n",
      "----- Generating with seed: \" believe.besides, thank you, dr. charles!!!  \" \"i found the course very useful, but faced problem wi\"\n",
      " believe.besides, thank you, dr. charles!!!  \" \"i found the course very useful, but faced problem with python. the professor had a great teacher is beginner. it also good deepes becoures the instructor is awesome in the python language before i will make entwnetmons of python for everybody \"atting the concepts well awesome, but it's so far but in each stuffs the style through the course and concise is the best course with a couple of dr. charles severance is teaching and the instructor is very h\n",
      "----- diversity: 1.0\n",
      "----- Generating with seed: \" believe.besides, thank you, dr. charles!!!  \" \"i found the course very useful, but faced problem wi\"\n",
      " believe.besides, thank you, dr. charles!!!  \" \"i found the course very useful, but faced problem with python. coursera that my first courses they are looking forward to me un experience for very interesting!\" \"i loved the ticksional seemed and i feel thank you university of michigan. a\" \" \"the testy in the firct teacher is who doesn't have about about programming. i tuine wanting the first course. the instructor makes the way they to know more course! \" \"it's the quizzes!y the instructor dom, i\n",
      "----- diversity: 1.2\n",
      "----- Generating with seed: \" believe.besides, thank you, dr. charles!!!  \" \"i found the course very useful, but faced problem wi\"\n",
      " believe.besides, thank you, dr. charles!!!  \" \"i found the course very useful, but faced problem with littenticillets were..,way. \" \"great course is new in things joy, but very well and know in the data co smate side. getty language of programming with computer programming.\" \"i regoll clear automatime.\" \"it is easy to look, but it was a way - his it's great! i think the paces !! thanks the ise that continue from about python in by ourde for  saye. it didi for beginner,  in interest new there ca\n",
      "\n",
      "Epoch 00091: loss did not improve from 0.80779\n",
      "Epoch 92/100\n",
      "2362/2362 [==============================] - 36s 15ms/step - loss: 0.7912 - accuracy: 0.7581 - val_loss: 1.1421 - val_accuracy: 0.6855\n",
      "\n",
      "----- Generating text after Epoch: 91\n",
      "----- diversity: 0.2\n",
      "----- Generating with seed: \"ammer, you can skip the reading and watch the lectures until you hit material that is more challengi\"\n",
      "ammer, you can skip the reading and watch the lectures until you hit material that is more challenging and helpful with the course. thanks to coursera for have for beginners in python. the course is a great teacher is very interesting and programming experience and i was able to complete this course i have taken a lot of the course. thanks to the instructor is a great teacher as the best course i have taken a lot of experience working and i was able to complete this course i can learn python for\n",
      "----- diversity: 0.5\n",
      "----- Generating with seed: \"ammer, you can skip the reading and watch the lectures until you hit material that is more challengi\"\n",
      "ammer, you can skip the reading and watch the lectures until you hit material that is more challenging. domant a simple and i would like to start learning python and computer science and entaging the course in a very engaging the concepts of python.                                                                                                                                                                                                                                                           \n",
      "----- diversity: 1.0\n",
      "----- Generating with seed: \"ammer, you can skip the reading and watch the lectures until you hit material that is more challengi\"\n",
      "ammer, you can skip the reading and watch the lectures until you hit material that is more challenging with lectures as the beginner but part of this python in   stay greate a team.  stalss about ritts beginner with more for those who know how coding exenuse. the instructor reselvional sate this was my beautialize!!! a so just thing is that us feeling lectures in programming with an absolute beginner in python. \" \"i am doiniting at the endion clears. the its of the course highly recommended!! i \n",
      "----- diversity: 1.2\n",
      "----- Generating with seed: \"ammer, you can skip the reading and watch the lectures until you hit material that is more challengi\"\n",
      "ammer, you can skip the reading and watch the lectures until you hit material that is more challenging. itsed.\" \"really encitred and concertionions. there. by the exercisess are longh the course. over out there best only idead, forum en course teaches a good.\" eghecise. most it is one as he takne morialms if it is easy holived or in  \"it was well done! has to improce to bots python were workentse requiredes likely the book for any part to the point, you careed to see but - cown view otherars are\n",
      "\n",
      "Epoch 00092: loss improved from 0.80779 to 0.80327, saving model to /content/gdrive/My Drive/Capstone/Data/\n",
      "Epoch 93/100\n",
      "2362/2362 [==============================] - 37s 16ms/step - loss: 0.7923 - accuracy: 0.7579 - val_loss: 1.1376 - val_accuracy: 0.6867\n",
      "\n",
      "----- Generating text after Epoch: 92\n",
      "----- diversity: 0.2\n",
      "----- Generating with seed: \"erience in education ever!!keep up the good work!! kindest regards finlay malherbe it is great being\"\n",
      "erience in education ever!!keep up the good work!! kindest regards finlay malherbe it is great being me was able to complete the course and the assignments are also class about the functions and i have ever had from the beginners.it was a great course for learning python and interesting and provides and i found the instructor is very clear and the assignments are also very good course for those who are start of the course. the instructor is very enthusiasm quation to the course. i am a mandable \n",
      "----- diversity: 0.5\n",
      "----- Generating with seed: \"erience in education ever!!keep up the good work!! kindest regards finlay malherbe it is great being\"\n",
      "erience in education ever!!keep up the good work!! kindest regards finlay malherbe it is great being and makes it easy to understand, this course was a great course. thank you for providing support in general.   \"this course is a wonderful course and the first online course i have been into this course while to take a programming language. the course was really a good course is a very good course for everyone who have a great job introduction to python  this course was easy to understand. i thin\n",
      "----- diversity: 1.0\n",
      "----- Generating with seed: \"erience in education ever!!keep up the good work!! kindest regards finlay malherbe it is great being\"\n",
      "erience in education ever!!keep up the good work!! kindest regards finlay malherbe it is great being a programming language and university, i struggled, i had no programming very basic python and engorsate this and would recommend to anything  this course quite the very finished question that completed to take this course for you. even in grachite that i am able to complete the lecture sobuck arrouthime at the offorms tely interesting, dr. chuck is not level tert.     very metto programming skil\n",
      "----- diversity: 1.2\n",
      "----- Generating with seed: \"erience in education ever!!keep up the good work!! kindest regards finlay malherbe it is great being\"\n",
      "erience in education ever!!keep up the good work!! kindest regards finlay malherbe it is great being especially, i really appreciate but jaid . rell and week using to jo that d, id not interested. it is one faysiou engineer. a good try intervided are regatilliage us way.this course excellent as this paspect. i never very ceptoful. 'h i'dgeut viden without wantitying course, i encouraged so  \"python make maybs\" dr.chuck i'm very enteredive i could never sequentiation. \"it was my first time progra\n",
      "\n",
      "Epoch 00093: loss did not improve from 0.80327\n",
      "Epoch 94/100\n",
      "2362/2362 [==============================] - 41s 17ms/step - loss: 0.7936 - accuracy: 0.7572 - val_loss: 1.1388 - val_accuracy: 0.6850\n",
      "\n",
      "----- Generating text after Epoch: 93\n",
      "----- diversity: 0.2\n",
      "----- Generating with seed: \"ed a lot with him. thank you so much and a lot of love.\" \"i started this course while looking to und\"\n",
      "ed a lot with him. thank you so much and a lot of love.\" \"i started this course while looking to understand and its a great course for the beginners. i am so very basic concepts and programming and the assignments are also a great teacher who want to learn python through the course and i was able to complete the language is teacher is very interesting and exciting start to learn python programming things in a well designed to learn python by there is better explained and also thank you for provi\n",
      "----- diversity: 0.5\n",
      "----- Generating with seed: \"ed a lot with him. thank you so much and a lot of love.\" \"i started this course while looking to und\"\n",
      "ed a lot with him. thank you so much and a lot of love.\" \"i started this course while looking to understand how to program. \" \"very good advanced and triss and study in a specially to code in programming. i am a made the material is really explained and i was able to learn python programming in python.  one of the best to the lectures were provided for providing sechish and he tesures ever the python programming languages, and what anyone who wants to learn python and this course is very helpful\n",
      "----- diversity: 1.0\n",
      "----- Generating with seed: \"ed a lot with him. thank you so much and a lot of love.\" \"i started this course while looking to und\"\n",
      "ed a lot with him. thank you so much and a lot of love.\" \"i started this course while looking to understand his outlon the motter so much happy us manster is begining python. the suppersed are wonderful, a sir charless whirh really relateding exervinity fiess.\" i would like to lisher my programmer, how to python. dr. chuck instructor who move learning python course while a bit on a stoping: ho'le and part of a commor\"\"\" this course will ghen the sterction all information and passical this formem\n",
      "----- diversity: 1.2\n",
      "----- Generating with seed: \"ed a lot with him. thank you so much and a lot of love.\" \"i started this course while looking to und\"\n",
      "ed a lot with him. thank you so much and a lot of love.\" \"i started this course while looking to understand again. i and lake up first introughall confidence, the is the drigre because the videos, then y the videos also helpful people in a cousm any pinorsity of lectures. i explain work learning my prillow to first time in the videos in oneing obutions, very out rithor, but i had amazing prof. in's preatly good. i'd are for charges! you can to read thank you somether \" his very basic lang progra\n",
      "\n",
      "Epoch 00094: loss did not improve from 0.80327\n",
      "Epoch 95/100\n",
      "2362/2362 [==============================] - 42s 18ms/step - loss: 0.7935 - accuracy: 0.7576 - val_loss: 1.1352 - val_accuracy: 0.6863\n",
      "\n",
      "----- Generating text after Epoch: 94\n",
      "----- diversity: 0.2\n",
      "----- Generating with seed: \".   \"the material is well packaged and presented for learners with no prior coding knowledge or expe\"\n",
      ".   \"the material is well packaged and presented for learners with no prior coding knowledge or experience working in the course. i am very my first course with anyone who wants to learn python but i really enjoyed this course. i will recommend this course to anyone who want to start to learn python and interesting and programming languages and the assignments are passion and programming languages and makes you the best course which is a really good and entertaining a study with python and progr\n",
      "----- diversity: 0.5\n",
      "----- Generating with seed: \".   \"the material is well packaged and presented for learners with no prior coding knowledge or expe\"\n",
      ".   \"the material is well packaged and presented for learners with no prior coding knowledge or experience learners   student\" \"this is a great course. i have learned from the basics of python with the programming before this course and the way of just to take a lot of teaching style botume of design is worth this course. i am that watching this course, best of the teacher who have no prior programming experience and computer science and helpful. and i really enjoyed this course. i would a great\n",
      "----- diversity: 1.0\n",
      "----- Generating with seed: \".   \"the material is well packaged and presented for learners with no prior coding knowledge or expe\"\n",
      ".   \"the material is well packaged and presented for learners with no prior coding knowledge or experience.  . i tipd a groded and 'r sobuty is explaining the computer world in the extroins: the materials. \"\" \"this out to except with python was definitely specially to python. charles's specifily supeed and learn this course. the frust the best way the basic concepts bearning the first coursera do enjoyed the world and requires to know began language the instruction makes with the problems in pyt\n",
      "----- diversity: 1.2\n",
      "----- Generating with seed: \".   \"the material is well packaged and presented for learners with no prior coding knowledge or expe\"\n",
      ".   \"the material is well packaged and presented for learners with no prior coding knowledge or expert! then which makes remomestic singe in de  and with explaininal engleshing of the two edicuabor in python course with this course or nice, you :   \" \"the course was awesome. thank you on of the patione is an each we rille for the worly. and couple!  excellent course for anyone this course was anguran ensire manner of platinnten very clear and    on you collent what dificlute myself  of my fillin\n",
      "\n",
      "Epoch 00095: loss did not improve from 0.80327\n",
      "Epoch 96/100\n",
      "2362/2362 [==============================] - 42s 18ms/step - loss: 0.7902 - accuracy: 0.7582 - val_loss: 1.1428 - val_accuracy: 0.6851\n",
      "\n",
      "----- Generating text after Epoch: 95\n",
      "----- diversity: 0.2\n",
      "----- Generating with seed: \"ts are designed on the bases of topic of the section.  i appreciate that the course as well as the t\"\n",
      "ts are designed on the bases of topic of the section.  i appreciate that the course as well as the teaching style programming language and the assignments are a beginner to learn python programming language. the course is a very has been i have a recommend this course for beginners like me to have a great course for the beginners which was a great course. i will did and i loved the course in programming languages. the course is a great course for the beginners who wants to learn python programme\n",
      "----- diversity: 0.5\n",
      "----- Generating with seed: \"ts are designed on the bases of topic of the section.  i appreciate that the course as well as the t\"\n",
      "ts are designed on the bases of topic of the section.  i appreciate that the course as well as the teaching straight of python. the professor is so explains gentably with a lot of teaching specialization to students.  \"i learnt a lot of experience who has completed example of the ensir welpful and application is explained and other languages but also anyone what i was a way that i can structure is an exciting and instructor charles severance would recommend it to anyone who wants to learn python\n",
      "----- diversity: 1.0\n",
      "----- Generating with seed: \"ts are designed on the bases of topic of the section.  i appreciate that the course as well as the t\"\n",
      "ts are designed on the bases of topic of the section.  i appreciate that the course as well as the teacher for this course, it specially lecturee and how your how to thing that it deeal  and the method of his knowledge.  i have some ruach wather for this course. he is an excellent lecturer provided course. when has a were don't know and the instructor much makes it even of this course wisher finally have done in the exercises one of this class is best for the world all the course.  \"dr. chuck wa\n",
      "----- diversity: 1.2\n",
      "----- Generating with seed: \"ts are designed on the bases of topic of the section.  i appreciate that the course as well as the t\"\n",
      "ts are designed on the bases of topic of the section.  i appreciate that the course as well as the teaching slefrannting! it personally felt i wantuider it. the without much but also great worts goes a good\"\", this is a non-lecture language.thanking!\" i love this course provided very well and i think it has make the conest like at learn'wly peopec wheth you use, have been me. seched me not me have alshead i would gind it videll are to understand all the never basic  dr. quined of this course i a\n",
      "\n",
      "Epoch 00096: loss improved from 0.80327 to 0.80309, saving model to /content/gdrive/My Drive/Capstone/Data/\n",
      "Epoch 97/100\n",
      "2362/2362 [==============================] - 42s 18ms/step - loss: 0.7914 - accuracy: 0.7579 - val_loss: 1.1404 - val_accuracy: 0.6867\n",
      "\n",
      "----- Generating text after Epoch: 96\n",
      "----- diversity: 0.2\n",
      "----- Generating with seed: \"professor made the subject seem simple and also made me think about how where to put this knowledge \"\n",
      "professor made the subject seem simple and also made me think about how where to put this knowledge in computer science and i found the videos and concepts are very interesting and programming for everybody who has a lot of time to the next courses that i can get into studying interest in programming for me to understand all the concepts are previous experience for me to understand all the material is very good at all the concepts to the next courses the basics of python programming and the way \n",
      "----- diversity: 0.5\n",
      "----- Generating with seed: \"professor made the subject seem simple and also made me think about how where to put this knowledge \"\n",
      "professor made the subject seem simple and also made me think about how where to put this knowledge of the lectures are also class professor severance is a great possibly of python and the suler startally in teaching steppbet all the way he teaches and the teacher is very good and great and the assignments are presentation and programming and the course is very helpful.  \" \"i have done any comparitual provided course and programming language, so well. but i recommend this course for anyone who i\n",
      "----- diversity: 1.0\n",
      "----- Generating with seed: \"professor made the subject seem simple and also made me think about how where to put this knowledge \"\n",
      "professor made the subject seem simple and also made me think about how where to put this knowledge python clear and the instructor incouplyted graduable. \"this course is sheed level.   this course is a rogres and assignments are jove for a beginner! i'm a little place.\" \"instructor had zero helpful. 'his intervitional as i found this instructor, and the solewher! i'm really explained it, professor charles is not know any high, manner and cloviare. even with fun and just studying the course.\" \" \n",
      "----- diversity: 1.2\n",
      "----- Generating with seed: \"professor made the subject seem simple and also made me think about how where to put this knowledge \"\n",
      "professor made the subject seem simple and also made me think about how where to put this knowledge in from booungy who want.\" even beginnem to learn. and an is for everyone almost : \" programming what it burefu's fiend. the time. lovely incrolo, insouting. all people to enjoy that as theor feetien you to peopled elswers and the lectures.\" \"very was very good addivers and gave or gatsten, stired of teaching is very deliver to understand bots from showero. have.e ouh operatisicn programming gets \n",
      "\n",
      "Epoch 00097: loss did not improve from 0.80309\n",
      "Epoch 98/100\n",
      "2362/2362 [==============================] - 42s 18ms/step - loss: 0.7918 - accuracy: 0.7586 - val_loss: 1.1465 - val_accuracy: 0.6861\n",
      "\n",
      "----- Generating text after Epoch: 97\n",
      "----- diversity: 0.2\n",
      "----- Generating with seed: \"n courses by prof. severance. great teacher \"this course help me to build my python knowledge. it is\"\n",
      "n courses by prof. severance. great teacher \"this course help me to build my python knowledge. it is a great course for those who are not a beginner                                                                                                                                                                                                                                                                                                                                                                \n",
      "----- diversity: 0.5\n",
      "----- Generating with seed: \"n courses by prof. severance. great teacher \"this course help me to build my python knowledge. it is\"\n",
      "n courses by prof. severance. great teacher \"this course help me to build my python knowledge. it is a great experience learners with no prior knowledge of python and interesting. the material is well taught course. \"the course is a very good course for beginners. i am liked the way the instructor in eney me to complete the course that course and i think the course is a buing to the professor charles is a great course for learning the programming language. and the assignments are easy and the vi\n",
      "----- diversity: 1.0\n",
      "----- Generating with seed: \"n courses by prof. severance. great teacher \"this course help me to build my python knowledge. it is\"\n",
      "n courses by prof. severance. great teacher \"this course help me to build my python knowledge. it is wonld down the course that just first times, after the profrsary without any diderition for you a hatproked. you can also like the teacher knowledge, good other course.  the suggestation is very becharogration into programming knowlesge burentedividual content.i didn't wede to expert. .. this course is macked, course covers well. i can  only it see who are get gradual to enjoy that includiedted t\n",
      "----- diversity: 1.2\n",
      "----- Generating with seed: \"n courses by prof. severance. great teacher \"this course help me to build my python knowledge. it is\"\n",
      "n courses by prof. severance. great teacher \"this course help me to build my python knowledge. it is a dosp. this course is also even if you have not to broustage and liked to learn and watch my cap leading. and how for dr.ch. quariful excepmentee, my cracted to code back it programming in syleares like completing the course is rooking if you.d, us. interesting and programming way.  \" \"a great intervolus of the information about python.  \" i ar a he sast compute.this is only absolutely learned t\n",
      "\n",
      "Epoch 00098: loss improved from 0.80309 to 0.80290, saving model to /content/gdrive/My Drive/Capstone/Data/\n",
      "Epoch 99/100\n",
      "2362/2362 [==============================] - 43s 18ms/step - loss: 0.7913 - accuracy: 0.7577 - val_loss: 1.1444 - val_accuracy: 0.6865\n",
      "\n",
      "----- Generating text after Epoch: 98\n",
      "----- diversity: 0.2\n",
      "----- Generating with seed: \"concepts behind programming.  thank you so much.  \" \"it is good to learn different languages and we \"\n",
      "concepts behind programming.  thank you so much.  \" \"it is good to learn different languages and we can and the professors are also for beginners and the professor is very good and easy to learn python from assignments are very good and the assignments are very good and easy to understand and the professor charles severance is an interesting and programming experience and the assignments are a great teacher is very good at its introductory course for all the material is a great course for those \n",
      "----- diversity: 0.5\n",
      "----- Generating with seed: \"concepts behind programming.  thank you so much.  \" \"it is good to learn different languages and we \"\n",
      "concepts behind programming.  thank you so much.  \" \"it is good to learn different languages and we and explained and i think this was a great course for those who can genera loops. and the ars well as the reming the concepts easy to follow and i loved the way of the end of experience in programming that everyone who wants to learn python.\" \"i just wannon programming experience. i have absolutely new to programming with python and the subject was not focuse and he take me to students in the cour\n",
      "----- diversity: 1.0\n",
      "----- Generating with seed: \"concepts behind programming.  thank you so much.  \" \"it is good to learn different languages and we \"\n",
      "concepts behind programming.  thank you so much.  \" \"it is good to learn different languages and we ax my few-respacidicall skill for all the pace easily good of the course. totally up.mooult and quite on great his very nualinged of print knowledge about the teacher, it's really a great vory in simpliviesty to python interally enabbouttr first course for python. \" losent the again for people who wants to get a provise programming course for those who all the way he really i am a because i learne\n",
      "----- diversity: 1.2\n",
      "----- Generating with seed: \"concepts behind programming.  thank you so much.  \" \"it is good to learn different languages and we \"\n",
      "concepts behind programming.  thank you so much.  \" \"it is good to learn different languages and we hash gatally for every little videos age, buy tough fice, thatmes frest tesleation and say platted and even someoner stay beorned interntial\" charles taughus. having nevertsely kead. charles is the instructucents. i havrended to primply my background introduction to whatewath gained through this course i think the knowledge of a sayt-- make a reveaiss, for buclple for the end. \"\" examples a good i\n",
      "\n",
      "Epoch 00099: loss improved from 0.80290 to 0.80182, saving model to /content/gdrive/My Drive/Capstone/Data/\n",
      "Epoch 100/100\n",
      "2362/2362 [==============================] - 41s 17ms/step - loss: 0.7938 - accuracy: 0.7578 - val_loss: 1.1445 - val_accuracy: 0.6867\n",
      "\n",
      "----- Generating text after Epoch: 99\n",
      "----- diversity: 0.2\n",
      "----- Generating with seed: \"s. professor charles severance has a great sense of humour  it looks like you are talking to him in \"\n",
      "s. professor charles severance has a great sense of humour  it looks like you are talking to him in teaching makes the course is very interesting and interesting and programming experience and i would recommend it to anyone who wants to learn python and interesting. i have no prior knowledge of python and interesting and i would like to start learning python and it was a bit of course i have taken and for you and have some thought programming and i would simment the lectures are great and concep\n",
      "----- diversity: 0.5\n",
      "----- Generating with seed: \"s. professor charles severance has a great sense of humour  it looks like you are talking to him in \"\n",
      "s. professor charles severance has a great sense of humour  it looks like you are talking to him in simple my online course i have ever makes several skills and developing with the course in the course in the course and i will have looping a not just deal to provide me a quite in teaching is very interesting. i have some experience with python                                                                                                                                                           \n",
      "----- diversity: 1.0\n",
      "----- Generating with seed: \"s. professor charles severance has a great sense of humour  it looks like you are talking to him in \"\n",
      "s. professor charles severance has a great sense of humour  it looks like you are talking to him in how to get source of understanding to basic lewslogy background. highly recommend to ackinichalal toom. this course starting the pace.. if you're are really few where now i have comely easy to learn. and the lectures great interved of hind me want the lessons are concourse prajoriss. andwases of the way the explanation of ne-do that to simplication and helped me and an extremely can bese...thanks \n",
      "----- diversity: 1.2\n",
      "----- Generating with seed: \"s. professor charles severance has a great sense of humour  it looks like you are talking to him in \"\n",
      "s. professor charles severance has a great sense of humour  it looks like you are talking to him in university of minune. evening and metting you get!!  wonded the beginh youxtare of python python to my hat and will is difcication and programming. charles is perfect realy areador free add computer probcelt things that gives even word the very get and uncimarials. anching and you when o  clear and peeceferable. highly engagaiq, so, this class is one is sooking inpromatily a lot on the basics of p\n",
      "\n",
      "Epoch 00100: loss did not improve from 0.80182\n"
     ]
    }
   ],
   "source": [
    "history = model_ckpt.fit(X_train, y_train, batch_size=128, epochs=100, validation_data =(X_test, y_test),callbacks=callbacks)"
   ]
  },
  {
   "cell_type": "markdown",
   "metadata": {
    "id": "7ASEbkDrYBcb"
   },
   "source": [
    "### 10. evaluating performance of model"
   ]
  },
  {
   "cell_type": "code",
   "execution_count": 27,
   "metadata": {
    "colab": {
     "base_uri": "https://localhost:8080/"
    },
    "id": "n2LEUqFvdEh8",
    "outputId": "308e3f4c-4729-4ed2-8f30-e387698305c6"
   },
   "outputs": [
    {
     "name": "stdout",
     "output_type": "stream",
     "text": [
      "dict_keys(['loss', 'accuracy', 'val_loss', 'val_accuracy', 'lr'])\n"
     ]
    }
   ],
   "source": [
    "print(history.history.keys())"
   ]
  },
  {
   "cell_type": "code",
   "execution_count": 28,
   "metadata": {
    "colab": {
     "base_uri": "https://localhost:8080/"
    },
    "id": "lMLs-7JyYBcb",
    "outputId": "46d3606a-f3f9-435e-cf1b-9079031e72a0"
   },
   "outputs": [
    {
     "name": "stdout",
     "output_type": "stream",
     "text": [
      "9445/9445 - 35s - loss: 0.7743 - accuracy: 0.7637\n"
     ]
    }
   ],
   "source": [
    "train_Loss, train_Accuracy = model_ckpt.evaluate(X_train, y_train, verbose=2)"
   ]
  },
  {
   "cell_type": "code",
   "execution_count": 29,
   "metadata": {
    "colab": {
     "base_uri": "https://localhost:8080/",
     "height": 419
    },
    "id": "3Q2fmTNBYBcc",
    "outputId": "f04c8f56-ceb3-4525-b024-ed6616c19191"
   },
   "outputs": [
    {
     "data": {
      "image/png": "[encoded data removed]",
      "text/plain": [
       "<Figure size 864x432 with 1 Axes>"
      ]
     },
     "metadata": {
      "needs_background": "light",
      "tags": []
     },
     "output_type": "display_data"
    }
   ],
   "source": [
    "plt.figure(figsize=(12,6))\n",
    "plt.rcParams['font.size'] = '16'\n",
    "plt.plot(history.history['accuracy'], label='Accuracy', lw=2)\n",
    "plt.xlabel('Count of Epoch')\n",
    "plt.ylabel('Accuracy')\n",
    "plt.title('Accuracy over count of Epochs', fontsize=20)\n",
    "plt.legend();"
   ]
  },
  {
   "cell_type": "code",
   "execution_count": 30,
   "metadata": {
    "colab": {
     "base_uri": "https://localhost:8080/",
     "height": 436
    },
    "id": "ZftL8Z9oYBcc",
    "outputId": "b867ed36-09fd-4430-fb10-4eaf6215a859"
   },
   "outputs": [
    {
     "name": "stderr",
     "output_type": "stream",
     "text": [
      "No handles with labels found to put in legend.\n"
     ]
    },
    {
     "data": {
      "image/png": "[encoded data removed]",
      "text/plain": [
       "<Figure size 864x432 with 1 Axes>"
      ]
     },
     "metadata": {
      "needs_background": "light",
      "tags": []
     },
     "output_type": "display_data"
    }
   ],
   "source": [
    "plt.figure(figsize=(12,6))\n",
    "plt.plot(history.history['loss'], lw=2, color='red')\n",
    "plt.xlabel('Count of Epoch')\n",
    "plt.ylabel('loss')\n",
    "plt.title('loss over count of Epochs', fontsize=20)\n",
    "plt.legend();"
   ]
  },
  {
   "cell_type": "code",
   "execution_count": 31,
   "metadata": {
    "colab": {
     "base_uri": "https://localhost:8080/"
    },
    "id": "g4fwjuEOYBcc",
    "outputId": "f000b21b-d353-4aea-c6e1-fef50e57bcf4"
   },
   "outputs": [
    {
     "name": "stdout",
     "output_type": "stream",
     "text": [
      "3149/3149 - 12s - loss: 1.1445 - accuracy: 0.6867\n"
     ]
    }
   ],
   "source": [
    "test_Loss, test_Accuracy = model_ckpt.evaluate(X_test, y_test, verbose=2)"
   ]
  },
  {
   "cell_type": "code",
   "execution_count": 32,
   "metadata": {
    "colab": {
     "base_uri": "https://localhost:8080/",
     "height": 419
    },
    "id": "WRADY3MGYBcc",
    "outputId": "5a6293f6-ef79-4f3e-a6dc-841ff6da4a9b"
   },
   "outputs": [
    {
     "data": {
      "image/png": "[encoded data removed]",
      "text/plain": [
       "<Figure size 864x432 with 1 Axes>"
      ]
     },
     "metadata": {
      "needs_background": "light",
      "tags": []
     },
     "output_type": "display_data"
    }
   ],
   "source": [
    "plt.figure(figsize=(12,6))\n",
    "plt.plot(history.history['val_accuracy'], label='Accuracy', lw=2, color='skyblue')\n",
    "plt.xlabel('Count of Epoch')\n",
    "plt.ylabel('Validation Accuracy')\n",
    "plt.title('Validation Accuracy over count of Epochs', fontsize=20)\n",
    "plt.legend();"
   ]
  },
  {
   "cell_type": "code",
   "execution_count": 33,
   "metadata": {
    "colab": {
     "base_uri": "https://localhost:8080/",
     "height": 419
    },
    "id": "AAFBrBNSYBcc",
    "outputId": "643d9ea4-98cf-493d-c1e3-6e733a7d1a42"
   },
   "outputs": [
    {
     "data": {
      "image/png": "[encoded data removed]",
      "text/plain": [
       "<Figure size 864x432 with 1 Axes>"
      ]
     },
     "metadata": {
      "needs_background": "light",
      "tags": []
     },
     "output_type": "display_data"
    }
   ],
   "source": [
    "plt.figure(figsize=(12,6))\n",
    "plt.plot(history.history['val_loss'], lw=2, label='Val_loss', color='orange')\n",
    "plt.xlabel('Count of Epoch')\n",
    "plt.ylabel('Validation loss')\n",
    "plt.title('Validation loss over count of Epochs', fontsize=20)\n",
    "plt.legend();"
   ]
  },
  {
   "cell_type": "code",
   "execution_count": 34,
   "metadata": {
    "colab": {
     "base_uri": "https://localhost:8080/",
     "height": 419
    },
    "id": "i-hUIZuEYBcc",
    "outputId": "d067ecbc-99f5-4224-df8e-1a096305cabb"
   },
   "outputs": [
    {
     "data": {
      "image/png": "[encoded data removed]",
      "text/plain": [
       "<Figure size 864x432 with 1 Axes>"
      ]
     },
     "metadata": {
      "needs_background": "light",
      "tags": []
     },
     "output_type": "display_data"
    }
   ],
   "source": [
    "### Combine both plots\n",
    "\n",
    "plt.figure(figsize=(12,6))\n",
    "plt.rcParams['font.size'] = '16'\n",
    "plt.plot(history.history['accuracy'], label='Accuracy', lw=2, color='blue')\n",
    "plt.plot(history.history['val_accuracy'], label='val Accuracy', lw=2, color = 'skyblue')\n",
    "plt.xlabel('Count of Epoch')\n",
    "plt.ylabel('Accuracy')\n",
    "plt.title('Accuracy over count of Epochs', fontsize=20)\n",
    "plt.legend();"
   ]
  },
  {
   "cell_type": "code",
   "execution_count": 35,
   "metadata": {
    "colab": {
     "base_uri": "https://localhost:8080/",
     "height": 436
    },
    "id": "YTIWEy9DYBcd",
    "outputId": "679c86cd-29fc-4842-f639-8c3c16f91357"
   },
   "outputs": [
    {
     "name": "stderr",
     "output_type": "stream",
     "text": [
      "No handles with labels found to put in legend.\n"
     ]
    },
    {
     "data": {
      "image/png": "[encoded data removed]",
      "text/plain": [
       "<Figure size 864x432 with 1 Axes>"
      ]
     },
     "metadata": {
      "needs_background": "light",
      "tags": []
     },
     "output_type": "display_data"
    }
   ],
   "source": [
    "plt.figure(figsize=(12,6))\n",
    "plt.plot(history.history['loss'], lw=2, color='red')\n",
    "plt.plot(history.history['val_loss'], lw=2, color='orange')\n",
    "plt.xlabel('Count of Epoch')\n",
    "plt.ylabel('loss')\n",
    "plt.title('loss over count of Epochs', fontsize=20)\n",
    "plt.legend();"
   ]
  },
  {
   "cell_type": "markdown",
   "metadata": {
    "id": "-cnacZpKYBcd"
   },
   "source": [
    "### 11. Loading my pre-trained weights to resume training"
   ]
  },
  {
   "cell_type": "code",
   "execution_count": null,
   "metadata": {},
   "outputs": [],
   "source": [
    "# Instantiate my new model\n",
    "model_ckpt2 = create_model()\n",
    "\n",
    "# load the saved weights into my instantiated model\n",
    "#\n",
    "model_ckpt2.load_weights(filepath)"
   ]
  },
  {
   "cell_type": "code",
   "execution_count": null,
   "metadata": {
    "id": "G6eOy0TgYBcd"
   },
   "outputs": [],
   "source": [
    "# resume the training\n",
    "\n",
    "model_ckpt2.fit(X_train, y_train, batch_size=128, epochs=5, validation_data =(X_test, y_test),callbacks=callbacks))"
   ]
  },
  {
   "cell_type": "code",
   "execution_count": null,
   "metadata": {
    "id": "uJ9KsWYhYBcd"
   },
   "outputs": [],
   "source": [
    "train_Loss, train_Accuracy = model_ckpt2.evaluate(X_train, y_train, verbose=2)"
   ]
  },
  {
   "cell_type": "code",
   "execution_count": null,
   "metadata": {
    "id": "HOh20i6eYBcd"
   },
   "outputs": [],
   "source": [
    "test_Loss, test_Accuracy = model_ckpt2.evaluate(X_test, y_test, verbose=2)"
   ]
  },
  {
   "cell_type": "markdown",
   "metadata": {
    "id": "3zkv9Zm6YBcd"
   },
   "source": [
    "### 12.Try generating text using help from keras.io"
   ]
  },
  {
   "cell_type": "code",
   "execution_count": null,
   "metadata": {
    "id": "a0ACLjxUYBce"
   },
   "outputs": [],
   "source": [
    "def sample(preds, temperature=1.0):\n",
    "    # helper function to sample an index from a probability array\n",
    "    preds = np.asarray(preds).astype('float64')\n",
    "    preds = np.log(preds) / temperature\n",
    "    exp_preds = np.exp(preds)\n",
    "    preds = exp_preds / np.sum(exp_preds)\n",
    "    probas = np.random.multinomial(1, preds, 1)\n",
    "    return np.argmax(probas)"
   ]
  },
  {
   "cell_type": "code",
   "execution_count": null,
   "metadata": {
    "id": "S7Oi_EvUYBce"
   },
   "outputs": [],
   "source": [
    "\n",
    "def on_epoch_end(epoch, logs):\n",
    "    # Function invoked at end of each epoch. Prints generated text.\n",
    "    print()\n",
    "    print('----- Generating text after Epoch: %d' % epoch)\n",
    "\n",
    "    start_index = random.randint(0, len(text) - maxlen - 1)\n",
    "    for diversity in [0.2, 0.5, 1.0, 1.2]:\n",
    "        print('----- diversity:', diversity)\n",
    "\n",
    "        generated = ''\n",
    "        sentence = text[start_index: start_index + maxlen]\n",
    "        generated += sentence\n",
    "        print('----- Generating with seed: \"' + sentence + '\"')\n",
    "        sys.stdout.write(generated)\n",
    "\n",
    "        for i in range(400):\n",
    "            x_pred = np.zeros((1, maxlen, len(chars)))\n",
    "            for t, char in enumerate(sentence):\n",
    "                x_pred[0, t, char_indices[char]] = 1.\n",
    "\n",
    "            preds = model.predict(x_pred, verbose=0)[0]\n",
    "            next_index = sample(preds, diversity)\n",
    "            next_char = indices_char[next_index]\n",
    "\n",
    "            generated += next_char\n",
    "            sentence = sentence[1:] + next_char\n",
    "\n",
    "            sys.stdout.write(next_char)\n",
    "            sys.stdout.flush()\n",
    "        print()\n",
    "print_callback = LambdaCallback(on_epoch_end=on_epoch_end)"
   ]
  },
  {
   "cell_type": "code",
   "execution_count": 36,
   "metadata": {
    "id": "AbFdWBnRYBce"
   },
   "outputs": [],
   "source": [
    "def generate_text(length, diversity):\n",
    "    # Get random starting text\n",
    "    start_index = random.randint(0, len(text) - maxlen - 1)\n",
    "    generated = ''\n",
    "    sentence = text[start_index: start_index + maxlen]\n",
    "    generated += sentence\n",
    "    for i in range(length):\n",
    "            x_pred = np.zeros((1, maxlen, len(chars)))\n",
    "            for t, char in enumerate(sentence):\n",
    "                x_pred[0, t, char_indices[char]] = 1.\n",
    "\n",
    "            preds = model_ckpt.predict(x_pred, verbose=0)[0]\n",
    "            next_index = sample(preds, diversity)\n",
    "            next_char = indices_char[next_index]\n",
    "\n",
    "            generated += next_char\n",
    "            sentence = sentence[1:] + next_char\n",
    "    return generated"
   ]
  },
  {
   "cell_type": "code",
   "execution_count": 37,
   "metadata": {
    "colab": {
     "base_uri": "https://localhost:8080/"
    },
    "id": "nLSE9rTGYBcf",
    "outputId": "185b3766-6c4d-4fbf-e96b-fae87e50ec6f"
   },
   "outputs": [
    {
     "name": "stdout",
     "output_type": "stream",
     "text": [
      "urse in this series! \"excellent introductory course to programming using python. basic programming course for beginners in python and i would simul explain interest in programming and i was able to complete the course i would simult to the basic in such a wort in a fantastic course. i am very good course for beginners. the course is a great course.  i have not the courses are very engaging and i would like to start learning python and i was able to complete the course in the course is very easy to understand and the videos in the course in the course in the course is very interesting. it is ve\n"
     ]
    }
   ],
   "source": [
    "print(generate_text(500, 0.2))"
   ]
  },
  {
   "cell_type": "code",
   "execution_count": 38,
   "metadata": {
    "colab": {
     "base_uri": "https://localhost:8080/"
    },
    "id": "wZkuPj6Kj5FH",
    "outputId": "87ddad50-7f7e-4dda-a16b-7989b7f6a305"
   },
   "outputs": [
    {
     "name": "stdout",
     "output_type": "stream",
     "text": [
      " however with a bit of persistence by reviewing previous weeks lectures and assignments i finally made me to understand all the material is very easy to understand. the videos were aderstay to learn more. i have taken any provides for complete enthusiastic. this course has made me a lot of experience with any one who make the concepts you problems and i have taken and interesting. \" \"a very much is brain deviewing into courses online course. i have learned a lot and more online course for all tho nexprocuss. i will definitely recommend this course to anyone who wants to learn python with the p\n"
     ]
    }
   ],
   "source": [
    "print(generate_text(500, 0.5))"
   ]
  },
  {
   "cell_type": "code",
   "execution_count": 39,
   "metadata": {
    "colab": {
     "base_uri": "https://localhost:8080/"
    },
    "id": "oOnWrHgnim_V",
    "outputId": "3b436536-62ca-465e-b188-e0bb99aa7c7e"
   },
   "outputs": [
    {
     "name": "stdout",
     "output_type": "stream",
     "text": [
      "r having this very helpful course to build python base of the learners strong. \" \"thus far, best prof. soomenote coding background. it is a real discussion just pasides sir show viriof.\" \"  thank you!\" \"coursese! \" \"i am thanks to the amazing, this course is a very halfing to texp.\"weeks which he hard my clar and programming with some tack of mining. highly rechmek that is dr. chuck makes me interaction with very always wareng and if you already rut, paron, he's your coding experience and very blew them, was very good beginners. \"i apprecommen to the lectures would and the srece teaching, alwa\n"
     ]
    }
   ],
   "source": [
    "print(generate_text(500, 1))"
   ]
  },
  {
   "cell_type": "code",
   "execution_count": 40,
   "metadata": {
    "colab": {
     "base_uri": "https://localhost:8080/"
    },
    "id": "6GhtUDQYqtqx",
    "outputId": "3f1c80d9-4231-4d28-e2ef-7972450aa05a"
   },
   "outputs": [
    {
     "name": "stdout",
     "output_type": "stream",
     "text": [
      "s learning process a lot. also, i would like to mentioned that charles severance has been teaching to the courses and also friendly and professor charles is a great course. i am very experience working and provided and complete challenge better if you already take any programming language. the course is a great course for those who are complete classes in the course is very helpful. i have tried my first course i have been interested in the course. the course is a great course.  i have not the basics of python programming language. the course is a great course.  i am very good and helpful in examples and concepts in a some coding and i have ever ded deffe sorites and coursera and university of michigan for my clarity and i was able to complete the course in the course is very interesting and interesting and presentation and the assignments are also very interesting and programming and i would simul explaining through the course. the course is a great course. i am very good and explains everything in a weeks as well as the course is very interesting and programming in python and i hav\n"
     ]
    }
   ],
   "source": [
    "print(generate_text(1000, 0.2))"
   ]
  },
  {
   "cell_type": "code",
   "execution_count": 41,
   "metadata": {
    "colab": {
     "base_uri": "https://localhost:8080/"
    },
    "id": "WrkOY8HjkSEh",
    "outputId": "b517bb34-beca-4b5b-95ef-5473e0a54526"
   },
   "outputs": [
    {
     "name": "stdout",
     "output_type": "stream",
     "text": [
      "he assignments get progressively harder and tricker. very much recommend for anyone learning to code in programming. the course is an amazing introductory course in the course. i am very thoroughly explained me and makes you the basic of python and programming and set the teaching style programming language.  the course is very interesting and how to take a lot of experience. i am very excited to learn python and interesting and i would simul explaining through the course, and the course is very interesting. i have taken a lot of coding and i loved the course i would simult to work and study for a beginner who want to learn python. \" \"i am a complete beginner in python and i want to the courses on coursera. i am a mance to use of python and work to explain a lot of coding and i have been much and explains the lectures were interesting. it is easy to understand. the assignments are very helpful for a big presentation for me. it is a very good course. i am very experienced to programming in general. this is a very good course for the beginners learning and explaining the professor and \n"
     ]
    }
   ],
   "source": [
    "print(generate_text(1000, 0.5))"
   ]
  },
  {
   "cell_type": "code",
   "execution_count": 42,
   "metadata": {
    "colab": {
     "base_uri": "https://localhost:8080/"
    },
    "id": "cENfLeUvinGa",
    "outputId": "99a41e32-709f-4549-81a7-2cbfc092f27a"
   },
   "outputs": [
    {
     "name": "stdout",
     "output_type": "stream",
     "text": [
      "ramming is essential and the course does a good job at making you think without rote memorization. the lectures are easy to know where very i want to learn why haveng the courses.\" \"this was an impuet something best structured and it's a very basics of python language it helps about coursera can gate the python from easy to wry impressive where looking to set it now before this course and learned a matter. highly recommend thy who's interested in profcesion of this course, with coding and it. user editate surver team in a coursera. if you are for defore hemos language. i would simult to sattce. suitable for clear ann \"any sessed i unceon more that concepts the best python part of basic lang and wondere are never easy to fimmit them to difficulty so airs and it's beginnery about python.\" \"glef on codver, i want to say more about python and for coursera using up the course with entaging the cobick that have no prior knowledge to code with a lot. as it is awesome course for prof. charles is a programming blisre about what previre of studying behedializaling. most ed course easy to learn\n"
     ]
    }
   ],
   "source": [
    "print(generate_text(1000, 1))"
   ]
  },
  {
   "cell_type": "code",
   "execution_count": 43,
   "metadata": {
    "colab": {
     "base_uri": "https://localhost:8080/"
    },
    "id": "pcn4jJTakyIC",
    "outputId": "8fc7b975-353f-4db9-d610-32bbf77ec0b2"
   },
   "outputs": [
    {
     "name": "stdout",
     "output_type": "stream",
     "text": [
      " chuk delivers the lecture. i am new to python and could easily do all the assignments here just because his provision with some prompt coursera. i have some of previoutly succcelise preving code, mode we saven it i very understanding. chuck excellent a referan and also work to do it i did apal a lott of class!\" \"the concepts tasks in python.\" \"sometimes to learn about the codes. i work accors at easy but at very easy who accossmelove the key world-on to some.   thus is the best job them that have from the vadure and programming skills, but i think it was overtival my previous knowledge. the course is a rewared course.i knewn hugh concepts.i explains everything question from enowleddent. charles asevamy need to keep how to the flow  sher skilfflubtile on courses, i am very thanks you very much from complis the assignments are plaonaned .\" dr. chuck is really completely dr. chuck. i am a ferpotime in understandable. this course was rime. and the teacher has heht's nacks. \"  the videos cless is soothed if you already amazing towart on examples are techniques. if to learn programming, but also, the and works made me requertisuabse. but after of course. i'm easy to understand and motivate anabborially request a your starting with the basics of python but after the classefolmart course i woukd not to compryerd.i love teaching so make and simply too. it is an example: some cann't it interesting jobal class computer larguaboy. it's really a great course, i have learned the specialization is brile into course and the video and i think of other coding expertent. lecture way too shows subility of intro programming and programming background fundamentals without anything about the   it actual courses on your have some resetted. as a help me a lot. thank you so. chuck ,\"prace speed manner or none starts and easy to understand atit fall of the project and a friend making into courses. i ever yeadled the vadion of the desugres. this course out to succ programming.you can agh for me charecs on to imploge into assignments,  i found this course. the most want to learn python.thank\n"
     ]
    }
   ],
   "source": [
    "print(generate_text(2000, 1))"
   ]
  },
  {
   "cell_type": "markdown",
   "metadata": {},
   "source": [
    "### 13. Try correct spelling of generating text"
   ]
  },
  {
   "cell_type": "code",
   "execution_count": 44,
   "metadata": {
    "id": "dYZXgRXArqFi"
   },
   "outputs": [],
   "source": [
    "generated1 = generate_text(1000, 1)"
   ]
  },
  {
   "cell_type": "code",
   "execution_count": 45,
   "metadata": {
    "id": "49km-LShrQ2v"
   },
   "outputs": [],
   "source": [
    "from textblob import TextBlob"
   ]
  },
  {
   "cell_type": "code",
   "execution_count": 46,
   "metadata": {
    "colab": {
     "base_uri": "https://localhost:8080/"
    },
    "id": "Tg9vrivVrlN9",
    "outputId": "058a6616-f331-41f0-9c9a-f72d95142251"
   },
   "outputs": [
    {
     "data": {
      "text/plain": [
       "TextBlob(\"for beginners. all the basic concepts are taught in a simple manner so that anyone can understand. i am very never boris for for the offer ideal research the severing have previousking very -mopping. he might want to learn patron and quite verser i have ever been up the discusses. i have tried mentioned stuff is very engineer to be as well also clots to severance. up do doing the code from as recommended and door the codes weeks with except to the next fuililes  looking for explanations with dr.chuck, better course! \" \"i loved  \"\"provides good wiles the futility to programming and learning about the classes and provide  you ,dealing and you he advent programming behind this course. but the respected to progressive of programming. well challenging some job of many of overall for beginner! i really enjoy standing the platform, courses is taught newer making introduced on patron and some sate way this i only present sides.\" \"its backgrouglery stuffs. of the course as great part of his the real grade with and level dean dr. charles used. ho recommend to programming buck in the\")"
      ]
     },
     "execution_count": 46,
     "metadata": {
      "tags": []
     },
     "output_type": "execute_result"
    }
   ],
   "source": [
    "b = TextBlob(generated1)\n",
    "b.correct()"
   ]
  },
  {
   "cell_type": "code",
   "execution_count": 47,
   "metadata": {
    "colab": {
     "base_uri": "https://localhost:8080/"
    },
    "id": "YSPIoR8dlPam",
    "outputId": "f1be214c-a245-4f90-9e33-c40adf1a9958"
   },
   "outputs": [
    {
     "data": {
      "text/plain": [
       "TextBlob(\" concepts would automatically become crystal clear.\" \"this is a great course for learning the basis of specialise.that atatimus. this course is the course. after relative are a professional term. i under for beginners. the course is possibly concepts, it's a not word to continue learn patron.\" this out with about patron. the video are super helpful way and patron courses there for newness actually recommend for explanations and course. i could follow. i highly recommend this course to all of this course, i think it is helpful for a blew of the very basis of patron. however, for more about, you are complete and in your. i also learnt i did studying .i have a great teacher is soofication, this course is very make comfortable of patron to all paced with phrases to r comfort in  \"patron's awesome and interesting at a patron programming experience are adamant away at all and, was approving self, of continue of his pactubly. how way patron. if you are easy to understandation complex course for me to people who do the courses.\" \"i was quite easy to file has many efforts when and i have built comment russe.i really enjoyed. charles severance explain. i think changed of person this course.and the course is an excellent lent of the way the classes are some..  \" \"the course is very good journey go what the book course if you have any paces of programming.\" professor charles severance is overlying students for studionable with other france for beginners. the only interesting programming course. good, expression all.  -  jouxngue.\" \"i loved the video. really helped me and the explanations in such arrive of building can be some am. in every that i screrelly take or patron as i am a am stopping to start learning again.  \" \"allow    dr. charles severance to some though out.and i waited to simplicity and most more also and experience working. but i was actual recommend you to mattered. it is very good for this foundateing to fail, halpilable. very well was very helpful. explaining the classes but i didn't study of course course and remember with lecture limited by the way\")"
      ]
     },
     "execution_count": 47,
     "metadata": {
      "tags": []
     },
     "output_type": "execute_result"
    }
   ],
   "source": [
    "generated2 = generate_text(2000, 1)\n",
    "\n",
    "b2 = TextBlob(generated2)\n",
    "b2.correct()"
   ]
  },
  {
   "cell_type": "markdown",
   "metadata": {},
   "source": [
    "### 14. Conclusion"
   ]
  },
  {
   "cell_type": "code",
   "execution_count": 2,
   "metadata": {},
   "outputs": [
    {
     "ename": "ModuleNotFoundError",
     "evalue": "No module named 'ann_visualizer'",
     "output_type": "error",
     "traceback": [
      "\u001b[1;31m---------------------------------------------------------------------------\u001b[0m",
      "\u001b[1;31mModuleNotFoundError\u001b[0m                       Traceback (most recent call last)",
      "\u001b[1;32m<ipython-input-2-4dc9c547bfa8>\u001b[0m in \u001b[0;36m<module>\u001b[1;34m\u001b[0m\n\u001b[1;32m----> 1\u001b[1;33m \u001b[1;32mfrom\u001b[0m \u001b[0mann_visualizer\u001b[0m\u001b[1;33m.\u001b[0m\u001b[0mvisualize\u001b[0m \u001b[1;32mimport\u001b[0m \u001b[0mann_viz\u001b[0m\u001b[1;33m;\u001b[0m\u001b[1;33m\u001b[0m\u001b[1;33m\u001b[0m\u001b[0m\n\u001b[0m\u001b[0;32m      2\u001b[0m \u001b[1;33m\u001b[0m\u001b[0m\n\u001b[0;32m      3\u001b[0m \u001b[0mann_viz\u001b[0m\u001b[1;33m(\u001b[0m\u001b[0mmodel\u001b[0m\u001b[1;33m,\u001b[0m \u001b[0mtitle\u001b[0m\u001b[1;33m=\u001b[0m\u001b[1;34m\"My first neural network\"\u001b[0m\u001b[1;33m)\u001b[0m\u001b[1;33m\u001b[0m\u001b[1;33m\u001b[0m\u001b[0m\n",
      "\u001b[1;31mModuleNotFoundError\u001b[0m: No module named 'ann_visualizer'"
     ]
    }
   ],
   "source": [
    "from ann_visualizer.visualize import ann_viz;\n",
    "\n",
    "ann_viz(model, title=\"My first neural network\")"
   ]
  },
  {
   "cell_type": "markdown",
   "metadata": {},
   "source": [
    "Hello everyone,\n",
    "\n",
    "Here is the official Kera's answer to this question.\n",
    "https://keras.io/getting-started/faq/#why-is-the-training-loss-much-higher-than-the-testing-loss\n",
    "\n",
    "Even without dropout or batch normalization, the problem will persist. The reason for this is that when you use fit, at each batch of the training data the weights are updated. The loss value returned by the fit method is not the mean of the loss of the final model, but the mean of the loss of all slightly different models used on each batch.\n",
    "On the other hand, when you use evaluate, the same model is used on the whole dataset. And this model actually doesn't even appear in the loss of the fit method since even at the last batch of training, the loss computed is used to update the model's weights.\n",
    "\n",
    "To sum everything up, fit and evaluate have two completely different behavior, and comparing their output doesn't make any sense !"
   ]
  },
  {
   "cell_type": "code",
   "execution_count": null,
   "metadata": {},
   "outputs": [],
   "source": []
  }
 ],
 "metadata": {
  "accelerator": "GPU",
  "colab": {
   "collapsed_sections": [],
   "name": "Checkpoints-Part 4 - 100 epochs with punctuation.ipynb",
   "provenance": [],
   "toc_visible": true
  },
  "kernelspec": {
   "display_name": "Python 3",
   "language": "python",
   "name": "python3"
  },
  "language_info": {
   "codemirror_mode": {
    "name": "ipython",
    "version": 3
   },
   "file_extension": ".py",
   "mimetype": "text/x-python",
   "name": "python",
   "nbconvert_exporter": "python",
   "pygments_lexer": "ipython3",
   "version": "3.8.5"
  }
 },
 "nbformat": 4,
 "nbformat_minor": 1
}
